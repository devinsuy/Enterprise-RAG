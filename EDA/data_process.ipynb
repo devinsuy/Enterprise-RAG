{
 "cells": [
  {
   "cell_type": "code",
   "execution_count": 3,
   "id": "initial_id",
   "metadata": {
    "ExecuteTime": {
     "end_time": "2024-07-12T03:25:39.690389Z",
     "start_time": "2024-07-12T03:25:37.115476Z"
    },
    "tags": []
   },
   "outputs": [],
   "source": [
    "import pandas as pd\n",
    "import re\n",
    "import boto3\n",
    "\n",
    "### Local recipes.parquet file\n",
    "# recipes = pd.read_parquet('../../../Datasci210_Capstone/EDA-Food/Kaggle_Datasets/recipes.parquet')\n",
    "\n",
    "\n",
    "### S3 Bucket recipes.parquet file\n",
    "s3 = boto3.client('s3')\n",
    "bucket_name = 'recipes-rag'\n",
    "file_key = 'recipes.parquet'\n",
    "s3.download_file(bucket_name, file_key, f'../data/{file_key}')\n",
    "recipes = pd.read_parquet(f'../data/{file_key}')\n",
    "\n",
    "\n",
    "\n",
    "METADATA_FIELDS = ['Name',\n",
    "                   'RecipeCategory',\n",
    "                   'Description',\n",
    "                   'Keywords_string',\n",
    "                   'RecipeIngredientQuantities', \n",
    "                   'RecipeIngredientParts', \n",
    "                   'RecipeInstructions', \n",
    "                   'AggregatedRating', \n",
    "                   'ReviewCount']\n",
    "\n",
    "FEATURES_TO_COMBINE = ['Name', \n",
    "                       'RecipeCategory', \n",
    "                       'Description', \n",
    "                       'RecipeInstructions', \n",
    "                       'Keywords_string']\n"
   ]
  },
  {
   "cell_type": "code",
   "execution_count": 4,
   "id": "bb0e4a107a8b4f2c",
   "metadata": {
    "ExecuteTime": {
     "end_time": "2024-07-12T03:25:39.750496Z",
     "start_time": "2024-07-12T03:25:39.691316Z"
    },
    "tags": []
   },
   "outputs": [],
   "source": [
    "\n",
    "# Function to parse time strings\n",
    "def parse_time(time_str):\n",
    "    hours = 0\n",
    "    minutes = 0\n",
    "\n",
    "    if 'H' in time_str:\n",
    "        hours = int(re.search(r'(\\d+)H', time_str).group(1))\n",
    "    else:\n",
    "      hours = 0\n",
    "    if 'M' in time_str:\n",
    "        minutes = int(re.search(r'(\\d+)M', time_str).group(1))\n",
    "    else:\n",
    "      minutes = 0\n",
    "\n",
    "\n",
    "    return (hours * 60) + minutes\n",
    "\n",
    "\n",
    "cleaning_time = recipes[['CookTime', 'PrepTime', 'TotalTime']].fillna('0')\n"
   ]
  },
  {
   "cell_type": "code",
   "execution_count": 10,
   "id": "153f23f53b79cf45",
   "metadata": {
    "ExecuteTime": {
     "end_time": "2024-07-12T03:26:24.738002Z",
     "start_time": "2024-07-12T03:25:39.751068Z"
    },
    "tags": []
   },
   "outputs": [
    {
     "name": "stderr",
     "output_type": "stream",
     "text": [
      "/tmp/ipykernel_8926/2767941552.py:12: SettingWithCopyWarning: \n",
      "A value is trying to be set on a copy of a slice from a DataFrame.\n",
      "Try using .loc[row_indexer,col_indexer] = value instead\n",
      "\n",
      "See the caveats in the documentation: https://pandas.pydata.org/pandas-docs/stable/user_guide/indexing.html#returning-a-view-versus-a-copy\n",
      "  df[[f'{column}_Minutes']] = df[column].apply(lambda x: pd.Series(parse_time(x)))\n",
      "/tmp/ipykernel_8926/2767941552.py:12: SettingWithCopyWarning: \n",
      "A value is trying to be set on a copy of a slice from a DataFrame.\n",
      "Try using .loc[row_indexer,col_indexer] = value instead\n",
      "\n",
      "See the caveats in the documentation: https://pandas.pydata.org/pandas-docs/stable/user_guide/indexing.html#returning-a-view-versus-a-copy\n",
      "  df[[f'{column}_Minutes']] = df[column].apply(lambda x: pd.Series(parse_time(x)))\n",
      "/tmp/ipykernel_8926/2767941552.py:12: SettingWithCopyWarning: \n",
      "A value is trying to be set on a copy of a slice from a DataFrame.\n",
      "Try using .loc[row_indexer,col_indexer] = value instead\n",
      "\n",
      "See the caveats in the documentation: https://pandas.pydata.org/pandas-docs/stable/user_guide/indexing.html#returning-a-view-versus-a-copy\n",
      "  df[[f'{column}_Minutes']] = df[column].apply(lambda x: pd.Series(parse_time(x)))\n"
     ]
    },
    {
     "name": "stdout",
     "output_type": "stream",
     "text": [
      "part  1  complete\n"
     ]
    },
    {
     "name": "stderr",
     "output_type": "stream",
     "text": [
      "/tmp/ipykernel_8926/2767941552.py:12: SettingWithCopyWarning: \n",
      "A value is trying to be set on a copy of a slice from a DataFrame.\n",
      "Try using .loc[row_indexer,col_indexer] = value instead\n",
      "\n",
      "See the caveats in the documentation: https://pandas.pydata.org/pandas-docs/stable/user_guide/indexing.html#returning-a-view-versus-a-copy\n",
      "  df[[f'{column}_Minutes']] = df[column].apply(lambda x: pd.Series(parse_time(x)))\n",
      "/tmp/ipykernel_8926/2767941552.py:12: SettingWithCopyWarning: \n",
      "A value is trying to be set on a copy of a slice from a DataFrame.\n",
      "Try using .loc[row_indexer,col_indexer] = value instead\n",
      "\n",
      "See the caveats in the documentation: https://pandas.pydata.org/pandas-docs/stable/user_guide/indexing.html#returning-a-view-versus-a-copy\n",
      "  df[[f'{column}_Minutes']] = df[column].apply(lambda x: pd.Series(parse_time(x)))\n",
      "/tmp/ipykernel_8926/2767941552.py:12: SettingWithCopyWarning: \n",
      "A value is trying to be set on a copy of a slice from a DataFrame.\n",
      "Try using .loc[row_indexer,col_indexer] = value instead\n",
      "\n",
      "See the caveats in the documentation: https://pandas.pydata.org/pandas-docs/stable/user_guide/indexing.html#returning-a-view-versus-a-copy\n",
      "  df[[f'{column}_Minutes']] = df[column].apply(lambda x: pd.Series(parse_time(x)))\n"
     ]
    },
    {
     "name": "stdout",
     "output_type": "stream",
     "text": [
      "part  2  complete\n"
     ]
    },
    {
     "name": "stderr",
     "output_type": "stream",
     "text": [
      "/tmp/ipykernel_8926/2767941552.py:12: SettingWithCopyWarning: \n",
      "A value is trying to be set on a copy of a slice from a DataFrame.\n",
      "Try using .loc[row_indexer,col_indexer] = value instead\n",
      "\n",
      "See the caveats in the documentation: https://pandas.pydata.org/pandas-docs/stable/user_guide/indexing.html#returning-a-view-versus-a-copy\n",
      "  df[[f'{column}_Minutes']] = df[column].apply(lambda x: pd.Series(parse_time(x)))\n",
      "/tmp/ipykernel_8926/2767941552.py:12: SettingWithCopyWarning: \n",
      "A value is trying to be set on a copy of a slice from a DataFrame.\n",
      "Try using .loc[row_indexer,col_indexer] = value instead\n",
      "\n",
      "See the caveats in the documentation: https://pandas.pydata.org/pandas-docs/stable/user_guide/indexing.html#returning-a-view-versus-a-copy\n",
      "  df[[f'{column}_Minutes']] = df[column].apply(lambda x: pd.Series(parse_time(x)))\n",
      "/tmp/ipykernel_8926/2767941552.py:12: SettingWithCopyWarning: \n",
      "A value is trying to be set on a copy of a slice from a DataFrame.\n",
      "Try using .loc[row_indexer,col_indexer] = value instead\n",
      "\n",
      "See the caveats in the documentation: https://pandas.pydata.org/pandas-docs/stable/user_guide/indexing.html#returning-a-view-versus-a-copy\n",
      "  df[[f'{column}_Minutes']] = df[column].apply(lambda x: pd.Series(parse_time(x)))\n"
     ]
    },
    {
     "name": "stdout",
     "output_type": "stream",
     "text": [
      "part  3  complete\n"
     ]
    },
    {
     "name": "stderr",
     "output_type": "stream",
     "text": [
      "/tmp/ipykernel_8926/2767941552.py:12: SettingWithCopyWarning: \n",
      "A value is trying to be set on a copy of a slice from a DataFrame.\n",
      "Try using .loc[row_indexer,col_indexer] = value instead\n",
      "\n",
      "See the caveats in the documentation: https://pandas.pydata.org/pandas-docs/stable/user_guide/indexing.html#returning-a-view-versus-a-copy\n",
      "  df[[f'{column}_Minutes']] = df[column].apply(lambda x: pd.Series(parse_time(x)))\n",
      "/tmp/ipykernel_8926/2767941552.py:12: SettingWithCopyWarning: \n",
      "A value is trying to be set on a copy of a slice from a DataFrame.\n",
      "Try using .loc[row_indexer,col_indexer] = value instead\n",
      "\n",
      "See the caveats in the documentation: https://pandas.pydata.org/pandas-docs/stable/user_guide/indexing.html#returning-a-view-versus-a-copy\n",
      "  df[[f'{column}_Minutes']] = df[column].apply(lambda x: pd.Series(parse_time(x)))\n",
      "/tmp/ipykernel_8926/2767941552.py:12: SettingWithCopyWarning: \n",
      "A value is trying to be set on a copy of a slice from a DataFrame.\n",
      "Try using .loc[row_indexer,col_indexer] = value instead\n",
      "\n",
      "See the caveats in the documentation: https://pandas.pydata.org/pandas-docs/stable/user_guide/indexing.html#returning-a-view-versus-a-copy\n",
      "  df[[f'{column}_Minutes']] = df[column].apply(lambda x: pd.Series(parse_time(x)))\n"
     ]
    },
    {
     "name": "stdout",
     "output_type": "stream",
     "text": [
      "part  4  complete\n"
     ]
    },
    {
     "name": "stderr",
     "output_type": "stream",
     "text": [
      "/tmp/ipykernel_8926/2767941552.py:12: SettingWithCopyWarning: \n",
      "A value is trying to be set on a copy of a slice from a DataFrame.\n",
      "Try using .loc[row_indexer,col_indexer] = value instead\n",
      "\n",
      "See the caveats in the documentation: https://pandas.pydata.org/pandas-docs/stable/user_guide/indexing.html#returning-a-view-versus-a-copy\n",
      "  df[[f'{column}_Minutes']] = df[column].apply(lambda x: pd.Series(parse_time(x)))\n",
      "/tmp/ipykernel_8926/2767941552.py:12: SettingWithCopyWarning: \n",
      "A value is trying to be set on a copy of a slice from a DataFrame.\n",
      "Try using .loc[row_indexer,col_indexer] = value instead\n",
      "\n",
      "See the caveats in the documentation: https://pandas.pydata.org/pandas-docs/stable/user_guide/indexing.html#returning-a-view-versus-a-copy\n",
      "  df[[f'{column}_Minutes']] = df[column].apply(lambda x: pd.Series(parse_time(x)))\n",
      "/tmp/ipykernel_8926/2767941552.py:12: SettingWithCopyWarning: \n",
      "A value is trying to be set on a copy of a slice from a DataFrame.\n",
      "Try using .loc[row_indexer,col_indexer] = value instead\n",
      "\n",
      "See the caveats in the documentation: https://pandas.pydata.org/pandas-docs/stable/user_guide/indexing.html#returning-a-view-versus-a-copy\n",
      "  df[[f'{column}_Minutes']] = df[column].apply(lambda x: pd.Series(parse_time(x)))\n"
     ]
    },
    {
     "name": "stdout",
     "output_type": "stream",
     "text": [
      "part  5  complete\n"
     ]
    },
    {
     "name": "stderr",
     "output_type": "stream",
     "text": [
      "/tmp/ipykernel_8926/2767941552.py:12: SettingWithCopyWarning: \n",
      "A value is trying to be set on a copy of a slice from a DataFrame.\n",
      "Try using .loc[row_indexer,col_indexer] = value instead\n",
      "\n",
      "See the caveats in the documentation: https://pandas.pydata.org/pandas-docs/stable/user_guide/indexing.html#returning-a-view-versus-a-copy\n",
      "  df[[f'{column}_Minutes']] = df[column].apply(lambda x: pd.Series(parse_time(x)))\n",
      "/tmp/ipykernel_8926/2767941552.py:12: SettingWithCopyWarning: \n",
      "A value is trying to be set on a copy of a slice from a DataFrame.\n",
      "Try using .loc[row_indexer,col_indexer] = value instead\n",
      "\n",
      "See the caveats in the documentation: https://pandas.pydata.org/pandas-docs/stable/user_guide/indexing.html#returning-a-view-versus-a-copy\n",
      "  df[[f'{column}_Minutes']] = df[column].apply(lambda x: pd.Series(parse_time(x)))\n"
     ]
    },
    {
     "name": "stdout",
     "output_type": "stream",
     "text": [
      "part  6  complete\n"
     ]
    },
    {
     "name": "stderr",
     "output_type": "stream",
     "text": [
      "/tmp/ipykernel_8926/2767941552.py:12: SettingWithCopyWarning: \n",
      "A value is trying to be set on a copy of a slice from a DataFrame.\n",
      "Try using .loc[row_indexer,col_indexer] = value instead\n",
      "\n",
      "See the caveats in the documentation: https://pandas.pydata.org/pandas-docs/stable/user_guide/indexing.html#returning-a-view-versus-a-copy\n",
      "  df[[f'{column}_Minutes']] = df[column].apply(lambda x: pd.Series(parse_time(x)))\n"
     ]
    }
   ],
   "source": [
    "# Create an empty list to store the dataframes\n",
    "dataframes = []\n",
    "\n",
    "# Split the data into parts of 100,000\n",
    "for i in range(0, len(cleaning_time), 100000):\n",
    "    dataframes.append(cleaning_time.iloc[i:i+100000])\n",
    "\n",
    "i = 1\n",
    "# Apply the function and create new columns for each dataframe\n",
    "for df in dataframes:\n",
    "    for column in df:\n",
    "        df[[f'{column}_Minutes']] = df[column].apply(lambda x: pd.Series(parse_time(x)))\n",
    "\n",
    "    print(\"part \", i, \" complete\")\n",
    "    df.to_csv(f'cleaning_time_part_{i}.csv', index=False)\n",
    "    \n",
    "    i = i+1\n"
   ]
  },
  {
   "cell_type": "code",
   "execution_count": 11,
   "id": "ca17eacea298df17",
   "metadata": {
    "ExecuteTime": {
     "end_time": "2024-07-12T03:26:24.876462Z",
     "start_time": "2024-07-12T03:26:24.739402Z"
    },
    "tags": []
   },
   "outputs": [
    {
     "name": "stdout",
     "output_type": "stream",
     "text": [
      "(522517, 3)\n",
      "   CookTime_Minutes  PrepTime_Minutes  TotalTime_Minutes\n",
      "0              1440                45               1485\n",
      "1                25               240                265\n",
      "2                 5                30                 35\n",
      "3                20              1440               1460\n",
      "4                30                20                 50\n"
     ]
    }
   ],
   "source": [
    "# Read the dataframes\n",
    "df1 = pd.read_csv('cleaning_time_part_1.csv')\n",
    "df2 = pd.read_csv('cleaning_time_part_2.csv')\n",
    "df3 = pd.read_csv('cleaning_time_part_3.csv')\n",
    "df4 = pd.read_csv('cleaning_time_part_4.csv')\n",
    "df5 = pd.read_csv('cleaning_time_part_5.csv')\n",
    "df6 = pd.read_csv('cleaning_time_part_6.csv')\n",
    "\n",
    "\n",
    "# Concatenate the dataframes\n",
    "cleaning_time = pd.concat([df1, df2, df3, df4, df5, df6])\n",
    "cleaning_time = cleaning_time[[\"CookTime_Minutes\", \"PrepTime_Minutes\", \"TotalTime_Minutes\"]]\n",
    "\n",
    "# Print the concatenated dataframe\n",
    "print(cleaning_time.shape)\n",
    "print(cleaning_time.head())"
   ]
  },
  {
   "cell_type": "code",
   "execution_count": 12,
   "id": "3bdb57dc727e8347",
   "metadata": {
    "ExecuteTime": {
     "end_time": "2024-07-12T03:26:27.924014Z",
     "start_time": "2024-07-12T03:26:24.877165Z"
    },
    "tags": []
   },
   "outputs": [],
   "source": [
    "# prompt: add cleaning_time to recipes and save as parquet\n",
    "recipes = recipes.reset_index(drop=True)\n",
    "cleaning_time = cleaning_time.reset_index(drop=True)\n",
    "\n",
    "recipes = pd.concat([recipes, cleaning_time], axis=1)\n"
   ]
  },
  {
   "cell_type": "code",
   "execution_count": 13,
   "id": "8e0cb8e60f86f301",
   "metadata": {
    "ExecuteTime": {
     "end_time": "2024-07-12T03:26:28.812094Z",
     "start_time": "2024-07-12T03:26:27.924726Z"
    },
    "tags": []
   },
   "outputs": [],
   "source": [
    "recipes['RecipeInstructions'] = recipes['RecipeInstructions'].apply(lambda x: ' '.join(x))\n",
    "recipes['Keywords_string'] = recipes['Keywords'].apply(lambda x: ' '.join(map(str, x)))\n"
   ]
  },
  {
   "cell_type": "code",
   "execution_count": 21,
   "id": "6f4793ce-4da2-47bd-b08f-b2345e224e98",
   "metadata": {
    "tags": []
   },
   "outputs": [],
   "source": [
    "METADATA_FIELDS.append(\"CookTime_Minutes\") \n",
    "METADATA_FIELDS.append(\"PrepTime_Minutes\")\n",
    "METADATA_FIELDS.append(\"TotalTime_Minutes\")"
   ]
  },
  {
   "cell_type": "code",
   "execution_count": 22,
   "id": "5a393a04-bf44-4ea0-8d5e-fb13fbadbdf4",
   "metadata": {
    "tags": []
   },
   "outputs": [
    {
     "data": {
      "text/plain": [
       "['Name',\n",
       " 'RecipeCategory',\n",
       " 'Description',\n",
       " 'Keywords_string',\n",
       " 'RecipeIngredientQuantities',\n",
       " 'RecipeIngredientParts',\n",
       " 'RecipeInstructions',\n",
       " 'AggregatedRating',\n",
       " 'ReviewCount',\n",
       " 'CookTime_Minutes',\n",
       " 'PrepTime_Minutes',\n",
       " 'TotalTime_Minutes']"
      ]
     },
     "execution_count": 22,
     "metadata": {},
     "output_type": "execute_result"
    }
   ],
   "source": [
    "METADATA_FIELDS"
   ]
  },
  {
   "cell_type": "code",
   "execution_count": 23,
   "id": "4f18a4f1f2a455e1",
   "metadata": {
    "ExecuteTime": {
     "end_time": "2024-07-12T03:26:30.482977Z",
     "start_time": "2024-07-12T03:26:28.812676Z"
    },
    "tags": []
   },
   "outputs": [
    {
     "name": "stderr",
     "output_type": "stream",
     "text": [
      "/tmp/ipykernel_8926/3709724652.py:2: SettingWithCopyWarning: \n",
      "A value is trying to be set on a copy of a slice from a DataFrame.\n",
      "Try using .loc[row_indexer,col_indexer] = value instead\n",
      "\n",
      "See the caveats in the documentation: https://pandas.pydata.org/pandas-docs/stable/user_guide/indexing.html#returning-a-view-versus-a-copy\n",
      "  new_recipe['Combined_Features'] = new_recipe[FEATURES_TO_COMBINE].fillna('  ').apply(lambda x: ' '.join(x), axis=1)\n"
     ]
    },
    {
     "data": {
      "text/html": [
       "<div>\n",
       "<style scoped>\n",
       "    .dataframe tbody tr th:only-of-type {\n",
       "        vertical-align: middle;\n",
       "    }\n",
       "\n",
       "    .dataframe tbody tr th {\n",
       "        vertical-align: top;\n",
       "    }\n",
       "\n",
       "    .dataframe thead th {\n",
       "        text-align: right;\n",
       "    }\n",
       "</style>\n",
       "<table border=\"1\" class=\"dataframe\">\n",
       "  <thead>\n",
       "    <tr style=\"text-align: right;\">\n",
       "      <th></th>\n",
       "      <th>Name</th>\n",
       "      <th>RecipeCategory</th>\n",
       "      <th>Description</th>\n",
       "      <th>Keywords_string</th>\n",
       "      <th>RecipeIngredientQuantities</th>\n",
       "      <th>RecipeIngredientParts</th>\n",
       "      <th>RecipeInstructions</th>\n",
       "      <th>AggregatedRating</th>\n",
       "      <th>ReviewCount</th>\n",
       "      <th>CookTime_Minutes</th>\n",
       "      <th>PrepTime_Minutes</th>\n",
       "      <th>TotalTime_Minutes</th>\n",
       "      <th>Combined_Features</th>\n",
       "    </tr>\n",
       "  </thead>\n",
       "  <tbody>\n",
       "    <tr>\n",
       "      <th>0</th>\n",
       "      <td>Low-Fat Berry Blue Frozen Dessert</td>\n",
       "      <td>Frozen Desserts</td>\n",
       "      <td>Make and share this Low-Fat Berry Blue Frozen ...</td>\n",
       "      <td>Dessert Low Protein Low Cholesterol Healthy Fr...</td>\n",
       "      <td>[4, 1⁄4, 1, 1]</td>\n",
       "      <td>[blueberries, granulated sugar, vanilla yogurt...</td>\n",
       "      <td>Toss 2 cups berries with sugar. Let stand for ...</td>\n",
       "      <td>4.5</td>\n",
       "      <td>4.0</td>\n",
       "      <td>1440</td>\n",
       "      <td>45</td>\n",
       "      <td>1485</td>\n",
       "      <td>Low-Fat Berry Blue Frozen Dessert Frozen Desse...</td>\n",
       "    </tr>\n",
       "    <tr>\n",
       "      <th>1</th>\n",
       "      <td>Biryani</td>\n",
       "      <td>Chicken Breast</td>\n",
       "      <td>Make and share this Biryani recipe from Food.com.</td>\n",
       "      <td>Chicken Thigh &amp; Leg Chicken Poultry Meat Asian...</td>\n",
       "      <td>[1, 4, 2, 2, 8, 1⁄4, 8, 1⁄2, 1, 1, 1⁄4, 1⁄4, 1...</td>\n",
       "      <td>[saffron, milk, hot green chili peppers, onion...</td>\n",
       "      <td>Soak saffron in warm milk for 5 minutes and pu...</td>\n",
       "      <td>3.0</td>\n",
       "      <td>1.0</td>\n",
       "      <td>25</td>\n",
       "      <td>240</td>\n",
       "      <td>265</td>\n",
       "      <td>Biryani Chicken Breast Make and share this Bir...</td>\n",
       "    </tr>\n",
       "    <tr>\n",
       "      <th>2</th>\n",
       "      <td>Best Lemonade</td>\n",
       "      <td>Beverages</td>\n",
       "      <td>This is from one of my  first Good House Keepi...</td>\n",
       "      <td>Low Protein Low Cholesterol Healthy Summer &lt; 6...</td>\n",
       "      <td>[1 1⁄2, 1, None, 1 1⁄2, None, 3⁄4]</td>\n",
       "      <td>[sugar, lemons, rind of, lemon, zest of, fresh...</td>\n",
       "      <td>Into a 1 quart Jar with tight fitting lid, put...</td>\n",
       "      <td>4.5</td>\n",
       "      <td>10.0</td>\n",
       "      <td>5</td>\n",
       "      <td>30</td>\n",
       "      <td>35</td>\n",
       "      <td>Best Lemonade Beverages This is from one of my...</td>\n",
       "    </tr>\n",
       "    <tr>\n",
       "      <th>3</th>\n",
       "      <td>Carina's Tofu-Vegetable Kebabs</td>\n",
       "      <td>Soy/Tofu</td>\n",
       "      <td>This dish is best prepared a day in advance to...</td>\n",
       "      <td>Beans Vegetable Low Cholesterol Weeknight Broi...</td>\n",
       "      <td>[12, 1, 2, 1, 10, 1, 3, 2, 2, 2, 1, 2, 1⁄2, 1⁄...</td>\n",
       "      <td>[extra firm tofu, eggplant, zucchini, mushroom...</td>\n",
       "      <td>Drain the tofu, carefully squeezing out excess...</td>\n",
       "      <td>4.5</td>\n",
       "      <td>2.0</td>\n",
       "      <td>20</td>\n",
       "      <td>1440</td>\n",
       "      <td>1460</td>\n",
       "      <td>Carina's Tofu-Vegetable Kebabs Soy/Tofu This d...</td>\n",
       "    </tr>\n",
       "    <tr>\n",
       "      <th>4</th>\n",
       "      <td>Cabbage Soup</td>\n",
       "      <td>Vegetable</td>\n",
       "      <td>Make and share this Cabbage Soup recipe from F...</td>\n",
       "      <td>Low Protein Vegan Low Cholesterol Healthy Wint...</td>\n",
       "      <td>[46, 4, 1, 2, 1]</td>\n",
       "      <td>[plain tomato juice, cabbage, onion, carrots, ...</td>\n",
       "      <td>Mix everything together and bring to a boil. R...</td>\n",
       "      <td>4.5</td>\n",
       "      <td>11.0</td>\n",
       "      <td>30</td>\n",
       "      <td>20</td>\n",
       "      <td>50</td>\n",
       "      <td>Cabbage Soup Vegetable Make and share this Cab...</td>\n",
       "    </tr>\n",
       "  </tbody>\n",
       "</table>\n",
       "</div>"
      ],
      "text/plain": [
       "                                Name   RecipeCategory  \\\n",
       "0  Low-Fat Berry Blue Frozen Dessert  Frozen Desserts   \n",
       "1                            Biryani   Chicken Breast   \n",
       "2                      Best Lemonade        Beverages   \n",
       "3     Carina's Tofu-Vegetable Kebabs         Soy/Tofu   \n",
       "4                       Cabbage Soup        Vegetable   \n",
       "\n",
       "                                         Description  \\\n",
       "0  Make and share this Low-Fat Berry Blue Frozen ...   \n",
       "1  Make and share this Biryani recipe from Food.com.   \n",
       "2  This is from one of my  first Good House Keepi...   \n",
       "3  This dish is best prepared a day in advance to...   \n",
       "4  Make and share this Cabbage Soup recipe from F...   \n",
       "\n",
       "                                     Keywords_string  \\\n",
       "0  Dessert Low Protein Low Cholesterol Healthy Fr...   \n",
       "1  Chicken Thigh & Leg Chicken Poultry Meat Asian...   \n",
       "2  Low Protein Low Cholesterol Healthy Summer < 6...   \n",
       "3  Beans Vegetable Low Cholesterol Weeknight Broi...   \n",
       "4  Low Protein Vegan Low Cholesterol Healthy Wint...   \n",
       "\n",
       "                          RecipeIngredientQuantities  \\\n",
       "0                                     [4, 1⁄4, 1, 1]   \n",
       "1  [1, 4, 2, 2, 8, 1⁄4, 8, 1⁄2, 1, 1, 1⁄4, 1⁄4, 1...   \n",
       "2                 [1 1⁄2, 1, None, 1 1⁄2, None, 3⁄4]   \n",
       "3  [12, 1, 2, 1, 10, 1, 3, 2, 2, 2, 1, 2, 1⁄2, 1⁄...   \n",
       "4                                   [46, 4, 1, 2, 1]   \n",
       "\n",
       "                               RecipeIngredientParts  \\\n",
       "0  [blueberries, granulated sugar, vanilla yogurt...   \n",
       "1  [saffron, milk, hot green chili peppers, onion...   \n",
       "2  [sugar, lemons, rind of, lemon, zest of, fresh...   \n",
       "3  [extra firm tofu, eggplant, zucchini, mushroom...   \n",
       "4  [plain tomato juice, cabbage, onion, carrots, ...   \n",
       "\n",
       "                                  RecipeInstructions  AggregatedRating  \\\n",
       "0  Toss 2 cups berries with sugar. Let stand for ...               4.5   \n",
       "1  Soak saffron in warm milk for 5 minutes and pu...               3.0   \n",
       "2  Into a 1 quart Jar with tight fitting lid, put...               4.5   \n",
       "3  Drain the tofu, carefully squeezing out excess...               4.5   \n",
       "4  Mix everything together and bring to a boil. R...               4.5   \n",
       "\n",
       "   ReviewCount  CookTime_Minutes  PrepTime_Minutes  TotalTime_Minutes  \\\n",
       "0          4.0              1440                45               1485   \n",
       "1          1.0                25               240                265   \n",
       "2         10.0                 5                30                 35   \n",
       "3          2.0                20              1440               1460   \n",
       "4         11.0                30                20                 50   \n",
       "\n",
       "                                   Combined_Features  \n",
       "0  Low-Fat Berry Blue Frozen Dessert Frozen Desse...  \n",
       "1  Biryani Chicken Breast Make and share this Bir...  \n",
       "2  Best Lemonade Beverages This is from one of my...  \n",
       "3  Carina's Tofu-Vegetable Kebabs Soy/Tofu This d...  \n",
       "4  Cabbage Soup Vegetable Make and share this Cab...  "
      ]
     },
     "execution_count": 23,
     "metadata": {},
     "output_type": "execute_result"
    }
   ],
   "source": [
    "new_recipe = recipes[METADATA_FIELDS]\n",
    "new_recipe['Combined_Features'] = new_recipe[FEATURES_TO_COMBINE].fillna('  ').apply(lambda x: ' '.join(x), axis=1)\n",
    "new_recipe.head()"
   ]
  },
  {
   "cell_type": "code",
   "execution_count": 24,
   "id": "13c29c512435ba3a",
   "metadata": {
    "ExecuteTime": {
     "end_time": "2024-07-12T03:26:31.207130Z",
     "start_time": "2024-07-12T03:26:30.483870Z"
    },
    "tags": []
   },
   "outputs": [
    {
     "name": "stderr",
     "output_type": "stream",
     "text": [
      "[nltk_data] Downloading package stopwords to\n",
      "[nltk_data]     /home/ec2-user/nltk_data...\n",
      "[nltk_data]   Unzipping corpora/stopwords.zip.\n",
      "[nltk_data] Downloading package punkt to /home/ec2-user/nltk_data...\n",
      "[nltk_data]   Unzipping tokenizers/punkt.zip.\n"
     ]
    }
   ],
   "source": [
    "import re\n",
    "import nltk\n",
    "from nltk.corpus import stopwords\n",
    "\n",
    "nltk.download('stopwords')\n",
    "nltk.download('punkt')\n",
    "stop_words = stopwords.words('english')\n",
    "articles = ['a', 'an', 'the']\n",
    "stop_words.extend(articles)\n",
    "stop_words_list = list(stop_words)"
   ]
  },
  {
   "cell_type": "code",
   "execution_count": 25,
   "id": "5777ea80b144e032",
   "metadata": {
    "ExecuteTime": {
     "end_time": "2024-07-12T03:27:52.313831Z",
     "start_time": "2024-07-12T03:26:31.208056Z"
    },
    "tags": []
   },
   "outputs": [
    {
     "name": "stderr",
     "output_type": "stream",
     "text": [
      "/tmp/ipykernel_8926/4249831454.py:2: SettingWithCopyWarning: \n",
      "A value is trying to be set on a copy of a slice from a DataFrame.\n",
      "Try using .loc[row_indexer,col_indexer] = value instead\n",
      "\n",
      "See the caveats in the documentation: https://pandas.pydata.org/pandas-docs/stable/user_guide/indexing.html#returning-a-view-versus-a-copy\n",
      "  new_recipe['Combined_Features_Clean'] = new_recipe['Combined_Features'].apply(lambda x: ' '.join([word for word in x.split() if word.lower() not in stop_words_list]))\n"
     ]
    }
   ],
   "source": [
    "#create new column without stopwords\n",
    "new_recipe['Combined_Features_Clean'] = new_recipe['Combined_Features'].apply(lambda x: ' '.join([word for word in x.split() if word.lower() not in stop_words_list]))"
   ]
  },
  {
   "cell_type": "code",
   "execution_count": 26,
   "id": "734247a9cfe9e138",
   "metadata": {
    "ExecuteTime": {
     "end_time": "2024-07-12T03:27:52.321730Z",
     "start_time": "2024-07-12T03:27:52.315967Z"
    },
    "tags": []
   },
   "outputs": [
    {
     "data": {
      "text/html": [
       "<div>\n",
       "<style scoped>\n",
       "    .dataframe tbody tr th:only-of-type {\n",
       "        vertical-align: middle;\n",
       "    }\n",
       "\n",
       "    .dataframe tbody tr th {\n",
       "        vertical-align: top;\n",
       "    }\n",
       "\n",
       "    .dataframe thead th {\n",
       "        text-align: right;\n",
       "    }\n",
       "</style>\n",
       "<table border=\"1\" class=\"dataframe\">\n",
       "  <thead>\n",
       "    <tr style=\"text-align: right;\">\n",
       "      <th></th>\n",
       "      <th>Name</th>\n",
       "      <th>RecipeCategory</th>\n",
       "      <th>Description</th>\n",
       "      <th>Keywords_string</th>\n",
       "      <th>RecipeIngredientQuantities</th>\n",
       "      <th>RecipeIngredientParts</th>\n",
       "      <th>RecipeInstructions</th>\n",
       "      <th>AggregatedRating</th>\n",
       "      <th>ReviewCount</th>\n",
       "      <th>CookTime_Minutes</th>\n",
       "      <th>PrepTime_Minutes</th>\n",
       "      <th>TotalTime_Minutes</th>\n",
       "      <th>Combined_Features</th>\n",
       "      <th>Combined_Features_Clean</th>\n",
       "    </tr>\n",
       "  </thead>\n",
       "  <tbody>\n",
       "    <tr>\n",
       "      <th>0</th>\n",
       "      <td>Low-Fat Berry Blue Frozen Dessert</td>\n",
       "      <td>Frozen Desserts</td>\n",
       "      <td>Make and share this Low-Fat Berry Blue Frozen ...</td>\n",
       "      <td>Dessert Low Protein Low Cholesterol Healthy Fr...</td>\n",
       "      <td>[4, 1⁄4, 1, 1]</td>\n",
       "      <td>[blueberries, granulated sugar, vanilla yogurt...</td>\n",
       "      <td>Toss 2 cups berries with sugar. Let stand for ...</td>\n",
       "      <td>4.5</td>\n",
       "      <td>4.0</td>\n",
       "      <td>1440</td>\n",
       "      <td>45</td>\n",
       "      <td>1485</td>\n",
       "      <td>Low-Fat Berry Blue Frozen Dessert Frozen Desse...</td>\n",
       "      <td>Low-Fat Berry Blue Frozen Dessert Frozen Desse...</td>\n",
       "    </tr>\n",
       "    <tr>\n",
       "      <th>1</th>\n",
       "      <td>Biryani</td>\n",
       "      <td>Chicken Breast</td>\n",
       "      <td>Make and share this Biryani recipe from Food.com.</td>\n",
       "      <td>Chicken Thigh &amp; Leg Chicken Poultry Meat Asian...</td>\n",
       "      <td>[1, 4, 2, 2, 8, 1⁄4, 8, 1⁄2, 1, 1, 1⁄4, 1⁄4, 1...</td>\n",
       "      <td>[saffron, milk, hot green chili peppers, onion...</td>\n",
       "      <td>Soak saffron in warm milk for 5 minutes and pu...</td>\n",
       "      <td>3.0</td>\n",
       "      <td>1.0</td>\n",
       "      <td>25</td>\n",
       "      <td>240</td>\n",
       "      <td>265</td>\n",
       "      <td>Biryani Chicken Breast Make and share this Bir...</td>\n",
       "      <td>Biryani Chicken Breast Make share Biryani reci...</td>\n",
       "    </tr>\n",
       "    <tr>\n",
       "      <th>2</th>\n",
       "      <td>Best Lemonade</td>\n",
       "      <td>Beverages</td>\n",
       "      <td>This is from one of my  first Good House Keepi...</td>\n",
       "      <td>Low Protein Low Cholesterol Healthy Summer &lt; 6...</td>\n",
       "      <td>[1 1⁄2, 1, None, 1 1⁄2, None, 3⁄4]</td>\n",
       "      <td>[sugar, lemons, rind of, lemon, zest of, fresh...</td>\n",
       "      <td>Into a 1 quart Jar with tight fitting lid, put...</td>\n",
       "      <td>4.5</td>\n",
       "      <td>10.0</td>\n",
       "      <td>5</td>\n",
       "      <td>30</td>\n",
       "      <td>35</td>\n",
       "      <td>Best Lemonade Beverages This is from one of my...</td>\n",
       "      <td>Best Lemonade Beverages one first Good House K...</td>\n",
       "    </tr>\n",
       "    <tr>\n",
       "      <th>3</th>\n",
       "      <td>Carina's Tofu-Vegetable Kebabs</td>\n",
       "      <td>Soy/Tofu</td>\n",
       "      <td>This dish is best prepared a day in advance to...</td>\n",
       "      <td>Beans Vegetable Low Cholesterol Weeknight Broi...</td>\n",
       "      <td>[12, 1, 2, 1, 10, 1, 3, 2, 2, 2, 1, 2, 1⁄2, 1⁄...</td>\n",
       "      <td>[extra firm tofu, eggplant, zucchini, mushroom...</td>\n",
       "      <td>Drain the tofu, carefully squeezing out excess...</td>\n",
       "      <td>4.5</td>\n",
       "      <td>2.0</td>\n",
       "      <td>20</td>\n",
       "      <td>1440</td>\n",
       "      <td>1460</td>\n",
       "      <td>Carina's Tofu-Vegetable Kebabs Soy/Tofu This d...</td>\n",
       "      <td>Carina's Tofu-Vegetable Kebabs Soy/Tofu dish b...</td>\n",
       "    </tr>\n",
       "    <tr>\n",
       "      <th>4</th>\n",
       "      <td>Cabbage Soup</td>\n",
       "      <td>Vegetable</td>\n",
       "      <td>Make and share this Cabbage Soup recipe from F...</td>\n",
       "      <td>Low Protein Vegan Low Cholesterol Healthy Wint...</td>\n",
       "      <td>[46, 4, 1, 2, 1]</td>\n",
       "      <td>[plain tomato juice, cabbage, onion, carrots, ...</td>\n",
       "      <td>Mix everything together and bring to a boil. R...</td>\n",
       "      <td>4.5</td>\n",
       "      <td>11.0</td>\n",
       "      <td>30</td>\n",
       "      <td>20</td>\n",
       "      <td>50</td>\n",
       "      <td>Cabbage Soup Vegetable Make and share this Cab...</td>\n",
       "      <td>Cabbage Soup Vegetable Make share Cabbage Soup...</td>\n",
       "    </tr>\n",
       "  </tbody>\n",
       "</table>\n",
       "</div>"
      ],
      "text/plain": [
       "                                Name   RecipeCategory  \\\n",
       "0  Low-Fat Berry Blue Frozen Dessert  Frozen Desserts   \n",
       "1                            Biryani   Chicken Breast   \n",
       "2                      Best Lemonade        Beverages   \n",
       "3     Carina's Tofu-Vegetable Kebabs         Soy/Tofu   \n",
       "4                       Cabbage Soup        Vegetable   \n",
       "\n",
       "                                         Description  \\\n",
       "0  Make and share this Low-Fat Berry Blue Frozen ...   \n",
       "1  Make and share this Biryani recipe from Food.com.   \n",
       "2  This is from one of my  first Good House Keepi...   \n",
       "3  This dish is best prepared a day in advance to...   \n",
       "4  Make and share this Cabbage Soup recipe from F...   \n",
       "\n",
       "                                     Keywords_string  \\\n",
       "0  Dessert Low Protein Low Cholesterol Healthy Fr...   \n",
       "1  Chicken Thigh & Leg Chicken Poultry Meat Asian...   \n",
       "2  Low Protein Low Cholesterol Healthy Summer < 6...   \n",
       "3  Beans Vegetable Low Cholesterol Weeknight Broi...   \n",
       "4  Low Protein Vegan Low Cholesterol Healthy Wint...   \n",
       "\n",
       "                          RecipeIngredientQuantities  \\\n",
       "0                                     [4, 1⁄4, 1, 1]   \n",
       "1  [1, 4, 2, 2, 8, 1⁄4, 8, 1⁄2, 1, 1, 1⁄4, 1⁄4, 1...   \n",
       "2                 [1 1⁄2, 1, None, 1 1⁄2, None, 3⁄4]   \n",
       "3  [12, 1, 2, 1, 10, 1, 3, 2, 2, 2, 1, 2, 1⁄2, 1⁄...   \n",
       "4                                   [46, 4, 1, 2, 1]   \n",
       "\n",
       "                               RecipeIngredientParts  \\\n",
       "0  [blueberries, granulated sugar, vanilla yogurt...   \n",
       "1  [saffron, milk, hot green chili peppers, onion...   \n",
       "2  [sugar, lemons, rind of, lemon, zest of, fresh...   \n",
       "3  [extra firm tofu, eggplant, zucchini, mushroom...   \n",
       "4  [plain tomato juice, cabbage, onion, carrots, ...   \n",
       "\n",
       "                                  RecipeInstructions  AggregatedRating  \\\n",
       "0  Toss 2 cups berries with sugar. Let stand for ...               4.5   \n",
       "1  Soak saffron in warm milk for 5 minutes and pu...               3.0   \n",
       "2  Into a 1 quart Jar with tight fitting lid, put...               4.5   \n",
       "3  Drain the tofu, carefully squeezing out excess...               4.5   \n",
       "4  Mix everything together and bring to a boil. R...               4.5   \n",
       "\n",
       "   ReviewCount  CookTime_Minutes  PrepTime_Minutes  TotalTime_Minutes  \\\n",
       "0          4.0              1440                45               1485   \n",
       "1          1.0                25               240                265   \n",
       "2         10.0                 5                30                 35   \n",
       "3          2.0                20              1440               1460   \n",
       "4         11.0                30                20                 50   \n",
       "\n",
       "                                   Combined_Features  \\\n",
       "0  Low-Fat Berry Blue Frozen Dessert Frozen Desse...   \n",
       "1  Biryani Chicken Breast Make and share this Bir...   \n",
       "2  Best Lemonade Beverages This is from one of my...   \n",
       "3  Carina's Tofu-Vegetable Kebabs Soy/Tofu This d...   \n",
       "4  Cabbage Soup Vegetable Make and share this Cab...   \n",
       "\n",
       "                             Combined_Features_Clean  \n",
       "0  Low-Fat Berry Blue Frozen Dessert Frozen Desse...  \n",
       "1  Biryani Chicken Breast Make share Biryani reci...  \n",
       "2  Best Lemonade Beverages one first Good House K...  \n",
       "3  Carina's Tofu-Vegetable Kebabs Soy/Tofu dish b...  \n",
       "4  Cabbage Soup Vegetable Make share Cabbage Soup...  "
      ]
     },
     "execution_count": 26,
     "metadata": {},
     "output_type": "execute_result"
    }
   ],
   "source": [
    "new_recipe.head()"
   ]
  },
  {
   "cell_type": "code",
   "execution_count": 27,
   "id": "d768c3617bef47d8",
   "metadata": {
    "ExecuteTime": {
     "end_time": "2024-07-12T03:27:57.490962Z",
     "start_time": "2024-07-12T03:27:52.322382Z"
    },
    "tags": []
   },
   "outputs": [],
   "source": [
    "# Save the DataFrame to a new parquet file\n",
    "new_recipe.to_parquet('recipes_w_cleaning_time_combined_features.parquet')"
   ]
  },
  {
   "cell_type": "code",
   "execution_count": 28,
   "id": "4fc5c2b7044d963e",
   "metadata": {
    "ExecuteTime": {
     "end_time": "2024-07-12T03:27:57.495554Z",
     "start_time": "2024-07-12T03:27:57.492107Z"
    },
    "tags": []
   },
   "outputs": [
    {
     "data": {
      "text/plain": [
       "Index(['Name', 'RecipeCategory', 'Description', 'Keywords_string',\n",
       "       'RecipeIngredientQuantities', 'RecipeIngredientParts',\n",
       "       'RecipeInstructions', 'AggregatedRating', 'ReviewCount',\n",
       "       'CookTime_Minutes', 'PrepTime_Minutes', 'TotalTime_Minutes',\n",
       "       'Combined_Features', 'Combined_Features_Clean'],\n",
       "      dtype='object')"
      ]
     },
     "execution_count": 28,
     "metadata": {},
     "output_type": "execute_result"
    }
   ],
   "source": [
    "new_recipe.columns"
   ]
  },
  {
   "cell_type": "markdown",
   "id": "a1cbcca67b9ec5ec",
   "metadata": {},
   "source": [
    "# cleanup temp files"
   ]
  },
  {
   "cell_type": "code",
   "execution_count": 29,
   "id": "96b415305151b2b9",
   "metadata": {
    "ExecuteTime": {
     "end_time": "2024-07-12T03:27:57.500242Z",
     "start_time": "2024-07-12T03:27:57.496083Z"
    },
    "tags": []
   },
   "outputs": [],
   "source": [
    "import os\n",
    "files = [f for f in os.listdir('.') if os.path.isfile(f)]\n",
    "for f in files:\n",
    "    if \"cleaning_time_part_\" in f or \"recipes_w_cleaning_time.parquet\" == f:\n",
    "        os.remove(f)\n",
    "        \n"
   ]
  },
  {
   "cell_type": "code",
   "execution_count": null,
   "id": "a43c4ac7-c351-4fc9-aa1e-6f5929254d32",
   "metadata": {},
   "outputs": [],
   "source": []
  }
 ],
 "metadata": {
  "kernelspec": {
   "display_name": "conda_python3",
   "language": "python",
   "name": "conda_python3"
  },
  "language_info": {
   "codemirror_mode": {
    "name": "ipython",
    "version": 3
   },
   "file_extension": ".py",
   "mimetype": "text/x-python",
   "name": "python",
   "nbconvert_exporter": "python",
   "pygments_lexer": "ipython3",
   "version": "3.10.14"
  }
 },
 "nbformat": 4,
 "nbformat_minor": 5
}
