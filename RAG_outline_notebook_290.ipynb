{
  "cells": [
    {
      "cell_type": "markdown",
      "metadata": {
        "id": "czxW4C_gf5Eo"
      },
      "source": [
        "# DATASCI 290 - GenAI - Assignment 5\n",
        "\n",
        "In Assignment 5 you will create and test a RAG system yourself, and write a corresponding business proposal.\n",
        "\n",
        "The overall scenarios is as follows:\n",
        "\n",
        "You work at a tech company that is looking for new ways to organize their question answering and search capabilities to accelerate both engineering activity and the marketing team. The company also wants to roll out new GenAI-based products, so a lot of the questions will center around Generative AI concepts. The company has about 300 engineers and a marketing staff of 40. Product releases are done quarterly.\n",
        "\n",
        "Your role is to implement and conduct a (mini-)POC helping the company to evaluate RAG capabilities for the improvement of their document search (and corresponding question answering), supporting particularly the engineering and marketing organizations. You will have a gold dataset with 'good' responses to questions from marketing and engineering teams. You need to develop metric(s) that help you to evaluate how well your RAG system performs relative to the gold data. You should work with the tunables of the setup (LLM, chunking, embeddings, ...) for your iterations.\n",
        "\n",
        "You will also need to write up your findings as a short proposal.\n",
        "\n",
        "(See instructions throughout this notebook.)\n",
        "\n",
        "So overall, the goals of this assignment is for you to:\n",
        "\n",
        "*  To implement a RAG system using LangChain\n",
        "*  Be able to formulate metric(s) that you may want to choose as your evaluation to what degree your system replicates gold answers (labeled data) that we will provide.\n",
        "* Try out various hyper-parameters and settings to see which configuration works the best (given your chosen metric)  \n",
        "* Write a comprehensive evaluation, which also includes risks and limitations (and a lot more)\n",
        "\n",
        "The notebook is organized as follows:\n",
        "\n",
        "1. Set-Up\n",
        "\n",
        "2. Base RAG components\n",
        "\n",
        "    We will provide a base LangChain-based framework for you to use for your RAG system. The components we’ll need include:  \n",
        "\n",
        "  2.1 Text Embeddings    \n",
        "  2.2 Text Chunking   \n",
        "  2.3 The Vector DB & Semantic Search  \n",
        "  2.4 The Language Model   \n",
        "  2.5 Testing the LLM in a LangChain Chain   \n",
        "  2.6. Setting up a simple RAG Chain     \n",
        "\n",
        "\n",
        "3. Using RAG  \n",
        "  3.1 Loading of Data  \n",
        "  3.2 Test Queries\n",
        "\n",
        "\n",
        "4.  Evaluations\n",
        "\n",
        "  Here, you will conduct your evaluations\n",
        "\n",
        "\n",
        "5. Final Results\n",
        "\n",
        "  In this section you provide the RAG answers to the test questions\n",
        "\n",
        "RULES:  \n",
        "\n",
        "* You can only use the language models specified here  \n",
        "* You can only use the embedding methods we discuss  \n",
        "* You can only use the focuments we provide. And they all must be in your store   \n",
        "* Apart from the provided specifications, some of the things you can freely experiment with include chunk sizes, prompts, etc.\n",
        "\n",
        "\n",
        "**To run this notebook** you should copy it to your personal Colab Pro Google account by uploading it into your Google Drive. From there you can open it as a Colab notebook and run it.  Note it needs a T4 GPU to run.  You may be able to run it in a free Colab notebook.\n",
        "\n",
        "NOTES:\n",
        "* The Open Source Model is not trained for safety. So unsafe answers could be returned.\n",
        "\n",
        "\n",
        "Let's begin!\n",
        "\n",
        "##1. Setup\n",
        "\n",
        "We will first install a number of libraries and import what we will need.\n",
        "\n",
        "\n",
        "\n",
        "\n"
      ]
    },
    {
      "cell_type": "code",
      "execution_count": 1,
      "metadata": {
        "id": "WIlhfQj-KUlZ"
      },
      "outputs": [],
      "source": [
        "%%capture\n",
        "!pip -q install git+https://github.com/huggingface/transformers\n",
        "!pip install -q datasets loralib sentencepiece\n",
        "!pip -q install bitsandbytes accelerate\n",
        "!pip -q install langchain\n",
        "!pip install einops\n",
        "!pip install faiss-gpu\n",
        "!pip install --upgrade --quiet  langchain-community chromadb bs4 qdrant-client\n",
        "!pip install langchainhub\n",
        "\n",
        "!pip install --upgrade --quiet  wikipedia\n",
        "!pip install --upgrade --quiet  arxiv\n",
        "!pip install --upgrade --quiet  pymupdf\n",
        "\n",
        "!pip install xmltodict\n",
        "\n",
        "!pip install cohere\n",
        "!pip install -U langchain-cohere\n",
        "\n",
        "!pip install evaluate\n",
        "!pip install bert_score\n",
        "\n",
        "!pip install --upgrade tensorflow\n",
        "!pip install -U accelerate\n",
        "\n"
      ]
    },
    {
      "cell_type": "code",
      "execution_count": 2,
      "metadata": {
        "id": "3NjcvYABKieZ"
      },
      "outputs": [],
      "source": [
        "import torch\n",
        "import os\n",
        "import bs4\n",
        "import json\n",
        "import numpy as np\n",
        "import time\n",
        "\n",
        "\n",
        "from pprint import pprint\n",
        "\n",
        "import locale\n",
        "\n",
        "from transformers import AutoTokenizer , AutoModelForCausalLM\n",
        "from transformers import pipeline, BitsAndBytesConfig\n",
        "\n",
        "from langchain.llms import HuggingFacePipeline\n",
        "from langchain import PromptTemplate, LLMChain\n",
        "from langchain_core.prompts import ChatPromptTemplate\n",
        "from langchain_community.embeddings import HuggingFaceEmbeddings\n",
        "from langchain_text_splitters import CharacterTextSplitter\n",
        "from langchain_core.output_parsers import StrOutputParser\n",
        "from langchain import hub\n",
        "from langchain_community.document_loaders import WebBaseLoader\n",
        "from langchain_community.document_loaders import TextLoader\n",
        "from langchain_community.vectorstores import FAISS\n",
        "from langchain_community.vectorstores import Chroma\n",
        "from langchain_community.vectorstores import Qdrant\n",
        "from langchain_core.output_parsers import StrOutputParser\n",
        "from langchain_core.runnables import RunnablePassthrough\n",
        "from langchain_text_splitters import RecursiveCharacterTextSplitter\n",
        "from langchain_community.utils.math import cosine_similarity\n",
        "\n",
        "from langchain_community.document_loaders import ArxivLoader\n",
        "from langchain_community.document_loaders import TextLoader\n",
        "from langchain_community.document_loaders import WikipediaLoader\n",
        "from langchain_community.document_loaders import OnlinePDFLoader\n",
        "from langchain_community.document_loaders import PyMuPDFLoader\n",
        "from langchain_community.document_loaders import PubMedLoader\n",
        "\n",
        "# from langchain_community.chat_models import ChatCohere\n",
        "from langchain_cohere import ChatCohere\n",
        "\n",
        "from google.colab import userdata"
      ]
    },
    {
      "cell_type": "code",
      "execution_count": 3,
      "metadata": {
        "id": "faZ5fLk_xxAO"
      },
      "outputs": [],
      "source": [
        "locale.getpreferredencoding = lambda: \"UTF-8\""
      ]
    },
    {
      "cell_type": "code",
      "execution_count": 4,
      "metadata": {
        "id": "Stlb_ciPxxWA"
      },
      "outputs": [],
      "source": [
        "%%capture\n",
        "!pip install sentence_transformers"
      ]
    },
    {
      "cell_type": "markdown",
      "metadata": {
        "id": "xJWr9TkCa7gG"
      },
      "source": [
        "Add your keys from the secret store (do **NOT** print them out or leave them exposed as plaintext in your notebook!):"
      ]
    },
    {
      "cell_type": "code",
      "execution_count": 5,
      "metadata": {
        "id": "ll9IqkVMa7qP"
      },
      "outputs": [],
      "source": [
        "COHERE_API_KEY = userdata.get('COHERE_API_KEY')"
      ]
    },
    {
      "cell_type": "markdown",
      "metadata": {
        "id": "xlSHHPW-f3ZL"
      },
      "source": [
        "##2. Building the Components of our RAG System\n",
        "\n",
        "Let us introduce and test the base components of our RAG system. We will largely use the Hugging Face and LangChan libraries.\n",
        "\n"
      ]
    },
    {
      "cell_type": "markdown",
      "metadata": {
        "id": "6N3fqR5vKV9b"
      },
      "source": [
        "###2.1 The Embedding Model\n",
        "\n",
        "We will need to represent text (pieces) as vectors. For this, we will use the sentence_transformer architecture.\n",
        "\n",
        "**NOTE:** The models you can use are: 'all-MiniLM-L6-v2', 'multi-qa-mpnet-base-dot-v1' and 'avsolatorio/GIST-Embedding-v0'\n",
        "\n"
      ]
    },
    {
      "cell_type": "code",
      "execution_count": 6,
      "metadata": {
        "id": "m_AqjidjKWif"
      },
      "outputs": [],
      "source": [
        "%%capture\n",
        "base_embeddings = HuggingFaceEmbeddings(model_name=\"multi-qa-mpnet-base-dot-v1\")"
      ]
    },
    {
      "cell_type": "code",
      "execution_count": 7,
      "metadata": {
        "id": "Cgzrqje8PN8S",
        "colab": {
          "base_uri": "https://localhost:8080/"
        },
        "outputId": "d8e2153c-b329-4ba2-f471-0ff21a9a551b"
      },
      "outputs": [
        {
          "output_type": "stream",
          "name": "stdout",
          "text": [
            "Embedding dimension: 768\n"
          ]
        },
        {
          "output_type": "execute_result",
          "data": {
            "text/plain": [
              "2"
            ]
          },
          "metadata": {},
          "execution_count": 7
        }
      ],
      "source": [
        "text = \"This is a test document.\"\n",
        "query_result = base_embeddings.embed_query(text)\n",
        "print(f'Embedding dimension: {len(query_result)}')\n",
        "\n",
        "doc_result = base_embeddings.embed_documents([text, \"This is not a test document.\"])\n",
        "len(doc_result)"
      ]
    },
    {
      "cell_type": "markdown",
      "metadata": {
        "id": "fAp4fF5dPhbM"
      },
      "source": [
        "That looks reasonable. This is how you should define your embedding models.\n",
        "\n",
        "Next, we turn to text chunks.\n",
        "\n",
        "###2.2. Loading and Chunking Texts\n",
        "\n",
        "We first need to load the documents. Here is an example:"
      ]
    },
    {
      "cell_type": "code",
      "execution_count": 8,
      "metadata": {
        "id": "4ak5XlaUP1cW"
      },
      "outputs": [],
      "source": [
        "loader = WebBaseLoader(\n",
        "    web_paths=(\"https://lilianweng.github.io/posts/2023-06-23-agent/\",),\n",
        "    bs_kwargs=dict(\n",
        "        parse_only=bs4.SoupStrainer(\n",
        "            class_=(\"post-content\", \"post-title\", \"post-header\")\n",
        "        )\n",
        "    ),\n",
        ")\n",
        "\n",
        "documents = loader.load()"
      ]
    },
    {
      "cell_type": "markdown",
      "metadata": {
        "id": "cZXtDqKcQHlT"
      },
      "source": [
        "We will need to split the  text in chunks that are 'suitable' as retrieval units. Let's for starters define a chunk size of 128 and have no overlap between the chunks:  \n"
      ]
    },
    {
      "cell_type": "code",
      "execution_count": 9,
      "metadata": {
        "id": "qhcWoTajQnw6",
        "colab": {
          "base_uri": "https://localhost:8080/"
        },
        "outputId": "7081fb64-2cfb-466a-a0b3-3e13577a0508"
      },
      "outputs": [
        {
          "output_type": "stream",
          "name": "stdout",
          "text": [
            "Number of splits/chunks:  441\n"
          ]
        }
      ],
      "source": [
        "text_splitter = RecursiveCharacterTextSplitter(chunk_size=128, chunk_overlap=0)\n",
        "splits = text_splitter.split_documents(documents)\n",
        "print('Number of splits/chunks: ', str(len(splits)))"
      ]
    },
    {
      "cell_type": "markdown",
      "metadata": {
        "id": "OUrNISkVRB_U"
      },
      "source": [
        "Ok, so it looks like we have now many splits (chunks) from one document. Here is how you can get the content:"
      ]
    },
    {
      "cell_type": "code",
      "execution_count": 10,
      "metadata": {
        "id": "du9avBkhP1ll",
        "colab": {
          "base_uri": "https://localhost:8080/",
          "height": 35
        },
        "outputId": "d7788e97-4408-42b5-c812-8f597df66b1c"
      },
      "outputs": [
        {
          "output_type": "execute_result",
          "data": {
            "text/plain": [
              "'correcting previous mistakes. It plays a crucial role in real-world tasks where trial and error are inevitable.'"
            ],
            "application/vnd.google.colaboratory.intrinsic+json": {
              "type": "string"
            }
          },
          "metadata": {},
          "execution_count": 10
        }
      ],
      "source": [
        "splits[39].page_content"
      ]
    },
    {
      "cell_type": "markdown",
      "metadata": {
        "id": "Z-RuP_9xRVtG"
      },
      "source": [
        "Perfect. Now we have the splits and embeddings. Next, the embeddings need to be stores in a vector db.\n",
        "\n",
        "###2.3 Storing the Embeddings of Chunks in Vectorstores\n",
        "\n",
        "After loading and chunking the data, we need to save the vector representations of the chunks in a vectorstore. We will use Qdrant here for simplicity. We load the splits (structured chunks) and the embeddings:"
      ]
    },
    {
      "cell_type": "code",
      "execution_count": 11,
      "metadata": {
        "id": "9T3FVDoJRglN"
      },
      "outputs": [],
      "source": [
        "vectorstore = Qdrant.from_documents(splits,\n",
        "    base_embeddings,\n",
        "    location=\":memory:\",  # Local mode with in-memory storage only\n",
        "    collection_name=\"test\",\n",
        ")\n",
        "retriever = vectorstore.as_retriever()"
      ]
    },
    {
      "cell_type": "markdown",
      "metadata": {
        "id": "ar4bpzJtRrio"
      },
      "source": [
        "The nice thing is that the vector store also does the similarity searches for us:"
      ]
    },
    {
      "cell_type": "code",
      "execution_count": 12,
      "metadata": {
        "id": "tiSqastIP1oT"
      },
      "outputs": [],
      "source": [
        "query = \"What is Chain of Thought doing?\"\n",
        "docs = vectorstore.similarity_search_by_vector(base_embeddings.embed_query(query)) # will rank the splits"
      ]
    },
    {
      "cell_type": "code",
      "execution_count": 13,
      "metadata": {
        "id": "k7CO0lvSR0MA",
        "colab": {
          "base_uri": "https://localhost:8080/"
        },
        "outputId": "9faf55cd-92de-4c17-b4cc-3ebfc4efd57a"
      },
      "outputs": [
        {
          "output_type": "execute_result",
          "data": {
            "text/plain": [
              "[Document(page_content='the model’s thinking process.', metadata={'source': 'https://lilianweng.github.io/posts/2023-06-23-agent/', '_id': 'b72836903a7b4a37b594199135fa7a67', '_collection_name': 'test'}),\n",
              " Document(page_content='[1] Wei et al. “Chain of thought prompting elicits reasoning in large language models.” NeurIPS 2022', metadata={'source': 'https://lilianweng.github.io/posts/2023-06-23-agent/', '_id': 'b1a5851b82e4454c818dfeb0e69836a9', '_collection_name': 'test'}),\n",
              " Document(page_content='the problem into multiple thought steps and generates multiple thoughts per step, creating a tree structure. The search process', metadata={'source': 'https://lilianweng.github.io/posts/2023-06-23-agent/', '_id': 'e057a37368c048e6ae249f0e12e0ef51', '_collection_name': 'test'}),\n",
              " Document(page_content='Chain of thought (CoT; Wei et al. 2022) has become a standard prompting technique for enhancing model performance on complex', metadata={'source': 'https://lilianweng.github.io/posts/2023-06-23-agent/', '_id': '4b6fbf8ec6cd433a8d6fcaa984fc69e7', '_collection_name': 'test'})]"
            ]
          },
          "metadata": {},
          "execution_count": 13
        }
      ],
      "source": [
        "docs"
      ]
    },
    {
      "cell_type": "markdown",
      "metadata": {
        "id": "yyypf-VZRsxg"
      },
      "source": [
        "Looks good! We have an ordered list of documents that seem to relate to the question. That is what we need.\n",
        "\n",
        "The last major component is the actual LLM."
      ]
    },
    {
      "cell_type": "markdown",
      "metadata": {
        "id": "lDDom9EbKXCX"
      },
      "source": [
        "###2.4. The LLM\n",
        "\n",
        "We will use one Open Source Model (\"mistralai/Mistral-7B-Instruct-v0.1\") and one Proprietery Model (Cohere) for our tests. Let's first set up the OS model:"
      ]
    },
    {
      "cell_type": "code",
      "execution_count": 14,
      "metadata": {
        "id": "YooxnCPNOoQ7",
        "colab": {
          "base_uri": "https://localhost:8080/",
          "height": 386,
          "referenced_widgets": [
            "4a2b00372048417ab3a09b53027c592d",
            "e8397006857d4a088f10c918ad759990",
            "34a5f42203c64cae97ad61ab3d67d428",
            "889105e4fe3545ceb0ef448ffbf3c44d",
            "2a8c895cccee4a5a8dfbcd73541cb16f",
            "4a0195d9f21540578e6a59cf6c926b9e",
            "1ffccaa321ed435283337d0abfc9142a",
            "e98d0f5cc30a45bfab4a5a6f5b4b35da",
            "260f8958d93043d18c860a22f0f1651f",
            "ec38bd4e755743cb971cbd6f0d306f01",
            "bc7e81fa917c44c594ae7f0308233b84",
            "35d4a145fea8448a8815d745bc478179",
            "5002a99deaa14e0993206ffecb21213a",
            "14d668aee50541139492f7e713c932a4",
            "03deceff7fbe4f20b26c12e848441876",
            "6d71e3d03563420eb9672936e9dd8923",
            "dfc190190bc8454da8002b9bdef29735",
            "aedea8d3f0194ec79d911573834e69d0",
            "3bb576cb55db41cc8cbe8a391abed2a1",
            "13856000d7a348ebbf0b71f3869e0d10",
            "098c3a06ee48428eb805e391b3da8c7e",
            "91b2e64cea544e2db1c236984b3025e7",
            "e9eba3e2139e40e8ac1b7c91c243313f",
            "cdc396934c8e4334aad06b53ffa773d0",
            "0ac5c14fbf9841f9a3ee70d9e4dcd65e",
            "e39895a7a09b4bb795ab3b8583349564",
            "18ab4e8b3f54412ca27e8d81303293c2",
            "3a9a35f8220e488b95ec9f7e0d0fc295",
            "85fddf9c0bc2428d979812598a67dbf1",
            "1fb5433cf0354096be204bab216e3cc6",
            "0cd4f540105c4b9b868f71704aae44df",
            "fcde3dc551e64722b82d14b2b2fb84ac",
            "16d7c9abaf6743ff831a887d53ca09b5",
            "970fb2693ede48b5a31ac7f13664208e",
            "8c7b4ea2fcec4ce59d41a74eaa6e2d53",
            "40f72e8ce86c45b789abe732a18898a0",
            "f033310fdb59443cbad28dc1b3c60d2f",
            "4c4925dcb0ce4719873ddb94831f3092",
            "810662876278400c8a4670db79477030",
            "75c972a8899e4839ae7f6580d6852cbc",
            "c51a7523f8d540bca603838980fbe73f",
            "caf9fdda96514a7b9ae94008dcadb582",
            "4f02f764573744108a692fcb7a670d17",
            "31d90bb4b2f64b10afd865290f6d9835",
            "569af3786ab147038b39d6cfaca28102",
            "4222d624b37848dd93ddfcde80e1547b",
            "24d0723aaae44183be8e908d4d28c367",
            "ee95c54965aa41a38be262f806386962",
            "8128ba87dfe642378b9c19276267560a",
            "bc20e7b645bf49649d78fb8c86c82650",
            "5e36942c18ad4c54983d71c6045d73f6",
            "22f0750bae1b4064b4f0e9a8f8b84181",
            "757281ef5c9a460e8ee8e605fca6dbd5",
            "ff3e4450f49d470c89a24a6741f63199",
            "2734c52051374ab7b9e61810b0c7e926",
            "924d063f831b4f469e2f84173f2aa94f",
            "5e2a4bfc953d48409b5907529eb2bda6",
            "36bdb109470e4d548c80fa659893a708",
            "beef0e3b7a144c7ca4efd7642dda47fe",
            "6c468aaae5e84f2b82232c8006c8d663",
            "95383f9222374489bcde3fdd8122c975",
            "b45848e8ed624dcc92016a3f0d9ddf53",
            "07413498dc2140bc8ddf45fb6aca79c5",
            "38805a2d4b1b4c209228ce490092a04f",
            "f8b7197ecebf4930a3e452a7d816f879",
            "59debb8b01b44546910bc3a9c609db7e",
            "97b23c4326a64b91b90642fe7b4af35c",
            "8b9a4129367c4df88bcabccb7e85db02",
            "ebcc1610635542278cec1037d95ea045",
            "41b292a72ac944b0ac08a4d9fcb3aa5f",
            "b2e67772c8ca466a8df5601343e68e7e",
            "0c643b76a1c24599a1aeade970cc5201",
            "09f384566c1b474b999320c0e25bff34",
            "da3a3921b4a84efface74c9234e99610",
            "8583ae3177bb4098875cf1e2024d576a",
            "f360012302f84c14a3cc266fb5919e7a",
            "1e9ee73140e9424491c174434b166a5e",
            "e77c7f603d924242811e9550fd3dd5e7",
            "95e8ca1896294560a193d30e29d3bde9",
            "04c688b6ef4b46c287d301dc9242882b",
            "a6ba93119c4e4549949c3e1111cd221e",
            "d7da91ab7e35485196feaf95b48675bc",
            "3e98e3b04b0f48f3a56ebfadc03ff6ed",
            "37626b7282b54eb08865571f19c4b1d0",
            "51976ec989164ff3860a0964518d4586",
            "7a68e14b173d49ae8e73d52f69c81022",
            "9b2cbdaa40fe4ef6ab65d69b536103be",
            "e9160809103941998f44d8bc232bff16",
            "19620634c4f14c0abf8cc2b0b842e296",
            "8e2419ef47514a27946f35f617bfb8a2",
            "790267ed062a4c60bd9dac4da44b6e59",
            "86b71abd55144b20988efff0d43e2bca",
            "9d5e808104ad4866bb53a63c5d8773c1",
            "90325fd6e851443caf50839be3e13d01",
            "c8564873bada4953b2a5474a8e40ad7e",
            "43bd45ed8d5c4511b94a3ec3287c68ad",
            "ddf780833a6f488b844cb3e7cdaae794",
            "c6eb3b6ea6cd4d728a94dfa041d918ff",
            "b9301c2d79724eb3876ba4de50e4b9d5",
            "c88d5be222944294909051c76e1c98d7",
            "67f5182d02b24ab087da4deae4c2998f",
            "db53635b2e114cca878031af3ecd3628",
            "f96c136d880b4057aa1f782d54e534c8",
            "9d10c80e80f74654a8cfa1971dede879",
            "8fada19f81bd43e88b1fc3edaf84d673",
            "4877f1f513244a578e6db3db562cc985",
            "038e8057a01549339e34f0c6e3607a1e",
            "da6050916b5b451fb1b969ee8caead1c",
            "32a5f57ec09b486d8727ba89c717b6c4",
            "60d84e9bbf87479b9977555ed7b078b1",
            "261efa176bcb4c14b4972e86f8532f03",
            "79cfb53af9cd4946936f6e398c9760e6",
            "7c7ede61743e484eb86e221942b659b7",
            "858d0671818d4a399092354721314661",
            "75f024481f364b13b331e6c95d9716ac",
            "9349d47bde3b46a6aa88c5159b6bfa06",
            "5d0715f3f02048979c5d6092a6e2b2c7",
            "988b37c9178c48358e35b9ce08374729",
            "e4608693601246f99470a7888b8c08d9",
            "8d083083993846bf9283c116d0392964",
            "7e1a80539c4c49a6af50ee2ea0967407"
          ]
        },
        "outputId": "fad4285c-d730-4a76-b0a3-019aa5a6872b"
      },
      "outputs": [
        {
          "output_type": "stream",
          "name": "stderr",
          "text": [
            "Unused kwargs: ['llm_int4_enable_fp32_cpu_offload']. These kwargs are not used in <class 'transformers.utils.quantization_config.BitsAndBytesConfig'>.\n"
          ]
        },
        {
          "output_type": "display_data",
          "data": {
            "text/plain": [
              "config.json:   0%|          | 0.00/571 [00:00<?, ?B/s]"
            ],
            "application/vnd.jupyter.widget-view+json": {
              "version_major": 2,
              "version_minor": 0,
              "model_id": "4a2b00372048417ab3a09b53027c592d"
            }
          },
          "metadata": {}
        },
        {
          "output_type": "display_data",
          "data": {
            "text/plain": [
              "model.safetensors.index.json:   0%|          | 0.00/25.1k [00:00<?, ?B/s]"
            ],
            "application/vnd.jupyter.widget-view+json": {
              "version_major": 2,
              "version_minor": 0,
              "model_id": "35d4a145fea8448a8815d745bc478179"
            }
          },
          "metadata": {}
        },
        {
          "output_type": "display_data",
          "data": {
            "text/plain": [
              "Downloading shards:   0%|          | 0/2 [00:00<?, ?it/s]"
            ],
            "application/vnd.jupyter.widget-view+json": {
              "version_major": 2,
              "version_minor": 0,
              "model_id": "e9eba3e2139e40e8ac1b7c91c243313f"
            }
          },
          "metadata": {}
        },
        {
          "output_type": "display_data",
          "data": {
            "text/plain": [
              "model-00001-of-00002.safetensors:   0%|          | 0.00/9.94G [00:00<?, ?B/s]"
            ],
            "application/vnd.jupyter.widget-view+json": {
              "version_major": 2,
              "version_minor": 0,
              "model_id": "970fb2693ede48b5a31ac7f13664208e"
            }
          },
          "metadata": {}
        },
        {
          "output_type": "display_data",
          "data": {
            "text/plain": [
              "model-00002-of-00002.safetensors:   0%|          | 0.00/4.54G [00:00<?, ?B/s]"
            ],
            "application/vnd.jupyter.widget-view+json": {
              "version_major": 2,
              "version_minor": 0,
              "model_id": "569af3786ab147038b39d6cfaca28102"
            }
          },
          "metadata": {}
        },
        {
          "output_type": "display_data",
          "data": {
            "text/plain": [
              "Loading checkpoint shards:   0%|          | 0/2 [00:00<?, ?it/s]"
            ],
            "application/vnd.jupyter.widget-view+json": {
              "version_major": 2,
              "version_minor": 0,
              "model_id": "924d063f831b4f469e2f84173f2aa94f"
            }
          },
          "metadata": {}
        },
        {
          "output_type": "display_data",
          "data": {
            "text/plain": [
              "generation_config.json:   0%|          | 0.00/116 [00:00<?, ?B/s]"
            ],
            "application/vnd.jupyter.widget-view+json": {
              "version_major": 2,
              "version_minor": 0,
              "model_id": "97b23c4326a64b91b90642fe7b4af35c"
            }
          },
          "metadata": {}
        },
        {
          "output_type": "display_data",
          "data": {
            "text/plain": [
              "tokenizer_config.json:   0%|          | 0.00/1.47k [00:00<?, ?B/s]"
            ],
            "application/vnd.jupyter.widget-view+json": {
              "version_major": 2,
              "version_minor": 0,
              "model_id": "e77c7f603d924242811e9550fd3dd5e7"
            }
          },
          "metadata": {}
        },
        {
          "output_type": "display_data",
          "data": {
            "text/plain": [
              "tokenizer.model:   0%|          | 0.00/493k [00:00<?, ?B/s]"
            ],
            "application/vnd.jupyter.widget-view+json": {
              "version_major": 2,
              "version_minor": 0,
              "model_id": "19620634c4f14c0abf8cc2b0b842e296"
            }
          },
          "metadata": {}
        },
        {
          "output_type": "display_data",
          "data": {
            "text/plain": [
              "tokenizer.json:   0%|          | 0.00/1.80M [00:00<?, ?B/s]"
            ],
            "application/vnd.jupyter.widget-view+json": {
              "version_major": 2,
              "version_minor": 0,
              "model_id": "c88d5be222944294909051c76e1c98d7"
            }
          },
          "metadata": {}
        },
        {
          "output_type": "display_data",
          "data": {
            "text/plain": [
              "special_tokens_map.json:   0%|          | 0.00/72.0 [00:00<?, ?B/s]"
            ],
            "application/vnd.jupyter.widget-view+json": {
              "version_major": 2,
              "version_minor": 0,
              "model_id": "261efa176bcb4c14b4972e86f8532f03"
            }
          },
          "metadata": {}
        }
      ],
      "source": [
        "# %%capture\n",
        "\n",
        "quantization_config = BitsAndBytesConfig(load_in_4bit=True,\n",
        "                                         llm_int4_enable_fp32_cpu_offload=True)\n",
        "\n",
        "\n",
        "llm_mistral_model = AutoModelForCausalLM.from_pretrained(\n",
        "    \"mistralai/Mistral-7B-Instruct-v0.1\",\n",
        "    torch_dtype=torch.float32,\n",
        "    device_map='auto',\n",
        "    quantization_config=quantization_config\n",
        ")\n",
        "\n",
        "llm_mistral_tokenizer = AutoTokenizer.from_pretrained(\"mistralai/Mistral-7B-Instruct-v0.1\")"
      ]
    },
    {
      "cell_type": "markdown",
      "metadata": {
        "id": "ZVGOr2cV_q6I"
      },
      "source": [
        "We use the model first to generate a Hugging Face pipeline. A pipeline simplifies the process of actually generating responses."
      ]
    },
    {
      "cell_type": "code",
      "execution_count": 15,
      "metadata": {
        "id": "Rvxo5OKwvjNN"
      },
      "outputs": [],
      "source": [
        "mistral_pipe = pipeline(\n",
        "    \"text-generation\",\n",
        "    model=llm_mistral_model,\n",
        "    tokenizer=llm_mistral_tokenizer,\n",
        "    max_length=10000,\n",
        "    temperature=0.6,\n",
        "    top_p=0.95,\n",
        "    do_sample=True,\n",
        "    repetition_penalty=1.2\n",
        ")\n",
        "mistral_pipe.model.config.pad_token_id = mistral_pipe.model.config.eos_token_id\n"
      ]
    },
    {
      "cell_type": "markdown",
      "metadata": {
        "id": "kOHYPzDiTRIK"
      },
      "source": [
        "Does it work?"
      ]
    },
    {
      "cell_type": "code",
      "execution_count": 16,
      "metadata": {
        "id": "wAUHEvq_TRSv",
        "colab": {
          "base_uri": "https://localhost:8080/"
        },
        "outputId": "686fe5ad-c0b5-4eea-b66e-a6b6224e2d49"
      },
      "outputs": [
        {
          "output_type": "stream",
          "name": "stderr",
          "text": [
            "Setting `pad_token_id` to `eos_token_id`:2 for open-end generation.\n"
          ]
        },
        {
          "output_type": "execute_result",
          "data": {
            "text/plain": [
              "[{'generated_text': '[INST]Give me a two-sentence story about an apple![/INST] Once upon a time, there was a little red apple that grew on a beautiful tree in the orchard. One day, a hungry bird came and plucked the apple from the branch, savoring its sweet taste as it flew away.'}]"
            ]
          },
          "metadata": {},
          "execution_count": 16
        }
      ],
      "source": [
        "mistral_pipe(\"[INST]Give me a two-sentence story about an apple![/INST]\")"
      ]
    },
    {
      "cell_type": "markdown",
      "metadata": {
        "id": "Sh-60AEBTODZ"
      },
      "source": [
        "Reasonable!\n",
        "\n",
        "We will also use a Cohere model, but will create this below as part of the LangChain framework.\n",
        "\n",
        "###2.5 Testing the LLM in a LangChain Chain\n",
        "\n",
        "Chains will be defined and discussed in Week 11. In short, they are convenient programmatic ways to deal with 'chains' of actions that involve LLMs. For example, a list of events like 'here is a city name. Plug that city name into prompt template, then generate a story about that city. Lastly, format the model output as a string' can be easily handled by LangChain's Chain framework. In this case, the Chain would consist of the prompt template, the LLM, and the String Formatter. The parameter (the city in this case) will be provided at run time by invocation of the Chain. Let's test that.\n",
        "\n",
        "To use a Hugging Face model in a LangChain environment, we need to wrap the model into a LangChain pipeline object:"
      ]
    },
    {
      "cell_type": "code",
      "execution_count": 17,
      "metadata": {
        "id": "P1LSyyFmTOYP"
      },
      "outputs": [],
      "source": [
        "mistral_llm_lc = HuggingFacePipeline(pipeline=mistral_pipe)"
      ]
    },
    {
      "cell_type": "markdown",
      "metadata": {
        "id": "3FkQde8yZYqZ"
      },
      "source": [
        "Next, we need to define a template and create a corresponding prompt template that can take any questiion"
      ]
    },
    {
      "cell_type": "code",
      "execution_count": 18,
      "metadata": {
        "id": "dh3R9445K5ct"
      },
      "outputs": [],
      "source": [
        "test_llm_template = \"\"\"[INST] Give me a two-sentence story about an {object}! [/INST]\"\"\"\n",
        "test_llm_prompt_template = PromptTemplate(template=test_llm_template, input_variables=[\"object\"])"
      ]
    },
    {
      "cell_type": "markdown",
      "metadata": {
        "id": "_V6PO2LISDbT"
      },
      "source": [
        "Let's define a Chain, a static flow of actions that (usually) involve at least a definition of the variables used in the chain, one or more templates, LLM step(s) and potentially other actions. This would be a chain that declares the variable 'object' to be expected when the chain is invoked, then inserts it into the template, and passes this to our mistral model pipeline (wrapped as a LangChain object):    "
      ]
    },
    {
      "cell_type": "code",
      "execution_count": 19,
      "metadata": {
        "id": "aSvSoD7hZb4Z"
      },
      "outputs": [],
      "source": [
        "test_llm_chain_short = (\n",
        "    {\"object\": RunnablePassthrough()}\n",
        "    | test_llm_prompt_template\n",
        "    | mistral_llm_lc\n",
        ")"
      ]
    },
    {
      "cell_type": "code",
      "execution_count": 20,
      "metadata": {
        "id": "jH8lUWWSZ-9n",
        "colab": {
          "base_uri": "https://localhost:8080/",
          "height": 70
        },
        "outputId": "d1f8478f-c1a5-464f-f337-7cce5952f35f"
      },
      "outputs": [
        {
          "output_type": "stream",
          "name": "stderr",
          "text": [
            "Setting `pad_token_id` to `eos_token_id`:2 for open-end generation.\n"
          ]
        },
        {
          "output_type": "execute_result",
          "data": {
            "text/plain": [
              "'[INST] Give me a two-sentence story about an apple! [/INST] Once upon a time, there was a bright red apple that grew on a lush tree in the heart of an enchanted orchard. One day, a curious little girl stumbled upon the apple and took a bite, instantly transported to a world of magic and wonder.'"
            ],
            "application/vnd.google.colaboratory.intrinsic+json": {
              "type": "string"
            }
          },
          "metadata": {},
          "execution_count": 20
        }
      ],
      "source": [
        "test_llm_chain_short.invoke('apple')"
      ]
    },
    {
      "cell_type": "markdown",
      "metadata": {
        "id": "SYeKmOoMaSKS"
      },
      "source": [
        "Works too. We will use this notation moving forward.\n",
        "\n",
        "Next, how would we do this with a Cohere Chat Model instead of Mistral?"
      ]
    },
    {
      "cell_type": "code",
      "execution_count": 21,
      "metadata": {
        "id": "JROGul-gZcAU"
      },
      "outputs": [],
      "source": [
        "cohere_chat_model = ChatCohere(cohere_api_key=COHERE_API_KEY)"
      ]
    },
    {
      "cell_type": "markdown",
      "metadata": {
        "id": "-h3DW_bBfPsI"
      },
      "source": [
        "This can be plugged straight into the Chain:"
      ]
    },
    {
      "cell_type": "code",
      "execution_count": 22,
      "metadata": {
        "id": "AJ5bzWTVaZdO"
      },
      "outputs": [],
      "source": [
        "test_cohere_llm_chain_short = (\n",
        "    {\"object\": RunnablePassthrough()}\n",
        "    | test_llm_prompt_template\n",
        "    | cohere_chat_model\n",
        ")"
      ]
    },
    {
      "cell_type": "code",
      "execution_count": 23,
      "metadata": {
        "id": "ZldFGowOciCk",
        "colab": {
          "base_uri": "https://localhost:8080/"
        },
        "outputId": "3fc0baa7-1337-4558-9455-01721a212214"
      },
      "outputs": [
        {
          "output_type": "execute_result",
          "data": {
            "text/plain": [
              "AIMessage(content=\"The apple, once bitter and unappealing, fell from the tree and transformed into a sweet, juicy treat. Its once sour notes now a distant memory, it became a symbol of nature's surprising gifts.\", additional_kwargs={'documents': None, 'citations': None, 'search_results': None, 'search_queries': None, 'is_search_required': None, 'generation_id': '17f72a57-a8ae-4d87-89b6-1186fcb49a2c'}, response_metadata={'documents': None, 'citations': None, 'search_results': None, 'search_queries': None, 'is_search_required': None, 'generation_id': '17f72a57-a8ae-4d87-89b6-1186fcb49a2c'}, id='run-7f69457e-febc-4bf4-85a8-cc11f741465f-0')"
            ]
          },
          "metadata": {},
          "execution_count": 23
        }
      ],
      "source": [
        "test_cohere_llm_chain_short.invoke('apple')"
      ]
    },
    {
      "cell_type": "markdown",
      "metadata": {
        "id": "1CasSDdMnF8z"
      },
      "source": [
        "Works! (Note: you may want to review the format of the template. The one we used here is the one from Mistral, and the format may or may not be optimal for Cohere.)\n",
        "\n",
        "How can we get the output formatting under control? We can add a String Formatter to the chain:\n"
      ]
    },
    {
      "cell_type": "code",
      "execution_count": 24,
      "metadata": {
        "id": "3rSDhR5AeR7_",
        "colab": {
          "base_uri": "https://localhost:8080/",
          "height": 53
        },
        "outputId": "a85ab2ef-2d82-4094-9282-f1444eb6d46b"
      },
      "outputs": [
        {
          "output_type": "execute_result",
          "data": {
            "text/plain": [
              "'The apple, once bitter and unappealing, transformed into a sweet, juicy delight after a long, sunny summer. It was then that the farmer knew his hard work had paid off, and he could finally reap the rewards of his labor.'"
            ],
            "application/vnd.google.colaboratory.intrinsic+json": {
              "type": "string"
            }
          },
          "metadata": {},
          "execution_count": 24
        }
      ],
      "source": [
        "output_parser = StrOutputParser()\n",
        "\n",
        "test_cohere_llm_chain_short_formatted = (\n",
        "    {\"object\": RunnablePassthrough()}\n",
        "    | test_llm_prompt_template\n",
        "    | cohere_chat_model\n",
        "    | output_parser\n",
        ")\n",
        "\n",
        "test_cohere_llm_chain_short_formatted.invoke('apple')"
      ]
    },
    {
      "cell_type": "markdown",
      "metadata": {
        "id": "ry1S5W_ueSWt"
      },
      "source": [
        "###2.6 Setting Up a Simple RAG Chain\n",
        "\n",
        "For RAG, we will follow the same approach. Except... you will **later** need to change the chain to include the retrieval step.\n",
        "\n",
        "We first do a simple test: create a RAG template that takes a question and a pre-defined context as input, and generates the answer based on the provided context:"
      ]
    },
    {
      "cell_type": "code",
      "execution_count": 25,
      "metadata": {
        "id": "qrSx3gFlncAO",
        "colab": {
          "base_uri": "https://localhost:8080/"
        },
        "outputId": "e585c79f-b4d8-4dbf-ba67-8112013e97f9"
      },
      "outputs": [
        {
          "output_type": "stream",
          "name": "stderr",
          "text": [
            "Setting `pad_token_id` to `eos_token_id`:2 for open-end generation.\n"
          ]
        },
        {
          "output_type": "stream",
          "name": "stdout",
          "text": [
            "Human: [INST] Answer the question based only on the following context:\n",
            "{'context': 'Germany has won the World Cup 4 times.', 'question': 'How many times did Germany win the world cup?'}\n",
            "\n",
            "Question: {'context': 'Germany has won the World Cup 4 times.', 'question': 'How many times did Germany win the world cup?'}\n",
            "[/INST]\n",
            "Answer: Germany won the World Cup 4 times.\n"
          ]
        }
      ],
      "source": [
        "rag_template = \"\"\"[INST] Answer the question based only on the following context:\n",
        "{context}\n",
        "\n",
        "Question: {question}\n",
        "[/INST]\n",
        "\"\"\"\n",
        "rag_prompt_template = ChatPromptTemplate.from_template(rag_template)\n",
        "\n",
        "base_rag_chain =(\n",
        "    {\"context\": RunnablePassthrough(),\n",
        "     \"question\": RunnablePassthrough()}\n",
        "    | rag_prompt_template\n",
        "    | mistral_llm_lc\n",
        "    | output_parser\n",
        ")\n",
        "\n",
        "predefined_context = \"Germany has won the World Cup 4 times.\"\n",
        "question = \"How many times did Germany win the world cup?\"\n",
        "\n",
        "resp = base_rag_chain.invoke({'context': predefined_context,\n",
        "                           'question': question})\n",
        "print(resp)"
      ]
    },
    {
      "cell_type": "markdown",
      "metadata": {
        "id": "Maq5x1jDhJiX"
      },
      "source": [
        "That's great. But of course, the context needs to be created in an earlier retrieval step. More precisely, the documents will be first retrieved as a list, and then they will need to be formatted into one string to pass to the LLM in the context window.\n",
        "\n",
        "Here is a simple formatting function that can be hooked into the chain, which combines a list of chunks into one string:\n",
        "\n"
      ]
    },
    {
      "cell_type": "code",
      "execution_count": 26,
      "metadata": {
        "id": "3VUMkGithJtY"
      },
      "outputs": [],
      "source": [
        "def format_docs(docs):\n",
        "    return \"\\n\\n\".join(doc.page_content for doc in docs)"
      ]
    },
    {
      "cell_type": "markdown",
      "metadata": {
        "id": "xv0wLvGQhJ5R"
      },
      "source": [
        "So how could we build a simple chain? Let's first just get the retrieval done and the formatted retrieved data and the question inserted into the prompt template:"
      ]
    },
    {
      "cell_type": "code",
      "execution_count": 27,
      "metadata": {
        "id": "_UiGHgRLhKEZ"
      },
      "outputs": [],
      "source": [
        "rag_template = \"\"\"Here is a context:\\n{context} \\n\\nand here is a question: \\n{question}\"\"\"\n",
        "\n",
        "rag_prompt = ChatPromptTemplate.from_template(rag_template)\n",
        "\n",
        "rag_chain = (\n",
        "    {\"context\": retriever | format_docs,\n",
        "     \"question\": RunnablePassthrough()}\n",
        "    | rag_prompt\n",
        "\n",
        "\n",
        ")"
      ]
    },
    {
      "cell_type": "code",
      "execution_count": 28,
      "metadata": {
        "id": "sVRdhLzwjYk6"
      },
      "outputs": [],
      "source": [
        "output = rag_chain.invoke('What is Chain of Thought?')"
      ]
    },
    {
      "cell_type": "markdown",
      "metadata": {
        "id": "m8UynrWikgPc"
      },
      "source": [
        "Ok... with some formatting... this looks good:"
      ]
    },
    {
      "cell_type": "code",
      "execution_count": 29,
      "metadata": {
        "id": "UjlKfsrljYnn",
        "colab": {
          "base_uri": "https://localhost:8080/"
        },
        "outputId": "66597425-bc0c-4a01-a6e7-2c48fb14547e"
      },
      "outputs": [
        {
          "output_type": "stream",
          "name": "stdout",
          "text": [
            "Here is a context:\n",
            "the model’s thinking process.\n",
            "\n",
            "[1] Wei et al. “Chain of thought prompting elicits reasoning in large language models.” NeurIPS 2022\n",
            "\n",
            "the problem into multiple thought steps and generates multiple thoughts per step, creating a tree structure. The search process\n",
            "\n",
            "Tree of Thoughts (Yao et al. 2023) extends CoT by exploring multiple reasoning possibilities at each step. It first decomposes \n",
            "\n",
            "and here is a question: \n",
            "What is Chain of Thought?\n"
          ]
        }
      ],
      "source": [
        "print(output.messages[0].content)"
      ]
    },
    {
      "cell_type": "markdown",
      "metadata": {
        "id": "kx0ZWB7Ul4x8"
      },
      "source": [
        "Let's complete the RAG Chain:"
      ]
    },
    {
      "cell_type": "code",
      "execution_count": 30,
      "metadata": {
        "id": "Qh9ZopW3jYqA"
      },
      "outputs": [],
      "source": [
        "output_parser = StrOutputParser()\n",
        "\n",
        "rag_template = \"\"\"[INST]Please answer the question below only based on the context information provided.\\n\\nHere is a context:\\n{context} \\n\\nHere is a question: \\n{question}.[/INST]\"\"\"\n",
        "rag_prompt = ChatPromptTemplate.from_template(rag_template)\n",
        "\n",
        "rag_chain = (\n",
        "    {\"context\": retriever | format_docs,\n",
        "     \"question\": RunnablePassthrough()}\n",
        "    | rag_prompt\n",
        "    | mistral_llm_lc\n",
        "\n",
        ")\n",
        "\n"
      ]
    },
    {
      "cell_type": "code",
      "execution_count": 31,
      "metadata": {
        "id": "_e_gx7lMjYse",
        "colab": {
          "base_uri": "https://localhost:8080/",
          "height": 122
        },
        "outputId": "8b8bfffd-4053-4654-8918-f78ecbaa8697"
      },
      "outputs": [
        {
          "output_type": "stream",
          "name": "stderr",
          "text": [
            "Setting `pad_token_id` to `eos_token_id`:2 for open-end generation.\n"
          ]
        },
        {
          "output_type": "execute_result",
          "data": {
            "text/plain": [
              "'Human: [INST]Please answer the question below only based on the context information provided.\\n\\nHere is a context:\\nthe model’s thinking process.\\n\\n[1] Wei et al. “Chain of thought prompting elicits reasoning in large language models.” NeurIPS 2022\\n\\nthe problem into multiple thought steps and generates multiple thoughts per step, creating a tree structure. The search process\\n\\nTree of Thoughts (Yao et al. 2023) extends CoT by exploring multiple reasoning possibilities at each step. It first decomposes \\n\\nHere is a question: \\nWhat is Chain of Thought?.[/INST] Chain of Thought refers to a method for generating text using large language models that involves breaking down complex problems into smaller, more manageable parts through a series of logical thought processes. This method uses a tree-like structure to represent the sequence of these thought processes, with each branch representing a different possible solution or approach to the problem.'"
            ],
            "application/vnd.google.colaboratory.intrinsic+json": {
              "type": "string"
            }
          },
          "metadata": {},
          "execution_count": 31
        }
      ],
      "source": [
        "rag_chain.invoke('What is Chain of Thought?')"
      ]
    },
    {
      "cell_type": "markdown",
      "metadata": {
        "id": "KfNT72j2mZw-"
      },
      "source": [
        "What about the Cohere models?"
      ]
    },
    {
      "cell_type": "code",
      "execution_count": 32,
      "metadata": {
        "id": "JHye-j_MjYvL"
      },
      "outputs": [],
      "source": [
        "cohere_rag_chain = (\n",
        "    {\"context\": retriever | format_docs,\n",
        "     \"question\": RunnablePassthrough()}\n",
        "    | rag_prompt\n",
        "    | cohere_chat_model\n",
        "    | output_parser\n",
        ")"
      ]
    },
    {
      "cell_type": "code",
      "execution_count": 33,
      "metadata": {
        "id": "YnVEnMmNmrgM",
        "colab": {
          "base_uri": "https://localhost:8080/",
          "height": 53
        },
        "outputId": "c6bc4624-6233-493c-db4f-25ceda6c79af"
      },
      "outputs": [
        {
          "output_type": "execute_result",
          "data": {
            "text/plain": [
              "\"Chain of Thought (CoT) is a prompting technique used to elicit reasoning in large language models. It involves decomposing a problem into multiple thought steps and generating multiple thoughts per step, creating a tree-like structure that represents the model's thinking process. This method enhances the model's ability to provide step-by-step explanations and improve its performance on complex reasoning tasks.\""
            ],
            "application/vnd.google.colaboratory.intrinsic+json": {
              "type": "string"
            }
          },
          "metadata": {},
          "execution_count": 33
        }
      ],
      "source": [
        "cohere_rag_chain.invoke('What is Chain of Thought?')"
      ]
    },
    {
      "cell_type": "markdown",
      "metadata": {
        "id": "gtgVF-T8nN9o"
      },
      "source": [
        "Works too! Time to build the real thing and do experimentation."
      ]
    },
    {
      "cell_type": "markdown",
      "metadata": {
        "id": "dM7gS9kGNOJp"
      },
      "source": [
        "##3. The RAG Model & Experimentation\n",
        "\n",
        "With this we can get started. First, we need to acquire the data, chunk it, vectorize it, and store the embeddings (and in this simple case also the docs) in our Qdrant vector db.\n",
        "\n",
        "\n",
        "###3.1 The Vector Database\n",
        "\n",
        "We will start by creating our datastore, Qdrant. Usually, you would deploy the vector db as a server, but in this case let's simply put everything in memory. Also, in this case we will store not only the embeddings but the whole document in the vector store. We will seed the store with the splits from the blog post we had used before.\n",
        "\n",
        "We will also create the retriever, which defines the way the documents are being retrieved. The retriever parameters define for example which method is used, how many docs are retrieved, etc. See [this LangChain link ](https://python.langchain.com/docs/modules/data_connection/retrievers/vectorstore)for more information.\n"
      ]
    },
    {
      "cell_type": "code",
      "execution_count": 34,
      "metadata": {
        "id": "aXxjbq6RsKq3"
      },
      "outputs": [],
      "source": [
        "qdrant_vectorstore = Qdrant.from_documents(splits,\n",
        "    base_embeddings,\n",
        "    location=\":memory:\",  # Local mode with in-memory storage only\n",
        "    collection_name=\"rag_tech_db\",\n",
        "    force_recreate=True\n",
        ")\n",
        "\n",
        "qdrant_vectorstore_dec_chunk = Qdrant.from_documents(splits,\n",
        "    base_embeddings,\n",
        "    location=\":memory:\",  # Local mode with in-memory storage only\n",
        "    collection_name=\"rag_tech_db_dec_chunk_w_overlap\",\n",
        "    force_recreate=True\n",
        ")\n",
        "\n",
        "qdrant_vectorstore_inc_chunk = Qdrant.from_documents(splits,\n",
        "    base_embeddings,\n",
        "    location=\":memory:\",  # Local mode with in-memory storage only\n",
        "    collection_name=\"rag_tech_db_inc_chunk_w_overlap\",\n",
        "    force_recreate=True\n",
        ")\n",
        "\n",
        "retriever = qdrant_vectorstore.as_retriever()\n",
        "retriever_dec_chunk = qdrant_vectorstore_dec_chunk.as_retriever()\n",
        "retriever_inc_chunk = qdrant_vectorstore_inc_chunk.as_retriever()"
      ]
    },
    {
      "cell_type": "markdown",
      "metadata": {
        "id": "GC9z0o5ZsLML"
      },
      "source": [
        "###3.2 Data Acquisition, Chunking, and Vectorization\n",
        "\n",
        "Now where we have our store we need to get the data into it. We will need to retrieve the data, create the chunks, then vectorize them, and finally store the vectors (along with the docs in this case) in the vector db.\n",
        "\n",
        "Let us first set chunk size and overlap, as well as the type of splitter. These are starting parameters and you may want to experiment with them:"
      ]
    },
    {
      "cell_type": "code",
      "execution_count": 35,
      "metadata": {
        "id": "V_BR4rgYrCGn"
      },
      "outputs": [],
      "source": [
        "#Note that these defaults may or may not be ideal!\n",
        "CHUNK_SIZE=128\n",
        "OVERLAP=0\n",
        "\n",
        "text_splitter = RecursiveCharacterTextSplitter(chunk_size=CHUNK_SIZE, chunk_overlap=OVERLAP)\n",
        "text_splitter_dec = RecursiveCharacterTextSplitter(chunk_size=50, chunk_overlap=10)\n",
        "text_splitter_inc = RecursiveCharacterTextSplitter(chunk_size=500, chunk_overlap=100)"
      ]
    },
    {
      "cell_type": "markdown",
      "metadata": {
        "id": "b-vhTZ_tvIvD"
      },
      "source": [
        "Now let's work with an actual document collection.  We will work with four types of documents:\n",
        "\n",
        "* A few papers from the ArXiv on RAG and NLP\n",
        "* A few blogs from Lily Weng that talk about Open Domain Question Answering and related topics\n",
        "* A number of Wikipedia articles on that topic\n",
        "\n",
        "To make testing easier  we'll define a global record number so we can trace back to see which chunk came from which specific document.\n"
      ]
    },
    {
      "cell_type": "code",
      "execution_count": 36,
      "metadata": {
        "id": "ZEmdCyqqx5kl"
      },
      "outputs": [],
      "source": [
        "#assign a unique number to each document we ingest\n",
        "global_doc_number = 1"
      ]
    },
    {
      "cell_type": "markdown",
      "metadata": {
        "id": "t_xFjAUSx7ES"
      },
      "source": [
        "First we'll grab some papers from ArXiv.  We'll grab the pdf files and get all of the pages as separate documents."
      ]
    },
    {
      "cell_type": "code",
      "execution_count": 37,
      "metadata": {
        "id": "s6Jj2vLAyxic"
      },
      "outputs": [],
      "source": [
        "arxiv_numbers = ('2005.11401', '2104.07567', '2104.09864', '2105.03011', '2106.09685', '2203.02155', '2211.09260', '2211.12561',\n",
        "                 '2212.09741', '2305.14314', '2305.18290', '2306.15595', '2309.08872', '2309.15217', '2310.06825', '2310.11511',\n",
        "                 '2311.08377', '2312.05708', '2401.06532', '2402.01306')"
      ]
    },
    {
      "cell_type": "code",
      "execution_count": 38,
      "metadata": {
        "id": "hq8ETxzzygTj"
      },
      "outputs": [],
      "source": [
        "all_arxiv_pages = []\n",
        "\n",
        "#loop through the papers\n",
        "for identifier in arxiv_numbers:\n",
        "    # Construct URL using the arXiv unique identifier\n",
        "    arx_url = f\"https://arxiv.org/pdf/{identifier}.pdf\"\n",
        "\n",
        "    # Extract pages from the document and add them to the list of pages\n",
        "    arx_loader = PyMuPDFLoader(arx_url)\n",
        "    arx_pages = arx_loader.load()\n",
        "    for page_num in range(len(arx_pages)):\n",
        "        page = arx_pages[page_num]\n",
        "        #CHANGED\n",
        "        page.metadata['page_num'] = page_num\n",
        "        page.metadata['doc_num'] = global_doc_number\n",
        "        page.metadata['doc_source'] = \"ArXiv\"\n",
        "        all_arxiv_pages.append(page)\n",
        "\n",
        "\n",
        "    global_doc_number += 1"
      ]
    },
    {
      "cell_type": "markdown",
      "metadata": {
        "id": "iYMkGJ7igvg_"
      },
      "source": [
        "How many docs did we get?  Is that the correct number? And what is the content?"
      ]
    },
    {
      "cell_type": "code",
      "execution_count": 39,
      "metadata": {
        "id": "VXNS5MaMwrOK",
        "colab": {
          "base_uri": "https://localhost:8080/"
        },
        "outputId": "f4912ed9-6240-47ba-b005-fc7dcdd65d73"
      },
      "outputs": [
        {
          "output_type": "stream",
          "name": "stdout",
          "text": [
            "20 documents in total\n",
            "420 pages in total\n"
          ]
        }
      ],
      "source": [
        "num_pages = len(all_arxiv_pages)\n",
        "num_docs = global_doc_number - 1\n",
        "\n",
        "print(f\"{num_docs} documents in total\")\n",
        "print(f\"{num_pages} pages in total\")"
      ]
    },
    {
      "cell_type": "code",
      "execution_count": 40,
      "metadata": {
        "id": "f6Qr75rnvLKJ",
        "colab": {
          "base_uri": "https://localhost:8080/",
          "height": 35
        },
        "outputId": "2040f5e7-61ad-41db-9d98-d383be7ef272"
      },
      "outputs": [
        {
          "output_type": "execute_result",
          "data": {
            "text/plain": [
              "'Table 1: Open-Domain QA Test Scores. For TQA,\\nleft column uses the standard test set for Open-\\nDomain QA, right column uses the TQA-Wiki\\ntest set. See'"
            ],
            "application/vnd.google.colaboratory.intrinsic+json": {
              "type": "string"
            }
          },
          "metadata": {},
          "execution_count": 40
        }
      ],
      "source": [
        "all_arxiv_pages[5].page_content[:150]  # all pages of the Document content"
      ]
    },
    {
      "cell_type": "markdown",
      "metadata": {
        "id": "Czx-h_Aeg_NM"
      },
      "source": [
        "Now we need to split the docs into chunks.  LangChain provides a couple of ways to do that.  We'll use for now the `RecursiveCharacterTextSplitter`."
      ]
    },
    {
      "cell_type": "code",
      "execution_count": 41,
      "metadata": {
        "id": "8Ln3nmeVvLBI",
        "colab": {
          "base_uri": "https://localhost:8080/"
        },
        "outputId": "1c9c6ea7-ddf2-4e61-f133-70b74112f2cf"
      },
      "outputs": [
        {
          "output_type": "stream",
          "name": "stdout",
          "text": [
            "Number of splits/chunks:  14652\n"
          ]
        }
      ],
      "source": [
        "#index doc chunks\n",
        "splits = text_splitter.split_documents(all_arxiv_pages)\n",
        "splits_dec = text_splitter_dec.split_documents(all_arxiv_pages)\n",
        "splits_inc = text_splitter_inc.split_documents(all_arxiv_pages)\n",
        "\n",
        "for idx, text in enumerate(splits):\n",
        "    splits[idx].metadata['split_id'] = idx\n",
        "\n",
        "print('Number of splits/chunks: ', len(splits))"
      ]
    },
    {
      "cell_type": "code",
      "execution_count": 42,
      "metadata": {
        "id": "gVEpjCBLE50m",
        "colab": {
          "base_uri": "https://localhost:8080/"
        },
        "outputId": "2e9d5f7b-ae6c-469f-effb-7e982195aa97"
      },
      "outputs": [
        {
          "output_type": "execute_result",
          "data": {
            "text/plain": [
              "Document(page_content='Retrieval-Augmented Generation for\\nKnowledge-Intensive NLP Tasks\\nPatrick Lewis†‡, Ethan Perez⋆,', metadata={'source': 'https://arxiv.org/pdf/2005.11401.pdf', 'file_path': 'https://arxiv.org/pdf/2005.11401.pdf', 'page': 0, 'total_pages': 19, 'format': 'PDF 1.5', 'title': '', 'author': '', 'subject': '', 'keywords': '', 'creator': 'LaTeX with hyperref', 'producer': 'pdfTeX-1.40.21', 'creationDate': 'D:20210413004838Z', 'modDate': 'D:20210413004838Z', 'trapped': '', 'page_num': 0, 'doc_num': 1, 'doc_source': 'ArXiv', 'split_id': 0})"
            ]
          },
          "metadata": {},
          "execution_count": 42
        }
      ],
      "source": [
        "splits[0]"
      ]
    },
    {
      "cell_type": "markdown",
      "metadata": {
        "id": "u6DUxHWuozJB"
      },
      "source": [
        "Let's add the vectors to the datastore and see whether we can retrieve a nearest neighbor to a query. Let's look at the second closest match:"
      ]
    },
    {
      "cell_type": "code",
      "execution_count": 43,
      "metadata": {
        "id": "KSJmDkj6SvQQ"
      },
      "outputs": [],
      "source": [
        "%%capture\n",
        "\n",
        "qdrant_vectorstore.add_documents(documents=splits)\n",
        "qdrant_vectorstore_dec_chunk.add_documents(documents=splits_dec)\n",
        "qdrant_vectorstore_inc_chunk.add_documents(documents=splits_inc)"
      ]
    },
    {
      "cell_type": "code",
      "execution_count": 44,
      "metadata": {
        "id": "4xOhcgKd5ckk"
      },
      "outputs": [],
      "source": [
        "query = \"How can we train a model for preferences?\"\n",
        "found_docs = qdrant_vectorstore.similarity_search_with_score(query)"
      ]
    },
    {
      "cell_type": "code",
      "execution_count": 45,
      "metadata": {
        "id": "QDelZRCF5Ite",
        "colab": {
          "base_uri": "https://localhost:8080/"
        },
        "outputId": "25d59e9b-407b-4a1f-fdfe-4816c1e29026"
      },
      "outputs": [
        {
          "output_type": "stream",
          "name": "stdout",
          "text": [
            "One path forward could be to train models that can be conditioned on the preferences of certain\n",
            "0.8218970348891447\n"
          ]
        }
      ],
      "source": [
        "print(found_docs[0][0].page_content)\n",
        "print(found_docs[0][1])"
      ]
    },
    {
      "cell_type": "markdown",
      "metadata": {
        "id": "ipT82FOghpr6"
      },
      "source": [
        "Next, let's get some information from Wikipedia on our main topic -- Gen AI.  LangChain provides a DocumentLoader that accesses the Wikipedia API."
      ]
    },
    {
      "cell_type": "code",
      "execution_count": 46,
      "metadata": {
        "id": "pfWbJmg0vKfv",
        "colab": {
          "base_uri": "https://localhost:8080/"
        },
        "outputId": "cbf2351b-36c7-44d0-d715-ff1d0d687742"
      },
      "outputs": [
        {
          "output_type": "stream",
          "name": "stdout",
          "text": [
            "Number of documents:  4\n",
            "Number of splits/chunks:  145\n"
          ]
        }
      ],
      "source": [
        "wiki_docs = WikipediaLoader(query=\"Generative Artificial Intelligence\", load_max_docs=4).load()\n",
        "for idx, text in enumerate(wiki_docs):\n",
        "    wiki_docs[idx].metadata['doc_num'] = global_doc_number\n",
        "    wiki_docs[idx].metadata['doc_source'] = \"Wikipedia\"\n",
        "\n",
        "global_doc_number += 1\n",
        "\n",
        "print('Number of documents: ', len(wiki_docs))\n",
        "\n",
        "#index docs\n",
        "wiki_splits = text_splitter.split_documents(wiki_docs)\n",
        "wiki_splits_dec = text_splitter_dec.split_documents(wiki_docs)\n",
        "wiki_splits_inc = text_splitter_inc.split_documents(wiki_docs)\n",
        "\n",
        "for idx, text in enumerate(wiki_splits):\n",
        "    wiki_splits[idx].metadata['split_id'] = idx\n",
        "\n",
        "print('Number of splits/chunks: ', len(wiki_splits))\n"
      ]
    },
    {
      "cell_type": "markdown",
      "metadata": {
        "id": "FWD9eytoc7er"
      },
      "source": [
        "Now we'll add these splits to the vector stores."
      ]
    },
    {
      "cell_type": "code",
      "execution_count": 47,
      "metadata": {
        "id": "VC2LSdGwIcvn"
      },
      "outputs": [],
      "source": [
        "%%capture\n",
        "\n",
        "#vectorstore.add_documents(documents=wiki_splits, embedding=base_embeddings)\n",
        "qdrant_vectorstore.add_documents(documents=wiki_splits)\n",
        "qdrant_vectorstore_dec_chunk.add_documents(documents=wiki_splits_dec)\n",
        "qdrant_vectorstore_inc_chunk.add_documents(documents=wiki_splits_inc)"
      ]
    },
    {
      "cell_type": "markdown",
      "metadata": {
        "id": "HsZSNcp4TWxO"
      },
      "source": [
        "Same with a couple of other queries:"
      ]
    },
    {
      "cell_type": "code",
      "execution_count": 48,
      "metadata": {
        "id": "qlO0AYTmTaPM",
        "colab": {
          "base_uri": "https://localhost:8080/"
        },
        "outputId": "8a20e81f-6670-4c7a-9dbd-9c3524861d8b"
      },
      "outputs": [
        {
          "output_type": "stream",
          "name": "stdout",
          "text": [
            "Number of documents:  4\n",
            "Number of splits/chunks:  156\n"
          ]
        }
      ],
      "source": [
        "wiki_docs = WikipediaLoader(query=\"Information Retrieval\", load_max_docs=4).load()\n",
        "for idx, text in enumerate(wiki_docs):\n",
        "    wiki_docs[idx].metadata['doc_num'] = global_doc_number\n",
        "    wiki_docs[idx].metadata['doc_source'] = \"Wikipedia\"\n",
        "\n",
        "global_doc_number += 1\n",
        "\n",
        "print('Number of documents: ', len(wiki_docs))\n",
        "\n",
        "#index docs\n",
        "wiki_splits = text_splitter.split_documents(wiki_docs)\n",
        "wiki_splits_dec = text_splitter_dec.split_documents(wiki_docs)\n",
        "wiki_splits_inc = text_splitter_inc.split_documents(wiki_docs)\n",
        "\n",
        "for idx, text in enumerate(wiki_splits):\n",
        "    wiki_splits[idx].metadata['split_id'] = idx\n",
        "\n",
        "print('Number of splits/chunks: ', len(wiki_splits))"
      ]
    },
    {
      "cell_type": "code",
      "execution_count": 49,
      "metadata": {
        "id": "yQqX-w8tTjah"
      },
      "outputs": [],
      "source": [
        "%%capture\n",
        "\n",
        "#vectorstore.add_documents(documents=wiki_splits, embedding=base_embeddings)\n",
        "qdrant_vectorstore.add_documents(documents=wiki_splits)\n",
        "qdrant_vectorstore_dec_chunk.add_documents(documents=wiki_splits_dec)\n",
        "qdrant_vectorstore_inc_chunk.add_documents(documents=wiki_splits_inc)"
      ]
    },
    {
      "cell_type": "markdown",
      "metadata": {
        "id": "PtU-BeWpTkbv"
      },
      "source": [
        "And yet another related Wikipedia article."
      ]
    },
    {
      "cell_type": "code",
      "execution_count": 50,
      "metadata": {
        "id": "J_uwyvZaTkx4",
        "colab": {
          "base_uri": "https://localhost:8080/"
        },
        "outputId": "eceb663b-e605-4723-ffd5-247e1c2d19e0"
      },
      "outputs": [
        {
          "output_type": "stream",
          "name": "stdout",
          "text": [
            "Number of documents:  4\n",
            "Number of splits/chunks:  141\n"
          ]
        }
      ],
      "source": [
        "wiki_docs = WikipediaLoader(query=\"Large Language Models\", load_max_docs=4).load()\n",
        "for idx, text in enumerate(wiki_docs):\n",
        "    wiki_docs[idx].metadata['doc_num'] = global_doc_number\n",
        "    wiki_docs[idx].metadata['doc_source'] = \"Wikipedia\"\n",
        "\n",
        "global_doc_number += 1\n",
        "\n",
        "print('Number of documents: ', len(wiki_docs))\n",
        "\n",
        "#index docs\n",
        "wiki_splits = text_splitter.split_documents(wiki_docs)\n",
        "wiki_splits_dec = text_splitter_dec.split_documents(wiki_docs)\n",
        "wiki_splits_inc = text_splitter_inc.split_documents(wiki_docs)\n",
        "\n",
        "for idx, text in enumerate(wiki_splits):\n",
        "    wiki_splits[idx].metadata['split_id'] = idx\n",
        "\n",
        "print('Number of splits/chunks: ', len(wiki_splits))"
      ]
    },
    {
      "cell_type": "code",
      "execution_count": 51,
      "metadata": {
        "id": "iw-FQnNZTk7I"
      },
      "outputs": [],
      "source": [
        "%%capture\n",
        "\n",
        "#vectorstore.add_documents(documents=wiki_splits, embedding=base_embeddings)\n",
        "qdrant_vectorstore.add_documents(documents=wiki_splits)\n",
        "qdrant_vectorstore_dec_chunk.add_documents(documents=wiki_splits_dec)\n",
        "qdrant_vectorstore_inc_chunk.add_documents(documents=wiki_splits_inc)"
      ]
    },
    {
      "cell_type": "markdown",
      "metadata": {
        "id": "Hfs8ro_Ziekd"
      },
      "source": [
        "We'll also augment our collection with some blog entries about Open Domain Question Answering, of which RAG is an approach, and some related topics in case users want to ask how the new Search system works."
      ]
    },
    {
      "cell_type": "code",
      "execution_count": 52,
      "metadata": {
        "id": "K5LdggJw8nBF",
        "colab": {
          "base_uri": "https://localhost:8080/"
        },
        "outputId": "ba23b946-6601-4778-ab7e-3a11dc5cd92b"
      },
      "outputs": [
        {
          "output_type": "stream",
          "name": "stdout",
          "text": [
            "Number of documents:  3\n"
          ]
        }
      ],
      "source": [
        "web_loader = WebBaseLoader(\n",
        "    web_paths=(\"https://lilianweng.github.io/posts/2020-10-29-odqa/\",\n",
        "               \"https://lilianweng.github.io/posts/2023-03-15-prompt-engineering/\",\n",
        "               \"https://lilianweng.github.io/posts/2018-06-24-attention/\"),\n",
        "\n",
        "    bs_kwargs=dict(\n",
        "        parse_only=bs4.SoupStrainer(\n",
        "            class_=(\"post-content\", \"post-title\", \"post-header\")\n",
        "        )\n",
        "    ),\n",
        ")\n",
        "\n",
        "web_documents = web_loader.load()\n",
        "\n",
        "for idx, text in enumerate(web_documents):\n",
        "    web_documents[idx].metadata['doc_num'] = global_doc_number\n",
        "    web_documents[idx].metadata['doc_source'] = \"WWW\"\n",
        "global_doc_number += 1\n",
        "\n",
        "print('Number of documents: ', len(web_documents))\n"
      ]
    },
    {
      "cell_type": "markdown",
      "metadata": {
        "id": "wMjLDnHf8nBG"
      },
      "source": [
        "Again, we will split the retrieved data into chunks and add the data to the vector store:"
      ]
    },
    {
      "cell_type": "code",
      "execution_count": 53,
      "metadata": {
        "id": "D29aVbKn8nBH",
        "colab": {
          "base_uri": "https://localhost:8080/"
        },
        "outputId": "7fd26611-95fb-433b-a0ad-857c57a5e512"
      },
      "outputs": [
        {
          "output_type": "stream",
          "name": "stdout",
          "text": [
            "Number of splits:  1143\n"
          ]
        }
      ],
      "source": [
        "web_splits = text_splitter.split_documents(web_documents)\n",
        "web_splits_dec = text_splitter_dec.split_documents(web_documents)\n",
        "web_splits_inc = text_splitter_inc.split_documents(web_documents)\n",
        "\n",
        "for idx, text in enumerate(web_splits):\n",
        "    web_splits[idx].metadata['split_id'] = idx\n",
        "\n",
        "print('Number of splits: ', len(web_splits))"
      ]
    },
    {
      "cell_type": "code",
      "execution_count": 54,
      "metadata": {
        "id": "R5slq33qt6Dc"
      },
      "outputs": [],
      "source": [
        "%%capture\n",
        "\n",
        "qdrant_vectorstore.add_documents(documents=web_splits)\n",
        "qdrant_vectorstore_dec_chunk.add_documents(documents=web_splits_dec)\n",
        "qdrant_vectorstore_inc_chunk.add_documents(documents=web_splits_inc)"
      ]
    },
    {
      "cell_type": "markdown",
      "metadata": {
        "id": "4KVUbsDa3BBF"
      },
      "source": [
        "###3.3 The Test Data\n",
        "\n",
        "You will want to test the system that you (will) have built. Below we give you a validation set that you could take as labeled data (imagine, your user personas would have had these questions and deemed the answers to be good). We also will give you a test set that only contains questions. (This is the set that we will use to get a feel for how well your RAG system corresponds to our Gold model).\n",
        "\n",
        "Here are is the gold validation set and the test questions. **DO NOT CHANGE OR DELETE!!**"
      ]
    },
    {
      "cell_type": "code",
      "execution_count": 55,
      "metadata": {
        "id": "mxMnyWig7R-T"
      },
      "outputs": [],
      "source": [
        "validation_questions_answers = {\n",
        "    0: {\"question\": \"What purpose do large language models serve in the field of natural language processing?\",\n",
        "  \"gold_answer_research\": \"Large language models (LLMs) serve the purpose of enabling general-purpose language generation and other natural language processing tasks such as classification. They achieve this by learning statistical relationships from text documents during computationally intensive self-supervised and semi-supervised training. LLMs can be used for text generation by predicting the next token or word, making them valuable for tasks like speech recognition, machine translation, and information retrieval. Additionally, LLMs have superseded previous models like recurrent neural networks, showcasing their efficiency and effectiveness in NLP tasks.\",\n",
        "  \"gold_answer_marketing\": \"Large language models serve the purpose of improving performance in various natural language processing tasks, such as speech recognition, machine translation, natural language generation, optical character recognition, handwriting recognition, grammar induction, and information retrieval.\"},\n",
        "1: {\"question\": \"How does a large language model learn from text during training?\",\n",
        "  \"gold_answer_research\": \"A large language model learns from text during training by first going through an unsupervised generative 'pretraining' stage where it sets initial parameters using a language modeling objective. Then, it goes through a supervised discriminative 'fine-tuning' stage where it refines its parameters based on annotated examples or task demonstrations. This dual-stage approach allows the model to learn statistical relationships from text documents in a computationally intensive process, enabling it to achieve general-purpose language generation and natural language processing tasks.\",\n",
        "  \"gold_answer_marketing\": \"A large language model learns from text during training by first pretraining on a diverse dataset to acquire general language knowledge, and then fine-tuning on specific tasks or demonstrations to adapt its parameters for more targeted performance.\"},\n",
        "2: {\"question\": \"What are some key architectures behind the development of large language models?\",\n",
        "  \"gold_answer_research\": \"Key architectures behind the development of large language models include the use of self-attention mechanisms, such as those seen in Transformer decoders. These architectures have been applied to tasks like autoregressive language modeling and have led to the dominance of Transformer-based language models in NLP. Models like BERT and GPT-2 have further advanced this paradigm, showcasing the power of large Transformer language models in achieving state-of-the-art results across various NLP tasks. Additionally, architectures like neural-retriever-in-the-loop generative-based models have shown improvements in tasks like open-domain QA and knowledge-grounded dialogue, emphasizing the importance of consistent and engaging responses in long-form generation and multi-turn conversations.\",\n",
        "  \"gold_answer_marketing\": \"Key architectures behind the development of large language models include Transformer-based models such as BERT and GPT-2, which utilize self-attention mechanisms for tasks like autoregressive language modeling and knowledge-grounded dialogue. These models have shown significant success in NLP tasks and have led to advancements in general-purpose language generation and natural language processing.\"},\n",
        "3: {\"question\": \"Can you name some specific large language models and the companies or organizations that have developed them?\",\n",
        "  \"gold_answer_research\": \"Some specific large language models include GPT-3 by OpenAI, Chinchilla by DeepMind, and BERT by Google. OpenAI developed GPT-3, DeepMind developed Chinchilla, and Google developed BERT. These models have been significant advancements in the field of natural language processing.\",\n",
        "  \"gold_answer_marketing\": \"Chinchilla by DeepMind, GPT-3 by OpenAI.\"},\n",
        "7: {\"question\": \"What licensing models have been adopted for the distribution of source-available language models?\",\n",
        "  \"gold_answer_research\": \"Based on the provided context, it seems that licensing models for the distribution of source-available language models have not been explicitly discussed in the referenced papers. However, it is crucial to consider potential licensing options such as open-source licenses (e.g., GPL, MIT) or proprietary licenses when distributing language models to ensure legal compliance and control over usage rights. Additionally, considering the implications of different licensing models on accessibility, collaboration, and commercialization is essential for determining the most suitable approach for sharing language models with the community. Further research or consultation with legal experts may be necessary to explore specific licensing strategies for source-available language models.\",\n",
        "  \"gold_answer_marketing\": \"Answer: Some organizations choose open-sourcing, while others restrict access to a few organizations with resources or offer end-to-end deployment via API.\"},\n",
        "8: {\"question\": \"What are language models and what is their purpose in natural language processing?\",\n",
        "  \"gold_answer_research\": \"Language models are probabilistic models of natural language that help predict or correct text. Their purpose in natural language processing is to assist in various tasks such as speech recognition, machine translation, natural language generation, and information retrieval. By analyzing the performance of human subjects, language models improve the understanding and generation of human-like text.\",\n",
        "  \"gold_answer_marketing\": \"Language models are probabilistic models of natural language that are used in tasks such as speech recognition, machine translation, and natural language generation in natural language processing.\"},\n",
        "9: {\"question\": \"How have language models evolved in terms of architecture, from the 1980s to present times?\",\n",
        "  \"gold_answer_research\": \"Language models have evolved significantly in terms of architecture from the 1980s to present times. In the 1980s, the first statistical language model was proposed, leading to experiments by IBM that identified areas for improvement by observing human subjects. However, it wasn't until 2017 when the transformer architecture was introduced by Google, revolutionizing the field. This development paved the way for models like BERT in 2018, which marked a shift towards large-scale transformer-based language models. These modern architectures, based on self-attention mechanisms, have dominated the field of natural language processing, achieving state-of-the-art performance in various tasks.\",\n",
        "  \"gold_answer_marketing\": \"Language models have evolved from early statistical models in the 1980s to modern transformer architectures, such as BERT and GPT-2, which use self-attention mechanisms and have become dominant in natural language processing tasks.\"},\n",
        "11: {\"question\": \"Can you explain how maximum entropy language models work and what the partition function signifies?\",\n",
        "  \"gold_answer_research\": \"Maximum entropy language models use feature functions to encode the relationship between a word and its n-gram history, aiming to maximize reward while satisfying a KL-constrained objective. The partition function, denoted as Z(x), is crucial in normalizing the probabilities of all possible outputs given the input. It represents the sum of the exponential of the reward function over all possible output sequences, making it computationally expensive to estimate but essential for accurate modeling. The partition function ensures that the model's predicted probabilities sum up to 1, providing a foundation for effective language modeling.\",\n",
        "  \"gold_answer_marketing\": \"Maximum entropy language models encode the relationship between a word and the n-gram history using feature functions. The partition function in this context represents the total probability of all possible outcomes, making it a crucial factor in determining the optimal solution for the reward maximization objective.\"},\n",
        "12: {\"question\": \"What is the benefit of using continuous space embeddings in recurrent neural network language models?\",\n",
        "  \"gold_answer_research\": \"Continuous space embeddings in recurrent neural network language models help alleviate the curse of dimensionality by representing words as non-linear combinations of weights in the embedding space. This approach helps address the data sparsity problem caused by the exponential increase in possible word sequences with vocabulary size. By utilizing continuous space embeddings, neural networks can effectively capture semantic relationships and meaning within the language model.\",\n",
        "  \"gold_answer_marketing\": \"Continuous space embeddings in recurrent neural network language models help alleviate the curse of dimensionality caused by the exponential increase in possible word sequences, reducing data sparsity issues.\"},\n",
        "13: {\"question\": \"What challenges do large language models face in mirroring human cognitive patterns?\",\n",
        "  \"gold_answer_research\": \"Large language models face challenges in mirroring human cognitive patterns because they sometimes learn patterns that humans do not learn, while also failing to learn patterns that humans typically learn. This discrepancy suggests that the models may not be plausible cognitive models, despite matching human performance in some tasks. Further research is needed to address these limitations and improve the alignment of large language models with human cognitive patterns.\",\n",
        "  \"gold_answer_marketing\": \"Large language models sometimes learn patterns that humans do not learn and fail to learn patterns that humans typically do learn.\"},\n",
        "16: {\"question\": \"What factors influenced the development of generative language models by Anthropic?\",\n",
        "  \"gold_answer_research\": \"Several factors influenced the development of generative language models by Anthropic, including the limitations in coding, math, and reasoning capabilities of the initial version Claude, the partnerships with companies like Notion and Quora to enhance the model's capabilities, and the need to address biases, unsafe content, and ethical considerations in training data. Additionally, the reliance on supervised learning and the need for controlled generation in generative models played a role in shaping the development of Anthropic's language models.\",\n",
        "  \"gold_answer_marketing\": \"Factors that influenced the development of generative language models by Anthropic include partnerships with companies like Notion and Quora, limitations in coding, math, and reasoning capabilities in initial models like Claude, and the need to address biases and unsafe content in training datasets.\"},\n",
        "17: {\"question\": \"What is Constitutional AI and how does it affect the functionality of AI systems?\",\n",
        "  \"gold_answer_research\": \"Constitutional AI is an approach developed by Anthropic for training AI systems, particularly language models like Claude, to be harmless and helpful without relying on extensive human feedback. It involves two phases: supervised learning, where the model generates responses to prompts and self-critiques based on a set of guiding principles, and reinforcement learning, where the model is trained with AI-generated feedback according to constitutional principles. This approach enables the training of AI assistants that are both helpful and harmless, with the ability to explain objections to harmful requests, enhancing transparency and reducing the need for human supervision.\",\n",
        "  \"gold_answer_marketing\": \"Constitutional AI is an approach developed by Anthropic for training AI systems, particularly language models like Claude, to be harmless and helpful without relying on extensive human feedback. It involves supervised learning and reinforcement learning phases to guide the model's responses based on a set of guiding principles (a 'constitution'). This approach aims to create AI systems that are both helpful and transparent in their decision-making process, reducing the need for constant human supervision.\"},\n",
        "18: {\"question\": \"How do advances in AI models impact their ability to interact with different types of data, such as images?\",\n",
        "  \"gold_answer_research\": \"Advances in AI models, such as multimodal models like RA-CM3, have significantly improved their ability to interact with different types of data, such as images. These models can refer to external memory, like web data, to increase their knowledge capacity, allowing them to generate correct images from entity-rich captions. Additionally, these models can perform image editing and manually specify examples in-context for better results. The use of large language models, combined with larger datasets and neural networks, has also enhanced their performance in tasks like image generation and text generation.\",\n",
        "  \"gold_answer_marketing\": \"Advances in AI models, such as multimodal models like RA-CM3, allow for better interaction with different types of data, like images, by accessing external memory for increased knowledge capacity and improving performance in tasks like image generation and image editing.\"},\n",
        "19: {\"question\": \"What are the potential trade-offs between AI system alignment with ethical guidelines and practical utility?\",\n",
        "  \"gold_answer_research\": \"The potential trade-offs between AI system alignment with ethical guidelines and practical utility include the risk of reduced performance and usability due to stringent ethical alignment measures, as seen with Claude 2. Users may face limitations and refusal of assistance for benign requests, leading to debates over the 'alignment tax' in AI development. Balancing ethical considerations with practical functionality is crucial to ensure alignment with ethical guidelines without compromising the practical utility of AI systems. Research is needed to find a middle ground that prioritizes ethical alignment while maintaining usability and performance.\",\n",
        "  \"gold_answer_marketing\": \"The potential trade-offs between AI system alignment with ethical guidelines and practical utility include balancing stringent ethical alignment that may reduce usability and performance, ensuring transparency and fairness in alignment processes, and addressing the alignment tax that may impact adoption of AI systems.\"},\n",
        "20: {\"question\": \"How has the token handling capacity changed between different versions of the Claude model?\",\n",
        "  \"gold_answer_research\": \"The token handling capacity has increased with each new version of the Claude model. Claude Instant has a context length of 100,000 tokens, Claude 2.1 doubled this to 200,000 tokens, and Claude 3 Opus default version has a context window of 200,000 tokens but can be expanded to 1 million for specific use cases. This progression shows a trend towards handling larger amounts of text data for improved performance and capabilities.\",\n",
        "  \"gold_answer_marketing\": \"The token handling capacity has increased from Claude to Claude Instant to Claude 2.1, with Claude Instant having a input context length of 100,000 tokens, Claude 2.1 having a context window of 200,000 tokens, and Claude 3 Opus having a context window of 1 million tokens.\"},\n",
        "22: {\"question\": \"In what ways has the Claude model's ability to self-critique and revise its responses enhanced its transparency?\",\n",
        "  \"gold_answer_research\": \"The Claude model's ability to self-critique and revise its responses has enhanced its transparency by allowing for iterative improvements based on past actions and mistakes. Through self-reflection, the model can refine its output by learning from feedback and generating special tokens to signal the need for retrieval or confirm the relevance, support, or completeness of its responses. This process ensures that the model's statements about the world are truthful and accurate, ultimately increasing transparency in its decision-making and reasoning processes.\",\n",
        "  \"gold_answer_marketing\": \"The Claude model's ability to self-critique and revise its responses has enhanced its transparency by allowing it to generate text informed by retrieved passages, criticize the output, and signal the need for retrieval or confirm the output's relevance, support, or completeness. This self-reflection process helps improve the model's accuracy and reliability in generating responses.\"},\n",
        "23: {\"question\": \"How do subsequent versions of Claude compare in terms of their likelihood to produce false statements?\",\n",
        "  \"gold_answer_research\": \"Claude Instant is a faster and lighter version of Claude, with an input context length of 100,000 tokens. In contrast, Claude 3 has faced criticism for its stringent ethical alignment, leading to a debate over the 'alignment tax' in AI development. Users have been refused assistance with benign requests, which has sparked discussions on balancing ethical considerations and practical functionality. This suggests that Claude Instant may have a lower likelihood of producing false statements compared to Claude 3 due to its focus on usability and performance.\",\n",
        "  \"gold_answer_marketing\": \"Claude Instant is a faster, less expensive, and lighter version of Claude with a shorter input context length. Claude 3 has faced criticism for ethical alignment issues that may affect usability and performance.\"},\n",
        "24: {\"question\": \"Who developed the language model family known as Chinchilla?\",\n",
        "  \"gold_answer_research\": \"The Chinchilla language model family was developed by the research team at DeepMind and presented in March 2022. It is named 'Chinchilla' as an advancement over the previous Gopher model family. The Chinchilla family has been trained to investigate the scaling laws of large language models and is designed to outperform GPT-3.\",\n",
        "  \"gold_answer_marketing\": \"The research team at DeepMind developed the language model family known as Chinchilla.\"},\n",
        "25: {\"question\": \"What benchmark did Chinchilla achieve an average accuracy of 67.5% on?\",\n",
        "  \"gold_answer_research\": \"Chinchilla achieved an average accuracy of 67.5% on the MMLU benchmark (Measuring Massive Multitask Language Understanding).\",\n",
        "  \"gold_answer_marketing\": \"Chinchilla achieved an average accuracy of 67.5% on the MMLU benchmark (Measuring Massive Multitask Language Understanding).\"},\n",
        "27: {\"question\": \"What is the relationship between Chinchilla and the Gopher language model families?\",\n",
        "  \"gold_answer_research\": \"The Chinchilla family of transformer models is essentially the same as the Gopher family, with minor modifications and different training optimizers. Chinchilla uses AdamW optimizer while Gopher uses Adam optimizer. Additionally, Chinchilla uses relative positional encoding and RMSNorm instead of absolute positional encoding and LayerNorm used by Gopher. Chinchilla has 70B parameters and outperforms Gopher on the MMLU benchmark by 7%, showcasing an improvement in performance. Both families follow similar naming conventions and were developed to investigate the scaling laws of large language models.\",\n",
        "  \"gold_answer_marketing\": \"Chinchilla is a family of transformer models developed by DeepMind, which is a further development over a previous model family named Gopher. Both model families were trained to investigate the scaling laws of large language models.\"},\n",
        "28: {\"question\": \"What distinguishes the architectures of the Chinchilla and Gopher family models in terms of optimization techniques used?\",\n",
        "  \"gold_answer_research\": \"The main distinction in optimization techniques between the Chinchilla and Gopher family models lies in the choice of optimizers. The Gopher family utilizes the Adam optimizer, whereas the Chinchilla family is trained using the AdamW optimizer. Additionally, the Gopher family employs RMSNorm instead of LayerNorm, and relative positional encoding rather than absolute positional encoding. These differences in optimization techniques contribute to the unique characteristics and performance of each model family.\",\n",
        "  \"gold_answer_marketing\": \"The Chinchilla family uses AdamW optimizer, while the Gopher family uses the Adam optimizer.\"},\n",
        "30: {\"question\": \"What is the recommended strategy for training large autoregressive language models with limited compute resources, as contributed by the Chinchilla team?\",\n",
        "  \"gold_answer_research\": \"The Chinchilla team recommends that the number of training tokens should be doubled for every model size doubling to achieve better results on downstream tasks. They also suggest using larger, higher-quality training datasets to improve performance. Additionally, they mention the importance of balancing model size and efficiency to address computational costs and inference latency limitations. It is advised to focus on Transformer language models and consider sharing model parameters for quick task-switching when deploying as a service.\",\n",
        "  \"gold_answer_marketing\": \"The Chinchilla team recommends doubling the number of training tokens for every model size doubling and using larger, higher-quality training datasets to achieve better results on downstream tasks.\"},\n",
        "33: {\"question\": \"What are some key areas of research in the field of artificial intelligence as reflected in recent academic literature?\",\n",
        "  \"gold_answer_research\": \"Recent academic literature in the field of artificial intelligence reflects key areas of research such as natural language processing with state-of-the-art transformers, feature learning in infinite-width neural networks, diverse beam search for complex scene description, and the development of generative AI models capable of generating text and images. Additionally, research focuses on human preferences in dueling bandits, the use of few-shot learners in language models, and the exploration of knowledge-grounded neural conversation models. These areas of research highlight the advancements in AI technology and its applications across various domains.\",\n",
        "  \"gold_answer_marketing\": \"Some key areas of research in artificial intelligence include natural language processing, deep neural networks, generative AI, AI safety, AI art, reinforcement learning, and language agents alignment.\"},\n",
        "34: {\"question\": \"What are some of the limitations of traditional position encoding methods in the architecture of pre-trained language models (PLMs), and what novel approach does the paper propose to address these issues?\",\n",
        "  \"gold_answer_research\": \"One limitation of traditional position encoding methods in PLMs is that they may not enable length extrapolation of pre-existing models, leading to the need for substantial pre-training costs. The paper proposes a novel approach called Position Interpolation, which extends existing PLMs without deviating far from existing definitions of position encoding or attention mechanisms. This method allows for much extended context windows for text modeling, leading to significant perplexity gains and improved model performance.\",\n",
        "  \"gold_answer_marketing\": \"Traditional position encoding methods in PLMs have limitations in enabling length extrapolation and adapting to extended context windows. The paper proposes a novel approach called Position Interpolation, which generates strong models that can effectively make use of much extended context windows. This method allows for substantial pre-training cost savings and preserves the quality of the original models, even for small context window tasks.\"},\n",
        "35: {\"question\": \"How does the Rotary Position Embedding (RoPE) approach in Transformers differ from the traditional additive method of position embedding with respect to encoding position information?\",\n",
        "  \"gold_answer_research\": \"The RoPE approach in Transformers differs from the traditional additive method of position embedding by being multiplicative instead of additive. While traditional methods add position encoding to context representations, RoPE incorporates relative position information through rotation matrix product. This means that RoPE naturally includes relative position dependency in the self-attention formulation, without altering terms in the expanded formulation like the additive method does. Additionally, RoPE's properties show that it decays as the relative distance between positions increases, providing a clear theoretical interpretation of how position information is encoded.\",\n",
        "  \"gold_answer_marketing\": \"The RoPE approach in Transformers differs from the traditional additive method of position embedding by incorporating relative position information through rotation matrix product instead of altering terms in the expanded formulation of additive position encoding.\"},\n",
        "36: {\"question\": \"What is the significance of comparing the normalized subspace similarity between ∆Wq, ∆Wv, and random Gaussian matrices when analyzing the adaptation of pre-trained language models?\",\n",
        "  \"gold_answer_research\": \"Comparing the normalized subspace similarity between ∆Wq, ∆Wv, and random Gaussian matrices provides insight into the underlying mechanism for adapting pre-trained language models. It helps determine the intrinsic rank of the adaptation matrix ∆W and sheds light on the connection between ∆W and the original weight matrix W. By analyzing these similarities, we can understand how much of the adaptation is specific to the task at hand and how much is influenced by the pre-trained model. This comparison is crucial for optimizing the adaptation process and maximizing downstream performance in NLP tasks.\",\n",
        "  \"gold_answer_marketing\": \"Comparing the normalized subspace similarity between ∆Wq, ∆Wv, and random Gaussian matrices helps understand the underlying mechanism for adapting pre-trained language models. It reveals the intrinsic rank and common singular value directions learned by different runs, shedding light on the fundamental principles of using pre-trained language models for downstream tasks in NLP.\"},\n",
        "38: {\"question\": \"What issues are associated with the homogeneity of language model training contractors, and how might it affect the behavior of the models?\",\n",
        "  \"gold_answer_research\": \"The issues associated with the homogeneity of language model training contractors include potential biases in the labeling process, lack of diverse perspectives leading to limited coverage of sensitive content, and reduced robustness in model performance across different tasks. This homogeneity can affect the behavior of the models by reinforcing certain biases, increasing the risk of harmful content generation, and limiting the models' ability to generalize effectively. To address these issues, it is important to ensure diversity among labelers, incorporate varied perspectives in training data, and implement measures to enhance model robustness and performance across a range of tasks.\",\n",
        "  \"gold_answer_marketing\": \"The homogeneity of language model training contractors can lead to biased or limited perspectives in the data, which may result in the models producing harmful content, gaming objectives, or lacking sensitivity to diverse viewpoints. This can affect the behavior of the models by reinforcing stereotypes, increasing toxicity, and reducing their ability to accurately represent under-represented groups.\"},\n",
        "39: {\"question\": \"What are common research topics and themes found in recent publications about artificial intelligence and natural language processing?\",\n",
        "  \"gold_answer_research\": \"Recent publications in artificial intelligence and natural language processing have covered topics such as transformer models, feature learning in neural networks, attention mechanisms, multi-task benchmark platforms, semantic search using sentence embeddings, cross-task generalization, and question generation for question answering. Themes commonly explored include machine comprehension of text, reinforcement learning algorithms, sentence embeddings, semantic compositionality, reasoning with language models and knowledge graphs, and the gap between neural text and human text. These publications also delve into deep language understanding, retrieval-augmented transformers, image captioning, and open datasets for image-text pairs.\",\n",
        "  \"gold_answer_marketing\": \"Common research topics and themes in recent publications on artificial intelligence and natural language processing include transformer models, attention mechanisms, semantic search, sentence embeddings, and question answering using language models and knowledge graphs.\"},\n",
        "41: {\"question\": \"Question: When conducting demographic and technical assessments of teams or research subjects, what types of data categories are typically collected and analyzed to ensure a comprehensive understanding of the group's composition and the methods used?\",\n",
        "  \"gold_answer_research\": \"When conducting demographic and technical assessments of teams or research subjects, it is important to collect and analyze data categories such as age, gender, education level, professional background, and expertise in specific areas. By gathering information on these categories, you can ensure a comprehensive understanding of the group's composition and the methods used in your assessments. Additionally, it may be helpful to consider factors like cultural background, language proficiency, and geographical location to capture a more nuanced picture of the group being assessed. This detailed approach to data collection and analysis can provide valuable insights for making informed decisions and recommendations based on the gathered information.\",\n",
        "  \"gold_answer_marketing\": \"Answer: Demographic data such as age, gender, education level, and technical data related to skills and experience are typically collected and analyzed for comprehensive understanding.\"},\n",
        "43: {\"question\": \"What kind of tasks can be performed using the datasets described in the provided text, and what are some common features of these datasets?\",\n",
        "  \"gold_answer_research\": \"The datasets described in the provided text can be used for tasks such as question answering, duplicate question retrieval, entity retrieval, citation prediction, query understanding, document understanding, passage retrieval, text summarization, fact verification, and code search. Common features of these datasets include diverse task categories, comprehensive instructions, a wide range of synthetic user personalities and interaction patterns, and a focus on enhancing comprehension of documents to deliver accurate results. Additionally, the datasets cover a variety of domains such as public health, scientific exams, climate, and general knowledge.\",\n",
        "  \"gold_answer_marketing\": \"The datasets described in the provided text can be used for tasks such as question answering, document summarization, duplicate question retrieval, code search, sentence simplification, dialogue generation, body retrieval, caption generation, fact verification, and more. Some common features of these datasets include diverse input-output pairs, incorporation of various knowledge-intensive datasets, and a focus on generating high-quality synthetic data points.\"},\n",
        "44: {\"question\": \"What conclusions can be drawn about the relationship between input prompt toxicity and output toxicity when using different language models and prompts?\",\n",
        "  \"gold_answer_research\": \"Based on the findings presented in the results section, it can be concluded that the relationship between input prompt toxicity and output toxicity varies depending on the language model used and the specific prompt given. When instructed to produce a safe and respectful output, InstructGPT models generate less toxic outputs compared to GPT-3, but this advantage disappears when the respectful prompt is removed. On the other hand, when explicitly prompted to produce a toxic output, InstructGPT outputs are much more toxic than GPT-3 outputs. Additionally, the toxicity of the model outputs is highly correlated with the toxicity of the input prompt, as shown in Figure 39.\",\n",
        "  \"gold_answer_marketing\": \"The study found that when instructed to produce a safe and respectful output, InstructGPT models generate less toxic outputs compared to GPT-3. However, this advantage disappears when the respectful prompt is removed. Interestingly, when explicitly prompted to produce a toxic output, InstructGPT outputs are much more toxic than GPT-3. This suggests that the toxicity of the output is highly correlated with the toxicity of the input prompt.\"},\n",
        "45: {\"question\": \"What are some challenges in training retrieval systems and how are negative samples used to address them?\",\n",
        "  \"gold_answer_research\": \"Training retrieval systems face challenges such as redundancy in retrieved documents and lack of diversity in retrieval. Negative samples, including randomly sampled negatives, denoised hard negatives, and instruction-unfollowing negatives, are crucial for improving system performance. Carefully designed negative samples help the system effectively learn the task, but they can also lead to performance drops in out-of-domain datasets. Combining random samples and challenging negatives during training is key to building a competitive system for both in-domain and out-of-domain retrieval.\",\n",
        "  \"gold_answer_marketing\": \"Some challenges in training retrieval systems include high cost of annotating datasets for new tasks and improving performance in zero-shot settings. Negative samples, such as denoised hard negative documents and instruction-unfollowing negative documents, are used to train retrieval systems effectively and address performance drops in out-of-domain datasets.\"},\n",
        "46: {\"question\": \"What factors have been found to potentially impact the ability of models to follow instructions, based on the analysis provided?\",\n",
        "  \"gold_answer_research\": \"Based on the analysis provided, factors that have been found to potentially impact the ability of models to follow instructions include the human feedback obtained from contractors, which may be influenced by their beliefs, cultural backgrounds, and personal history. Additionally, the model's behavior can be affected by false premises in instructions, tendencies to hedge, and performance degradation with multiple explicit constraints in instructions. The models are also not fully aligned or safe, as they can generate toxic or biased outputs, make up facts, and fail to generate reasonable outputs in some cases.\",\n",
        "  \"gold_answer_marketing\": \"Factors that may impact the ability of models to follow instructions include false premises in instructions, models hedging unnecessarily, performance degradation with multiple constraints in instructions, generation of toxic or biased outputs, and over-generalization leading to refusal of innocuous instructions.\"},\n",
        "47: {\"question\": \"What are some key factors to consider when building a successful multi-task instruction-following retrieval system as identified in the research?\",\n",
        "  \"gold_answer_research\": \"Some key factors to consider when building a successful multi-task instruction-following retrieval system include the need for cross-task interdependence for training a single retriever, the flexibility and zero-shot transfer enabled by instructions compared to task identifiers, and the elimination of the need for hosting multiple task-specific retrievers. Additionally, optimizing the mix and volume of instructional data for diverse tasks is crucial, as well as considering the impact of ranking strategy in data construction. Finally, the effectiveness of the dataset scale in retrieval and the importance of carefully designed negative samples should be taken into account for improved efficiency of instruction-following retrievers.\",\n",
        "  \"gold_answer_marketing\": \"Key factors to consider when building a successful multi-task instruction-following retrieval system include the effectiveness of the dataset scale in retrieval, the diversity in data and model scale, carefully designed negative samples, and the ability to adapt to new tasks via instructions.\"},\n",
        "48: {\"question\": \"What are the benefits of using retrieval-augmented techniques in multimodal language modeling, as demonstrated by the performance of the RA-CM3 model in the document?\",\n",
        "  \"gold_answer_research\": \"The benefits of using retrieval-augmented techniques in multimodal language modeling, as demonstrated by the performance of the RA-CM3 model, include significantly better training efficiency with less training compute, outperforming existing models by using less training data, compute, and parameters. The retrieval augmentation allows the model to focus on learning how to use retrieved documents in context, leading to improved accuracy in classification tasks. Additionally, the RA-CM3 model achieves strong performance in image and caption generation, surpassing existing models like DALL-E and Flamingo despite using fewer resources.\",\n",
        "  \"gold_answer_marketing\": \"The benefits of using retrieval-augmented techniques in multimodal language modeling, as demonstrated by the performance of the RA-CM3 model in the document, include outperforming existing models by using less training data, compute, and parameters, achieving significantly better training efficiency, and improving accuracy in k-shot classification tasks. Additionally, retrieval augmentation allows the model to focus on learning how to use retrieved documents in context, leading to stronger performance in tasks such as image and caption generation.\"},\n",
        "50: {\"question\": \"What methods are typically employed to create training data for embedding models that use task-specific instructions?\",\n",
        "  \"gold_answer_research\": \"To create training data for embedding models that use task-specific instructions, a common method is to combine datasets from different sources, such as the SuperNaturalInstructions dataset with existing collections designed for embedding training. The SuperNaturalInstructions dataset provides natural language instructions, which can be paired with positive and negative examples to form training samples. Additionally, for tasks like classification or similarity, training samples can be constructed by selecting text sequences associated with different classes or similarities. This diverse training data is essential for instruction-based finetuning, which enables the embedding model to learn from a wide range of tasks and domains.\",\n",
        "  \"gold_answer_marketing\": \"Training data for embedding models that use task-specific instructions is typically created by formulating a wide variety of tasks as text-to-text problems, distinguishing good/bad candidate outputs given an input text. This is done by combining datasets with natural language instructions and constructing positive and negative pairs for training.\"},\n",
        "51: {\"question\": \"Question: What are some of the challenges and innovations associated with fine-tuning large language models, and how does the approach discussed in the referenced text aim to address them?\",\n",
        "  \"gold_answer_research\": \"Some challenges associated with fine-tuning large language models include limited access to and manipulation of knowledge, lagging performance on knowledge-intensive tasks, and the need for provenance in decision-making and updating world knowledge. The approach discussed in the referenced text aims to address these challenges by utilizing Retrieval Augmented Generation (RAG), which involves retrieving relevant passages from a corpus to feed to the language model for improved performance in tasks such as question-answering and dialogue. This iterative approach focuses on improving alignment with user intent and fine-tuning models to control sentiment and improve response quality in various language tasks.\",\n",
        "  \"gold_answer_marketing\": \"The challenges with fine-tuning large language models include aligning them with user intent and controlling the quality of generated outputs. The approach discussed in the referenced text aims to address these challenges by using Retrieval Augmented Generation (RAG) to retrieve relevant passages from a corpus and feed them to the language model, improving alignment and performance.\"},\n",
        "52: {\"question\": \"What is a common technique used to address the outlier issue when applying block-wise k-bit quantization to input tensors, and how does it work?\",\n",
        "  \"gold_answer_research\": \"A common technique used to address the outlier issue when applying block-wise k-bit quantization to input tensors is to chunk the input tensor into blocks that are independently quantized, each with their own quantization constant. This approach involves dividing the input tensor into contiguous blocks of size B by flattening the tensor and slicing it into n blocks, where n is determined by the size of the blocks. Each block is then quantized independently using a quantization constant c, which helps prevent outlier values from causing performance degradation.\",\n",
        "  \"gold_answer_marketing\": \"A common technique used to address the outlier issue when applying block-wise k-bit quantization to input tensors is to chunk the input tensor into blocks that are independently quantized, each with their own quantization constant. This helps prevent performance degradation by reducing the impact of outliers on the quantization process.\"},\n",
        "54: {\"question\": \"What considerations or techniques are commonly implemented when setting up finetuning experiments for machine learning models?\",\n",
        "  \"gold_answer_research\": \"When setting up finetuning experiments for machine learning models, it is common to use a two-stage approach. The initial stage involves setting the initial parameters using a language modeling objective. This is followed by a supervised discriminative 'fine-tuning' stage to adapt these parameters to the target task. Additionally, it is typical to train all models using the Adam optimizer and a triangular learning rate scheduler with 10% warmup. Experimentation with different hyperparameters such as number of epochs, peak learning rate, and batch size is also conducted to optimize model performance. Finally, utilizing a mixture of datasets and balancing the sizes of datasets can help improve the robustness and generalization of the finetuned models.\",\n",
        "  \"gold_answer_marketing\": \"Considerations for setting up finetuning experiments for machine learning models commonly include using a language modeling objective for initial parameter setting and supervised discriminative fine-tuning for adapting parameters to the target task. Techniques such as hyperparameter search, Adam optimizer with triangular learning rate scheduler, and balancing dataset sizes through mixing strategies are also commonly implemented. Additionally, freezing some model layers during fine-tuning and incorporating negative examples for contrastive learning can be effective strategies.\"},\n",
        "55: {\"question\": \"What are the implications of the equivalence relation defined in the theoretical analysis of the DPO model for understanding the relationship between reward functions in reinforcement learning?\",\n",
        "  \"gold_answer_research\": \"The equivalence relation defined in the theoretical analysis of the DPO model implies that two reward functions are considered equivalent if they differ by a constant function. This means that the class of learned reward models is not constrained by this reparameterization, allowing for the exact recovery of the optimal policy. Understanding this relationship between reward functions in reinforcement learning helps in defining a unique reward function within each equivalence class, which is crucial for optimizing policies under existing models of human preferences. It also highlights the generality and flexibility in the reward model due to the proposed reparameterization.\",\n",
        "  \"gold_answer_marketing\": \"The equivalence relation defined in the theoretical analysis of the DPO model shows that two reward functions are considered equivalent if they differ by a fixed function. This implies that different reward functions can lead to the same optimal policy, allowing for flexibility in designing reward models in reinforcement learning.\"},\n",
        "59: {\"question\": \"Considering the structure and content of the provided text, what guidelines should be used to evaluate the effectiveness of a summary or chatbot response in this context?\",\n",
        "  \"gold_answer_research\": \"To evaluate the effectiveness of a summary or chatbot response in this context, guidelines should include assessing the faithfulness of the answer to the retrieved context, the relevance of the answer to the question, and the focus of the retrieved context. Additionally, consider using quality metrics such as answer relevancy to rank responses based on how directly they address the question and avoid redundant or incomplete information. Lastly, take into account the performance of different tasks such as summarization, citation prediction, and passage ranking to determine the overall effectiveness of the response.\",\n",
        "  \"gold_answer_marketing\": \"Answer: Evaluate based on faithfulness, answer relevance, and context relevance.\"},\n",
        "60: {\"question\": \"What are some recent methods and technologies that have been developed to enhance the capabilities and performance of natural language processing models?\",\n",
        "  \"gold_answer_research\": \"Recent methods and technologies developed to enhance natural language processing models include retrieval-augmented multimodal language modeling, which outperforms existing models with less training data and parameters. Another advancement is the use of feature learning in infinite-width neural networks to improve performance. Additionally, embedding techniques in NLP have been developed to map words or phrases to real number vectors, enhancing the model's understanding of language. These innovations have led to improvements in tasks like query reformulation, document ranking, and fine-tuning larger language models for various applications.\",\n",
        "  \"gold_answer_marketing\": \"Recent methods and technologies include retrieval-augmented language models, feature learning in infinite-width neural networks, and word embeddings.\"},\n",
        "61: {\"question\": \"What are some potential directions for future work mentioned in the document related to enhancing question-answering techniques for document-oriented tasks?\",\n",
        "  \"gold_answer_research\": \"One potential direction for future work mentioned in the document is the development of multi-modal approaches that incorporate table and figure information into GPT-4 question-answering for documents. Another direction is to incorporate question type in the PDFTriage approach to improve the efficiency and efficacy of the approach. Additionally, the document suggests further research in document-grounded, information-seeking question answering, which the dataset is designed to facilitate.\",\n",
        "  \"gold_answer_marketing\": \"Some potential future directions mentioned in the document include developing multi-modal approaches that incorporate table and figure information into question-answering for documents, and incorporating question type in the PDFTriage approach to improve efficiency and efficacy.\"},\n",
        "62: {\"question\": \"What information would you expect to find in section 2 of a document, based on the types of questions classified under Summarization?\",\n",
        "  \"gold_answer_research\": \"Based on the types of questions classified under Summarization, you would expect to find key takeaways, concise summaries, and specific content extraction related to different sections of the document in section 2. The section likely contains detailed summaries of specific parts of the document, along with structured metadata representation and instructions for summarizing the content effectively. It may also include guidelines for extracting specific information and rewriting text for clarity and conciseness.\",\n",
        "  \"gold_answer_marketing\": \"Based on the types of questions classified under Summarization, you would expect to find key takeaways, concise summaries, and specific content extraction related to the document in section 2.\"},\n",
        "63: {\"question\": \"What are the main advantages and attention mechanisms that contribute to the enhanced performance and efficiency of the newly introduced language model as compared to its predecessors?\",\n",
        "  \"gold_answer_research\": \"The main advantages of the newly introduced language model include utilizing retrieval-augmentation to incorporate external knowledge, which improves prediction accuracy. Additionally, the model employs attention mechanisms that allow for better understanding of dependencies between source and target sequences, leading to more informed predictions. These attention mechanisms have been extended from machine translation to various other fields, enhancing the model's adaptability and performance across different tasks. Finally, the model's use of self-attention mechanisms enables better contextual representation learning, parallelization, and modeling of longer intra-token relations, improving efficiency and performance compared to previous models.\",\n",
        "  \"gold_answer_marketing\": \"The main advantages of the newly introduced language model include the use of retrieval-augmented mechanisms, attention mechanisms, and context representation learning, which contribute to enhanced performance and efficiency compared to its predecessors.\"},\n",
        "64: {\"question\": \"What criteria are used to assess the quality of recommendations provided by different language models in a comparison study?\",\n",
        "  \"gold_answer_research\": \"In a comparison study of language models, criteria such as sentence relevance, lexical accuracy, and contextual understanding are used to assess the quality of recommendations. Different tasks may benefit from different evaluation measures, such as STRINC, LEXICAL, and CXMI. Additionally, template selection plays a vital role in the quality of recommendations, with deliberate template design being important for tasks like query suggestion. The overall quality of recommendations is often judged using a Likert scale, along with metadata collection for each model output.\",\n",
        "  \"gold_answer_marketing\": \"The criteria used to assess the quality of recommendations provided by different language models in a comparison study include comparing to human-created benchmarks, examining intrinsic character, comparing two models, investigating rate of learning, and analyzing learning curves.\"},\n",
        "65: {\"question\": \"What approaches have been proposed to enhance the task performance of language models while considering the trade-offs such as runtime efficiency, robustness to irrelevant context, and attribution quality?\",\n",
        "  \"gold_answer_research\": \"Several approaches have been proposed to enhance the task performance of language models while considering trade-offs. These include using compression and selective augmentation methods to decrease the propensity of models to generate toxic or biased outputs. Adversarial setups have been suggested where labelers find worst-case behaviors of the model and add them to the dataset. Additionally, models like BART and T5 leverage bi-directional attention to achieve stronger performance on both discriminative and generative tasks. These methods aim to balance model performance with considerations such as runtime efficiency, robustness to irrelevant context, and attribution quality.\",\n",
        "  \"gold_answer_marketing\": \"Approaches proposed to enhance language model task performance include compression and selective augmentation, adversarial set-ups for labeling worst-case behaviors, retrieval-augmented models, and extending existing models to enable length extrapolation while maintaining quality.\"},\n",
        "67: {\"question\": \"What metrics are commonly used to compare the performance of language models in various tasks, as outlined in an experimental results table?\",\n",
        "  \"gold_answer_research\": \"Common metrics used to compare the performance of language models in various tasks, as outlined in an experimental results table, include Exact Match and Unigram F1. These metrics have become standard in evaluating language models. Additionally, other metrics such as BLEU score, FactScore (factuality), precision, and recall are also commonly used to assess the performance of language models across different tasks. It is important to consider a variety of metrics to get a comprehensive understanding of the effectiveness of a language model in different contexts.\",\n",
        "  \"gold_answer_marketing\": \"The metrics commonly used to compare the performance of language models in various tasks are Exact Match and Unigram F1.\"},\n",
        "69: {\"question\": \"What is the role of manual assessment in the validation of language model predictions according to the text provided?\",\n",
        "  \"gold_answer_research\": \"Manual assessment plays a crucial role in the validation of language model predictions. The engineers evaluate the quality of model outputs by having labelers rate them on test sets consisting of prompts from held-out customers. This manual assessment helps ensure that the models are aligned with a broad distribution of language tasks and can identify any behavioral issues that may arise from misalignment. Additionally, human annotators find that certain reflection token predictions are aligned with their assessments, providing valuable insights into the accuracy and effectiveness of the models.\",\n",
        "  \"gold_answer_marketing\": \"Answer: Manual assessment plays a key role in evaluating the quality of language model predictions by having labelers rate the model outputs and comparing them to prompts from held-out customers.\"},\n",
        "70: {\"question\": \"What are the general steps outlined for training a language model in the document, and how is the training data for the generator language model collected and utilized?\",\n",
        "  \"gold_answer_research\": \"The document outlines the general steps for training a language model, including incorporating retrieved documents into the main input sequence and optimizing the loss function to train the generator. The training data for the generator language model is collected through various techniques such as supervised fine-tuning, critic learning, and custom retrievers for downstream tasks. The collected data is used to train the generator on specific tasks like summarization, machine reading comprehension, and natural language to SQL translation, improving performance on those tasks.\",\n",
        "  \"gold_answer_marketing\": \"The general steps for training a language model include fine-tuning on specific datasets, filtering pretraining data, and using critic learning. Training data for the generator language model is collected from open-access NLP papers and used for downstream conditional text generation tasks.\"},\n",
        "73: {\"question\": \"What are the three main categories used to refine language model abilities in understanding and executing search tasks according to the given document?\",\n",
        "  \"gold_answer_research\": \"The three main categories used to refine language model abilities in understanding and executing search tasks are query understanding, document understanding, and query-document relationship understanding. Tasks within these categories focus on interpreting queries, comprehending documents, and understanding the relationships between queries and documents. This approach aims to enhance the models' performance in interpreting and responding to search-related instructions effectively, improving their utility in complex information retrieval scenarios.\",\n",
        "  \"gold_answer_marketing\": \"The three main categories used to refine language model abilities in understanding and executing search tasks are query understanding, document understanding, and query-document relationship understanding.\"},\n",
        "74: {\"question\": \"What are some of the emerging research topics and challenges in the field of natural language processing and information retrieval according to recent academic conferences and publications?\",\n",
        "  \"gold_answer_research\": \"Recent academic conferences and publications have highlighted emerging research topics and challenges in natural language processing and information retrieval. Some key areas of focus include efficient retrieval augmented generation, unsupervised dense information retrieval with contrastive learning, citation-informed transformers, and knowledge refinement via interaction between search engines and large language models. Additionally, challenges such as zero-shot retrieval, semantic search using GPT sentence embeddings, and prompt-based effective input reformulation for legal case retrieval have been identified as important research directions. These topics reflect the ongoing advancements and complexities in the field, driving innovation and progress in NLP and IR research.\",\n",
        "  \"gold_answer_marketing\": \"Some emerging research topics and challenges in the field of natural language processing and information retrieval include efficient generation from unstructured knowledge, semantic code search evaluation, unsupervised dense information retrieval, context-aware document term weighting, knowledge refinement through interaction with large language models, and investigating the effectiveness of large language models in search re-ranking.\"},\n",
        "75: {\"question\": \"Question: How do models with different fine-tuning strategies compare in terms of accuracy and F1 score for fact verification tasks?\",\n",
        "  \"gold_answer_research\": \"Models with different fine-tuning strategies are compared in terms of accuracy and F1 score for fact verification tasks. The introduction of LLMs has led to notable developments, with some studies leveraging prompting methods to apply LLMs in IR tasks. However, not all LLMs consistently outperform fine-tuned smaller models. For example, RankGPT based on gpt-3.5-turbo underperforms monoBERT in certain scenarios. Fine-tuning is not strictly necessary for models like GPT3, which has been evaluated on closed book question answering tasks without any updates or fine-tuning.\",\n",
        "  \"gold_answer_marketing\": \"Models with different fine-tuning strategies have shown mixed results in terms of accuracy and F1 score for fact verification tasks. Some studies have found that large language models (LLMs) outperform smaller fine-tuned models, while others have reported inconsistent performance. Factors such as task complexity and the need for prompt methods to apply LLMs in information retrieval tasks can also impact the comparison.\"},\n",
        "76: {\"question\": \"What components does a fact verification task typically involve in order to assess the accuracy of a given statement?\",\n",
        "  \"gold_answer_research\": \"A fact verification task typically involves assessing the relationship between a claim and the evidence provided, analyzing if there is enough information for a conclusive judgment. This task requires a detailed understanding of the claim and evidence to determine if it is supported or refuted. The use of performance metrics based on including gold answers in model generations instead of exact matching can help search engines deliver accurate and relevant results. Additionally, incorporating lexical measures and verification functions can aid in determining the accuracy of statements.\",\n",
        "  \"gold_answer_marketing\": \"A fact verification task typically involves assessing the relationship between a claim and supporting evidence to determine accuracy.\"},\n",
        "78: {\"question\": \"What are the key factors that determine the performance of HALO-aligned models compared to non-HALO models, according to the results presented in the analysis?\",\n",
        "  \"gold_answer_research\": \"According to the analysis presented, the key factors that determine the performance of HALO-aligned models compared to non-HALO models include the specific alignment method used (such as DPO and PPO variant), the model size (significant gap at 13B+ model sizes), and the ability to match or exceed the generation quality of SFT target sequences. Additionally, the study suggests that the cost of increasing model alignment is modest relative to pretraining, and that the modeling of human biases in HALOs may have practical benefits in improving overall performance.\",\n",
        "  \"gold_answer_marketing\": \"The key factor that determines the performance of HALO-aligned models compared to non-HALO models is the model size, with HALO-aligned models generally outperforming non-HALO models at larger sizes (13B+ model sizes).\"},\n",
        "80: {\"question\": \"How does the performance of KTO compare to DPO in model alignment, and what are the potential implications for data usage and training efficiency?\",\n",
        "  \"gold_answer_research\": \"Based on the provided data and experiments, KTO consistently outperforms DPO in model alignment, even with restrictions such as using only one output per input. This suggests that KTO can achieve higher win rates and improve performance across various benchmarks compared to DPO. The implications of this performance difference include the ability to achieve quality generation results with significantly fewer desirable examples, potentially leading to more efficient data usage and training processes. This indicates that KTO may offer a more efficient and effective approach to model alignment compared to DPO.\",\n",
        "  \"gold_answer_marketing\": \"KTO outperforms DPO in model alignment with up to 90% fewer examples. This suggests that KTO can achieve high performance even with imbalanced data, potentially leading to more efficient training processes.\"},\n",
        "81: {\"question\": \"What are some common approaches to building an open-domain question answering system?\",\n",
        "  \"gold_answer_research\": \"Some common approaches to building an open-domain question answering system include using the RAG model, which minimizes the negative log-likelihood of answers, and comparing it to extractive QA paradigms that rely on non-parametric knowledge retrieval. Another approach is to incorporate question rewriting techniques to make open-domain QA more conversational. Additionally, utilizing datasets like QASPER, which contain questions requiring complex reasoning, can improve the performance of the system. References to papers by Anantha et al. and Asai et al. provide further insights into building ODQA systems.\",\n",
        "  \"gold_answer_marketing\": \"Common approaches to building an open-domain question answering system include using retrieval over a knowledge base and incorporating the retrieved content as part of the prompt. Other methods involve pretraining models on large amounts of text data and fine-tuning them for question answering tasks.\"},\n",
        "82: {\"question\": \"What is the difference between open-book and closed-book question answering?\",\n",
        "  \"gold_answer_research\": \"Open-book question answering involves the use of external sources of knowledge, such as Wikipedia, to retrieve information and generate a response. In contrast, closed-book question answering relies on pre-trained language models that have memorized factual knowledge within their parameters to generate responses without explicit context. Closed-book QA can be seen as analogous to a closed-book exam where no external resources are allowed. The key distinction lies in the reliance on external knowledge sources for open-book QA versus internal memorized knowledge for closed-book QA.\",\n",
        "  \"gold_answer_marketing\": \"Open-book question answering involves using external sources of knowledge to answer questions, while closed-book question answering relies on pre-trained language models to provide answers without explicit context.\"},\n",
        "84: {\"question\": \"What are the basic components of the Retriever-Reader framework in open-domain QA?\",\n",
        "  \"gold_answer_research\": \"The basic components of the Retriever-Reader framework in open-domain QA include a retriever model, which fetches relevant information based on input prompts efficiently using FAISS. The retriever component is responsible for retrieving contextually relevant documents or evidence blocks based on the input question. The reader component then processes this retrieved information to generate answers to the questions posed. This framework combines information retrieval and machine reading comprehension to achieve state-of-the-art results in open-domain question answering tasks.\",\n",
        "  \"gold_answer_marketing\": \"The basic components of the Retriever-Reader framework in open-domain QA are the retriever and the reader components, which can be set up and trained independently or jointly trained end-to-end. The retriever component automatically fetches relevant information based on input prompts, while the reader component processes and comprehends the retrieved information to answer questions.\"},\n",
        "85: {\"question\": \"How is the TF-IDF model used in question answering retrieval systems?\",\n",
        "  \"gold_answer_research\": \"In question answering retrieval systems, the TF-IDF model is used to represent queries and documents as bag-of-word vectors with terms weighted by term frequency multiplied by inverse document frequency. This allows for efficient non-learning-based search engine operations based on the vector space model. The TF-IDF model helps in calculating the relevance of documents to queries by measuring the importance of terms in the context of the entire document collection. This classic information retrieval approach aids in retrieving relevant information to answer questions accurately and efficiently.\",\n",
        "  \"gold_answer_marketing\": \"The TF-IDF model is used in question answering retrieval systems to weight terms in queries and documents based on their importance in determining relevance.\"},\n",
        "86: {\"question\": \"Can neural networks enhance the process of information retrieval in QA systems?\",\n",
        "  \"gold_answer_research\": \"Neural networks, such as MLP, LSTM, and bidirectional LSTM, can be used to learn dense representations of text for information retrieval in QA systems. These approaches, known as 'Neural IR', are a new category of methods that can improve performance in retrieval problems. The introduction of neural retrievers in recent QA literature has shown to outperform traditional word-similarity-based architectures, such as BM25, and can scale to handle knowledge-grounded dialogue tasks effectively. Additionally, incorporating pre-trained retrievers in QA systems has been shown to enhance the performance of generative language models.\",\n",
        "  \"gold_answer_marketing\": \"Yes, neural networks can enhance the process of information retrieval in QA systems by improving performance in open-domain QA tasks and enabling the generation of more accurate answers.\"},\n",
        "87: {\"question\": \"What is the importance of fine-tuning in the context of QA data for open-domain question answering models?\",\n",
        "  \"gold_answer_research\": \"Fine-tuning is important in the context of QA data for open-domain question answering models because it allows the model to adapt and improve its performance on specific QA datasets. By fine-tuning the model with common QA datasets, engineers can optimize the model's ability to answer questions accurately. However, there is a concern about the significant overlap between questions in the train and test sets of public QA datasets, which could affect the generalization ability of the fine-tuned models. Engineers should carefully consider this overlap and potentially explore ways to mitigate its impact during the fine-tuning process to ensure the model's effectiveness in real-world applications.\",\n",
        "  \"gold_answer_marketing\": \"Fine-tuning is important in the context of QA data for open-domain question answering models to improve search task performance and the ability to generalize to unseen datasets.\"},\n",
        "88: {\"question\": \"How does pre-training with tasks like the Inverse Cloze Task benefit open-domain question answering models?\",\n",
        "  \"gold_answer_research\": \"Pre-training with tasks like the Inverse Cloze Task benefits open-domain question answering models by improving the retrieval process over a knowledge base. By predicting the context given a sentence, the model can better understand the relationship between the question and the evidence. This approach helps in incorporating retrieved content effectively into the prompt, leading to higher accuracy in the question answering task. Additionally, using models pretrained with ICT can enhance the overall performance of the QA system by providing a better understanding of the context.\",\n",
        "  \"gold_answer_marketing\": \"Pre-training with tasks like the Inverse Cloze Task benefits open-domain question answering models by improving retrieval and generation steps, ultimately enhancing the accuracy of the process.\"},\n",
        "89: {\"question\": \"What is the main goal of prompt engineering in language models?\",\n",
        "  \"gold_answer_research\": \"The main goal of prompt engineering in language models is to effectively steer the behavior of the model towards desired outcomes without updating the model weights. This is achieved by composing and formatting prompts in a way that maximizes the model's performance on a specific task. Prompt engineering involves treating prompts as trainable parameters and optimizing them directly on the embedding space through methods like AutoPrompt, Prefix-Tuning, P-tuning, and Prompt-Tuning. The ultimate aim is to enhance the model's performance and alignment with user-defined tasks.\",\n",
        "  \"gold_answer_marketing\": \"The main goal of prompt engineering in language models is to steer the behavior of the model for desired outcomes without updating the model weights.\"},\n",
        "91: {\"question\": \"What are some known biases that can affect the performance of few-shot classification in LLMs?\",\n",
        "  \"gold_answer_research\": \"Some known biases that can affect the performance of few-shot classification in LLMs include majority label bias, recency bias, and common token bias. Majority label bias occurs when the distribution of labels among examples is unbalanced, recency bias refers to the tendency for the model to repeat the label at the end, and common token bias indicates that LLM tends to produce common tokens more often than rare tokens. These biases can contribute to high variance in few-shot classification tasks and may impact the model's ability to generalize effectively.\",\n",
        "  \"gold_answer_marketing\": \"Some known biases that can affect the performance of few-shot classification in LLMs are majority label bias, recency bias, and common token bias.\"},\n",
        "92: {\"question\": \"Why might increasing model size not reduce variance in model performance with varying prompts?\",\n",
        "  \"gold_answer_research\": \"Increasing model size may not necessarily reduce variance in model performance with varying prompts because the model's ability to generalize and adapt to different prompts is not solely dependent on its size. Factors such as the quality and relevance of the training examples, the learning rate or schedule, and the model's sensitivity to different hyperparameters can also play a significant role in determining performance variability. Additionally, the complexity of the task or dataset being used for training can impact how effectively the model scales with size. It is essential to consider these factors holistically when optimizing model performance rather than relying solely on increasing model size.\",\n",
        "  \"gold_answer_marketing\": \"Increasing model size may not reduce variance in model performance with varying prompts because the same order of prompts may work well for one model but poorly for another. Additionally, when the validation set is limited, choosing the order of prompts that prevents the model from producing extremely unbalanced predictions or being overconfident can also affect performance.\"},\n",
        "93: {\"question\": \"What is the benefit of instruction-based finetuning in language models?\",\n",
        "  \"gold_answer_research\": \"Instruction-based finetuning improves models' ability to generalize to unseen domains and tasks by providing task-specific representations that can be used for many downstream language tasks without additional training. This method also allows pretrained language models to follow instructions provided in prompts, enabling them to generate the desired output given specific inputs. Additionally, instruction finetuning helps transform raw pretrained LLMs into chatbot-like models, making finetuning more accessible and common, particularly for researchers with limited resources. Overall, the benefit of instruction-based finetuning is improved model performance, enhanced generalizability, and reduced communication costs in aligning with human intentions.\",\n",
        "  \"gold_answer_marketing\": \"The benefit of instruction-based finetuning in language models is improved ability to generalize to unseen domains and tasks, without the need for additional training.\"},\n",
        "94: {\"question\": \"Can you describe a situation where retrieval-based methods would be necessary to enhance language model performance?\",\n",
        "  \"gold_answer_research\": \"Retrieval-based methods are necessary to enhance language model performance in scenarios where the model needs to generate accurate and informative responses for entity-rich queries, such as 'George Washington standing in front of the Eiffel Tower.' In such cases, incorporating a retrieval module can provide additional context and relevant information to improve the model's understanding and generation of the desired output. Additionally, retrieval-based methods are crucial for question answering tasks, where the model needs to access external knowledge sources to provide accurate and comprehensive answers. By utilizing retrieval mechanisms, the language model can benefit from a wider range of information and improve its performance in handling complex and ambiguous queries effectively.\",\n",
        "  \"gold_answer_marketing\": \"Retrieval-based methods are necessary to enhance language model performance in tasks like question answering, where incorporating additional information from external sources can improve the model's ability to generate accurate and relevant responses.\"},\n",
        "95: {\"question\": \"What is the Chain-of-Thought prompting technique and for which types of tasks is it particularly beneficial?\",\n",
        "  \"gold_answer_research\": \"Chain-of-Thought (CoT) prompting is a technique that generates reasoning chains or rationales step by step to lead to a final answer, benefiting complicated reasoning tasks using large models with more than 50B parameters. It can be implemented through iterative Monte Carlo search methods or through a three-step process called augment-prune-select. CoT is particularly beneficial for enhancing model performance on complex tasks by decomposing them into smaller and simpler steps, shedding light on the model's thinking process. Task decomposition in CoT can be done with simple prompting, task-specific instructions, or human inputs.\",\n",
        "  \"gold_answer_marketing\": \"Chain-of-Thought (CoT) prompting is a technique that generates reasoning chains or rationales step by step to lead to a final answer. It is particularly beneficial for complicated reasoning tasks when using large models with more than 50B parameters. Simple tasks only benefit slightly from CoT prompting.\"},\n",
        "96: {\"question\": \"How do augmented language models with external tools differ from regular models in functionality?\",\n",
        "  \"gold_answer_research\": \"Augmented language models with external tools, such as TALM and Toolformer, are fine-tuned to learn how to use external tool APIs, expanding their capabilities beyond traditional language processing tasks. These models are trained to incorporate external tool API calls in order to improve the quality of their outputs, allowing them to perform tasks like speech recognition, machine translation, and information retrieval more effectively. By leveraging external tools, these models have the ability to access and utilize a wider range of resources and functionalities, enhancing their overall performance and versatility compared to regular language models.\",\n",
        "  \"gold_answer_marketing\": \"Augmented language models with external tools differ from regular models by fine-tuning a LM to use external tool APIs, expanding the dataset to improve model outputs and enhancing tasks like speech recognition, machine translation, and natural language generation.\"},\n",
        "97: {\"question\": \"What can be inferred about the utilization of attention in neural networks?\",\n",
        "  \"gold_answer_research\": \"Attention mechanisms in neural networks play a crucial role in allowing models to focus on specific parts of input data when making predictions or generating outputs. By assigning importance weights to different elements, such as pixels in an image or words in a sentence, attention helps the model to attend to relevant information and make more accurate predictions. The use of attention can improve the interpretability of neural networks by showing which parts of the input data are being focused on during the prediction process. Additionally, attention mechanisms, like multi-head attention, can enhance model performance by allowing the model to jointly attend to information from different representation subspaces at different positions.\",\n",
        "  \"gold_answer_marketing\": \"Attention in neural networks allows the model to focus on specific parts of input data, such as images or text, in order to make predictions or generate output. It helps the model to learn relationships and correlations between different elements and improve performance in tasks like image captioning or language translation.\"},\n",
        "101: {\"question\": \"Can the use of attention mechanisms in deep learning models be applied to both machine translation and computer vision?\",\n",
        "  \"gold_answer_research\": \"Yes, attention mechanisms in deep learning models have shown success in both machine translation and computer vision tasks. In machine translation, attention allows the model to capture dependencies between source and target sequences regardless of distance, leading to improved translation quality. Similarly, in computer vision, attention mechanisms have been used to focus on relevant parts of an image during caption generation, showcasing the ability to handle details and global dependencies effectively. Therefore, utilizing attention in both domains can enhance the performance of deep learning models significantly.\",\n",
        "  \"gold_answer_marketing\": \"Yes, attention mechanisms in deep learning models can be applied to both machine translation and computer vision.\"},\n",
        "102: {\"question\": \"What are the potential benefits of incorporating self-attention mechanisms into Generative Adversarial Networks (GANs)?\",\n",
        "  \"gold_answer_research\": \"Incorporating self-attention mechanisms into GANs can help the generator and discriminator better model relationships between spatial regions, leading to improved generation of detailed and realistic images. This is particularly useful for capturing global dependencies and enhancing the performance of transformer architectures. Additionally, self-attention can enable the model to assess its own predictions after each generated segment, allowing for customizable decoding algorithms to meet specific constraints or user preferences. Overall, self-attention in GANs can enhance detail handling and overall performance.\",\n",
        "  \"gold_answer_marketing\": \"Incorporating self-attention mechanisms into GANs can help the generator and discriminator better model relationships between spatial regions, leading to improved performance in handling details and capturing global dependencies.\"},\n",
        "103: {\"question\": \"How does the transformer model variate from traditional sequence-aligned recurrent architectures?\",\n",
        "  \"gold_answer_research\": \"The transformer model differs from traditional sequence-aligned recurrent architectures by not having a recurrent or convolutional structure. Instead, it heavily relies on self-attention mechanisms for processing sequences. This lack of recurrence and convolution, even with positional encoding, weakly incorporates sequential order, which can be a drawback for tasks sensitive to positional dependencies. Additionally, the transformer's architecture includes embedding layers, sinusoid-wave-based positional encoding, and softmax and linear layers in the final decoder output to maintain position information and facilitate processing of long sequences efficiently.\",\n",
        "  \"gold_answer_marketing\": \"The transformer model differs from traditional sequence-aligned recurrent architectures by not having a recurrent or convolutional structure, and instead making heavy use of self-attention. This allows for handling very long sequences efficiently and achieving better performance on tasks involving long texts.\"},\n",
        "104: {\"question\": \"What implications does the concept of a Neural Turing Machine have for the theoretical power of neural networks?\",\n",
        "  \"gold_answer_research\": \"The concept of a Neural Turing Machine (NTM) expands the theoretical power of neural networks by incorporating external memory storage, allowing for more complex computations and tasks. This mimics the Turing machine tape, enabling the neural network to control operation heads for reading and writing to the tape. However, the finite memory in NTM suggests it may resemble more of a 'Neural von Neumann Machine,' limiting its mathematical limitlessness seen in traditional Turing machines. Overall, the addition of external memory in NTM enhances the capabilities and potential applications of neural networks in solving more advanced problems.\",\n",
        "  \"gold_answer_marketing\": \"The concept of a Neural Turing Machine suggests that neural networks can be equipped with external memory storage for more complex operations, potentially increasing their theoretical power.\"},\n",
        "}\n",
        "\n",
        "\n",
        "test_questions = {\n",
        "4: {\"question\": \"When was the transformer architecture introduced, and by which organization?\"},\n",
        "5: {\"question\": \"How has the accessibility of powerful language models, such as GPT-3 and GPT-4, been controlled by their developers?\"},\n",
        "6: {\"question\": \"What benchmarks or ratings are used to compare the capabilities of different language models?\"},\n",
        "10: {\"question\": \"What are some of the primary applications for language models in technology and computing?\"},\n",
        "14: {\"question\": \"How are language models typically evaluated and what benchmarks are used for this purpose?\"},\n",
        "15: {\"question\": \"What datasets are available for evaluating language processing systems?\"},\n",
        "21: {\"question\": \"What collaborations with other companies have contributed to the development of Claude's capabilities?\"},\n",
        "26: {\"question\": \"According to DeepMind, how should the number of training tokens change relative to the model size?\"},\n",
        "29: {\"question\": \"How do the sizes of models in the Gopher family range?\"},\n",
        "31: {\"question\": \"What type of model architecture do the Gopher and Chinchilla families belong to?\"},\n",
        "32: {\"question\": \"Can you name the author who wrote the novels A Farewell to Arms and The Sun Also Rises?\"},\n",
        "37: {\"question\": \"What are the key advantages of InstructGPT models over GPT-3 models according to the findings in the research?\"},\n",
        "40: {\"question\": \"What metrics are used to compare the performance of different models on training and validation splits according to the document provided?\"},\n",
        "42: {\"question\": \"What types of evaluation metrics are commonly used to assess the accuracy of answers in AI-driven question and answer datasets?\"},\n",
        "49: {\"question\": \"What factors contribute to the performance improvement in retrieval-augmented language models compared to non-retrieval-augmented models?\"},\n",
        "56: {\"question\": \"What are the benchmarks used to evaluate the performance of the Deep Policy Optimization (DPO) method compared to other preference learning algorithms in the document provided?\"},\n",
        "57: {\"question\": \"What methodologies have been evaluated for training language models to align with human preferences, and how do they compare in terms of effectiveness?\"},\n",
        "58: {\"question\": \"What methods have been discussed in the literature for improving the alignment of language models with human preferences or feedback?\"},\n",
        "66: {\"question\": \"What are some of the evaluation metrics used for assessing different types of text generation tasks presented in the study?\"},\n",
        "68: {\"question\": \"Consider a document related to research in natural language processing or artificial intelligence. Can you name some of the recent topics or methods that have been discussed or introduced in the field according to the document?\"},\n",
        "71: {\"question\": \"What is the significance of using reflection tokens in a model like SELF-RAG?\"},\n",
        "72: {\"question\": \"How does the inclusion of selected context as opposed to appending all retrieved text spans impact computational cost during both training and inference times in language model generation tasks?\"},\n",
        "77: {\"question\": \"What are the benefits of modeling human biases in Human-Aware Loss Optimizations (HALOs), and how do they compare to non-HALOs on the same datasets?\"},\n",
        "79: {\"question\": \"What are the modifications made to the traditional Kahneman-Tversky model to adapt it for optimizing language model performance?\"},\n",
        "83: {\"question\": \"How does a model's ability to answer questions relate to its exposure to specific types of questions during training?\"},\n",
        "90: {\"question\": \"How can adding examples to a prompt affect the performance of language models?\"},\n",
        "98: {\"question\": \"What are the main components of a Neural Turing Machine (NTM) architecture?\"},\n",
        "99: {\"question\": \"How might a seq2seq model's limitations be addressed in natural language processing tasks?\"},\n",
        "100: {\"question\": \"What differentiates hard attention from soft attention in image processing algorithms?\"},\n",
        "}\n"
      ]
    },
    {
      "cell_type": "code",
      "source": [
        "# get max and average sentence length from gold answers marketing\n",
        "num_sentences = 0\n",
        "max_ = 0\n",
        "for q_key, values in validation_questions_answers.items():\n",
        "  sentences = len(values['gold_answer_marketing'].split('.'))\n",
        "  if sentences > max_:\n",
        "    max_ = sentences\n",
        "  num_sentences += sentences\n",
        "print(max_)\n",
        "print(num_sentences / len(validation_questions_answers))"
      ],
      "metadata": {
        "colab": {
          "base_uri": "https://localhost:8080/"
        },
        "id": "cBEnVVLI6NZH",
        "outputId": "0c2222b1-8bcc-4edd-8078-abcda2332775"
      },
      "execution_count": 56,
      "outputs": [
        {
          "output_type": "stream",
          "name": "stdout",
          "text": [
            "5\n",
            "2.493333333333333\n"
          ]
        }
      ]
    },
    {
      "cell_type": "code",
      "source": [
        "# get max and average sentence length from gold answers research\n",
        "num_sentences = 0\n",
        "max_ = 0\n",
        "for q_key, values in validation_questions_answers.items():\n",
        "  sentences = len(values['gold_answer_research'].split('.'))\n",
        "  if sentences > max_:\n",
        "    max_ = sentences\n",
        "  num_sentences += sentences\n",
        "print(max_)\n",
        "print(num_sentences / len(validation_questions_answers))"
      ],
      "metadata": {
        "colab": {
          "base_uri": "https://localhost:8080/"
        },
        "id": "N8vLE8ONA290",
        "outputId": "634516c5-ced4-4547-bbb0-ab0c1737e99b"
      },
      "execution_count": 57,
      "outputs": [
        {
          "output_type": "stream",
          "name": "stdout",
          "text": [
            "7\n",
            "4.733333333333333\n"
          ]
        }
      ]
    },
    {
      "cell_type": "code",
      "source": [
        "# number of questions available\n",
        "len(validation_questions_answers.keys())"
      ],
      "metadata": {
        "colab": {
          "base_uri": "https://localhost:8080/"
        },
        "id": "IBtWan986Twf",
        "outputId": "e4cb46b6-3d88-4907-c029-3f4567c91480"
      },
      "execution_count": 58,
      "outputs": [
        {
          "output_type": "execute_result",
          "data": {
            "text/plain": [
              "75"
            ]
          },
          "metadata": {},
          "execution_count": 58
        }
      ]
    },
    {
      "cell_type": "markdown",
      "metadata": {
        "id": "jC86ggPEuipg"
      },
      "source": [
        "###3.3 Running the RAG System\n",
        "\n",
        "Let's have a quick look at the validation and test data:"
      ]
    },
    {
      "cell_type": "code",
      "execution_count": null,
      "metadata": {
        "id": "ABdr23NUSbTj",
        "colab": {
          "base_uri": "https://localhost:8080/"
        },
        "outputId": "01a34f78-24ce-49ab-e9b5-8c7b68759d5c"
      },
      "outputs": [
        {
          "output_type": "execute_result",
          "data": {
            "text/plain": [
              "{'question': 'What purpose do large language models serve in the field of natural language processing?',\n",
              " 'gold_answer_research': 'Large language models (LLMs) serve the purpose of enabling general-purpose language generation and other natural language processing tasks such as classification. They achieve this by learning statistical relationships from text documents during computationally intensive self-supervised and semi-supervised training. LLMs can be used for text generation by predicting the next token or word, making them valuable for tasks like speech recognition, machine translation, and information retrieval. Additionally, LLMs have superseded previous models like recurrent neural networks, showcasing their efficiency and effectiveness in NLP tasks.',\n",
              " 'gold_answer_marketing': 'Large language models serve the purpose of improving performance in various natural language processing tasks, such as speech recognition, machine translation, natural language generation, optical character recognition, handwriting recognition, grammar induction, and information retrieval.'}"
            ]
          },
          "metadata": {},
          "execution_count": 63
        }
      ],
      "source": [
        "validation_questions_answers[0]"
      ]
    },
    {
      "cell_type": "code",
      "execution_count": null,
      "metadata": {
        "id": "Ra_p5DhzSbeN",
        "colab": {
          "base_uri": "https://localhost:8080/"
        },
        "outputId": "32bf353e-c636-4289-892d-35f90b88d1e5"
      },
      "outputs": [
        {
          "output_type": "execute_result",
          "data": {
            "text/plain": [
              "{'question': 'When was the transformer architecture introduced, and by which organization?'}"
            ]
          },
          "metadata": {},
          "execution_count": 64
        }
      ],
      "source": [
        "test_questions[4]"
      ]
    },
    {
      "cell_type": "markdown",
      "metadata": {
        "id": "2FQbNGECSq1g"
      },
      "source": [
        "Let's now use the data to ask questions against it. So we need to define our prompt templates, the RAG Chain, etc.\n",
        "\n",
        "We have two types of User Personas we need to support:\n",
        "\n",
        "1. The engineers, who require pretty detailed information when they ask questions  \n",
        "2. The marketing team and supporting staff who also will ask questions around GenAI in order to better understand the products and the field as a whole, but a lot more high level answers would likely be in order\n",
        "\n",
        "**Below, please build your RAG pipeline including the relevant prompts. This is free form so you will need to create your own cells, text documentation as you need, etc.**"
      ]
    },
    {
      "cell_type": "code",
      "source": [
        "retriever = qdrant_vectorstore.as_retriever()\n",
        "retriever_dec = qdrant_vectorstore_dec_chunk.as_retriever()\n",
        "retriever_inc = qdrant_vectorstore_inc_chunk.as_retriever()\n"
      ],
      "metadata": {
        "id": "_cekcA9xhCmR"
      },
      "execution_count": 59,
      "outputs": []
    },
    {
      "cell_type": "code",
      "source": [
        "def format_docs(docs):\n",
        "    return \"\\n\\n\".join(doc.page_content for doc in docs)"
      ],
      "metadata": {
        "id": "hs8I8E3dDvaG"
      },
      "execution_count": 60,
      "outputs": []
    },
    {
      "cell_type": "code",
      "source": [
        "# Mistral pipeline prompt specific\n",
        "output_parser = StrOutputParser()\n",
        "\n",
        "rag_template = \"\"\"[INST]Please answer the question below only based on the context information provided.\\n\\nHere is a context:\\n{context} \\n\\nHere is a question: \\n{question}.[/INST]\"\"\"\n",
        "rag_prompt = ChatPromptTemplate.from_template(rag_template)\n",
        "\n",
        "# base\n",
        "base_rag_chain = (\n",
        "    {\"context\": retriever | format_docs,\n",
        "     \"question\": RunnablePassthrough()}\n",
        "    | rag_prompt\n",
        "    | mistral_llm_lc\n",
        "\n",
        ")\n",
        "\n",
        "# adjust chunk and overlap\n",
        "# chunk 50 overlap 10\n",
        "rag_chain_dec_chunk = (\n",
        "    {\"context\": retriever_dec | format_docs,\n",
        "     \"question\": RunnablePassthrough()}\n",
        "    | rag_prompt\n",
        "    | mistral_llm_lc\n",
        "\n",
        ")\n",
        "\n",
        "# chunk 500 overlap 50\n",
        "rag_chain_inc_chunk = (\n",
        "    {\"context\": retriever_inc | format_docs,\n",
        "     \"question\": RunnablePassthrough()}\n",
        "    | rag_prompt\n",
        "    | mistral_llm_lc\n",
        "\n",
        ")\n",
        "\n",
        "# prompt engineering, adjust prompt templates\n",
        "rag_template_res = \"\"\"[INST]You are providing answers to engineers at a tech company. Answers should be technical and limited to 5 sentences. Please answer the question below only based on the context information provided.\\n\\nHere is a context:\\n{context} \\n\\nHere is a question: \\n{question}.[/INST]\"\"\"\n",
        "rag_prompt_res = ChatPromptTemplate.from_template(rag_template_res)\n",
        "\n",
        "rag_chain_prompt_res = (\n",
        "    {\"context\": retriever | format_docs,\n",
        "     \"question\": RunnablePassthrough()}\n",
        "    | rag_prompt_res\n",
        "    | mistral_llm_lc\n",
        "\n",
        ")\n",
        "\n",
        "rag_template_market = \"\"\"[INST]You are providing answers to a marketing team at a tech company. Answers should be general and non-technical and limited to 3 sentences. Please answer the question below only based on the context information provided.\\n\\nHere is a context:\\n{context} \\n\\nHere is a question: \\n{question}.[/INST]\"\"\"\n",
        "rag_prompt_market = ChatPromptTemplate.from_template(rag_template_market)\n",
        "\n",
        "rag_chain_prompt_market = (\n",
        "    {\"context\": retriever | format_docs,\n",
        "     \"question\": RunnablePassthrough()}\n",
        "    | rag_prompt_market\n",
        "    | mistral_llm_lc\n",
        "\n",
        ")\n",
        "\n",
        "# dec chunk and prompt\n",
        "rag_chain_dec_chunk_prompt_res = (\n",
        "    {\"context\": retriever_dec | format_docs,\n",
        "     \"question\": RunnablePassthrough()}\n",
        "    | rag_prompt_res\n",
        "    | mistral_llm_lc\n",
        "\n",
        ")\n",
        "\n",
        "rag_chain_dec_chunk_prompt_market = (\n",
        "    {\"context\": retriever_dec | format_docs,\n",
        "     \"question\": RunnablePassthrough()}\n",
        "    | rag_prompt_market\n",
        "    | mistral_llm_lc\n",
        "\n",
        ")\n",
        "\n",
        "# inc chunk and prompt\n",
        "rag_chain_inc_chunk_prompt_res = (\n",
        "    {\"context\": retriever_inc | format_docs,\n",
        "     \"question\": RunnablePassthrough()}\n",
        "    | rag_prompt_res\n",
        "    | mistral_llm_lc\n",
        "\n",
        ")\n",
        "\n",
        "rag_chain_inc_chunk_prompt_market = (\n",
        "    {\"context\": retriever_inc | format_docs,\n",
        "     \"question\": RunnablePassthrough()}\n",
        "    | rag_prompt_market\n",
        "    | mistral_llm_lc\n",
        "\n",
        ")"
      ],
      "metadata": {
        "id": "XOABOkVPdxb7"
      },
      "execution_count": 61,
      "outputs": []
    },
    {
      "cell_type": "code",
      "source": [
        "# Cohere pipeline prompt specific and tailored for cohere\n",
        "# https://txt.cohere.com/constructing-prompts/\n",
        "\n",
        "# baseline\n",
        "cohere_base_rag_chain = (\n",
        "    {\"context\": retriever | format_docs,\n",
        "     \"question\": RunnablePassthrough()}\n",
        "    | rag_prompt\n",
        "    | cohere_chat_model\n",
        "    | output_parser\n",
        ")\n",
        "\n",
        "## adjust chunk and overlap\n",
        "# cohere recommended template places context first: https://txt.cohere.com/constructing-prompts/\n",
        "cohere_rag_template_res = \"\"\"{context} Given the information above, answer this question: {user_input}\"\"\"\n",
        "cohere_rag_prompt_res = ChatPromptTemplate.from_template(cohere_rag_template_res)\n",
        "# chunk 50 overlap 10\n",
        "cohere_rag_chain_dec_chunk = (\n",
        "    {\"context\": retriever_dec | format_docs,\n",
        "     \"question\": RunnablePassthrough()}\n",
        "    | rag_prompt\n",
        "    | cohere_chat_model\n",
        "    | output_parser\n",
        ")\n",
        "\n",
        "# chunk 500 overlap 100\n",
        "cohere_rag_chain_inc_chunk = (\n",
        "    {\"context\": retriever_inc | format_docs,\n",
        "     \"question\": RunnablePassthrough()}\n",
        "    | rag_prompt\n",
        "    | cohere_chat_model\n",
        "    | output_parser\n",
        ")\n",
        "\n",
        "# #prompt specific\n",
        "cohere_rag_template_res = \"\"\"{context} Only using the information above, answer this question with a technical response. Response must be 5 sentences or less: {user_input}\"\"\"\n",
        "cohere_rag_prompt_res = ChatPromptTemplate.from_template(cohere_rag_template_res)\n",
        "\n",
        "cohere_rag_chain_prompt_res = (\n",
        "    {\"context\": retriever | format_docs,\n",
        "     \"user_input\": RunnablePassthrough()}\n",
        "    | cohere_rag_prompt_res\n",
        "    | cohere_chat_model\n",
        "    | output_parser\n",
        ")\n",
        "\n",
        "cohere_rag_template_market = \"\"\"{context} Only using the information above, answer this question with a non-technical response. Response must be 3 sentences or less: {user_input}\"\"\"\n",
        "cohere_rag_prompt_market = ChatPromptTemplate.from_template(cohere_rag_template_market)\n",
        "\n",
        "cohere_rag_chain_prompt_market = (\n",
        "    {\"context\": retriever | format_docs,\n",
        "     \"user_input\": RunnablePassthrough()}\n",
        "    | cohere_rag_prompt_market\n",
        "    | cohere_chat_model\n",
        "    | output_parser\n",
        ")\n",
        "\n",
        "# dec chunk and prompt\n",
        "cohere_rag_chain_dec_chunk_prompt_res = (\n",
        "    {\"context\": retriever_dec | format_docs,\n",
        "     \"user_input\": RunnablePassthrough()}\n",
        "    | cohere_rag_prompt_res\n",
        "    | cohere_chat_model\n",
        "    | output_parser\n",
        ")\n",
        "\n",
        "cohere_rag_chain_dec_chunk_prompt_market = (\n",
        "    {\"context\": retriever_dec | format_docs,\n",
        "     \"user_input\": RunnablePassthrough()}\n",
        "    | cohere_rag_prompt_market\n",
        "    | cohere_chat_model\n",
        "    | output_parser\n",
        ")\n",
        "\n",
        "# inc chunk and prompt\n",
        "cohere_rag_chain_inc_chunk_prompt_res = (\n",
        "    {\"context\": retriever_inc | format_docs,\n",
        "     \"user_input\": RunnablePassthrough()}\n",
        "    | cohere_rag_prompt_res\n",
        "    | cohere_chat_model\n",
        "    | output_parser\n",
        ")\n",
        "\n",
        "cohere_rag_chain_inc_chunk_prompt_market = (\n",
        "    {\"context\": retriever_inc | format_docs,\n",
        "     \"user_input\": RunnablePassthrough()}\n",
        "    | cohere_rag_prompt_market\n",
        "    | cohere_chat_model\n",
        "    | output_parser\n",
        ")"
      ],
      "metadata": {
        "id": "a64Lj8sId0YB"
      },
      "execution_count": 62,
      "outputs": []
    },
    {
      "cell_type": "code",
      "source": [
        "model_dict = {'baseline_mistral': base_rag_chain,\n",
        "              'baseline_cohere': cohere_base_rag_chain,\n",
        "              'chunk_dec_mistral': rag_chain_dec_chunk,\n",
        "              'chunk_dec_cohere': cohere_rag_chain_dec_chunk,\n",
        "              'chunk_inc_mistral': rag_chain_inc_chunk,\n",
        "              'chunk_inc_cohere': cohere_rag_chain_inc_chunk,\n",
        "              'prompt_res_mistral': rag_chain_prompt_res,\n",
        "              'prompt_res_cohere': cohere_rag_chain_prompt_res,\n",
        "              'prompt_market_mistral': rag_chain_prompt_market,\n",
        "              'prompt_market_cohere': cohere_rag_chain_prompt_market,\n",
        "              'chunk_dec_prompt_res_mistral': rag_chain_dec_chunk_prompt_res,\n",
        "              'chunk_dec_prompt_res_cohere': cohere_rag_chain_dec_chunk_prompt_res,\n",
        "              'chunk_dec_prompt_market_mistral': cohere_rag_chain_dec_chunk_prompt_market,\n",
        "              'chunk_dec_prompt_market_cohere': cohere_rag_chain_dec_chunk_prompt_market,\n",
        "              'chunk_inc_prompt_res_mistral': rag_chain_inc_chunk_prompt_res,\n",
        "              'chunk_inc_prompt_res_cohere': cohere_rag_chain_inc_chunk_prompt_res,\n",
        "              'chunk_inc_prompt_market_mistral': cohere_rag_chain_inc_chunk_prompt_market,\n",
        "              'chunk_inc_prompt_market_cohere': cohere_rag_chain_inc_chunk_prompt_market\n",
        "              }\n",
        "\n",
        "\n",
        "results_dict = {key: {'research': {}, 'marketing': {}} for key in model_dict.keys()}"
      ],
      "metadata": {
        "id": "71rqcQEW241P"
      },
      "execution_count": 63,
      "outputs": []
    },
    {
      "cell_type": "code",
      "source": [
        "models_to_test = ['chunk_inc_prompt_market_cohere']\n",
        "# models_to_test = ['baseline_mistral', 'baseline_cohere','prompt_res_mistral', 'prompt_res_cohere', 'prompt_market_mistral', 'prompt_market_cohere']\n",
        "# models_to_test = list(model_dict.keys())"
      ],
      "metadata": {
        "id": "C6gGDYm84zSa"
      },
      "execution_count": null,
      "outputs": []
    },
    {
      "cell_type": "code",
      "source": [
        "# Select questions to use for generation\n",
        "start, end = 3, 23\n",
        "q_keys = [key for key in list(validation_questions_answers.keys())[start:end]]\n",
        "questions = [validation_questions_answers[key]['question'] for key in list(validation_questions_answers.keys())[start:end]]"
      ],
      "metadata": {
        "id": "fQCTFy0Gzlf0"
      },
      "execution_count": null,
      "outputs": []
    },
    {
      "cell_type": "code",
      "source": [
        "import time\n",
        "\n",
        "# Generate outputs\n",
        "for name in results_dict.keys():\n",
        "  if name in models_to_test:\n",
        "    print('_'*30, f'\\nGenerating output for {name} models\\n', )\n",
        "\n",
        "    if 'res' in name:\n",
        "      results_dict[name]['research'] = dict(zip(q_keys, model_dict[name].batch(questions)))\n",
        "\n",
        "    elif 'market' in name:\n",
        "      results_dict[name]['marketing'] = dict(zip(q_keys, model_dict[name].batch(questions)))\n",
        "\n",
        "    # research and marketing will have the same generated output for non-prompt engineered template based models\n",
        "    else:\n",
        "      results_dict[name]['research'] = dict(zip(q_keys, model_dict[name].batch(questions)))\n",
        "      results_dict[name]['marketing'] = results_dict[name]['research']\n",
        "\n",
        "      # sleep timer due to cohere throttle limits\n",
        "    # if 'cohere' in name:\n",
        "    #   time.sleep(60)\n"
      ],
      "metadata": {
        "colab": {
          "base_uri": "https://localhost:8080/"
        },
        "id": "wfPtTRCj3TZR",
        "outputId": "bced193c-31b1-4aea-f2c7-db3efb52a3e7"
      },
      "execution_count": null,
      "outputs": [
        {
          "output_type": "stream",
          "name": "stdout",
          "text": [
            "______________________________ \n",
            "Generating output for chunk_inc_prompt_market_cohere models\n",
            "\n"
          ]
        }
      ]
    },
    {
      "cell_type": "code",
      "source": [
        "results_dict['chunk_inc_prompt_market_mistral']['marketing'].keys()"
      ],
      "metadata": {
        "colab": {
          "base_uri": "https://localhost:8080/"
        },
        "id": "cIQg3Gj7R5L5",
        "outputId": "045c06c0-1713-459c-a5b0-d7de87670e54"
      },
      "execution_count": null,
      "outputs": [
        {
          "output_type": "execute_result",
          "data": {
            "text/plain": [
              "dict_keys([3, 7, 8, 9, 11, 12, 13, 16, 17, 18, 19, 20, 22, 23, 24, 25, 27, 28, 30, 33])"
            ]
          },
          "metadata": {},
          "execution_count": 251
        }
      ]
    },
    {
      "cell_type": "code",
      "source": [
        "import pickle\n",
        "from google.colab import drive\n",
        "\n",
        "def save_dict_to_drive(dictionary, file_name):\n",
        "    # Mount Google Drive\n",
        "    drive.mount('/content/drive')\n",
        "\n",
        "    # Serialize dictionary to pickle\n",
        "    pickle_data = pickle.dumps(dictionary)\n",
        "\n",
        "    # Write pickle file to Google Drive\n",
        "    with open(f\"/content/drive/My Drive/Colab Notebooks/Assignment5/{file_name}\", \"wb\") as f:\n",
        "        f.write(pickle_data)\n",
        "\n",
        "    print(f\"Dictionary saved as {file_name} to Google Drive.\")\n",
        "\n",
        "def load_dict_from_drive(file_name):\n",
        "    # Mount Google Drive\n",
        "    drive.mount('/content/drive')\n",
        "\n",
        "    # Load pickle file from Google Drive\n",
        "    with open(f\"/content/drive/My Drive/Colab Notebooks/Assignment5/{file_name}\", \"rb\") as f:\n",
        "        pickle_data = f.read()\n",
        "\n",
        "    # Deserialize pickle data back to dictionary\n",
        "    dictionary = pickle.loads(pickle_data)\n",
        "\n",
        "    return dictionary"
      ],
      "metadata": {
        "id": "XT0KvUhzBulr"
      },
      "execution_count": 66,
      "outputs": []
    },
    {
      "cell_type": "code",
      "source": [
        "save_dict_to_drive(results_dict, 'raw_predictions_dict.pkl')"
      ],
      "metadata": {
        "colab": {
          "base_uri": "https://localhost:8080/"
        },
        "id": "uVEIvCnTsp3_",
        "outputId": "e897daa1-cc63-4a25-f473-d405d101be20"
      },
      "execution_count": null,
      "outputs": [
        {
          "output_type": "stream",
          "name": "stdout",
          "text": [
            "Drive already mounted at /content/drive; to attempt to forcibly remount, call drive.mount(\"/content/drive\", force_remount=True).\n",
            "Dictionary saved as raw_predictions_dict.pkl to Google Drive.\n"
          ]
        }
      ]
    },
    {
      "cell_type": "code",
      "source": [
        "# get response only from mistral\n",
        "for model, department in results_dict.items():\n",
        "  if 'mistral' in model:\n",
        "    for dep, predictions in department.items():\n",
        "      for key, pred in predictions.items():\n",
        "        results_dict[model][dep][key] = pred.split('[/INST]')[-1].strip()"
      ],
      "metadata": {
        "id": "ARVNuqDTjeMB"
      },
      "execution_count": null,
      "outputs": []
    },
    {
      "cell_type": "code",
      "source": [
        "# merge res and market responses for prompt engineered models\n",
        "refined_dict = {}\n",
        "for model in results_dict.keys():\n",
        "\n",
        "  if 'prompt' not in model:\n",
        "    refined_dict[model] = {'research': {}, 'marketing': {}}\n",
        "    refined_dict[model]['research'] = results_dict[model]['research']\n",
        "    refined_dict[model]['marketing'] = results_dict[model]['marketing']\n",
        "\n",
        "  elif 'prompt_res_' in model:\n",
        "    # new name will be '*prompt_model'\n",
        "    merge_name = model.replace('_res', '')\n",
        "    market_model = model.replace('_res', '_market')\n",
        "\n",
        "    refined_dict[merge_name] = {'research': {}, 'marketing': {}}\n",
        "    refined_dict[merge_name]['research'] = results_dict[model]['research']\n",
        "    refined_dict[merge_name]['marketing'] = results_dict[market_model]['marketing']\n"
      ],
      "metadata": {
        "id": "LftsHPa7lEpU"
      },
      "execution_count": null,
      "outputs": []
    },
    {
      "cell_type": "code",
      "source": [
        "save_dict_to_drive(refined_dict, 'refined_predictions_dict.pkl')"
      ],
      "metadata": {
        "colab": {
          "base_uri": "https://localhost:8080/"
        },
        "id": "5hQOYlDizX9y",
        "outputId": "9511c394-daf6-436b-bcb6-ae1fec41e3ee"
      },
      "execution_count": null,
      "outputs": [
        {
          "output_type": "stream",
          "name": "stdout",
          "text": [
            "Drive already mounted at /content/drive; to attempt to forcibly remount, call drive.mount(\"/content/drive\", force_remount=True).\n",
            "Dictionary saved as refined_predictions_dict.pkl to Google Drive.\n"
          ]
        }
      ]
    },
    {
      "cell_type": "code",
      "source": [
        "import copy\n",
        "del results_dict\n",
        "results_dict = copy.deepcopy(refined_dict)"
      ],
      "metadata": {
        "id": "I4NgPT38ugLL"
      },
      "execution_count": null,
      "outputs": []
    },
    {
      "cell_type": "code",
      "source": [
        "results_dict['prompt_cohere']['marketing'].keys()"
      ],
      "metadata": {
        "colab": {
          "base_uri": "https://localhost:8080/"
        },
        "id": "1QCOCzB_NZlA",
        "outputId": "8cc13b98-407a-4415-fe0b-ff30b50884a9"
      },
      "execution_count": null,
      "outputs": [
        {
          "output_type": "execute_result",
          "data": {
            "text/plain": [
              "dict_keys([3, 7, 8, 9, 11, 12, 13, 16, 17, 18, 19, 20, 22, 23, 24, 25, 27, 28, 30, 33])"
            ]
          },
          "metadata": {},
          "execution_count": 267
        }
      ]
    },
    {
      "cell_type": "markdown",
      "metadata": {
        "id": "jJE1wexvV7ay"
      },
      "source": [
        "##4. Tests & Evaluations\n",
        "\n",
        "Here you should evaluate the results. First, you should define your evaluation metrics and then you should run evaluation tests. This is really your area, but key results to show are:\n",
        "\n",
        "1) Your metrics of choice  \n",
        "2) How  your various models compare to the labeled validation data.\n",
        "\n",
        "Make sure you look at the results for the marketing team and the research team separately.\n",
        "\n",
        "**Note:** You do not need to run all models against all labeled questions, as that may take some time. Just do that for a few models/configs, and test a larger set with a smaller subset.\n",
        "\n",
        "**This is free form so you will need to create your own cells, text documentation as you need, etc.**\n",
        "\n",
        "###4.1. Metrics\n",
        "\n",
        "Please define and motivate your metrics here. Please feel free to add more text and code cells as needed.\n",
        "\n"
      ]
    },
    {
      "cell_type": "code",
      "source": [
        "%%capture\n",
        "\n",
        "# BERTscore\n",
        "from evaluate import load\n",
        "bertscore = load(\"bertscore\")\n",
        "\n",
        "# Meteor\n",
        "meteor = load('meteor')\n",
        "\n",
        "# Langchain pairwise comparison\n",
        "from langchain.evaluation import load_evaluator\n",
        "# pairwise_eval = load_evaluator(\"labeled_pairwise_string\", requires_reference=True, llm=mistral_llm_lc)\n",
        "pairwise_eval = load_evaluator(\"labeled_pairwise_string\", requires_reference=True, llm=cohere_chat_model)\n"
      ],
      "metadata": {
        "id": "h4fJaHIOc0LA"
      },
      "execution_count": 76,
      "outputs": []
    },
    {
      "cell_type": "code",
      "source": [
        "#make metrics dictionary attached to each model\n",
        "for model in results_dict.keys():\n",
        "  results_dict[model]['metrics'] = {}\n",
        "\n",
        "# compute BERTscore and meteor\n",
        "for model, departments in results_dict.items():\n",
        "  for dep, predictions in departments.items():\n",
        "\n",
        "    # not all models do both marketing\n",
        "    if dep != 'metrics' and len(predictions) > 0:\n",
        "\n",
        "      keys, preds = list(predictions.keys()), list(predictions.values())\n",
        "      refs = [validation_questions_answers[key][f'gold_answer_{dep}'] for key in keys]\n",
        "\n",
        "      results_dict[model]['metrics'][f'Meteor_{dep}'] = meteor.compute(predictions=preds, references=refs)\n",
        "      results_dict[model]['metrics'][f'BERTscore_{dep}'] = bertscore.compute(predictions=preds, references=refs, lang='en')"
      ],
      "metadata": {
        "id": "vT3qKHQPrUm4",
        "colab": {
          "base_uri": "https://localhost:8080/",
          "height": 565,
          "referenced_widgets": [
            "c1966ce63a6e4b78af43ae950bf54e73",
            "0001dc520c684f7d8cc0c9971061cbdf",
            "f6390239ab634986962d633918aaa09a",
            "f666cb7ea0cf4c6f8f790ec5ae25950a",
            "6a0bf6395c114aec981fbcc76a0e407e",
            "99ca470f40e74bd78a0a4ebd49aeffdc",
            "850f4bcc80e04ad18d3e691ed8e4e492",
            "35223421c0504367bc1ece9afa188631",
            "6683ec24b6ef452c85e71a02decbf14b",
            "8a17ec8fcee44523972be929399d5b5e",
            "2bccd91da74241dba90aeeac32a1688b",
            "4dc1092dae504b4098721aca21ad0705",
            "f6336ca7edc74d189077a61e75522745",
            "90f64783b7384bbbb01c707e65a5adb5",
            "7a698ac3ef0447fcb44ae00206da625d",
            "592e58f59a274ffcae7c914954e83a53",
            "48cea5d30ad14c72979fc93ec991f91d",
            "a881792cfd1e4a4dba4de2b0684224dc",
            "de2e050592414a9ca2da5a42ba78a5bc",
            "4be6be422d9643c791788d077975fde1",
            "178acb68200e4c2397ae64094c13370f",
            "e6a76569af6747e8968678b113e80652",
            "02b5389be01f4bf28c0fe1884ba5aa02",
            "23265201284c4206bd5dee1ab088bfab",
            "01485bc4b03341f6b6fe8e87d6b3028f",
            "188a88df06ec43e5b9c8cfdb99e385b3",
            "ad50ef1593ed4180be653edb273e2497",
            "14d6554c1dfa44db8731af0ffb787c4b",
            "931491d8c14645f997ba3e4c167f8ec5",
            "becb5d556d3349678b08f44fb2b9db6e",
            "956c42d726ed481881cd50ea22ca77ee",
            "15e42074ad554ec8a9b222d6e6f0e5a9",
            "73e7fd41af184e6aa00a6197dfcce99a",
            "86ae30ac4f0f43baa83d54b704a1d4ad",
            "1c43ce603c9d4322a70797cd22f51fc7",
            "548dc5a2706f424d9cf30b86489eecdc",
            "952513f50570490481e4e59a99813921",
            "a9e9b559b31d41b9ace83a9f84de3455",
            "6bb90f24a7c7454ba83d2b0b329e4234",
            "cb85ad9fc32a41d1a29b3b347e7f2e69",
            "205f3d7449e64bfaa4128a3a31075288",
            "7b75ec2e6b6f42849d042e8163fb0bf6",
            "83a4f3863ac044f2906c93ec2fa1aaee",
            "f5983cbcb7bb49cea33c633baf6872d0",
            "48b0b557f3a247f289e5831bbc7ab9cc",
            "4c90926174174d9c80bb9146d536489d",
            "7714daea4edb46528cd6a6ac7e26efb4",
            "baa7ed92e0004294b63b015bf1f4653f",
            "b864c63d32a74700aa0efa8e5a873390",
            "f6a5839d629a43409182f4fbdd01a43f",
            "12f0a26ccee941feb3686a49b41c6787",
            "679d2f0b509543438bb0f8888e234e9a",
            "bf8e5706365642feb169a52b1e1fa33b",
            "d70481fa641849e19569e0cf5f795ffa",
            "c173608ff6874c21806aa3ed650863ee",
            "0bc5e77a90924e928b5866c009ce172f",
            "30547bf920f44e3ea0067d8ac9498ff2",
            "65d33766ce024902afe99bf88cc3ba90",
            "1a9ca6257a7644809c6bbf915f4e1dea",
            "2ea8921fe82e469a9670cd0931fae5a2",
            "76f57d2fd2a149f69ee4f72ed3388f1a",
            "dd510f20134945f0b783e07cd4e2f10b",
            "24783767cdb74dc88665d57c0daef17b",
            "485b283fafc74cd4ac19da366e6bc573",
            "33989e14923145f7a263cbe883626c32",
            "ac74a2311dc24ac7b1e6bdad097d4307"
          ]
        },
        "outputId": "559b297c-8ca7-496f-c604-4d5576b6811e"
      },
      "execution_count": 77,
      "outputs": [
        {
          "output_type": "display_data",
          "data": {
            "text/plain": [
              "tokenizer_config.json:   0%|          | 0.00/25.0 [00:00<?, ?B/s]"
            ],
            "application/vnd.jupyter.widget-view+json": {
              "version_major": 2,
              "version_minor": 0,
              "model_id": "c1966ce63a6e4b78af43ae950bf54e73"
            }
          },
          "metadata": {}
        },
        {
          "output_type": "display_data",
          "data": {
            "text/plain": [
              "config.json:   0%|          | 0.00/482 [00:00<?, ?B/s]"
            ],
            "application/vnd.jupyter.widget-view+json": {
              "version_major": 2,
              "version_minor": 0,
              "model_id": "4dc1092dae504b4098721aca21ad0705"
            }
          },
          "metadata": {}
        },
        {
          "output_type": "display_data",
          "data": {
            "text/plain": [
              "vocab.json:   0%|          | 0.00/899k [00:00<?, ?B/s]"
            ],
            "application/vnd.jupyter.widget-view+json": {
              "version_major": 2,
              "version_minor": 0,
              "model_id": "02b5389be01f4bf28c0fe1884ba5aa02"
            }
          },
          "metadata": {}
        },
        {
          "output_type": "display_data",
          "data": {
            "text/plain": [
              "merges.txt:   0%|          | 0.00/456k [00:00<?, ?B/s]"
            ],
            "application/vnd.jupyter.widget-view+json": {
              "version_major": 2,
              "version_minor": 0,
              "model_id": "86ae30ac4f0f43baa83d54b704a1d4ad"
            }
          },
          "metadata": {}
        },
        {
          "output_type": "display_data",
          "data": {
            "text/plain": [
              "tokenizer.json:   0%|          | 0.00/1.36M [00:00<?, ?B/s]"
            ],
            "application/vnd.jupyter.widget-view+json": {
              "version_major": 2,
              "version_minor": 0,
              "model_id": "48b0b557f3a247f289e5831bbc7ab9cc"
            }
          },
          "metadata": {}
        },
        {
          "output_type": "display_data",
          "data": {
            "text/plain": [
              "model.safetensors:   0%|          | 0.00/1.42G [00:00<?, ?B/s]"
            ],
            "application/vnd.jupyter.widget-view+json": {
              "version_major": 2,
              "version_minor": 0,
              "model_id": "0bc5e77a90924e928b5866c009ce172f"
            }
          },
          "metadata": {}
        },
        {
          "output_type": "stream",
          "name": "stderr",
          "text": [
            "Some weights of RobertaModel were not initialized from the model checkpoint at roberta-large and are newly initialized: ['roberta.pooler.dense.bias', 'roberta.pooler.dense.weight']\n",
            "You should probably TRAIN this model on a down-stream task to be able to use it for predictions and inference.\n"
          ]
        },
        {
          "output_type": "error",
          "ename": "KeyboardInterrupt",
          "evalue": "",
          "traceback": [
            "\u001b[0;31m---------------------------------------------------------------------------\u001b[0m",
            "\u001b[0;31mKeyboardInterrupt\u001b[0m                         Traceback (most recent call last)",
            "\u001b[0;32m<ipython-input-77-db929b312ecf>\u001b[0m in \u001b[0;36m<cell line: 6>\u001b[0;34m()\u001b[0m\n\u001b[1;32m     13\u001b[0m       \u001b[0mrefs\u001b[0m \u001b[0;34m=\u001b[0m \u001b[0;34m[\u001b[0m\u001b[0mvalidation_questions_answers\u001b[0m\u001b[0;34m[\u001b[0m\u001b[0mkey\u001b[0m\u001b[0;34m]\u001b[0m\u001b[0;34m[\u001b[0m\u001b[0;34mf'gold_answer_{dep}'\u001b[0m\u001b[0;34m]\u001b[0m \u001b[0;32mfor\u001b[0m \u001b[0mkey\u001b[0m \u001b[0;32min\u001b[0m \u001b[0mkeys\u001b[0m\u001b[0;34m]\u001b[0m\u001b[0;34m\u001b[0m\u001b[0;34m\u001b[0m\u001b[0m\n\u001b[1;32m     14\u001b[0m \u001b[0;34m\u001b[0m\u001b[0m\n\u001b[0;32m---> 15\u001b[0;31m       \u001b[0mresults_dict\u001b[0m\u001b[0;34m[\u001b[0m\u001b[0mmodel\u001b[0m\u001b[0;34m]\u001b[0m\u001b[0;34m[\u001b[0m\u001b[0;34m'metrics'\u001b[0m\u001b[0;34m]\u001b[0m\u001b[0;34m[\u001b[0m\u001b[0;34mf'Meteor_{dep}'\u001b[0m\u001b[0;34m]\u001b[0m \u001b[0;34m=\u001b[0m \u001b[0mmeteor\u001b[0m\u001b[0;34m.\u001b[0m\u001b[0mcompute\u001b[0m\u001b[0;34m(\u001b[0m\u001b[0mpredictions\u001b[0m\u001b[0;34m=\u001b[0m\u001b[0mpreds\u001b[0m\u001b[0;34m,\u001b[0m \u001b[0mreferences\u001b[0m\u001b[0;34m=\u001b[0m\u001b[0mrefs\u001b[0m\u001b[0;34m)\u001b[0m\u001b[0;34m\u001b[0m\u001b[0;34m\u001b[0m\u001b[0m\n\u001b[0m\u001b[1;32m     16\u001b[0m       \u001b[0mresults_dict\u001b[0m\u001b[0;34m[\u001b[0m\u001b[0mmodel\u001b[0m\u001b[0;34m]\u001b[0m\u001b[0;34m[\u001b[0m\u001b[0;34m'metrics'\u001b[0m\u001b[0;34m]\u001b[0m\u001b[0;34m[\u001b[0m\u001b[0;34mf'BERTscore_{dep}'\u001b[0m\u001b[0;34m]\u001b[0m \u001b[0;34m=\u001b[0m \u001b[0mbertscore\u001b[0m\u001b[0;34m.\u001b[0m\u001b[0mcompute\u001b[0m\u001b[0;34m(\u001b[0m\u001b[0mpredictions\u001b[0m\u001b[0;34m=\u001b[0m\u001b[0mpreds\u001b[0m\u001b[0;34m,\u001b[0m \u001b[0mreferences\u001b[0m\u001b[0;34m=\u001b[0m\u001b[0mrefs\u001b[0m\u001b[0;34m,\u001b[0m \u001b[0mlang\u001b[0m\u001b[0;34m=\u001b[0m\u001b[0;34m'en'\u001b[0m\u001b[0;34m)\u001b[0m\u001b[0;34m\u001b[0m\u001b[0;34m\u001b[0m\u001b[0m\n",
            "\u001b[0;32m/usr/local/lib/python3.10/dist-packages/evaluate/module.py\u001b[0m in \u001b[0;36mcompute\u001b[0;34m(self, predictions, references, **kwargs)\u001b[0m\n\u001b[1;32m    460\u001b[0m             \u001b[0minputs\u001b[0m \u001b[0;34m=\u001b[0m \u001b[0;34m{\u001b[0m\u001b[0minput_name\u001b[0m\u001b[0;34m:\u001b[0m \u001b[0mself\u001b[0m\u001b[0;34m.\u001b[0m\u001b[0mdata\u001b[0m\u001b[0;34m[\u001b[0m\u001b[0minput_name\u001b[0m\u001b[0;34m]\u001b[0m \u001b[0;32mfor\u001b[0m \u001b[0minput_name\u001b[0m \u001b[0;32min\u001b[0m \u001b[0mself\u001b[0m\u001b[0;34m.\u001b[0m\u001b[0m_feature_names\u001b[0m\u001b[0;34m(\u001b[0m\u001b[0;34m)\u001b[0m\u001b[0;34m}\u001b[0m\u001b[0;34m\u001b[0m\u001b[0;34m\u001b[0m\u001b[0m\n\u001b[1;32m    461\u001b[0m             \u001b[0;32mwith\u001b[0m \u001b[0mtemp_seed\u001b[0m\u001b[0;34m(\u001b[0m\u001b[0mself\u001b[0m\u001b[0;34m.\u001b[0m\u001b[0mseed\u001b[0m\u001b[0;34m)\u001b[0m\u001b[0;34m:\u001b[0m\u001b[0;34m\u001b[0m\u001b[0;34m\u001b[0m\u001b[0m\n\u001b[0;32m--> 462\u001b[0;31m                 \u001b[0moutput\u001b[0m \u001b[0;34m=\u001b[0m \u001b[0mself\u001b[0m\u001b[0;34m.\u001b[0m\u001b[0m_compute\u001b[0m\u001b[0;34m(\u001b[0m\u001b[0;34m**\u001b[0m\u001b[0minputs\u001b[0m\u001b[0;34m,\u001b[0m \u001b[0;34m**\u001b[0m\u001b[0mcompute_kwargs\u001b[0m\u001b[0;34m)\u001b[0m\u001b[0;34m\u001b[0m\u001b[0;34m\u001b[0m\u001b[0m\n\u001b[0m\u001b[1;32m    463\u001b[0m \u001b[0;34m\u001b[0m\u001b[0m\n\u001b[1;32m    464\u001b[0m             \u001b[0;32mif\u001b[0m \u001b[0mself\u001b[0m\u001b[0;34m.\u001b[0m\u001b[0mbuf_writer\u001b[0m \u001b[0;32mis\u001b[0m \u001b[0;32mnot\u001b[0m \u001b[0;32mNone\u001b[0m\u001b[0;34m:\u001b[0m\u001b[0;34m\u001b[0m\u001b[0;34m\u001b[0m\u001b[0m\n",
            "\u001b[0;32m~/.cache/huggingface/modules/evaluate_modules/metrics/evaluate-metric--meteor/ea1b63f27faab173b022be2d3cc3df2fc44a894247f833943ea98c8a7caeb1e8/meteor.py\u001b[0m in \u001b[0;36m_compute\u001b[0;34m(self, predictions, references, alpha, beta, gamma)\u001b[0m\n\u001b[1;32m    142\u001b[0m                 ]\n\u001b[1;32m    143\u001b[0m             \u001b[0;32melse\u001b[0m\u001b[0;34m:\u001b[0m\u001b[0;34m\u001b[0m\u001b[0;34m\u001b[0m\u001b[0m\n\u001b[0;32m--> 144\u001b[0;31m                 scores = [\n\u001b[0m\u001b[1;32m    145\u001b[0m                     meteor_score.single_meteor_score(\n\u001b[1;32m    146\u001b[0m                         \u001b[0mword_tokenize\u001b[0m\u001b[0;34m(\u001b[0m\u001b[0mref\u001b[0m\u001b[0;34m)\u001b[0m\u001b[0;34m,\u001b[0m \u001b[0mword_tokenize\u001b[0m\u001b[0;34m(\u001b[0m\u001b[0mpred\u001b[0m\u001b[0;34m)\u001b[0m\u001b[0;34m,\u001b[0m \u001b[0malpha\u001b[0m\u001b[0;34m=\u001b[0m\u001b[0malpha\u001b[0m\u001b[0;34m,\u001b[0m \u001b[0mbeta\u001b[0m\u001b[0;34m=\u001b[0m\u001b[0mbeta\u001b[0m\u001b[0;34m,\u001b[0m \u001b[0mgamma\u001b[0m\u001b[0;34m=\u001b[0m\u001b[0mgamma\u001b[0m\u001b[0;34m\u001b[0m\u001b[0;34m\u001b[0m\u001b[0m\n",
            "\u001b[0;32m~/.cache/huggingface/modules/evaluate_modules/metrics/evaluate-metric--meteor/ea1b63f27faab173b022be2d3cc3df2fc44a894247f833943ea98c8a7caeb1e8/meteor.py\u001b[0m in \u001b[0;36m<listcomp>\u001b[0;34m(.0)\u001b[0m\n\u001b[1;32m    144\u001b[0m                 scores = [\n\u001b[1;32m    145\u001b[0m                     meteor_score.single_meteor_score(\n\u001b[0;32m--> 146\u001b[0;31m                         \u001b[0mword_tokenize\u001b[0m\u001b[0;34m(\u001b[0m\u001b[0mref\u001b[0m\u001b[0;34m)\u001b[0m\u001b[0;34m,\u001b[0m \u001b[0mword_tokenize\u001b[0m\u001b[0;34m(\u001b[0m\u001b[0mpred\u001b[0m\u001b[0;34m)\u001b[0m\u001b[0;34m,\u001b[0m \u001b[0malpha\u001b[0m\u001b[0;34m=\u001b[0m\u001b[0malpha\u001b[0m\u001b[0;34m,\u001b[0m \u001b[0mbeta\u001b[0m\u001b[0;34m=\u001b[0m\u001b[0mbeta\u001b[0m\u001b[0;34m,\u001b[0m \u001b[0mgamma\u001b[0m\u001b[0;34m=\u001b[0m\u001b[0mgamma\u001b[0m\u001b[0;34m\u001b[0m\u001b[0;34m\u001b[0m\u001b[0m\n\u001b[0m\u001b[1;32m    147\u001b[0m                     )\n\u001b[1;32m    148\u001b[0m                     \u001b[0;32mfor\u001b[0m \u001b[0mref\u001b[0m\u001b[0;34m,\u001b[0m \u001b[0mpred\u001b[0m \u001b[0;32min\u001b[0m \u001b[0mzip\u001b[0m\u001b[0;34m(\u001b[0m\u001b[0mreferences\u001b[0m\u001b[0;34m,\u001b[0m \u001b[0mpredictions\u001b[0m\u001b[0;34m)\u001b[0m\u001b[0;34m\u001b[0m\u001b[0;34m\u001b[0m\u001b[0m\n",
            "\u001b[0;32m/usr/local/lib/python3.10/dist-packages/nltk/tokenize/__init__.py\u001b[0m in \u001b[0;36mword_tokenize\u001b[0;34m(text, language, preserve_line)\u001b[0m\n\u001b[1;32m    128\u001b[0m     \"\"\"\n\u001b[1;32m    129\u001b[0m     \u001b[0msentences\u001b[0m \u001b[0;34m=\u001b[0m \u001b[0;34m[\u001b[0m\u001b[0mtext\u001b[0m\u001b[0;34m]\u001b[0m \u001b[0;32mif\u001b[0m \u001b[0mpreserve_line\u001b[0m \u001b[0;32melse\u001b[0m \u001b[0msent_tokenize\u001b[0m\u001b[0;34m(\u001b[0m\u001b[0mtext\u001b[0m\u001b[0;34m,\u001b[0m \u001b[0mlanguage\u001b[0m\u001b[0;34m)\u001b[0m\u001b[0;34m\u001b[0m\u001b[0;34m\u001b[0m\u001b[0m\n\u001b[0;32m--> 130\u001b[0;31m     return [\n\u001b[0m\u001b[1;32m    131\u001b[0m         \u001b[0mtoken\u001b[0m \u001b[0;32mfor\u001b[0m \u001b[0msent\u001b[0m \u001b[0;32min\u001b[0m \u001b[0msentences\u001b[0m \u001b[0;32mfor\u001b[0m \u001b[0mtoken\u001b[0m \u001b[0;32min\u001b[0m \u001b[0m_treebank_word_tokenizer\u001b[0m\u001b[0;34m.\u001b[0m\u001b[0mtokenize\u001b[0m\u001b[0;34m(\u001b[0m\u001b[0msent\u001b[0m\u001b[0;34m)\u001b[0m\u001b[0;34m\u001b[0m\u001b[0;34m\u001b[0m\u001b[0m\n\u001b[1;32m    132\u001b[0m     ]\n",
            "\u001b[0;32m/usr/local/lib/python3.10/dist-packages/nltk/tokenize/__init__.py\u001b[0m in \u001b[0;36m<listcomp>\u001b[0;34m(.0)\u001b[0m\n\u001b[1;32m    129\u001b[0m     \u001b[0msentences\u001b[0m \u001b[0;34m=\u001b[0m \u001b[0;34m[\u001b[0m\u001b[0mtext\u001b[0m\u001b[0;34m]\u001b[0m \u001b[0;32mif\u001b[0m \u001b[0mpreserve_line\u001b[0m \u001b[0;32melse\u001b[0m \u001b[0msent_tokenize\u001b[0m\u001b[0;34m(\u001b[0m\u001b[0mtext\u001b[0m\u001b[0;34m,\u001b[0m \u001b[0mlanguage\u001b[0m\u001b[0;34m)\u001b[0m\u001b[0;34m\u001b[0m\u001b[0;34m\u001b[0m\u001b[0m\n\u001b[1;32m    130\u001b[0m     return [\n\u001b[0;32m--> 131\u001b[0;31m         \u001b[0mtoken\u001b[0m \u001b[0;32mfor\u001b[0m \u001b[0msent\u001b[0m \u001b[0;32min\u001b[0m \u001b[0msentences\u001b[0m \u001b[0;32mfor\u001b[0m \u001b[0mtoken\u001b[0m \u001b[0;32min\u001b[0m \u001b[0m_treebank_word_tokenizer\u001b[0m\u001b[0;34m.\u001b[0m\u001b[0mtokenize\u001b[0m\u001b[0;34m(\u001b[0m\u001b[0msent\u001b[0m\u001b[0;34m)\u001b[0m\u001b[0;34m\u001b[0m\u001b[0;34m\u001b[0m\u001b[0m\n\u001b[0m\u001b[1;32m    132\u001b[0m     ]\n",
            "\u001b[0;32m/usr/local/lib/python3.10/dist-packages/nltk/tokenize/destructive.py\u001b[0m in \u001b[0;36mtokenize\u001b[0;34m(self, text, convert_parentheses, return_str)\u001b[0m\n\u001b[1;32m    179\u001b[0m \u001b[0;34m\u001b[0m\u001b[0m\n\u001b[1;32m    180\u001b[0m         \u001b[0;32mfor\u001b[0m \u001b[0mregexp\u001b[0m \u001b[0;32min\u001b[0m \u001b[0mself\u001b[0m\u001b[0;34m.\u001b[0m\u001b[0mCONTRACTIONS2\u001b[0m\u001b[0;34m:\u001b[0m\u001b[0;34m\u001b[0m\u001b[0;34m\u001b[0m\u001b[0m\n\u001b[0;32m--> 181\u001b[0;31m             \u001b[0mtext\u001b[0m \u001b[0;34m=\u001b[0m \u001b[0mregexp\u001b[0m\u001b[0;34m.\u001b[0m\u001b[0msub\u001b[0m\u001b[0;34m(\u001b[0m\u001b[0;34mr\" \\1 \\2 \"\u001b[0m\u001b[0;34m,\u001b[0m \u001b[0mtext\u001b[0m\u001b[0;34m)\u001b[0m\u001b[0;34m\u001b[0m\u001b[0;34m\u001b[0m\u001b[0m\n\u001b[0m\u001b[1;32m    182\u001b[0m         \u001b[0;32mfor\u001b[0m \u001b[0mregexp\u001b[0m \u001b[0;32min\u001b[0m \u001b[0mself\u001b[0m\u001b[0;34m.\u001b[0m\u001b[0mCONTRACTIONS3\u001b[0m\u001b[0;34m:\u001b[0m\u001b[0;34m\u001b[0m\u001b[0;34m\u001b[0m\u001b[0m\n\u001b[1;32m    183\u001b[0m             \u001b[0mtext\u001b[0m \u001b[0;34m=\u001b[0m \u001b[0mregexp\u001b[0m\u001b[0;34m.\u001b[0m\u001b[0msub\u001b[0m\u001b[0;34m(\u001b[0m\u001b[0;34mr\" \\1 \\2 \"\u001b[0m\u001b[0;34m,\u001b[0m \u001b[0mtext\u001b[0m\u001b[0;34m)\u001b[0m\u001b[0;34m\u001b[0m\u001b[0;34m\u001b[0m\u001b[0m\n",
            "\u001b[0;31mKeyboardInterrupt\u001b[0m: "
          ]
        }
      ]
    },
    {
      "cell_type": "code",
      "source": [
        "save_dict_to_drive(results_dict, 'results_dict.pkl')"
      ],
      "metadata": {
        "colab": {
          "base_uri": "https://localhost:8080/"
        },
        "id": "b3ajgrhmJ63i",
        "outputId": "f6d4e6ee-9855-40d8-f796-ef6dc40656c1"
      },
      "execution_count": null,
      "outputs": [
        {
          "output_type": "stream",
          "name": "stdout",
          "text": [
            "Drive already mounted at /content/drive; to attempt to forcibly remount, call drive.mount(\"/content/drive\", force_remount=True).\n",
            "Dictionary saved as results_dict.pkl to Google Drive.\n"
          ]
        }
      ]
    },
    {
      "cell_type": "code",
      "source": [
        "##LLM Judge\n",
        "# https://python.langchain.com/docs/guides/evaluation/comparison/pairwise_string\n",
        "\n",
        "# iterate through the model configurations and compare the mistral and LLM models against each other\n",
        "mistral_models = {key: value for key, value in results_dict.items() if 'mistral' in key}\n",
        "cohere_models = {key: value for key, value in results_dict.items() if 'cohere' in key}\n",
        "\n",
        "# using the mistral\n",
        "llm_judge_dict = {key.replace('_mistral', ''): {'research': {}, 'marketing': {}} for key in mistral_models.keys()}\n"
      ],
      "metadata": {
        "id": "7ApiAXkDo52p"
      },
      "execution_count": null,
      "outputs": []
    },
    {
      "cell_type": "code",
      "source": [
        "\n",
        "# for model, value in mistral_models.items():\n",
        "#   c_model = model.replace('mistral', 'cohere')\n",
        "#   strip_name = model.replace('_mistral', '')\n",
        "#   # get questions numbers\n",
        "#   q_keys = list(value['research'].keys())\n",
        "\n",
        "#   # get research predictions\n",
        "#   mistral_r_preds = list(value['research'].values())\n",
        "#   cohere_r_preds = list(cohere_models[c_model]['research'].values())\n",
        "\n",
        "#   # get market predictions\n",
        "#   mistral_m_preds = list(value['marketing'].values())\n",
        "#   cohere_m_preds = list(cohere_models[c_model]['marketing'].values())\n",
        "\n",
        "#   # compare\n",
        "#   for i, q_key in enumerate(q_keys):\n",
        "#     llm_judge_dict[strip_name]['research'][q_key] = pairwise_eval.evaluate_string_pairs(\n",
        "#                                                 prediction= mistral_r_preds[i],\n",
        "#                                                 prediction_b= cohere_r_preds[i],\n",
        "#                                                 input=validation_questions_answers[q_key]['question'],\n",
        "#                                                 reference=validation_questions_answers[q_key]['gold_answer_research'],\n",
        "#                                                                             )\n",
        "#     llm_judge_dict[strip_name]['marketing'][q_key] = pairwise_eval.evaluate_string_pairs(\n",
        "#                                                 prediction= mistral_m_preds[i],\n",
        "#                                                 prediction_b= cohere_m_preds[i],\n",
        "#                                                 input=validation_questions_answers[q_key]['question'],\n",
        "#                                                 reference=validation_questions_answers[q_key]['gold_answer_marketing'],\n",
        "#                                                                              )\n",
        "\n"
      ],
      "metadata": {
        "id": "2hMk34LYEgtR"
      },
      "execution_count": null,
      "outputs": []
    },
    {
      "cell_type": "code",
      "source": [
        "save_dict_to_drive(llm_judge_dict, 'llm_judge_dict.pkl')"
      ],
      "metadata": {
        "id": "M5PqZpKDJq4p"
      },
      "execution_count": null,
      "outputs": []
    },
    {
      "cell_type": "markdown",
      "metadata": {
        "id": "kKktTilyTy_z"
      },
      "source": [
        "###4.2. Evaluation Comparisons\n",
        "\n",
        "Document your key runs here. Feel free to add more text and code cells as needed."
      ]
    },
    {
      "cell_type": "code",
      "source": [
        "results_dict = load_dict_from_drive('results_dict.pkl')"
      ],
      "metadata": {
        "colab": {
          "base_uri": "https://localhost:8080/"
        },
        "id": "BVBqSqvQuPPD",
        "outputId": "868e7c65-ac37-49e9-96fa-feef9bf8d3dc"
      },
      "execution_count": 78,
      "outputs": [
        {
          "output_type": "stream",
          "name": "stdout",
          "text": [
            "Drive already mounted at /content/drive; to attempt to forcibly remount, call drive.mount(\"/content/drive\", force_remount=True).\n"
          ]
        }
      ]
    },
    {
      "cell_type": "code",
      "source": [
        "def compare_with_llm_judge(top2_models, save_name):\n",
        "  # get questions used\n",
        "  top2_llm_judge_dict = {q_key:{} for q_key in results_dict[top2_models[0]]['research'].keys()}\n",
        "\n",
        "  # go through each question\n",
        "  count=-2\n",
        "  for q_key in top2_llm_judge_dict.keys():\n",
        "\n",
        "    # cohere throttling limits\n",
        "    count+=2\n",
        "    if count >= 18:\n",
        "      time.sleep(60)\n",
        "      count=0\n",
        "\n",
        "\n",
        "\n",
        "    # get model gredictions\n",
        "    model1 = results_dict[top2_models[0]]['research'][q_key], results_dict[top2_models[0]]['marketing'][q_key]\n",
        "    model2 = results_dict[top2_models[1]]['research'][q_key], results_dict[top2_models[1]]['marketing'][q_key]\n",
        "\n",
        "    top2_llm_judge_dict[q_key]['research'] = pairwise_eval.evaluate_string_pairs(\n",
        "                                                  prediction= model1[0],\n",
        "                                                  prediction_b= model2[0],\n",
        "                                                  input=validation_questions_answers[q_key]['question'],\n",
        "                                                  reference=validation_questions_answers[q_key]['gold_answer_research'],\n",
        "                                                  )\n",
        "    top2_llm_judge_dict[q_key]['marketing'] = pairwise_eval.evaluate_string_pairs(\n",
        "                                                  prediction= model1[1],\n",
        "                                                  prediction_b= model2[1],\n",
        "                                                  input=validation_questions_answers[q_key]['question'],\n",
        "                                                  reference=validation_questions_answers[q_key]['gold_answer_marketing'],\n",
        "                                                  )\n",
        "  # embed models tested\n",
        "  top2_llm_judge_dict['Models'] = top2_models\n",
        "\n",
        "  save_dict_to_drive(top2_llm_judge_dict, save_name)"
      ],
      "metadata": {
        "id": "dP34mhJHV-4Z"
      },
      "execution_count": null,
      "outputs": []
    },
    {
      "cell_type": "code",
      "source": [
        "top2_models = ['chunk_inc_prompt_cohere', 'chunk_dec_prompt_cohere']\n",
        "\n",
        "compare_with_llm_judge(top2_models, f'llm_judge_{top2_models[0]}_vs_{top2_models[1]}.pkl')"
      ],
      "metadata": {
        "colab": {
          "base_uri": "https://localhost:8080/"
        },
        "id": "WPRzk_32s5R3",
        "outputId": "579a9789-58f2-4533-b623-b9280ce4f117"
      },
      "execution_count": null,
      "outputs": [
        {
          "output_type": "stream",
          "name": "stdout",
          "text": [
            "Drive already mounted at /content/drive; to attempt to forcibly remount, call drive.mount(\"/content/drive\", force_remount=True).\n",
            "Dictionary saved as llm_judge_chunk_inc_prompt_cohere_vs_chunk_dec_prompt_cohere.pkl to Google Drive.\n"
          ]
        }
      ]
    },
    {
      "cell_type": "markdown",
      "metadata": {
        "id": "JdOhlN23AYiA"
      },
      "source": [
        "##5. Results\n",
        "\n",
        "###5.1 Model Specifications\n",
        "\n",
        "Document the detailed specs of your choices. Also comment on how you valued the needs of the marketing tean vs the needs of the researchers, in case you had to make a trade-off.\n"
      ]
    },
    {
      "cell_type": "code",
      "source": [
        "!pip install distinctipy"
      ],
      "metadata": {
        "colab": {
          "base_uri": "https://localhost:8080/"
        },
        "id": "jWvRWY_s5kvQ",
        "outputId": "c7ead630-d2a2-4bc5-ffcb-861ab8c225d2"
      },
      "execution_count": null,
      "outputs": [
        {
          "output_type": "stream",
          "name": "stdout",
          "text": [
            "Collecting distinctipy\n",
            "  Downloading distinctipy-1.3.4-py3-none-any.whl (26 kB)\n",
            "Requirement already satisfied: numpy>=1.16.3 in /usr/local/lib/python3.10/dist-packages (from distinctipy) (1.25.2)\n",
            "Installing collected packages: distinctipy\n",
            "Successfully installed distinctipy-1.3.4\n"
          ]
        }
      ]
    },
    {
      "cell_type": "code",
      "source": [
        "import numpy as np\n",
        "import pandas as pd\n",
        "import matplotlib.pyplot as plt\n",
        "import pickle\n",
        "from google.colab import drive\n",
        "from pprint import pprint\n",
        "import distinctipy"
      ],
      "metadata": {
        "id": "hb0GfK_95oDl"
      },
      "execution_count": null,
      "outputs": []
    },
    {
      "cell_type": "code",
      "source": [
        "dict_metrics = {}\n",
        "for model in results_dict.keys():\n",
        "  if results_dict[model]['metrics'] == {}:\n",
        "    continue\n",
        "  else:\n",
        "    meteor_r = results_dict[model]['metrics']['Meteor_research']['meteor']\n",
        "    meteor_m = results_dict[model]['metrics']['Meteor_marketing']['meteor']\n",
        "    f1_mean_r = np.mean(results_dict[model]['metrics']['BERTscore_research']['f1'])\n",
        "    f1_mean_m = np.mean(results_dict[model]['metrics']['BERTscore_marketing']['f1'])\n",
        "    dict_metrics[model] = [meteor_r, meteor_m, f1_mean_r, f1_mean_m]\n",
        "\n",
        "\n",
        "df_metrics = pd.DataFrame.from_dict(dict_metrics, orient='index', columns=['meteor_r','meteor_m','BERTscore_research_f1', 'BERTscore_market_f1'])\n",
        "df_plot1 = df_metrics[['meteor_r', 'meteor_m']]\n",
        "df_plot2 = df_metrics[['BERTscore_research_f1', 'BERTscore_market_f1']]\n",
        "\n",
        "df_metrics\n"
      ],
      "metadata": {
        "colab": {
          "base_uri": "https://localhost:8080/",
          "height": 426
        },
        "id": "7xJ9urfR5r4y",
        "outputId": "50bcf040-7a02-4835-9911-d22dbbc26031"
      },
      "execution_count": null,
      "outputs": [
        {
          "output_type": "execute_result",
          "data": {
            "text/plain": [
              "                          meteor_r  meteor_m  BERTscore_research_f1  \\\n",
              "baseline_mistral          0.289624  0.370874               0.876040   \n",
              "baseline_cohere           0.299682  0.338095               0.878999   \n",
              "chunk_dec_mistral         0.288185  0.344594               0.876846   \n",
              "chunk_dec_cohere          0.278051  0.278855               0.870559   \n",
              "chunk_inc_mistral         0.333004  0.423533               0.890196   \n",
              "chunk_inc_cohere          0.385568  0.394620               0.886166   \n",
              "prompt_mistral            0.297520  0.370943               0.886329   \n",
              "prompt_cohere             0.332968  0.304624               0.882267   \n",
              "chunk_dec_prompt_mistral  0.274759  0.254941               0.875898   \n",
              "chunk_dec_prompt_cohere   0.301215  0.310087               0.875523   \n",
              "chunk_inc_prompt_mistral  0.330768  0.365462               0.887456   \n",
              "chunk_inc_prompt_cohere   0.373289  0.352416               0.887901   \n",
              "\n",
              "                          BERTscore_market_f1  \n",
              "baseline_mistral                     0.875463  \n",
              "baseline_cohere                      0.876013  \n",
              "chunk_dec_mistral                    0.873137  \n",
              "chunk_dec_cohere                     0.864493  \n",
              "chunk_inc_mistral                    0.884909  \n",
              "chunk_inc_cohere                     0.879015  \n",
              "prompt_mistral                       0.887461  \n",
              "prompt_cohere                        0.879160  \n",
              "chunk_dec_prompt_mistral             0.870497  \n",
              "chunk_dec_prompt_cohere              0.875773  \n",
              "chunk_inc_prompt_mistral             0.884401  \n",
              "chunk_inc_prompt_cohere              0.884611  "
            ],
            "text/html": [
              "\n",
              "  <div id=\"df-02fba0da-5bea-4d5f-9be9-f96ed1230779\" class=\"colab-df-container\">\n",
              "    <div>\n",
              "<style scoped>\n",
              "    .dataframe tbody tr th:only-of-type {\n",
              "        vertical-align: middle;\n",
              "    }\n",
              "\n",
              "    .dataframe tbody tr th {\n",
              "        vertical-align: top;\n",
              "    }\n",
              "\n",
              "    .dataframe thead th {\n",
              "        text-align: right;\n",
              "    }\n",
              "</style>\n",
              "<table border=\"1\" class=\"dataframe\">\n",
              "  <thead>\n",
              "    <tr style=\"text-align: right;\">\n",
              "      <th></th>\n",
              "      <th>meteor_r</th>\n",
              "      <th>meteor_m</th>\n",
              "      <th>BERTscore_research_f1</th>\n",
              "      <th>BERTscore_market_f1</th>\n",
              "    </tr>\n",
              "  </thead>\n",
              "  <tbody>\n",
              "    <tr>\n",
              "      <th>baseline_mistral</th>\n",
              "      <td>0.289624</td>\n",
              "      <td>0.370874</td>\n",
              "      <td>0.876040</td>\n",
              "      <td>0.875463</td>\n",
              "    </tr>\n",
              "    <tr>\n",
              "      <th>baseline_cohere</th>\n",
              "      <td>0.299682</td>\n",
              "      <td>0.338095</td>\n",
              "      <td>0.878999</td>\n",
              "      <td>0.876013</td>\n",
              "    </tr>\n",
              "    <tr>\n",
              "      <th>chunk_dec_mistral</th>\n",
              "      <td>0.288185</td>\n",
              "      <td>0.344594</td>\n",
              "      <td>0.876846</td>\n",
              "      <td>0.873137</td>\n",
              "    </tr>\n",
              "    <tr>\n",
              "      <th>chunk_dec_cohere</th>\n",
              "      <td>0.278051</td>\n",
              "      <td>0.278855</td>\n",
              "      <td>0.870559</td>\n",
              "      <td>0.864493</td>\n",
              "    </tr>\n",
              "    <tr>\n",
              "      <th>chunk_inc_mistral</th>\n",
              "      <td>0.333004</td>\n",
              "      <td>0.423533</td>\n",
              "      <td>0.890196</td>\n",
              "      <td>0.884909</td>\n",
              "    </tr>\n",
              "    <tr>\n",
              "      <th>chunk_inc_cohere</th>\n",
              "      <td>0.385568</td>\n",
              "      <td>0.394620</td>\n",
              "      <td>0.886166</td>\n",
              "      <td>0.879015</td>\n",
              "    </tr>\n",
              "    <tr>\n",
              "      <th>prompt_mistral</th>\n",
              "      <td>0.297520</td>\n",
              "      <td>0.370943</td>\n",
              "      <td>0.886329</td>\n",
              "      <td>0.887461</td>\n",
              "    </tr>\n",
              "    <tr>\n",
              "      <th>prompt_cohere</th>\n",
              "      <td>0.332968</td>\n",
              "      <td>0.304624</td>\n",
              "      <td>0.882267</td>\n",
              "      <td>0.879160</td>\n",
              "    </tr>\n",
              "    <tr>\n",
              "      <th>chunk_dec_prompt_mistral</th>\n",
              "      <td>0.274759</td>\n",
              "      <td>0.254941</td>\n",
              "      <td>0.875898</td>\n",
              "      <td>0.870497</td>\n",
              "    </tr>\n",
              "    <tr>\n",
              "      <th>chunk_dec_prompt_cohere</th>\n",
              "      <td>0.301215</td>\n",
              "      <td>0.310087</td>\n",
              "      <td>0.875523</td>\n",
              "      <td>0.875773</td>\n",
              "    </tr>\n",
              "    <tr>\n",
              "      <th>chunk_inc_prompt_mistral</th>\n",
              "      <td>0.330768</td>\n",
              "      <td>0.365462</td>\n",
              "      <td>0.887456</td>\n",
              "      <td>0.884401</td>\n",
              "    </tr>\n",
              "    <tr>\n",
              "      <th>chunk_inc_prompt_cohere</th>\n",
              "      <td>0.373289</td>\n",
              "      <td>0.352416</td>\n",
              "      <td>0.887901</td>\n",
              "      <td>0.884611</td>\n",
              "    </tr>\n",
              "  </tbody>\n",
              "</table>\n",
              "</div>\n",
              "    <div class=\"colab-df-buttons\">\n",
              "\n",
              "  <div class=\"colab-df-container\">\n",
              "    <button class=\"colab-df-convert\" onclick=\"convertToInteractive('df-02fba0da-5bea-4d5f-9be9-f96ed1230779')\"\n",
              "            title=\"Convert this dataframe to an interactive table.\"\n",
              "            style=\"display:none;\">\n",
              "\n",
              "  <svg xmlns=\"http://www.w3.org/2000/svg\" height=\"24px\" viewBox=\"0 -960 960 960\">\n",
              "    <path d=\"M120-120v-720h720v720H120Zm60-500h600v-160H180v160Zm220 220h160v-160H400v160Zm0 220h160v-160H400v160ZM180-400h160v-160H180v160Zm440 0h160v-160H620v160ZM180-180h160v-160H180v160Zm440 0h160v-160H620v160Z\"/>\n",
              "  </svg>\n",
              "    </button>\n",
              "\n",
              "  <style>\n",
              "    .colab-df-container {\n",
              "      display:flex;\n",
              "      gap: 12px;\n",
              "    }\n",
              "\n",
              "    .colab-df-convert {\n",
              "      background-color: #E8F0FE;\n",
              "      border: none;\n",
              "      border-radius: 50%;\n",
              "      cursor: pointer;\n",
              "      display: none;\n",
              "      fill: #1967D2;\n",
              "      height: 32px;\n",
              "      padding: 0 0 0 0;\n",
              "      width: 32px;\n",
              "    }\n",
              "\n",
              "    .colab-df-convert:hover {\n",
              "      background-color: #E2EBFA;\n",
              "      box-shadow: 0px 1px 2px rgba(60, 64, 67, 0.3), 0px 1px 3px 1px rgba(60, 64, 67, 0.15);\n",
              "      fill: #174EA6;\n",
              "    }\n",
              "\n",
              "    .colab-df-buttons div {\n",
              "      margin-bottom: 4px;\n",
              "    }\n",
              "\n",
              "    [theme=dark] .colab-df-convert {\n",
              "      background-color: #3B4455;\n",
              "      fill: #D2E3FC;\n",
              "    }\n",
              "\n",
              "    [theme=dark] .colab-df-convert:hover {\n",
              "      background-color: #434B5C;\n",
              "      box-shadow: 0px 1px 3px 1px rgba(0, 0, 0, 0.15);\n",
              "      filter: drop-shadow(0px 1px 2px rgba(0, 0, 0, 0.3));\n",
              "      fill: #FFFFFF;\n",
              "    }\n",
              "  </style>\n",
              "\n",
              "    <script>\n",
              "      const buttonEl =\n",
              "        document.querySelector('#df-02fba0da-5bea-4d5f-9be9-f96ed1230779 button.colab-df-convert');\n",
              "      buttonEl.style.display =\n",
              "        google.colab.kernel.accessAllowed ? 'block' : 'none';\n",
              "\n",
              "      async function convertToInteractive(key) {\n",
              "        const element = document.querySelector('#df-02fba0da-5bea-4d5f-9be9-f96ed1230779');\n",
              "        const dataTable =\n",
              "          await google.colab.kernel.invokeFunction('convertToInteractive',\n",
              "                                                    [key], {});\n",
              "        if (!dataTable) return;\n",
              "\n",
              "        const docLinkHtml = 'Like what you see? Visit the ' +\n",
              "          '<a target=\"_blank\" href=https://colab.research.google.com/notebooks/data_table.ipynb>data table notebook</a>'\n",
              "          + ' to learn more about interactive tables.';\n",
              "        element.innerHTML = '';\n",
              "        dataTable['output_type'] = 'display_data';\n",
              "        await google.colab.output.renderOutput(dataTable, element);\n",
              "        const docLink = document.createElement('div');\n",
              "        docLink.innerHTML = docLinkHtml;\n",
              "        element.appendChild(docLink);\n",
              "      }\n",
              "    </script>\n",
              "  </div>\n",
              "\n",
              "\n",
              "<div id=\"df-8a9179c3-ca1a-40d1-9a28-68e1d5460126\">\n",
              "  <button class=\"colab-df-quickchart\" onclick=\"quickchart('df-8a9179c3-ca1a-40d1-9a28-68e1d5460126')\"\n",
              "            title=\"Suggest charts\"\n",
              "            style=\"display:none;\">\n",
              "\n",
              "<svg xmlns=\"http://www.w3.org/2000/svg\" height=\"24px\"viewBox=\"0 0 24 24\"\n",
              "     width=\"24px\">\n",
              "    <g>\n",
              "        <path d=\"M19 3H5c-1.1 0-2 .9-2 2v14c0 1.1.9 2 2 2h14c1.1 0 2-.9 2-2V5c0-1.1-.9-2-2-2zM9 17H7v-7h2v7zm4 0h-2V7h2v10zm4 0h-2v-4h2v4z\"/>\n",
              "    </g>\n",
              "</svg>\n",
              "  </button>\n",
              "\n",
              "<style>\n",
              "  .colab-df-quickchart {\n",
              "      --bg-color: #E8F0FE;\n",
              "      --fill-color: #1967D2;\n",
              "      --hover-bg-color: #E2EBFA;\n",
              "      --hover-fill-color: #174EA6;\n",
              "      --disabled-fill-color: #AAA;\n",
              "      --disabled-bg-color: #DDD;\n",
              "  }\n",
              "\n",
              "  [theme=dark] .colab-df-quickchart {\n",
              "      --bg-color: #3B4455;\n",
              "      --fill-color: #D2E3FC;\n",
              "      --hover-bg-color: #434B5C;\n",
              "      --hover-fill-color: #FFFFFF;\n",
              "      --disabled-bg-color: #3B4455;\n",
              "      --disabled-fill-color: #666;\n",
              "  }\n",
              "\n",
              "  .colab-df-quickchart {\n",
              "    background-color: var(--bg-color);\n",
              "    border: none;\n",
              "    border-radius: 50%;\n",
              "    cursor: pointer;\n",
              "    display: none;\n",
              "    fill: var(--fill-color);\n",
              "    height: 32px;\n",
              "    padding: 0;\n",
              "    width: 32px;\n",
              "  }\n",
              "\n",
              "  .colab-df-quickchart:hover {\n",
              "    background-color: var(--hover-bg-color);\n",
              "    box-shadow: 0 1px 2px rgba(60, 64, 67, 0.3), 0 1px 3px 1px rgba(60, 64, 67, 0.15);\n",
              "    fill: var(--button-hover-fill-color);\n",
              "  }\n",
              "\n",
              "  .colab-df-quickchart-complete:disabled,\n",
              "  .colab-df-quickchart-complete:disabled:hover {\n",
              "    background-color: var(--disabled-bg-color);\n",
              "    fill: var(--disabled-fill-color);\n",
              "    box-shadow: none;\n",
              "  }\n",
              "\n",
              "  .colab-df-spinner {\n",
              "    border: 2px solid var(--fill-color);\n",
              "    border-color: transparent;\n",
              "    border-bottom-color: var(--fill-color);\n",
              "    animation:\n",
              "      spin 1s steps(1) infinite;\n",
              "  }\n",
              "\n",
              "  @keyframes spin {\n",
              "    0% {\n",
              "      border-color: transparent;\n",
              "      border-bottom-color: var(--fill-color);\n",
              "      border-left-color: var(--fill-color);\n",
              "    }\n",
              "    20% {\n",
              "      border-color: transparent;\n",
              "      border-left-color: var(--fill-color);\n",
              "      border-top-color: var(--fill-color);\n",
              "    }\n",
              "    30% {\n",
              "      border-color: transparent;\n",
              "      border-left-color: var(--fill-color);\n",
              "      border-top-color: var(--fill-color);\n",
              "      border-right-color: var(--fill-color);\n",
              "    }\n",
              "    40% {\n",
              "      border-color: transparent;\n",
              "      border-right-color: var(--fill-color);\n",
              "      border-top-color: var(--fill-color);\n",
              "    }\n",
              "    60% {\n",
              "      border-color: transparent;\n",
              "      border-right-color: var(--fill-color);\n",
              "    }\n",
              "    80% {\n",
              "      border-color: transparent;\n",
              "      border-right-color: var(--fill-color);\n",
              "      border-bottom-color: var(--fill-color);\n",
              "    }\n",
              "    90% {\n",
              "      border-color: transparent;\n",
              "      border-bottom-color: var(--fill-color);\n",
              "    }\n",
              "  }\n",
              "</style>\n",
              "\n",
              "  <script>\n",
              "    async function quickchart(key) {\n",
              "      const quickchartButtonEl =\n",
              "        document.querySelector('#' + key + ' button');\n",
              "      quickchartButtonEl.disabled = true;  // To prevent multiple clicks.\n",
              "      quickchartButtonEl.classList.add('colab-df-spinner');\n",
              "      try {\n",
              "        const charts = await google.colab.kernel.invokeFunction(\n",
              "            'suggestCharts', [key], {});\n",
              "      } catch (error) {\n",
              "        console.error('Error during call to suggestCharts:', error);\n",
              "      }\n",
              "      quickchartButtonEl.classList.remove('colab-df-spinner');\n",
              "      quickchartButtonEl.classList.add('colab-df-quickchart-complete');\n",
              "    }\n",
              "    (() => {\n",
              "      let quickchartButtonEl =\n",
              "        document.querySelector('#df-8a9179c3-ca1a-40d1-9a28-68e1d5460126 button');\n",
              "      quickchartButtonEl.style.display =\n",
              "        google.colab.kernel.accessAllowed ? 'block' : 'none';\n",
              "    })();\n",
              "  </script>\n",
              "</div>\n",
              "\n",
              "  <div id=\"id_52eeadc9-f399-43ab-8399-6be9f40ae45a\">\n",
              "    <style>\n",
              "      .colab-df-generate {\n",
              "        background-color: #E8F0FE;\n",
              "        border: none;\n",
              "        border-radius: 50%;\n",
              "        cursor: pointer;\n",
              "        display: none;\n",
              "        fill: #1967D2;\n",
              "        height: 32px;\n",
              "        padding: 0 0 0 0;\n",
              "        width: 32px;\n",
              "      }\n",
              "\n",
              "      .colab-df-generate:hover {\n",
              "        background-color: #E2EBFA;\n",
              "        box-shadow: 0px 1px 2px rgba(60, 64, 67, 0.3), 0px 1px 3px 1px rgba(60, 64, 67, 0.15);\n",
              "        fill: #174EA6;\n",
              "      }\n",
              "\n",
              "      [theme=dark] .colab-df-generate {\n",
              "        background-color: #3B4455;\n",
              "        fill: #D2E3FC;\n",
              "      }\n",
              "\n",
              "      [theme=dark] .colab-df-generate:hover {\n",
              "        background-color: #434B5C;\n",
              "        box-shadow: 0px 1px 3px 1px rgba(0, 0, 0, 0.15);\n",
              "        filter: drop-shadow(0px 1px 2px rgba(0, 0, 0, 0.3));\n",
              "        fill: #FFFFFF;\n",
              "      }\n",
              "    </style>\n",
              "    <button class=\"colab-df-generate\" onclick=\"generateWithVariable('df_metrics')\"\n",
              "            title=\"Generate code using this dataframe.\"\n",
              "            style=\"display:none;\">\n",
              "\n",
              "  <svg xmlns=\"http://www.w3.org/2000/svg\" height=\"24px\"viewBox=\"0 0 24 24\"\n",
              "       width=\"24px\">\n",
              "    <path d=\"M7,19H8.4L18.45,9,17,7.55,7,17.6ZM5,21V16.75L18.45,3.32a2,2,0,0,1,2.83,0l1.4,1.43a1.91,1.91,0,0,1,.58,1.4,1.91,1.91,0,0,1-.58,1.4L9.25,21ZM18.45,9,17,7.55Zm-12,3A5.31,5.31,0,0,0,4.9,8.1,5.31,5.31,0,0,0,1,6.5,5.31,5.31,0,0,0,4.9,4.9,5.31,5.31,0,0,0,6.5,1,5.31,5.31,0,0,0,8.1,4.9,5.31,5.31,0,0,0,12,6.5,5.46,5.46,0,0,0,6.5,12Z\"/>\n",
              "  </svg>\n",
              "    </button>\n",
              "    <script>\n",
              "      (() => {\n",
              "      const buttonEl =\n",
              "        document.querySelector('#id_52eeadc9-f399-43ab-8399-6be9f40ae45a button.colab-df-generate');\n",
              "      buttonEl.style.display =\n",
              "        google.colab.kernel.accessAllowed ? 'block' : 'none';\n",
              "\n",
              "      buttonEl.onclick = () => {\n",
              "        google.colab.notebook.generateWithVariable('df_metrics');\n",
              "      }\n",
              "      })();\n",
              "    </script>\n",
              "  </div>\n",
              "\n",
              "    </div>\n",
              "  </div>\n"
            ],
            "application/vnd.google.colaboratory.intrinsic+json": {
              "type": "dataframe",
              "variable_name": "df_metrics",
              "summary": "{\n  \"name\": \"df_metrics\",\n  \"rows\": 12,\n  \"fields\": [\n    {\n      \"column\": \"meteor_r\",\n      \"properties\": {\n        \"dtype\": \"number\",\n        \"std\": 0.03611730219626005,\n        \"min\": 0.27475875859380705,\n        \"max\": 0.38556828014551214,\n        \"num_unique_values\": 12,\n        \"samples\": [\n          0.3307678980754424,\n          0.3012149321565599,\n          0.28962373082300974\n        ],\n        \"semantic_type\": \"\",\n        \"description\": \"\"\n      }\n    },\n    {\n      \"column\": \"meteor_m\",\n      \"properties\": {\n        \"dtype\": \"number\",\n        \"std\": 0.04838163268833562,\n        \"min\": 0.2549412134217097,\n        \"max\": 0.42353286158850245,\n        \"num_unique_values\": 12,\n        \"samples\": [\n          0.36546153665432907,\n          0.3100871705460555,\n          0.370874139443554\n        ],\n        \"semantic_type\": \"\",\n        \"description\": \"\"\n      }\n    },\n    {\n      \"column\": \"BERTscore_research_f1\",\n      \"properties\": {\n        \"dtype\": \"number\",\n        \"std\": 0.006332402573165767,\n        \"min\": 0.8705585151910782,\n        \"max\": 0.8901955217123032,\n        \"num_unique_values\": 12,\n        \"samples\": [\n          0.887456402182579,\n          0.8755227327346802,\n          0.8760396212339401\n        ],\n        \"semantic_type\": \"\",\n        \"description\": \"\"\n      }\n    },\n    {\n      \"column\": \"BERTscore_market_f1\",\n      \"properties\": {\n        \"dtype\": \"number\",\n        \"std\": 0.0067551487252356344,\n        \"min\": 0.8644928067922593,\n        \"max\": 0.8874613493680954,\n        \"num_unique_values\": 12,\n        \"samples\": [\n          0.8844009011983871,\n          0.8757731258869171,\n          0.8754627704620361\n        ],\n        \"semantic_type\": \"\",\n        \"description\": \"\"\n      }\n    }\n  ]\n}"
            }
          },
          "metadata": {},
          "execution_count": 75
        }
      ]
    },
    {
      "cell_type": "code",
      "source": [
        "def plot_bar_results(df, metrics, title, min=None):\n",
        "\n",
        "  df_plot = df[metrics]\n",
        "  fig = plt.figure()\n",
        "  ax = plt.subplot(111)\n",
        "\n",
        "  df_plot[metrics].plot.bar(ax=ax)\n",
        "\n",
        "  # Shrink current axis by 20%\n",
        "  box = ax.get_position()\n",
        "  ax.set_position([box.x0, box.y0, box.width * 0.8, box.height])\n",
        "\n",
        "  # Set y_axis limits\n",
        "  adj = 0.005\n",
        "  if min == None:\n",
        "    min = df_plot.min().min() - adj\n",
        "  max = df_plot.max().max() + adj\n",
        "  ax.set_ylim([min, max])\n",
        "\n",
        "  # Put a legend to the right of the current axis\n",
        "  ax.legend(labels=['Research', 'Market'], loc='center left', bbox_to_anchor=(1, 0.5))\n",
        "\n",
        "  plt.gca().spines[['top', 'right',]].set_visible(False)\n",
        "  plt.xticks(rotation=70)\n",
        "  plt.title(title)\n",
        "  plt.ylabel('Score')\n",
        "  plt.show()"
      ],
      "metadata": {
        "id": "VD9UI0h35rzQ"
      },
      "execution_count": null,
      "outputs": []
    },
    {
      "cell_type": "code",
      "source": [
        "plot_bar_results(df_metrics, ['meteor_r', 'meteor_m'], 'Average Meteor', min=0)"
      ],
      "metadata": {
        "colab": {
          "base_uri": "https://localhost:8080/",
          "height": 619
        },
        "id": "MICT-wDw5rsS",
        "outputId": "65fb5b91-3a64-4950-ae03-1524d4113c8c"
      },
      "execution_count": null,
      "outputs": [
        {
          "output_type": "display_data",
          "data": {
            "text/plain": [
              "<Figure size 640x480 with 1 Axes>"
            ],
            "image/png": "[encoded data removed]"
          },
          "metadata": {}
        }
      ]
    },
    {
      "cell_type": "code",
      "source": [
        "plot_bar_results(df_metrics, ['BERTscore_research_f1', 'BERTscore_market_f1'], 'Average F1 BERTscore', min=0.8)"
      ],
      "metadata": {
        "colab": {
          "base_uri": "https://localhost:8080/",
          "height": 619
        },
        "id": "JplDNtA054UV",
        "outputId": "cc7fe668-9a61-4483-87c9-b49df7dff49f"
      },
      "execution_count": null,
      "outputs": [
        {
          "output_type": "display_data",
          "data": {
            "text/plain": [
              "<Figure size 640x480 with 1 Axes>"
            ],
            "image/png": "[encoded data removed]"
          },
          "metadata": {}
        }
      ]
    },
    {
      "cell_type": "code",
      "source": [
        "df_metrics.idxmax(0)"
      ],
      "metadata": {
        "colab": {
          "base_uri": "https://localhost:8080/"
        },
        "id": "2JYq2d0v54OX",
        "outputId": "9b6266e6-9a02-42ec-f0df-38ce584c26ae"
      },
      "execution_count": null,
      "outputs": [
        {
          "output_type": "execute_result",
          "data": {
            "text/plain": [
              "meteor_r                  chunk_inc_cohere\n",
              "meteor_m                 chunk_inc_mistral\n",
              "BERTscore_research_f1    chunk_inc_mistral\n",
              "BERTscore_market_f1         prompt_mistral\n",
              "dtype: object"
            ]
          },
          "metadata": {},
          "execution_count": 79
        }
      ]
    },
    {
      "cell_type": "code",
      "source": [
        "print('BERTscore_max: ', df_metrics[['BERTscore_research_f1', 'BERTscore_market_f1']].max().max())\n",
        "df_metrics[['BERTscore_research_f1', 'BERTscore_market_f1']].min().min()\n"
      ],
      "metadata": {
        "colab": {
          "base_uri": "https://localhost:8080/"
        },
        "id": "oBXf4Zfb54L2",
        "outputId": "b083d28b-55b5-4007-e205-1bbb6d8b4234"
      },
      "execution_count": null,
      "outputs": [
        {
          "output_type": "stream",
          "name": "stdout",
          "text": [
            "BERTscore_max:  0.8901955217123032\n"
          ]
        },
        {
          "output_type": "execute_result",
          "data": {
            "text/plain": [
              "0.8644928067922593"
            ]
          },
          "metadata": {},
          "execution_count": 80
        }
      ]
    },
    {
      "cell_type": "code",
      "source": [
        "print(df_metrics[['meteor_r', 'meteor_m']].max().max())\n",
        "df_metrics[['meteor_r', 'meteor_m']].min().min()"
      ],
      "metadata": {
        "colab": {
          "base_uri": "https://localhost:8080/"
        },
        "id": "Uq7IJX4o54Ji",
        "outputId": "f5ac006c-2620-4160-ef91-70e4aef50f41"
      },
      "execution_count": null,
      "outputs": [
        {
          "output_type": "stream",
          "name": "stdout",
          "text": [
            "0.42353286158850245\n"
          ]
        },
        {
          "output_type": "execute_result",
          "data": {
            "text/plain": [
              "0.2549412134217097"
            ]
          },
          "metadata": {},
          "execution_count": 81
        }
      ]
    },
    {
      "cell_type": "code",
      "source": [
        "colors = distinctipy.get_colors(len(df_metrics.index))\n",
        "\n",
        "def plot_scatter_results(df, metrics, title, colors=None):\n",
        "\n",
        "  df_plot = df[metrics]\n",
        "  fig = plt.figure()\n",
        "  ax = plt.subplot(111)\n",
        "\n",
        "  adj = 0.005\n",
        "  min, max = df_plot.min().min() - adj, df_plot.max().max() + adj\n",
        "\n",
        "  # colors\n",
        "  if colors == None:\n",
        "    colors = distinctipy.get_colors(len(df_metrics.index))\n",
        "\n",
        "  # plot scatter\n",
        "  for i in range(len(df_plot.index)):\n",
        "    ax.scatter(x=df_plot[metrics[0]][i], y=df_plot[metrics[1]][i], color=colors[i], s=32, alpha=.8)\n",
        "\n",
        "  # axes\n",
        "  ax.set_xlim([min, max])\n",
        "  ax.set_ylim([min, max])\n",
        "\n",
        "  # Put a legend to the right of the current axis\n",
        "  ax.legend(df_plot.index, loc='center left', bbox_to_anchor=(1, 0.5))\n",
        "\n",
        "  # plot line to determine if one user doing better than the other\n",
        "  ax.plot([min, max], [min, max], '--')\n",
        "\n",
        "  # Shrink current axis by 20%\n",
        "  box = ax.get_position()\n",
        "  ax.set_position([box.x0, box.y0, box.width * 0.8, box.height*0.8])\n",
        "\n",
        "  ax.set_xlabel('Research')\n",
        "  ax.set_ylabel('Market')\n",
        "\n",
        "\n",
        "  plt.gca().spines[['top', 'right',]].set_visible(False)\n",
        "  plt.title(title)\n",
        "  plt.show()\n"
      ],
      "metadata": {
        "id": "R7s4AVCr54AB"
      },
      "execution_count": null,
      "outputs": []
    },
    {
      "cell_type": "code",
      "source": [
        "plot_scatter_results(df_metrics, ['BERTscore_research_f1', 'BERTscore_market_f1'], 'Average F1 BERTscore', colors=colors)"
      ],
      "metadata": {
        "colab": {
          "base_uri": "https://localhost:8080/",
          "height": 398
        },
        "id": "pAUhyspj6EMF",
        "outputId": "43e85ccd-c6f6-4eaf-c04d-db2221976653"
      },
      "execution_count": null,
      "outputs": [
        {
          "output_type": "display_data",
          "data": {
            "text/plain": [
              "<Figure size 640x480 with 1 Axes>"
            ],
            "image/png": "[encoded data removed]"
          },
          "metadata": {}
        }
      ]
    },
    {
      "cell_type": "code",
      "source": [
        "plot_scatter_results(df_metrics, ['meteor_r', 'meteor_m'], 'Average Meteor', colors=colors)"
      ],
      "metadata": {
        "colab": {
          "base_uri": "https://localhost:8080/",
          "height": 398
        },
        "id": "sUHq-_yE6E5h",
        "outputId": "752a417a-32d9-49e9-9b3b-5055b0dfe3ed"
      },
      "execution_count": null,
      "outputs": [
        {
          "output_type": "display_data",
          "data": {
            "text/plain": [
              "<Figure size 640x480 with 1 Axes>"
            ],
            "image/png": "[encoded data removed]"
          },
          "metadata": {}
        }
      ]
    },
    {
      "cell_type": "code",
      "source": [
        "i = 13\n",
        "model = 'chunk_inc_prompt_mistral'\n",
        "pprint(f\"Marketing: {results_dict[model]['marketing'][i]}\")\n",
        "print()\n",
        "pprint(f\"Research: {results_dict[model]['research'][i]}\")\n",
        "print()\n",
        "pprint(validation_questions_answers[i])"
      ],
      "metadata": {
        "colab": {
          "base_uri": "https://localhost:8080/"
        },
        "id": "tKc2Gxne6E3P",
        "outputId": "aa2ab89a-a5a9-462d-96ef-d332ed6b977d"
      },
      "execution_count": null,
      "outputs": [
        {
          "output_type": "stream",
          "name": "stdout",
          "text": [
            "('Marketing: Large language models often fail to mirror human cognitive '\n",
            " \"patterns, learning some patterns that humans don't and missing others that \"\n",
            " 'they do. This discrepancy makes it unclear whether these models are viable '\n",
            " 'cognitive mimics, even if they excel at conversational tasks. As a result, '\n",
            " \"while these models are effective, there's room for improvement to better \"\n",
            " 'align them with human thinking.')\n",
            "\n",
            "('Research: Large language models may face challenges in mirroring human '\n",
            " 'cognitive patterns due to their lack of plausibility as cognitive models, '\n",
            " 'difficulty in generalizing to unseen scenarios, and potential for knowledge '\n",
            " 'hallucination in chatbots. Additionally, fine-tuning these models with human '\n",
            " 'preferences can improve their behavior on various tasks, but further work '\n",
            " 'needs to be done to ensure their safety and reliability.')\n",
            "\n",
            "{'gold_answer_marketing': 'Large language models sometimes learn patterns that '\n",
            "                          'humans do not learn and fail to learn patterns that '\n",
            "                          'humans typically do learn.',\n",
            " 'gold_answer_research': 'Large language models face challenges in mirroring '\n",
            "                         'human cognitive patterns because they sometimes '\n",
            "                         'learn patterns that humans do not learn, while also '\n",
            "                         'failing to learn patterns that humans typically '\n",
            "                         'learn. This discrepancy suggests that the models may '\n",
            "                         'not be plausible cognitive models, despite matching '\n",
            "                         'human performance in some tasks. Further research is '\n",
            "                         'needed to address these limitations and improve the '\n",
            "                         'alignment of large language models with human '\n",
            "                         'cognitive patterns.',\n",
            " 'question': 'What challenges do large language models face in mirroring human '\n",
            "             'cognitive patterns?'}\n"
          ]
        }
      ]
    },
    {
      "cell_type": "code",
      "source": [
        "contests = ['llm_judge_chunk_inc_prompt_cohere_vs_chunk_inc_cohere.pkl',\n",
        "            'llm_judge_chunk_inc_prompt_cohere_vs_chunk_inc_mistral.pkl',\n",
        "            'llm_judge_chunk_inc_prompt_cohere_vs_chunk_inc_prompt_mistral.pkl',\n",
        "            'llm_judge_chunk_inc_prompt_cohere_vs_chunk_dec_prompt_cohere.pkl',\n",
        "            'llm_judge_chunk_inc_prompt_cohere_vs_chunk_dec_cohere.pkl',\n",
        "            'llm_judge_chunk_inc_prompt_cohere_vs_prompt_cohere.pkl',\n",
        "            'llm_judge_chunk_inc_prompt_cohere_vs_prompt_mistral.pkl',\n",
        "            'llm_judge_chunk_inc_prompt_cohere_vs_baseline_cohere.pkl']\n",
        "\n",
        "top2_llm_judge_dict = {name: load_dict_from_drive(name) for name in contests}\n"
      ],
      "metadata": {
        "colab": {
          "base_uri": "https://localhost:8080/"
        },
        "id": "IPTcwilg6E07",
        "outputId": "29408d5a-7560-482a-92ef-eb0e135f6eec"
      },
      "execution_count": 68,
      "outputs": [
        {
          "output_type": "stream",
          "name": "stdout",
          "text": [
            "Drive already mounted at /content/drive; to attempt to forcibly remount, call drive.mount(\"/content/drive\", force_remount=True).\n",
            "Drive already mounted at /content/drive; to attempt to forcibly remount, call drive.mount(\"/content/drive\", force_remount=True).\n",
            "Drive already mounted at /content/drive; to attempt to forcibly remount, call drive.mount(\"/content/drive\", force_remount=True).\n",
            "Drive already mounted at /content/drive; to attempt to forcibly remount, call drive.mount(\"/content/drive\", force_remount=True).\n",
            "Drive already mounted at /content/drive; to attempt to forcibly remount, call drive.mount(\"/content/drive\", force_remount=True).\n",
            "Drive already mounted at /content/drive; to attempt to forcibly remount, call drive.mount(\"/content/drive\", force_remount=True).\n",
            "Drive already mounted at /content/drive; to attempt to forcibly remount, call drive.mount(\"/content/drive\", force_remount=True).\n",
            "Drive already mounted at /content/drive; to attempt to forcibly remount, call drive.mount(\"/content/drive\", force_remount=True).\n"
          ]
        }
      ]
    },
    {
      "cell_type": "code",
      "source": [
        "def llm_judge_scoring(llm_judge_dict):\n",
        "\n",
        "  top2_models = llm_judge_dict['Models']\n",
        "  score_dict = {top2_models[0]: {'research': 0, 'marketing': 0}, top2_models[1]:{'research': 0, 'marketing': 0}}\n",
        "  for q_key, values in llm_judge_dict.items():\n",
        "    if q_key == 'Models':\n",
        "      continue\n",
        "\n",
        "    for dep, scores in values.items():\n",
        "      # print(f\"{dep}, {scores['value']}: {scores['score']}\")\n",
        "      if scores['value']=='A':\n",
        "        score_dict[top2_models[0]][dep] += 1\n",
        "\n",
        "      elif scores['value']=='B':\n",
        "        score_dict[top2_models[1]][dep] += 1\n",
        "\n",
        "      else:\n",
        "        score_dict[top2_models[0]][dep] += 0.5\n",
        "        score_dict[top2_models[1]][dep] += 0.5\n",
        "\n",
        "      # print(score_dict)\n",
        "      # print('__'*30)\n",
        "\n",
        "  return score_dict"
      ],
      "metadata": {
        "id": "UknCy_ct6eMN"
      },
      "execution_count": 69,
      "outputs": []
    },
    {
      "cell_type": "code",
      "source": [
        "score_dict = {name: llm_judge_scoring(value) for name, value in top2_llm_judge_dict.items()}\n",
        "llm_judge_df = pd.DataFrame(score_dict)"
      ],
      "metadata": {
        "id": "VfQzKbPl6gfv",
        "colab": {
          "base_uri": "https://localhost:8080/",
          "height": 159
        },
        "outputId": "b979cba7-35d3-435b-d62b-557d46575514"
      },
      "execution_count": 70,
      "outputs": [
        {
          "output_type": "error",
          "ename": "NameError",
          "evalue": "name 'pd' is not defined",
          "traceback": [
            "\u001b[0;31m---------------------------------------------------------------------------\u001b[0m",
            "\u001b[0;31mNameError\u001b[0m                                 Traceback (most recent call last)",
            "\u001b[0;32m<ipython-input-70-94f8ac2a39ad>\u001b[0m in \u001b[0;36m<cell line: 2>\u001b[0;34m()\u001b[0m\n\u001b[1;32m      1\u001b[0m \u001b[0mscore_dict\u001b[0m \u001b[0;34m=\u001b[0m \u001b[0;34m{\u001b[0m\u001b[0mname\u001b[0m\u001b[0;34m:\u001b[0m \u001b[0mllm_judge_scoring\u001b[0m\u001b[0;34m(\u001b[0m\u001b[0mvalue\u001b[0m\u001b[0;34m)\u001b[0m \u001b[0;32mfor\u001b[0m \u001b[0mname\u001b[0m\u001b[0;34m,\u001b[0m \u001b[0mvalue\u001b[0m \u001b[0;32min\u001b[0m \u001b[0mtop2_llm_judge_dict\u001b[0m\u001b[0;34m.\u001b[0m\u001b[0mitems\u001b[0m\u001b[0;34m(\u001b[0m\u001b[0;34m)\u001b[0m\u001b[0;34m}\u001b[0m\u001b[0;34m\u001b[0m\u001b[0;34m\u001b[0m\u001b[0m\n\u001b[0;32m----> 2\u001b[0;31m \u001b[0mllm_judge_df\u001b[0m \u001b[0;34m=\u001b[0m \u001b[0mpd\u001b[0m\u001b[0;34m.\u001b[0m\u001b[0mDataFrame\u001b[0m\u001b[0;34m(\u001b[0m\u001b[0mscore_dict\u001b[0m\u001b[0;34m)\u001b[0m\u001b[0;34m\u001b[0m\u001b[0;34m\u001b[0m\u001b[0m\n\u001b[0m",
            "\u001b[0;31mNameError\u001b[0m: name 'pd' is not defined"
          ]
        }
      ]
    },
    {
      "cell_type": "code",
      "source": [
        "llm_judge_df.join(df_metrics)"
      ],
      "metadata": {
        "id": "MpBuZXeB6hvq"
      },
      "execution_count": null,
      "outputs": []
    },
    {
      "cell_type": "code",
      "source": [
        "model = 'chunk_inc_prompt_cohere', 'chunk_inc_cohere'\n",
        "pkl = 'llm_judge_chunk_inc_prompt_cohere_vs_chunk_inc_cohere.pkl'\n",
        "q_key = 11\n",
        "dep = 'research'\n",
        "pprint(validation_questions_answers[q_key]['question'])\n",
        "print()\n",
        "print(f'Model: {model[0]}')\n",
        "pprint(results_dict[model[0]][dep][q_key])\n",
        "print()\n",
        "print(f'Model: {model[1]}')\n",
        "pprint(results_dict[model[1]][dep][q_key])\n",
        "print()\n",
        "print('Gold Answer')\n",
        "pprint(validation_questions_answers[q_key][f'gold_answer_{dep}'])\n",
        "print()\n",
        "print('LLM Judge')\n",
        "pprint(top2_llm_judge_dict[pkl][q_key][dep])"
      ],
      "metadata": {
        "colab": {
          "base_uri": "https://localhost:8080/"
        },
        "id": "HsNOrGad6kgB",
        "outputId": "334b3dcd-c0fc-426f-e5f5-5e30460d2b7d"
      },
      "execution_count": null,
      "outputs": [
        {
          "output_type": "stream",
          "name": "stdout",
          "text": [
            "('Can you explain how maximum entropy language models work and what the '\n",
            " 'partition function signifies?')\n",
            "\n",
            "Model: chunk_inc_prompt_cohere\n",
            "('Maximum entropy models assign probabilities using the principle of maximum '\n",
            " 'entropy, where the probability distribution with the highest entropy is '\n",
            " 'chosen, given the observed n-gram data. The partition function Z in the '\n",
            " 'equation Z(w1,…,wm−1) normalizes the probability distribution, ensuring that '\n",
            " \"it sums up to 1. It's a normalizing constant that makes the probabilities \"\n",
            " 'well-defined. As the feature function counts the frequency of n-grams, the '\n",
            " 'partition function allows the model to compute the probability of observing '\n",
            " 'a specific word given the previous words in the n-gram. The higher the '\n",
            " 'frequency of an n-gram in the data, the higher the probability of '\n",
            " 'encountering it. Essentially, the partition function enables the model to '\n",
            " 'balance the contribution of different n-grams.')\n",
            "\n",
            "Model: chunk_inc_cohere\n",
            "('Maximum entropy models utilize the concept of entropy to capture the '\n",
            " 'probabilistic relationships between words in a language model. The principle '\n",
            " 'behind these models is to find the probability distribution that maximizes '\n",
            " 'entropy while adhering to the known probabilities of certain word n-grams. \\n'\n",
            " '\\n'\n",
            " 'The partition function, denoted as Z(w1, ..., wm−1), is a normalizing '\n",
            " 'constant in the maximum entropy model. It ensures that the probabilities '\n",
            " 'assigned to each word in the model sum up to 1. This function essentially '\n",
            " 'acts as a scaling factor, making the probabilities generated by the model '\n",
            " 'valid. \\n'\n",
            " '\\n'\n",
            " 'The partition function Z normalizes the exponential terms in the maximum '\n",
            " 'entropy equation, ensuring that the result lies between 0 and 1, thereby '\n",
            " \"converting the unnormalized probabilities into normalized ones. It's a \"\n",
            " \"crucial component in transforming the feature function's output into a \"\n",
            " 'usable probability distribution. \\n'\n",
            " '\\n'\n",
            " 'In the context of the exponential model, the partition function makes the '\n",
            " 'model practically usable and helps compute the probabilities associated with '\n",
            " 'various word n-grams.')\n",
            "\n",
            "Gold Answer\n",
            "('Maximum entropy language models use feature functions to encode the '\n",
            " 'relationship between a word and its n-gram history, aiming to maximize '\n",
            " 'reward while satisfying a KL-constrained objective. The partition function, '\n",
            " 'denoted as Z(x), is crucial in normalizing the probabilities of all possible '\n",
            " 'outputs given the input. It represents the sum of the exponential of the '\n",
            " 'reward function over all possible output sequences, making it '\n",
            " 'computationally expensive to estimate but essential for accurate modeling. '\n",
            " \"The partition function ensures that the model's predicted probabilities sum \"\n",
            " 'up to 1, providing a foundation for effective language modeling.')\n",
            "\n",
            "LLM Judge\n",
            "{'reasoning': 'Both assistants provide insightful and accurate explanations of '\n",
            "              'maximum entropy language models and the role of the partition '\n",
            "              'function. They explain that these models utilize the principle '\n",
            "              'of maximum entropy to assign probabilities to n-grams, with the '\n",
            "              'partition function acting as a normalizing constant to ensure '\n",
            "              'the probabilities sum to 1.\\n'\n",
            "              '\\n'\n",
            "              'Assistant A: Emphasizes the role of the partition function in '\n",
            "              'balancing the contribution of different n-grams and how it '\n",
            "              'relates to the frequency of n-grams in the data.\\n'\n",
            "              '\\n'\n",
            "              'Assistant B: Delves a bit deeper into the mathematical aspect, '\n",
            "              'explaining how the partition function normalizes exponential '\n",
            "              'terms to ensure they lie between 0 and 1, converting '\n",
            "              'unnormalized probabilities into normalized ones.\\n'\n",
            "              '\\n'\n",
            "              'Evaluation: [[C]] This is a close call, as both assistants '\n",
            "              'provide helpful and correct responses. Assistant A focuses on '\n",
            "              'the practical implications, while Assistant B provides a '\n",
            "              'slightly deeper mathematical insight. Given the criteria and '\n",
            "              'the reference answer, both assistants perform equally well in '\n",
            "              \"addressing the user's question.\",\n",
            " 'score': 0.5,\n",
            " 'value': None}\n"
          ]
        }
      ]
    },
    {
      "cell_type": "markdown",
      "metadata": {
        "id": "L7J41pWiyh06"
      },
      "source": [
        "\n",
        "###5.2 Some Test Questions\n",
        "\n",
        "**QUESTIONS:**\n",
        "\n",
        "\n",
        "Please study the answers generated by your chosen setup for these specific test questions:\n",
        "\n",
        "1. \"What purpose do large language models serve in the field of natural language processing?\" (Question 0)\n",
        "\n",
        "2. \"What methods are typically employed to create training data for embedding models that use task-specific instructions?\" (Question 50)\n",
        "\n",
        "3. \"How does a model's ability to answer questions relate to its exposure to specific types of questions during training?\" (Question 83, no labeled answers)\n",
        "\n",
        "For each of the three questions above please provide:\n",
        "\n",
        "a) The RAG results (research and marketing response)  \n",
        "b) The context provided  \n",
        "c) The document sources for the context  \n",
        "d) Also discuss your metric(s) for the first two examples (for both responses) compared to the gold responses\n",
        "\n",
        "Then, for questions 1 and 2, comment on how well you feel your metrics captured the differences and similarities between your answer and the gold answer?\n",
        "\n",
        "Put your answers to these questions into the answers file as you have done on previous assignments. Please consult the answer file for further details.\n",
        "\n",
        "####5.2.1 Test Question 1\n",
        "\n",
        "Please run the query:\n",
        "\n",
        "\n",
        "\n",
        "\n",
        "\n",
        "\n"
      ]
    },
    {
      "cell_type": "code",
      "source": [
        "def answers(q_key, research_model, market_model, vector_store, _retriever, ref_avail=True):\n",
        "  # query\n",
        "  if ref_avail:\n",
        "    query = validation_questions_answers[q_key]['question']\n",
        "  else:\n",
        "    query = test_questions[q_key]['question']\n",
        "\n",
        "  # model\n",
        "  # RAG Results\n",
        "  pred_r = model_dict[research_model].invoke(query)\n",
        "  pred_m = model_dict[market_model].invoke(query)\n",
        "\n",
        "  # context\n",
        "  context = format_docs(_retriever.get_relevant_documents(query))\n",
        "\n",
        "  # documents sourced\n",
        "  # use the right vector store depending on best model used\n",
        "  found_docs = vector_store.similarity_search_with_score(query)\n",
        "  doc_source = [{'source': doc[0].metadata['source']} for doc in found_docs]\n",
        "\n",
        "  pprint(f'Prediction Research:{pred_r}')\n",
        "  pprint(f'Prediction Market:{pred_m}')\n",
        "  print(f'Context:\\n{context}\\n')\n",
        "  print(f'Found Docs:\\n{doc_source}\\n')\n",
        "\n",
        "  if ref_avail:\n",
        "    ref_r = validation_questions_answers[q_key]['gold_answer_research']\n",
        "    ref_m = validation_questions_answers[q_key]['gold_answer_marketing']\n",
        "\n",
        "    #meteor\n",
        "    meteor_res = meteor.compute(predictions=[pred_r], references=[ref_r])\n",
        "    meteor_market = meteor.compute(predictions=[pred_m], references=[ref_m])\n",
        "    #bertscore\n",
        "    bertscore_res = np.mean(bertscore.compute(predictions=[pred_r], references=[ref_r], lang='en')['f1'])\n",
        "    bertscore_market = np.mean(bertscore.compute(predictions=[pred_m], references=[ref_m], lang='en')['f1'])\n",
        "\n",
        "    print(f'Meteor research:\\n{meteor_res}\\n')\n",
        "    print(f'Bertscore research:\\n{bertscore_res}\\n')\n",
        "    print(f'Meteor market:\\n{meteor_market}\\n')\n",
        "    print(f'Bertscore market:\\n{bertscore_market}\\n')\n",
        "\n",
        "    pprint('Gold Answer Research:')\n",
        "    pprint(ref_r)\n",
        "    pprint('Gold Answer Marketing:')\n",
        "    pprint(ref_m)"
      ],
      "metadata": {
        "id": "DYTKz-Gk6sCM"
      },
      "execution_count": 71,
      "outputs": []
    },
    {
      "cell_type": "code",
      "source": [
        "query = validation_questions_answers[0]['question']\n",
        "context = format_docs(retriever_inc.get_relevant_documents(query))"
      ],
      "metadata": {
        "id": "NroXzQjUJNj1"
      },
      "execution_count": 73,
      "outputs": []
    },
    {
      "cell_type": "code",
      "source": [
        "context"
      ],
      "metadata": {
        "colab": {
          "base_uri": "https://localhost:8080/",
          "height": 105
        },
        "id": "X1hBz0d0JnF7",
        "outputId": "ee501f84-b4c2-4dde-e0b5-8abd585ae9ab"
      },
      "execution_count": 74,
      "outputs": [
        {
          "output_type": "execute_result",
          "data": {
            "text/plain": [
              "'1\\nIntroduction\\nLarge language models (LLMs) excel in a variety\\nof tasks ranging from response generation and log-\\nical reasoning to program synthesis. One of the\\nimportant active areas of LLM research is to uti-\\nlize them as planning agents (Huang et al., 2022).\\nPlanning is an essential functionality for processing\\ncomplex natural language instructions. A planner\\nshould possess the ability to select the appropriate\\ntools to complete each sub-task. While LLMs ex-\\n\\nAfter the success of many large-scale general language models, many QA models embrace the following approach:\\n\\nplewis@fb.com\\nAbstract\\nLarge pre-trained language models have been shown to store factual knowledge\\nin their parameters, and achieve state-of-the-art results when ﬁne-tuned on down-\\nstream NLP tasks. However, their ability to access and precisely manipulate knowl-\\nedge is still limited, and hence on knowledge-intensive tasks, their performance\\nlags behind task-speciﬁc architectures. Additionally, providing provenance for their\\n\\nA large language model (LLM) is a language model notable for its ability to achieve general-purpose language generation and other natural language processing tasks such as classification. LLMs acquire these abilities by learning statistical relationships from text documents during a computationally intensive self-supervised and semi-supervised training process. LLMs can be used for text generation, a form of generative AI, by taking an input text and repeatedly predicting the next token or'"
            ],
            "application/vnd.google.colaboratory.intrinsic+json": {
              "type": "string"
            }
          },
          "metadata": {},
          "execution_count": 74
        }
      ]
    },
    {
      "cell_type": "code",
      "execution_count": 82,
      "metadata": {
        "id": "fgJbWDR7Ab-K",
        "colab": {
          "base_uri": "https://localhost:8080/"
        },
        "outputId": "a3c3478d-a8d6-4dbc-dd5f-790e3881bd91"
      },
      "outputs": [
        {
          "output_type": "stream",
          "name": "stdout",
          "text": [
            "('Prediction Research:Large language models (LLMs) are an essential tool in '\n",
            " 'natural language processing (NLP), trained to excel at a variety of tasks. '\n",
            " 'They can process complex instructions and are actively researched for their '\n",
            " 'planning capabilities. LLMs store factual knowledge and can be fine-tuned '\n",
            " 'for specific tasks, although knowledge access and manipulation are '\n",
            " 'limitations. The models are useful for generating text and other NLP tasks, '\n",
            " 'such as classification, by learning statistical relationships from text '\n",
            " 'during training.')\n",
            "('Prediction Market:Large language models (LLMs) are tools used in natural '\n",
            " 'language processing to help computers understand and generate human '\n",
            " 'language. They are trained on vast amounts of text data to learn patterns '\n",
            " 'and make predictions about language. This enables them to assist with '\n",
            " 'various tasks, such as answering questions, generating responses, and even '\n",
            " 'performing logical reasoning.')\n",
            "Context:\n",
            "1\n",
            "Introduction\n",
            "Large language models (LLMs) excel in a variety\n",
            "of tasks ranging from response generation and log-\n",
            "ical reasoning to program synthesis. One of the\n",
            "important active areas of LLM research is to uti-\n",
            "lize them as planning agents (Huang et al., 2022).\n",
            "Planning is an essential functionality for processing\n",
            "complex natural language instructions. A planner\n",
            "should possess the ability to select the appropriate\n",
            "tools to complete each sub-task. While LLMs ex-\n",
            "\n",
            "After the success of many large-scale general language models, many QA models embrace the following approach:\n",
            "\n",
            "plewis@fb.com\n",
            "Abstract\n",
            "Large pre-trained language models have been shown to store factual knowledge\n",
            "in their parameters, and achieve state-of-the-art results when ﬁne-tuned on down-\n",
            "stream NLP tasks. However, their ability to access and precisely manipulate knowl-\n",
            "edge is still limited, and hence on knowledge-intensive tasks, their performance\n",
            "lags behind task-speciﬁc architectures. Additionally, providing provenance for their\n",
            "\n",
            "A large language model (LLM) is a language model notable for its ability to achieve general-purpose language generation and other natural language processing tasks such as classification. LLMs acquire these abilities by learning statistical relationships from text documents during a computationally intensive self-supervised and semi-supervised training process. LLMs can be used for text generation, a form of generative AI, by taking an input text and repeatedly predicting the next token or\n",
            "\n",
            "Found Docs:\n",
            "[{'source': 'https://arxiv.org/pdf/2312.05708.pdf'}, {'source': 'https://lilianweng.github.io/posts/2020-10-29-odqa/'}, {'source': 'https://arxiv.org/pdf/2005.11401.pdf'}, {'source': 'https://en.wikipedia.org/wiki/Large_language_model'}]\n",
            "\n",
            "Meteor research:\n",
            "{'meteor': 0.40505426272166706}\n",
            "\n",
            "Bertscore research:\n",
            "0.8951860070228577\n",
            "\n",
            "Meteor market:\n",
            "{'meteor': 0.28820861678004533}\n",
            "\n",
            "Bertscore market:\n",
            "0.883764922618866\n",
            "\n",
            "'Gold Answer Research:'\n",
            "('Large language models (LLMs) serve the purpose of enabling general-purpose '\n",
            " 'language generation and other natural language processing tasks such as '\n",
            " 'classification. They achieve this by learning statistical relationships from '\n",
            " 'text documents during computationally intensive self-supervised and '\n",
            " 'semi-supervised training. LLMs can be used for text generation by predicting '\n",
            " 'the next token or word, making them valuable for tasks like speech '\n",
            " 'recognition, machine translation, and information retrieval. Additionally, '\n",
            " 'LLMs have superseded previous models like recurrent neural networks, '\n",
            " 'showcasing their efficiency and effectiveness in NLP tasks.')\n",
            "'Gold Answer Marketing:'\n",
            "('Large language models serve the purpose of improving performance in various '\n",
            " 'natural language processing tasks, such as speech recognition, machine '\n",
            " 'translation, natural language generation, optical character recognition, '\n",
            " 'handwriting recognition, grammar induction, and information retrieval.')\n"
          ]
        }
      ],
      "source": [
        "answers(q_key=0,\n",
        "        research_model = 'chunk_inc_prompt_res_cohere',\n",
        "        market_model = 'chunk_inc_prompt_market_cohere',\n",
        "        vector_store=qdrant_vectorstore_inc_chunk,\n",
        "        _retriever=retriever_inc,\n",
        "        ref_avail=True)"
      ]
    },
    {
      "cell_type": "markdown",
      "metadata": {
        "id": "D6wrr5VUUJk1"
      },
      "source": [
        "Discuss..."
      ]
    },
    {
      "cell_type": "markdown",
      "metadata": {
        "id": "PZdkNySoUDy3"
      },
      "source": [
        "####5.2.2 Test Question 2\n",
        "\n",
        "Please run the query:"
      ]
    },
    {
      "cell_type": "code",
      "execution_count": 80,
      "metadata": {
        "id": "izSpKhLHT5Ky",
        "colab": {
          "base_uri": "https://localhost:8080/"
        },
        "outputId": "71684f9c-ab18-416d-e149-c57eb05e6e0f"
      },
      "outputs": [
        {
          "output_type": "stream",
          "name": "stdout",
          "text": [
            "('Prediction Research:Training data for these models is generated through '\n",
            " 'three main paradigms: using task-specific templates, leveraging large '\n",
            " 'language models, or employing a combination of both. The first method uses '\n",
            " 'templates to generate synthetic data, while the second uses LLMs to create '\n",
            " 'training samples. The third paradigm, as mentioned, combines these '\n",
            " 'approaches, using LLMs to generate in-domain training queries from '\n",
            " 'task-specific templates and few-shot samples.')\n",
            "('Prediction Market:Training data for these models is often generated '\n",
            " 'automatically, using task-specific templates and a small number of examples '\n",
            " 'to create in-domain queries. This can involve using another model to create '\n",
            " 'training data, or leveraging randomly sampled documents and few-shot '\n",
            " 'samples. The goal is to create training queries that reflect the specific '\n",
            " 'task instructions and input format that the model will encounter when '\n",
            " 'deployed.')\n",
            "Context:\n",
            "finetuned embedding models. Given an input text\n",
            "x and a task instruction Ix, INSTRUCTOR encodes\n",
            "their concatenation Ix ⊕x. We then generate a\n",
            "fixed-sized, task-specific embedding EI(Ix, x) by\n",
            "applying mean pooling to the last hidden represen-\n",
            "tations over the tokens in x.\n",
            "2.2\n",
            "Training Objective\n",
            "INSTRUCTOR is trained by formulating a wide\n",
            "variety of tasks as a text-to-text problem of distin-\n",
            "guishing good/bad candidate outputs y ∈{y+, y−\n",
            "i }\n",
            "given an input x, where a training sample corre-\n",
            "\n",
            "like those used for training (Dai et al., 2022). To\n",
            "address this, the third paradigm trains customized\n",
            "retrievers for each task using unlabeled corpora,\n",
            "leveraging another model to automatically generate\n",
            "training data (Wang et al., 2022a). Concurrent to\n",
            "our work, Dai et al. (2022) use task-speciﬁc tem-\n",
            "plates and few-shot samples to automatically gen-\n",
            "erate in-domain training queries given randomly\n",
            "sampled documents from the target corpus using\n",
            "FLAN (Wei et al., 2022a). It often entails running\n",
            "\n",
            "P. F. Christiano, J. Leike, and R. Lowe. Training language models to follow instructions with\n",
            "human feedback. In S. Koyejo, S. Mohamed, A. Agarwal, D. Belgrave, K. Cho, and A. Oh,\n",
            "editors, Advances in Neural Information Processing Systems, volume 35, pages 27730–27744.\n",
            "Curran Associates, Inc., 2022. URL https://proceedings.neurips.cc/paper_files/\n",
            "paper/2022/file/b1efde53be364a73914f58805a001731-Paper-Conference.pdf.\n",
            "\n",
            "embeddings, which we support by sharing all of\n",
            "our models and code.\n",
            "2\n",
            "INSTRUCTOR\n",
            "INSTRUCTOR encodes inputs together with task\n",
            "instructions, thereby providing task-specific repre-\n",
            "sentations that can be used for many downstream\n",
            "language tasks, without any additional training.\n",
            "Here we introduce the architecture of INSTRUC-\n",
            "TOR (§2.1), present how we perform multitask\n",
            "instruction-based finetuning (§2.2), and describe\n",
            "\n",
            "Found Docs:\n",
            "[{'source': 'https://arxiv.org/pdf/2212.09741.pdf'}, {'source': 'https://arxiv.org/pdf/2211.09260.pdf'}, {'source': 'https://arxiv.org/pdf/2305.18290.pdf'}, {'source': 'https://arxiv.org/pdf/2212.09741.pdf'}]\n",
            "\n",
            "Meteor research:\n",
            "{'meteor': 0.18026565464895639}\n",
            "\n",
            "Bertscore research:\n",
            "0.8583932518959045\n",
            "\n",
            "Meteor market:\n",
            "{'meteor': 0.23591748082864175}\n",
            "\n",
            "Bertscore market:\n",
            "0.8702773451805115\n",
            "\n",
            "'Gold Answer Research:'\n",
            "('To create training data for embedding models that use task-specific '\n",
            " 'instructions, a common method is to combine datasets from different sources, '\n",
            " 'such as the SuperNaturalInstructions dataset with existing collections '\n",
            " 'designed for embedding training. The SuperNaturalInstructions dataset '\n",
            " 'provides natural language instructions, which can be paired with positive '\n",
            " 'and negative examples to form training samples. Additionally, for tasks like '\n",
            " 'classification or similarity, training samples can be constructed by '\n",
            " 'selecting text sequences associated with different classes or similarities. '\n",
            " 'This diverse training data is essential for instruction-based finetuning, '\n",
            " 'which enables the embedding model to learn from a wide range of tasks and '\n",
            " 'domains.')\n",
            "'Gold Answer Marketing:'\n",
            "('Training data for embedding models that use task-specific instructions is '\n",
            " 'typically created by formulating a wide variety of tasks as text-to-text '\n",
            " 'problems, distinguishing good/bad candidate outputs given an input text. '\n",
            " 'This is done by combining datasets with natural language instructions and '\n",
            " 'constructing positive and negative pairs for training.')\n"
          ]
        }
      ],
      "source": [
        "answers(q_key=50,\n",
        "        research_model = 'chunk_inc_prompt_res_cohere',\n",
        "        market_model = 'chunk_inc_prompt_market_cohere',\n",
        "        vector_store=qdrant_vectorstore_inc_chunk,\n",
        "        _retriever=retriever_inc,\n",
        "        ref_avail=True)"
      ]
    },
    {
      "cell_type": "markdown",
      "metadata": {
        "id": "eDovfhEtUMMr"
      },
      "source": [
        "Discuss..."
      ]
    },
    {
      "cell_type": "markdown",
      "metadata": {
        "id": "VxDhzMXsT48H"
      },
      "source": [
        "####5.2.3 Test Question 3\n",
        "\n",
        "Please run the query:"
      ]
    },
    {
      "cell_type": "code",
      "execution_count": 81,
      "metadata": {
        "id": "9WXJX_x3T4we",
        "colab": {
          "base_uri": "https://localhost:8080/"
        },
        "outputId": "d098603c-9b19-4e09-b61f-c8f6b11214e5"
      },
      "outputs": [
        {
          "output_type": "stream",
          "name": "stdout",
          "text": [
            "(\"Prediction Research:A model's ability to answer questions is directly \"\n",
            " 'related to its exposure to similar question types during training. Models '\n",
            " \"can only 'memorize' answers to specific questions, select answers from a \"\n",
            " 'trained set, or attempt novel answers based on training data. Thus, the '\n",
            " \"accuracy of a model's response is dependent on the quality and diversity of \"\n",
            " 'its training data and its ability to generalize from that data. To answer '\n",
            " 'novel questions with unknown answers, models often require additional '\n",
            " 'retrieval and generation steps, highlighting the importance of exposure to '\n",
            " 'varied question types during training for effective generalization.')\n",
            "(\"Prediction Market:A model's ability to answer questions is directly linked \"\n",
            " 'to its training data. Models can only respond accurately to novel questions '\n",
            " 'if they have been trained on similar question types and have exposure to a '\n",
            " \"diverse range of answers. The quality of a model's response depends on the \"\n",
            " 'relevance and breadth of its training, and its ability to retrieve and '\n",
            " 'generate information.')\n",
            "Context:\n",
            "A model is able to correctly memorize and respond with the answer to a question that has been seen at training time.\n",
            "A model is able to answer novel questions at test time and choose an answer from the set of answers it has seen during training.\n",
            "A model is able to answer novel questions which have answers not contained in the training dataset.\n",
            "\n",
            "Often we need to complete tasks that require latest knowledge after the model pretraining time cutoff or internal/private knowledge base. In that case, the model would not know the context if we don’t explicitly provide it in the prompt. Many methods for Open Domain Question Answering depend on first doing retrieval over a knowledge base and then incorporating the retrieved content as part of the prompt. The accuracy of such a process depends on the quality of both retrieval and generation\n",
            "\n",
            "as the associated general questions:\n",
            "1. The overall quality of the question, such as its\n",
            "difficulty, clarity, and information needed for\n",
            "answering it.\n",
            "\n",
            "idence to answers. We ﬁnd that existing mod-\n",
            "els that do well on other QA tasks do not per-\n",
            "form well on answering these questions, un-\n",
            "derperforming humans by at least 27 F1 points\n",
            "when answering them from entire papers, moti-\n",
            "vating further research in document-grounded,\n",
            "information-seeking QA, which our dataset is\n",
            "designed to facilitate.\n",
            "1\n",
            "Introduction\n",
            "Machines built to assist humans who engage with\n",
            "texts to seek information ought to be designed with\n",
            "\n",
            "Found Docs:\n",
            "[{'source': 'https://lilianweng.github.io/posts/2020-10-29-odqa/'}, {'source': 'https://lilianweng.github.io/posts/2023-03-15-prompt-engineering/'}, {'source': 'https://arxiv.org/pdf/2309.08872.pdf'}, {'source': 'https://arxiv.org/pdf/2105.03011.pdf'}]\n",
            "\n"
          ]
        }
      ],
      "source": [
        "answers(q_key=83,\n",
        "        research_model = 'chunk_inc_prompt_res_cohere',\n",
        "        market_model = 'chunk_inc_prompt_market_cohere',\n",
        "        vector_store=qdrant_vectorstore_inc_chunk,\n",
        "        _retriever=retriever_inc,\n",
        "        ref_avail=False)"
      ]
    },
    {
      "cell_type": "markdown",
      "metadata": {
        "id": "24UZvRmhUOWk"
      },
      "source": [
        "Discuss..."
      ]
    },
    {
      "cell_type": "markdown",
      "metadata": {
        "id": "44h038A7AUdn"
      },
      "source": [
        "###5.3 Other Questions\n",
        "\n",
        "Below are a few questions that you should think about. Please answer them in the answer file directly (in a short paragraph) and also see whether they may be relevant for your final write-up.\n",
        "\n",
        "**QUESTION:**\n",
        "\n",
        "5.3.a. How would you expect your response quality to change if you had a chunk size of 50?\n",
        "\n",
        "5.3.b. How would you expect your response quality to change if you had a chunk size of 5000?\n",
        "\n",
        "5.3.c. If you had time, how do you think fine-tuning of the LLM could help?  What type of data would you want for that? And which training approach would you take?\n",
        "\n",
        "5.3.d. What was your design philosophy  of the prompts? How did they differ between engineering and marketing support?\n",
        "\n",
        "5.3.e. What are your average and peak load estimates for the system? Given that, would you suggest a pay-per-use deployment or one that reserves the LLM?\n",
        "\n",
        "5.3.f. What type of limitations/risks would you see in using this system?\n"
      ]
    },
    {
      "cell_type": "code",
      "execution_count": null,
      "metadata": {
        "id": "6yhZpA9y1HyN"
      },
      "outputs": [],
      "source": []
    }
  ],
  "metadata": {
    "accelerator": "GPU",
    "colab": {
      "gpuType": "V100",
      "provenance": [],
      "machine_shape": "hm"
    },
    "kernelspec": {
      "display_name": "Python 3",
      "name": "python3"
    },
    "language_info": {
      "codemirror_mode": {
        "name": "ipython",
        "version": 3
      },
      "file_extension": ".py",
      "mimetype": "text/x-python",
      "name": "python",
      "nbconvert_exporter": "python",
      "pygments_lexer": "ipython3",
      "version": "3.8.5"
    },
    "widgets": {
      "application/vnd.jupyter.widget-state+json": {
        "4a2b00372048417ab3a09b53027c592d": {
          "model_module": "@jupyter-widgets/controls",
          "model_name": "HBoxModel",
          "model_module_version": "1.5.0",
          "state": {
            "_dom_classes": [],
            "_model_module": "@jupyter-widgets/controls",
            "_model_module_version": "1.5.0",
            "_model_name": "HBoxModel",
            "_view_count": null,
            "_view_module": "@jupyter-widgets/controls",
            "_view_module_version": "1.5.0",
            "_view_name": "HBoxView",
            "box_style": "",
            "children": [
              "IPY_MODEL_e8397006857d4a088f10c918ad759990",
              "IPY_MODEL_34a5f42203c64cae97ad61ab3d67d428",
              "IPY_MODEL_889105e4fe3545ceb0ef448ffbf3c44d"
            ],
            "layout": "IPY_MODEL_2a8c895cccee4a5a8dfbcd73541cb16f"
          }
        },
        "e8397006857d4a088f10c918ad759990": {
          "model_module": "@jupyter-widgets/controls",
          "model_name": "HTMLModel",
          "model_module_version": "1.5.0",
          "state": {
            "_dom_classes": [],
            "_model_module": "@jupyter-widgets/controls",
            "_model_module_version": "1.5.0",
            "_model_name": "HTMLModel",
            "_view_count": null,
            "_view_module": "@jupyter-widgets/controls",
            "_view_module_version": "1.5.0",
            "_view_name": "HTMLView",
            "description": "",
            "description_tooltip": null,
            "layout": "IPY_MODEL_4a0195d9f21540578e6a59cf6c926b9e",
            "placeholder": "​",
            "style": "IPY_MODEL_1ffccaa321ed435283337d0abfc9142a",
            "value": "config.json: 100%"
          }
        },
        "34a5f42203c64cae97ad61ab3d67d428": {
          "model_module": "@jupyter-widgets/controls",
          "model_name": "FloatProgressModel",
          "model_module_version": "1.5.0",
          "state": {
            "_dom_classes": [],
            "_model_module": "@jupyter-widgets/controls",
            "_model_module_version": "1.5.0",
            "_model_name": "FloatProgressModel",
            "_view_count": null,
            "_view_module": "@jupyter-widgets/controls",
            "_view_module_version": "1.5.0",
            "_view_name": "ProgressView",
            "bar_style": "success",
            "description": "",
            "description_tooltip": null,
            "layout": "IPY_MODEL_e98d0f5cc30a45bfab4a5a6f5b4b35da",
            "max": 571,
            "min": 0,
            "orientation": "horizontal",
            "style": "IPY_MODEL_260f8958d93043d18c860a22f0f1651f",
            "value": 571
          }
        },
        "889105e4fe3545ceb0ef448ffbf3c44d": {
          "model_module": "@jupyter-widgets/controls",
          "model_name": "HTMLModel",
          "model_module_version": "1.5.0",
          "state": {
            "_dom_classes": [],
            "_model_module": "@jupyter-widgets/controls",
            "_model_module_version": "1.5.0",
            "_model_name": "HTMLModel",
            "_view_count": null,
            "_view_module": "@jupyter-widgets/controls",
            "_view_module_version": "1.5.0",
            "_view_name": "HTMLView",
            "description": "",
            "description_tooltip": null,
            "layout": "IPY_MODEL_ec38bd4e755743cb971cbd6f0d306f01",
            "placeholder": "​",
            "style": "IPY_MODEL_bc7e81fa917c44c594ae7f0308233b84",
            "value": " 571/571 [00:00&lt;00:00, 51.4kB/s]"
          }
        },
        "2a8c895cccee4a5a8dfbcd73541cb16f": {
          "model_module": "@jupyter-widgets/base",
          "model_name": "LayoutModel",
          "model_module_version": "1.2.0",
          "state": {
            "_model_module": "@jupyter-widgets/base",
            "_model_module_version": "1.2.0",
            "_model_name": "LayoutModel",
            "_view_count": null,
            "_view_module": "@jupyter-widgets/base",
            "_view_module_version": "1.2.0",
            "_view_name": "LayoutView",
            "align_content": null,
            "align_items": null,
            "align_self": null,
            "border": null,
            "bottom": null,
            "display": null,
            "flex": null,
            "flex_flow": null,
            "grid_area": null,
            "grid_auto_columns": null,
            "grid_auto_flow": null,
            "grid_auto_rows": null,
            "grid_column": null,
            "grid_gap": null,
            "grid_row": null,
            "grid_template_areas": null,
            "grid_template_columns": null,
            "grid_template_rows": null,
            "height": null,
            "justify_content": null,
            "justify_items": null,
            "left": null,
            "margin": null,
            "max_height": null,
            "max_width": null,
            "min_height": null,
            "min_width": null,
            "object_fit": null,
            "object_position": null,
            "order": null,
            "overflow": null,
            "overflow_x": null,
            "overflow_y": null,
            "padding": null,
            "right": null,
            "top": null,
            "visibility": null,
            "width": null
          }
        },
        "4a0195d9f21540578e6a59cf6c926b9e": {
          "model_module": "@jupyter-widgets/base",
          "model_name": "LayoutModel",
          "model_module_version": "1.2.0",
          "state": {
            "_model_module": "@jupyter-widgets/base",
            "_model_module_version": "1.2.0",
            "_model_name": "LayoutModel",
            "_view_count": null,
            "_view_module": "@jupyter-widgets/base",
            "_view_module_version": "1.2.0",
            "_view_name": "LayoutView",
            "align_content": null,
            "align_items": null,
            "align_self": null,
            "border": null,
            "bottom": null,
            "display": null,
            "flex": null,
            "flex_flow": null,
            "grid_area": null,
            "grid_auto_columns": null,
            "grid_auto_flow": null,
            "grid_auto_rows": null,
            "grid_column": null,
            "grid_gap": null,
            "grid_row": null,
            "grid_template_areas": null,
            "grid_template_columns": null,
            "grid_template_rows": null,
            "height": null,
            "justify_content": null,
            "justify_items": null,
            "left": null,
            "margin": null,
            "max_height": null,
            "max_width": null,
            "min_height": null,
            "min_width": null,
            "object_fit": null,
            "object_position": null,
            "order": null,
            "overflow": null,
            "overflow_x": null,
            "overflow_y": null,
            "padding": null,
            "right": null,
            "top": null,
            "visibility": null,
            "width": null
          }
        },
        "1ffccaa321ed435283337d0abfc9142a": {
          "model_module": "@jupyter-widgets/controls",
          "model_name": "DescriptionStyleModel",
          "model_module_version": "1.5.0",
          "state": {
            "_model_module": "@jupyter-widgets/controls",
            "_model_module_version": "1.5.0",
            "_model_name": "DescriptionStyleModel",
            "_view_count": null,
            "_view_module": "@jupyter-widgets/base",
            "_view_module_version": "1.2.0",
            "_view_name": "StyleView",
            "description_width": ""
          }
        },
        "e98d0f5cc30a45bfab4a5a6f5b4b35da": {
          "model_module": "@jupyter-widgets/base",
          "model_name": "LayoutModel",
          "model_module_version": "1.2.0",
          "state": {
            "_model_module": "@jupyter-widgets/base",
            "_model_module_version": "1.2.0",
            "_model_name": "LayoutModel",
            "_view_count": null,
            "_view_module": "@jupyter-widgets/base",
            "_view_module_version": "1.2.0",
            "_view_name": "LayoutView",
            "align_content": null,
            "align_items": null,
            "align_self": null,
            "border": null,
            "bottom": null,
            "display": null,
            "flex": null,
            "flex_flow": null,
            "grid_area": null,
            "grid_auto_columns": null,
            "grid_auto_flow": null,
            "grid_auto_rows": null,
            "grid_column": null,
            "grid_gap": null,
            "grid_row": null,
            "grid_template_areas": null,
            "grid_template_columns": null,
            "grid_template_rows": null,
            "height": null,
            "justify_content": null,
            "justify_items": null,
            "left": null,
            "margin": null,
            "max_height": null,
            "max_width": null,
            "min_height": null,
            "min_width": null,
            "object_fit": null,
            "object_position": null,
            "order": null,
            "overflow": null,
            "overflow_x": null,
            "overflow_y": null,
            "padding": null,
            "right": null,
            "top": null,
            "visibility": null,
            "width": null
          }
        },
        "260f8958d93043d18c860a22f0f1651f": {
          "model_module": "@jupyter-widgets/controls",
          "model_name": "ProgressStyleModel",
          "model_module_version": "1.5.0",
          "state": {
            "_model_module": "@jupyter-widgets/controls",
            "_model_module_version": "1.5.0",
            "_model_name": "ProgressStyleModel",
            "_view_count": null,
            "_view_module": "@jupyter-widgets/base",
            "_view_module_version": "1.2.0",
            "_view_name": "StyleView",
            "bar_color": null,
            "description_width": ""
          }
        },
        "ec38bd4e755743cb971cbd6f0d306f01": {
          "model_module": "@jupyter-widgets/base",
          "model_name": "LayoutModel",
          "model_module_version": "1.2.0",
          "state": {
            "_model_module": "@jupyter-widgets/base",
            "_model_module_version": "1.2.0",
            "_model_name": "LayoutModel",
            "_view_count": null,
            "_view_module": "@jupyter-widgets/base",
            "_view_module_version": "1.2.0",
            "_view_name": "LayoutView",
            "align_content": null,
            "align_items": null,
            "align_self": null,
            "border": null,
            "bottom": null,
            "display": null,
            "flex": null,
            "flex_flow": null,
            "grid_area": null,
            "grid_auto_columns": null,
            "grid_auto_flow": null,
            "grid_auto_rows": null,
            "grid_column": null,
            "grid_gap": null,
            "grid_row": null,
            "grid_template_areas": null,
            "grid_template_columns": null,
            "grid_template_rows": null,
            "height": null,
            "justify_content": null,
            "justify_items": null,
            "left": null,
            "margin": null,
            "max_height": null,
            "max_width": null,
            "min_height": null,
            "min_width": null,
            "object_fit": null,
            "object_position": null,
            "order": null,
            "overflow": null,
            "overflow_x": null,
            "overflow_y": null,
            "padding": null,
            "right": null,
            "top": null,
            "visibility": null,
            "width": null
          }
        },
        "bc7e81fa917c44c594ae7f0308233b84": {
          "model_module": "@jupyter-widgets/controls",
          "model_name": "DescriptionStyleModel",
          "model_module_version": "1.5.0",
          "state": {
            "_model_module": "@jupyter-widgets/controls",
            "_model_module_version": "1.5.0",
            "_model_name": "DescriptionStyleModel",
            "_view_count": null,
            "_view_module": "@jupyter-widgets/base",
            "_view_module_version": "1.2.0",
            "_view_name": "StyleView",
            "description_width": ""
          }
        },
        "35d4a145fea8448a8815d745bc478179": {
          "model_module": "@jupyter-widgets/controls",
          "model_name": "HBoxModel",
          "model_module_version": "1.5.0",
          "state": {
            "_dom_classes": [],
            "_model_module": "@jupyter-widgets/controls",
            "_model_module_version": "1.5.0",
            "_model_name": "HBoxModel",
            "_view_count": null,
            "_view_module": "@jupyter-widgets/controls",
            "_view_module_version": "1.5.0",
            "_view_name": "HBoxView",
            "box_style": "",
            "children": [
              "IPY_MODEL_5002a99deaa14e0993206ffecb21213a",
              "IPY_MODEL_14d668aee50541139492f7e713c932a4",
              "IPY_MODEL_03deceff7fbe4f20b26c12e848441876"
            ],
            "layout": "IPY_MODEL_6d71e3d03563420eb9672936e9dd8923"
          }
        },
        "5002a99deaa14e0993206ffecb21213a": {
          "model_module": "@jupyter-widgets/controls",
          "model_name": "HTMLModel",
          "model_module_version": "1.5.0",
          "state": {
            "_dom_classes": [],
            "_model_module": "@jupyter-widgets/controls",
            "_model_module_version": "1.5.0",
            "_model_name": "HTMLModel",
            "_view_count": null,
            "_view_module": "@jupyter-widgets/controls",
            "_view_module_version": "1.5.0",
            "_view_name": "HTMLView",
            "description": "",
            "description_tooltip": null,
            "layout": "IPY_MODEL_dfc190190bc8454da8002b9bdef29735",
            "placeholder": "​",
            "style": "IPY_MODEL_aedea8d3f0194ec79d911573834e69d0",
            "value": "model.safetensors.index.json: 100%"
          }
        },
        "14d668aee50541139492f7e713c932a4": {
          "model_module": "@jupyter-widgets/controls",
          "model_name": "FloatProgressModel",
          "model_module_version": "1.5.0",
          "state": {
            "_dom_classes": [],
            "_model_module": "@jupyter-widgets/controls",
            "_model_module_version": "1.5.0",
            "_model_name": "FloatProgressModel",
            "_view_count": null,
            "_view_module": "@jupyter-widgets/controls",
            "_view_module_version": "1.5.0",
            "_view_name": "ProgressView",
            "bar_style": "success",
            "description": "",
            "description_tooltip": null,
            "layout": "IPY_MODEL_3bb576cb55db41cc8cbe8a391abed2a1",
            "max": 25125,
            "min": 0,
            "orientation": "horizontal",
            "style": "IPY_MODEL_13856000d7a348ebbf0b71f3869e0d10",
            "value": 25125
          }
        },
        "03deceff7fbe4f20b26c12e848441876": {
          "model_module": "@jupyter-widgets/controls",
          "model_name": "HTMLModel",
          "model_module_version": "1.5.0",
          "state": {
            "_dom_classes": [],
            "_model_module": "@jupyter-widgets/controls",
            "_model_module_version": "1.5.0",
            "_model_name": "HTMLModel",
            "_view_count": null,
            "_view_module": "@jupyter-widgets/controls",
            "_view_module_version": "1.5.0",
            "_view_name": "HTMLView",
            "description": "",
            "description_tooltip": null,
            "layout": "IPY_MODEL_098c3a06ee48428eb805e391b3da8c7e",
            "placeholder": "​",
            "style": "IPY_MODEL_91b2e64cea544e2db1c236984b3025e7",
            "value": " 25.1k/25.1k [00:00&lt;00:00, 1.92MB/s]"
          }
        },
        "6d71e3d03563420eb9672936e9dd8923": {
          "model_module": "@jupyter-widgets/base",
          "model_name": "LayoutModel",
          "model_module_version": "1.2.0",
          "state": {
            "_model_module": "@jupyter-widgets/base",
            "_model_module_version": "1.2.0",
            "_model_name": "LayoutModel",
            "_view_count": null,
            "_view_module": "@jupyter-widgets/base",
            "_view_module_version": "1.2.0",
            "_view_name": "LayoutView",
            "align_content": null,
            "align_items": null,
            "align_self": null,
            "border": null,
            "bottom": null,
            "display": null,
            "flex": null,
            "flex_flow": null,
            "grid_area": null,
            "grid_auto_columns": null,
            "grid_auto_flow": null,
            "grid_auto_rows": null,
            "grid_column": null,
            "grid_gap": null,
            "grid_row": null,
            "grid_template_areas": null,
            "grid_template_columns": null,
            "grid_template_rows": null,
            "height": null,
            "justify_content": null,
            "justify_items": null,
            "left": null,
            "margin": null,
            "max_height": null,
            "max_width": null,
            "min_height": null,
            "min_width": null,
            "object_fit": null,
            "object_position": null,
            "order": null,
            "overflow": null,
            "overflow_x": null,
            "overflow_y": null,
            "padding": null,
            "right": null,
            "top": null,
            "visibility": null,
            "width": null
          }
        },
        "dfc190190bc8454da8002b9bdef29735": {
          "model_module": "@jupyter-widgets/base",
          "model_name": "LayoutModel",
          "model_module_version": "1.2.0",
          "state": {
            "_model_module": "@jupyter-widgets/base",
            "_model_module_version": "1.2.0",
            "_model_name": "LayoutModel",
            "_view_count": null,
            "_view_module": "@jupyter-widgets/base",
            "_view_module_version": "1.2.0",
            "_view_name": "LayoutView",
            "align_content": null,
            "align_items": null,
            "align_self": null,
            "border": null,
            "bottom": null,
            "display": null,
            "flex": null,
            "flex_flow": null,
            "grid_area": null,
            "grid_auto_columns": null,
            "grid_auto_flow": null,
            "grid_auto_rows": null,
            "grid_column": null,
            "grid_gap": null,
            "grid_row": null,
            "grid_template_areas": null,
            "grid_template_columns": null,
            "grid_template_rows": null,
            "height": null,
            "justify_content": null,
            "justify_items": null,
            "left": null,
            "margin": null,
            "max_height": null,
            "max_width": null,
            "min_height": null,
            "min_width": null,
            "object_fit": null,
            "object_position": null,
            "order": null,
            "overflow": null,
            "overflow_x": null,
            "overflow_y": null,
            "padding": null,
            "right": null,
            "top": null,
            "visibility": null,
            "width": null
          }
        },
        "aedea8d3f0194ec79d911573834e69d0": {
          "model_module": "@jupyter-widgets/controls",
          "model_name": "DescriptionStyleModel",
          "model_module_version": "1.5.0",
          "state": {
            "_model_module": "@jupyter-widgets/controls",
            "_model_module_version": "1.5.0",
            "_model_name": "DescriptionStyleModel",
            "_view_count": null,
            "_view_module": "@jupyter-widgets/base",
            "_view_module_version": "1.2.0",
            "_view_name": "StyleView",
            "description_width": ""
          }
        },
        "3bb576cb55db41cc8cbe8a391abed2a1": {
          "model_module": "@jupyter-widgets/base",
          "model_name": "LayoutModel",
          "model_module_version": "1.2.0",
          "state": {
            "_model_module": "@jupyter-widgets/base",
            "_model_module_version": "1.2.0",
            "_model_name": "LayoutModel",
            "_view_count": null,
            "_view_module": "@jupyter-widgets/base",
            "_view_module_version": "1.2.0",
            "_view_name": "LayoutView",
            "align_content": null,
            "align_items": null,
            "align_self": null,
            "border": null,
            "bottom": null,
            "display": null,
            "flex": null,
            "flex_flow": null,
            "grid_area": null,
            "grid_auto_columns": null,
            "grid_auto_flow": null,
            "grid_auto_rows": null,
            "grid_column": null,
            "grid_gap": null,
            "grid_row": null,
            "grid_template_areas": null,
            "grid_template_columns": null,
            "grid_template_rows": null,
            "height": null,
            "justify_content": null,
            "justify_items": null,
            "left": null,
            "margin": null,
            "max_height": null,
            "max_width": null,
            "min_height": null,
            "min_width": null,
            "object_fit": null,
            "object_position": null,
            "order": null,
            "overflow": null,
            "overflow_x": null,
            "overflow_y": null,
            "padding": null,
            "right": null,
            "top": null,
            "visibility": null,
            "width": null
          }
        },
        "13856000d7a348ebbf0b71f3869e0d10": {
          "model_module": "@jupyter-widgets/controls",
          "model_name": "ProgressStyleModel",
          "model_module_version": "1.5.0",
          "state": {
            "_model_module": "@jupyter-widgets/controls",
            "_model_module_version": "1.5.0",
            "_model_name": "ProgressStyleModel",
            "_view_count": null,
            "_view_module": "@jupyter-widgets/base",
            "_view_module_version": "1.2.0",
            "_view_name": "StyleView",
            "bar_color": null,
            "description_width": ""
          }
        },
        "098c3a06ee48428eb805e391b3da8c7e": {
          "model_module": "@jupyter-widgets/base",
          "model_name": "LayoutModel",
          "model_module_version": "1.2.0",
          "state": {
            "_model_module": "@jupyter-widgets/base",
            "_model_module_version": "1.2.0",
            "_model_name": "LayoutModel",
            "_view_count": null,
            "_view_module": "@jupyter-widgets/base",
            "_view_module_version": "1.2.0",
            "_view_name": "LayoutView",
            "align_content": null,
            "align_items": null,
            "align_self": null,
            "border": null,
            "bottom": null,
            "display": null,
            "flex": null,
            "flex_flow": null,
            "grid_area": null,
            "grid_auto_columns": null,
            "grid_auto_flow": null,
            "grid_auto_rows": null,
            "grid_column": null,
            "grid_gap": null,
            "grid_row": null,
            "grid_template_areas": null,
            "grid_template_columns": null,
            "grid_template_rows": null,
            "height": null,
            "justify_content": null,
            "justify_items": null,
            "left": null,
            "margin": null,
            "max_height": null,
            "max_width": null,
            "min_height": null,
            "min_width": null,
            "object_fit": null,
            "object_position": null,
            "order": null,
            "overflow": null,
            "overflow_x": null,
            "overflow_y": null,
            "padding": null,
            "right": null,
            "top": null,
            "visibility": null,
            "width": null
          }
        },
        "91b2e64cea544e2db1c236984b3025e7": {
          "model_module": "@jupyter-widgets/controls",
          "model_name": "DescriptionStyleModel",
          "model_module_version": "1.5.0",
          "state": {
            "_model_module": "@jupyter-widgets/controls",
            "_model_module_version": "1.5.0",
            "_model_name": "DescriptionStyleModel",
            "_view_count": null,
            "_view_module": "@jupyter-widgets/base",
            "_view_module_version": "1.2.0",
            "_view_name": "StyleView",
            "description_width": ""
          }
        },
        "e9eba3e2139e40e8ac1b7c91c243313f": {
          "model_module": "@jupyter-widgets/controls",
          "model_name": "HBoxModel",
          "model_module_version": "1.5.0",
          "state": {
            "_dom_classes": [],
            "_model_module": "@jupyter-widgets/controls",
            "_model_module_version": "1.5.0",
            "_model_name": "HBoxModel",
            "_view_count": null,
            "_view_module": "@jupyter-widgets/controls",
            "_view_module_version": "1.5.0",
            "_view_name": "HBoxView",
            "box_style": "",
            "children": [
              "IPY_MODEL_cdc396934c8e4334aad06b53ffa773d0",
              "IPY_MODEL_0ac5c14fbf9841f9a3ee70d9e4dcd65e",
              "IPY_MODEL_e39895a7a09b4bb795ab3b8583349564"
            ],
            "layout": "IPY_MODEL_18ab4e8b3f54412ca27e8d81303293c2"
          }
        },
        "cdc396934c8e4334aad06b53ffa773d0": {
          "model_module": "@jupyter-widgets/controls",
          "model_name": "HTMLModel",
          "model_module_version": "1.5.0",
          "state": {
            "_dom_classes": [],
            "_model_module": "@jupyter-widgets/controls",
            "_model_module_version": "1.5.0",
            "_model_name": "HTMLModel",
            "_view_count": null,
            "_view_module": "@jupyter-widgets/controls",
            "_view_module_version": "1.5.0",
            "_view_name": "HTMLView",
            "description": "",
            "description_tooltip": null,
            "layout": "IPY_MODEL_3a9a35f8220e488b95ec9f7e0d0fc295",
            "placeholder": "​",
            "style": "IPY_MODEL_85fddf9c0bc2428d979812598a67dbf1",
            "value": "Downloading shards: 100%"
          }
        },
        "0ac5c14fbf9841f9a3ee70d9e4dcd65e": {
          "model_module": "@jupyter-widgets/controls",
          "model_name": "FloatProgressModel",
          "model_module_version": "1.5.0",
          "state": {
            "_dom_classes": [],
            "_model_module": "@jupyter-widgets/controls",
            "_model_module_version": "1.5.0",
            "_model_name": "FloatProgressModel",
            "_view_count": null,
            "_view_module": "@jupyter-widgets/controls",
            "_view_module_version": "1.5.0",
            "_view_name": "ProgressView",
            "bar_style": "success",
            "description": "",
            "description_tooltip": null,
            "layout": "IPY_MODEL_1fb5433cf0354096be204bab216e3cc6",
            "max": 2,
            "min": 0,
            "orientation": "horizontal",
            "style": "IPY_MODEL_0cd4f540105c4b9b868f71704aae44df",
            "value": 2
          }
        },
        "e39895a7a09b4bb795ab3b8583349564": {
          "model_module": "@jupyter-widgets/controls",
          "model_name": "HTMLModel",
          "model_module_version": "1.5.0",
          "state": {
            "_dom_classes": [],
            "_model_module": "@jupyter-widgets/controls",
            "_model_module_version": "1.5.0",
            "_model_name": "HTMLModel",
            "_view_count": null,
            "_view_module": "@jupyter-widgets/controls",
            "_view_module_version": "1.5.0",
            "_view_name": "HTMLView",
            "description": "",
            "description_tooltip": null,
            "layout": "IPY_MODEL_fcde3dc551e64722b82d14b2b2fb84ac",
            "placeholder": "​",
            "style": "IPY_MODEL_16d7c9abaf6743ff831a887d53ca09b5",
            "value": " 2/2 [00:54&lt;00:00, 25.53s/it]"
          }
        },
        "18ab4e8b3f54412ca27e8d81303293c2": {
          "model_module": "@jupyter-widgets/base",
          "model_name": "LayoutModel",
          "model_module_version": "1.2.0",
          "state": {
            "_model_module": "@jupyter-widgets/base",
            "_model_module_version": "1.2.0",
            "_model_name": "LayoutModel",
            "_view_count": null,
            "_view_module": "@jupyter-widgets/base",
            "_view_module_version": "1.2.0",
            "_view_name": "LayoutView",
            "align_content": null,
            "align_items": null,
            "align_self": null,
            "border": null,
            "bottom": null,
            "display": null,
            "flex": null,
            "flex_flow": null,
            "grid_area": null,
            "grid_auto_columns": null,
            "grid_auto_flow": null,
            "grid_auto_rows": null,
            "grid_column": null,
            "grid_gap": null,
            "grid_row": null,
            "grid_template_areas": null,
            "grid_template_columns": null,
            "grid_template_rows": null,
            "height": null,
            "justify_content": null,
            "justify_items": null,
            "left": null,
            "margin": null,
            "max_height": null,
            "max_width": null,
            "min_height": null,
            "min_width": null,
            "object_fit": null,
            "object_position": null,
            "order": null,
            "overflow": null,
            "overflow_x": null,
            "overflow_y": null,
            "padding": null,
            "right": null,
            "top": null,
            "visibility": null,
            "width": null
          }
        },
        "3a9a35f8220e488b95ec9f7e0d0fc295": {
          "model_module": "@jupyter-widgets/base",
          "model_name": "LayoutModel",
          "model_module_version": "1.2.0",
          "state": {
            "_model_module": "@jupyter-widgets/base",
            "_model_module_version": "1.2.0",
            "_model_name": "LayoutModel",
            "_view_count": null,
            "_view_module": "@jupyter-widgets/base",
            "_view_module_version": "1.2.0",
            "_view_name": "LayoutView",
            "align_content": null,
            "align_items": null,
            "align_self": null,
            "border": null,
            "bottom": null,
            "display": null,
            "flex": null,
            "flex_flow": null,
            "grid_area": null,
            "grid_auto_columns": null,
            "grid_auto_flow": null,
            "grid_auto_rows": null,
            "grid_column": null,
            "grid_gap": null,
            "grid_row": null,
            "grid_template_areas": null,
            "grid_template_columns": null,
            "grid_template_rows": null,
            "height": null,
            "justify_content": null,
            "justify_items": null,
            "left": null,
            "margin": null,
            "max_height": null,
            "max_width": null,
            "min_height": null,
            "min_width": null,
            "object_fit": null,
            "object_position": null,
            "order": null,
            "overflow": null,
            "overflow_x": null,
            "overflow_y": null,
            "padding": null,
            "right": null,
            "top": null,
            "visibility": null,
            "width": null
          }
        },
        "85fddf9c0bc2428d979812598a67dbf1": {
          "model_module": "@jupyter-widgets/controls",
          "model_name": "DescriptionStyleModel",
          "model_module_version": "1.5.0",
          "state": {
            "_model_module": "@jupyter-widgets/controls",
            "_model_module_version": "1.5.0",
            "_model_name": "DescriptionStyleModel",
            "_view_count": null,
            "_view_module": "@jupyter-widgets/base",
            "_view_module_version": "1.2.0",
            "_view_name": "StyleView",
            "description_width": ""
          }
        },
        "1fb5433cf0354096be204bab216e3cc6": {
          "model_module": "@jupyter-widgets/base",
          "model_name": "LayoutModel",
          "model_module_version": "1.2.0",
          "state": {
            "_model_module": "@jupyter-widgets/base",
            "_model_module_version": "1.2.0",
            "_model_name": "LayoutModel",
            "_view_count": null,
            "_view_module": "@jupyter-widgets/base",
            "_view_module_version": "1.2.0",
            "_view_name": "LayoutView",
            "align_content": null,
            "align_items": null,
            "align_self": null,
            "border": null,
            "bottom": null,
            "display": null,
            "flex": null,
            "flex_flow": null,
            "grid_area": null,
            "grid_auto_columns": null,
            "grid_auto_flow": null,
            "grid_auto_rows": null,
            "grid_column": null,
            "grid_gap": null,
            "grid_row": null,
            "grid_template_areas": null,
            "grid_template_columns": null,
            "grid_template_rows": null,
            "height": null,
            "justify_content": null,
            "justify_items": null,
            "left": null,
            "margin": null,
            "max_height": null,
            "max_width": null,
            "min_height": null,
            "min_width": null,
            "object_fit": null,
            "object_position": null,
            "order": null,
            "overflow": null,
            "overflow_x": null,
            "overflow_y": null,
            "padding": null,
            "right": null,
            "top": null,
            "visibility": null,
            "width": null
          }
        },
        "0cd4f540105c4b9b868f71704aae44df": {
          "model_module": "@jupyter-widgets/controls",
          "model_name": "ProgressStyleModel",
          "model_module_version": "1.5.0",
          "state": {
            "_model_module": "@jupyter-widgets/controls",
            "_model_module_version": "1.5.0",
            "_model_name": "ProgressStyleModel",
            "_view_count": null,
            "_view_module": "@jupyter-widgets/base",
            "_view_module_version": "1.2.0",
            "_view_name": "StyleView",
            "bar_color": null,
            "description_width": ""
          }
        },
        "fcde3dc551e64722b82d14b2b2fb84ac": {
          "model_module": "@jupyter-widgets/base",
          "model_name": "LayoutModel",
          "model_module_version": "1.2.0",
          "state": {
            "_model_module": "@jupyter-widgets/base",
            "_model_module_version": "1.2.0",
            "_model_name": "LayoutModel",
            "_view_count": null,
            "_view_module": "@jupyter-widgets/base",
            "_view_module_version": "1.2.0",
            "_view_name": "LayoutView",
            "align_content": null,
            "align_items": null,
            "align_self": null,
            "border": null,
            "bottom": null,
            "display": null,
            "flex": null,
            "flex_flow": null,
            "grid_area": null,
            "grid_auto_columns": null,
            "grid_auto_flow": null,
            "grid_auto_rows": null,
            "grid_column": null,
            "grid_gap": null,
            "grid_row": null,
            "grid_template_areas": null,
            "grid_template_columns": null,
            "grid_template_rows": null,
            "height": null,
            "justify_content": null,
            "justify_items": null,
            "left": null,
            "margin": null,
            "max_height": null,
            "max_width": null,
            "min_height": null,
            "min_width": null,
            "object_fit": null,
            "object_position": null,
            "order": null,
            "overflow": null,
            "overflow_x": null,
            "overflow_y": null,
            "padding": null,
            "right": null,
            "top": null,
            "visibility": null,
            "width": null
          }
        },
        "16d7c9abaf6743ff831a887d53ca09b5": {
          "model_module": "@jupyter-widgets/controls",
          "model_name": "DescriptionStyleModel",
          "model_module_version": "1.5.0",
          "state": {
            "_model_module": "@jupyter-widgets/controls",
            "_model_module_version": "1.5.0",
            "_model_name": "DescriptionStyleModel",
            "_view_count": null,
            "_view_module": "@jupyter-widgets/base",
            "_view_module_version": "1.2.0",
            "_view_name": "StyleView",
            "description_width": ""
          }
        },
        "970fb2693ede48b5a31ac7f13664208e": {
          "model_module": "@jupyter-widgets/controls",
          "model_name": "HBoxModel",
          "model_module_version": "1.5.0",
          "state": {
            "_dom_classes": [],
            "_model_module": "@jupyter-widgets/controls",
            "_model_module_version": "1.5.0",
            "_model_name": "HBoxModel",
            "_view_count": null,
            "_view_module": "@jupyter-widgets/controls",
            "_view_module_version": "1.5.0",
            "_view_name": "HBoxView",
            "box_style": "",
            "children": [
              "IPY_MODEL_8c7b4ea2fcec4ce59d41a74eaa6e2d53",
              "IPY_MODEL_40f72e8ce86c45b789abe732a18898a0",
              "IPY_MODEL_f033310fdb59443cbad28dc1b3c60d2f"
            ],
            "layout": "IPY_MODEL_4c4925dcb0ce4719873ddb94831f3092"
          }
        },
        "8c7b4ea2fcec4ce59d41a74eaa6e2d53": {
          "model_module": "@jupyter-widgets/controls",
          "model_name": "HTMLModel",
          "model_module_version": "1.5.0",
          "state": {
            "_dom_classes": [],
            "_model_module": "@jupyter-widgets/controls",
            "_model_module_version": "1.5.0",
            "_model_name": "HTMLModel",
            "_view_count": null,
            "_view_module": "@jupyter-widgets/controls",
            "_view_module_version": "1.5.0",
            "_view_name": "HTMLView",
            "description": "",
            "description_tooltip": null,
            "layout": "IPY_MODEL_810662876278400c8a4670db79477030",
            "placeholder": "​",
            "style": "IPY_MODEL_75c972a8899e4839ae7f6580d6852cbc",
            "value": "model-00001-of-00002.safetensors: 100%"
          }
        },
        "40f72e8ce86c45b789abe732a18898a0": {
          "model_module": "@jupyter-widgets/controls",
          "model_name": "FloatProgressModel",
          "model_module_version": "1.5.0",
          "state": {
            "_dom_classes": [],
            "_model_module": "@jupyter-widgets/controls",
            "_model_module_version": "1.5.0",
            "_model_name": "FloatProgressModel",
            "_view_count": null,
            "_view_module": "@jupyter-widgets/controls",
            "_view_module_version": "1.5.0",
            "_view_name": "ProgressView",
            "bar_style": "success",
            "description": "",
            "description_tooltip": null,
            "layout": "IPY_MODEL_c51a7523f8d540bca603838980fbe73f",
            "max": 9942981696,
            "min": 0,
            "orientation": "horizontal",
            "style": "IPY_MODEL_caf9fdda96514a7b9ae94008dcadb582",
            "value": 9942981696
          }
        },
        "f033310fdb59443cbad28dc1b3c60d2f": {
          "model_module": "@jupyter-widgets/controls",
          "model_name": "HTMLModel",
          "model_module_version": "1.5.0",
          "state": {
            "_dom_classes": [],
            "_model_module": "@jupyter-widgets/controls",
            "_model_module_version": "1.5.0",
            "_model_name": "HTMLModel",
            "_view_count": null,
            "_view_module": "@jupyter-widgets/controls",
            "_view_module_version": "1.5.0",
            "_view_name": "HTMLView",
            "description": "",
            "description_tooltip": null,
            "layout": "IPY_MODEL_4f02f764573744108a692fcb7a670d17",
            "placeholder": "​",
            "style": "IPY_MODEL_31d90bb4b2f64b10afd865290f6d9835",
            "value": " 9.94G/9.94G [00:36&lt;00:00, 270MB/s]"
          }
        },
        "4c4925dcb0ce4719873ddb94831f3092": {
          "model_module": "@jupyter-widgets/base",
          "model_name": "LayoutModel",
          "model_module_version": "1.2.0",
          "state": {
            "_model_module": "@jupyter-widgets/base",
            "_model_module_version": "1.2.0",
            "_model_name": "LayoutModel",
            "_view_count": null,
            "_view_module": "@jupyter-widgets/base",
            "_view_module_version": "1.2.0",
            "_view_name": "LayoutView",
            "align_content": null,
            "align_items": null,
            "align_self": null,
            "border": null,
            "bottom": null,
            "display": null,
            "flex": null,
            "flex_flow": null,
            "grid_area": null,
            "grid_auto_columns": null,
            "grid_auto_flow": null,
            "grid_auto_rows": null,
            "grid_column": null,
            "grid_gap": null,
            "grid_row": null,
            "grid_template_areas": null,
            "grid_template_columns": null,
            "grid_template_rows": null,
            "height": null,
            "justify_content": null,
            "justify_items": null,
            "left": null,
            "margin": null,
            "max_height": null,
            "max_width": null,
            "min_height": null,
            "min_width": null,
            "object_fit": null,
            "object_position": null,
            "order": null,
            "overflow": null,
            "overflow_x": null,
            "overflow_y": null,
            "padding": null,
            "right": null,
            "top": null,
            "visibility": null,
            "width": null
          }
        },
        "810662876278400c8a4670db79477030": {
          "model_module": "@jupyter-widgets/base",
          "model_name": "LayoutModel",
          "model_module_version": "1.2.0",
          "state": {
            "_model_module": "@jupyter-widgets/base",
            "_model_module_version": "1.2.0",
            "_model_name": "LayoutModel",
            "_view_count": null,
            "_view_module": "@jupyter-widgets/base",
            "_view_module_version": "1.2.0",
            "_view_name": "LayoutView",
            "align_content": null,
            "align_items": null,
            "align_self": null,
            "border": null,
            "bottom": null,
            "display": null,
            "flex": null,
            "flex_flow": null,
            "grid_area": null,
            "grid_auto_columns": null,
            "grid_auto_flow": null,
            "grid_auto_rows": null,
            "grid_column": null,
            "grid_gap": null,
            "grid_row": null,
            "grid_template_areas": null,
            "grid_template_columns": null,
            "grid_template_rows": null,
            "height": null,
            "justify_content": null,
            "justify_items": null,
            "left": null,
            "margin": null,
            "max_height": null,
            "max_width": null,
            "min_height": null,
            "min_width": null,
            "object_fit": null,
            "object_position": null,
            "order": null,
            "overflow": null,
            "overflow_x": null,
            "overflow_y": null,
            "padding": null,
            "right": null,
            "top": null,
            "visibility": null,
            "width": null
          }
        },
        "75c972a8899e4839ae7f6580d6852cbc": {
          "model_module": "@jupyter-widgets/controls",
          "model_name": "DescriptionStyleModel",
          "model_module_version": "1.5.0",
          "state": {
            "_model_module": "@jupyter-widgets/controls",
            "_model_module_version": "1.5.0",
            "_model_name": "DescriptionStyleModel",
            "_view_count": null,
            "_view_module": "@jupyter-widgets/base",
            "_view_module_version": "1.2.0",
            "_view_name": "StyleView",
            "description_width": ""
          }
        },
        "c51a7523f8d540bca603838980fbe73f": {
          "model_module": "@jupyter-widgets/base",
          "model_name": "LayoutModel",
          "model_module_version": "1.2.0",
          "state": {
            "_model_module": "@jupyter-widgets/base",
            "_model_module_version": "1.2.0",
            "_model_name": "LayoutModel",
            "_view_count": null,
            "_view_module": "@jupyter-widgets/base",
            "_view_module_version": "1.2.0",
            "_view_name": "LayoutView",
            "align_content": null,
            "align_items": null,
            "align_self": null,
            "border": null,
            "bottom": null,
            "display": null,
            "flex": null,
            "flex_flow": null,
            "grid_area": null,
            "grid_auto_columns": null,
            "grid_auto_flow": null,
            "grid_auto_rows": null,
            "grid_column": null,
            "grid_gap": null,
            "grid_row": null,
            "grid_template_areas": null,
            "grid_template_columns": null,
            "grid_template_rows": null,
            "height": null,
            "justify_content": null,
            "justify_items": null,
            "left": null,
            "margin": null,
            "max_height": null,
            "max_width": null,
            "min_height": null,
            "min_width": null,
            "object_fit": null,
            "object_position": null,
            "order": null,
            "overflow": null,
            "overflow_x": null,
            "overflow_y": null,
            "padding": null,
            "right": null,
            "top": null,
            "visibility": null,
            "width": null
          }
        },
        "caf9fdda96514a7b9ae94008dcadb582": {
          "model_module": "@jupyter-widgets/controls",
          "model_name": "ProgressStyleModel",
          "model_module_version": "1.5.0",
          "state": {
            "_model_module": "@jupyter-widgets/controls",
            "_model_module_version": "1.5.0",
            "_model_name": "ProgressStyleModel",
            "_view_count": null,
            "_view_module": "@jupyter-widgets/base",
            "_view_module_version": "1.2.0",
            "_view_name": "StyleView",
            "bar_color": null,
            "description_width": ""
          }
        },
        "4f02f764573744108a692fcb7a670d17": {
          "model_module": "@jupyter-widgets/base",
          "model_name": "LayoutModel",
          "model_module_version": "1.2.0",
          "state": {
            "_model_module": "@jupyter-widgets/base",
            "_model_module_version": "1.2.0",
            "_model_name": "LayoutModel",
            "_view_count": null,
            "_view_module": "@jupyter-widgets/base",
            "_view_module_version": "1.2.0",
            "_view_name": "LayoutView",
            "align_content": null,
            "align_items": null,
            "align_self": null,
            "border": null,
            "bottom": null,
            "display": null,
            "flex": null,
            "flex_flow": null,
            "grid_area": null,
            "grid_auto_columns": null,
            "grid_auto_flow": null,
            "grid_auto_rows": null,
            "grid_column": null,
            "grid_gap": null,
            "grid_row": null,
            "grid_template_areas": null,
            "grid_template_columns": null,
            "grid_template_rows": null,
            "height": null,
            "justify_content": null,
            "justify_items": null,
            "left": null,
            "margin": null,
            "max_height": null,
            "max_width": null,
            "min_height": null,
            "min_width": null,
            "object_fit": null,
            "object_position": null,
            "order": null,
            "overflow": null,
            "overflow_x": null,
            "overflow_y": null,
            "padding": null,
            "right": null,
            "top": null,
            "visibility": null,
            "width": null
          }
        },
        "31d90bb4b2f64b10afd865290f6d9835": {
          "model_module": "@jupyter-widgets/controls",
          "model_name": "DescriptionStyleModel",
          "model_module_version": "1.5.0",
          "state": {
            "_model_module": "@jupyter-widgets/controls",
            "_model_module_version": "1.5.0",
            "_model_name": "DescriptionStyleModel",
            "_view_count": null,
            "_view_module": "@jupyter-widgets/base",
            "_view_module_version": "1.2.0",
            "_view_name": "StyleView",
            "description_width": ""
          }
        },
        "569af3786ab147038b39d6cfaca28102": {
          "model_module": "@jupyter-widgets/controls",
          "model_name": "HBoxModel",
          "model_module_version": "1.5.0",
          "state": {
            "_dom_classes": [],
            "_model_module": "@jupyter-widgets/controls",
            "_model_module_version": "1.5.0",
            "_model_name": "HBoxModel",
            "_view_count": null,
            "_view_module": "@jupyter-widgets/controls",
            "_view_module_version": "1.5.0",
            "_view_name": "HBoxView",
            "box_style": "",
            "children": [
              "IPY_MODEL_4222d624b37848dd93ddfcde80e1547b",
              "IPY_MODEL_24d0723aaae44183be8e908d4d28c367",
              "IPY_MODEL_ee95c54965aa41a38be262f806386962"
            ],
            "layout": "IPY_MODEL_8128ba87dfe642378b9c19276267560a"
          }
        },
        "4222d624b37848dd93ddfcde80e1547b": {
          "model_module": "@jupyter-widgets/controls",
          "model_name": "HTMLModel",
          "model_module_version": "1.5.0",
          "state": {
            "_dom_classes": [],
            "_model_module": "@jupyter-widgets/controls",
            "_model_module_version": "1.5.0",
            "_model_name": "HTMLModel",
            "_view_count": null,
            "_view_module": "@jupyter-widgets/controls",
            "_view_module_version": "1.5.0",
            "_view_name": "HTMLView",
            "description": "",
            "description_tooltip": null,
            "layout": "IPY_MODEL_bc20e7b645bf49649d78fb8c86c82650",
            "placeholder": "​",
            "style": "IPY_MODEL_5e36942c18ad4c54983d71c6045d73f6",
            "value": "model-00002-of-00002.safetensors: 100%"
          }
        },
        "24d0723aaae44183be8e908d4d28c367": {
          "model_module": "@jupyter-widgets/controls",
          "model_name": "FloatProgressModel",
          "model_module_version": "1.5.0",
          "state": {
            "_dom_classes": [],
            "_model_module": "@jupyter-widgets/controls",
            "_model_module_version": "1.5.0",
            "_model_name": "FloatProgressModel",
            "_view_count": null,
            "_view_module": "@jupyter-widgets/controls",
            "_view_module_version": "1.5.0",
            "_view_name": "ProgressView",
            "bar_style": "success",
            "description": "",
            "description_tooltip": null,
            "layout": "IPY_MODEL_22f0750bae1b4064b4f0e9a8f8b84181",
            "max": 4540516344,
            "min": 0,
            "orientation": "horizontal",
            "style": "IPY_MODEL_757281ef5c9a460e8ee8e605fca6dbd5",
            "value": 4540516344
          }
        },
        "ee95c54965aa41a38be262f806386962": {
          "model_module": "@jupyter-widgets/controls",
          "model_name": "HTMLModel",
          "model_module_version": "1.5.0",
          "state": {
            "_dom_classes": [],
            "_model_module": "@jupyter-widgets/controls",
            "_model_module_version": "1.5.0",
            "_model_name": "HTMLModel",
            "_view_count": null,
            "_view_module": "@jupyter-widgets/controls",
            "_view_module_version": "1.5.0",
            "_view_name": "HTMLView",
            "description": "",
            "description_tooltip": null,
            "layout": "IPY_MODEL_ff3e4450f49d470c89a24a6741f63199",
            "placeholder": "​",
            "style": "IPY_MODEL_2734c52051374ab7b9e61810b0c7e926",
            "value": " 4.54G/4.54G [00:17&lt;00:00, 291MB/s]"
          }
        },
        "8128ba87dfe642378b9c19276267560a": {
          "model_module": "@jupyter-widgets/base",
          "model_name": "LayoutModel",
          "model_module_version": "1.2.0",
          "state": {
            "_model_module": "@jupyter-widgets/base",
            "_model_module_version": "1.2.0",
            "_model_name": "LayoutModel",
            "_view_count": null,
            "_view_module": "@jupyter-widgets/base",
            "_view_module_version": "1.2.0",
            "_view_name": "LayoutView",
            "align_content": null,
            "align_items": null,
            "align_self": null,
            "border": null,
            "bottom": null,
            "display": null,
            "flex": null,
            "flex_flow": null,
            "grid_area": null,
            "grid_auto_columns": null,
            "grid_auto_flow": null,
            "grid_auto_rows": null,
            "grid_column": null,
            "grid_gap": null,
            "grid_row": null,
            "grid_template_areas": null,
            "grid_template_columns": null,
            "grid_template_rows": null,
            "height": null,
            "justify_content": null,
            "justify_items": null,
            "left": null,
            "margin": null,
            "max_height": null,
            "max_width": null,
            "min_height": null,
            "min_width": null,
            "object_fit": null,
            "object_position": null,
            "order": null,
            "overflow": null,
            "overflow_x": null,
            "overflow_y": null,
            "padding": null,
            "right": null,
            "top": null,
            "visibility": null,
            "width": null
          }
        },
        "bc20e7b645bf49649d78fb8c86c82650": {
          "model_module": "@jupyter-widgets/base",
          "model_name": "LayoutModel",
          "model_module_version": "1.2.0",
          "state": {
            "_model_module": "@jupyter-widgets/base",
            "_model_module_version": "1.2.0",
            "_model_name": "LayoutModel",
            "_view_count": null,
            "_view_module": "@jupyter-widgets/base",
            "_view_module_version": "1.2.0",
            "_view_name": "LayoutView",
            "align_content": null,
            "align_items": null,
            "align_self": null,
            "border": null,
            "bottom": null,
            "display": null,
            "flex": null,
            "flex_flow": null,
            "grid_area": null,
            "grid_auto_columns": null,
            "grid_auto_flow": null,
            "grid_auto_rows": null,
            "grid_column": null,
            "grid_gap": null,
            "grid_row": null,
            "grid_template_areas": null,
            "grid_template_columns": null,
            "grid_template_rows": null,
            "height": null,
            "justify_content": null,
            "justify_items": null,
            "left": null,
            "margin": null,
            "max_height": null,
            "max_width": null,
            "min_height": null,
            "min_width": null,
            "object_fit": null,
            "object_position": null,
            "order": null,
            "overflow": null,
            "overflow_x": null,
            "overflow_y": null,
            "padding": null,
            "right": null,
            "top": null,
            "visibility": null,
            "width": null
          }
        },
        "5e36942c18ad4c54983d71c6045d73f6": {
          "model_module": "@jupyter-widgets/controls",
          "model_name": "DescriptionStyleModel",
          "model_module_version": "1.5.0",
          "state": {
            "_model_module": "@jupyter-widgets/controls",
            "_model_module_version": "1.5.0",
            "_model_name": "DescriptionStyleModel",
            "_view_count": null,
            "_view_module": "@jupyter-widgets/base",
            "_view_module_version": "1.2.0",
            "_view_name": "StyleView",
            "description_width": ""
          }
        },
        "22f0750bae1b4064b4f0e9a8f8b84181": {
          "model_module": "@jupyter-widgets/base",
          "model_name": "LayoutModel",
          "model_module_version": "1.2.0",
          "state": {
            "_model_module": "@jupyter-widgets/base",
            "_model_module_version": "1.2.0",
            "_model_name": "LayoutModel",
            "_view_count": null,
            "_view_module": "@jupyter-widgets/base",
            "_view_module_version": "1.2.0",
            "_view_name": "LayoutView",
            "align_content": null,
            "align_items": null,
            "align_self": null,
            "border": null,
            "bottom": null,
            "display": null,
            "flex": null,
            "flex_flow": null,
            "grid_area": null,
            "grid_auto_columns": null,
            "grid_auto_flow": null,
            "grid_auto_rows": null,
            "grid_column": null,
            "grid_gap": null,
            "grid_row": null,
            "grid_template_areas": null,
            "grid_template_columns": null,
            "grid_template_rows": null,
            "height": null,
            "justify_content": null,
            "justify_items": null,
            "left": null,
            "margin": null,
            "max_height": null,
            "max_width": null,
            "min_height": null,
            "min_width": null,
            "object_fit": null,
            "object_position": null,
            "order": null,
            "overflow": null,
            "overflow_x": null,
            "overflow_y": null,
            "padding": null,
            "right": null,
            "top": null,
            "visibility": null,
            "width": null
          }
        },
        "757281ef5c9a460e8ee8e605fca6dbd5": {
          "model_module": "@jupyter-widgets/controls",
          "model_name": "ProgressStyleModel",
          "model_module_version": "1.5.0",
          "state": {
            "_model_module": "@jupyter-widgets/controls",
            "_model_module_version": "1.5.0",
            "_model_name": "ProgressStyleModel",
            "_view_count": null,
            "_view_module": "@jupyter-widgets/base",
            "_view_module_version": "1.2.0",
            "_view_name": "StyleView",
            "bar_color": null,
            "description_width": ""
          }
        },
        "ff3e4450f49d470c89a24a6741f63199": {
          "model_module": "@jupyter-widgets/base",
          "model_name": "LayoutModel",
          "model_module_version": "1.2.0",
          "state": {
            "_model_module": "@jupyter-widgets/base",
            "_model_module_version": "1.2.0",
            "_model_name": "LayoutModel",
            "_view_count": null,
            "_view_module": "@jupyter-widgets/base",
            "_view_module_version": "1.2.0",
            "_view_name": "LayoutView",
            "align_content": null,
            "align_items": null,
            "align_self": null,
            "border": null,
            "bottom": null,
            "display": null,
            "flex": null,
            "flex_flow": null,
            "grid_area": null,
            "grid_auto_columns": null,
            "grid_auto_flow": null,
            "grid_auto_rows": null,
            "grid_column": null,
            "grid_gap": null,
            "grid_row": null,
            "grid_template_areas": null,
            "grid_template_columns": null,
            "grid_template_rows": null,
            "height": null,
            "justify_content": null,
            "justify_items": null,
            "left": null,
            "margin": null,
            "max_height": null,
            "max_width": null,
            "min_height": null,
            "min_width": null,
            "object_fit": null,
            "object_position": null,
            "order": null,
            "overflow": null,
            "overflow_x": null,
            "overflow_y": null,
            "padding": null,
            "right": null,
            "top": null,
            "visibility": null,
            "width": null
          }
        },
        "2734c52051374ab7b9e61810b0c7e926": {
          "model_module": "@jupyter-widgets/controls",
          "model_name": "DescriptionStyleModel",
          "model_module_version": "1.5.0",
          "state": {
            "_model_module": "@jupyter-widgets/controls",
            "_model_module_version": "1.5.0",
            "_model_name": "DescriptionStyleModel",
            "_view_count": null,
            "_view_module": "@jupyter-widgets/base",
            "_view_module_version": "1.2.0",
            "_view_name": "StyleView",
            "description_width": ""
          }
        },
        "924d063f831b4f469e2f84173f2aa94f": {
          "model_module": "@jupyter-widgets/controls",
          "model_name": "HBoxModel",
          "model_module_version": "1.5.0",
          "state": {
            "_dom_classes": [],
            "_model_module": "@jupyter-widgets/controls",
            "_model_module_version": "1.5.0",
            "_model_name": "HBoxModel",
            "_view_count": null,
            "_view_module": "@jupyter-widgets/controls",
            "_view_module_version": "1.5.0",
            "_view_name": "HBoxView",
            "box_style": "",
            "children": [
              "IPY_MODEL_5e2a4bfc953d48409b5907529eb2bda6",
              "IPY_MODEL_36bdb109470e4d548c80fa659893a708",
              "IPY_MODEL_beef0e3b7a144c7ca4efd7642dda47fe"
            ],
            "layout": "IPY_MODEL_6c468aaae5e84f2b82232c8006c8d663"
          }
        },
        "5e2a4bfc953d48409b5907529eb2bda6": {
          "model_module": "@jupyter-widgets/controls",
          "model_name": "HTMLModel",
          "model_module_version": "1.5.0",
          "state": {
            "_dom_classes": [],
            "_model_module": "@jupyter-widgets/controls",
            "_model_module_version": "1.5.0",
            "_model_name": "HTMLModel",
            "_view_count": null,
            "_view_module": "@jupyter-widgets/controls",
            "_view_module_version": "1.5.0",
            "_view_name": "HTMLView",
            "description": "",
            "description_tooltip": null,
            "layout": "IPY_MODEL_95383f9222374489bcde3fdd8122c975",
            "placeholder": "​",
            "style": "IPY_MODEL_b45848e8ed624dcc92016a3f0d9ddf53",
            "value": "Loading checkpoint shards: 100%"
          }
        },
        "36bdb109470e4d548c80fa659893a708": {
          "model_module": "@jupyter-widgets/controls",
          "model_name": "FloatProgressModel",
          "model_module_version": "1.5.0",
          "state": {
            "_dom_classes": [],
            "_model_module": "@jupyter-widgets/controls",
            "_model_module_version": "1.5.0",
            "_model_name": "FloatProgressModel",
            "_view_count": null,
            "_view_module": "@jupyter-widgets/controls",
            "_view_module_version": "1.5.0",
            "_view_name": "ProgressView",
            "bar_style": "success",
            "description": "",
            "description_tooltip": null,
            "layout": "IPY_MODEL_07413498dc2140bc8ddf45fb6aca79c5",
            "max": 2,
            "min": 0,
            "orientation": "horizontal",
            "style": "IPY_MODEL_38805a2d4b1b4c209228ce490092a04f",
            "value": 2
          }
        },
        "beef0e3b7a144c7ca4efd7642dda47fe": {
          "model_module": "@jupyter-widgets/controls",
          "model_name": "HTMLModel",
          "model_module_version": "1.5.0",
          "state": {
            "_dom_classes": [],
            "_model_module": "@jupyter-widgets/controls",
            "_model_module_version": "1.5.0",
            "_model_name": "HTMLModel",
            "_view_count": null,
            "_view_module": "@jupyter-widgets/controls",
            "_view_module_version": "1.5.0",
            "_view_name": "HTMLView",
            "description": "",
            "description_tooltip": null,
            "layout": "IPY_MODEL_f8b7197ecebf4930a3e452a7d816f879",
            "placeholder": "​",
            "style": "IPY_MODEL_59debb8b01b44546910bc3a9c609db7e",
            "value": " 2/2 [00:13&lt;00:00,  6.36s/it]"
          }
        },
        "6c468aaae5e84f2b82232c8006c8d663": {
          "model_module": "@jupyter-widgets/base",
          "model_name": "LayoutModel",
          "model_module_version": "1.2.0",
          "state": {
            "_model_module": "@jupyter-widgets/base",
            "_model_module_version": "1.2.0",
            "_model_name": "LayoutModel",
            "_view_count": null,
            "_view_module": "@jupyter-widgets/base",
            "_view_module_version": "1.2.0",
            "_view_name": "LayoutView",
            "align_content": null,
            "align_items": null,
            "align_self": null,
            "border": null,
            "bottom": null,
            "display": null,
            "flex": null,
            "flex_flow": null,
            "grid_area": null,
            "grid_auto_columns": null,
            "grid_auto_flow": null,
            "grid_auto_rows": null,
            "grid_column": null,
            "grid_gap": null,
            "grid_row": null,
            "grid_template_areas": null,
            "grid_template_columns": null,
            "grid_template_rows": null,
            "height": null,
            "justify_content": null,
            "justify_items": null,
            "left": null,
            "margin": null,
            "max_height": null,
            "max_width": null,
            "min_height": null,
            "min_width": null,
            "object_fit": null,
            "object_position": null,
            "order": null,
            "overflow": null,
            "overflow_x": null,
            "overflow_y": null,
            "padding": null,
            "right": null,
            "top": null,
            "visibility": null,
            "width": null
          }
        },
        "95383f9222374489bcde3fdd8122c975": {
          "model_module": "@jupyter-widgets/base",
          "model_name": "LayoutModel",
          "model_module_version": "1.2.0",
          "state": {
            "_model_module": "@jupyter-widgets/base",
            "_model_module_version": "1.2.0",
            "_model_name": "LayoutModel",
            "_view_count": null,
            "_view_module": "@jupyter-widgets/base",
            "_view_module_version": "1.2.0",
            "_view_name": "LayoutView",
            "align_content": null,
            "align_items": null,
            "align_self": null,
            "border": null,
            "bottom": null,
            "display": null,
            "flex": null,
            "flex_flow": null,
            "grid_area": null,
            "grid_auto_columns": null,
            "grid_auto_flow": null,
            "grid_auto_rows": null,
            "grid_column": null,
            "grid_gap": null,
            "grid_row": null,
            "grid_template_areas": null,
            "grid_template_columns": null,
            "grid_template_rows": null,
            "height": null,
            "justify_content": null,
            "justify_items": null,
            "left": null,
            "margin": null,
            "max_height": null,
            "max_width": null,
            "min_height": null,
            "min_width": null,
            "object_fit": null,
            "object_position": null,
            "order": null,
            "overflow": null,
            "overflow_x": null,
            "overflow_y": null,
            "padding": null,
            "right": null,
            "top": null,
            "visibility": null,
            "width": null
          }
        },
        "b45848e8ed624dcc92016a3f0d9ddf53": {
          "model_module": "@jupyter-widgets/controls",
          "model_name": "DescriptionStyleModel",
          "model_module_version": "1.5.0",
          "state": {
            "_model_module": "@jupyter-widgets/controls",
            "_model_module_version": "1.5.0",
            "_model_name": "DescriptionStyleModel",
            "_view_count": null,
            "_view_module": "@jupyter-widgets/base",
            "_view_module_version": "1.2.0",
            "_view_name": "StyleView",
            "description_width": ""
          }
        },
        "07413498dc2140bc8ddf45fb6aca79c5": {
          "model_module": "@jupyter-widgets/base",
          "model_name": "LayoutModel",
          "model_module_version": "1.2.0",
          "state": {
            "_model_module": "@jupyter-widgets/base",
            "_model_module_version": "1.2.0",
            "_model_name": "LayoutModel",
            "_view_count": null,
            "_view_module": "@jupyter-widgets/base",
            "_view_module_version": "1.2.0",
            "_view_name": "LayoutView",
            "align_content": null,
            "align_items": null,
            "align_self": null,
            "border": null,
            "bottom": null,
            "display": null,
            "flex": null,
            "flex_flow": null,
            "grid_area": null,
            "grid_auto_columns": null,
            "grid_auto_flow": null,
            "grid_auto_rows": null,
            "grid_column": null,
            "grid_gap": null,
            "grid_row": null,
            "grid_template_areas": null,
            "grid_template_columns": null,
            "grid_template_rows": null,
            "height": null,
            "justify_content": null,
            "justify_items": null,
            "left": null,
            "margin": null,
            "max_height": null,
            "max_width": null,
            "min_height": null,
            "min_width": null,
            "object_fit": null,
            "object_position": null,
            "order": null,
            "overflow": null,
            "overflow_x": null,
            "overflow_y": null,
            "padding": null,
            "right": null,
            "top": null,
            "visibility": null,
            "width": null
          }
        },
        "38805a2d4b1b4c209228ce490092a04f": {
          "model_module": "@jupyter-widgets/controls",
          "model_name": "ProgressStyleModel",
          "model_module_version": "1.5.0",
          "state": {
            "_model_module": "@jupyter-widgets/controls",
            "_model_module_version": "1.5.0",
            "_model_name": "ProgressStyleModel",
            "_view_count": null,
            "_view_module": "@jupyter-widgets/base",
            "_view_module_version": "1.2.0",
            "_view_name": "StyleView",
            "bar_color": null,
            "description_width": ""
          }
        },
        "f8b7197ecebf4930a3e452a7d816f879": {
          "model_module": "@jupyter-widgets/base",
          "model_name": "LayoutModel",
          "model_module_version": "1.2.0",
          "state": {
            "_model_module": "@jupyter-widgets/base",
            "_model_module_version": "1.2.0",
            "_model_name": "LayoutModel",
            "_view_count": null,
            "_view_module": "@jupyter-widgets/base",
            "_view_module_version": "1.2.0",
            "_view_name": "LayoutView",
            "align_content": null,
            "align_items": null,
            "align_self": null,
            "border": null,
            "bottom": null,
            "display": null,
            "flex": null,
            "flex_flow": null,
            "grid_area": null,
            "grid_auto_columns": null,
            "grid_auto_flow": null,
            "grid_auto_rows": null,
            "grid_column": null,
            "grid_gap": null,
            "grid_row": null,
            "grid_template_areas": null,
            "grid_template_columns": null,
            "grid_template_rows": null,
            "height": null,
            "justify_content": null,
            "justify_items": null,
            "left": null,
            "margin": null,
            "max_height": null,
            "max_width": null,
            "min_height": null,
            "min_width": null,
            "object_fit": null,
            "object_position": null,
            "order": null,
            "overflow": null,
            "overflow_x": null,
            "overflow_y": null,
            "padding": null,
            "right": null,
            "top": null,
            "visibility": null,
            "width": null
          }
        },
        "59debb8b01b44546910bc3a9c609db7e": {
          "model_module": "@jupyter-widgets/controls",
          "model_name": "DescriptionStyleModel",
          "model_module_version": "1.5.0",
          "state": {
            "_model_module": "@jupyter-widgets/controls",
            "_model_module_version": "1.5.0",
            "_model_name": "DescriptionStyleModel",
            "_view_count": null,
            "_view_module": "@jupyter-widgets/base",
            "_view_module_version": "1.2.0",
            "_view_name": "StyleView",
            "description_width": ""
          }
        },
        "97b23c4326a64b91b90642fe7b4af35c": {
          "model_module": "@jupyter-widgets/controls",
          "model_name": "HBoxModel",
          "model_module_version": "1.5.0",
          "state": {
            "_dom_classes": [],
            "_model_module": "@jupyter-widgets/controls",
            "_model_module_version": "1.5.0",
            "_model_name": "HBoxModel",
            "_view_count": null,
            "_view_module": "@jupyter-widgets/controls",
            "_view_module_version": "1.5.0",
            "_view_name": "HBoxView",
            "box_style": "",
            "children": [
              "IPY_MODEL_8b9a4129367c4df88bcabccb7e85db02",
              "IPY_MODEL_ebcc1610635542278cec1037d95ea045",
              "IPY_MODEL_41b292a72ac944b0ac08a4d9fcb3aa5f"
            ],
            "layout": "IPY_MODEL_b2e67772c8ca466a8df5601343e68e7e"
          }
        },
        "8b9a4129367c4df88bcabccb7e85db02": {
          "model_module": "@jupyter-widgets/controls",
          "model_name": "HTMLModel",
          "model_module_version": "1.5.0",
          "state": {
            "_dom_classes": [],
            "_model_module": "@jupyter-widgets/controls",
            "_model_module_version": "1.5.0",
            "_model_name": "HTMLModel",
            "_view_count": null,
            "_view_module": "@jupyter-widgets/controls",
            "_view_module_version": "1.5.0",
            "_view_name": "HTMLView",
            "description": "",
            "description_tooltip": null,
            "layout": "IPY_MODEL_0c643b76a1c24599a1aeade970cc5201",
            "placeholder": "​",
            "style": "IPY_MODEL_09f384566c1b474b999320c0e25bff34",
            "value": "generation_config.json: 100%"
          }
        },
        "ebcc1610635542278cec1037d95ea045": {
          "model_module": "@jupyter-widgets/controls",
          "model_name": "FloatProgressModel",
          "model_module_version": "1.5.0",
          "state": {
            "_dom_classes": [],
            "_model_module": "@jupyter-widgets/controls",
            "_model_module_version": "1.5.0",
            "_model_name": "FloatProgressModel",
            "_view_count": null,
            "_view_module": "@jupyter-widgets/controls",
            "_view_module_version": "1.5.0",
            "_view_name": "ProgressView",
            "bar_style": "success",
            "description": "",
            "description_tooltip": null,
            "layout": "IPY_MODEL_da3a3921b4a84efface74c9234e99610",
            "max": 116,
            "min": 0,
            "orientation": "horizontal",
            "style": "IPY_MODEL_8583ae3177bb4098875cf1e2024d576a",
            "value": 116
          }
        },
        "41b292a72ac944b0ac08a4d9fcb3aa5f": {
          "model_module": "@jupyter-widgets/controls",
          "model_name": "HTMLModel",
          "model_module_version": "1.5.0",
          "state": {
            "_dom_classes": [],
            "_model_module": "@jupyter-widgets/controls",
            "_model_module_version": "1.5.0",
            "_model_name": "HTMLModel",
            "_view_count": null,
            "_view_module": "@jupyter-widgets/controls",
            "_view_module_version": "1.5.0",
            "_view_name": "HTMLView",
            "description": "",
            "description_tooltip": null,
            "layout": "IPY_MODEL_f360012302f84c14a3cc266fb5919e7a",
            "placeholder": "​",
            "style": "IPY_MODEL_1e9ee73140e9424491c174434b166a5e",
            "value": " 116/116 [00:00&lt;00:00, 10.4kB/s]"
          }
        },
        "b2e67772c8ca466a8df5601343e68e7e": {
          "model_module": "@jupyter-widgets/base",
          "model_name": "LayoutModel",
          "model_module_version": "1.2.0",
          "state": {
            "_model_module": "@jupyter-widgets/base",
            "_model_module_version": "1.2.0",
            "_model_name": "LayoutModel",
            "_view_count": null,
            "_view_module": "@jupyter-widgets/base",
            "_view_module_version": "1.2.0",
            "_view_name": "LayoutView",
            "align_content": null,
            "align_items": null,
            "align_self": null,
            "border": null,
            "bottom": null,
            "display": null,
            "flex": null,
            "flex_flow": null,
            "grid_area": null,
            "grid_auto_columns": null,
            "grid_auto_flow": null,
            "grid_auto_rows": null,
            "grid_column": null,
            "grid_gap": null,
            "grid_row": null,
            "grid_template_areas": null,
            "grid_template_columns": null,
            "grid_template_rows": null,
            "height": null,
            "justify_content": null,
            "justify_items": null,
            "left": null,
            "margin": null,
            "max_height": null,
            "max_width": null,
            "min_height": null,
            "min_width": null,
            "object_fit": null,
            "object_position": null,
            "order": null,
            "overflow": null,
            "overflow_x": null,
            "overflow_y": null,
            "padding": null,
            "right": null,
            "top": null,
            "visibility": null,
            "width": null
          }
        },
        "0c643b76a1c24599a1aeade970cc5201": {
          "model_module": "@jupyter-widgets/base",
          "model_name": "LayoutModel",
          "model_module_version": "1.2.0",
          "state": {
            "_model_module": "@jupyter-widgets/base",
            "_model_module_version": "1.2.0",
            "_model_name": "LayoutModel",
            "_view_count": null,
            "_view_module": "@jupyter-widgets/base",
            "_view_module_version": "1.2.0",
            "_view_name": "LayoutView",
            "align_content": null,
            "align_items": null,
            "align_self": null,
            "border": null,
            "bottom": null,
            "display": null,
            "flex": null,
            "flex_flow": null,
            "grid_area": null,
            "grid_auto_columns": null,
            "grid_auto_flow": null,
            "grid_auto_rows": null,
            "grid_column": null,
            "grid_gap": null,
            "grid_row": null,
            "grid_template_areas": null,
            "grid_template_columns": null,
            "grid_template_rows": null,
            "height": null,
            "justify_content": null,
            "justify_items": null,
            "left": null,
            "margin": null,
            "max_height": null,
            "max_width": null,
            "min_height": null,
            "min_width": null,
            "object_fit": null,
            "object_position": null,
            "order": null,
            "overflow": null,
            "overflow_x": null,
            "overflow_y": null,
            "padding": null,
            "right": null,
            "top": null,
            "visibility": null,
            "width": null
          }
        },
        "09f384566c1b474b999320c0e25bff34": {
          "model_module": "@jupyter-widgets/controls",
          "model_name": "DescriptionStyleModel",
          "model_module_version": "1.5.0",
          "state": {
            "_model_module": "@jupyter-widgets/controls",
            "_model_module_version": "1.5.0",
            "_model_name": "DescriptionStyleModel",
            "_view_count": null,
            "_view_module": "@jupyter-widgets/base",
            "_view_module_version": "1.2.0",
            "_view_name": "StyleView",
            "description_width": ""
          }
        },
        "da3a3921b4a84efface74c9234e99610": {
          "model_module": "@jupyter-widgets/base",
          "model_name": "LayoutModel",
          "model_module_version": "1.2.0",
          "state": {
            "_model_module": "@jupyter-widgets/base",
            "_model_module_version": "1.2.0",
            "_model_name": "LayoutModel",
            "_view_count": null,
            "_view_module": "@jupyter-widgets/base",
            "_view_module_version": "1.2.0",
            "_view_name": "LayoutView",
            "align_content": null,
            "align_items": null,
            "align_self": null,
            "border": null,
            "bottom": null,
            "display": null,
            "flex": null,
            "flex_flow": null,
            "grid_area": null,
            "grid_auto_columns": null,
            "grid_auto_flow": null,
            "grid_auto_rows": null,
            "grid_column": null,
            "grid_gap": null,
            "grid_row": null,
            "grid_template_areas": null,
            "grid_template_columns": null,
            "grid_template_rows": null,
            "height": null,
            "justify_content": null,
            "justify_items": null,
            "left": null,
            "margin": null,
            "max_height": null,
            "max_width": null,
            "min_height": null,
            "min_width": null,
            "object_fit": null,
            "object_position": null,
            "order": null,
            "overflow": null,
            "overflow_x": null,
            "overflow_y": null,
            "padding": null,
            "right": null,
            "top": null,
            "visibility": null,
            "width": null
          }
        },
        "8583ae3177bb4098875cf1e2024d576a": {
          "model_module": "@jupyter-widgets/controls",
          "model_name": "ProgressStyleModel",
          "model_module_version": "1.5.0",
          "state": {
            "_model_module": "@jupyter-widgets/controls",
            "_model_module_version": "1.5.0",
            "_model_name": "ProgressStyleModel",
            "_view_count": null,
            "_view_module": "@jupyter-widgets/base",
            "_view_module_version": "1.2.0",
            "_view_name": "StyleView",
            "bar_color": null,
            "description_width": ""
          }
        },
        "f360012302f84c14a3cc266fb5919e7a": {
          "model_module": "@jupyter-widgets/base",
          "model_name": "LayoutModel",
          "model_module_version": "1.2.0",
          "state": {
            "_model_module": "@jupyter-widgets/base",
            "_model_module_version": "1.2.0",
            "_model_name": "LayoutModel",
            "_view_count": null,
            "_view_module": "@jupyter-widgets/base",
            "_view_module_version": "1.2.0",
            "_view_name": "LayoutView",
            "align_content": null,
            "align_items": null,
            "align_self": null,
            "border": null,
            "bottom": null,
            "display": null,
            "flex": null,
            "flex_flow": null,
            "grid_area": null,
            "grid_auto_columns": null,
            "grid_auto_flow": null,
            "grid_auto_rows": null,
            "grid_column": null,
            "grid_gap": null,
            "grid_row": null,
            "grid_template_areas": null,
            "grid_template_columns": null,
            "grid_template_rows": null,
            "height": null,
            "justify_content": null,
            "justify_items": null,
            "left": null,
            "margin": null,
            "max_height": null,
            "max_width": null,
            "min_height": null,
            "min_width": null,
            "object_fit": null,
            "object_position": null,
            "order": null,
            "overflow": null,
            "overflow_x": null,
            "overflow_y": null,
            "padding": null,
            "right": null,
            "top": null,
            "visibility": null,
            "width": null
          }
        },
        "1e9ee73140e9424491c174434b166a5e": {
          "model_module": "@jupyter-widgets/controls",
          "model_name": "DescriptionStyleModel",
          "model_module_version": "1.5.0",
          "state": {
            "_model_module": "@jupyter-widgets/controls",
            "_model_module_version": "1.5.0",
            "_model_name": "DescriptionStyleModel",
            "_view_count": null,
            "_view_module": "@jupyter-widgets/base",
            "_view_module_version": "1.2.0",
            "_view_name": "StyleView",
            "description_width": ""
          }
        },
        "e77c7f603d924242811e9550fd3dd5e7": {
          "model_module": "@jupyter-widgets/controls",
          "model_name": "HBoxModel",
          "model_module_version": "1.5.0",
          "state": {
            "_dom_classes": [],
            "_model_module": "@jupyter-widgets/controls",
            "_model_module_version": "1.5.0",
            "_model_name": "HBoxModel",
            "_view_count": null,
            "_view_module": "@jupyter-widgets/controls",
            "_view_module_version": "1.5.0",
            "_view_name": "HBoxView",
            "box_style": "",
            "children": [
              "IPY_MODEL_95e8ca1896294560a193d30e29d3bde9",
              "IPY_MODEL_04c688b6ef4b46c287d301dc9242882b",
              "IPY_MODEL_a6ba93119c4e4549949c3e1111cd221e"
            ],
            "layout": "IPY_MODEL_d7da91ab7e35485196feaf95b48675bc"
          }
        },
        "95e8ca1896294560a193d30e29d3bde9": {
          "model_module": "@jupyter-widgets/controls",
          "model_name": "HTMLModel",
          "model_module_version": "1.5.0",
          "state": {
            "_dom_classes": [],
            "_model_module": "@jupyter-widgets/controls",
            "_model_module_version": "1.5.0",
            "_model_name": "HTMLModel",
            "_view_count": null,
            "_view_module": "@jupyter-widgets/controls",
            "_view_module_version": "1.5.0",
            "_view_name": "HTMLView",
            "description": "",
            "description_tooltip": null,
            "layout": "IPY_MODEL_3e98e3b04b0f48f3a56ebfadc03ff6ed",
            "placeholder": "​",
            "style": "IPY_MODEL_37626b7282b54eb08865571f19c4b1d0",
            "value": "tokenizer_config.json: 100%"
          }
        },
        "04c688b6ef4b46c287d301dc9242882b": {
          "model_module": "@jupyter-widgets/controls",
          "model_name": "FloatProgressModel",
          "model_module_version": "1.5.0",
          "state": {
            "_dom_classes": [],
            "_model_module": "@jupyter-widgets/controls",
            "_model_module_version": "1.5.0",
            "_model_name": "FloatProgressModel",
            "_view_count": null,
            "_view_module": "@jupyter-widgets/controls",
            "_view_module_version": "1.5.0",
            "_view_name": "ProgressView",
            "bar_style": "success",
            "description": "",
            "description_tooltip": null,
            "layout": "IPY_MODEL_51976ec989164ff3860a0964518d4586",
            "max": 1467,
            "min": 0,
            "orientation": "horizontal",
            "style": "IPY_MODEL_7a68e14b173d49ae8e73d52f69c81022",
            "value": 1467
          }
        },
        "a6ba93119c4e4549949c3e1111cd221e": {
          "model_module": "@jupyter-widgets/controls",
          "model_name": "HTMLModel",
          "model_module_version": "1.5.0",
          "state": {
            "_dom_classes": [],
            "_model_module": "@jupyter-widgets/controls",
            "_model_module_version": "1.5.0",
            "_model_name": "HTMLModel",
            "_view_count": null,
            "_view_module": "@jupyter-widgets/controls",
            "_view_module_version": "1.5.0",
            "_view_name": "HTMLView",
            "description": "",
            "description_tooltip": null,
            "layout": "IPY_MODEL_9b2cbdaa40fe4ef6ab65d69b536103be",
            "placeholder": "​",
            "style": "IPY_MODEL_e9160809103941998f44d8bc232bff16",
            "value": " 1.47k/1.47k [00:00&lt;00:00, 134kB/s]"
          }
        },
        "d7da91ab7e35485196feaf95b48675bc": {
          "model_module": "@jupyter-widgets/base",
          "model_name": "LayoutModel",
          "model_module_version": "1.2.0",
          "state": {
            "_model_module": "@jupyter-widgets/base",
            "_model_module_version": "1.2.0",
            "_model_name": "LayoutModel",
            "_view_count": null,
            "_view_module": "@jupyter-widgets/base",
            "_view_module_version": "1.2.0",
            "_view_name": "LayoutView",
            "align_content": null,
            "align_items": null,
            "align_self": null,
            "border": null,
            "bottom": null,
            "display": null,
            "flex": null,
            "flex_flow": null,
            "grid_area": null,
            "grid_auto_columns": null,
            "grid_auto_flow": null,
            "grid_auto_rows": null,
            "grid_column": null,
            "grid_gap": null,
            "grid_row": null,
            "grid_template_areas": null,
            "grid_template_columns": null,
            "grid_template_rows": null,
            "height": null,
            "justify_content": null,
            "justify_items": null,
            "left": null,
            "margin": null,
            "max_height": null,
            "max_width": null,
            "min_height": null,
            "min_width": null,
            "object_fit": null,
            "object_position": null,
            "order": null,
            "overflow": null,
            "overflow_x": null,
            "overflow_y": null,
            "padding": null,
            "right": null,
            "top": null,
            "visibility": null,
            "width": null
          }
        },
        "3e98e3b04b0f48f3a56ebfadc03ff6ed": {
          "model_module": "@jupyter-widgets/base",
          "model_name": "LayoutModel",
          "model_module_version": "1.2.0",
          "state": {
            "_model_module": "@jupyter-widgets/base",
            "_model_module_version": "1.2.0",
            "_model_name": "LayoutModel",
            "_view_count": null,
            "_view_module": "@jupyter-widgets/base",
            "_view_module_version": "1.2.0",
            "_view_name": "LayoutView",
            "align_content": null,
            "align_items": null,
            "align_self": null,
            "border": null,
            "bottom": null,
            "display": null,
            "flex": null,
            "flex_flow": null,
            "grid_area": null,
            "grid_auto_columns": null,
            "grid_auto_flow": null,
            "grid_auto_rows": null,
            "grid_column": null,
            "grid_gap": null,
            "grid_row": null,
            "grid_template_areas": null,
            "grid_template_columns": null,
            "grid_template_rows": null,
            "height": null,
            "justify_content": null,
            "justify_items": null,
            "left": null,
            "margin": null,
            "max_height": null,
            "max_width": null,
            "min_height": null,
            "min_width": null,
            "object_fit": null,
            "object_position": null,
            "order": null,
            "overflow": null,
            "overflow_x": null,
            "overflow_y": null,
            "padding": null,
            "right": null,
            "top": null,
            "visibility": null,
            "width": null
          }
        },
        "37626b7282b54eb08865571f19c4b1d0": {
          "model_module": "@jupyter-widgets/controls",
          "model_name": "DescriptionStyleModel",
          "model_module_version": "1.5.0",
          "state": {
            "_model_module": "@jupyter-widgets/controls",
            "_model_module_version": "1.5.0",
            "_model_name": "DescriptionStyleModel",
            "_view_count": null,
            "_view_module": "@jupyter-widgets/base",
            "_view_module_version": "1.2.0",
            "_view_name": "StyleView",
            "description_width": ""
          }
        },
        "51976ec989164ff3860a0964518d4586": {
          "model_module": "@jupyter-widgets/base",
          "model_name": "LayoutModel",
          "model_module_version": "1.2.0",
          "state": {
            "_model_module": "@jupyter-widgets/base",
            "_model_module_version": "1.2.0",
            "_model_name": "LayoutModel",
            "_view_count": null,
            "_view_module": "@jupyter-widgets/base",
            "_view_module_version": "1.2.0",
            "_view_name": "LayoutView",
            "align_content": null,
            "align_items": null,
            "align_self": null,
            "border": null,
            "bottom": null,
            "display": null,
            "flex": null,
            "flex_flow": null,
            "grid_area": null,
            "grid_auto_columns": null,
            "grid_auto_flow": null,
            "grid_auto_rows": null,
            "grid_column": null,
            "grid_gap": null,
            "grid_row": null,
            "grid_template_areas": null,
            "grid_template_columns": null,
            "grid_template_rows": null,
            "height": null,
            "justify_content": null,
            "justify_items": null,
            "left": null,
            "margin": null,
            "max_height": null,
            "max_width": null,
            "min_height": null,
            "min_width": null,
            "object_fit": null,
            "object_position": null,
            "order": null,
            "overflow": null,
            "overflow_x": null,
            "overflow_y": null,
            "padding": null,
            "right": null,
            "top": null,
            "visibility": null,
            "width": null
          }
        },
        "7a68e14b173d49ae8e73d52f69c81022": {
          "model_module": "@jupyter-widgets/controls",
          "model_name": "ProgressStyleModel",
          "model_module_version": "1.5.0",
          "state": {
            "_model_module": "@jupyter-widgets/controls",
            "_model_module_version": "1.5.0",
            "_model_name": "ProgressStyleModel",
            "_view_count": null,
            "_view_module": "@jupyter-widgets/base",
            "_view_module_version": "1.2.0",
            "_view_name": "StyleView",
            "bar_color": null,
            "description_width": ""
          }
        },
        "9b2cbdaa40fe4ef6ab65d69b536103be": {
          "model_module": "@jupyter-widgets/base",
          "model_name": "LayoutModel",
          "model_module_version": "1.2.0",
          "state": {
            "_model_module": "@jupyter-widgets/base",
            "_model_module_version": "1.2.0",
            "_model_name": "LayoutModel",
            "_view_count": null,
            "_view_module": "@jupyter-widgets/base",
            "_view_module_version": "1.2.0",
            "_view_name": "LayoutView",
            "align_content": null,
            "align_items": null,
            "align_self": null,
            "border": null,
            "bottom": null,
            "display": null,
            "flex": null,
            "flex_flow": null,
            "grid_area": null,
            "grid_auto_columns": null,
            "grid_auto_flow": null,
            "grid_auto_rows": null,
            "grid_column": null,
            "grid_gap": null,
            "grid_row": null,
            "grid_template_areas": null,
            "grid_template_columns": null,
            "grid_template_rows": null,
            "height": null,
            "justify_content": null,
            "justify_items": null,
            "left": null,
            "margin": null,
            "max_height": null,
            "max_width": null,
            "min_height": null,
            "min_width": null,
            "object_fit": null,
            "object_position": null,
            "order": null,
            "overflow": null,
            "overflow_x": null,
            "overflow_y": null,
            "padding": null,
            "right": null,
            "top": null,
            "visibility": null,
            "width": null
          }
        },
        "e9160809103941998f44d8bc232bff16": {
          "model_module": "@jupyter-widgets/controls",
          "model_name": "DescriptionStyleModel",
          "model_module_version": "1.5.0",
          "state": {
            "_model_module": "@jupyter-widgets/controls",
            "_model_module_version": "1.5.0",
            "_model_name": "DescriptionStyleModel",
            "_view_count": null,
            "_view_module": "@jupyter-widgets/base",
            "_view_module_version": "1.2.0",
            "_view_name": "StyleView",
            "description_width": ""
          }
        },
        "19620634c4f14c0abf8cc2b0b842e296": {
          "model_module": "@jupyter-widgets/controls",
          "model_name": "HBoxModel",
          "model_module_version": "1.5.0",
          "state": {
            "_dom_classes": [],
            "_model_module": "@jupyter-widgets/controls",
            "_model_module_version": "1.5.0",
            "_model_name": "HBoxModel",
            "_view_count": null,
            "_view_module": "@jupyter-widgets/controls",
            "_view_module_version": "1.5.0",
            "_view_name": "HBoxView",
            "box_style": "",
            "children": [
              "IPY_MODEL_8e2419ef47514a27946f35f617bfb8a2",
              "IPY_MODEL_790267ed062a4c60bd9dac4da44b6e59",
              "IPY_MODEL_86b71abd55144b20988efff0d43e2bca"
            ],
            "layout": "IPY_MODEL_9d5e808104ad4866bb53a63c5d8773c1"
          }
        },
        "8e2419ef47514a27946f35f617bfb8a2": {
          "model_module": "@jupyter-widgets/controls",
          "model_name": "HTMLModel",
          "model_module_version": "1.5.0",
          "state": {
            "_dom_classes": [],
            "_model_module": "@jupyter-widgets/controls",
            "_model_module_version": "1.5.0",
            "_model_name": "HTMLModel",
            "_view_count": null,
            "_view_module": "@jupyter-widgets/controls",
            "_view_module_version": "1.5.0",
            "_view_name": "HTMLView",
            "description": "",
            "description_tooltip": null,
            "layout": "IPY_MODEL_90325fd6e851443caf50839be3e13d01",
            "placeholder": "​",
            "style": "IPY_MODEL_c8564873bada4953b2a5474a8e40ad7e",
            "value": "tokenizer.model: 100%"
          }
        },
        "790267ed062a4c60bd9dac4da44b6e59": {
          "model_module": "@jupyter-widgets/controls",
          "model_name": "FloatProgressModel",
          "model_module_version": "1.5.0",
          "state": {
            "_dom_classes": [],
            "_model_module": "@jupyter-widgets/controls",
            "_model_module_version": "1.5.0",
            "_model_name": "FloatProgressModel",
            "_view_count": null,
            "_view_module": "@jupyter-widgets/controls",
            "_view_module_version": "1.5.0",
            "_view_name": "ProgressView",
            "bar_style": "success",
            "description": "",
            "description_tooltip": null,
            "layout": "IPY_MODEL_43bd45ed8d5c4511b94a3ec3287c68ad",
            "max": 493443,
            "min": 0,
            "orientation": "horizontal",
            "style": "IPY_MODEL_ddf780833a6f488b844cb3e7cdaae794",
            "value": 493443
          }
        },
        "86b71abd55144b20988efff0d43e2bca": {
          "model_module": "@jupyter-widgets/controls",
          "model_name": "HTMLModel",
          "model_module_version": "1.5.0",
          "state": {
            "_dom_classes": [],
            "_model_module": "@jupyter-widgets/controls",
            "_model_module_version": "1.5.0",
            "_model_name": "HTMLModel",
            "_view_count": null,
            "_view_module": "@jupyter-widgets/controls",
            "_view_module_version": "1.5.0",
            "_view_name": "HTMLView",
            "description": "",
            "description_tooltip": null,
            "layout": "IPY_MODEL_c6eb3b6ea6cd4d728a94dfa041d918ff",
            "placeholder": "​",
            "style": "IPY_MODEL_b9301c2d79724eb3876ba4de50e4b9d5",
            "value": " 493k/493k [00:00&lt;00:00, 37.9MB/s]"
          }
        },
        "9d5e808104ad4866bb53a63c5d8773c1": {
          "model_module": "@jupyter-widgets/base",
          "model_name": "LayoutModel",
          "model_module_version": "1.2.0",
          "state": {
            "_model_module": "@jupyter-widgets/base",
            "_model_module_version": "1.2.0",
            "_model_name": "LayoutModel",
            "_view_count": null,
            "_view_module": "@jupyter-widgets/base",
            "_view_module_version": "1.2.0",
            "_view_name": "LayoutView",
            "align_content": null,
            "align_items": null,
            "align_self": null,
            "border": null,
            "bottom": null,
            "display": null,
            "flex": null,
            "flex_flow": null,
            "grid_area": null,
            "grid_auto_columns": null,
            "grid_auto_flow": null,
            "grid_auto_rows": null,
            "grid_column": null,
            "grid_gap": null,
            "grid_row": null,
            "grid_template_areas": null,
            "grid_template_columns": null,
            "grid_template_rows": null,
            "height": null,
            "justify_content": null,
            "justify_items": null,
            "left": null,
            "margin": null,
            "max_height": null,
            "max_width": null,
            "min_height": null,
            "min_width": null,
            "object_fit": null,
            "object_position": null,
            "order": null,
            "overflow": null,
            "overflow_x": null,
            "overflow_y": null,
            "padding": null,
            "right": null,
            "top": null,
            "visibility": null,
            "width": null
          }
        },
        "90325fd6e851443caf50839be3e13d01": {
          "model_module": "@jupyter-widgets/base",
          "model_name": "LayoutModel",
          "model_module_version": "1.2.0",
          "state": {
            "_model_module": "@jupyter-widgets/base",
            "_model_module_version": "1.2.0",
            "_model_name": "LayoutModel",
            "_view_count": null,
            "_view_module": "@jupyter-widgets/base",
            "_view_module_version": "1.2.0",
            "_view_name": "LayoutView",
            "align_content": null,
            "align_items": null,
            "align_self": null,
            "border": null,
            "bottom": null,
            "display": null,
            "flex": null,
            "flex_flow": null,
            "grid_area": null,
            "grid_auto_columns": null,
            "grid_auto_flow": null,
            "grid_auto_rows": null,
            "grid_column": null,
            "grid_gap": null,
            "grid_row": null,
            "grid_template_areas": null,
            "grid_template_columns": null,
            "grid_template_rows": null,
            "height": null,
            "justify_content": null,
            "justify_items": null,
            "left": null,
            "margin": null,
            "max_height": null,
            "max_width": null,
            "min_height": null,
            "min_width": null,
            "object_fit": null,
            "object_position": null,
            "order": null,
            "overflow": null,
            "overflow_x": null,
            "overflow_y": null,
            "padding": null,
            "right": null,
            "top": null,
            "visibility": null,
            "width": null
          }
        },
        "c8564873bada4953b2a5474a8e40ad7e": {
          "model_module": "@jupyter-widgets/controls",
          "model_name": "DescriptionStyleModel",
          "model_module_version": "1.5.0",
          "state": {
            "_model_module": "@jupyter-widgets/controls",
            "_model_module_version": "1.5.0",
            "_model_name": "DescriptionStyleModel",
            "_view_count": null,
            "_view_module": "@jupyter-widgets/base",
            "_view_module_version": "1.2.0",
            "_view_name": "StyleView",
            "description_width": ""
          }
        },
        "43bd45ed8d5c4511b94a3ec3287c68ad": {
          "model_module": "@jupyter-widgets/base",
          "model_name": "LayoutModel",
          "model_module_version": "1.2.0",
          "state": {
            "_model_module": "@jupyter-widgets/base",
            "_model_module_version": "1.2.0",
            "_model_name": "LayoutModel",
            "_view_count": null,
            "_view_module": "@jupyter-widgets/base",
            "_view_module_version": "1.2.0",
            "_view_name": "LayoutView",
            "align_content": null,
            "align_items": null,
            "align_self": null,
            "border": null,
            "bottom": null,
            "display": null,
            "flex": null,
            "flex_flow": null,
            "grid_area": null,
            "grid_auto_columns": null,
            "grid_auto_flow": null,
            "grid_auto_rows": null,
            "grid_column": null,
            "grid_gap": null,
            "grid_row": null,
            "grid_template_areas": null,
            "grid_template_columns": null,
            "grid_template_rows": null,
            "height": null,
            "justify_content": null,
            "justify_items": null,
            "left": null,
            "margin": null,
            "max_height": null,
            "max_width": null,
            "min_height": null,
            "min_width": null,
            "object_fit": null,
            "object_position": null,
            "order": null,
            "overflow": null,
            "overflow_x": null,
            "overflow_y": null,
            "padding": null,
            "right": null,
            "top": null,
            "visibility": null,
            "width": null
          }
        },
        "ddf780833a6f488b844cb3e7cdaae794": {
          "model_module": "@jupyter-widgets/controls",
          "model_name": "ProgressStyleModel",
          "model_module_version": "1.5.0",
          "state": {
            "_model_module": "@jupyter-widgets/controls",
            "_model_module_version": "1.5.0",
            "_model_name": "ProgressStyleModel",
            "_view_count": null,
            "_view_module": "@jupyter-widgets/base",
            "_view_module_version": "1.2.0",
            "_view_name": "StyleView",
            "bar_color": null,
            "description_width": ""
          }
        },
        "c6eb3b6ea6cd4d728a94dfa041d918ff": {
          "model_module": "@jupyter-widgets/base",
          "model_name": "LayoutModel",
          "model_module_version": "1.2.0",
          "state": {
            "_model_module": "@jupyter-widgets/base",
            "_model_module_version": "1.2.0",
            "_model_name": "LayoutModel",
            "_view_count": null,
            "_view_module": "@jupyter-widgets/base",
            "_view_module_version": "1.2.0",
            "_view_name": "LayoutView",
            "align_content": null,
            "align_items": null,
            "align_self": null,
            "border": null,
            "bottom": null,
            "display": null,
            "flex": null,
            "flex_flow": null,
            "grid_area": null,
            "grid_auto_columns": null,
            "grid_auto_flow": null,
            "grid_auto_rows": null,
            "grid_column": null,
            "grid_gap": null,
            "grid_row": null,
            "grid_template_areas": null,
            "grid_template_columns": null,
            "grid_template_rows": null,
            "height": null,
            "justify_content": null,
            "justify_items": null,
            "left": null,
            "margin": null,
            "max_height": null,
            "max_width": null,
            "min_height": null,
            "min_width": null,
            "object_fit": null,
            "object_position": null,
            "order": null,
            "overflow": null,
            "overflow_x": null,
            "overflow_y": null,
            "padding": null,
            "right": null,
            "top": null,
            "visibility": null,
            "width": null
          }
        },
        "b9301c2d79724eb3876ba4de50e4b9d5": {
          "model_module": "@jupyter-widgets/controls",
          "model_name": "DescriptionStyleModel",
          "model_module_version": "1.5.0",
          "state": {
            "_model_module": "@jupyter-widgets/controls",
            "_model_module_version": "1.5.0",
            "_model_name": "DescriptionStyleModel",
            "_view_count": null,
            "_view_module": "@jupyter-widgets/base",
            "_view_module_version": "1.2.0",
            "_view_name": "StyleView",
            "description_width": ""
          }
        },
        "c88d5be222944294909051c76e1c98d7": {
          "model_module": "@jupyter-widgets/controls",
          "model_name": "HBoxModel",
          "model_module_version": "1.5.0",
          "state": {
            "_dom_classes": [],
            "_model_module": "@jupyter-widgets/controls",
            "_model_module_version": "1.5.0",
            "_model_name": "HBoxModel",
            "_view_count": null,
            "_view_module": "@jupyter-widgets/controls",
            "_view_module_version": "1.5.0",
            "_view_name": "HBoxView",
            "box_style": "",
            "children": [
              "IPY_MODEL_67f5182d02b24ab087da4deae4c2998f",
              "IPY_MODEL_db53635b2e114cca878031af3ecd3628",
              "IPY_MODEL_f96c136d880b4057aa1f782d54e534c8"
            ],
            "layout": "IPY_MODEL_9d10c80e80f74654a8cfa1971dede879"
          }
        },
        "67f5182d02b24ab087da4deae4c2998f": {
          "model_module": "@jupyter-widgets/controls",
          "model_name": "HTMLModel",
          "model_module_version": "1.5.0",
          "state": {
            "_dom_classes": [],
            "_model_module": "@jupyter-widgets/controls",
            "_model_module_version": "1.5.0",
            "_model_name": "HTMLModel",
            "_view_count": null,
            "_view_module": "@jupyter-widgets/controls",
            "_view_module_version": "1.5.0",
            "_view_name": "HTMLView",
            "description": "",
            "description_tooltip": null,
            "layout": "IPY_MODEL_8fada19f81bd43e88b1fc3edaf84d673",
            "placeholder": "​",
            "style": "IPY_MODEL_4877f1f513244a578e6db3db562cc985",
            "value": "tokenizer.json: 100%"
          }
        },
        "db53635b2e114cca878031af3ecd3628": {
          "model_module": "@jupyter-widgets/controls",
          "model_name": "FloatProgressModel",
          "model_module_version": "1.5.0",
          "state": {
            "_dom_classes": [],
            "_model_module": "@jupyter-widgets/controls",
            "_model_module_version": "1.5.0",
            "_model_name": "FloatProgressModel",
            "_view_count": null,
            "_view_module": "@jupyter-widgets/controls",
            "_view_module_version": "1.5.0",
            "_view_name": "ProgressView",
            "bar_style": "success",
            "description": "",
            "description_tooltip": null,
            "layout": "IPY_MODEL_038e8057a01549339e34f0c6e3607a1e",
            "max": 1795303,
            "min": 0,
            "orientation": "horizontal",
            "style": "IPY_MODEL_da6050916b5b451fb1b969ee8caead1c",
            "value": 1795303
          }
        },
        "f96c136d880b4057aa1f782d54e534c8": {
          "model_module": "@jupyter-widgets/controls",
          "model_name": "HTMLModel",
          "model_module_version": "1.5.0",
          "state": {
            "_dom_classes": [],
            "_model_module": "@jupyter-widgets/controls",
            "_model_module_version": "1.5.0",
            "_model_name": "HTMLModel",
            "_view_count": null,
            "_view_module": "@jupyter-widgets/controls",
            "_view_module_version": "1.5.0",
            "_view_name": "HTMLView",
            "description": "",
            "description_tooltip": null,
            "layout": "IPY_MODEL_32a5f57ec09b486d8727ba89c717b6c4",
            "placeholder": "​",
            "style": "IPY_MODEL_60d84e9bbf87479b9977555ed7b078b1",
            "value": " 1.80M/1.80M [00:00&lt;00:00, 5.98MB/s]"
          }
        },
        "9d10c80e80f74654a8cfa1971dede879": {
          "model_module": "@jupyter-widgets/base",
          "model_name": "LayoutModel",
          "model_module_version": "1.2.0",
          "state": {
            "_model_module": "@jupyter-widgets/base",
            "_model_module_version": "1.2.0",
            "_model_name": "LayoutModel",
            "_view_count": null,
            "_view_module": "@jupyter-widgets/base",
            "_view_module_version": "1.2.0",
            "_view_name": "LayoutView",
            "align_content": null,
            "align_items": null,
            "align_self": null,
            "border": null,
            "bottom": null,
            "display": null,
            "flex": null,
            "flex_flow": null,
            "grid_area": null,
            "grid_auto_columns": null,
            "grid_auto_flow": null,
            "grid_auto_rows": null,
            "grid_column": null,
            "grid_gap": null,
            "grid_row": null,
            "grid_template_areas": null,
            "grid_template_columns": null,
            "grid_template_rows": null,
            "height": null,
            "justify_content": null,
            "justify_items": null,
            "left": null,
            "margin": null,
            "max_height": null,
            "max_width": null,
            "min_height": null,
            "min_width": null,
            "object_fit": null,
            "object_position": null,
            "order": null,
            "overflow": null,
            "overflow_x": null,
            "overflow_y": null,
            "padding": null,
            "right": null,
            "top": null,
            "visibility": null,
            "width": null
          }
        },
        "8fada19f81bd43e88b1fc3edaf84d673": {
          "model_module": "@jupyter-widgets/base",
          "model_name": "LayoutModel",
          "model_module_version": "1.2.0",
          "state": {
            "_model_module": "@jupyter-widgets/base",
            "_model_module_version": "1.2.0",
            "_model_name": "LayoutModel",
            "_view_count": null,
            "_view_module": "@jupyter-widgets/base",
            "_view_module_version": "1.2.0",
            "_view_name": "LayoutView",
            "align_content": null,
            "align_items": null,
            "align_self": null,
            "border": null,
            "bottom": null,
            "display": null,
            "flex": null,
            "flex_flow": null,
            "grid_area": null,
            "grid_auto_columns": null,
            "grid_auto_flow": null,
            "grid_auto_rows": null,
            "grid_column": null,
            "grid_gap": null,
            "grid_row": null,
            "grid_template_areas": null,
            "grid_template_columns": null,
            "grid_template_rows": null,
            "height": null,
            "justify_content": null,
            "justify_items": null,
            "left": null,
            "margin": null,
            "max_height": null,
            "max_width": null,
            "min_height": null,
            "min_width": null,
            "object_fit": null,
            "object_position": null,
            "order": null,
            "overflow": null,
            "overflow_x": null,
            "overflow_y": null,
            "padding": null,
            "right": null,
            "top": null,
            "visibility": null,
            "width": null
          }
        },
        "4877f1f513244a578e6db3db562cc985": {
          "model_module": "@jupyter-widgets/controls",
          "model_name": "DescriptionStyleModel",
          "model_module_version": "1.5.0",
          "state": {
            "_model_module": "@jupyter-widgets/controls",
            "_model_module_version": "1.5.0",
            "_model_name": "DescriptionStyleModel",
            "_view_count": null,
            "_view_module": "@jupyter-widgets/base",
            "_view_module_version": "1.2.0",
            "_view_name": "StyleView",
            "description_width": ""
          }
        },
        "038e8057a01549339e34f0c6e3607a1e": {
          "model_module": "@jupyter-widgets/base",
          "model_name": "LayoutModel",
          "model_module_version": "1.2.0",
          "state": {
            "_model_module": "@jupyter-widgets/base",
            "_model_module_version": "1.2.0",
            "_model_name": "LayoutModel",
            "_view_count": null,
            "_view_module": "@jupyter-widgets/base",
            "_view_module_version": "1.2.0",
            "_view_name": "LayoutView",
            "align_content": null,
            "align_items": null,
            "align_self": null,
            "border": null,
            "bottom": null,
            "display": null,
            "flex": null,
            "flex_flow": null,
            "grid_area": null,
            "grid_auto_columns": null,
            "grid_auto_flow": null,
            "grid_auto_rows": null,
            "grid_column": null,
            "grid_gap": null,
            "grid_row": null,
            "grid_template_areas": null,
            "grid_template_columns": null,
            "grid_template_rows": null,
            "height": null,
            "justify_content": null,
            "justify_items": null,
            "left": null,
            "margin": null,
            "max_height": null,
            "max_width": null,
            "min_height": null,
            "min_width": null,
            "object_fit": null,
            "object_position": null,
            "order": null,
            "overflow": null,
            "overflow_x": null,
            "overflow_y": null,
            "padding": null,
            "right": null,
            "top": null,
            "visibility": null,
            "width": null
          }
        },
        "da6050916b5b451fb1b969ee8caead1c": {
          "model_module": "@jupyter-widgets/controls",
          "model_name": "ProgressStyleModel",
          "model_module_version": "1.5.0",
          "state": {
            "_model_module": "@jupyter-widgets/controls",
            "_model_module_version": "1.5.0",
            "_model_name": "ProgressStyleModel",
            "_view_count": null,
            "_view_module": "@jupyter-widgets/base",
            "_view_module_version": "1.2.0",
            "_view_name": "StyleView",
            "bar_color": null,
            "description_width": ""
          }
        },
        "32a5f57ec09b486d8727ba89c717b6c4": {
          "model_module": "@jupyter-widgets/base",
          "model_name": "LayoutModel",
          "model_module_version": "1.2.0",
          "state": {
            "_model_module": "@jupyter-widgets/base",
            "_model_module_version": "1.2.0",
            "_model_name": "LayoutModel",
            "_view_count": null,
            "_view_module": "@jupyter-widgets/base",
            "_view_module_version": "1.2.0",
            "_view_name": "LayoutView",
            "align_content": null,
            "align_items": null,
            "align_self": null,
            "border": null,
            "bottom": null,
            "display": null,
            "flex": null,
            "flex_flow": null,
            "grid_area": null,
            "grid_auto_columns": null,
            "grid_auto_flow": null,
            "grid_auto_rows": null,
            "grid_column": null,
            "grid_gap": null,
            "grid_row": null,
            "grid_template_areas": null,
            "grid_template_columns": null,
            "grid_template_rows": null,
            "height": null,
            "justify_content": null,
            "justify_items": null,
            "left": null,
            "margin": null,
            "max_height": null,
            "max_width": null,
            "min_height": null,
            "min_width": null,
            "object_fit": null,
            "object_position": null,
            "order": null,
            "overflow": null,
            "overflow_x": null,
            "overflow_y": null,
            "padding": null,
            "right": null,
            "top": null,
            "visibility": null,
            "width": null
          }
        },
        "60d84e9bbf87479b9977555ed7b078b1": {
          "model_module": "@jupyter-widgets/controls",
          "model_name": "DescriptionStyleModel",
          "model_module_version": "1.5.0",
          "state": {
            "_model_module": "@jupyter-widgets/controls",
            "_model_module_version": "1.5.0",
            "_model_name": "DescriptionStyleModel",
            "_view_count": null,
            "_view_module": "@jupyter-widgets/base",
            "_view_module_version": "1.2.0",
            "_view_name": "StyleView",
            "description_width": ""
          }
        },
        "261efa176bcb4c14b4972e86f8532f03": {
          "model_module": "@jupyter-widgets/controls",
          "model_name": "HBoxModel",
          "model_module_version": "1.5.0",
          "state": {
            "_dom_classes": [],
            "_model_module": "@jupyter-widgets/controls",
            "_model_module_version": "1.5.0",
            "_model_name": "HBoxModel",
            "_view_count": null,
            "_view_module": "@jupyter-widgets/controls",
            "_view_module_version": "1.5.0",
            "_view_name": "HBoxView",
            "box_style": "",
            "children": [
              "IPY_MODEL_79cfb53af9cd4946936f6e398c9760e6",
              "IPY_MODEL_7c7ede61743e484eb86e221942b659b7",
              "IPY_MODEL_858d0671818d4a399092354721314661"
            ],
            "layout": "IPY_MODEL_75f024481f364b13b331e6c95d9716ac"
          }
        },
        "79cfb53af9cd4946936f6e398c9760e6": {
          "model_module": "@jupyter-widgets/controls",
          "model_name": "HTMLModel",
          "model_module_version": "1.5.0",
          "state": {
            "_dom_classes": [],
            "_model_module": "@jupyter-widgets/controls",
            "_model_module_version": "1.5.0",
            "_model_name": "HTMLModel",
            "_view_count": null,
            "_view_module": "@jupyter-widgets/controls",
            "_view_module_version": "1.5.0",
            "_view_name": "HTMLView",
            "description": "",
            "description_tooltip": null,
            "layout": "IPY_MODEL_9349d47bde3b46a6aa88c5159b6bfa06",
            "placeholder": "​",
            "style": "IPY_MODEL_5d0715f3f02048979c5d6092a6e2b2c7",
            "value": "special_tokens_map.json: 100%"
          }
        },
        "7c7ede61743e484eb86e221942b659b7": {
          "model_module": "@jupyter-widgets/controls",
          "model_name": "FloatProgressModel",
          "model_module_version": "1.5.0",
          "state": {
            "_dom_classes": [],
            "_model_module": "@jupyter-widgets/controls",
            "_model_module_version": "1.5.0",
            "_model_name": "FloatProgressModel",
            "_view_count": null,
            "_view_module": "@jupyter-widgets/controls",
            "_view_module_version": "1.5.0",
            "_view_name": "ProgressView",
            "bar_style": "success",
            "description": "",
            "description_tooltip": null,
            "layout": "IPY_MODEL_988b37c9178c48358e35b9ce08374729",
            "max": 72,
            "min": 0,
            "orientation": "horizontal",
            "style": "IPY_MODEL_e4608693601246f99470a7888b8c08d9",
            "value": 72
          }
        },
        "858d0671818d4a399092354721314661": {
          "model_module": "@jupyter-widgets/controls",
          "model_name": "HTMLModel",
          "model_module_version": "1.5.0",
          "state": {
            "_dom_classes": [],
            "_model_module": "@jupyter-widgets/controls",
            "_model_module_version": "1.5.0",
            "_model_name": "HTMLModel",
            "_view_count": null,
            "_view_module": "@jupyter-widgets/controls",
            "_view_module_version": "1.5.0",
            "_view_name": "HTMLView",
            "description": "",
            "description_tooltip": null,
            "layout": "IPY_MODEL_8d083083993846bf9283c116d0392964",
            "placeholder": "​",
            "style": "IPY_MODEL_7e1a80539c4c49a6af50ee2ea0967407",
            "value": " 72.0/72.0 [00:00&lt;00:00, 5.87kB/s]"
          }
        },
        "75f024481f364b13b331e6c95d9716ac": {
          "model_module": "@jupyter-widgets/base",
          "model_name": "LayoutModel",
          "model_module_version": "1.2.0",
          "state": {
            "_model_module": "@jupyter-widgets/base",
            "_model_module_version": "1.2.0",
            "_model_name": "LayoutModel",
            "_view_count": null,
            "_view_module": "@jupyter-widgets/base",
            "_view_module_version": "1.2.0",
            "_view_name": "LayoutView",
            "align_content": null,
            "align_items": null,
            "align_self": null,
            "border": null,
            "bottom": null,
            "display": null,
            "flex": null,
            "flex_flow": null,
            "grid_area": null,
            "grid_auto_columns": null,
            "grid_auto_flow": null,
            "grid_auto_rows": null,
            "grid_column": null,
            "grid_gap": null,
            "grid_row": null,
            "grid_template_areas": null,
            "grid_template_columns": null,
            "grid_template_rows": null,
            "height": null,
            "justify_content": null,
            "justify_items": null,
            "left": null,
            "margin": null,
            "max_height": null,
            "max_width": null,
            "min_height": null,
            "min_width": null,
            "object_fit": null,
            "object_position": null,
            "order": null,
            "overflow": null,
            "overflow_x": null,
            "overflow_y": null,
            "padding": null,
            "right": null,
            "top": null,
            "visibility": null,
            "width": null
          }
        },
        "9349d47bde3b46a6aa88c5159b6bfa06": {
          "model_module": "@jupyter-widgets/base",
          "model_name": "LayoutModel",
          "model_module_version": "1.2.0",
          "state": {
            "_model_module": "@jupyter-widgets/base",
            "_model_module_version": "1.2.0",
            "_model_name": "LayoutModel",
            "_view_count": null,
            "_view_module": "@jupyter-widgets/base",
            "_view_module_version": "1.2.0",
            "_view_name": "LayoutView",
            "align_content": null,
            "align_items": null,
            "align_self": null,
            "border": null,
            "bottom": null,
            "display": null,
            "flex": null,
            "flex_flow": null,
            "grid_area": null,
            "grid_auto_columns": null,
            "grid_auto_flow": null,
            "grid_auto_rows": null,
            "grid_column": null,
            "grid_gap": null,
            "grid_row": null,
            "grid_template_areas": null,
            "grid_template_columns": null,
            "grid_template_rows": null,
            "height": null,
            "justify_content": null,
            "justify_items": null,
            "left": null,
            "margin": null,
            "max_height": null,
            "max_width": null,
            "min_height": null,
            "min_width": null,
            "object_fit": null,
            "object_position": null,
            "order": null,
            "overflow": null,
            "overflow_x": null,
            "overflow_y": null,
            "padding": null,
            "right": null,
            "top": null,
            "visibility": null,
            "width": null
          }
        },
        "5d0715f3f02048979c5d6092a6e2b2c7": {
          "model_module": "@jupyter-widgets/controls",
          "model_name": "DescriptionStyleModel",
          "model_module_version": "1.5.0",
          "state": {
            "_model_module": "@jupyter-widgets/controls",
            "_model_module_version": "1.5.0",
            "_model_name": "DescriptionStyleModel",
            "_view_count": null,
            "_view_module": "@jupyter-widgets/base",
            "_view_module_version": "1.2.0",
            "_view_name": "StyleView",
            "description_width": ""
          }
        },
        "988b37c9178c48358e35b9ce08374729": {
          "model_module": "@jupyter-widgets/base",
          "model_name": "LayoutModel",
          "model_module_version": "1.2.0",
          "state": {
            "_model_module": "@jupyter-widgets/base",
            "_model_module_version": "1.2.0",
            "_model_name": "LayoutModel",
            "_view_count": null,
            "_view_module": "@jupyter-widgets/base",
            "_view_module_version": "1.2.0",
            "_view_name": "LayoutView",
            "align_content": null,
            "align_items": null,
            "align_self": null,
            "border": null,
            "bottom": null,
            "display": null,
            "flex": null,
            "flex_flow": null,
            "grid_area": null,
            "grid_auto_columns": null,
            "grid_auto_flow": null,
            "grid_auto_rows": null,
            "grid_column": null,
            "grid_gap": null,
            "grid_row": null,
            "grid_template_areas": null,
            "grid_template_columns": null,
            "grid_template_rows": null,
            "height": null,
            "justify_content": null,
            "justify_items": null,
            "left": null,
            "margin": null,
            "max_height": null,
            "max_width": null,
            "min_height": null,
            "min_width": null,
            "object_fit": null,
            "object_position": null,
            "order": null,
            "overflow": null,
            "overflow_x": null,
            "overflow_y": null,
            "padding": null,
            "right": null,
            "top": null,
            "visibility": null,
            "width": null
          }
        },
        "e4608693601246f99470a7888b8c08d9": {
          "model_module": "@jupyter-widgets/controls",
          "model_name": "ProgressStyleModel",
          "model_module_version": "1.5.0",
          "state": {
            "_model_module": "@jupyter-widgets/controls",
            "_model_module_version": "1.5.0",
            "_model_name": "ProgressStyleModel",
            "_view_count": null,
            "_view_module": "@jupyter-widgets/base",
            "_view_module_version": "1.2.0",
            "_view_name": "StyleView",
            "bar_color": null,
            "description_width": ""
          }
        },
        "8d083083993846bf9283c116d0392964": {
          "model_module": "@jupyter-widgets/base",
          "model_name": "LayoutModel",
          "model_module_version": "1.2.0",
          "state": {
            "_model_module": "@jupyter-widgets/base",
            "_model_module_version": "1.2.0",
            "_model_name": "LayoutModel",
            "_view_count": null,
            "_view_module": "@jupyter-widgets/base",
            "_view_module_version": "1.2.0",
            "_view_name": "LayoutView",
            "align_content": null,
            "align_items": null,
            "align_self": null,
            "border": null,
            "bottom": null,
            "display": null,
            "flex": null,
            "flex_flow": null,
            "grid_area": null,
            "grid_auto_columns": null,
            "grid_auto_flow": null,
            "grid_auto_rows": null,
            "grid_column": null,
            "grid_gap": null,
            "grid_row": null,
            "grid_template_areas": null,
            "grid_template_columns": null,
            "grid_template_rows": null,
            "height": null,
            "justify_content": null,
            "justify_items": null,
            "left": null,
            "margin": null,
            "max_height": null,
            "max_width": null,
            "min_height": null,
            "min_width": null,
            "object_fit": null,
            "object_position": null,
            "order": null,
            "overflow": null,
            "overflow_x": null,
            "overflow_y": null,
            "padding": null,
            "right": null,
            "top": null,
            "visibility": null,
            "width": null
          }
        },
        "7e1a80539c4c49a6af50ee2ea0967407": {
          "model_module": "@jupyter-widgets/controls",
          "model_name": "DescriptionStyleModel",
          "model_module_version": "1.5.0",
          "state": {
            "_model_module": "@jupyter-widgets/controls",
            "_model_module_version": "1.5.0",
            "_model_name": "DescriptionStyleModel",
            "_view_count": null,
            "_view_module": "@jupyter-widgets/base",
            "_view_module_version": "1.2.0",
            "_view_name": "StyleView",
            "description_width": ""
          }
        },
        "c1966ce63a6e4b78af43ae950bf54e73": {
          "model_module": "@jupyter-widgets/controls",
          "model_name": "HBoxModel",
          "model_module_version": "1.5.0",
          "state": {
            "_dom_classes": [],
            "_model_module": "@jupyter-widgets/controls",
            "_model_module_version": "1.5.0",
            "_model_name": "HBoxModel",
            "_view_count": null,
            "_view_module": "@jupyter-widgets/controls",
            "_view_module_version": "1.5.0",
            "_view_name": "HBoxView",
            "box_style": "",
            "children": [
              "IPY_MODEL_0001dc520c684f7d8cc0c9971061cbdf",
              "IPY_MODEL_f6390239ab634986962d633918aaa09a",
              "IPY_MODEL_f666cb7ea0cf4c6f8f790ec5ae25950a"
            ],
            "layout": "IPY_MODEL_6a0bf6395c114aec981fbcc76a0e407e"
          }
        },
        "0001dc520c684f7d8cc0c9971061cbdf": {
          "model_module": "@jupyter-widgets/controls",
          "model_name": "HTMLModel",
          "model_module_version": "1.5.0",
          "state": {
            "_dom_classes": [],
            "_model_module": "@jupyter-widgets/controls",
            "_model_module_version": "1.5.0",
            "_model_name": "HTMLModel",
            "_view_count": null,
            "_view_module": "@jupyter-widgets/controls",
            "_view_module_version": "1.5.0",
            "_view_name": "HTMLView",
            "description": "",
            "description_tooltip": null,
            "layout": "IPY_MODEL_99ca470f40e74bd78a0a4ebd49aeffdc",
            "placeholder": "​",
            "style": "IPY_MODEL_850f4bcc80e04ad18d3e691ed8e4e492",
            "value": "tokenizer_config.json: 100%"
          }
        },
        "f6390239ab634986962d633918aaa09a": {
          "model_module": "@jupyter-widgets/controls",
          "model_name": "FloatProgressModel",
          "model_module_version": "1.5.0",
          "state": {
            "_dom_classes": [],
            "_model_module": "@jupyter-widgets/controls",
            "_model_module_version": "1.5.0",
            "_model_name": "FloatProgressModel",
            "_view_count": null,
            "_view_module": "@jupyter-widgets/controls",
            "_view_module_version": "1.5.0",
            "_view_name": "ProgressView",
            "bar_style": "success",
            "description": "",
            "description_tooltip": null,
            "layout": "IPY_MODEL_35223421c0504367bc1ece9afa188631",
            "max": 25,
            "min": 0,
            "orientation": "horizontal",
            "style": "IPY_MODEL_6683ec24b6ef452c85e71a02decbf14b",
            "value": 25
          }
        },
        "f666cb7ea0cf4c6f8f790ec5ae25950a": {
          "model_module": "@jupyter-widgets/controls",
          "model_name": "HTMLModel",
          "model_module_version": "1.5.0",
          "state": {
            "_dom_classes": [],
            "_model_module": "@jupyter-widgets/controls",
            "_model_module_version": "1.5.0",
            "_model_name": "HTMLModel",
            "_view_count": null,
            "_view_module": "@jupyter-widgets/controls",
            "_view_module_version": "1.5.0",
            "_view_name": "HTMLView",
            "description": "",
            "description_tooltip": null,
            "layout": "IPY_MODEL_8a17ec8fcee44523972be929399d5b5e",
            "placeholder": "​",
            "style": "IPY_MODEL_2bccd91da74241dba90aeeac32a1688b",
            "value": " 25.0/25.0 [00:00&lt;00:00, 2.26kB/s]"
          }
        },
        "6a0bf6395c114aec981fbcc76a0e407e": {
          "model_module": "@jupyter-widgets/base",
          "model_name": "LayoutModel",
          "model_module_version": "1.2.0",
          "state": {
            "_model_module": "@jupyter-widgets/base",
            "_model_module_version": "1.2.0",
            "_model_name": "LayoutModel",
            "_view_count": null,
            "_view_module": "@jupyter-widgets/base",
            "_view_module_version": "1.2.0",
            "_view_name": "LayoutView",
            "align_content": null,
            "align_items": null,
            "align_self": null,
            "border": null,
            "bottom": null,
            "display": null,
            "flex": null,
            "flex_flow": null,
            "grid_area": null,
            "grid_auto_columns": null,
            "grid_auto_flow": null,
            "grid_auto_rows": null,
            "grid_column": null,
            "grid_gap": null,
            "grid_row": null,
            "grid_template_areas": null,
            "grid_template_columns": null,
            "grid_template_rows": null,
            "height": null,
            "justify_content": null,
            "justify_items": null,
            "left": null,
            "margin": null,
            "max_height": null,
            "max_width": null,
            "min_height": null,
            "min_width": null,
            "object_fit": null,
            "object_position": null,
            "order": null,
            "overflow": null,
            "overflow_x": null,
            "overflow_y": null,
            "padding": null,
            "right": null,
            "top": null,
            "visibility": null,
            "width": null
          }
        },
        "99ca470f40e74bd78a0a4ebd49aeffdc": {
          "model_module": "@jupyter-widgets/base",
          "model_name": "LayoutModel",
          "model_module_version": "1.2.0",
          "state": {
            "_model_module": "@jupyter-widgets/base",
            "_model_module_version": "1.2.0",
            "_model_name": "LayoutModel",
            "_view_count": null,
            "_view_module": "@jupyter-widgets/base",
            "_view_module_version": "1.2.0",
            "_view_name": "LayoutView",
            "align_content": null,
            "align_items": null,
            "align_self": null,
            "border": null,
            "bottom": null,
            "display": null,
            "flex": null,
            "flex_flow": null,
            "grid_area": null,
            "grid_auto_columns": null,
            "grid_auto_flow": null,
            "grid_auto_rows": null,
            "grid_column": null,
            "grid_gap": null,
            "grid_row": null,
            "grid_template_areas": null,
            "grid_template_columns": null,
            "grid_template_rows": null,
            "height": null,
            "justify_content": null,
            "justify_items": null,
            "left": null,
            "margin": null,
            "max_height": null,
            "max_width": null,
            "min_height": null,
            "min_width": null,
            "object_fit": null,
            "object_position": null,
            "order": null,
            "overflow": null,
            "overflow_x": null,
            "overflow_y": null,
            "padding": null,
            "right": null,
            "top": null,
            "visibility": null,
            "width": null
          }
        },
        "850f4bcc80e04ad18d3e691ed8e4e492": {
          "model_module": "@jupyter-widgets/controls",
          "model_name": "DescriptionStyleModel",
          "model_module_version": "1.5.0",
          "state": {
            "_model_module": "@jupyter-widgets/controls",
            "_model_module_version": "1.5.0",
            "_model_name": "DescriptionStyleModel",
            "_view_count": null,
            "_view_module": "@jupyter-widgets/base",
            "_view_module_version": "1.2.0",
            "_view_name": "StyleView",
            "description_width": ""
          }
        },
        "35223421c0504367bc1ece9afa188631": {
          "model_module": "@jupyter-widgets/base",
          "model_name": "LayoutModel",
          "model_module_version": "1.2.0",
          "state": {
            "_model_module": "@jupyter-widgets/base",
            "_model_module_version": "1.2.0",
            "_model_name": "LayoutModel",
            "_view_count": null,
            "_view_module": "@jupyter-widgets/base",
            "_view_module_version": "1.2.0",
            "_view_name": "LayoutView",
            "align_content": null,
            "align_items": null,
            "align_self": null,
            "border": null,
            "bottom": null,
            "display": null,
            "flex": null,
            "flex_flow": null,
            "grid_area": null,
            "grid_auto_columns": null,
            "grid_auto_flow": null,
            "grid_auto_rows": null,
            "grid_column": null,
            "grid_gap": null,
            "grid_row": null,
            "grid_template_areas": null,
            "grid_template_columns": null,
            "grid_template_rows": null,
            "height": null,
            "justify_content": null,
            "justify_items": null,
            "left": null,
            "margin": null,
            "max_height": null,
            "max_width": null,
            "min_height": null,
            "min_width": null,
            "object_fit": null,
            "object_position": null,
            "order": null,
            "overflow": null,
            "overflow_x": null,
            "overflow_y": null,
            "padding": null,
            "right": null,
            "top": null,
            "visibility": null,
            "width": null
          }
        },
        "6683ec24b6ef452c85e71a02decbf14b": {
          "model_module": "@jupyter-widgets/controls",
          "model_name": "ProgressStyleModel",
          "model_module_version": "1.5.0",
          "state": {
            "_model_module": "@jupyter-widgets/controls",
            "_model_module_version": "1.5.0",
            "_model_name": "ProgressStyleModel",
            "_view_count": null,
            "_view_module": "@jupyter-widgets/base",
            "_view_module_version": "1.2.0",
            "_view_name": "StyleView",
            "bar_color": null,
            "description_width": ""
          }
        },
        "8a17ec8fcee44523972be929399d5b5e": {
          "model_module": "@jupyter-widgets/base",
          "model_name": "LayoutModel",
          "model_module_version": "1.2.0",
          "state": {
            "_model_module": "@jupyter-widgets/base",
            "_model_module_version": "1.2.0",
            "_model_name": "LayoutModel",
            "_view_count": null,
            "_view_module": "@jupyter-widgets/base",
            "_view_module_version": "1.2.0",
            "_view_name": "LayoutView",
            "align_content": null,
            "align_items": null,
            "align_self": null,
            "border": null,
            "bottom": null,
            "display": null,
            "flex": null,
            "flex_flow": null,
            "grid_area": null,
            "grid_auto_columns": null,
            "grid_auto_flow": null,
            "grid_auto_rows": null,
            "grid_column": null,
            "grid_gap": null,
            "grid_row": null,
            "grid_template_areas": null,
            "grid_template_columns": null,
            "grid_template_rows": null,
            "height": null,
            "justify_content": null,
            "justify_items": null,
            "left": null,
            "margin": null,
            "max_height": null,
            "max_width": null,
            "min_height": null,
            "min_width": null,
            "object_fit": null,
            "object_position": null,
            "order": null,
            "overflow": null,
            "overflow_x": null,
            "overflow_y": null,
            "padding": null,
            "right": null,
            "top": null,
            "visibility": null,
            "width": null
          }
        },
        "2bccd91da74241dba90aeeac32a1688b": {
          "model_module": "@jupyter-widgets/controls",
          "model_name": "DescriptionStyleModel",
          "model_module_version": "1.5.0",
          "state": {
            "_model_module": "@jupyter-widgets/controls",
            "_model_module_version": "1.5.0",
            "_model_name": "DescriptionStyleModel",
            "_view_count": null,
            "_view_module": "@jupyter-widgets/base",
            "_view_module_version": "1.2.0",
            "_view_name": "StyleView",
            "description_width": ""
          }
        },
        "4dc1092dae504b4098721aca21ad0705": {
          "model_module": "@jupyter-widgets/controls",
          "model_name": "HBoxModel",
          "model_module_version": "1.5.0",
          "state": {
            "_dom_classes": [],
            "_model_module": "@jupyter-widgets/controls",
            "_model_module_version": "1.5.0",
            "_model_name": "HBoxModel",
            "_view_count": null,
            "_view_module": "@jupyter-widgets/controls",
            "_view_module_version": "1.5.0",
            "_view_name": "HBoxView",
            "box_style": "",
            "children": [
              "IPY_MODEL_f6336ca7edc74d189077a61e75522745",
              "IPY_MODEL_90f64783b7384bbbb01c707e65a5adb5",
              "IPY_MODEL_7a698ac3ef0447fcb44ae00206da625d"
            ],
            "layout": "IPY_MODEL_592e58f59a274ffcae7c914954e83a53"
          }
        },
        "f6336ca7edc74d189077a61e75522745": {
          "model_module": "@jupyter-widgets/controls",
          "model_name": "HTMLModel",
          "model_module_version": "1.5.0",
          "state": {
            "_dom_classes": [],
            "_model_module": "@jupyter-widgets/controls",
            "_model_module_version": "1.5.0",
            "_model_name": "HTMLModel",
            "_view_count": null,
            "_view_module": "@jupyter-widgets/controls",
            "_view_module_version": "1.5.0",
            "_view_name": "HTMLView",
            "description": "",
            "description_tooltip": null,
            "layout": "IPY_MODEL_48cea5d30ad14c72979fc93ec991f91d",
            "placeholder": "​",
            "style": "IPY_MODEL_a881792cfd1e4a4dba4de2b0684224dc",
            "value": "config.json: 100%"
          }
        },
        "90f64783b7384bbbb01c707e65a5adb5": {
          "model_module": "@jupyter-widgets/controls",
          "model_name": "FloatProgressModel",
          "model_module_version": "1.5.0",
          "state": {
            "_dom_classes": [],
            "_model_module": "@jupyter-widgets/controls",
            "_model_module_version": "1.5.0",
            "_model_name": "FloatProgressModel",
            "_view_count": null,
            "_view_module": "@jupyter-widgets/controls",
            "_view_module_version": "1.5.0",
            "_view_name": "ProgressView",
            "bar_style": "success",
            "description": "",
            "description_tooltip": null,
            "layout": "IPY_MODEL_de2e050592414a9ca2da5a42ba78a5bc",
            "max": 482,
            "min": 0,
            "orientation": "horizontal",
            "style": "IPY_MODEL_4be6be422d9643c791788d077975fde1",
            "value": 482
          }
        },
        "7a698ac3ef0447fcb44ae00206da625d": {
          "model_module": "@jupyter-widgets/controls",
          "model_name": "HTMLModel",
          "model_module_version": "1.5.0",
          "state": {
            "_dom_classes": [],
            "_model_module": "@jupyter-widgets/controls",
            "_model_module_version": "1.5.0",
            "_model_name": "HTMLModel",
            "_view_count": null,
            "_view_module": "@jupyter-widgets/controls",
            "_view_module_version": "1.5.0",
            "_view_name": "HTMLView",
            "description": "",
            "description_tooltip": null,
            "layout": "IPY_MODEL_178acb68200e4c2397ae64094c13370f",
            "placeholder": "​",
            "style": "IPY_MODEL_e6a76569af6747e8968678b113e80652",
            "value": " 482/482 [00:00&lt;00:00, 37.7kB/s]"
          }
        },
        "592e58f59a274ffcae7c914954e83a53": {
          "model_module": "@jupyter-widgets/base",
          "model_name": "LayoutModel",
          "model_module_version": "1.2.0",
          "state": {
            "_model_module": "@jupyter-widgets/base",
            "_model_module_version": "1.2.0",
            "_model_name": "LayoutModel",
            "_view_count": null,
            "_view_module": "@jupyter-widgets/base",
            "_view_module_version": "1.2.0",
            "_view_name": "LayoutView",
            "align_content": null,
            "align_items": null,
            "align_self": null,
            "border": null,
            "bottom": null,
            "display": null,
            "flex": null,
            "flex_flow": null,
            "grid_area": null,
            "grid_auto_columns": null,
            "grid_auto_flow": null,
            "grid_auto_rows": null,
            "grid_column": null,
            "grid_gap": null,
            "grid_row": null,
            "grid_template_areas": null,
            "grid_template_columns": null,
            "grid_template_rows": null,
            "height": null,
            "justify_content": null,
            "justify_items": null,
            "left": null,
            "margin": null,
            "max_height": null,
            "max_width": null,
            "min_height": null,
            "min_width": null,
            "object_fit": null,
            "object_position": null,
            "order": null,
            "overflow": null,
            "overflow_x": null,
            "overflow_y": null,
            "padding": null,
            "right": null,
            "top": null,
            "visibility": null,
            "width": null
          }
        },
        "48cea5d30ad14c72979fc93ec991f91d": {
          "model_module": "@jupyter-widgets/base",
          "model_name": "LayoutModel",
          "model_module_version": "1.2.0",
          "state": {
            "_model_module": "@jupyter-widgets/base",
            "_model_module_version": "1.2.0",
            "_model_name": "LayoutModel",
            "_view_count": null,
            "_view_module": "@jupyter-widgets/base",
            "_view_module_version": "1.2.0",
            "_view_name": "LayoutView",
            "align_content": null,
            "align_items": null,
            "align_self": null,
            "border": null,
            "bottom": null,
            "display": null,
            "flex": null,
            "flex_flow": null,
            "grid_area": null,
            "grid_auto_columns": null,
            "grid_auto_flow": null,
            "grid_auto_rows": null,
            "grid_column": null,
            "grid_gap": null,
            "grid_row": null,
            "grid_template_areas": null,
            "grid_template_columns": null,
            "grid_template_rows": null,
            "height": null,
            "justify_content": null,
            "justify_items": null,
            "left": null,
            "margin": null,
            "max_height": null,
            "max_width": null,
            "min_height": null,
            "min_width": null,
            "object_fit": null,
            "object_position": null,
            "order": null,
            "overflow": null,
            "overflow_x": null,
            "overflow_y": null,
            "padding": null,
            "right": null,
            "top": null,
            "visibility": null,
            "width": null
          }
        },
        "a881792cfd1e4a4dba4de2b0684224dc": {
          "model_module": "@jupyter-widgets/controls",
          "model_name": "DescriptionStyleModel",
          "model_module_version": "1.5.0",
          "state": {
            "_model_module": "@jupyter-widgets/controls",
            "_model_module_version": "1.5.0",
            "_model_name": "DescriptionStyleModel",
            "_view_count": null,
            "_view_module": "@jupyter-widgets/base",
            "_view_module_version": "1.2.0",
            "_view_name": "StyleView",
            "description_width": ""
          }
        },
        "de2e050592414a9ca2da5a42ba78a5bc": {
          "model_module": "@jupyter-widgets/base",
          "model_name": "LayoutModel",
          "model_module_version": "1.2.0",
          "state": {
            "_model_module": "@jupyter-widgets/base",
            "_model_module_version": "1.2.0",
            "_model_name": "LayoutModel",
            "_view_count": null,
            "_view_module": "@jupyter-widgets/base",
            "_view_module_version": "1.2.0",
            "_view_name": "LayoutView",
            "align_content": null,
            "align_items": null,
            "align_self": null,
            "border": null,
            "bottom": null,
            "display": null,
            "flex": null,
            "flex_flow": null,
            "grid_area": null,
            "grid_auto_columns": null,
            "grid_auto_flow": null,
            "grid_auto_rows": null,
            "grid_column": null,
            "grid_gap": null,
            "grid_row": null,
            "grid_template_areas": null,
            "grid_template_columns": null,
            "grid_template_rows": null,
            "height": null,
            "justify_content": null,
            "justify_items": null,
            "left": null,
            "margin": null,
            "max_height": null,
            "max_width": null,
            "min_height": null,
            "min_width": null,
            "object_fit": null,
            "object_position": null,
            "order": null,
            "overflow": null,
            "overflow_x": null,
            "overflow_y": null,
            "padding": null,
            "right": null,
            "top": null,
            "visibility": null,
            "width": null
          }
        },
        "4be6be422d9643c791788d077975fde1": {
          "model_module": "@jupyter-widgets/controls",
          "model_name": "ProgressStyleModel",
          "model_module_version": "1.5.0",
          "state": {
            "_model_module": "@jupyter-widgets/controls",
            "_model_module_version": "1.5.0",
            "_model_name": "ProgressStyleModel",
            "_view_count": null,
            "_view_module": "@jupyter-widgets/base",
            "_view_module_version": "1.2.0",
            "_view_name": "StyleView",
            "bar_color": null,
            "description_width": ""
          }
        },
        "178acb68200e4c2397ae64094c13370f": {
          "model_module": "@jupyter-widgets/base",
          "model_name": "LayoutModel",
          "model_module_version": "1.2.0",
          "state": {
            "_model_module": "@jupyter-widgets/base",
            "_model_module_version": "1.2.0",
            "_model_name": "LayoutModel",
            "_view_count": null,
            "_view_module": "@jupyter-widgets/base",
            "_view_module_version": "1.2.0",
            "_view_name": "LayoutView",
            "align_content": null,
            "align_items": null,
            "align_self": null,
            "border": null,
            "bottom": null,
            "display": null,
            "flex": null,
            "flex_flow": null,
            "grid_area": null,
            "grid_auto_columns": null,
            "grid_auto_flow": null,
            "grid_auto_rows": null,
            "grid_column": null,
            "grid_gap": null,
            "grid_row": null,
            "grid_template_areas": null,
            "grid_template_columns": null,
            "grid_template_rows": null,
            "height": null,
            "justify_content": null,
            "justify_items": null,
            "left": null,
            "margin": null,
            "max_height": null,
            "max_width": null,
            "min_height": null,
            "min_width": null,
            "object_fit": null,
            "object_position": null,
            "order": null,
            "overflow": null,
            "overflow_x": null,
            "overflow_y": null,
            "padding": null,
            "right": null,
            "top": null,
            "visibility": null,
            "width": null
          }
        },
        "e6a76569af6747e8968678b113e80652": {
          "model_module": "@jupyter-widgets/controls",
          "model_name": "DescriptionStyleModel",
          "model_module_version": "1.5.0",
          "state": {
            "_model_module": "@jupyter-widgets/controls",
            "_model_module_version": "1.5.0",
            "_model_name": "DescriptionStyleModel",
            "_view_count": null,
            "_view_module": "@jupyter-widgets/base",
            "_view_module_version": "1.2.0",
            "_view_name": "StyleView",
            "description_width": ""
          }
        },
        "02b5389be01f4bf28c0fe1884ba5aa02": {
          "model_module": "@jupyter-widgets/controls",
          "model_name": "HBoxModel",
          "model_module_version": "1.5.0",
          "state": {
            "_dom_classes": [],
            "_model_module": "@jupyter-widgets/controls",
            "_model_module_version": "1.5.0",
            "_model_name": "HBoxModel",
            "_view_count": null,
            "_view_module": "@jupyter-widgets/controls",
            "_view_module_version": "1.5.0",
            "_view_name": "HBoxView",
            "box_style": "",
            "children": [
              "IPY_MODEL_23265201284c4206bd5dee1ab088bfab",
              "IPY_MODEL_01485bc4b03341f6b6fe8e87d6b3028f",
              "IPY_MODEL_188a88df06ec43e5b9c8cfdb99e385b3"
            ],
            "layout": "IPY_MODEL_ad50ef1593ed4180be653edb273e2497"
          }
        },
        "23265201284c4206bd5dee1ab088bfab": {
          "model_module": "@jupyter-widgets/controls",
          "model_name": "HTMLModel",
          "model_module_version": "1.5.0",
          "state": {
            "_dom_classes": [],
            "_model_module": "@jupyter-widgets/controls",
            "_model_module_version": "1.5.0",
            "_model_name": "HTMLModel",
            "_view_count": null,
            "_view_module": "@jupyter-widgets/controls",
            "_view_module_version": "1.5.0",
            "_view_name": "HTMLView",
            "description": "",
            "description_tooltip": null,
            "layout": "IPY_MODEL_14d6554c1dfa44db8731af0ffb787c4b",
            "placeholder": "​",
            "style": "IPY_MODEL_931491d8c14645f997ba3e4c167f8ec5",
            "value": "vocab.json: 100%"
          }
        },
        "01485bc4b03341f6b6fe8e87d6b3028f": {
          "model_module": "@jupyter-widgets/controls",
          "model_name": "FloatProgressModel",
          "model_module_version": "1.5.0",
          "state": {
            "_dom_classes": [],
            "_model_module": "@jupyter-widgets/controls",
            "_model_module_version": "1.5.0",
            "_model_name": "FloatProgressModel",
            "_view_count": null,
            "_view_module": "@jupyter-widgets/controls",
            "_view_module_version": "1.5.0",
            "_view_name": "ProgressView",
            "bar_style": "success",
            "description": "",
            "description_tooltip": null,
            "layout": "IPY_MODEL_becb5d556d3349678b08f44fb2b9db6e",
            "max": 898823,
            "min": 0,
            "orientation": "horizontal",
            "style": "IPY_MODEL_956c42d726ed481881cd50ea22ca77ee",
            "value": 898823
          }
        },
        "188a88df06ec43e5b9c8cfdb99e385b3": {
          "model_module": "@jupyter-widgets/controls",
          "model_name": "HTMLModel",
          "model_module_version": "1.5.0",
          "state": {
            "_dom_classes": [],
            "_model_module": "@jupyter-widgets/controls",
            "_model_module_version": "1.5.0",
            "_model_name": "HTMLModel",
            "_view_count": null,
            "_view_module": "@jupyter-widgets/controls",
            "_view_module_version": "1.5.0",
            "_view_name": "HTMLView",
            "description": "",
            "description_tooltip": null,
            "layout": "IPY_MODEL_15e42074ad554ec8a9b222d6e6f0e5a9",
            "placeholder": "​",
            "style": "IPY_MODEL_73e7fd41af184e6aa00a6197dfcce99a",
            "value": " 899k/899k [00:00&lt;00:00, 3.68MB/s]"
          }
        },
        "ad50ef1593ed4180be653edb273e2497": {
          "model_module": "@jupyter-widgets/base",
          "model_name": "LayoutModel",
          "model_module_version": "1.2.0",
          "state": {
            "_model_module": "@jupyter-widgets/base",
            "_model_module_version": "1.2.0",
            "_model_name": "LayoutModel",
            "_view_count": null,
            "_view_module": "@jupyter-widgets/base",
            "_view_module_version": "1.2.0",
            "_view_name": "LayoutView",
            "align_content": null,
            "align_items": null,
            "align_self": null,
            "border": null,
            "bottom": null,
            "display": null,
            "flex": null,
            "flex_flow": null,
            "grid_area": null,
            "grid_auto_columns": null,
            "grid_auto_flow": null,
            "grid_auto_rows": null,
            "grid_column": null,
            "grid_gap": null,
            "grid_row": null,
            "grid_template_areas": null,
            "grid_template_columns": null,
            "grid_template_rows": null,
            "height": null,
            "justify_content": null,
            "justify_items": null,
            "left": null,
            "margin": null,
            "max_height": null,
            "max_width": null,
            "min_height": null,
            "min_width": null,
            "object_fit": null,
            "object_position": null,
            "order": null,
            "overflow": null,
            "overflow_x": null,
            "overflow_y": null,
            "padding": null,
            "right": null,
            "top": null,
            "visibility": null,
            "width": null
          }
        },
        "14d6554c1dfa44db8731af0ffb787c4b": {
          "model_module": "@jupyter-widgets/base",
          "model_name": "LayoutModel",
          "model_module_version": "1.2.0",
          "state": {
            "_model_module": "@jupyter-widgets/base",
            "_model_module_version": "1.2.0",
            "_model_name": "LayoutModel",
            "_view_count": null,
            "_view_module": "@jupyter-widgets/base",
            "_view_module_version": "1.2.0",
            "_view_name": "LayoutView",
            "align_content": null,
            "align_items": null,
            "align_self": null,
            "border": null,
            "bottom": null,
            "display": null,
            "flex": null,
            "flex_flow": null,
            "grid_area": null,
            "grid_auto_columns": null,
            "grid_auto_flow": null,
            "grid_auto_rows": null,
            "grid_column": null,
            "grid_gap": null,
            "grid_row": null,
            "grid_template_areas": null,
            "grid_template_columns": null,
            "grid_template_rows": null,
            "height": null,
            "justify_content": null,
            "justify_items": null,
            "left": null,
            "margin": null,
            "max_height": null,
            "max_width": null,
            "min_height": null,
            "min_width": null,
            "object_fit": null,
            "object_position": null,
            "order": null,
            "overflow": null,
            "overflow_x": null,
            "overflow_y": null,
            "padding": null,
            "right": null,
            "top": null,
            "visibility": null,
            "width": null
          }
        },
        "931491d8c14645f997ba3e4c167f8ec5": {
          "model_module": "@jupyter-widgets/controls",
          "model_name": "DescriptionStyleModel",
          "model_module_version": "1.5.0",
          "state": {
            "_model_module": "@jupyter-widgets/controls",
            "_model_module_version": "1.5.0",
            "_model_name": "DescriptionStyleModel",
            "_view_count": null,
            "_view_module": "@jupyter-widgets/base",
            "_view_module_version": "1.2.0",
            "_view_name": "StyleView",
            "description_width": ""
          }
        },
        "becb5d556d3349678b08f44fb2b9db6e": {
          "model_module": "@jupyter-widgets/base",
          "model_name": "LayoutModel",
          "model_module_version": "1.2.0",
          "state": {
            "_model_module": "@jupyter-widgets/base",
            "_model_module_version": "1.2.0",
            "_model_name": "LayoutModel",
            "_view_count": null,
            "_view_module": "@jupyter-widgets/base",
            "_view_module_version": "1.2.0",
            "_view_name": "LayoutView",
            "align_content": null,
            "align_items": null,
            "align_self": null,
            "border": null,
            "bottom": null,
            "display": null,
            "flex": null,
            "flex_flow": null,
            "grid_area": null,
            "grid_auto_columns": null,
            "grid_auto_flow": null,
            "grid_auto_rows": null,
            "grid_column": null,
            "grid_gap": null,
            "grid_row": null,
            "grid_template_areas": null,
            "grid_template_columns": null,
            "grid_template_rows": null,
            "height": null,
            "justify_content": null,
            "justify_items": null,
            "left": null,
            "margin": null,
            "max_height": null,
            "max_width": null,
            "min_height": null,
            "min_width": null,
            "object_fit": null,
            "object_position": null,
            "order": null,
            "overflow": null,
            "overflow_x": null,
            "overflow_y": null,
            "padding": null,
            "right": null,
            "top": null,
            "visibility": null,
            "width": null
          }
        },
        "956c42d726ed481881cd50ea22ca77ee": {
          "model_module": "@jupyter-widgets/controls",
          "model_name": "ProgressStyleModel",
          "model_module_version": "1.5.0",
          "state": {
            "_model_module": "@jupyter-widgets/controls",
            "_model_module_version": "1.5.0",
            "_model_name": "ProgressStyleModel",
            "_view_count": null,
            "_view_module": "@jupyter-widgets/base",
            "_view_module_version": "1.2.0",
            "_view_name": "StyleView",
            "bar_color": null,
            "description_width": ""
          }
        },
        "15e42074ad554ec8a9b222d6e6f0e5a9": {
          "model_module": "@jupyter-widgets/base",
          "model_name": "LayoutModel",
          "model_module_version": "1.2.0",
          "state": {
            "_model_module": "@jupyter-widgets/base",
            "_model_module_version": "1.2.0",
            "_model_name": "LayoutModel",
            "_view_count": null,
            "_view_module": "@jupyter-widgets/base",
            "_view_module_version": "1.2.0",
            "_view_name": "LayoutView",
            "align_content": null,
            "align_items": null,
            "align_self": null,
            "border": null,
            "bottom": null,
            "display": null,
            "flex": null,
            "flex_flow": null,
            "grid_area": null,
            "grid_auto_columns": null,
            "grid_auto_flow": null,
            "grid_auto_rows": null,
            "grid_column": null,
            "grid_gap": null,
            "grid_row": null,
            "grid_template_areas": null,
            "grid_template_columns": null,
            "grid_template_rows": null,
            "height": null,
            "justify_content": null,
            "justify_items": null,
            "left": null,
            "margin": null,
            "max_height": null,
            "max_width": null,
            "min_height": null,
            "min_width": null,
            "object_fit": null,
            "object_position": null,
            "order": null,
            "overflow": null,
            "overflow_x": null,
            "overflow_y": null,
            "padding": null,
            "right": null,
            "top": null,
            "visibility": null,
            "width": null
          }
        },
        "73e7fd41af184e6aa00a6197dfcce99a": {
          "model_module": "@jupyter-widgets/controls",
          "model_name": "DescriptionStyleModel",
          "model_module_version": "1.5.0",
          "state": {
            "_model_module": "@jupyter-widgets/controls",
            "_model_module_version": "1.5.0",
            "_model_name": "DescriptionStyleModel",
            "_view_count": null,
            "_view_module": "@jupyter-widgets/base",
            "_view_module_version": "1.2.0",
            "_view_name": "StyleView",
            "description_width": ""
          }
        },
        "86ae30ac4f0f43baa83d54b704a1d4ad": {
          "model_module": "@jupyter-widgets/controls",
          "model_name": "HBoxModel",
          "model_module_version": "1.5.0",
          "state": {
            "_dom_classes": [],
            "_model_module": "@jupyter-widgets/controls",
            "_model_module_version": "1.5.0",
            "_model_name": "HBoxModel",
            "_view_count": null,
            "_view_module": "@jupyter-widgets/controls",
            "_view_module_version": "1.5.0",
            "_view_name": "HBoxView",
            "box_style": "",
            "children": [
              "IPY_MODEL_1c43ce603c9d4322a70797cd22f51fc7",
              "IPY_MODEL_548dc5a2706f424d9cf30b86489eecdc",
              "IPY_MODEL_952513f50570490481e4e59a99813921"
            ],
            "layout": "IPY_MODEL_a9e9b559b31d41b9ace83a9f84de3455"
          }
        },
        "1c43ce603c9d4322a70797cd22f51fc7": {
          "model_module": "@jupyter-widgets/controls",
          "model_name": "HTMLModel",
          "model_module_version": "1.5.0",
          "state": {
            "_dom_classes": [],
            "_model_module": "@jupyter-widgets/controls",
            "_model_module_version": "1.5.0",
            "_model_name": "HTMLModel",
            "_view_count": null,
            "_view_module": "@jupyter-widgets/controls",
            "_view_module_version": "1.5.0",
            "_view_name": "HTMLView",
            "description": "",
            "description_tooltip": null,
            "layout": "IPY_MODEL_6bb90f24a7c7454ba83d2b0b329e4234",
            "placeholder": "​",
            "style": "IPY_MODEL_cb85ad9fc32a41d1a29b3b347e7f2e69",
            "value": "merges.txt: 100%"
          }
        },
        "548dc5a2706f424d9cf30b86489eecdc": {
          "model_module": "@jupyter-widgets/controls",
          "model_name": "FloatProgressModel",
          "model_module_version": "1.5.0",
          "state": {
            "_dom_classes": [],
            "_model_module": "@jupyter-widgets/controls",
            "_model_module_version": "1.5.0",
            "_model_name": "FloatProgressModel",
            "_view_count": null,
            "_view_module": "@jupyter-widgets/controls",
            "_view_module_version": "1.5.0",
            "_view_name": "ProgressView",
            "bar_style": "success",
            "description": "",
            "description_tooltip": null,
            "layout": "IPY_MODEL_205f3d7449e64bfaa4128a3a31075288",
            "max": 456318,
            "min": 0,
            "orientation": "horizontal",
            "style": "IPY_MODEL_7b75ec2e6b6f42849d042e8163fb0bf6",
            "value": 456318
          }
        },
        "952513f50570490481e4e59a99813921": {
          "model_module": "@jupyter-widgets/controls",
          "model_name": "HTMLModel",
          "model_module_version": "1.5.0",
          "state": {
            "_dom_classes": [],
            "_model_module": "@jupyter-widgets/controls",
            "_model_module_version": "1.5.0",
            "_model_name": "HTMLModel",
            "_view_count": null,
            "_view_module": "@jupyter-widgets/controls",
            "_view_module_version": "1.5.0",
            "_view_name": "HTMLView",
            "description": "",
            "description_tooltip": null,
            "layout": "IPY_MODEL_83a4f3863ac044f2906c93ec2fa1aaee",
            "placeholder": "​",
            "style": "IPY_MODEL_f5983cbcb7bb49cea33c633baf6872d0",
            "value": " 456k/456k [00:00&lt;00:00, 35.5MB/s]"
          }
        },
        "a9e9b559b31d41b9ace83a9f84de3455": {
          "model_module": "@jupyter-widgets/base",
          "model_name": "LayoutModel",
          "model_module_version": "1.2.0",
          "state": {
            "_model_module": "@jupyter-widgets/base",
            "_model_module_version": "1.2.0",
            "_model_name": "LayoutModel",
            "_view_count": null,
            "_view_module": "@jupyter-widgets/base",
            "_view_module_version": "1.2.0",
            "_view_name": "LayoutView",
            "align_content": null,
            "align_items": null,
            "align_self": null,
            "border": null,
            "bottom": null,
            "display": null,
            "flex": null,
            "flex_flow": null,
            "grid_area": null,
            "grid_auto_columns": null,
            "grid_auto_flow": null,
            "grid_auto_rows": null,
            "grid_column": null,
            "grid_gap": null,
            "grid_row": null,
            "grid_template_areas": null,
            "grid_template_columns": null,
            "grid_template_rows": null,
            "height": null,
            "justify_content": null,
            "justify_items": null,
            "left": null,
            "margin": null,
            "max_height": null,
            "max_width": null,
            "min_height": null,
            "min_width": null,
            "object_fit": null,
            "object_position": null,
            "order": null,
            "overflow": null,
            "overflow_x": null,
            "overflow_y": null,
            "padding": null,
            "right": null,
            "top": null,
            "visibility": null,
            "width": null
          }
        },
        "6bb90f24a7c7454ba83d2b0b329e4234": {
          "model_module": "@jupyter-widgets/base",
          "model_name": "LayoutModel",
          "model_module_version": "1.2.0",
          "state": {
            "_model_module": "@jupyter-widgets/base",
            "_model_module_version": "1.2.0",
            "_model_name": "LayoutModel",
            "_view_count": null,
            "_view_module": "@jupyter-widgets/base",
            "_view_module_version": "1.2.0",
            "_view_name": "LayoutView",
            "align_content": null,
            "align_items": null,
            "align_self": null,
            "border": null,
            "bottom": null,
            "display": null,
            "flex": null,
            "flex_flow": null,
            "grid_area": null,
            "grid_auto_columns": null,
            "grid_auto_flow": null,
            "grid_auto_rows": null,
            "grid_column": null,
            "grid_gap": null,
            "grid_row": null,
            "grid_template_areas": null,
            "grid_template_columns": null,
            "grid_template_rows": null,
            "height": null,
            "justify_content": null,
            "justify_items": null,
            "left": null,
            "margin": null,
            "max_height": null,
            "max_width": null,
            "min_height": null,
            "min_width": null,
            "object_fit": null,
            "object_position": null,
            "order": null,
            "overflow": null,
            "overflow_x": null,
            "overflow_y": null,
            "padding": null,
            "right": null,
            "top": null,
            "visibility": null,
            "width": null
          }
        },
        "cb85ad9fc32a41d1a29b3b347e7f2e69": {
          "model_module": "@jupyter-widgets/controls",
          "model_name": "DescriptionStyleModel",
          "model_module_version": "1.5.0",
          "state": {
            "_model_module": "@jupyter-widgets/controls",
            "_model_module_version": "1.5.0",
            "_model_name": "DescriptionStyleModel",
            "_view_count": null,
            "_view_module": "@jupyter-widgets/base",
            "_view_module_version": "1.2.0",
            "_view_name": "StyleView",
            "description_width": ""
          }
        },
        "205f3d7449e64bfaa4128a3a31075288": {
          "model_module": "@jupyter-widgets/base",
          "model_name": "LayoutModel",
          "model_module_version": "1.2.0",
          "state": {
            "_model_module": "@jupyter-widgets/base",
            "_model_module_version": "1.2.0",
            "_model_name": "LayoutModel",
            "_view_count": null,
            "_view_module": "@jupyter-widgets/base",
            "_view_module_version": "1.2.0",
            "_view_name": "LayoutView",
            "align_content": null,
            "align_items": null,
            "align_self": null,
            "border": null,
            "bottom": null,
            "display": null,
            "flex": null,
            "flex_flow": null,
            "grid_area": null,
            "grid_auto_columns": null,
            "grid_auto_flow": null,
            "grid_auto_rows": null,
            "grid_column": null,
            "grid_gap": null,
            "grid_row": null,
            "grid_template_areas": null,
            "grid_template_columns": null,
            "grid_template_rows": null,
            "height": null,
            "justify_content": null,
            "justify_items": null,
            "left": null,
            "margin": null,
            "max_height": null,
            "max_width": null,
            "min_height": null,
            "min_width": null,
            "object_fit": null,
            "object_position": null,
            "order": null,
            "overflow": null,
            "overflow_x": null,
            "overflow_y": null,
            "padding": null,
            "right": null,
            "top": null,
            "visibility": null,
            "width": null
          }
        },
        "7b75ec2e6b6f42849d042e8163fb0bf6": {
          "model_module": "@jupyter-widgets/controls",
          "model_name": "ProgressStyleModel",
          "model_module_version": "1.5.0",
          "state": {
            "_model_module": "@jupyter-widgets/controls",
            "_model_module_version": "1.5.0",
            "_model_name": "ProgressStyleModel",
            "_view_count": null,
            "_view_module": "@jupyter-widgets/base",
            "_view_module_version": "1.2.0",
            "_view_name": "StyleView",
            "bar_color": null,
            "description_width": ""
          }
        },
        "83a4f3863ac044f2906c93ec2fa1aaee": {
          "model_module": "@jupyter-widgets/base",
          "model_name": "LayoutModel",
          "model_module_version": "1.2.0",
          "state": {
            "_model_module": "@jupyter-widgets/base",
            "_model_module_version": "1.2.0",
            "_model_name": "LayoutModel",
            "_view_count": null,
            "_view_module": "@jupyter-widgets/base",
            "_view_module_version": "1.2.0",
            "_view_name": "LayoutView",
            "align_content": null,
            "align_items": null,
            "align_self": null,
            "border": null,
            "bottom": null,
            "display": null,
            "flex": null,
            "flex_flow": null,
            "grid_area": null,
            "grid_auto_columns": null,
            "grid_auto_flow": null,
            "grid_auto_rows": null,
            "grid_column": null,
            "grid_gap": null,
            "grid_row": null,
            "grid_template_areas": null,
            "grid_template_columns": null,
            "grid_template_rows": null,
            "height": null,
            "justify_content": null,
            "justify_items": null,
            "left": null,
            "margin": null,
            "max_height": null,
            "max_width": null,
            "min_height": null,
            "min_width": null,
            "object_fit": null,
            "object_position": null,
            "order": null,
            "overflow": null,
            "overflow_x": null,
            "overflow_y": null,
            "padding": null,
            "right": null,
            "top": null,
            "visibility": null,
            "width": null
          }
        },
        "f5983cbcb7bb49cea33c633baf6872d0": {
          "model_module": "@jupyter-widgets/controls",
          "model_name": "DescriptionStyleModel",
          "model_module_version": "1.5.0",
          "state": {
            "_model_module": "@jupyter-widgets/controls",
            "_model_module_version": "1.5.0",
            "_model_name": "DescriptionStyleModel",
            "_view_count": null,
            "_view_module": "@jupyter-widgets/base",
            "_view_module_version": "1.2.0",
            "_view_name": "StyleView",
            "description_width": ""
          }
        },
        "48b0b557f3a247f289e5831bbc7ab9cc": {
          "model_module": "@jupyter-widgets/controls",
          "model_name": "HBoxModel",
          "model_module_version": "1.5.0",
          "state": {
            "_dom_classes": [],
            "_model_module": "@jupyter-widgets/controls",
            "_model_module_version": "1.5.0",
            "_model_name": "HBoxModel",
            "_view_count": null,
            "_view_module": "@jupyter-widgets/controls",
            "_view_module_version": "1.5.0",
            "_view_name": "HBoxView",
            "box_style": "",
            "children": [
              "IPY_MODEL_4c90926174174d9c80bb9146d536489d",
              "IPY_MODEL_7714daea4edb46528cd6a6ac7e26efb4",
              "IPY_MODEL_baa7ed92e0004294b63b015bf1f4653f"
            ],
            "layout": "IPY_MODEL_b864c63d32a74700aa0efa8e5a873390"
          }
        },
        "4c90926174174d9c80bb9146d536489d": {
          "model_module": "@jupyter-widgets/controls",
          "model_name": "HTMLModel",
          "model_module_version": "1.5.0",
          "state": {
            "_dom_classes": [],
            "_model_module": "@jupyter-widgets/controls",
            "_model_module_version": "1.5.0",
            "_model_name": "HTMLModel",
            "_view_count": null,
            "_view_module": "@jupyter-widgets/controls",
            "_view_module_version": "1.5.0",
            "_view_name": "HTMLView",
            "description": "",
            "description_tooltip": null,
            "layout": "IPY_MODEL_f6a5839d629a43409182f4fbdd01a43f",
            "placeholder": "​",
            "style": "IPY_MODEL_12f0a26ccee941feb3686a49b41c6787",
            "value": "tokenizer.json: 100%"
          }
        },
        "7714daea4edb46528cd6a6ac7e26efb4": {
          "model_module": "@jupyter-widgets/controls",
          "model_name": "FloatProgressModel",
          "model_module_version": "1.5.0",
          "state": {
            "_dom_classes": [],
            "_model_module": "@jupyter-widgets/controls",
            "_model_module_version": "1.5.0",
            "_model_name": "FloatProgressModel",
            "_view_count": null,
            "_view_module": "@jupyter-widgets/controls",
            "_view_module_version": "1.5.0",
            "_view_name": "ProgressView",
            "bar_style": "success",
            "description": "",
            "description_tooltip": null,
            "layout": "IPY_MODEL_679d2f0b509543438bb0f8888e234e9a",
            "max": 1355863,
            "min": 0,
            "orientation": "horizontal",
            "style": "IPY_MODEL_bf8e5706365642feb169a52b1e1fa33b",
            "value": 1355863
          }
        },
        "baa7ed92e0004294b63b015bf1f4653f": {
          "model_module": "@jupyter-widgets/controls",
          "model_name": "HTMLModel",
          "model_module_version": "1.5.0",
          "state": {
            "_dom_classes": [],
            "_model_module": "@jupyter-widgets/controls",
            "_model_module_version": "1.5.0",
            "_model_name": "HTMLModel",
            "_view_count": null,
            "_view_module": "@jupyter-widgets/controls",
            "_view_module_version": "1.5.0",
            "_view_name": "HTMLView",
            "description": "",
            "description_tooltip": null,
            "layout": "IPY_MODEL_d70481fa641849e19569e0cf5f795ffa",
            "placeholder": "​",
            "style": "IPY_MODEL_c173608ff6874c21806aa3ed650863ee",
            "value": " 1.36M/1.36M [00:00&lt;00:00, 4.43MB/s]"
          }
        },
        "b864c63d32a74700aa0efa8e5a873390": {
          "model_module": "@jupyter-widgets/base",
          "model_name": "LayoutModel",
          "model_module_version": "1.2.0",
          "state": {
            "_model_module": "@jupyter-widgets/base",
            "_model_module_version": "1.2.0",
            "_model_name": "LayoutModel",
            "_view_count": null,
            "_view_module": "@jupyter-widgets/base",
            "_view_module_version": "1.2.0",
            "_view_name": "LayoutView",
            "align_content": null,
            "align_items": null,
            "align_self": null,
            "border": null,
            "bottom": null,
            "display": null,
            "flex": null,
            "flex_flow": null,
            "grid_area": null,
            "grid_auto_columns": null,
            "grid_auto_flow": null,
            "grid_auto_rows": null,
            "grid_column": null,
            "grid_gap": null,
            "grid_row": null,
            "grid_template_areas": null,
            "grid_template_columns": null,
            "grid_template_rows": null,
            "height": null,
            "justify_content": null,
            "justify_items": null,
            "left": null,
            "margin": null,
            "max_height": null,
            "max_width": null,
            "min_height": null,
            "min_width": null,
            "object_fit": null,
            "object_position": null,
            "order": null,
            "overflow": null,
            "overflow_x": null,
            "overflow_y": null,
            "padding": null,
            "right": null,
            "top": null,
            "visibility": null,
            "width": null
          }
        },
        "f6a5839d629a43409182f4fbdd01a43f": {
          "model_module": "@jupyter-widgets/base",
          "model_name": "LayoutModel",
          "model_module_version": "1.2.0",
          "state": {
            "_model_module": "@jupyter-widgets/base",
            "_model_module_version": "1.2.0",
            "_model_name": "LayoutModel",
            "_view_count": null,
            "_view_module": "@jupyter-widgets/base",
            "_view_module_version": "1.2.0",
            "_view_name": "LayoutView",
            "align_content": null,
            "align_items": null,
            "align_self": null,
            "border": null,
            "bottom": null,
            "display": null,
            "flex": null,
            "flex_flow": null,
            "grid_area": null,
            "grid_auto_columns": null,
            "grid_auto_flow": null,
            "grid_auto_rows": null,
            "grid_column": null,
            "grid_gap": null,
            "grid_row": null,
            "grid_template_areas": null,
            "grid_template_columns": null,
            "grid_template_rows": null,
            "height": null,
            "justify_content": null,
            "justify_items": null,
            "left": null,
            "margin": null,
            "max_height": null,
            "max_width": null,
            "min_height": null,
            "min_width": null,
            "object_fit": null,
            "object_position": null,
            "order": null,
            "overflow": null,
            "overflow_x": null,
            "overflow_y": null,
            "padding": null,
            "right": null,
            "top": null,
            "visibility": null,
            "width": null
          }
        },
        "12f0a26ccee941feb3686a49b41c6787": {
          "model_module": "@jupyter-widgets/controls",
          "model_name": "DescriptionStyleModel",
          "model_module_version": "1.5.0",
          "state": {
            "_model_module": "@jupyter-widgets/controls",
            "_model_module_version": "1.5.0",
            "_model_name": "DescriptionStyleModel",
            "_view_count": null,
            "_view_module": "@jupyter-widgets/base",
            "_view_module_version": "1.2.0",
            "_view_name": "StyleView",
            "description_width": ""
          }
        },
        "679d2f0b509543438bb0f8888e234e9a": {
          "model_module": "@jupyter-widgets/base",
          "model_name": "LayoutModel",
          "model_module_version": "1.2.0",
          "state": {
            "_model_module": "@jupyter-widgets/base",
            "_model_module_version": "1.2.0",
            "_model_name": "LayoutModel",
            "_view_count": null,
            "_view_module": "@jupyter-widgets/base",
            "_view_module_version": "1.2.0",
            "_view_name": "LayoutView",
            "align_content": null,
            "align_items": null,
            "align_self": null,
            "border": null,
            "bottom": null,
            "display": null,
            "flex": null,
            "flex_flow": null,
            "grid_area": null,
            "grid_auto_columns": null,
            "grid_auto_flow": null,
            "grid_auto_rows": null,
            "grid_column": null,
            "grid_gap": null,
            "grid_row": null,
            "grid_template_areas": null,
            "grid_template_columns": null,
            "grid_template_rows": null,
            "height": null,
            "justify_content": null,
            "justify_items": null,
            "left": null,
            "margin": null,
            "max_height": null,
            "max_width": null,
            "min_height": null,
            "min_width": null,
            "object_fit": null,
            "object_position": null,
            "order": null,
            "overflow": null,
            "overflow_x": null,
            "overflow_y": null,
            "padding": null,
            "right": null,
            "top": null,
            "visibility": null,
            "width": null
          }
        },
        "bf8e5706365642feb169a52b1e1fa33b": {
          "model_module": "@jupyter-widgets/controls",
          "model_name": "ProgressStyleModel",
          "model_module_version": "1.5.0",
          "state": {
            "_model_module": "@jupyter-widgets/controls",
            "_model_module_version": "1.5.0",
            "_model_name": "ProgressStyleModel",
            "_view_count": null,
            "_view_module": "@jupyter-widgets/base",
            "_view_module_version": "1.2.0",
            "_view_name": "StyleView",
            "bar_color": null,
            "description_width": ""
          }
        },
        "d70481fa641849e19569e0cf5f795ffa": {
          "model_module": "@jupyter-widgets/base",
          "model_name": "LayoutModel",
          "model_module_version": "1.2.0",
          "state": {
            "_model_module": "@jupyter-widgets/base",
            "_model_module_version": "1.2.0",
            "_model_name": "LayoutModel",
            "_view_count": null,
            "_view_module": "@jupyter-widgets/base",
            "_view_module_version": "1.2.0",
            "_view_name": "LayoutView",
            "align_content": null,
            "align_items": null,
            "align_self": null,
            "border": null,
            "bottom": null,
            "display": null,
            "flex": null,
            "flex_flow": null,
            "grid_area": null,
            "grid_auto_columns": null,
            "grid_auto_flow": null,
            "grid_auto_rows": null,
            "grid_column": null,
            "grid_gap": null,
            "grid_row": null,
            "grid_template_areas": null,
            "grid_template_columns": null,
            "grid_template_rows": null,
            "height": null,
            "justify_content": null,
            "justify_items": null,
            "left": null,
            "margin": null,
            "max_height": null,
            "max_width": null,
            "min_height": null,
            "min_width": null,
            "object_fit": null,
            "object_position": null,
            "order": null,
            "overflow": null,
            "overflow_x": null,
            "overflow_y": null,
            "padding": null,
            "right": null,
            "top": null,
            "visibility": null,
            "width": null
          }
        },
        "c173608ff6874c21806aa3ed650863ee": {
          "model_module": "@jupyter-widgets/controls",
          "model_name": "DescriptionStyleModel",
          "model_module_version": "1.5.0",
          "state": {
            "_model_module": "@jupyter-widgets/controls",
            "_model_module_version": "1.5.0",
            "_model_name": "DescriptionStyleModel",
            "_view_count": null,
            "_view_module": "@jupyter-widgets/base",
            "_view_module_version": "1.2.0",
            "_view_name": "StyleView",
            "description_width": ""
          }
        },
        "0bc5e77a90924e928b5866c009ce172f": {
          "model_module": "@jupyter-widgets/controls",
          "model_name": "HBoxModel",
          "model_module_version": "1.5.0",
          "state": {
            "_dom_classes": [],
            "_model_module": "@jupyter-widgets/controls",
            "_model_module_version": "1.5.0",
            "_model_name": "HBoxModel",
            "_view_count": null,
            "_view_module": "@jupyter-widgets/controls",
            "_view_module_version": "1.5.0",
            "_view_name": "HBoxView",
            "box_style": "",
            "children": [
              "IPY_MODEL_30547bf920f44e3ea0067d8ac9498ff2",
              "IPY_MODEL_65d33766ce024902afe99bf88cc3ba90",
              "IPY_MODEL_1a9ca6257a7644809c6bbf915f4e1dea"
            ],
            "layout": "IPY_MODEL_2ea8921fe82e469a9670cd0931fae5a2"
          }
        },
        "30547bf920f44e3ea0067d8ac9498ff2": {
          "model_module": "@jupyter-widgets/controls",
          "model_name": "HTMLModel",
          "model_module_version": "1.5.0",
          "state": {
            "_dom_classes": [],
            "_model_module": "@jupyter-widgets/controls",
            "_model_module_version": "1.5.0",
            "_model_name": "HTMLModel",
            "_view_count": null,
            "_view_module": "@jupyter-widgets/controls",
            "_view_module_version": "1.5.0",
            "_view_name": "HTMLView",
            "description": "",
            "description_tooltip": null,
            "layout": "IPY_MODEL_76f57d2fd2a149f69ee4f72ed3388f1a",
            "placeholder": "​",
            "style": "IPY_MODEL_dd510f20134945f0b783e07cd4e2f10b",
            "value": "model.safetensors: 100%"
          }
        },
        "65d33766ce024902afe99bf88cc3ba90": {
          "model_module": "@jupyter-widgets/controls",
          "model_name": "FloatProgressModel",
          "model_module_version": "1.5.0",
          "state": {
            "_dom_classes": [],
            "_model_module": "@jupyter-widgets/controls",
            "_model_module_version": "1.5.0",
            "_model_name": "FloatProgressModel",
            "_view_count": null,
            "_view_module": "@jupyter-widgets/controls",
            "_view_module_version": "1.5.0",
            "_view_name": "ProgressView",
            "bar_style": "success",
            "description": "",
            "description_tooltip": null,
            "layout": "IPY_MODEL_24783767cdb74dc88665d57c0daef17b",
            "max": 1421700479,
            "min": 0,
            "orientation": "horizontal",
            "style": "IPY_MODEL_485b283fafc74cd4ac19da366e6bc573",
            "value": 1421700479
          }
        },
        "1a9ca6257a7644809c6bbf915f4e1dea": {
          "model_module": "@jupyter-widgets/controls",
          "model_name": "HTMLModel",
          "model_module_version": "1.5.0",
          "state": {
            "_dom_classes": [],
            "_model_module": "@jupyter-widgets/controls",
            "_model_module_version": "1.5.0",
            "_model_name": "HTMLModel",
            "_view_count": null,
            "_view_module": "@jupyter-widgets/controls",
            "_view_module_version": "1.5.0",
            "_view_name": "HTMLView",
            "description": "",
            "description_tooltip": null,
            "layout": "IPY_MODEL_33989e14923145f7a263cbe883626c32",
            "placeholder": "​",
            "style": "IPY_MODEL_ac74a2311dc24ac7b1e6bdad097d4307",
            "value": " 1.42G/1.42G [00:05&lt;00:00, 260MB/s]"
          }
        },
        "2ea8921fe82e469a9670cd0931fae5a2": {
          "model_module": "@jupyter-widgets/base",
          "model_name": "LayoutModel",
          "model_module_version": "1.2.0",
          "state": {
            "_model_module": "@jupyter-widgets/base",
            "_model_module_version": "1.2.0",
            "_model_name": "LayoutModel",
            "_view_count": null,
            "_view_module": "@jupyter-widgets/base",
            "_view_module_version": "1.2.0",
            "_view_name": "LayoutView",
            "align_content": null,
            "align_items": null,
            "align_self": null,
            "border": null,
            "bottom": null,
            "display": null,
            "flex": null,
            "flex_flow": null,
            "grid_area": null,
            "grid_auto_columns": null,
            "grid_auto_flow": null,
            "grid_auto_rows": null,
            "grid_column": null,
            "grid_gap": null,
            "grid_row": null,
            "grid_template_areas": null,
            "grid_template_columns": null,
            "grid_template_rows": null,
            "height": null,
            "justify_content": null,
            "justify_items": null,
            "left": null,
            "margin": null,
            "max_height": null,
            "max_width": null,
            "min_height": null,
            "min_width": null,
            "object_fit": null,
            "object_position": null,
            "order": null,
            "overflow": null,
            "overflow_x": null,
            "overflow_y": null,
            "padding": null,
            "right": null,
            "top": null,
            "visibility": null,
            "width": null
          }
        },
        "76f57d2fd2a149f69ee4f72ed3388f1a": {
          "model_module": "@jupyter-widgets/base",
          "model_name": "LayoutModel",
          "model_module_version": "1.2.0",
          "state": {
            "_model_module": "@jupyter-widgets/base",
            "_model_module_version": "1.2.0",
            "_model_name": "LayoutModel",
            "_view_count": null,
            "_view_module": "@jupyter-widgets/base",
            "_view_module_version": "1.2.0",
            "_view_name": "LayoutView",
            "align_content": null,
            "align_items": null,
            "align_self": null,
            "border": null,
            "bottom": null,
            "display": null,
            "flex": null,
            "flex_flow": null,
            "grid_area": null,
            "grid_auto_columns": null,
            "grid_auto_flow": null,
            "grid_auto_rows": null,
            "grid_column": null,
            "grid_gap": null,
            "grid_row": null,
            "grid_template_areas": null,
            "grid_template_columns": null,
            "grid_template_rows": null,
            "height": null,
            "justify_content": null,
            "justify_items": null,
            "left": null,
            "margin": null,
            "max_height": null,
            "max_width": null,
            "min_height": null,
            "min_width": null,
            "object_fit": null,
            "object_position": null,
            "order": null,
            "overflow": null,
            "overflow_x": null,
            "overflow_y": null,
            "padding": null,
            "right": null,
            "top": null,
            "visibility": null,
            "width": null
          }
        },
        "dd510f20134945f0b783e07cd4e2f10b": {
          "model_module": "@jupyter-widgets/controls",
          "model_name": "DescriptionStyleModel",
          "model_module_version": "1.5.0",
          "state": {
            "_model_module": "@jupyter-widgets/controls",
            "_model_module_version": "1.5.0",
            "_model_name": "DescriptionStyleModel",
            "_view_count": null,
            "_view_module": "@jupyter-widgets/base",
            "_view_module_version": "1.2.0",
            "_view_name": "StyleView",
            "description_width": ""
          }
        },
        "24783767cdb74dc88665d57c0daef17b": {
          "model_module": "@jupyter-widgets/base",
          "model_name": "LayoutModel",
          "model_module_version": "1.2.0",
          "state": {
            "_model_module": "@jupyter-widgets/base",
            "_model_module_version": "1.2.0",
            "_model_name": "LayoutModel",
            "_view_count": null,
            "_view_module": "@jupyter-widgets/base",
            "_view_module_version": "1.2.0",
            "_view_name": "LayoutView",
            "align_content": null,
            "align_items": null,
            "align_self": null,
            "border": null,
            "bottom": null,
            "display": null,
            "flex": null,
            "flex_flow": null,
            "grid_area": null,
            "grid_auto_columns": null,
            "grid_auto_flow": null,
            "grid_auto_rows": null,
            "grid_column": null,
            "grid_gap": null,
            "grid_row": null,
            "grid_template_areas": null,
            "grid_template_columns": null,
            "grid_template_rows": null,
            "height": null,
            "justify_content": null,
            "justify_items": null,
            "left": null,
            "margin": null,
            "max_height": null,
            "max_width": null,
            "min_height": null,
            "min_width": null,
            "object_fit": null,
            "object_position": null,
            "order": null,
            "overflow": null,
            "overflow_x": null,
            "overflow_y": null,
            "padding": null,
            "right": null,
            "top": null,
            "visibility": null,
            "width": null
          }
        },
        "485b283fafc74cd4ac19da366e6bc573": {
          "model_module": "@jupyter-widgets/controls",
          "model_name": "ProgressStyleModel",
          "model_module_version": "1.5.0",
          "state": {
            "_model_module": "@jupyter-widgets/controls",
            "_model_module_version": "1.5.0",
            "_model_name": "ProgressStyleModel",
            "_view_count": null,
            "_view_module": "@jupyter-widgets/base",
            "_view_module_version": "1.2.0",
            "_view_name": "StyleView",
            "bar_color": null,
            "description_width": ""
          }
        },
        "33989e14923145f7a263cbe883626c32": {
          "model_module": "@jupyter-widgets/base",
          "model_name": "LayoutModel",
          "model_module_version": "1.2.0",
          "state": {
            "_model_module": "@jupyter-widgets/base",
            "_model_module_version": "1.2.0",
            "_model_name": "LayoutModel",
            "_view_count": null,
            "_view_module": "@jupyter-widgets/base",
            "_view_module_version": "1.2.0",
            "_view_name": "LayoutView",
            "align_content": null,
            "align_items": null,
            "align_self": null,
            "border": null,
            "bottom": null,
            "display": null,
            "flex": null,
            "flex_flow": null,
            "grid_area": null,
            "grid_auto_columns": null,
            "grid_auto_flow": null,
            "grid_auto_rows": null,
            "grid_column": null,
            "grid_gap": null,
            "grid_row": null,
            "grid_template_areas": null,
            "grid_template_columns": null,
            "grid_template_rows": null,
            "height": null,
            "justify_content": null,
            "justify_items": null,
            "left": null,
            "margin": null,
            "max_height": null,
            "max_width": null,
            "min_height": null,
            "min_width": null,
            "object_fit": null,
            "object_position": null,
            "order": null,
            "overflow": null,
            "overflow_x": null,
            "overflow_y": null,
            "padding": null,
            "right": null,
            "top": null,
            "visibility": null,
            "width": null
          }
        },
        "ac74a2311dc24ac7b1e6bdad097d4307": {
          "model_module": "@jupyter-widgets/controls",
          "model_name": "DescriptionStyleModel",
          "model_module_version": "1.5.0",
          "state": {
            "_model_module": "@jupyter-widgets/controls",
            "_model_module_version": "1.5.0",
            "_model_name": "DescriptionStyleModel",
            "_view_count": null,
            "_view_module": "@jupyter-widgets/base",
            "_view_module_version": "1.2.0",
            "_view_name": "StyleView",
            "description_width": ""
          }
        }
      }
    }
  },
  "nbformat": 4,
  "nbformat_minor": 0
}