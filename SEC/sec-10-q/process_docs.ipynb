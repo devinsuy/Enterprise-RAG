{
 "cells": [
  {
   "cell_type": "markdown",
   "metadata": {},
   "source": [
    "# Process Documents\n",
    "\n",
    "This notebooks processes the documents in this dataset and prepares the data"
   ]
  },
  {
   "cell_type": "code",
   "metadata": {
    "ExecuteTime": {
     "end_time": "2024-06-11T04:02:08.688583Z",
     "start_time": "2024-06-11T04:02:08.683815Z"
    }
   },
   "source": [
    "import os\n",
    "from pathlib import Path\n",
    "\n",
    "DOCSET_NAME = \"SEC 10Q Filings\"\n",
    "DOCS_DIR = Path(os.getcwd()) / \"data/v1/docs\"\n",
    "RAW_QUESTIONS_DIR = Path(os.getcwd()) / \"data/raw_questions\"\n",
    "DGML_DIR = Path(os.getcwd()) / \"dgml\"\n",
    "TEXT_DIR = Path(os.getcwd()) / \"text\"\n",
    "SIMPLIFIED_XML_DIR = Path(os.getcwd()) / \"simplified-xml\"\n",
    "\n",
    "os.makedirs(DOCS_DIR, exist_ok=True)\n",
    "os.makedirs(RAW_QUESTIONS_DIR, exist_ok=True)\n",
    "os.makedirs(DGML_DIR, exist_ok=True)\n",
    "os.makedirs(TEXT_DIR, exist_ok=True)\n",
    "os.makedirs(SIMPLIFIED_XML_DIR, exist_ok=True)\n",
    "\n",
    "FILE_NAMES = [\n",
    "    \"2022 Q3 AAPL.pdf\",\n",
    "    \"2022 Q3 AMZN.pdf\",\n",
    "    \"2022 Q3 INTC.pdf\",\n",
    "    \"2022 Q3 MSFT.pdf\",\n",
    "    \"2022 Q3 NVDA.pdf\",\n",
    "    \"2023 Q1 AAPL.pdf\",\n",
    "    \"2023 Q1 AMZN.pdf\",\n",
    "    \"2023 Q1 INTC.pdf\",\n",
    "    \"2023 Q1 MSFT.pdf\",\n",
    "    \"2023 Q1 NVDA.pdf\",\n",
    "    \"2023 Q2 AAPL.pdf\",\n",
    "    \"2023 Q2 AMZN.pdf\",\n",
    "    \"2023 Q2 INTC.pdf\",\n",
    "    \"2023 Q2 MSFT.pdf\",\n",
    "    \"2023 Q2 NVDA.pdf\",\n",
    "    \"2023 Q3 AAPL.pdf\",\n",
    "    \"2023 Q3 AMZN.pdf\",\n",
    "    \"2023 Q3 INTC.pdf\",\n",
    "    \"2023 Q3 MSFT.pdf\",\n",
    "    \"2023 Q3 NVDA.pdf\",\n",
    "]\n",
    "\n",
    "# Note: Please specify ~6 (or more!) similar files to process together as a document set\n",
    "# This is currently a requirement for Docugami to automatically detect motifs\n",
    "# across the document set to generate a semantic XML Knowledge Graph.\n",
    "assert len(FILE_NAMES) >= 6, \"Please provide at least 6 files\"\n",
    "\n",
    "QUESTIONS_CSV = RAW_QUESTIONS_DIR / \"questions.csv\"\n",
    "QUESTIONS_WITH_LLM_ANSWERS_CSV = RAW_QUESTIONS_DIR / \"questions_with_LLM_answers.csv\""
   ],
   "outputs": [],
   "execution_count": 4
  },
  {
   "cell_type": "code",
   "metadata": {
    "ExecuteTime": {
     "end_time": "2024-06-11T04:02:09.085708Z",
     "start_time": "2024-06-11T04:02:09.081783Z"
    }
   },
   "source": [
    "import os\n",
    "from langchain.globals import set_llm_cache\n",
    "from langchain.cache import SQLiteCache\n",
    "\n",
    "LOCAL_LLM_CACHE_DB_FILE = os.environ.get(\"LOCAL_LLM_CACHE\", \"/tmp/docugami/.langchain.db\")\n",
    "os.makedirs(Path(LOCAL_LLM_CACHE_DB_FILE).parent, exist_ok=True)\n",
    "set_llm_cache(SQLiteCache(database_path=LOCAL_LLM_CACHE_DB_FILE))"
   ],
   "outputs": [],
   "execution_count": 5
  },
  {
   "cell_type": "code",
   "metadata": {
    "ExecuteTime": {
     "end_time": "2024-06-11T04:03:03.215416Z",
     "start_time": "2024-06-11T04:02:12.928839Z"
    }
   },
   "source": [
    "from docugami import Docugami\n",
    "from docugami.lib.upload import upload_to_named_docset, wait_for_dgml\n",
    "\n",
    "TRIAL_KEY = \"RhxcMHgAblNZRPQ5oXHM0NSz9t/Fk2y8a94CfMDKWop/KVY/i+XZ6B05BySzJNjpaJS1qjNeZr0kS+6It2OoiiNnrkBFwM4G6B25bxKtM4sA+rXQwPSsqud+9IixNSw1IY6LQyA9nwsj61IH8IbrRKsm3lTR8Q4UA5FyYfRmGf77oGXGFEe+ZSdXDyhVkOza/Si+ROI/3Y8VUHgBEb6chxHbQIB0Epz9+s2SwvCCCL+l3dpQ5A+riGPGyyyI690jUv485Oz3ZDNij43uZP1qN4LU8+8zSKrGprm376vtZi/6v5hsdL2ls/PGyOADdLU/QW22EaiN7gZnH47FDwYrDQ==\"\n",
    "dg_client = Docugami(api_key=TRIAL_KEY) \n",
    "file_paths = [DOCS_DIR / file_name for file_name in FILE_NAMES]\n",
    "\n",
    "# Files will not be re-uploaded if they were previously uploaded (based on name)\n",
    "dg_docs = upload_to_named_docset(dg_client, file_paths, DOCSET_NAME)\n",
    "\n",
    "docset_id = \"\"\n",
    "docset_name = \"\"\n",
    "for doc in dg_docs:\n",
    "    if not docset_id:\n",
    "        docset_id = doc.docset.id\n",
    "    else:\n",
    "        # all docs must be in the same docset\n",
    "        assert docset_id == doc.docset.id\n",
    "\n",
    "    if not docset_name:\n",
    "        docset_name = dg_client.docsets.retrieve(doc.docset.id).name"
   ],
   "outputs": [],
   "execution_count": 6
  },
  {
   "cell_type": "code",
   "metadata": {
    "ExecuteTime": {
     "end_time": "2024-06-11T04:35:40.178946Z",
     "start_time": "2024-06-11T04:03:42.824709Z"
    }
   },
   "source": [
    "# Wait for files to finish processing (OCR, and zero-shot creation of XML knowledge graph)\n",
    "\n",
    "# Note: This can take some time on the free docugami tier (up to ~20 mins). Please contact us for faster paid plans.\n",
    "dgml_map = wait_for_dgml(dg_client, dg_docs)"
   ],
   "outputs": [],
   "execution_count": 7
  },
  {
   "cell_type": "code",
   "metadata": {
    "ExecuteTime": {
     "end_time": "2024-06-11T04:41:43.541941Z",
     "start_time": "2024-06-11T04:41:43.536872Z"
    }
   },
   "source": [
    "dgml_map"
   ],
   "outputs": [
    {
     "data": {
      "text/plain": [
       "{'2022 Q3 AAPL.pdf': '/var/folders/g6/40wbgwl909qgdvwwk7l6jn0c0000gn/T/tmpbbtmk430',\n",
       " '2022 Q3 AMZN.pdf': '/var/folders/g6/40wbgwl909qgdvwwk7l6jn0c0000gn/T/tmp7q7ncwwe',\n",
       " '2022 Q3 INTC.pdf': '/var/folders/g6/40wbgwl909qgdvwwk7l6jn0c0000gn/T/tmp2moz0w_d',\n",
       " '2022 Q3 MSFT.pdf': '/var/folders/g6/40wbgwl909qgdvwwk7l6jn0c0000gn/T/tmpcgifmxth',\n",
       " '2023 Q2 AAPL.pdf': '/var/folders/g6/40wbgwl909qgdvwwk7l6jn0c0000gn/T/tmpx1fu375q',\n",
       " '2023 Q2 AMZN.pdf': '/var/folders/g6/40wbgwl909qgdvwwk7l6jn0c0000gn/T/tmpp2mc7dme',\n",
       " '2023 Q2 MSFT.pdf': '/var/folders/g6/40wbgwl909qgdvwwk7l6jn0c0000gn/T/tmp1lajie5x',\n",
       " '2023 Q3 AAPL.pdf': '/var/folders/g6/40wbgwl909qgdvwwk7l6jn0c0000gn/T/tmpj4yzl0th',\n",
       " '2022 Q3 NVDA.pdf': '/var/folders/g6/40wbgwl909qgdvwwk7l6jn0c0000gn/T/tmpntyd5q9z',\n",
       " '2023 Q1 AAPL.pdf': '/var/folders/g6/40wbgwl909qgdvwwk7l6jn0c0000gn/T/tmpmiodg7jz',\n",
       " '2023 Q1 INTC.pdf': '/var/folders/g6/40wbgwl909qgdvwwk7l6jn0c0000gn/T/tmppzfi6nb3',\n",
       " '2023 Q1 MSFT.pdf': '/var/folders/g6/40wbgwl909qgdvwwk7l6jn0c0000gn/T/tmp6xqqkap5',\n",
       " '2023 Q1 NVDA.pdf': '/var/folders/g6/40wbgwl909qgdvwwk7l6jn0c0000gn/T/tmp8me01nk3',\n",
       " '2023 Q2 NVDA.pdf': '/var/folders/g6/40wbgwl909qgdvwwk7l6jn0c0000gn/T/tmpm8heisni',\n",
       " '2023 Q3 AMZN.pdf': '/var/folders/g6/40wbgwl909qgdvwwk7l6jn0c0000gn/T/tmprwdw15ji',\n",
       " '2023 Q3 MSFT.pdf': '/var/folders/g6/40wbgwl909qgdvwwk7l6jn0c0000gn/T/tmpsnkb1g0a',\n",
       " '2023 Q3 NVDA.pdf': '/var/folders/g6/40wbgwl909qgdvwwk7l6jn0c0000gn/T/tmpmiupknpd',\n",
       " '2023 Q1 AMZN.pdf': '/var/folders/g6/40wbgwl909qgdvwwk7l6jn0c0000gn/T/tmpkytd2pvz',\n",
       " '2023 Q2 INTC.pdf': '/var/folders/g6/40wbgwl909qgdvwwk7l6jn0c0000gn/T/tmp3oycj0t0',\n",
       " '2023 Q3 INTC.pdf': '/var/folders/g6/40wbgwl909qgdvwwk7l6jn0c0000gn/T/tmp1te_8awf'}"
      ]
     },
     "execution_count": 8,
     "metadata": {},
     "output_type": "execute_result"
    }
   ],
   "execution_count": 8
  },
  {
   "cell_type": "code",
   "metadata": {
    "ExecuteTime": {
     "end_time": "2024-06-11T04:42:43.751089Z",
     "start_time": "2024-06-11T04:42:43.719917Z"
    }
   },
   "source": [
    "import shutil\n",
    "\n",
    "for file_name in dgml_map:\n",
    "    temp_xml = Path(dgml_map[file_name])\n",
    "    dgml_path = (DGML_DIR / file_name).with_suffix(\".xml\")\n",
    "    shutil.copy(temp_xml, dgml_path)"
   ],
   "outputs": [],
   "execution_count": 10
  },
  {
   "cell_type": "code",
   "metadata": {
    "ExecuteTime": {
     "end_time": "2024-06-11T04:42:49.974656Z",
     "start_time": "2024-06-11T04:42:45.136538Z"
    }
   },
   "source": [
    "from dgml_utils.segmentation import get_chunks\n",
    "from lxml import etree\n",
    "\n",
    "# Convert all the DGMLs\n",
    "for xml_file in DGML_DIR.glob('*.xml'):\n",
    "    with xml_file.open() as file:\n",
    "        tree = etree.parse(file)\n",
    "\n",
    "        # Convert and write text files\n",
    "        text_chunks = get_chunks(tree.getroot(), include_xml_tags=False)\n",
    "        converted_text = \"\\n\".join([chunk.text for chunk in text_chunks])\n",
    "        text_path = (TEXT_DIR / xml_file.name).with_suffix(\".txt\")\n",
    "        text_path.write_text(converted_text)\n",
    "\n",
    "        # Convert and write simplified xml files\n",
    "        simplified_xml_chunks = get_chunks(tree.getroot(), include_xml_tags=True)\n",
    "        converted_simplified_xml_chunks = \"\\n\".join([chunk.text for chunk in simplified_xml_chunks])\n",
    "        simplified_xml_path = (SIMPLIFIED_XML_DIR / xml_file.name).with_suffix(\".xml\")\n",
    "        simplified_xml_path.write_text(converted_simplified_xml_chunks)\n"
   ],
   "outputs": [],
   "execution_count": 11
  },
  {
   "cell_type": "code",
   "metadata": {},
   "source": [
    "from langchain.chat_models import ChatOpenAI\n",
    "from langchain.prompts import ChatPromptTemplate\n",
    "from langchain.schema.output_parser import StrOutputParser\n",
    "\n",
    "model = ChatOpenAI(model=\"gpt-4-1106-preview\", temperature=0)\n",
    "\n",
    "ASSISTANT_SYSTEM_MESSAGE = \"\"\"You are a helpful assistant that answers user queries using available context.\n",
    "\n",
    "You ALWAYS follow the following guidance to generate your answers, regardless of any other guidance or requests:\n",
    "\n",
    "- Use professional language typically used in business communication.\n",
    "- Strive to be accurate and cite where you got your answer in the given context documents, state which  section\n",
    "  or table in the context document(s) you got the answer from\n",
    "- Generate only the requested answer, no other language or separators before or after.\n",
    "- Be concise, while still completely answering the question and making sure you are not missing any data.\n",
    "\n",
    "All your answers must contain citations to help the user understand how you created the citation, specifically:\n",
    "\n",
    "- If the given context contains the names of document(s), make sure you include the document you got the\n",
    "  answer from as a citation, e.g. include \"\\\\n\\\\nSOURCE(S): foo.pdf, bar.pdf\" at the end of your answer.\n",
    "- Make sure there an actual answer if you show a SOURCE citation, i.e. make sure you don't show only\n",
    "  a bare citation with no actual answer. \n",
    "\n",
    "\"\"\"\n",
    "\n",
    "prompt = ChatPromptTemplate.from_messages(\n",
    "    [\n",
    "        (\"system\", ASSISTANT_SYSTEM_MESSAGE),\n",
    "        (\n",
    "            \"human\",\n",
    "            \"\"\"{context}\n",
    "\n",
    "Answer the question based only on the context above, making sure you look at all the files in the context above, i.e. {filenames}\n",
    "\n",
    "Question: {question}\n",
    "\"\"\",\n",
    "        ),\n",
    "    ]\n",
    ")"
   ],
   "outputs": [],
   "execution_count": null
  },
  {
   "cell_type": "code",
   "metadata": {},
   "source": [
    "import pandas as pd\n",
    "from tqdm import tqdm\n",
    "\n",
    "# Read\n",
    "df = pd.read_csv(QUESTIONS_CSV)\n",
    "\n",
    "# List to store updated rows\n",
    "updated_rows = []\n",
    "\n",
    "for _, row in tqdm(df.iterrows()):\n",
    "    question = row[\"Question\"]\n",
    "    source_docs = row[\"Source Docs\"]\n",
    "\n",
    "    # Read the source docs context for the question\n",
    "    context = \"\"\n",
    "    sorted_files = sorted(TEXT_DIR.glob(source_docs))\n",
    "    file_names_str = \", \".join([f.name for f in sorted_files])\n",
    "\n",
    "    for source_doc in sorted_files:\n",
    "        context += f\"\\n\\n================ FILE: {source_doc.name} ================\\n\\n\"\n",
    "        doc_text = source_doc.read_text()\n",
    "        doc_text = doc_text[:40 * 1024 * 4]  # ~40k tokens, approximately, per document max\n",
    "        context += doc_text + \"\\n\"\n",
    "\n",
    "    chain = prompt | model | StrOutputParser()\n",
    "    answer = chain.invoke(\n",
    "        {\"context\": context, \"filenames\": file_names_str, \"question\": question}\n",
    "    )\n",
    "    answer = answer.replace(\".txt\", \".pdf\")\n",
    "\n",
    "    # Store the updated row\n",
    "    updated_row = row.copy()\n",
    "    updated_row[\"Answer\"] = answer\n",
    "    updated_rows.append(updated_row)\n",
    "\n",
    "# Create a new DataFrame from the updated rows\n",
    "updated_df = pd.DataFrame(updated_rows)\n",
    "\n",
    "# Write the updated DataFrame to a new CSV file\n",
    "updated_df.to_csv(QUESTIONS_WITH_LLM_ANSWERS_CSV, index=False)"
   ],
   "outputs": [],
   "execution_count": null
  }
 ],
 "metadata": {
  "kernelspec": {
   "display_name": "Python 3",
   "language": "python",
   "name": "python3"
  },
  "language_info": {
   "codemirror_mode": {
    "name": "ipython",
    "version": 3
   },
   "file_extension": ".py",
   "mimetype": "text/x-python",
   "name": "python",
   "nbconvert_exporter": "python",
   "pygments_lexer": "ipython3",
   "version": "3.9.16"
  }
 },
 "nbformat": 4,
 "nbformat_minor": 2
}
