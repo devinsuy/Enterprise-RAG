{
 "cells": [
  {
   "cell_type": "code",
   "execution_count": 9,
   "id": "db2fd16b-19ca-41d6-bdb0-40e827ecd700",
   "metadata": {},
   "outputs": [
    {
     "name": "stderr",
     "output_type": "stream",
     "text": [
      "/home/reson/miniconda3/envs/LangChain/lib/python3.12/site-packages/tqdm/auto.py:21: TqdmWarning: IProgress not found. Please update jupyter and ipywidgets. See https://ipywidgets.readthedocs.io/en/stable/user_install.html\n",
      "  from .autonotebook import tqdm as notebook_tqdm\n"
     ]
    }
   ],
   "source": [
    "import os\n",
    "import hashlib\n",
    "from langchain_community.vectorstores import Qdrant\n",
    "from langchain_experimental.text_splitter import SemanticChunker\n",
    "from langchain_text_splitters import RecursiveCharacterTextSplitter\n",
    "from langchain_community.embeddings import HuggingFaceEmbeddings\n",
    "from langchain.docstore.document import Document\n",
    "from langchain_core.prompts import ChatPromptTemplate\n",
    "from langchain_core.runnables import RunnablePassthrough\n",
    "from langchain_openai import ChatOpenAI\n",
    "from transformers import AutoModelForCausalLM, AutoTokenizer, AutoConfig, pipeline\n",
    "from langchain.llms import HuggingFacePipeline\n",
    "import pandas as pd"
   ]
  },
  {
   "cell_type": "code",
   "execution_count": 10,
   "id": "a45d62e4-87c8-4561-afd7-fe6223fda8b7",
   "metadata": {
    "scrolled": true
   },
   "outputs": [
    {
     "name": "stderr",
     "output_type": "stream",
     "text": [
      "You try to use a model that was created with version 3.0.0.dev0, however, your version is 2.6.1. This might cause unexpected behavior or errors. In that case, try to update to the latest version.\n",
      "\n",
      "\n",
      "\n"
     ]
    }
   ],
   "source": [
    "base_embeddings = HuggingFaceEmbeddings(model_name=\"multi-qa-mpnet-base-dot-v1\")"
   ]
  },
  {
   "cell_type": "markdown",
   "id": "691f888f-d7a1-4b95-ac93-a067a5811074",
   "metadata": {},
   "source": [
    "#### Load data"
   ]
  },
  {
   "cell_type": "code",
   "execution_count": 13,
   "id": "765abee5-2ede-46c0-bd46-666f473d2b7b",
   "metadata": {},
   "outputs": [],
   "source": [
    "df = pd.read_csv('./food_recipes.csv')"
   ]
  },
  {
   "cell_type": "code",
   "execution_count": 45,
   "id": "ad908eae-5a46-4257-b484-e0340c598c9b",
   "metadata": {},
   "outputs": [],
   "source": [
    "# Fill NaN values with empty strings\n",
    "df.fillna('', inplace=True)"
   ]
  },
  {
   "cell_type": "code",
   "execution_count": 46,
   "id": "e701347e-42db-48b6-bd4f-66d5e451a163",
   "metadata": {},
   "outputs": [],
   "source": [
    "text_splitter_recursive = RecursiveCharacterTextSplitter(chunk_size=1024, chunk_overlap=256)"
   ]
  },
  {
   "cell_type": "markdown",
   "id": "9faedcd8-450f-4633-ae68-bff6aa683808",
   "metadata": {},
   "source": [
    "### Create and chunk documents"
   ]
  },
  {
   "cell_type": "code",
   "execution_count": 47,
   "id": "ff2c54e7-caca-46f2-a8ad-c1f33fbd83e7",
   "metadata": {},
   "outputs": [],
   "source": [
    "def create_documents(df):\n",
    "    documents = []\n",
    "    for index, row in df.iterrows():\n",
    "        metadata = {\n",
    "            'recipe_title': row['recipe_title'],\n",
    "            'url': row['url'],\n",
    "            'rating': row['rating'],\n",
    "            'cuisine': row['cuisine'],\n",
    "            'course': row['course'],\n",
    "            'diet': row['diet'],\n",
    "            'author': row['author']\n",
    "        }\n",
    "\n",
    "        # Combine all text fields that will be chunked\n",
    "        text = f\"{row['description']} {row['ingredients']} {row['instructions']} {row['tags']}\"\n",
    "\n",
    "        # Create a Document object\n",
    "        doc = Document(page_content=text, metadata=metadata)\n",
    "        documents.append(doc)\n",
    "    \n",
    "    return documents"
   ]
  },
  {
   "cell_type": "code",
   "execution_count": 48,
   "id": "51b159e2-9ef1-4b32-9daa-734017fa738e",
   "metadata": {},
   "outputs": [],
   "source": [
    "documents = create_documents(df)"
   ]
  },
  {
   "cell_type": "code",
   "execution_count": 49,
   "id": "8cf07fde-7bf7-4a6f-bb7a-e3f746243333",
   "metadata": {},
   "outputs": [
    {
     "data": {
      "text/plain": [
       "Document(page_content=' is a quicker version pizza to satisfy your cravings. It is a very quick and easy recipe for days that you do not feel like cooking a full fledged meal. With the preference of toppings of your choice this pizza recipe is definitely a winner at any home. The toppings used in this  has some roasted peppers, mushroom with loaded cheese and marinara sauce. Enjoy this easy recipe with your favorite toppings.\\xa0 This is a great recipe, if you are looking for an Indian/Fusion Pizza or a Homemade Pizza recipe. Serve  along with  \\xa0and   for a weekend night dinner. If you like this recipe, you can also try other  for your weekend dinner: Tortillas|Extra Virgin Olive Oil|Garlic|Mozzarella cheese|Red Yellow or Green Bell Pepper (Capsicum)|Onions|Kalmatta olives|Button mushrooms To begin making the Roasted Peppers And Mushroom Tortilla Pizza recipe, turn your oven setting to broiler and keep it ready.|Grease your cast iron skillet with some olive oil and heat it over high heat.|When it starts to shimmer bring down the heat to medium. Add olive oil and minced garlic to the marinara sauce and stir to combine, keep aside.|Place one tortilla on the cast iron skillet. Spread a thin layer of marinara sauce over the tortilla.|Spread the cheese as needed. When the cheese starts to melt, add in the toppings which includes onion, mushrooms, olives and bell peppers.|Now shift the cast iron skillet to the oven which is already under broiler setting.|When you see the cheese all melted and top starting to brown, remove and slice to serve.|Serve\\xa0Roasted Peppers And Mushroom Tortilla Pizza\\xa0along with\\xa0|\\xa0and\\xa0|\\xa0for a weekend night dinner. Party Food Recipes|Tea Party Recipes|Mushroom Recipes|Fusion Recipes|Tortilla Recipe|Bell Peppers Recipes', metadata={'recipe_title': 'Roasted Peppers And Mushroom Tortilla Pizza Recipe', 'url': 'https://www.archanaskitchen.com/roasted-peppers-and-mushroom-tortilla-pizza-recipe', 'rating': 4.9585253456221, 'cuisine': 'Mexican', 'course': 'Dinner', 'diet': 'Vegetarian', 'author': 'Divya Shivaraman '})"
      ]
     },
     "execution_count": 49,
     "metadata": {},
     "output_type": "execute_result"
    }
   ],
   "source": [
    "documents[0]"
   ]
  },
  {
   "cell_type": "code",
   "execution_count": 50,
   "id": "d30219d5-0983-4726-bf42-3b3c6d7c6a46",
   "metadata": {
    "scrolled": true
   },
   "outputs": [],
   "source": [
    "def split_documents_with_metadata(documents, text_splitter):\n",
    "    split_docs = []\n",
    "    for doc in documents:\n",
    "        chunks = text_splitter.split_text(doc.page_content)\n",
    "        for i, chunk in enumerate(chunks):\n",
    "            split_docs.append(Document(page_content=chunk, metadata={**doc.metadata, \"chunk_id\": i}))\n",
    "    return split_docs"
   ]
  },
  {
   "cell_type": "code",
   "execution_count": 51,
   "id": "9b0f4687-79de-4edf-8a51-8826620d3e34",
   "metadata": {},
   "outputs": [],
   "source": [
    "split_documents = split_documents_with_metadata(documents, text_splitter_recursive)"
   ]
  },
  {
   "cell_type": "code",
   "execution_count": 52,
   "id": "33de446a-c82b-4235-a673-b0afcd7c9d2f",
   "metadata": {},
   "outputs": [],
   "source": [
    "# Generates a hash of the document text, strips out duplicates\n",
    "def deduplicate_documents(documents):\n",
    "    seen_hashes = set()\n",
    "    unique_documents = []\n",
    "    for doc in documents:\n",
    "        doc_hash = hashlib.md5(doc.page_content.encode('utf-8')).hexdigest()\n",
    "        if doc_hash not in seen_hashes:\n",
    "            seen_hashes.add(doc_hash)\n",
    "            unique_documents.append(doc)\n",
    "    return unique_documents"
   ]
  },
  {
   "cell_type": "code",
   "execution_count": 40,
   "id": "4564a765-406a-4916-b468-f8e5d8330d2d",
   "metadata": {},
   "outputs": [],
   "source": [
    "# Include university metadata in doc context\n",
    "\n",
    "def format_docs(docs, max_length=20000):\n",
    "    formatted_docs = []\n",
    "    for doc in docs:\n",
    "        formatted_docs.append(f\"Metadata: {doc.metadata['university']}\\nSource: {doc.metadata['source']}\\n\\n{doc.page_content}\")\n",
    "    content = \"\\n\\n\".join(formatted_docs)\n",
    "    tokens = tokenizer.tokenize(content)\n",
    "    if len(tokens) > max_length:\n",
    "        truncated_tokens = tokens[:max_length]\n",
    "        return tokenizer.convert_tokens_to_string(truncated_tokens)\n",
    "    return content\n"
   ]
  },
  {
   "cell_type": "code",
   "execution_count": 41,
   "id": "a6e6160c-5f5a-4dfe-bde8-e2173308a1d8",
   "metadata": {},
   "outputs": [
    {
     "data": {
      "text/plain": [
       "21209"
      ]
     },
     "execution_count": 41,
     "metadata": {},
     "output_type": "execute_result"
    }
   ],
   "source": [
    "len(split_documents)"
   ]
  },
  {
   "cell_type": "code",
   "execution_count": 42,
   "id": "cc1249ca-73c3-417a-8e92-864903613f07",
   "metadata": {},
   "outputs": [],
   "source": [
    "split_documents = deduplicate_documents(split_documents)"
   ]
  },
  {
   "cell_type": "code",
   "execution_count": 43,
   "id": "c8f0bc3a-36b2-41bc-8756-5d72b72216e9",
   "metadata": {},
   "outputs": [
    {
     "data": {
      "text/plain": [
       "21209"
      ]
     },
     "execution_count": 43,
     "metadata": {},
     "output_type": "execute_result"
    }
   ],
   "source": [
    "len(split_documents)"
   ]
  },
  {
   "cell_type": "code",
   "execution_count": 26,
   "id": "8c9a155a-c008-4b27-a7ab-0c1a65a1eb17",
   "metadata": {},
   "outputs": [
    {
     "data": {
      "text/plain": [
       "Document(page_content=\"\\nWriting the Personal Statement - Berkeley Graduate Division\\n\\nSkip to content\\n\\n\\t\\t\\t\\t\\t\\t\\t\\t\\tApply Now\\t\\t\\t\\t\\t\\t\\t\\t\\n\\nToggle Menu\\n\\nStudent Resources\\n\\nStaff Resources\\n (opens in a new tab)\\n\\nNews & Events\\n\\n\\t\\t\\t\\t\\t\\t\\t\\t\\tApply Now\\t\\t\\t\\t\\t\\t\\t\\t\\n\\n\\t\\t\\t\\t\\t\\t\\t\\t\\t\\t\\t\\tToggle Search\\t\\t\\t\\t\\t\\t\\t\\t\\t\\t\\t\\n\\nSearch for:\\n\\n\\t\\t\\t\\tSearch\\t\\t\\t\\n\\nAbout\\nAbout\\nAbout\\nThe Graduate Division serves more than 13,000 students in over 100 graduate degree programs. We are here to help you from the time you are admitted until you complete your graduate program. About the Graduate Division\\n\\nContact the Graduate Division\\n\\nWelcome from the Vice Provost and Dean\\n\\nDiversity Initiatives\\n\\nGraduate Diversity Task Force Recommendations\\n\\nAnti-Racism Initiatives\\n\\nLand Acknowledgement\\n\\nAdmissions\\nAdmissions\\nAdmissions\\nWe're thrilled you're considering Berkeley for your graduate study. We offer more than 100 programs for master's, professional, and doctoral students to pursue their dreams. Steps to Apply\\n\\nApply for Admission\\n\\nAdmissions Requirements\\n\\nTuition Costs & Fees\\n\\nAdmissions FAQ\\n\\nAccepting Your Offer\\n\\nChoosing Your Program\\n\\nGraduate Programs & Deadlines\\n\\nConcurrent Programs\\n\\nConnect with Us\\n\\nWhy Choose Berkeley? Why students choose Berkeley\\n\\nBerkeley Graduate Student Profile\\n\\nFinancial Support\\nFinancial Support\\nFinancial Support\\nWorking toward obtaining your graduate degree at Berkeley is an exciting and challenging endeavor, but funding your graduate education shouldn’t be your greatest challenge. Funding Your Graduate Education\\n\\nFinancial Support FAQ\\n\\nAbout Multi-Year Funding\\n\\nOptions for Financial Support\\n\\nFinancial Aid\\n\\nFellowships\\n\\nSupport for Student Parents & Caregivers\\n\\nAcademic Student Employment\\n\\nAppointment Handbook\\n\\nOpen GSI / GSR Positions\\n\\nFee Remissions\\n\\nAcademics\\nAcademics\\nAcademics\\nWe're here to support you as you progress through your degree, and help you understand the policies and procedures that inform your graduate education. Degree Progress\\n\\nDissertation Writing and Filing\\n\\nThesis Writing and Filing\\n\\nDeadlines\\n\\nAcademic Progress Advisors\\n\\nForms & Applications\\n\\nPolicies and Procedures\\n\\nGuide to Graduate Policy\\n\\nPolicy and Procedure Memos\\n\\nGraduate Student Academic Integrity\\n\\nStudent Accommodations\\n\\nProgram Proposals and Options\\n\\nGraduate Degree, Certificate, or Designated Emphasis Proposals\\n\\nInterdisciplinary Doctoral Programs\\n\\nExchange Programs with Other Universities\\n\\nProfessional Development\\nProfessional Development\\nProfessional Development\\nGradPro, the Graduate Writing Center, and the GSI Teaching & Resource Center can support you in your academic and professional development at all stages of your degree program and in preparing for your career. GradPro: Graduate Student Professional Development Resource Hub\\n\\nProfessional Development Guide\\n\\nCheck-in Groups\\n\\nResource Lists\\n\\nWorkshops and Events\\n\\nGradPro for Departments and Faculty\\n\\nContact Us\\n\\nGSI Teaching & Resource Center\\n (opens in a new tab)\\n\\nTeaching Guide for GSIs\\n (opens in a new tab)\\n\\nCertificate in Teaching and Learning in Higher Education\\n (opens in a new tab)\\n\\nWorkshops, Seminars, and Institutes\\n (opens in a new tab)\\n\\nLanguage Proficiency Program\\n (opens in a new tab)\\n\\nTeaching Consultations\\n (opens in a new tab)\\n\\nContact the GSI Teaching & Resource Center\\n (opens in a new tab)\\n\\nGraduate Writing Center\\n\\nDiversity\\nDiversity\\nDiversity\\nThe Office for Graduate Diversity provides support and services for prospective and continuing students in an effort to support and sustain a more diverse graduate student community. Prospective Students\\n\\nBerkeley Undergraduates\\n\\nCurrent Grad Students\\n\\nFunding\\n\\nBirgeneau Perelman Fund for Undocumented Graduate Students\\n\\nThe Future of Higher Education Postdoctoral Fellowship Program\\n\\nInitiatives\\n\\nContact OGD\\n\\nCampus Diversity Professionals\\n\\nConnect with the Diversity & Community Fellows\\n\\nGiving\\nGiving\\nGiving\\nYour gift allows us to deliver an inclusive, world-class experience to graduate students, so they can make a difference at Berkeley and beyond. Giving Opportunities\\n\\nGraduate Fellowship & Support Fund\\n\\nGraduate Student Experience Fund\\n\\nGraduate Diversity Support Fund\\n\\nWhy Give\\n\\nDonor Profiles\\n\\nStudent Profiles\\n\\nWays to Give\\n\\nPlanned Gifts\\n (opens in a new tab)\\n\\nContact Us\\n\\nGive Now\\n (opens in a new tab)\\n\\n\\t\\t\\t\\t\\t\\t\\t\\t\\t\\t\\t\\tToggle Search\\t\\t\\t\\t\\t\\t\\t\\t\\t\\t\\t\\n\\nSearch for:\\n\\n\\t\\t\\t\\tSearch\\t\\t\\t\\n\\nStudent Resources\\n\\nStaff Resources\\n (opens in a new tab)\\n\\nNews & Events\\n\\nGraduate Division on Twitter\\n (opens in a new tab)\\n\\nGraduate Division on LinkedIn\\n (opens in a new tab)\\n\\nGraduate Division on Instagram\\n (opens in a new tab)\\n\\nWriting the Personal Statement\\n\\nShow Submenu\\n\\nHide Submenu\\n\\nGraduate Admissions\\n\\nChoosing Your Program\\n\\nGraduate Programs & Deadlines to Apply\\n\\nConcurrent Degree Programs\\n\\nConnect with Us\\n\\nSteps to Apply\\n\\nApplying for Graduate Admission\\n\\nAdmissions Requirements\\n\\nWriting the Personal Statement\\n\\nWriting the Statement of Purpose\\n\\nRequesting an Application Fee Waiver\\n\\nExceptions for Applicants with Extenuating Circumstances\\n\\nTuition Costs & Fees\\n\\nFellowships for Entering Students\\n\\nAdmissions FAQ\\n\\nAccepting Your Offer of Admission\\n\\nWhy Choose Berkeley? Why students choose Berkeley\\n\\nBerkeley Graduate Student Profile\\n\\nHelpful tips and advice for drafting a compelling personal statement when applying for graduate admission. Make sure to check the appropriate \\nprogram website\\n to find out if your statement should include additional or specific information.\", metadata={'source': 'grad.berkeley.edu/admissions/steps-to-apply/requirements/personal-statement/', 'university': 'uc_berkeley_grad', 'chunk_id': 0})"
      ]
     },
     "execution_count": 26,
     "metadata": {},
     "output_type": "execute_result"
    }
   ],
   "source": [
    "split_documents[0]"
   ]
  },
  {
   "cell_type": "markdown",
   "id": "8029a6bb-aa22-40ad-bc66-75b6cfb8039b",
   "metadata": {},
   "source": [
    "#### Load documents into vector db"
   ]
  },
  {
   "cell_type": "code",
   "execution_count": 53,
   "id": "94481ff0-e211-4143-81f2-5e7f457a770c",
   "metadata": {},
   "outputs": [],
   "source": [
    "vectorstore = Qdrant.from_documents(split_documents,\n",
    "    base_embeddings,\n",
    "    location=\":memory:\",\n",
    ")"
   ]
  },
  {
   "cell_type": "code",
   "execution_count": 60,
   "id": "794c507a-811d-4e60-ab25-7798aa34d0c1",
   "metadata": {},
   "outputs": [],
   "source": [
    "retriever = vectorstore.as_retriever()"
   ]
  },
  {
   "cell_type": "markdown",
   "id": "953da7d0-b9da-46be-a30c-ac0cf8279e01",
   "metadata": {},
   "source": [
    "# Consumes ~ 7.6 GB VRAM to documents into db (using recursive chunking)"
   ]
  },
  {
   "cell_type": "code",
   "execution_count": 62,
   "id": "a1ef8f93-0640-4ccc-9c41-ced89ebf285f",
   "metadata": {},
   "outputs": [
    {
     "name": "stdout",
     "output_type": "stream",
     "text": [
      "Sat Jun 22 22:14:42 2024       \n",
      "+-----------------------------------------------------------------------------------------+\n",
      "| NVIDIA-SMI 555.42.02              Driver Version: 555.42.02      CUDA Version: 12.5     |\n",
      "|-----------------------------------------+------------------------+----------------------+\n",
      "| GPU  Name                 Persistence-M | Bus-Id          Disp.A | Volatile Uncorr. ECC |\n",
      "| Fan  Temp   Perf          Pwr:Usage/Cap |           Memory-Usage | GPU-Util  Compute M. |\n",
      "|                                         |                        |               MIG M. |\n",
      "|=========================================+========================+======================|\n",
      "|   0  NVIDIA GeForce RTX 4090        Off |   00000000:01:00.0  On |                  Off |\n",
      "|  0%   45C    P5             37W /  450W |    7619MiB /  24564MiB |     37%      Default |\n",
      "|                                         |                        |                  N/A |\n",
      "+-----------------------------------------+------------------------+----------------------+\n",
      "                                                                                         \n",
      "+-----------------------------------------------------------------------------------------+\n",
      "| Processes:                                                                              |\n",
      "|  GPU   GI   CI        PID   Type   Process name                              GPU Memory |\n",
      "|        ID   ID                                                               Usage      |\n",
      "|=========================================================================================|\n",
      "|    0   N/A  N/A      1910      G   /usr/lib/xorg/Xorg                            314MiB |\n",
      "|    0   N/A  N/A      5231      G   cinnamon                                       58MiB |\n",
      "|    0   N/A  N/A      5608      G   ...seed-version=20240614-130101.053000        216MiB |\n",
      "|    0   N/A  N/A     11316      C   ...iniconda3/envs/LangChain/bin/python       7000MiB |\n",
      "+-----------------------------------------------------------------------------------------+\n"
     ]
    },
    {
     "name": "stderr",
     "output_type": "stream",
     "text": [
      "huggingface/tokenizers: The current process just got forked, after parallelism has already been used. Disabling parallelism to avoid deadlocks...\n",
      "To disable this warning, you can either:\n",
      "\t- Avoid using `tokenizers` before the fork if possible\n",
      "\t- Explicitly set the environment variable TOKENIZERS_PARALLELISM=(true | false)\n"
     ]
    }
   ],
   "source": [
    "!nvidia-smi"
   ]
  },
  {
   "cell_type": "markdown",
   "id": "0f81d341-006c-4651-86dd-19087e935c2f",
   "metadata": {},
   "source": [
    "### Prompt definitions"
   ]
  },
  {
   "cell_type": "code",
   "execution_count": 70,
   "id": "9ba45437-5d41-4267-9b3d-a44f913cf220",
   "metadata": {},
   "outputs": [],
   "source": [
    "# We will need to tune this prompt\n",
    "\n",
    "baseline_user_prompt = \"\"\"\n",
    "You are a helpful assistant and expert in cooking recipes.\n",
    "You will be provided a list of relevant context about relevant food recipes\n",
    "which includes metadata like ingredients and cooking instructions.\n",
    "\n",
    "Provide a response to the user prompt about food with recommended recipes and instructions.\n",
    "\n",
    "### Here is a context:\n",
    "{context} \n",
    "\n",
    "### Here is a user prompt:\n",
    "{question}\n",
    "\"\"\""
   ]
  },
  {
   "cell_type": "code",
   "execution_count": 71,
   "id": "cd34fa25-5a5b-4e09-be6e-db3f879cb072",
   "metadata": {},
   "outputs": [],
   "source": [
    "rag_prompt = ChatPromptTemplate.from_template(baseline_user_prompt)"
   ]
  },
  {
   "cell_type": "code",
   "execution_count": 72,
   "id": "bf50ba19-d246-4e4d-8a2e-d7a68cab00df",
   "metadata": {},
   "outputs": [
    {
     "data": {
      "text/plain": [
       "ChatPromptValue(messages=[HumanMessage(content=\"\\nYou are a helpful assistant and expert in cooking recipes.\\nYou will be provided a list of relevant context about relevant food recipes\\nwhich includes metadata like ingredients and cooking instructions.\\n\\nProvide a response to the user prompt about food with recommended recipes and instructions.\\n\\n### Here is a context:\\n['abcd', 'efgh'] \\n\\n### Here is a user prompt:\\njklmnop?\\n\")])"
      ]
     },
     "execution_count": 72,
     "metadata": {},
     "output_type": "execute_result"
    }
   ],
   "source": [
    "rag_prompt.invoke({\n",
    "    \"context\": [\"abcd\", \"efgh\"],\n",
    "    \"question\": \"jklmnop?\"\n",
    "})"
   ]
  },
  {
   "cell_type": "markdown",
   "id": "26458e42-3261-4b0a-88e5-045c43ad91b9",
   "metadata": {},
   "source": [
    "### Pipe retriever and llm together"
   ]
  },
  {
   "cell_type": "markdown",
   "id": "89210e23-0475-4c65-95e2-4957c48ac248",
   "metadata": {},
   "source": [
    "#### Try with OpenAI GPT3.5 as baseline"
   ]
  },
  {
   "cell_type": "markdown",
   "id": "2bb0fdc3-5a4a-4470-af86-d7d1e78486f8",
   "metadata": {},
   "source": [
    "##### Requires OPENAI_API_KEY env var to be set"
   ]
  },
  {
   "cell_type": "code",
   "execution_count": 91,
   "id": "be787fdf-92c0-4a2b-8932-f62260af9ea7",
   "metadata": {},
   "outputs": [],
   "source": [
    "os.environ['OPENAI_API_KEY'] = \"\""
   ]
  },
  {
   "cell_type": "code",
   "execution_count": 74,
   "id": "bce9c92b-5f0d-4fd9-8433-ed8241d64cf3",
   "metadata": {},
   "outputs": [],
   "source": [
    "llm = ChatOpenAI(model_name=\"gpt-3.5-turbo\")"
   ]
  },
  {
   "cell_type": "code",
   "execution_count": 81,
   "id": "856d61fc-d6cb-4b26-a26b-cef8f489f7a2",
   "metadata": {},
   "outputs": [],
   "source": [
    "def format_docs(docs, max_length=20000):\n",
    "    formatted_docs = []\n",
    "    for doc in docs:\n",
    "        formatted_docs.append(f\"Metadata: {doc.metadata}\\n\")\n",
    "    content = \"\\n\\n\".join(formatted_docs)\n",
    "    # tokens = tokenizer.tokenize(content)\n",
    "    # if len(tokens) > max_length:\n",
    "    #     truncated_tokens = tokens[:max_length]\n",
    "    #     return tokenizer.convert_tokens_to_string(truncated_tokens)\n",
    "    return content"
   ]
  },
  {
   "cell_type": "code",
   "execution_count": 82,
   "id": "8fe66709-165d-4ed4-a07b-1bd64b770ee8",
   "metadata": {},
   "outputs": [],
   "source": [
    "rag_chain = (\n",
    "    {\"context\": retriever | format_docs,\n",
    "     \"question\": RunnablePassthrough() }\n",
    "    | rag_prompt\n",
    "    | llm\n",
    ")"
   ]
  },
  {
   "cell_type": "code",
   "execution_count": 83,
   "id": "200f7e25-b6df-4d87-9dcd-623258ceeebb",
   "metadata": {
    "scrolled": true
   },
   "outputs": [
    {
     "data": {
      "text/plain": [
       "\"Here are some healthy pizza recipes you can try:\\n\\n1. Italian Oat Crust Pizza Topped With Spinach And Paneer Recipe - This recipe is a fusion of Italian and Indian flavors, perfect for a healthy vegetarian lunch. You can find the recipe [here](https://www.archanaskitchen.com/italian-oat-crust-pizza-topped-withspinach-and-paneer).\\n\\n2. Healthy Fruit Pizza Recipe For Breakfast - If you're looking for a healthy breakfast option, this fruit pizza recipe is a great choice. It's vegetarian and full of nutritious ingredients. Check out the recipe [here](https://www.archanaskitchen.com/healthy-fruit-pizza-for-breakfast-recipe).\\n\\n3. Homemade Whole Wheat Pizza Dough Recipe - For a healthier pizza crust option, try making your own whole wheat pizza dough. Top it with roasted vegetables for a delicious and nutritious main course. You can find the recipe [here](https://www.archanaskitchen.com/whole-wheat-pizza-topped-with-roasted-vegetables).\\n\\n4. Harissa Roasted Carrot Pizza With Pomegranate Sauce & Greek Yogurt Recipe - This Mediterranean-inspired pizza is a unique and healthy option for dinner. The combination of flavors is sure to impress. Check out the recipe [here](https://www.archanaskitchen.com/harrisa-roasted-carrots-pizza-with-pomegranate-sauce-and-lebneh).\\n\\nEnjoy making these healthy pizza recipes!\""
      ]
     },
     "execution_count": 83,
     "metadata": {},
     "output_type": "execute_result"
    }
   ],
   "source": [
    "rag_chain.invoke(\"I want to make a healthy pizza\").content"
   ]
  },
  {
   "cell_type": "code",
   "execution_count": 84,
   "id": "a3c1fd4b-facc-4c6f-bb99-41d56556e139",
   "metadata": {},
   "outputs": [
    {
     "data": {
      "text/plain": [
       "\"I have some great healthy and vegetarian pizza recipes for you to try:\\n\\n1. No Yeast Thin Crust Veggie Pizza Recipe by Archana's Kitchen. You can find the recipe [here](https://www.archanaskitchen.com/no-yeast-thin-crust-veggie-pizza-recipe).\\n\\n2. Italian Oat Crust Pizza Topped With Spinach And Paneer Recipe by Archana Doshi. Check out the recipe [here](https://www.archanaskitchen.com/italian-oat-crust-pizza-topped-withspinach-and-paneer).\\n\\n3. Whole Wheat Crust Pizza With Zucchini And Basil Sauce by Archana Doshi. Recipe can be found [here](https://www.archanaskitchen.com/whole-wheat-crust-pizza-with-zucchini-and-basil-sauce).\\n\\n4. Multigrain Pizza with Roasted Vegetables Recipe by Archana Doshi. You can try this recipe [here](https://www.archanaskitchen.com/multigrain-whole-wheat-and-oats-pizza-with-roasted-vegetables-recipe).\\n\\nThese recipes are not only delicious but also healthy and vegetarian, perfect for your pizza cravings! Enjoy cooking!\""
      ]
     },
     "execution_count": 84,
     "metadata": {},
     "output_type": "execute_result"
    }
   ],
   "source": [
    "rag_chain.invoke(\"I want to make a healthy pizza. It should be vegetarian.\").content"
   ]
  },
  {
   "cell_type": "code",
   "execution_count": 85,
   "id": "57232f06-91ee-4bb5-9163-832eb536981a",
   "metadata": {},
   "outputs": [
    {
     "data": {
      "text/plain": [
       "'I recommend trying the \"Italian Oat Crust Pizza Topped With Spinach And Paneer Recipe\" for a healthy vegetarian pizza option. \\n\\nIngredients:\\n- 1 cup Rolled Oats\\n- 1/2 cup Whole Wheat Flour\\n- 1/2 tsp Salt\\n- 1/2 tsp Dried Basil\\n- 1/2 tsp Dried Oregano\\n- 1/2 tsp Red Chilli Flakes\\n- 1/2 cup Warm Water\\n- 1/2 cup Spinach, chopped\\n- 1/2 cup Paneer, crumbled\\n- 1/2 cup Mozzarella Cheese\\n- Salt and Pepper, to taste\\n- Olive Oil, for greasing\\n\\nInstructions:\\n1. Preheat the oven to 180°C.\\n2. In a bowl, mix rolled oats, whole wheat flour, salt, dried basil, dried oregano, and red chilli flakes.\\n3. Add warm water gradually and knead into a soft dough. Let it rest for 10 minutes.\\n4. Roll out the dough on a greased baking tray into a thin crust.\\n5. Bake the crust for 10 minutes.\\n6. Remove from the oven and top with chopped spinach, crumbled paneer, mozzarella cheese, salt, and pepper.\\n7. Bake for another 10-15 minutes until the cheese is melted and bubbly.\\n8. Slice and serve hot.\\n\\nYou can find the detailed recipe with step-by-step instructions at: [Italian Oat Crust Pizza Topped With Spinach And Paneer Recipe](https://www.archanaskitchen.com/italian-oat-crust-pizza-topped-withspinach-and-paneer)\\n\\nEnjoy your healthy vegetarian pizza!'"
      ]
     },
     "execution_count": 85,
     "metadata": {},
     "output_type": "execute_result"
    }
   ],
   "source": [
    "rag_chain.invoke(\"I want to make a healthy pizza. It should be vegetarian. Give me one recipe with ingredients and instructions\").content"
   ]
  },
  {
   "cell_type": "code",
   "execution_count": 86,
   "id": "237ed8d3-86f6-46c1-bf9b-d0af679bded7",
   "metadata": {},
   "outputs": [
    {
     "data": {
      "text/plain": [
       "'I recommend trying the \"Chinese Tacos (Salad Taco with Hot and Sweet Vegetables) - Fusion Recipe\" by Uma Raghuraman. This recipe combines Asian and Mexican flavors in a delicious vegetarian dish. \\n\\nIngredients:\\n- For the Hot & Sweet Vegetables:\\n  - 1 cup thinly sliced cabbage\\n  - 1/2 cup sliced bell peppers (red and yellow)\\n  - 1/4 cup sliced onions\\n  - 1/4 cup sliced carrots\\n  - 1/4 cup sliced capsicum\\n  - 1 tbsp soy sauce\\n  - 1 tbsp sweet chili sauce\\n  - 1 tsp vinegar\\n  - 1 tsp sugar\\n  - Salt to taste\\n- For the Salad Taco:\\n  - 4 lettuce leaves\\n  - 8 taco shells\\n  - 1/4 cup mayonnaise\\n  - 1/4 cup tomato ketchup\\n  - 1/2 cup grated cheese\\n\\nInstructions:\\n1. Heat oil in a pan and stir-fry all the vegetables for the hot & sweet filling.\\n2. Add soy sauce, sweet chili sauce, vinegar, sugar, and salt. Mix well and cook for a few minutes.\\n3. Mix mayonnaise and tomato ketchup to make the dressing for the salad taco.\\n4. To assemble, place lettuce leaves on a taco shell, top with the hot & sweet vegetables, drizzle the dressing, and sprinkle grated cheese.\\n5. Serve the Chinese Tacos immediately and enjoy the fusion flavors!\\n\\nYou can find the full recipe with detailed instructions at: [Chinese Tacos (Salad Taco with Hot and Sweet Vegetables) - Fusion Recipe](https://www.archanaskitchen.com/chinese-tacos-salad-taco-with-hot-and-sweet-vegetables-fusion-recipe). Enjoy your Asian fusion vegetarian meal!'"
      ]
     },
     "execution_count": 86,
     "metadata": {},
     "output_type": "execute_result"
    }
   ],
   "source": [
    "rag_chain.invoke(\"I enjoy asian fusion food and I am a vegetarian. Give me one recipe with ingredients and instructions\").content"
   ]
  },
  {
   "cell_type": "code",
   "execution_count": 87,
   "id": "f4279e6b-d1a1-4357-8d74-793d9ebd687c",
   "metadata": {},
   "outputs": [
    {
     "data": {
      "text/plain": [
       "'I recommend trying the \"Quick Cauliflower Fried Rice Recipe\" for a fast and delicious dinner option. \\n\\nIngredients:\\n- 2 cups cauliflower florets\\n- 1/2 cup mixed vegetables (carrots, peas, bell peppers)\\n- 2 tbsp oil\\n- 1/2 tsp ginger, minced\\n- 1/2 tsp garlic, minced\\n- 2 green chillies, finely chopped\\n- 2 tbsp soy sauce\\n- Salt, to taste\\n- Pepper, to taste\\n- Spring onions, for garnish\\n\\nInstructions:\\n1. Grate the cauliflower florets to make cauliflower rice.\\n2. Heat oil in a pan and add ginger, garlic, and green chillies. Saute for a minute.\\n3. Add the mixed vegetables and cook until they are slightly tender.\\n4. Add the cauliflower rice, soy sauce, salt, and pepper. Mix well.\\n5. Cook for 5-7 minutes until the cauliflower is cooked but still has a slight bite.\\n6. Garnish with chopped spring onions and serve hot.\\n\\nYou can find the detailed recipe with step-by-step instructions at: [Quick Cauliflower Fried Rice Recipe](https://www.archanaskitchen.com/quick-cauliflower-fried-rice-recipe). Enjoy your quick and tasty dinner!'"
      ]
     },
     "execution_count": 87,
     "metadata": {},
     "output_type": "execute_result"
    }
   ],
   "source": [
    "rag_chain.invoke(\"I am in a rush and want to cook an easy and quick dinner. Give me a recipe with ingredients and instructions\").content"
   ]
  },
  {
   "cell_type": "code",
   "execution_count": 90,
   "id": "58b608a4-4827-44bc-81d5-12e9d74fb9bc",
   "metadata": {},
   "outputs": [
    {
     "data": {
      "text/plain": [
       "'I recommend trying the \"Chicken, Mushroom And Broccoli Au Gratin Recipe\". It is a delicious and budget-friendly dish that falls under the American cuisine category. \\n\\nIngredients:\\n- 2 boneless, skinless chicken breasts\\n- 1 cup sliced mushrooms\\n- 1 cup broccoli florets\\n- 1/4 cup butter\\n- 1/4 cup all-purpose flour\\n- 1 1/2 cups milk\\n- 1 cup shredded cheddar cheese\\n- Salt and pepper to taste\\n- Bread crumbs for topping\\n\\nInstructions:\\n1. Preheat your oven to 350°F (175°C).\\n2. Cook the chicken breasts in a skillet until fully cooked, then slice them into thin strips.\\n3. In the same skillet, sauté the mushrooms and broccoli until they are slightly tender.\\n4. In a separate saucepan, melt the butter over medium heat. Stir in the flour and cook for about 1 minute.\\n5. Slowly pour in the milk while continuously stirring to avoid lumps. Cook until the sauce thickens.\\n6. Add in the cheddar cheese and stir until melted. Season with salt and pepper.\\n7. In a baking dish, layer the cooked chicken, mushrooms, and broccoli. Pour the cheese sauce over the top.\\n8. Sprinkle bread crumbs over the top for a crispy finish.\\n9. Bake in the preheated oven for about 20-25 minutes, or until the top is golden brown and bubbly.\\n10. Serve hot and enjoy your budget-friendly American dinner!\\n\\nYou can find the detailed recipe with step-by-step instructions at this link: [Chicken, Mushroom And Broccoli Au Gratin Recipe](https://www.archanaskitchen.com/chicken-mushroom-and-broccoli-au-gratin)\\n\\nI hope you enjoy this delicious and easy recipe for your dinner!'"
      ]
     },
     "execution_count": 90,
     "metadata": {},
     "output_type": "execute_result"
    }
   ],
   "source": [
    "rag_chain.invoke(\"I want to make a budget friendly dinner. I prefer american food. Give me a recipe with ingredients and instructions\").content"
   ]
  },
  {
   "cell_type": "code",
   "execution_count": null,
   "id": "c72555db-c843-4299-bd9e-6fc807025993",
   "metadata": {},
   "outputs": [],
   "source": []
  }
 ],
 "metadata": {
  "kernelspec": {
   "display_name": "Python 3 (ipykernel)",
   "language": "python",
   "name": "python3"
  },
  "language_info": {
   "codemirror_mode": {
    "name": "ipython",
    "version": 3
   },
   "file_extension": ".py",
   "mimetype": "text/x-python",
   "name": "python",
   "nbconvert_exporter": "python",
   "pygments_lexer": "ipython3",
   "version": "3.12.2"
  }
 },
 "nbformat": 4,
 "nbformat_minor": 5
}
