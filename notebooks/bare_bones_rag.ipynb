{
 "cells": [
  {
   "cell_type": "markdown",
   "id": "06ac9a3d-12aa-4101-8e1a-6d0a7ee94f0f",
   "metadata": {},
   "source": [
    "### This notebook does a bare bones implementation of RAG using the unprocessed MIDS intranet content as is, no tuning/tweaking. OpenAI gpt 3.5 is used as the llm"
   ]
  },
  {
   "cell_type": "code",
   "execution_count": 24,
   "id": "db2fd16b-19ca-41d6-bdb0-40e827ecd700",
   "metadata": {},
   "outputs": [],
   "source": [
    "import os\n",
    "import hashlib\n",
    "from langchain_community.vectorstores import Qdrant\n",
    "from langchain_experimental.text_splitter import SemanticChunker\n",
    "from langchain_community.embeddings import HuggingFaceEmbeddings\n",
    "from langchain.docstore.document import Document\n",
    "from langchain_core.prompts import ChatPromptTemplate\n",
    "from langchain_core.runnables import RunnablePassthrough\n",
    "from langchain_openai import ChatOpenAI"
   ]
  },
  {
   "cell_type": "code",
   "execution_count": 2,
   "id": "a45d62e4-87c8-4561-afd7-fe6223fda8b7",
   "metadata": {
    "scrolled": true
   },
   "outputs": [
    {
     "name": "stderr",
     "output_type": "stream",
     "text": [
      "/home/reson/miniconda3/envs/LangChain/lib/python3.12/site-packages/tqdm/auto.py:21: TqdmWarning: IProgress not found. Please update jupyter and ipywidgets. See https://ipywidgets.readthedocs.io/en/stable/user_install.html\n",
      "  from .autonotebook import tqdm as notebook_tqdm\n",
      "You try to use a model that was created with version 3.0.0.dev0, however, your version is 2.6.1. This might cause unexpected behavior or errors. In that case, try to update to the latest version.\n",
      "\n",
      "\n",
      "\n"
     ]
    }
   ],
   "source": [
    "base_embeddings = HuggingFaceEmbeddings(model_name=\"multi-qa-mpnet-base-dot-v1\")"
   ]
  },
  {
   "cell_type": "markdown",
   "id": "691f888f-d7a1-4b95-ac93-a067a5811074",
   "metadata": {},
   "source": [
    "#### Load data"
   ]
  },
  {
   "cell_type": "code",
   "execution_count": 3,
   "id": "2deef88c-9871-4c7a-91ef-d9b187524aa3",
   "metadata": {},
   "outputs": [],
   "source": [
    "def read_file(file_path):\n",
    "    with open(file_path, 'r', encoding='utf-8') as file:\n",
    "        return file.read()"
   ]
  },
  {
   "cell_type": "code",
   "execution_count": 4,
   "id": "0b76c6fd-276a-419b-bd6d-92a76c31b10b",
   "metadata": {},
   "outputs": [],
   "source": [
    "def create_document(file_path):\n",
    "    # Read the content of the file\n",
    "    content = read_file(file_path)\n",
    "    \n",
    "    file_name = os.path.basename(file_path)\\\n",
    "    \n",
    "    # Strip the .txt suffix and replace underscores with slashes\n",
    "    source_url = file_name.replace('.txt', '').replace('_', '/')\n",
    "    metadata = {\"source\": source_url}\n",
    "    \n",
    "    # Create a Document object with content and metadata\n",
    "    return Document(page_content=content, metadata=metadata)"
   ]
  },
  {
   "cell_type": "code",
   "execution_count": 5,
   "id": "29a7ab17-8c4f-4753-8823-250de15225a0",
   "metadata": {},
   "outputs": [],
   "source": [
    "def find_txt_files(directories):\n",
    "    txt_files = []\n",
    "    for directory in directories:\n",
    "        for root, _, files in os.walk(directory):\n",
    "            for file in files:\n",
    "                if file.endswith('.txt'):\n",
    "                    txt_files.append(os.path.join(root, file))\n",
    "    return txt_files"
   ]
  },
  {
   "cell_type": "code",
   "execution_count": 6,
   "id": "a994d0a8-6391-4409-8615-c008355e5b3c",
   "metadata": {},
   "outputs": [],
   "source": [
    "data_directories = [\n",
    "    '../data/mids_site_content/courses/without_whitespace',\n",
    "    '../data/mids_site_content/intranet/without_whitespace',\n",
    "    '../data/mids_site_content/public_pages/without_whitespace'\n",
    "]"
   ]
  },
  {
   "cell_type": "code",
   "execution_count": 7,
   "id": "098ad66b-4d2a-42e2-8f85-56d9c51a45eb",
   "metadata": {},
   "outputs": [],
   "source": [
    "file_paths = find_txt_files(data_directories)\n",
    "documents = [create_document(file_path) for file_path in file_paths]"
   ]
  },
  {
   "cell_type": "code",
   "execution_count": 29,
   "id": "d30219d5-0983-4726-bf42-3b3c6d7c6a46",
   "metadata": {
    "scrolled": true
   },
   "outputs": [
    {
     "data": {
      "text/plain": [
       "Document(page_content=\"Data Science 281. Computer Vision | UC Berkeley School of Information Skip to main content Submit UC Berkeley Give Volunteer Contact Us Alumni Alumni Get Involved & Give Back Sign Up to Volunteer Stay Connected I School Slack Alumni News Alumni Events Alumni Accounts Alumni Computing Services MIDS & MICS for Life Career Support Intranet Intranet For Students For MIMS Students MIMS Student Handbook MIMS Forms MIMS Final Project Advising Appointments Tuition & Fees Funding Your Education Technology Support Resources Conference Travel Grant Project Pages MIMS Student Leadership Commencement For MIDS Students MIDS Student Handbook Academic Calendar MIDS Forms Class Registration Acceleration Requests Tuition, Fees, and Funding Who to Contact MIDS Student Representatives Immersion Program Conference Travel Grant Capstone Project Pages Project Pages Commencement For 5th Year MIDS Students 5th Year MIDS Student Handbook Academic Calendar 5th Year MIDS Forms Class Registration Tuition, Fees, and Funding Who to Contact 5th Year MIDS Student Representatives Immersion Program Conference Travel Grant Capstone Project Pages Project Pages Commencement For MICS Students MICS Student Handbook Academic Calendar MICS Forms Class Registration Acceleration Requests Tuition, Fees, and Funding Who to Contact MICS Student Representatives Immersion Program Conference Travel Grant RSA Conference Security Scholar Application Capstone Project Pages Commencement For Ph.D. Students Ph.D. Student Handbook Ph.D. Forms Advising Appointments Ph.D. Resources Funding Your Education Technology Support Resources Ph.D. Desk Assignments Sample Preliminary Exam Questions Careers Project Pages Ph.D. Student Representatives Commencement For Faculty & Staff Faculty Grant Opportunities GSR Hiring GSI, Tutor, & Reader Hiring Visiting Scholar Policies & Procedures Reimbursements Contracts Proposals Staff Calendars Student Surveys Computing Getting Started Email Printing Wi-Fi Web Hosting GitHub Access Slack Software Alumni Computing Policies Facilities & Resources Event Planning Media Release Form South Hall Building Access I School Facilities South Hall Zoom Rooms Equipment for Loan Resources for Students Library Resources Documents Connect With the I School Update Profile My Settings My Settings Update My Profile View My Profile My Quotas Add Print Quota My Content Add content Log out Log out About About Academic Mission Diversity & Inclusion Diversity & Inclusion Resources DEIBJ Leadership History Featured Profiles Featured Faculty Featured Alumni South Hall Work at the I School Subscribe to Email Announcements Logos & Style Guide Directions & Parking Contact Us The School of Information is UC\\xa0Berkeley’s newest professional school. Located in the center of campus, the I\\xa0School is a graduate research and education community committed to expanding access to information and to improving its usability, reliability, and credibility while preserving security and privacy. Programs Programs MIMS Program Admissions Career Outcomes Degree Requirements Paths Through the MIMS Degree Final Project Funding Your Education Admissions Events Visit Us Request Information 5th Year MIDS Program Career Outcomes Capstone Project MIDS Program Admissions Jack Larson Data for Good Fellowship Tuition & Fees Capstone Project Women in MIDS MIDS Curriculum News Request Information MICS Program Admissions MICS Student News Tuition & Fees Capstone Project Request Information Ph.D. Program Admissions Career Outcomes Degree Requirements Funding Your Education Dissertations Admissions Events Request Information Graduate Certificates Applied Data Science Certificate ICTD Certificate Citizen Clinic The School of Information offers four degrees: The Master of Information Management and Systems (MIMS) program educates information professionals to provide leadership for an information-driven world. The Master of Information and Data Science (MIDS) is an online degree preparing data science professionals to solve real-world problems. The 5th Year MIDS program is a streamlined path to a MIDS degree for Cal undergraduates. The Master of Information and Cybersecurity (MICS) is an online degree preparing cybersecurity leaders for complex cybersecurity challenges. Our Ph.D. in Information Science is a research program for next-generation scholars of the information age. Courses Courses Information Course Catalog Spring 2024 Course Schedule Summer 2024 Course Schedule Fall 2024 Course Schedule Data Science Course Catalog Data Science 281. Computer Vision Spring 2024 Course Schedule Summer 2024 Course Schedule Cybersecurity Course Catalog Spring 2024 Course Schedule Summer 2024 Course Schedule The School of Information's courses bridge the disciplines of information and computer science, design, social sciences, management, law, and policy. We welcome interest in our graduate-level Information classes from current UC\\xa0Berkeley graduate and undergraduate students and community members. More information about signing up for classes. People People Faculty Ladder & Adjunct Faculty Lecturers Emeriti Students MIMS Students MIDS Students 5th Year MIDS Students MICS Students Ph.D. Students Staff Student Staff Incoming Students Incoming MIMS students Incoming MIDS students Incoming 5th Year MIDS students Incoming MICS students Incoming Ph.D. students Visitors Alumni Research Research Publications Centers & Labs Research Areas Computer-mediated Communication Data Science Design Entrepreneurship Human-computer Interaction (HCI) Information Economics Information Organization Information Policy Information Retrieval & Search Information Visualization Law Privacy Security Social & Cultural Studies Technology for Developing Regions User Experience Research Research by faculty members and doctoral students keeps the I\\xa0School on the vanguard of contemporary information needs and solutions. The I\\xa0School is also home to several active centers and labs, including the Center for Long-Term Cybersecurity (CLTC) , the Center for Technology, Society & Policy , and the BioSENSE Lab . Careers Careers For Employers Why Hire I School? Events Request a Resume Book Leadership Development Program Mailing List For Nonprofit and Government Employers For Students & Alumni Events Resources Leadership Development Program Advising Jobscan & Applicant Tracking Systems Resume & LinkedIn Review Resume Book I\\xa0School graduate students and alumni have expertise in data science, user experience design & research, product management, engineering, information policy, cybersecurity, and more — learn more about hiring I\\xa0School students and alumni . News News Press Coverage Alumni News I School Voices Speakers Celebrate Moments of Persistence, Resilience, and Camaraderie at 2024 Commencement On May 18, 2024, the School of Information welcomed 423 of 670 total graduating students from the Master of... Commencement Speaker and Net Neutrality Champion Gigi Sohn Speaks on the Importance of Tech Advocacy Gigi Sohn gave the keynote speech at the UC\\xa0Berkeley School of Information May 2024 Commencement. Awards Honor May 2024 Graduates The School of Information’s May 2024 Commencement\\xa0presented an opportunity to honor faculty and student achievements... The I School Graduate Scholars Program in 2024 The initiative is now known at the I\\xa0School as the I\\xa0School Graduate Scholars (ISGS) program, which... Events Events Distinguished Lecture Series I School Lectures Information Access Seminars CLTC Events For the I School Community Alumni Events Women in MIDS Events School of Information May 2024 Commencement May 18, 2024, 2:00 pm Parler Games: Folklore, Social Media, and Insurrection Apr 24, 2024, 12:30 pm to 1:45 pm Misinformation In and About Science Feb 21, 2024, 12:10 pm to 1:30 pm Insight and Oversights: Shaping the Future of Visual Analytics with AI Jan 31, 2024, 12:10 pm to 1:30 pm About ► About the I School Academic Mission Diversity & Inclusion ► Explore  Diversity & Inclusion Diversity & Inclusion Resources DEIBJ Leadership History Featured Profiles ► Explore Featured Profiles Featured Faculty Featured Alumni South Hall Work at the I School Subscribe to Email Announcements Logos & Style Guide Directions & Parking Contact Us Programs ► Explore Programs MIMS Program ► Explore MIMS Program Admissions Career Outcomes Degree Requirements Paths Through the MIMS Degree Final Project Funding Your Education Admissions Events Visit Us Request Information 5th Year MIDS Program ► Explore 5th Year MIDS Program Career Outcomes Capstone Project MIDS Program ► Explore MIDS Program Admissions Jack Larson Data for Good Fellowship Tuition & Fees Capstone Project Women in MIDS MIDS Curriculum News Request Information MICS Program ► Explore MICS Program Admissions MICS Student News Tuition & Fees Capstone Project Request Information Ph.D. Program ► Explore Ph.D. Program Admissions Career Outcomes Degree Requirements Funding Your Education Dissertations Admissions Events Request Information Graduate Certificates ► Explore Graduate Certificates Applied Data Science Certificate ICTD Certificate Citizen Clinic ► Explore Citizen Clinic Application Courses ► Explore Courses Information Course Catalog ► View Full Information Course Catalog Spring 2024 Course Schedule Summer 2024 Course Schedule Fall 2024 Course Schedule Data Science Course Catalog ► View Full Data Science Course Catalog Data Science 281. Computer Vision Spring 2024 Course Schedule Summer 2024 Course Schedule Cybersecurity Course Catalog ► View Full Cybersecurity Course Catalog Spring 2024 Course Schedule Summer 2024 Course Schedule People ► All People Faculty ► All Faculty Ladder & Adjunct Faculty Lecturers Emeriti Students ► All Students MIMS Students MIDS Students 5th Year MIDS Students MICS Students Ph.D. Students Staff Student Staff Incoming Students ► All Incoming Students Incoming MIMS students Incoming MIDS students Incoming 5th Year MIDS students Incoming MICS students Incoming Ph.D. students Visitors Alumni Research ► Explore Research Publications Centers & Labs Research Areas ► Explore Research Areas Computer-mediated Communication Data Science Design Entrepreneurship Human-computer Interaction (HCI) Information Economics Information Organization Information Policy Information Retrieval & Search Information Visualization Law Privacy Security Social & Cultural Studies Technology for Developing Regions User Experience Research Careers ► Explore Careers For Employers ► Explore For Employers Why Hire I School? Events Request a Resume Book For Nonprofit and Government Employers Leadership Development Program Mailing List For Students & Alumni ► Explore For Students & Alumni Events Resources Leadership Development Program Advising Jobscan & Applicant Tracking Systems Resume & LinkedIn Review Resume Book News ► Explore News Press Coverage Alumni News I School Voices Events ► Explore Events Distinguished Lecture Series I School Lectures Information Access Seminars CLTC Events For the I School Community ► Explore For the I School Community Alumni Events Women in MIDS Events Submit UC Berkeley Give Volunteer Contact Us Alumni Intranet Update Profile My Settings Log out Data Science 281 Computer Vision 3 units Course Description This course introduces the theoretical and practical aspects of computer vision, covering both classical and state of the art deep-learning based approaches. This course covers everything from the basics of the image formation process in digital cameras and biological systems, through a mathematical and practical treatment of basic image processing, space/frequency representations, classical computer vision techniques for making 3-D measurements from images, and modern deep-learning based techniques for image classification and recognition. Student Learning Outcomes Be able to read and understand research papers in the computer-vision literature. Build computer vision systems to solve real-world problems. Properly formulate problems with the appropriate mathematical and computational tools. Understand the building blocks of classical computer vision techniques. Understand the building blocks of modern computer vision techniques (primarily artificial neural networks). Understand the process by which images are formed and represented. Course Designers Profile profile for hfarid Hany Farid Professor (I\\xa0School and EECS) hfarid@ischool.berkeley.edu 203A South Hall (510) 664-4438 Website Profile profile for shruti_agarwal Shruti Agarwal Former Lecturer Prerequisites DATASCI 207. MIDS students only. You should also be comfortable with linear algebra, which we'll use for vector representations and when we discuss deep learning. This course will use Python for all examples, exercises, and assignments. Courses Information Course Catalog Spring 2024 Course Schedule Summer 2024 Course Schedule Fall 2024 Course Schedule Data Science Course Catalog Data Science 281. Computer Vision Spring 2024 Course Schedule Summer 2024 Course Schedule Cybersecurity Course Catalog Spring 2024 Course Schedule Summer 2024 Course Schedule Course History Summer 2024 Instructor(s): Rachel Brown Instructor(s): Senthil Periaswamy Spring 2024 Instructor(s): Rachel Brown Instructor(s): Senthil Periaswamy Instructor(s): Rachel Brown Fall 2023 Instructor(s): Rachel Brown Instructor(s): Rachel Brown Instructor(s): Rachel Brown Summer 2023 Instructor(s): Rachel Brown Instructor(s): Rachel Brown Instructor(s): Rachel Brown Spring 2023 Instructor(s): Allen Yang Instructor(s): Rachel Brown Instructor(s): Allen Yang Fall 2022 Instructor(s): Shruti Agarwal 1 of 2 next › Last updated: December 13, 2021 Sign up for more information Find us on Facebook Find us on Twitter Follow us on Instagram Connect on Linkedin Watch us on YouTube View Flickr Photos Read our Medium Publication Copyright 1995–2024 UC Regents Nondiscrimination | Accessibility | Privacy UC Berkeley Give Volunteer Contact Us Alumni Intranet Update Profile My Settings Log out About Academic Mission Diversity & Inclusion Diversity & Inclusion Resources DEIBJ Leadership History Featured Profiles Featured Faculty Featured Alumni South Hall Work at the I School Subscribe to Email Announcements Logos & Style Guide Directions & Parking Contact Us Programs MIMS Program Admissions Career Outcomes Degree Requirements Paths Through the MIMS Degree Final Project Funding Your Education Admissions Events Visit Us Request Information 5th Year MIDS Program Career Outcomes Capstone Project MIDS Program Admissions Jack Larson Data for Good Fellowship Tuition & Fees Capstone Project Women in MIDS MIDS Curriculum News Request Information MICS Program Admissions MICS Student News Tuition & Fees Capstone Project Request Information Ph.D. Program Admissions Career Outcomes Degree Requirements Funding Your Education Dissertations Admissions Events Request Information Graduate Certificates Applied Data Science Certificate ICTD Certificate Citizen Clinic Application Courses Information Course Catalog Spring 2024 Course Schedule Summer 2024 Course Schedule Fall 2024 Course Schedule Data Science Course Catalog Data Science 281. Computer Vision Spring 2024 Course Schedule Summer 2024 Course Schedule Cybersecurity Course Catalog Spring 2024 Course Schedule Summer 2024 Course Schedule People Faculty Ladder & Adjunct Faculty Lecturers Emeriti Students MIMS Students MIDS Students 5th Year MIDS Students MICS Students Ph.D. Students Staff Student Staff Incoming Students Incoming MIMS students Incoming MIDS students Incoming 5th Year MIDS students Incoming MICS students Incoming Ph.D. students Visitors Alumni Research Publications Centers & Labs Research Areas Computer-mediated Communication Data Science Design Entrepreneurship Human-computer Interaction (HCI) Information Economics Information Organization Information Policy Information Retrieval & Search Information Visualization Law Privacy Security Social & Cultural Studies Technology for Developing Regions User Experience Research Careers For Employers Why Hire I School? Events Request a Resume Book For Nonprofit and Government Employers Leadership Development Program Mailing List For Students & Alumni Events Resources Leadership Development Program Advising Jobscan & Applicant Tracking Systems Resume & LinkedIn Review Resume Book News Press Coverage Alumni News I School Voices Events Distinguished Lecture Series I School Lectures Information Access Seminars CLTC Events For the I School Community Alumni Events Women in MIDS Events\", metadata={'source': 'www.ischool.berkeley.edu/courses/datasci/281'})"
      ]
     },
     "execution_count": 29,
     "metadata": {},
     "output_type": "execute_result"
    }
   ],
   "source": [
    "documents[0]"
   ]
  },
  {
   "cell_type": "markdown",
   "id": "b113d6f8-17f3-4048-b33a-d9e1e40a4de9",
   "metadata": {},
   "source": [
    "#### Chunk documents based on semantic meaning"
   ]
  },
  {
   "cell_type": "code",
   "execution_count": 8,
   "id": "c53f90ac-9afa-4ac8-b1cc-884f42628a06",
   "metadata": {},
   "outputs": [],
   "source": [
    "text_splitter = SemanticChunker(\n",
    "    base_embeddings,\n",
    "    breakpoint_threshold_type='percentile'\n",
    ")"
   ]
  },
  {
   "cell_type": "code",
   "execution_count": 9,
   "id": "2864fad4-233c-4c60-95fe-eee948c97b95",
   "metadata": {},
   "outputs": [],
   "source": [
    "split_documents = text_splitter.split_documents(documents)"
   ]
  },
  {
   "cell_type": "markdown",
   "id": "663886da-61f9-476e-a89c-a2ce6cc4b492",
   "metadata": {},
   "source": [
    "#### De-duplicate documents, this is a temporary workaround to strip the site header and footer text (since the data hasn't been sanitized yet)"
   ]
  },
  {
   "cell_type": "code",
   "execution_count": 44,
   "id": "fc544e9c-8ea0-45c5-b93e-011113178c44",
   "metadata": {
    "scrolled": true
   },
   "outputs": [
    {
     "data": {
      "text/plain": [
       "Document(page_content='Data Science 281. Computer Vision | UC Berkeley School of Information Skip to main content Submit UC Berkeley Give Volunteer Contact Us Alumni Alumni Get Involved & Give Back Sign Up to Volunteer Stay Connected I School Slack Alumni News Alumni Events Alumni Accounts Alumni Computing Services MIDS & MICS for Life Career Support Intranet Intranet For Students For MIMS Students MIMS Student Handbook MIMS Forms MIMS Final Project Advising Appointments Tuition & Fees Funding Your Education Technology Support Resources Conference Travel Grant Project Pages MIMS Student Leadership Commencement For MIDS Students MIDS Student Handbook Academic Calendar MIDS Forms Class Registration Acceleration Requests Tuition, Fees, and Funding Who to Contact MIDS Student Representatives Immersion Program Conference Travel Grant Capstone Project Pages Project Pages Commencement For 5th Year MIDS Students 5th Year MIDS Student Handbook Academic Calendar 5th Year MIDS Forms Class Registration Tuition, Fees, and Funding Who to Contact 5th Year MIDS Student Representatives Immersion Program Conference Travel Grant Capstone Project Pages Project Pages Commencement For MICS Students MICS Student Handbook Academic Calendar MICS Forms Class Registration Acceleration Requests Tuition, Fees, and Funding Who to Contact MICS Student Representatives Immersion Program Conference Travel Grant RSA Conference Security Scholar Application Capstone Project Pages Commencement For Ph.D. Students Ph.D.', metadata={'source': 'www.ischool.berkeley.edu/courses/datasci/281'})"
      ]
     },
     "execution_count": 44,
     "metadata": {},
     "output_type": "execute_result"
    }
   ],
   "source": [
    "# Example of text we're stripping out duplicate copies of\n",
    "# This document doesnt actually tell us anything (and we have another copy of it for every site page)\n",
    "split_documents[0]"
   ]
  },
  {
   "cell_type": "code",
   "execution_count": 10,
   "id": "33de446a-c82b-4235-a673-b0afcd7c9d2f",
   "metadata": {},
   "outputs": [],
   "source": [
    "# Generates a hash of the document text, strips out duplicates\n",
    "def deduplicate_documents(documents):\n",
    "    seen_hashes = set()\n",
    "    unique_documents = []\n",
    "    for doc in documents:\n",
    "        doc_hash = hashlib.md5(doc.page_content.encode('utf-8')).hexdigest()\n",
    "        if doc_hash not in seen_hashes:\n",
    "            seen_hashes.add(doc_hash)\n",
    "            unique_documents.append(doc)\n",
    "    return unique_documents"
   ]
  },
  {
   "cell_type": "code",
   "execution_count": 11,
   "id": "a6e6160c-5f5a-4dfe-bde8-e2173308a1d8",
   "metadata": {},
   "outputs": [
    {
     "data": {
      "text/plain": [
       "333"
      ]
     },
     "execution_count": 11,
     "metadata": {},
     "output_type": "execute_result"
    }
   ],
   "source": [
    "len(split_documents)"
   ]
  },
  {
   "cell_type": "code",
   "execution_count": 12,
   "id": "cc1249ca-73c3-417a-8e92-864903613f07",
   "metadata": {},
   "outputs": [],
   "source": [
    "split_documents = deduplicate_documents(documents)"
   ]
  },
  {
   "cell_type": "code",
   "execution_count": 13,
   "id": "c8f0bc3a-36b2-41bc-8756-5d72b72216e9",
   "metadata": {},
   "outputs": [
    {
     "data": {
      "text/plain": [
       "67"
      ]
     },
     "execution_count": 13,
     "metadata": {},
     "output_type": "execute_result"
    }
   ],
   "source": [
    "len(split_documents)"
   ]
  },
  {
   "cell_type": "markdown",
   "id": "8029a6bb-aa22-40ad-bc66-75b6cfb8039b",
   "metadata": {},
   "source": [
    "#### Load documents into vector db"
   ]
  },
  {
   "cell_type": "code",
   "execution_count": 14,
   "id": "94481ff0-e211-4143-81f2-5e7f457a770c",
   "metadata": {},
   "outputs": [],
   "source": [
    "vectorstore = Qdrant.from_documents(split_documents,\n",
    "    base_embeddings,\n",
    "    location=\":memory:\",\n",
    ")"
   ]
  },
  {
   "cell_type": "code",
   "execution_count": 15,
   "id": "794c507a-811d-4e60-ab25-7798aa34d0c1",
   "metadata": {},
   "outputs": [],
   "source": [
    "retriever = vectorstore.as_retriever()"
   ]
  },
  {
   "cell_type": "markdown",
   "id": "0f81d341-006c-4651-86dd-19087e935c2f",
   "metadata": {},
   "source": [
    "### Prompt definitions"
   ]
  },
  {
   "cell_type": "code",
   "execution_count": 40,
   "id": "9ba45437-5d41-4267-9b3d-a44f913cf220",
   "metadata": {},
   "outputs": [],
   "source": [
    "# We will need to tune this prompt\n",
    "\n",
    "baseline_user_prompt = \"\"\"\n",
    "You are a helpful assistant that answers questions about the UC Berkeley Masters of Information in Data Science (MIDS) program.\n",
    "You will be provided a list of relevant context documents and a question.\n",
    "Provide an answer to the question based on information from the relevant context\n",
    "\n",
    "Please answer the question below only based on the context information provided.\n",
    "\n",
    "### Here is a context:\n",
    "{context} \n",
    "\n",
    "### Here is a question:\n",
    "{question}\n",
    "\"\"\""
   ]
  },
  {
   "cell_type": "code",
   "execution_count": 41,
   "id": "cd34fa25-5a5b-4e09-be6e-db3f879cb072",
   "metadata": {},
   "outputs": [],
   "source": [
    "rag_prompt = ChatPromptTemplate.from_template(baseline_user_prompt)"
   ]
  },
  {
   "cell_type": "code",
   "execution_count": 42,
   "id": "bf50ba19-d246-4e4d-8a2e-d7a68cab00df",
   "metadata": {},
   "outputs": [
    {
     "data": {
      "text/plain": [
       "ChatPromptValue(messages=[SystemMessage(content='\\nYou are a helpful assistant that answers questions about the UC Berkeley Masters of Information in Data Science (MIDS) program.\\nYou will be provided a list of relevant context documents and a question.\\nProvide an answer to the question based on information from the relevant context\\n'), HumanMessage(content=\"\\nPlease answer the question below only based on the context information provided.\\n\\n### Here is a context:\\n['abcd', 'efgh'] \\n\\n### Here is a question:\\njklmnop?\\n\")])"
      ]
     },
     "execution_count": 42,
     "metadata": {},
     "output_type": "execute_result"
    }
   ],
   "source": [
    "prompt_template.invoke({\n",
    "    \"context\": [\"abcd\", \"efgh\"],\n",
    "    \"question\": \"jklmnop?\"\n",
    "})"
   ]
  },
  {
   "cell_type": "markdown",
   "id": "26458e42-3261-4b0a-88e5-045c43ad91b9",
   "metadata": {},
   "source": [
    "### Pipe retriever and llm together"
   ]
  },
  {
   "cell_type": "markdown",
   "id": "2bb0fdc3-5a4a-4470-af86-d7d1e78486f8",
   "metadata": {},
   "source": [
    "##### Requires OPENAI_API_KEY env var to be set"
   ]
  },
  {
   "cell_type": "code",
   "execution_count": 22,
   "id": "be787fdf-92c0-4a2b-8932-f62260af9ea7",
   "metadata": {},
   "outputs": [],
   "source": [
    "os.environ['OPENAI_API_KEY'] = \"\""
   ]
  },
  {
   "cell_type": "code",
   "execution_count": 65,
   "id": "bce9c92b-5f0d-4fd9-8433-ed8241d64cf3",
   "metadata": {},
   "outputs": [],
   "source": [
    "llm = ChatOpenAI(model_name=\"gpt-3.5-turbo\")"
   ]
  },
  {
   "cell_type": "code",
   "execution_count": 31,
   "id": "60c2d815-6330-4f64-a258-939262208604",
   "metadata": {},
   "outputs": [],
   "source": [
    "def format_docs(docs):\n",
    "    return \"\\n\\n\".join(doc.page_content for doc in docs)"
   ]
  },
  {
   "cell_type": "code",
   "execution_count": 66,
   "id": "8fe66709-165d-4ed4-a07b-1bd64b770ee8",
   "metadata": {},
   "outputs": [],
   "source": [
    "rag_chain = (\n",
    "    {\"context\": retriever | format_docs,\n",
    "     \"question\": RunnablePassthrough() }\n",
    "    | rag_prompt\n",
    "    | llm\n",
    ")"
   ]
  },
  {
   "cell_type": "code",
   "execution_count": 45,
   "id": "200f7e25-b6df-4d87-9dcd-623258ceeebb",
   "metadata": {
    "scrolled": true
   },
   "outputs": [
    {
     "data": {
      "text/plain": [
       "\"The MIDS program is an online degree offered by UC Berkeley's School of Information that prepares data science professionals to solve real-world problems. It equips graduates with interdisciplinary skills to tackle complex human, social, economic, and health issues using data.\""
      ]
     },
     "execution_count": 45,
     "metadata": {},
     "output_type": "execute_result"
    }
   ],
   "source": [
    "rag_chain.invoke(\"What is the MIDS program\").content"
   ]
  },
  {
   "cell_type": "code",
   "execution_count": 46,
   "id": "971f7900-9975-4284-92fe-3091bc3bf1d8",
   "metadata": {},
   "outputs": [
    {
     "data": {
      "text/plain": [
       "'The prerequisites for taking the Data Science 210A Capstone for Early Career Data Scientists course are DATASCI 200, DATASCI 201A, DATASCI 203, DATASCI 205, and DATASCI 207. Additionally, the course must be taken in the final term of the 5th Year MIDS program.'"
      ]
     },
     "execution_count": 46,
     "metadata": {},
     "output_type": "execute_result"
    }
   ],
   "source": [
    "rag_chain.invoke(\"What are the prerequisites for taking the 210 course?\").content"
   ]
  },
  {
   "cell_type": "code",
   "execution_count": 47,
   "id": "9014aa38-2fc2-43aa-acb4-4aca5ca5be13",
   "metadata": {},
   "outputs": [
    {
     "data": {
      "text/plain": [
       "'Yes, the MIDS program offers a Fee Payment Plan (FPP) for the Fall and Spring terms. The FPP allows students to pay their tuition and fees in installments rather than a lump sum. More details and deadlines for the Fee Payment Plan can be found on the billing website. Please note that the Fee Payment Plan is not available for the Summer terms.'"
      ]
     },
     "execution_count": 47,
     "metadata": {},
     "output_type": "execute_result"
    }
   ],
   "source": [
    "rag_chain.invoke(\"Does the MIDS program have a payment plan? How does it work?\").content"
   ]
  },
  {
   "cell_type": "code",
   "execution_count": 49,
   "id": "63652aaf-f30a-4446-8b71-1eab8219719f",
   "metadata": {},
   "outputs": [
    {
     "data": {
      "text/plain": [
       "'The UC Berkeley Masters of Information in Data Science (MIDS) program has the following additional fees outside of regular tuition:\\n1. Berkeley Campus Fee:\\n   - $790.25 for Fall 2023 & Spring 2024\\n   - $431 for Summer 2024\\n2. Document Management Fee: $107 (charged in the first term of enrollment)\\n3. Instructional Resilience and Enhancement Fee:\\n   - $117.50 for Fall and Spring terms\\n   - $81 for Summer 2024 (if not enrolled in Spring 2024)\\n4. UC Graduate and Professional Council (UCGPC) Fee: $3.50 for Fall and Spring terms\\n5. Effective Fall 2024 Student Health Insurance Plan (SHIP): $3,078.00 for Fall and Spring terms only\\n6. Immersion Fee: $500\\n\\nPlease note that fees are subject to change each academic year.'"
      ]
     },
     "execution_count": 49,
     "metadata": {},
     "output_type": "execute_result"
    }
   ],
   "source": [
    "rag_chain.invoke(\"What kind of additional fees does the program have outside of regular tuition? List the costs\").content"
   ]
  },
  {
   "cell_type": "code",
   "execution_count": 52,
   "id": "08f6b6ca-5d1e-45ca-a705-a5e13c2f80b8",
   "metadata": {},
   "outputs": [
    {
     "data": {
      "text/plain": [
       "'The Master of Information and Data Science (MIDS) program at UC Berkeley requires students to complete a total of 27 units, which includes core courses, elective courses, and a capstone project. Students must also attend an immersion program and fulfill all academic and administrative requirements set by the School of Information. Additionally, students are expected to maintain a minimum GPA of 3.0 in order to graduate from the program.'"
      ]
     },
     "execution_count": 52,
     "metadata": {},
     "output_type": "execute_result"
    }
   ],
   "source": [
    "rag_chain.invoke(\"Provide an short overview of the MIDS program degree requirements\").content"
   ]
  },
  {
   "cell_type": "code",
   "execution_count": 54,
   "id": "d56a30b4-612e-473c-888f-66e50b0ff7a1",
   "metadata": {},
   "outputs": [
    {
     "data": {
      "text/plain": [
       "'The core courses that students are required to take in the MIDS program are:\\n\\n1. Introduction to Data Science Programming (Course Number: Data Science 200)\\n2. Research Design and Application for Data and Analysis (Course Number: Data Science 201)\\n3. Statistics for Data Science (Course Number: Data Science 203)\\n4. Fundamentals of Data Engineering (Course Number: Data Science 205)\\n5. Applied Machine Learning (Course Number: Data Science 207)'"
      ]
     },
     "execution_count": 54,
     "metadata": {},
     "output_type": "execute_result"
    }
   ],
   "source": [
    "rag_chain.invoke(\"What are the core courses students are required to take? Include the course numbers\").content"
   ]
  },
  {
   "cell_type": "code",
   "execution_count": 68,
   "id": "32aaa5f3-52a2-488f-9a3d-28c273cc79ad",
   "metadata": {},
   "outputs": [
    {
     "data": {
      "text/plain": [
       "'Immersion is an academic event and a requirement for the UC Berkeley Masters of Information in Data Science (MIDS) program. It is an opportunity for students to meet faculty and peers in person on the UC Berkeley campus or in other relevant locations. Immersion typically lasts two to three days and includes presentations by faculty and industry experts, socializing with classmates, career advancement workshops, and networking opportunities. Immersion must be completed before the end of the Capstone course since participation is a graduation requirement.'"
      ]
     },
     "execution_count": 68,
     "metadata": {},
     "output_type": "execute_result"
    }
   ],
   "source": [
    "rag_chain.invoke(\"What is immersion? When does it happen and what are the requirements?\").content"
   ]
  },
  {
   "cell_type": "code",
   "execution_count": 64,
   "id": "06ef8e78-ed84-4d19-8866-9e2cf17cf514",
   "metadata": {},
   "outputs": [
    {
     "data": {
      "text/plain": [
       "\"The main differences between 5th Year MIDS students and regular MIDS students at UC Berkeley are as follows:\\n\\n1. **Streamlined Path for Cal Undergraduates:**\\n   - The 5th Year MIDS program offers a streamlined path to the MIDS degree specifically for UC Berkeley undergraduates, allowing them to transition directly into the master's program.\\n\\n2. **Program Duration and Structure:**\\n   - 5th Year MIDS is a lock-step program that requires students to complete the degree over four consecutive semesters (fall, spring, summer, and fall).\\n   - Students in the 5th Year MIDS program are required to enroll in specific DATASCI courses each term in a predefined sequence.\\n\\n3. **Summer Practicum and Internship Encouragement:**\\n   - 5th Year MIDS students are required to complete a 1-unit summer practicum course (DATASCI 293) and are strongly encouraged to pursue a full-time internship during the summer semester, although it is not mandatory.\\n   - This focus on a summer practicum and internship differentiates it from the regular MIDS program, which may have different requirements and structure for practical experience.\\n\\n4. **Course Waivers:**\\n   - 5th Year MIDS students with a strong foundation in relevant topics may be eligible to waive certain courses (DATASCI 200, 203, and/or 205) by passing waiver exams.\\n\\n5. **Enrollment and Course Requirements:**\\n   - 5th Year MIDS students must enroll in the 5th Year MIDS-specific sections of required foundation and capstone courses. They can choose any DATASCI section for advanced courses.\\n\\n6. **Work Limitations:**\\n   - Due to the rigor of the program, 5th Year MIDS students are limited to working 10 hours per week (25% time) during the fall and spring semesters, unless they obtain approval to work more hours from the I School’s senior director of student affairs.\\n\\n7. **Immersion Program Requirement:**\\n   - 5th Year MIDS students are required to attend at least one in-person immersion program before the end of their final term.\\n\\n8. **Federal Financial Aid Eligibility:**\\n   - 5th Year MIDS students are not eligible for federal financial aid in the summer semester due to the typical enrollment of only one unit during that term.\\n\\nThese differences highlight that the 5th Year MIDS program is designed to be a continuous, immersive experience tailored for recent UC Berkeley undergraduates, with specific academic and practical components to ensure a smooth transition from undergraduate to graduate studies in data science.\""
      ]
     },
     "execution_count": 64,
     "metadata": {},
     "output_type": "execute_result"
    }
   ],
   "source": [
    "rag_chain.invoke(\"What are the main differences between 5th year MIDS students and regular MIDS students?\").content"
   ]
  },
  {
   "cell_type": "code",
   "execution_count": null,
   "id": "110472cc-812a-4fb3-bccf-59bdfca6e903",
   "metadata": {},
   "outputs": [],
   "source": []
  }
 ],
 "metadata": {
  "kernelspec": {
   "display_name": "Python 3 (ipykernel)",
   "language": "python",
   "name": "python3"
  },
  "language_info": {
   "codemirror_mode": {
    "name": "ipython",
    "version": 3
   },
   "file_extension": ".py",
   "mimetype": "text/x-python",
   "name": "python",
   "nbconvert_exporter": "python",
   "pygments_lexer": "ipython3",
   "version": "3.12.2"
  }
 },
 "nbformat": 4,
 "nbformat_minor": 5
}
