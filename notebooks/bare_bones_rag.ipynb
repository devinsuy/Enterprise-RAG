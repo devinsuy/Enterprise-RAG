{
 "cells": [
  {
   "cell_type": "markdown",
   "id": "06ac9a3d-12aa-4101-8e1a-6d0a7ee94f0f",
   "metadata": {},
   "source": [
    "### This notebook does a bare bones implementation of RAG using the unprocessed MIDS intranet content as is, no tuning/tweaking. OpenAI gpt 3.5 is used as the llm"
   ]
  },
  {
   "cell_type": "code",
   "execution_count": 1,
   "id": "db2fd16b-19ca-41d6-bdb0-40e827ecd700",
   "metadata": {},
   "outputs": [
    {
     "name": "stderr",
     "output_type": "stream",
     "text": [
      "/home/reson/miniconda3/envs/LangChain/lib/python3.12/site-packages/tqdm/auto.py:21: TqdmWarning: IProgress not found. Please update jupyter and ipywidgets. See https://ipywidgets.readthedocs.io/en/stable/user_install.html\n",
      "  from .autonotebook import tqdm as notebook_tqdm\n"
     ]
    }
   ],
   "source": [
    "import os\n",
    "import hashlib\n",
    "from langchain_community.vectorstores import Qdrant\n",
    "from langchain_experimental.text_splitter import SemanticChunker\n",
    "from langchain_text_splitters import RecursiveCharacterTextSplitter\n",
    "from langchain_community.embeddings import HuggingFaceEmbeddings\n",
    "from langchain.docstore.document import Document\n",
    "from langchain_core.prompts import ChatPromptTemplate\n",
    "from langchain_core.runnables import RunnablePassthrough\n",
    "from langchain_openai import ChatOpenAI\n",
    "from transformers import AutoModelForCausalLM, AutoTokenizer, AutoConfig, pipeline\n",
    "from langchain.llms import HuggingFacePipeline"
   ]
  },
  {
   "cell_type": "code",
   "execution_count": 2,
   "id": "a45d62e4-87c8-4561-afd7-fe6223fda8b7",
   "metadata": {
    "scrolled": true
   },
   "outputs": [
    {
     "name": "stderr",
     "output_type": "stream",
     "text": [
      "You try to use a model that was created with version 3.0.0.dev0, however, your version is 2.6.1. This might cause unexpected behavior or errors. In that case, try to update to the latest version.\n",
      "\n",
      "\n",
      "\n"
     ]
    }
   ],
   "source": [
    "base_embeddings = HuggingFaceEmbeddings(model_name=\"multi-qa-mpnet-base-dot-v1\")"
   ]
  },
  {
   "cell_type": "markdown",
   "id": "691f888f-d7a1-4b95-ac93-a067a5811074",
   "metadata": {},
   "source": [
    "#### Load data"
   ]
  },
  {
   "cell_type": "code",
   "execution_count": 3,
   "id": "2deef88c-9871-4c7a-91ef-d9b187524aa3",
   "metadata": {},
   "outputs": [],
   "source": [
    "def read_file(file_path):\n",
    "    with open(file_path, 'r', encoding='utf-8') as file:\n",
    "        return file.read()"
   ]
  },
  {
   "cell_type": "code",
   "execution_count": 4,
   "id": "0b76c6fd-276a-419b-bd6d-92a76c31b10b",
   "metadata": {},
   "outputs": [],
   "source": [
    "def create_document(file_path, university):\n",
    "    content = read_file(file_path)\n",
    "    file_name = os.path.basename(file_path)\n",
    "    source_url = file_name.replace('.txt', '').replace('_', '/')\n",
    "    metadata = {\"source\": source_url, \"university\": university}\n",
    "    return Document(page_content=content, metadata=metadata)\n"
   ]
  },
  {
   "cell_type": "code",
   "execution_count": 5,
   "id": "29a7ab17-8c4f-4753-8823-250de15225a0",
   "metadata": {},
   "outputs": [],
   "source": [
    "def find_txt_files_recursive(directories):\n",
    "    txt_files = []\n",
    "    for directory in directories:\n",
    "        for root, _, files in os.walk(directory):\n",
    "            for file in files:\n",
    "                if file.endswith('.txt'):\n",
    "                    txt_files.append(os.path.join(root, file))\n",
    "    return txt_files"
   ]
  },
  {
   "cell_type": "code",
   "execution_count": 6,
   "id": "475a8f59-060a-4e65-869e-b01c9af56b80",
   "metadata": {},
   "outputs": [],
   "source": [
    "import os\n",
    "\n",
    "def find_txt_files(directories):\n",
    "    txt_files = []\n",
    "    for directory in directories:\n",
    "        for file in os.listdir(directory):\n",
    "            if os.path.isfile(os.path.join(directory, file)) and file.endswith('.txt'):\n",
    "                txt_files.append(os.path.join(directory, file))\n",
    "    return txt_files\n"
   ]
  },
  {
   "cell_type": "code",
   "execution_count": 7,
   "id": "a994d0a8-6391-4409-8615-c008355e5b3c",
   "metadata": {},
   "outputs": [],
   "source": [
    "data_directories = {\n",
    "    'uc_berkeley_grad': '../data/university_data/uc_berkeley_grad',\n",
    "    'csulb': '../data/university_data/csulb'\n",
    "}\n",
    "\n",
    "documents = []\n",
    "for university, directory in data_directories.items():\n",
    "    file_paths = find_txt_files([directory])\n",
    "    documents.extend([create_document(file_path, university) for file_path in file_paths])\n"
   ]
  },
  {
   "cell_type": "code",
   "execution_count": 8,
   "id": "51b159e2-9ef1-4b32-9daa-734017fa738e",
   "metadata": {},
   "outputs": [
    {
     "data": {
      "text/plain": [
       "52"
      ]
     },
     "execution_count": 8,
     "metadata": {},
     "output_type": "execute_result"
    }
   ],
   "source": [
    "len(documents)"
   ]
  },
  {
   "cell_type": "code",
   "execution_count": 9,
   "id": "d30219d5-0983-4726-bf42-3b3c6d7c6a46",
   "metadata": {
    "scrolled": true
   },
   "outputs": [
    {
     "data": {
      "text/plain": [
       "Document(page_content=\"\\nWriting the Personal Statement - Berkeley Graduate Division\\n\\nSkip to content\\n\\n\\t\\t\\t\\t\\t\\t\\t\\t\\tApply Now\\t\\t\\t\\t\\t\\t\\t\\t\\n\\nToggle Menu\\n\\nStudent Resources\\n\\nStaff Resources\\n (opens in a new tab)\\n\\nNews & Events\\n\\n\\t\\t\\t\\t\\t\\t\\t\\t\\tApply Now\\t\\t\\t\\t\\t\\t\\t\\t\\n\\n\\t\\t\\t\\t\\t\\t\\t\\t\\t\\t\\t\\tToggle Search\\t\\t\\t\\t\\t\\t\\t\\t\\t\\t\\t\\n\\nSearch for:\\n\\n\\t\\t\\t\\tSearch\\t\\t\\t\\n\\nAbout\\nAbout\\nAbout\\nThe Graduate Division serves more than 13,000 students in over 100 graduate degree programs. We are here to help you from the time you are admitted until you complete your graduate program.\\n\\nAbout the Graduate Division\\n\\nContact the Graduate Division\\n\\nWelcome from the Vice Provost and Dean\\n\\nDiversity Initiatives\\n\\nGraduate Diversity Task Force Recommendations\\n\\nAnti-Racism Initiatives\\n\\nLand Acknowledgement\\n\\nAdmissions\\nAdmissions\\nAdmissions\\nWe're thrilled you're considering Berkeley for your graduate study. We offer more than 100 programs for master's, professional, and doctoral students to pursue their dreams.\\n\\nSteps to Apply\\n\\nApply for Admission\\n\\nAdmissions Requirements\\n\\nTuition Costs & Fees\\n\\nAdmissions FAQ\\n\\nAccepting Your Offer\\n\\nChoosing Your Program\\n\\nGraduate Programs & Deadlines\\n\\nConcurrent Programs\\n\\nConnect with Us\\n\\nWhy Choose Berkeley?\\n\\nWhy students choose Berkeley\\n\\nBerkeley Graduate Student Profile\\n\\nFinancial Support\\nFinancial Support\\nFinancial Support\\nWorking toward obtaining your graduate degree at Berkeley is an exciting and challenging endeavor, but funding your graduate education shouldn’t be your greatest challenge.\\n\\nFunding Your Graduate Education\\n\\nFinancial Support FAQ\\n\\nAbout Multi-Year Funding\\n\\nOptions for Financial Support\\n\\nFinancial Aid\\n\\nFellowships\\n\\nSupport for Student Parents & Caregivers\\n\\nAcademic Student Employment\\n\\nAppointment Handbook\\n\\nOpen GSI / GSR Positions\\n\\nFee Remissions\\n\\nAcademics\\nAcademics\\nAcademics\\nWe're here to support you as you progress through your degree, and help you understand the policies and procedures that inform your graduate education.\\n\\nDegree Progress\\n\\nDissertation Writing and Filing\\n\\nThesis Writing and Filing\\n\\nDeadlines\\n\\nAcademic Progress Advisors\\n\\nForms & Applications\\n\\nPolicies and Procedures\\n\\nGuide to Graduate Policy\\n\\nPolicy and Procedure Memos\\n\\nGraduate Student Academic Integrity\\n\\nStudent Accommodations\\n\\nProgram Proposals and Options\\n\\nGraduate Degree, Certificate, or Designated Emphasis Proposals\\n\\nInterdisciplinary Doctoral Programs\\n\\nExchange Programs with Other Universities\\n\\nProfessional Development\\nProfessional Development\\nProfessional Development\\nGradPro, the Graduate Writing Center, and the GSI Teaching & Resource Center can support you in your academic and professional development at all stages of your degree program and in preparing for your career.\\n\\nGradPro: Graduate Student Professional Development Resource Hub\\n\\nProfessional Development Guide\\n\\nCheck-in Groups\\n\\nResource Lists\\n\\nWorkshops and Events\\n\\nGradPro for Departments and Faculty\\n\\nContact Us\\n\\nGSI Teaching & Resource Center\\n (opens in a new tab)\\n\\nTeaching Guide for GSIs\\n (opens in a new tab)\\n\\nCertificate in Teaching and Learning in Higher Education\\n (opens in a new tab)\\n\\nWorkshops, Seminars, and Institutes\\n (opens in a new tab)\\n\\nLanguage Proficiency Program\\n (opens in a new tab)\\n\\nTeaching Consultations\\n (opens in a new tab)\\n\\nContact the GSI Teaching & Resource Center\\n (opens in a new tab)\\n\\nGraduate Writing Center\\n\\nDiversity\\nDiversity\\nDiversity\\nThe Office for Graduate Diversity provides support and services for prospective and continuing students in an effort to support and sustain a more diverse graduate student community.\\n\\nProspective Students\\n\\nBerkeley Undergraduates\\n\\nCurrent Grad Students\\n\\nFunding\\n\\nBirgeneau Perelman Fund for Undocumented Graduate Students\\n\\nThe Future of Higher Education Postdoctoral Fellowship Program\\n\\nInitiatives\\n\\nContact OGD\\n\\nCampus Diversity Professionals\\n\\nConnect with the Diversity & Community Fellows\\n\\nGiving\\nGiving\\nGiving\\nYour gift allows us to deliver an inclusive, world-class experience to graduate students, so they can make a difference at Berkeley and beyond.\\n\\nGiving Opportunities\\n\\nGraduate Fellowship & Support Fund\\n\\nGraduate Student Experience Fund\\n\\nGraduate Diversity Support Fund\\n\\nWhy Give\\n\\nDonor Profiles\\n\\nStudent Profiles\\n\\nWays to Give\\n\\nPlanned Gifts\\n (opens in a new tab)\\n\\nContact Us\\n\\nGive Now\\n (opens in a new tab)\\n\\n\\t\\t\\t\\t\\t\\t\\t\\t\\t\\t\\t\\tToggle Search\\t\\t\\t\\t\\t\\t\\t\\t\\t\\t\\t\\n\\nSearch for:\\n\\n\\t\\t\\t\\tSearch\\t\\t\\t\\n\\nStudent Resources\\n\\nStaff Resources\\n (opens in a new tab)\\n\\nNews & Events\\n\\nGraduate Division on Twitter\\n (opens in a new tab)\\n\\nGraduate Division on LinkedIn\\n (opens in a new tab)\\n\\nGraduate Division on Instagram\\n (opens in a new tab)\\n\\nWriting the Personal Statement\\n\\nShow Submenu\\n\\nHide Submenu\\n\\nGraduate Admissions\\n\\nChoosing Your Program\\n\\nGraduate Programs & Deadlines to Apply\\n\\nConcurrent Degree Programs\\n\\nConnect with Us\\n\\nSteps to Apply\\n\\nApplying for Graduate Admission\\n\\nAdmissions Requirements\\n\\nWriting the Personal Statement\\n\\nWriting the Statement of Purpose\\n\\nRequesting an Application Fee Waiver\\n\\nExceptions for Applicants with Extenuating Circumstances\\n\\nTuition Costs & Fees\\n\\nFellowships for Entering Students\\n\\nAdmissions FAQ\\n\\nAccepting Your Offer of Admission\\n\\nWhy Choose Berkeley?\\n\\nWhy students choose Berkeley\\n\\nBerkeley Graduate Student Profile\\n\\nHelpful tips and advice for drafting a compelling personal statement when applying for graduate admission.\\n\\nMake sure to check the appropriate \\nprogram website\\n to find out if your statement should include additional or specific information.\\n\\nWhat does this statement need to accomplish?\\nThe personal statement should give concrete evidence of your promise as a member of the academic community, giving the committee an image of you as a person.\\n\\nThis is also where you represent your potential to bring to your academic career a critical perspective rooted in a non-traditional educational background, or your understanding of the experiences of groups historically under-represented in higher education and your commitment to increase participation by a diverse population in higher education.\\n\\nWhat kinds of content belongs here?\\nAnything that can give reviewers a sense of you as a person belongs here; you can repeat information about your experiences in your research statement, but any experiences that show your promise, initiative, and ability to persevere despite obstacles belongs here. This is also a good place to display your communication skills and discuss your ability to maximize effective collaboration with a diverse cross-section of the academic community. If you have faced any obstacles or barriers in your education, sharing those experiences serves both for the selection process, and for your nomination for fellowships. If one part of your academic record is not ideal, due to challenges you faced in that particular area, this is where you can explain that, and direct reviewers’ attention to the evidence of your promise for higher education.\\n\\nThe basic message: your academic achievement despite challenges\\nIt is especially helpful for admissions committees considering nominating you for fellowships for diversity if you discuss any or all of the following:\\n\\nDemonstrated significant academic achievement by overcoming barriers such as economic, social, or educational disadvantage;\\n\\nPotential to contribute to higher education through understanding the barriers facing women, domestic minorities, students with disabilities, and other members of groups underrepresented in higher education careers, as evidenced by life experiences and educational background. For example,,\\n\\nattendance at a minority serving institution;\\n\\nability to articulate the barriers facing women and minorities in science and engineering fields;\\n\\nparticipation in higher education pipeline programs such as, UC Leads, or McNair Scholars;\\n\\nAcademic service advancing equitable access to higher education for women and racial minorities in fields where they are underrepresented;\\n\\nLeadership experience among students from groups that have been historically underrepresented in higher education;\\n\\nResearch interests focusing on underserved populations and understanding issues of racial or gender inequalities. For example,\\n\\nresearch that addresses issues such as race, gender, diversity, and inclusion;\\n\\nresearch that addresses health disparities, educational access and achievement, political engagement, economic justice, social mobility, civil and human rights, and other questions of interest to historically underrepresented groups;\\n\\nartistic expression and cultural production that reflects culturally diverse communities or voices not well represented in the arts and humanities.\\n\\nGraduate Division\\nContact the Graduate Division\\n\\nWorkshops and Events\\n\\nGraduate Publications\\n\\nOrganizational Chart (PDF)\\n\\nOur Sites\\nGSI Teaching & Resource Center\\n (opens in a new tab)\\n\\nBerkeley Graduate Lectures\\n (opens in a new tab)\\n\\nTanner Lectures\\n (opens in a new tab)\\n\\nBack-Up Child Care\\n (opens in a new tab)\\n\\nGraduate Mentoring Awards\\n (opens in a new tab)\\n\\nSMART Mentoring\\n (opens in a new tab)\\n\\nGrad Dashboard (for Faculty & Staff)\\n (opens in a new tab)\\n\\n\\t\\t\\t\\t\\t\\t\\t\\t\\t\\t\\t\\t\\t\\tOur Mission\\t\\t\\t\\t\\t\\t\\t\\t\\t\\t\\t\\t\\t\\n\\nThe Graduate Division oversees graduate admissions, fellowships, grants, academic employment, preparation for teaching, mentoring activities, professional development, academic progress and degree milestones.\\n\\n\\t\\t\\t\\t\\t\\t\\t\\t\\t\\t\\t\\t\\t\\tCan’t find something?\\t\\t\\t\\t\\t\\t\\t\\t\\t\\t\\t\\t\\t\\n\\nGive Feedback\\n\\n (opens in a new tab)\\n\\nLearn more about the Campaign for Berkeley and Graduate Fellowships.\\n\\n\\t\\t\\t\\t\\t\\t\\t\\t\\t\\t\\t\\tSupport Graduate Division\\t\\t\\t\\t\\t\\t\\t\\t\\t\\t\\t\\n\\nGraduate Division on Twitter\\n (opens in a new tab)\\n\\nGraduate Division on LinkedIn\\n (opens in a new tab)\\n\\nGraduate Division on Instagram\\n (opens in a new tab)\\n\\nPrivacy\\n\\nNondiscrimination\\n (opens in a new tab)\\n\\nAccessibility\\n (opens in a new tab)\\n\\n\\t\\t\\t\\t\\t\\t\\t\\tCopyright © 2024 UC Regents\\t\\t\\t\\t\\t\\t\\t\\n\", metadata={'source': 'grad.berkeley.edu/admissions/steps-to-apply/requirements/personal-statement/', 'university': 'uc_berkeley_grad'})"
      ]
     },
     "execution_count": 9,
     "metadata": {},
     "output_type": "execute_result"
    }
   ],
   "source": [
    "documents[0]"
   ]
  },
  {
   "cell_type": "markdown",
   "id": "b113d6f8-17f3-4048-b33a-d9e1e40a4de9",
   "metadata": {},
   "source": [
    "#### Chunk documents based on semantic meaning"
   ]
  },
  {
   "cell_type": "code",
   "execution_count": 10,
   "id": "c53f90ac-9afa-4ac8-b1cc-884f42628a06",
   "metadata": {},
   "outputs": [],
   "source": [
    "# text_splitter = SemanticChunker(\n",
    "#     base_embeddings,\n",
    "#     breakpoint_threshold_type='percentile'\n",
    "# )"
   ]
  },
  {
   "cell_type": "code",
   "execution_count": 11,
   "id": "2864fad4-233c-4c60-95fe-eee948c97b95",
   "metadata": {},
   "outputs": [],
   "source": [
    "# split_documents = text_splitter.split_documents(documents)"
   ]
  },
  {
   "cell_type": "code",
   "execution_count": 13,
   "id": "85da921f-1cd1-486d-a78f-a95c85e1ffb1",
   "metadata": {},
   "outputs": [],
   "source": [
    "# text_splitter_recursive = RecursiveCharacterTextSplitter(chunk_size=128, chunk_overlap=0)\n",
    "# split_documents = text_splitter_recursive.split_documents(documents)"
   ]
  },
  {
   "cell_type": "code",
   "execution_count": 10,
   "id": "ebeaa1a1-d03a-491c-b6bd-66ace3832116",
   "metadata": {},
   "outputs": [],
   "source": [
    "# Use a simpler text splitter to reduce VRAM usage\n",
    "text_splitter_recursive = RecursiveCharacterTextSplitter(chunk_size=1024, chunk_overlap=256)\n",
    "\n",
    "def split_documents_with_metadata(documents, text_splitter):\n",
    "    split_docs = []\n",
    "    for doc in documents:\n",
    "        chunks = text_splitter.split_text(doc.page_content)\n",
    "        for i, chunk in enumerate(chunks):\n",
    "            split_docs.append(Document(page_content=chunk, metadata={**doc.metadata, \"chunk_id\": i}))\n",
    "    return split_docs\n",
    "\n",
    "split_documents = split_documents_with_metadata(documents, text_splitter_recursive)\n"
   ]
  },
  {
   "cell_type": "markdown",
   "id": "663886da-61f9-476e-a89c-a2ce6cc4b492",
   "metadata": {},
   "source": [
    "#### De-duplicate documents, this is a temporary workaround to strip the site header and footer text (since the data hasn't been sanitized yet)"
   ]
  },
  {
   "cell_type": "code",
   "execution_count": 11,
   "id": "fc544e9c-8ea0-45c5-b93e-011113178c44",
   "metadata": {
    "scrolled": true
   },
   "outputs": [
    {
     "data": {
      "text/plain": [
       "Document(page_content=\"Writing the Personal Statement - Berkeley Graduate Division\\n\\nSkip to content\\n\\n\\t\\t\\t\\t\\t\\t\\t\\t\\tApply Now\\t\\t\\t\\t\\t\\t\\t\\t\\n\\nToggle Menu\\n\\nStudent Resources\\n\\nStaff Resources\\n (opens in a new tab)\\n\\nNews & Events\\n\\n\\t\\t\\t\\t\\t\\t\\t\\t\\tApply Now\\t\\t\\t\\t\\t\\t\\t\\t\\n\\n\\t\\t\\t\\t\\t\\t\\t\\t\\t\\t\\t\\tToggle Search\\t\\t\\t\\t\\t\\t\\t\\t\\t\\t\\t\\n\\nSearch for:\\n\\n\\t\\t\\t\\tSearch\\t\\t\\t\\n\\nAbout\\nAbout\\nAbout\\nThe Graduate Division serves more than 13,000 students in over 100 graduate degree programs. We are here to help you from the time you are admitted until you complete your graduate program.\\n\\nAbout the Graduate Division\\n\\nContact the Graduate Division\\n\\nWelcome from the Vice Provost and Dean\\n\\nDiversity Initiatives\\n\\nGraduate Diversity Task Force Recommendations\\n\\nAnti-Racism Initiatives\\n\\nLand Acknowledgement\\n\\nAdmissions\\nAdmissions\\nAdmissions\\nWe're thrilled you're considering Berkeley for your graduate study. We offer more than 100 programs for master's, professional, and doctoral students to pursue their dreams.\\n\\nSteps to Apply\\n\\nApply for Admission\\n\\nAdmissions Requirements\\n\\nTuition Costs & Fees\\n\\nAdmissions FAQ\", metadata={'source': 'grad.berkeley.edu/admissions/steps-to-apply/requirements/personal-statement/', 'university': 'uc_berkeley_grad', 'chunk_id': 0})"
      ]
     },
     "execution_count": 11,
     "metadata": {},
     "output_type": "execute_result"
    }
   ],
   "source": [
    "# Example of text we're stripping out duplicate copies of\n",
    "# This document doesnt actually tell us anything (and we have another copy of it for every site page)\n",
    "split_documents[0]"
   ]
  },
  {
   "cell_type": "code",
   "execution_count": 12,
   "id": "33de446a-c82b-4235-a673-b0afcd7c9d2f",
   "metadata": {},
   "outputs": [],
   "source": [
    "# Generates a hash of the document text, strips out duplicates\n",
    "def deduplicate_documents(documents):\n",
    "    seen_hashes = set()\n",
    "    unique_documents = []\n",
    "    for doc in documents:\n",
    "        doc_hash = hashlib.md5(doc.page_content.encode('utf-8')).hexdigest()\n",
    "        if doc_hash not in seen_hashes:\n",
    "            seen_hashes.add(doc_hash)\n",
    "            unique_documents.append(doc)\n",
    "    return unique_documents"
   ]
  },
  {
   "cell_type": "code",
   "execution_count": 13,
   "id": "4564a765-406a-4916-b468-f8e5d8330d2d",
   "metadata": {},
   "outputs": [],
   "source": [
    "# Include university metadata in doc context\n",
    "\n",
    "def format_docs(docs, max_length=20000):\n",
    "    formatted_docs = []\n",
    "    for doc in docs:\n",
    "        formatted_docs.append(f\"University: {doc.metadata['university']}\\nSource: {doc.metadata['source']}\\n\\n{doc.page_content}\")\n",
    "    content = \"\\n\\n\".join(formatted_docs)\n",
    "    tokens = tokenizer.tokenize(content)\n",
    "    if len(tokens) > max_length:\n",
    "        truncated_tokens = tokens[:max_length]\n",
    "        return tokenizer.convert_tokens_to_string(truncated_tokens)\n",
    "    return content\n"
   ]
  },
  {
   "cell_type": "code",
   "execution_count": 14,
   "id": "a6e6160c-5f5a-4dfe-bde8-e2173308a1d8",
   "metadata": {},
   "outputs": [
    {
     "data": {
      "text/plain": [
       "2384"
      ]
     },
     "execution_count": 14,
     "metadata": {},
     "output_type": "execute_result"
    }
   ],
   "source": [
    "len(split_documents)"
   ]
  },
  {
   "cell_type": "code",
   "execution_count": 15,
   "id": "cc1249ca-73c3-417a-8e92-864903613f07",
   "metadata": {},
   "outputs": [],
   "source": [
    "split_documents = deduplicate_documents(split_documents)"
   ]
  },
  {
   "cell_type": "code",
   "execution_count": 16,
   "id": "c8f0bc3a-36b2-41bc-8756-5d72b72216e9",
   "metadata": {},
   "outputs": [
    {
     "data": {
      "text/plain": [
       "1610"
      ]
     },
     "execution_count": 16,
     "metadata": {},
     "output_type": "execute_result"
    }
   ],
   "source": [
    "len(split_documents)"
   ]
  },
  {
   "cell_type": "code",
   "execution_count": 17,
   "id": "8c9a155a-c008-4b27-a7ab-0c1a65a1eb17",
   "metadata": {},
   "outputs": [
    {
     "data": {
      "text/plain": [
       "Document(page_content=\"Writing the Personal Statement - Berkeley Graduate Division\\n\\nSkip to content\\n\\n\\t\\t\\t\\t\\t\\t\\t\\t\\tApply Now\\t\\t\\t\\t\\t\\t\\t\\t\\n\\nToggle Menu\\n\\nStudent Resources\\n\\nStaff Resources\\n (opens in a new tab)\\n\\nNews & Events\\n\\n\\t\\t\\t\\t\\t\\t\\t\\t\\tApply Now\\t\\t\\t\\t\\t\\t\\t\\t\\n\\n\\t\\t\\t\\t\\t\\t\\t\\t\\t\\t\\t\\tToggle Search\\t\\t\\t\\t\\t\\t\\t\\t\\t\\t\\t\\n\\nSearch for:\\n\\n\\t\\t\\t\\tSearch\\t\\t\\t\\n\\nAbout\\nAbout\\nAbout\\nThe Graduate Division serves more than 13,000 students in over 100 graduate degree programs. We are here to help you from the time you are admitted until you complete your graduate program.\\n\\nAbout the Graduate Division\\n\\nContact the Graduate Division\\n\\nWelcome from the Vice Provost and Dean\\n\\nDiversity Initiatives\\n\\nGraduate Diversity Task Force Recommendations\\n\\nAnti-Racism Initiatives\\n\\nLand Acknowledgement\\n\\nAdmissions\\nAdmissions\\nAdmissions\\nWe're thrilled you're considering Berkeley for your graduate study. We offer more than 100 programs for master's, professional, and doctoral students to pursue their dreams.\\n\\nSteps to Apply\\n\\nApply for Admission\\n\\nAdmissions Requirements\\n\\nTuition Costs & Fees\\n\\nAdmissions FAQ\", metadata={'source': 'grad.berkeley.edu/admissions/steps-to-apply/requirements/personal-statement/', 'university': 'uc_berkeley_grad', 'chunk_id': 0})"
      ]
     },
     "execution_count": 17,
     "metadata": {},
     "output_type": "execute_result"
    }
   ],
   "source": [
    "split_documents[0]"
   ]
  },
  {
   "cell_type": "markdown",
   "id": "8029a6bb-aa22-40ad-bc66-75b6cfb8039b",
   "metadata": {},
   "source": [
    "#### Load documents into vector db"
   ]
  },
  {
   "cell_type": "code",
   "execution_count": 18,
   "id": "94481ff0-e211-4143-81f2-5e7f457a770c",
   "metadata": {},
   "outputs": [],
   "source": [
    "vectorstore = Qdrant.from_documents(split_documents,\n",
    "    base_embeddings,\n",
    "    location=\":memory:\",\n",
    ")"
   ]
  },
  {
   "cell_type": "code",
   "execution_count": 19,
   "id": "794c507a-811d-4e60-ab25-7798aa34d0c1",
   "metadata": {},
   "outputs": [],
   "source": [
    "retriever = vectorstore.as_retriever()"
   ]
  },
  {
   "cell_type": "markdown",
   "id": "953da7d0-b9da-46be-a30c-ac0cf8279e01",
   "metadata": {},
   "source": [
    "# Consumes ~ 3.8GB VRAM to documents into db (using semantic chunking)"
   ]
  },
  {
   "cell_type": "code",
   "execution_count": 21,
   "id": "a1ef8f93-0640-4ccc-9c41-ced89ebf285f",
   "metadata": {},
   "outputs": [
    {
     "name": "stdout",
     "output_type": "stream",
     "text": [
      "Sat Jun 15 16:41:38 2024       \n",
      "+-----------------------------------------------------------------------------------------+\n",
      "| NVIDIA-SMI 555.42.02              Driver Version: 555.42.02      CUDA Version: 12.5     |\n",
      "|-----------------------------------------+------------------------+----------------------+\n",
      "| GPU  Name                 Persistence-M | Bus-Id          Disp.A | Volatile Uncorr. ECC |\n",
      "| Fan  Temp   Perf          Pwr:Usage/Cap |           Memory-Usage | GPU-Util  Compute M. |\n",
      "|                                         |                        |               MIG M. |\n",
      "|=========================================+========================+======================|\n",
      "|   0  NVIDIA GeForce RTX 4090        Off |   00000000:01:00.0  On |                  Off |\n",
      "| 72%   52C    P0            368W /  450W |    3781MiB /  24564MiB |     59%      Default |\n",
      "|                                         |                        |                  N/A |\n",
      "+-----------------------------------------+------------------------+----------------------+\n",
      "                                                                                         \n",
      "+-----------------------------------------------------------------------------------------+\n",
      "| Processes:                                                                              |\n",
      "|  GPU   GI   CI        PID   Type   Process name                              GPU Memory |\n",
      "|        ID   ID                                                               Usage      |\n",
      "|=========================================================================================|\n",
      "|    0   N/A  N/A      1750      G   /usr/lib/xorg/Xorg                            458MiB |\n",
      "|    0   N/A  N/A      5131      G   cinnamon                                       52MiB |\n",
      "|    0   N/A  N/A      7362      G   ...seed-version=20240614-130101.053000        127MiB |\n",
      "|    0   N/A  N/A    159620      G   ...ictureAPI --variations-seed-version         48MiB |\n",
      "|    0   N/A  N/A    160204      G   ...erProcess --variations-seed-version         74MiB |\n",
      "|    0   N/A  N/A    221798      C   ...iniconda3/envs/LangChain/bin/python       2980MiB |\n",
      "+-----------------------------------------------------------------------------------------+\n"
     ]
    },
    {
     "name": "stderr",
     "output_type": "stream",
     "text": [
      "huggingface/tokenizers: The current process just got forked, after parallelism has already been used. Disabling parallelism to avoid deadlocks...\n",
      "To disable this warning, you can either:\n",
      "\t- Avoid using `tokenizers` before the fork if possible\n",
      "\t- Explicitly set the environment variable TOKENIZERS_PARALLELISM=(true | false)\n"
     ]
    }
   ],
   "source": [
    "!nvidia-smi"
   ]
  },
  {
   "cell_type": "markdown",
   "id": "0f81d341-006c-4651-86dd-19087e935c2f",
   "metadata": {},
   "source": [
    "### Prompt definitions"
   ]
  },
  {
   "cell_type": "code",
   "execution_count": 29,
   "id": "9ba45437-5d41-4267-9b3d-a44f913cf220",
   "metadata": {},
   "outputs": [],
   "source": [
    "# We will need to tune this prompt\n",
    "\n",
    "baseline_user_prompt = \"\"\"\n",
    "You are a helpful assistant that answers questions about university programs.\n",
    "You will be provided a list of relevant context documents and a question.\n",
    "Provide an answer to the question based on information from the relevant context\n",
    "\n",
    "Please answer the question below only based on the context information provided.\n",
    "\n",
    "### Here is a context:\n",
    "{context} \n",
    "\n",
    "### Here is a question:\n",
    "{question}\n",
    "\"\"\""
   ]
  },
  {
   "cell_type": "code",
   "execution_count": 30,
   "id": "cd34fa25-5a5b-4e09-be6e-db3f879cb072",
   "metadata": {},
   "outputs": [],
   "source": [
    "rag_prompt = ChatPromptTemplate.from_template(baseline_user_prompt)"
   ]
  },
  {
   "cell_type": "code",
   "execution_count": 31,
   "id": "bf50ba19-d246-4e4d-8a2e-d7a68cab00df",
   "metadata": {},
   "outputs": [
    {
     "data": {
      "text/plain": [
       "ChatPromptValue(messages=[HumanMessage(content=\"\\nYou are a helpful assistant that answers questions about university programs.\\nYou will be provided a list of relevant context documents and a question.\\nProvide an answer to the question based on information from the relevant context\\n\\nPlease answer the question below only based on the context information provided.\\n\\n### Here is a context:\\n['abcd', 'efgh'] \\n\\n### Here is a question:\\njklmnop?\\n\")])"
      ]
     },
     "execution_count": 31,
     "metadata": {},
     "output_type": "execute_result"
    }
   ],
   "source": [
    "rag_prompt.invoke({\n",
    "    \"context\": [\"abcd\", \"efgh\"],\n",
    "    \"question\": \"jklmnop?\"\n",
    "})"
   ]
  },
  {
   "cell_type": "markdown",
   "id": "26458e42-3261-4b0a-88e5-045c43ad91b9",
   "metadata": {},
   "source": [
    "### Pipe retriever and llm together"
   ]
  },
  {
   "cell_type": "markdown",
   "id": "89210e23-0475-4c65-95e2-4957c48ac248",
   "metadata": {},
   "source": [
    "#### Try with OpenAI GPT3.5 as baseline"
   ]
  },
  {
   "cell_type": "markdown",
   "id": "2bb0fdc3-5a4a-4470-af86-d7d1e78486f8",
   "metadata": {},
   "source": [
    "##### Requires OPENAI_API_KEY env var to be set"
   ]
  },
  {
   "cell_type": "code",
   "execution_count": 22,
   "id": "be787fdf-92c0-4a2b-8932-f62260af9ea7",
   "metadata": {},
   "outputs": [],
   "source": [
    "os.environ['OPENAI_API_KEY'] = \"\""
   ]
  },
  {
   "cell_type": "code",
   "execution_count": 65,
   "id": "bce9c92b-5f0d-4fd9-8433-ed8241d64cf3",
   "metadata": {},
   "outputs": [],
   "source": [
    "llm = ChatOpenAI(model_name=\"gpt-3.5-turbo\")"
   ]
  },
  {
   "cell_type": "code",
   "execution_count": 66,
   "id": "8fe66709-165d-4ed4-a07b-1bd64b770ee8",
   "metadata": {},
   "outputs": [],
   "source": [
    "rag_chain = (\n",
    "    {\"context\": retriever | format_docs,\n",
    "     \"question\": RunnablePassthrough() }\n",
    "    | rag_prompt\n",
    "    | llm\n",
    ")"
   ]
  },
  {
   "cell_type": "code",
   "execution_count": 45,
   "id": "200f7e25-b6df-4d87-9dcd-623258ceeebb",
   "metadata": {
    "scrolled": true
   },
   "outputs": [
    {
     "data": {
      "text/plain": [
       "\"The MIDS program is an online degree offered by UC Berkeley's School of Information that prepares data science professionals to solve real-world problems. It equips graduates with interdisciplinary skills to tackle complex human, social, economic, and health issues using data.\""
      ]
     },
     "execution_count": 45,
     "metadata": {},
     "output_type": "execute_result"
    }
   ],
   "source": [
    "rag_chain.invoke(\"What is the MIDS program\").content"
   ]
  },
  {
   "cell_type": "code",
   "execution_count": 46,
   "id": "971f7900-9975-4284-92fe-3091bc3bf1d8",
   "metadata": {},
   "outputs": [
    {
     "data": {
      "text/plain": [
       "'The prerequisites for taking the Data Science 210A Capstone for Early Career Data Scientists course are DATASCI 200, DATASCI 201A, DATASCI 203, DATASCI 205, and DATASCI 207. Additionally, the course must be taken in the final term of the 5th Year MIDS program.'"
      ]
     },
     "execution_count": 46,
     "metadata": {},
     "output_type": "execute_result"
    }
   ],
   "source": [
    "rag_chain.invoke(\"What are the prerequisites for taking the 210 course?\").content"
   ]
  },
  {
   "cell_type": "code",
   "execution_count": 47,
   "id": "9014aa38-2fc2-43aa-acb4-4aca5ca5be13",
   "metadata": {},
   "outputs": [
    {
     "data": {
      "text/plain": [
       "'Yes, the MIDS program offers a Fee Payment Plan (FPP) for the Fall and Spring terms. The FPP allows students to pay their tuition and fees in installments rather than a lump sum. More details and deadlines for the Fee Payment Plan can be found on the billing website. Please note that the Fee Payment Plan is not available for the Summer terms.'"
      ]
     },
     "execution_count": 47,
     "metadata": {},
     "output_type": "execute_result"
    }
   ],
   "source": [
    "rag_chain.invoke(\"Does the MIDS program have a payment plan? How does it work?\").content"
   ]
  },
  {
   "cell_type": "code",
   "execution_count": 49,
   "id": "63652aaf-f30a-4446-8b71-1eab8219719f",
   "metadata": {},
   "outputs": [
    {
     "data": {
      "text/plain": [
       "'The UC Berkeley Masters of Information in Data Science (MIDS) program has the following additional fees outside of regular tuition:\\n1. Berkeley Campus Fee:\\n   - $790.25 for Fall 2023 & Spring 2024\\n   - $431 for Summer 2024\\n2. Document Management Fee: $107 (charged in the first term of enrollment)\\n3. Instructional Resilience and Enhancement Fee:\\n   - $117.50 for Fall and Spring terms\\n   - $81 for Summer 2024 (if not enrolled in Spring 2024)\\n4. UC Graduate and Professional Council (UCGPC) Fee: $3.50 for Fall and Spring terms\\n5. Effective Fall 2024 Student Health Insurance Plan (SHIP): $3,078.00 for Fall and Spring terms only\\n6. Immersion Fee: $500\\n\\nPlease note that fees are subject to change each academic year.'"
      ]
     },
     "execution_count": 49,
     "metadata": {},
     "output_type": "execute_result"
    }
   ],
   "source": [
    "rag_chain.invoke(\"What kind of additional fees does the program have outside of regular tuition? List the costs\").content"
   ]
  },
  {
   "cell_type": "code",
   "execution_count": 52,
   "id": "08f6b6ca-5d1e-45ca-a705-a5e13c2f80b8",
   "metadata": {},
   "outputs": [
    {
     "data": {
      "text/plain": [
       "'The Master of Information and Data Science (MIDS) program at UC Berkeley requires students to complete a total of 27 units, which includes core courses, elective courses, and a capstone project. Students must also attend an immersion program and fulfill all academic and administrative requirements set by the School of Information. Additionally, students are expected to maintain a minimum GPA of 3.0 in order to graduate from the program.'"
      ]
     },
     "execution_count": 52,
     "metadata": {},
     "output_type": "execute_result"
    }
   ],
   "source": [
    "rag_chain.invoke(\"Provide an short overview of the MIDS program degree requirements\").content"
   ]
  },
  {
   "cell_type": "code",
   "execution_count": 54,
   "id": "d56a30b4-612e-473c-888f-66e50b0ff7a1",
   "metadata": {},
   "outputs": [
    {
     "data": {
      "text/plain": [
       "'The core courses that students are required to take in the MIDS program are:\\n\\n1. Introduction to Data Science Programming (Course Number: Data Science 200)\\n2. Research Design and Application for Data and Analysis (Course Number: Data Science 201)\\n3. Statistics for Data Science (Course Number: Data Science 203)\\n4. Fundamentals of Data Engineering (Course Number: Data Science 205)\\n5. Applied Machine Learning (Course Number: Data Science 207)'"
      ]
     },
     "execution_count": 54,
     "metadata": {},
     "output_type": "execute_result"
    }
   ],
   "source": [
    "rag_chain.invoke(\"What are the core courses students are required to take? Include the course numbers\").content"
   ]
  },
  {
   "cell_type": "code",
   "execution_count": 68,
   "id": "32aaa5f3-52a2-488f-9a3d-28c273cc79ad",
   "metadata": {},
   "outputs": [
    {
     "data": {
      "text/plain": [
       "'Immersion is an academic event and a requirement for the UC Berkeley Masters of Information in Data Science (MIDS) program. It is an opportunity for students to meet faculty and peers in person on the UC Berkeley campus or in other relevant locations. Immersion typically lasts two to three days and includes presentations by faculty and industry experts, socializing with classmates, career advancement workshops, and networking opportunities. Immersion must be completed before the end of the Capstone course since participation is a graduation requirement.'"
      ]
     },
     "execution_count": 68,
     "metadata": {},
     "output_type": "execute_result"
    }
   ],
   "source": [
    "rag_chain.invoke(\"What is immersion? When does it happen and what are the requirements?\").content"
   ]
  },
  {
   "cell_type": "code",
   "execution_count": 64,
   "id": "06ef8e78-ed84-4d19-8866-9e2cf17cf514",
   "metadata": {},
   "outputs": [
    {
     "data": {
      "text/plain": [
       "\"The main differences between 5th Year MIDS students and regular MIDS students at UC Berkeley are as follows:\\n\\n1. **Streamlined Path for Cal Undergraduates:**\\n   - The 5th Year MIDS program offers a streamlined path to the MIDS degree specifically for UC Berkeley undergraduates, allowing them to transition directly into the master's program.\\n\\n2. **Program Duration and Structure:**\\n   - 5th Year MIDS is a lock-step program that requires students to complete the degree over four consecutive semesters (fall, spring, summer, and fall).\\n   - Students in the 5th Year MIDS program are required to enroll in specific DATASCI courses each term in a predefined sequence.\\n\\n3. **Summer Practicum and Internship Encouragement:**\\n   - 5th Year MIDS students are required to complete a 1-unit summer practicum course (DATASCI 293) and are strongly encouraged to pursue a full-time internship during the summer semester, although it is not mandatory.\\n   - This focus on a summer practicum and internship differentiates it from the regular MIDS program, which may have different requirements and structure for practical experience.\\n\\n4. **Course Waivers:**\\n   - 5th Year MIDS students with a strong foundation in relevant topics may be eligible to waive certain courses (DATASCI 200, 203, and/or 205) by passing waiver exams.\\n\\n5. **Enrollment and Course Requirements:**\\n   - 5th Year MIDS students must enroll in the 5th Year MIDS-specific sections of required foundation and capstone courses. They can choose any DATASCI section for advanced courses.\\n\\n6. **Work Limitations:**\\n   - Due to the rigor of the program, 5th Year MIDS students are limited to working 10 hours per week (25% time) during the fall and spring semesters, unless they obtain approval to work more hours from the I School’s senior director of student affairs.\\n\\n7. **Immersion Program Requirement:**\\n   - 5th Year MIDS students are required to attend at least one in-person immersion program before the end of their final term.\\n\\n8. **Federal Financial Aid Eligibility:**\\n   - 5th Year MIDS students are not eligible for federal financial aid in the summer semester due to the typical enrollment of only one unit during that term.\\n\\nThese differences highlight that the 5th Year MIDS program is designed to be a continuous, immersive experience tailored for recent UC Berkeley undergraduates, with specific academic and practical components to ensure a smooth transition from undergraduate to graduate studies in data science.\""
      ]
     },
     "execution_count": 64,
     "metadata": {},
     "output_type": "execute_result"
    }
   ],
   "source": [
    "rag_chain.invoke(\"What are the main differences between 5th year MIDS students and regular MIDS students?\").content"
   ]
  },
  {
   "cell_type": "markdown",
   "id": "15759934-a783-406f-b008-dbd64c5a091b",
   "metadata": {},
   "source": [
    "### Try with phi3 mini (with 4k context)"
   ]
  },
  {
   "cell_type": "markdown",
   "id": "50341ccd-edf6-4539-8fef-f477dcfa64e3",
   "metadata": {},
   "source": [
    "The 4k context only seems to be sufficent for more basic questions (heavy tuning on the chunking process might improve this and allow us to use this model instead)"
   ]
  },
  {
   "cell_type": "code",
   "execution_count": 23,
   "id": "23ee7e64-5d5b-42c2-9b0f-d8379f683d19",
   "metadata": {},
   "outputs": [
    {
     "name": "stderr",
     "output_type": "stream",
     "text": [
      "A new version of the following files was downloaded from https://huggingface.co/microsoft/Phi-3-mini-4k-instruct:\n",
      "- configuration_phi3.py\n",
      ". Make sure to double-check they do not contain any added malicious code. To avoid downloading new versions of the code file, you can pin a revision.\n",
      "A new version of the following files was downloaded from https://huggingface.co/microsoft/Phi-3-mini-4k-instruct:\n",
      "- modeling_phi3.py\n",
      ". Make sure to double-check they do not contain any added malicious code. To avoid downloading new versions of the code file, you can pin a revision.\n",
      "`flash-attention` package not found, consider installing for better performance: No module named 'flash_attn'.\n",
      "Current `flash-attention` does not support `window_size`. Either upgrade or use `attn_implementation='eager'`.\n",
      "Loading checkpoint shards: 100%|██████████████████| 2/2 [00:01<00:00,  1.34it/s]\n",
      "Special tokens have been added in the vocabulary, make sure the associated word embeddings are fine-tuned or trained.\n"
     ]
    }
   ],
   "source": [
    "model = AutoModelForCausalLM.from_pretrained(\n",
    "    \"microsoft/Phi-3-mini-4k-instruct\", \n",
    "    device_map=\"cuda\", \n",
    "    torch_dtype=\"auto\", \n",
    "    trust_remote_code=True, \n",
    ")\n",
    "tokenizer = AutoTokenizer.from_pretrained(\"microsoft/Phi-3-mini-4k-instruct\")\n",
    "\n",
    "pipe = pipeline(\n",
    "    \"text-generation\",\n",
    "    model=model,\n",
    "    tokenizer=tokenizer,\n",
    "    max_new_tokens=500,\n",
    ")"
   ]
  },
  {
   "cell_type": "markdown",
   "id": "318dc50e-424f-491f-8db9-3bda156484f4",
   "metadata": {},
   "source": [
    "### The 4k context window is too small (atleast with semantic chunking) use the 128k model but cap it at 20k context"
   ]
  },
  {
   "cell_type": "code",
   "execution_count": 24,
   "id": "ce8de8da-f643-495c-abbe-126db5023678",
   "metadata": {
    "scrolled": true
   },
   "outputs": [
    {
     "name": "stdout",
     "output_type": "stream",
     "text": [
      "Sun Jun  2 22:44:29 2024       \n",
      "+-----------------------------------------------------------------------------------------+\n",
      "| NVIDIA-SMI 555.42.02              Driver Version: 555.42.02      CUDA Version: 12.5     |\n",
      "|-----------------------------------------+------------------------+----------------------+\n",
      "| GPU  Name                 Persistence-M | Bus-Id          Disp.A | Volatile Uncorr. ECC |\n",
      "| Fan  Temp   Perf          Pwr:Usage/Cap |           Memory-Usage | GPU-Util  Compute M. |\n",
      "|                                         |                        |               MIG M. |\n",
      "|=========================================+========================+======================|\n",
      "|   0  NVIDIA GeForce RTX 4090        Off |   00000000:01:00.0  On |                  Off |\n",
      "|  0%   43C    P0             68W /  450W |    8929MiB /  24564MiB |      1%      Default |\n",
      "|                                         |                        |                  N/A |\n",
      "+-----------------------------------------+------------------------+----------------------+\n",
      "                                                                                         \n",
      "+-----------------------------------------------------------------------------------------+\n",
      "| Processes:                                                                              |\n",
      "|  GPU   GI   CI        PID   Type   Process name                              GPU Memory |\n",
      "|        ID   ID                                                               Usage      |\n",
      "|=========================================================================================|\n",
      "|    0   N/A  N/A      1973      G   /usr/lib/xorg/Xorg                            375MiB |\n",
      "|    0   N/A  N/A      5309      G   cinnamon                                       57MiB |\n",
      "|    0   N/A  N/A      5923      G   ...seed-version=20240531-130126.993000        119MiB |\n",
      "|    0   N/A  N/A     16985      G   ...erProcess --variations-seed-version        121MiB |\n",
      "|    0   N/A  N/A     33213      C   ...iniconda3/envs/LangChain/bin/python       8222MiB |\n",
      "+-----------------------------------------------------------------------------------------+\n"
     ]
    },
    {
     "name": "stderr",
     "output_type": "stream",
     "text": [
      "huggingface/tokenizers: The current process just got forked, after parallelism has already been used. Disabling parallelism to avoid deadlocks...\n",
      "To disable this warning, you can either:\n",
      "\t- Avoid using `tokenizers` before the fork if possible\n",
      "\t- Explicitly set the environment variable TOKENIZERS_PARALLELISM=(true | false)\n"
     ]
    }
   ],
   "source": [
    "!nvidia-smi"
   ]
  },
  {
   "cell_type": "code",
   "execution_count": 21,
   "id": "d4033af3-f066-458b-b9c4-a5f086801d46",
   "metadata": {
    "scrolled": true
   },
   "outputs": [
    {
     "name": "stdin",
     "output_type": "stream",
     "text": [
      "The repository for microsoft/Phi-3-mini-128k-instruct contains custom code which must be executed to correctly load the model. You can inspect the repository content at https://hf.co/microsoft/Phi-3-mini-128k-instruct.\n",
      "You can avoid this prompt in future by passing the argument `trust_remote_code=True`.\n",
      "\n",
      "Do you wish to run the custom code? [y/N]  y\n"
     ]
    },
    {
     "name": "stderr",
     "output_type": "stream",
     "text": [
      "`flash-attention` package not found, consider installing for better performance: No module named 'flash_attn'.\n",
      "Current `flash-attenton` does not support `window_size`. Either upgrade or use `attn_implementation='eager'`.\n",
      "Loading checkpoint shards: 100%|██████████████████████████████████████████████████| 2/2 [00:01<00:00,  1.58it/s]\n",
      "Special tokens have been added in the vocabulary, make sure the associated word embeddings are fine-tuned or trained.\n"
     ]
    }
   ],
   "source": [
    "# Reduce context window to 20k\n",
    "config = AutoConfig.from_pretrained(\"microsoft/Phi-3-mini-128k-instruct\")\n",
    "config.max_position_embeddings = 20000  # Set to 20k tokens\n",
    "\n",
    "model = AutoModelForCausalLM.from_pretrained(\n",
    "    \"microsoft/Phi-3-mini-128k-instruct\", \n",
    "    device_map=\"cuda\", \n",
    "    torch_dtype=\"auto\", \n",
    "    trust_remote_code=True, \n",
    ")\n",
    "tokenizer = AutoTokenizer.from_pretrained(\"microsoft/Phi-3-mini-128k-instruct\")\n",
    "\n",
    "pipe = pipeline(\n",
    "    \"text-generation\",\n",
    "    model=model,\n",
    "    tokenizer=tokenizer,\n",
    "    max_new_tokens=500,\n",
    "    max_length=20000\n",
    ")"
   ]
  },
  {
   "cell_type": "code",
   "execution_count": 22,
   "id": "c0eabcf6-cf7c-47b8-85da-1e086348355d",
   "metadata": {},
   "outputs": [],
   "source": [
    "llm_phi3 = HuggingFacePipeline(pipeline=pipe)"
   ]
  },
  {
   "cell_type": "code",
   "execution_count": 23,
   "id": "d609cc48-8e27-406d-aa46-2f47208a923d",
   "metadata": {},
   "outputs": [],
   "source": [
    "baseline_phi3_user_prompt = \"\"\"\n",
    "<|user|>\n",
    "You are a helpful assistant that answers questions about university programs.\n",
    "You will be provided a list of relevant context documents and a question.\n",
    "Provide an answer to the question based on information from the relevant context\n",
    "\n",
    "Please answer the question below only based on the context information provided.\n",
    "\n",
    "### Here is a context:\n",
    "{context} \n",
    "\n",
    "### Here is a question:\n",
    "{question}\n",
    "<|end|>\n",
    "<|assistant|>\n",
    "\"\"\""
   ]
  },
  {
   "cell_type": "code",
   "execution_count": 24,
   "id": "a069d31e-048b-4bc0-8c05-aef21f082372",
   "metadata": {},
   "outputs": [],
   "source": [
    "phi3_rag_prompt = ChatPromptTemplate.from_template(baseline_phi3_user_prompt)"
   ]
  },
  {
   "cell_type": "code",
   "execution_count": 25,
   "id": "a257f536-c19a-43d3-aa8b-23eeaec2efed",
   "metadata": {},
   "outputs": [],
   "source": [
    "# Given a query, retrieves documents\n",
    "# Returns the number of tokens in the full context from the retrieved documents\n",
    "def count_tokens_in_context(query):\n",
    "    return len(tokenizer.tokenize(\"\".join([doc.page_content for doc in retriever.invoke(query)])))"
   ]
  },
  {
   "cell_type": "code",
   "execution_count": 26,
   "id": "462ef585-fc20-4175-843d-ebbe9176909e",
   "metadata": {},
   "outputs": [],
   "source": [
    "def extract_assistant_resp(raw_resp):\n",
    "    if \"<|assistant|>\" not in raw_resp:\n",
    "        raise f\"Could not identify assistant token in response: {raw_resp}\"\n",
    "    \n",
    "    return raw_resp.split(\"<|assistant|>\")[1] \n",
    "    "
   ]
  },
  {
   "cell_type": "code",
   "execution_count": 27,
   "id": "f3426396-aac0-4909-8a16-1ef42abb4749",
   "metadata": {},
   "outputs": [],
   "source": [
    "phi3_rag_chain = (\n",
    "    {\"context\": retriever | (lambda docs: format_docs(docs, max_length=20000)),\n",
    "     \"question\": RunnablePassthrough() }\n",
    "    | phi3_rag_prompt\n",
    "    | llm_phi3\n",
    "    | extract_assistant_resp\n",
    ")"
   ]
  },
  {
   "cell_type": "markdown",
   "id": "5de65435-5504-417a-b4bd-5b5af3224d0a",
   "metadata": {},
   "source": [
    "#### Q&A is weaker recursive text chunking"
   ]
  },
  {
   "cell_type": "code",
   "execution_count": 29,
   "id": "618edebb-9663-4fdd-b2ee-7c573db24604",
   "metadata": {
    "scrolled": true
   },
   "outputs": [
    {
     "name": "stderr",
     "output_type": "stream",
     "text": [
      "Both `max_new_tokens` (=500) and `max_length`(=20000) seem to have been set. `max_new_tokens` will take precedence. Please refer to the documentation for more information. (https://huggingface.co/docs/transformers/main/en/main_classes/text_generation)\n"
     ]
    },
    {
     "data": {
      "text/plain": [
       "\"\\n Yes, UC Berkeley offers programs in Data Science. The university is renowned for its wide array of graduate programs, including over 120 graduate programs in 15 schools and colleges. These programs are designed to cater to the interests and career goals of master's, professional, and doctoral students. While the specific details about the Data Science program, such as the department or school it falls under, are not provided in the context, it is clear that UC Berkeley is committed to providing high-quality education and opportunities for students interested in fields like Data Science.\""
      ]
     },
     "execution_count": 29,
     "metadata": {},
     "output_type": "execute_result"
    }
   ],
   "source": [
    "phi3_rag_chain.invoke(\"Does UC Berkeley offer programs in Data Science? What can you tell me about it?\")"
   ]
  },
  {
   "cell_type": "code",
   "execution_count": 30,
   "id": "7c84a31e-29da-402d-862c-f39f17665618",
   "metadata": {},
   "outputs": [
    {
     "name": "stderr",
     "output_type": "stream",
     "text": [
      "Both `max_new_tokens` (=500) and `max_length`(=20000) seem to have been set. `max_new_tokens` will take precedence. Please refer to the documentation for more information. (https://huggingface.co/docs/transformers/main/en/main_classes/text_generation)\n"
     ]
    },
    {
     "data": {
      "text/plain": [
       "'\\n The admission requirements for the MIDS program at UC Berkeley, as per the provided context, include having a bachelor’s degree or recognized equivalent from an accredited institution, and a satisfactory scholastic average, usually a minimum grade-point average (GPA) of 3.0 (B) on a 4.0 scale. It is also recommended for applicants to have undergraduate research, training, or work experience. However, for specific requirements of the MIDS program, applicants should check with the program itself as they may have additional requirements not listed on this page.'"
      ]
     },
     "execution_count": 30,
     "metadata": {},
     "output_type": "execute_result"
    }
   ],
   "source": [
    "phi3_rag_chain.invoke(\"What are the admission requirements for the MIDS program at UC Berkeley\")"
   ]
  },
  {
   "cell_type": "code",
   "execution_count": 33,
   "id": "526f80ae-1b3b-4a38-b9af-23e85224fff7",
   "metadata": {},
   "outputs": [
    {
     "name": "stderr",
     "output_type": "stream",
     "text": [
      "Both `max_new_tokens` (=500) and `max_length`(=20000) seem to have been set. `max_new_tokens` will take precedence. Please refer to the documentation for more information. (https://huggingface.co/docs/transformers/main/en/main_classes/text_generation)\n"
     ]
    },
    {
     "data": {
      "text/plain": [
       "\"\\n The Master of Information and Data Science (MIDS) program at UC Berkeley offers advanced courses designed to prepare students to work with diverse data sets and extract valuable insights using the latest analytical methods and tools. While specific course names are not listed in the provided context, the program's curriculum emphasizes the importance of inquiry and practical application in the field of information and data science.\""
      ]
     },
     "execution_count": 33,
     "metadata": {},
     "output_type": "execute_result"
    }
   ],
   "source": [
    "phi3_rag_chain.invoke(\"What kind of advanced courses does the MIDS program at UC Berkeley offer? Provide course names and an overview.\")"
   ]
  },
  {
   "cell_type": "code",
   "execution_count": 34,
   "id": "9ac07bfa-2e84-4278-8905-d09eb0a23358",
   "metadata": {},
   "outputs": [
    {
     "name": "stderr",
     "output_type": "stream",
     "text": [
      "Both `max_new_tokens` (=500) and `max_length`(=20000) seem to have been set. `max_new_tokens` will take precedence. Please refer to the documentation for more information. (https://huggingface.co/docs/transformers/main/en/main_classes/text_generation)\n"
     ]
    },
    {
     "data": {
      "text/plain": [
       "'\\n Based on the provided context, only CSULB offers a program in Engineering, which could potentially include data science. However, there is no explicit mention of a data science program at CSULB in the provided context. UC Berkeley is not mentioned in the context provided, so it cannot be determined if they offer a data science program from this information.'"
      ]
     },
     "execution_count": 34,
     "metadata": {},
     "output_type": "execute_result"
    }
   ],
   "source": [
    "phi3_rag_chain.invoke(\"Do both UC Berkeley and CSULB offer data science programs?\")"
   ]
  },
  {
   "cell_type": "code",
   "execution_count": 35,
   "id": "bec86b92-6a41-4ec2-877d-e06816fff619",
   "metadata": {},
   "outputs": [
    {
     "name": "stderr",
     "output_type": "stream",
     "text": [
      "Both `max_new_tokens` (=500) and `max_length`(=20000) seem to have been set. `max_new_tokens` will take precedence. Please refer to the documentation for more information. (https://huggingface.co/docs/transformers/main/en/main_classes/text_generation)\n"
     ]
    },
    {
     "data": {
      "text/plain": [
       "'\\n To declare a major in Computer Science as an undergraduate at CSULB, students must first complete the General Education program, which includes at least 9 units in upper-division courses at CSULB. They must also meet precise major specific criteria, which typically involves completing certain lower division preparation courses. \\n\\nStudents who have not yet declared a major must do so by the time they reach 60 earned units. They must have a declared major by this time, whether they are Undeclared or in a pre-major status. \\n\\nAdditionally, students must possess a high school diploma or equivalent, not have been enrolled in college full-time for more than one term in the past five years, and maintain a 2.00 GPA or better in all college work attempted during that time. \\n\\nFinally, all undergraduate students, including those majoring in Computer Science, must demonstrate competency in writing skills as a requirement for graduation.'"
      ]
     },
     "execution_count": 35,
     "metadata": {},
     "output_type": "execute_result"
    }
   ],
   "source": [
    "phi3_rag_chain.invoke(\"What are the requirements to declare major as Computer Science for undergrad at CSULB?\")"
   ]
  },
  {
   "cell_type": "code",
   "execution_count": 36,
   "id": "a183f07a-9d7c-4416-a13b-e961b710e112",
   "metadata": {},
   "outputs": [
    {
     "name": "stderr",
     "output_type": "stream",
     "text": [
      "Both `max_new_tokens` (=500) and `max_length`(=20000) seem to have been set. `max_new_tokens` will take precedence. Please refer to the documentation for more information. (https://huggingface.co/docs/transformers/main/en/main_classes/text_generation)\n"
     ]
    },
    {
     "data": {
      "text/plain": [
       "\"\\n The provided context does not specify the courses offered in the Computer Science program at CSULB. It only lists various departments and programs such as Business Administration, Liberal Arts, Engineering, and more. For detailed course information, one might need to refer to the specific Computer Science department's catalog or contact the university directly.\""
      ]
     },
     "execution_count": 36,
     "metadata": {},
     "output_type": "execute_result"
    }
   ],
   "source": [
    "phi3_rag_chain.invoke(\"What courses does the Computer science program at CSULB offer?\")"
   ]
  },
  {
   "cell_type": "code",
   "execution_count": 34,
   "id": "a465ca05-7e3a-4191-8f3b-3461ac71282b",
   "metadata": {},
   "outputs": [
    {
     "name": "stderr",
     "output_type": "stream",
     "text": [
      "Both `max_new_tokens` (=500) and `max_length`(=20000) seem to have been set. `max_new_tokens` will take precedence. Please refer to the documentation for more information. (https://huggingface.co/docs/transformers/main/en/main_classes/text_generation)\n"
     ]
    },
    {
     "data": {
      "text/plain": [
       "'\\n For the 5th-Year MS in Electrical Engineering & Computer Sciences at UC Berkeley, which is designed for UC Berkeley students, there is no GRE requirement. Applicants are eligible if they have an undergraduate degree from an accredited institution or will have completed it before starting at Berkeley. A satisfactory GPA, typically a 3.0 (B) on a 4.0 scale, is recommended, and undergraduate research, training, or work experience can be beneficial.'"
      ]
     },
     "execution_count": 34,
     "metadata": {},
     "output_type": "execute_result"
    }
   ],
   "source": [
    "phi3_rag_chain.invoke(\"What are the requirements for computer science at UC Berkeley?\")"
   ]
  },
  {
   "cell_type": "code",
   "execution_count": 37,
   "id": "520f4b1d-3b8c-4f73-91e8-c025e11f2cbc",
   "metadata": {},
   "outputs": [
    {
     "name": "stderr",
     "output_type": "stream",
     "text": [
      "Both `max_new_tokens` (=500) and `max_length`(=20000) seem to have been set. `max_new_tokens` will take precedence. Please refer to the documentation for more information. (https://huggingface.co/docs/transformers/main/en/main_classes/text_generation)\n"
     ]
    },
    {
     "data": {
      "text/plain": [
       "\"\\n At UC Berkeley, the graduate program in Computer Science offers a Master's / Professional degree. The program does not require GRE scores for admission. The specific program of interest here is the 5th-Year MS program designed for UC Berkeley students. This program is available in the Fall term, with the application deadline set for December 11, 2023. While the context provided does not detail the course requirements for the program, it is understood that the program would typically include advanced coursework in electrical engineering and computer sciences, as indicated by the program's name.\""
      ]
     },
     "execution_count": 37,
     "metadata": {},
     "output_type": "execute_result"
    }
   ],
   "source": [
    "phi3_rag_chain.invoke(\"Provide an overview of course requirements for computer science at UC Berkeley\")"
   ]
  },
  {
   "cell_type": "code",
   "execution_count": 39,
   "id": "4be6c157-b935-4bb0-aaae-81dbc36d8c49",
   "metadata": {},
   "outputs": [
    {
     "name": "stderr",
     "output_type": "stream",
     "text": [
      "Both `max_new_tokens` (=500) and `max_length`(=20000) seem to have been set. `max_new_tokens` will take precedence. Please refer to the documentation for more information. (https://huggingface.co/docs/transformers/main/en/main_classes/text_generation)\n"
     ]
    },
    {
     "data": {
      "text/plain": [
       "\"\\n The provided context does not contain specific information about the course requirements for the Computer Science program at CSULB. It lists various departments and resources available at the university but does not detail the curriculum or prerequisites for any particular program. For detailed course requirements, one would need to refer directly to the Computer Science department's official catalog or contact the department directly.\""
      ]
     },
     "execution_count": 39,
     "metadata": {},
     "output_type": "execute_result"
    }
   ],
   "source": [
    "phi3_rag_chain.invoke(\"Provide an overview of course requirements for computer science at CSULB\")"
   ]
  },
  {
   "cell_type": "code",
   "execution_count": null,
   "id": "0e76d540-e855-45b0-bddc-503d62cc9a47",
   "metadata": {},
   "outputs": [],
   "source": [
    "phi3_rag_chain.invoke(\"Provide an overview of course requirements for computer science at CSULB\")"
   ]
  },
  {
   "cell_type": "code",
   "execution_count": 38,
   "id": "a5987df6-a5ef-4141-8cd1-8c1a3a697197",
   "metadata": {},
   "outputs": [
    {
     "name": "stderr",
     "output_type": "stream",
     "text": [
      "Both `max_new_tokens` (=500) and `max_length`(=20000) seem to have been set. `max_new_tokens` will take precedence. Please refer to the documentation for more information. (https://huggingface.co/docs/transformers/main/en/main_classes/text_generation)\n"
     ]
    },
    {
     "data": {
      "text/plain": [
       "\"\\n I'm sorry, but based on the provided context, there is no information available comparing the Electrical Engineering program at UC Berkeley to the one at CSULB.\""
      ]
     },
     "execution_count": 38,
     "metadata": {},
     "output_type": "execute_result"
    }
   ],
   "source": [
    "phi3_rag_chain.invoke(\"How does Electrical Engineering at UC Berkeley compare to CSULB?\")"
   ]
  },
  {
   "cell_type": "code",
   "execution_count": 31,
   "id": "3761b9c4-8660-4836-869b-3d1bde9d93d0",
   "metadata": {},
   "outputs": [
    {
     "name": "stdout",
     "output_type": "stream",
     "text": [
      "Sat Jun 15 16:49:33 2024       \n",
      "+-----------------------------------------------------------------------------------------+\n",
      "| NVIDIA-SMI 555.42.02              Driver Version: 555.42.02      CUDA Version: 12.5     |\n",
      "|-----------------------------------------+------------------------+----------------------+\n",
      "| GPU  Name                 Persistence-M | Bus-Id          Disp.A | Volatile Uncorr. ECC |\n",
      "| Fan  Temp   Perf          Pwr:Usage/Cap |           Memory-Usage | GPU-Util  Compute M. |\n",
      "|                                         |                        |               MIG M. |\n",
      "|=========================================+========================+======================|\n",
      "|   0  NVIDIA GeForce RTX 4090        Off |   00000000:01:00.0  On |                  Off |\n",
      "| 62%   44C    P0             69W /  450W |   17453MiB /  24564MiB |      0%      Default |\n",
      "|                                         |                        |                  N/A |\n",
      "+-----------------------------------------+------------------------+----------------------+\n",
      "                                                                                         \n",
      "+-----------------------------------------------------------------------------------------+\n",
      "| Processes:                                                                              |\n",
      "|  GPU   GI   CI        PID   Type   Process name                              GPU Memory |\n",
      "|        ID   ID                                                               Usage      |\n",
      "|=========================================================================================|\n",
      "|    0   N/A  N/A      1750      G   /usr/lib/xorg/Xorg                            458MiB |\n",
      "|    0   N/A  N/A      5131      G   cinnamon                                       52MiB |\n",
      "|    0   N/A  N/A      7362      G   ...seed-version=20240614-130101.053000        116MiB |\n",
      "|    0   N/A  N/A    159620      G   ...ictureAPI --variations-seed-version         45MiB |\n",
      "|    0   N/A  N/A    160204      G   ...erProcess --variations-seed-version         63MiB |\n",
      "|    0   N/A  N/A    222378      C   ...iniconda3/envs/LangChain/bin/python      16678MiB |\n",
      "+-----------------------------------------------------------------------------------------+\n"
     ]
    }
   ],
   "source": [
    "!nvidia-smi"
   ]
  },
  {
   "cell_type": "code",
   "execution_count": 45,
   "id": "7376041f-5677-4f3d-ac4b-bacf85db4e8e",
   "metadata": {},
   "outputs": [
    {
     "name": "stdout",
     "output_type": "stream",
     "text": [
      "Sun Jun  2 22:53:31 2024       \n",
      "+-----------------------------------------------------------------------------------------+\n",
      "| NVIDIA-SMI 555.42.02              Driver Version: 555.42.02      CUDA Version: 12.5     |\n",
      "|-----------------------------------------+------------------------+----------------------+\n",
      "| GPU  Name                 Persistence-M | Bus-Id          Disp.A | Volatile Uncorr. ECC |\n",
      "| Fan  Temp   Perf          Pwr:Usage/Cap |           Memory-Usage | GPU-Util  Compute M. |\n",
      "|                                         |                        |               MIG M. |\n",
      "|=========================================+========================+======================|\n",
      "|   0  NVIDIA GeForce RTX 4090        Off |   00000000:01:00.0  On |                  Off |\n",
      "|  0%   43C    P8             30W /  450W |   22665MiB /  24564MiB |      9%      Default |\n",
      "|                                         |                        |                  N/A |\n",
      "+-----------------------------------------+------------------------+----------------------+\n",
      "                                                                                         \n",
      "+-----------------------------------------------------------------------------------------+\n",
      "| Processes:                                                                              |\n",
      "|  GPU   GI   CI        PID   Type   Process name                              GPU Memory |\n",
      "|        ID   ID                                                               Usage      |\n",
      "|=========================================================================================|\n",
      "|    0   N/A  N/A      1973      G   /usr/lib/xorg/Xorg                            451MiB |\n",
      "|    0   N/A  N/A      5309      G   cinnamon                                       80MiB |\n",
      "|    0   N/A  N/A      5923      G   ...seed-version=20240531-130126.993000        209MiB |\n",
      "|    0   N/A  N/A     16985      G   ...erProcess --variations-seed-version        104MiB |\n",
      "|    0   N/A  N/A     33793      C   ...iniconda3/envs/LangChain/bin/python      21786MiB |\n",
      "+-----------------------------------------------------------------------------------------+\n"
     ]
    }
   ],
   "source": [
    "!nvidia-smi"
   ]
  },
  {
   "cell_type": "code",
   "execution_count": 48,
   "id": "d109e913-193e-4b24-96f8-148b940da720",
   "metadata": {},
   "outputs": [
    {
     "name": "stderr",
     "output_type": "stream",
     "text": [
      "Both `max_new_tokens` (=500) and `max_length`(=20000) seem to have been set. `max_new_tokens` will take precedence. Please refer to the documentation for more information. (https://huggingface.co/docs/transformers/main/en/main_classes/text_generation)\n"
     ]
    },
    {
     "data": {
      "text/plain": [
       "'\\n The estimated total tuition and fees for the MIDS program for a new student starting in Fall 2023 is currently $81,633. This cost is an estimate and most students complete the degree in approximately two years. However, the exact amount may vary based on several factors.'"
      ]
     },
     "execution_count": 48,
     "metadata": {},
     "output_type": "execute_result"
    }
   ],
   "source": [
    "phi3_rag_chain.invoke(\"Can I \")"
   ]
  },
  {
   "cell_type": "code",
   "execution_count": null,
   "id": "a9c3787a-e600-4aa4-a4eb-df49ef8133f8",
   "metadata": {},
   "outputs": [],
   "source": []
  }
 ],
 "metadata": {
  "kernelspec": {
   "display_name": "Python 3 (ipykernel)",
   "language": "python",
   "name": "python3"
  },
  "language_info": {
   "codemirror_mode": {
    "name": "ipython",
    "version": 3
   },
   "file_extension": ".py",
   "mimetype": "text/x-python",
   "name": "python",
   "nbconvert_exporter": "python",
   "pygments_lexer": "ipython3",
   "version": "3.12.2"
  }
 },
 "nbformat": 4,
 "nbformat_minor": 5
}
