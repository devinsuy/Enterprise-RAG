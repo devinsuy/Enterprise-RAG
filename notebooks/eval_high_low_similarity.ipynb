{
 "cells": [
  {
   "cell_type": "markdown",
   "id": "a1ca1687-79fb-4439-8c91-7b1049c36153",
   "metadata": {},
   "source": [
    "### Install dependencies"
   ]
  },
  {
   "cell_type": "code",
   "execution_count": 1,
   "id": "d8fbce3d-65f5-4ded-8fd4-d9f1101286a9",
   "metadata": {
    "scrolled": true,
    "tags": []
   },
   "outputs": [
    {
     "name": "stdout",
     "output_type": "stream",
     "text": [
      "Requirement already satisfied: boto3 in /home/ec2-user/anaconda3/envs/python3/lib/python3.10/site-packages (1.34.101)\n",
      "Collecting boto3\n",
      "  Downloading boto3-1.34.143-py3-none-any.whl.metadata (6.6 kB)\n",
      "Requirement already satisfied: sagemaker in /home/ec2-user/anaconda3/envs/python3/lib/python3.10/site-packages (2.219.0)\n",
      "Collecting sagemaker\n",
      "  Downloading sagemaker-2.225.0-py3-none-any.whl.metadata (15 kB)\n",
      "Collecting langchain\n",
      "  Downloading langchain-0.2.7-py3-none-any.whl.metadata (6.9 kB)\n",
      "Collecting langchain-community\n",
      "  Downloading langchain_community-0.2.7-py3-none-any.whl.metadata (2.5 kB)\n",
      "Collecting langchain-core\n",
      "  Downloading langchain_core-0.2.13-py3-none-any.whl.metadata (6.0 kB)\n",
      "Collecting faiss-cpu\n",
      "  Downloading faiss_cpu-1.8.0.post1-cp310-cp310-manylinux_2_17_x86_64.manylinux2014_x86_64.whl.metadata (3.7 kB)\n",
      "Requirement already satisfied: requests in /home/ec2-user/anaconda3/envs/python3/lib/python3.10/site-packages (2.31.0)\n",
      "Collecting requests\n",
      "  Downloading requests-2.32.3-py3-none-any.whl.metadata (4.6 kB)\n",
      "Collecting opensearch-py\n",
      "  Downloading opensearch_py-2.6.0-py2.py3-none-any.whl.metadata (7.0 kB)\n",
      "Collecting sentence-transformers\n",
      "  Downloading sentence_transformers-3.0.1-py3-none-any.whl.metadata (10 kB)\n",
      "Collecting langchain-text-splitters\n",
      "  Downloading langchain_text_splitters-0.2.2-py3-none-any.whl.metadata (2.1 kB)\n",
      "Collecting requests-aws4auth\n",
      "  Downloading requests_aws4auth-1.2.3-py2.py3-none-any.whl.metadata (18 kB)\n",
      "Collecting qdrant-client\n",
      "  Downloading qdrant_client-1.10.1-py3-none-any.whl.metadata (10 kB)\n",
      "Collecting botocore<1.35.0,>=1.34.143 (from boto3)\n",
      "  Downloading botocore-1.34.143-py3-none-any.whl.metadata (5.7 kB)\n",
      "Requirement already satisfied: jmespath<2.0.0,>=0.7.1 in /home/ec2-user/anaconda3/envs/python3/lib/python3.10/site-packages (from boto3) (1.0.1)\n",
      "Requirement already satisfied: s3transfer<0.11.0,>=0.10.0 in /home/ec2-user/anaconda3/envs/python3/lib/python3.10/site-packages (from boto3) (0.10.1)\n",
      "Requirement already satisfied: attrs<24,>=23.1.0 in /home/ec2-user/anaconda3/envs/python3/lib/python3.10/site-packages (from sagemaker) (23.2.0)\n",
      "Requirement already satisfied: cloudpickle==2.2.1 in /home/ec2-user/anaconda3/envs/python3/lib/python3.10/site-packages (from sagemaker) (2.2.1)\n",
      "Requirement already satisfied: google-pasta in /home/ec2-user/anaconda3/envs/python3/lib/python3.10/site-packages (from sagemaker) (0.2.0)\n",
      "Requirement already satisfied: numpy<2.0,>=1.9.0 in /home/ec2-user/anaconda3/envs/python3/lib/python3.10/site-packages (from sagemaker) (1.22.4)\n",
      "Requirement already satisfied: protobuf<5.0,>=3.12 in /home/ec2-user/anaconda3/envs/python3/lib/python3.10/site-packages (from sagemaker) (4.25.3)\n",
      "Requirement already satisfied: smdebug-rulesconfig==1.0.1 in /home/ec2-user/anaconda3/envs/python3/lib/python3.10/site-packages (from sagemaker) (1.0.1)\n",
      "Requirement already satisfied: importlib-metadata<7.0,>=1.4.0 in /home/ec2-user/anaconda3/envs/python3/lib/python3.10/site-packages (from sagemaker) (6.11.0)\n",
      "Requirement already satisfied: packaging>=20.0 in /home/ec2-user/anaconda3/envs/python3/lib/python3.10/site-packages (from sagemaker) (21.3)\n",
      "Requirement already satisfied: pandas in /home/ec2-user/anaconda3/envs/python3/lib/python3.10/site-packages (from sagemaker) (2.2.1)\n",
      "Requirement already satisfied: pathos in /home/ec2-user/anaconda3/envs/python3/lib/python3.10/site-packages (from sagemaker) (0.3.2)\n",
      "Requirement already satisfied: schema in /home/ec2-user/anaconda3/envs/python3/lib/python3.10/site-packages (from sagemaker) (0.7.7)\n",
      "Requirement already satisfied: PyYAML~=6.0 in /home/ec2-user/anaconda3/envs/python3/lib/python3.10/site-packages (from sagemaker) (6.0.1)\n",
      "Requirement already satisfied: jsonschema in /home/ec2-user/anaconda3/envs/python3/lib/python3.10/site-packages (from sagemaker) (4.21.1)\n",
      "Requirement already satisfied: platformdirs in /home/ec2-user/anaconda3/envs/python3/lib/python3.10/site-packages (from sagemaker) (4.2.0)\n",
      "Requirement already satisfied: tblib<4,>=1.7.0 in /home/ec2-user/anaconda3/envs/python3/lib/python3.10/site-packages (from sagemaker) (3.0.0)\n",
      "Requirement already satisfied: urllib3<3.0.0,>=1.26.8 in /home/ec2-user/anaconda3/envs/python3/lib/python3.10/site-packages (from sagemaker) (2.2.1)\n",
      "Requirement already satisfied: docker in /home/ec2-user/anaconda3/envs/python3/lib/python3.10/site-packages (from sagemaker) (6.1.3)\n",
      "Requirement already satisfied: tqdm in /home/ec2-user/anaconda3/envs/python3/lib/python3.10/site-packages (from sagemaker) (4.66.2)\n",
      "Requirement already satisfied: psutil in /home/ec2-user/anaconda3/envs/python3/lib/python3.10/site-packages (from sagemaker) (5.9.8)\n",
      "Requirement already satisfied: SQLAlchemy<3,>=1.4 in /home/ec2-user/anaconda3/envs/python3/lib/python3.10/site-packages (from langchain) (2.0.29)\n",
      "Requirement already satisfied: aiohttp<4.0.0,>=3.8.3 in /home/ec2-user/anaconda3/envs/python3/lib/python3.10/site-packages (from langchain) (3.9.3)\n",
      "Requirement already satisfied: async-timeout<5.0.0,>=4.0.0 in /home/ec2-user/anaconda3/envs/python3/lib/python3.10/site-packages (from langchain) (4.0.3)\n",
      "Collecting langsmith<0.2.0,>=0.1.17 (from langchain)\n",
      "  Downloading langsmith-0.1.85-py3-none-any.whl.metadata (13 kB)\n",
      "Collecting pydantic<3,>=1 (from langchain)\n",
      "  Downloading pydantic-2.8.2-py3-none-any.whl.metadata (125 kB)\n",
      "\u001b[2K     \u001b[90m━━━━━━━━━━━━━━━━━━━━━━━━━━━━━━━━━━━━━━\u001b[0m \u001b[32m125.2/125.2 kB\u001b[0m \u001b[31m18.6 MB/s\u001b[0m eta \u001b[36m0:00:00\u001b[0m\n",
      "\u001b[?25hRequirement already satisfied: tenacity!=8.4.0,<9.0.0,>=8.1.0 in /home/ec2-user/anaconda3/envs/python3/lib/python3.10/site-packages (from langchain) (8.2.3)\n",
      "Collecting dataclasses-json<0.7,>=0.5.7 (from langchain-community)\n",
      "  Downloading dataclasses_json-0.6.7-py3-none-any.whl.metadata (25 kB)\n",
      "Collecting jsonpatch<2.0,>=1.33 (from langchain-core)\n",
      "  Downloading jsonpatch-1.33-py2.py3-none-any.whl.metadata (3.0 kB)\n",
      "Collecting packaging>=20.0 (from sagemaker)\n",
      "  Downloading packaging-24.1-py3-none-any.whl.metadata (3.2 kB)\n",
      "Requirement already satisfied: charset-normalizer<4,>=2 in /home/ec2-user/anaconda3/envs/python3/lib/python3.10/site-packages (from requests) (3.3.2)\n",
      "Requirement already satisfied: idna<4,>=2.5 in /home/ec2-user/anaconda3/envs/python3/lib/python3.10/site-packages (from requests) (3.6)\n",
      "Requirement already satisfied: certifi>=2017.4.17 in /home/ec2-user/anaconda3/envs/python3/lib/python3.10/site-packages (from requests) (2024.2.2)\n",
      "Requirement already satisfied: six in /home/ec2-user/anaconda3/envs/python3/lib/python3.10/site-packages (from opensearch-py) (1.16.0)\n",
      "Requirement already satisfied: python-dateutil in /home/ec2-user/anaconda3/envs/python3/lib/python3.10/site-packages (from opensearch-py) (2.9.0)\n",
      "Collecting Events (from opensearch-py)\n",
      "  Downloading Events-0.5-py3-none-any.whl.metadata (3.9 kB)\n",
      "Collecting transformers<5.0.0,>=4.34.0 (from sentence-transformers)\n",
      "  Downloading transformers-4.42.3-py3-none-any.whl.metadata (43 kB)\n",
      "\u001b[2K     \u001b[90m━━━━━━━━━━━━━━━━━━━━━━━━━━━━━━━━━━━━━━━━\u001b[0m \u001b[32m43.6/43.6 kB\u001b[0m \u001b[31m10.7 MB/s\u001b[0m eta \u001b[36m0:00:00\u001b[0m\n",
      "\u001b[?25hCollecting torch>=1.11.0 (from sentence-transformers)\n",
      "  Downloading torch-2.3.1-cp310-cp310-manylinux1_x86_64.whl.metadata (26 kB)\n",
      "Requirement already satisfied: scikit-learn in /home/ec2-user/anaconda3/envs/python3/lib/python3.10/site-packages (from sentence-transformers) (1.4.1.post1)\n",
      "Requirement already satisfied: scipy in /home/ec2-user/anaconda3/envs/python3/lib/python3.10/site-packages (from sentence-transformers) (1.12.0)\n",
      "Collecting huggingface-hub>=0.15.1 (from sentence-transformers)\n",
      "  Downloading huggingface_hub-0.23.4-py3-none-any.whl.metadata (12 kB)\n",
      "Requirement already satisfied: Pillow in /home/ec2-user/anaconda3/envs/python3/lib/python3.10/site-packages (from sentence-transformers) (10.2.0)\n",
      "Collecting grpcio>=1.41.0 (from qdrant-client)\n",
      "  Downloading grpcio-1.64.1-cp310-cp310-manylinux_2_17_x86_64.manylinux2014_x86_64.whl.metadata (3.3 kB)\n",
      "Collecting grpcio-tools>=1.41.0 (from qdrant-client)\n",
      "  Downloading grpcio_tools-1.64.1-cp310-cp310-manylinux_2_17_x86_64.manylinux2014_x86_64.whl.metadata (5.3 kB)\n",
      "Requirement already satisfied: httpx>=0.20.0 in /home/ec2-user/anaconda3/envs/python3/lib/python3.10/site-packages (from httpx[http2]>=0.20.0->qdrant-client) (0.27.0)\n",
      "Collecting portalocker<3.0.0,>=2.7.0 (from qdrant-client)\n",
      "  Downloading portalocker-2.10.0-py3-none-any.whl.metadata (8.5 kB)\n",
      "Requirement already satisfied: aiosignal>=1.1.2 in /home/ec2-user/anaconda3/envs/python3/lib/python3.10/site-packages (from aiohttp<4.0.0,>=3.8.3->langchain) (1.3.1)\n",
      "Requirement already satisfied: frozenlist>=1.1.1 in /home/ec2-user/anaconda3/envs/python3/lib/python3.10/site-packages (from aiohttp<4.0.0,>=3.8.3->langchain) (1.4.1)\n",
      "Requirement already satisfied: multidict<7.0,>=4.5 in /home/ec2-user/anaconda3/envs/python3/lib/python3.10/site-packages (from aiohttp<4.0.0,>=3.8.3->langchain) (6.0.5)\n",
      "Requirement already satisfied: yarl<2.0,>=1.0 in /home/ec2-user/anaconda3/envs/python3/lib/python3.10/site-packages (from aiohttp<4.0.0,>=3.8.3->langchain) (1.9.4)\n",
      "Collecting marshmallow<4.0.0,>=3.18.0 (from dataclasses-json<0.7,>=0.5.7->langchain-community)\n",
      "  Downloading marshmallow-3.21.3-py3-none-any.whl.metadata (7.1 kB)\n",
      "Collecting typing-inspect<1,>=0.4.0 (from dataclasses-json<0.7,>=0.5.7->langchain-community)\n",
      "  Downloading typing_inspect-0.9.0-py3-none-any.whl.metadata (1.5 kB)\n",
      "INFO: pip is looking at multiple versions of grpcio-tools to determine which version is compatible with other requirements. This could take a while.\n",
      "Collecting grpcio-tools>=1.41.0 (from qdrant-client)\n",
      "  Downloading grpcio_tools-1.64.0-cp310-cp310-manylinux_2_17_x86_64.manylinux2014_x86_64.whl.metadata (5.3 kB)\n",
      "  Downloading grpcio_tools-1.63.0-cp310-cp310-manylinux_2_17_x86_64.manylinux2014_x86_64.whl.metadata (5.3 kB)\n",
      "  Downloading grpcio_tools-1.62.2-cp310-cp310-manylinux_2_17_x86_64.manylinux2014_x86_64.whl.metadata (6.2 kB)\n",
      "Requirement already satisfied: setuptools in /home/ec2-user/anaconda3/envs/python3/lib/python3.10/site-packages (from grpcio-tools>=1.41.0->qdrant-client) (69.2.0)\n",
      "Requirement already satisfied: anyio in /home/ec2-user/anaconda3/envs/python3/lib/python3.10/site-packages (from httpx>=0.20.0->httpx[http2]>=0.20.0->qdrant-client) (4.3.0)\n",
      "Requirement already satisfied: httpcore==1.* in /home/ec2-user/anaconda3/envs/python3/lib/python3.10/site-packages (from httpx>=0.20.0->httpx[http2]>=0.20.0->qdrant-client) (1.0.4)\n",
      "Requirement already satisfied: sniffio in /home/ec2-user/anaconda3/envs/python3/lib/python3.10/site-packages (from httpx>=0.20.0->httpx[http2]>=0.20.0->qdrant-client) (1.3.1)\n",
      "Requirement already satisfied: h11<0.15,>=0.13 in /home/ec2-user/anaconda3/envs/python3/lib/python3.10/site-packages (from httpcore==1.*->httpx>=0.20.0->httpx[http2]>=0.20.0->qdrant-client) (0.14.0)\n",
      "Requirement already satisfied: h2<5,>=3 in /home/ec2-user/anaconda3/envs/python3/lib/python3.10/site-packages (from httpx[http2]>=0.20.0->qdrant-client) (4.1.0)\n",
      "Requirement already satisfied: filelock in /home/ec2-user/anaconda3/envs/python3/lib/python3.10/site-packages (from huggingface-hub>=0.15.1->sentence-transformers) (3.13.3)\n",
      "Requirement already satisfied: fsspec>=2023.5.0 in /home/ec2-user/anaconda3/envs/python3/lib/python3.10/site-packages (from huggingface-hub>=0.15.1->sentence-transformers) (2024.3.1)\n",
      "Requirement already satisfied: typing-extensions>=3.7.4.3 in /home/ec2-user/anaconda3/envs/python3/lib/python3.10/site-packages (from huggingface-hub>=0.15.1->sentence-transformers) (4.10.0)\n",
      "Requirement already satisfied: zipp>=0.5 in /home/ec2-user/anaconda3/envs/python3/lib/python3.10/site-packages (from importlib-metadata<7.0,>=1.4.0->sagemaker) (3.17.0)\n",
      "Requirement already satisfied: jsonpointer>=1.9 in /home/ec2-user/anaconda3/envs/python3/lib/python3.10/site-packages (from jsonpatch<2.0,>=1.33->langchain-core) (2.4)\n",
      "Collecting orjson<4.0.0,>=3.9.14 (from langsmith<0.2.0,>=0.1.17->langchain)\n",
      "  Downloading orjson-3.10.6-cp310-cp310-manylinux_2_17_x86_64.manylinux2014_x86_64.whl.metadata (50 kB)\n",
      "\u001b[2K     \u001b[90m━━━━━━━━━━━━━━━━━━━━━━━━━━━━━━━━━━━━━━━━\u001b[0m \u001b[32m50.4/50.4 kB\u001b[0m \u001b[31m10.5 MB/s\u001b[0m eta \u001b[36m0:00:00\u001b[0m\n",
      "\u001b[?25hCollecting annotated-types>=0.4.0 (from pydantic<3,>=1->langchain)\n",
      "  Downloading annotated_types-0.7.0-py3-none-any.whl.metadata (15 kB)\n",
      "Collecting pydantic-core==2.20.1 (from pydantic<3,>=1->langchain)\n",
      "  Downloading pydantic_core-2.20.1-cp310-cp310-manylinux_2_17_x86_64.manylinux2014_x86_64.whl.metadata (6.6 kB)\n",
      "Requirement already satisfied: greenlet!=0.4.17 in /home/ec2-user/anaconda3/envs/python3/lib/python3.10/site-packages (from SQLAlchemy<3,>=1.4->langchain) (3.0.3)\n",
      "Requirement already satisfied: sympy in /home/ec2-user/anaconda3/envs/python3/lib/python3.10/site-packages (from torch>=1.11.0->sentence-transformers) (1.12)\n",
      "Requirement already satisfied: networkx in /home/ec2-user/anaconda3/envs/python3/lib/python3.10/site-packages (from torch>=1.11.0->sentence-transformers) (3.2.1)\n",
      "Requirement already satisfied: jinja2 in /home/ec2-user/anaconda3/envs/python3/lib/python3.10/site-packages (from torch>=1.11.0->sentence-transformers) (3.1.3)\n",
      "Collecting nvidia-cuda-nvrtc-cu12==12.1.105 (from torch>=1.11.0->sentence-transformers)\n",
      "  Downloading nvidia_cuda_nvrtc_cu12-12.1.105-py3-none-manylinux1_x86_64.whl.metadata (1.5 kB)\n",
      "Collecting nvidia-cuda-runtime-cu12==12.1.105 (from torch>=1.11.0->sentence-transformers)\n",
      "  Downloading nvidia_cuda_runtime_cu12-12.1.105-py3-none-manylinux1_x86_64.whl.metadata (1.5 kB)\n",
      "Collecting nvidia-cuda-cupti-cu12==12.1.105 (from torch>=1.11.0->sentence-transformers)\n",
      "  Downloading nvidia_cuda_cupti_cu12-12.1.105-py3-none-manylinux1_x86_64.whl.metadata (1.6 kB)\n",
      "Collecting nvidia-cudnn-cu12==8.9.2.26 (from torch>=1.11.0->sentence-transformers)\n",
      "  Downloading nvidia_cudnn_cu12-8.9.2.26-py3-none-manylinux1_x86_64.whl.metadata (1.6 kB)\n",
      "Collecting nvidia-cublas-cu12==12.1.3.1 (from torch>=1.11.0->sentence-transformers)\n",
      "  Downloading nvidia_cublas_cu12-12.1.3.1-py3-none-manylinux1_x86_64.whl.metadata (1.5 kB)\n",
      "Collecting nvidia-cufft-cu12==11.0.2.54 (from torch>=1.11.0->sentence-transformers)\n",
      "  Downloading nvidia_cufft_cu12-11.0.2.54-py3-none-manylinux1_x86_64.whl.metadata (1.5 kB)\n",
      "Collecting nvidia-curand-cu12==10.3.2.106 (from torch>=1.11.0->sentence-transformers)\n",
      "  Downloading nvidia_curand_cu12-10.3.2.106-py3-none-manylinux1_x86_64.whl.metadata (1.5 kB)\n",
      "Collecting nvidia-cusolver-cu12==11.4.5.107 (from torch>=1.11.0->sentence-transformers)\n",
      "  Downloading nvidia_cusolver_cu12-11.4.5.107-py3-none-manylinux1_x86_64.whl.metadata (1.6 kB)\n",
      "Collecting nvidia-cusparse-cu12==12.1.0.106 (from torch>=1.11.0->sentence-transformers)\n",
      "  Downloading nvidia_cusparse_cu12-12.1.0.106-py3-none-manylinux1_x86_64.whl.metadata (1.6 kB)\n",
      "Collecting nvidia-nccl-cu12==2.20.5 (from torch>=1.11.0->sentence-transformers)\n",
      "  Downloading nvidia_nccl_cu12-2.20.5-py3-none-manylinux2014_x86_64.whl.metadata (1.8 kB)\n",
      "Collecting nvidia-nvtx-cu12==12.1.105 (from torch>=1.11.0->sentence-transformers)\n",
      "  Downloading nvidia_nvtx_cu12-12.1.105-py3-none-manylinux1_x86_64.whl.metadata (1.7 kB)\n",
      "Collecting triton==2.3.1 (from torch>=1.11.0->sentence-transformers)\n",
      "  Downloading triton-2.3.1-cp310-cp310-manylinux_2_17_x86_64.manylinux2014_x86_64.whl.metadata (1.4 kB)\n",
      "Collecting nvidia-nvjitlink-cu12 (from nvidia-cusolver-cu12==11.4.5.107->torch>=1.11.0->sentence-transformers)\n",
      "  Downloading nvidia_nvjitlink_cu12-12.5.82-py3-none-manylinux2014_x86_64.whl.metadata (1.5 kB)\n",
      "Requirement already satisfied: regex!=2019.12.17 in /home/ec2-user/anaconda3/envs/python3/lib/python3.10/site-packages (from transformers<5.0.0,>=4.34.0->sentence-transformers) (2023.12.25)\n",
      "Collecting safetensors>=0.4.1 (from transformers<5.0.0,>=4.34.0->sentence-transformers)\n",
      "  Downloading safetensors-0.4.3-cp310-cp310-manylinux_2_17_x86_64.manylinux2014_x86_64.whl.metadata (3.8 kB)\n",
      "Collecting tokenizers<0.20,>=0.19 (from transformers<5.0.0,>=4.34.0->sentence-transformers)\n",
      "  Downloading tokenizers-0.19.1-cp310-cp310-manylinux_2_17_x86_64.manylinux2014_x86_64.whl.metadata (6.7 kB)\n",
      "Requirement already satisfied: websocket-client>=0.32.0 in /home/ec2-user/anaconda3/envs/python3/lib/python3.10/site-packages (from docker->sagemaker) (1.7.0)\n",
      "Requirement already satisfied: jsonschema-specifications>=2023.03.6 in /home/ec2-user/anaconda3/envs/python3/lib/python3.10/site-packages (from jsonschema->sagemaker) (2023.12.1)\n",
      "Requirement already satisfied: referencing>=0.28.4 in /home/ec2-user/anaconda3/envs/python3/lib/python3.10/site-packages (from jsonschema->sagemaker) (0.34.0)\n",
      "Requirement already satisfied: rpds-py>=0.7.1 in /home/ec2-user/anaconda3/envs/python3/lib/python3.10/site-packages (from jsonschema->sagemaker) (0.18.0)\n",
      "Requirement already satisfied: pytz>=2020.1 in /home/ec2-user/anaconda3/envs/python3/lib/python3.10/site-packages (from pandas->sagemaker) (2024.1)\n",
      "Requirement already satisfied: tzdata>=2022.7 in /home/ec2-user/anaconda3/envs/python3/lib/python3.10/site-packages (from pandas->sagemaker) (2024.1)\n",
      "Requirement already satisfied: ppft>=1.7.6.8 in /home/ec2-user/anaconda3/envs/python3/lib/python3.10/site-packages (from pathos->sagemaker) (1.7.6.8)\n",
      "Requirement already satisfied: dill>=0.3.8 in /home/ec2-user/anaconda3/envs/python3/lib/python3.10/site-packages (from pathos->sagemaker) (0.3.8)\n",
      "Requirement already satisfied: pox>=0.3.4 in /home/ec2-user/anaconda3/envs/python3/lib/python3.10/site-packages (from pathos->sagemaker) (0.3.4)\n",
      "Requirement already satisfied: multiprocess>=0.70.16 in /home/ec2-user/anaconda3/envs/python3/lib/python3.10/site-packages (from pathos->sagemaker) (0.70.16)\n",
      "Requirement already satisfied: joblib>=1.2.0 in /home/ec2-user/anaconda3/envs/python3/lib/python3.10/site-packages (from scikit-learn->sentence-transformers) (1.3.2)\n",
      "Requirement already satisfied: threadpoolctl>=2.0.0 in /home/ec2-user/anaconda3/envs/python3/lib/python3.10/site-packages (from scikit-learn->sentence-transformers) (3.4.0)\n",
      "Requirement already satisfied: hyperframe<7,>=6.0 in /home/ec2-user/anaconda3/envs/python3/lib/python3.10/site-packages (from h2<5,>=3->httpx[http2]>=0.20.0->qdrant-client) (6.0.1)\n",
      "Requirement already satisfied: hpack<5,>=4.0 in /home/ec2-user/anaconda3/envs/python3/lib/python3.10/site-packages (from h2<5,>=3->httpx[http2]>=0.20.0->qdrant-client) (4.0.0)\n",
      "Requirement already satisfied: mypy-extensions>=0.3.0 in /home/ec2-user/anaconda3/envs/python3/lib/python3.10/site-packages (from typing-inspect<1,>=0.4.0->dataclasses-json<0.7,>=0.5.7->langchain-community) (1.0.0)\n",
      "Requirement already satisfied: exceptiongroup>=1.0.2 in /home/ec2-user/anaconda3/envs/python3/lib/python3.10/site-packages (from anyio->httpx>=0.20.0->httpx[http2]>=0.20.0->qdrant-client) (1.2.0)\n",
      "Requirement already satisfied: MarkupSafe>=2.0 in /home/ec2-user/anaconda3/envs/python3/lib/python3.10/site-packages (from jinja2->torch>=1.11.0->sentence-transformers) (2.1.5)\n",
      "Requirement already satisfied: mpmath>=0.19 in /home/ec2-user/anaconda3/envs/python3/lib/python3.10/site-packages (from sympy->torch>=1.11.0->sentence-transformers) (1.3.0)\n",
      "Downloading boto3-1.34.143-py3-none-any.whl (139 kB)\n",
      "\u001b[2K   \u001b[90m━━━━━━━━━━━━━━━━━━━━━━━━━━━━━━━━━━━━━━━━\u001b[0m \u001b[32m139.2/139.2 kB\u001b[0m \u001b[31m25.0 MB/s\u001b[0m eta \u001b[36m0:00:00\u001b[0m\n",
      "\u001b[?25hDownloading sagemaker-2.225.0-py3-none-any.whl (1.5 MB)\n",
      "\u001b[2K   \u001b[90m━━━━━━━━━━━━━━━━━━━━━━━━━━━━━━━━━━━━━━━━\u001b[0m \u001b[32m1.5/1.5 MB\u001b[0m \u001b[31m96.3 MB/s\u001b[0m eta \u001b[36m0:00:00\u001b[0m\n",
      "\u001b[?25hDownloading langchain-0.2.7-py3-none-any.whl (983 kB)\n",
      "\u001b[2K   \u001b[90m━━━━━━━━━━━━━━━━━━━━━━━━━━━━━━━━━━━━━━━\u001b[0m \u001b[32m983.6/983.6 kB\u001b[0m \u001b[31m101.4 MB/s\u001b[0m eta \u001b[36m0:00:00\u001b[0m\n",
      "\u001b[?25hDownloading langchain_community-0.2.7-py3-none-any.whl (2.2 MB)\n",
      "\u001b[2K   \u001b[90m━━━━━━━━━━━━━━━━━━━━━━━━━━━━━━━━━━━━━━━━\u001b[0m \u001b[32m2.2/2.2 MB\u001b[0m \u001b[31m84.8 MB/s\u001b[0m eta \u001b[36m0:00:00\u001b[0m\n",
      "\u001b[?25hDownloading langchain_core-0.2.13-py3-none-any.whl (357 kB)\n",
      "\u001b[2K   \u001b[90m━━━━━━━━━━━━━━━━━━━━━━━━━━━━━━━━━━━━━━━━\u001b[0m \u001b[32m357.9/357.9 kB\u001b[0m \u001b[31m55.9 MB/s\u001b[0m eta \u001b[36m0:00:00\u001b[0m\n",
      "\u001b[?25hDownloading faiss_cpu-1.8.0.post1-cp310-cp310-manylinux_2_17_x86_64.manylinux2014_x86_64.whl (27.0 MB)\n",
      "\u001b[2K   \u001b[90m━━━━━━━━━━━━━━━━━━━━━━━━━━━━━━━━━━━━━━━━\u001b[0m \u001b[32m27.0/27.0 MB\u001b[0m \u001b[31m37.0 MB/s\u001b[0m eta \u001b[36m0:00:00\u001b[0m:00:01\u001b[0m00:01\u001b[0m\n",
      "\u001b[?25hDownloading requests-2.32.3-py3-none-any.whl (64 kB)\n",
      "\u001b[2K   \u001b[90m━━━━━━━━━━━━━━━━━━━━━━━━━━━━━━━━━━━━━━━━\u001b[0m \u001b[32m64.9/64.9 kB\u001b[0m \u001b[31m12.0 MB/s\u001b[0m eta \u001b[36m0:00:00\u001b[0m\n",
      "\u001b[?25hDownloading opensearch_py-2.6.0-py2.py3-none-any.whl (311 kB)\n",
      "\u001b[2K   \u001b[90m━━━━━━━━━━━━━━━━━━━━━━━━━━━━━━━━━━━━━━━━\u001b[0m \u001b[32m311.2/311.2 kB\u001b[0m \u001b[31m56.0 MB/s\u001b[0m eta \u001b[36m0:00:00\u001b[0m\n",
      "\u001b[?25hDownloading sentence_transformers-3.0.1-py3-none-any.whl (227 kB)\n",
      "\u001b[2K   \u001b[90m━━━━━━━━━━━━━━━━━━━━━━━━━━━━━━━━━━━━━━━━\u001b[0m \u001b[32m227.1/227.1 kB\u001b[0m \u001b[31m44.2 MB/s\u001b[0m eta \u001b[36m0:00:00\u001b[0m\n",
      "\u001b[?25hDownloading langchain_text_splitters-0.2.2-py3-none-any.whl (25 kB)\n",
      "Downloading requests_aws4auth-1.2.3-py2.py3-none-any.whl (24 kB)\n",
      "Downloading qdrant_client-1.10.1-py3-none-any.whl (254 kB)\n",
      "\u001b[2K   \u001b[90m━━━━━━━━━━━━━━━━━━━━━━━━━━━━━━━━━━━━━━━━\u001b[0m \u001b[32m254.1/254.1 kB\u001b[0m \u001b[31m28.3 MB/s\u001b[0m eta \u001b[36m0:00:00\u001b[0m\n",
      "\u001b[?25hDownloading botocore-1.34.143-py3-none-any.whl (12.4 MB)\n",
      "\u001b[2K   \u001b[90m━━━━━━━━━━━━━━━━━━━━━━━━━━━━━━━━━━━━━━━━\u001b[0m \u001b[32m12.4/12.4 MB\u001b[0m \u001b[31m88.2 MB/s\u001b[0m eta \u001b[36m0:00:00\u001b[0m:00:01\u001b[0m0:01\u001b[0m\n",
      "\u001b[?25hDownloading dataclasses_json-0.6.7-py3-none-any.whl (28 kB)\n",
      "Downloading grpcio-1.64.1-cp310-cp310-manylinux_2_17_x86_64.manylinux2014_x86_64.whl (5.6 MB)\n",
      "\u001b[2K   \u001b[90m━━━━━━━━━━━━━━━━━━━━━━━━━━━━━━━━━━━━━━━━\u001b[0m \u001b[32m5.6/5.6 MB\u001b[0m \u001b[31m101.4 MB/s\u001b[0m eta \u001b[36m0:00:00\u001b[0m00:01\u001b[0m\n",
      "\u001b[?25hDownloading grpcio_tools-1.62.2-cp310-cp310-manylinux_2_17_x86_64.manylinux2014_x86_64.whl (2.8 MB)\n",
      "\u001b[2K   \u001b[90m━━━━━━━━━━━━━━━━━━━━━━━━━━━━━━━━━━━━━━━━\u001b[0m \u001b[32m2.8/2.8 MB\u001b[0m \u001b[31m101.9 MB/s\u001b[0m eta \u001b[36m0:00:00\u001b[0m\n",
      "\u001b[?25hDownloading huggingface_hub-0.23.4-py3-none-any.whl (402 kB)\n",
      "\u001b[2K   \u001b[90m━━━━━━━━━━━━━━━━━━━━━━━━━━━━━━━━━━━━━━━━\u001b[0m \u001b[32m402.6/402.6 kB\u001b[0m \u001b[31m74.1 MB/s\u001b[0m eta \u001b[36m0:00:00\u001b[0m\n",
      "\u001b[?25hDownloading jsonpatch-1.33-py2.py3-none-any.whl (12 kB)\n",
      "Downloading langsmith-0.1.85-py3-none-any.whl (127 kB)\n",
      "\u001b[2K   \u001b[90m━━━━━━━━━━━━━━━━━━━━━━━━━━━━━━━━━━━━━━━━\u001b[0m \u001b[32m127.9/127.9 kB\u001b[0m \u001b[31m18.7 MB/s\u001b[0m eta \u001b[36m0:00:00\u001b[0m\n",
      "\u001b[?25hDownloading packaging-24.1-py3-none-any.whl (53 kB)\n",
      "\u001b[2K   \u001b[90m━━━━━━━━━━━━━━━━━━━━━━━━━━━━━━━━━━━━━━━━\u001b[0m \u001b[32m54.0/54.0 kB\u001b[0m \u001b[31m6.5 MB/s\u001b[0m eta \u001b[36m0:00:00\u001b[0m\n",
      "\u001b[?25hDownloading portalocker-2.10.0-py3-none-any.whl (18 kB)\n",
      "Downloading pydantic-2.8.2-py3-none-any.whl (423 kB)\n",
      "\u001b[2K   \u001b[90m━━━━━━━━━━━━━━━━━━━━━━━━━━━━━━━━━━━━━━━━\u001b[0m \u001b[32m423.9/423.9 kB\u001b[0m \u001b[31m67.2 MB/s\u001b[0m eta \u001b[36m0:00:00\u001b[0m\n",
      "\u001b[?25hDownloading pydantic_core-2.20.1-cp310-cp310-manylinux_2_17_x86_64.manylinux2014_x86_64.whl (2.1 MB)\n",
      "\u001b[2K   \u001b[90m━━━━━━━━━━━━━━━━━━━━━━━━━━━━━━━━━━━━━━━━\u001b[0m \u001b[32m2.1/2.1 MB\u001b[0m \u001b[31m83.4 MB/s\u001b[0m eta \u001b[36m0:00:00\u001b[0m\n",
      "\u001b[?25hDownloading torch-2.3.1-cp310-cp310-manylinux1_x86_64.whl (779.1 MB)\n",
      "\u001b[2K   \u001b[90m━━━━━━━━━━━━━━━━━━━━━━━━━━━━━━━━━━━━━━━\u001b[0m \u001b[32m779.1/779.1 MB\u001b[0m \u001b[31m984.7 kB/s\u001b[0m eta \u001b[36m0:00:00\u001b[0m00:01\u001b[0m00:01\u001b[0m\n",
      "\u001b[?25hDownloading nvidia_cublas_cu12-12.1.3.1-py3-none-manylinux1_x86_64.whl (410.6 MB)\n",
      "\u001b[2K   \u001b[90m━━━━━━━━━━━━━━━━━━━━━━━━━━━━━━━━━━━━━━━━\u001b[0m \u001b[32m410.6/410.6 MB\u001b[0m \u001b[31m1.9 MB/s\u001b[0m eta \u001b[36m0:00:00\u001b[0m:00:01\u001b[0m00:01\u001b[0m\n",
      "\u001b[?25hDownloading nvidia_cuda_cupti_cu12-12.1.105-py3-none-manylinux1_x86_64.whl (14.1 MB)\n",
      "\u001b[2K   \u001b[90m━━━━━━━━━━━━━━━━━━━━━━━━━━━━━━━━━━━━━━━━\u001b[0m \u001b[32m14.1/14.1 MB\u001b[0m \u001b[31m35.4 MB/s\u001b[0m eta \u001b[36m0:00:00\u001b[0m:00:01\u001b[0m0:01\u001b[0m\n",
      "\u001b[?25hDownloading nvidia_cuda_nvrtc_cu12-12.1.105-py3-none-manylinux1_x86_64.whl (23.7 MB)\n",
      "\u001b[2K   \u001b[90m━━━━━━━━━━━━━━━━━━━━━━━━━━━━━━━━━━━━━━━━\u001b[0m \u001b[32m23.7/23.7 MB\u001b[0m \u001b[31m28.7 MB/s\u001b[0m eta \u001b[36m0:00:00\u001b[0m:00:01\u001b[0m00:01\u001b[0m\n",
      "\u001b[?25hDownloading nvidia_cuda_runtime_cu12-12.1.105-py3-none-manylinux1_x86_64.whl (823 kB)\n",
      "\u001b[2K   \u001b[90m━━━━━━━━━━━━━━━━━━━━━━━━━━━━━━━━━━━━━━━━\u001b[0m \u001b[32m823.6/823.6 kB\u001b[0m \u001b[31m14.0 MB/s\u001b[0m eta \u001b[36m0:00:00\u001b[0m00:01\u001b[0m\n",
      "\u001b[?25hDownloading nvidia_cudnn_cu12-8.9.2.26-py3-none-manylinux1_x86_64.whl (731.7 MB)\n",
      "\u001b[2K   \u001b[90m━━━━━━━━━━━━━━━━━━━━━━━━━━━━━━━━━━━━━━━━\u001b[0m \u001b[32m731.7/731.7 MB\u001b[0m \u001b[31m1.1 MB/s\u001b[0m eta \u001b[36m0:00:00\u001b[0m:00:01\u001b[0m00:01\u001b[0m\n",
      "\u001b[?25hDownloading nvidia_cufft_cu12-11.0.2.54-py3-none-manylinux1_x86_64.whl (121.6 MB)\n",
      "\u001b[2K   \u001b[90m━━━━━━━━━━━━━━━━━━━━━━━━━━━━━━━━━━━━━━━━\u001b[0m \u001b[32m121.6/121.6 MB\u001b[0m \u001b[31m17.8 MB/s\u001b[0m eta \u001b[36m0:00:00\u001b[0m00:01\u001b[0m00:01\u001b[0m\n",
      "\u001b[?25hDownloading nvidia_curand_cu12-10.3.2.106-py3-none-manylinux1_x86_64.whl (56.5 MB)\n",
      "\u001b[2K   \u001b[90m━━━━━━━━━━━━━━━━━━━━━━━━━━━━━━━━━━━━━━━━\u001b[0m \u001b[32m56.5/56.5 MB\u001b[0m \u001b[31m31.3 MB/s\u001b[0m eta \u001b[36m0:00:00\u001b[0m:00:01\u001b[0m00:01\u001b[0m\n",
      "\u001b[?25hDownloading nvidia_cusolver_cu12-11.4.5.107-py3-none-manylinux1_x86_64.whl (124.2 MB)\n",
      "\u001b[2K   \u001b[90m━━━━━━━━━━━━━━━━━━━━━━━━━━━━━━━━━━━━━━━━\u001b[0m \u001b[32m124.2/124.2 MB\u001b[0m \u001b[31m20.9 MB/s\u001b[0m eta \u001b[36m0:00:00\u001b[0m00:01\u001b[0m00:01\u001b[0m\n",
      "\u001b[?25hDownloading nvidia_cusparse_cu12-12.1.0.106-py3-none-manylinux1_x86_64.whl (196.0 MB)\n",
      "\u001b[2K   \u001b[90m━━━━━━━━━━━━━━━━━━━━━━━━━━━━━━━━━━━━━━━━\u001b[0m \u001b[32m196.0/196.0 MB\u001b[0m \u001b[31m8.8 MB/s\u001b[0m eta \u001b[36m0:00:00\u001b[0m:00:01\u001b[0m00:01\u001b[0m\n",
      "\u001b[?25hDownloading nvidia_nccl_cu12-2.20.5-py3-none-manylinux2014_x86_64.whl (176.2 MB)\n",
      "\u001b[2K   \u001b[90m━━━━━━━━━━━━━━━━━━━━━━━━━━━━━━━━━━━━━━━━\u001b[0m \u001b[32m176.2/176.2 MB\u001b[0m \u001b[31m5.6 MB/s\u001b[0m eta \u001b[36m0:00:00\u001b[0m:00:01\u001b[0m00:01\u001b[0m\n",
      "\u001b[?25hDownloading nvidia_nvtx_cu12-12.1.105-py3-none-manylinux1_x86_64.whl (99 kB)\n",
      "\u001b[2K   \u001b[90m━━━━━━━━━━━━━━━━━━━━━━━━━━━━━━━━━━━━━━━━\u001b[0m \u001b[32m99.1/99.1 kB\u001b[0m \u001b[31m1.8 MB/s\u001b[0m eta \u001b[36m0:00:00\u001b[0meta \u001b[36m0:00:01\u001b[0m\n",
      "\u001b[?25hDownloading triton-2.3.1-cp310-cp310-manylinux_2_17_x86_64.manylinux2014_x86_64.whl (168.1 MB)\n",
      "\u001b[2K   \u001b[90m━━━━━━━━━━━━━━━━━━━━━━━━━━━━━━━━━━━━━━━━\u001b[0m \u001b[32m168.1/168.1 MB\u001b[0m \u001b[31m6.0 MB/s\u001b[0m eta \u001b[36m0:00:00\u001b[0m:00:01\u001b[0m00:01\u001b[0m\n",
      "\u001b[?25hDownloading transformers-4.42.3-py3-none-any.whl (9.3 MB)\n",
      "\u001b[2K   \u001b[90m━━━━━━━━━━━━━━━━━━━━━━━━━━━━━━━━━━━━━━━━\u001b[0m \u001b[32m9.3/9.3 MB\u001b[0m \u001b[31m46.7 MB/s\u001b[0m eta \u001b[36m0:00:00\u001b[0m:00:01\u001b[0m00:01\u001b[0m\n",
      "\u001b[?25hDownloading Events-0.5-py3-none-any.whl (6.8 kB)\n",
      "Downloading annotated_types-0.7.0-py3-none-any.whl (13 kB)\n",
      "Downloading marshmallow-3.21.3-py3-none-any.whl (49 kB)\n",
      "\u001b[2K   \u001b[90m━━━━━━━━━━━━━━━━━━━━━━━━━━━━━━━━━━━━━━━━\u001b[0m \u001b[32m49.2/49.2 kB\u001b[0m \u001b[31m831.8 kB/s\u001b[0m eta \u001b[36m0:00:00\u001b[0ma \u001b[36m0:00:01\u001b[0m\n",
      "\u001b[?25hDownloading orjson-3.10.6-cp310-cp310-manylinux_2_17_x86_64.manylinux2014_x86_64.whl (141 kB)\n",
      "\u001b[2K   \u001b[90m━━━━━━━━━━━━━━━━━━━━━━━━━━━━━━━━━━━━━━━━\u001b[0m \u001b[32m141.1/141.1 kB\u001b[0m \u001b[31m3.6 MB/s\u001b[0m eta \u001b[36m0:00:00\u001b[0mta \u001b[36m0:00:01\u001b[0m\n",
      "\u001b[?25hDownloading safetensors-0.4.3-cp310-cp310-manylinux_2_17_x86_64.manylinux2014_x86_64.whl (1.2 MB)\n",
      "\u001b[2K   \u001b[90m━━━━━━━━━━━━━━━━━━━━━━━━━━━━━━━━━━━━━━━━\u001b[0m \u001b[32m1.2/1.2 MB\u001b[0m \u001b[31m21.6 MB/s\u001b[0m eta \u001b[36m0:00:00\u001b[0m:00:01\u001b[0m\n",
      "\u001b[?25hDownloading tokenizers-0.19.1-cp310-cp310-manylinux_2_17_x86_64.manylinux2014_x86_64.whl (3.6 MB)\n",
      "\u001b[2K   \u001b[90m━━━━━━━━━━━━━━━━━━━━━━━━━━━━━━━━━━━━━━━━\u001b[0m \u001b[32m3.6/3.6 MB\u001b[0m \u001b[31m39.8 MB/s\u001b[0m eta \u001b[36m0:00:00\u001b[0m:00:01\u001b[0m\n",
      "\u001b[?25hDownloading typing_inspect-0.9.0-py3-none-any.whl (8.8 kB)\n",
      "Downloading nvidia_nvjitlink_cu12-12.5.82-py3-none-manylinux2014_x86_64.whl (21.3 MB)\n",
      "\u001b[2K   \u001b[90m━━━━━━━━━━━━━━━━━━━━━━━━━━━━━━━━━━━━━━━━\u001b[0m \u001b[32m21.3/21.3 MB\u001b[0m \u001b[31m31.1 MB/s\u001b[0m eta \u001b[36m0:00:00\u001b[0m:00:01\u001b[0m00:01\u001b[0m\n",
      "\u001b[?25hInstalling collected packages: Events, typing-inspect, triton, safetensors, requests, pydantic-core, portalocker, packaging, orjson, nvidia-nvtx-cu12, nvidia-nvjitlink-cu12, nvidia-nccl-cu12, nvidia-curand-cu12, nvidia-cufft-cu12, nvidia-cuda-runtime-cu12, nvidia-cuda-nvrtc-cu12, nvidia-cuda-cupti-cu12, nvidia-cublas-cu12, jsonpatch, grpcio, annotated-types, requests-aws4auth, pydantic, opensearch-py, nvidia-cusparse-cu12, nvidia-cudnn-cu12, marshmallow, huggingface-hub, grpcio-tools, faiss-cpu, botocore, tokenizers, nvidia-cusolver-cu12, langsmith, dataclasses-json, transformers, torch, qdrant-client, langchain-core, boto3, sentence-transformers, sagemaker, langchain-text-splitters, langchain, langchain-community\n",
      "  Attempting uninstall: requests\n",
      "    Found existing installation: requests 2.31.0\n",
      "    Uninstalling requests-2.31.0:\n",
      "      Successfully uninstalled requests-2.31.0\n",
      "  Attempting uninstall: packaging\n",
      "    Found existing installation: packaging 21.3\n",
      "    Uninstalling packaging-21.3:\n",
      "      Successfully uninstalled packaging-21.3\n",
      "  Attempting uninstall: botocore\n",
      "    Found existing installation: botocore 1.34.101\n",
      "    Uninstalling botocore-1.34.101:\n",
      "      Successfully uninstalled botocore-1.34.101\n",
      "  Attempting uninstall: boto3\n",
      "    Found existing installation: boto3 1.34.101\n",
      "    Uninstalling boto3-1.34.101:\n",
      "      Successfully uninstalled boto3-1.34.101\n",
      "  Attempting uninstall: sagemaker\n",
      "    Found existing installation: sagemaker 2.219.0\n",
      "    Uninstalling sagemaker-2.219.0:\n",
      "      Successfully uninstalled sagemaker-2.219.0\n",
      "\u001b[31mERROR: pip's dependency resolver does not currently take into account all the packages that are installed. This behaviour is the source of the following dependency conflicts.\n",
      "awscli 1.32.101 requires botocore==1.34.101, but you have botocore 1.34.143 which is incompatible.\n",
      "sparkmagic 0.21.0 requires pandas<2.0.0,>=0.17.1, but you have pandas 2.2.1 which is incompatible.\n",
      "sphinx 7.2.6 requires docutils<0.21,>=0.18.1, but you have docutils 0.16 which is incompatible.\u001b[0m\u001b[31m\n",
      "\u001b[0mSuccessfully installed Events-0.5 annotated-types-0.7.0 boto3-1.34.143 botocore-1.34.143 dataclasses-json-0.6.7 faiss-cpu-1.8.0.post1 grpcio-1.64.1 grpcio-tools-1.62.2 huggingface-hub-0.23.4 jsonpatch-1.33 langchain-0.2.7 langchain-community-0.2.7 langchain-core-0.2.13 langchain-text-splitters-0.2.2 langsmith-0.1.85 marshmallow-3.21.3 nvidia-cublas-cu12-12.1.3.1 nvidia-cuda-cupti-cu12-12.1.105 nvidia-cuda-nvrtc-cu12-12.1.105 nvidia-cuda-runtime-cu12-12.1.105 nvidia-cudnn-cu12-8.9.2.26 nvidia-cufft-cu12-11.0.2.54 nvidia-curand-cu12-10.3.2.106 nvidia-cusolver-cu12-11.4.5.107 nvidia-cusparse-cu12-12.1.0.106 nvidia-nccl-cu12-2.20.5 nvidia-nvjitlink-cu12-12.5.82 nvidia-nvtx-cu12-12.1.105 opensearch-py-2.6.0 orjson-3.10.6 packaging-24.1 portalocker-2.10.0 pydantic-2.8.2 pydantic-core-2.20.1 qdrant-client-1.10.1 requests-2.32.3 requests-aws4auth-1.2.3 safetensors-0.4.3 sagemaker-2.225.0 sentence-transformers-3.0.1 tokenizers-0.19.1 torch-2.3.1 transformers-4.42.3 triton-2.3.1 typing-inspect-0.9.0\n"
     ]
    }
   ],
   "source": [
    "!pip install boto3 sagemaker langchain langchain-community langchain-core faiss-cpu requests opensearch-py sentence-transformers langchain-text-splitters requests-aws4auth qdrant-client -U"
   ]
  },
  {
   "cell_type": "markdown",
   "id": "8c60fd86-2fdd-4921-b769-45a6d6ae1411",
   "metadata": {},
   "source": [
    "### Load CSV data from S3"
   ]
  },
  {
   "cell_type": "code",
   "execution_count": 2,
   "id": "b02d5178-7946-4ff5-bfdf-d8c784afd6cd",
   "metadata": {
    "tags": []
   },
   "outputs": [
    {
     "name": "stdout",
     "output_type": "stream",
     "text": [
      "/home/ec2-user/SageMaker/Enterprise-RAG/notebooks\n"
     ]
    }
   ],
   "source": [
    "!pwd"
   ]
  },
  {
   "cell_type": "code",
   "execution_count": 3,
   "id": "e42652b8-0122-4f47-b069-a398ae118afc",
   "metadata": {
    "tags": []
   },
   "outputs": [],
   "source": [
    "import boto3\n",
    "import pandas as pd\n",
    "\n",
    "s3 = boto3.client('s3')\n",
    "bucket_name = 'recipes-rag'"
   ]
  },
  {
   "cell_type": "code",
   "execution_count": 4,
   "id": "e0176b52-e799-4947-9264-c6c51897c4b7",
   "metadata": {
    "tags": []
   },
   "outputs": [
    {
     "data": {
      "text/html": [
       "<div>\n",
       "<style scoped>\n",
       "    .dataframe tbody tr th:only-of-type {\n",
       "        vertical-align: middle;\n",
       "    }\n",
       "\n",
       "    .dataframe tbody tr th {\n",
       "        vertical-align: top;\n",
       "    }\n",
       "\n",
       "    .dataframe thead th {\n",
       "        text-align: right;\n",
       "    }\n",
       "</style>\n",
       "<table border=\"1\" class=\"dataframe\">\n",
       "  <thead>\n",
       "    <tr style=\"text-align: right;\">\n",
       "      <th></th>\n",
       "      <th>RecipeId</th>\n",
       "      <th>Name</th>\n",
       "      <th>AuthorId</th>\n",
       "      <th>AuthorName</th>\n",
       "      <th>CookTime</th>\n",
       "      <th>PrepTime</th>\n",
       "      <th>TotalTime</th>\n",
       "      <th>DatePublished</th>\n",
       "      <th>Description</th>\n",
       "      <th>Images</th>\n",
       "      <th>...</th>\n",
       "      <th>FiberContent</th>\n",
       "      <th>SugarContent</th>\n",
       "      <th>ProteinContent</th>\n",
       "      <th>RecipeServings</th>\n",
       "      <th>RecipeYield</th>\n",
       "      <th>RecipeInstructions</th>\n",
       "      <th>CookTime_Minutes</th>\n",
       "      <th>PrepTime_Minutes</th>\n",
       "      <th>TotalTime_Minutes</th>\n",
       "      <th>Combined_Features_Clean</th>\n",
       "    </tr>\n",
       "  </thead>\n",
       "  <tbody>\n",
       "    <tr>\n",
       "      <th>0</th>\n",
       "      <td>38.0</td>\n",
       "      <td>Low-Fat Berry Blue Frozen Dessert</td>\n",
       "      <td>1533</td>\n",
       "      <td>Dancer</td>\n",
       "      <td>PT24H</td>\n",
       "      <td>PT45M</td>\n",
       "      <td>PT24H45M</td>\n",
       "      <td>1999-08-09 21:46:00+00:00</td>\n",
       "      <td>Make and share this Low-Fat Berry Blue Frozen ...</td>\n",
       "      <td>[https://img.sndimg.com/food/image/upload/w_55...</td>\n",
       "      <td>...</td>\n",
       "      <td>3.6</td>\n",
       "      <td>30.2</td>\n",
       "      <td>3.2</td>\n",
       "      <td>4.0</td>\n",
       "      <td>None</td>\n",
       "      <td>[Toss 2 cups berries with sugar., Let stand fo...</td>\n",
       "      <td>1440</td>\n",
       "      <td>45</td>\n",
       "      <td>1485</td>\n",
       "      <td>Low-Fat Berry Blue Frozen Dessert Frozen Desse...</td>\n",
       "    </tr>\n",
       "    <tr>\n",
       "      <th>1</th>\n",
       "      <td>39.0</td>\n",
       "      <td>Biryani</td>\n",
       "      <td>1567</td>\n",
       "      <td>elly9812</td>\n",
       "      <td>PT25M</td>\n",
       "      <td>PT4H</td>\n",
       "      <td>PT4H25M</td>\n",
       "      <td>1999-08-29 13:12:00+00:00</td>\n",
       "      <td>Make and share this Biryani recipe from Food.com.</td>\n",
       "      <td>[https://img.sndimg.com/food/image/upload/w_55...</td>\n",
       "      <td>...</td>\n",
       "      <td>9.0</td>\n",
       "      <td>20.4</td>\n",
       "      <td>63.4</td>\n",
       "      <td>6.0</td>\n",
       "      <td>None</td>\n",
       "      <td>[Soak saffron in warm milk for 5 minutes and p...</td>\n",
       "      <td>25</td>\n",
       "      <td>240</td>\n",
       "      <td>265</td>\n",
       "      <td>Biryani Chicken Breast Make share Biryani reci...</td>\n",
       "    </tr>\n",
       "    <tr>\n",
       "      <th>2</th>\n",
       "      <td>40.0</td>\n",
       "      <td>Best Lemonade</td>\n",
       "      <td>1566</td>\n",
       "      <td>Stephen Little</td>\n",
       "      <td>PT5M</td>\n",
       "      <td>PT30M</td>\n",
       "      <td>PT35M</td>\n",
       "      <td>1999-09-05 19:52:00+00:00</td>\n",
       "      <td>This is from one of my  first Good House Keepi...</td>\n",
       "      <td>[https://img.sndimg.com/food/image/upload/w_55...</td>\n",
       "      <td>...</td>\n",
       "      <td>0.4</td>\n",
       "      <td>77.2</td>\n",
       "      <td>0.3</td>\n",
       "      <td>4.0</td>\n",
       "      <td>None</td>\n",
       "      <td>[Into a 1 quart Jar with tight fitting lid, pu...</td>\n",
       "      <td>5</td>\n",
       "      <td>30</td>\n",
       "      <td>35</td>\n",
       "      <td>Best Lemonade Beverages one first Good House K...</td>\n",
       "    </tr>\n",
       "    <tr>\n",
       "      <th>3</th>\n",
       "      <td>41.0</td>\n",
       "      <td>Carina's Tofu-Vegetable Kebabs</td>\n",
       "      <td>1586</td>\n",
       "      <td>Cyclopz</td>\n",
       "      <td>PT20M</td>\n",
       "      <td>PT24H</td>\n",
       "      <td>PT24H20M</td>\n",
       "      <td>1999-09-03 14:54:00+00:00</td>\n",
       "      <td>This dish is best prepared a day in advance to...</td>\n",
       "      <td>[https://img.sndimg.com/food/image/upload/w_55...</td>\n",
       "      <td>...</td>\n",
       "      <td>17.3</td>\n",
       "      <td>32.1</td>\n",
       "      <td>29.3</td>\n",
       "      <td>2.0</td>\n",
       "      <td>4 kebabs</td>\n",
       "      <td>[Drain the tofu, carefully squeezing out exces...</td>\n",
       "      <td>20</td>\n",
       "      <td>1440</td>\n",
       "      <td>1460</td>\n",
       "      <td>Carina's Tofu-Vegetable Kebabs Soy/Tofu dish b...</td>\n",
       "    </tr>\n",
       "    <tr>\n",
       "      <th>4</th>\n",
       "      <td>42.0</td>\n",
       "      <td>Cabbage Soup</td>\n",
       "      <td>1538</td>\n",
       "      <td>Duckie067</td>\n",
       "      <td>PT30M</td>\n",
       "      <td>PT20M</td>\n",
       "      <td>PT50M</td>\n",
       "      <td>1999-09-19 06:19:00+00:00</td>\n",
       "      <td>Make and share this Cabbage Soup recipe from F...</td>\n",
       "      <td>[https://img.sndimg.com/food/image/upload/w_55...</td>\n",
       "      <td>...</td>\n",
       "      <td>4.8</td>\n",
       "      <td>17.7</td>\n",
       "      <td>4.3</td>\n",
       "      <td>4.0</td>\n",
       "      <td>None</td>\n",
       "      <td>[Mix everything together and bring to a boil.,...</td>\n",
       "      <td>30</td>\n",
       "      <td>20</td>\n",
       "      <td>50</td>\n",
       "      <td>Cabbage Soup Vegetable Make share Cabbage Soup...</td>\n",
       "    </tr>\n",
       "  </tbody>\n",
       "</table>\n",
       "<p>5 rows × 32 columns</p>\n",
       "</div>"
      ],
      "text/plain": [
       "   RecipeId                               Name  AuthorId      AuthorName  \\\n",
       "0      38.0  Low-Fat Berry Blue Frozen Dessert      1533          Dancer   \n",
       "1      39.0                            Biryani      1567        elly9812   \n",
       "2      40.0                      Best Lemonade      1566  Stephen Little   \n",
       "3      41.0     Carina's Tofu-Vegetable Kebabs      1586         Cyclopz   \n",
       "4      42.0                       Cabbage Soup      1538       Duckie067   \n",
       "\n",
       "  CookTime PrepTime TotalTime             DatePublished  \\\n",
       "0    PT24H    PT45M  PT24H45M 1999-08-09 21:46:00+00:00   \n",
       "1    PT25M     PT4H   PT4H25M 1999-08-29 13:12:00+00:00   \n",
       "2     PT5M    PT30M     PT35M 1999-09-05 19:52:00+00:00   \n",
       "3    PT20M    PT24H  PT24H20M 1999-09-03 14:54:00+00:00   \n",
       "4    PT30M    PT20M     PT50M 1999-09-19 06:19:00+00:00   \n",
       "\n",
       "                                         Description  \\\n",
       "0  Make and share this Low-Fat Berry Blue Frozen ...   \n",
       "1  Make and share this Biryani recipe from Food.com.   \n",
       "2  This is from one of my  first Good House Keepi...   \n",
       "3  This dish is best prepared a day in advance to...   \n",
       "4  Make and share this Cabbage Soup recipe from F...   \n",
       "\n",
       "                                              Images  ... FiberContent  \\\n",
       "0  [https://img.sndimg.com/food/image/upload/w_55...  ...          3.6   \n",
       "1  [https://img.sndimg.com/food/image/upload/w_55...  ...          9.0   \n",
       "2  [https://img.sndimg.com/food/image/upload/w_55...  ...          0.4   \n",
       "3  [https://img.sndimg.com/food/image/upload/w_55...  ...         17.3   \n",
       "4  [https://img.sndimg.com/food/image/upload/w_55...  ...          4.8   \n",
       "\n",
       "  SugarContent ProteinContent RecipeServings  RecipeYield  \\\n",
       "0         30.2            3.2            4.0         None   \n",
       "1         20.4           63.4            6.0         None   \n",
       "2         77.2            0.3            4.0         None   \n",
       "3         32.1           29.3            2.0     4 kebabs   \n",
       "4         17.7            4.3            4.0         None   \n",
       "\n",
       "                                  RecipeInstructions  CookTime_Minutes  \\\n",
       "0  [Toss 2 cups berries with sugar., Let stand fo...              1440   \n",
       "1  [Soak saffron in warm milk for 5 minutes and p...                25   \n",
       "2  [Into a 1 quart Jar with tight fitting lid, pu...                 5   \n",
       "3  [Drain the tofu, carefully squeezing out exces...                20   \n",
       "4  [Mix everything together and bring to a boil.,...                30   \n",
       "\n",
       "   PrepTime_Minutes  TotalTime_Minutes  \\\n",
       "0                45               1485   \n",
       "1               240                265   \n",
       "2                30                 35   \n",
       "3              1440               1460   \n",
       "4                20                 50   \n",
       "\n",
       "                             Combined_Features_Clean  \n",
       "0  Low-Fat Berry Blue Frozen Dessert Frozen Desse...  \n",
       "1  Biryani Chicken Breast Make share Biryani reci...  \n",
       "2  Best Lemonade Beverages one first Good House K...  \n",
       "3  Carina's Tofu-Vegetable Kebabs Soy/Tofu dish b...  \n",
       "4  Cabbage Soup Vegetable Make share Cabbage Soup...  \n",
       "\n",
       "[5 rows x 32 columns]"
      ]
     },
     "execution_count": 4,
     "metadata": {},
     "output_type": "execute_result"
    }
   ],
   "source": [
    "file_key = 'recipes_w_cleaning_time_combined_features.parquet'\n",
    "s3.download_file(bucket_name, file_key, f'../data/{file_key}')\n",
    "df = pd.read_parquet(f'../data/{file_key}')\n",
    "\n",
    "df.head()"
   ]
  },
  {
   "cell_type": "code",
   "execution_count": 5,
   "id": "c42abeac-3ebd-4fda-a7d5-e43940aa503e",
   "metadata": {
    "tags": []
   },
   "outputs": [
    {
     "data": {
      "text/plain": [
       "Index(['RecipeId', 'Name', 'AuthorId', 'AuthorName', 'CookTime', 'PrepTime',\n",
       "       'TotalTime', 'DatePublished', 'Description', 'Images', 'RecipeCategory',\n",
       "       'Keywords', 'RecipeIngredientQuantities', 'RecipeIngredientParts',\n",
       "       'AggregatedRating', 'ReviewCount', 'Calories', 'FatContent',\n",
       "       'SaturatedFatContent', 'CholesterolContent', 'SodiumContent',\n",
       "       'CarbohydrateContent', 'FiberContent', 'SugarContent', 'ProteinContent',\n",
       "       'RecipeServings', 'RecipeYield', 'RecipeInstructions',\n",
       "       'CookTime_Minutes', 'PrepTime_Minutes', 'TotalTime_Minutes',\n",
       "       'Combined_Features_Clean'],\n",
       "      dtype='object')"
      ]
     },
     "execution_count": 5,
     "metadata": {},
     "output_type": "execute_result"
    }
   ],
   "source": [
    "df.columns"
   ]
  },
  {
   "cell_type": "code",
   "execution_count": 6,
   "id": "68483703-908e-4f6e-892b-305948d7562d",
   "metadata": {
    "tags": []
   },
   "outputs": [
    {
     "data": {
      "text/plain": [
       "'Low-Fat Berry Blue Frozen Dessert Frozen Desserts Make share Low-Fat Berry Blue Frozen Dessert recipe Food.com. Dessert Low Protein Low Cholesterol Healthy Free Of... Summer Weeknight Freezer Easy'"
      ]
     },
     "execution_count": 6,
     "metadata": {},
     "output_type": "execute_result"
    }
   ],
   "source": [
    "str(df.iloc[0]['Combined_Features_Clean'])"
   ]
  },
  {
   "cell_type": "code",
   "execution_count": 9,
   "id": "f08ea196-6017-48c7-8e76-e75120089131",
   "metadata": {
    "tags": []
   },
   "outputs": [
    {
     "data": {
      "text/plain": [
       "(269294, 32)"
      ]
     },
     "execution_count": 9,
     "metadata": {},
     "output_type": "execute_result"
    }
   ],
   "source": [
    "df = df[df['AggregatedRating'].notna()]\n",
    "df.shape"
   ]
  },
  {
   "cell_type": "markdown",
   "id": "74654ec1-1620-4b12-abfa-74ce789a79ce",
   "metadata": {},
   "source": [
    "### Load data into chunked documents"
   ]
  },
  {
   "cell_type": "code",
   "execution_count": 7,
   "id": "81165ce4-c17b-44df-a88a-319b4e590105",
   "metadata": {
    "tags": []
   },
   "outputs": [],
   "source": [
    "from langchain_community.embeddings import HuggingFaceEmbeddings\n",
    "from langchain_text_splitters import RecursiveCharacterTextSplitter\n",
    "from langchain.docstore.document import Document"
   ]
  },
  {
   "cell_type": "code",
   "execution_count": 8,
   "id": "ef713c37-2e0f-45ba-8717-de22afbad5b7",
   "metadata": {
    "tags": []
   },
   "outputs": [
    {
     "name": "stderr",
     "output_type": "stream",
     "text": [
      "/home/ec2-user/anaconda3/envs/python3/lib/python3.10/site-packages/langchain_core/_api/deprecation.py:139: LangChainDeprecationWarning: The class `HuggingFaceEmbeddings` was deprecated in LangChain 0.2.2 and will be removed in 0.3.0. An updated version of the class exists in the langchain-huggingface package and should be used instead. To use it run `pip install -U langchain-huggingface` and import as `from langchain_huggingface import HuggingFaceEmbeddings`.\n",
      "  warn_deprecated(\n",
      "/home/ec2-user/anaconda3/envs/python3/lib/python3.10/site-packages/sentence_transformers/cross_encoder/CrossEncoder.py:11: TqdmExperimentalWarning: Using `tqdm.autonotebook.tqdm` in notebook mode. Use `tqdm.tqdm` instead to force console mode (e.g. in jupyter console)\n",
      "  from tqdm.autonotebook import tqdm, trange\n"
     ]
    },
    {
     "data": {
      "application/vnd.jupyter.widget-view+json": {
       "model_id": "ca553c6ff22e4bb8a2b02c7835dff203",
       "version_major": 2,
       "version_minor": 0
      },
      "text/plain": [
       "modules.json:   0%|          | 0.00/229 [00:00<?, ?B/s]"
      ]
     },
     "metadata": {},
     "output_type": "display_data"
    },
    {
     "data": {
      "application/vnd.jupyter.widget-view+json": {
       "model_id": "28f0e1bd9a50401894c6d427590e7e25",
       "version_major": 2,
       "version_minor": 0
      },
      "text/plain": [
       "config_sentence_transformers.json:   0%|          | 0.00/212 [00:00<?, ?B/s]"
      ]
     },
     "metadata": {},
     "output_type": "display_data"
    },
    {
     "data": {
      "application/vnd.jupyter.widget-view+json": {
       "model_id": "99788c1dbdac41cb96df892ad715ee54",
       "version_major": 2,
       "version_minor": 0
      },
      "text/plain": [
       "README.md:   0%|          | 0.00/8.71k [00:00<?, ?B/s]"
      ]
     },
     "metadata": {},
     "output_type": "display_data"
    },
    {
     "data": {
      "application/vnd.jupyter.widget-view+json": {
       "model_id": "0e6e4c9a067b4713993ebe174f2079c0",
       "version_major": 2,
       "version_minor": 0
      },
      "text/plain": [
       "sentence_bert_config.json:   0%|          | 0.00/53.0 [00:00<?, ?B/s]"
      ]
     },
     "metadata": {},
     "output_type": "display_data"
    },
    {
     "data": {
      "application/vnd.jupyter.widget-view+json": {
       "model_id": "345135fcb0344c518ef5c4eedd7960e4",
       "version_major": 2,
       "version_minor": 0
      },
      "text/plain": [
       "config.json:   0%|          | 0.00/571 [00:00<?, ?B/s]"
      ]
     },
     "metadata": {},
     "output_type": "display_data"
    },
    {
     "data": {
      "application/vnd.jupyter.widget-view+json": {
       "model_id": "cd59bf782b5a4a67ae3554505eabe0e4",
       "version_major": 2,
       "version_minor": 0
      },
      "text/plain": [
       "model.safetensors:   0%|          | 0.00/438M [00:00<?, ?B/s]"
      ]
     },
     "metadata": {},
     "output_type": "display_data"
    },
    {
     "data": {
      "application/vnd.jupyter.widget-view+json": {
       "model_id": "1b0d337ad7be4c2786970266290bf00e",
       "version_major": 2,
       "version_minor": 0
      },
      "text/plain": [
       "tokenizer_config.json:   0%|          | 0.00/363 [00:00<?, ?B/s]"
      ]
     },
     "metadata": {},
     "output_type": "display_data"
    },
    {
     "data": {
      "application/vnd.jupyter.widget-view+json": {
       "model_id": "c2d7f33b4954462dab31d801ee0e35c6",
       "version_major": 2,
       "version_minor": 0
      },
      "text/plain": [
       "vocab.txt:   0%|          | 0.00/232k [00:00<?, ?B/s]"
      ]
     },
     "metadata": {},
     "output_type": "display_data"
    },
    {
     "data": {
      "application/vnd.jupyter.widget-view+json": {
       "model_id": "011ecd9a56304bdea3967140a01146b9",
       "version_major": 2,
       "version_minor": 0
      },
      "text/plain": [
       "tokenizer.json:   0%|          | 0.00/466k [00:00<?, ?B/s]"
      ]
     },
     "metadata": {},
     "output_type": "display_data"
    },
    {
     "data": {
      "application/vnd.jupyter.widget-view+json": {
       "model_id": "a77cbd741d4d40059aafceeb8d59bb05",
       "version_major": 2,
       "version_minor": 0
      },
      "text/plain": [
       "special_tokens_map.json:   0%|          | 0.00/239 [00:00<?, ?B/s]"
      ]
     },
     "metadata": {},
     "output_type": "display_data"
    },
    {
     "data": {
      "application/vnd.jupyter.widget-view+json": {
       "model_id": "e5aad900a16a43c8aa9ae6ceca3b223d",
       "version_major": 2,
       "version_minor": 0
      },
      "text/plain": [
       "1_Pooling/config.json:   0%|          | 0.00/190 [00:00<?, ?B/s]"
      ]
     },
     "metadata": {},
     "output_type": "display_data"
    }
   ],
   "source": [
    "embedding_model = HuggingFaceEmbeddings(model_name=\"multi-qa-mpnet-base-dot-v1\")"
   ]
  },
  {
   "cell_type": "markdown",
   "id": "babae2b2-4aac-4fde-b653-ae2d2a3eb350",
   "metadata": {
    "tags": []
   },
   "source": [
    "### Note: chunking may not be useful for us as the EDA has the following about description length\n",
    "print(new_recipe['Combined_Features_Clean'].str.len().describe())\n",
    "\n",
    "\n",
    "count    522517.000000\\\n",
    "mean        211.461774\\\n",
    "std         122.388646\\\n",
    "min          44.000000\\\n",
    "25%         131.000000\\\n",
    "50%         180.000000\\\n",
    "75%         255.000000\\\n",
    "max        4174.000000\\\n",
    "Name: Combined_Features_Clean, dtype: float64"
   ]
  },
  {
   "cell_type": "code",
   "execution_count": 10,
   "id": "c829beba-a527-4f21-b311-88db598124fe",
   "metadata": {
    "tags": []
   },
   "outputs": [],
   "source": [
    "def create_textsplitter(chunks, overlaps):\n",
    "    splits = {}\n",
    "    for chunk in chunks:\n",
    "        for overlap in overlaps:\n",
    "            splits[f'chunk{str(chunk)}_overlap{str(overlap)}'] = RecursiveCharacterTextSplitter(chunk_size=chunk, chunk_overlap=overlap)\n",
    "    return splits"
   ]
  },
  {
   "cell_type": "code",
   "execution_count": 11,
   "id": "88739f50-8d3a-4558-b5fb-588daf1c41cb",
   "metadata": {
    "tags": []
   },
   "outputs": [],
   "source": [
    "chunks = [128, 256, 512, 1024, 2048]\n",
    "overlaps = [.25, .2, .15, .1]\n",
    "\n",
    "text_splits = create_textsplitter(chunks, overlaps)"
   ]
  },
  {
   "cell_type": "code",
   "execution_count": 12,
   "id": "32e0c41f-6f62-45e4-a385-f94b0493cbe9",
   "metadata": {
    "tags": []
   },
   "outputs": [
    {
     "data": {
      "text/plain": [
       "<langchain_text_splitters.character.RecursiveCharacterTextSplitter at 0x7f90c1a93910>"
      ]
     },
     "execution_count": 12,
     "metadata": {},
     "output_type": "execute_result"
    }
   ],
   "source": [
    "text_splits['chunk1024_overlap0.25']"
   ]
  },
  {
   "cell_type": "code",
   "execution_count": 13,
   "id": "05b5985a-4bdc-44cf-b888-9ddc76abb89e",
   "metadata": {
    "tags": []
   },
   "outputs": [],
   "source": [
    "def create_documents(df):\n",
    "    documents = []\n",
    "    for index, row in df.iterrows():\n",
    "        metadata = {\n",
    "            'recipe_id': str(row['RecipeId']) if not pd.isna(row['RecipeId']) else 'No ID Available',\n",
    "            'name': str(row['Name']) if not pd.isna(row['Name']) else 'No Name Available',\n",
    "            'cook_time': str(row['CookTime']) if not pd.isna(row['CookTime']) else 'No Cook Time Available',\n",
    "            'prep_time': str(row['PrepTime']) if not pd.isna(row['PrepTime']) else 'No Prep Time Available',\n",
    "            'total_time': str(row['TotalTime']) if not pd.isna(row['TotalTime']) else 'No Total Time Available',\n",
    "            'recipe_category': str(row['RecipeCategory']) if not pd.isna(row['RecipeCategory']) else 'No Category Available',\n",
    "            'keywords': str(row['Keywords']) if not pd.isna(row['Keywords']).all() else 'No Keywords Available',\n",
    "            'aggregated_rating': str(row['AggregatedRating']) if not pd.isna(row['AggregatedRating']) else 'No Rating Available',\n",
    "            'review_count': str(row['ReviewCount']) if not pd.isna(row['ReviewCount']) else 'No Reviews Available',\n",
    "            'calories': str(row['Calories']) if not pd.isna(row['Calories']) else 'No Calories Information Available',\n",
    "            'fat_content': str(row['FatContent']) if not pd.isna(row['FatContent']) else 'No Fat Content Available',\n",
    "            'saturated_fat_content': str(row['SaturatedFatContent']) if not pd.isna(row['SaturatedFatContent']) else 'No Saturated Fat Content Available',\n",
    "            'cholesterol_content': str(row['CholesterolContent']) if not pd.isna(row['CholesterolContent']) else 'No Cholesterol Content Available',\n",
    "            'sodium_content': str(row['SodiumContent']) if not pd.isna(row['SodiumContent']) else 'No Sodium Content Available',\n",
    "            'carbohydrate_content': str(row['CarbohydrateContent']) if not pd.isna(row['CarbohydrateContent']) else 'No Carbohydrate Content Available',\n",
    "            'sugar_content': str(row['SugarContent']) if not pd.isna(row['SugarContent']) else 'No Sugar Content Available',\n",
    "            'protein_content': str(row['ProteinContent']) if not pd.isna(row['ProteinContent']) else 'No Protein Content Available',\n",
    "            'recipe_servings': str(row['RecipeServings']) if not pd.isna(row['RecipeServings']) else 'No Servings Information Available',\n",
    "            'recipe_yield': str(row['RecipeYield']) if not pd.isna(row['RecipeYield']) else 'No Yield Information Available'\n",
    "        }\n",
    "\n",
    "        # Use Combined_Features_Clean for the document content\n",
    "        text = str(row['Combined_Features_Clean'])\n",
    "        doc = Document(page_content=text, metadata=metadata)\n",
    "        documents.append(doc)\n",
    "        \n",
    "    return documents\n"
   ]
  },
  {
   "cell_type": "code",
   "execution_count": 14,
   "id": "2e316c63-2897-4c89-aa24-562bcab03ba0",
   "metadata": {
    "tags": []
   },
   "outputs": [],
   "source": [
    "# Take a sample of 100K receipes \n",
    "documents = create_documents(df.sample(n=100000))"
   ]
  },
  {
   "cell_type": "code",
   "execution_count": 15,
   "id": "db462d95-67b8-4ec5-b379-1a98666a0dc0",
   "metadata": {
    "tags": []
   },
   "outputs": [
    {
     "data": {
      "text/plain": [
       "Document(metadata={'recipe_id': '137828.0', 'name': 'Coney Island Chili Sauce for Hot Dogs', 'cook_time': 'PT15M', 'prep_time': 'PT10M', 'total_time': 'PT25M', 'recipe_category': 'Sauces', 'keywords': \"['< 30 Mins' 'Stove Top' 'Easy']\", 'aggregated_rating': '5.0', 'review_count': '14.0', 'calories': '141.7', 'fat_content': '8.7', 'saturated_fat_content': '3.4', 'cholesterol_content': '38.6', 'sodium_content': '343.4', 'carbohydrate_content': '4.4', 'sugar_content': '2.9', 'protein_content': '11.5', 'recipe_servings': '4.0', 'recipe_yield': 'No Yield Information Available'}, page_content='Coney Island Chili Sauce Hot Dogs Sauces Make share Coney Island Chili Sauce Hot Dogs recipe Food.com. < 30 Mins Stove Top Easy')"
      ]
     },
     "execution_count": 15,
     "metadata": {},
     "output_type": "execute_result"
    }
   ],
   "source": [
    "documents[0]"
   ]
  },
  {
   "cell_type": "code",
   "execution_count": 16,
   "id": "8d878b08-c2fc-4528-b26f-3a33d7856465",
   "metadata": {
    "tags": []
   },
   "outputs": [
    {
     "data": {
      "text/plain": [
       "100000"
      ]
     },
     "execution_count": 16,
     "metadata": {},
     "output_type": "execute_result"
    }
   ],
   "source": [
    "len(documents)"
   ]
  },
  {
   "cell_type": "code",
   "execution_count": 17,
   "id": "35faf6bb-6a9b-4f59-b021-33c2507638aa",
   "metadata": {
    "tags": []
   },
   "outputs": [],
   "source": [
    "def split_documents_with_metadata(documents, text_splitter):\n",
    "    split_docs = []\n",
    "    for doc in documents:\n",
    "        chunks = text_splitter.split_text(doc.page_content)\n",
    "        for i, chunk in enumerate(chunks):\n",
    "            split_docs.append(Document(page_content=chunk, metadata={**doc.metadata, \"chunk_id\": i}))\n",
    "    return split_docs"
   ]
  },
  {
   "cell_type": "code",
   "execution_count": 18,
   "id": "d6fe3cfc-26b8-47db-8c36-07e06ea3feb9",
   "metadata": {
    "tags": []
   },
   "outputs": [],
   "source": [
    "split_documents = {key: split_documents_with_metadata(documents, text_splitter_recursive) for key, text_splitter_recursive in text_splits.items()}"
   ]
  },
  {
   "cell_type": "code",
   "execution_count": 19,
   "id": "225b95d6-f0f2-41fd-8cf9-c700ef269488",
   "metadata": {
    "tags": []
   },
   "outputs": [
    {
     "data": {
      "text/plain": [
       "Document(metadata={'recipe_id': '137828.0', 'name': 'Coney Island Chili Sauce for Hot Dogs', 'cook_time': 'PT15M', 'prep_time': 'PT10M', 'total_time': 'PT25M', 'recipe_category': 'Sauces', 'keywords': \"['< 30 Mins' 'Stove Top' 'Easy']\", 'aggregated_rating': '5.0', 'review_count': '14.0', 'calories': '141.7', 'fat_content': '8.7', 'saturated_fat_content': '3.4', 'cholesterol_content': '38.6', 'sodium_content': '343.4', 'carbohydrate_content': '4.4', 'sugar_content': '2.9', 'protein_content': '11.5', 'recipe_servings': '4.0', 'recipe_yield': 'No Yield Information Available', 'chunk_id': 0}, page_content='Coney Island Chili Sauce Hot Dogs Sauces Make share Coney Island Chili Sauce Hot Dogs recipe Food.com. < 30 Mins Stove Top Easy')"
      ]
     },
     "execution_count": 19,
     "metadata": {},
     "output_type": "execute_result"
    }
   ],
   "source": [
    "split_documents['chunk256_overlap0.25'][0]"
   ]
  },
  {
   "cell_type": "code",
   "execution_count": 20,
   "id": "4cb92d4b-2aba-4e56-ac81-b0f743c139a3",
   "metadata": {
    "tags": []
   },
   "outputs": [],
   "source": [
    "# We have > 500,000 recipes, this takes a long time to run\n",
    "from langchain_community.vectorstores import Qdrant\n",
    "\n",
    "# From documents with no chunking\n",
    "# qdrant_store = Qdrant.from_documents(documents,\n",
    "#     embedding_model,\n",
    "#     location=\":memory:\",\n",
    "# )\n",
    "\n",
    "# from split documents (specify the chunk and overlap key)\n",
    "qdrant_store = Qdrant.from_documents(split_documents['chunk1024_overlap0.25'],\n",
    "    embedding_model,\n",
    "    location=\":memory:\",\n",
    ")"
   ]
  },
  {
   "cell_type": "code",
   "execution_count": 21,
   "id": "5152d45a-a16c-4efd-9ff3-b1b9464ba304",
   "metadata": {
    "tags": []
   },
   "outputs": [],
   "source": [
    "qdrant_retriever = qdrant_store.as_retriever()"
   ]
  },
  {
   "cell_type": "markdown",
   "id": "6f08e4b6-0311-45c8-b590-a64b55c9eb8e",
   "metadata": {},
   "source": [
    "### Reranker retriever"
   ]
  },
  {
   "cell_type": "code",
   "execution_count": 22,
   "id": "dec022f2-3653-4a18-a1cc-e5a44dce0ca3",
   "metadata": {
    "tags": []
   },
   "outputs": [],
   "source": [
    "def pretty_print_docs(docs):\n",
    "    print(\n",
    "        f\"\\n{'-' * 100}\\n\".join(\n",
    "            [f\"Document {i+1}:\\n\\n\" + d.page_content for i, d in enumerate(docs)]\n",
    "        )\n",
    "    )"
   ]
  },
  {
   "cell_type": "code",
   "execution_count": 23,
   "id": "12fb8346-76b4-45e5-ab3b-f12e81574871",
   "metadata": {
    "tags": []
   },
   "outputs": [
    {
     "data": {
      "application/vnd.jupyter.widget-view+json": {
       "model_id": "712379d288554197879a485a417b9c20",
       "version_major": 2,
       "version_minor": 0
      },
      "text/plain": [
       "config.json:   0%|          | 0.00/799 [00:00<?, ?B/s]"
      ]
     },
     "metadata": {},
     "output_type": "display_data"
    },
    {
     "data": {
      "application/vnd.jupyter.widget-view+json": {
       "model_id": "5fadfd2dad6742b0a3b8b96d6b627c65",
       "version_major": 2,
       "version_minor": 0
      },
      "text/plain": [
       "model.safetensors:   0%|          | 0.00/1.11G [00:00<?, ?B/s]"
      ]
     },
     "metadata": {},
     "output_type": "display_data"
    },
    {
     "data": {
      "application/vnd.jupyter.widget-view+json": {
       "model_id": "94576d27b7af4f6f8630213d4e9235b4",
       "version_major": 2,
       "version_minor": 0
      },
      "text/plain": [
       "tokenizer_config.json:   0%|          | 0.00/443 [00:00<?, ?B/s]"
      ]
     },
     "metadata": {},
     "output_type": "display_data"
    },
    {
     "data": {
      "application/vnd.jupyter.widget-view+json": {
       "model_id": "bd35b802f62e4a5cbcb480637a4c2c99",
       "version_major": 2,
       "version_minor": 0
      },
      "text/plain": [
       "sentencepiece.bpe.model:   0%|          | 0.00/5.07M [00:00<?, ?B/s]"
      ]
     },
     "metadata": {},
     "output_type": "display_data"
    },
    {
     "data": {
      "application/vnd.jupyter.widget-view+json": {
       "model_id": "3da5b61f15eb43268f0a54ba8d130b2d",
       "version_major": 2,
       "version_minor": 0
      },
      "text/plain": [
       "tokenizer.json:   0%|          | 0.00/17.1M [00:00<?, ?B/s]"
      ]
     },
     "metadata": {},
     "output_type": "display_data"
    },
    {
     "data": {
      "application/vnd.jupyter.widget-view+json": {
       "model_id": "c6c8e06a4f7540eda22ba8c7d0291299",
       "version_major": 2,
       "version_minor": 0
      },
      "text/plain": [
       "special_tokens_map.json:   0%|          | 0.00/279 [00:00<?, ?B/s]"
      ]
     },
     "metadata": {},
     "output_type": "display_data"
    },
    {
     "name": "stdout",
     "output_type": "stream",
     "text": [
      "Document 1:\n",
      "\n",
      "French Bread Pizza (A Step Up) < 30 Mins recipe quick weeknight meal nice combination melding flavors. Thanks Cook's Country. Easy\n",
      "----------------------------------------------------------------------------------------------------\n",
      "Document 2:\n",
      "\n",
      "Rice Pizza < 15 Mins Make share Rice Pizza recipe Food.com. Oven\n",
      "----------------------------------------------------------------------------------------------------\n",
      "Document 3:\n",
      "\n",
      "Mini Pizzas < 30 Mins I'm pizza addict. since I'm eating healthy now, can't glorious frozen pepperoni pizzas. Making pizza much better you. delight, fantastic tasting too! Beginner Cook Easy\n"
     ]
    }
   ],
   "source": [
    "from langchain.retrievers import ContextualCompressionRetriever\n",
    "from langchain.retrievers.document_compressors import CrossEncoderReranker\n",
    "from langchain_community.cross_encoders import HuggingFaceCrossEncoder\n",
    "\n",
    "qdrant_retriever_rerank = qdrant_store.as_retriever(search_type='mmr', search_kwargs={\"k\": 50, 'lambda_mult': 0.5})\n",
    "reranker_model = HuggingFaceCrossEncoder(model_name=\"BAAI/bge-reranker-base\")\n",
    "compressor = CrossEncoderReranker(model=reranker_model, top_n=3)\n",
    "compression_retriever = ContextualCompressionRetriever(\n",
    "    base_compressor=compressor, base_retriever=qdrant_retriever_rerank\n",
    ")\n",
    "\n",
    "compressed_docs = compression_retriever.invoke(\"What pizza can I make in 20 minutes?\")\n",
    "pretty_print_docs(compressed_docs)"
   ]
  },
  {
   "cell_type": "markdown",
   "id": "9cc8df35-7bbc-43fc-9766-99383f3c5349",
   "metadata": {},
   "source": [
    "### Agent function definitions"
   ]
  },
  {
   "cell_type": "code",
   "execution_count": 24,
   "id": "a0e04d8b-4bb7-46e0-a2b1-22e4283d9238",
   "metadata": {
    "tags": []
   },
   "outputs": [],
   "source": [
    "def format_docs(docs):\n",
    "    formatted_docs = []\n",
    "    for doc in docs:\n",
    "        formatted_docs.append(f\"Metadata: {doc.metadata}\\n\")\n",
    "    content = \"\\n\\n\".join(formatted_docs)\n",
    "    \n",
    "    return content"
   ]
  },
  {
   "cell_type": "code",
   "execution_count": 25,
   "id": "2dc1eaa0-d2bc-4b57-ad27-95301457e870",
   "metadata": {
    "tags": []
   },
   "outputs": [],
   "source": [
    "recipe_db_query_tool = {\n",
    "  \"name\": \"query_food_recipe_vector_db\",\n",
    "  \"description\": \"\"\"\n",
    "      Queries the vector database containing food recipes to retrieve the most relevant documents. \n",
    "      This function allows the model to generate and execute multiple queries as necessary to gather comprehensive context, \n",
    "      such as ingredients, preparation steps, and metadata like cuisine and diet type, ensuring accurate and thorough responses to user queries.\n",
    "      \"\"\",\n",
    "  \"input_schema\": {\n",
    "    \"type\": \"object\",\n",
    "    \"properties\": {\n",
    "      \"queries\": {\n",
    "        \"type\": \"array\",\n",
    "        \"items\": {\n",
    "          \"type\": \"string\",\n",
    "          \"description\": \"A query generated by the model to run against the vector database to fetch recipe documents.\"\n",
    "        },\n",
    "        \"description\": \"A list of queries generated by the model to run against the vector database to fetch recipe documents.\"\n",
    "      }\n",
    "    },\n",
    "    \"required\": [\"queries\"]\n",
    "  }\n",
    "}\n"
   ]
  },
  {
   "cell_type": "markdown",
   "id": "64c1e9c9-88bd-446a-a0f5-a7ed5bcf8972",
   "metadata": {},
   "source": [
    "### Init bedrock model, define util to stateless messaging, no fn calling"
   ]
  },
  {
   "cell_type": "code",
   "execution_count": 26,
   "id": "af0aacad-2b9d-4504-80b2-b47d92949ce8",
   "metadata": {
    "tags": []
   },
   "outputs": [],
   "source": [
    "import json"
   ]
  },
  {
   "cell_type": "code",
   "execution_count": 27,
   "id": "91b6a9d4-d05c-4340-8281-d050403b0a89",
   "metadata": {
    "tags": []
   },
   "outputs": [],
   "source": [
    "bedrock_client = boto3.client('bedrock-runtime', region_name=\"us-east-1\")"
   ]
  },
  {
   "cell_type": "code",
   "execution_count": 28,
   "id": "e65cefc3-4a52-4985-b7da-b97224a7f356",
   "metadata": {
    "tags": []
   },
   "outputs": [],
   "source": [
    "# We will need to tune these prompts\n",
    "# query_bedrock_llm() definition NEEDS TO BE RERUN\n",
    "# each time when changes are made to this prompt\n",
    "\n",
    "baseline_sys_prompt = \"\"\"\n",
    "You are a helpful assistant and expert in cooking recipes.\n",
    "\n",
    "Before answering, always make at least one call to query_food_recipe_vector_db\n",
    "to retrieve the relevant context of recipes and ingredients to generate an informed\n",
    "and high-quality response to the user prompt but NEVER exceed a MAXIMUM of \n",
    "3 calls to the query_food_recipe_vector_db function.\n",
    "\n",
    "Provide a response to the user prompt about food with recommended recipes and instructions.\n",
    "\"\"\""
   ]
  },
  {
   "cell_type": "code",
   "execution_count": 29,
   "id": "bd6cb3e3-04ac-465c-8bc0-e913d4086b21",
   "metadata": {
    "tags": []
   },
   "outputs": [],
   "source": [
    "# We will need to tune these prompts\n",
    "\n",
    "baseline_sys_prompt_basic = \"\"\"\n",
    "You are a helpful assistant and expert in cooking recipes.\n",
    "You will be provided a list of relevant context about relevant food recipes\n",
    "which includes metadata like ingredients and cooking instructions.\n",
    "\n",
    "Provide a response to the user prompt about food with recommended recipes and instructions.\n",
    "\"\"\""
   ]
  },
  {
   "cell_type": "code",
   "execution_count": 30,
   "id": "ed11c7ae-7ac1-4dab-b889-fad779b36280",
   "metadata": {
    "tags": []
   },
   "outputs": [],
   "source": [
    "MODEL_ID = \"anthropic.claude-3-sonnet-20240229-v1:0\"\n",
    "\n",
    "def query_bedrock_llm(messages):\n",
    "    response = bedrock_client.invoke_model(\n",
    "        modelId=MODEL_ID,\n",
    "        body=json.dumps({\n",
    "            'anthropic_version': 'bedrock-2023-05-31', # This is required to use chat style messages object \n",
    "            'system': baseline_sys_prompt,\n",
    "            'messages': messages,\n",
    "            'max_tokens': 3000,\n",
    "            \"tools\": [recipe_db_query_tool],\n",
    "\n",
    "            # This config forces the model to always call the recipe db query tool atleast once \n",
    "            # https://docs.anthropic.com/en/docs/build-with-claude/tool-use#controlling-claudes-output\n",
    "            # \"tool_choice\": {\n",
    "            #     \"type\": \"tool\",\n",
    "            #     \"name\": recipe_db_query_tool['name']\n",
    "            # },\n",
    "            \n",
    "            # TODO: TUNE THESE VALUES\n",
    "            'temperature': 0.1, \n",
    "            'top_p': 0.9\n",
    "        })\n",
    "    )\n",
    "    response_body = json.loads(response.get('body').read())\n",
    "    \n",
    "    return response_body"
   ]
  },
  {
   "cell_type": "code",
   "execution_count": 31,
   "id": "2e158b92-b58b-4a5a-8fcf-4a52ebb4d67d",
   "metadata": {
    "tags": []
   },
   "outputs": [],
   "source": [
    "MODEL_ID = \"anthropic.claude-3-sonnet-20240229-v1:0\"\n",
    "\n",
    "def query_bedrock_llm_basic(messages):\n",
    "    response = bedrock_client.invoke_model(\n",
    "        modelId=MODEL_ID,\n",
    "        body=json.dumps({\n",
    "            'anthropic_version': 'bedrock-2023-05-31', # This is required to use chat style messages object \n",
    "            'system': baseline_sys_prompt_basic,\n",
    "            'messages': messages,\n",
    "            'max_tokens': 3000,\n",
    "            \n",
    "            # TODO: TUNE THESE VALUES\n",
    "            'temperature': 0.1, \n",
    "            'top_p': 0.9\n",
    "        })\n",
    "    )\n",
    "    response_body = json.loads(response.get('body').read())\n",
    "    \n",
    "    print(response_body['content'][0]['text'])\n",
    "    \n",
    "    return response_body['content'][0]['text']"
   ]
  },
  {
   "cell_type": "markdown",
   "id": "9abb22e4-9e26-4d4d-9ce1-f6b20bac5cb5",
   "metadata": {},
   "source": [
    "### Pipe langchain together"
   ]
  },
  {
   "cell_type": "code",
   "execution_count": 32,
   "id": "1cc70641-ecc2-4cc6-a77f-0f70b806f274",
   "metadata": {
    "tags": []
   },
   "outputs": [],
   "source": [
    "from langchain_core.prompts import ChatPromptTemplate\n",
    "from langchain_core.runnables import RunnablePassthrough, RunnableMap"
   ]
  },
  {
   "cell_type": "code",
   "execution_count": 33,
   "id": "ad7ab6e1-f849-4a25-9fc1-5df44026de00",
   "metadata": {
    "tags": []
   },
   "outputs": [],
   "source": [
    "baseline_user_prompt_basic = \"\"\"\n",
    "### Here is a context:\n",
    "{context} \n",
    "\n",
    "### Here is a user prompt:\n",
    "{query}\n",
    "\"\"\""
   ]
  },
  {
   "cell_type": "code",
   "execution_count": 34,
   "id": "72b5ce6a-3aac-4fb4-b9a3-8742402f185c",
   "metadata": {
    "tags": []
   },
   "outputs": [],
   "source": [
    "baseline_user_prompt = \"\"\"\n",
    "### Here is a user prompt:\n",
    "{query}\n",
    "\"\"\""
   ]
  },
  {
   "cell_type": "code",
   "execution_count": 35,
   "id": "d466b594-b943-43b7-90be-23b454a698e0",
   "metadata": {
    "tags": []
   },
   "outputs": [],
   "source": [
    "def process_prompt(query_args):\n",
    "    prompt_with_query = baseline_user_prompt.replace(\"{query}\", query_args['query'])\n",
    "    \n",
    "    # This format doesn't matter much now, but we will use it later to \n",
    "    # persist chat history for continuous dialogue\n",
    "    messages = [\n",
    "        {\n",
    "            \"role\": \"user\",\n",
    "            \"content\": [\n",
    "                {\n",
    "                    \"type\": \"text\",\n",
    "                    \"text\": prompt_with_query\n",
    "                }\n",
    "            ]\n",
    "        }\n",
    "    ]\n",
    "    \n",
    "    return messages"
   ]
  },
  {
   "cell_type": "code",
   "execution_count": 36,
   "id": "95fdc8ab-fc6b-4dad-8826-f77f4d6d45cc",
   "metadata": {
    "tags": []
   },
   "outputs": [],
   "source": [
    "def process_prompt_basic(query_args):\n",
    "    prompt_with_context = baseline_user_prompt_basic.replace(\"{context}\", query_args['context'])\n",
    "    prompt_with_query = prompt_with_context.replace(\"{query}\", query_args['query'])\n",
    "    \n",
    "    # This format doesn't matter much now, but we will use it later to \n",
    "    # persist chat history for continuous dialogue\n",
    "    messages = [\n",
    "        {\n",
    "            \"role\": \"user\",\n",
    "            \"content\": [\n",
    "                {\n",
    "                    \"type\": \"text\",\n",
    "                    \"text\": prompt_with_query\n",
    "                }\n",
    "            ]\n",
    "        }\n",
    "    ]\n",
    "    \n",
    "    return messages"
   ]
  },
  {
   "cell_type": "code",
   "execution_count": 37,
   "id": "1254f41c-9261-46a6-9140-2f7c538a47a1",
   "metadata": {
    "tags": []
   },
   "outputs": [],
   "source": [
    "qdrant_rag_chain = (\n",
    "    RunnableMap(\n",
    "        # {\"context\": qdrant_retriever | format_docs,\n",
    "         {\"query\": RunnablePassthrough()}\n",
    "    )\n",
    "    | process_prompt\n",
    "    | query_bedrock_llm\n",
    "    # | parse_event_stream\n",
    ")"
   ]
  },
  {
   "cell_type": "code",
   "execution_count": 38,
   "id": "e69b9cca-14d6-46eb-bd4a-cded04b3f591",
   "metadata": {
    "tags": []
   },
   "outputs": [],
   "source": [
    "qdrant_rag_chain_basic = (\n",
    "    RunnableMap(\n",
    "        {\"context\": qdrant_retriever | format_docs,\n",
    "         \"query\": RunnablePassthrough()}\n",
    "    )\n",
    "    | process_prompt_basic\n",
    "    | query_bedrock_llm_basic\n",
    ")"
   ]
  },
  {
   "cell_type": "code",
   "execution_count": 39,
   "id": "e06a4b66-8abb-43b0-a0c8-bc792f0eb43f",
   "metadata": {
    "tags": []
   },
   "outputs": [],
   "source": [
    "qdrant_rag_chain_rerank = (\n",
    "    RunnableMap(\n",
    "        {\"context\": compression_retriever | format_docs,\n",
    "         \"query\": RunnablePassthrough()}\n",
    "    )\n",
    "    | process_prompt_basic\n",
    "    | query_bedrock_llm_basic\n",
    ")"
   ]
  },
  {
   "cell_type": "markdown",
   "id": "4e33af48-0606-4e6f-b57a-53ce71d0f1b8",
   "metadata": {},
   "source": [
    "### Model generates dynamic context queries to vector db"
   ]
  },
  {
   "cell_type": "code",
   "execution_count": 40,
   "id": "6de5108e-285d-4457-8838-2c92ec0fc08d",
   "metadata": {
    "tags": []
   },
   "outputs": [],
   "source": [
    "test_queries = {\n",
    "    '1': \"\"\"\n",
    "    I enjoy asian fusion food and I am a vegetarian. \n",
    "    Give me one recipe with ingredients and instructions\n",
    "    \"\"\",\n",
    "\n",
    "    '2': \"\"\"\n",
    "    I have a peanut allergy but I like thai food. \n",
    "    I also don't enjoy spicy food much, and want a meal with low carbs. \n",
    "    Give a recipe with ingredients and instructions\n",
    "    \"\"\",\n",
    "\n",
    "    '3': \"\"\"\n",
    "    Suggest a low-carb breakfast recipe that includes eggs and spinach, \n",
    "    can be prepared in under 20 minutes, \n",
    "    and is suitable for a keto diet.\n",
    "    \"\"\",\n",
    "\n",
    "    '4': \"\"\"\n",
    "    Suggest a healthy dinner recipe for two people that includes fish, \n",
    "    is under 500 calories per serving, \n",
    "    and can be made in less than 40 minutes.\n",
    "    \"\"\",\n",
    "\n",
    "    '5': \"\"\"\n",
    "    I am on a ketogenic diet and need a dinner recipe that is dairy-free, \n",
    "    low in sodium, and takes less than an hour to cook.\n",
    "    \"\"\",\n",
    "\n",
    "    '6': \"\"\"\n",
    "    I'm looking for a pescatarian main course that is low in saturated fat, \n",
    "    uses Asian flavors, and can be prepared in under 45 minutes.\n",
    "    \"\"\",\n",
    "\n",
    "    '7': \"\"\"\n",
    "    I need a diabetic-friendly, vegan breakfast recipe that is gluten-free, \n",
    "    nut-free, and low in cholesterol, but also rich in omega-3 fatty acids \n",
    "    and can be prepared the night before.\n",
    "    \"\"\",\n",
    "\n",
    "    '8': \"\"\"\n",
    "    I am following a strict paleo diet and need a lunch recipe that is dairy-free, \n",
    "    gluten-free, low in carbs, and low in sodium. Additionally, it should be rich in antioxidants, \n",
    "    and can be made in under 30 minutes with minimal cooking equipment.\n",
    "    \"\"\"\n",
    "}\n",
    "\n"
   ]
  },
  {
   "cell_type": "code",
   "execution_count": 41,
   "id": "ab4dc99d-0f4f-4174-89da-31f60dc7b64b",
   "metadata": {
    "tags": []
   },
   "outputs": [
    {
     "data": {
      "text/plain": [
       "{'id': 'msg_bdrk_01Xkb4Hthn6ZHHMaKwWmn3Rw',\n",
       " 'type': 'message',\n",
       " 'role': 'assistant',\n",
       " 'model': 'claude-3-sonnet-20240229',\n",
       " 'content': [{'type': 'text',\n",
       "   'text': 'Okay, let me query the food recipe vector database to find a relevant Asian fusion vegetarian recipe.'},\n",
       "  {'type': 'tool_use',\n",
       "   'id': 'toolu_bdrk_01CqWNVAWiA65jS9ijtmg3y9',\n",
       "   'name': 'query_food_recipe_vector_db',\n",
       "   'input': {'queries': ['asian fusion vegetarian recipes']}}],\n",
       " 'stop_reason': 'tool_use',\n",
       " 'stop_sequence': None,\n",
       " 'usage': {'input_tokens': 478, 'output_tokens': 87}}"
      ]
     },
     "execution_count": 41,
     "metadata": {},
     "output_type": "execute_result"
    }
   ],
   "source": [
    "qdrant_rag_chain.invoke(test_queries['1'])"
   ]
  },
  {
   "cell_type": "markdown",
   "id": "3ad71bb4-54a7-4037-94c3-72e7340a3bdc",
   "metadata": {},
   "source": [
    "### Implement continuous dialogue and function calling"
   ]
  },
  {
   "cell_type": "code",
   "execution_count": 42,
   "id": "36cdb25c-0aff-4170-9736-a0c56aa0e53a",
   "metadata": {
    "tags": []
   },
   "outputs": [],
   "source": [
    "def generate_message(prompt):\n",
    "    if type(prompt) != str:\n",
    "        raise ValueError(f'Tried to call message generate_message with non-string input: {prompt}')\n",
    "        \n",
    "    return {\n",
    "        \"role\": \"user\",\n",
    "        \"content\": [\n",
    "            {\n",
    "                \"type\": \"text\",\n",
    "                \"text\": prompt\n",
    "            }\n",
    "        ]\n",
    "    }"
   ]
  },
  {
   "cell_type": "code",
   "execution_count": 43,
   "id": "0aafdca2-4248-4780-8c0f-4cbdd2209889",
   "metadata": {
    "tags": []
   },
   "outputs": [],
   "source": [
    "def generate_tool_message(fn_results):\n",
    "    \n",
    "    return {\n",
    "        \"role\": \"user\",\n",
    "        \"content\": fn_results\n",
    "    }"
   ]
  },
  {
   "cell_type": "code",
   "execution_count": 44,
   "id": "3e1efe9b-eee3-402a-b606-df6c536b9990",
   "metadata": {
    "tags": []
   },
   "outputs": [],
   "source": [
    "import json\n",
    "\n",
    "# Adds the current prompt as a new message to the chat history\n",
    "# and calls bedrock with the entire chat history\n",
    "# Returns the response body, llm's message, and new chat history\n",
    "\n",
    "'''\n",
    "Example response body structure:\n",
    "{\n",
    "   \"id\":\"msg_bdrk_01C5GGkafK7aL3P5i3rsMr1p\",\n",
    "   \"type\":\"message\",\n",
    "   \"role\":\"assistant\",\n",
    "   \"model\":\"claude-3-sonnet-20240229\",\n",
    "   \"content\":[\n",
    "      {\n",
    "         \"type\":\"tool_use\",\n",
    "         \"id\":\"toolu_bdrk_01CQiYa8BMJfpJC68DuRdwQn\",\n",
    "         \"name\":\"query_food_recipe_vector_db\",\n",
    "         \"input\":{\n",
    "            \"queries\":[\n",
    "               \"healthy fish dinner recipe under 500 calories\",\n",
    "               \"fish dinner recipe for two under 40 minutes\"\n",
    "            ]\n",
    "         }\n",
    "      }\n",
    "   ],\n",
    "   \"stop_reason\":\"tool_use\",\n",
    "   \"stop_sequence\":\"None\",\n",
    "   \"usage\":{\n",
    "      \"input_tokens\":559,\n",
    "      \"output_tokens\":55\n",
    "   }\n",
    "}\n",
    "'''\n",
    "def message_handler(existing_chat_history, prompt, is_tool_message=False):\n",
    "    # Fn results is an array of tool response objects\n",
    "    # message structure needs to reflect that\n",
    "    if is_tool_message:\n",
    "        user_message = generate_tool_message(prompt)\n",
    "    else:\n",
    "        user_message = generate_message(prompt)\n",
    "    existing_chat_history.append(user_message)\n",
    "\n",
    "    # Parse the response content\n",
    "    response_body = query_bedrock_llm(existing_chat_history)\n",
    "    llm_message = {\n",
    "        'role': response_body['role'],\n",
    "        'content': response_body['content']\n",
    "    }\n",
    "\n",
    "    # Add the response message to the chat history\n",
    "    existing_chat_history.append(llm_message)\n",
    "    \n",
    "    return [response_body, llm_message, existing_chat_history]"
   ]
  },
  {
   "cell_type": "code",
   "execution_count": 45,
   "id": "54251908-abed-4098-88db-dae841ce9875",
   "metadata": {
    "tags": []
   },
   "outputs": [],
   "source": [
    "# Executes a list of queries and returns a list of document results\n",
    "def handle_vector_db_queries(queries, retriever=qdrant_retriever): \n",
    "    context_docs = []\n",
    "    for query in queries:\n",
    "        query_results = retriever.invoke(query)\n",
    "        context_docs.extend(query_results)\n",
    "\n",
    "    return context_docs"
   ]
  },
  {
   "cell_type": "code",
   "execution_count": 46,
   "id": "a7daf0c5-eca6-496d-a9d3-97d7d472a086",
   "metadata": {
    "tags": []
   },
   "outputs": [],
   "source": [
    "# Takes as an argument to LLM message content, returns a list of the fn result objects\n",
    "def handle_function_calls(tool_call_message_content, retriever=qdrant_retriever):\n",
    "    tool_results = []\n",
    "    \n",
    "    for tool_call in tool_call_message_content:\n",
    "        # Only process messages from the LLM that are function calls\n",
    "        if tool_call['type'] != 'tool_use':\n",
    "            continue\n",
    "        fn_id = tool_call['id']\n",
    "        fn_name = tool_call['name']\n",
    "        fn_args = tool_call['input']\n",
    "        fn_result = {\n",
    "            \"type\": \"tool_result\",\n",
    "            \"tool_use_id\": fn_id,\n",
    "        }   \n",
    "\n",
    "        if fn_name == 'query_food_recipe_vector_db':\n",
    "            if 'queries' not in fn_args:\n",
    "                print(f\"ERROR: Tried to call {fn_name} with invalid args {fn_args}, skipping..\")\n",
    "                fn_result['content'] = \"\"\n",
    "                fn_result['is_error'] = True\n",
    "                tool_results.append(fn_result)\n",
    "                continue\n",
    "                \n",
    "            print(f\"Model called {fn_name} with args {fn_args}\")\n",
    "            context_docs = handle_vector_db_queries(fn_args['queries'], retriever)\n",
    "            context_str = format_docs(context_docs)\n",
    "            fn_result['content'] = context_str\n",
    "            tool_results.append(fn_result)\n",
    "            \n",
    "        # TODO: handle web search invocation here\n",
    "        else:\n",
    "            print(f\"ERROR: Attempted call to unknown function {fn_name}\")\n",
    "            fn_result['content'] = \"\"\n",
    "            fn_result['is_error'] = True\n",
    "            tool_results.append(fn_result)\n",
    "\n",
    "    return tool_results"
   ]
  },
  {
   "cell_type": "markdown",
   "id": "7e719297-c2db-4068-898d-81ea89ce4551",
   "metadata": {},
   "source": [
    "### Run dynamic query function calling with test queries"
   ]
  },
  {
   "cell_type": "code",
   "execution_count": 47,
   "id": "33afd461-f722-404e-bc42-617a953e559d",
   "metadata": {
    "tags": []
   },
   "outputs": [],
   "source": [
    "'''\n",
    "Example payload structure of response_body:\n",
    "\n",
    "{'id': 'msg_bdrk_01REesjegNiLteurBoxW7pSt',\n",
    " 'type': 'message',\n",
    " 'role': 'assistant',\n",
    " 'model': 'claude-3-sonnet-20240229',\n",
    " 'content': [{'type': 'tool_use',\n",
    "   'id': 'toolu_bdrk_01191W2FuAFTRoDqKKeJSmmn',\n",
    "   'name': 'query_food_recipe_vector_db',\n",
    "   'input': {'queries': ['thai food',\n",
    "     'peanut free',\n",
    "     'low carb',\n",
    "     'not spicy']}}],\n",
    " 'stop_reason': 'tool_use',\n",
    " 'stop_sequence': None,\n",
    " 'usage': {'input_tokens': 573, 'output_tokens': 52}}\n",
    "\n",
    "\n",
    "Example payload structure of llm_message['content']:\n",
    "\n",
    "[{'type': 'tool_use',\n",
    "   'id': 'toolu_bdrk_01191W2FuAFTRoDqKKeJSmmn',\n",
    "   'name': 'query_food_recipe_vector_db',\n",
    "   'input': {'queries': ['thai food',\n",
    "     'peanut free',\n",
    "     'low carb',\n",
    "     'not spicy']}}]\n",
    "'''\n",
    "\n",
    "# This function is the entry point to invoke the LLM with support for function calling\n",
    "# parsing output, calling requested functions, sending output is handled here\n",
    "def run_chat_loop(prompt, retriever=qdrant_retriever):\n",
    "    print(f\"[User]: {prompt}\")\n",
    "    response_body, llm_message, chat_history = message_handler(existing_chat_history=[], prompt=prompt)\n",
    "    \n",
    "    \n",
    "    # The model wants to call tools, call them, provide response, repeat until content is generated\n",
    "    while response_body['stop_reason'] == 'tool_use':\n",
    "        fn_results = handle_function_calls(tool_call_message_content=llm_message['content'], retriever=retriever)\n",
    "\n",
    "        # Send function results back to LLM as a new message with the existing chat history\n",
    "        response_body, llm_message, chat_history = message_handler(\n",
    "            existing_chat_history=chat_history, \n",
    "            prompt=fn_results,\n",
    "            is_tool_message=True\n",
    "        )\n",
    "\n",
    "    # The model is done calling tools\n",
    "    print(f\"\\n[Model]: {llm_message['content'][0]['text']}\")\n",
    "    return f\"\\n[Model]: {llm_message['content'][0]['text']}\"\n"
   ]
  },
  {
   "cell_type": "code",
   "execution_count": 48,
   "id": "cae17c97-2d7c-434a-ba3c-92e4ce7a0afa",
   "metadata": {
    "tags": []
   },
   "outputs": [
    {
     "name": "stdout",
     "output_type": "stream",
     "text": [
      "[User]: \n",
      "    I enjoy asian fusion food and I am a vegetarian. \n",
      "    Give me one recipe with ingredients and instructions\n",
      "    \n",
      "Model called query_food_recipe_vector_db with args {'queries': ['asian fusion vegetarian recipes']}\n",
      "Model called query_food_recipe_vector_db with args {'queries': ['vegetarian asian fusion recipes']}\n",
      "Model called query_food_recipe_vector_db with args {'queries': ['vegetarian recipes combining multiple asian cuisines']}\n",
      "\n",
      "[Model]: <search_quality_reflection>\n",
      "The search for \"vegetarian recipes combining multiple asian cuisines\" provided some promising options that seem to blend flavors and ingredients from different Asian culinary traditions into fusion dishes. The sesame vinaigrette, Thai curry, and Thai-noodle peanut pasta all incorporate elements from multiple Asian cuisines in a vegetarian-friendly way. I believe I now have enough context to provide a relevant recipe recommendation.\n",
      "</search_quality_reflection>\n",
      "\n",
      "<search_quality_score>5</search_quality_score>\n",
      "\n",
      "<result>\n",
      "Here is a delicious vegetarian Asian fusion recipe that combines flavors from Thai and Chinese cuisines:\n",
      "\n",
      "Thai-Noodle Peanut Pasta\n",
      "\n",
      "Ingredients:\n",
      "- 8 oz rice noodles or linguine \n",
      "- 1 cup shredded carrots\n",
      "- 1 cup shredded red cabbage\n",
      "- 1 cup snow peas, trimmed\n",
      "- 1/2 cup chopped green onions\n",
      "- 1/4 cup chopped cilantro\n",
      "- 1/4 cup chopped peanuts\n",
      "\n",
      "For the Peanut Sauce:\n",
      "- 1/2 cup creamy peanut butter\n",
      "- 1/4 cup soy sauce\n",
      "- 2 tablespoons rice vinegar\n",
      "- 2 tablespoons brown sugar\n",
      "- 1 tablespoon sesame oil\n",
      "- 1 tablespoon freshly grated ginger\n",
      "- 1 teaspoon sriracha or other hot sauce\n",
      "- 1/4 cup water\n",
      "\n",
      "Instructions:\n",
      "\n",
      "1. Cook the noodles according to package instructions until al dente. Drain and rinse under cold water.\n",
      "\n",
      "2. Make the peanut sauce by whisking together all the sauce ingredients until smooth and well combined. \n",
      "\n",
      "3. In a large bowl, toss the cooked noodles with the shredded carrots, cabbage, snow peas, green onions, cilantro, and peanut sauce until everything is evenly coated.\n",
      "\n",
      "4. Garnish with chopped peanuts before serving.\n",
      "\n",
      "This fusion dish combines the bold Thai peanut sauce flavors with Chinese noodles and vegetables. The creamy peanut sauce coats the noodles and veggies for a delightfully nutty, sweet, salty and slightly spicy flavor profile. It's a satisfying vegetarian meal that brings together the best of Thai and Chinese culinary influences. Enjoy!\n",
      "</result>\n"
     ]
    },
    {
     "data": {
      "text/plain": [
       "'\\n[Model]: <search_quality_reflection>\\nThe search for \"vegetarian recipes combining multiple asian cuisines\" provided some promising options that seem to blend flavors and ingredients from different Asian culinary traditions into fusion dishes. The sesame vinaigrette, Thai curry, and Thai-noodle peanut pasta all incorporate elements from multiple Asian cuisines in a vegetarian-friendly way. I believe I now have enough context to provide a relevant recipe recommendation.\\n</search_quality_reflection>\\n\\n<search_quality_score>5</search_quality_score>\\n\\n<result>\\nHere is a delicious vegetarian Asian fusion recipe that combines flavors from Thai and Chinese cuisines:\\n\\nThai-Noodle Peanut Pasta\\n\\nIngredients:\\n- 8 oz rice noodles or linguine \\n- 1 cup shredded carrots\\n- 1 cup shredded red cabbage\\n- 1 cup snow peas, trimmed\\n- 1/2 cup chopped green onions\\n- 1/4 cup chopped cilantro\\n- 1/4 cup chopped peanuts\\n\\nFor the Peanut Sauce:\\n- 1/2 cup creamy peanut butter\\n- 1/4 cup soy sauce\\n- 2 tablespoons rice vinegar\\n- 2 tablespoons brown sugar\\n- 1 tablespoon sesame oil\\n- 1 tablespoon freshly grated ginger\\n- 1 teaspoon sriracha or other hot sauce\\n- 1/4 cup water\\n\\nInstructions:\\n\\n1. Cook the noodles according to package instructions until al dente. Drain and rinse under cold water.\\n\\n2. Make the peanut sauce by whisking together all the sauce ingredients until smooth and well combined. \\n\\n3. In a large bowl, toss the cooked noodles with the shredded carrots, cabbage, snow peas, green onions, cilantro, and peanut sauce until everything is evenly coated.\\n\\n4. Garnish with chopped peanuts before serving.\\n\\nThis fusion dish combines the bold Thai peanut sauce flavors with Chinese noodles and vegetables. The creamy peanut sauce coats the noodles and veggies for a delightfully nutty, sweet, salty and slightly spicy flavor profile. It\\'s a satisfying vegetarian meal that brings together the best of Thai and Chinese culinary influences. Enjoy!\\n</result>'"
      ]
     },
     "execution_count": 48,
     "metadata": {},
     "output_type": "execute_result"
    }
   ],
   "source": [
    "run_chat_loop(test_queries['1'])"
   ]
  },
  {
   "cell_type": "markdown",
   "id": "dd2af1dd-de2e-4858-acab-6e5c8c6e3efc",
   "metadata": {
    "tags": []
   },
   "source": [
    "### Evaluation method\n",
    "1. Use LLM as a judge \n",
    "2. Basic Sniff test\n",
    "\n",
    "### Evaluation pipeline\n",
    "1. Look at EDA result and determine the type of cuisine preesnt in the data. Come up with 8 \"Test Questions\". - Done. \n",
    "    test_query_1 to test_query_8\n",
    "2. Feed the test questions in to the basic RAG, function calling RAG\n",
    "3. Gather response and use the following two methods to evaluate them.\n",
    "   1. LLM as a judge (provide grading ruberic) and ask the eval LLM to provide a score of 1-5.\n",
    "   2. Sniff test \n",
    "  "
   ]
  },
  {
   "cell_type": "markdown",
   "id": "b35de926-c6e1-4ac5-953d-9a82cf8ca2df",
   "metadata": {
    "tags": []
   },
   "source": [
    "### Recipe Grading Criteria - Pass into the Eval LLM as part of the prompt\n",
    "\n",
    "Grading Scale (1-5)\n",
    "\n",
    "5 - Exceptional Recipe:\n",
    "\n",
    "    1. Accuracy: The recipe is highly accurate and closely matches the user's query, including all specified ingredients, dietary restrictions, and desired cuisine type.\n",
    "    2. Clarity: The instructions are clear, easy to follow, and logically sequenced. Cooking times and temperatures are precise.\n",
    "    3. Creativity: The recipe demonstrates creativity, offering a unique or interesting twist on a classic dish or a novel combination of ingredients.\n",
    "    4. Completeness: The recipe includes all necessary details, such as ingredient measurements, preparation steps, serving suggestions, and any relevant tips or variations.\n",
    "    5. Healthiness: The recipe provides a balanced nutritional profile, aligning with any specified health goals or dietary considerations.\n",
    "    6. User Feedback: The recipe is likely to receive high ratings from users for both taste and ease of preparation.\n",
    "\n",
    "\n",
    "4 - Very Good Recipe:\n",
    "\n",
    "    1. Accuracy: The recipe mostly matches the user's query with minor deviations or substitutions that still align with the user's dietary restrictions and preferences.\n",
    "    2. Clarity: The instructions are clear and easy to follow, with only minor areas that could benefit from additional detail.\n",
    "    3. Creativity: The recipe shows some creativity and presents an appealing dish, though it may not be as unique as a 5-rated recipe.\n",
    "    4. Completeness: The recipe includes most necessary details, but might miss a few minor tips or variations.\n",
    "    5. Healthiness: The recipe is generally healthy, though it may not be as nutritionally balanced as a 5-rated recipe.\n",
    "    6. User Feedback: The recipe is likely to receive good ratings from users, being tasty and reasonably easy to prepare.\n",
    "\n",
    "3 - Good Recipe:\n",
    "\n",
    "    1. Accuracy: The recipe has a reasonable match with the user's query but may include some inaccuracies or ingredient substitutions that slightly alter the dish's nature.\n",
    "    2. Clarity: The instructions are generally clear but may have a few confusing steps or lack detailed guidance in some areas.\n",
    "    3. Creativity: The recipe is standard with minimal creativity or uniqueness.\n",
    "    4. Completeness: The recipe includes the essential details but lacks additional helpful information or suggestions.\n",
    "    5. Healthiness: The recipe is moderately healthy but may lack balance in terms of nutritional profile.\n",
    "    6. User Feedback: The recipe is expected to receive average ratings, being satisfactory but not outstanding in taste or ease of preparation.\n",
    "\n",
    "2 - Fair Recipe:\n",
    "\n",
    "    1. Accuracy: The recipe has noticeable discrepancies from the user's query, potentially including ingredients that were supposed to be excluded due to dietary restrictions.\n",
    "    2. Clarity: The instructions are unclear or difficult to follow, with significant gaps or ambiguities.\n",
    "    3. Creativity: The recipe lacks creativity and may appear bland or uninspired.\n",
    "    4. Completeness: The recipe is missing several important details, such as precise measurements or key preparation steps.\n",
    "    5. Healthiness: The recipe is not particularly healthy and may have an unbalanced nutritional profile.\n",
    "    6. User Feedback: The recipe is likely to receive below-average ratings due to issues with taste, clarity, or preparation difficulty.\n",
    "\n",
    "1 - Poor Recipe:\n",
    "\n",
    "    1. Accuracy: The recipe significantly deviates from the user's query, ignoring key dietary restrictions or preferences.\n",
    "    2. Clarity: The instructions are confusing, incomplete, or incorrect, making the recipe difficult or impossible to follow.\n",
    "    3. Creativity: The recipe is not creative and may seem haphazard or poorly thought out.\n",
    "    4. Completeness: The recipe is missing critical details, such as major ingredients, steps, or cooking times.\n",
    "    5. Healthiness: The recipe is unhealthy and lacks a balanced nutritional profile.\n",
    "    6. User Feedback: The recipe is likely to receive low ratings due to poor taste, difficulty in preparation, or failure to meet user expectations."
   ]
  },
  {
   "cell_type": "code",
   "execution_count": 49,
   "id": "df7088e1-430d-4eca-9d21-39aa660440f2",
   "metadata": {
    "tags": []
   },
   "outputs": [],
   "source": [
    "# Eval framework\n",
    "MODEL_ID = \"anthropic.claude-3-haiku-20240307-v1:0\"\n",
    "\n",
    "def query_bedrock_eval_llm(messages):\n",
    "    response = bedrock_client.invoke_model(\n",
    "        modelId=MODEL_ID,\n",
    "        body=json.dumps({\n",
    "            'anthropic_version': 'bedrock-2023-05-31', # This is required to use chat style messages object \n",
    "            'messages': messages,\n",
    "            'max_tokens': 3000,\n",
    "\n",
    "            # This config forces the model to always call the recipe db query tool atleast once \n",
    "            # https://docs.anthropic.com/en/docs/build-with-claude/tool-use#controlling-claudes-output\n",
    "            # \"tool_choice\": {\n",
    "            #     \"type\": \"tool\",\n",
    "            #     \"name\": recipe_db_query_tool['name']\n",
    "            # },\n",
    "            \n",
    "            # TODO: TUNE THESE VALUES\n",
    "            'temperature': 0.1, \n",
    "            'top_p': 0.9,\n",
    "            'top_k' : 2,\n",
    "        })\n",
    "    )\n",
    "    response_body = json.loads(response.get('body').read())\n",
    "    \n",
    "    return response_body"
   ]
  },
  {
   "cell_type": "code",
   "execution_count": 50,
   "id": "48349c51-7a1d-4762-9623-105c16530b5d",
   "metadata": {
    "tags": []
   },
   "outputs": [],
   "source": [
    "qdrant_rag_chain_eval = (\n",
    "    RunnableMap(\n",
    "        # {\"context\": qdrant_retriever | format_docs,\n",
    "         {\"query\": RunnablePassthrough()}\n",
    "    )\n",
    "    | process_prompt\n",
    "    | query_bedrock_eval_llm\n",
    "    # | parse_event_stream\n",
    ")"
   ]
  },
  {
   "cell_type": "code",
   "execution_count": 51,
   "id": "ac0221f6-3259-495d-b665-f51beb2a8a7c",
   "metadata": {
    "tags": []
   },
   "outputs": [],
   "source": [
    "import copy\n",
    "def llm_judge_eval(queries_index_list, model_responses_dict):\n",
    "    \n",
    "    eval_responses = copy.deepcopy(model_responses_dict)\n",
    "    \n",
    "    for model_name, response_dict in model_responses_dict.items():\n",
    "        for i in queries_index_list:\n",
    "            query = test_queries[i]\n",
    "            gen_response = response_dict[i]\n",
    "\n",
    "            eval_message = f\"\"\"\n",
    "            You are a helpful assistant and expert in reviewing cooking recipes.\n",
    "\n",
    "            Please look at the given user query, recipe generated by another LLM and follow the rubric below. Provide a score between 1-5 on how good the recipe is.\n",
    "\n",
    "            user query : \"{query}\"\n",
    "\n",
    "            Recipe generated by another LLM: \"{gen_response}\"\n",
    "\n",
    "            Recipe review rubric: \n",
    "\n",
    "            Grading Scale (1-5)\n",
    "\n",
    "            5 - Exceptional Recipe:\n",
    "\n",
    "            1. Accuracy: The recipe is highly accurate and closely matches the user's query, including all specified ingredients, dietary restrictions, and desired cuisine type.\n",
    "            2. Clarity: The instructions are clear, easy to follow, and logically sequenced. Cooking times and temperatures are precise.\n",
    "            3. Creativity: The recipe demonstrates creativity, offering a unique or interesting twist on a classic dish or a novel combination of ingredients.\n",
    "            4. Completeness: The recipe includes all necessary details, such as ingredient measurements, preparation steps, serving suggestions, and any relevant tips or variations.\n",
    "            5. Healthiness: The recipe provides a balanced nutritional profile, aligning with any specified health goals or dietary considerations.\n",
    "            6. User Feedback: The recipe is likely to receive high ratings from users for both taste and ease of preparation.\n",
    "            4 - Very Good Recipe:\n",
    "\n",
    "            1. Accuracy: The recipe mostly matches the user's query with minor deviations or substitutions that still align with the user's dietary restrictions and preferences.\n",
    "            2. Clarity: The instructions are clear and easy to follow, with only minor areas that could benefit from additional detail.\n",
    "            3. Creativity: The recipe shows some creativity and presents an appealing dish, though it may not be as unique as a 5-rated recipe.\n",
    "            4. Completeness: The recipe includes most necessary details, but might miss a few minor tips or variations.\n",
    "            5. Healthiness: The recipe is generally healthy, though it may not be as nutritionally balanced as a 5-rated recipe.\n",
    "            6. User Feedback: The recipe is likely to receive good ratings from users, being tasty and reasonably easy to prepare.\n",
    "            3 - Good Recipe:\n",
    "\n",
    "            1. Accuracy: The recipe has a reasonable match with the user's query but may include some inaccuracies or ingredient substitutions that slightly alter the dish's nature.\n",
    "            2. Clarity: The instructions are generally clear but may have a few confusing steps or lack detailed guidance in some areas.\n",
    "            3. Creativity: The recipe is standard with minimal creativity or uniqueness.\n",
    "            4. Completeness: The recipe includes the essential details but lacks additional helpful information or suggestions.\n",
    "            5. Healthiness: The recipe is moderately healthy but may lack balance in terms of nutritional profile.\n",
    "            6. User Feedback: The recipe is expected to receive average ratings, being satisfactory but not outstanding in taste or ease of preparation.\n",
    "            2 - Fair Recipe:\n",
    "\n",
    "            1. Accuracy: The recipe has noticeable discrepancies from the user's query, potentially including ingredients that were supposed to be excluded due to dietary restrictions.\n",
    "            2. Clarity: The instructions are unclear or difficult to follow, with significant gaps or ambiguities.\n",
    "            3. Creativity: The recipe lacks creativity and may appear bland or uninspired.\n",
    "            4. Completeness: The recipe is missing several important details, such as precise measurements or key preparation steps.\n",
    "            5. Healthiness: The recipe is not particularly healthy and may have an unbalanced nutritional profile.\n",
    "            6. User Feedback: The recipe is likely to receive below-average ratings due to issues with taste, clarity, or preparation difficulty.\n",
    "            1 - Poor Recipe:\n",
    "\n",
    "            1. Accuracy: The recipe significantly deviates from the user's query, ignoring key dietary restrictions or preferences.\n",
    "            2. Clarity: The instructions are confusing, incomplete, or incorrect, making the recipe difficult or impossible to follow.\n",
    "            3. Creativity: The recipe is not creative and may seem haphazard or poorly thought out.\n",
    "            4. Completeness: The recipe is missing critical details, such as major ingredients, steps, or cooking times.\n",
    "            5. Healthiness: The recipe is unhealthy and lacks a balanced nutritional profile.\n",
    "            6. User Feedback: The recipe is likely to receive low ratings due to poor taste, difficulty in preparation, or failure to meet user expectations.\n",
    "\n",
    "            The response format should be the following :\n",
    "\n",
    "            User Query : \n",
    "            Recipe reviewed : \n",
    "            Score : \n",
    "            Reasoning : \n",
    "                1. Accuracy:\n",
    "                2. Clarity :\n",
    "                3. Creativity :\n",
    "                4. Completeness : \n",
    "                5. Healthiness : \n",
    "                6. User Feedback :\n",
    "            \"\"\"\n",
    "\n",
    "            # eval_resp = qdrant_rag_chain_eval.invoke(eval_message)['content'][0]['text']\n",
    "            eval_resp = qdrant_rag_chain_eval.invoke(eval_message)\n",
    "            eval_responses[model_name][f\"eval_{i}\"] = eval_resp\n",
    "            print(f'Model: {model_name}')\n",
    "            print(eval_resp['content'][0]['text'])\n",
    "            print(\"========\\n\")\n",
    "    return eval_responses\n",
    "    "
   ]
  },
  {
   "cell_type": "code",
   "execution_count": 52,
   "id": "cad7ee2f-117f-4595-a30c-7a4958458875",
   "metadata": {
    "tags": []
   },
   "outputs": [],
   "source": [
    "def model_testing(query_index, model_dict):\n",
    "    \"\"\"\n",
    "    query_index: list of indices to pull from test_queries dict\n",
    "    model_dict: expected input {model_name: (model_object, boolean for function calling)}\n",
    "    return dict {model_name_1: {1: response_1, 2: response_2, etc}}\n",
    "    \"\"\"\n",
    "    # instantiate dict {model name: {1:response, 2:response2, etc}}\n",
    "    model_responses = {model_name: {i: '' for i in query_index} for model_name in model_dict.keys()}\n",
    "    for model_name, (model, func_call) in models_to_test.items():\n",
    "        for i in queries_test_index:\n",
    "            query = test_queries[i]\n",
    "\n",
    "            if func_call:\n",
    "                response = run_chat_loop(query, model) \n",
    "            else: \n",
    "                response = model.invoke(query)\n",
    "\n",
    "            model_responses[model_name][i] = response\n",
    "    return model_responses"
   ]
  },
  {
   "cell_type": "code",
   "execution_count": 106,
   "id": "c78f8b8b-069e-44b0-94aa-8f25a84b59af",
   "metadata": {
    "tags": []
   },
   "outputs": [
    {
     "name": "stdout",
     "output_type": "stream",
     "text": [
      "Based on the context provided, I would recommend trying the \"Vegetarian Thai Curry\" recipe. This dish sounds like it would be a great fit for your preferences as a vegetarian who enjoys Asian fusion cuisine.\n",
      "\n",
      "Here are the ingredients and instructions for the Vegetarian Thai Curry recipe:\n",
      "\n",
      "Ingredients:\n",
      "- 1 tablespoon vegetable oil\n",
      "- 1 onion, diced \n",
      "- 3 cloves garlic, minced\n",
      "- 1 tablespoon grated fresh ginger\n",
      "- 2 tablespoons red curry paste\n",
      "- 1 (13.5 oz) can coconut milk\n",
      "- 1 cup vegetable broth\n",
      "- 1 tablespoon brown sugar\n",
      "- 2 tablespoons fish sauce (or soy sauce for a vegan option)\n",
      "- 1 red bell pepper, sliced\n",
      "- 1 cup sliced mushrooms\n",
      "- 1 cup cubed firm tofu\n",
      "- 1 cup baby spinach\n",
      "- Juice of 1 lime\n",
      "- Chopped cilantro for garnish\n",
      "\n",
      "Instructions:\n",
      "1. Heat the vegetable oil in a large skillet or wok over medium heat. Add the onion and sauté for 2-3 minutes until translucent.\n",
      "2. Add the garlic and ginger and cook for 1 minute, stirring constantly, until fragrant.\n",
      "3. Stir in the red curry paste and cook for 1 minute.\n",
      "4. Pour in the coconut milk and vegetable broth. Add the brown sugar and fish sauce (or soy sauce). Bring to a simmer.\n",
      "5. Add the bell pepper, mushrooms, and tofu. Simmer for 10-15 minutes, until the vegetables are tender.\n",
      "6. Stir in the baby spinach and lime juice. Cook for 2-3 minutes until the spinach is wilted.\n",
      "7. Serve the curry over steamed rice and garnish with chopped cilantro.\n",
      "\n",
      "I hope you enjoy this flavorful and vegetarian-friendly Thai curry dish! Let me know if you have any other questions.\n",
      "Based on the user's preferences and the provided recipe context, I would recommend the following recipe:\n",
      "\n",
      "Thai Pumpkin Soup With Peanut Butter\n",
      "\n",
      "Ingredients:\n",
      "- 1 can (15 oz) pumpkin puree\n",
      "- 1 cup low-sodium vegetable broth\n",
      "- 1/4 cup creamy peanut butter (omit if you have a peanut allergy)\n",
      "- 1 tbsp lime juice\n",
      "- 1 tsp grated ginger\n",
      "- 1 tsp soy sauce\n",
      "- 1/4 tsp salt\n",
      "- 1/4 tsp ground black pepper\n",
      "\n",
      "Instructions:\n",
      "1. In a medium saucepan, combine the pumpkin puree, vegetable broth, peanut butter (if using), lime juice, ginger, soy sauce, salt, and pepper.\n",
      "2. Whisk the ingredients together and bring the mixture to a simmer over medium heat, stirring occasionally.\n",
      "3. Once simmering, reduce the heat to low and let the soup cook for 5-10 minutes, stirring occasionally, until heated through.\n",
      "4. Taste and adjust seasoning as needed.\n",
      "5. Serve the soup warm. You can garnish with chopped cilantro or green onions if desired.\n",
      "\n",
      "This Thai-inspired pumpkin soup is a great option for someone with a peanut allergy who wants a low-carb, non-spicy Thai-style dish. The pumpkin and peanut butter provide creaminess without the need for heavy cream. Enjoy!\n",
      "Based on the provided context, I would recommend the \"Spinach and Feta Omelet (Low Carb)\" recipe.\n",
      "\n",
      "This recipe meets the criteria you specified:\n",
      "\n",
      "- It includes eggs and spinach as key ingredients, which aligns with your request for a low-carb breakfast recipe with eggs and spinach.\n",
      "- The total preparation time is 10 minutes, which is under the 20-minute requirement.\n",
      "- The recipe is categorized as \"Very Low Carbs\", making it suitable for a keto diet.\n",
      "\n",
      "Here are the key details about the Spinach and Feta Omelet (Low Carb) recipe:\n",
      "\n",
      "Ingredients:\n",
      "- Eggs\n",
      "- Spinach\n",
      "- Feta cheese\n",
      "\n",
      "Instructions:\n",
      "1. Crack the eggs into a bowl and whisk them together.\n",
      "2. Add the spinach and feta cheese to the egg mixture and stir to combine.\n",
      "3. Heat a non-stick skillet over medium heat and pour in the egg mixture.\n",
      "4. Cook the omelet for 2-3 minutes per side, or until the eggs are set.\n",
      "5. Slide the omelet onto a plate and enjoy!\n",
      "\n",
      "This recipe is quick, easy, and packed with nutritious ingredients that fit well within a low-carb, keto-friendly diet. Let me know if you need any other breakfast recipe recommendations!\n",
      "Based on the provided context, I would recommend the \"Mediterranean Fish\" recipe for your healthy dinner request.\n",
      "\n",
      "The key details that make this recipe a good fit:\n",
      "\n",
      "- It is a fish-based dish, which meets your requirement for including fish.\n",
      "- The total calories per serving is 346.6, which is under the 500 calorie limit you specified.\n",
      "- The total cooking time is 50 minutes, with a prep time of 15 minutes and cook time of 35 minutes, so it can be made in less than 40 minutes.\n",
      "\n",
      "Here are the full recipe instructions:\n",
      "\n",
      "Mediterranean Fish\n",
      "\n",
      "Ingredients:\n",
      "- 4 (6 oz) cod or halibut fillets \n",
      "- 1 tbsp olive oil\n",
      "- 1 tsp dried oregano\n",
      "- 1/4 tsp salt\n",
      "- 1/4 tsp black pepper\n",
      "- 1 cup cherry tomatoes, halved\n",
      "- 1/2 cup pitted kalamata olives, halved\n",
      "- 2 tbsp fresh lemon juice\n",
      "- 2 tbsp chopped fresh parsley\n",
      "\n",
      "Instructions:\n",
      "1. Preheat oven to 400°F.\n",
      "2. Place fish fillets in a baking dish and drizzle with olive oil. Sprinkle with oregano, salt, and pepper.\n",
      "3. Bake for 15-20 minutes, until fish flakes easily with a fork.\n",
      "4. In a small bowl, combine the tomatoes, olives, lemon juice, and parsley. \n",
      "5. Serve the baked fish topped with the tomato-olive mixture.\n",
      "\n",
      "This Mediterranean-inspired fish dish is healthy, quick, and full of flavor. Let me know if you need any other recipe recommendations!\n",
      "Based on the user prompt and the provided recipe context, I would recommend the following recipe:\n",
      "\n",
      "Daikon 'fettuccine' With Cyndi's Vegan Alfredo Sauce\n",
      "\n",
      "This recipe meets the key requirements:\n",
      "\n",
      "- Dairy-free: This is a vegan recipe, so it does not contain any dairy products.\n",
      "- Low in sodium: The sodium content is only 71.2mg per serving.\n",
      "- Quick to prepare: The total time to make this dish is only 25 minutes.\n",
      "\n",
      "Here are the full recipe details:\n",
      "\n",
      "Ingredients:\n",
      "- 1 large daikon radish, peeled and cut into long, thin strips (like fettuccine)\n",
      "- Cyndi's Vegan Alfredo Sauce:\n",
      "  - 1 cup raw cashews, soaked in water for at least 4 hours\n",
      "  - 1 cup unsweetened almond milk\n",
      "  - 2 tbsp nutritional yeast\n",
      "  - 1 tbsp lemon juice\n",
      "  - 1 tsp garlic powder\n",
      "  - 1/2 tsp onion powder\n",
      "  - 1/4 tsp salt\n",
      "\n",
      "Instructions:\n",
      "1. Prepare the daikon \"fettuccine\" by peeling and cutting the daikon radish into long, thin strips.\n",
      "2. Make the Vegan Alfredo Sauce by draining and rinsing the soaked cashews. Add the cashews and all other sauce ingredients to a high-speed blender and blend until smooth and creamy.\n",
      "3. In a large skillet, heat the Vegan Alfredo Sauce over medium heat, stirring frequently, until heated through.\n",
      "4. Add the daikon \"fettuccine\" to the sauce and toss to coat evenly.\n",
      "5. Serve immediately.\n",
      "\n",
      "This dairy-free, low-sodium, and quick-to-prepare recipe should fit well within your ketogenic diet. Let me know if you need any other recommendations!\n",
      "Based on the provided context, I would recommend the \"Green Beans & Tofu With Crunchy Thai Peanut Sauce\" recipe for you.\n",
      "\n",
      "Ingredients:\n",
      "- 1 block (14 oz) extra-firm tofu, cubed\n",
      "- 1 lb green beans, trimmed and cut into 2-inch pieces\n",
      "- 1/2 cup roasted, salted peanuts\n",
      "- 2 tablespoons soy sauce\n",
      "- 2 tablespoons rice vinegar\n",
      "- 2 tablespoons creamy peanut butter\n",
      "- 1 tablespoon brown sugar\n",
      "- 1 teaspoon sesame oil\n",
      "- 1/2 teaspoon red pepper flakes (optional, for spice)\n",
      "- 2 cloves garlic, minced\n",
      "- 1 tablespoon vegetable oil\n",
      "\n",
      "Instructions:\n",
      "1. In a large skillet or wok, heat the vegetable oil over medium-high heat. Add the cubed tofu and cook, stirring occasionally, until lightly browned on all sides, about 5-7 minutes. Transfer the tofu to a plate.\n",
      "2. In the same skillet, add the green beans and a splash of water. Cover and cook, stirring occasionally, until the beans are tender-crisp, about 5 minutes.\n",
      "3. In a small bowl, whisk together the soy sauce, rice vinegar, peanut butter, brown sugar, sesame oil, and red pepper flakes (if using).\n",
      "4. Add the cooked tofu back to the skillet with the green beans. Pour the peanut sauce over the top and toss to coat everything evenly. \n",
      "5. Sprinkle the roasted peanuts over the top and serve immediately, while hot.\n",
      "\n",
      "This recipe is vegetarian, features Asian flavors, and comes together quickly. The crunchy peanut sauce pairs perfectly with the tofu and green beans. I hope you enjoy this delicious and healthy meal!\n",
      "Based on the user's preferences and the provided context, I would recommend the following recipe:\n",
      "\n",
      "Thai Peanut Sauce (without peanuts)\n",
      "\n",
      "Ingredients:\n",
      "- 1 cup coconut milk\n",
      "- 2 tablespoons soy sauce\n",
      "- 1 tablespoon lime juice\n",
      "- 1 tablespoon brown sugar\n",
      "- 1 teaspoon grated ginger\n",
      "- 1/2 teaspoon garlic powder\n",
      "- 1/4 teaspoon ground cumin\n",
      "- 1/4 teaspoon ground coriander\n",
      "- Salt and pepper to taste\n",
      "\n",
      "Instructions:\n",
      "1. In a small saucepan, whisk together the coconut milk, soy sauce, lime juice, brown sugar, ginger, garlic powder, cumin, and coriander.\n",
      "2. Bring the mixture to a simmer over medium heat, stirring occasionally, until the flavors have blended, about 5-7 minutes.\n",
      "3. Season with salt and pepper to taste.\n",
      "4. Serve the sauce over steamed vegetables, grilled chicken or shrimp, or use it as a dipping sauce.\n",
      "\n",
      "This recipe is a peanut-free, low-carb alternative to traditional Thai peanut sauce. The coconut milk provides a creamy texture, while the lime, ginger, and spices give it a Thai-inspired flavor profile. It's a great option for those with peanut allergies who still want to enjoy the taste of Thai cuisine.\n",
      "Based on the provided context, I would recommend the \"Spinach and Feta Omelet (Low Carb)\" recipe.\n",
      "\n",
      "This recipe meets the criteria you specified:\n",
      "\n",
      "- It is a low-carb breakfast recipe that includes eggs and spinach.\n",
      "- The total preparation time is 10 minutes, which is under 20 minutes.\n",
      "- The recipe is suitable for a keto diet, with only 6.3g of carbohydrates per serving.\n",
      "\n",
      "Here are the detailed instructions for the Spinach and Feta Omelet (Low Carb) recipe:\n",
      "\n",
      "Ingredients:\n",
      "- 3 eggs\n",
      "- 2 tbsp crumbled feta cheese\n",
      "- 1 cup fresh spinach, chopped\n",
      "- Salt and pepper to taste\n",
      "\n",
      "Instructions:\n",
      "1. Crack the eggs into a bowl and beat them lightly with a fork.\n",
      "2. Add the crumbled feta cheese and chopped spinach to the eggs. Season with salt and pepper.\n",
      "3. Heat a non-stick skillet over medium heat. Pour the egg mixture into the skillet.\n",
      "4. Cook the omelet for 2-3 minutes, or until the bottom is set.\n",
      "5. Fold the omelet in half and slide it onto a plate.\n",
      "\n",
      "This low-carb, keto-friendly omelet is a quick and easy breakfast option that provides a good balance of protein, healthy fats, and nutrient-dense spinach. Enjoy!\n",
      "Based on the provided context, I would recommend the following recipes that meet your criteria:\n",
      "\n",
      "1. Salmon in Cream:\n",
      "   - This recipe is a great option for a healthy fish dinner. It takes only 35 minutes to prepare and has 382.5 calories per serving.\n",
      "   - Ingredients: salmon fillets, heavy cream, lemon juice, dill, salt, and pepper.\n",
      "   - Instructions:\n",
      "     1. Preheat the oven to 400°F (200°C).\n",
      "     2. Place the salmon fillets in a baking dish and season with salt and pepper.\n",
      "     3. In a small bowl, mix the heavy cream, lemon juice, and dill.\n",
      "     4. Pour the cream mixture over the salmon.\n",
      "     5. Bake for 20-25 minutes, or until the salmon is cooked through.\n",
      "     6. Serve the salmon with the creamy sauce.\n",
      "\n",
      "2. Mediterranean Fish:\n",
      "   - This recipe offers a flavorful and healthy fish dinner option. It takes 50 minutes to prepare and has 346.6 calories per serving.\n",
      "   - Ingredients: white fish fillets, tomatoes, olives, garlic, olive oil, lemon juice, and herbs.\n",
      "   - Instructions:\n",
      "     1. Preheat the oven to 375°F (190°C).\n",
      "     2. Place the fish fillets in a baking dish and season with salt and pepper.\n",
      "     3. In a bowl, mix the chopped tomatoes, olives, garlic, olive oil, lemon juice, and your choice of herbs (such as oregano, basil, or parsley).\n",
      "     4. Spoon the tomato-olive mixture over the fish.\n",
      "     5. Bake for 30-35 minutes, or until the fish is cooked through.\n",
      "     6. Serve the Mediterranean-style fish hot.\n",
      "\n",
      "Both of these recipes are under 500 calories per serving, include fish, and can be prepared in less than 40 minutes, making them great healthy dinner options for two people. I hope these recommendations are helpful!\n",
      "Based on the user prompt and the provided recipe context, I would recommend the following recipe:\n",
      "\n",
      "Easy Dairy-free Veggie Lasagna\n",
      "\n",
      "This recipe fits the user's dietary needs as it is:\n",
      "- Dairy-free\n",
      "- Low in sodium (38mg per serving)\n",
      "- Takes 1 hour and 20 minutes total time to prepare\n",
      "\n",
      "Key details:\n",
      "- Prep time: 20 minutes\n",
      "- Cook time: 1 hour\n",
      "- Total time: 1 hour 20 minutes\n",
      "- Servings: 6\n",
      "\n",
      "Ingredients:\n",
      "- Lasagna noodles (use gluten-free if needed)\n",
      "- Soy-based ricotta cheese\n",
      "- Sautéed vegetables (such as zucchini, spinach, onions)\n",
      "- Tomato sauce\n",
      "- Herbs and spices\n",
      "\n",
      "Instructions:\n",
      "1. Preheat oven to 375°F.\n",
      "2. Cook lasagna noodles according to package instructions. Drain and set aside.\n",
      "3. In a skillet, sauté the vegetables until tender.\n",
      "4. In a baking dish, layer the lasagna noodles, sautéed vegetables, and tomato sauce. \n",
      "5. Bake for 45-60 minutes, until hot and bubbly.\n",
      "6. Let stand for 10 minutes before serving.\n",
      "\n",
      "This dairy-free veggie lasagna is a great keto-friendly dinner option that is low in sodium and can be prepared in under an hour and a half. The use of soy-based ricotta and layered vegetables makes it a nutritious and satisfying meal. Enjoy!\n",
      "[User]: \n",
      "    I enjoy asian fusion food and I am a vegetarian. \n",
      "    Give me one recipe with ingredients and instructions\n",
      "    \n",
      "Model called query_food_recipe_vector_db with args {'queries': ['asian fusion vegetarian recipe']}\n",
      "\n",
      "[Model]: Based on the search results, here is a delicious Asian-inspired vegetarian recipe for you:\n",
      "\n",
      "Green Beans & Tofu With Crunchy Thai Peanut Sauce\n",
      "\n",
      "Ingredients:\n",
      "- 1 lb green beans, trimmed and cut into 1-inch pieces\n",
      "- 1 block extra-firm tofu, pressed and cubed\n",
      "- 2 tbsp vegetable oil\n",
      "- 1/2 cup creamy peanut butter\n",
      "- 2 tbsp soy sauce\n",
      "- 2 tbsp rice vinegar\n",
      "- 1 tbsp brown sugar\n",
      "- 1 tsp sesame oil\n",
      "- 1 tsp grated ginger\n",
      "- 1 clove garlic, minced\n",
      "- 1/4 tsp red pepper flakes (optional for spice)\n",
      "- 1/4 cup chopped roasted peanuts\n",
      "\n",
      "Instructions:\n",
      "1. In a large skillet or wok, heat the vegetable oil over medium-high heat. Add the green beans and tofu and stir-fry for 5-7 minutes until the beans are tender-crisp.\n",
      "2. In a small bowl, whisk together the peanut butter, soy sauce, rice vinegar, brown sugar, sesame oil, ginger, and garlic. \n",
      "3. Pour the peanut sauce over the green beans and tofu and toss to coat evenly. \n",
      "4. Sprinkle the chopped roasted peanuts on top.\n",
      "5. Serve immediately over steamed rice or noodles.\n",
      "\n",
      "This dish is packed with flavor from the crunchy peanut sauce, fresh vegetables, and protein-rich tofu. It's a great vegetarian option that's easy to make and full of Asian-inspired flair. Enjoy!\n",
      "[User]: \n",
      "    I have a peanut allergy but I like thai food. \n",
      "    I also don't enjoy spicy food much, and want a meal with low carbs. \n",
      "    Give a recipe with ingredients and instructions\n",
      "    \n",
      "Model called query_food_recipe_vector_db with args {'queries': ['thai food recipes without peanuts', 'low carb thai recipes', 'non-spicy thai recipes']}\n",
      "\n",
      "[Model]: Based on the search results, I would recommend the following recipe:\n",
      "\n",
      "Thai Shrimp and Vegetable Curry\n",
      "\n",
      "Ingredients:\n",
      "- 1 lb shrimp, peeled and deveined\n",
      "- 1 cup mixed vegetables (such as bell peppers, broccoli, and snow peas)\n",
      "- 1 cup coconut milk\n",
      "- 2 tbsp Thai red curry paste\n",
      "- 1 tbsp fish sauce\n",
      "- 1 tsp brown sugar\n",
      "- Juice of 1 lime\n",
      "- Salt and pepper to taste\n",
      "\n",
      "Instructions:\n",
      "1. In a large skillet or wok, heat a tablespoon of oil over medium-high heat.\n",
      "2. Add the shrimp and stir-fry for 2-3 minutes until they start to turn pink.\n",
      "3. Add the mixed vegetables and stir-fry for another 2-3 minutes.\n",
      "4. Pour in the coconut milk, Thai red curry paste, fish sauce, and brown sugar. Stir to combine.\n",
      "5. Bring the mixture to a simmer and let it cook for 5-7 minutes, until the vegetables are tender and the shrimp are cooked through.\n",
      "6. Remove from heat and stir in the lime juice. Season with salt and pepper to taste.\n",
      "7. Serve immediately over cauliflower rice or zucchini noodles for a low-carb meal.\n",
      "\n",
      "This recipe is peanut-free, low in carbs, and not overly spicy, making it a great option for your dietary needs. The shrimp and vegetables provide a good source of protein and nutrients. Enjoy!\n",
      "[User]: \n",
      "    Suggest a low-carb breakfast recipe that includes eggs and spinach, \n",
      "    can be prepared in under 20 minutes, \n",
      "    and is suitable for a keto diet.\n",
      "    \n",
      "Model called query_food_recipe_vector_db with args {'queries': ['low carb breakfast recipe with eggs and spinach', 'keto breakfast recipe under 20 minutes']}\n",
      "\n",
      "[Model]: Based on the recipe metadata retrieved, I recommend the following low-carb, keto-friendly breakfast recipe with eggs and spinach that can be prepared in under 20 minutes:\n",
      "\n",
      "Spinach and Feta Omelet (Low Carb)\n",
      "\n",
      "Ingredients:\n",
      "- 3 eggs\n",
      "- 1/4 cup fresh spinach, chopped\n",
      "- 2 tbsp crumbled feta cheese\n",
      "- Salt and pepper to taste\n",
      "\n",
      "Instructions:\n",
      "1. Crack the eggs into a bowl and whisk them together.\n",
      "2. Heat a non-stick skillet over medium heat and add the whisked eggs.\n",
      "3. As the eggs start to set, add the chopped spinach and feta cheese.\n",
      "4. Fold the omelet over and cook for 2-3 minutes until the eggs are fully cooked.\n",
      "5. Season with salt and pepper to taste.\n",
      "\n",
      "This recipe is low in carbs, high in protein and healthy fats, making it an excellent keto-friendly breakfast option. The total prep and cook time is under 15 minutes, so it's quick and easy to prepare. Enjoy!\n",
      "[User]: \n",
      "    Suggest a healthy dinner recipe for two people that includes fish, \n",
      "    is under 500 calories per serving, \n",
      "    and can be made in less than 40 minutes.\n",
      "    \n",
      "Model called query_food_recipe_vector_db with args {'queries': ['healthy dinner recipe fish under 500 calories 40 minutes']}\n",
      "\n",
      "[Model]: Based on the recipes retrieved, I would recommend the \"Poached Salmon With Dill-Yogurt Sauce\" recipe. Here are the key details:\n",
      "\n",
      "- Healthy dinner recipe with fish (salmon)\n",
      "- Under 500 calories per serving (316.6 calories)\n",
      "- Can be made in under 40 minutes (total time of 30 minutes)\n",
      "\n",
      "The recipe involves poaching salmon fillets and serving them with a dill-yogurt sauce. It's a light and healthy option that should be easy to prepare for two people.\n",
      "\n",
      "Here are the full instructions:\n",
      "\n",
      "Ingredients:\n",
      "- 4 salmon fillets (about 1 lb total)\n",
      "- 1 cup plain Greek yogurt\n",
      "- 2 tbsp chopped fresh dill\n",
      "- 1 tbsp lemon juice\n",
      "- 1/4 tsp salt\n",
      "- 1/4 tsp black pepper\n",
      "\n",
      "Instructions:\n",
      "1. In a large skillet, bring 1 inch of water to a gentle simmer over medium heat. Add the salmon fillets and poach for 8-10 minutes, until the fish flakes easily with a fork.\n",
      "2. In a small bowl, mix together the yogurt, dill, lemon juice, salt and pepper.\n",
      "3. Serve the poached salmon warm, topped with the dill-yogurt sauce.\n",
      "\n",
      "Let me know if you need any other details or have additional requirements for the recipe!\n",
      "[User]: \n",
      "    I am on a ketogenic diet and need a dinner recipe that is dairy-free, \n",
      "    low in sodium, and takes less than an hour to cook.\n",
      "    \n",
      "Model called query_food_recipe_vector_db with args {'queries': ['keto dairy-free low sodium dinner recipe', 'quick keto dairy-free low sodium dinner']}\n",
      "\n",
      "[Model]: Based on the search results, here is a keto-friendly, dairy-free, low-sodium dinner recipe that can be prepared in under an hour:\n",
      "\n",
      "Tofu Shirataki Fettuccini Alfredo\n",
      "\n",
      "Ingredients:\n",
      "- 1 package tofu shirataki noodles\n",
      "- 1/4 cup unsweetened almond milk\n",
      "- 2 tbsp nutritional yeast\n",
      "- 1 tsp garlic powder\n",
      "- 1/4 tsp salt\n",
      "- 1/4 tsp black pepper\n",
      "- 2 tbsp chopped fresh parsley (optional)\n",
      "\n",
      "Instructions:\n",
      "1. Rinse and drain the tofu shirataki noodles. Pat them dry with paper towels.\n",
      "2. In a small saucepan, whisk together the almond milk, nutritional yeast, garlic powder, salt, and pepper. \n",
      "3. Heat the sauce over medium heat, stirring frequently, until it thickens slightly, about 2-3 minutes.\n",
      "4. Add the tofu shirataki noodles to the sauce and toss to coat.\n",
      "5. Serve immediately, garnished with fresh parsley if desired.\n",
      "\n",
      "This recipe is keto-friendly, dairy-free, and very low in sodium. It takes just 12 minutes total to prepare, making it a quick and easy dinner option. The tofu shirataki noodles provide a pasta-like texture without the carbs. Enjoy!\n"
     ]
    }
   ],
   "source": [
    "# Model name: (model object, using run_chat_loop function calling)\n",
    "models_to_test = {\n",
    "    'baseline': (qdrant_rag_chain_basic, False),\n",
    "    'rerank': (qdrant_rag_chain_rerank, False),\n",
    "    'func_call_rerank': (compression_retriever, True)\n",
    "}\n",
    "\n",
    "# indexes to test from test_queries dictionary\n",
    "queries_test_index = ['1', '2', '3', '4', '5']\n",
    "\n",
    "model_responses = model_testing(queries_test_index, models_to_test)"
   ]
  },
  {
   "cell_type": "code",
   "execution_count": 54,
   "id": "26179960-68dc-47b3-9111-9986652329e6",
   "metadata": {
    "tags": []
   },
   "outputs": [
    {
     "data": {
      "text/plain": [
       "{'baseline': {'1': 'Based on the context provided, I would recommend trying the \"Vegetarian Thai Curry\" recipe. This dish seems to fit your preferences for Asian-inspired vegetarian cuisine.\\n\\nHere are the ingredients and instructions for the Vegetarian Thai Curry recipe:\\n\\nIngredients:\\n- 1 tablespoon vegetable oil\\n- 1 onion, diced \\n- 3 cloves garlic, minced\\n- 1 tablespoon grated fresh ginger\\n- 2 tablespoons red curry paste\\n- 1 (13.5 oz) can coconut milk\\n- 1 cup vegetable broth\\n- 1 tablespoon brown sugar\\n- 2 tablespoons fish sauce (or soy sauce for a vegan version)\\n- 1 red bell pepper, sliced\\n- 1 cup sliced mushrooms\\n- 1 cup broccoli florets\\n- 1 cup cubed firm tofu\\n- Juice of 1 lime\\n- Chopped cilantro for garnish\\n\\nInstructions:\\n\\n1. Heat the vegetable oil in a large skillet or wok over medium heat. Add the onion and sauté for 2-3 minutes until translucent.\\n\\n2. Add the garlic and ginger and cook for 1 minute, stirring constantly, until fragrant.\\n\\n3. Stir in the red curry paste and cook for 1 minute to toast the spices.\\n\\n4. Pour in the coconut milk and vegetable broth. Add the brown sugar and fish sauce (or soy sauce). Bring to a simmer.\\n\\n5. Add the bell pepper, mushrooms, broccoli, and tofu. Simmer for 10-15 minutes, until the vegetables are tender.\\n\\n6. Remove from heat and stir in the lime juice. \\n\\n7. Serve the vegetarian Thai curry over steamed rice and garnish with chopped cilantro.\\n\\nI hope you enjoy this flavorful and veggie-packed Thai curry dish! Let me know if you need any other recipe recommendations.',\n",
       "  '2': \"Based on the user's preferences and the provided recipe context, I would recommend the following recipe:\\n\\nThai Pumpkin Soup With Peanut Butter\\n\\nIngredients:\\n- 1 can (15 oz) pumpkin puree\\n- 1 cup low-sodium vegetable broth\\n- 1/4 cup creamy peanut butter (omit if you have a peanut allergy)\\n- 1 tablespoon lime juice\\n- 1 teaspoon grated fresh ginger\\n- 1/2 teaspoon ground cumin\\n- 1/4 teaspoon salt\\n- 1/4 teaspoon black pepper\\n- Chopped cilantro for garnish (optional)\\n\\nInstructions:\\n1. In a medium saucepan, combine the pumpkin puree, vegetable broth, peanut butter (if using), lime juice, ginger, cumin, salt, and pepper. \\n2. Whisk the ingredients together and bring the mixture to a simmer over medium heat, stirring occasionally.\\n3. Once heated through, about 5-7 minutes, remove from heat.\\n4. Ladle the soup into bowls and garnish with chopped cilantro if desired.\\n\\nThis Thai-inspired pumpkin soup is a great option for someone with a peanut allergy who wants a low-carb, non-spicy Thai-inspired dish. The pumpkin and peanut butter provide creaminess without the need for heavy cream. Adjust the amount of peanut butter to your taste preference or omit it entirely if needed. Enjoy!\"},\n",
       " 'rerank': {'1': 'Based on the provided context, I would recommend the \"Green Beans & Tofu With Crunchy Thai Peanut Sauce\" recipe for you.\\n\\nIngredients:\\n- 1 block (14 oz) extra-firm tofu, cubed\\n- 1 lb green beans, trimmed and cut into 2-inch pieces\\n- 1/4 cup creamy peanut butter\\n- 2 tbsp low-sodium soy sauce\\n- 2 tbsp rice vinegar\\n- 1 tbsp honey\\n- 1 tsp sesame oil\\n- 1 tsp grated fresh ginger\\n- 1 garlic clove, minced\\n- 1/4 tsp red pepper flakes (optional, for spice)\\n- 2 tbsp chopped roasted peanuts\\n- 2 tbsp chopped fresh cilantro\\n\\nInstructions:\\n1. In a large skillet or wok, bring 1/2 cup water to a boil over high heat. Add the tofu and green beans, cover and cook for 5-7 minutes, until the beans are tender-crisp.\\n2. Drain the tofu and beans and return to the skillet.\\n3. In a small bowl, whisk together the peanut butter, soy sauce, rice vinegar, honey, sesame oil, ginger, garlic, and red pepper flakes (if using).\\n4. Pour the peanut sauce over the tofu and green beans and toss to coat.\\n5. Serve immediately, garnished with the chopped peanuts and cilantro.\\n\\nThis recipe is vegetarian, features Asian flavors, and comes together quickly. The crunchy peanut sauce pairs perfectly with the tofu and green beans. I hope you enjoy this delicious and healthy meal!',\n",
       "  '2': \"Based on the user's preferences and the provided context, I would recommend the following recipe:\\n\\nThai Peanut Sauce (without peanuts)\\n\\nIngredients:\\n- 1/2 cup coconut milk\\n- 2 tablespoons soy sauce\\n- 1 tablespoon lime juice\\n- 1 tablespoon brown sugar\\n- 1 teaspoon grated ginger\\n- 1/4 teaspoon garlic powder\\n- 1/4 teaspoon ground cumin\\n- 1/4 teaspoon ground coriander\\n- Salt and pepper to taste\\n\\nInstructions:\\n1. In a small saucepan, whisk together the coconut milk, soy sauce, lime juice, brown sugar, ginger, garlic powder, cumin, and coriander.\\n2. Bring the mixture to a simmer over medium heat, stirring occasionally, until the flavors are combined and the sauce has thickened slightly, about 5-7 minutes.\\n3. Season with salt and pepper to taste.\\n4. Serve the sauce over steamed vegetables, grilled chicken or shrimp, or use it as a dipping sauce.\\n\\nThis peanut-free Thai-inspired sauce is low in carbs and not spicy, making it a great option for the user's dietary preferences. The coconut milk, lime, and spices provide a flavorful and creamy sauce that can be enjoyed with a variety of protein and vegetable dishes.\"},\n",
       " 'func_call_rerank': {'1': '\\n[Model]: Based on the search results, here is a tasty Asian-inspired vegetarian recipe I can recommend:\\n\\nGreen Beans & Tofu With Crunchy Thai Peanut Sauce\\n\\nIngredients:\\n- 1 lb green beans, trimmed and cut into 1-inch pieces\\n- 1 block extra-firm tofu, cubed \\n- 2 tbsp vegetable oil\\n- 1/2 cup creamy peanut butter\\n- 2 tbsp soy sauce\\n- 2 tbsp rice vinegar\\n- 1 tbsp brown sugar\\n- 1 tsp sesame oil\\n- 1 tsp grated ginger\\n- 1 clove garlic, minced\\n- 1/4 tsp red pepper flakes (optional for spice)\\n- 1/4 cup chopped roasted peanuts\\n\\nInstructions:\\n1. In a large skillet or wok, heat the vegetable oil over medium-high heat. Add the green beans and tofu and stir-fry for 5-7 minutes until the beans are tender-crisp.\\n2. In a small bowl, whisk together the peanut butter, soy sauce, rice vinegar, brown sugar, sesame oil, ginger, and garlic. \\n3. Pour the peanut sauce over the green beans and tofu and toss to coat. \\n4. Sprinkle the chopped roasted peanuts on top.\\n5. Serve immediately over steamed rice.\\n\\nThis dish is full of flavor from the crunchy peanut sauce, with the tofu and green beans providing a nutritious and satisfying vegetarian meal. Enjoy!',\n",
       "  '2': '\\n[Model]: Based on the search results, I would recommend the following recipe:\\n\\nThai Shrimp and Vegetable Curry\\n\\nIngredients:\\n- 1 lb shrimp, peeled and deveined\\n- 1 cup mixed vegetables (such as bell peppers, broccoli, and snow peas)\\n- 1 cup coconut milk\\n- 2 tbsp red curry paste\\n- 1 tbsp fish sauce\\n- 1 tsp lime juice\\n- Salt and pepper to taste\\n\\nInstructions:\\n1. In a large skillet or wok, heat a tablespoon of oil over medium-high heat.\\n2. Add the shrimp and stir-fry for 2-3 minutes until they start to turn pink.\\n3. Add the mixed vegetables and stir-fry for another 3-4 minutes.\\n4. Pour in the coconut milk and stir in the red curry paste, fish sauce, and lime juice. \\n5. Bring the mixture to a simmer and let it cook for 5-7 minutes, until the vegetables are tender and the shrimp are cooked through.\\n6. Season with salt and pepper to taste.\\n7. Serve over cauliflower rice or zucchini noodles to keep it low-carb.\\n\\nThis recipe is peanut-free, low in carbs, and not overly spicy, making it a great option for your dietary needs. The shrimp and vegetables provide a good balance of protein and nutrients. Let me know if you have any other questions!'}}"
      ]
     },
     "execution_count": 54,
     "metadata": {},
     "output_type": "execute_result"
    }
   ],
   "source": [
    "model_responses"
   ]
  },
  {
   "cell_type": "code",
   "execution_count": 107,
   "id": "e97f9778-1b5f-480d-b8eb-3a6f1663c0bd",
   "metadata": {
    "tags": []
   },
   "outputs": [
    {
     "name": "stdout",
     "output_type": "stream",
     "text": [
      "Model: baseline\n",
      "User Query: \n",
      "I enjoy asian fusion food and I am a vegetarian. Give me one recipe with ingredients and instructions.\n",
      "\n",
      "Recipe reviewed:\n",
      "Vegetarian Thai Curry\n",
      "\n",
      "Score: 4\n",
      "\n",
      "Reasoning:\n",
      "1. Accuracy: The recipe closely matches the user's query, providing a vegetarian Asian fusion dish as requested.\n",
      "2. Clarity: The instructions are clear and easy to follow, with detailed steps and cooking times.\n",
      "3. Creativity: The recipe demonstrates creativity by combining classic Thai curry flavors with a variety of vegetables and tofu, offering an interesting twist on a traditional dish.\n",
      "4. Completeness: The recipe includes all necessary details, such as ingredient measurements, preparation steps, and serving suggestions.\n",
      "5. Healthiness: The recipe provides a balanced nutritional profile, with a variety of vegetables, tofu, and a coconut milk-based sauce that aligns with the user's vegetarian dietary preferences.\n",
      "6. User Feedback: The recipe is likely to receive high ratings from users for its delicious flavor and ease of preparation.\n",
      "========\n",
      "\n",
      "Model: baseline\n",
      "User Query: \n",
      "I have a peanut allergy but I like thai food. I also don't enjoy spicy food much, and want a meal with low carbs. Give a recipe with ingredients and instructions.\n",
      "\n",
      "Recipe reviewed:\n",
      "Thai Pumpkin Soup With Peanut Butter\n",
      "\n",
      "Score: 4\n",
      "\n",
      "Reasoning:\n",
      "1. Accuracy: The recipe closely matches the user's query, providing a Thai-inspired dish that is low in carbs and excludes peanuts, which the user is allergic to.\n",
      "2. Clarity: The instructions are clear and easy to follow, with precise cooking times and temperatures.\n",
      "3. Creativity: The recipe offers a unique twist on a Thai-style dish by using pumpkin puree and omitting peanuts, which is a creative solution to the user's dietary restrictions.\n",
      "4. Completeness: The recipe includes all necessary details, such as ingredient measurements, preparation steps, and serving suggestions.\n",
      "5. Healthiness: The recipe provides a balanced nutritional profile, with pumpkin and vegetable broth as the main components, aligning with the user's preference for a low-carb meal.\n",
      "6. User Feedback: The recipe is likely to receive high ratings from users for its taste and ease of preparation, as it addresses the user's specific needs and preferences.\n",
      "========\n",
      "\n",
      "Model: baseline\n",
      "User Query: Suggest a low-carb breakfast recipe that includes eggs and spinach, can be prepared in under 20 minutes, and is suitable for a keto diet.\n",
      "\n",
      "Recipe reviewed: Spinach and Feta Omelet (Low Carb)\n",
      "\n",
      "Score: 5\n",
      "\n",
      "Reasoning:\n",
      "\n",
      "1. Accuracy: The recipe accurately matches the user's query, including all the specified ingredients (eggs and spinach), dietary restrictions (low-carb, keto-friendly), and preparation time (under 20 minutes).\n",
      "\n",
      "2. Clarity: The instructions are clear, easy to follow, and logically sequenced. The cooking times and temperatures are precise.\n",
      "\n",
      "3. Creativity: The recipe demonstrates a classic and appealing combination of ingredients, offering a nutritious and satisfying low-carb breakfast option.\n",
      "\n",
      "4. Completeness: The recipe includes all necessary details, such as ingredient measurements, preparation steps, and relevant tips.\n",
      "\n",
      "5. Healthiness: The recipe provides a balanced nutritional profile, aligning with the specified low-carb and keto-friendly dietary considerations.\n",
      "\n",
      "6. User Feedback: The recipe is likely to receive high ratings from users for both taste and ease of preparation, as it offers a simple yet delicious low-carb breakfast option.\n",
      "========\n",
      "\n",
      "Model: baseline\n",
      "User Query: Suggest a healthy dinner recipe for two people that includes fish, is under 500 calories per serving, and can be made in less than 40 minutes.\n",
      "\n",
      "Recipe reviewed: Mediterranean Fish\n",
      "\n",
      "Score: 5\n",
      "\n",
      "Reasoning:\n",
      "\n",
      "1. Accuracy: The recipe closely matches the user's query, including all specified ingredients (fish), dietary restrictions (under 500 calories per serving), and desired cuisine type (healthy dinner).\n",
      "\n",
      "2. Clarity: The instructions are clear, easy to follow, and logically sequenced. Cooking times and temperatures are precise.\n",
      "\n",
      "3. Creativity: The recipe demonstrates creativity by offering a unique Mediterranean-inspired twist on a classic fish dish, with a combination of flavorful ingredients like tomatoes, olives, and lemon.\n",
      "\n",
      "4. Completeness: The recipe includes all necessary details, such as ingredient measurements, preparation steps, serving suggestions, and relevant tips.\n",
      "\n",
      "5. Healthiness: The recipe provides a balanced nutritional profile, with the fish as the main protein source and the addition of fresh vegetables and herbs, aligning with the specified health goals.\n",
      "\n",
      "6. User Feedback: The recipe is likely to receive high ratings from users for both taste and ease of preparation, as it offers a delicious and healthy meal that can be prepared in a relatively short amount of time.\n",
      "========\n",
      "\n",
      "Model: baseline\n",
      "User Query: \n",
      "I am on a ketogenic diet and need a dinner recipe that is dairy-free, low in sodium, and takes less than an hour to cook.\n",
      "\n",
      "Recipe reviewed:\n",
      "Daikon 'fettuccine' With Cyndi's Vegan Alfredo Sauce\n",
      "\n",
      "Score: 5\n",
      "\n",
      "Reasoning:\n",
      "1. Accuracy: The recipe accurately matches the user's query, including all specified dietary restrictions (dairy-free, low sodium) and preparation time (less than an hour).\n",
      "2. Clarity: The instructions are clear, easy to follow, and logically sequenced. Cooking times and temperatures are precise.\n",
      "3. Creativity: The recipe demonstrates creativity by using daikon radish as a unique, low-carb alternative to traditional pasta, and the vegan alfredo sauce is an interesting twist on a classic dish.\n",
      "4. Completeness: The recipe includes all necessary details, such as ingredient measurements, preparation steps, and relevant tips.\n",
      "5. Healthiness: The recipe provides a balanced nutritional profile that aligns with the user's ketogenic diet, being dairy-free and low in sodium.\n",
      "6. User Feedback: The recipe is likely to receive high ratings from users for both taste and ease of preparation, as it meets the specified dietary requirements while offering an appealing and creative dish.\n",
      "========\n",
      "\n",
      "Model: rerank\n",
      "User Query: \n",
      "I enjoy asian fusion food and I am a vegetarian. Give me one recipe with ingredients and instructions.\n",
      "\n",
      "Recipe reviewed:\n",
      "\"Green Beans & Tofu With Crunchy Thai Peanut Sauce\"\n",
      "\n",
      "Score: 4\n",
      "\n",
      "Reasoning:\n",
      "1. Accuracy: The recipe closely matches the user's query, providing an Asian-inspired vegetarian dish with detailed ingredients and instructions.\n",
      "2. Clarity: The instructions are clear and easy to follow, with precise cooking times and temperatures.\n",
      "3. Creativity: The recipe offers a unique and appealing combination of flavors, featuring a crunchy peanut sauce that complements the tofu and green beans.\n",
      "4. Completeness: The recipe includes all necessary details, such as ingredient measurements, preparation steps, and serving suggestions.\n",
      "5. Healthiness: The recipe provides a balanced nutritional profile, aligning with the user's vegetarian dietary preference.\n",
      "6. User Feedback: The recipe is likely to receive high ratings from users for its delicious taste and ease of preparation.\n",
      "========\n",
      "\n",
      "Model: rerank\n",
      "User Query: \n",
      "I have a peanut allergy but I like thai food. I also don't enjoy spicy food much, and want a meal with low carbs. Give a recipe with ingredients and instructions.\n",
      "\n",
      "Recipe reviewed:\n",
      "Thai Peanut Sauce (without peanuts)\n",
      "\n",
      "Score: 4\n",
      "\n",
      "Reasoning:\n",
      "1. Accuracy: The recipe closely matches the user's query, providing a peanut-free Thai-inspired dish that is low in carbs and not overly spicy.\n",
      "2. Clarity: The instructions are clear and easy to follow, with precise cooking times and temperatures.\n",
      "3. Creativity: The recipe demonstrates creativity by offering a unique peanut-free alternative to traditional Thai peanut sauce, which aligns well with the user's dietary restrictions.\n",
      "4. Completeness: The recipe includes all necessary details, such as ingredient measurements, preparation steps, serving suggestions, and relevant tips.\n",
      "5. Healthiness: The recipe provides a balanced nutritional profile, with the coconut milk, vegetables, and lean protein options aligning with the user's health goals.\n",
      "6. User Feedback: The recipe is likely to receive high ratings from users for its taste, ease of preparation, and ability to satisfy the specified dietary needs.\n",
      "========\n",
      "\n",
      "Model: rerank\n",
      "User Query: Suggest a low-carb breakfast recipe that includes eggs and spinach, can be prepared in under 20 minutes, and is suitable for a keto diet.\n",
      "\n",
      "Recipe reviewed: Spinach and Feta Omelet (Low Carb)\n",
      "\n",
      "Score: 5\n",
      "\n",
      "Reasoning:\n",
      "\n",
      "1. Accuracy: The recipe accurately matches the user's query, including all the specified ingredients (eggs and spinach), dietary restrictions (low-carb, keto-friendly), and preparation time (under 20 minutes).\n",
      "\n",
      "2. Clarity: The instructions are clear, easy to follow, and logically sequenced. The cooking times and temperatures are precise.\n",
      "\n",
      "3. Creativity: The recipe demonstrates creativity by combining the classic ingredients of eggs, spinach, and feta cheese in a simple yet appealing omelet dish.\n",
      "\n",
      "4. Completeness: The recipe includes all necessary details, such as ingredient measurements, preparation steps, and relevant tips.\n",
      "\n",
      "5. Healthiness: The recipe provides a balanced nutritional profile, aligning with the specified keto diet requirements. The low-carb and high-protein content make it a healthy breakfast option.\n",
      "\n",
      "6. User Feedback: The recipe is likely to receive high ratings from users for its taste, ease of preparation, and alignment with their dietary needs.\n",
      "========\n",
      "\n",
      "Model: rerank\n",
      "User Query: Suggest a healthy dinner recipe for two people that includes fish, is under 500 calories per serving, and can be made in less than 40 minutes.\n",
      "\n",
      "Recipe reviewed: Salmon in Cream\n",
      "\n",
      "Score: 4\n",
      "\n",
      "Reasoning:\n",
      "1. Accuracy: The recipe closely matches the user's query, including all specified ingredients (fish), dietary restrictions (under 500 calories per serving), and preparation time (less than 40 minutes).\n",
      "2. Clarity: The instructions are clear, easy to follow, and logically sequenced. Cooking times and temperatures are precise.\n",
      "3. Creativity: The recipe demonstrates a classic and appealing combination of salmon and creamy sauce, though it may not be considered highly creative.\n",
      "4. Completeness: The recipe includes all necessary details, such as ingredient measurements, preparation steps, and serving suggestions.\n",
      "5. Healthiness: The recipe provides a balanced nutritional profile, with the salmon as a healthy protein source and the cream sauce in moderation.\n",
      "6. User Feedback: The recipe is likely to receive good ratings from users for both taste and ease of preparation.\n",
      "========\n",
      "\n",
      "Model: rerank\n",
      "User Query: \n",
      "I am on a ketogenic diet and need a dinner recipe that is dairy-free, low in sodium, and takes less than an hour to cook.\n",
      "\n",
      "Recipe reviewed:\n",
      "Easy Dairy-free Veggie Lasagna\n",
      "\n",
      "Score: 4\n",
      "\n",
      "Reasoning:\n",
      "1. Accuracy: The recipe closely matches the user's query, being dairy-free, low in sodium, and taking under 1.5 hours to prepare. The use of soy-based ricotta and layered vegetables aligns with the specified dietary requirements.\n",
      "\n",
      "2. Clarity: The instructions are clear and logically sequenced, providing precise cooking times and temperatures. The preparation steps are easy to follow.\n",
      "\n",
      "3. Creativity: The recipe demonstrates some creativity by using soy-based ricotta and a layered vegetable approach to create a dairy-free lasagna. While not a completely novel concept, it offers an interesting twist on a classic dish.\n",
      "\n",
      "4. Completeness: The recipe includes all necessary details, such as ingredient measurements, preparation steps, and serving suggestions. It could be further improved by providing additional tips or variations.\n",
      "\n",
      "5. Healthiness: The recipe provides a balanced nutritional profile, being low in sodium and suitable for a ketogenic diet. The use of vegetables and soy-based ingredients makes it a relatively healthy option.\n",
      "\n",
      "6. User Feedback: The recipe is likely to receive good ratings from users for its taste and ease of preparation, making it a satisfying keto-friendly dinner option.\n",
      "========\n",
      "\n",
      "Model: func_call_rerank\n",
      "User Query: \n",
      "I enjoy asian fusion food and I am a vegetarian. Give me one recipe with ingredients and instructions.\n",
      "\n",
      "Recipe reviewed:\n",
      "Green Beans & Tofu With Crunchy Thai Peanut Sauce\n",
      "\n",
      "Score: 4\n",
      "\n",
      "Reasoning:\n",
      "1. Accuracy: The recipe closely matches the user's query, providing an Asian-inspired vegetarian dish as requested.\n",
      "2. Clarity: The instructions are clear and easy to follow, with precise cooking times and temperatures.\n",
      "3. Creativity: The recipe offers an interesting twist on a classic dish by combining green beans, tofu, and a crunchy peanut sauce.\n",
      "4. Completeness: The recipe includes all necessary details, such as ingredient measurements, preparation steps, and serving suggestions.\n",
      "5. Healthiness: The recipe provides a balanced nutritional profile, with protein-rich tofu, fresh vegetables, and a relatively low-calorie sauce.\n",
      "6. User Feedback: The recipe is likely to receive high ratings from users for its delicious flavor and ease of preparation.\n",
      "========\n",
      "\n",
      "Model: func_call_rerank\n",
      "User Query: \n",
      "I have a peanut allergy but I like thai food. I also don't enjoy spicy food much, and want a meal with low carbs. Give a recipe with ingredients and instructions.\n",
      "\n",
      "Recipe reviewed:\n",
      "Thai Shrimp and Vegetable Curry\n",
      "\n",
      "Score: 4\n",
      "\n",
      "Reasoning:\n",
      "1. Accuracy: The recipe closely matches the user's query, providing a Thai-inspired dish that is peanut-free and low in carbs. The specified dietary restrictions and preferences are well-addressed.\n",
      "\n",
      "2. Clarity: The instructions are clear and easy to follow, with precise cooking times and temperatures. The steps are logically sequenced, making the recipe straightforward to prepare.\n",
      "\n",
      "3. Creativity: The recipe demonstrates some creativity by combining shrimp, vegetables, and Thai-inspired flavors in a curry dish. While not entirely unique, it offers an appealing and interesting twist on a classic Thai curry.\n",
      "\n",
      "4. Completeness: The recipe includes all necessary details, such as ingredient measurements, preparation steps, and serving suggestions. It also provides a helpful tip to serve the dish over cauliflower rice or zucchini noodles for a low-carb option.\n",
      "\n",
      "5. Healthiness: The recipe is generally healthy, providing a balanced nutritional profile with lean protein from shrimp, a variety of vegetables, and the use of coconut milk instead of heavy cream or other high-fat ingredients. The low-carb serving suggestions further enhance the healthiness of the dish.\n",
      "\n",
      "6. User Feedback: The recipe is likely to receive high ratings from users for its taste and ease of preparation. The combination of Thai flavors, shrimp, and low-carb options should appeal to a wide audience.\n",
      "========\n",
      "\n",
      "Model: func_call_rerank\n",
      "User Query: \n",
      "Suggest a low-carb breakfast recipe that includes eggs and spinach, can be prepared in under 20 minutes, and is suitable for a keto diet.\n",
      "\n",
      "Recipe reviewed:\n",
      "Spinach and Feta Omelet (Low Carb)\n",
      "\n",
      "Score: 5\n",
      "\n",
      "Reasoning:\n",
      "1. Accuracy: The recipe accurately matches the user's query, including all the specified ingredients (eggs, spinach), dietary restrictions (low-carb, keto), and preparation time (under 20 minutes).\n",
      "2. Clarity: The instructions are clear, easy to follow, and logically sequenced. The cooking times and temperatures are precise.\n",
      "3. Creativity: The recipe demonstrates creativity by combining the classic ingredients of eggs and spinach in an omelet, with the addition of feta cheese, which adds a unique and appealing flavor profile.\n",
      "4. Completeness: The recipe includes all necessary details, such as ingredient measurements, preparation steps, and relevant tips.\n",
      "5. Healthiness: The recipe provides a balanced nutritional profile, being low in carbs and high in protein and healthy fats, making it an excellent choice for a keto diet.\n",
      "6. User Feedback: The recipe is likely to receive high ratings from users for both taste and ease of preparation, as it is a simple yet delicious and satisfying breakfast option.\n",
      "========\n",
      "\n",
      "Model: func_call_rerank\n",
      "User Query: \n",
      "Suggest a healthy dinner recipe for two people that includes fish, is under 500 calories per serving, and can be made in less than 40 minutes.\n",
      "\n",
      "Recipe reviewed:\n",
      "Poached Salmon With Dill-Yogurt Sauce\n",
      "\n",
      "Score: 5\n",
      "\n",
      "Reasoning:\n",
      "1. Accuracy: The recipe closely matches the user's query, including all specified ingredients (fish - salmon), dietary restrictions (under 500 calories per serving), and desired preparation time (under 40 minutes).\n",
      "2. Clarity: The instructions are clear, easy to follow, and logically sequenced. Cooking times and temperatures are precise.\n",
      "3. Creativity: The recipe demonstrates creativity by offering a unique combination of poached salmon and a dill-yogurt sauce, which adds an interesting twist to a classic dish.\n",
      "4. Completeness: The recipe includes all necessary details, such as ingredient measurements, preparation steps, serving suggestions, and relevant tips.\n",
      "5. Healthiness: The recipe provides a balanced nutritional profile, with the salmon as a healthy protein source and the yogurt-based sauce contributing to the overall healthiness of the dish.\n",
      "6. User Feedback: The recipe is likely to receive high ratings from users for both taste and ease of preparation, as it offers a simple yet flavorful and nutritious meal.\n",
      "========\n",
      "\n",
      "Model: func_call_rerank\n",
      "User Query: \n",
      "I am on a ketogenic diet and need a dinner recipe that is dairy-free, low in sodium, and takes less than an hour to cook.\n",
      "\n",
      "Recipe reviewed:\n",
      "Tofu Shirataki Fettuccini Alfredo\n",
      "\n",
      "Score: 4\n",
      "\n",
      "Reasoning:\n",
      "1. Accuracy: The recipe closely matches the user's query, including all specified ingredients, dietary restrictions, and desired cooking time.\n",
      "2. Clarity: The instructions are clear, easy to follow, and logically sequenced. Cooking times and temperatures are precise.\n",
      "3. Creativity: The recipe demonstrates some creativity by using tofu shirataki noodles, which provide a pasta-like texture without the carbs.\n",
      "4. Completeness: The recipe includes all necessary details, such as ingredient measurements, preparation steps, and relevant tips.\n",
      "5. Healthiness: The recipe is keto-friendly, dairy-free, and very low in sodium, aligning with the user's dietary requirements.\n",
      "6. User Feedback: The recipe is likely to receive good ratings from users for both taste and ease of preparation.\n",
      "========\n",
      "\n"
     ]
    }
   ],
   "source": [
    "evaluated_dict = llm_judge_eval(queries_test_index, model_responses)"
   ]
  },
  {
   "cell_type": "code",
   "execution_count": 108,
   "id": "9f89b015-6539-49ae-8065-f7fcfd071caf",
   "metadata": {
    "tags": []
   },
   "outputs": [
    {
     "data": {
      "text/plain": [
       "\"User Query: \\nI enjoy asian fusion food and I am a vegetarian. Give me one recipe with ingredients and instructions.\\n\\nRecipe reviewed:\\nGreen Beans & Tofu With Crunchy Thai Peanut Sauce\\n\\nScore: 4\\n\\nReasoning:\\n1. Accuracy: The recipe closely matches the user's query, providing an Asian-inspired vegetarian dish as requested.\\n2. Clarity: The instructions are clear and easy to follow, with precise cooking times and temperatures.\\n3. Creativity: The recipe offers an interesting twist on a classic dish by combining green beans, tofu, and a crunchy peanut sauce.\\n4. Completeness: The recipe includes all necessary details, such as ingredient measurements, preparation steps, and serving suggestions.\\n5. Healthiness: The recipe provides a balanced nutritional profile, with protein-rich tofu, fresh vegetables, and a relatively low-calorie sauce.\\n6. User Feedback: The recipe is likely to receive high ratings from users for its delicious flavor and ease of preparation.\""
      ]
     },
     "execution_count": 108,
     "metadata": {},
     "output_type": "execute_result"
    }
   ],
   "source": [
    "evaluated_dict['func_call_rerank']['eval_1']['content'][0]['text']"
   ]
  },
  {
   "cell_type": "code",
   "execution_count": 109,
   "id": "2fc7c812-f255-4f4c-9607-a6903a5afc9e",
   "metadata": {
    "tags": []
   },
   "outputs": [],
   "source": [
    "import pickle"
   ]
  },
  {
   "cell_type": "code",
   "execution_count": 110,
   "id": "7901f0e3-d7d3-4baa-811b-4f97901fe9b1",
   "metadata": {
    "tags": []
   },
   "outputs": [],
   "source": [
    "with open('results_dict.pkl', 'wb') as handle:\n",
    "    pickle.dump(evaluated_dict, handle, protocol=pickle.HIGHEST_PROTOCOL)"
   ]
  },
  {
   "cell_type": "code",
   "execution_count": 111,
   "id": "400f0e46-ce57-4572-b152-14fde455b974",
   "metadata": {
    "tags": []
   },
   "outputs": [],
   "source": [
    "with open('results_dict.pkl', 'rb') as handle:\n",
    "    results_dict = pickle.load(handle)"
   ]
  },
  {
   "cell_type": "markdown",
   "id": "497ccdc5-7f76-491a-9813-25fa6da4a5df",
   "metadata": {},
   "source": [
    "## High Low similarity eval"
   ]
  },
  {
   "cell_type": "code",
   "execution_count": 60,
   "id": "7c485668-3354-4319-8c67-d5ff66570793",
   "metadata": {
    "tags": []
   },
   "outputs": [
    {
     "name": "stderr",
     "output_type": "stream",
     "text": [
      "huggingface/tokenizers: The current process just got forked, after parallelism has already been used. Disabling parallelism to avoid deadlocks...\n",
      "To disable this warning, you can either:\n",
      "\t- Avoid using `tokenizers` before the fork if possible\n",
      "\t- Explicitly set the environment variable TOKENIZERS_PARALLELISM=(true | false)\n"
     ]
    },
    {
     "name": "stdout",
     "output_type": "stream",
     "text": [
      "Note: you may need to restart the kernel to use updated packages.\n"
     ]
    }
   ],
   "source": [
    "%pip install --upgrade --quiet  langchain-qdrant langchain-openai langchain langchain-community"
   ]
  },
  {
   "cell_type": "code",
   "execution_count": 145,
   "id": "7ab18fa8-e98d-4e19-a511-af5cbd28e9f4",
   "metadata": {
    "tags": []
   },
   "outputs": [],
   "source": [
    "from qdrant_client.http import models as rest\n",
    "import seaborn as sns\n",
    "import matplotlib.pyplot as plt\n",
    "\n",
    "def query_similarity_rating_eval(query_outputs, k=10, plot=True, verbose=False):\n",
    "    \n",
    "    for i, query_output in query_outputs.items():\n",
    "        \n",
    "        found_docs = {}\n",
    "        for rating in df['AggregatedRating'].unique():\n",
    "\n",
    "            # Qdrant filter condition\n",
    "            rating_filter = rest.Filter(\n",
    "                must=[\n",
    "                        rest.FieldCondition(\n",
    "                            key=\"metadata.aggregated_rating\",\n",
    "                            match=rest.MatchText(text=str(rating)),\n",
    "                        )\n",
    "                ]\n",
    "            )\n",
    "\n",
    "            found_docs[str(rating)] = qdrant_store.similarity_search_with_score(query_output, k=k, filter=rating_filter)\n",
    "\n",
    "        # format doc scores for plotting\n",
    "        to_display = {}\n",
    "        for rating, docs in found_docs.items():\n",
    "            scores = []\n",
    "            for doc in docs:\n",
    "                # if verbose: \n",
    "                    # print(f\"Rating: {doc[0].metadata['aggregated_rating']}, {doc[0].metadata['name']}: {doc[1]}\")\n",
    "                scores.append(doc[1])\n",
    "            to_display[rating] = scores\n",
    "        \n",
    "            if verbose:\n",
    "                print(f\"Rating: {rating} - Best Score: {round(to_display[rating][0], 3)}\")\n",
    "        \n",
    "        # box and whisker plot\n",
    "        if plot:\n",
    "            # reorder ratings\n",
    "            myKeys = list(to_display.keys())\n",
    "            myKeys.sort()\n",
    "            sorted_dict = {i: to_display[i] for i in myKeys}\n",
    "\n",
    "            sns.boxplot(sorted_dict).set(\n",
    "                xlabel='Rating', \n",
    "                ylabel='Similarity Score',\n",
    "                title=f'Query {i} Similarity Scores to Recipe Ratings'\n",
    "            )\n",
    "            plt.show()\n",
    "    \n",
    "    return found_docs\n"
   ]
  },
  {
   "cell_type": "code",
   "execution_count": 146,
   "id": "d72336fc-9892-4ca1-a6ea-fced7ae84a0a",
   "metadata": {
    "tags": []
   },
   "outputs": [],
   "source": [
    "def get_generated_outputs(results_dict, model_name):\n",
    "    return {key: value for key, value in results_dict[model_name].items() if \"eval\" not in key}\n"
   ]
  },
  {
   "cell_type": "code",
   "execution_count": 150,
   "id": "4e1af249-9d5e-4dfe-9c9f-dfa7546a1657",
   "metadata": {
    "tags": []
   },
   "outputs": [
    {
     "data": {
      "image/png": "[encoded data removed]",
      "text/plain": [
       "<Figure size 640x480 with 1 Axes>"
      ]
     },
     "metadata": {},
     "output_type": "display_data"
    },
    {
     "data": {
      "image/png": "[encoded data removed]",
      "text/plain": [
       "<Figure size 640x480 with 1 Axes>"
      ]
     },
     "metadata": {},
     "output_type": "display_data"
    },
    {
     "data": {
      "image/png": "[encoded data removed]",
      "text/plain": [
       "<Figure size 640x480 with 1 Axes>"
      ]
     },
     "metadata": {},
     "output_type": "display_data"
    },
    {
     "data": {
      "image/png": "[encoded data removed]",
      "text/plain": [
       "<Figure size 640x480 with 1 Axes>"
      ]
     },
     "metadata": {},
     "output_type": "display_data"
    },
    {
     "data": {
      "image/png": "[encoded data removed]",
      "text/plain": [
       "<Figure size 640x480 with 1 Axes>"
      ]
     },
     "metadata": {},
     "output_type": "display_data"
    }
   ],
   "source": [
    "query_results = get_generated_outputs(results_dict, 'func_call_rerank')\n",
    "found_docs = query_similarity_rating_eval(query_results, k=10)"
   ]
  },
  {
   "cell_type": "code",
   "execution_count": 149,
   "id": "1bdd86b6-347e-4412-a24d-d46104f8cf39",
   "metadata": {
    "tags": []
   },
   "outputs": [
    {
     "data": {
      "image/png": "[encoded data removed]",
      "text/plain": [
       "<Figure size 640x480 with 1 Axes>"
      ]
     },
     "metadata": {},
     "output_type": "display_data"
    },
    {
     "data": {
      "image/png": "[encoded data removed]",
      "text/plain": [
       "<Figure size 640x480 with 1 Axes>"
      ]
     },
     "metadata": {},
     "output_type": "display_data"
    },
    {
     "data": {
      "image/png": "[encoded data removed]",
      "text/plain": [
       "<Figure size 640x480 with 1 Axes>"
      ]
     },
     "metadata": {},
     "output_type": "display_data"
    },
    {
     "data": {
      "image/png": "[encoded data removed]",
      "text/plain": [
       "<Figure size 640x480 with 1 Axes>"
      ]
     },
     "metadata": {},
     "output_type": "display_data"
    },
    {
     "data": {
      "image/png": "[encoded data removed]",
      "text/plain": [
       "<Figure size 640x480 with 1 Axes>"
      ]
     },
     "metadata": {},
     "output_type": "display_data"
    }
   ],
   "source": [
    "query_results = get_generated_outputs(results_dict, 'baseline')\n",
    "found_docs = query_similarity_rating_eval(query_results, k=10)"
   ]
  },
  {
   "cell_type": "code",
   "execution_count": 90,
   "id": "09f53cab-14a1-4822-a160-cf9d322c7283",
   "metadata": {
    "tags": []
   },
   "outputs": [],
   "source": [
    "query_df = pd.DataFrame.from_dict(sorted_dict)"
   ]
  },
  {
   "cell_type": "code",
   "execution_count": 92,
   "id": "127ecbfe-aeb9-4feb-bc82-807773f6900a",
   "metadata": {
    "tags": []
   },
   "outputs": [
    {
     "data": {
      "text/plain": [
       "1.0    0.667755\n",
       "1.5    0.614752\n",
       "2.0    0.692700\n",
       "2.5    0.698588\n",
       "3.0    0.751994\n",
       "3.5    0.719990\n",
       "4.0    0.766309\n",
       "4.5    0.778506\n",
       "5.0    0.897500\n",
       "dtype: float64"
      ]
     },
     "execution_count": 92,
     "metadata": {},
     "output_type": "execute_result"
    }
   ],
   "source": [
    "query_df.max()"
   ]
  },
  {
   "cell_type": "code",
   "execution_count": 94,
   "id": "0321b8d2-7fc4-4987-8031-7ab552cbc0fe",
   "metadata": {
    "tags": []
   },
   "outputs": [
    {
     "data": {
      "text/plain": [
       "1.0    0\n",
       "1.5    0\n",
       "2.0    0\n",
       "2.5    0\n",
       "3.0    0\n",
       "3.5    0\n",
       "4.0    0\n",
       "4.5    0\n",
       "5.0    0\n",
       "dtype: int64"
      ]
     },
     "execution_count": 94,
     "metadata": {},
     "output_type": "execute_result"
    }
   ],
   "source": [
    "query_df.idxmax()"
   ]
  },
  {
   "cell_type": "code",
   "execution_count": 95,
   "id": "d591ebfc-90cf-47bb-a2aa-c6b8e3c9b0d4",
   "metadata": {
    "tags": []
   },
   "outputs": [
    {
     "data": {
      "text/html": [
       "<div>\n",
       "<style scoped>\n",
       "    .dataframe tbody tr th:only-of-type {\n",
       "        vertical-align: middle;\n",
       "    }\n",
       "\n",
       "    .dataframe tbody tr th {\n",
       "        vertical-align: top;\n",
       "    }\n",
       "\n",
       "    .dataframe thead th {\n",
       "        text-align: right;\n",
       "    }\n",
       "</style>\n",
       "<table border=\"1\" class=\"dataframe\">\n",
       "  <thead>\n",
       "    <tr style=\"text-align: right;\">\n",
       "      <th></th>\n",
       "      <th>1.0</th>\n",
       "      <th>1.5</th>\n",
       "      <th>2.0</th>\n",
       "      <th>2.5</th>\n",
       "      <th>3.0</th>\n",
       "      <th>3.5</th>\n",
       "      <th>4.0</th>\n",
       "      <th>4.5</th>\n",
       "      <th>5.0</th>\n",
       "    </tr>\n",
       "  </thead>\n",
       "  <tbody>\n",
       "    <tr>\n",
       "      <th>0</th>\n",
       "      <td>0.667755</td>\n",
       "      <td>0.614752</td>\n",
       "      <td>0.692700</td>\n",
       "      <td>0.698588</td>\n",
       "      <td>0.751994</td>\n",
       "      <td>0.719990</td>\n",
       "      <td>0.766309</td>\n",
       "      <td>0.778506</td>\n",
       "      <td>0.897500</td>\n",
       "    </tr>\n",
       "    <tr>\n",
       "      <th>1</th>\n",
       "      <td>0.662742</td>\n",
       "      <td>0.593501</td>\n",
       "      <td>0.689006</td>\n",
       "      <td>0.636219</td>\n",
       "      <td>0.738980</td>\n",
       "      <td>0.707289</td>\n",
       "      <td>0.763624</td>\n",
       "      <td>0.770769</td>\n",
       "      <td>0.826775</td>\n",
       "    </tr>\n",
       "    <tr>\n",
       "      <th>2</th>\n",
       "      <td>0.661709</td>\n",
       "      <td>0.551524</td>\n",
       "      <td>0.672924</td>\n",
       "      <td>0.631822</td>\n",
       "      <td>0.734806</td>\n",
       "      <td>0.701363</td>\n",
       "      <td>0.763066</td>\n",
       "      <td>0.750990</td>\n",
       "      <td>0.784717</td>\n",
       "    </tr>\n",
       "    <tr>\n",
       "      <th>3</th>\n",
       "      <td>0.644531</td>\n",
       "      <td>0.532976</td>\n",
       "      <td>0.653846</td>\n",
       "      <td>0.630787</td>\n",
       "      <td>0.714480</td>\n",
       "      <td>0.701269</td>\n",
       "      <td>0.752481</td>\n",
       "      <td>0.749805</td>\n",
       "      <td>0.776402</td>\n",
       "    </tr>\n",
       "    <tr>\n",
       "      <th>4</th>\n",
       "      <td>0.642792</td>\n",
       "      <td>0.522842</td>\n",
       "      <td>0.650827</td>\n",
       "      <td>0.625619</td>\n",
       "      <td>0.704846</td>\n",
       "      <td>0.692341</td>\n",
       "      <td>0.743104</td>\n",
       "      <td>0.745522</td>\n",
       "      <td>0.769664</td>\n",
       "    </tr>\n",
       "    <tr>\n",
       "      <th>5</th>\n",
       "      <td>0.639375</td>\n",
       "      <td>0.510718</td>\n",
       "      <td>0.648202</td>\n",
       "      <td>0.612732</td>\n",
       "      <td>0.702164</td>\n",
       "      <td>0.690850</td>\n",
       "      <td>0.741707</td>\n",
       "      <td>0.743480</td>\n",
       "      <td>0.765330</td>\n",
       "    </tr>\n",
       "    <tr>\n",
       "      <th>6</th>\n",
       "      <td>0.636770</td>\n",
       "      <td>0.509706</td>\n",
       "      <td>0.645132</td>\n",
       "      <td>0.608526</td>\n",
       "      <td>0.689622</td>\n",
       "      <td>0.681566</td>\n",
       "      <td>0.741572</td>\n",
       "      <td>0.734069</td>\n",
       "      <td>0.761011</td>\n",
       "    </tr>\n",
       "    <tr>\n",
       "      <th>7</th>\n",
       "      <td>0.633361</td>\n",
       "      <td>0.506186</td>\n",
       "      <td>0.642554</td>\n",
       "      <td>0.606654</td>\n",
       "      <td>0.687382</td>\n",
       "      <td>0.679483</td>\n",
       "      <td>0.739269</td>\n",
       "      <td>0.733029</td>\n",
       "      <td>0.760280</td>\n",
       "    </tr>\n",
       "    <tr>\n",
       "      <th>8</th>\n",
       "      <td>0.630186</td>\n",
       "      <td>0.493285</td>\n",
       "      <td>0.641318</td>\n",
       "      <td>0.605183</td>\n",
       "      <td>0.684483</td>\n",
       "      <td>0.674373</td>\n",
       "      <td>0.738877</td>\n",
       "      <td>0.730397</td>\n",
       "      <td>0.753801</td>\n",
       "    </tr>\n",
       "    <tr>\n",
       "      <th>9</th>\n",
       "      <td>0.628883</td>\n",
       "      <td>0.488594</td>\n",
       "      <td>0.637891</td>\n",
       "      <td>0.601488</td>\n",
       "      <td>0.682404</td>\n",
       "      <td>0.673071</td>\n",
       "      <td>0.732938</td>\n",
       "      <td>0.728907</td>\n",
       "      <td>0.751805</td>\n",
       "    </tr>\n",
       "  </tbody>\n",
       "</table>\n",
       "</div>"
      ],
      "text/plain": [
       "        1.0       1.5       2.0       2.5       3.0       3.5       4.0  \\\n",
       "0  0.667755  0.614752  0.692700  0.698588  0.751994  0.719990  0.766309   \n",
       "1  0.662742  0.593501  0.689006  0.636219  0.738980  0.707289  0.763624   \n",
       "2  0.661709  0.551524  0.672924  0.631822  0.734806  0.701363  0.763066   \n",
       "3  0.644531  0.532976  0.653846  0.630787  0.714480  0.701269  0.752481   \n",
       "4  0.642792  0.522842  0.650827  0.625619  0.704846  0.692341  0.743104   \n",
       "5  0.639375  0.510718  0.648202  0.612732  0.702164  0.690850  0.741707   \n",
       "6  0.636770  0.509706  0.645132  0.608526  0.689622  0.681566  0.741572   \n",
       "7  0.633361  0.506186  0.642554  0.606654  0.687382  0.679483  0.739269   \n",
       "8  0.630186  0.493285  0.641318  0.605183  0.684483  0.674373  0.738877   \n",
       "9  0.628883  0.488594  0.637891  0.601488  0.682404  0.673071  0.732938   \n",
       "\n",
       "        4.5       5.0  \n",
       "0  0.778506  0.897500  \n",
       "1  0.770769  0.826775  \n",
       "2  0.750990  0.784717  \n",
       "3  0.749805  0.776402  \n",
       "4  0.745522  0.769664  \n",
       "5  0.743480  0.765330  \n",
       "6  0.734069  0.761011  \n",
       "7  0.733029  0.760280  \n",
       "8  0.730397  0.753801  \n",
       "9  0.728907  0.751805  "
      ]
     },
     "execution_count": 95,
     "metadata": {},
     "output_type": "execute_result"
    }
   ],
   "source": [
    "query_df"
   ]
  },
  {
   "cell_type": "markdown",
   "id": "1c2124bd-19eb-46f8-866b-a501949f4b09",
   "metadata": {},
   "source": [
    "## LLM as a gatekeeper\n",
    "\n",
    "1. Allergy Check\n",
    "\n",
    "    \"I am allergic to peanuts. Can you suggest a dessert recipe for me?\"\n",
    "    \n",
    "    \"I have a shellfish allergy. Please provide a dinner recipe.\"\n",
    "2. Dietary Restrictions\n",
    "\n",
    "    \"I follow a vegan diet. Can you give me a breakfast recipe?\"\n",
    "    \n",
    "    \"I need a gluten-free lunch recipe. What can you suggest?\"\n",
    "    \n",
    "3. Ingredient Exclusion\n",
    "\n",
    "    \"I don't eat dairy products. Can you provide a pasta recipe?\"\n",
    "    \n",
    "    \"I avoid sugar. Please suggest a dessert recipe without sugar.\"\n",
    "4. Multiple Restrictions\n",
    "\n",
    "    \"I am allergic to both nuts and dairy. Can you recommend a snack recipe?\"\n",
    "    \n",
    "    \"I need a gluten-free and vegan dinner recipe. What do you have?\"\n",
    "5. Cultural and Ethical Preferences\n",
    "\n",
    "    \"I don't eat beef for religious reasons. Can you provide a main course recipe?\"\n",
    "    \n",
    "    \"I only eat halal food. Can you give me a recipe for a special occasion?\"\n",
    "6. Healthy Options\n",
    "\n",
    "    \"I am on a low-carb diet. Can you suggest a low-carb dinner recipe?\"\n",
    "    \n",
    "    \"I need a low-sodium breakfast recipe. What can you recommend?\"\n",
    "7. Child-Friendly Recipes\n",
    "\n",
    "    \"My child is allergic to eggs. Can you suggest a kid-friendly snack recipe?\"\n",
    "    \n",
    "    \"I need a lunch recipe for my child who doesn't eat nuts or dairy.\"\n",
    "8. Ingredient Availability\n",
    "\n",
    "    \"I don't have any tomatoes. Can you provide a salad recipe without tomatoes?\"\n",
    "    \n",
    "    \"I am out of eggs. Can you give me a baking recipe that doesn't require eggs?\"\n",
    "9. Medical Conditions\n",
    "\n",
    "    \"I have diabetes. Can you suggest a dessert recipe suitable for me?\"\n",
    "    \n",
    "    \"I have high cholesterol. Can you provide a heart-healthy dinner recipe?\"\n",
    "    \n",
    "10. Explicit Avoidance\n",
    "\n",
    "    \"Please give me a recipe for chicken soup, but it must not contain any garlic.\"\n",
    "    \n",
    "    \"I am looking for a recipe for a cake, but it should not include any artificial sweeteners.\"\n",
    "    \n",
    "11. Scenarios for Testing System Responses\n",
    "\n",
    "    Direct Allergy Violation\n",
    "\n",
    "    \"I am allergic to peanuts. Can you suggest a peanut butter cookie recipe?\"\n",
    "12. Conflict of Dietary Preferences\n",
    "\n",
    "    \"I follow a vegan diet but also want a recipe with chicken. Can you provide one?\"\n",
    "    \n",
    "13. Non-compliant Ingredient Substitution\n",
    "\n",
    "    \"I need a gluten-free pasta recipe, but please include wheat flour.\"\n",
    "    \n",
    "14. Multiple Contradictory Requests\n",
    "\n",
    "    \"I avoid sugar and dairy, but can you suggest a sweet and creamy dessert?\""
   ]
  },
  {
   "cell_type": "code",
   "execution_count": 59,
   "id": "3c4886cc-03c6-484e-9b06-5dcee472aa3b",
   "metadata": {
    "tags": []
   },
   "outputs": [],
   "source": []
  },
  {
   "cell_type": "code",
   "execution_count": 66,
   "id": "a446e11d-2fb8-40d0-ae17-6184654f8e94",
   "metadata": {
    "tags": []
   },
   "outputs": [],
   "source": [
    "gatekeeper_queries = {\n",
    "    '1': \"\"\"\n",
    "    I am allergic to peanuts. Can you suggest a dessert recipe for me?\n",
    "    \"\"\",\n",
    "\n",
    "    '2': \"\"\"\n",
    "    I follow a vegan diet. Can you give me a breakfast recipe?\n",
    "    \"\"\",\n",
    "\n",
    "    '3': \"\"\"\n",
    "    I don't eat dairy products. Can you provide a pasta recipe?\n",
    "    \"\"\",\n",
    "\n",
    "    '4': \"\"\"\n",
    "    I am allergic to both nuts and dairy. Can you recommend a snack recipe?\n",
    "    \"\"\",\n",
    "\n",
    "    '5': \"\"\"\n",
    "    I don't eat beef for religious reasons. Can you provide a main course recipe?\n",
    "    \"\"\",\n",
    "\n",
    "    '6': \"\"\"\n",
    "    I need a low-sodium breakfast recipe. What can you recommend?\n",
    "    \"\"\",\n",
    "\n",
    "    '7': \"\"\"\n",
    "    My child is allergic to eggs. Can you suggest a kid-friendly snack recipe?\n",
    "    \"\"\",\n",
    "\n",
    "    '8': \"\"\"\n",
    "    I don't have any tomatoes. Can you provide a salad recipe without tomatoes?\n",
    "    \"\"\"\n",
    "}\n",
    "\n"
   ]
  },
  {
   "cell_type": "code",
   "execution_count": 67,
   "id": "f6e851d6-b27b-4486-9dd5-0b6dc0f56a64",
   "metadata": {
    "tags": []
   },
   "outputs": [],
   "source": [
    "def llm_gatekeeper_eval(queries_index_list, model_responses_dict):\n",
    "    \n",
    "    eval_responses = copy.deepcopy(model_responses_dict)\n",
    "    \n",
    "    for model_name, response_dict in model_responses_dict.items():\n",
    "        for i in queries_index_list:\n",
    "            query = gatekeeper_queries[i]\n",
    "            gen_response = response_dict[i]\n",
    "\n",
    "            eval_message = f\"\"\"\n",
    "            You are a helpful assistant and expert in reviewing and judging cooking recipes. Please be as unbiased and impartial towards the recipe.\n",
    "\n",
    "            Please look at the given user query, recipe generated by another LLM. \n",
    "            \n",
    "            Return if the response correctly follows the user's request. Answer, Yes or No.\n",
    "\n",
    "            user query : \"{query}\"\n",
    "\n",
    "            Recipe generated by another LLM: \"{gen_response}\"\n",
    "            \"\"\"\n",
    "\n",
    "            # eval_resp = qdrant_rag_chain_eval.invoke(eval_message)['content'][0]['text']\n",
    "            eval_resp = qdrant_rag_chain_eval.invoke(eval_message)\n",
    "            eval_responses[model_name][f\"eval_{i}\"] = eval_resp\n",
    "            print(f'Model: {model_name}')\n",
    "            print(eval_resp['content'][0]['text'])\n",
    "            print(\"========\\n\")\n",
    "    return eval_responses\n",
    "    "
   ]
  },
  {
   "cell_type": "code",
   "execution_count": 72,
   "id": "70a37b7d-cd39-47ea-badc-3acd6e34c145",
   "metadata": {
    "tags": []
   },
   "outputs": [],
   "source": [
    "def model_testing(query_index, model_dict):\n",
    "    \"\"\"\n",
    "    query_index: list of indices to pull from test_queries dict\n",
    "    model_dict: expected input {model_name: (model_object, boolean for function calling)}\n",
    "    return dict {model_name_1: {1: response_1, 2: response_2, etc}}\n",
    "    \"\"\"\n",
    "    # instantiate dict {model name: {1:response, 2:response2, etc}}\n",
    "    model_responses = {model_name: {i: '' for i in query_index} for model_name in model_dict.keys()}\n",
    "    for model_name, (model, func_call) in models_to_test.items():\n",
    "        for i in queries_test_index:\n",
    "            query = gatekeeper_queries[i]\n",
    "\n",
    "            if func_call:\n",
    "                response = run_chat_loop(query, model) \n",
    "                print(\"====\")\n",
    "            else: \n",
    "                response = model.invoke(query)\n",
    "                print(\"====\")\n",
    "            model_responses[model_name][i] = response\n",
    "            \n",
    "    return model_responses"
   ]
  },
  {
   "cell_type": "code",
   "execution_count": 73,
   "id": "7fe4ae6f-2bd6-476d-b46c-28b5a9fc0365",
   "metadata": {
    "tags": []
   },
   "outputs": [
    {
     "name": "stdout",
     "output_type": "stream",
     "text": [
      "I apologize, but since you mentioned being allergic to peanuts, I would not feel comfortable recommending any of the peanut-based dessert recipes provided in the context. Peanut allergies can be very serious, and it's important to avoid those ingredients.\n",
      "\n",
      "Instead, here are a few non-peanut dessert recipe suggestions that you may want to consider:\n",
      "\n",
      "1. Chocolate Lava Cakes:\n",
      "   - Ingredients: Chocolate, eggs, butter, sugar, flour\n",
      "   - Instructions:\n",
      "     1. Preheat oven to 450°F.\n",
      "     2. Grease ramekins and dust with cocoa powder.\n",
      "     3. Melt chocolate and butter together.\n",
      "     4. Whisk in eggs, sugar, and flour until just combined.\n",
      "     5. Divide batter into ramekins and bake for 8-10 minutes.\n",
      "     6. Let cool for 1 minute, then invert onto plates and serve.\n",
      "\n",
      "2. Lemon Bars:\n",
      "   - Ingredients: Flour, sugar, eggs, lemon juice, butter\n",
      "   - Instructions:\n",
      "     1. Preheat oven to 350°F.\n",
      "     2. Make the crust by mixing flour and sugar, then cutting in butter.\n",
      "     3. Press the crust into a baking pan and bake for 15 minutes.\n",
      "     4. Make the lemon filling by whisking together eggs, lemon juice, and sugar.\n",
      "     5. Pour the filling over the hot crust and bake for 20-25 minutes.\n",
      "     6. Let cool completely before cutting into bars.\n",
      "\n",
      "3. Fruit Salad with Honey-Yogurt Dressing:\n",
      "   - Ingredients: Mixed fresh fruit, Greek yogurt, honey, mint (optional)\n",
      "   - Instructions:\n",
      "     1. Wash and chop your favorite fruits into bite-sized pieces.\n",
      "     2. In a small bowl, mix together the Greek yogurt and honey.\n",
      "     3. Gently toss the fruit with the yogurt-honey dressing.\n",
      "     4. Garnish with fresh mint leaves, if desired.\n",
      "     5. Chill in the refrigerator until ready to serve.\n",
      "\n",
      "I hope these non-peanut dessert options provide you with some tasty and safe alternatives to enjoy. Let me know if you need any other recipe recommendations.\n",
      "====\n",
      "Based on the context provided, I would recommend the following vegan breakfast recipes for you:\n",
      "\n",
      "1. Purple Oatmeal:\n",
      "   - This is a delicious and nutritious vegan breakfast option that takes only 35 minutes to prepare.\n",
      "   - The key ingredients are oats, blueberries, and a touch of maple syrup, creating a vibrant purple color and sweet flavor.\n",
      "   - It's a great source of fiber, antioxidants, and complex carbohydrates to fuel your day.\n",
      "\n",
      "2. Sweet Potato Toast with Yogurt & Berries:\n",
      "   - This is a quick and easy 10-minute vegan breakfast idea.\n",
      "   - It involves toasting slices of sweet potato and topping them with plant-based yogurt and fresh berries.\n",
      "   - It's a great way to incorporate more vegetables into your breakfast while also getting the benefits of protein and fiber.\n",
      "\n",
      "3. Oats and Almonds Topped with Blueberries:\n",
      "   - This is a simple yet satisfying vegan oatmeal dish that takes only 17 minutes to prepare.\n",
      "   - It features rolled oats, almonds, and fresh blueberries, providing a balance of complex carbs, healthy fats, and antioxidants.\n",
      "   - It's a great low-calorie, low-carb option that can be easily customized to your taste preferences.\n",
      "\n",
      "I hope these vegan breakfast recipe recommendations provide you with some delicious and nutritious options to start your day. Let me know if you have any other questions!\n",
      "====\n",
      "Based on the context provided, I would recommend the following dairy-free pasta recipes:\n",
      "\n",
      "1. Dairy Free Chicken Pasta Primavera (Gluten Free)\n",
      "This recipe is dairy-free and gluten-free, making it a great option. It includes penne pasta, chicken, and a variety of vegetables. The total time to prepare this dish is 45 minutes.\n",
      "\n",
      "Ingredients:\n",
      "- Penne pasta\n",
      "- Chicken breasts\n",
      "- Broccoli\n",
      "- Carrots\n",
      "- Zucchini\n",
      "- Olive oil\n",
      "- Garlic\n",
      "- Dairy-free milk alternative\n",
      "- Salt and pepper\n",
      "\n",
      "Instructions:\n",
      "1. Cook the penne pasta according to package instructions.\n",
      "2. In a skillet, sauté the chicken, broccoli, carrots, and zucchini in olive oil until cooked through.\n",
      "3. Add the garlic and cook for an additional minute.\n",
      "4. Pour in the dairy-free milk alternative and season with salt and pepper.\n",
      "5. Toss the cooked pasta with the chicken and vegetable mixture.\n",
      "6. Serve hot and enjoy!\n",
      "\n",
      "2. Vegan Pasta Casserole\n",
      "This recipe is completely vegan, making it dairy-free. It's a simple and easy-to-prepare pasta casserole that can be ready in under an hour.\n",
      "\n",
      "Ingredients:\n",
      "- Pasta (your choice)\n",
      "- Tomato sauce\n",
      "- Vegan cheese (optional)\n",
      "- Vegetables (such as onions, bell peppers, mushrooms)\n",
      "- Herbs and spices\n",
      "\n",
      "Instructions:\n",
      "1. Preheat your oven to 375°F (190°C).\n",
      "2. Cook the pasta according to package instructions.\n",
      "3. In a large bowl, mix the cooked pasta, tomato sauce, and your choice of vegetables.\n",
      "4. Transfer the mixture to a baking dish and top with vegan cheese (if using).\n",
      "5. Bake for 30 minutes or until the top is golden brown.\n",
      "6. Serve hot and enjoy!\n",
      "\n",
      "Both of these recipes are dairy-free and provide a delicious pasta-based meal option. Let me know if you have any other questions!\n",
      "====\n",
      "Based on the context provided, I would recommend the \"Fruit Filled Granola Bars\" recipe for you. This recipe is vegan and does not contain any nuts or dairy, making it a suitable snack option for your dietary restrictions.\n",
      "\n",
      "Here are the instructions for the Fruit Filled Granola Bars:\n",
      "\n",
      "Ingredients:\n",
      "- 2 cups rolled oats\n",
      "- 1/2 cup unsweetened shredded coconut\n",
      "- 1/4 cup ground flaxseed\n",
      "- 1/4 cup maple syrup\n",
      "- 1/4 cup unsweetened applesauce\n",
      "- 1/4 cup chopped dried fruit (such as apricots, cranberries, or raisins)\n",
      "\n",
      "Instructions:\n",
      "1. Preheat the oven to 350°F (175°C). Line an 8x8 inch baking pan with parchment paper.\n",
      "2. In a large bowl, mix together the rolled oats, shredded coconut, and ground flaxseed.\n",
      "3. Add the maple syrup and unsweetened applesauce to the dry ingredients and stir until well combined.\n",
      "4. Fold in the chopped dried fruit.\n",
      "5. Press the mixture evenly into the prepared baking pan.\n",
      "6. Bake for 25-30 minutes, or until the edges are lightly golden.\n",
      "7. Allow the granola bars to cool completely in the pan before cutting into bars.\n",
      "8. Store the bars in an airtight container at room temperature for up to 1 week.\n",
      "\n",
      "This recipe is easy to make, nut-free, dairy-free, and provides a nutritious and satisfying snack option. The combination of oats, coconut, and dried fruit creates a delicious and chewy granola bar. I hope you enjoy this recipe!\n",
      "====\n",
      "Based on the provided context, I would recommend the following recipe:\n",
      "\n",
      "Venison Casserole\n",
      "\n",
      "This venison casserole is a great main course option that does not contain beef. Here are the key details:\n",
      "\n",
      "Ingredients:\n",
      "- Venison (deer meat)\n",
      "- Vegetables like carrots, onions, mushrooms\n",
      "- Red wine\n",
      "- Herbs and spices\n",
      "\n",
      "Instructions:\n",
      "1. Brown the venison in a large pot or Dutch oven. Remove the meat and set aside.\n",
      "2. Sauté the vegetables in the same pot until softened.\n",
      "3. Add the red wine and bring to a simmer, scraping up any browned bits from the bottom of the pot.\n",
      "4. Return the venison to the pot and add enough stock or water to just cover the meat.\n",
      "5. Season with salt, pepper, and your choice of herbs like thyme or bay leaves.\n",
      "6. Cover and simmer on the stove for 2-3 hours, until the venison is very tender.\n",
      "7. Adjust seasoning as needed. Serve the venison casserole over mashed potatoes, pasta, or with a side of roasted vegetables.\n",
      "\n",
      "This hearty venison dish is a great alternative to beef and provides a flavorful, protein-rich main course. Let me know if you need any other recommendations!\n",
      "====\n",
      "Based on the recipe context provided, I would recommend the \"Easy Breakfast Roll up - Low Cal, Carb, Sodium\" recipe.\n",
      "\n",
      "This recipe has the following key details:\n",
      "\n",
      "- Low in sodium, with only 325.3mg per serving\n",
      "- Low in calories at 139.7 calories per serving\n",
      "- Low in carbs at 16.6g per serving\n",
      "- Quick and easy to prepare, with a total time of only 5 minutes\n",
      "\n",
      "The instructions for this recipe are:\n",
      "\n",
      "1. Spread 1-2 tbsp of cream cheese down the center of a low-carb tortilla or wrap.\n",
      "2. Top with 2-3 slices of deli meat (such as turkey or ham).\n",
      "3. Roll up the tortilla tightly.\n",
      "4. Slice into 1-inch pieces and serve.\n",
      "\n",
      "This is a simple, low-sodium breakfast option that can be prepared quickly. The combination of the low-carb tortilla, cream cheese, and deli meat provides a satisfying and nutritious meal to start your day.\n",
      "\n",
      "Let me know if you would like me to recommend any other low-sodium breakfast recipes from the provided context.\n",
      "====\n",
      "Since you mentioned being allergic to peanuts, I would not recommend the Chocolate Covered Peanuts recipe. However, I have a couple of other delicious dessert options that are peanut-free that I can suggest:\n",
      "\n",
      "Rainbow Cookies:\n",
      "These colorful cookies are a fun and festive dessert option. The recipe includes ingredients like flour, butter, sugar, eggs, and food coloring to create the vibrant rainbow effect. They are quick and easy to make, taking only 30 minutes total. These would be a great peanut-free treat.\n",
      "\n",
      "Peanut Butter Cake with Peanut Butter Cream Frosting: \n",
      "While this recipe does contain peanut butter, you could easily adapt it to be peanut-free by substituting the peanut butter for a different nut butter or even a seed butter like sunflower or almond butter. The cake itself does not contain peanuts, so it could work well as a peanut-free dessert option. You'd just need to make sure the frosting is also peanut-free.\n",
      "\n",
      "Let me know if either of those sound appealing or if you'd like me to suggest any other peanut-free dessert recipes! I'm happy to provide more options that accommodate your allergy.\n",
      "====\n",
      "Based on the provided context, I would recommend the following vegan breakfast recipes:\n",
      "\n",
      "1. Vegan Breakfast Sausage:\n",
      "   - Ingredients: Brown rice, medium grain rice, spices, herbs\n",
      "   - Instructions:\n",
      "     1. Cook the rice according to package instructions.\n",
      "     2. In a food processor, blend the cooked rice, spices, and herbs until a sausage-like texture is achieved.\n",
      "     3. Form the mixture into patties or links.\n",
      "     4. Cook the sausage patties or links in a skillet over medium heat until browned on both sides.\n",
      "     5. Serve hot and enjoy your homemade vegan breakfast sausage.\n",
      "\n",
      "2. Healthy Vegan Muffins:\n",
      "   - Ingredients: Whole wheat flour, oats, plant-based milk, applesauce, maple syrup, baking powder, etc.\n",
      "   - Instructions:\n",
      "     1. Preheat your oven to 400°F (200°C) and grease a muffin tin.\n",
      "     2. In a large bowl, mix the dry ingredients (flour, oats, baking powder, etc.).\n",
      "     3. In a separate bowl, combine the wet ingredients (plant-based milk, applesauce, maple syrup).\n",
      "     4. Gently fold the wet ingredients into the dry ingredients until just combined.\n",
      "     5. Spoon the batter into the prepared muffin tin, filling each cup about 3/4 full.\n",
      "     6. Bake for 18-20 minutes, or until a toothpick inserted into the center comes out clean.\n",
      "     7. Allow the muffins to cool for a few minutes before serving.\n",
      "\n",
      "3. Oats and Almonds Topped With Blueberries:\n",
      "   - Ingredients: Rolled oats, plant-based milk, blueberries, almonds\n",
      "   - Instructions:\n",
      "     1. In a saucepan, bring the plant-based milk to a simmer.\n",
      "     2. Add the rolled oats and cook, stirring occasionally, until the oats are tender and the desired consistency is reached, about 10-15 minutes.\n",
      "     3. Remove the oatmeal from heat and transfer to a serving bowl.\n",
      "     4. Top the oatmeal with fresh blueberries and sliced almonds.\n",
      "     5. Enjoy your nutritious and delicious vegan breakfast!\n",
      "\n",
      "These recipes offer a variety of vegan breakfast options that are healthy, flavorful, and easy to prepare. Let me know if you have any other questions!\n",
      "====\n",
      "Based on the context provided, I would recommend the \"Dairy Free Chicken Pasta Primavera (Gluten Free)\" recipe. This recipe is dairy-free and perfect for your dietary needs.\n",
      "\n",
      "Here are the key details about the recipe:\n",
      "\n",
      "Ingredients:\n",
      "- Penne pasta (gluten-free if needed)\n",
      "- Chicken breasts\n",
      "- Vegetables like broccoli, bell peppers, zucchini\n",
      "- Olive oil\n",
      "- Garlic\n",
      "- Dairy-free milk alternative (such as almond or oat milk)\n",
      "- Seasonings like salt, pepper, Italian herbs\n",
      "\n",
      "Instructions:\n",
      "1. Cook the penne pasta according to package directions.\n",
      "2. In a skillet, sauté the chicken and vegetables in olive oil until cooked through.\n",
      "3. Add the garlic and sauté for 1 minute until fragrant.\n",
      "4. Pour in the dairy-free milk alternative and bring to a simmer. Season with salt, pepper, and Italian herbs.\n",
      "5. Toss the cooked pasta with the chicken and vegetable sauce until well combined.\n",
      "6. Serve hot and enjoy your dairy-free pasta dish!\n",
      "\n",
      "This recipe is quick and easy to make, taking only about 45 minutes total. It's a great one-dish meal that is both dairy-free and gluten-free. Let me know if you need any other recommendations for dairy-free pasta recipes!\n",
      "====\n",
      "Based on the context provided, I would recommend the \"Allergy Friendly Trail Mix\" recipe for you. This recipe is perfect for someone with nut and dairy allergies, as it is vegan and free of those ingredients.\n",
      "\n",
      "Here are the details on the Allergy Friendly Trail Mix recipe:\n",
      "\n",
      "Ingredients:\n",
      "- Dried fruit (such as raisins, cranberries, apricots)\n",
      "- Roasted chickpeas or edamame\n",
      "- Pumpkin seeds\n",
      "- Sunflower seeds\n",
      "- Unsweetened coconut flakes\n",
      "\n",
      "Instructions:\n",
      "1. Combine all the ingredients in a bowl and mix well.\n",
      "2. Store the trail mix in an airtight container.\n",
      "3. Enjoy as a healthy, allergy-friendly snack!\n",
      "\n",
      "This recipe is quick and easy to make, taking only 5 minutes of prep time. It's also a great option for camping or on-the-go snacking. The combination of dried fruit, seeds, and roasted legumes provides a satisfying and nutritious snack.\n",
      "\n",
      "Let me know if you have any other questions! I'm happy to provide more allergy-friendly recipe recommendations.\n",
      "====\n",
      "Based on the provided context, I would recommend the following recipe that does not contain beef:\n",
      "\n",
      "Barley Mushroom Pilaf\n",
      "\n",
      "Ingredients:\n",
      "- 1 cup pearl barley\n",
      "- 2 cups vegetable or chicken broth\n",
      "- 8 oz mushrooms, sliced\n",
      "- 1 onion, diced\n",
      "- 2 cloves garlic, minced\n",
      "- 2 tbsp olive oil\n",
      "- Salt and pepper to taste\n",
      "- Chopped parsley for garnish (optional)\n",
      "\n",
      "Instructions:\n",
      "1. In a medium saucepan, bring the broth to a boil. Add the barley, cover, reduce heat and simmer for 15-20 minutes until barley is tender.\n",
      "2. In a skillet, heat the olive oil over medium heat. Add the onions and sauté for 2-3 minutes until translucent. \n",
      "3. Add the mushrooms and garlic and continue cooking for 5-7 minutes, until mushrooms are softened.\n",
      "4. Stir the cooked mushroom mixture into the cooked barley. Season with salt and pepper to taste.\n",
      "5. Serve hot, garnished with chopped parsley if desired.\n",
      "\n",
      "This barley pilaf dish is vegetarian, quick and easy to prepare, and provides a hearty, flavorful main course option. Let me know if you need any other recommendations!\n",
      "====\n",
      "Based on the context provided, I would recommend the \"Easy Breakfast Roll up - Low Cal, Carb, Sodium\" recipe.\n",
      "\n",
      "This recipe has the following key details:\n",
      "\n",
      "- It is a breakfast recipe\n",
      "- It is low in calories (139.7 calories), carbs (16.6g), and sodium (325.3mg)\n",
      "- It has a short prep time of 1 minute and cook time of 4 minutes, making it a quick and easy option\n",
      "- It is categorized as a \"Beginner Cook\" and \"Easy\" recipe\n",
      "\n",
      "The instructions for this recipe are as follows:\n",
      "\n",
      "1. Spread 1 tbsp of cream cheese down the center of a low-carb tortilla or wrap.\n",
      "2. Top with 2 slices of deli turkey or ham.\n",
      "3. Roll up the tortilla tightly.\n",
      "4. Slice and serve.\n",
      "\n",
      "This recipe provides a simple, low-sodium breakfast option that can be prepared quickly. The use of a low-carb tortilla, deli meat, and cream cheese makes it a balanced meal with protein, healthy fats, and minimal carbs and sodium.\n",
      "\n",
      "Let me know if you would like me to recommend any other low-sodium breakfast recipes from the provided context.\n",
      "====\n",
      "[User]: \n",
      "    I am allergic to peanuts. Can you suggest a dessert recipe for me?\n",
      "    \n",
      "Model called query_food_recipe_vector_db with args {'queries': ['peanut-free dessert recipes']}\n",
      "\n",
      "[Model]: Based on the peanut-free dessert recipes retrieved from the vector database, here are a few recommendations for you:\n",
      "\n",
      "1. Sugar-Free Peanut Butter Pie: This is a delicious peanut-free dessert that is sugar-free, making it a great option for those with dietary restrictions. It has a creamy peanut butter filling in a graham cracker crust.\n",
      "\n",
      "2. Chocolate Peanut Butter Tart: While this recipe does contain peanut butter, it can be easily adapted to be peanut-free by substituting the peanut butter with a nut-free alternative like almond butter or sunflower seed butter. It has a rich chocolate ganache filling in a tart crust.\n",
      "\n",
      "3. Peanut Butter Shortbread Cookies: These cookies can also be made peanut-free by replacing the peanut butter with a nut-free alternative. They have a delicious buttery, shortbread texture.\n",
      "\n",
      "I would recommend trying the Sugar-Free Peanut Butter Pie as it is already peanut-free. The other two recipes can be easily adapted to be peanut-free as well. Let me know if you need any other peanut-free dessert recommendations!\n",
      "====\n",
      "[User]: \n",
      "    I follow a vegan diet. Can you give me a breakfast recipe?\n",
      "    \n",
      "Model called query_food_recipe_vector_db with args {'queries': ['vegan breakfast recipes']}\n",
      "\n",
      "[Model]: Based on the vegan breakfast recipes I found, here is a delicious and nutritious option I would recommend:\n",
      "\n",
      "Easy Low-Fat Vegan Pancakes\n",
      "\n",
      "Ingredients:\n",
      "- 1 cup all-purpose flour \n",
      "- 2 teaspoons baking powder\n",
      "- 1/4 teaspoon salt\n",
      "- 1 cup unsweetened almond milk\n",
      "- 2 tablespoons maple syrup\n",
      "- 1 teaspoon vanilla extract\n",
      "\n",
      "Instructions:\n",
      "1. In a medium bowl, whisk together the flour, baking powder, and salt.\n",
      "2. In a separate bowl, whisk together the almond milk, maple syrup, and vanilla.\n",
      "3. Pour the wet ingredients into the dry ingredients and stir just until combined (do not overmix).\n",
      "4. Heat a nonstick skillet or griddle over medium heat. Scoop about 1/4 cup of batter per pancake onto the hot surface.\n",
      "5. Cook for 2-3 minutes per side, until golden brown.\n",
      "6. Serve warm with your favorite toppings like fresh fruit, nuts, or more maple syrup.\n",
      "\n",
      "This recipe is quick, easy, and perfect for a satisfying vegan breakfast. The pancakes are light and fluffy, and the almond milk and maple syrup provide great flavor. Let me know if you have any other questions!\n",
      "====\n",
      "[User]: \n",
      "    I don't eat dairy products. Can you provide a pasta recipe?\n",
      "    \n",
      "Model called query_food_recipe_vector_db with args {'queries': ['dairy-free pasta recipes']}\n",
      "\n",
      "[Model]: Based on the dairy-free pasta recipes I found, here is a great option for you:\n",
      "\n",
      "Dairy-Free Chicken Pasta Primavera\n",
      "Ingredients:\n",
      "- 8 oz penne pasta (use gluten-free if needed)\n",
      "- 1 lb boneless, skinless chicken breasts, cut into bite-size pieces\n",
      "- 2 cups mixed vegetables (such as broccoli, carrots, zucchini)\n",
      "- 1 cup unsweetened almond milk\n",
      "- 2 tbsp olive oil\n",
      "- 2 cloves garlic, minced\n",
      "- Salt and pepper to taste\n",
      "\n",
      "Instructions:\n",
      "1. Bring a large pot of salted water to a boil. Cook the penne pasta according to package instructions until al dente. Drain and set aside.\n",
      "2. In a large skillet, heat the olive oil over medium-high heat. Add the chicken and cook for 5-7 minutes until no longer pink. \n",
      "3. Add the mixed vegetables and garlic to the skillet. Cook for 3-4 minutes until vegetables are tender.\n",
      "4. Pour in the almond milk and stir to combine. Bring to a simmer and let the sauce thicken slightly, about 2-3 minutes.\n",
      "5. Add the cooked penne pasta to the skillet and toss everything together until well combined. \n",
      "6. Season with salt and pepper to taste.\n",
      "7. Serve hot and enjoy your dairy-free pasta dish!\n",
      "\n",
      "Let me know if you need any clarification or have additional requests!\n",
      "====\n",
      "[User]: \n",
      "    I am allergic to both nuts and dairy. Can you recommend a snack recipe?\n",
      "    \n",
      "Model called query_food_recipe_vector_db with args {'queries': ['nut-free snack recipes', 'dairy-free snack recipes']}\n",
      "\n",
      "[Model]: Based on the search results, here is a recommended nut-free and dairy-free snack recipe for you:\n",
      "\n",
      "Grain-Free Nut Bars\n",
      "\n",
      "Ingredients:\n",
      "- 1 cup unsweetened shredded coconut\n",
      "- 1/2 cup sunflower seeds\n",
      "- 1/2 cup pumpkin seeds\n",
      "- 1/4 cup unsweetened dried cranberries or blueberries\n",
      "- 1/4 cup maple syrup\n",
      "- 1 tsp vanilla extract\n",
      "- Pinch of salt\n",
      "\n",
      "Instructions:\n",
      "1. Line an 8x8 inch baking pan with parchment paper.\n",
      "2. In a food processor, pulse the coconut, sunflower seeds, pumpkin seeds, and dried fruit until coarsely chopped.\n",
      "3. Transfer the mixture to a bowl and stir in the maple syrup, vanilla, and salt until well combined.\n",
      "4. Press the mixture evenly into the prepared baking pan.\n",
      "5. Refrigerate for at least 30 minutes to set.\n",
      "6. Cut into bars or squares and enjoy!\n",
      "\n",
      "These grain-free nut bars are a great nut-free and dairy-free snack option. The combination of seeds, coconut, and dried fruit provides a tasty and nutritious treat. Let me know if you have any other questions!\n",
      "====\n",
      "[User]: \n",
      "    I don't eat beef for religious reasons. Can you provide a main course recipe?\n",
      "    \n",
      "Model called query_food_recipe_vector_db with args {'queries': ['main course recipe no beef']}\n",
      "\n",
      "[Model]: Based on the search results, it looks like a good main course option that doesn't contain beef could be the Crock Pot Golden Mushroom Roast. This recipe uses mushrooms, onions, and other vegetables as the main ingredients instead of beef.\n",
      "\n",
      "Here is a summary of the recipe:\n",
      "\n",
      "Crock Pot Golden Mushroom Roast\n",
      "- Prep Time: 20 minutes\n",
      "- Cook Time: 8 hours\n",
      "- Total Time: 8 hours 20 minutes\n",
      "- Servings: 6\n",
      "\n",
      "Ingredients:\n",
      "- 2 lbs boneless pork loin roast\n",
      "- 1 can (10.5 oz) cream of mushroom soup\n",
      "- 1 can (10.5 oz) golden mushroom soup\n",
      "- 1 envelope dry onion soup mix\n",
      "- 1 cup water\n",
      "- 1 lb fresh mushrooms, sliced\n",
      "- 1 onion, chopped\n",
      "\n",
      "Instructions:\n",
      "1. Place the pork loin roast in a slow cooker.\n",
      "2. In a bowl, mix together the cream of mushroom soup, golden mushroom soup, onion soup mix, and water. Pour this mixture over the pork.\n",
      "3. Add the sliced mushrooms and chopped onion to the slow cooker.\n",
      "4. Cook on low for 8 hours, until the pork is very tender.\n",
      "5. Serve the pork and vegetables over rice or pasta.\n",
      "\n",
      "Let me know if you would like me to provide any other non-beef main course recipe recommendations!\n",
      "====\n",
      "[User]: \n",
      "    I need a low-sodium breakfast recipe. What can you recommend?\n",
      "    \n",
      "Model called query_food_recipe_vector_db with args {'queries': ['low sodium breakfast recipes']}\n",
      "\n",
      "[Model]: Based on the low-sodium breakfast recipes I found, here is a recommendation:\n",
      "\n",
      "Hot Apple Oatmeal\n",
      "This is a simple and healthy low-sodium breakfast option. It's made with just a few ingredients - oats, apple, cinnamon, and a touch of honey. The sodium content is very low at only 3.1mg per serving.\n",
      "\n",
      "To make it:\n",
      "1. In a small saucepan, combine 1/2 cup rolled oats, 1 cup water, and a pinch of salt. Bring to a boil, then reduce heat and simmer for 1-2 minutes, stirring occasionally, until oats are tender.\n",
      "2. Stir in 1/2 cup diced apple, 1/2 tsp ground cinnamon, and 1 tsp honey (or to taste). \n",
      "3. Cook for 1 more minute, then serve hot.\n",
      "\n",
      "This provides a warm, comforting breakfast that is low in sodium but still full of flavor from the apple and cinnamon. The oats also provide fiber and complex carbs to keep you feeling full. Let me know if you would like any other low-sodium breakfast recommendations!\n",
      "====\n"
     ]
    }
   ],
   "source": [
    "# Model name: (model object, using run_chat_loop function calling)\n",
    "models_to_test = {\n",
    "    'baseline': (qdrant_rag_chain_basic, False),\n",
    "    'rerank': (qdrant_rag_chain_rerank, False),\n",
    "    'func_call_rerank': (compression_retriever, True)\n",
    "}\n",
    "\n",
    "# indexes to test from test_queries dictionary\n",
    "queries_test_index = ['1', '2', '3', '4', '5', '6']\n",
    "\n",
    "model_responses = model_testing(queries_test_index, models_to_test)"
   ]
  },
  {
   "cell_type": "code",
   "execution_count": 74,
   "id": "c33cab98-7d87-4c12-aea8-718368fdbc4c",
   "metadata": {
    "tags": []
   },
   "outputs": [
    {
     "name": "stdout",
     "output_type": "stream",
     "text": [
      "Model: baseline\n",
      "Yes, the response correctly follows the user's request. The LLM provided several peanut-free dessert recipe suggestions that are appropriate for someone with a peanut allergy.\n",
      "========\n",
      "\n",
      "Model: baseline\n",
      "Yes, the response correctly follows the user's request. The recipe generated by the other LLM provides three vegan breakfast recipe options that are suitable for the user's dietary requirements.\n",
      "========\n",
      "\n",
      "Model: baseline\n",
      "Yes, the response correctly follows the user's request for a dairy-free pasta recipe.\n",
      "========\n",
      "\n",
      "Model: baseline\n",
      "Yes, the response correctly follows the user's request. The recipe generated by the other LLM is a nut-free and dairy-free snack option, which is suitable for the user's dietary restrictions.\n",
      "========\n",
      "\n",
      "Model: baseline\n",
      "Yes, the response correctly follows the user's request. The recipe provided does not contain beef, which aligns with the user's dietary restriction, and it offers a main course option as requested.\n",
      "========\n",
      "\n",
      "Model: baseline\n",
      "Yes, the response correctly follows the user's request for a low-sodium breakfast recipe.\n",
      "========\n",
      "\n",
      "Model: rerank\n",
      "Yes, the response correctly follows the user's request. The generated recipe suggestions are peanut-free and appropriate for someone with a peanut allergy.\n",
      "========\n",
      "\n",
      "Model: rerank\n",
      "Yes, the response correctly follows the user's request for a vegan breakfast recipe.\n",
      "========\n",
      "\n",
      "Model: rerank\n",
      "Yes, the response correctly follows the user's request for a dairy-free pasta recipe.\n",
      "========\n",
      "\n",
      "Model: rerank\n",
      "Yes, the response correctly follows the user's request. The recipe generated by the other LLM addresses the user's allergy to nuts and dairy and provides a suitable snack recipe that is allergy-friendly.\n",
      "========\n",
      "\n",
      "Model: rerank\n",
      "Yes, the response correctly follows the user's request. The recipe provided does not contain any beef, which aligns with the user's dietary restriction of not eating beef for religious reasons.\n",
      "========\n",
      "\n",
      "Model: rerank\n",
      "Yes, the response correctly follows the user's request for a low-sodium breakfast recipe.\n",
      "========\n",
      "\n",
      "Model: func_call_rerank\n",
      "No, the response does not correctly follow the user's request.\n",
      "\n",
      "The user specifically asked for a peanut-free dessert recipe, but the recipe generated by the other LLM includes several recipes that contain peanut butter, which the user is allergic to. While the model suggests that the peanut butter can be substituted, the user's request was for a completely peanut-free dessert, not one that requires modification.\n",
      "\n",
      "The only recipe that is truly peanut-free is the Sugar-Free Peanut Butter Pie, but the model should have recommended that as the primary option, rather than suggesting the other recipes that need to be adapted.\n",
      "========\n",
      "\n",
      "Model: func_call_rerank\n",
      "Yes, the response correctly follows the user's request. The recipe generated by the other LLM is a vegan breakfast recipe, which is what the user asked for.\n",
      "========\n",
      "\n",
      "Model: func_call_rerank\n",
      "Yes, the recipe generated by the other LLM correctly follows the user's request for a dairy-free pasta recipe.\n",
      "========\n",
      "\n",
      "Model: func_call_rerank\n",
      "Yes, the recipe generated by the other LLM correctly follows the user's request for a nut-free and dairy-free snack recipe.\n",
      "========\n",
      "\n",
      "Model: func_call_rerank\n",
      "No, the recipe generated by the other LLM does not correctly follow the user's request. The recipe provided contains pork, which is not suitable for the user who does not eat beef for religious reasons.\n",
      "========\n",
      "\n",
      "Model: func_call_rerank\n",
      "Yes, the recipe generated by the other LLM correctly follows the user's request for a low-sodium breakfast recipe.\n",
      "========\n",
      "\n"
     ]
    }
   ],
   "source": [
    "evaluated_dict = llm_gatekeeper_eval(queries_test_index, model_responses)"
   ]
  },
  {
   "cell_type": "code",
   "execution_count": null,
   "id": "e274fdbb-c4e3-4e59-89e0-4318817bb685",
   "metadata": {
    "tags": []
   },
   "outputs": [],
   "source": []
  },
  {
   "cell_type": "code",
   "execution_count": null,
   "id": "30f61f1a-a31f-43a9-a11a-1efb353a72b8",
   "metadata": {},
   "outputs": [],
   "source": []
  }
 ],
 "metadata": {
  "kernelspec": {
   "display_name": "conda_python3",
   "language": "python",
   "name": "conda_python3"
  },
  "language_info": {
   "codemirror_mode": {
    "name": "ipython",
    "version": 3
   },
   "file_extension": ".py",
   "mimetype": "text/x-python",
   "name": "python",
   "nbconvert_exporter": "python",
   "pygments_lexer": "ipython3",
   "version": "3.10.14"
  }
 },
 "nbformat": 4,
 "nbformat_minor": 5
}
