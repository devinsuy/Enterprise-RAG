{
 "cells": [
  {
   "cell_type": "markdown",
   "id": "a1ca1687-79fb-4439-8c91-7b1049c36153",
   "metadata": {},
   "source": [
    "### Install dependencies"
   ]
  },
  {
   "cell_type": "code",
   "execution_count": 1,
   "id": "d8fbce3d-65f5-4ded-8fd4-d9f1101286a9",
   "metadata": {
    "scrolled": true,
    "tags": []
   },
   "outputs": [
    {
     "name": "stdout",
     "output_type": "stream",
     "text": [
      "Requirement already satisfied: boto3 in /home/ec2-user/anaconda3/envs/python3/lib/python3.10/site-packages (1.34.101)\n",
      "Collecting boto3\n",
      "  Downloading boto3-1.34.141-py3-none-any.whl.metadata (6.6 kB)\n",
      "Requirement already satisfied: sagemaker in /home/ec2-user/anaconda3/envs/python3/lib/python3.10/site-packages (2.219.0)\n",
      "Collecting sagemaker\n",
      "  Downloading sagemaker-2.224.4-py3-none-any.whl.metadata (15 kB)\n",
      "Collecting langchain\n",
      "  Downloading langchain-0.2.7-py3-none-any.whl.metadata (6.9 kB)\n",
      "Collecting langchain-community\n",
      "  Downloading langchain_community-0.2.6-py3-none-any.whl.metadata (2.5 kB)\n",
      "Collecting langchain-core\n",
      "  Downloading langchain_core-0.2.12-py3-none-any.whl.metadata (6.0 kB)\n",
      "Collecting faiss-cpu\n",
      "  Downloading faiss_cpu-1.8.0.post1-cp310-cp310-manylinux_2_17_x86_64.manylinux2014_x86_64.whl.metadata (3.7 kB)\n",
      "Requirement already satisfied: requests in /home/ec2-user/anaconda3/envs/python3/lib/python3.10/site-packages (2.31.0)\n",
      "Collecting requests\n",
      "  Downloading requests-2.32.3-py3-none-any.whl.metadata (4.6 kB)\n",
      "Collecting opensearch-py\n",
      "  Downloading opensearch_py-2.6.0-py2.py3-none-any.whl.metadata (7.0 kB)\n",
      "Collecting sentence-transformers\n",
      "  Downloading sentence_transformers-3.0.1-py3-none-any.whl.metadata (10 kB)\n",
      "Collecting langchain-text-splitters\n",
      "  Downloading langchain_text_splitters-0.2.2-py3-none-any.whl.metadata (2.1 kB)\n",
      "Collecting requests-aws4auth\n",
      "  Downloading requests_aws4auth-1.2.3-py2.py3-none-any.whl.metadata (18 kB)\n",
      "Collecting qdrant-client\n",
      "  Downloading qdrant_client-1.10.1-py3-none-any.whl.metadata (10 kB)\n",
      "Collecting botocore<1.35.0,>=1.34.141 (from boto3)\n",
      "  Downloading botocore-1.34.141-py3-none-any.whl.metadata (5.7 kB)\n",
      "Requirement already satisfied: jmespath<2.0.0,>=0.7.1 in /home/ec2-user/anaconda3/envs/python3/lib/python3.10/site-packages (from boto3) (1.0.1)\n",
      "Requirement already satisfied: s3transfer<0.11.0,>=0.10.0 in /home/ec2-user/anaconda3/envs/python3/lib/python3.10/site-packages (from boto3) (0.10.1)\n",
      "Requirement already satisfied: attrs<24,>=23.1.0 in /home/ec2-user/anaconda3/envs/python3/lib/python3.10/site-packages (from sagemaker) (23.2.0)\n",
      "Requirement already satisfied: cloudpickle==2.2.1 in /home/ec2-user/anaconda3/envs/python3/lib/python3.10/site-packages (from sagemaker) (2.2.1)\n",
      "Requirement already satisfied: google-pasta in /home/ec2-user/anaconda3/envs/python3/lib/python3.10/site-packages (from sagemaker) (0.2.0)\n",
      "Requirement already satisfied: numpy<2.0,>=1.9.0 in /home/ec2-user/anaconda3/envs/python3/lib/python3.10/site-packages (from sagemaker) (1.22.4)\n",
      "Requirement already satisfied: protobuf<5.0,>=3.12 in /home/ec2-user/anaconda3/envs/python3/lib/python3.10/site-packages (from sagemaker) (4.25.3)\n",
      "Requirement already satisfied: smdebug-rulesconfig==1.0.1 in /home/ec2-user/anaconda3/envs/python3/lib/python3.10/site-packages (from sagemaker) (1.0.1)\n",
      "Requirement already satisfied: importlib-metadata<7.0,>=1.4.0 in /home/ec2-user/anaconda3/envs/python3/lib/python3.10/site-packages (from sagemaker) (6.11.0)\n",
      "Requirement already satisfied: packaging>=20.0 in /home/ec2-user/anaconda3/envs/python3/lib/python3.10/site-packages (from sagemaker) (21.3)\n",
      "Requirement already satisfied: pandas in /home/ec2-user/anaconda3/envs/python3/lib/python3.10/site-packages (from sagemaker) (2.2.1)\n",
      "Requirement already satisfied: pathos in /home/ec2-user/anaconda3/envs/python3/lib/python3.10/site-packages (from sagemaker) (0.3.2)\n",
      "Requirement already satisfied: schema in /home/ec2-user/anaconda3/envs/python3/lib/python3.10/site-packages (from sagemaker) (0.7.7)\n",
      "Requirement already satisfied: PyYAML~=6.0 in /home/ec2-user/anaconda3/envs/python3/lib/python3.10/site-packages (from sagemaker) (6.0.1)\n",
      "Requirement already satisfied: jsonschema in /home/ec2-user/anaconda3/envs/python3/lib/python3.10/site-packages (from sagemaker) (4.21.1)\n",
      "Requirement already satisfied: platformdirs in /home/ec2-user/anaconda3/envs/python3/lib/python3.10/site-packages (from sagemaker) (4.2.0)\n",
      "Requirement already satisfied: tblib<4,>=1.7.0 in /home/ec2-user/anaconda3/envs/python3/lib/python3.10/site-packages (from sagemaker) (3.0.0)\n",
      "Requirement already satisfied: urllib3<3.0.0,>=1.26.8 in /home/ec2-user/anaconda3/envs/python3/lib/python3.10/site-packages (from sagemaker) (2.2.1)\n",
      "Requirement already satisfied: docker in /home/ec2-user/anaconda3/envs/python3/lib/python3.10/site-packages (from sagemaker) (6.1.3)\n",
      "Requirement already satisfied: tqdm in /home/ec2-user/anaconda3/envs/python3/lib/python3.10/site-packages (from sagemaker) (4.66.2)\n",
      "Requirement already satisfied: psutil in /home/ec2-user/anaconda3/envs/python3/lib/python3.10/site-packages (from sagemaker) (5.9.8)\n",
      "Requirement already satisfied: SQLAlchemy<3,>=1.4 in /home/ec2-user/anaconda3/envs/python3/lib/python3.10/site-packages (from langchain) (2.0.29)\n",
      "Requirement already satisfied: aiohttp<4.0.0,>=3.8.3 in /home/ec2-user/anaconda3/envs/python3/lib/python3.10/site-packages (from langchain) (3.9.3)\n",
      "Requirement already satisfied: async-timeout<5.0.0,>=4.0.0 in /home/ec2-user/anaconda3/envs/python3/lib/python3.10/site-packages (from langchain) (4.0.3)\n",
      "Collecting langsmith<0.2.0,>=0.1.17 (from langchain)\n",
      "  Downloading langsmith-0.1.84-py3-none-any.whl.metadata (13 kB)\n",
      "Collecting pydantic<3,>=1 (from langchain)\n",
      "  Downloading pydantic-2.8.2-py3-none-any.whl.metadata (125 kB)\n",
      "\u001b[2K     \u001b[90m━━━━━━━━━━━━━━━━━━━━━━━━━━━━━━━━━━━━━━\u001b[0m \u001b[32m125.2/125.2 kB\u001b[0m \u001b[31m16.0 MB/s\u001b[0m eta \u001b[36m0:00:00\u001b[0m\n",
      "\u001b[?25hRequirement already satisfied: tenacity!=8.4.0,<9.0.0,>=8.1.0 in /home/ec2-user/anaconda3/envs/python3/lib/python3.10/site-packages (from langchain) (8.2.3)\n",
      "Collecting dataclasses-json<0.7,>=0.5.7 (from langchain-community)\n",
      "  Downloading dataclasses_json-0.6.7-py3-none-any.whl.metadata (25 kB)\n",
      "Collecting jsonpatch<2.0,>=1.33 (from langchain-core)\n",
      "  Downloading jsonpatch-1.33-py2.py3-none-any.whl.metadata (3.0 kB)\n",
      "Collecting packaging>=20.0 (from sagemaker)\n",
      "  Downloading packaging-24.1-py3-none-any.whl.metadata (3.2 kB)\n",
      "Requirement already satisfied: charset-normalizer<4,>=2 in /home/ec2-user/anaconda3/envs/python3/lib/python3.10/site-packages (from requests) (3.3.2)\n",
      "Requirement already satisfied: idna<4,>=2.5 in /home/ec2-user/anaconda3/envs/python3/lib/python3.10/site-packages (from requests) (3.6)\n",
      "Requirement already satisfied: certifi>=2017.4.17 in /home/ec2-user/anaconda3/envs/python3/lib/python3.10/site-packages (from requests) (2024.2.2)\n",
      "Requirement already satisfied: six in /home/ec2-user/anaconda3/envs/python3/lib/python3.10/site-packages (from opensearch-py) (1.16.0)\n",
      "Requirement already satisfied: python-dateutil in /home/ec2-user/anaconda3/envs/python3/lib/python3.10/site-packages (from opensearch-py) (2.9.0)\n",
      "Collecting Events (from opensearch-py)\n",
      "  Downloading Events-0.5-py3-none-any.whl.metadata (3.9 kB)\n",
      "Collecting transformers<5.0.0,>=4.34.0 (from sentence-transformers)\n",
      "  Downloading transformers-4.42.3-py3-none-any.whl.metadata (43 kB)\n",
      "\u001b[2K     \u001b[90m━━━━━━━━━━━━━━━━━━━━━━━━━━━━━━━━━━━━━━━━\u001b[0m \u001b[32m43.6/43.6 kB\u001b[0m \u001b[31m9.3 MB/s\u001b[0m eta \u001b[36m0:00:00\u001b[0m\n",
      "\u001b[?25hCollecting torch>=1.11.0 (from sentence-transformers)\n",
      "  Downloading torch-2.3.1-cp310-cp310-manylinux1_x86_64.whl.metadata (26 kB)\n",
      "Requirement already satisfied: scikit-learn in /home/ec2-user/anaconda3/envs/python3/lib/python3.10/site-packages (from sentence-transformers) (1.4.1.post1)\n",
      "Requirement already satisfied: scipy in /home/ec2-user/anaconda3/envs/python3/lib/python3.10/site-packages (from sentence-transformers) (1.12.0)\n",
      "Collecting huggingface-hub>=0.15.1 (from sentence-transformers)\n",
      "  Downloading huggingface_hub-0.23.4-py3-none-any.whl.metadata (12 kB)\n",
      "Requirement already satisfied: Pillow in /home/ec2-user/anaconda3/envs/python3/lib/python3.10/site-packages (from sentence-transformers) (10.2.0)\n",
      "Collecting grpcio>=1.41.0 (from qdrant-client)\n",
      "  Downloading grpcio-1.64.1-cp310-cp310-manylinux_2_17_x86_64.manylinux2014_x86_64.whl.metadata (3.3 kB)\n",
      "Collecting grpcio-tools>=1.41.0 (from qdrant-client)\n",
      "  Downloading grpcio_tools-1.64.1-cp310-cp310-manylinux_2_17_x86_64.manylinux2014_x86_64.whl.metadata (5.3 kB)\n",
      "Requirement already satisfied: httpx>=0.20.0 in /home/ec2-user/anaconda3/envs/python3/lib/python3.10/site-packages (from httpx[http2]>=0.20.0->qdrant-client) (0.27.0)\n",
      "Collecting portalocker<3.0.0,>=2.7.0 (from qdrant-client)\n",
      "  Downloading portalocker-2.10.0-py3-none-any.whl.metadata (8.5 kB)\n",
      "Requirement already satisfied: aiosignal>=1.1.2 in /home/ec2-user/anaconda3/envs/python3/lib/python3.10/site-packages (from aiohttp<4.0.0,>=3.8.3->langchain) (1.3.1)\n",
      "Requirement already satisfied: frozenlist>=1.1.1 in /home/ec2-user/anaconda3/envs/python3/lib/python3.10/site-packages (from aiohttp<4.0.0,>=3.8.3->langchain) (1.4.1)\n",
      "Requirement already satisfied: multidict<7.0,>=4.5 in /home/ec2-user/anaconda3/envs/python3/lib/python3.10/site-packages (from aiohttp<4.0.0,>=3.8.3->langchain) (6.0.5)\n",
      "Requirement already satisfied: yarl<2.0,>=1.0 in /home/ec2-user/anaconda3/envs/python3/lib/python3.10/site-packages (from aiohttp<4.0.0,>=3.8.3->langchain) (1.9.4)\n",
      "Collecting marshmallow<4.0.0,>=3.18.0 (from dataclasses-json<0.7,>=0.5.7->langchain-community)\n",
      "  Downloading marshmallow-3.21.3-py3-none-any.whl.metadata (7.1 kB)\n",
      "Collecting typing-inspect<1,>=0.4.0 (from dataclasses-json<0.7,>=0.5.7->langchain-community)\n",
      "  Downloading typing_inspect-0.9.0-py3-none-any.whl.metadata (1.5 kB)\n",
      "INFO: pip is looking at multiple versions of grpcio-tools to determine which version is compatible with other requirements. This could take a while.\n",
      "Collecting grpcio-tools>=1.41.0 (from qdrant-client)\n",
      "  Downloading grpcio_tools-1.64.0-cp310-cp310-manylinux_2_17_x86_64.manylinux2014_x86_64.whl.metadata (5.3 kB)\n",
      "  Downloading grpcio_tools-1.63.0-cp310-cp310-manylinux_2_17_x86_64.manylinux2014_x86_64.whl.metadata (5.3 kB)\n",
      "  Downloading grpcio_tools-1.62.2-cp310-cp310-manylinux_2_17_x86_64.manylinux2014_x86_64.whl.metadata (6.2 kB)\n",
      "Requirement already satisfied: setuptools in /home/ec2-user/anaconda3/envs/python3/lib/python3.10/site-packages (from grpcio-tools>=1.41.0->qdrant-client) (69.2.0)\n",
      "Requirement already satisfied: anyio in /home/ec2-user/anaconda3/envs/python3/lib/python3.10/site-packages (from httpx>=0.20.0->httpx[http2]>=0.20.0->qdrant-client) (4.3.0)\n",
      "Requirement already satisfied: httpcore==1.* in /home/ec2-user/anaconda3/envs/python3/lib/python3.10/site-packages (from httpx>=0.20.0->httpx[http2]>=0.20.0->qdrant-client) (1.0.4)\n",
      "Requirement already satisfied: sniffio in /home/ec2-user/anaconda3/envs/python3/lib/python3.10/site-packages (from httpx>=0.20.0->httpx[http2]>=0.20.0->qdrant-client) (1.3.1)\n",
      "Requirement already satisfied: h11<0.15,>=0.13 in /home/ec2-user/anaconda3/envs/python3/lib/python3.10/site-packages (from httpcore==1.*->httpx>=0.20.0->httpx[http2]>=0.20.0->qdrant-client) (0.14.0)\n",
      "Requirement already satisfied: h2<5,>=3 in /home/ec2-user/anaconda3/envs/python3/lib/python3.10/site-packages (from httpx[http2]>=0.20.0->qdrant-client) (4.1.0)\n",
      "Requirement already satisfied: filelock in /home/ec2-user/anaconda3/envs/python3/lib/python3.10/site-packages (from huggingface-hub>=0.15.1->sentence-transformers) (3.13.3)\n",
      "Requirement already satisfied: fsspec>=2023.5.0 in /home/ec2-user/anaconda3/envs/python3/lib/python3.10/site-packages (from huggingface-hub>=0.15.1->sentence-transformers) (2024.3.1)\n",
      "Requirement already satisfied: typing-extensions>=3.7.4.3 in /home/ec2-user/anaconda3/envs/python3/lib/python3.10/site-packages (from huggingface-hub>=0.15.1->sentence-transformers) (4.10.0)\n",
      "Requirement already satisfied: zipp>=0.5 in /home/ec2-user/anaconda3/envs/python3/lib/python3.10/site-packages (from importlib-metadata<7.0,>=1.4.0->sagemaker) (3.17.0)\n",
      "Requirement already satisfied: jsonpointer>=1.9 in /home/ec2-user/anaconda3/envs/python3/lib/python3.10/site-packages (from jsonpatch<2.0,>=1.33->langchain-core) (2.4)\n",
      "Collecting orjson<4.0.0,>=3.9.14 (from langsmith<0.2.0,>=0.1.17->langchain)\n",
      "  Downloading orjson-3.10.6-cp310-cp310-manylinux_2_17_x86_64.manylinux2014_x86_64.whl.metadata (50 kB)\n",
      "\u001b[2K     \u001b[90m━━━━━━━━━━━━━━━━━━━━━━━━━━━━━━━━━━━━━━━━\u001b[0m \u001b[32m50.4/50.4 kB\u001b[0m \u001b[31m13.6 MB/s\u001b[0m eta \u001b[36m0:00:00\u001b[0m\n",
      "\u001b[?25hCollecting annotated-types>=0.4.0 (from pydantic<3,>=1->langchain)\n",
      "  Downloading annotated_types-0.7.0-py3-none-any.whl.metadata (15 kB)\n",
      "Collecting pydantic-core==2.20.1 (from pydantic<3,>=1->langchain)\n",
      "  Downloading pydantic_core-2.20.1-cp310-cp310-manylinux_2_17_x86_64.manylinux2014_x86_64.whl.metadata (6.6 kB)\n",
      "Requirement already satisfied: greenlet!=0.4.17 in /home/ec2-user/anaconda3/envs/python3/lib/python3.10/site-packages (from SQLAlchemy<3,>=1.4->langchain) (3.0.3)\n",
      "Requirement already satisfied: sympy in /home/ec2-user/anaconda3/envs/python3/lib/python3.10/site-packages (from torch>=1.11.0->sentence-transformers) (1.12)\n",
      "Requirement already satisfied: networkx in /home/ec2-user/anaconda3/envs/python3/lib/python3.10/site-packages (from torch>=1.11.0->sentence-transformers) (3.2.1)\n",
      "Requirement already satisfied: jinja2 in /home/ec2-user/anaconda3/envs/python3/lib/python3.10/site-packages (from torch>=1.11.0->sentence-transformers) (3.1.3)\n",
      "Collecting nvidia-cuda-nvrtc-cu12==12.1.105 (from torch>=1.11.0->sentence-transformers)\n",
      "  Downloading nvidia_cuda_nvrtc_cu12-12.1.105-py3-none-manylinux1_x86_64.whl.metadata (1.5 kB)\n",
      "Collecting nvidia-cuda-runtime-cu12==12.1.105 (from torch>=1.11.0->sentence-transformers)\n",
      "  Downloading nvidia_cuda_runtime_cu12-12.1.105-py3-none-manylinux1_x86_64.whl.metadata (1.5 kB)\n",
      "Collecting nvidia-cuda-cupti-cu12==12.1.105 (from torch>=1.11.0->sentence-transformers)\n",
      "  Downloading nvidia_cuda_cupti_cu12-12.1.105-py3-none-manylinux1_x86_64.whl.metadata (1.6 kB)\n",
      "Collecting nvidia-cudnn-cu12==8.9.2.26 (from torch>=1.11.0->sentence-transformers)\n",
      "  Downloading nvidia_cudnn_cu12-8.9.2.26-py3-none-manylinux1_x86_64.whl.metadata (1.6 kB)\n",
      "Collecting nvidia-cublas-cu12==12.1.3.1 (from torch>=1.11.0->sentence-transformers)\n",
      "  Downloading nvidia_cublas_cu12-12.1.3.1-py3-none-manylinux1_x86_64.whl.metadata (1.5 kB)\n",
      "Collecting nvidia-cufft-cu12==11.0.2.54 (from torch>=1.11.0->sentence-transformers)\n",
      "  Downloading nvidia_cufft_cu12-11.0.2.54-py3-none-manylinux1_x86_64.whl.metadata (1.5 kB)\n",
      "Collecting nvidia-curand-cu12==10.3.2.106 (from torch>=1.11.0->sentence-transformers)\n",
      "  Downloading nvidia_curand_cu12-10.3.2.106-py3-none-manylinux1_x86_64.whl.metadata (1.5 kB)\n",
      "Collecting nvidia-cusolver-cu12==11.4.5.107 (from torch>=1.11.0->sentence-transformers)\n",
      "  Downloading nvidia_cusolver_cu12-11.4.5.107-py3-none-manylinux1_x86_64.whl.metadata (1.6 kB)\n",
      "Collecting nvidia-cusparse-cu12==12.1.0.106 (from torch>=1.11.0->sentence-transformers)\n",
      "  Downloading nvidia_cusparse_cu12-12.1.0.106-py3-none-manylinux1_x86_64.whl.metadata (1.6 kB)\n",
      "Collecting nvidia-nccl-cu12==2.20.5 (from torch>=1.11.0->sentence-transformers)\n",
      "  Downloading nvidia_nccl_cu12-2.20.5-py3-none-manylinux2014_x86_64.whl.metadata (1.8 kB)\n",
      "Collecting nvidia-nvtx-cu12==12.1.105 (from torch>=1.11.0->sentence-transformers)\n",
      "  Downloading nvidia_nvtx_cu12-12.1.105-py3-none-manylinux1_x86_64.whl.metadata (1.7 kB)\n",
      "Collecting triton==2.3.1 (from torch>=1.11.0->sentence-transformers)\n",
      "  Downloading triton-2.3.1-cp310-cp310-manylinux_2_17_x86_64.manylinux2014_x86_64.whl.metadata (1.4 kB)\n",
      "Collecting nvidia-nvjitlink-cu12 (from nvidia-cusolver-cu12==11.4.5.107->torch>=1.11.0->sentence-transformers)\n",
      "  Downloading nvidia_nvjitlink_cu12-12.5.82-py3-none-manylinux2014_x86_64.whl.metadata (1.5 kB)\n",
      "Requirement already satisfied: regex!=2019.12.17 in /home/ec2-user/anaconda3/envs/python3/lib/python3.10/site-packages (from transformers<5.0.0,>=4.34.0->sentence-transformers) (2023.12.25)\n",
      "Collecting safetensors>=0.4.1 (from transformers<5.0.0,>=4.34.0->sentence-transformers)\n",
      "  Downloading safetensors-0.4.3-cp310-cp310-manylinux_2_17_x86_64.manylinux2014_x86_64.whl.metadata (3.8 kB)\n",
      "Collecting tokenizers<0.20,>=0.19 (from transformers<5.0.0,>=4.34.0->sentence-transformers)\n",
      "  Downloading tokenizers-0.19.1-cp310-cp310-manylinux_2_17_x86_64.manylinux2014_x86_64.whl.metadata (6.7 kB)\n",
      "Requirement already satisfied: websocket-client>=0.32.0 in /home/ec2-user/anaconda3/envs/python3/lib/python3.10/site-packages (from docker->sagemaker) (1.7.0)\n",
      "Requirement already satisfied: jsonschema-specifications>=2023.03.6 in /home/ec2-user/anaconda3/envs/python3/lib/python3.10/site-packages (from jsonschema->sagemaker) (2023.12.1)\n",
      "Requirement already satisfied: referencing>=0.28.4 in /home/ec2-user/anaconda3/envs/python3/lib/python3.10/site-packages (from jsonschema->sagemaker) (0.34.0)\n",
      "Requirement already satisfied: rpds-py>=0.7.1 in /home/ec2-user/anaconda3/envs/python3/lib/python3.10/site-packages (from jsonschema->sagemaker) (0.18.0)\n",
      "Requirement already satisfied: pytz>=2020.1 in /home/ec2-user/anaconda3/envs/python3/lib/python3.10/site-packages (from pandas->sagemaker) (2024.1)\n",
      "Requirement already satisfied: tzdata>=2022.7 in /home/ec2-user/anaconda3/envs/python3/lib/python3.10/site-packages (from pandas->sagemaker) (2024.1)\n",
      "Requirement already satisfied: ppft>=1.7.6.8 in /home/ec2-user/anaconda3/envs/python3/lib/python3.10/site-packages (from pathos->sagemaker) (1.7.6.8)\n",
      "Requirement already satisfied: dill>=0.3.8 in /home/ec2-user/anaconda3/envs/python3/lib/python3.10/site-packages (from pathos->sagemaker) (0.3.8)\n",
      "Requirement already satisfied: pox>=0.3.4 in /home/ec2-user/anaconda3/envs/python3/lib/python3.10/site-packages (from pathos->sagemaker) (0.3.4)\n",
      "Requirement already satisfied: multiprocess>=0.70.16 in /home/ec2-user/anaconda3/envs/python3/lib/python3.10/site-packages (from pathos->sagemaker) (0.70.16)\n",
      "Requirement already satisfied: joblib>=1.2.0 in /home/ec2-user/anaconda3/envs/python3/lib/python3.10/site-packages (from scikit-learn->sentence-transformers) (1.3.2)\n",
      "Requirement already satisfied: threadpoolctl>=2.0.0 in /home/ec2-user/anaconda3/envs/python3/lib/python3.10/site-packages (from scikit-learn->sentence-transformers) (3.4.0)\n",
      "Requirement already satisfied: hyperframe<7,>=6.0 in /home/ec2-user/anaconda3/envs/python3/lib/python3.10/site-packages (from h2<5,>=3->httpx[http2]>=0.20.0->qdrant-client) (6.0.1)\n",
      "Requirement already satisfied: hpack<5,>=4.0 in /home/ec2-user/anaconda3/envs/python3/lib/python3.10/site-packages (from h2<5,>=3->httpx[http2]>=0.20.0->qdrant-client) (4.0.0)\n",
      "Requirement already satisfied: mypy-extensions>=0.3.0 in /home/ec2-user/anaconda3/envs/python3/lib/python3.10/site-packages (from typing-inspect<1,>=0.4.0->dataclasses-json<0.7,>=0.5.7->langchain-community) (1.0.0)\n",
      "Requirement already satisfied: exceptiongroup>=1.0.2 in /home/ec2-user/anaconda3/envs/python3/lib/python3.10/site-packages (from anyio->httpx>=0.20.0->httpx[http2]>=0.20.0->qdrant-client) (1.2.0)\n",
      "Requirement already satisfied: MarkupSafe>=2.0 in /home/ec2-user/anaconda3/envs/python3/lib/python3.10/site-packages (from jinja2->torch>=1.11.0->sentence-transformers) (2.1.5)\n",
      "Requirement already satisfied: mpmath>=0.19 in /home/ec2-user/anaconda3/envs/python3/lib/python3.10/site-packages (from sympy->torch>=1.11.0->sentence-transformers) (1.3.0)\n",
      "Downloading boto3-1.34.141-py3-none-any.whl (139 kB)\n",
      "\u001b[2K   \u001b[90m━━━━━━━━━━━━━━━━━━━━━━━━━━━━━━━━━━━━━━━━\u001b[0m \u001b[32m139.2/139.2 kB\u001b[0m \u001b[31m18.0 MB/s\u001b[0m eta \u001b[36m0:00:00\u001b[0m\n",
      "\u001b[?25hDownloading sagemaker-2.224.4-py3-none-any.whl (1.5 MB)\n",
      "\u001b[2K   \u001b[90m━━━━━━━━━━━━━━━━━━━━━━━━━━━━━━━━━━━━━━━━\u001b[0m \u001b[32m1.5/1.5 MB\u001b[0m \u001b[31m104.5 MB/s\u001b[0m eta \u001b[36m0:00:00\u001b[0m\n",
      "\u001b[?25hDownloading langchain-0.2.7-py3-none-any.whl (983 kB)\n",
      "\u001b[2K   \u001b[90m━━━━━━━━━━━━━━━━━━━━━━━━━━━━━━━━━━━━━━━━\u001b[0m \u001b[32m983.6/983.6 kB\u001b[0m \u001b[31m95.2 MB/s\u001b[0m eta \u001b[36m0:00:00\u001b[0m\n",
      "\u001b[?25hDownloading langchain_community-0.2.6-py3-none-any.whl (2.2 MB)\n",
      "\u001b[2K   \u001b[90m━━━━━━━━━━━━━━━━━━━━━━━━━━━━━━━━━━━━━━━━\u001b[0m \u001b[32m2.2/2.2 MB\u001b[0m \u001b[31m103.9 MB/s\u001b[0m eta \u001b[36m0:00:00\u001b[0m\n",
      "\u001b[?25hDownloading langchain_core-0.2.12-py3-none-any.whl (355 kB)\n",
      "\u001b[2K   \u001b[90m━━━━━━━━━━━━━━━━━━━━━━━━━━━━━━━━━━━━━━━━\u001b[0m \u001b[32m355.8/355.8 kB\u001b[0m \u001b[31m49.4 MB/s\u001b[0m eta \u001b[36m0:00:00\u001b[0m\n",
      "\u001b[?25hDownloading faiss_cpu-1.8.0.post1-cp310-cp310-manylinux_2_17_x86_64.manylinux2014_x86_64.whl (27.0 MB)\n",
      "\u001b[2K   \u001b[90m━━━━━━━━━━━━━━━━━━━━━━━━━━━━━━━━━━━━━━━━\u001b[0m \u001b[32m27.0/27.0 MB\u001b[0m \u001b[31m56.7 MB/s\u001b[0m eta \u001b[36m0:00:00\u001b[0m:00:01\u001b[0m00:01\u001b[0m\n",
      "\u001b[?25hDownloading requests-2.32.3-py3-none-any.whl (64 kB)\n",
      "\u001b[2K   \u001b[90m━━━━━━━━━━━━━━━━━━━━━━━━━━━━━━━━━━━━━━━━\u001b[0m \u001b[32m64.9/64.9 kB\u001b[0m \u001b[31m16.2 MB/s\u001b[0m eta \u001b[36m0:00:00\u001b[0m\n",
      "\u001b[?25hDownloading opensearch_py-2.6.0-py2.py3-none-any.whl (311 kB)\n",
      "\u001b[2K   \u001b[90m━━━━━━━━━━━━━━━━━━━━━━━━━━━━━━━━━━━━━━━━\u001b[0m \u001b[32m311.2/311.2 kB\u001b[0m \u001b[31m53.4 MB/s\u001b[0m eta \u001b[36m0:00:00\u001b[0m\n",
      "\u001b[?25hDownloading sentence_transformers-3.0.1-py3-none-any.whl (227 kB)\n",
      "\u001b[2K   \u001b[90m━━━━━━━━━━━━━━━━━━━━━━━━━━━━━━━━━━━━━━━━\u001b[0m \u001b[32m227.1/227.1 kB\u001b[0m \u001b[31m47.6 MB/s\u001b[0m eta \u001b[36m0:00:00\u001b[0m\n",
      "\u001b[?25hDownloading langchain_text_splitters-0.2.2-py3-none-any.whl (25 kB)\n",
      "Downloading requests_aws4auth-1.2.3-py2.py3-none-any.whl (24 kB)\n",
      "Downloading qdrant_client-1.10.1-py3-none-any.whl (254 kB)\n",
      "\u001b[2K   \u001b[90m━━━━━━━━━━━━━━━━━━━━━━━━━━━━━━━━━━━━━━━━\u001b[0m \u001b[32m254.1/254.1 kB\u001b[0m \u001b[31m39.0 MB/s\u001b[0m eta \u001b[36m0:00:00\u001b[0m\n",
      "\u001b[?25hDownloading botocore-1.34.141-py3-none-any.whl (12.4 MB)\n",
      "\u001b[2K   \u001b[90m━━━━━━━━━━━━━━━━━━━━━━━━━━━━━━━━━━━━━━━━\u001b[0m \u001b[32m12.4/12.4 MB\u001b[0m \u001b[31m92.7 MB/s\u001b[0m eta \u001b[36m0:00:00\u001b[0m:00:01\u001b[0m0:01\u001b[0m\n",
      "\u001b[?25hDownloading dataclasses_json-0.6.7-py3-none-any.whl (28 kB)\n",
      "Downloading grpcio-1.64.1-cp310-cp310-manylinux_2_17_x86_64.manylinux2014_x86_64.whl (5.6 MB)\n",
      "\u001b[2K   \u001b[90m━━━━━━━━━━━━━━━━━━━━━━━━━━━━━━━━━━━━━━━━\u001b[0m \u001b[32m5.6/5.6 MB\u001b[0m \u001b[31m124.7 MB/s\u001b[0m eta \u001b[36m0:00:00\u001b[0m00:01\u001b[0m\n",
      "\u001b[?25hDownloading grpcio_tools-1.62.2-cp310-cp310-manylinux_2_17_x86_64.manylinux2014_x86_64.whl (2.8 MB)\n",
      "\u001b[2K   \u001b[90m━━━━━━━━━━━━━━━━━━━━━━━━━━━━━━━━━━━━━━━━\u001b[0m \u001b[32m2.8/2.8 MB\u001b[0m \u001b[31m93.4 MB/s\u001b[0m eta \u001b[36m0:00:00\u001b[0m\n",
      "\u001b[?25hDownloading huggingface_hub-0.23.4-py3-none-any.whl (402 kB)\n",
      "\u001b[2K   \u001b[90m━━━━━━━━━━━━━━━━━━━━━━━━━━━━━━━━━━━━━━━━\u001b[0m \u001b[32m402.6/402.6 kB\u001b[0m \u001b[31m51.4 MB/s\u001b[0m eta \u001b[36m0:00:00\u001b[0m\n",
      "\u001b[?25hDownloading jsonpatch-1.33-py2.py3-none-any.whl (12 kB)\n",
      "Downloading langsmith-0.1.84-py3-none-any.whl (127 kB)\n",
      "\u001b[2K   \u001b[90m━━━━━━━━━━━━━━━━━━━━━━━━━━━━━━━━━━━━━━━━\u001b[0m \u001b[32m127.9/127.9 kB\u001b[0m \u001b[31m30.0 MB/s\u001b[0m eta \u001b[36m0:00:00\u001b[0m\n",
      "\u001b[?25hDownloading packaging-24.1-py3-none-any.whl (53 kB)\n",
      "\u001b[2K   \u001b[90m━━━━━━━━━━━━━━━━━━━━━━━━━━━━━━━━━━━━━━━━\u001b[0m \u001b[32m54.0/54.0 kB\u001b[0m \u001b[31m12.7 MB/s\u001b[0m eta \u001b[36m0:00:00\u001b[0m\n",
      "\u001b[?25hDownloading portalocker-2.10.0-py3-none-any.whl (18 kB)\n",
      "Downloading pydantic-2.8.2-py3-none-any.whl (423 kB)\n",
      "\u001b[2K   \u001b[90m━━━━━━━━━━━━━━━━━━━━━━━━━━━━━━━━━━━━━━━━\u001b[0m \u001b[32m423.9/423.9 kB\u001b[0m \u001b[31m56.6 MB/s\u001b[0m eta \u001b[36m0:00:00\u001b[0m\n",
      "\u001b[?25hDownloading pydantic_core-2.20.1-cp310-cp310-manylinux_2_17_x86_64.manylinux2014_x86_64.whl (2.1 MB)\n",
      "\u001b[2K   \u001b[90m━━━━━━━━━━━━━━━━━━━━━━━━━━━━━━━━━━━━━━━━\u001b[0m \u001b[32m2.1/2.1 MB\u001b[0m \u001b[31m103.5 MB/s\u001b[0m eta \u001b[36m0:00:00\u001b[0m\n",
      "\u001b[?25hDownloading torch-2.3.1-cp310-cp310-manylinux1_x86_64.whl (779.1 MB)\n",
      "\u001b[2K   \u001b[90m━━━━━━━━━━━━━━━━━━━━━━━━━━━━━━━━━━━━━━━━\u001b[0m \u001b[32m779.1/779.1 MB\u001b[0m \u001b[31m1.5 MB/s\u001b[0m eta \u001b[36m0:00:00\u001b[0m:00:01\u001b[0m00:01\u001b[0m\n",
      "\u001b[?25hDownloading nvidia_cublas_cu12-12.1.3.1-py3-none-manylinux1_x86_64.whl (410.6 MB)\n",
      "\u001b[2K   \u001b[90m━━━━━━━━━━━━━━━━━━━━━━━━━━━━━━━━━━━━━━━━\u001b[0m \u001b[32m410.6/410.6 MB\u001b[0m \u001b[31m2.3 MB/s\u001b[0m eta \u001b[36m0:00:00\u001b[0m:00:01\u001b[0m00:01\u001b[0m\n",
      "\u001b[?25hDownloading nvidia_cuda_cupti_cu12-12.1.105-py3-none-manylinux1_x86_64.whl (14.1 MB)\n",
      "\u001b[2K   \u001b[90m━━━━━━━━━━━━━━━━━━━━━━━━━━━━━━━━━━━━━━━━\u001b[0m \u001b[32m14.1/14.1 MB\u001b[0m \u001b[31m40.0 MB/s\u001b[0m eta \u001b[36m0:00:00\u001b[0m:00:01\u001b[0m0:01\u001b[0m\n",
      "\u001b[?25hDownloading nvidia_cuda_nvrtc_cu12-12.1.105-py3-none-manylinux1_x86_64.whl (23.7 MB)\n",
      "\u001b[2K   \u001b[90m━━━━━━━━━━━━━━━━━━━━━━━━━━━━━━━━━━━━━━━━\u001b[0m \u001b[32m23.7/23.7 MB\u001b[0m \u001b[31m29.7 MB/s\u001b[0m eta \u001b[36m0:00:00\u001b[0m:00:01\u001b[0m00:01\u001b[0m\n",
      "\u001b[?25hDownloading nvidia_cuda_runtime_cu12-12.1.105-py3-none-manylinux1_x86_64.whl (823 kB)\n",
      "\u001b[2K   \u001b[90m━━━━━━━━━━━━━━━━━━━━━━━━━━━━━━━━━━━━━━━━\u001b[0m \u001b[32m823.6/823.6 kB\u001b[0m \u001b[31m16.4 MB/s\u001b[0m eta \u001b[36m0:00:00\u001b[0m00:01\u001b[0m\n",
      "\u001b[?25hDownloading nvidia_cudnn_cu12-8.9.2.26-py3-none-manylinux1_x86_64.whl (731.7 MB)\n",
      "\u001b[2K   \u001b[90m━━━━━━━━━━━━━━━━━━━━━━━━━━━━━━━━━━━━━━━━\u001b[0m \u001b[32m731.7/731.7 MB\u001b[0m \u001b[31m1.4 MB/s\u001b[0m eta \u001b[36m0:00:00\u001b[0m:00:01\u001b[0m00:01\u001b[0m\n",
      "\u001b[?25hDownloading nvidia_cufft_cu12-11.0.2.54-py3-none-manylinux1_x86_64.whl (121.6 MB)\n",
      "\u001b[2K   \u001b[90m━━━━━━━━━━━━━━━━━━━━━━━━━━━━━━━━━━━━━━━━\u001b[0m \u001b[32m121.6/121.6 MB\u001b[0m \u001b[31m18.2 MB/s\u001b[0m eta \u001b[36m0:00:00\u001b[0m00:01\u001b[0m00:01\u001b[0m\n",
      "\u001b[?25hDownloading nvidia_curand_cu12-10.3.2.106-py3-none-manylinux1_x86_64.whl (56.5 MB)\n",
      "\u001b[2K   \u001b[90m━━━━━━━━━━━━━━━━━━━━━━━━━━━━━━━━━━━━━━━━\u001b[0m \u001b[32m56.5/56.5 MB\u001b[0m \u001b[31m38.3 MB/s\u001b[0m eta \u001b[36m0:00:00\u001b[0m:00:01\u001b[0m00:01\u001b[0m\n",
      "\u001b[?25hDownloading nvidia_cusolver_cu12-11.4.5.107-py3-none-manylinux1_x86_64.whl (124.2 MB)\n",
      "\u001b[2K   \u001b[90m━━━━━━━━━━━━━━━━━━━━━━━━━━━━━━━━━━━━━━━━\u001b[0m \u001b[32m124.2/124.2 MB\u001b[0m \u001b[31m11.9 MB/s\u001b[0m eta \u001b[36m0:00:00\u001b[0m00:01\u001b[0m00:01\u001b[0m\n",
      "\u001b[?25hDownloading nvidia_cusparse_cu12-12.1.0.106-py3-none-manylinux1_x86_64.whl (196.0 MB)\n",
      "\u001b[2K   \u001b[90m━━━━━━━━━━━━━━━━━━━━━━━━━━━━━━━━━━━━━━━━\u001b[0m \u001b[32m196.0/196.0 MB\u001b[0m \u001b[31m5.0 MB/s\u001b[0m eta \u001b[36m0:00:00\u001b[0m:00:01\u001b[0m00:01\u001b[0m\n",
      "\u001b[?25hDownloading nvidia_nccl_cu12-2.20.5-py3-none-manylinux2014_x86_64.whl (176.2 MB)\n",
      "\u001b[2K   \u001b[90m━━━━━━━━━━━━━━━━━━━━━━━━━━━━━━━━━━━━━━━━\u001b[0m \u001b[32m176.2/176.2 MB\u001b[0m \u001b[31m5.3 MB/s\u001b[0m eta \u001b[36m0:00:00\u001b[0m:00:01\u001b[0m00:01\u001b[0m\n",
      "\u001b[?25hDownloading nvidia_nvtx_cu12-12.1.105-py3-none-manylinux1_x86_64.whl (99 kB)\n",
      "\u001b[2K   \u001b[90m━━━━━━━━━━━━━━━━━━━━━━━━━━━━━━━━━━━━━━━━\u001b[0m \u001b[32m99.1/99.1 kB\u001b[0m \u001b[31m1.7 MB/s\u001b[0m eta \u001b[36m0:00:00\u001b[0meta \u001b[36m0:00:01\u001b[0m\n",
      "\u001b[?25hDownloading triton-2.3.1-cp310-cp310-manylinux_2_17_x86_64.manylinux2014_x86_64.whl (168.1 MB)\n",
      "\u001b[2K   \u001b[90m━━━━━━━━━━━━━━━━━━━━━━━━━━━━━━━━━━━━━━━━\u001b[0m \u001b[32m168.1/168.1 MB\u001b[0m \u001b[31m5.7 MB/s\u001b[0m eta \u001b[36m0:00:00\u001b[0m:00:01\u001b[0m00:01\u001b[0m\n",
      "\u001b[?25hDownloading transformers-4.42.3-py3-none-any.whl (9.3 MB)\n",
      "\u001b[2K   \u001b[90m━━━━━━━━━━━━━━━━━━━━━━━━━━━━━━━━━━━━━━━━\u001b[0m \u001b[32m9.3/9.3 MB\u001b[0m \u001b[31m46.3 MB/s\u001b[0m eta \u001b[36m0:00:00\u001b[0m:00:01\u001b[0m00:01\u001b[0m\n",
      "\u001b[?25hDownloading Events-0.5-py3-none-any.whl (6.8 kB)\n",
      "Downloading annotated_types-0.7.0-py3-none-any.whl (13 kB)\n",
      "Downloading marshmallow-3.21.3-py3-none-any.whl (49 kB)\n",
      "\u001b[2K   \u001b[90m━━━━━━━━━━━━━━━━━━━━━━━━━━━━━━━━━━━━━━━━\u001b[0m \u001b[32m49.2/49.2 kB\u001b[0m \u001b[31m966.4 kB/s\u001b[0m eta \u001b[36m0:00:00\u001b[0ma \u001b[36m0:00:01\u001b[0m\n",
      "\u001b[?25hDownloading orjson-3.10.6-cp310-cp310-manylinux_2_17_x86_64.manylinux2014_x86_64.whl (141 kB)\n",
      "\u001b[2K   \u001b[90m━━━━━━━━━━━━━━━━━━━━━━━━━━━━━━━━━━━━━━━━\u001b[0m \u001b[32m141.1/141.1 kB\u001b[0m \u001b[31m3.5 MB/s\u001b[0m eta \u001b[36m0:00:00\u001b[0mta \u001b[36m0:00:01\u001b[0m\n",
      "\u001b[?25hDownloading safetensors-0.4.3-cp310-cp310-manylinux_2_17_x86_64.manylinux2014_x86_64.whl (1.2 MB)\n",
      "\u001b[2K   \u001b[90m━━━━━━━━━━━━━━━━━━━━━━━━━━━━━━━━━━━━━━━━\u001b[0m \u001b[32m1.2/1.2 MB\u001b[0m \u001b[31m17.8 MB/s\u001b[0m eta \u001b[36m0:00:00\u001b[0m:00:01\u001b[0m\n",
      "\u001b[?25hDownloading tokenizers-0.19.1-cp310-cp310-manylinux_2_17_x86_64.manylinux2014_x86_64.whl (3.6 MB)\n",
      "\u001b[2K   \u001b[90m━━━━━━━━━━━━━━━━━━━━━━━━━━━━━━━━━━━━━━━━\u001b[0m \u001b[32m3.6/3.6 MB\u001b[0m \u001b[31m36.7 MB/s\u001b[0m eta \u001b[36m0:00:00\u001b[0m:00:01\u001b[0m\n",
      "\u001b[?25hDownloading typing_inspect-0.9.0-py3-none-any.whl (8.8 kB)\n",
      "Downloading nvidia_nvjitlink_cu12-12.5.82-py3-none-manylinux2014_x86_64.whl (21.3 MB)\n",
      "\u001b[2K   \u001b[90m━━━━━━━━━━━━━━━━━━━━━━━━━━━━━━━━━━━━━━━━\u001b[0m \u001b[32m21.3/21.3 MB\u001b[0m \u001b[31m32.7 MB/s\u001b[0m eta \u001b[36m0:00:00\u001b[0m:00:01\u001b[0m00:01\u001b[0m\n",
      "\u001b[?25hInstalling collected packages: Events, typing-inspect, triton, safetensors, requests, pydantic-core, portalocker, packaging, orjson, nvidia-nvtx-cu12, nvidia-nvjitlink-cu12, nvidia-nccl-cu12, nvidia-curand-cu12, nvidia-cufft-cu12, nvidia-cuda-runtime-cu12, nvidia-cuda-nvrtc-cu12, nvidia-cuda-cupti-cu12, nvidia-cublas-cu12, jsonpatch, grpcio, annotated-types, requests-aws4auth, pydantic, opensearch-py, nvidia-cusparse-cu12, nvidia-cudnn-cu12, marshmallow, huggingface-hub, grpcio-tools, faiss-cpu, botocore, tokenizers, nvidia-cusolver-cu12, langsmith, dataclasses-json, transformers, torch, qdrant-client, langchain-core, boto3, sentence-transformers, sagemaker, langchain-text-splitters, langchain, langchain-community\n",
      "  Attempting uninstall: requests\n",
      "    Found existing installation: requests 2.31.0\n",
      "    Uninstalling requests-2.31.0:\n",
      "      Successfully uninstalled requests-2.31.0\n",
      "  Attempting uninstall: packaging\n",
      "    Found existing installation: packaging 21.3\n",
      "    Uninstalling packaging-21.3:\n",
      "      Successfully uninstalled packaging-21.3\n",
      "  Attempting uninstall: botocore\n",
      "    Found existing installation: botocore 1.34.101\n",
      "    Uninstalling botocore-1.34.101:\n",
      "      Successfully uninstalled botocore-1.34.101\n",
      "  Attempting uninstall: boto3\n",
      "    Found existing installation: boto3 1.34.101\n",
      "    Uninstalling boto3-1.34.101:\n",
      "      Successfully uninstalled boto3-1.34.101\n",
      "  Attempting uninstall: sagemaker\n",
      "    Found existing installation: sagemaker 2.219.0\n",
      "    Uninstalling sagemaker-2.219.0:\n",
      "      Successfully uninstalled sagemaker-2.219.0\n",
      "\u001b[31mERROR: pip's dependency resolver does not currently take into account all the packages that are installed. This behaviour is the source of the following dependency conflicts.\n",
      "awscli 1.32.101 requires botocore==1.34.101, but you have botocore 1.34.141 which is incompatible.\n",
      "sparkmagic 0.21.0 requires pandas<2.0.0,>=0.17.1, but you have pandas 2.2.1 which is incompatible.\n",
      "sphinx 7.2.6 requires docutils<0.21,>=0.18.1, but you have docutils 0.16 which is incompatible.\u001b[0m\u001b[31m\n",
      "\u001b[0mSuccessfully installed Events-0.5 annotated-types-0.7.0 boto3-1.34.141 botocore-1.34.141 dataclasses-json-0.6.7 faiss-cpu-1.8.0.post1 grpcio-1.64.1 grpcio-tools-1.62.2 huggingface-hub-0.23.4 jsonpatch-1.33 langchain-0.2.7 langchain-community-0.2.6 langchain-core-0.2.12 langchain-text-splitters-0.2.2 langsmith-0.1.84 marshmallow-3.21.3 nvidia-cublas-cu12-12.1.3.1 nvidia-cuda-cupti-cu12-12.1.105 nvidia-cuda-nvrtc-cu12-12.1.105 nvidia-cuda-runtime-cu12-12.1.105 nvidia-cudnn-cu12-8.9.2.26 nvidia-cufft-cu12-11.0.2.54 nvidia-curand-cu12-10.3.2.106 nvidia-cusolver-cu12-11.4.5.107 nvidia-cusparse-cu12-12.1.0.106 nvidia-nccl-cu12-2.20.5 nvidia-nvjitlink-cu12-12.5.82 nvidia-nvtx-cu12-12.1.105 opensearch-py-2.6.0 orjson-3.10.6 packaging-24.1 portalocker-2.10.0 pydantic-2.8.2 pydantic-core-2.20.1 qdrant-client-1.10.1 requests-2.32.3 requests-aws4auth-1.2.3 safetensors-0.4.3 sagemaker-2.224.4 sentence-transformers-3.0.1 tokenizers-0.19.1 torch-2.3.1 transformers-4.42.3 triton-2.3.1 typing-inspect-0.9.0\n"
     ]
    }
   ],
   "source": [
    "!pip install boto3 sagemaker langchain langchain-community langchain-core faiss-cpu requests opensearch-py sentence-transformers langchain-text-splitters requests-aws4auth qdrant-client -U"
   ]
  },
  {
   "cell_type": "markdown",
   "id": "8c60fd86-2fdd-4921-b769-45a6d6ae1411",
   "metadata": {},
   "source": [
    "### Load CSV data from S3"
   ]
  },
  {
   "cell_type": "code",
   "execution_count": 2,
   "id": "b02d5178-7946-4ff5-bfdf-d8c784afd6cd",
   "metadata": {
    "tags": []
   },
   "outputs": [
    {
     "name": "stdout",
     "output_type": "stream",
     "text": [
      "/home/ec2-user/SageMaker/Enterprise-RAG/notebooks\n"
     ]
    }
   ],
   "source": [
    "!pwd"
   ]
  },
  {
   "cell_type": "code",
   "execution_count": 3,
   "id": "e42652b8-0122-4f47-b069-a398ae118afc",
   "metadata": {
    "tags": []
   },
   "outputs": [],
   "source": [
    "import boto3\n",
    "import pandas as pd\n",
    "\n",
    "s3 = boto3.client('s3')\n",
    "bucket_name = 'recipes-rag'"
   ]
  },
  {
   "cell_type": "code",
   "execution_count": 4,
   "id": "e1b9ad90-d5ac-4a82-9892-468c6e721c35",
   "metadata": {
    "tags": []
   },
   "outputs": [],
   "source": [
    "# file_key = 'food_recipes.csv'\n",
    "\n",
    "# # Download the file from s3 locally\n",
    "# s3.download_file(bucket_name, file_key, '../data/food_recipes.csv')\n",
    "\n",
    "# # Load the CSV into a DataFrame\n",
    "# df = pd.read_csv('../data/food_recipes.csv')\n",
    "\n",
    "# df.head()"
   ]
  },
  {
   "cell_type": "code",
   "execution_count": 5,
   "id": "e0176b52-e799-4947-9264-c6c51897c4b7",
   "metadata": {
    "tags": []
   },
   "outputs": [
    {
     "data": {
      "text/html": [
       "<div>\n",
       "<style scoped>\n",
       "    .dataframe tbody tr th:only-of-type {\n",
       "        vertical-align: middle;\n",
       "    }\n",
       "\n",
       "    .dataframe tbody tr th {\n",
       "        vertical-align: top;\n",
       "    }\n",
       "\n",
       "    .dataframe thead th {\n",
       "        text-align: right;\n",
       "    }\n",
       "</style>\n",
       "<table border=\"1\" class=\"dataframe\">\n",
       "  <thead>\n",
       "    <tr style=\"text-align: right;\">\n",
       "      <th></th>\n",
       "      <th>RecipeId</th>\n",
       "      <th>Name</th>\n",
       "      <th>AuthorId</th>\n",
       "      <th>AuthorName</th>\n",
       "      <th>CookTime</th>\n",
       "      <th>PrepTime</th>\n",
       "      <th>TotalTime</th>\n",
       "      <th>DatePublished</th>\n",
       "      <th>Description</th>\n",
       "      <th>Images</th>\n",
       "      <th>...</th>\n",
       "      <th>FiberContent</th>\n",
       "      <th>SugarContent</th>\n",
       "      <th>ProteinContent</th>\n",
       "      <th>RecipeServings</th>\n",
       "      <th>RecipeYield</th>\n",
       "      <th>RecipeInstructions</th>\n",
       "      <th>CookTime_Minutes</th>\n",
       "      <th>PrepTime_Minutes</th>\n",
       "      <th>TotalTime_Minutes</th>\n",
       "      <th>Combined_Features_Clean</th>\n",
       "    </tr>\n",
       "  </thead>\n",
       "  <tbody>\n",
       "    <tr>\n",
       "      <th>0</th>\n",
       "      <td>38.0</td>\n",
       "      <td>Low-Fat Berry Blue Frozen Dessert</td>\n",
       "      <td>1533</td>\n",
       "      <td>Dancer</td>\n",
       "      <td>PT24H</td>\n",
       "      <td>PT45M</td>\n",
       "      <td>PT24H45M</td>\n",
       "      <td>1999-08-09 21:46:00+00:00</td>\n",
       "      <td>Make and share this Low-Fat Berry Blue Frozen ...</td>\n",
       "      <td>[https://img.sndimg.com/food/image/upload/w_55...</td>\n",
       "      <td>...</td>\n",
       "      <td>3.6</td>\n",
       "      <td>30.2</td>\n",
       "      <td>3.2</td>\n",
       "      <td>4.0</td>\n",
       "      <td>None</td>\n",
       "      <td>[Toss 2 cups berries with sugar., Let stand fo...</td>\n",
       "      <td>1440</td>\n",
       "      <td>45</td>\n",
       "      <td>1485</td>\n",
       "      <td>Low-Fat Berry Blue Frozen Dessert Frozen Desse...</td>\n",
       "    </tr>\n",
       "    <tr>\n",
       "      <th>1</th>\n",
       "      <td>39.0</td>\n",
       "      <td>Biryani</td>\n",
       "      <td>1567</td>\n",
       "      <td>elly9812</td>\n",
       "      <td>PT25M</td>\n",
       "      <td>PT4H</td>\n",
       "      <td>PT4H25M</td>\n",
       "      <td>1999-08-29 13:12:00+00:00</td>\n",
       "      <td>Make and share this Biryani recipe from Food.com.</td>\n",
       "      <td>[https://img.sndimg.com/food/image/upload/w_55...</td>\n",
       "      <td>...</td>\n",
       "      <td>9.0</td>\n",
       "      <td>20.4</td>\n",
       "      <td>63.4</td>\n",
       "      <td>6.0</td>\n",
       "      <td>None</td>\n",
       "      <td>[Soak saffron in warm milk for 5 minutes and p...</td>\n",
       "      <td>25</td>\n",
       "      <td>240</td>\n",
       "      <td>265</td>\n",
       "      <td>Biryani Chicken Breast Make share Biryani reci...</td>\n",
       "    </tr>\n",
       "    <tr>\n",
       "      <th>2</th>\n",
       "      <td>40.0</td>\n",
       "      <td>Best Lemonade</td>\n",
       "      <td>1566</td>\n",
       "      <td>Stephen Little</td>\n",
       "      <td>PT5M</td>\n",
       "      <td>PT30M</td>\n",
       "      <td>PT35M</td>\n",
       "      <td>1999-09-05 19:52:00+00:00</td>\n",
       "      <td>This is from one of my  first Good House Keepi...</td>\n",
       "      <td>[https://img.sndimg.com/food/image/upload/w_55...</td>\n",
       "      <td>...</td>\n",
       "      <td>0.4</td>\n",
       "      <td>77.2</td>\n",
       "      <td>0.3</td>\n",
       "      <td>4.0</td>\n",
       "      <td>None</td>\n",
       "      <td>[Into a 1 quart Jar with tight fitting lid, pu...</td>\n",
       "      <td>5</td>\n",
       "      <td>30</td>\n",
       "      <td>35</td>\n",
       "      <td>Best Lemonade Beverages one first Good House K...</td>\n",
       "    </tr>\n",
       "    <tr>\n",
       "      <th>3</th>\n",
       "      <td>41.0</td>\n",
       "      <td>Carina's Tofu-Vegetable Kebabs</td>\n",
       "      <td>1586</td>\n",
       "      <td>Cyclopz</td>\n",
       "      <td>PT20M</td>\n",
       "      <td>PT24H</td>\n",
       "      <td>PT24H20M</td>\n",
       "      <td>1999-09-03 14:54:00+00:00</td>\n",
       "      <td>This dish is best prepared a day in advance to...</td>\n",
       "      <td>[https://img.sndimg.com/food/image/upload/w_55...</td>\n",
       "      <td>...</td>\n",
       "      <td>17.3</td>\n",
       "      <td>32.1</td>\n",
       "      <td>29.3</td>\n",
       "      <td>2.0</td>\n",
       "      <td>4 kebabs</td>\n",
       "      <td>[Drain the tofu, carefully squeezing out exces...</td>\n",
       "      <td>20</td>\n",
       "      <td>1440</td>\n",
       "      <td>1460</td>\n",
       "      <td>Carina's Tofu-Vegetable Kebabs Soy/Tofu dish b...</td>\n",
       "    </tr>\n",
       "    <tr>\n",
       "      <th>4</th>\n",
       "      <td>42.0</td>\n",
       "      <td>Cabbage Soup</td>\n",
       "      <td>1538</td>\n",
       "      <td>Duckie067</td>\n",
       "      <td>PT30M</td>\n",
       "      <td>PT20M</td>\n",
       "      <td>PT50M</td>\n",
       "      <td>1999-09-19 06:19:00+00:00</td>\n",
       "      <td>Make and share this Cabbage Soup recipe from F...</td>\n",
       "      <td>[https://img.sndimg.com/food/image/upload/w_55...</td>\n",
       "      <td>...</td>\n",
       "      <td>4.8</td>\n",
       "      <td>17.7</td>\n",
       "      <td>4.3</td>\n",
       "      <td>4.0</td>\n",
       "      <td>None</td>\n",
       "      <td>[Mix everything together and bring to a boil.,...</td>\n",
       "      <td>30</td>\n",
       "      <td>20</td>\n",
       "      <td>50</td>\n",
       "      <td>Cabbage Soup Vegetable Make share Cabbage Soup...</td>\n",
       "    </tr>\n",
       "  </tbody>\n",
       "</table>\n",
       "<p>5 rows × 32 columns</p>\n",
       "</div>"
      ],
      "text/plain": [
       "   RecipeId                               Name  AuthorId      AuthorName  \\\n",
       "0      38.0  Low-Fat Berry Blue Frozen Dessert      1533          Dancer   \n",
       "1      39.0                            Biryani      1567        elly9812   \n",
       "2      40.0                      Best Lemonade      1566  Stephen Little   \n",
       "3      41.0     Carina's Tofu-Vegetable Kebabs      1586         Cyclopz   \n",
       "4      42.0                       Cabbage Soup      1538       Duckie067   \n",
       "\n",
       "  CookTime PrepTime TotalTime             DatePublished  \\\n",
       "0    PT24H    PT45M  PT24H45M 1999-08-09 21:46:00+00:00   \n",
       "1    PT25M     PT4H   PT4H25M 1999-08-29 13:12:00+00:00   \n",
       "2     PT5M    PT30M     PT35M 1999-09-05 19:52:00+00:00   \n",
       "3    PT20M    PT24H  PT24H20M 1999-09-03 14:54:00+00:00   \n",
       "4    PT30M    PT20M     PT50M 1999-09-19 06:19:00+00:00   \n",
       "\n",
       "                                         Description  \\\n",
       "0  Make and share this Low-Fat Berry Blue Frozen ...   \n",
       "1  Make and share this Biryani recipe from Food.com.   \n",
       "2  This is from one of my  first Good House Keepi...   \n",
       "3  This dish is best prepared a day in advance to...   \n",
       "4  Make and share this Cabbage Soup recipe from F...   \n",
       "\n",
       "                                              Images  ... FiberContent  \\\n",
       "0  [https://img.sndimg.com/food/image/upload/w_55...  ...          3.6   \n",
       "1  [https://img.sndimg.com/food/image/upload/w_55...  ...          9.0   \n",
       "2  [https://img.sndimg.com/food/image/upload/w_55...  ...          0.4   \n",
       "3  [https://img.sndimg.com/food/image/upload/w_55...  ...         17.3   \n",
       "4  [https://img.sndimg.com/food/image/upload/w_55...  ...          4.8   \n",
       "\n",
       "  SugarContent ProteinContent RecipeServings  RecipeYield  \\\n",
       "0         30.2            3.2            4.0         None   \n",
       "1         20.4           63.4            6.0         None   \n",
       "2         77.2            0.3            4.0         None   \n",
       "3         32.1           29.3            2.0     4 kebabs   \n",
       "4         17.7            4.3            4.0         None   \n",
       "\n",
       "                                  RecipeInstructions  CookTime_Minutes  \\\n",
       "0  [Toss 2 cups berries with sugar., Let stand fo...              1440   \n",
       "1  [Soak saffron in warm milk for 5 minutes and p...                25   \n",
       "2  [Into a 1 quart Jar with tight fitting lid, pu...                 5   \n",
       "3  [Drain the tofu, carefully squeezing out exces...                20   \n",
       "4  [Mix everything together and bring to a boil.,...                30   \n",
       "\n",
       "   PrepTime_Minutes  TotalTime_Minutes  \\\n",
       "0                45               1485   \n",
       "1               240                265   \n",
       "2                30                 35   \n",
       "3              1440               1460   \n",
       "4                20                 50   \n",
       "\n",
       "                             Combined_Features_Clean  \n",
       "0  Low-Fat Berry Blue Frozen Dessert Frozen Desse...  \n",
       "1  Biryani Chicken Breast Make share Biryani reci...  \n",
       "2  Best Lemonade Beverages one first Good House K...  \n",
       "3  Carina's Tofu-Vegetable Kebabs Soy/Tofu dish b...  \n",
       "4  Cabbage Soup Vegetable Make share Cabbage Soup...  \n",
       "\n",
       "[5 rows x 32 columns]"
      ]
     },
     "execution_count": 5,
     "metadata": {},
     "output_type": "execute_result"
    }
   ],
   "source": [
    "file_key = 'recipes_w_cleaning_time_combined_features.parquet'\n",
    "s3.download_file(bucket_name, file_key, f'../data/{file_key}')\n",
    "df = pd.read_parquet(f'../data/{file_key}')\n",
    "\n",
    "df.head()"
   ]
  },
  {
   "cell_type": "code",
   "execution_count": 6,
   "id": "c42abeac-3ebd-4fda-a7d5-e43940aa503e",
   "metadata": {
    "tags": []
   },
   "outputs": [
    {
     "data": {
      "text/plain": [
       "Index(['RecipeId', 'Name', 'AuthorId', 'AuthorName', 'CookTime', 'PrepTime',\n",
       "       'TotalTime', 'DatePublished', 'Description', 'Images', 'RecipeCategory',\n",
       "       'Keywords', 'RecipeIngredientQuantities', 'RecipeIngredientParts',\n",
       "       'AggregatedRating', 'ReviewCount', 'Calories', 'FatContent',\n",
       "       'SaturatedFatContent', 'CholesterolContent', 'SodiumContent',\n",
       "       'CarbohydrateContent', 'FiberContent', 'SugarContent', 'ProteinContent',\n",
       "       'RecipeServings', 'RecipeYield', 'RecipeInstructions',\n",
       "       'CookTime_Minutes', 'PrepTime_Minutes', 'TotalTime_Minutes',\n",
       "       'Combined_Features_Clean'],\n",
       "      dtype='object')"
      ]
     },
     "execution_count": 6,
     "metadata": {},
     "output_type": "execute_result"
    }
   ],
   "source": [
    "df.columns"
   ]
  },
  {
   "cell_type": "code",
   "execution_count": 7,
   "id": "68483703-908e-4f6e-892b-305948d7562d",
   "metadata": {
    "tags": []
   },
   "outputs": [
    {
     "data": {
      "text/plain": [
       "'Low-Fat Berry Blue Frozen Dessert Frozen Desserts Make share Low-Fat Berry Blue Frozen Dessert recipe Food.com. Dessert Low Protein Low Cholesterol Healthy Free Of... Summer Weeknight Freezer Easy'"
      ]
     },
     "execution_count": 7,
     "metadata": {},
     "output_type": "execute_result"
    }
   ],
   "source": [
    "str(df.iloc[0]['Combined_Features_Clean'])"
   ]
  },
  {
   "cell_type": "markdown",
   "id": "74654ec1-1620-4b12-abfa-74ce789a79ce",
   "metadata": {},
   "source": [
    "### Load data into chunked documents"
   ]
  },
  {
   "cell_type": "code",
   "execution_count": 8,
   "id": "81165ce4-c17b-44df-a88a-319b4e590105",
   "metadata": {
    "tags": []
   },
   "outputs": [],
   "source": [
    "from langchain_community.embeddings import HuggingFaceEmbeddings\n",
    "from langchain_text_splitters import RecursiveCharacterTextSplitter\n",
    "from langchain.docstore.document import Document"
   ]
  },
  {
   "cell_type": "code",
   "execution_count": 9,
   "id": "ef713c37-2e0f-45ba-8717-de22afbad5b7",
   "metadata": {
    "tags": []
   },
   "outputs": [
    {
     "name": "stderr",
     "output_type": "stream",
     "text": [
      "/home/ec2-user/anaconda3/envs/python3/lib/python3.10/site-packages/langchain_core/_api/deprecation.py:139: LangChainDeprecationWarning: The class `HuggingFaceEmbeddings` was deprecated in LangChain 0.2.2 and will be removed in 0.3.0. An updated version of the class exists in the langchain-huggingface package and should be used instead. To use it run `pip install -U langchain-huggingface` and import as `from langchain_huggingface import HuggingFaceEmbeddings`.\n",
      "  warn_deprecated(\n",
      "/home/ec2-user/anaconda3/envs/python3/lib/python3.10/site-packages/sentence_transformers/cross_encoder/CrossEncoder.py:11: TqdmExperimentalWarning: Using `tqdm.autonotebook.tqdm` in notebook mode. Use `tqdm.tqdm` instead to force console mode (e.g. in jupyter console)\n",
      "  from tqdm.autonotebook import tqdm, trange\n"
     ]
    },
    {
     "data": {
      "application/vnd.jupyter.widget-view+json": {
       "model_id": "5cf1b84a5257463ea654db836c587c81",
       "version_major": 2,
       "version_minor": 0
      },
      "text/plain": [
       "modules.json:   0%|          | 0.00/229 [00:00<?, ?B/s]"
      ]
     },
     "metadata": {},
     "output_type": "display_data"
    },
    {
     "data": {
      "application/vnd.jupyter.widget-view+json": {
       "model_id": "87d2b8d88c8a43aa97742d19e19f99b0",
       "version_major": 2,
       "version_minor": 0
      },
      "text/plain": [
       "config_sentence_transformers.json:   0%|          | 0.00/212 [00:00<?, ?B/s]"
      ]
     },
     "metadata": {},
     "output_type": "display_data"
    },
    {
     "data": {
      "application/vnd.jupyter.widget-view+json": {
       "model_id": "0397ca84e2f546ccaa53f27f936e59f3",
       "version_major": 2,
       "version_minor": 0
      },
      "text/plain": [
       "README.md:   0%|          | 0.00/8.71k [00:00<?, ?B/s]"
      ]
     },
     "metadata": {},
     "output_type": "display_data"
    },
    {
     "data": {
      "application/vnd.jupyter.widget-view+json": {
       "model_id": "7c732650667c49cd916e91208e4b7732",
       "version_major": 2,
       "version_minor": 0
      },
      "text/plain": [
       "sentence_bert_config.json:   0%|          | 0.00/53.0 [00:00<?, ?B/s]"
      ]
     },
     "metadata": {},
     "output_type": "display_data"
    },
    {
     "data": {
      "application/vnd.jupyter.widget-view+json": {
       "model_id": "33f9ff4d94e14b56ae0359dcd2214a9e",
       "version_major": 2,
       "version_minor": 0
      },
      "text/plain": [
       "config.json:   0%|          | 0.00/571 [00:00<?, ?B/s]"
      ]
     },
     "metadata": {},
     "output_type": "display_data"
    },
    {
     "data": {
      "application/vnd.jupyter.widget-view+json": {
       "model_id": "50b8cf7c8e8b4f14af36dc975b63a60a",
       "version_major": 2,
       "version_minor": 0
      },
      "text/plain": [
       "model.safetensors:   0%|          | 0.00/438M [00:00<?, ?B/s]"
      ]
     },
     "metadata": {},
     "output_type": "display_data"
    },
    {
     "data": {
      "application/vnd.jupyter.widget-view+json": {
       "model_id": "1ea5a0a77f0d4c32841d3f0cb853c565",
       "version_major": 2,
       "version_minor": 0
      },
      "text/plain": [
       "tokenizer_config.json:   0%|          | 0.00/363 [00:00<?, ?B/s]"
      ]
     },
     "metadata": {},
     "output_type": "display_data"
    },
    {
     "data": {
      "application/vnd.jupyter.widget-view+json": {
       "model_id": "0980d63ddc6b4932895a1c89ec226855",
       "version_major": 2,
       "version_minor": 0
      },
      "text/plain": [
       "vocab.txt:   0%|          | 0.00/232k [00:00<?, ?B/s]"
      ]
     },
     "metadata": {},
     "output_type": "display_data"
    },
    {
     "data": {
      "application/vnd.jupyter.widget-view+json": {
       "model_id": "1a6e37f696a44b06a25cde20a3ce3b81",
       "version_major": 2,
       "version_minor": 0
      },
      "text/plain": [
       "tokenizer.json:   0%|          | 0.00/466k [00:00<?, ?B/s]"
      ]
     },
     "metadata": {},
     "output_type": "display_data"
    },
    {
     "data": {
      "application/vnd.jupyter.widget-view+json": {
       "model_id": "1386956db4da4602bcfaa7d244c76d0d",
       "version_major": 2,
       "version_minor": 0
      },
      "text/plain": [
       "special_tokens_map.json:   0%|          | 0.00/239 [00:00<?, ?B/s]"
      ]
     },
     "metadata": {},
     "output_type": "display_data"
    },
    {
     "data": {
      "application/vnd.jupyter.widget-view+json": {
       "model_id": "e91673d5d13f4002b678479e126ff02e",
       "version_major": 2,
       "version_minor": 0
      },
      "text/plain": [
       "1_Pooling/config.json:   0%|          | 0.00/190 [00:00<?, ?B/s]"
      ]
     },
     "metadata": {},
     "output_type": "display_data"
    }
   ],
   "source": [
    "embedding_model = HuggingFaceEmbeddings(model_name=\"multi-qa-mpnet-base-dot-v1\")"
   ]
  },
  {
   "cell_type": "code",
   "execution_count": 10,
   "id": "c829beba-a527-4f21-b311-88db598124fe",
   "metadata": {
    "tags": []
   },
   "outputs": [],
   "source": [
    "text_splitter_recursive = RecursiveCharacterTextSplitter(chunk_size=1024, chunk_overlap=256)"
   ]
  },
  {
   "cell_type": "code",
   "execution_count": 11,
   "id": "ee2e6a73-3529-4b79-b0bb-421973555092",
   "metadata": {
    "tags": []
   },
   "outputs": [],
   "source": [
    "# Using old raw dataset\n",
    "\n",
    "# def create_documents(df):\n",
    "#     # AWS Kendra requires non empty string values for each field\n",
    "#     # Make explicit to the LLM that the field is not available\n",
    "#     df.fillna('Not Available', inplace=True)\n",
    "    \n",
    "#     documents = []\n",
    "#     for index, row in df.iterrows():\n",
    "#         metadata = {\n",
    "#             'recipe_title': str(row['recipe_title']) if row['recipe_title'] else 'No Title Available',\n",
    "#             'url': str(row['url']) if row['url'] else 'https://example.com',\n",
    "#             # 'record_health': str(row['record_health']) if row['record_health'] else 'Unknown',\n",
    "#             'vote_count': str(row['vote_count']) if row['vote_count'] else 'No Votes Available',\n",
    "#             'rating': str(row['rating']) if row['rating'] else 'No Rating Available',\n",
    "#             'cuisine': str(row['cuisine']) if row['cuisine'] else 'No Cuisine Available',\n",
    "#             'course': str(row['course']) if row['course'] else 'No Course Available',\n",
    "#             'diet': str(row['diet']) if row['diet'] else 'No Diet Information Available',\n",
    "#             'prep_time': str(row['prep_time']) if row['prep_time'] else 'No Prep Time Available',\n",
    "#             'cook_time': str(row['cook_time']) if row['cook_time'] else 'No Cook Time Available',\n",
    "#             'author': str(row['author']) if row['author'] else 'No Author Available',\n",
    "#             'category': str(row['category']) if row['category'] else 'No Category Available'\n",
    "#         }\n",
    "\n",
    "#         # Combine all text fields for the document content\n",
    "#         text = f\"{row['description']} {row['ingredients']} {row['instructions']} {row['tags']}\"\n",
    "#         doc = Document(page_content=text, metadata=metadata)\n",
    "#         documents.append(doc)\n",
    "    \n",
    "#     return documents"
   ]
  },
  {
   "cell_type": "code",
   "execution_count": 12,
   "id": "790d53e6-1faf-477c-a3cb-e2837c9943ad",
   "metadata": {
    "tags": []
   },
   "outputs": [],
   "source": [
    "# Using data after EDA with more complex fields\n",
    "\n",
    "# def create_documents(df):\n",
    "#     # Ensure non-empty string values for each field\n",
    "#     df.fillna('Not Available', inplace=True)\n",
    "    \n",
    "#     documents = []\n",
    "#     for index, row in df.iterrows():\n",
    "#         metadata = {\n",
    "#             'recipe_id': str(row['RecipeId']) if row['RecipeId'] else 'No ID Available',\n",
    "#             'name': str(row['Name']) if row['Name'] else 'No Name Available',\n",
    "#             'author_id': str(row['AuthorId']) if row['AuthorId'] else 'No Author ID Available',\n",
    "#             'author_name': str(row['AuthorName']) if row['AuthorName'] else 'No Author Name Available',\n",
    "#             'cook_time': str(row['CookTime']) if row['CookTime'] else 'No Cook Time Available',\n",
    "#             'prep_time': str(row['PrepTime']) if row['PrepTime'] else 'No Prep Time Available',\n",
    "#             'total_time': str(row['TotalTime']) if row['TotalTime'] else 'No Total Time Available',\n",
    "#             'date_published': str(row['DatePublished']) if row['DatePublished'] else 'No Date Available',\n",
    "#             'recipe_category': str(row['RecipeCategory']) if row['RecipeCategory'] else 'No Category Available',\n",
    "#             'keywords': str(row['Keywords']) if row['Keywords'] else 'No Keywords Available',\n",
    "#             'aggregated_rating': str(row['AggregatedRating']) if row['AggregatedRating'] else 'No Rating Available',\n",
    "#             'review_count': str(row['ReviewCount']) if row['ReviewCount'] else 'No Reviews Available',\n",
    "#             'calories': str(row['Calories']) if row['Calories'] else 'No Calories Information Available',\n",
    "#             'fat_content': str(row['FatContent']) if row['FatContent'] else 'No Fat Content Available',\n",
    "#             'saturated_fat_content': str(row['SaturatedFatContent']) if row['SaturatedFatContent'] else 'No Saturated Fat Content Available',\n",
    "#             'cholesterol_content': str(row['CholesterolContent']) if row['CholesterolContent'] else 'No Cholesterol Content Available',\n",
    "#             'sodium_content': str(row['SodiumContent']) if row['SodiumContent'] else 'No Sodium Content Available',\n",
    "#             'carbohydrate_content': str(row['CarbohydrateContent']) if row['CarbohydrateContent'] else 'No Carbohydrate Content Available',\n",
    "#             'fiber_content': str(row['FiberContent']) if row['FiberContent'] else 'No Fiber Content Available',\n",
    "#             'sugar_content': str(row['SugarContent']) if row['SugarContent'] else 'No Sugar Content Available',\n",
    "#             'protein_content': str(row['ProteinContent']) if row['ProteinContent'] else 'No Protein Content Available',\n",
    "#             'recipe_servings': str(row['RecipeServings']) if row['RecipeServings'] else 'No Servings Information Available',\n",
    "#             'recipe_yield': str(row['RecipeYield']) if row['RecipeYield'] else 'No Yield Information Available'\n",
    "#         }\n",
    "\n",
    "#         # Combine relevant text fields for the document content\n",
    "#         text = f\"\"\"\n",
    "#         Name: {row['Name']}\n",
    "#         Category: {row['RecipeCategory']}\n",
    "#         Description: {row['Description']}\n",
    "#         Keywords: {row['Keywords']}\n",
    "#         Ingredients: {row['RecipeIngredientParts']}\n",
    "#         Instructions: {row['RecipeInstructions']}\n",
    "#         \"\"\"\n",
    "\n",
    "#         doc = Document(page_content=text.strip(), metadata=metadata)\n",
    "#         documents.append(doc)\n",
    "    \n",
    "#     return documents\n"
   ]
  },
  {
   "cell_type": "code",
   "execution_count": 13,
   "id": "05b5985a-4bdc-44cf-b888-9ddc76abb89e",
   "metadata": {
    "tags": []
   },
   "outputs": [],
   "source": [
    "def create_documents(df):\n",
    "    documents = []\n",
    "    for index, row in df.iterrows():\n",
    "        metadata = {\n",
    "            'recipe_id': str(row['RecipeId']) if not pd.isna(row['RecipeId']) else 'No ID Available',\n",
    "            'name': str(row['Name']) if not pd.isna(row['Name']) else 'No Name Available',\n",
    "            'cook_time': str(row['CookTime']) if not pd.isna(row['CookTime']) else 'No Cook Time Available',\n",
    "            'prep_time': str(row['PrepTime']) if not pd.isna(row['PrepTime']) else 'No Prep Time Available',\n",
    "            'total_time': str(row['TotalTime']) if not pd.isna(row['TotalTime']) else 'No Total Time Available',\n",
    "            'recipe_category': str(row['RecipeCategory']) if not pd.isna(row['RecipeCategory']) else 'No Category Available',\n",
    "            'keywords': str(row['Keywords']) if not pd.isna(row['Keywords']).all() else 'No Keywords Available',\n",
    "            'aggregated_rating': str(row['AggregatedRating']) if not pd.isna(row['AggregatedRating']) else 'No Rating Available',\n",
    "            'review_count': str(row['ReviewCount']) if not pd.isna(row['ReviewCount']) else 'No Reviews Available',\n",
    "            'calories': str(row['Calories']) if not pd.isna(row['Calories']) else 'No Calories Information Available',\n",
    "            'fat_content': str(row['FatContent']) if not pd.isna(row['FatContent']) else 'No Fat Content Available',\n",
    "            'saturated_fat_content': str(row['SaturatedFatContent']) if not pd.isna(row['SaturatedFatContent']) else 'No Saturated Fat Content Available',\n",
    "            'cholesterol_content': str(row['CholesterolContent']) if not pd.isna(row['CholesterolContent']) else 'No Cholesterol Content Available',\n",
    "            'sodium_content': str(row['SodiumContent']) if not pd.isna(row['SodiumContent']) else 'No Sodium Content Available',\n",
    "            'carbohydrate_content': str(row['CarbohydrateContent']) if not pd.isna(row['CarbohydrateContent']) else 'No Carbohydrate Content Available',\n",
    "            'sugar_content': str(row['SugarContent']) if not pd.isna(row['SugarContent']) else 'No Sugar Content Available',\n",
    "            'protein_content': str(row['ProteinContent']) if not pd.isna(row['ProteinContent']) else 'No Protein Content Available',\n",
    "            'recipe_servings': str(row['RecipeServings']) if not pd.isna(row['RecipeServings']) else 'No Servings Information Available',\n",
    "            'recipe_yield': str(row['RecipeYield']) if not pd.isna(row['RecipeYield']) else 'No Yield Information Available'\n",
    "        }\n",
    "\n",
    "        # Use Combined_Features_Clean for the document content\n",
    "        text = str(row['Combined_Features_Clean'])\n",
    "        doc = Document(page_content=text, metadata=metadata)\n",
    "        documents.append(doc)\n",
    "        \n",
    "    return documents\n"
   ]
  },
  {
   "cell_type": "code",
   "execution_count": 14,
   "id": "2e316c63-2897-4c89-aa24-562bcab03ba0",
   "metadata": {
    "tags": []
   },
   "outputs": [],
   "source": [
    "documents = create_documents(df)"
   ]
  },
  {
   "cell_type": "code",
   "execution_count": 15,
   "id": "db462d95-67b8-4ec5-b379-1a98666a0dc0",
   "metadata": {
    "tags": []
   },
   "outputs": [
    {
     "data": {
      "text/plain": [
       "Document(metadata={'recipe_id': '38.0', 'name': 'Low-Fat Berry Blue Frozen Dessert', 'cook_time': 'PT24H', 'prep_time': 'PT45M', 'total_time': 'PT24H45M', 'recipe_category': 'Frozen Desserts', 'keywords': \"['Dessert' 'Low Protein' 'Low Cholesterol' 'Healthy' 'Free Of...' 'Summer'\\n 'Weeknight' 'Freezer' 'Easy']\", 'aggregated_rating': '4.5', 'review_count': '4.0', 'calories': '170.9', 'fat_content': '2.5', 'saturated_fat_content': '1.3', 'cholesterol_content': '8.0', 'sodium_content': '29.8', 'carbohydrate_content': '37.1', 'sugar_content': '30.2', 'protein_content': '3.2', 'recipe_servings': '4.0', 'recipe_yield': 'No Yield Information Available'}, page_content='Low-Fat Berry Blue Frozen Dessert Frozen Desserts Make share Low-Fat Berry Blue Frozen Dessert recipe Food.com. Dessert Low Protein Low Cholesterol Healthy Free Of... Summer Weeknight Freezer Easy')"
      ]
     },
     "execution_count": 15,
     "metadata": {},
     "output_type": "execute_result"
    }
   ],
   "source": [
    "documents[0]"
   ]
  },
  {
   "cell_type": "code",
   "execution_count": 16,
   "id": "8d878b08-c2fc-4528-b26f-3a33d7856465",
   "metadata": {
    "tags": []
   },
   "outputs": [
    {
     "data": {
      "text/plain": [
       "522517"
      ]
     },
     "execution_count": 16,
     "metadata": {},
     "output_type": "execute_result"
    }
   ],
   "source": [
    "len(documents)"
   ]
  },
  {
   "cell_type": "code",
   "execution_count": 17,
   "id": "35faf6bb-6a9b-4f59-b021-33c2507638aa",
   "metadata": {
    "tags": []
   },
   "outputs": [],
   "source": [
    "def split_documents_with_metadata(documents, text_splitter):\n",
    "    split_docs = []\n",
    "    for doc in documents:\n",
    "        chunks = text_splitter.split_text(doc.page_content)\n",
    "        for i, chunk in enumerate(chunks):\n",
    "            split_docs.append(Document(page_content=chunk, metadata={**doc.metadata, \"chunk_id\": i}))\n",
    "    return split_docs"
   ]
  },
  {
   "cell_type": "code",
   "execution_count": 18,
   "id": "d6fe3cfc-26b8-47db-8c36-07e06ea3feb9",
   "metadata": {
    "tags": []
   },
   "outputs": [],
   "source": [
    "split_documents = split_documents_with_metadata(documents, text_splitter_recursive)"
   ]
  },
  {
   "cell_type": "code",
   "execution_count": 19,
   "id": "225b95d6-f0f2-41fd-8cf9-c700ef269488",
   "metadata": {
    "tags": []
   },
   "outputs": [
    {
     "data": {
      "text/plain": [
       "Document(metadata={'recipe_id': '38.0', 'name': 'Low-Fat Berry Blue Frozen Dessert', 'cook_time': 'PT24H', 'prep_time': 'PT45M', 'total_time': 'PT24H45M', 'recipe_category': 'Frozen Desserts', 'keywords': \"['Dessert' 'Low Protein' 'Low Cholesterol' 'Healthy' 'Free Of...' 'Summer'\\n 'Weeknight' 'Freezer' 'Easy']\", 'aggregated_rating': '4.5', 'review_count': '4.0', 'calories': '170.9', 'fat_content': '2.5', 'saturated_fat_content': '1.3', 'cholesterol_content': '8.0', 'sodium_content': '29.8', 'carbohydrate_content': '37.1', 'sugar_content': '30.2', 'protein_content': '3.2', 'recipe_servings': '4.0', 'recipe_yield': 'No Yield Information Available', 'chunk_id': 0}, page_content='Low-Fat Berry Blue Frozen Dessert Frozen Desserts Make share Low-Fat Berry Blue Frozen Dessert recipe Food.com. Dessert Low Protein Low Cholesterol Healthy Free Of... Summer Weeknight Freezer Easy')"
      ]
     },
     "execution_count": 19,
     "metadata": {},
     "output_type": "execute_result"
    }
   ],
   "source": [
    "split_documents[0]"
   ]
  },
  {
   "cell_type": "code",
   "execution_count": 20,
   "id": "c05f6ea9-ec26-418e-ab5d-351548d4e82c",
   "metadata": {
    "tags": []
   },
   "outputs": [],
   "source": [
    "# from transformers import AutoTokenizer\n",
    "\n",
    "# def count_tokens(text, model_name=\"distilbert-base-uncased\"):\n",
    "#     tokenizer = AutoTokenizer.from_pretrained(model_name)\n",
    "    \n",
    "#     tokens = tokenizer.encode(text, add_special_tokens=False)\n",
    "#     num_tokens = len(tokens)\n",
    "    \n",
    "#     return num_tokens"
   ]
  },
  {
   "cell_type": "code",
   "execution_count": 21,
   "id": "4cb92d4b-2aba-4e56-ac81-b0f743c139a3",
   "metadata": {
    "tags": []
   },
   "outputs": [],
   "source": [
    "# We have > 500,000 recipes, this takes a long time to run\n",
    "from langchain_community.vectorstores import Qdrant\n",
    "\n",
    "qdrant_store = Qdrant.from_documents(documents,\n",
    "    embedding_model,\n",
    "    location=\":memory:\",\n",
    ")"
   ]
  },
  {
   "cell_type": "code",
   "execution_count": 22,
   "id": "5152d45a-a16c-4efd-9ff3-b1b9464ba304",
   "metadata": {
    "tags": []
   },
   "outputs": [],
   "source": [
    "qdrant_retriever = qdrant_store.as_retriever()"
   ]
  },
  {
   "cell_type": "code",
   "execution_count": 23,
   "id": "a0e04d8b-4bb7-46e0-a2b1-22e4283d9238",
   "metadata": {
    "tags": []
   },
   "outputs": [],
   "source": [
    "def format_docs(docs):\n",
    "    formatted_docs = []\n",
    "    for doc in docs:\n",
    "        formatted_docs.append(f\"Metadata: {doc.metadata}\\n\")\n",
    "    content = \"\\n\\n\".join(formatted_docs)\n",
    "    \n",
    "    return content"
   ]
  },
  {
   "cell_type": "markdown",
   "id": "9cc8df35-7bbc-43fc-9766-99383f3c5349",
   "metadata": {},
   "source": [
    "### Agent function definitions"
   ]
  },
  {
   "cell_type": "code",
   "execution_count": 24,
   "id": "2dc1eaa0-d2bc-4b57-ad27-95301457e870",
   "metadata": {
    "tags": []
   },
   "outputs": [],
   "source": [
    "recipe_db_query_tool = {\n",
    "  \"name\": \"query_food_recipe_vector_db\",\n",
    "  \"description\": \"\"\"\n",
    "      Queries the vector database containing food recipes to retrieve the most relevant documents. \n",
    "      This function allows the model to generate and execute multiple queries as necessary to gather comprehensive context, \n",
    "      such as ingredients, preparation steps, and metadata like cuisine and diet type, ensuring accurate and thorough responses to user queries.\n",
    "      \"\"\",\n",
    "  \"input_schema\": {\n",
    "    \"type\": \"object\",\n",
    "    \"properties\": {\n",
    "      \"queries\": {\n",
    "        \"type\": \"array\",\n",
    "        \"items\": {\n",
    "          \"type\": \"string\",\n",
    "          \"description\": \"A query generated by the model to run against the vector database to fetch recipe documents.\"\n",
    "        },\n",
    "        \"description\": \"A list of queries generated by the model to run against the vector database to fetch recipe documents.\"\n",
    "      }\n",
    "    },\n",
    "    \"required\": [\"queries\"]\n",
    "  }\n",
    "}\n"
   ]
  },
  {
   "cell_type": "markdown",
   "id": "64c1e9c9-88bd-446a-a0f5-a7ed5bcf8972",
   "metadata": {},
   "source": [
    "### Init bedrock model, define util to stateless messaging, no fn calling"
   ]
  },
  {
   "cell_type": "code",
   "execution_count": 25,
   "id": "af0aacad-2b9d-4504-80b2-b47d92949ce8",
   "metadata": {
    "tags": []
   },
   "outputs": [],
   "source": [
    "import json"
   ]
  },
  {
   "cell_type": "code",
   "execution_count": 26,
   "id": "91b6a9d4-d05c-4340-8281-d050403b0a89",
   "metadata": {
    "tags": []
   },
   "outputs": [],
   "source": [
    "bedrock_client = boto3.client('bedrock-runtime', region_name=\"us-east-1\")"
   ]
  },
  {
   "cell_type": "code",
   "execution_count": 239,
   "id": "e65cefc3-4a52-4985-b7da-b97224a7f356",
   "metadata": {
    "tags": []
   },
   "outputs": [],
   "source": [
    "# We will need to tune these prompts\n",
    "# query_bedrock_llm() definition NEEDS TO BE RERUN\n",
    "# each time when changes are made to this prompt\n",
    "\n",
    "baseline_sys_prompt = \"\"\"\n",
    "You are a helpful assistant and expert in cooking recipes.\n",
    "\n",
    "Before answering, always make at least one call to query_food_recipe_vector_db\n",
    "to retrieve the relevant context of recipes and ingredients to generate an informed\n",
    "and high-quality response to the user prompt but NEVER exceed a MAXIMUM of \n",
    "3 calls to the query_food_recipe_vector_db function.\n",
    "\n",
    "Provide a response to the user prompt about food with recommended recipes and instructions.\n",
    "\"\"\""
   ]
  },
  {
   "cell_type": "code",
   "execution_count": 240,
   "id": "bd6cb3e3-04ac-465c-8bc0-e913d4086b21",
   "metadata": {
    "tags": []
   },
   "outputs": [],
   "source": [
    "# We will need to tune these prompts\n",
    "\n",
    "baseline_sys_prompt_basic = \"\"\"\n",
    "You are a helpful assistant and expert in cooking recipes.\n",
    "You will be provided a list of relevant context about relevant food recipes\n",
    "which includes metadata like ingredients and cooking instructions.\n",
    "\n",
    "Provide a response to the user prompt about food with recommended recipes and instructions.\n",
    "\"\"\""
   ]
  },
  {
   "cell_type": "code",
   "execution_count": 241,
   "id": "ed11c7ae-7ac1-4dab-b889-fad779b36280",
   "metadata": {
    "tags": []
   },
   "outputs": [],
   "source": [
    "MODEL_ID = \"anthropic.claude-3-sonnet-20240229-v1:0\"\n",
    "\n",
    "def query_bedrock_llm(messages):\n",
    "    response = bedrock_client.invoke_model(\n",
    "        modelId=MODEL_ID,\n",
    "        body=json.dumps({\n",
    "            'anthropic_version': 'bedrock-2023-05-31', # This is required to use chat style messages object \n",
    "            'system': baseline_sys_prompt,\n",
    "            'messages': messages,\n",
    "            'max_tokens': 3000,\n",
    "            \"tools\": [recipe_db_query_tool],\n",
    "\n",
    "            # This config forces the model to always call the recipe db query tool atleast once \n",
    "            # https://docs.anthropic.com/en/docs/build-with-claude/tool-use#controlling-claudes-output\n",
    "            # \"tool_choice\": {\n",
    "            #     \"type\": \"tool\",\n",
    "            #     \"name\": recipe_db_query_tool['name']\n",
    "            # },\n",
    "            \n",
    "            # TODO: TUNE THESE VALUES\n",
    "            'temperature': 0.1, \n",
    "            'top_p': 0.9\n",
    "        })\n",
    "    )\n",
    "    response_body = json.loads(response.get('body').read())\n",
    "    \n",
    "    return response_body"
   ]
  },
  {
   "cell_type": "code",
   "execution_count": 258,
   "id": "2e158b92-b58b-4a5a-8fcf-4a52ebb4d67d",
   "metadata": {
    "tags": []
   },
   "outputs": [],
   "source": [
    "MODEL_ID = \"anthropic.claude-3-sonnet-20240229-v1:0\"\n",
    "\n",
    "def query_bedrock_llm_basic(messages):\n",
    "    response = bedrock_client.invoke_model(\n",
    "        modelId=MODEL_ID,\n",
    "        body=json.dumps({\n",
    "            'anthropic_version': 'bedrock-2023-05-31', # This is required to use chat style messages object \n",
    "            'system': baseline_sys_prompt_basic,\n",
    "            'messages': messages,\n",
    "            'max_tokens': 3000,\n",
    "            \n",
    "            # TODO: TUNE THESE VALUES\n",
    "            'temperature': 0.1, \n",
    "            'top_p': 0.9\n",
    "        })\n",
    "    )\n",
    "    response_body = json.loads(response.get('body').read())\n",
    "    \n",
    "    print(response_body['content'][0]['text'])\n",
    "    \n",
    "    return response_body['content'][0]['text']"
   ]
  },
  {
   "cell_type": "markdown",
   "id": "9abb22e4-9e26-4d4d-9ce1-f6b20bac5cb5",
   "metadata": {},
   "source": [
    "### Pipe langchain together"
   ]
  },
  {
   "cell_type": "code",
   "execution_count": 245,
   "id": "1cc70641-ecc2-4cc6-a77f-0f70b806f274",
   "metadata": {
    "tags": []
   },
   "outputs": [],
   "source": [
    "from langchain_core.prompts import ChatPromptTemplate\n",
    "from langchain_core.runnables import RunnablePassthrough, RunnableMap"
   ]
  },
  {
   "cell_type": "code",
   "execution_count": 246,
   "id": "ad7ab6e1-f849-4a25-9fc1-5df44026de00",
   "metadata": {
    "tags": []
   },
   "outputs": [],
   "source": [
    "baseline_user_prompt_basic = \"\"\"\n",
    "### Here is a context:\n",
    "{context} \n",
    "\n",
    "### Here is a user prompt:\n",
    "{query}\n",
    "\"\"\""
   ]
  },
  {
   "cell_type": "code",
   "execution_count": 247,
   "id": "72b5ce6a-3aac-4fb4-b9a3-8742402f185c",
   "metadata": {
    "tags": []
   },
   "outputs": [],
   "source": [
    "baseline_user_prompt = \"\"\"\n",
    "### Here is a user prompt:\n",
    "{query}\n",
    "\"\"\""
   ]
  },
  {
   "cell_type": "code",
   "execution_count": 248,
   "id": "d466b594-b943-43b7-90be-23b454a698e0",
   "metadata": {
    "tags": []
   },
   "outputs": [],
   "source": [
    "def process_prompt(query_args):\n",
    "    prompt_with_query = baseline_user_prompt.replace(\"{query}\", query_args['query'])\n",
    "    \n",
    "    # This format doesn't matter much now, but we will use it later to \n",
    "    # persist chat history for continuous dialogue\n",
    "    messages = [\n",
    "        {\n",
    "            \"role\": \"user\",\n",
    "            \"content\": [\n",
    "                {\n",
    "                    \"type\": \"text\",\n",
    "                    \"text\": prompt_with_query\n",
    "                }\n",
    "            ]\n",
    "        }\n",
    "    ]\n",
    "    \n",
    "    return messages"
   ]
  },
  {
   "cell_type": "code",
   "execution_count": 249,
   "id": "95fdc8ab-fc6b-4dad-8826-f77f4d6d45cc",
   "metadata": {
    "tags": []
   },
   "outputs": [],
   "source": [
    "def process_prompt_basic(query_args):\n",
    "    prompt_with_context = baseline_user_prompt_basic.replace(\"{context}\", query_args['context'])\n",
    "    prompt_with_query = prompt_with_context.replace(\"{query}\", query_args['query'])\n",
    "    \n",
    "    # This format doesn't matter much now, but we will use it later to \n",
    "    # persist chat history for continuous dialogue\n",
    "    messages = [\n",
    "        {\n",
    "            \"role\": \"user\",\n",
    "            \"content\": [\n",
    "                {\n",
    "                    \"type\": \"text\",\n",
    "                    \"text\": prompt_with_query\n",
    "                }\n",
    "            ]\n",
    "        }\n",
    "    ]\n",
    "    \n",
    "    return messages"
   ]
  },
  {
   "cell_type": "code",
   "execution_count": 250,
   "id": "1254f41c-9261-46a6-9140-2f7c538a47a1",
   "metadata": {
    "tags": []
   },
   "outputs": [],
   "source": [
    "qdrant_rag_chain = (\n",
    "    RunnableMap(\n",
    "        # {\"context\": qdrant_retriever | format_docs,\n",
    "         {\"query\": RunnablePassthrough()}\n",
    "    )\n",
    "    | process_prompt\n",
    "    | query_bedrock_llm\n",
    "    # | parse_event_stream\n",
    ")"
   ]
  },
  {
   "cell_type": "code",
   "execution_count": 251,
   "id": "e69b9cca-14d6-46eb-bd4a-cded04b3f591",
   "metadata": {
    "tags": []
   },
   "outputs": [],
   "source": [
    "qdrant_rag_chain_basic = (\n",
    "    RunnableMap(\n",
    "        {\"context\": qdrant_retriever | format_docs,\n",
    "         \"query\": RunnablePassthrough()}\n",
    "    )\n",
    "    | process_prompt_basic\n",
    "    | query_bedrock_llm_basic\n",
    ")"
   ]
  },
  {
   "cell_type": "markdown",
   "id": "4e33af48-0606-4e6f-b57a-53ce71d0f1b8",
   "metadata": {},
   "source": [
    "### Model generates dynamic context queries to vector db"
   ]
  },
  {
   "cell_type": "code",
   "execution_count": 252,
   "id": "865bccd7-a24f-42ad-abfc-7b699504bc10",
   "metadata": {
    "tags": []
   },
   "outputs": [],
   "source": [
    "test_query_1 = \"I enjoy asian fusion food and I am a vegetarian. Give me one recipe with ingredients and instructions\""
   ]
  },
  {
   "cell_type": "code",
   "execution_count": 253,
   "id": "d51c4c33-fc4f-4a21-bd51-b9a11615a3b4",
   "metadata": {
    "tags": []
   },
   "outputs": [
    {
     "data": {
      "text/plain": [
       "{'id': 'msg_bdrk_01HbdBm8vBPJTALKFoEYwcZV',\n",
       " 'type': 'message',\n",
       " 'role': 'assistant',\n",
       " 'model': 'claude-3-sonnet-20240229',\n",
       " 'content': [{'type': 'text',\n",
       "   'text': 'Okay, let me query the recipe database to find a relevant Asian fusion vegetarian recipe for you.'},\n",
       "  {'type': 'tool_use',\n",
       "   'id': 'toolu_bdrk_01AbEWq8GkhHEyKgFjWbZCtM',\n",
       "   'name': 'query_food_recipe_vector_db',\n",
       "   'input': {'queries': ['asian fusion vegetarian recipes']}}],\n",
       " 'stop_reason': 'tool_use',\n",
       " 'stop_sequence': None,\n",
       " 'usage': {'input_tokens': 472, 'output_tokens': 87}}"
      ]
     },
     "execution_count": 253,
     "metadata": {},
     "output_type": "execute_result"
    }
   ],
   "source": [
    "qdrant_rag_chain.invoke(test_query_1)"
   ]
  },
  {
   "cell_type": "code",
   "execution_count": 35,
   "id": "8c963602-4054-4248-a9f3-711571c69418",
   "metadata": {
    "tags": []
   },
   "outputs": [],
   "source": [
    "test_query_2 = \"\"\"\n",
    "I have a peanut allergy but I like thai food. \n",
    "I also don't enjoy spicy food much, and want a meal with low carbs. \n",
    "Give a recipe with ingredients and instructions\n",
    "\"\"\""
   ]
  },
  {
   "cell_type": "code",
   "execution_count": 36,
   "id": "411cfefc-afe1-46c8-8163-3ca98452b84a",
   "metadata": {
    "tags": []
   },
   "outputs": [
    {
     "data": {
      "text/plain": [
       "{'id': 'msg_bdrk_01VBdfhyCQep6QA1NaHE1yf7',\n",
       " 'type': 'message',\n",
       " 'role': 'assistant',\n",
       " 'model': 'claude-3-sonnet-20240229',\n",
       " 'content': [{'type': 'text',\n",
       "   'text': 'Okay, let me query the vector database for relevant Thai recipes that are peanut-free, low in carbs, and not too spicy.'},\n",
       "  {'type': 'tool_use',\n",
       "   'id': 'toolu_bdrk_01TQ9n6yKVMi45h55Qqnr8DY',\n",
       "   'name': 'query_food_recipe_vector_db',\n",
       "   'input': {'queries': ['thai recipes',\n",
       "     'peanut free',\n",
       "     'low carb',\n",
       "     'mild spice']}}],\n",
       " 'stop_reason': 'tool_use',\n",
       " 'stop_sequence': None,\n",
       " 'usage': {'input_tokens': 496, 'output_tokens': 111}}"
      ]
     },
     "execution_count": 36,
     "metadata": {},
     "output_type": "execute_result"
    }
   ],
   "source": [
    "qdrant_rag_chain.invoke(test_query_2)"
   ]
  },
  {
   "cell_type": "code",
   "execution_count": 37,
   "id": "889b3160-f0f3-41ae-878e-3cb8b444ede3",
   "metadata": {
    "tags": []
   },
   "outputs": [],
   "source": [
    "test_query_3 = \"\"\"\n",
    "Suggest a low-carb breakfast recipe that includes eggs and spinach, \n",
    "can be prepared in under 20 minutes, \n",
    "and is suitable for a keto diet.\n",
    "\"\"\""
   ]
  },
  {
   "cell_type": "code",
   "execution_count": 38,
   "id": "1061f3ad-080f-4a8e-a94f-eb4622372cca",
   "metadata": {
    "tags": []
   },
   "outputs": [
    {
     "data": {
      "text/plain": [
       "{'id': 'msg_bdrk_01Qp5C1L7tofuVb29VgKpPuh',\n",
       " 'type': 'message',\n",
       " 'role': 'assistant',\n",
       " 'model': 'claude-3-sonnet-20240229',\n",
       " 'content': [{'type': 'tool_use',\n",
       "   'id': 'toolu_bdrk_01Khe59KyLhYxicyxio8Kkkw',\n",
       "   'name': 'query_food_recipe_vector_db',\n",
       "   'input': {'queries': ['low-carb breakfast recipe with eggs and spinach',\n",
       "     'keto breakfast recipe with eggs and spinach']}}],\n",
       " 'stop_reason': 'tool_use',\n",
       " 'stop_sequence': None,\n",
       " 'usage': {'input_tokens': 491, 'output_tokens': 82}}"
      ]
     },
     "execution_count": 38,
     "metadata": {},
     "output_type": "execute_result"
    }
   ],
   "source": [
    "qdrant_rag_chain.invoke(test_query_3)"
   ]
  },
  {
   "cell_type": "code",
   "execution_count": 39,
   "id": "ac56eb72-cf6d-4d2d-8894-bc2a225b3f29",
   "metadata": {
    "tags": []
   },
   "outputs": [],
   "source": [
    "test_query_4 = \"\"\"\n",
    "Suggest a healthy dinner recipe for two people that includes fish, \n",
    "is under 500 calories per serving, \n",
    "and can be made in less than 40 minutes.\n",
    "\"\"\""
   ]
  },
  {
   "cell_type": "code",
   "execution_count": 40,
   "id": "ee2f27f7-504c-4e4a-89b0-9a79b297e721",
   "metadata": {
    "tags": []
   },
   "outputs": [
    {
     "data": {
      "text/plain": [
       "{'id': 'msg_bdrk_01JUtHi9TRMJgQrgRVKSCh2E',\n",
       " 'type': 'message',\n",
       " 'role': 'assistant',\n",
       " 'model': 'claude-3-sonnet-20240229',\n",
       " 'content': [{'type': 'text',\n",
       "   'text': 'Okay, let me query the recipe database to find some relevant healthy fish dinner recipes that meet the criteria.'},\n",
       "  {'type': 'tool_use',\n",
       "   'id': 'toolu_bdrk_01KFY1hodJJYGT3ccn2RHAjd',\n",
       "   'name': 'query_food_recipe_vector_db',\n",
       "   'input': {'queries': ['healthy fish dinner recipe under 500 calories quick']}}],\n",
       " 'stop_reason': 'tool_use',\n",
       " 'stop_sequence': None,\n",
       " 'usage': {'input_tokens': 490, 'output_tokens': 93}}"
      ]
     },
     "execution_count": 40,
     "metadata": {},
     "output_type": "execute_result"
    }
   ],
   "source": [
    "qdrant_rag_chain.invoke(test_query_4)"
   ]
  },
  {
   "cell_type": "markdown",
   "id": "3ad71bb4-54a7-4037-94c3-72e7340a3bdc",
   "metadata": {},
   "source": [
    "### Implement continuous dialogue and function calling"
   ]
  },
  {
   "cell_type": "code",
   "execution_count": 41,
   "id": "36cdb25c-0aff-4170-9736-a0c56aa0e53a",
   "metadata": {
    "tags": []
   },
   "outputs": [],
   "source": [
    "def generate_message(prompt):\n",
    "    if type(prompt) != str:\n",
    "        raise ValueError(f'Tried to call message generate_message with non-string input: {prompt}')\n",
    "        \n",
    "    return {\n",
    "        \"role\": \"user\",\n",
    "        \"content\": [\n",
    "            {\n",
    "                \"type\": \"text\",\n",
    "                \"text\": prompt\n",
    "            }\n",
    "        ]\n",
    "    }"
   ]
  },
  {
   "cell_type": "code",
   "execution_count": 42,
   "id": "0aafdca2-4248-4780-8c0f-4cbdd2209889",
   "metadata": {
    "tags": []
   },
   "outputs": [],
   "source": [
    "def generate_tool_message(fn_results):\n",
    "    \n",
    "    return {\n",
    "        \"role\": \"user\",\n",
    "        \"content\": fn_results\n",
    "    }"
   ]
  },
  {
   "cell_type": "code",
   "execution_count": 43,
   "id": "3e1efe9b-eee3-402a-b606-df6c536b9990",
   "metadata": {
    "tags": []
   },
   "outputs": [],
   "source": [
    "import json\n",
    "\n",
    "# Adds the current prompt as a new message to the chat history\n",
    "# and calls bedrock with the entire chat history\n",
    "# Returns the response body, llm's message, and new chat history\n",
    "\n",
    "'''\n",
    "Example response body structure:\n",
    "{\n",
    "   \"id\":\"msg_bdrk_01C5GGkafK7aL3P5i3rsMr1p\",\n",
    "   \"type\":\"message\",\n",
    "   \"role\":\"assistant\",\n",
    "   \"model\":\"claude-3-sonnet-20240229\",\n",
    "   \"content\":[\n",
    "      {\n",
    "         \"type\":\"tool_use\",\n",
    "         \"id\":\"toolu_bdrk_01CQiYa8BMJfpJC68DuRdwQn\",\n",
    "         \"name\":\"query_food_recipe_vector_db\",\n",
    "         \"input\":{\n",
    "            \"queries\":[\n",
    "               \"healthy fish dinner recipe under 500 calories\",\n",
    "               \"fish dinner recipe for two under 40 minutes\"\n",
    "            ]\n",
    "         }\n",
    "      }\n",
    "   ],\n",
    "   \"stop_reason\":\"tool_use\",\n",
    "   \"stop_sequence\":\"None\",\n",
    "   \"usage\":{\n",
    "      \"input_tokens\":559,\n",
    "      \"output_tokens\":55\n",
    "   }\n",
    "}\n",
    "'''\n",
    "def message_handler(existing_chat_history, prompt, is_tool_message=False):\n",
    "    # Fn results is an array of tool response objects\n",
    "    # message structure needs to reflect that\n",
    "    if is_tool_message:\n",
    "        user_message = generate_tool_message(prompt)\n",
    "    else:\n",
    "        user_message = generate_message(prompt)\n",
    "    existing_chat_history.append(user_message)\n",
    "\n",
    "    # Parse the response content\n",
    "    response_body = query_bedrock_llm(existing_chat_history)\n",
    "    llm_message = {\n",
    "        'role': response_body['role'],\n",
    "        'content': response_body['content']\n",
    "    }\n",
    "\n",
    "    # Add the response message to the chat history\n",
    "    existing_chat_history.append(llm_message)\n",
    "    \n",
    "    return [response_body, llm_message, existing_chat_history]"
   ]
  },
  {
   "cell_type": "code",
   "execution_count": 44,
   "id": "54251908-abed-4098-88db-dae841ce9875",
   "metadata": {
    "tags": []
   },
   "outputs": [],
   "source": [
    "# Executes a list of queries and returns a list of document results\n",
    "def handle_vector_db_queries(queries, retriever=qdrant_retriever): \n",
    "    context_docs = []\n",
    "    for query in queries:\n",
    "        query_results = retriever.invoke(query)\n",
    "        context_docs.extend(query_results)\n",
    "\n",
    "    return context_docs"
   ]
  },
  {
   "cell_type": "code",
   "execution_count": 45,
   "id": "a7daf0c5-eca6-496d-a9d3-97d7d472a086",
   "metadata": {
    "tags": []
   },
   "outputs": [],
   "source": [
    "# Takes as an argument to LLM message content, returns a list of the fn result objects\n",
    "def handle_function_calls(tool_call_message_content):\n",
    "    tool_results = []\n",
    "    \n",
    "    for tool_call in tool_call_message_content:\n",
    "        # Only process messages from the LLM that are function calls\n",
    "        if tool_call['type'] != 'tool_use':\n",
    "            continue\n",
    "        fn_id = tool_call['id']\n",
    "        fn_name = tool_call['name']\n",
    "        fn_args = tool_call['input']\n",
    "        fn_result = {\n",
    "            \"type\": \"tool_result\",\n",
    "            \"tool_use_id\": fn_id,\n",
    "        }   \n",
    "\n",
    "        if fn_name == 'query_food_recipe_vector_db':\n",
    "            if 'queries' not in fn_args:\n",
    "                print(f\"ERROR: Tried to call {fn_name} with invalid args {fn_args}, skipping..\")\n",
    "                fn_result['content'] = \"\"\n",
    "                fn_result['is_error'] = True\n",
    "                tool_results.append(fn_result)\n",
    "                continue\n",
    "                \n",
    "            print(f\"Model called {fn_name} with args {fn_args}\")\n",
    "            context_docs = handle_vector_db_queries(fn_args['queries'])\n",
    "            context_str = format_docs(context_docs)\n",
    "            fn_result['content'] = context_str\n",
    "            tool_results.append(fn_result)\n",
    "            \n",
    "        # TODO: handle web search invocation here\n",
    "        \n",
    "        else:\n",
    "            print(f\"ERROR: Attempted call to unknown function {fn_name}\")\n",
    "            fn_result['content'] = \"\"\n",
    "            fn_result['is_error'] = True\n",
    "            tool_results.append(fn_result)\n",
    "\n",
    "    return tool_results"
   ]
  },
  {
   "cell_type": "markdown",
   "id": "7e719297-c2db-4068-898d-81ea89ce4551",
   "metadata": {},
   "source": [
    "### Run dynamic query function calling with test queries"
   ]
  },
  {
   "cell_type": "code",
   "execution_count": 105,
   "id": "33afd461-f722-404e-bc42-617a953e559d",
   "metadata": {
    "tags": []
   },
   "outputs": [],
   "source": [
    "'''\n",
    "Example payload structure of response_body:\n",
    "\n",
    "{'id': 'msg_bdrk_01REesjegNiLteurBoxW7pSt',\n",
    " 'type': 'message',\n",
    " 'role': 'assistant',\n",
    " 'model': 'claude-3-sonnet-20240229',\n",
    " 'content': [{'type': 'tool_use',\n",
    "   'id': 'toolu_bdrk_01191W2FuAFTRoDqKKeJSmmn',\n",
    "   'name': 'query_food_recipe_vector_db',\n",
    "   'input': {'queries': ['thai food',\n",
    "     'peanut free',\n",
    "     'low carb',\n",
    "     'not spicy']}}],\n",
    " 'stop_reason': 'tool_use',\n",
    " 'stop_sequence': None,\n",
    " 'usage': {'input_tokens': 573, 'output_tokens': 52}}\n",
    "\n",
    "\n",
    "Example payload structure of llm_message['content']:\n",
    "\n",
    "[{'type': 'tool_use',\n",
    "   'id': 'toolu_bdrk_01191W2FuAFTRoDqKKeJSmmn',\n",
    "   'name': 'query_food_recipe_vector_db',\n",
    "   'input': {'queries': ['thai food',\n",
    "     'peanut free',\n",
    "     'low carb',\n",
    "     'not spicy']}}]\n",
    "'''\n",
    "\n",
    "# This function is the entry point to invoke the LLM with support for function calling\n",
    "# parsing output, calling requested functions, sending output is handled here\n",
    "def run_chat_loop(prompt):\n",
    "    print(f\"[User]: {prompt}\")\n",
    "    response_body, llm_message, chat_history = message_handler(existing_chat_history=[], prompt=prompt)\n",
    "    \n",
    "    \n",
    "    # The model wants to call tools, call them, provide response, repeat until content is generated\n",
    "    while response_body['stop_reason'] == 'tool_use':\n",
    "        fn_results = handle_function_calls(tool_call_message_content=llm_message['content'])\n",
    "\n",
    "        # Send function results back to LLM as a new message with the existing chat history\n",
    "        response_body, llm_message, chat_history = message_handler(\n",
    "            existing_chat_history=chat_history, \n",
    "            prompt=fn_results,\n",
    "            is_tool_message=True\n",
    "        )\n",
    "\n",
    "    # The model is done calling tools\n",
    "    print(f\"\\n[Model]: {llm_message['content'][0]['text']}\")\n",
    "    return f\"\\n[Model]: {llm_message['content'][0]['text']}\"\n"
   ]
  },
  {
   "cell_type": "code",
   "execution_count": 106,
   "id": "21856cad-a7de-4852-9878-ca86f66aa03e",
   "metadata": {
    "tags": []
   },
   "outputs": [
    {
     "name": "stdout",
     "output_type": "stream",
     "text": [
      "[User]: \n",
      "Suggest a healthy dinner recipe for two people that includes fish, \n",
      "is under 500 calories per serving, \n",
      "and can be made in less than 40 minutes.\n",
      "\n",
      "Model called query_food_recipe_vector_db with args {'queries': ['healthy dinner recipe fish under 500 calories 40 minutes']}\n",
      "\n",
      "[Model]: Based on the recipe metadata retrieved, I recommend the following healthy dinner recipe for two people that includes fish, is under 500 calories per serving, and can be made in less than 40 minutes:\n",
      "\n",
      "\"My Favorite Fish Recipe\"\n",
      "\n",
      "Ingredients:\n",
      "- 2 (4 oz) fish fillets (such as tilapia, cod, or salmon)\n",
      "- 1 tbsp olive oil\n",
      "- 1 tsp lemon juice\n",
      "- 1 tsp Italian seasoning\n",
      "- Salt and pepper to taste\n",
      "- 1 cup cooked quinoa\n",
      "- 1 cup steamed broccoli\n",
      "\n",
      "Instructions:\n",
      "1. Preheat oven to 400°F.\n",
      "2. Place the fish fillets in a baking dish and drizzle with olive oil, lemon juice, Italian seasoning, salt, and pepper.\n",
      "3. Bake for 20-25 minutes, until the fish is cooked through and flakes easily with a fork.\n",
      "4. Serve the baked fish over a bed of cooked quinoa and steamed broccoli.\n",
      "\n",
      "This recipe provides a healthy, balanced meal with lean protein from the fish, complex carbs from the quinoa, and fiber and nutrients from the broccoli. At 298 calories per serving, it meets the criteria of being under 500 calories and can be prepared in about 35 minutes.\n"
     ]
    }
   ],
   "source": [
    "test_query_response_4 = run_chat_loop(test_query_4)"
   ]
  },
  {
   "cell_type": "code",
   "execution_count": 107,
   "id": "360907c0-da1b-4a59-b8d9-580f77d3a4ee",
   "metadata": {
    "tags": []
   },
   "outputs": [
    {
     "name": "stdout",
     "output_type": "stream",
     "text": [
      "[User]: \n",
      "Suggest a low-carb breakfast recipe that includes eggs and spinach, \n",
      "can be prepared in under 20 minutes, \n",
      "and is suitable for a keto diet.\n",
      "\n",
      "Model called query_food_recipe_vector_db with args {'queries': ['low carb breakfast recipe with eggs and spinach', 'keto breakfast recipe with eggs and spinach', 'quick breakfast recipe with eggs and spinach']}\n",
      "\n",
      "[Model]: Based on the recipe information retrieved, I would recommend the \"Easy Eggs and Spinach Bake\" recipe. This dish meets all the criteria you specified:\n",
      "\n",
      "- It is a low-carb breakfast recipe that includes eggs and spinach.\n",
      "- It can be prepared in under 20 minutes (total time of 25 minutes).\n",
      "- It is suitable for a keto diet, with only 1.5g of carbs per serving.\n",
      "\n",
      "The recipe instructions are as follows:\n",
      "\n",
      "Ingredients:\n",
      "- 6 large eggs\n",
      "- 1/2 cup heavy cream\n",
      "- 1/4 cup grated Parmesan cheese\n",
      "- 1/4 teaspoon salt\n",
      "- 1/4 teaspoon black pepper\n",
      "- 2 cups fresh spinach, chopped\n",
      "\n",
      "Instructions:\n",
      "1. Preheat oven to 375°F. Grease a 9-inch pie dish or baking pan.\n",
      "2. In a medium bowl, whisk together the eggs, heavy cream, Parmesan, salt, and pepper.\n",
      "3. Stir in the chopped spinach.\n",
      "4. Pour the egg mixture into the prepared baking dish.\n",
      "5. Bake for 20-25 minutes, until the center is set.\n",
      "6. Let cool for 5 minutes before slicing and serving.\n",
      "\n",
      "This quick and easy keto-friendly breakfast will provide you with a nutritious and satisfying meal to start your day.\n"
     ]
    }
   ],
   "source": [
    "test_query_response_3 = run_chat_loop(test_query_3)"
   ]
  },
  {
   "cell_type": "code",
   "execution_count": 108,
   "id": "2db4da32-cddb-4558-8734-7b92bd5a00b1",
   "metadata": {
    "tags": []
   },
   "outputs": [
    {
     "name": "stdout",
     "output_type": "stream",
     "text": [
      "[User]: \n",
      "I have a peanut allergy but I like thai food. \n",
      "I also don't enjoy spicy food much, and want a meal with low carbs. \n",
      "Give a recipe with ingredients and instructions\n",
      "\n",
      "Model called query_food_recipe_vector_db with args {'queries': ['thai food recipes without peanuts', 'low carb thai recipes', 'non-spicy thai recipes']}\n",
      "\n",
      "[Model]: Based on the search results, here is a recipe for a low-carb, non-spicy Thai dish that avoids peanuts:\n",
      "\n",
      "Thai Shrimp and Cabbage Stir-Fry (Low Carb)\n",
      "\n",
      "Ingredients:\n",
      "- 1 lb shrimp, peeled and deveined\n",
      "- 1 head of cabbage, shredded \n",
      "- 2 tbsp coconut oil\n",
      "- 2 cloves garlic, minced\n",
      "- 1 tbsp fish sauce\n",
      "- 1 tbsp lime juice\n",
      "- 1 tsp coconut aminos (or low-sodium soy sauce)\n",
      "- Salt and pepper to taste\n",
      "\n",
      "Instructions:\n",
      "1. Heat the coconut oil in a large skillet or wok over medium-high heat.\n",
      "2. Add the minced garlic and sauté for 1 minute until fragrant.\n",
      "3. Add the shrimp and stir-fry for 2-3 minutes until they start to turn pink.\n",
      "4. Add the shredded cabbage and continue stir-frying for 3-4 minutes until the cabbage is tender-crisp.\n",
      "5. Stir in the fish sauce, lime juice, and coconut aminos. Season with salt and pepper to taste.\n",
      "6. Serve immediately. Enjoy your low-carb, non-spicy Thai shrimp and cabbage dish!\n",
      "\n",
      "This recipe is quick, easy, and packs a lot of flavor without the use of peanuts or excessive spice. The cabbage and shrimp make it a light yet satisfying meal. Let me know if you have any other questions!\n"
     ]
    }
   ],
   "source": [
    "test_query_response_2 = run_chat_loop(test_query_2)"
   ]
  },
  {
   "cell_type": "code",
   "execution_count": 109,
   "id": "8b52d711-916e-4adc-bc1b-7478113aca7e",
   "metadata": {
    "tags": []
   },
   "outputs": [
    {
     "name": "stdout",
     "output_type": "stream",
     "text": [
      "[User]: I enjoy asian fusion food and I am a vegetarian. Give me one recipe with ingredients and instructions\n",
      "Model called query_food_recipe_vector_db with args {'queries': ['asian fusion vegetarian recipe']}\n",
      "\n",
      "[Model]: Based on the search results, here is a recipe for a delicious vegetarian Asian-inspired dish:\n",
      "\n",
      "Vegetarian Thai Curry\n",
      "\n",
      "Ingredients:\n",
      "- 1 tablespoon coconut oil\n",
      "- 1 onion, diced \n",
      "- 3 cloves garlic, minced\n",
      "- 1 tablespoon grated ginger\n",
      "- 2 tablespoons Thai red curry paste\n",
      "- 1 (13.5 oz) can coconut milk\n",
      "- 2 cups mixed vegetables (such as bell peppers, broccoli, carrots)\n",
      "- 1 cup cooked chickpeas or tofu\n",
      "- 1 tablespoon soy sauce or tamari\n",
      "- 1 teaspoon brown sugar\n",
      "- Juice of 1 lime\n",
      "- Salt and pepper to taste\n",
      "- Chopped cilantro for garnish\n",
      "\n",
      "Instructions:\n",
      "1. In a large skillet or wok, heat the coconut oil over medium heat. Add the onion and sauté for 3-4 minutes until translucent.\n",
      "2. Add the garlic and ginger and cook for 1 minute until fragrant.\n",
      "3. Stir in the Thai red curry paste and cook for 1 minute.\n",
      "4. Pour in the coconut milk and add the mixed vegetables. Bring to a simmer and cook for 10-12 minutes until the vegetables are tender.\n",
      "5. Add the chickpeas or tofu, soy sauce, brown sugar, and lime juice. Season with salt and pepper to taste.\n",
      "6. Serve the curry over steamed rice and garnish with chopped cilantro.\n",
      "\n",
      "I hope this vegetarian Thai curry recipe gives you a delicious and healthy Asian-inspired meal to enjoy! Let me know if you need any other recommendations.\n"
     ]
    }
   ],
   "source": [
    "test_query_response_1 = run_chat_loop(test_query_1)"
   ]
  },
  {
   "cell_type": "markdown",
   "id": "1e014f6e-1798-46d2-9bf3-d11cb6d93dde",
   "metadata": {},
   "source": [
    "### Try with higher complexity / more restrictive prompts"
   ]
  },
  {
   "cell_type": "code",
   "execution_count": 110,
   "id": "404d51cd-b898-4717-8407-9415e1da4ceb",
   "metadata": {
    "tags": []
   },
   "outputs": [],
   "source": [
    "test_query_5 = \"\"\"\n",
    "I am on a ketogenic diet and need a dinner recipe that is dairy-free, \n",
    "low in sodium, and takes less than an hour to cook.\n",
    "\"\"\"\n",
    "\n",
    "test_query_6 = \"\"\"\n",
    "I'm looking for a pescatarian main course that is low in saturated fat, \n",
    "uses Asian flavors, and can be prepared in under 45 minutes.\n",
    "\"\"\"\n",
    "\n",
    "test_query_7 = \"\"\"\n",
    "I need a diabetic-friendly, vegan breakfast recipe that is gluten-free, \n",
    "nut-free, and low in cholesterol, but also rich in omega-3 fatty acids \n",
    "and can be prepared the night before.\n",
    "\"\"\"\n",
    "\n",
    "test_query_8 = \"\"\"\n",
    "I am following a strict paleo diet and need a lunch recipe that is dairy-free, \n",
    "gluten-free, low in carbs, and low in sodium. Additionally, it should be rich in antioxidants, \n",
    "and can be made in under 30 minutes with minimal cooking equipment.\n",
    "\"\"\""
   ]
  },
  {
   "cell_type": "code",
   "execution_count": 111,
   "id": "92ee0c0d-2d00-495d-b0e9-5f7316e8365c",
   "metadata": {
    "tags": []
   },
   "outputs": [
    {
     "name": "stdout",
     "output_type": "stream",
     "text": [
      "[User]: \n",
      "I am on a ketogenic diet and need a dinner recipe that is dairy-free, \n",
      "low in sodium, and takes less than an hour to cook.\n",
      "\n",
      "Model called query_food_recipe_vector_db with args {'queries': ['keto dairy-free low sodium dinner recipe']}\n",
      "\n",
      "[Model]: Based on the search results, the \"Low Carb Chicken Salad\" recipe looks like a good option that meets your dietary requirements. Here are the key details:\n",
      "\n",
      "Ingredients:\n",
      "- Cooked chicken breast, shredded or diced\n",
      "- Celery, diced\n",
      "- Red onion, diced \n",
      "- Mayonnaise (use a keto-friendly, dairy-free version)\n",
      "- Lemon juice\n",
      "- Salt and pepper to taste\n",
      "\n",
      "Instructions:\n",
      "1. In a large bowl, combine the shredded or diced chicken, celery, and red onion.\n",
      "2. Add a few tablespoons of mayonnaise and a squeeze of lemon juice. Start with a small amount of mayo and add more to reach your desired consistency.\n",
      "3. Season with salt and pepper to taste.\n",
      "4. Stir everything together until well combined.\n",
      "5. Serve the chicken salad on its own, over a bed of greens, or with keto-friendly crackers or veggie sticks.\n",
      "\n",
      "This recipe is keto-friendly, dairy-free, and low in sodium. It takes about 50 minutes total to prepare, which meets your time requirement. Let me know if you need any clarification or have additional questions!\n"
     ]
    }
   ],
   "source": [
    "test_query_response_5 = run_chat_loop(test_query_5)"
   ]
  },
  {
   "cell_type": "code",
   "execution_count": 112,
   "id": "69e9207b-3dc4-4cba-a45a-19bade8aa3ea",
   "metadata": {
    "tags": []
   },
   "outputs": [
    {
     "name": "stdout",
     "output_type": "stream",
     "text": [
      "[User]: \n",
      "I'm looking for a pescatarian main course that is low in saturated fat, \n",
      "uses Asian flavors, and can be prepared in under 45 minutes.\n",
      "\n",
      "Model called query_food_recipe_vector_db with args {'queries': ['pescatarian main course', 'low saturated fat', 'asian flavors', 'under 45 minutes']}\n",
      "\n",
      "[Model]: Based on the search results, here is a recommended pescatarian main course recipe that meets the criteria:\n",
      "\n",
      "Roasted Cauliflower With Asian Flavors\n",
      "\n",
      "Ingredients:\n",
      "- 1 head cauliflower, cut into florets\n",
      "- 2 tbsp olive oil\n",
      "- 2 tbsp low-sodium soy sauce\n",
      "- 1 tbsp rice vinegar\n",
      "- 1 tsp sesame oil\n",
      "- 1 tsp grated ginger\n",
      "- 1 clove garlic, minced\n",
      "- 1/4 tsp red pepper flakes (optional for spice)\n",
      "- Salt and pepper to taste\n",
      "- Chopped green onions and sesame seeds for garnish\n",
      "\n",
      "Instructions:\n",
      "1. Preheat oven to 400°F. Toss the cauliflower florets with the olive oil, soy sauce, rice vinegar, sesame oil, ginger, garlic, and red pepper flakes (if using) on a large baking sheet. Season with salt and pepper.\n",
      "2. Roast for 30-40 minutes, stirring halfway, until the cauliflower is tender and lightly browned.\n",
      "3. Garnish with chopped green onions and sesame seeds before serving.\n",
      "\n",
      "This dish is pescatarian, low in saturated fat, uses Asian flavors, and can be prepared in under 45 minutes. The roasted cauliflower provides a healthy, flavorful main course option.\n"
     ]
    }
   ],
   "source": [
    "test_query_response_6 = run_chat_loop(test_query_6)"
   ]
  },
  {
   "cell_type": "code",
   "execution_count": 113,
   "id": "52fec140-11e2-46d0-90f4-e8b1e2f917df",
   "metadata": {
    "tags": []
   },
   "outputs": [
    {
     "name": "stdout",
     "output_type": "stream",
     "text": [
      "[User]: \n",
      "I need a diabetic-friendly, vegan breakfast recipe that is gluten-free, \n",
      "nut-free, and low in cholesterol, but also rich in omega-3 fatty acids \n",
      "and can be prepared the night before.\n",
      "\n",
      "Model called query_food_recipe_vector_db with args {'queries': ['diabetic-friendly vegan breakfast recipe', 'gluten-free nut-free low cholesterol breakfast', 'omega-3 rich breakfast recipe']}\n",
      "\n",
      "[Model]: Based on the recipe metadata retrieved, here is a recommended diabetic-friendly, vegan, gluten-free, nut-free, low-cholesterol breakfast recipe that is rich in omega-3s and can be prepared the night before:\n",
      "\n",
      "Baked Oatmeal with Omega-3s\n",
      "\n",
      "Ingredients:\n",
      "- 2 cups rolled oats (gluten-free)\n",
      "- 1/4 cup ground flaxseed (for omega-3s)\n",
      "- 1 tsp baking powder\n",
      "- 1/2 tsp cinnamon\n",
      "- 1/4 tsp salt\n",
      "- 1 1/2 cups unsweetened almond milk\n",
      "- 1/4 cup maple syrup\n",
      "- 1 tsp vanilla extract\n",
      "- 1 ripe banana, mashed\n",
      "- 1/2 cup frozen blueberries\n",
      "\n",
      "Instructions:\n",
      "1. Preheat oven to 375°F. Grease an 8x8 inch baking dish.\n",
      "2. In a large bowl, mix together the oats, flaxseed, baking powder, cinnamon, and salt.\n",
      "3. In a separate bowl, whisk together the almond milk, maple syrup, and vanilla. \n",
      "4. Stir the wet ingredients into the dry ingredients until well combined. Fold in the mashed banana and blueberries.\n",
      "5. Pour the mixture into the prepared baking dish. Cover and refrigerate overnight.\n",
      "6. In the morning, bake for 30 minutes, until set and lightly golden on top.\n",
      "7. Serve warm, with additional almond milk or maple syrup if desired.\n",
      "\n",
      "This recipe is diabetic-friendly, vegan, gluten-free, nut-free, and low in cholesterol. The flaxseed provides a good source of omega-3 fatty acids. It can be prepared the night before for an easy, nutritious breakfast.\n"
     ]
    }
   ],
   "source": [
    "test_query_response_7 = run_chat_loop(test_query_7)"
   ]
  },
  {
   "cell_type": "code",
   "execution_count": 114,
   "id": "a0f9b8f1-5223-4f3f-be68-e007cde91e9c",
   "metadata": {
    "tags": []
   },
   "outputs": [
    {
     "name": "stdout",
     "output_type": "stream",
     "text": [
      "[User]: \n",
      "I am following a strict paleo diet and need a lunch recipe that is dairy-free, \n",
      "gluten-free, low in carbs, and low in sodium. Additionally, it should be rich in antioxidants, \n",
      "and can be made in under 30 minutes with minimal cooking equipment.\n",
      "\n",
      "Model called query_food_recipe_vector_db with args {'queries': ['paleo lunch recipe', 'low carb low sodium recipe', 'quick easy paleo recipe']}\n",
      "\n",
      "[Model]: Based on the recipe metadata retrieved, here is a recommended paleo-friendly, low-carb, low-sodium lunch recipe that is quick and easy to make:\n",
      "\n",
      "Paleo Sandwich Bread\n",
      "\n",
      "Ingredients:\n",
      "- 3 eggs\n",
      "- 1/2 cup almond flour\n",
      "- 1/4 cup coconut flour \n",
      "- 1/4 cup olive oil\n",
      "- 1 tsp baking soda\n",
      "- 1/4 tsp salt\n",
      "\n",
      "Instructions:\n",
      "1. Preheat oven to 350°F. Grease a 9x5 inch loaf pan.\n",
      "2. In a medium bowl, whisk the eggs. Then mix in the almond flour, coconut flour, olive oil, baking soda, and salt until well combined.\n",
      "3. Pour the batter into the prepared loaf pan and bake for 40 minutes, until a toothpick inserted in the center comes out clean.\n",
      "4. Allow the bread to cool completely before slicing.\n",
      "\n",
      "This paleo sandwich bread is dairy-free, gluten-free, low in carbs and sodium, and can be made in under 30 minutes. It's a great base for a quick and healthy paleo-friendly lunch. You can top it with avocado, grilled chicken, or your favorite paleo-friendly ingredients.\n",
      "\n",
      "Let me know if you need any other paleo-friendly recipe recommendations!\n"
     ]
    }
   ],
   "source": [
    "test_query_response_8 = run_chat_loop(test_query_8)"
   ]
  },
  {
   "cell_type": "markdown",
   "id": "8b0f9259-bc0f-4309-b0f9-1919374603de",
   "metadata": {},
   "source": [
    "### Basic RAG Response"
   ]
  },
  {
   "cell_type": "code",
   "execution_count": 261,
   "id": "0687191c-4598-4985-8d80-7eae0c2d6619",
   "metadata": {
    "tags": []
   },
   "outputs": [
    {
     "name": "stdout",
     "output_type": "stream",
     "text": [
      "Based on your preference for Asian fusion vegetarian dishes, I would recommend the Vegetarian Thai Curry recipe. Here are the ingredients and instructions:\n",
      "\n",
      "Ingredients:\n",
      "- 1 tablespoon vegetable oil\n",
      "- 1 onion, diced\n",
      "- 3 cloves garlic, minced\n",
      "- 1 tablespoon grated fresh ginger\n",
      "- 2 tablespoons red curry paste\n",
      "- 1 (13.5 ounce) can coconut milk\n",
      "- 1 cup vegetable broth\n",
      "- 1 red bell pepper, sliced\n",
      "- 1 cup sliced mushrooms\n",
      "- 1 cup sliced carrots\n",
      "- 1 cup broccoli florets\n",
      "- 1 cup snow peas\n",
      "- 2 tablespoons soy sauce\n",
      "- 1 tablespoon lime juice\n",
      "- Salt and pepper to taste\n",
      "- Cooked rice, for serving\n",
      "\n",
      "Instructions:\n",
      "\n",
      "1. Heat the vegetable oil in a large skillet or wok over medium-high heat.\n",
      "2. Add the onion and sauté for 2-3 minutes until translucent.\n",
      "3. Add the garlic and ginger, and cook for 1 minute until fragrant.\n",
      "4. Stir in the red curry paste and cook for 2 minutes.\n",
      "5. Pour in the coconut milk and vegetable broth, and bring to a simmer.\n",
      "6. Add the red bell pepper, mushrooms, carrots, broccoli, and snow peas.\n",
      "7. Reduce heat to medium-low and simmer for 10-15 minutes, or until vegetables are tender but still crisp.\n",
      "8. Stir in the soy sauce and lime juice, and season with salt and pepper to taste.\n",
      "9. Serve the vegetarian Thai curry over cooked rice.\n",
      "\n",
      "This flavorful curry combines the richness of coconut milk with the spicy notes of red curry paste and a medley of fresh vegetables. It's a satisfying and aromatic vegetarian dish that showcases the vibrant flavors of Thai cuisine.\n"
     ]
    }
   ],
   "source": [
    "test_query_response_1_basic_rag = qdrant_rag_chain_basic.invoke(test_query_1)\n",
    "print(test_query_response_1_basic_rag)"
   ]
  },
  {
   "cell_type": "code",
   "execution_count": 262,
   "id": "53e6c66f-aea3-4b63-b3c0-115a057922ba",
   "metadata": {
    "tags": []
   },
   "outputs": [
    {
     "name": "stdout",
     "output_type": "stream",
     "text": [
      "Based on your preferences for Thai food without peanuts, low spice, and low carbs, I would recommend the Thai Shrimp and Cabbage Stir-Fry recipe. Here are the ingredients and instructions:\n",
      "\n",
      "Ingredients:\n",
      "- 1 tablespoon sesame oil\n",
      "- 1 pound shrimp, peeled and deveined\n",
      "- 1 tablespoon fish sauce\n",
      "- 1 tablespoon soy sauce\n",
      "- 1 teaspoon rice vinegar\n",
      "- 1/2 teaspoon garlic powder\n",
      "- 1/4 teaspoon ground ginger\n",
      "- 1/4 teaspoon red pepper flakes (or less if you prefer less spice)\n",
      "- 4 cups shredded cabbage\n",
      "- 1/2 cup sliced green onions\n",
      "\n",
      "Instructions:\n",
      "\n",
      "1. Heat the sesame oil in a large skillet or wok over high heat.\n",
      "2. Add the shrimp and stir-fry for 2-3 minutes until they start to turn pink.\n",
      "3. In a small bowl, whisk together the fish sauce, soy sauce, rice vinegar, garlic powder, ginger, and red pepper flakes.\n",
      "4. Pour the sauce mixture over the shrimp and add the shredded cabbage and green onions.\n",
      "5. Continue to stir-fry for 2-3 minutes more until the cabbage is wilted and the shrimp are fully cooked.\n",
      "6. Serve hot, optionally over cauliflower rice or zucchini noodles for extra low-carb options.\n",
      "\n",
      "This recipe is low in carbs, free of peanuts, and you can adjust the red pepper flakes to your desired spice level. The cabbage and shrimp make it a flavorful and satisfying Thai-inspired meal. Let me know if you need any other recommendations!\n"
     ]
    }
   ],
   "source": [
    "test_query_response_2_basic_rag = qdrant_rag_chain_basic.invoke(test_query_2)\n",
    "print(test_query_response_2_basic_rag)"
   ]
  },
  {
   "cell_type": "code",
   "execution_count": 263,
   "id": "70a67202-9299-4397-946e-0706dafa3221",
   "metadata": {
    "tags": []
   },
   "outputs": [
    {
     "name": "stdout",
     "output_type": "stream",
     "text": [
      "Based on the provided context, the Spinach Omelette recipe seems to be the perfect fit for your request. It is a low-carb breakfast option that includes eggs and spinach, can be prepared in under 20 minutes (total time is 20 minutes), and is suitable for a keto diet as it is categorized as \"Very Low Carbs\".\n",
      "\n",
      "Here are the details for the Spinach Omelette recipe:\n",
      "\n",
      "Ingredients:\n",
      "- Eggs\n",
      "- Spinach\n",
      "- Cheese\n",
      "\n",
      "Instructions:\n",
      "1. Prepare the spinach and any other desired fillings.\n",
      "2. Beat the eggs in a bowl and season with salt and pepper.\n",
      "3. Heat a non-stick pan over medium heat and add a small amount of butter or oil.\n",
      "4. Pour in the beaten eggs and let them cook for a minute or two.\n",
      "5. Add the spinach and other fillings to one half of the omelette.\n",
      "6. When the omelette is almost set, fold the other half over the filling.\n",
      "7. Cook for another minute or until the omelette is cooked to your desired doneness.\n",
      "8. Slide the omelette onto a plate and enjoy!\n",
      "\n",
      "This recipe is quick, easy, and packed with nutrients from the eggs, spinach, and cheese. It's a delicious and satisfying low-carb breakfast option that fits perfectly within a keto diet.\n"
     ]
    }
   ],
   "source": [
    "test_query_response_3_basic_rag = qdrant_rag_chain_basic.invoke(test_query_3)\n",
    "print(test_query_response_3_basic_rag)"
   ]
  },
  {
   "cell_type": "code",
   "execution_count": 264,
   "id": "4e4e40c0-7d53-46e8-9151-3d70c6d4481f",
   "metadata": {
    "tags": []
   },
   "outputs": [
    {
     "name": "stdout",
     "output_type": "stream",
     "text": [
      "Based on the provided context, I would recommend the \"Healthy Shrimp Stir Fry for Two\" or the \"My Favorite Fish Recipe\" for a healthy dinner option that meets your criteria.\n",
      "\n",
      "The Healthy Shrimp Stir Fry for Two is a one-dish meal that takes only 16 minutes to prepare and cook. Each serving contains 371.6 calories, which is well under the 500-calorie limit you specified. It's a quick and easy recipe that includes shrimp as the main protein source.\n",
      "\n",
      "Alternatively, the My Favorite Fish Recipe is another excellent option. It takes 35 minutes to prepare and cook, which falls within your 40-minute time frame. Each serving contains 298 calories, making it a low-calorie choice. This recipe features fish as the main ingredient and is rated as healthy, easy, and suitable for beginner cooks.\n",
      "\n",
      "Both recipes are healthy, include fish, are under 500 calories per serving, and can be prepared in less than 40 minutes, meeting all your requirements.\n",
      "\n",
      "Here are the instructions for the Healthy Shrimp Stir Fry for Two:\n",
      "\n",
      "Ingredients:\n",
      "- 1 tablespoon olive oil\n",
      "- 1 pound shrimp, peeled and deveined\n",
      "- 1 cup broccoli florets\n",
      "- 1 cup sliced mushrooms\n",
      "- 1 cup sliced bell pepper\n",
      "- 2 cloves garlic, minced\n",
      "- 2 tablespoons soy sauce\n",
      "- 1 tablespoon rice vinegar\n",
      "- 1 teaspoon sesame oil\n",
      "- Salt and pepper to taste\n",
      "- Cooked rice or quinoa for serving\n",
      "\n",
      "Instructions:\n",
      "1. Heat olive oil in a large skillet or wok over high heat.\n",
      "2. Add shrimp and stir-fry for 2-3 minutes until they start to turn pink.\n",
      "3. Add broccoli, mushrooms, bell pepper, and garlic. Stir-fry for 3-4 minutes until vegetables are tender-crisp.\n",
      "4. In a small bowl, whisk together soy sauce, rice vinegar, and sesame oil.\n",
      "5. Pour the sauce over the shrimp and vegetable mixture and toss to coat.\n",
      "6. Season with salt and pepper to taste.\n",
      "7. Serve hot over cooked rice or quinoa.\n",
      "\n",
      "Let me know if you need any other details or would like me to provide the instructions for the My Favorite Fish Recipe instead.\n"
     ]
    }
   ],
   "source": [
    "test_query_response_4_basic_rag = qdrant_rag_chain_basic.invoke(test_query_4)\n",
    "print(test_query_response_4_basic_rag)"
   ]
  },
  {
   "cell_type": "code",
   "execution_count": 265,
   "id": "b20dc93d-fa57-4327-a04f-88a26cbcc694",
   "metadata": {
    "tags": []
   },
   "outputs": [
    {
     "name": "stdout",
     "output_type": "stream",
     "text": [
      "Based on the provided context and your dietary requirements, I would recommend the \"Rice Noodle Bake\" recipe. Here are the details:\n",
      "\n",
      "Recipe: Rice Noodle Bake\n",
      "Prep Time: 10 minutes\n",
      "Cook Time: 1 hour\n",
      "Total Time: 1 hour 10 minutes\n",
      "Servings: 6\n",
      "\n",
      "This recipe meets your criteria as it is dairy-free, relatively low in sodium (457.9 mg per serving), and can be prepared in under an hour. Additionally, it is categorized as a low-protein dish, which aligns with the ketogenic diet.\n",
      "\n",
      "Ingredients:\n",
      "- Rice noodles\n",
      "- Vegetables (e.g., bell peppers, onions, mushrooms)\n",
      "- Eggs\n",
      "- Coconut milk or other dairy-free milk alternative\n",
      "- Seasonings (e.g., garlic, herbs, spices)\n",
      "\n",
      "Instructions:\n",
      "1. Cook the rice noodles according to package instructions.\n",
      "2. Sauté the vegetables in a pan with a little oil or cooking spray.\n",
      "3. In a separate bowl, whisk together the eggs and coconut milk (or dairy-free milk alternative). Season with desired herbs and spices.\n",
      "4. In a baking dish, layer the cooked noodles, sautéed vegetables, and egg mixture.\n",
      "5. Bake in the oven at 350°F (175°C) for about 45 minutes to 1 hour, or until the egg mixture is set and the top is golden brown.\n",
      "\n",
      "You can adjust the recipe by adding or substituting different vegetables or seasonings to suit your taste preferences. Serve hot and enjoy this dairy-free, low-sodium, and ketogenic-friendly dinner option.\n"
     ]
    }
   ],
   "source": [
    "test_query_response_5_basic_rag = qdrant_rag_chain_basic.invoke(test_query_5)\n",
    "print(test_query_response_5_basic_rag)"
   ]
  },
  {
   "cell_type": "code",
   "execution_count": 266,
   "id": "0919b7a1-f3eb-4329-8bb4-5a269726a37d",
   "metadata": {
    "tags": []
   },
   "outputs": [
    {
     "name": "stdout",
     "output_type": "stream",
     "text": [
      "Based on the provided context and your requirements, I would recommend the \"Salmon in a Light, Fragrant Broth\" recipe. Here are the details:\n",
      "\n",
      "Recipe Name: Salmon in a Light, Fragrant Broth\n",
      "Total Time: 30 minutes\n",
      "Category: Thai\n",
      "Keywords: Asian, Kid Friendly, Spicy, Savory, < 30 Mins, Easy, Inexpensive\n",
      "\n",
      "This recipe meets your criteria as it is a pescatarian main course featuring salmon, uses Asian (Thai) flavors, and can be prepared in under 45 minutes (only 30 minutes total). Additionally, it is relatively low in saturated fat, with only 2.2 grams per serving.\n",
      "\n",
      "Instructions:\n",
      "1. Cook Time: 15 minutes\n",
      "2. Prep Time: 15 minutes\n",
      "3. Total Time: 30 minutes\n",
      "4. Servings: 2\n",
      "\n",
      "While the specific instructions are not provided in the metadata, this Thai-inspired salmon dish cooked in a fragrant broth seems to align well with your requirements for a flavorful, pescatarian main course that can be prepared quickly and is low in saturated fat.\n",
      "\n",
      "Let me know if you need any other details or have additional preferences to narrow down the recommendation further.\n"
     ]
    }
   ],
   "source": [
    "test_query_response_6_basic_rag = qdrant_rag_chain_basic.invoke(test_query_6)\n",
    "print(test_query_response_6_basic_rag)"
   ]
  },
  {
   "cell_type": "code",
   "execution_count": 267,
   "id": "cacf527a-98ac-4a69-9609-2853ea44ec01",
   "metadata": {
    "tags": []
   },
   "outputs": [
    {
     "name": "stdout",
     "output_type": "stream",
     "text": [
      "Based on the provided context and your requirements, I would recommend the \"Apple, Banana, Blueberry Overnight Oats\" recipe. Here are the reasons why this recipe fits your criteria:\n",
      "\n",
      "1. Diabetic-friendly: This recipe is low in sugar (24.7g per serving) and has a good amount of fiber from the oats, fruits, and chia seeds, which can help regulate blood sugar levels.\n",
      "\n",
      "2. Vegan: The recipe is vegan, containing no animal-derived ingredients.\n",
      "\n",
      "3. Gluten-free: Oats are naturally gluten-free, making this recipe suitable for those with gluten intolerance or celiac disease.\n",
      "\n",
      "4. Nut-free: The recipe does not contain any nuts or nut-based ingredients.\n",
      "\n",
      "5. Low in cholesterol: With only 11.4mg of cholesterol per serving, this recipe is considered low in cholesterol.\n",
      "\n",
      "6. Rich in omega-3 fatty acids: The chia seeds used in this recipe are an excellent source of omega-3 fatty acids, which are beneficial for heart health and inflammation reduction.\n",
      "\n",
      "7. Overnight preparation: As the name suggests, this recipe is an \"overnight oats\" dish, which means it can be prepared the night before and consumed in the morning.\n",
      "\n",
      "Here are the ingredients and instructions for the \"Apple, Banana, Blueberry Overnight Oats\" recipe:\n",
      "\n",
      "Ingredients:\n",
      "- 1/2 cup rolled oats\n",
      "- 1/2 cup unsweetened almond milk (or any non-dairy milk)\n",
      "- 1/2 cup plain Greek yogurt (or vegan yogurt)\n",
      "- 1 tablespoon chia seeds\n",
      "- 1/2 apple, diced\n",
      "- 1/2 banana, sliced\n",
      "- 1/4 cup fresh or frozen blueberries\n",
      "- 1 teaspoon vanilla extract (optional)\n",
      "- Pinch of cinnamon (optional)\n",
      "\n",
      "Instructions:\n",
      "1. In a jar or bowl, combine the rolled oats, almond milk, yogurt, and chia seeds. Mix well.\n",
      "2. Add the diced apple, sliced banana, blueberries, vanilla extract (if using), and cinnamon (if using). Stir to combine.\n",
      "3. Cover the jar or bowl and refrigerate overnight (or for at least 4 hours).\n",
      "4. In the morning, give the overnight oats a good stir and enjoy!\n",
      "\n",
      "This recipe is not only delicious but also meets your dietary requirements, making it a great option for a healthy and convenient vegan breakfast.\n"
     ]
    }
   ],
   "source": [
    "test_query_response_7_basic_rag = qdrant_rag_chain_basic.invoke(test_query_7)\n",
    "print(test_query_response_7_basic_rag)"
   ]
  },
  {
   "cell_type": "code",
   "execution_count": 268,
   "id": "3dcbf1ec-8688-4325-8886-4ba2e0a4e49c",
   "metadata": {
    "tags": []
   },
   "outputs": [
    {
     "name": "stdout",
     "output_type": "stream",
     "text": [
      "Based on the provided context and your dietary requirements, I would recommend the \"Paleo Chipotle Chicken Cauliflower Bake\" recipe. Here's why:\n",
      "\n",
      "1. Paleo Diet: This recipe is labeled as \"Paleo,\" which means it is grain-free, dairy-free, and follows the principles of the Paleo diet.\n",
      "\n",
      "2. Dairy-free: The recipe does not contain any dairy products, making it suitable for a dairy-free diet.\n",
      "\n",
      "3. Gluten-free: Since it is a Paleo recipe, it is naturally gluten-free.\n",
      "\n",
      "4. Low in Carbs: With only 11.4 grams of carbohydrates per serving, this recipe is considered low in carbs.\n",
      "\n",
      "5. Relatively Low in Sodium: While not extremely low in sodium, with 159.4 mg per serving, it is lower than some other recipes in the context.\n",
      "\n",
      "6. Rich in Antioxidants: Cauliflower and chipotle peppers are good sources of antioxidants.\n",
      "\n",
      "7. Quick Preparation: The total time for this recipe is 50 minutes, which falls within your 30-minute limit.\n",
      "\n",
      "8. Minimal Cooking Equipment: This recipe can be prepared in a single baking dish, requiring minimal cooking equipment.\n",
      "\n",
      "Here are the instructions for the Paleo Chipotle Chicken Cauliflower Bake:\n",
      "\n",
      "1. Preheat your oven to 375°F (190°C).\n",
      "2. In a large bowl, combine diced chicken, cauliflower florets, chipotle peppers (or chipotle chili powder), garlic, and any other desired seasonings.\n",
      "3. Transfer the mixture to a baking dish and spread it evenly.\n",
      "4. Bake for 20-25 minutes, or until the chicken is cooked through and the cauliflower is tender.\n",
      "5. Optionally, you can garnish with fresh cilantro or lime wedges before serving.\n",
      "\n",
      "This recipe meets your dietary requirements, is rich in antioxidants, and can be prepared quickly with minimal equipment. Enjoy your delicious and healthy Paleo Chipotle Chicken Cauliflower Bake!\n"
     ]
    }
   ],
   "source": [
    "test_query_response_8_basic_rag = qdrant_rag_chain_basic.invoke(test_query_8)\n",
    "print(test_query_response_8_basic_rag)"
   ]
  },
  {
   "cell_type": "markdown",
   "id": "dd2af1dd-de2e-4858-acab-6e5c8c6e3efc",
   "metadata": {
    "tags": []
   },
   "source": [
    "### Evaluation method\n",
    "1. Use LLM as a judge \n",
    "2. Basic Sniff test\n",
    "\n",
    "### Evaluation pipeline\n",
    "1. Look at EDA result and determine the type of cuisine preesnt in the data. Come up with 8 \"Test Questions\". - Done. \n",
    "    test_query_1 to test_query_8\n",
    "2. Feed the test questions in to the basic RAG, function calling RAG\n",
    "3. Gather response and use the following two methods to evaluate them.\n",
    "   1. LLM as a judge (provide grading ruberic) and ask the eval LLM to provide a score of 1-5.\n",
    "   2. Sniff test \n",
    "  "
   ]
  },
  {
   "cell_type": "markdown",
   "id": "b35de926-c6e1-4ac5-953d-9a82cf8ca2df",
   "metadata": {
    "tags": []
   },
   "source": [
    "### Recipe Grading Criteria - Pass into the Eval LLM as part of the prompt\n",
    "\n",
    "Grading Scale (1-5)\n",
    "\n",
    "5 - Exceptional Recipe:\n",
    "\n",
    "    1. Accuracy: The recipe is highly accurate and closely matches the user's query, including all specified ingredients, dietary restrictions, and desired cuisine type.\n",
    "    2. Clarity: The instructions are clear, easy to follow, and logically sequenced. Cooking times and temperatures are precise.\n",
    "    3. Creativity: The recipe demonstrates creativity, offering a unique or interesting twist on a classic dish or a novel combination of ingredients.\n",
    "    4. Completeness: The recipe includes all necessary details, such as ingredient measurements, preparation steps, serving suggestions, and any relevant tips or variations.\n",
    "    5. Healthiness: The recipe provides a balanced nutritional profile, aligning with any specified health goals or dietary considerations.\n",
    "    6. User Feedback: The recipe is likely to receive high ratings from users for both taste and ease of preparation.\n",
    "\n",
    "\n",
    "4 - Very Good Recipe:\n",
    "\n",
    "    1. Accuracy: The recipe mostly matches the user's query with minor deviations or substitutions that still align with the user's dietary restrictions and preferences.\n",
    "    2. Clarity: The instructions are clear and easy to follow, with only minor areas that could benefit from additional detail.\n",
    "    3. Creativity: The recipe shows some creativity and presents an appealing dish, though it may not be as unique as a 5-rated recipe.\n",
    "    4. Completeness: The recipe includes most necessary details, but might miss a few minor tips or variations.\n",
    "    5. Healthiness: The recipe is generally healthy, though it may not be as nutritionally balanced as a 5-rated recipe.\n",
    "    6. User Feedback: The recipe is likely to receive good ratings from users, being tasty and reasonably easy to prepare.\n",
    "\n",
    "3 - Good Recipe:\n",
    "\n",
    "    1. Accuracy: The recipe has a reasonable match with the user's query but may include some inaccuracies or ingredient substitutions that slightly alter the dish's nature.\n",
    "    2. Clarity: The instructions are generally clear but may have a few confusing steps or lack detailed guidance in some areas.\n",
    "    3. Creativity: The recipe is standard with minimal creativity or uniqueness.\n",
    "    4. Completeness: The recipe includes the essential details but lacks additional helpful information or suggestions.\n",
    "    5. Healthiness: The recipe is moderately healthy but may lack balance in terms of nutritional profile.\n",
    "    6. User Feedback: The recipe is expected to receive average ratings, being satisfactory but not outstanding in taste or ease of preparation.\n",
    "\n",
    "2 - Fair Recipe:\n",
    "\n",
    "    1. Accuracy: The recipe has noticeable discrepancies from the user's query, potentially including ingredients that were supposed to be excluded due to dietary restrictions.\n",
    "    2. Clarity: The instructions are unclear or difficult to follow, with significant gaps or ambiguities.\n",
    "    3. Creativity: The recipe lacks creativity and may appear bland or uninspired.\n",
    "    4. Completeness: The recipe is missing several important details, such as precise measurements or key preparation steps.\n",
    "    5. Healthiness: The recipe is not particularly healthy and may have an unbalanced nutritional profile.\n",
    "    6. User Feedback: The recipe is likely to receive below-average ratings due to issues with taste, clarity, or preparation difficulty.\n",
    "\n",
    "1 - Poor Recipe:\n",
    "\n",
    "    1. Accuracy: The recipe significantly deviates from the user's query, ignoring key dietary restrictions or preferences.\n",
    "    2. Clarity: The instructions are confusing, incomplete, or incorrect, making the recipe difficult or impossible to follow.\n",
    "    3. Creativity: The recipe is not creative and may seem haphazard or poorly thought out.\n",
    "    4. Completeness: The recipe is missing critical details, such as major ingredients, steps, or cooking times.\n",
    "    5. Healthiness: The recipe is unhealthy and lacks a balanced nutritional profile.\n",
    "    6. User Feedback: The recipe is likely to receive low ratings due to poor taste, difficulty in preparation, or failure to meet user expectations."
   ]
  },
  {
   "cell_type": "code",
   "execution_count": 116,
   "id": "2b700444-0292-4910-86d2-3daf33cbc276",
   "metadata": {
    "tags": []
   },
   "outputs": [],
   "source": [
    "# We will need to tune these prompts\n",
    "# query_bedrock_llm() definition NEEDS TO BE RERUN\n",
    "# each time when changes are made to this prompt\n",
    "\n",
    "eval_message_example = f\"\"\"\n",
    "You are a helpful assistant and expert in reviewing cooking recipes.\n",
    "\n",
    "Please look at the given user query, recipe generated by another LLM and follow the ruberic below. Provide a score between 1-5 on how good the receipe is.\n",
    "\n",
    "user query : \"{test_query_1}\"\n",
    "\n",
    "Recipe generated by another LLM :\"{test_query_response_1}\"\n",
    "\n",
    "Recipe review ruberic: \n",
    "\n",
    "Grading Scale (1-5)\n",
    "\n",
    "5 - Exceptional Recipe:\n",
    "\n",
    "1. Accuracy: The recipe is highly accurate and closely matches the user's query, including all specified ingredients, dietary restrictions, and desired cuisine type.\n",
    "2. Clarity: The instructions are clear, easy to follow, and logically sequenced. Cooking times and temperatures are precise.\n",
    "3. Creativity: The recipe demonstrates creativity, offering a unique or interesting twist on a classic dish or a novel combination of ingredients.\n",
    "4. Completeness: The recipe includes all necessary details, such as ingredient measurements, preparation steps, serving suggestions, and any relevant tips or variations.\n",
    "5. Healthiness: The recipe provides a balanced nutritional profile, aligning with any specified health goals or dietary considerations.\n",
    "6. User Feedback: The recipe is likely to receive high ratings from users for both taste and ease of preparation.\n",
    "4 - Very Good Recipe:\n",
    "\n",
    "1. Accuracy: The recipe mostly matches the user's query with minor deviations or substitutions that still align with the user's dietary restrictions and preferences.\n",
    "2. Clarity: The instructions are clear and easy to follow, with only minor areas that could benefit from additional detail.\n",
    "3. Creativity: The recipe shows some creativity and presents an appealing dish, though it may not be as unique as a 5-rated recipe.\n",
    "4. Completeness: The recipe includes most necessary details, but might miss a few minor tips or variations.\n",
    "5. Healthiness: The recipe is generally healthy, though it may not be as nutritionally balanced as a 5-rated recipe.\n",
    "6. User Feedback: The recipe is likely to receive good ratings from users, being tasty and reasonably easy to prepare.\n",
    "3 - Good Recipe:\n",
    "\n",
    "1. Accuracy: The recipe has a reasonable match with the user's query but may include some inaccuracies or ingredient substitutions that slightly alter the dish's nature.\n",
    "2. Clarity: The instructions are generally clear but may have a few confusing steps or lack detailed guidance in some areas.\n",
    "3. Creativity: The recipe is standard with minimal creativity or uniqueness.\n",
    "4. Completeness: The recipe includes the essential details but lacks additional helpful information or suggestions.\n",
    "5. Healthiness: The recipe is moderately healthy but may lack balance in terms of nutritional profile.\n",
    "6. User Feedback: The recipe is expected to receive average ratings, being satisfactory but not outstanding in taste or ease of preparation.\n",
    "2 - Fair Recipe:\n",
    "\n",
    "1. Accuracy: The recipe has noticeable discrepancies from the user's query, potentially including ingredients that were supposed to be excluded due to dietary restrictions.\n",
    "2. Clarity: The instructions are unclear or difficult to follow, with significant gaps or ambiguities.\n",
    "3. Creativity: The recipe lacks creativity and may appear bland or uninspired.\n",
    "4. Completeness: The recipe is missing several important details, such as precise measurements or key preparation steps.\n",
    "5. Healthiness: The recipe is not particularly healthy and may have an unbalanced nutritional profile.\n",
    "6. User Feedback: The recipe is likely to receive below-average ratings due to issues with taste, clarity, or preparation difficulty.\n",
    "1 - Poor Recipe:\n",
    "\n",
    "1. Accuracy: The recipe significantly deviates from the user's query, ignoring key dietary restrictions or preferences.\n",
    "2. Clarity: The instructions are confusing, incomplete, or incorrect, making the recipe difficult or impossible to follow.\n",
    "3. Creativity: The recipe is not creative and may seem haphazard or poorly thought out.\n",
    "4. Completeness: The recipe is missing critical details, such as major ingredients, steps, or cooking times.\n",
    "5. Healthiness: The recipe is unhealthy and lacks a balanced nutritional profile.\n",
    "6. User Feedback: The recipe is likely to receive low ratings due to poor taste, difficulty in preparation, or failure to meet user expectations.\n",
    "\n",
    "\"\"\""
   ]
  },
  {
   "cell_type": "code",
   "execution_count": 144,
   "id": "df7088e1-430d-4eca-9d21-39aa660440f2",
   "metadata": {
    "tags": []
   },
   "outputs": [],
   "source": [
    "# Eval framework\n",
    "MODEL_ID = \"anthropic.claude-3-haiku-20240307-v1:0\"\n",
    "\n",
    "def query_bedrock_eval_llm(messages):\n",
    "    response = bedrock_client.invoke_model(\n",
    "        modelId=MODEL_ID,\n",
    "        body=json.dumps({\n",
    "            'anthropic_version': 'bedrock-2023-05-31', # This is required to use chat style messages object \n",
    "            'messages': messages,\n",
    "            'max_tokens': 3000,\n",
    "\n",
    "            # This config forces the model to always call the recipe db query tool atleast once \n",
    "            # https://docs.anthropic.com/en/docs/build-with-claude/tool-use#controlling-claudes-output\n",
    "            # \"tool_choice\": {\n",
    "            #     \"type\": \"tool\",\n",
    "            #     \"name\": recipe_db_query_tool['name']\n",
    "            # },\n",
    "            \n",
    "            # TODO: TUNE THESE VALUES\n",
    "            'temperature': 0.1, \n",
    "            'top_p': 0.9,\n",
    "            'top_k' : 2,\n",
    "        })\n",
    "    )\n",
    "    response_body = json.loads(response.get('body').read())\n",
    "    \n",
    "    return response_body"
   ]
  },
  {
   "cell_type": "code",
   "execution_count": 145,
   "id": "48349c51-7a1d-4762-9623-105c16530b5d",
   "metadata": {
    "tags": []
   },
   "outputs": [],
   "source": [
    "qdrant_rag_chain_eval = (\n",
    "    RunnableMap(\n",
    "        # {\"context\": qdrant_retriever | format_docs,\n",
    "         {\"query\": RunnablePassthrough()}\n",
    "    )\n",
    "    | process_prompt\n",
    "    | query_bedrock_eval_llm\n",
    "    # | parse_event_stream\n",
    ")"
   ]
  },
  {
   "cell_type": "code",
   "execution_count": 148,
   "id": "d129b2da-515c-482b-b535-f28adad000b3",
   "metadata": {
    "tags": []
   },
   "outputs": [
    {
     "data": {
      "text/plain": [
       "\"Based on the provided recipe and the review rubric, I would rate the Vegetarian Thai Curry recipe a 4 out of 5.\\n\\nRationale:\\n\\n1. Accuracy: The recipe closely matches the user's query, including the request for a vegetarian Asian-inspired dish. All the specified ingredients and dietary restrictions are met.\\n\\n2. Clarity: The instructions are clear and easy to follow, with logical sequencing of the preparation steps. The cooking times and temperatures are provided.\\n\\n3. Creativity: The recipe demonstrates some creativity by incorporating Thai flavors and a mix of vegetables, chickpeas, and tofu. While not entirely unique, it offers an appealing and flavorful vegetarian dish.\\n\\n4. Completeness: The recipe includes all the necessary details, such as ingredient measurements, preparation steps, and serving suggestions. It also provides a few relevant tips.\\n\\n5. Healthiness: The recipe appears to be generally healthy, with a balanced nutritional profile that aligns with the vegetarian dietary requirement. The use of coconut milk, vegetables, and plant-based proteins contributes to the overall healthiness.\\n\\n6. User Feedback: The recipe is likely to receive good ratings from users for its taste and ease of preparation, making it a very good option for the given user query.\\n\\nThe only area that could potentially be improved is the level of creativity, as the recipe, while appealing, does not offer a highly unique or innovative twist on a vegetarian Asian-inspired dish. However, it still meets the user's requirements and provides a delicious and healthy meal option.\""
      ]
     },
     "execution_count": 148,
     "metadata": {},
     "output_type": "execute_result"
    }
   ],
   "source": [
    "qdrant_rag_chain_eval.invoke(eval_message_example)['content'][0]['text']"
   ]
  },
  {
   "cell_type": "code",
   "execution_count": 169,
   "id": "ac0221f6-3259-495d-b665-f51beb2a8a7c",
   "metadata": {
    "tags": []
   },
   "outputs": [
    {
     "name": "stdout",
     "output_type": "stream",
     "text": [
      "User Query: I enjoy asian fusion food and I am a vegetarian. Give me one recipe with ingredients and instructions.\n",
      "\n",
      "Recipe reviewed: Vegetarian Thai Curry\n",
      "\n",
      "Score: 4\n",
      "\n",
      "Reasoning:\n",
      "\n",
      "1. Accuracy: The recipe closely matches the user's query, providing a vegetarian Asian-inspired dish as requested. All the specified ingredients and dietary restrictions are accurately addressed.\n",
      "\n",
      "2. Clarity: The instructions are clear, easy to follow, and logically sequenced. Cooking times and temperatures are provided.\n",
      "\n",
      "3. Creativity: The recipe demonstrates creativity by offering a unique Thai curry dish, which is an interesting twist on a classic Asian cuisine.\n",
      "\n",
      "4. Completeness: The recipe includes all necessary details, such as ingredient measurements, preparation steps, serving suggestions, and relevant tips.\n",
      "\n",
      "5. Healthiness: The recipe provides a balanced nutritional profile, aligning with the user's vegetarian dietary needs.\n",
      "\n",
      "6. User Feedback: The recipe is likely to receive high ratings from users for both taste and ease of preparation, making it a very good option for the user.\n",
      "========\n",
      "User Query: \n",
      "I have a peanut allergy but I like thai food. I also don't enjoy spicy food much, and want a meal with low carbs. Give a recipe with ingredients and instructions.\n",
      "\n",
      "Recipe reviewed:\n",
      "Thai Shrimp and Cabbage Stir-Fry (Low Carb)\n",
      "\n",
      "Score: 4\n",
      "\n",
      "Reasoning:\n",
      "1. Accuracy: The recipe closely matches the user's query, providing a Thai-inspired dish that avoids peanuts and spice, while also being low in carbs.\n",
      "2. Clarity: The instructions are clear and easy to follow, with precise cooking times and temperatures.\n",
      "3. Creativity: The recipe offers a unique twist on a traditional Thai stir-fry by using cabbage instead of noodles or rice, which aligns well with the user's low-carb preference.\n",
      "4. Completeness: The recipe includes all necessary details, such as ingredient measurements, preparation steps, and serving suggestions.\n",
      "5. Healthiness: The recipe provides a balanced nutritional profile, with shrimp and cabbage as the main components, making it a healthy and satisfying meal.\n",
      "6. User Feedback: The recipe is likely to receive high ratings from users for its taste, ease of preparation, and alignment with the specified dietary requirements.\n",
      "========\n",
      "User Query: Suggest a low-carb breakfast recipe that includes eggs and spinach, can be prepared in under 20 minutes, and is suitable for a keto diet.\n",
      "\n",
      "Recipe reviewed: Easy Eggs and Spinach Bake\n",
      "\n",
      "Score: 5\n",
      "\n",
      "Reasoning:\n",
      "\n",
      "1. Accuracy: The recipe accurately matches the user's query, including all the specified ingredients (eggs and spinach), dietary restrictions (low-carb, keto-friendly), and preparation time (under 20 minutes).\n",
      "\n",
      "2. Clarity: The instructions are clear, easy to follow, and logically sequenced. The cooking time and temperature are precisely provided.\n",
      "\n",
      "3. Creativity: While the recipe is not overly creative, it presents a classic and appealing dish that combines eggs and spinach in a simple yet effective way.\n",
      "\n",
      "4. Completeness: The recipe includes all necessary details, such as ingredient measurements, preparation steps, and relevant tips (e.g., letting the dish cool before serving).\n",
      "\n",
      "5. Healthiness: The recipe aligns with the specified health goals, being low-carb and keto-friendly, with a balanced nutritional profile.\n",
      "\n",
      "6. User Feedback: The recipe is likely to receive high ratings from users for its taste, ease of preparation, and alignment with their dietary needs.\n",
      "========\n",
      "User Query: \n",
      "Suggest a healthy dinner recipe for two people that includes fish, is under 500 calories per serving, and can be made in less than 40 minutes.\n",
      "\n",
      "Recipe reviewed:\n",
      "\"My Favorite Fish Recipe\"\n",
      "\n",
      "Score: 4\n",
      "\n",
      "Reasoning:\n",
      "1. Accuracy: The recipe closely matches the user's query, including all specified ingredients (fish, quinoa, broccoli), dietary restrictions (under 500 calories per serving), and preparation time (less than 40 minutes).\n",
      "2. Clarity: The instructions are clear, easy to follow, and logically sequenced. Cooking times and temperatures are precise.\n",
      "3. Creativity: The recipe demonstrates some creativity by combining the fish with quinoa and broccoli, which is a unique and appealing dish.\n",
      "4. Completeness: The recipe includes all necessary details, such as ingredient measurements, preparation steps, and serving suggestions.\n",
      "5. Healthiness: The recipe provides a balanced nutritional profile, with lean protein from the fish, complex carbs from the quinoa, and fiber and nutrients from the broccoli. The calorie count of 298 per serving also aligns with the specified health goal.\n",
      "6. User Feedback: The recipe is likely to receive good ratings from users for both taste and ease of preparation.\n",
      "========\n",
      "User Query: \n",
      "I am on a ketogenic diet and need a dinner recipe that is dairy-free, low in sodium, and takes less than an hour to cook.\n",
      "\n",
      "Recipe reviewed:\n",
      "Low Carb Chicken Salad\n",
      "\n",
      "Score: 4\n",
      "\n",
      "Reasoning:\n",
      "1. Accuracy: The recipe closely matches the user's query, including all specified ingredients, dietary restrictions, and desired cooking time.\n",
      "2. Clarity: The instructions are clear, easy to follow, and logically sequenced. Cooking times and measurements are provided.\n",
      "3. Creativity: The recipe demonstrates some creativity by using a unique combination of ingredients like celery, red onion, and lemon juice to create a flavorful chicken salad.\n",
      "4. Completeness: The recipe includes all necessary details, such as ingredient measurements, preparation steps, and serving suggestions.\n",
      "5. Healthiness: The recipe is keto-friendly, dairy-free, and low in sodium, aligning with the user's dietary requirements.\n",
      "6. User Feedback: The recipe is likely to receive high ratings from users for its taste and ease of preparation.\n",
      "========\n",
      "User Query: \n",
      "I'm looking for a pescatarian main course that is low in saturated fat, uses Asian flavors, and can be prepared in under 45 minutes.\n",
      "\n",
      "Recipe reviewed:\n",
      "Roasted Cauliflower With Asian Flavors\n",
      "\n",
      "Score: 4\n",
      "\n",
      "Reasoning:\n",
      "1. Accuracy: The recipe closely matches the user's query, including the specified dietary restrictions, cuisine type, and preparation time.\n",
      "2. Clarity: The instructions are clear and easy to follow, with precise cooking times and temperatures.\n",
      "3. Creativity: The recipe offers a unique and appealing twist on a classic roasted cauliflower dish by incorporating Asian flavors.\n",
      "4. Completeness: The recipe includes all necessary details, such as ingredient measurements, preparation steps, and garnish suggestions.\n",
      "5. Healthiness: The recipe is low in saturated fat and provides a balanced nutritional profile, aligning with the user's health goals.\n",
      "6. User Feedback: The recipe is likely to receive high ratings from users for its combination of delicious taste and ease of preparation.\n",
      "========\n",
      "User Query: \n",
      "I need a diabetic-friendly, vegan breakfast recipe that is gluten-free, nut-free, and low in cholesterol, but also rich in omega-3 fatty acids and can be prepared the night before.\n",
      "\n",
      "Recipe reviewed:\n",
      "Baked Oatmeal with Omega-3s\n",
      "\n",
      "Score: 4\n",
      "\n",
      "Reasoning:\n",
      "1. Accuracy: The recipe closely matches the user's query, including all specified ingredients, dietary restrictions, and desired cuisine type.\n",
      "2. Clarity: The instructions are clear, easy to follow, and logically sequenced. Cooking times and temperatures are precise.\n",
      "3. Creativity: The recipe demonstrates some creativity by incorporating flaxseed to provide a good source of omega-3 fatty acids.\n",
      "4. Completeness: The recipe includes all necessary details, such as ingredient measurements, preparation steps, serving suggestions, and relevant tips.\n",
      "5. Healthiness: The recipe provides a balanced nutritional profile, aligning with the specified health goals and dietary considerations.\n",
      "6. User Feedback: The recipe is likely to receive good ratings from users for both taste and ease of preparation.\n",
      "\n",
      "The recipe is a very good match for the user's query, with only minor areas that could be improved, such as potentially adding more variety in the omega-3 sources or exploring additional creative twists on the dish. Overall, it is a well-designed, healthy, and user-friendly recipe.\n",
      "========\n",
      "User Query: \n",
      "I am following a strict paleo diet and need a lunch recipe that is dairy-free, gluten-free, low in carbs, and low in sodium. Additionally, it should be rich in antioxidants, and can be made in under 30 minutes with minimal cooking equipment.\n",
      "\n",
      "Recipe reviewed:\n",
      "Paleo Sandwich Bread\n",
      "\n",
      "Score: 4\n",
      "\n",
      "Reasoning:\n",
      "1. Accuracy: The recipe closely matches the user's query, providing a paleo-friendly, dairy-free, gluten-free, low-carb, and low-sodium bread recipe.\n",
      "2. Clarity: The instructions are clear and easy to follow, with precise cooking times and temperatures.\n",
      "3. Creativity: The recipe presents a unique paleo-friendly sandwich bread, which can be a versatile base for various paleo-friendly lunch options.\n",
      "4. Completeness: The recipe includes all necessary details, such as ingredient measurements, preparation steps, and relevant tips.\n",
      "5. Healthiness: The recipe provides a balanced nutritional profile, aligning with the user's specified health goals and dietary considerations.\n",
      "6. User Feedback: The recipe is likely to receive high ratings from users for its taste and ease of preparation, making it a great option for a quick and healthy paleo-friendly lunch.\n",
      "========\n"
     ]
    }
   ],
   "source": [
    "for i in range(1, 9):\n",
    "    \n",
    "    query = locals()[f\"test_query_{i}\"]\n",
    "    response = locals()[f\"test_query_response_{i}\"]\n",
    "    \n",
    "    eval_message = f\"\"\"\n",
    "    You are a helpful assistant and expert in reviewing cooking recipes.\n",
    "\n",
    "    Please look at the given user query, recipe generated by another LLM and follow the rubric below. Provide a score between 1-5 on how good the recipe is.\n",
    "\n",
    "    user query : \"{query}\"\n",
    "\n",
    "    Recipe generated by another LLM : \"{response}\"\n",
    "\n",
    "    Recipe review rubric: \n",
    "\n",
    "    Grading Scale (1-5)\n",
    "\n",
    "    5 - Exceptional Recipe:\n",
    "\n",
    "    1. Accuracy: The recipe is highly accurate and closely matches the user's query, including all specified ingredients, dietary restrictions, and desired cuisine type.\n",
    "    2. Clarity: The instructions are clear, easy to follow, and logically sequenced. Cooking times and temperatures are precise.\n",
    "    3. Creativity: The recipe demonstrates creativity, offering a unique or interesting twist on a classic dish or a novel combination of ingredients.\n",
    "    4. Completeness: The recipe includes all necessary details, such as ingredient measurements, preparation steps, serving suggestions, and any relevant tips or variations.\n",
    "    5. Healthiness: The recipe provides a balanced nutritional profile, aligning with any specified health goals or dietary considerations.\n",
    "    6. User Feedback: The recipe is likely to receive high ratings from users for both taste and ease of preparation.\n",
    "    4 - Very Good Recipe:\n",
    "\n",
    "    1. Accuracy: The recipe mostly matches the user's query with minor deviations or substitutions that still align with the user's dietary restrictions and preferences.\n",
    "    2. Clarity: The instructions are clear and easy to follow, with only minor areas that could benefit from additional detail.\n",
    "    3. Creativity: The recipe shows some creativity and presents an appealing dish, though it may not be as unique as a 5-rated recipe.\n",
    "    4. Completeness: The recipe includes most necessary details, but might miss a few minor tips or variations.\n",
    "    5. Healthiness: The recipe is generally healthy, though it may not be as nutritionally balanced as a 5-rated recipe.\n",
    "    6. User Feedback: The recipe is likely to receive good ratings from users, being tasty and reasonably easy to prepare.\n",
    "    3 - Good Recipe:\n",
    "\n",
    "    1. Accuracy: The recipe has a reasonable match with the user's query but may include some inaccuracies or ingredient substitutions that slightly alter the dish's nature.\n",
    "    2. Clarity: The instructions are generally clear but may have a few confusing steps or lack detailed guidance in some areas.\n",
    "    3. Creativity: The recipe is standard with minimal creativity or uniqueness.\n",
    "    4. Completeness: The recipe includes the essential details but lacks additional helpful information or suggestions.\n",
    "    5. Healthiness: The recipe is moderately healthy but may lack balance in terms of nutritional profile.\n",
    "    6. User Feedback: The recipe is expected to receive average ratings, being satisfactory but not outstanding in taste or ease of preparation.\n",
    "    2 - Fair Recipe:\n",
    "\n",
    "    1. Accuracy: The recipe has noticeable discrepancies from the user's query, potentially including ingredients that were supposed to be excluded due to dietary restrictions.\n",
    "    2. Clarity: The instructions are unclear or difficult to follow, with significant gaps or ambiguities.\n",
    "    3. Creativity: The recipe lacks creativity and may appear bland or uninspired.\n",
    "    4. Completeness: The recipe is missing several important details, such as precise measurements or key preparation steps.\n",
    "    5. Healthiness: The recipe is not particularly healthy and may have an unbalanced nutritional profile.\n",
    "    6. User Feedback: The recipe is likely to receive below-average ratings due to issues with taste, clarity, or preparation difficulty.\n",
    "    1 - Poor Recipe:\n",
    "\n",
    "    1. Accuracy: The recipe significantly deviates from the user's query, ignoring key dietary restrictions or preferences.\n",
    "    2. Clarity: The instructions are confusing, incomplete, or incorrect, making the recipe difficult or impossible to follow.\n",
    "    3. Creativity: The recipe is not creative and may seem haphazard or poorly thought out.\n",
    "    4. Completeness: The recipe is missing critical details, such as major ingredients, steps, or cooking times.\n",
    "    5. Healthiness: The recipe is unhealthy and lacks a balanced nutritional profile.\n",
    "    6. User Feedback: The recipe is likely to receive low ratings due to poor taste, difficulty in preparation, or failure to meet user expectations.\n",
    "    \n",
    "    The response format should be the following :\n",
    "    \n",
    "    User Query : \n",
    "    Recipe reviewed : \n",
    "    Score : \n",
    "    Reasoning : \n",
    "        1. Accuracy:\n",
    "        2. Clarity :\n",
    "        3. Creativity :\n",
    "        4. Completeness : \n",
    "        5. Healthiness : \n",
    "        6. User Feedback :\n",
    "    \"\"\"\n",
    "    \n",
    "    response = qdrant_rag_chain_eval.invoke(eval_message)['content'][0]['text']\n",
    "    print(response)\n",
    "    print(\"========\")\n",
    "\n",
    "    "
   ]
  },
  {
   "cell_type": "code",
   "execution_count": 170,
   "id": "cad7ee2f-117f-4595-a30c-7a4958458875",
   "metadata": {
    "tags": []
   },
   "outputs": [
    {
     "data": {
      "text/plain": [
       "'\\n    You are a helpful assistant and expert in reviewing cooking recipes.\\n\\n    Please look at the given user query, recipe generated by another LLM and follow the rubric below. Provide a score between 1-5 on how good the recipe is.\\n\\n    user query : \"\\nI am following a strict paleo diet and need a lunch recipe that is dairy-free, \\ngluten-free, low in carbs, and low in sodium. Additionally, it should be rich in antioxidants, \\nand can be made in under 30 minutes with minimal cooking equipment.\\n\"\\n\\n    Recipe generated by another LLM : \"\\n[Model]: Based on the recipe metadata retrieved, here is a recommended paleo-friendly, low-carb, low-sodium lunch recipe that is quick and easy to make:\\n\\nPaleo Sandwich Bread\\n\\nIngredients:\\n- 3 eggs\\n- 1/2 cup almond flour\\n- 1/4 cup coconut flour \\n- 1/4 cup olive oil\\n- 1 tsp baking soda\\n- 1/4 tsp salt\\n\\nInstructions:\\n1. Preheat oven to 350°F. Grease a 9x5 inch loaf pan.\\n2. In a medium bowl, whisk the eggs. Then mix in the almond flour, coconut flour, olive oil, baking soda, and salt until well combined.\\n3. Pour the batter into the prepared loaf pan and bake for 40 minutes, until a toothpick inserted in the center comes out clean.\\n4. Allow the bread to cool completely before slicing.\\n\\nThis paleo sandwich bread is dairy-free, gluten-free, low in carbs and sodium, and can be made in under 30 minutes. It\\'s a great base for a quick and healthy paleo-friendly lunch. You can top it with avocado, grilled chicken, or your favorite paleo-friendly ingredients.\\n\\nLet me know if you need any other paleo-friendly recipe recommendations!\"\\n\\n    Recipe review rubric: \\n\\n    Grading Scale (1-5)\\n\\n    5 - Exceptional Recipe:\\n\\n    1. Accuracy: The recipe is highly accurate and closely matches the user\\'s query, including all specified ingredients, dietary restrictions, and desired cuisine type.\\n    2. Clarity: The instructions are clear, easy to follow, and logically sequenced. Cooking times and temperatures are precise.\\n    3. Creativity: The recipe demonstrates creativity, offering a unique or interesting twist on a classic dish or a novel combination of ingredients.\\n    4. Completeness: The recipe includes all necessary details, such as ingredient measurements, preparation steps, serving suggestions, and any relevant tips or variations.\\n    5. Healthiness: The recipe provides a balanced nutritional profile, aligning with any specified health goals or dietary considerations.\\n    6. User Feedback: The recipe is likely to receive high ratings from users for both taste and ease of preparation.\\n    4 - Very Good Recipe:\\n\\n    1. Accuracy: The recipe mostly matches the user\\'s query with minor deviations or substitutions that still align with the user\\'s dietary restrictions and preferences.\\n    2. Clarity: The instructions are clear and easy to follow, with only minor areas that could benefit from additional detail.\\n    3. Creativity: The recipe shows some creativity and presents an appealing dish, though it may not be as unique as a 5-rated recipe.\\n    4. Completeness: The recipe includes most necessary details, but might miss a few minor tips or variations.\\n    5. Healthiness: The recipe is generally healthy, though it may not be as nutritionally balanced as a 5-rated recipe.\\n    6. User Feedback: The recipe is likely to receive good ratings from users, being tasty and reasonably easy to prepare.\\n    3 - Good Recipe:\\n\\n    1. Accuracy: The recipe has a reasonable match with the user\\'s query but may include some inaccuracies or ingredient substitutions that slightly alter the dish\\'s nature.\\n    2. Clarity: The instructions are generally clear but may have a few confusing steps or lack detailed guidance in some areas.\\n    3. Creativity: The recipe is standard with minimal creativity or uniqueness.\\n    4. Completeness: The recipe includes the essential details but lacks additional helpful information or suggestions.\\n    5. Healthiness: The recipe is moderately healthy but may lack balance in terms of nutritional profile.\\n    6. User Feedback: The recipe is expected to receive average ratings, being satisfactory but not outstanding in taste or ease of preparation.\\n    2 - Fair Recipe:\\n\\n    1. Accuracy: The recipe has noticeable discrepancies from the user\\'s query, potentially including ingredients that were supposed to be excluded due to dietary restrictions.\\n    2. Clarity: The instructions are unclear or difficult to follow, with significant gaps or ambiguities.\\n    3. Creativity: The recipe lacks creativity and may appear bland or uninspired.\\n    4. Completeness: The recipe is missing several important details, such as precise measurements or key preparation steps.\\n    5. Healthiness: The recipe is not particularly healthy and may have an unbalanced nutritional profile.\\n    6. User Feedback: The recipe is likely to receive below-average ratings due to issues with taste, clarity, or preparation difficulty.\\n    1 - Poor Recipe:\\n\\n    1. Accuracy: The recipe significantly deviates from the user\\'s query, ignoring key dietary restrictions or preferences.\\n    2. Clarity: The instructions are confusing, incomplete, or incorrect, making the recipe difficult or impossible to follow.\\n    3. Creativity: The recipe is not creative and may seem haphazard or poorly thought out.\\n    4. Completeness: The recipe is missing critical details, such as major ingredients, steps, or cooking times.\\n    5. Healthiness: The recipe is unhealthy and lacks a balanced nutritional profile.\\n    6. User Feedback: The recipe is likely to receive low ratings due to poor taste, difficulty in preparation, or failure to meet user expectations.\\n    \\n    The response format should be the following :\\n    \\n    User Query : \\n    Recipe reviewed : \\n    Score : \\n    Reasoning : \\n        1. Accuracy:\\n        2. Clarity :\\n        3. Creativity :\\n        4. Completeness : \\n        5. Healthiness : \\n        6. User Feedback :\\n    '"
      ]
     },
     "execution_count": 170,
     "metadata": {},
     "output_type": "execute_result"
    }
   ],
   "source": [
    "eval_message"
   ]
  },
  {
   "cell_type": "code",
   "execution_count": null,
   "id": "c78f8b8b-069e-44b0-94aa-8f25a84b59af",
   "metadata": {
    "tags": []
   },
   "outputs": [],
   "source": []
  },
  {
   "cell_type": "code",
   "execution_count": null,
   "id": "3e01e359-f8a8-4b93-bdca-6cbd709513c5",
   "metadata": {},
   "outputs": [],
   "source": []
  }
 ],
 "metadata": {
  "kernelspec": {
   "display_name": "conda_python3",
   "language": "python",
   "name": "conda_python3"
  },
  "language_info": {
   "codemirror_mode": {
    "name": "ipython",
    "version": 3
   },
   "file_extension": ".py",
   "mimetype": "text/x-python",
   "name": "python",
   "nbconvert_exporter": "python",
   "pygments_lexer": "ipython3",
   "version": "3.10.14"
  }
 },
 "nbformat": 4,
 "nbformat_minor": 5
}
