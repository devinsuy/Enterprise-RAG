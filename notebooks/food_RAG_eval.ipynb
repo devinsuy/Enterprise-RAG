{
 "cells": [
  {
   "cell_type": "markdown",
   "id": "a1ca1687-79fb-4439-8c91-7b1049c36153",
   "metadata": {},
   "source": [
    "### Install dependencies"
   ]
  },
  {
   "cell_type": "code",
   "execution_count": 1,
   "id": "d8fbce3d-65f5-4ded-8fd4-d9f1101286a9",
   "metadata": {
    "scrolled": true,
    "tags": []
   },
   "outputs": [
    {
     "name": "stdout",
     "output_type": "stream",
     "text": [
      "Requirement already satisfied: boto3 in /home/reson/miniconda3/envs/LangChain/lib/python3.12/site-packages (1.34.140)\n",
      "Requirement already satisfied: sagemaker in /home/reson/miniconda3/envs/LangChain/lib/python3.12/site-packages (2.224.4)\n",
      "Requirement already satisfied: langchain in /home/reson/miniconda3/envs/LangChain/lib/python3.12/site-packages (0.2.6)\n",
      "Requirement already satisfied: langchain-community in /home/reson/miniconda3/envs/LangChain/lib/python3.12/site-packages (0.2.6)\n",
      "Requirement already satisfied: langchain-core in /home/reson/miniconda3/envs/LangChain/lib/python3.12/site-packages (0.2.11)\n",
      "Requirement already satisfied: faiss-cpu in /home/reson/miniconda3/envs/LangChain/lib/python3.12/site-packages (1.8.0.post1)\n",
      "Requirement already satisfied: requests in /home/reson/miniconda3/envs/LangChain/lib/python3.12/site-packages (2.32.3)\n",
      "Requirement already satisfied: opensearch-py in /home/reson/miniconda3/envs/LangChain/lib/python3.12/site-packages (2.6.0)\n",
      "Requirement already satisfied: sentence-transformers in /home/reson/miniconda3/envs/LangChain/lib/python3.12/site-packages (3.0.1)\n",
      "Requirement already satisfied: langchain-text-splitters in /home/reson/miniconda3/envs/LangChain/lib/python3.12/site-packages (0.2.2)\n",
      "Requirement already satisfied: requests-aws4auth in /home/reson/miniconda3/envs/LangChain/lib/python3.12/site-packages (1.2.3)\n",
      "Requirement already satisfied: qdrant-client in /home/reson/miniconda3/envs/LangChain/lib/python3.12/site-packages (1.10.0)\n",
      "Requirement already satisfied: botocore<1.35.0,>=1.34.140 in /home/reson/miniconda3/envs/LangChain/lib/python3.12/site-packages (from boto3) (1.34.140)\n",
      "Requirement already satisfied: jmespath<2.0.0,>=0.7.1 in /home/reson/miniconda3/envs/LangChain/lib/python3.12/site-packages (from boto3) (1.0.1)\n",
      "Requirement already satisfied: s3transfer<0.11.0,>=0.10.0 in /home/reson/miniconda3/envs/LangChain/lib/python3.12/site-packages (from boto3) (0.10.2)\n",
      "Requirement already satisfied: attrs<24,>=23.1.0 in /home/reson/miniconda3/envs/LangChain/lib/python3.12/site-packages (from sagemaker) (23.2.0)\n",
      "Requirement already satisfied: cloudpickle==2.2.1 in /home/reson/miniconda3/envs/LangChain/lib/python3.12/site-packages (from sagemaker) (2.2.1)\n",
      "Requirement already satisfied: google-pasta in /home/reson/miniconda3/envs/LangChain/lib/python3.12/site-packages (from sagemaker) (0.2.0)\n",
      "Requirement already satisfied: numpy<2.0,>=1.9.0 in /home/reson/miniconda3/envs/LangChain/lib/python3.12/site-packages (from sagemaker) (1.26.4)\n",
      "Requirement already satisfied: protobuf<5.0,>=3.12 in /home/reson/miniconda3/envs/LangChain/lib/python3.12/site-packages (from sagemaker) (4.25.3)\n",
      "Requirement already satisfied: smdebug-rulesconfig==1.0.1 in /home/reson/miniconda3/envs/LangChain/lib/python3.12/site-packages (from sagemaker) (1.0.1)\n",
      "Requirement already satisfied: importlib-metadata<7.0,>=1.4.0 in /home/reson/miniconda3/envs/LangChain/lib/python3.12/site-packages (from sagemaker) (6.8.0)\n",
      "Requirement already satisfied: packaging>=20.0 in /home/reson/miniconda3/envs/LangChain/lib/python3.12/site-packages (from sagemaker) (23.2)\n",
      "Requirement already satisfied: pandas in /home/reson/miniconda3/envs/LangChain/lib/python3.12/site-packages (from sagemaker) (2.2.1)\n",
      "Requirement already satisfied: pathos in /home/reson/miniconda3/envs/LangChain/lib/python3.12/site-packages (from sagemaker) (0.3.2)\n",
      "Requirement already satisfied: schema in /home/reson/miniconda3/envs/LangChain/lib/python3.12/site-packages (from sagemaker) (0.7.7)\n",
      "Requirement already satisfied: PyYAML~=6.0 in /home/reson/miniconda3/envs/LangChain/lib/python3.12/site-packages (from sagemaker) (6.0.1)\n",
      "Requirement already satisfied: jsonschema in /home/reson/miniconda3/envs/LangChain/lib/python3.12/site-packages (from sagemaker) (4.21.1)\n",
      "Requirement already satisfied: platformdirs in /home/reson/miniconda3/envs/LangChain/lib/python3.12/site-packages (from sagemaker) (4.2.0)\n",
      "Requirement already satisfied: tblib<4,>=1.7.0 in /home/reson/miniconda3/envs/LangChain/lib/python3.12/site-packages (from sagemaker) (3.0.0)\n",
      "Requirement already satisfied: urllib3<3.0.0,>=1.26.8 in /home/reson/miniconda3/envs/LangChain/lib/python3.12/site-packages (from sagemaker) (1.26.18)\n",
      "Requirement already satisfied: docker in /home/reson/miniconda3/envs/LangChain/lib/python3.12/site-packages (from sagemaker) (7.1.0)\n",
      "Requirement already satisfied: tqdm in /home/reson/miniconda3/envs/LangChain/lib/python3.12/site-packages (from sagemaker) (4.66.4)\n",
      "Requirement already satisfied: psutil in /home/reson/miniconda3/envs/LangChain/lib/python3.12/site-packages (from sagemaker) (5.9.8)\n",
      "Requirement already satisfied: SQLAlchemy<3,>=1.4 in /home/reson/miniconda3/envs/LangChain/lib/python3.12/site-packages (from langchain) (2.0.29)\n",
      "Requirement already satisfied: aiohttp<4.0.0,>=3.8.3 in /home/reson/miniconda3/envs/LangChain/lib/python3.12/site-packages (from langchain) (3.9.3)\n",
      "Requirement already satisfied: langsmith<0.2.0,>=0.1.17 in /home/reson/miniconda3/envs/LangChain/lib/python3.12/site-packages (from langchain) (0.1.83)\n",
      "Requirement already satisfied: pydantic<3,>=1 in /home/reson/miniconda3/envs/LangChain/lib/python3.12/site-packages (from langchain) (2.6.4)\n",
      "Requirement already satisfied: tenacity!=8.4.0,<9.0.0,>=8.1.0 in /home/reson/miniconda3/envs/LangChain/lib/python3.12/site-packages (from langchain) (8.2.3)\n",
      "Requirement already satisfied: dataclasses-json<0.7,>=0.5.7 in /home/reson/miniconda3/envs/LangChain/lib/python3.12/site-packages (from langchain-community) (0.6.4)\n",
      "Requirement already satisfied: jsonpatch<2.0,>=1.33 in /home/reson/miniconda3/envs/LangChain/lib/python3.12/site-packages (from langchain-core) (1.33)\n",
      "Requirement already satisfied: charset-normalizer<4,>=2 in /home/reson/miniconda3/envs/LangChain/lib/python3.12/site-packages (from requests) (3.3.2)\n",
      "Requirement already satisfied: idna<4,>=2.5 in /home/reson/miniconda3/envs/LangChain/lib/python3.12/site-packages (from requests) (3.7)\n",
      "Requirement already satisfied: certifi>=2017.4.17 in /home/reson/miniconda3/envs/LangChain/lib/python3.12/site-packages (from requests) (2024.2.2)\n",
      "Requirement already satisfied: six in /home/reson/miniconda3/envs/LangChain/lib/python3.12/site-packages (from opensearch-py) (1.16.0)\n",
      "Requirement already satisfied: python-dateutil in /home/reson/miniconda3/envs/LangChain/lib/python3.12/site-packages (from opensearch-py) (2.9.0)\n",
      "Requirement already satisfied: Events in /home/reson/miniconda3/envs/LangChain/lib/python3.12/site-packages (from opensearch-py) (0.5)\n",
      "Requirement already satisfied: transformers<5.0.0,>=4.34.0 in /home/reson/miniconda3/envs/LangChain/lib/python3.12/site-packages (from sentence-transformers) (4.40.0.dev0)\n",
      "Requirement already satisfied: torch>=1.11.0 in /home/reson/miniconda3/envs/LangChain/lib/python3.12/site-packages (from sentence-transformers) (2.2.2)\n",
      "Requirement already satisfied: scikit-learn in /home/reson/miniconda3/envs/LangChain/lib/python3.12/site-packages (from sentence-transformers) (1.4.1.post1)\n",
      "Requirement already satisfied: scipy in /home/reson/miniconda3/envs/LangChain/lib/python3.12/site-packages (from sentence-transformers) (1.13.0)\n",
      "Requirement already satisfied: huggingface-hub>=0.15.1 in /home/reson/miniconda3/envs/LangChain/lib/python3.12/site-packages (from sentence-transformers) (0.22.2)\n",
      "Requirement already satisfied: Pillow in /home/reson/miniconda3/envs/LangChain/lib/python3.12/site-packages (from sentence-transformers) (10.3.0)\n",
      "Requirement already satisfied: grpcio>=1.41.0 in /home/reson/miniconda3/envs/LangChain/lib/python3.12/site-packages (from qdrant-client) (1.62.1)\n",
      "Requirement already satisfied: grpcio-tools>=1.41.0 in /home/reson/miniconda3/envs/LangChain/lib/python3.12/site-packages (from qdrant-client) (1.62.1)\n",
      "Requirement already satisfied: httpx>=0.20.0 in /home/reson/miniconda3/envs/LangChain/lib/python3.12/site-packages (from httpx[http2]>=0.20.0->qdrant-client) (0.27.0)\n",
      "Requirement already satisfied: portalocker<3.0.0,>=2.7.0 in /home/reson/miniconda3/envs/LangChain/lib/python3.12/site-packages (from qdrant-client) (2.8.2)\n",
      "Requirement already satisfied: aiosignal>=1.1.2 in /home/reson/miniconda3/envs/LangChain/lib/python3.12/site-packages (from aiohttp<4.0.0,>=3.8.3->langchain) (1.3.1)\n",
      "Requirement already satisfied: frozenlist>=1.1.1 in /home/reson/miniconda3/envs/LangChain/lib/python3.12/site-packages (from aiohttp<4.0.0,>=3.8.3->langchain) (1.4.1)\n",
      "Requirement already satisfied: multidict<7.0,>=4.5 in /home/reson/miniconda3/envs/LangChain/lib/python3.12/site-packages (from aiohttp<4.0.0,>=3.8.3->langchain) (6.0.5)\n",
      "Requirement already satisfied: yarl<2.0,>=1.0 in /home/reson/miniconda3/envs/LangChain/lib/python3.12/site-packages (from aiohttp<4.0.0,>=3.8.3->langchain) (1.9.4)\n",
      "Requirement already satisfied: marshmallow<4.0.0,>=3.18.0 in /home/reson/miniconda3/envs/LangChain/lib/python3.12/site-packages (from dataclasses-json<0.7,>=0.5.7->langchain-community) (3.21.1)\n",
      "Requirement already satisfied: typing-inspect<1,>=0.4.0 in /home/reson/miniconda3/envs/LangChain/lib/python3.12/site-packages (from dataclasses-json<0.7,>=0.5.7->langchain-community) (0.9.0)\n",
      "Requirement already satisfied: setuptools in /home/reson/miniconda3/envs/LangChain/lib/python3.12/site-packages (from grpcio-tools>=1.41.0->qdrant-client) (69.2.0)\n",
      "Requirement already satisfied: anyio in /home/reson/miniconda3/envs/LangChain/lib/python3.12/site-packages (from httpx>=0.20.0->httpx[http2]>=0.20.0->qdrant-client) (4.3.0)\n",
      "Requirement already satisfied: httpcore==1.* in /home/reson/miniconda3/envs/LangChain/lib/python3.12/site-packages (from httpx>=0.20.0->httpx[http2]>=0.20.0->qdrant-client) (1.0.5)\n",
      "Requirement already satisfied: sniffio in /home/reson/miniconda3/envs/LangChain/lib/python3.12/site-packages (from httpx>=0.20.0->httpx[http2]>=0.20.0->qdrant-client) (1.3.1)\n",
      "Requirement already satisfied: h11<0.15,>=0.13 in /home/reson/miniconda3/envs/LangChain/lib/python3.12/site-packages (from httpcore==1.*->httpx>=0.20.0->httpx[http2]>=0.20.0->qdrant-client) (0.14.0)\n",
      "Requirement already satisfied: h2<5,>=3 in /home/reson/miniconda3/envs/LangChain/lib/python3.12/site-packages (from httpx[http2]>=0.20.0->qdrant-client) (4.1.0)\n",
      "Requirement already satisfied: filelock in /home/reson/miniconda3/envs/LangChain/lib/python3.12/site-packages (from huggingface-hub>=0.15.1->sentence-transformers) (3.13.3)\n",
      "Requirement already satisfied: fsspec>=2023.5.0 in /home/reson/miniconda3/envs/LangChain/lib/python3.12/site-packages (from huggingface-hub>=0.15.1->sentence-transformers) (2024.2.0)\n",
      "Requirement already satisfied: typing-extensions>=3.7.4.3 in /home/reson/miniconda3/envs/LangChain/lib/python3.12/site-packages (from huggingface-hub>=0.15.1->sentence-transformers) (4.12.0)\n",
      "Requirement already satisfied: zipp>=0.5 in /home/reson/miniconda3/envs/LangChain/lib/python3.12/site-packages (from importlib-metadata<7.0,>=1.4.0->sagemaker) (3.17.0)\n",
      "Requirement already satisfied: jsonpointer>=1.9 in /home/reson/miniconda3/envs/LangChain/lib/python3.12/site-packages (from jsonpatch<2.0,>=1.33->langchain-core) (2.4)\n",
      "Requirement already satisfied: orjson<4.0.0,>=3.9.14 in /home/reson/miniconda3/envs/LangChain/lib/python3.12/site-packages (from langsmith<0.2.0,>=0.1.17->langchain) (3.10.0)\n",
      "Requirement already satisfied: annotated-types>=0.4.0 in /home/reson/miniconda3/envs/LangChain/lib/python3.12/site-packages (from pydantic<3,>=1->langchain) (0.6.0)\n",
      "Requirement already satisfied: pydantic-core==2.16.3 in /home/reson/miniconda3/envs/LangChain/lib/python3.12/site-packages (from pydantic<3,>=1->langchain) (2.16.3)\n",
      "Requirement already satisfied: greenlet!=0.4.17 in /home/reson/miniconda3/envs/LangChain/lib/python3.12/site-packages (from SQLAlchemy<3,>=1.4->langchain) (3.0.3)\n",
      "Requirement already satisfied: sympy in /home/reson/miniconda3/envs/LangChain/lib/python3.12/site-packages (from torch>=1.11.0->sentence-transformers) (1.12)\n",
      "Requirement already satisfied: networkx in /home/reson/miniconda3/envs/LangChain/lib/python3.12/site-packages (from torch>=1.11.0->sentence-transformers) (3.1)\n",
      "Requirement already satisfied: jinja2 in /home/reson/miniconda3/envs/LangChain/lib/python3.12/site-packages (from torch>=1.11.0->sentence-transformers) (3.1.2)\n",
      "Requirement already satisfied: nvidia-cuda-nvrtc-cu12==12.1.105 in /home/reson/miniconda3/envs/LangChain/lib/python3.12/site-packages (from torch>=1.11.0->sentence-transformers) (12.1.105)\n",
      "Requirement already satisfied: nvidia-cuda-runtime-cu12==12.1.105 in /home/reson/miniconda3/envs/LangChain/lib/python3.12/site-packages (from torch>=1.11.0->sentence-transformers) (12.1.105)\n",
      "Requirement already satisfied: nvidia-cuda-cupti-cu12==12.1.105 in /home/reson/miniconda3/envs/LangChain/lib/python3.12/site-packages (from torch>=1.11.0->sentence-transformers) (12.1.105)\n",
      "Requirement already satisfied: nvidia-cudnn-cu12==8.9.2.26 in /home/reson/miniconda3/envs/LangChain/lib/python3.12/site-packages (from torch>=1.11.0->sentence-transformers) (8.9.2.26)\n",
      "Requirement already satisfied: nvidia-cublas-cu12==12.1.3.1 in /home/reson/miniconda3/envs/LangChain/lib/python3.12/site-packages (from torch>=1.11.0->sentence-transformers) (12.1.3.1)\n",
      "Requirement already satisfied: nvidia-cufft-cu12==11.0.2.54 in /home/reson/miniconda3/envs/LangChain/lib/python3.12/site-packages (from torch>=1.11.0->sentence-transformers) (11.0.2.54)\n",
      "Requirement already satisfied: nvidia-curand-cu12==10.3.2.106 in /home/reson/miniconda3/envs/LangChain/lib/python3.12/site-packages (from torch>=1.11.0->sentence-transformers) (10.3.2.106)\n",
      "Requirement already satisfied: nvidia-cusolver-cu12==11.4.5.107 in /home/reson/miniconda3/envs/LangChain/lib/python3.12/site-packages (from torch>=1.11.0->sentence-transformers) (11.4.5.107)\n",
      "Requirement already satisfied: nvidia-cusparse-cu12==12.1.0.106 in /home/reson/miniconda3/envs/LangChain/lib/python3.12/site-packages (from torch>=1.11.0->sentence-transformers) (12.1.0.106)\n",
      "Requirement already satisfied: nvidia-nccl-cu12==2.19.3 in /home/reson/miniconda3/envs/LangChain/lib/python3.12/site-packages (from torch>=1.11.0->sentence-transformers) (2.19.3)\n",
      "Requirement already satisfied: nvidia-nvtx-cu12==12.1.105 in /home/reson/miniconda3/envs/LangChain/lib/python3.12/site-packages (from torch>=1.11.0->sentence-transformers) (12.1.105)\n",
      "Requirement already satisfied: nvidia-nvjitlink-cu12 in /home/reson/miniconda3/envs/LangChain/lib/python3.12/site-packages (from nvidia-cusolver-cu12==11.4.5.107->torch>=1.11.0->sentence-transformers) (12.4.127)\n",
      "Requirement already satisfied: regex!=2019.12.17 in /home/reson/miniconda3/envs/LangChain/lib/python3.12/site-packages (from transformers<5.0.0,>=4.34.0->sentence-transformers) (2023.12.25)\n",
      "Requirement already satisfied: tokenizers<0.19,>=0.14 in /home/reson/miniconda3/envs/LangChain/lib/python3.12/site-packages (from transformers<5.0.0,>=4.34.0->sentence-transformers) (0.15.2)\n",
      "Requirement already satisfied: safetensors>=0.4.1 in /home/reson/miniconda3/envs/LangChain/lib/python3.12/site-packages (from transformers<5.0.0,>=4.34.0->sentence-transformers) (0.4.2)\n",
      "Requirement already satisfied: jsonschema-specifications>=2023.03.6 in /home/reson/miniconda3/envs/LangChain/lib/python3.12/site-packages (from jsonschema->sagemaker) (2023.12.1)\n",
      "Requirement already satisfied: referencing>=0.28.4 in /home/reson/miniconda3/envs/LangChain/lib/python3.12/site-packages (from jsonschema->sagemaker) (0.34.0)\n",
      "Requirement already satisfied: rpds-py>=0.7.1 in /home/reson/miniconda3/envs/LangChain/lib/python3.12/site-packages (from jsonschema->sagemaker) (0.18.0)\n",
      "Requirement already satisfied: pytz>=2020.1 in /home/reson/miniconda3/envs/LangChain/lib/python3.12/site-packages (from pandas->sagemaker) (2024.1)\n",
      "Requirement already satisfied: tzdata>=2022.7 in /home/reson/miniconda3/envs/LangChain/lib/python3.12/site-packages (from pandas->sagemaker) (2024.1)\n",
      "Requirement already satisfied: ppft>=1.7.6.8 in /home/reson/miniconda3/envs/LangChain/lib/python3.12/site-packages (from pathos->sagemaker) (1.7.6.8)\n",
      "Requirement already satisfied: dill>=0.3.8 in /home/reson/miniconda3/envs/LangChain/lib/python3.12/site-packages (from pathos->sagemaker) (0.3.8)\n",
      "Requirement already satisfied: pox>=0.3.4 in /home/reson/miniconda3/envs/LangChain/lib/python3.12/site-packages (from pathos->sagemaker) (0.3.4)\n",
      "Requirement already satisfied: multiprocess>=0.70.16 in /home/reson/miniconda3/envs/LangChain/lib/python3.12/site-packages (from pathos->sagemaker) (0.70.16)\n",
      "Requirement already satisfied: joblib>=1.2.0 in /home/reson/miniconda3/envs/LangChain/lib/python3.12/site-packages (from scikit-learn->sentence-transformers) (1.3.2)\n",
      "Requirement already satisfied: threadpoolctl>=2.0.0 in /home/reson/miniconda3/envs/LangChain/lib/python3.12/site-packages (from scikit-learn->sentence-transformers) (3.4.0)\n",
      "Requirement already satisfied: hyperframe<7,>=6.0 in /home/reson/miniconda3/envs/LangChain/lib/python3.12/site-packages (from h2<5,>=3->httpx[http2]>=0.20.0->qdrant-client) (6.0.1)\n",
      "Requirement already satisfied: hpack<5,>=4.0 in /home/reson/miniconda3/envs/LangChain/lib/python3.12/site-packages (from h2<5,>=3->httpx[http2]>=0.20.0->qdrant-client) (4.0.0)\n",
      "Requirement already satisfied: mypy-extensions>=0.3.0 in /home/reson/miniconda3/envs/LangChain/lib/python3.12/site-packages (from typing-inspect<1,>=0.4.0->dataclasses-json<0.7,>=0.5.7->langchain-community) (1.0.0)\n",
      "Requirement already satisfied: MarkupSafe>=2.0 in /home/reson/miniconda3/envs/LangChain/lib/python3.12/site-packages (from jinja2->torch>=1.11.0->sentence-transformers) (2.1.3)\n",
      "Requirement already satisfied: mpmath>=0.19 in /home/reson/miniconda3/envs/LangChain/lib/python3.12/site-packages (from sympy->torch>=1.11.0->sentence-transformers) (1.3.0)\n"
     ]
    }
   ],
   "source": [
    "!pip install boto3 sagemaker langchain langchain-community langchain-core faiss-cpu requests opensearch-py sentence-transformers langchain-text-splitters requests-aws4auth qdrant-client -U"
   ]
  },
  {
   "cell_type": "markdown",
   "id": "8c60fd86-2fdd-4921-b769-45a6d6ae1411",
   "metadata": {},
   "source": [
    "### Load CSV data from S3"
   ]
  },
  {
   "cell_type": "code",
   "execution_count": 2,
   "id": "b02d5178-7946-4ff5-bfdf-d8c784afd6cd",
   "metadata": {
    "tags": []
   },
   "outputs": [
    {
     "name": "stdout",
     "output_type": "stream",
     "text": [
      "/home/ec2-user/SageMaker/Enterprise-RAG/notebooks\n"
     ]
    }
   ],
   "source": [
    "!pwd"
   ]
  },
  {
   "cell_type": "code",
   "execution_count": 3,
   "id": "e42652b8-0122-4f47-b069-a398ae118afc",
   "metadata": {
    "tags": []
   },
   "outputs": [],
   "source": [
    "import boto3\n",
    "import pandas as pd\n",
    "\n",
    "s3 = boto3.client('s3')\n",
    "bucket_name = 'recipes-rag'"
   ]
  },
  {
   "cell_type": "code",
   "execution_count": 4,
   "id": "e1b9ad90-d5ac-4a82-9892-468c6e721c35",
   "metadata": {
    "tags": []
   },
   "outputs": [],
   "source": [
    "# file_key = 'food_recipes.csv'\n",
    "\n",
    "# # Download the file from s3 locally\n",
    "# s3.download_file(bucket_name, file_key, '../data/food_recipes.csv')\n",
    "\n",
    "# # Load the CSV into a DataFrame\n",
    "# df = pd.read_csv('../data/food_recipes.csv')\n",
    "\n",
    "# df.head()"
   ]
  },
  {
   "cell_type": "code",
   "execution_count": 5,
   "id": "e0176b52-e799-4947-9264-c6c51897c4b7",
   "metadata": {
    "tags": []
   },
   "outputs": [
    {
     "data": {
      "text/html": [
       "<div>\n",
       "<style scoped>\n",
       "    .dataframe tbody tr th:only-of-type {\n",
       "        vertical-align: middle;\n",
       "    }\n",
       "\n",
       "    .dataframe tbody tr th {\n",
       "        vertical-align: top;\n",
       "    }\n",
       "\n",
       "    .dataframe thead th {\n",
       "        text-align: right;\n",
       "    }\n",
       "</style>\n",
       "<table border=\"1\" class=\"dataframe\">\n",
       "  <thead>\n",
       "    <tr style=\"text-align: right;\">\n",
       "      <th></th>\n",
       "      <th>RecipeId</th>\n",
       "      <th>Name</th>\n",
       "      <th>AuthorId</th>\n",
       "      <th>AuthorName</th>\n",
       "      <th>CookTime</th>\n",
       "      <th>PrepTime</th>\n",
       "      <th>TotalTime</th>\n",
       "      <th>DatePublished</th>\n",
       "      <th>Description</th>\n",
       "      <th>Images</th>\n",
       "      <th>...</th>\n",
       "      <th>FiberContent</th>\n",
       "      <th>SugarContent</th>\n",
       "      <th>ProteinContent</th>\n",
       "      <th>RecipeServings</th>\n",
       "      <th>RecipeYield</th>\n",
       "      <th>RecipeInstructions</th>\n",
       "      <th>CookTime_Minutes</th>\n",
       "      <th>PrepTime_Minutes</th>\n",
       "      <th>TotalTime_Minutes</th>\n",
       "      <th>Combined_Features_Clean</th>\n",
       "    </tr>\n",
       "  </thead>\n",
       "  <tbody>\n",
       "    <tr>\n",
       "      <th>0</th>\n",
       "      <td>38.0</td>\n",
       "      <td>Low-Fat Berry Blue Frozen Dessert</td>\n",
       "      <td>1533</td>\n",
       "      <td>Dancer</td>\n",
       "      <td>PT24H</td>\n",
       "      <td>PT45M</td>\n",
       "      <td>PT24H45M</td>\n",
       "      <td>1999-08-09 21:46:00+00:00</td>\n",
       "      <td>Make and share this Low-Fat Berry Blue Frozen ...</td>\n",
       "      <td>[https://img.sndimg.com/food/image/upload/w_55...</td>\n",
       "      <td>...</td>\n",
       "      <td>3.6</td>\n",
       "      <td>30.2</td>\n",
       "      <td>3.2</td>\n",
       "      <td>4.0</td>\n",
       "      <td>None</td>\n",
       "      <td>[Toss 2 cups berries with sugar., Let stand fo...</td>\n",
       "      <td>1440</td>\n",
       "      <td>45</td>\n",
       "      <td>1485</td>\n",
       "      <td>Low-Fat Berry Blue Frozen Dessert Frozen Desse...</td>\n",
       "    </tr>\n",
       "    <tr>\n",
       "      <th>1</th>\n",
       "      <td>39.0</td>\n",
       "      <td>Biryani</td>\n",
       "      <td>1567</td>\n",
       "      <td>elly9812</td>\n",
       "      <td>PT25M</td>\n",
       "      <td>PT4H</td>\n",
       "      <td>PT4H25M</td>\n",
       "      <td>1999-08-29 13:12:00+00:00</td>\n",
       "      <td>Make and share this Biryani recipe from Food.com.</td>\n",
       "      <td>[https://img.sndimg.com/food/image/upload/w_55...</td>\n",
       "      <td>...</td>\n",
       "      <td>9.0</td>\n",
       "      <td>20.4</td>\n",
       "      <td>63.4</td>\n",
       "      <td>6.0</td>\n",
       "      <td>None</td>\n",
       "      <td>[Soak saffron in warm milk for 5 minutes and p...</td>\n",
       "      <td>25</td>\n",
       "      <td>240</td>\n",
       "      <td>265</td>\n",
       "      <td>Biryani Chicken Breast Make share Biryani reci...</td>\n",
       "    </tr>\n",
       "    <tr>\n",
       "      <th>2</th>\n",
       "      <td>40.0</td>\n",
       "      <td>Best Lemonade</td>\n",
       "      <td>1566</td>\n",
       "      <td>Stephen Little</td>\n",
       "      <td>PT5M</td>\n",
       "      <td>PT30M</td>\n",
       "      <td>PT35M</td>\n",
       "      <td>1999-09-05 19:52:00+00:00</td>\n",
       "      <td>This is from one of my  first Good House Keepi...</td>\n",
       "      <td>[https://img.sndimg.com/food/image/upload/w_55...</td>\n",
       "      <td>...</td>\n",
       "      <td>0.4</td>\n",
       "      <td>77.2</td>\n",
       "      <td>0.3</td>\n",
       "      <td>4.0</td>\n",
       "      <td>None</td>\n",
       "      <td>[Into a 1 quart Jar with tight fitting lid, pu...</td>\n",
       "      <td>5</td>\n",
       "      <td>30</td>\n",
       "      <td>35</td>\n",
       "      <td>Best Lemonade Beverages one first Good House K...</td>\n",
       "    </tr>\n",
       "    <tr>\n",
       "      <th>3</th>\n",
       "      <td>41.0</td>\n",
       "      <td>Carina's Tofu-Vegetable Kebabs</td>\n",
       "      <td>1586</td>\n",
       "      <td>Cyclopz</td>\n",
       "      <td>PT20M</td>\n",
       "      <td>PT24H</td>\n",
       "      <td>PT24H20M</td>\n",
       "      <td>1999-09-03 14:54:00+00:00</td>\n",
       "      <td>This dish is best prepared a day in advance to...</td>\n",
       "      <td>[https://img.sndimg.com/food/image/upload/w_55...</td>\n",
       "      <td>...</td>\n",
       "      <td>17.3</td>\n",
       "      <td>32.1</td>\n",
       "      <td>29.3</td>\n",
       "      <td>2.0</td>\n",
       "      <td>4 kebabs</td>\n",
       "      <td>[Drain the tofu, carefully squeezing out exces...</td>\n",
       "      <td>20</td>\n",
       "      <td>1440</td>\n",
       "      <td>1460</td>\n",
       "      <td>Carina's Tofu-Vegetable Kebabs Soy/Tofu dish b...</td>\n",
       "    </tr>\n",
       "    <tr>\n",
       "      <th>4</th>\n",
       "      <td>42.0</td>\n",
       "      <td>Cabbage Soup</td>\n",
       "      <td>1538</td>\n",
       "      <td>Duckie067</td>\n",
       "      <td>PT30M</td>\n",
       "      <td>PT20M</td>\n",
       "      <td>PT50M</td>\n",
       "      <td>1999-09-19 06:19:00+00:00</td>\n",
       "      <td>Make and share this Cabbage Soup recipe from F...</td>\n",
       "      <td>[https://img.sndimg.com/food/image/upload/w_55...</td>\n",
       "      <td>...</td>\n",
       "      <td>4.8</td>\n",
       "      <td>17.7</td>\n",
       "      <td>4.3</td>\n",
       "      <td>4.0</td>\n",
       "      <td>None</td>\n",
       "      <td>[Mix everything together and bring to a boil.,...</td>\n",
       "      <td>30</td>\n",
       "      <td>20</td>\n",
       "      <td>50</td>\n",
       "      <td>Cabbage Soup Vegetable Make share Cabbage Soup...</td>\n",
       "    </tr>\n",
       "  </tbody>\n",
       "</table>\n",
       "<p>5 rows × 32 columns</p>\n",
       "</div>"
      ],
      "text/plain": [
       "   RecipeId                               Name  AuthorId      AuthorName  \\\n",
       "0      38.0  Low-Fat Berry Blue Frozen Dessert      1533          Dancer   \n",
       "1      39.0                            Biryani      1567        elly9812   \n",
       "2      40.0                      Best Lemonade      1566  Stephen Little   \n",
       "3      41.0     Carina's Tofu-Vegetable Kebabs      1586         Cyclopz   \n",
       "4      42.0                       Cabbage Soup      1538       Duckie067   \n",
       "\n",
       "  CookTime PrepTime TotalTime             DatePublished  \\\n",
       "0    PT24H    PT45M  PT24H45M 1999-08-09 21:46:00+00:00   \n",
       "1    PT25M     PT4H   PT4H25M 1999-08-29 13:12:00+00:00   \n",
       "2     PT5M    PT30M     PT35M 1999-09-05 19:52:00+00:00   \n",
       "3    PT20M    PT24H  PT24H20M 1999-09-03 14:54:00+00:00   \n",
       "4    PT30M    PT20M     PT50M 1999-09-19 06:19:00+00:00   \n",
       "\n",
       "                                         Description  \\\n",
       "0  Make and share this Low-Fat Berry Blue Frozen ...   \n",
       "1  Make and share this Biryani recipe from Food.com.   \n",
       "2  This is from one of my  first Good House Keepi...   \n",
       "3  This dish is best prepared a day in advance to...   \n",
       "4  Make and share this Cabbage Soup recipe from F...   \n",
       "\n",
       "                                              Images  ... FiberContent  \\\n",
       "0  [https://img.sndimg.com/food/image/upload/w_55...  ...          3.6   \n",
       "1  [https://img.sndimg.com/food/image/upload/w_55...  ...          9.0   \n",
       "2  [https://img.sndimg.com/food/image/upload/w_55...  ...          0.4   \n",
       "3  [https://img.sndimg.com/food/image/upload/w_55...  ...         17.3   \n",
       "4  [https://img.sndimg.com/food/image/upload/w_55...  ...          4.8   \n",
       "\n",
       "  SugarContent ProteinContent RecipeServings  RecipeYield  \\\n",
       "0         30.2            3.2            4.0         None   \n",
       "1         20.4           63.4            6.0         None   \n",
       "2         77.2            0.3            4.0         None   \n",
       "3         32.1           29.3            2.0     4 kebabs   \n",
       "4         17.7            4.3            4.0         None   \n",
       "\n",
       "                                  RecipeInstructions  CookTime_Minutes  \\\n",
       "0  [Toss 2 cups berries with sugar., Let stand fo...              1440   \n",
       "1  [Soak saffron in warm milk for 5 minutes and p...                25   \n",
       "2  [Into a 1 quart Jar with tight fitting lid, pu...                 5   \n",
       "3  [Drain the tofu, carefully squeezing out exces...                20   \n",
       "4  [Mix everything together and bring to a boil.,...                30   \n",
       "\n",
       "   PrepTime_Minutes  TotalTime_Minutes  \\\n",
       "0                45               1485   \n",
       "1               240                265   \n",
       "2                30                 35   \n",
       "3              1440               1460   \n",
       "4                20                 50   \n",
       "\n",
       "                             Combined_Features_Clean  \n",
       "0  Low-Fat Berry Blue Frozen Dessert Frozen Desse...  \n",
       "1  Biryani Chicken Breast Make share Biryani reci...  \n",
       "2  Best Lemonade Beverages one first Good House K...  \n",
       "3  Carina's Tofu-Vegetable Kebabs Soy/Tofu dish b...  \n",
       "4  Cabbage Soup Vegetable Make share Cabbage Soup...  \n",
       "\n",
       "[5 rows x 32 columns]"
      ]
     },
     "execution_count": 5,
     "metadata": {},
     "output_type": "execute_result"
    }
   ],
   "source": [
    "file_key = 'recipes_w_cleaning_time_combined_features.parquet'\n",
    "s3.download_file(bucket_name, file_key, f'../data/{file_key}')\n",
    "df = pd.read_parquet(f'../data/{file_key}')\n",
    "\n",
    "df.head()"
   ]
  },
  {
   "cell_type": "code",
   "execution_count": 6,
   "id": "c42abeac-3ebd-4fda-a7d5-e43940aa503e",
   "metadata": {
    "tags": []
   },
   "outputs": [
    {
     "data": {
      "text/plain": [
       "Index(['RecipeId', 'Name', 'AuthorId', 'AuthorName', 'CookTime', 'PrepTime',\n",
       "       'TotalTime', 'DatePublished', 'Description', 'Images', 'RecipeCategory',\n",
       "       'Keywords', 'RecipeIngredientQuantities', 'RecipeIngredientParts',\n",
       "       'AggregatedRating', 'ReviewCount', 'Calories', 'FatContent',\n",
       "       'SaturatedFatContent', 'CholesterolContent', 'SodiumContent',\n",
       "       'CarbohydrateContent', 'FiberContent', 'SugarContent', 'ProteinContent',\n",
       "       'RecipeServings', 'RecipeYield', 'RecipeInstructions',\n",
       "       'CookTime_Minutes', 'PrepTime_Minutes', 'TotalTime_Minutes',\n",
       "       'Combined_Features_Clean'],\n",
       "      dtype='object')"
      ]
     },
     "execution_count": 6,
     "metadata": {},
     "output_type": "execute_result"
    }
   ],
   "source": [
    "df.columns"
   ]
  },
  {
   "cell_type": "code",
   "execution_count": 7,
   "id": "68483703-908e-4f6e-892b-305948d7562d",
   "metadata": {
    "tags": []
   },
   "outputs": [
    {
     "data": {
      "text/plain": [
       "'Low-Fat Berry Blue Frozen Dessert Frozen Desserts Make share Low-Fat Berry Blue Frozen Dessert recipe Food.com. Dessert Low Protein Low Cholesterol Healthy Free Of... Summer Weeknight Freezer Easy'"
      ]
     },
     "execution_count": 7,
     "metadata": {},
     "output_type": "execute_result"
    }
   ],
   "source": [
    "str(df.iloc[0]['Combined_Features_Clean'])"
   ]
  },
  {
   "cell_type": "markdown",
   "id": "74654ec1-1620-4b12-abfa-74ce789a79ce",
   "metadata": {},
   "source": [
    "### Load data into chunked documents"
   ]
  },
  {
   "cell_type": "code",
   "execution_count": 8,
   "id": "81165ce4-c17b-44df-a88a-319b4e590105",
   "metadata": {
    "tags": []
   },
   "outputs": [],
   "source": [
    "from langchain_community.embeddings import HuggingFaceEmbeddings\n",
    "from langchain_text_splitters import RecursiveCharacterTextSplitter\n",
    "from langchain.docstore.document import Document"
   ]
  },
  {
   "cell_type": "code",
   "execution_count": 9,
   "id": "ef713c37-2e0f-45ba-8717-de22afbad5b7",
   "metadata": {
    "tags": []
   },
   "outputs": [
    {
     "name": "stderr",
     "output_type": "stream",
     "text": [
      "/home/ec2-user/anaconda3/envs/python3/lib/python3.10/site-packages/langchain_core/_api/deprecation.py:139: LangChainDeprecationWarning: The class `HuggingFaceEmbeddings` was deprecated in LangChain 0.2.2 and will be removed in 0.3.0. An updated version of the class exists in the langchain-huggingface package and should be used instead. To use it run `pip install -U langchain-huggingface` and import as `from langchain_huggingface import HuggingFaceEmbeddings`.\n",
      "  warn_deprecated(\n",
      "/home/ec2-user/anaconda3/envs/python3/lib/python3.10/site-packages/sentence_transformers/cross_encoder/CrossEncoder.py:11: TqdmExperimentalWarning: Using `tqdm.autonotebook.tqdm` in notebook mode. Use `tqdm.tqdm` instead to force console mode (e.g. in jupyter console)\n",
      "  from tqdm.autonotebook import tqdm, trange\n"
     ]
    },
    {
     "data": {
      "application/vnd.jupyter.widget-view+json": {
       "model_id": "b2bfd0384fab4b5aacd2e44593262ccf",
       "version_major": 2,
       "version_minor": 0
      },
      "text/plain": [
       "modules.json:   0%|          | 0.00/229 [00:00<?, ?B/s]"
      ]
     },
     "metadata": {},
     "output_type": "display_data"
    },
    {
     "data": {
      "application/vnd.jupyter.widget-view+json": {
       "model_id": "edf197f09b6c47ce8a4c5a2768abc701",
       "version_major": 2,
       "version_minor": 0
      },
      "text/plain": [
       "config_sentence_transformers.json:   0%|          | 0.00/212 [00:00<?, ?B/s]"
      ]
     },
     "metadata": {},
     "output_type": "display_data"
    },
    {
     "data": {
      "application/vnd.jupyter.widget-view+json": {
       "model_id": "a81cfcac1306437f955b8ba9900e7115",
       "version_major": 2,
       "version_minor": 0
      },
      "text/plain": [
       "README.md:   0%|          | 0.00/8.71k [00:00<?, ?B/s]"
      ]
     },
     "metadata": {},
     "output_type": "display_data"
    },
    {
     "data": {
      "application/vnd.jupyter.widget-view+json": {
       "model_id": "c13c304e19104df9be2ffdf15ea36854",
       "version_major": 2,
       "version_minor": 0
      },
      "text/plain": [
       "sentence_bert_config.json:   0%|          | 0.00/53.0 [00:00<?, ?B/s]"
      ]
     },
     "metadata": {},
     "output_type": "display_data"
    },
    {
     "data": {
      "application/vnd.jupyter.widget-view+json": {
       "model_id": "1cf43ab8e527441996907d76592524d5",
       "version_major": 2,
       "version_minor": 0
      },
      "text/plain": [
       "config.json:   0%|          | 0.00/571 [00:00<?, ?B/s]"
      ]
     },
     "metadata": {},
     "output_type": "display_data"
    },
    {
     "data": {
      "application/vnd.jupyter.widget-view+json": {
       "model_id": "9abec4caff1841989b29a026f5aed437",
       "version_major": 2,
       "version_minor": 0
      },
      "text/plain": [
       "model.safetensors:   0%|          | 0.00/438M [00:00<?, ?B/s]"
      ]
     },
     "metadata": {},
     "output_type": "display_data"
    },
    {
     "data": {
      "application/vnd.jupyter.widget-view+json": {
       "model_id": "954e6b447e824aa183b39983031aa01d",
       "version_major": 2,
       "version_minor": 0
      },
      "text/plain": [
       "tokenizer_config.json:   0%|          | 0.00/363 [00:00<?, ?B/s]"
      ]
     },
     "metadata": {},
     "output_type": "display_data"
    },
    {
     "data": {
      "application/vnd.jupyter.widget-view+json": {
       "model_id": "629ff789b2094e789d6fad70eb05ca5e",
       "version_major": 2,
       "version_minor": 0
      },
      "text/plain": [
       "vocab.txt:   0%|          | 0.00/232k [00:00<?, ?B/s]"
      ]
     },
     "metadata": {},
     "output_type": "display_data"
    },
    {
     "data": {
      "application/vnd.jupyter.widget-view+json": {
       "model_id": "7204e898286a4aa3902d51c6b54966c2",
       "version_major": 2,
       "version_minor": 0
      },
      "text/plain": [
       "tokenizer.json:   0%|          | 0.00/466k [00:00<?, ?B/s]"
      ]
     },
     "metadata": {},
     "output_type": "display_data"
    },
    {
     "data": {
      "application/vnd.jupyter.widget-view+json": {
       "model_id": "b7d3209a76734ee19364e0f7444f8a9b",
       "version_major": 2,
       "version_minor": 0
      },
      "text/plain": [
       "special_tokens_map.json:   0%|          | 0.00/239 [00:00<?, ?B/s]"
      ]
     },
     "metadata": {},
     "output_type": "display_data"
    },
    {
     "data": {
      "application/vnd.jupyter.widget-view+json": {
       "model_id": "d2ed8396205b4ea98a47a4815d611fc8",
       "version_major": 2,
       "version_minor": 0
      },
      "text/plain": [
       "1_Pooling/config.json:   0%|          | 0.00/190 [00:00<?, ?B/s]"
      ]
     },
     "metadata": {},
     "output_type": "display_data"
    }
   ],
   "source": [
    "embedding_model = HuggingFaceEmbeddings(model_name=\"multi-qa-mpnet-base-dot-v1\")"
   ]
  },
  {
   "cell_type": "code",
   "execution_count": 10,
   "id": "c829beba-a527-4f21-b311-88db598124fe",
   "metadata": {
    "tags": []
   },
   "outputs": [],
   "source": [
    "text_splitter_recursive = RecursiveCharacterTextSplitter(chunk_size=1024, chunk_overlap=256)"
   ]
  },
  {
   "cell_type": "code",
   "execution_count": 11,
   "id": "ee2e6a73-3529-4b79-b0bb-421973555092",
   "metadata": {
    "tags": []
   },
   "outputs": [],
   "source": [
    "# Using old raw dataset\n",
    "\n",
    "# def create_documents(df):\n",
    "#     # AWS Kendra requires non empty string values for each field\n",
    "#     # Make explicit to the LLM that the field is not available\n",
    "#     df.fillna('Not Available', inplace=True)\n",
    "    \n",
    "#     documents = []\n",
    "#     for index, row in df.iterrows():\n",
    "#         metadata = {\n",
    "#             'recipe_title': str(row['recipe_title']) if row['recipe_title'] else 'No Title Available',\n",
    "#             'url': str(row['url']) if row['url'] else 'https://example.com',\n",
    "#             # 'record_health': str(row['record_health']) if row['record_health'] else 'Unknown',\n",
    "#             'vote_count': str(row['vote_count']) if row['vote_count'] else 'No Votes Available',\n",
    "#             'rating': str(row['rating']) if row['rating'] else 'No Rating Available',\n",
    "#             'cuisine': str(row['cuisine']) if row['cuisine'] else 'No Cuisine Available',\n",
    "#             'course': str(row['course']) if row['course'] else 'No Course Available',\n",
    "#             'diet': str(row['diet']) if row['diet'] else 'No Diet Information Available',\n",
    "#             'prep_time': str(row['prep_time']) if row['prep_time'] else 'No Prep Time Available',\n",
    "#             'cook_time': str(row['cook_time']) if row['cook_time'] else 'No Cook Time Available',\n",
    "#             'author': str(row['author']) if row['author'] else 'No Author Available',\n",
    "#             'category': str(row['category']) if row['category'] else 'No Category Available'\n",
    "#         }\n",
    "\n",
    "#         # Combine all text fields for the document content\n",
    "#         text = f\"{row['description']} {row['ingredients']} {row['instructions']} {row['tags']}\"\n",
    "#         doc = Document(page_content=text, metadata=metadata)\n",
    "#         documents.append(doc)\n",
    "    \n",
    "#     return documents"
   ]
  },
  {
   "cell_type": "code",
   "execution_count": 12,
   "id": "790d53e6-1faf-477c-a3cb-e2837c9943ad",
   "metadata": {
    "tags": []
   },
   "outputs": [],
   "source": [
    "# Using data after EDA with more complex fields\n",
    "\n",
    "# def create_documents(df):\n",
    "#     # Ensure non-empty string values for each field\n",
    "#     df.fillna('Not Available', inplace=True)\n",
    "    \n",
    "#     documents = []\n",
    "#     for index, row in df.iterrows():\n",
    "#         metadata = {\n",
    "#             'recipe_id': str(row['RecipeId']) if row['RecipeId'] else 'No ID Available',\n",
    "#             'name': str(row['Name']) if row['Name'] else 'No Name Available',\n",
    "#             'author_id': str(row['AuthorId']) if row['AuthorId'] else 'No Author ID Available',\n",
    "#             'author_name': str(row['AuthorName']) if row['AuthorName'] else 'No Author Name Available',\n",
    "#             'cook_time': str(row['CookTime']) if row['CookTime'] else 'No Cook Time Available',\n",
    "#             'prep_time': str(row['PrepTime']) if row['PrepTime'] else 'No Prep Time Available',\n",
    "#             'total_time': str(row['TotalTime']) if row['TotalTime'] else 'No Total Time Available',\n",
    "#             'date_published': str(row['DatePublished']) if row['DatePublished'] else 'No Date Available',\n",
    "#             'recipe_category': str(row['RecipeCategory']) if row['RecipeCategory'] else 'No Category Available',\n",
    "#             'keywords': str(row['Keywords']) if row['Keywords'] else 'No Keywords Available',\n",
    "#             'aggregated_rating': str(row['AggregatedRating']) if row['AggregatedRating'] else 'No Rating Available',\n",
    "#             'review_count': str(row['ReviewCount']) if row['ReviewCount'] else 'No Reviews Available',\n",
    "#             'calories': str(row['Calories']) if row['Calories'] else 'No Calories Information Available',\n",
    "#             'fat_content': str(row['FatContent']) if row['FatContent'] else 'No Fat Content Available',\n",
    "#             'saturated_fat_content': str(row['SaturatedFatContent']) if row['SaturatedFatContent'] else 'No Saturated Fat Content Available',\n",
    "#             'cholesterol_content': str(row['CholesterolContent']) if row['CholesterolContent'] else 'No Cholesterol Content Available',\n",
    "#             'sodium_content': str(row['SodiumContent']) if row['SodiumContent'] else 'No Sodium Content Available',\n",
    "#             'carbohydrate_content': str(row['CarbohydrateContent']) if row['CarbohydrateContent'] else 'No Carbohydrate Content Available',\n",
    "#             'fiber_content': str(row['FiberContent']) if row['FiberContent'] else 'No Fiber Content Available',\n",
    "#             'sugar_content': str(row['SugarContent']) if row['SugarContent'] else 'No Sugar Content Available',\n",
    "#             'protein_content': str(row['ProteinContent']) if row['ProteinContent'] else 'No Protein Content Available',\n",
    "#             'recipe_servings': str(row['RecipeServings']) if row['RecipeServings'] else 'No Servings Information Available',\n",
    "#             'recipe_yield': str(row['RecipeYield']) if row['RecipeYield'] else 'No Yield Information Available'\n",
    "#         }\n",
    "\n",
    "#         # Combine relevant text fields for the document content\n",
    "#         text = f\"\"\"\n",
    "#         Name: {row['Name']}\n",
    "#         Category: {row['RecipeCategory']}\n",
    "#         Description: {row['Description']}\n",
    "#         Keywords: {row['Keywords']}\n",
    "#         Ingredients: {row['RecipeIngredientParts']}\n",
    "#         Instructions: {row['RecipeInstructions']}\n",
    "#         \"\"\"\n",
    "\n",
    "#         doc = Document(page_content=text.strip(), metadata=metadata)\n",
    "#         documents.append(doc)\n",
    "    \n",
    "#     return documents\n"
   ]
  },
  {
   "cell_type": "code",
   "execution_count": 13,
   "id": "05b5985a-4bdc-44cf-b888-9ddc76abb89e",
   "metadata": {
    "tags": []
   },
   "outputs": [],
   "source": [
    "def create_documents(df):\n",
    "    documents = []\n",
    "    for index, row in df.iterrows():\n",
    "        metadata = {\n",
    "            'recipe_id': str(row['RecipeId']) if not pd.isna(row['RecipeId']) else 'No ID Available',\n",
    "            'name': str(row['Name']) if not pd.isna(row['Name']) else 'No Name Available',\n",
    "            'cook_time': str(row['CookTime']) if not pd.isna(row['CookTime']) else 'No Cook Time Available',\n",
    "            'prep_time': str(row['PrepTime']) if not pd.isna(row['PrepTime']) else 'No Prep Time Available',\n",
    "            'total_time': str(row['TotalTime']) if not pd.isna(row['TotalTime']) else 'No Total Time Available',\n",
    "            'recipe_category': str(row['RecipeCategory']) if not pd.isna(row['RecipeCategory']) else 'No Category Available',\n",
    "            'keywords': str(row['Keywords']) if not pd.isna(row['Keywords']).all() else 'No Keywords Available',\n",
    "            'aggregated_rating': str(row['AggregatedRating']) if not pd.isna(row['AggregatedRating']) else 'No Rating Available',\n",
    "            'review_count': str(row['ReviewCount']) if not pd.isna(row['ReviewCount']) else 'No Reviews Available',\n",
    "            'calories': str(row['Calories']) if not pd.isna(row['Calories']) else 'No Calories Information Available',\n",
    "            'fat_content': str(row['FatContent']) if not pd.isna(row['FatContent']) else 'No Fat Content Available',\n",
    "            'saturated_fat_content': str(row['SaturatedFatContent']) if not pd.isna(row['SaturatedFatContent']) else 'No Saturated Fat Content Available',\n",
    "            'cholesterol_content': str(row['CholesterolContent']) if not pd.isna(row['CholesterolContent']) else 'No Cholesterol Content Available',\n",
    "            'sodium_content': str(row['SodiumContent']) if not pd.isna(row['SodiumContent']) else 'No Sodium Content Available',\n",
    "            'carbohydrate_content': str(row['CarbohydrateContent']) if not pd.isna(row['CarbohydrateContent']) else 'No Carbohydrate Content Available',\n",
    "            'sugar_content': str(row['SugarContent']) if not pd.isna(row['SugarContent']) else 'No Sugar Content Available',\n",
    "            'protein_content': str(row['ProteinContent']) if not pd.isna(row['ProteinContent']) else 'No Protein Content Available',\n",
    "            'recipe_servings': str(row['RecipeServings']) if not pd.isna(row['RecipeServings']) else 'No Servings Information Available',\n",
    "            'recipe_yield': str(row['RecipeYield']) if not pd.isna(row['RecipeYield']) else 'No Yield Information Available'\n",
    "        }\n",
    "\n",
    "        # Use Combined_Features_Clean for the document content\n",
    "        text = str(row['Combined_Features_Clean'])\n",
    "        doc = Document(page_content=text, metadata=metadata)\n",
    "        documents.append(doc)\n",
    "        \n",
    "    return documents\n"
   ]
  },
  {
   "cell_type": "code",
   "execution_count": 14,
   "id": "2e316c63-2897-4c89-aa24-562bcab03ba0",
   "metadata": {
    "tags": []
   },
   "outputs": [],
   "source": [
    "documents = create_documents(df)"
   ]
  },
  {
   "cell_type": "code",
   "execution_count": 15,
   "id": "db462d95-67b8-4ec5-b379-1a98666a0dc0",
   "metadata": {
    "tags": []
   },
   "outputs": [
    {
     "data": {
      "text/plain": [
       "Document(metadata={'recipe_id': '38.0', 'name': 'Low-Fat Berry Blue Frozen Dessert', 'cook_time': 'PT24H', 'prep_time': 'PT45M', 'total_time': 'PT24H45M', 'recipe_category': 'Frozen Desserts', 'keywords': \"['Dessert' 'Low Protein' 'Low Cholesterol' 'Healthy' 'Free Of...' 'Summer'\\n 'Weeknight' 'Freezer' 'Easy']\", 'aggregated_rating': '4.5', 'review_count': '4.0', 'calories': '170.9', 'fat_content': '2.5', 'saturated_fat_content': '1.3', 'cholesterol_content': '8.0', 'sodium_content': '29.8', 'carbohydrate_content': '37.1', 'sugar_content': '30.2', 'protein_content': '3.2', 'recipe_servings': '4.0', 'recipe_yield': 'No Yield Information Available'}, page_content='Low-Fat Berry Blue Frozen Dessert Frozen Desserts Make share Low-Fat Berry Blue Frozen Dessert recipe Food.com. Dessert Low Protein Low Cholesterol Healthy Free Of... Summer Weeknight Freezer Easy')"
      ]
     },
     "execution_count": 15,
     "metadata": {},
     "output_type": "execute_result"
    }
   ],
   "source": [
    "documents[0]"
   ]
  },
  {
   "cell_type": "code",
   "execution_count": 16,
   "id": "8d878b08-c2fc-4528-b26f-3a33d7856465",
   "metadata": {
    "tags": []
   },
   "outputs": [
    {
     "data": {
      "text/plain": [
       "522517"
      ]
     },
     "execution_count": 16,
     "metadata": {},
     "output_type": "execute_result"
    }
   ],
   "source": [
    "len(documents)"
   ]
  },
  {
   "cell_type": "code",
   "execution_count": 17,
   "id": "35faf6bb-6a9b-4f59-b021-33c2507638aa",
   "metadata": {
    "tags": []
   },
   "outputs": [],
   "source": [
    "def split_documents_with_metadata(documents, text_splitter):\n",
    "    split_docs = []\n",
    "    for doc in documents:\n",
    "        chunks = text_splitter.split_text(doc.page_content)\n",
    "        for i, chunk in enumerate(chunks):\n",
    "            split_docs.append(Document(page_content=chunk, metadata={**doc.metadata, \"chunk_id\": i}))\n",
    "    return split_docs"
   ]
  },
  {
   "cell_type": "code",
   "execution_count": 18,
   "id": "d6fe3cfc-26b8-47db-8c36-07e06ea3feb9",
   "metadata": {
    "tags": []
   },
   "outputs": [],
   "source": [
    "split_documents = split_documents_with_metadata(documents, text_splitter_recursive)"
   ]
  },
  {
   "cell_type": "code",
   "execution_count": 19,
   "id": "225b95d6-f0f2-41fd-8cf9-c700ef269488",
   "metadata": {
    "tags": []
   },
   "outputs": [
    {
     "data": {
      "text/plain": [
       "Document(metadata={'recipe_id': '38.0', 'name': 'Low-Fat Berry Blue Frozen Dessert', 'cook_time': 'PT24H', 'prep_time': 'PT45M', 'total_time': 'PT24H45M', 'recipe_category': 'Frozen Desserts', 'keywords': \"['Dessert' 'Low Protein' 'Low Cholesterol' 'Healthy' 'Free Of...' 'Summer'\\n 'Weeknight' 'Freezer' 'Easy']\", 'aggregated_rating': '4.5', 'review_count': '4.0', 'calories': '170.9', 'fat_content': '2.5', 'saturated_fat_content': '1.3', 'cholesterol_content': '8.0', 'sodium_content': '29.8', 'carbohydrate_content': '37.1', 'sugar_content': '30.2', 'protein_content': '3.2', 'recipe_servings': '4.0', 'recipe_yield': 'No Yield Information Available', 'chunk_id': 0}, page_content='Low-Fat Berry Blue Frozen Dessert Frozen Desserts Make share Low-Fat Berry Blue Frozen Dessert recipe Food.com. Dessert Low Protein Low Cholesterol Healthy Free Of... Summer Weeknight Freezer Easy')"
      ]
     },
     "execution_count": 19,
     "metadata": {},
     "output_type": "execute_result"
    }
   ],
   "source": [
    "split_documents[0]"
   ]
  },
  {
   "cell_type": "code",
   "execution_count": null,
   "id": "2c7f2703-3172-4bd4-a3ba-c704b6eb6ada",
   "metadata": {},
   "outputs": [],
   "source": []
  },
  {
   "cell_type": "code",
   "execution_count": 20,
   "id": "c05f6ea9-ec26-418e-ab5d-351548d4e82c",
   "metadata": {
    "tags": []
   },
   "outputs": [],
   "source": [
    "# from transformers import AutoTokenizer\n",
    "\n",
    "# def count_tokens(text, model_name=\"distilbert-base-uncased\"):\n",
    "#     tokenizer = AutoTokenizer.from_pretrained(model_name)\n",
    "    \n",
    "#     tokens = tokenizer.encode(text, add_special_tokens=False)\n",
    "#     num_tokens = len(tokens)\n",
    "    \n",
    "#     return num_tokens"
   ]
  },
  {
   "cell_type": "code",
   "execution_count": 21,
   "id": "4cb92d4b-2aba-4e56-ac81-b0f743c139a3",
   "metadata": {
    "tags": []
   },
   "outputs": [],
   "source": [
    "# We have > 500,000 recipes, this takes a long time to run\n",
    "from langchain_community.vectorstores import Qdrant\n",
    "\n",
    "qdrant_store = Qdrant.from_documents(documents,\n",
    "    embedding_model,\n",
    "    location=\":memory:\",\n",
    ")"
   ]
  },
  {
   "cell_type": "code",
   "execution_count": 22,
   "id": "5152d45a-a16c-4efd-9ff3-b1b9464ba304",
   "metadata": {
    "tags": []
   },
   "outputs": [],
   "source": [
    "qdrant_retriever = qdrant_store.as_retriever()"
   ]
  },
  {
   "cell_type": "code",
   "execution_count": 23,
   "id": "a0e04d8b-4bb7-46e0-a2b1-22e4283d9238",
   "metadata": {
    "tags": []
   },
   "outputs": [],
   "source": [
    "def format_docs(docs):\n",
    "    formatted_docs = []\n",
    "    for doc in docs:\n",
    "        formatted_docs.append(f\"Metadata: {doc.metadata}\\n\")\n",
    "    content = \"\\n\\n\".join(formatted_docs)\n",
    "    \n",
    "    return content"
   ]
  },
  {
   "cell_type": "markdown",
   "id": "9cc8df35-7bbc-43fc-9766-99383f3c5349",
   "metadata": {},
   "source": [
    "### Agent function definitions"
   ]
  },
  {
   "cell_type": "code",
   "execution_count": 24,
   "id": "2dc1eaa0-d2bc-4b57-ad27-95301457e870",
   "metadata": {
    "tags": []
   },
   "outputs": [],
   "source": [
    "recipe_db_query_tool = {\n",
    "  \"name\": \"query_food_recipe_vector_db\",\n",
    "  \"description\": \"\"\"\n",
    "      Queries the vector database containing food recipes to retrieve the most relevant documents. \n",
    "      This function allows the model to generate and execute multiple queries as necessary to gather comprehensive context, \n",
    "      such as ingredients, preparation steps, and metadata like cuisine and diet type, ensuring accurate and thorough responses to user queries.\n",
    "      \"\"\",\n",
    "  \"input_schema\": {\n",
    "    \"type\": \"object\",\n",
    "    \"properties\": {\n",
    "      \"queries\": {\n",
    "        \"type\": \"array\",\n",
    "        \"items\": {\n",
    "          \"type\": \"string\",\n",
    "          \"description\": \"A query generated by the model to run against the vector database to fetch recipe documents.\"\n",
    "        },\n",
    "        \"description\": \"A list of queries generated by the model to run against the vector database to fetch recipe documents.\"\n",
    "      }\n",
    "    },\n",
    "    \"required\": [\"queries\"]\n",
    "  }\n",
    "}\n"
   ]
  },
  {
   "cell_type": "markdown",
   "id": "64c1e9c9-88bd-446a-a0f5-a7ed5bcf8972",
   "metadata": {},
   "source": [
    "### Init bedrock model, define util to stateless messaging, no fn calling"
   ]
  },
  {
   "cell_type": "code",
   "execution_count": 25,
   "id": "af0aacad-2b9d-4504-80b2-b47d92949ce8",
   "metadata": {
    "tags": []
   },
   "outputs": [],
   "source": [
    "import json"
   ]
  },
  {
   "cell_type": "code",
   "execution_count": 26,
   "id": "91b6a9d4-d05c-4340-8281-d050403b0a89",
   "metadata": {
    "tags": []
   },
   "outputs": [],
   "source": [
    "bedrock_client = boto3.client('bedrock-runtime', region_name=\"us-east-1\")"
   ]
  },
  {
   "cell_type": "code",
   "execution_count": 27,
   "id": "e65cefc3-4a52-4985-b7da-b97224a7f356",
   "metadata": {
    "tags": []
   },
   "outputs": [],
   "source": [
    "# We will need to tune these prompts\n",
    "# query_bedrock_llm() definition NEEDS TO BE RERUN\n",
    "# each time when changes are made to this prompt\n",
    "\n",
    "baseline_sys_prompt = \"\"\"\n",
    "You are a helpful assistant and expert in cooking recipes.\n",
    "\n",
    "Before answering, always make at least one call to query_food_recipe_vector_db\n",
    "to retrieve the relevant context of recipes and ingredients to generate an informed\n",
    "and high-quality response to the user prompt but NEVER exceed a MAXIMUM of \n",
    "3 calls to the query_food_recipe_vector_db function.\n",
    "\n",
    "Provide a response to the user prompt about food with recommended recipes and instructions.\n",
    "\"\"\""
   ]
  },
  {
   "cell_type": "code",
   "execution_count": 28,
   "id": "ed11c7ae-7ac1-4dab-b889-fad779b36280",
   "metadata": {
    "tags": []
   },
   "outputs": [],
   "source": [
    "MODEL_ID = \"anthropic.claude-3-sonnet-20240229-v1:0\"\n",
    "\n",
    "def query_bedrock_llm(messages):\n",
    "    response = bedrock_client.invoke_model(\n",
    "        modelId=MODEL_ID,\n",
    "        body=json.dumps({\n",
    "            'anthropic_version': 'bedrock-2023-05-31', # This is required to use chat style messages object \n",
    "            'system': baseline_sys_prompt,\n",
    "            'messages': messages,\n",
    "            'max_tokens': 3000,\n",
    "            \"tools\": [recipe_db_query_tool],\n",
    "\n",
    "            # This config forces the model to always call the recipe db query tool atleast once \n",
    "            # https://docs.anthropic.com/en/docs/build-with-claude/tool-use#controlling-claudes-output\n",
    "            # \"tool_choice\": {\n",
    "            #     \"type\": \"tool\",\n",
    "            #     \"name\": recipe_db_query_tool['name']\n",
    "            # },\n",
    "            \n",
    "            # TODO: TUNE THESE VALUES\n",
    "            'temperature': 0.1, \n",
    "            'top_p': 0.9\n",
    "        })\n",
    "    )\n",
    "    response_body = json.loads(response.get('body').read())\n",
    "    \n",
    "    return response_body"
   ]
  },
  {
   "cell_type": "markdown",
   "id": "9abb22e4-9e26-4d4d-9ce1-f6b20bac5cb5",
   "metadata": {},
   "source": [
    "### Pipe langchain together"
   ]
  },
  {
   "cell_type": "code",
   "execution_count": 29,
   "id": "1cc70641-ecc2-4cc6-a77f-0f70b806f274",
   "metadata": {
    "tags": []
   },
   "outputs": [],
   "source": [
    "from langchain_core.prompts import ChatPromptTemplate\n",
    "from langchain_core.runnables import RunnablePassthrough, RunnableMap"
   ]
  },
  {
   "cell_type": "code",
   "execution_count": 30,
   "id": "72b5ce6a-3aac-4fb4-b9a3-8742402f185c",
   "metadata": {
    "tags": []
   },
   "outputs": [],
   "source": [
    "baseline_user_prompt = \"\"\"\n",
    "### Here is a user prompt:\n",
    "{query}\n",
    "\"\"\""
   ]
  },
  {
   "cell_type": "code",
   "execution_count": 31,
   "id": "d466b594-b943-43b7-90be-23b454a698e0",
   "metadata": {
    "tags": []
   },
   "outputs": [],
   "source": [
    "def process_prompt(query_args):\n",
    "    prompt_with_query = baseline_user_prompt.replace(\"{query}\", query_args['query'])\n",
    "    \n",
    "    # This format doesn't matter much now, but we will use it later to \n",
    "    # persist chat history for continuous dialogue\n",
    "    messages = [\n",
    "        {\n",
    "            \"role\": \"user\",\n",
    "            \"content\": [\n",
    "                {\n",
    "                    \"type\": \"text\",\n",
    "                    \"text\": prompt_with_query\n",
    "                }\n",
    "            ]\n",
    "        }\n",
    "    ]\n",
    "    \n",
    "    return messages"
   ]
  },
  {
   "cell_type": "code",
   "execution_count": null,
   "id": "f1d18ec8-b5e4-4405-bb34-d0d36739e919",
   "metadata": {
    "tags": []
   },
   "outputs": [],
   "source": []
  },
  {
   "cell_type": "code",
   "execution_count": 32,
   "id": "1254f41c-9261-46a6-9140-2f7c538a47a1",
   "metadata": {
    "tags": []
   },
   "outputs": [],
   "source": [
    "qdrant_rag_chain = (\n",
    "    RunnableMap(\n",
    "        # {\"context\": qdrant_retriever | format_docs,\n",
    "         {\"query\": RunnablePassthrough()}\n",
    "    )\n",
    "    | process_prompt\n",
    "    | query_bedrock_llm\n",
    "    # | parse_event_stream\n",
    ")"
   ]
  },
  {
   "cell_type": "markdown",
   "id": "4e33af48-0606-4e6f-b57a-53ce71d0f1b8",
   "metadata": {},
   "source": [
    "### Model generates dynamic context queries to vector db"
   ]
  },
  {
   "cell_type": "code",
   "execution_count": 33,
   "id": "865bccd7-a24f-42ad-abfc-7b699504bc10",
   "metadata": {
    "tags": []
   },
   "outputs": [],
   "source": [
    "test_query_1 = \"I enjoy asian fusion food and I am a vegetarian. Give me one recipe with ingredients and instructions\""
   ]
  },
  {
   "cell_type": "code",
   "execution_count": 34,
   "id": "d51c4c33-fc4f-4a21-bd51-b9a11615a3b4",
   "metadata": {
    "tags": []
   },
   "outputs": [
    {
     "data": {
      "text/plain": [
       "{'id': 'msg_bdrk_01V19vnku64nmMTKso6TjSAb',\n",
       " 'type': 'message',\n",
       " 'role': 'assistant',\n",
       " 'model': 'claude-3-sonnet-20240229',\n",
       " 'content': [{'type': 'text',\n",
       "   'text': 'Okay, let me query the recipe database to find a relevant Asian fusion vegetarian recipe for you.'},\n",
       "  {'type': 'tool_use',\n",
       "   'id': 'toolu_bdrk_01VMdyVdYVKjJyCzLn3TWuft',\n",
       "   'name': 'query_food_recipe_vector_db',\n",
       "   'input': {'queries': ['asian fusion vegetarian recipes']}}],\n",
       " 'stop_reason': 'tool_use',\n",
       " 'stop_sequence': None,\n",
       " 'usage': {'input_tokens': 472, 'output_tokens': 87}}"
      ]
     },
     "execution_count": 34,
     "metadata": {},
     "output_type": "execute_result"
    }
   ],
   "source": [
    "qdrant_rag_chain.invoke(test_query_1)"
   ]
  },
  {
   "cell_type": "code",
   "execution_count": 35,
   "id": "8c963602-4054-4248-a9f3-711571c69418",
   "metadata": {
    "tags": []
   },
   "outputs": [],
   "source": [
    "test_query_2 = \"\"\"\n",
    "I have a peanut allergy but I like thai food. \n",
    "I also don't enjoy spicy food much, and want a meal with low carbs. \n",
    "Give a recipe with ingredients and instructions\n",
    "\"\"\""
   ]
  },
  {
   "cell_type": "code",
   "execution_count": 36,
   "id": "411cfefc-afe1-46c8-8163-3ca98452b84a",
   "metadata": {
    "tags": []
   },
   "outputs": [
    {
     "data": {
      "text/plain": [
       "{'id': 'msg_bdrk_0134txhPyGX1jBNWFRd59G7g',\n",
       " 'type': 'message',\n",
       " 'role': 'assistant',\n",
       " 'model': 'claude-3-sonnet-20240229',\n",
       " 'content': [{'type': 'text',\n",
       "   'text': 'Okay, let me query the food recipe database to find a suitable Thai recipe that meets your requirements.'},\n",
       "  {'type': 'tool_use',\n",
       "   'id': 'toolu_bdrk_01GNxvPs95AkwzTtpxfAancs',\n",
       "   'name': 'query_food_recipe_vector_db',\n",
       "   'input': {'queries': ['thai food',\n",
       "     'peanut free',\n",
       "     'low carb',\n",
       "     'not spicy']}}],\n",
       " 'stop_reason': 'tool_use',\n",
       " 'stop_sequence': None,\n",
       " 'usage': {'input_tokens': 496, 'output_tokens': 100}}"
      ]
     },
     "execution_count": 36,
     "metadata": {},
     "output_type": "execute_result"
    }
   ],
   "source": [
    "qdrant_rag_chain.invoke(test_query_2)"
   ]
  },
  {
   "cell_type": "code",
   "execution_count": 37,
   "id": "889b3160-f0f3-41ae-878e-3cb8b444ede3",
   "metadata": {
    "tags": []
   },
   "outputs": [],
   "source": [
    "test_query_3 = \"\"\"\n",
    "Suggest a low-carb breakfast recipe that includes eggs and spinach, \n",
    "can be prepared in under 20 minutes, \n",
    "and is suitable for a keto diet.\n",
    "\"\"\""
   ]
  },
  {
   "cell_type": "code",
   "execution_count": 38,
   "id": "1061f3ad-080f-4a8e-a94f-eb4622372cca",
   "metadata": {
    "tags": []
   },
   "outputs": [
    {
     "data": {
      "text/plain": [
       "{'id': 'msg_bdrk_01EU9jHspsZCwFjDe5e4ZZ7S',\n",
       " 'type': 'message',\n",
       " 'role': 'assistant',\n",
       " 'model': 'claude-3-sonnet-20240229',\n",
       " 'content': [{'type': 'tool_use',\n",
       "   'id': 'toolu_bdrk_01SAet5TYX5VafG9DnyHH6RV',\n",
       "   'name': 'query_food_recipe_vector_db',\n",
       "   'input': {'queries': ['low-carb breakfast recipe with eggs and spinach',\n",
       "     'keto breakfast recipe with eggs and spinach']}}],\n",
       " 'stop_reason': 'tool_use',\n",
       " 'stop_sequence': None,\n",
       " 'usage': {'input_tokens': 491, 'output_tokens': 82}}"
      ]
     },
     "execution_count": 38,
     "metadata": {},
     "output_type": "execute_result"
    }
   ],
   "source": [
    "qdrant_rag_chain.invoke(test_query_3)"
   ]
  },
  {
   "cell_type": "code",
   "execution_count": 39,
   "id": "ac56eb72-cf6d-4d2d-8894-bc2a225b3f29",
   "metadata": {
    "tags": []
   },
   "outputs": [],
   "source": [
    "test_query_4 = \"\"\"\n",
    "Suggest a healthy dinner recipe for two people that includes fish, \n",
    "is under 500 calories per serving, \n",
    "and can be made in less than 40 minutes.\n",
    "\"\"\""
   ]
  },
  {
   "cell_type": "code",
   "execution_count": 40,
   "id": "ee2f27f7-504c-4e4a-89b0-9a79b297e721",
   "metadata": {
    "tags": []
   },
   "outputs": [
    {
     "data": {
      "text/plain": [
       "{'id': 'msg_bdrk_01HLT8LcdvjTgowpw3fjHMQG',\n",
       " 'type': 'message',\n",
       " 'role': 'assistant',\n",
       " 'model': 'claude-3-sonnet-20240229',\n",
       " 'content': [{'type': 'text',\n",
       "   'text': 'Okay, let me query the recipe database to find some healthy fish dinner options that meet those criteria.'},\n",
       "  {'type': 'tool_use',\n",
       "   'id': 'toolu_bdrk_01GQzCYxdEPHGkj6FSgTmKZU',\n",
       "   'name': 'query_food_recipe_vector_db',\n",
       "   'input': {'queries': ['healthy fish dinner recipe under 500 calories quick']}}],\n",
       " 'stop_reason': 'tool_use',\n",
       " 'stop_sequence': None,\n",
       " 'usage': {'input_tokens': 490, 'output_tokens': 92}}"
      ]
     },
     "execution_count": 40,
     "metadata": {},
     "output_type": "execute_result"
    }
   ],
   "source": [
    "qdrant_rag_chain.invoke(test_query_4)"
   ]
  },
  {
   "cell_type": "markdown",
   "id": "3ad71bb4-54a7-4037-94c3-72e7340a3bdc",
   "metadata": {},
   "source": [
    "### Implement continuous dialogue and function calling"
   ]
  },
  {
   "cell_type": "code",
   "execution_count": 41,
   "id": "36cdb25c-0aff-4170-9736-a0c56aa0e53a",
   "metadata": {
    "tags": []
   },
   "outputs": [],
   "source": [
    "def generate_message(prompt):\n",
    "    if type(prompt) != str:\n",
    "        raise ValueError(f'Tried to call message generate_message with non-string input: {prompt}')\n",
    "        \n",
    "    return {\n",
    "        \"role\": \"user\",\n",
    "        \"content\": [\n",
    "            {\n",
    "                \"type\": \"text\",\n",
    "                \"text\": prompt\n",
    "            }\n",
    "        ]\n",
    "    }"
   ]
  },
  {
   "cell_type": "code",
   "execution_count": 42,
   "id": "0aafdca2-4248-4780-8c0f-4cbdd2209889",
   "metadata": {
    "tags": []
   },
   "outputs": [],
   "source": [
    "def generate_tool_message(fn_results):\n",
    "    \n",
    "    return {\n",
    "        \"role\": \"user\",\n",
    "        \"content\": fn_results\n",
    "    }"
   ]
  },
  {
   "cell_type": "code",
   "execution_count": 43,
   "id": "3e1efe9b-eee3-402a-b606-df6c536b9990",
   "metadata": {
    "tags": []
   },
   "outputs": [],
   "source": [
    "import json\n",
    "\n",
    "# Adds the current prompt as a new message to the chat history\n",
    "# and calls bedrock with the entire chat history\n",
    "# Returns the response body, llm's message, and new chat history\n",
    "\n",
    "'''\n",
    "Example response body structure:\n",
    "{\n",
    "   \"id\":\"msg_bdrk_01C5GGkafK7aL3P5i3rsMr1p\",\n",
    "   \"type\":\"message\",\n",
    "   \"role\":\"assistant\",\n",
    "   \"model\":\"claude-3-sonnet-20240229\",\n",
    "   \"content\":[\n",
    "      {\n",
    "         \"type\":\"tool_use\",\n",
    "         \"id\":\"toolu_bdrk_01CQiYa8BMJfpJC68DuRdwQn\",\n",
    "         \"name\":\"query_food_recipe_vector_db\",\n",
    "         \"input\":{\n",
    "            \"queries\":[\n",
    "               \"healthy fish dinner recipe under 500 calories\",\n",
    "               \"fish dinner recipe for two under 40 minutes\"\n",
    "            ]\n",
    "         }\n",
    "      }\n",
    "   ],\n",
    "   \"stop_reason\":\"tool_use\",\n",
    "   \"stop_sequence\":\"None\",\n",
    "   \"usage\":{\n",
    "      \"input_tokens\":559,\n",
    "      \"output_tokens\":55\n",
    "   }\n",
    "}\n",
    "'''\n",
    "def message_handler(existing_chat_history, prompt, is_tool_message=False):\n",
    "    # Fn results is an array of tool response objects\n",
    "    # message structure needs to reflect that\n",
    "    if is_tool_message:\n",
    "        user_message = generate_tool_message(prompt)\n",
    "    else:\n",
    "        user_message = generate_message(prompt)\n",
    "    existing_chat_history.append(user_message)\n",
    "\n",
    "    # Parse the response content\n",
    "    response_body = query_bedrock_llm(existing_chat_history)\n",
    "    llm_message = {\n",
    "        'role': response_body['role'],\n",
    "        'content': response_body['content']\n",
    "    }\n",
    "\n",
    "    # Add the response message to the chat history\n",
    "    existing_chat_history.append(llm_message)\n",
    "    \n",
    "    return [response_body, llm_message, existing_chat_history]"
   ]
  },
  {
   "cell_type": "code",
   "execution_count": 44,
   "id": "54251908-abed-4098-88db-dae841ce9875",
   "metadata": {
    "tags": []
   },
   "outputs": [],
   "source": [
    "# Executes a list of queries and returns a list of document results\n",
    "def handle_vector_db_queries(queries, retriever=qdrant_retriever): \n",
    "    context_docs = []\n",
    "    for query in queries:\n",
    "        query_results = retriever.invoke(query)\n",
    "        context_docs.extend(query_results)\n",
    "\n",
    "    return context_docs"
   ]
  },
  {
   "cell_type": "code",
   "execution_count": 45,
   "id": "a7daf0c5-eca6-496d-a9d3-97d7d472a086",
   "metadata": {
    "tags": []
   },
   "outputs": [],
   "source": [
    "# Takes as an argument to LLM message content, returns a list of the fn result objects\n",
    "def handle_function_calls(tool_call_message_content):\n",
    "    tool_results = []\n",
    "    \n",
    "    for tool_call in tool_call_message_content:\n",
    "        # Only process messages from the LLM that are function calls\n",
    "        if tool_call['type'] != 'tool_use':\n",
    "            continue\n",
    "        fn_id = tool_call['id']\n",
    "        fn_name = tool_call['name']\n",
    "        fn_args = tool_call['input']\n",
    "        fn_result = {\n",
    "            \"type\": \"tool_result\",\n",
    "            \"tool_use_id\": fn_id,\n",
    "        }   \n",
    "\n",
    "        if fn_name == 'query_food_recipe_vector_db':\n",
    "            if 'queries' not in fn_args:\n",
    "                print(f\"ERROR: Tried to call {fn_name} with invalid args {fn_args}, skipping..\")\n",
    "                fn_result['content'] = \"\"\n",
    "                fn_result['is_error'] = True\n",
    "                tool_results.append(fn_result)\n",
    "                continue\n",
    "                \n",
    "            print(f\"Model called {fn_name} with args {fn_args}\")\n",
    "            context_docs = handle_vector_db_queries(fn_args['queries'])\n",
    "            context_str = format_docs(context_docs)\n",
    "            fn_result['content'] = context_str\n",
    "            tool_results.append(fn_result)\n",
    "            \n",
    "        # TODO: handle web search invocation here\n",
    "        \n",
    "        else:\n",
    "            print(f\"ERROR: Attempted call to unknown function {fn_name}\")\n",
    "            fn_result['content'] = \"\"\n",
    "            fn_result['is_error'] = True\n",
    "            tool_results.append(fn_result)\n",
    "\n",
    "    return tool_results"
   ]
  },
  {
   "cell_type": "markdown",
   "id": "7e719297-c2db-4068-898d-81ea89ce4551",
   "metadata": {},
   "source": [
    "### Run dynamic query function calling with test queries"
   ]
  },
  {
   "cell_type": "code",
   "execution_count": 46,
   "id": "33afd461-f722-404e-bc42-617a953e559d",
   "metadata": {
    "tags": []
   },
   "outputs": [],
   "source": [
    "'''\n",
    "Example payload structure of response_body:\n",
    "\n",
    "{'id': 'msg_bdrk_01REesjegNiLteurBoxW7pSt',\n",
    " 'type': 'message',\n",
    " 'role': 'assistant',\n",
    " 'model': 'claude-3-sonnet-20240229',\n",
    " 'content': [{'type': 'tool_use',\n",
    "   'id': 'toolu_bdrk_01191W2FuAFTRoDqKKeJSmmn',\n",
    "   'name': 'query_food_recipe_vector_db',\n",
    "   'input': {'queries': ['thai food',\n",
    "     'peanut free',\n",
    "     'low carb',\n",
    "     'not spicy']}}],\n",
    " 'stop_reason': 'tool_use',\n",
    " 'stop_sequence': None,\n",
    " 'usage': {'input_tokens': 573, 'output_tokens': 52}}\n",
    "\n",
    "\n",
    "Example payload structure of llm_message['content']:\n",
    "\n",
    "[{'type': 'tool_use',\n",
    "   'id': 'toolu_bdrk_01191W2FuAFTRoDqKKeJSmmn',\n",
    "   'name': 'query_food_recipe_vector_db',\n",
    "   'input': {'queries': ['thai food',\n",
    "     'peanut free',\n",
    "     'low carb',\n",
    "     'not spicy']}}]\n",
    "'''\n",
    "\n",
    "# This function is the entry point to invoke the LLM with support for function calling\n",
    "# parsing output, calling requested functions, sending output is handled here\n",
    "def run_chat_loop(prompt):\n",
    "    print(f\"[User]: {prompt}\")\n",
    "    response_body, llm_message, chat_history = message_handler(existing_chat_history=[], prompt=prompt)\n",
    "    \n",
    "    \n",
    "    # The model wants to call tools, call them, provide response, repeat until content is generated\n",
    "    while response_body['stop_reason'] == 'tool_use':\n",
    "        fn_results = handle_function_calls(tool_call_message_content=llm_message['content'])\n",
    "\n",
    "        # Send function results back to LLM as a new message with the existing chat history\n",
    "        response_body, llm_message, chat_history = message_handler(\n",
    "            existing_chat_history=chat_history, \n",
    "            prompt=fn_results,\n",
    "            is_tool_message=True\n",
    "        )\n",
    "\n",
    "    # The model is done calling tools\n",
    "    print(f\"\\n[Model]: {llm_message['content'][0]['text']}\")\n"
   ]
  },
  {
   "cell_type": "code",
   "execution_count": 82,
   "id": "21856cad-a7de-4852-9878-ca86f66aa03e",
   "metadata": {
    "tags": []
   },
   "outputs": [
    {
     "name": "stdout",
     "output_type": "stream",
     "text": [
      "[User]: \n",
      "Suggest a healthy dinner recipe for two people that includes fish, \n",
      "is under 500 calories per serving, \n",
      "and can be made in less than 40 minutes.\n",
      "\n",
      "Model called query_food_recipe_vector_db with args {'queries': ['healthy dinner recipe fish under 500 calories 40 minutes']}\n",
      "\n",
      "[Model]: Based on the recipe metadata retrieved, I recommend the following healthy dinner recipe for two people that includes fish, is under 500 calories per serving, and can be made in less than 40 minutes:\n",
      "\n",
      "Recipe: Tasty Fish\n",
      "Calories per serving: 195.2\n",
      "Total time: 50 minutes (40 minutes cook time)\n",
      "Servings: 3\n",
      "\n",
      "Ingredients:\n",
      "- 2 fillets of white fish (such as tilapia or cod)\n",
      "- 1 tbsp olive oil\n",
      "- 1 tsp lemon juice\n",
      "- 1 tsp dried oregano\n",
      "- Salt and pepper to taste\n",
      "- Steamed vegetables of your choice\n",
      "\n",
      "Instructions:\n",
      "1. Preheat oven to 400°F.\n",
      "2. Pat the fish fillets dry and place them on a baking sheet lined with parchment paper.\n",
      "3. Drizzle the fish with olive oil and lemon juice, then sprinkle with oregano, salt, and pepper.\n",
      "4. Bake the fish for 20-25 minutes, or until it flakes easily with a fork.\n",
      "5. Serve the baked fish with your choice of steamed vegetables.\n",
      "\n",
      "This recipe is healthy, low in calories, and quick to prepare, making it a great option for a weeknight dinner for two. The fish provides a good source of protein, and the vegetables add fiber and essential nutrients.\n"
     ]
    }
   ],
   "source": [
    "test_query_response_4 = run_chat_loop(test_query_4)"
   ]
  },
  {
   "cell_type": "code",
   "execution_count": 83,
   "id": "360907c0-da1b-4a59-b8d9-580f77d3a4ee",
   "metadata": {
    "tags": []
   },
   "outputs": [
    {
     "name": "stdout",
     "output_type": "stream",
     "text": [
      "[User]: \n",
      "Suggest a low-carb breakfast recipe that includes eggs and spinach, \n",
      "can be prepared in under 20 minutes, \n",
      "and is suitable for a keto diet.\n",
      "\n",
      "Model called query_food_recipe_vector_db with args {'queries': ['low carb breakfast recipe eggs spinach keto']}\n",
      "\n",
      "[Model]: Based on the search results, here is a recommended low-carb breakfast recipe with eggs and spinach that is keto-friendly and can be prepared in under 20 minutes:\n",
      "\n",
      "Keto Egg Muffins\n",
      "\n",
      "Ingredients:\n",
      "- 12 eggs\n",
      "- 1 cup fresh spinach, chopped\n",
      "- 1/4 cup shredded cheddar cheese\n",
      "- Salt and pepper to taste\n",
      "\n",
      "Instructions:\n",
      "1. Preheat oven to 350°F. Grease a 12-cup muffin tin.\n",
      "2. In a large bowl, whisk the eggs. Stir in the chopped spinach and shredded cheese. Season with salt and pepper.\n",
      "3. Divide the egg mixture evenly among the prepared muffin cups.\n",
      "4. Bake for 15-18 minutes, until the eggs are set.\n",
      "5. Allow the muffins to cool for 5 minutes before removing from the tin.\n",
      "\n",
      "This recipe is perfect for a quick and easy low-carb breakfast. The eggs and spinach provide protein and nutrients, while the keto-friendly ingredients make it suitable for a ketogenic diet. The total prep and cook time is under 20 minutes, making it a great option for busy mornings.\n"
     ]
    }
   ],
   "source": [
    "test_query_response_3 = run_chat_loop(test_query_3)"
   ]
  },
  {
   "cell_type": "code",
   "execution_count": 84,
   "id": "2db4da32-cddb-4558-8734-7b92bd5a00b1",
   "metadata": {
    "tags": []
   },
   "outputs": [
    {
     "name": "stdout",
     "output_type": "stream",
     "text": [
      "[User]: \n",
      "I have a peanut allergy but I like thai food. \n",
      "I also don't enjoy spicy food much, and want a meal with low carbs. \n",
      "Give a recipe with ingredients and instructions\n",
      "\n",
      "Model called query_food_recipe_vector_db with args {'queries': ['thai food recipe peanut allergy low carb not spicy']}\n",
      "\n",
      "[Model]: Based on the search results, it looks like a good option for you would be a Thai Peanut Sauce recipe that is low in carbs and not too spicy. Here is a recipe that fits your needs:\n",
      "\n",
      "Thai Peanut Sauce\n",
      "\n",
      "Ingredients:\n",
      "- 1/2 cup unsweetened coconut milk\n",
      "- 2 tablespoons natural peanut butter (make sure it's peanut allergy-friendly)\n",
      "- 1 tablespoon low-sodium soy sauce\n",
      "- 1 tablespoon lime juice\n",
      "- 1 teaspoon grated ginger\n",
      "- 1/4 teaspoon garlic powder\n",
      "- 1/4 teaspoon red pepper flakes (optional, omit if you don't want any spice)\n",
      "\n",
      "Instructions:\n",
      "1. In a small bowl, whisk together all the ingredients until well combined.\n",
      "2. Taste and adjust seasoning as needed, adding more lime juice for acidity or soy sauce for saltiness.\n",
      "3. Use the peanut sauce as a dip for fresh vegetables, or drizzle it over grilled or roasted protein like chicken or tofu.\n",
      "\n",
      "This peanut sauce is creamy, flavorful, and low in carbs, making it a great option for your Thai food craving while accommodating your dietary needs. Let me know if you need any other recommendations!\n"
     ]
    }
   ],
   "source": [
    "test_query_response_2 = run_chat_loop(test_query_2)"
   ]
  },
  {
   "cell_type": "code",
   "execution_count": 85,
   "id": "8b52d711-916e-4adc-bc1b-7478113aca7e",
   "metadata": {
    "tags": []
   },
   "outputs": [
    {
     "name": "stdout",
     "output_type": "stream",
     "text": [
      "[User]: I enjoy asian fusion food and I am a vegetarian. Give me one recipe with ingredients and instructions\n",
      "Model called query_food_recipe_vector_db with args {'queries': ['asian fusion vegetarian recipe']}\n",
      "\n",
      "[Model]: Based on the search results, here is a tasty Asian-inspired vegetarian recipe I can recommend:\n",
      "\n",
      "Vegetarian Thai Curry\n",
      "\n",
      "Ingredients:\n",
      "- 1 tablespoon coconut oil\n",
      "- 1 onion, diced \n",
      "- 3 cloves garlic, minced\n",
      "- 1 tablespoon Thai red curry paste\n",
      "- 1 (13.5 oz) can coconut milk\n",
      "- 2 cups mixed vegetables (such as bell peppers, broccoli, carrots)\n",
      "- 1 cup cooked chickpeas or tofu\n",
      "- 1 tablespoon soy sauce or tamari\n",
      "- 1 teaspoon brown sugar\n",
      "- Juice of 1 lime\n",
      "- Salt and pepper to taste\n",
      "- Chopped cilantro for garnish\n",
      "\n",
      "Instructions:\n",
      "1. In a large skillet or wok, heat the coconut oil over medium heat. Add the onion and sauté for 2-3 minutes until translucent.\n",
      "2. Add the garlic and Thai red curry paste. Cook for 1 minute, stirring constantly, until fragrant.\n",
      "3. Pour in the coconut milk and stir to combine. Add the mixed vegetables, chickpeas/tofu, soy sauce, brown sugar, and lime juice. \n",
      "4. Simmer for 15-20 minutes, until the vegetables are tender. \n",
      "5. Season with salt and pepper to taste.\n",
      "6. Serve hot, garnished with chopped cilantro. Enjoy over steamed rice.\n",
      "\n",
      "This vegetarian Thai curry is full of bold, aromatic flavors and packed with nutritious vegetables and plant-based protein. It's a quick and easy Asian-inspired dish that's perfect for a weeknight meal. Let me know if you have any other questions!\n"
     ]
    }
   ],
   "source": [
    "test_query_response_1 = run_chat_loop(test_query_1)"
   ]
  },
  {
   "cell_type": "markdown",
   "id": "1e014f6e-1798-46d2-9bf3-d11cb6d93dde",
   "metadata": {},
   "source": [
    "### Try with higher complexity / more restrictive prompts"
   ]
  },
  {
   "cell_type": "code",
   "execution_count": 86,
   "id": "404d51cd-b898-4717-8407-9415e1da4ceb",
   "metadata": {
    "tags": []
   },
   "outputs": [],
   "source": [
    "test_query_5 = \"\"\"\n",
    "I am on a ketogenic diet and need a dinner recipe that is dairy-free, \n",
    "low in sodium, and takes less than an hour to cook.\n",
    "\"\"\"\n",
    "\n",
    "test_query_6 = \"\"\"\n",
    "I'm looking for a pescatarian main course that is low in saturated fat, \n",
    "uses Asian flavors, and can be prepared in under 45 minutes.\n",
    "\"\"\"\n",
    "\n",
    "test_query_7 = \"\"\"\n",
    "I need a diabetic-friendly, vegan breakfast recipe that is gluten-free, \n",
    "nut-free, and low in cholesterol, but also rich in omega-3 fatty acids \n",
    "and can be prepared the night before.\n",
    "\"\"\"\n",
    "\n",
    "test_query_8 = \"\"\"\n",
    "I am following a strict paleo diet and need a lunch recipe that is dairy-free, \n",
    "gluten-free, low in carbs, and low in sodium. Additionally, it should be rich in antioxidants, \n",
    "and can be made in under 30 minutes with minimal cooking equipment.\n",
    "\"\"\""
   ]
  },
  {
   "cell_type": "code",
   "execution_count": 87,
   "id": "92ee0c0d-2d00-495d-b0e9-5f7316e8365c",
   "metadata": {
    "tags": []
   },
   "outputs": [
    {
     "name": "stdout",
     "output_type": "stream",
     "text": [
      "[User]: \n",
      "I am on a ketogenic diet and need a dinner recipe that is dairy-free, \n",
      "low in sodium, and takes less than an hour to cook.\n",
      "\n",
      "Model called query_food_recipe_vector_db with args {'queries': ['keto dairy-free low sodium dinner recipe']}\n",
      "\n",
      "[Model]: Based on the search results, the recipe that best fits your criteria is the \"Low Carb Chicken Salad\". Here are the key details:\n",
      "\n",
      "Ingredients:\n",
      "- 2 cups cooked chicken, shredded or diced\n",
      "- 1/4 cup mayonnaise (use a dairy-free version)\n",
      "- 1 tbsp Dijon mustard\n",
      "- 1 tbsp lemon juice\n",
      "- 1/4 tsp salt\n",
      "- 1/4 tsp black pepper\n",
      "- 1/2 cup diced celery\n",
      "- 1/4 cup diced onion\n",
      "- 2 tbsp chopped parsley\n",
      "\n",
      "Instructions:\n",
      "1. In a medium bowl, mix together the cooked chicken, mayonnaise, Dijon mustard, lemon juice, salt, and pepper until well combined.\n",
      "2. Stir in the diced celery, onion, and chopped parsley.\n",
      "3. Serve chilled or at room temperature. Can be served on a bed of greens, in lettuce wraps, or with keto-friendly crackers.\n",
      "\n",
      "This recipe is keto-friendly, dairy-free, and low in sodium. It takes about 50 minutes total to prepare, which fits your time requirement. Let me know if you need any other details!\n"
     ]
    }
   ],
   "source": [
    "test_query_response_5 = run_chat_loop(test_query_5)"
   ]
  },
  {
   "cell_type": "code",
   "execution_count": 88,
   "id": "69e9207b-3dc4-4cba-a45a-19bade8aa3ea",
   "metadata": {
    "tags": []
   },
   "outputs": [
    {
     "name": "stdout",
     "output_type": "stream",
     "text": [
      "[User]: \n",
      "I'm looking for a pescatarian main course that is low in saturated fat, \n",
      "uses Asian flavors, and can be prepared in under 45 minutes.\n",
      "\n",
      "Model called query_food_recipe_vector_db with args {'queries': ['pescatarian main course', 'low saturated fat', 'asian flavors', 'under 45 minutes']}\n",
      "\n",
      "[Model]: Based on the search results, here is a recommended pescatarian main course recipe that meets your criteria:\n",
      "\n",
      "Healthy Low Fat Baked Fish\n",
      "\n",
      "Ingredients:\n",
      "- 2 white fish fillets (such as tilapia or cod), about 1 lb total\n",
      "- 1 tbsp olive oil\n",
      "- 1 tbsp low-sodium soy sauce\n",
      "- 1 tbsp rice vinegar\n",
      "- 1 tsp sesame oil\n",
      "- 1 tsp grated ginger\n",
      "- 1 clove garlic, minced\n",
      "- 1/4 tsp red pepper flakes (optional for spice)\n",
      "- Salt and pepper to taste\n",
      "\n",
      "Instructions:\n",
      "1. Preheat oven to 400°F. Line a baking sheet with parchment paper.\n",
      "2. In a small bowl, whisk together the olive oil, soy sauce, rice vinegar, sesame oil, ginger, garlic, and red pepper flakes (if using). \n",
      "3. Place the fish fillets on the prepared baking sheet and brush the top with the sauce mixture. Season with salt and pepper.\n",
      "4. Bake for 10-15 minutes, until the fish is cooked through and flakes easily with a fork.\n",
      "5. Serve the baked fish immediately, garnished with chopped scallions or cilantro if desired. Pair with steamed vegetables or a fresh salad for a complete low-fat, Asian-inspired pescatarian meal.\n",
      "\n",
      "This recipe is pescatarian, low in saturated fat, uses Asian flavors, and can be prepared in under 45 minutes. The baked fish is a healthy and delicious main course option.\n"
     ]
    }
   ],
   "source": [
    "test_query_response_6 = run_chat_loop(test_query_6)"
   ]
  },
  {
   "cell_type": "code",
   "execution_count": 89,
   "id": "52fec140-11e2-46d0-90f4-e8b1e2f917df",
   "metadata": {
    "tags": []
   },
   "outputs": [
    {
     "name": "stdout",
     "output_type": "stream",
     "text": [
      "[User]: \n",
      "I need a diabetic-friendly, vegan breakfast recipe that is gluten-free, \n",
      "nut-free, and low in cholesterol, but also rich in omega-3 fatty acids \n",
      "and can be prepared the night before.\n",
      "\n",
      "Model called query_food_recipe_vector_db with args {'queries': ['diabetic-friendly vegan breakfast recipe', 'gluten-free nut-free low cholesterol breakfast', 'omega-3 rich breakfast recipe']}\n",
      "\n",
      "[Model]: Based on the recipe metadata retrieved, here is a recommended diabetic-friendly, vegan, gluten-free, nut-free, low-cholesterol breakfast recipe that is rich in omega-3s and can be prepared the night before:\n",
      "\n",
      "Overnight Oats with Chia Seeds and Berries\n",
      "\n",
      "Ingredients:\n",
      "- 1 cup rolled oats (gluten-free)\n",
      "- 1 cup unsweetened almond milk or oat milk\n",
      "- 2 tbsp chia seeds\n",
      "- 1 tsp vanilla extract\n",
      "- 1/2 tsp cinnamon\n",
      "- 1 cup mixed berries (such as blueberries, raspberries, and blackberries)\n",
      "- 1 tbsp maple syrup (optional)\n",
      "\n",
      "Instructions:\n",
      "1. In a medium bowl, combine the rolled oats, almond/oat milk, chia seeds, vanilla, and cinnamon. Stir well.\n",
      "2. Cover the bowl and refrigerate overnight.\n",
      "3. In the morning, top the overnight oats with the mixed berries and a drizzle of maple syrup (if using).\n",
      "\n",
      "This recipe is diabetic-friendly, vegan, gluten-free, nut-free, and low in cholesterol. The chia seeds provide a good source of omega-3 fatty acids. You can prepare it the night before for a quick and easy breakfast.\n",
      "\n",
      "Let me know if you need any other diabetic-friendly, vegan, or omega-3 rich recipe recommendations!\n"
     ]
    }
   ],
   "source": [
    "test_query_response_7 = run_chat_loop(test_query_7)"
   ]
  },
  {
   "cell_type": "code",
   "execution_count": 90,
   "id": "a0f9b8f1-5223-4f3f-be68-e007cde91e9c",
   "metadata": {
    "tags": []
   },
   "outputs": [
    {
     "name": "stdout",
     "output_type": "stream",
     "text": [
      "[User]: \n",
      "I am following a strict paleo diet and need a lunch recipe that is dairy-free, \n",
      "gluten-free, low in carbs, and low in sodium. Additionally, it should be rich in antioxidants, \n",
      "and can be made in under 30 minutes with minimal cooking equipment.\n",
      "\n",
      "Model called query_food_recipe_vector_db with args {'queries': ['paleo lunch recipe', 'low carb paleo recipe', 'low sodium paleo recipe', 'antioxidant rich paleo recipe', '30 minute paleo recipe']}\n",
      "\n",
      "[Model]: Based on the search results, here is a recommended paleo-friendly, low-carb, low-sodium lunch recipe that is rich in antioxidants and can be made in under 30 minutes:\n",
      "\n",
      "Avocado and Chicken Paleo Pasta\n",
      "\n",
      "Ingredients:\n",
      "- 2 boneless, skinless chicken breasts\n",
      "- 1 avocado, diced\n",
      "- 1 cup cherry tomatoes, halved\n",
      "- 1/2 cup fresh basil leaves, chopped\n",
      "- 2 tbsp olive oil\n",
      "- 1 tbsp lemon juice\n",
      "- Salt and pepper to taste\n",
      "\n",
      "Instructions:\n",
      "1. Season the chicken breasts with salt and pepper.\n",
      "2. Heat the olive oil in a skillet over medium-high heat. Add the chicken and cook for 15 minutes, flipping halfway, until cooked through.\n",
      "3. Remove the chicken from the skillet and let it rest for 5 minutes, then shred or dice it.\n",
      "4. In a large bowl, combine the shredded chicken, diced avocado, cherry tomatoes, and chopped basil.\n",
      "5. Drizzle the lemon juice over the salad and toss gently to coat.\n",
      "6. Serve immediately.\n",
      "\n",
      "This recipe is dairy-free, gluten-free, low in carbs (28.6g per serving), and low in sodium (279.1mg per serving). It's also rich in healthy fats from the avocado and antioxidants from the tomatoes and basil. And it can be made in under 30 minutes with minimal cooking equipment. Enjoy!\n"
     ]
    }
   ],
   "source": [
    "test_query_response_8 = run_chat_loop(test_query_8)"
   ]
  },
  {
   "cell_type": "markdown",
   "id": "dd2af1dd-de2e-4858-acab-6e5c8c6e3efc",
   "metadata": {
    "tags": []
   },
   "source": [
    "### Evaluation method\n",
    "1. Use LLM as a judge \n",
    "2. Basic Sniff test\n",
    "\n",
    "### Evaluation pipeline\n",
    "1. Look at EDA result and determine the type of cuisine preesnt in the data. Come up with 8 \"Test Questions\". - Done. \n",
    "    test_query_1 to test_query_8\n",
    "2. Feed the test questions in to the basic RAG, function calling RAG\n",
    "3. Gather response and use the following two methods to evaluate them.\n",
    "   1. LLM as a judge (provide grading ruberic) and ask the eval LLM to provide a score of 1-5.\n",
    "   2. Sniff test \n",
    "  "
   ]
  },
  {
   "cell_type": "markdown",
   "id": "b35de926-c6e1-4ac5-953d-9a82cf8ca2df",
   "metadata": {
    "tags": []
   },
   "source": [
    "### Recipe Grading Criteria - Pass into the Eval LLM as part of the prompt\n",
    "\n",
    "Grading Scale (1-5)\n",
    "\n",
    "5 - Exceptional Recipe:\n",
    "\n",
    "    1. Accuracy: The recipe is highly accurate and closely matches the user's query, including all specified ingredients, dietary restrictions, and desired cuisine type.\n",
    "    2. Clarity: The instructions are clear, easy to follow, and logically sequenced. Cooking times and temperatures are precise.\n",
    "    3. Creativity: The recipe demonstrates creativity, offering a unique or interesting twist on a classic dish or a novel combination of ingredients.\n",
    "    4. Completeness: The recipe includes all necessary details, such as ingredient measurements, preparation steps, serving suggestions, and any relevant tips or variations.\n",
    "    5. Healthiness: The recipe provides a balanced nutritional profile, aligning with any specified health goals or dietary considerations.\n",
    "    6. User Feedback: The recipe is likely to receive high ratings from users for both taste and ease of preparation.\n",
    "\n",
    "\n",
    "4 - Very Good Recipe:\n",
    "\n",
    "    1. Accuracy: The recipe mostly matches the user's query with minor deviations or substitutions that still align with the user's dietary restrictions and preferences.\n",
    "    2. Clarity: The instructions are clear and easy to follow, with only minor areas that could benefit from additional detail.\n",
    "    3. Creativity: The recipe shows some creativity and presents an appealing dish, though it may not be as unique as a 5-rated recipe.\n",
    "    4. Completeness: The recipe includes most necessary details, but might miss a few minor tips or variations.\n",
    "    5. Healthiness: The recipe is generally healthy, though it may not be as nutritionally balanced as a 5-rated recipe.\n",
    "    6. User Feedback: The recipe is likely to receive good ratings from users, being tasty and reasonably easy to prepare.\n",
    "\n",
    "3 - Good Recipe:\n",
    "\n",
    "    1. Accuracy: The recipe has a reasonable match with the user's query but may include some inaccuracies or ingredient substitutions that slightly alter the dish's nature.\n",
    "    2. Clarity: The instructions are generally clear but may have a few confusing steps or lack detailed guidance in some areas.\n",
    "    3. Creativity: The recipe is standard with minimal creativity or uniqueness.\n",
    "    4. Completeness: The recipe includes the essential details but lacks additional helpful information or suggestions.\n",
    "    5. Healthiness: The recipe is moderately healthy but may lack balance in terms of nutritional profile.\n",
    "    6. User Feedback: The recipe is expected to receive average ratings, being satisfactory but not outstanding in taste or ease of preparation.\n",
    "\n",
    "2 - Fair Recipe:\n",
    "\n",
    "    1. Accuracy: The recipe has noticeable discrepancies from the user's query, potentially including ingredients that were supposed to be excluded due to dietary restrictions.\n",
    "    2. Clarity: The instructions are unclear or difficult to follow, with significant gaps or ambiguities.\n",
    "    3. Creativity: The recipe lacks creativity and may appear bland or uninspired.\n",
    "    4. Completeness: The recipe is missing several important details, such as precise measurements or key preparation steps.\n",
    "    5. Healthiness: The recipe is not particularly healthy and may have an unbalanced nutritional profile.\n",
    "    6. User Feedback: The recipe is likely to receive below-average ratings due to issues with taste, clarity, or preparation difficulty.\n",
    "\n",
    "1 - Poor Recipe:\n",
    "\n",
    "    1. Accuracy: The recipe significantly deviates from the user's query, ignoring key dietary restrictions or preferences.\n",
    "    2. Clarity: The instructions are confusing, incomplete, or incorrect, making the recipe difficult or impossible to follow.\n",
    "    3. Creativity: The recipe is not creative and may seem haphazard or poorly thought out.\n",
    "    4. Completeness: The recipe is missing critical details, such as major ingredients, steps, or cooking times.\n",
    "    5. Healthiness: The recipe is unhealthy and lacks a balanced nutritional profile.\n",
    "    6. User Feedback: The recipe is likely to receive low ratings due to poor taste, difficulty in preparation, or failure to meet user expectations."
   ]
  },
  {
   "cell_type": "code",
   "execution_count": 92,
   "id": "2b700444-0292-4910-86d2-3daf33cbc276",
   "metadata": {
    "tags": []
   },
   "outputs": [],
   "source": [
    "# We will need to tune these prompts\n",
    "# query_bedrock_llm() definition NEEDS TO BE RERUN\n",
    "# each time when changes are made to this prompt\n",
    "\n",
    "eval_message = f\"\"\"\n",
    "You are a helpful assistant and expert in reviewing cooking recipes.\n",
    "\n",
    "Please look at the given user query, recipe generated by another LLM and follow the ruberic below. Provide a score between 1-5 on how good the receipe is.\n",
    "\n",
    "user query : \"{test_query_1}\"\n",
    "\n",
    "Recipe generated by another LLM :\"{test_query_response_1}\"\n",
    "\n",
    "\n",
    "Recipe review ruberic: \n",
    "\n",
    "Grading Scale (1-5)\n",
    "\n",
    "5 - Exceptional Recipe:\n",
    "\n",
    "1. Accuracy: The recipe is highly accurate and closely matches the user's query, including all specified ingredients, dietary restrictions, and desired cuisine type.\n",
    "2. Clarity: The instructions are clear, easy to follow, and logically sequenced. Cooking times and temperatures are precise.\n",
    "3. Creativity: The recipe demonstrates creativity, offering a unique or interesting twist on a classic dish or a novel combination of ingredients.\n",
    "4. Completeness: The recipe includes all necessary details, such as ingredient measurements, preparation steps, serving suggestions, and any relevant tips or variations.\n",
    "5. Healthiness: The recipe provides a balanced nutritional profile, aligning with any specified health goals or dietary considerations.\n",
    "6. User Feedback: The recipe is likely to receive high ratings from users for both taste and ease of preparation.\n",
    "4 - Very Good Recipe:\n",
    "\n",
    "1. Accuracy: The recipe mostly matches the user's query with minor deviations or substitutions that still align with the user's dietary restrictions and preferences.\n",
    "2. Clarity: The instructions are clear and easy to follow, with only minor areas that could benefit from additional detail.\n",
    "3. Creativity: The recipe shows some creativity and presents an appealing dish, though it may not be as unique as a 5-rated recipe.\n",
    "4. Completeness: The recipe includes most necessary details, but might miss a few minor tips or variations.\n",
    "5. Healthiness: The recipe is generally healthy, though it may not be as nutritionally balanced as a 5-rated recipe.\n",
    "6. User Feedback: The recipe is likely to receive good ratings from users, being tasty and reasonably easy to prepare.\n",
    "3 - Good Recipe:\n",
    "\n",
    "1. Accuracy: The recipe has a reasonable match with the user's query but may include some inaccuracies or ingredient substitutions that slightly alter the dish's nature.\n",
    "2. Clarity: The instructions are generally clear but may have a few confusing steps or lack detailed guidance in some areas.\n",
    "3. Creativity: The recipe is standard with minimal creativity or uniqueness.\n",
    "4. Completeness: The recipe includes the essential details but lacks additional helpful information or suggestions.\n",
    "5. Healthiness: The recipe is moderately healthy but may lack balance in terms of nutritional profile.\n",
    "6. User Feedback: The recipe is expected to receive average ratings, being satisfactory but not outstanding in taste or ease of preparation.\n",
    "2 - Fair Recipe:\n",
    "\n",
    "1. Accuracy: The recipe has noticeable discrepancies from the user's query, potentially including ingredients that were supposed to be excluded due to dietary restrictions.\n",
    "2. Clarity: The instructions are unclear or difficult to follow, with significant gaps or ambiguities.\n",
    "3. Creativity: The recipe lacks creativity and may appear bland or uninspired.\n",
    "4. Completeness: The recipe is missing several important details, such as precise measurements or key preparation steps.\n",
    "5. Healthiness: The recipe is not particularly healthy and may have an unbalanced nutritional profile.\n",
    "6. User Feedback: The recipe is likely to receive below-average ratings due to issues with taste, clarity, or preparation difficulty.\n",
    "1 - Poor Recipe:\n",
    "\n",
    "1. Accuracy: The recipe significantly deviates from the user's query, ignoring key dietary restrictions or preferences.\n",
    "2. Clarity: The instructions are confusing, incomplete, or incorrect, making the recipe difficult or impossible to follow.\n",
    "3. Creativity: The recipe is not creative and may seem haphazard or poorly thought out.\n",
    "4. Completeness: The recipe is missing critical details, such as major ingredients, steps, or cooking times.\n",
    "5. Healthiness: The recipe is unhealthy and lacks a balanced nutritional profile.\n",
    "6. User Feedback: The recipe is likely to receive low ratings due to poor taste, difficulty in preparation, or failure to meet user expectations.\n",
    "\n",
    "\"\"\""
   ]
  },
  {
   "cell_type": "code",
   "execution_count": 72,
   "id": "df7088e1-430d-4eca-9d21-39aa660440f2",
   "metadata": {
    "tags": []
   },
   "outputs": [],
   "source": [
    "# Eval framework\n",
    "MODEL_ID = \"anthropic.claude-3-haiku-20240307-v1:0\"\n",
    "\n",
    "def query_bedrock_eval_llm(messages):\n",
    "    response = bedrock_client.invoke_model(\n",
    "        modelId=MODEL_ID,\n",
    "        body=json.dumps({\n",
    "            'anthropic_version': 'bedrock-2023-05-31', # This is required to use chat style messages object \n",
    "            'messages': messages,\n",
    "            'max_tokens': 3000,\n",
    "\n",
    "            # This config forces the model to always call the recipe db query tool atleast once \n",
    "            # https://docs.anthropic.com/en/docs/build-with-claude/tool-use#controlling-claudes-output\n",
    "            # \"tool_choice\": {\n",
    "            #     \"type\": \"tool\",\n",
    "            #     \"name\": recipe_db_query_tool['name']\n",
    "            # },\n",
    "            \n",
    "            # TODO: TUNE THESE VALUES\n",
    "            'temperature': 0.1, \n",
    "            'top_p': 0.9\n",
    "        })\n",
    "    )\n",
    "    response_body = json.loads(response.get('body').read())\n",
    "    \n",
    "    return response_body"
   ]
  },
  {
   "cell_type": "code",
   "execution_count": 75,
   "id": "48349c51-7a1d-4762-9623-105c16530b5d",
   "metadata": {
    "tags": []
   },
   "outputs": [],
   "source": [
    "qdrant_rag_chain_eval = (\n",
    "    RunnableMap(\n",
    "        # {\"context\": qdrant_retriever | format_docs,\n",
    "         {\"query\": RunnablePassthrough()}\n",
    "    )\n",
    "    | process_prompt\n",
    "    | query_bedrock_eval_llm\n",
    "    # | parse_event_stream\n",
    ")"
   ]
  },
  {
   "cell_type": "code",
   "execution_count": 77,
   "id": "b9272b69-2abe-496d-b20a-f1c1e778eee6",
   "metadata": {
    "tags": []
   },
   "outputs": [
    {
     "data": {
      "text/plain": [
       "{'id': 'msg_bdrk_01BhHqcAM6iQ6iCrxaHtCWLu',\n",
       " 'type': 'message',\n",
       " 'role': 'assistant',\n",
       " 'model': 'claude-3-haiku-20240307',\n",
       " 'content': [{'type': 'text',\n",
       "   'text': 'Based on the recipe details provided and the review rubric, I would rate the \"Low Carb Chicken Salad\" recipe a 4 out of 5.\\n\\nRationale:\\n\\n1. Accuracy: The recipe closely matches the user\\'s query, including all the specified dietary restrictions (dairy-free, gluten-free, low carb, low sodium) and desired attributes (rich in antioxidants, quick to prepare). There are no major deviations from the user\\'s requirements.\\n\\n2. Clarity: The instructions provided are clear and easy to follow, with a logical sequence of steps. The cooking times and preparation details seem precise.\\n\\n3. Creativity: While the recipe is not overly creative, it presents a classic and satisfying paleo-friendly chicken salad that meets the user\\'s needs. The combination of ingredients is straightforward but effective.\\n\\n4. Completeness: The recipe includes all the necessary details, such as ingredient measurements, preparation steps, and serving suggestions. It could potentially benefit from a few additional tips or variations, but the core information is comprehensive.\\n\\n5. Healthiness: The recipe aligns well with the user\\'s paleo diet and health goals. It is low in carbs, sodium, and dairy, while providing a good source of protein and antioxidants from the chicken, vegetables, and herbs.\\n\\n6. User Feedback: Based on the details provided, this recipe is likely to receive positive ratings from users for its taste, ease of preparation, and ability to meet their dietary requirements.\\n\\nOverall, the \"Low Carb Chicken Salad\" recipe is a very good option that closely matches the user\\'s query and provides a healthy, satisfying paleo-friendly lunch. With its clear instructions, balanced nutritional profile, and potential to satisfy the user\\'s preferences, I would rate it a 4 out of 5.'}],\n",
       " 'stop_reason': 'end_turn',\n",
       " 'stop_sequence': None,\n",
       " 'usage': {'input_tokens': 1259, 'output_tokens': 403}}"
      ]
     },
     "execution_count": 77,
     "metadata": {},
     "output_type": "execute_result"
    }
   ],
   "source": [
    "qdrant_rag_chain_eval.invoke(eval_message)"
   ]
  },
  {
   "cell_type": "code",
   "execution_count": 107,
   "id": "ac0221f6-3259-495d-b665-f51beb2a8a7c",
   "metadata": {
    "tags": []
   },
   "outputs": [
    {
     "name": "stdout",
     "output_type": "stream",
     "text": [
      "[{'type': 'text', 'text': 'User query: \"test_query_1\"\\n\\nRecipe generated by another LLM: \"test_query_response_1\"\\n\\nRecipe Review:\\n\\nAfter carefully evaluating the recipe based on the provided rubric, I would give it a score of 3 - Good Recipe.\\n\\nRationale:\\n\\n1. Accuracy: The recipe has a reasonable match with the user\\'s query, but there may be some minor inaccuracies or ingredient substitutions that slightly alter the dish\\'s nature.\\n\\n2. Clarity: The instructions are generally clear, but there may be a few confusing steps or a lack of detailed guidance in some areas.\\n\\n3. Creativity: The recipe is standard with minimal creativity or uniqueness.\\n\\n4. Completeness: The recipe includes the essential details, but it lacks additional helpful information or suggestions.\\n\\n5. Healthiness: The recipe is moderately healthy, but it may lack balance in terms of nutritional profile.\\n\\n6. User Feedback: The recipe is expected to receive average ratings, being satisfactory but not outstanding in taste or ease of preparation.\\n\\nOverall, the recipe is a good starting point, but it could benefit from some refinements to improve its accuracy, clarity, creativity, and healthiness to better meet the user\\'s expectations.'}]\n",
      "[{'type': 'text', 'text': 'User query: \"test_query_2\"\\n\\nRecipe generated by another LLM: \"test_query_response_2\"\\n\\nRecipe Review:\\n\\nAfter reviewing the recipe \"test_query_response_2\" based on the provided rubric, I would give it a score of 2 - Fair Recipe.\\n\\nRationale:\\n\\n1. Accuracy: The recipe has noticeable discrepancies from the user\\'s query, and it\\'s unclear if it aligns with any specified dietary restrictions or preferences.\\n\\n2. Clarity: The instructions are somewhat unclear and may lack detailed guidance in certain areas, making it difficult to follow the recipe.\\n\\n3. Creativity: The recipe appears to be standard with minimal creativity or uniqueness.\\n\\n4. Completeness: The recipe includes the essential details, but it lacks additional helpful information or suggestions.\\n\\n5. Healthiness: The recipe is moderately healthy, but it may lack balance in terms of nutritional profile.\\n\\n6. User Feedback: The recipe is expected to receive average ratings, being satisfactory but not outstanding in taste or ease of preparation.\\n\\nOverall, the recipe \"test_query_response_2\" has some issues that prevent it from being considered a high-quality or exceptional recipe. While it may be functional, it lacks the level of detail, creativity, and alignment with the user\\'s query that would warrant a higher score.'}]\n",
      "[{'type': 'text', 'text': 'Based on the provided recipe review rubric, I would rate the recipe generated by the other LLM as a 3 - Good Recipe.\\n\\nHere\\'s a breakdown of the assessment:\\n\\n1. Accuracy: The recipe has a reasonable match with the user\\'s query \"test_query_3\", but there may be some minor inaccuracies or ingredient substitutions that slightly alter the dish\\'s nature.\\n\\n2. Clarity: The instructions are generally clear but may have a few confusing steps or lack detailed guidance in some areas.\\n\\n3. Creativity: The recipe is standard with minimal creativity or uniqueness.\\n\\n4. Completeness: The recipe includes the essential details but lacks additional helpful information or suggestions.\\n\\n5. Healthiness: The recipe is moderately healthy but may lack balance in terms of nutritional profile.\\n\\n6. User Feedback: The recipe is expected to receive average ratings, being satisfactory but not outstanding in taste or ease of preparation.\\n\\nOverall, the recipe generated by the other LLM is a good one, meeting the basic requirements of the user\\'s query, but it lacks the exceptional qualities of a 5-rated recipe, such as high accuracy, clarity, creativity, completeness, and healthiness that would likely result in very positive user feedback.'}]\n",
      "[{'type': 'text', 'text': 'Based on the provided recipe review rubric, I would rate the recipe generated by the other LLM as a 3 - Good Recipe.\\n\\nHere\\'s a breakdown of the assessment:\\n\\n1. Accuracy: The recipe has a reasonable match with the user\\'s query \"test_query_4\", but there may be some minor inaccuracies or ingredient substitutions that slightly alter the dish\\'s nature.\\n\\n2. Clarity: The instructions are generally clear but may have a few confusing steps or lack detailed guidance in some areas.\\n\\n3. Creativity: The recipe is standard with minimal creativity or uniqueness.\\n\\n4. Completeness: The recipe includes the essential details but lacks additional helpful information or suggestions.\\n\\n5. Healthiness: The recipe is moderately healthy but may lack balance in terms of nutritional profile.\\n\\n6. User Feedback: The recipe is expected to receive average ratings, being satisfactory but not outstanding in taste or ease of preparation.\\n\\nOverall, the recipe generated by the other LLM is a good one, meeting the basic requirements of the user\\'s query, but it lacks the exceptional qualities of a 5-rated recipe, such as high accuracy, clarity, creativity, completeness, and healthiness that would likely result in very positive user feedback.'}]\n",
      "[{'type': 'text', 'text': 'Based on the provided recipe review rubric, I would rate the recipe \"test_query_response_5\" as a 3 - Good Recipe.\\n\\nExplanation:\\n\\n1. Accuracy: The recipe has a reasonable match with the user\\'s query \"test_query_5\", but there may be some minor inaccuracies or ingredient substitutions that slightly alter the dish\\'s nature.\\n\\n2. Clarity: The instructions are generally clear but may have a few confusing steps or lack detailed guidance in some areas.\\n\\n3. Creativity: The recipe is standard with minimal creativity or uniqueness.\\n\\n4. Completeness: The recipe includes the essential details but lacks additional helpful information or suggestions.\\n\\n5. Healthiness: The recipe is moderately healthy but may lack balance in terms of nutritional profile.\\n\\n6. User Feedback: The recipe is expected to receive average ratings, being satisfactory but not outstanding in taste or ease of preparation.\\n\\nOverall, the recipe is a good, functional one that meets the basic requirements, but it lacks the exceptional qualities of a 5-rated recipe in terms of accuracy, clarity, creativity, completeness, and healthiness. It is likely to receive average ratings from users.'}]\n",
      "[{'type': 'text', 'text': 'User query: \"test_query_6\"\\n\\nRecipe generated by another LLM: \"test_query_response_6\"\\n\\nRecipe Review:\\n\\nAfter reviewing the recipe generated by the other LLM, I would rate it as a 2 - Fair Recipe.\\n\\nRationale:\\n\\n1. Accuracy: The recipe has noticeable discrepancies from the user\\'s query and may include ingredients that were supposed to be excluded due to dietary restrictions.\\n\\n2. Clarity: The instructions are unclear or difficult to follow, with significant gaps or ambiguities.\\n\\n3. Creativity: The recipe lacks creativity and appears to be a standard, uninspired dish.\\n\\n4. Completeness: The recipe is missing several important details, such as precise measurements or key preparation steps.\\n\\n5. Healthiness: The recipe is not particularly healthy and may have an unbalanced nutritional profile.\\n\\n6. User Feedback: The recipe is likely to receive below-average ratings due to issues with taste, clarity, or preparation difficulty.\\n\\nOverall, the recipe generated by the other LLM has several shortcomings that prevent it from being a high-quality, user-friendly recipe. While it may be functional, it lacks the level of detail, clarity, and creativity that would be expected from an exceptional recipe. With some improvements, it could potentially be elevated to a higher rating, but as it stands, I would consider it a fair recipe at best.'}]\n",
      "[{'type': 'text', 'text': 'Based on the provided recipe review rubric, I would rate the recipe \"test_query_response_7\" as a 3 - Good Recipe.\\n\\nExplanation:\\n\\n1. Accuracy: The recipe has a reasonable match with the user\\'s query \"test_query_7\", but there may be some inaccuracies or ingredient substitutions that slightly alter the dish\\'s nature.\\n\\n2. Clarity: The instructions are generally clear but may have a few confusing steps or lack detailed guidance in some areas.\\n\\n3. Creativity: The recipe is standard with minimal creativity or uniqueness.\\n\\n4. Completeness: The recipe includes the essential details but lacks additional helpful information or suggestions.\\n\\n5. Healthiness: The recipe is moderately healthy but may lack balance in terms of nutritional profile.\\n\\n6. User Feedback: The recipe is expected to receive average ratings, being satisfactory but not outstanding in taste or ease of preparation.\\n\\nOverall, the recipe \"test_query_response_7\" is a good recipe that meets the user\\'s basic requirements, but it lacks the exceptional qualities of a 5-rated recipe, such as high accuracy, clarity, creativity, completeness, and healthiness that would likely result in very positive user feedback.'}]\n",
      "[{'type': 'text', 'text': 'User query: \"test_query_8\"\\nRecipe generated by another LLM: \"test_query_response_8\"\\n\\nAfter reviewing the recipe based on the provided rubric, I would give it a score of 2 - Fair Recipe.\\n\\nRationale:\\n\\n1. Accuracy: The recipe has noticeable discrepancies from the user\\'s query, potentially including ingredients that were supposed to be excluded due to dietary restrictions.\\n2. Clarity: The instructions are unclear or difficult to follow, with significant gaps or ambiguities.\\n3. Creativity: The recipe lacks creativity and may appear bland or uninspired.\\n4. Completeness: The recipe is missing several important details, such as precise measurements or key preparation steps.\\n5. Healthiness: The recipe is not particularly healthy and may have an unbalanced nutritional profile.\\n6. User Feedback: The recipe is likely to receive below-average ratings due to issues with taste, clarity, or preparation difficulty.\\n\\nOverall, the recipe generated by the other LLM has several shortcomings that prevent it from being a high-quality, user-friendly recipe. While it may be functional, it lacks the level of detail, clarity, and creativity that would be expected from an exceptional recipe. With some improvements, it could potentially be elevated to a higher rating, but as it stands, a score of 2 - Fair Recipe is appropriate.'}]\n"
     ]
    }
   ],
   "source": [
    "for i in range(1, 9):\n",
    "    eval_message = f\"\"\"\n",
    "    You are a helpful assistant and expert in reviewing cooking recipes.\n",
    "\n",
    "    Please look at the given user query, recipe generated by another LLM and follow the rubric below. Provide a score between 1-5 on how good the recipe is.\n",
    "\n",
    "    user query : \"test_query_{i}\"\n",
    "\n",
    "    Recipe generated by another LLM : \"test_query_response_{i}\"\n",
    "\n",
    "\n",
    "    Recipe review rubric: \n",
    "\n",
    "    Grading Scale (1-5)\n",
    "\n",
    "    5 - Exceptional Recipe:\n",
    "\n",
    "    1. Accuracy: The recipe is highly accurate and closely matches the user's query, including all specified ingredients, dietary restrictions, and desired cuisine type.\n",
    "    2. Clarity: The instructions are clear, easy to follow, and logically sequenced. Cooking times and temperatures are precise.\n",
    "    3. Creativity: The recipe demonstrates creativity, offering a unique or interesting twist on a classic dish or a novel combination of ingredients.\n",
    "    4. Completeness: The recipe includes all necessary details, such as ingredient measurements, preparation steps, serving suggestions, and any relevant tips or variations.\n",
    "    5. Healthiness: The recipe provides a balanced nutritional profile, aligning with any specified health goals or dietary considerations.\n",
    "    6. User Feedback: The recipe is likely to receive high ratings from users for both taste and ease of preparation.\n",
    "    4 - Very Good Recipe:\n",
    "\n",
    "    1. Accuracy: The recipe mostly matches the user's query with minor deviations or substitutions that still align with the user's dietary restrictions and preferences.\n",
    "    2. Clarity: The instructions are clear and easy to follow, with only minor areas that could benefit from additional detail.\n",
    "    3. Creativity: The recipe shows some creativity and presents an appealing dish, though it may not be as unique as a 5-rated recipe.\n",
    "    4. Completeness: The recipe includes most necessary details, but might miss a few minor tips or variations.\n",
    "    5. Healthiness: The recipe is generally healthy, though it may not be as nutritionally balanced as a 5-rated recipe.\n",
    "    6. User Feedback: The recipe is likely to receive good ratings from users, being tasty and reasonably easy to prepare.\n",
    "    3 - Good Recipe:\n",
    "\n",
    "    1. Accuracy: The recipe has a reasonable match with the user's query but may include some inaccuracies or ingredient substitutions that slightly alter the dish's nature.\n",
    "    2. Clarity: The instructions are generally clear but may have a few confusing steps or lack detailed guidance in some areas.\n",
    "    3. Creativity: The recipe is standard with minimal creativity or uniqueness.\n",
    "    4. Completeness: The recipe includes the essential details but lacks additional helpful information or suggestions.\n",
    "    5. Healthiness: The recipe is moderately healthy but may lack balance in terms of nutritional profile.\n",
    "    6. User Feedback: The recipe is expected to receive average ratings, being satisfactory but not outstanding in taste or ease of preparation.\n",
    "    2 - Fair Recipe:\n",
    "\n",
    "    1. Accuracy: The recipe has noticeable discrepancies from the user's query, potentially including ingredients that were supposed to be excluded due to dietary restrictions.\n",
    "    2. Clarity: The instructions are unclear or difficult to follow, with significant gaps or ambiguities.\n",
    "    3. Creativity: The recipe lacks creativity and may appear bland or uninspired.\n",
    "    4. Completeness: The recipe is missing several important details, such as precise measurements or key preparation steps.\n",
    "    5. Healthiness: The recipe is not particularly healthy and may have an unbalanced nutritional profile.\n",
    "    6. User Feedback: The recipe is likely to receive below-average ratings due to issues with taste, clarity, or preparation difficulty.\n",
    "    1 - Poor Recipe:\n",
    "\n",
    "    1. Accuracy: The recipe significantly deviates from the user's query, ignoring key dietary restrictions or preferences.\n",
    "    2. Clarity: The instructions are confusing, incomplete, or incorrect, making the recipe difficult or impossible to follow.\n",
    "    3. Creativity: The recipe is not creative and may seem haphazard or poorly thought out.\n",
    "    4. Completeness: The recipe is missing critical details, such as major ingredients, steps, or cooking times.\n",
    "    5. Healthiness: The recipe is unhealthy and lacks a balanced nutritional profile.\n",
    "    6. User Feedback: The recipe is likely to receive low ratings due to poor taste, difficulty in preparation, or failure to meet user expectations.\n",
    "    \"\"\"\n",
    "    \n",
    "    response = qdrant_rag_chain_eval.invoke(eval_message)\n",
    "    print(response['content'])\n",
    "\n",
    "    "
   ]
  },
  {
   "cell_type": "code",
   "execution_count": null,
   "id": "cad7ee2f-117f-4595-a30c-7a4958458875",
   "metadata": {
    "tags": []
   },
   "outputs": [],
   "source": []
  },
  {
   "cell_type": "code",
   "execution_count": null,
   "id": "c78f8b8b-069e-44b0-94aa-8f25a84b59af",
   "metadata": {
    "tags": []
   },
   "outputs": [],
   "source": []
  },
  {
   "cell_type": "code",
   "execution_count": null,
   "id": "3e01e359-f8a8-4b93-bdca-6cbd709513c5",
   "metadata": {},
   "outputs": [],
   "source": []
  }
 ],
 "metadata": {
  "kernelspec": {
   "display_name": "conda_python3",
   "language": "python",
   "name": "conda_python3"
  },
  "language_info": {
   "codemirror_mode": {
    "name": "ipython",
    "version": 3
   },
   "file_extension": ".py",
   "mimetype": "text/x-python",
   "name": "python",
   "nbconvert_exporter": "python",
   "pygments_lexer": "ipython3",
   "version": "3.10.14"
  }
 },
 "nbformat": 4,
 "nbformat_minor": 5
}
