{
 "cells": [
  {
   "cell_type": "markdown",
   "id": "a1ca1687-79fb-4439-8c91-7b1049c36153",
   "metadata": {},
   "source": [
    "### Install dependencies"
   ]
  },
  {
   "cell_type": "code",
   "execution_count": 1,
   "id": "d8fbce3d-65f5-4ded-8fd4-d9f1101286a9",
   "metadata": {
    "scrolled": true,
    "tags": []
   },
   "outputs": [
    {
     "name": "stdout",
     "output_type": "stream",
     "text": [
      "Requirement already satisfied: boto3 in /home/ec2-user/anaconda3/envs/python3/lib/python3.10/site-packages (1.34.101)\n",
      "Collecting boto3\n",
      "  Downloading boto3-1.34.142-py3-none-any.whl.metadata (6.6 kB)\n",
      "Requirement already satisfied: sagemaker in /home/ec2-user/anaconda3/envs/python3/lib/python3.10/site-packages (2.219.0)\n",
      "Collecting sagemaker\n",
      "  Downloading sagemaker-2.225.0-py3-none-any.whl.metadata (15 kB)\n",
      "Collecting langchain\n",
      "  Downloading langchain-0.2.7-py3-none-any.whl.metadata (6.9 kB)\n",
      "Collecting langchain-community\n",
      "  Downloading langchain_community-0.2.7-py3-none-any.whl.metadata (2.5 kB)\n",
      "Collecting langchain-core\n",
      "  Downloading langchain_core-0.2.12-py3-none-any.whl.metadata (6.0 kB)\n",
      "Collecting faiss-cpu\n",
      "  Downloading faiss_cpu-1.8.0.post1-cp310-cp310-manylinux_2_17_x86_64.manylinux2014_x86_64.whl.metadata (3.7 kB)\n",
      "Requirement already satisfied: requests in /home/ec2-user/anaconda3/envs/python3/lib/python3.10/site-packages (2.31.0)\n",
      "Collecting requests\n",
      "  Downloading requests-2.32.3-py3-none-any.whl.metadata (4.6 kB)\n",
      "Collecting opensearch-py\n",
      "  Downloading opensearch_py-2.6.0-py2.py3-none-any.whl.metadata (7.0 kB)\n",
      "Collecting sentence-transformers\n",
      "  Downloading sentence_transformers-3.0.1-py3-none-any.whl.metadata (10 kB)\n",
      "Collecting langchain-text-splitters\n",
      "  Downloading langchain_text_splitters-0.2.2-py3-none-any.whl.metadata (2.1 kB)\n",
      "Collecting requests-aws4auth\n",
      "  Downloading requests_aws4auth-1.2.3-py2.py3-none-any.whl.metadata (18 kB)\n",
      "Collecting qdrant-client\n",
      "  Downloading qdrant_client-1.10.1-py3-none-any.whl.metadata (10 kB)\n",
      "Collecting botocore<1.35.0,>=1.34.142 (from boto3)\n",
      "  Downloading botocore-1.34.142-py3-none-any.whl.metadata (5.7 kB)\n",
      "Requirement already satisfied: jmespath<2.0.0,>=0.7.1 in /home/ec2-user/anaconda3/envs/python3/lib/python3.10/site-packages (from boto3) (1.0.1)\n",
      "Requirement already satisfied: s3transfer<0.11.0,>=0.10.0 in /home/ec2-user/anaconda3/envs/python3/lib/python3.10/site-packages (from boto3) (0.10.1)\n",
      "Requirement already satisfied: attrs<24,>=23.1.0 in /home/ec2-user/anaconda3/envs/python3/lib/python3.10/site-packages (from sagemaker) (23.2.0)\n",
      "Requirement already satisfied: cloudpickle==2.2.1 in /home/ec2-user/anaconda3/envs/python3/lib/python3.10/site-packages (from sagemaker) (2.2.1)\n",
      "Requirement already satisfied: google-pasta in /home/ec2-user/anaconda3/envs/python3/lib/python3.10/site-packages (from sagemaker) (0.2.0)\n",
      "Requirement already satisfied: numpy<2.0,>=1.9.0 in /home/ec2-user/anaconda3/envs/python3/lib/python3.10/site-packages (from sagemaker) (1.22.4)\n",
      "Requirement already satisfied: protobuf<5.0,>=3.12 in /home/ec2-user/anaconda3/envs/python3/lib/python3.10/site-packages (from sagemaker) (4.25.3)\n",
      "Requirement already satisfied: smdebug-rulesconfig==1.0.1 in /home/ec2-user/anaconda3/envs/python3/lib/python3.10/site-packages (from sagemaker) (1.0.1)\n",
      "Requirement already satisfied: importlib-metadata<7.0,>=1.4.0 in /home/ec2-user/anaconda3/envs/python3/lib/python3.10/site-packages (from sagemaker) (6.11.0)\n",
      "Requirement already satisfied: packaging>=20.0 in /home/ec2-user/anaconda3/envs/python3/lib/python3.10/site-packages (from sagemaker) (21.3)\n",
      "Requirement already satisfied: pandas in /home/ec2-user/anaconda3/envs/python3/lib/python3.10/site-packages (from sagemaker) (2.2.1)\n",
      "Requirement already satisfied: pathos in /home/ec2-user/anaconda3/envs/python3/lib/python3.10/site-packages (from sagemaker) (0.3.2)\n",
      "Requirement already satisfied: schema in /home/ec2-user/anaconda3/envs/python3/lib/python3.10/site-packages (from sagemaker) (0.7.7)\n",
      "Requirement already satisfied: PyYAML~=6.0 in /home/ec2-user/anaconda3/envs/python3/lib/python3.10/site-packages (from sagemaker) (6.0.1)\n",
      "Requirement already satisfied: jsonschema in /home/ec2-user/anaconda3/envs/python3/lib/python3.10/site-packages (from sagemaker) (4.21.1)\n",
      "Requirement already satisfied: platformdirs in /home/ec2-user/anaconda3/envs/python3/lib/python3.10/site-packages (from sagemaker) (4.2.0)\n",
      "Requirement already satisfied: tblib<4,>=1.7.0 in /home/ec2-user/anaconda3/envs/python3/lib/python3.10/site-packages (from sagemaker) (3.0.0)\n",
      "Requirement already satisfied: urllib3<3.0.0,>=1.26.8 in /home/ec2-user/anaconda3/envs/python3/lib/python3.10/site-packages (from sagemaker) (2.2.1)\n",
      "Requirement already satisfied: docker in /home/ec2-user/anaconda3/envs/python3/lib/python3.10/site-packages (from sagemaker) (6.1.3)\n",
      "Requirement already satisfied: tqdm in /home/ec2-user/anaconda3/envs/python3/lib/python3.10/site-packages (from sagemaker) (4.66.2)\n",
      "Requirement already satisfied: psutil in /home/ec2-user/anaconda3/envs/python3/lib/python3.10/site-packages (from sagemaker) (5.9.8)\n",
      "Requirement already satisfied: SQLAlchemy<3,>=1.4 in /home/ec2-user/anaconda3/envs/python3/lib/python3.10/site-packages (from langchain) (2.0.29)\n",
      "Requirement already satisfied: aiohttp<4.0.0,>=3.8.3 in /home/ec2-user/anaconda3/envs/python3/lib/python3.10/site-packages (from langchain) (3.9.3)\n",
      "Requirement already satisfied: async-timeout<5.0.0,>=4.0.0 in /home/ec2-user/anaconda3/envs/python3/lib/python3.10/site-packages (from langchain) (4.0.3)\n",
      "Collecting langsmith<0.2.0,>=0.1.17 (from langchain)\n",
      "  Downloading langsmith-0.1.84-py3-none-any.whl.metadata (13 kB)\n",
      "Collecting pydantic<3,>=1 (from langchain)\n",
      "  Downloading pydantic-2.8.2-py3-none-any.whl.metadata (125 kB)\n",
      "\u001B[2K     \u001B[90m━━━━━━━━━━━━━━━━━━━━━━━━━━━━━━━━━━━━━━\u001B[0m \u001B[32m125.2/125.2 kB\u001B[0m \u001B[31m23.5 MB/s\u001B[0m eta \u001B[36m0:00:00\u001B[0m\n",
      "\u001B[?25hRequirement already satisfied: tenacity!=8.4.0,<9.0.0,>=8.1.0 in /home/ec2-user/anaconda3/envs/python3/lib/python3.10/site-packages (from langchain) (8.2.3)\n",
      "Collecting dataclasses-json<0.7,>=0.5.7 (from langchain-community)\n",
      "  Downloading dataclasses_json-0.6.7-py3-none-any.whl.metadata (25 kB)\n",
      "Collecting jsonpatch<2.0,>=1.33 (from langchain-core)\n",
      "  Downloading jsonpatch-1.33-py2.py3-none-any.whl.metadata (3.0 kB)\n",
      "Collecting packaging>=20.0 (from sagemaker)\n",
      "  Downloading packaging-24.1-py3-none-any.whl.metadata (3.2 kB)\n",
      "Requirement already satisfied: charset-normalizer<4,>=2 in /home/ec2-user/anaconda3/envs/python3/lib/python3.10/site-packages (from requests) (3.3.2)\n",
      "Requirement already satisfied: idna<4,>=2.5 in /home/ec2-user/anaconda3/envs/python3/lib/python3.10/site-packages (from requests) (3.6)\n",
      "Requirement already satisfied: certifi>=2017.4.17 in /home/ec2-user/anaconda3/envs/python3/lib/python3.10/site-packages (from requests) (2024.2.2)\n",
      "Requirement already satisfied: six in /home/ec2-user/anaconda3/envs/python3/lib/python3.10/site-packages (from opensearch-py) (1.16.0)\n",
      "Requirement already satisfied: python-dateutil in /home/ec2-user/anaconda3/envs/python3/lib/python3.10/site-packages (from opensearch-py) (2.9.0)\n",
      "Collecting Events (from opensearch-py)\n",
      "  Downloading Events-0.5-py3-none-any.whl.metadata (3.9 kB)\n",
      "Collecting transformers<5.0.0,>=4.34.0 (from sentence-transformers)\n",
      "  Downloading transformers-4.42.3-py3-none-any.whl.metadata (43 kB)\n",
      "\u001B[2K     \u001B[90m━━━━━━━━━━━━━━━━━━━━━━━━━━━━━━━━━━━━━━━━\u001B[0m \u001B[32m43.6/43.6 kB\u001B[0m \u001B[31m11.7 MB/s\u001B[0m eta \u001B[36m0:00:00\u001B[0m\n",
      "\u001B[?25hCollecting torch>=1.11.0 (from sentence-transformers)\n",
      "  Downloading torch-2.3.1-cp310-cp310-manylinux1_x86_64.whl.metadata (26 kB)\n",
      "Requirement already satisfied: scikit-learn in /home/ec2-user/anaconda3/envs/python3/lib/python3.10/site-packages (from sentence-transformers) (1.4.1.post1)\n",
      "Requirement already satisfied: scipy in /home/ec2-user/anaconda3/envs/python3/lib/python3.10/site-packages (from sentence-transformers) (1.12.0)\n",
      "Collecting huggingface-hub>=0.15.1 (from sentence-transformers)\n",
      "  Downloading huggingface_hub-0.23.4-py3-none-any.whl.metadata (12 kB)\n",
      "Requirement already satisfied: Pillow in /home/ec2-user/anaconda3/envs/python3/lib/python3.10/site-packages (from sentence-transformers) (10.2.0)\n",
      "Collecting grpcio>=1.41.0 (from qdrant-client)\n",
      "  Downloading grpcio-1.64.1-cp310-cp310-manylinux_2_17_x86_64.manylinux2014_x86_64.whl.metadata (3.3 kB)\n",
      "Collecting grpcio-tools>=1.41.0 (from qdrant-client)\n",
      "  Downloading grpcio_tools-1.64.1-cp310-cp310-manylinux_2_17_x86_64.manylinux2014_x86_64.whl.metadata (5.3 kB)\n",
      "Requirement already satisfied: httpx>=0.20.0 in /home/ec2-user/anaconda3/envs/python3/lib/python3.10/site-packages (from httpx[http2]>=0.20.0->qdrant-client) (0.27.0)\n",
      "Collecting portalocker<3.0.0,>=2.7.0 (from qdrant-client)\n",
      "  Downloading portalocker-2.10.0-py3-none-any.whl.metadata (8.5 kB)\n",
      "Requirement already satisfied: aiosignal>=1.1.2 in /home/ec2-user/anaconda3/envs/python3/lib/python3.10/site-packages (from aiohttp<4.0.0,>=3.8.3->langchain) (1.3.1)\n",
      "Requirement already satisfied: frozenlist>=1.1.1 in /home/ec2-user/anaconda3/envs/python3/lib/python3.10/site-packages (from aiohttp<4.0.0,>=3.8.3->langchain) (1.4.1)\n",
      "Requirement already satisfied: multidict<7.0,>=4.5 in /home/ec2-user/anaconda3/envs/python3/lib/python3.10/site-packages (from aiohttp<4.0.0,>=3.8.3->langchain) (6.0.5)\n",
      "Requirement already satisfied: yarl<2.0,>=1.0 in /home/ec2-user/anaconda3/envs/python3/lib/python3.10/site-packages (from aiohttp<4.0.0,>=3.8.3->langchain) (1.9.4)\n",
      "Collecting marshmallow<4.0.0,>=3.18.0 (from dataclasses-json<0.7,>=0.5.7->langchain-community)\n",
      "  Downloading marshmallow-3.21.3-py3-none-any.whl.metadata (7.1 kB)\n",
      "Collecting typing-inspect<1,>=0.4.0 (from dataclasses-json<0.7,>=0.5.7->langchain-community)\n",
      "  Downloading typing_inspect-0.9.0-py3-none-any.whl.metadata (1.5 kB)\n",
      "INFO: pip is looking at multiple versions of grpcio-tools to determine which version is compatible with other requirements. This could take a while.\n",
      "Collecting grpcio-tools>=1.41.0 (from qdrant-client)\n",
      "  Downloading grpcio_tools-1.64.0-cp310-cp310-manylinux_2_17_x86_64.manylinux2014_x86_64.whl.metadata (5.3 kB)\n",
      "  Downloading grpcio_tools-1.63.0-cp310-cp310-manylinux_2_17_x86_64.manylinux2014_x86_64.whl.metadata (5.3 kB)\n",
      "  Downloading grpcio_tools-1.62.2-cp310-cp310-manylinux_2_17_x86_64.manylinux2014_x86_64.whl.metadata (6.2 kB)\n",
      "Requirement already satisfied: setuptools in /home/ec2-user/anaconda3/envs/python3/lib/python3.10/site-packages (from grpcio-tools>=1.41.0->qdrant-client) (69.2.0)\n",
      "Requirement already satisfied: anyio in /home/ec2-user/anaconda3/envs/python3/lib/python3.10/site-packages (from httpx>=0.20.0->httpx[http2]>=0.20.0->qdrant-client) (4.3.0)\n",
      "Requirement already satisfied: httpcore==1.* in /home/ec2-user/anaconda3/envs/python3/lib/python3.10/site-packages (from httpx>=0.20.0->httpx[http2]>=0.20.0->qdrant-client) (1.0.4)\n",
      "Requirement already satisfied: sniffio in /home/ec2-user/anaconda3/envs/python3/lib/python3.10/site-packages (from httpx>=0.20.0->httpx[http2]>=0.20.0->qdrant-client) (1.3.1)\n",
      "Requirement already satisfied: h11<0.15,>=0.13 in /home/ec2-user/anaconda3/envs/python3/lib/python3.10/site-packages (from httpcore==1.*->httpx>=0.20.0->httpx[http2]>=0.20.0->qdrant-client) (0.14.0)\n",
      "Requirement already satisfied: h2<5,>=3 in /home/ec2-user/anaconda3/envs/python3/lib/python3.10/site-packages (from httpx[http2]>=0.20.0->qdrant-client) (4.1.0)\n",
      "Requirement already satisfied: filelock in /home/ec2-user/anaconda3/envs/python3/lib/python3.10/site-packages (from huggingface-hub>=0.15.1->sentence-transformers) (3.13.3)\n",
      "Requirement already satisfied: fsspec>=2023.5.0 in /home/ec2-user/anaconda3/envs/python3/lib/python3.10/site-packages (from huggingface-hub>=0.15.1->sentence-transformers) (2024.3.1)\n",
      "Requirement already satisfied: typing-extensions>=3.7.4.3 in /home/ec2-user/anaconda3/envs/python3/lib/python3.10/site-packages (from huggingface-hub>=0.15.1->sentence-transformers) (4.10.0)\n",
      "Requirement already satisfied: zipp>=0.5 in /home/ec2-user/anaconda3/envs/python3/lib/python3.10/site-packages (from importlib-metadata<7.0,>=1.4.0->sagemaker) (3.17.0)\n",
      "Requirement already satisfied: jsonpointer>=1.9 in /home/ec2-user/anaconda3/envs/python3/lib/python3.10/site-packages (from jsonpatch<2.0,>=1.33->langchain-core) (2.4)\n",
      "Collecting orjson<4.0.0,>=3.9.14 (from langsmith<0.2.0,>=0.1.17->langchain)\n",
      "  Downloading orjson-3.10.6-cp310-cp310-manylinux_2_17_x86_64.manylinux2014_x86_64.whl.metadata (50 kB)\n",
      "\u001B[2K     \u001B[90m━━━━━━━━━━━━━━━━━━━━━━━━━━━━━━━━━━━━━━━━\u001B[0m \u001B[32m50.4/50.4 kB\u001B[0m \u001B[31m15.0 MB/s\u001B[0m eta \u001B[36m0:00:00\u001B[0m\n",
      "\u001B[?25hCollecting annotated-types>=0.4.0 (from pydantic<3,>=1->langchain)\n",
      "  Downloading annotated_types-0.7.0-py3-none-any.whl.metadata (15 kB)\n",
      "Collecting pydantic-core==2.20.1 (from pydantic<3,>=1->langchain)\n",
      "  Downloading pydantic_core-2.20.1-cp310-cp310-manylinux_2_17_x86_64.manylinux2014_x86_64.whl.metadata (6.6 kB)\n",
      "Requirement already satisfied: greenlet!=0.4.17 in /home/ec2-user/anaconda3/envs/python3/lib/python3.10/site-packages (from SQLAlchemy<3,>=1.4->langchain) (3.0.3)\n",
      "Requirement already satisfied: sympy in /home/ec2-user/anaconda3/envs/python3/lib/python3.10/site-packages (from torch>=1.11.0->sentence-transformers) (1.12)\n",
      "Requirement already satisfied: networkx in /home/ec2-user/anaconda3/envs/python3/lib/python3.10/site-packages (from torch>=1.11.0->sentence-transformers) (3.2.1)\n",
      "Requirement already satisfied: jinja2 in /home/ec2-user/anaconda3/envs/python3/lib/python3.10/site-packages (from torch>=1.11.0->sentence-transformers) (3.1.3)\n",
      "Collecting nvidia-cuda-nvrtc-cu12==12.1.105 (from torch>=1.11.0->sentence-transformers)\n",
      "  Downloading nvidia_cuda_nvrtc_cu12-12.1.105-py3-none-manylinux1_x86_64.whl.metadata (1.5 kB)\n",
      "Collecting nvidia-cuda-runtime-cu12==12.1.105 (from torch>=1.11.0->sentence-transformers)\n",
      "  Downloading nvidia_cuda_runtime_cu12-12.1.105-py3-none-manylinux1_x86_64.whl.metadata (1.5 kB)\n",
      "Collecting nvidia-cuda-cupti-cu12==12.1.105 (from torch>=1.11.0->sentence-transformers)\n",
      "  Downloading nvidia_cuda_cupti_cu12-12.1.105-py3-none-manylinux1_x86_64.whl.metadata (1.6 kB)\n",
      "Collecting nvidia-cudnn-cu12==8.9.2.26 (from torch>=1.11.0->sentence-transformers)\n",
      "  Downloading nvidia_cudnn_cu12-8.9.2.26-py3-none-manylinux1_x86_64.whl.metadata (1.6 kB)\n",
      "Collecting nvidia-cublas-cu12==12.1.3.1 (from torch>=1.11.0->sentence-transformers)\n",
      "  Downloading nvidia_cublas_cu12-12.1.3.1-py3-none-manylinux1_x86_64.whl.metadata (1.5 kB)\n",
      "Collecting nvidia-cufft-cu12==11.0.2.54 (from torch>=1.11.0->sentence-transformers)\n",
      "  Downloading nvidia_cufft_cu12-11.0.2.54-py3-none-manylinux1_x86_64.whl.metadata (1.5 kB)\n",
      "Collecting nvidia-curand-cu12==10.3.2.106 (from torch>=1.11.0->sentence-transformers)\n",
      "  Downloading nvidia_curand_cu12-10.3.2.106-py3-none-manylinux1_x86_64.whl.metadata (1.5 kB)\n",
      "Collecting nvidia-cusolver-cu12==11.4.5.107 (from torch>=1.11.0->sentence-transformers)\n",
      "  Downloading nvidia_cusolver_cu12-11.4.5.107-py3-none-manylinux1_x86_64.whl.metadata (1.6 kB)\n",
      "Collecting nvidia-cusparse-cu12==12.1.0.106 (from torch>=1.11.0->sentence-transformers)\n",
      "  Downloading nvidia_cusparse_cu12-12.1.0.106-py3-none-manylinux1_x86_64.whl.metadata (1.6 kB)\n",
      "Collecting nvidia-nccl-cu12==2.20.5 (from torch>=1.11.0->sentence-transformers)\n",
      "  Downloading nvidia_nccl_cu12-2.20.5-py3-none-manylinux2014_x86_64.whl.metadata (1.8 kB)\n",
      "Collecting nvidia-nvtx-cu12==12.1.105 (from torch>=1.11.0->sentence-transformers)\n",
      "  Downloading nvidia_nvtx_cu12-12.1.105-py3-none-manylinux1_x86_64.whl.metadata (1.7 kB)\n",
      "Collecting triton==2.3.1 (from torch>=1.11.0->sentence-transformers)\n",
      "  Downloading triton-2.3.1-cp310-cp310-manylinux_2_17_x86_64.manylinux2014_x86_64.whl.metadata (1.4 kB)\n",
      "Collecting nvidia-nvjitlink-cu12 (from nvidia-cusolver-cu12==11.4.5.107->torch>=1.11.0->sentence-transformers)\n",
      "  Downloading nvidia_nvjitlink_cu12-12.5.82-py3-none-manylinux2014_x86_64.whl.metadata (1.5 kB)\n",
      "Requirement already satisfied: regex!=2019.12.17 in /home/ec2-user/anaconda3/envs/python3/lib/python3.10/site-packages (from transformers<5.0.0,>=4.34.0->sentence-transformers) (2023.12.25)\n",
      "Collecting safetensors>=0.4.1 (from transformers<5.0.0,>=4.34.0->sentence-transformers)\n",
      "  Downloading safetensors-0.4.3-cp310-cp310-manylinux_2_17_x86_64.manylinux2014_x86_64.whl.metadata (3.8 kB)\n",
      "Collecting tokenizers<0.20,>=0.19 (from transformers<5.0.0,>=4.34.0->sentence-transformers)\n",
      "  Downloading tokenizers-0.19.1-cp310-cp310-manylinux_2_17_x86_64.manylinux2014_x86_64.whl.metadata (6.7 kB)\n",
      "Requirement already satisfied: websocket-client>=0.32.0 in /home/ec2-user/anaconda3/envs/python3/lib/python3.10/site-packages (from docker->sagemaker) (1.7.0)\n",
      "Requirement already satisfied: jsonschema-specifications>=2023.03.6 in /home/ec2-user/anaconda3/envs/python3/lib/python3.10/site-packages (from jsonschema->sagemaker) (2023.12.1)\n",
      "Requirement already satisfied: referencing>=0.28.4 in /home/ec2-user/anaconda3/envs/python3/lib/python3.10/site-packages (from jsonschema->sagemaker) (0.34.0)\n",
      "Requirement already satisfied: rpds-py>=0.7.1 in /home/ec2-user/anaconda3/envs/python3/lib/python3.10/site-packages (from jsonschema->sagemaker) (0.18.0)\n",
      "Requirement already satisfied: pytz>=2020.1 in /home/ec2-user/anaconda3/envs/python3/lib/python3.10/site-packages (from pandas->sagemaker) (2024.1)\n",
      "Requirement already satisfied: tzdata>=2022.7 in /home/ec2-user/anaconda3/envs/python3/lib/python3.10/site-packages (from pandas->sagemaker) (2024.1)\n",
      "Requirement already satisfied: ppft>=1.7.6.8 in /home/ec2-user/anaconda3/envs/python3/lib/python3.10/site-packages (from pathos->sagemaker) (1.7.6.8)\n",
      "Requirement already satisfied: dill>=0.3.8 in /home/ec2-user/anaconda3/envs/python3/lib/python3.10/site-packages (from pathos->sagemaker) (0.3.8)\n",
      "Requirement already satisfied: pox>=0.3.4 in /home/ec2-user/anaconda3/envs/python3/lib/python3.10/site-packages (from pathos->sagemaker) (0.3.4)\n",
      "Requirement already satisfied: multiprocess>=0.70.16 in /home/ec2-user/anaconda3/envs/python3/lib/python3.10/site-packages (from pathos->sagemaker) (0.70.16)\n",
      "Requirement already satisfied: joblib>=1.2.0 in /home/ec2-user/anaconda3/envs/python3/lib/python3.10/site-packages (from scikit-learn->sentence-transformers) (1.3.2)\n",
      "Requirement already satisfied: threadpoolctl>=2.0.0 in /home/ec2-user/anaconda3/envs/python3/lib/python3.10/site-packages (from scikit-learn->sentence-transformers) (3.4.0)\n",
      "Requirement already satisfied: hyperframe<7,>=6.0 in /home/ec2-user/anaconda3/envs/python3/lib/python3.10/site-packages (from h2<5,>=3->httpx[http2]>=0.20.0->qdrant-client) (6.0.1)\n",
      "Requirement already satisfied: hpack<5,>=4.0 in /home/ec2-user/anaconda3/envs/python3/lib/python3.10/site-packages (from h2<5,>=3->httpx[http2]>=0.20.0->qdrant-client) (4.0.0)\n",
      "Requirement already satisfied: mypy-extensions>=0.3.0 in /home/ec2-user/anaconda3/envs/python3/lib/python3.10/site-packages (from typing-inspect<1,>=0.4.0->dataclasses-json<0.7,>=0.5.7->langchain-community) (1.0.0)\n",
      "Requirement already satisfied: exceptiongroup>=1.0.2 in /home/ec2-user/anaconda3/envs/python3/lib/python3.10/site-packages (from anyio->httpx>=0.20.0->httpx[http2]>=0.20.0->qdrant-client) (1.2.0)\n",
      "Requirement already satisfied: MarkupSafe>=2.0 in /home/ec2-user/anaconda3/envs/python3/lib/python3.10/site-packages (from jinja2->torch>=1.11.0->sentence-transformers) (2.1.5)\n",
      "Requirement already satisfied: mpmath>=0.19 in /home/ec2-user/anaconda3/envs/python3/lib/python3.10/site-packages (from sympy->torch>=1.11.0->sentence-transformers) (1.3.0)\n",
      "Downloading boto3-1.34.142-py3-none-any.whl (139 kB)\n",
      "\u001B[2K   \u001B[90m━━━━━━━━━━━━━━━━━━━━━━━━━━━━━━━━━━━━━━━━\u001B[0m \u001B[32m139.2/139.2 kB\u001B[0m \u001B[31m36.9 MB/s\u001B[0m eta \u001B[36m0:00:00\u001B[0m\n",
      "\u001B[?25hDownloading sagemaker-2.225.0-py3-none-any.whl (1.5 MB)\n",
      "\u001B[2K   \u001B[90m━━━━━━━━━━━━━━━━━━━━━━━━━━━━━━━━━━━━━━━━\u001B[0m \u001B[32m1.5/1.5 MB\u001B[0m \u001B[31m125.5 MB/s\u001B[0m eta \u001B[36m0:00:00\u001B[0m\n",
      "\u001B[?25hDownloading langchain-0.2.7-py3-none-any.whl (983 kB)\n",
      "\u001B[2K   \u001B[90m━━━━━━━━━━━━━━━━━━━━━━━━━━━━━━━━━━━━━━━\u001B[0m \u001B[32m983.6/983.6 kB\u001B[0m \u001B[31m105.3 MB/s\u001B[0m eta \u001B[36m0:00:00\u001B[0m\n",
      "\u001B[?25hDownloading langchain_community-0.2.7-py3-none-any.whl (2.2 MB)\n",
      "\u001B[2K   \u001B[90m━━━━━━━━━━━━━━━━━━━━━━━━━━━━━━━━━━━━━━━━\u001B[0m \u001B[32m2.2/2.2 MB\u001B[0m \u001B[31m132.4 MB/s\u001B[0m eta \u001B[36m0:00:00\u001B[0m\n",
      "\u001B[?25hDownloading langchain_core-0.2.12-py3-none-any.whl (355 kB)\n",
      "\u001B[2K   \u001B[90m━━━━━━━━━━━━━━━━━━━━━━━━━━━━━━━━━━━━━━━━\u001B[0m \u001B[32m355.8/355.8 kB\u001B[0m \u001B[31m66.5 MB/s\u001B[0m eta \u001B[36m0:00:00\u001B[0m\n",
      "\u001B[?25hDownloading faiss_cpu-1.8.0.post1-cp310-cp310-manylinux_2_17_x86_64.manylinux2014_x86_64.whl (27.0 MB)\n",
      "\u001B[2K   \u001B[90m━━━━━━━━━━━━━━━━━━━━━━━━━━━━━━━━━━━━━━━━\u001B[0m \u001B[32m27.0/27.0 MB\u001B[0m \u001B[31m82.0 MB/s\u001B[0m eta \u001B[36m0:00:00\u001B[0m:00:01\u001B[0m00:01\u001B[0m\n",
      "\u001B[?25hDownloading requests-2.32.3-py3-none-any.whl (64 kB)\n",
      "\u001B[2K   \u001B[90m━━━━━━━━━━━━━━━━━━━━━━━━━━━━━━━━━━━━━━━━\u001B[0m \u001B[32m64.9/64.9 kB\u001B[0m \u001B[31m20.0 MB/s\u001B[0m eta \u001B[36m0:00:00\u001B[0m\n",
      "\u001B[?25hDownloading opensearch_py-2.6.0-py2.py3-none-any.whl (311 kB)\n",
      "\u001B[2K   \u001B[90m━━━━━━━━━━━━━━━━━━━━━━━━━━━━━━━━━━━━━━━━\u001B[0m \u001B[32m311.2/311.2 kB\u001B[0m \u001B[31m64.9 MB/s\u001B[0m eta \u001B[36m0:00:00\u001B[0m\n",
      "\u001B[?25hDownloading sentence_transformers-3.0.1-py3-none-any.whl (227 kB)\n",
      "\u001B[2K   \u001B[90m━━━━━━━━━━━━━━━━━━━━━━━━━━━━━━━━━━━━━━━━\u001B[0m \u001B[32m227.1/227.1 kB\u001B[0m \u001B[31m48.7 MB/s\u001B[0m eta \u001B[36m0:00:00\u001B[0m\n",
      "\u001B[?25hDownloading langchain_text_splitters-0.2.2-py3-none-any.whl (25 kB)\n",
      "Downloading requests_aws4auth-1.2.3-py2.py3-none-any.whl (24 kB)\n",
      "Downloading qdrant_client-1.10.1-py3-none-any.whl (254 kB)\n",
      "\u001B[2K   \u001B[90m━━━━━━━━━━━━━━━━━━━━━━━━━━━━━━━━━━━━━━━━\u001B[0m \u001B[32m254.1/254.1 kB\u001B[0m \u001B[31m55.3 MB/s\u001B[0m eta \u001B[36m0:00:00\u001B[0m\n",
      "\u001B[?25hDownloading botocore-1.34.142-py3-none-any.whl (12.4 MB)\n",
      "\u001B[2K   \u001B[90m━━━━━━━━━━━━━━━━━━━━━━━━━━━━━━━━━━━━━━━━\u001B[0m \u001B[32m12.4/12.4 MB\u001B[0m \u001B[31m134.0 MB/s\u001B[0m eta \u001B[36m0:00:00\u001B[0m00:01\u001B[0m0:01\u001B[0m\n",
      "\u001B[?25hDownloading dataclasses_json-0.6.7-py3-none-any.whl (28 kB)\n",
      "Downloading grpcio-1.64.1-cp310-cp310-manylinux_2_17_x86_64.manylinux2014_x86_64.whl (5.6 MB)\n",
      "\u001B[2K   \u001B[90m━━━━━━━━━━━━━━━━━━━━━━━━━━━━━━━━━━━━━━━━\u001B[0m \u001B[32m5.6/5.6 MB\u001B[0m \u001B[31m136.0 MB/s\u001B[0m eta \u001B[36m0:00:00\u001B[0m00:01\u001B[0m\n",
      "\u001B[?25hDownloading grpcio_tools-1.62.2-cp310-cp310-manylinux_2_17_x86_64.manylinux2014_x86_64.whl (2.8 MB)\n",
      "\u001B[2K   \u001B[90m━━━━━━━━━━━━━━━━━━━━━━━━━━━━━━━━━━━━━━━━\u001B[0m \u001B[32m2.8/2.8 MB\u001B[0m \u001B[31m131.8 MB/s\u001B[0m eta \u001B[36m0:00:00\u001B[0m\n",
      "\u001B[?25hDownloading huggingface_hub-0.23.4-py3-none-any.whl (402 kB)\n",
      "\u001B[2K   \u001B[90m━━━━━━━━━━━━━━━━━━━━━━━━━━━━━━━━━━━━━━━━\u001B[0m \u001B[32m402.6/402.6 kB\u001B[0m \u001B[31m70.6 MB/s\u001B[0m eta \u001B[36m0:00:00\u001B[0m\n",
      "\u001B[?25hDownloading jsonpatch-1.33-py2.py3-none-any.whl (12 kB)\n",
      "Downloading langsmith-0.1.84-py3-none-any.whl (127 kB)\n",
      "\u001B[2K   \u001B[90m━━━━━━━━━━━━━━━━━━━━━━━━━━━━━━━━━━━━━━━━\u001B[0m \u001B[32m127.9/127.9 kB\u001B[0m \u001B[31m33.3 MB/s\u001B[0m eta \u001B[36m0:00:00\u001B[0m\n",
      "\u001B[?25hDownloading packaging-24.1-py3-none-any.whl (53 kB)\n",
      "\u001B[2K   \u001B[90m━━━━━━━━━━━━━━━━━━━━━━━━━━━━━━━━━━━━━━━━\u001B[0m \u001B[32m54.0/54.0 kB\u001B[0m \u001B[31m17.3 MB/s\u001B[0m eta \u001B[36m0:00:00\u001B[0m\n",
      "\u001B[?25hDownloading portalocker-2.10.0-py3-none-any.whl (18 kB)\n",
      "Downloading pydantic-2.8.2-py3-none-any.whl (423 kB)\n",
      "\u001B[2K   \u001B[90m━━━━━━━━━━━━━━━━━━━━━━━━━━━━━━━━━━━━━━━━\u001B[0m \u001B[32m423.9/423.9 kB\u001B[0m \u001B[31m75.2 MB/s\u001B[0m eta \u001B[36m0:00:00\u001B[0m\n",
      "\u001B[?25hDownloading pydantic_core-2.20.1-cp310-cp310-manylinux_2_17_x86_64.manylinux2014_x86_64.whl (2.1 MB)\n",
      "\u001B[2K   \u001B[90m━━━━━━━━━━━━━━━━━━━━━━━━━━━━━━━━━━━━━━━━\u001B[0m \u001B[32m2.1/2.1 MB\u001B[0m \u001B[31m119.7 MB/s\u001B[0m eta \u001B[36m0:00:00\u001B[0m\n",
      "\u001B[?25hDownloading torch-2.3.1-cp310-cp310-manylinux1_x86_64.whl (779.1 MB)\n",
      "\u001B[2K   \u001B[90m━━━━━━━━━━━━━━━━━━━━━━━━━━━━━━━━━━━━━━━━\u001B[0m \u001B[32m779.1/779.1 MB\u001B[0m \u001B[31m1.4 MB/s\u001B[0m eta \u001B[36m0:00:00\u001B[0m:00:01\u001B[0m00:01\u001B[0m\n",
      "\u001B[?25hDownloading nvidia_cublas_cu12-12.1.3.1-py3-none-manylinux1_x86_64.whl (410.6 MB)\n",
      "\u001B[2K   \u001B[90m━━━━━━━━━━━━━━━━━━━━━━━━━━━━━━━━━━━━━━━━\u001B[0m \u001B[32m410.6/410.6 MB\u001B[0m \u001B[31m2.4 MB/s\u001B[0m eta \u001B[36m0:00:00\u001B[0m:00:01\u001B[0m00:01\u001B[0m\n",
      "\u001B[?25hDownloading nvidia_cuda_cupti_cu12-12.1.105-py3-none-manylinux1_x86_64.whl (14.1 MB)\n",
      "\u001B[2K   \u001B[90m━━━━━━━━━━━━━━━━━━━━━━━━━━━━━━━━━━━━━━━━\u001B[0m \u001B[32m14.1/14.1 MB\u001B[0m \u001B[31m38.7 MB/s\u001B[0m eta \u001B[36m0:00:00\u001B[0m:00:01\u001B[0m0:01\u001B[0m\n",
      "\u001B[?25hDownloading nvidia_cuda_nvrtc_cu12-12.1.105-py3-none-manylinux1_x86_64.whl (23.7 MB)\n",
      "\u001B[2K   \u001B[90m━━━━━━━━━━━━━━━━━━━━━━━━━━━━━━━━━━━━━━━━\u001B[0m \u001B[32m23.7/23.7 MB\u001B[0m \u001B[31m23.7 MB/s\u001B[0m eta \u001B[36m0:00:00\u001B[0m:00:01\u001B[0m00:01\u001B[0m\n",
      "\u001B[?25hDownloading nvidia_cuda_runtime_cu12-12.1.105-py3-none-manylinux1_x86_64.whl (823 kB)\n",
      "\u001B[2K   \u001B[90m━━━━━━━━━━━━━━━━━━━━━━━━━━━━━━━━━━━━━━━━\u001B[0m \u001B[32m823.6/823.6 kB\u001B[0m \u001B[31m18.6 MB/s\u001B[0m eta \u001B[36m0:00:00\u001B[0m00:01\u001B[0m\n",
      "\u001B[?25hDownloading nvidia_cudnn_cu12-8.9.2.26-py3-none-manylinux1_x86_64.whl (731.7 MB)\n",
      "\u001B[2K   \u001B[90m━━━━━━━━━━━━━━━━━━━━━━━━━━━━━━━━━━━━━━━━\u001B[0m \u001B[32m731.7/731.7 MB\u001B[0m \u001B[31m1.2 MB/s\u001B[0m eta \u001B[36m0:00:00\u001B[0m:00:01\u001B[0m00:01\u001B[0m\n",
      "\u001B[?25hDownloading nvidia_cufft_cu12-11.0.2.54-py3-none-manylinux1_x86_64.whl (121.6 MB)\n",
      "\u001B[2K   \u001B[90m━━━━━━━━━━━━━━━━━━━━━━━━━━━━━━━━━━━━━━━━\u001B[0m \u001B[32m121.6/121.6 MB\u001B[0m \u001B[31m19.7 MB/s\u001B[0m eta \u001B[36m0:00:00\u001B[0m00:01\u001B[0m00:01\u001B[0m\n",
      "\u001B[?25hDownloading nvidia_curand_cu12-10.3.2.106-py3-none-manylinux1_x86_64.whl (56.5 MB)\n",
      "\u001B[2K   \u001B[90m━━━━━━━━━━━━━━━━━━━━━━━━━━━━━━━━━━━━━━━━\u001B[0m \u001B[32m56.5/56.5 MB\u001B[0m \u001B[31m37.6 MB/s\u001B[0m eta \u001B[36m0:00:00\u001B[0m:00:01\u001B[0m00:01\u001B[0m\n",
      "\u001B[?25hDownloading nvidia_cusolver_cu12-11.4.5.107-py3-none-manylinux1_x86_64.whl (124.2 MB)\n",
      "\u001B[2K   \u001B[90m━━━━━━━━━━━━━━━━━━━━━━━━━━━━━━━━━━━━━━━━\u001B[0m \u001B[32m124.2/124.2 MB\u001B[0m \u001B[31m23.7 MB/s\u001B[0m eta \u001B[36m0:00:00\u001B[0m00:01\u001B[0m00:01\u001B[0m\n",
      "\u001B[?25hDownloading nvidia_cusparse_cu12-12.1.0.106-py3-none-manylinux1_x86_64.whl (196.0 MB)\n",
      "\u001B[2K   \u001B[90m━━━━━━━━━━━━━━━━━━━━━━━━━━━━━━━━━━━━━━━━\u001B[0m \u001B[32m196.0/196.0 MB\u001B[0m \u001B[31m6.0 MB/s\u001B[0m eta \u001B[36m0:00:00\u001B[0m:00:01\u001B[0m00:01\u001B[0m\n",
      "\u001B[?25hDownloading nvidia_nccl_cu12-2.20.5-py3-none-manylinux2014_x86_64.whl (176.2 MB)\n",
      "\u001B[2K   \u001B[90m━━━━━━━━━━━━━━━━━━━━━━━━━━━━━━━━━━━━━━━━\u001B[0m \u001B[32m176.2/176.2 MB\u001B[0m \u001B[31m5.8 MB/s\u001B[0m eta \u001B[36m0:00:00\u001B[0m:00:01\u001B[0m00:01\u001B[0m\n",
      "\u001B[?25hDownloading nvidia_nvtx_cu12-12.1.105-py3-none-manylinux1_x86_64.whl (99 kB)\n",
      "\u001B[2K   \u001B[90m━━━━━━━━━━━━━━━━━━━━━━━━━━━━━━━━━━━━━━━━\u001B[0m \u001B[32m99.1/99.1 kB\u001B[0m \u001B[31m2.4 MB/s\u001B[0m eta \u001B[36m0:00:00\u001B[0meta \u001B[36m0:00:01\u001B[0m\n",
      "\u001B[?25hDownloading triton-2.3.1-cp310-cp310-manylinux_2_17_x86_64.manylinux2014_x86_64.whl (168.1 MB)\n",
      "\u001B[2K   \u001B[90m━━━━━━━━━━━━━━━━━━━━━━━━━━━━━━━━━━━━━━━━\u001B[0m \u001B[32m168.1/168.1 MB\u001B[0m \u001B[31m5.6 MB/s\u001B[0m eta \u001B[36m0:00:00\u001B[0m:00:01\u001B[0m00:01\u001B[0m\n",
      "\u001B[?25hDownloading transformers-4.42.3-py3-none-any.whl (9.3 MB)\n",
      "\u001B[2K   \u001B[90m━━━━━━━━━━━━━━━━━━━━━━━━━━━━━━━━━━━━━━━━\u001B[0m \u001B[32m9.3/9.3 MB\u001B[0m \u001B[31m44.1 MB/s\u001B[0m eta \u001B[36m0:00:00\u001B[0m:00:01\u001B[0m00:01\u001B[0m\n",
      "\u001B[?25hDownloading Events-0.5-py3-none-any.whl (6.8 kB)\n",
      "Downloading annotated_types-0.7.0-py3-none-any.whl (13 kB)\n",
      "Downloading marshmallow-3.21.3-py3-none-any.whl (49 kB)\n",
      "\u001B[2K   \u001B[90m━━━━━━━━━━━━━━━━━━━━━━━━━━━━━━━━━━━━━━━━\u001B[0m \u001B[32m49.2/49.2 kB\u001B[0m \u001B[31m779.2 kB/s\u001B[0m eta \u001B[36m0:00:00\u001B[0ma \u001B[36m0:00:01\u001B[0m\n",
      "\u001B[?25hDownloading orjson-3.10.6-cp310-cp310-manylinux_2_17_x86_64.manylinux2014_x86_64.whl (141 kB)\n",
      "\u001B[2K   \u001B[90m━━━━━━━━━━━━━━━━━━━━━━━━━━━━━━━━━━━━━━━━\u001B[0m \u001B[32m141.1/141.1 kB\u001B[0m \u001B[31m2.6 MB/s\u001B[0m eta \u001B[36m0:00:00\u001B[0mta \u001B[36m0:00:01\u001B[0m\n",
      "\u001B[?25hDownloading safetensors-0.4.3-cp310-cp310-manylinux_2_17_x86_64.manylinux2014_x86_64.whl (1.2 MB)\n",
      "\u001B[2K   \u001B[90m━━━━━━━━━━━━━━━━━━━━━━━━━━━━━━━━━━━━━━━━\u001B[0m \u001B[32m1.2/1.2 MB\u001B[0m \u001B[31m20.9 MB/s\u001B[0m eta \u001B[36m0:00:00\u001B[0m:00:01\u001B[0m\n",
      "\u001B[?25hDownloading tokenizers-0.19.1-cp310-cp310-manylinux_2_17_x86_64.manylinux2014_x86_64.whl (3.6 MB)\n",
      "\u001B[2K   \u001B[90m━━━━━━━━━━━━━━━━━━━━━━━━━━━━━━━━━━━━━━━━\u001B[0m \u001B[32m3.6/3.6 MB\u001B[0m \u001B[31m34.2 MB/s\u001B[0m eta \u001B[36m0:00:00\u001B[0m:00:01\u001B[0m\n",
      "\u001B[?25hDownloading typing_inspect-0.9.0-py3-none-any.whl (8.8 kB)\n",
      "Downloading nvidia_nvjitlink_cu12-12.5.82-py3-none-manylinux2014_x86_64.whl (21.3 MB)\n",
      "\u001B[2K   \u001B[90m━━━━━━━━━━━━━━━━━━━━━━━━━━━━━━━━━━━━━━━━\u001B[0m \u001B[32m21.3/21.3 MB\u001B[0m \u001B[31m31.4 MB/s\u001B[0m eta \u001B[36m0:00:00\u001B[0m:00:01\u001B[0m00:01\u001B[0m\n",
      "\u001B[?25hInstalling collected packages: Events, typing-inspect, triton, safetensors, requests, pydantic-core, portalocker, packaging, orjson, nvidia-nvtx-cu12, nvidia-nvjitlink-cu12, nvidia-nccl-cu12, nvidia-curand-cu12, nvidia-cufft-cu12, nvidia-cuda-runtime-cu12, nvidia-cuda-nvrtc-cu12, nvidia-cuda-cupti-cu12, nvidia-cublas-cu12, jsonpatch, grpcio, annotated-types, requests-aws4auth, pydantic, opensearch-py, nvidia-cusparse-cu12, nvidia-cudnn-cu12, marshmallow, huggingface-hub, grpcio-tools, faiss-cpu, botocore, tokenizers, nvidia-cusolver-cu12, langsmith, dataclasses-json, transformers, torch, qdrant-client, langchain-core, boto3, sentence-transformers, sagemaker, langchain-text-splitters, langchain, langchain-community\n",
      "  Attempting uninstall: requests\n",
      "    Found existing installation: requests 2.31.0\n",
      "    Uninstalling requests-2.31.0:\n",
      "      Successfully uninstalled requests-2.31.0\n",
      "  Attempting uninstall: packaging\n",
      "    Found existing installation: packaging 21.3\n",
      "    Uninstalling packaging-21.3:\n",
      "      Successfully uninstalled packaging-21.3\n",
      "  Attempting uninstall: botocore\n",
      "    Found existing installation: botocore 1.34.101\n",
      "    Uninstalling botocore-1.34.101:\n",
      "      Successfully uninstalled botocore-1.34.101\n",
      "  Attempting uninstall: boto3\n",
      "    Found existing installation: boto3 1.34.101\n",
      "    Uninstalling boto3-1.34.101:\n",
      "      Successfully uninstalled boto3-1.34.101\n",
      "  Attempting uninstall: sagemaker\n",
      "    Found existing installation: sagemaker 2.219.0\n",
      "    Uninstalling sagemaker-2.219.0:\n",
      "      Successfully uninstalled sagemaker-2.219.0\n",
      "\u001B[31mERROR: pip's dependency resolver does not currently take into account all the packages that are installed. This behaviour is the source of the following dependency conflicts.\n",
      "awscli 1.32.101 requires botocore==1.34.101, but you have botocore 1.34.142 which is incompatible.\n",
      "sparkmagic 0.21.0 requires pandas<2.0.0,>=0.17.1, but you have pandas 2.2.1 which is incompatible.\n",
      "sphinx 7.2.6 requires docutils<0.21,>=0.18.1, but you have docutils 0.16 which is incompatible.\u001B[0m\u001B[31m\n",
      "\u001B[0mSuccessfully installed Events-0.5 annotated-types-0.7.0 boto3-1.34.142 botocore-1.34.142 dataclasses-json-0.6.7 faiss-cpu-1.8.0.post1 grpcio-1.64.1 grpcio-tools-1.62.2 huggingface-hub-0.23.4 jsonpatch-1.33 langchain-0.2.7 langchain-community-0.2.7 langchain-core-0.2.12 langchain-text-splitters-0.2.2 langsmith-0.1.84 marshmallow-3.21.3 nvidia-cublas-cu12-12.1.3.1 nvidia-cuda-cupti-cu12-12.1.105 nvidia-cuda-nvrtc-cu12-12.1.105 nvidia-cuda-runtime-cu12-12.1.105 nvidia-cudnn-cu12-8.9.2.26 nvidia-cufft-cu12-11.0.2.54 nvidia-curand-cu12-10.3.2.106 nvidia-cusolver-cu12-11.4.5.107 nvidia-cusparse-cu12-12.1.0.106 nvidia-nccl-cu12-2.20.5 nvidia-nvjitlink-cu12-12.5.82 nvidia-nvtx-cu12-12.1.105 opensearch-py-2.6.0 orjson-3.10.6 packaging-24.1 portalocker-2.10.0 pydantic-2.8.2 pydantic-core-2.20.1 qdrant-client-1.10.1 requests-2.32.3 requests-aws4auth-1.2.3 safetensors-0.4.3 sagemaker-2.225.0 sentence-transformers-3.0.1 tokenizers-0.19.1 torch-2.3.1 transformers-4.42.3 triton-2.3.1 typing-inspect-0.9.0\n"
     ]
    }
   ],
   "source": [
    "!pip install boto3 sagemaker langchain langchain-community langchain-core faiss-cpu requests opensearch-py sentence-transformers langchain-text-splitters requests-aws4auth qdrant-client -U"
   ]
  },
  {
   "cell_type": "markdown",
   "id": "8c60fd86-2fdd-4921-b769-45a6d6ae1411",
   "metadata": {},
   "source": [
    "### Load CSV data from S3"
   ]
  },
  {
   "cell_type": "code",
   "execution_count": 2,
   "id": "b02d5178-7946-4ff5-bfdf-d8c784afd6cd",
   "metadata": {
    "tags": []
   },
   "outputs": [
    {
     "name": "stdout",
     "output_type": "stream",
     "text": [
      "/home/ec2-user/SageMaker/Enterprise-RAG/notebooks\n"
     ]
    }
   ],
   "source": [
    "!pwd"
   ]
  },
  {
   "cell_type": "code",
   "execution_count": 3,
   "id": "e42652b8-0122-4f47-b069-a398ae118afc",
   "metadata": {
    "tags": []
   },
   "outputs": [],
   "source": [
    "import boto3\n",
    "import pandas as pd\n",
    "\n",
    "s3 = boto3.client('s3')\n",
    "bucket_name = 'recipes-rag'"
   ]
  },
  {
   "cell_type": "code",
   "execution_count": 4,
   "id": "e0176b52-e799-4947-9264-c6c51897c4b7",
   "metadata": {
    "tags": []
   },
   "outputs": [
    {
     "data": {
      "text/html": [
       "<div>\n",
       "<style scoped>\n",
       "    .dataframe tbody tr th:only-of-type {\n",
       "        vertical-align: middle;\n",
       "    }\n",
       "\n",
       "    .dataframe tbody tr th {\n",
       "        vertical-align: top;\n",
       "    }\n",
       "\n",
       "    .dataframe thead th {\n",
       "        text-align: right;\n",
       "    }\n",
       "</style>\n",
       "<table border=\"1\" class=\"dataframe\">\n",
       "  <thead>\n",
       "    <tr style=\"text-align: right;\">\n",
       "      <th></th>\n",
       "      <th>RecipeId</th>\n",
       "      <th>Name</th>\n",
       "      <th>AuthorId</th>\n",
       "      <th>AuthorName</th>\n",
       "      <th>CookTime</th>\n",
       "      <th>PrepTime</th>\n",
       "      <th>TotalTime</th>\n",
       "      <th>DatePublished</th>\n",
       "      <th>Description</th>\n",
       "      <th>Images</th>\n",
       "      <th>...</th>\n",
       "      <th>FiberContent</th>\n",
       "      <th>SugarContent</th>\n",
       "      <th>ProteinContent</th>\n",
       "      <th>RecipeServings</th>\n",
       "      <th>RecipeYield</th>\n",
       "      <th>RecipeInstructions</th>\n",
       "      <th>CookTime_Minutes</th>\n",
       "      <th>PrepTime_Minutes</th>\n",
       "      <th>TotalTime_Minutes</th>\n",
       "      <th>Combined_Features_Clean</th>\n",
       "    </tr>\n",
       "  </thead>\n",
       "  <tbody>\n",
       "    <tr>\n",
       "      <th>0</th>\n",
       "      <td>38.0</td>\n",
       "      <td>Low-Fat Berry Blue Frozen Dessert</td>\n",
       "      <td>1533</td>\n",
       "      <td>Dancer</td>\n",
       "      <td>PT24H</td>\n",
       "      <td>PT45M</td>\n",
       "      <td>PT24H45M</td>\n",
       "      <td>1999-08-09 21:46:00+00:00</td>\n",
       "      <td>Make and share this Low-Fat Berry Blue Frozen ...</td>\n",
       "      <td>[https://img.sndimg.com/food/image/upload/w_55...</td>\n",
       "      <td>...</td>\n",
       "      <td>3.6</td>\n",
       "      <td>30.2</td>\n",
       "      <td>3.2</td>\n",
       "      <td>4.0</td>\n",
       "      <td>None</td>\n",
       "      <td>[Toss 2 cups berries with sugar., Let stand fo...</td>\n",
       "      <td>1440</td>\n",
       "      <td>45</td>\n",
       "      <td>1485</td>\n",
       "      <td>Low-Fat Berry Blue Frozen Dessert Frozen Desse...</td>\n",
       "    </tr>\n",
       "    <tr>\n",
       "      <th>1</th>\n",
       "      <td>39.0</td>\n",
       "      <td>Biryani</td>\n",
       "      <td>1567</td>\n",
       "      <td>elly9812</td>\n",
       "      <td>PT25M</td>\n",
       "      <td>PT4H</td>\n",
       "      <td>PT4H25M</td>\n",
       "      <td>1999-08-29 13:12:00+00:00</td>\n",
       "      <td>Make and share this Biryani recipe from Food.com.</td>\n",
       "      <td>[https://img.sndimg.com/food/image/upload/w_55...</td>\n",
       "      <td>...</td>\n",
       "      <td>9.0</td>\n",
       "      <td>20.4</td>\n",
       "      <td>63.4</td>\n",
       "      <td>6.0</td>\n",
       "      <td>None</td>\n",
       "      <td>[Soak saffron in warm milk for 5 minutes and p...</td>\n",
       "      <td>25</td>\n",
       "      <td>240</td>\n",
       "      <td>265</td>\n",
       "      <td>Biryani Chicken Breast Make share Biryani reci...</td>\n",
       "    </tr>\n",
       "    <tr>\n",
       "      <th>2</th>\n",
       "      <td>40.0</td>\n",
       "      <td>Best Lemonade</td>\n",
       "      <td>1566</td>\n",
       "      <td>Stephen Little</td>\n",
       "      <td>PT5M</td>\n",
       "      <td>PT30M</td>\n",
       "      <td>PT35M</td>\n",
       "      <td>1999-09-05 19:52:00+00:00</td>\n",
       "      <td>This is from one of my  first Good House Keepi...</td>\n",
       "      <td>[https://img.sndimg.com/food/image/upload/w_55...</td>\n",
       "      <td>...</td>\n",
       "      <td>0.4</td>\n",
       "      <td>77.2</td>\n",
       "      <td>0.3</td>\n",
       "      <td>4.0</td>\n",
       "      <td>None</td>\n",
       "      <td>[Into a 1 quart Jar with tight fitting lid, pu...</td>\n",
       "      <td>5</td>\n",
       "      <td>30</td>\n",
       "      <td>35</td>\n",
       "      <td>Best Lemonade Beverages one first Good House K...</td>\n",
       "    </tr>\n",
       "    <tr>\n",
       "      <th>3</th>\n",
       "      <td>41.0</td>\n",
       "      <td>Carina's Tofu-Vegetable Kebabs</td>\n",
       "      <td>1586</td>\n",
       "      <td>Cyclopz</td>\n",
       "      <td>PT20M</td>\n",
       "      <td>PT24H</td>\n",
       "      <td>PT24H20M</td>\n",
       "      <td>1999-09-03 14:54:00+00:00</td>\n",
       "      <td>This dish is best prepared a day in advance to...</td>\n",
       "      <td>[https://img.sndimg.com/food/image/upload/w_55...</td>\n",
       "      <td>...</td>\n",
       "      <td>17.3</td>\n",
       "      <td>32.1</td>\n",
       "      <td>29.3</td>\n",
       "      <td>2.0</td>\n",
       "      <td>4 kebabs</td>\n",
       "      <td>[Drain the tofu, carefully squeezing out exces...</td>\n",
       "      <td>20</td>\n",
       "      <td>1440</td>\n",
       "      <td>1460</td>\n",
       "      <td>Carina's Tofu-Vegetable Kebabs Soy/Tofu dish b...</td>\n",
       "    </tr>\n",
       "    <tr>\n",
       "      <th>4</th>\n",
       "      <td>42.0</td>\n",
       "      <td>Cabbage Soup</td>\n",
       "      <td>1538</td>\n",
       "      <td>Duckie067</td>\n",
       "      <td>PT30M</td>\n",
       "      <td>PT20M</td>\n",
       "      <td>PT50M</td>\n",
       "      <td>1999-09-19 06:19:00+00:00</td>\n",
       "      <td>Make and share this Cabbage Soup recipe from F...</td>\n",
       "      <td>[https://img.sndimg.com/food/image/upload/w_55...</td>\n",
       "      <td>...</td>\n",
       "      <td>4.8</td>\n",
       "      <td>17.7</td>\n",
       "      <td>4.3</td>\n",
       "      <td>4.0</td>\n",
       "      <td>None</td>\n",
       "      <td>[Mix everything together and bring to a boil.,...</td>\n",
       "      <td>30</td>\n",
       "      <td>20</td>\n",
       "      <td>50</td>\n",
       "      <td>Cabbage Soup Vegetable Make share Cabbage Soup...</td>\n",
       "    </tr>\n",
       "  </tbody>\n",
       "</table>\n",
       "<p>5 rows × 32 columns</p>\n",
       "</div>"
      ],
      "text/plain": [
       "   RecipeId                               Name  AuthorId      AuthorName  \\\n",
       "0      38.0  Low-Fat Berry Blue Frozen Dessert      1533          Dancer   \n",
       "1      39.0                            Biryani      1567        elly9812   \n",
       "2      40.0                      Best Lemonade      1566  Stephen Little   \n",
       "3      41.0     Carina's Tofu-Vegetable Kebabs      1586         Cyclopz   \n",
       "4      42.0                       Cabbage Soup      1538       Duckie067   \n",
       "\n",
       "  CookTime PrepTime TotalTime             DatePublished  \\\n",
       "0    PT24H    PT45M  PT24H45M 1999-08-09 21:46:00+00:00   \n",
       "1    PT25M     PT4H   PT4H25M 1999-08-29 13:12:00+00:00   \n",
       "2     PT5M    PT30M     PT35M 1999-09-05 19:52:00+00:00   \n",
       "3    PT20M    PT24H  PT24H20M 1999-09-03 14:54:00+00:00   \n",
       "4    PT30M    PT20M     PT50M 1999-09-19 06:19:00+00:00   \n",
       "\n",
       "                                         Description  \\\n",
       "0  Make and share this Low-Fat Berry Blue Frozen ...   \n",
       "1  Make and share this Biryani recipe from Food.com.   \n",
       "2  This is from one of my  first Good House Keepi...   \n",
       "3  This dish is best prepared a day in advance to...   \n",
       "4  Make and share this Cabbage Soup recipe from F...   \n",
       "\n",
       "                                              Images  ... FiberContent  \\\n",
       "0  [https://img.sndimg.com/food/image/upload/w_55...  ...          3.6   \n",
       "1  [https://img.sndimg.com/food/image/upload/w_55...  ...          9.0   \n",
       "2  [https://img.sndimg.com/food/image/upload/w_55...  ...          0.4   \n",
       "3  [https://img.sndimg.com/food/image/upload/w_55...  ...         17.3   \n",
       "4  [https://img.sndimg.com/food/image/upload/w_55...  ...          4.8   \n",
       "\n",
       "  SugarContent ProteinContent RecipeServings  RecipeYield  \\\n",
       "0         30.2            3.2            4.0         None   \n",
       "1         20.4           63.4            6.0         None   \n",
       "2         77.2            0.3            4.0         None   \n",
       "3         32.1           29.3            2.0     4 kebabs   \n",
       "4         17.7            4.3            4.0         None   \n",
       "\n",
       "                                  RecipeInstructions  CookTime_Minutes  \\\n",
       "0  [Toss 2 cups berries with sugar., Let stand fo...              1440   \n",
       "1  [Soak saffron in warm milk for 5 minutes and p...                25   \n",
       "2  [Into a 1 quart Jar with tight fitting lid, pu...                 5   \n",
       "3  [Drain the tofu, carefully squeezing out exces...                20   \n",
       "4  [Mix everything together and bring to a boil.,...                30   \n",
       "\n",
       "   PrepTime_Minutes  TotalTime_Minutes  \\\n",
       "0                45               1485   \n",
       "1               240                265   \n",
       "2                30                 35   \n",
       "3              1440               1460   \n",
       "4                20                 50   \n",
       "\n",
       "                             Combined_Features_Clean  \n",
       "0  Low-Fat Berry Blue Frozen Dessert Frozen Desse...  \n",
       "1  Biryani Chicken Breast Make share Biryani reci...  \n",
       "2  Best Lemonade Beverages one first Good House K...  \n",
       "3  Carina's Tofu-Vegetable Kebabs Soy/Tofu dish b...  \n",
       "4  Cabbage Soup Vegetable Make share Cabbage Soup...  \n",
       "\n",
       "[5 rows x 32 columns]"
      ]
     },
     "execution_count": 4,
     "metadata": {},
     "output_type": "execute_result"
    }
   ],
   "source": [
    "file_key = 'recipes_w_cleaning_time_combined_features.parquet'\n",
    "s3.download_file(bucket_name, file_key, f'../data/{file_key}')\n",
    "df = pd.read_parquet(f'../data/{file_key}')\n",
    "\n",
    "df.head()"
   ]
  },
  {
   "cell_type": "code",
   "execution_count": 5,
   "id": "c42abeac-3ebd-4fda-a7d5-e43940aa503e",
   "metadata": {
    "tags": []
   },
   "outputs": [
    {
     "data": {
      "text/plain": [
       "Index(['RecipeId', 'Name', 'AuthorId', 'AuthorName', 'CookTime', 'PrepTime',\n",
       "       'TotalTime', 'DatePublished', 'Description', 'Images', 'RecipeCategory',\n",
       "       'Keywords', 'RecipeIngredientQuantities', 'RecipeIngredientParts',\n",
       "       'AggregatedRating', 'ReviewCount', 'Calories', 'FatContent',\n",
       "       'SaturatedFatContent', 'CholesterolContent', 'SodiumContent',\n",
       "       'CarbohydrateContent', 'FiberContent', 'SugarContent', 'ProteinContent',\n",
       "       'RecipeServings', 'RecipeYield', 'RecipeInstructions',\n",
       "       'CookTime_Minutes', 'PrepTime_Minutes', 'TotalTime_Minutes',\n",
       "       'Combined_Features_Clean'],\n",
       "      dtype='object')"
      ]
     },
     "execution_count": 5,
     "metadata": {},
     "output_type": "execute_result"
    }
   ],
   "source": [
    "df.columns"
   ]
  },
  {
   "cell_type": "code",
   "execution_count": 6,
   "id": "68483703-908e-4f6e-892b-305948d7562d",
   "metadata": {
    "tags": []
   },
   "outputs": [
    {
     "data": {
      "text/plain": [
       "'Low-Fat Berry Blue Frozen Dessert Frozen Desserts Make share Low-Fat Berry Blue Frozen Dessert recipe Food.com. Dessert Low Protein Low Cholesterol Healthy Free Of... Summer Weeknight Freezer Easy'"
      ]
     },
     "execution_count": 6,
     "metadata": {},
     "output_type": "execute_result"
    }
   ],
   "source": [
    "str(df.iloc[0]['Combined_Features_Clean'])"
   ]
  },
  {
   "cell_type": "markdown",
   "id": "74654ec1-1620-4b12-abfa-74ce789a79ce",
   "metadata": {},
   "source": [
    "### Load data into chunked documents"
   ]
  },
  {
   "cell_type": "code",
   "execution_count": 7,
   "id": "81165ce4-c17b-44df-a88a-319b4e590105",
   "metadata": {
    "tags": []
   },
   "outputs": [],
   "source": [
    "from langchain_community.embeddings import HuggingFaceEmbeddings\n",
    "from langchain_text_splitters import RecursiveCharacterTextSplitter\n",
    "from langchain.docstore.document import Document"
   ]
  },
  {
   "cell_type": "code",
   "execution_count": 8,
   "id": "ef713c37-2e0f-45ba-8717-de22afbad5b7",
   "metadata": {
    "tags": []
   },
   "outputs": [
    {
     "name": "stderr",
     "output_type": "stream",
     "text": [
      "/home/ec2-user/anaconda3/envs/python3/lib/python3.10/site-packages/langchain_core/_api/deprecation.py:139: LangChainDeprecationWarning: The class `HuggingFaceEmbeddings` was deprecated in LangChain 0.2.2 and will be removed in 0.3.0. An updated version of the class exists in the langchain-huggingface package and should be used instead. To use it run `pip install -U langchain-huggingface` and import as `from langchain_huggingface import HuggingFaceEmbeddings`.\n",
      "  warn_deprecated(\n",
      "/home/ec2-user/anaconda3/envs/python3/lib/python3.10/site-packages/sentence_transformers/cross_encoder/CrossEncoder.py:11: TqdmExperimentalWarning: Using `tqdm.autonotebook.tqdm` in notebook mode. Use `tqdm.tqdm` instead to force console mode (e.g. in jupyter console)\n",
      "  from tqdm.autonotebook import tqdm, trange\n"
     ]
    },
    {
     "data": {
      "application/vnd.jupyter.widget-view+json": {
       "model_id": "7ab43be671534ee38a8513fb685f96ec",
       "version_major": 2,
       "version_minor": 0
      },
      "text/plain": [
       "modules.json:   0%|          | 0.00/229 [00:00<?, ?B/s]"
      ]
     },
     "metadata": {},
     "output_type": "display_data"
    },
    {
     "data": {
      "application/vnd.jupyter.widget-view+json": {
       "model_id": "c66b190aef4648f888924895db79152c",
       "version_major": 2,
       "version_minor": 0
      },
      "text/plain": [
       "config_sentence_transformers.json:   0%|          | 0.00/212 [00:00<?, ?B/s]"
      ]
     },
     "metadata": {},
     "output_type": "display_data"
    },
    {
     "data": {
      "application/vnd.jupyter.widget-view+json": {
       "model_id": "42af95631bba4659a3bf4a43b22af93b",
       "version_major": 2,
       "version_minor": 0
      },
      "text/plain": [
       "README.md:   0%|          | 0.00/8.71k [00:00<?, ?B/s]"
      ]
     },
     "metadata": {},
     "output_type": "display_data"
    },
    {
     "data": {
      "application/vnd.jupyter.widget-view+json": {
       "model_id": "d4616b7718eb469b9e92e5ace7d8cc2f",
       "version_major": 2,
       "version_minor": 0
      },
      "text/plain": [
       "sentence_bert_config.json:   0%|          | 0.00/53.0 [00:00<?, ?B/s]"
      ]
     },
     "metadata": {},
     "output_type": "display_data"
    },
    {
     "data": {
      "application/vnd.jupyter.widget-view+json": {
       "model_id": "952dd406fc5a4c528ad839ad65fc52e2",
       "version_major": 2,
       "version_minor": 0
      },
      "text/plain": [
       "config.json:   0%|          | 0.00/571 [00:00<?, ?B/s]"
      ]
     },
     "metadata": {},
     "output_type": "display_data"
    },
    {
     "data": {
      "application/vnd.jupyter.widget-view+json": {
       "model_id": "b62dcef32c4d4bf3a5972d8f27280d82",
       "version_major": 2,
       "version_minor": 0
      },
      "text/plain": [
       "model.safetensors:   0%|          | 0.00/438M [00:00<?, ?B/s]"
      ]
     },
     "metadata": {},
     "output_type": "display_data"
    },
    {
     "data": {
      "application/vnd.jupyter.widget-view+json": {
       "model_id": "de7da448825d498eb1513e43af04fccf",
       "version_major": 2,
       "version_minor": 0
      },
      "text/plain": [
       "tokenizer_config.json:   0%|          | 0.00/363 [00:00<?, ?B/s]"
      ]
     },
     "metadata": {},
     "output_type": "display_data"
    },
    {
     "data": {
      "application/vnd.jupyter.widget-view+json": {
       "model_id": "e0d09eed9a134ee49dbd5bebb013af49",
       "version_major": 2,
       "version_minor": 0
      },
      "text/plain": [
       "vocab.txt:   0%|          | 0.00/232k [00:00<?, ?B/s]"
      ]
     },
     "metadata": {},
     "output_type": "display_data"
    },
    {
     "data": {
      "application/vnd.jupyter.widget-view+json": {
       "model_id": "94f0c54c5e5543ec815fde96a4a03b20",
       "version_major": 2,
       "version_minor": 0
      },
      "text/plain": [
       "tokenizer.json:   0%|          | 0.00/466k [00:00<?, ?B/s]"
      ]
     },
     "metadata": {},
     "output_type": "display_data"
    },
    {
     "data": {
      "application/vnd.jupyter.widget-view+json": {
       "model_id": "88eef4c9e6964474874c38747e56a031",
       "version_major": 2,
       "version_minor": 0
      },
      "text/plain": [
       "special_tokens_map.json:   0%|          | 0.00/239 [00:00<?, ?B/s]"
      ]
     },
     "metadata": {},
     "output_type": "display_data"
    },
    {
     "data": {
      "application/vnd.jupyter.widget-view+json": {
       "model_id": "a0a15f6f5800427f9c328794c7788376",
       "version_major": 2,
       "version_minor": 0
      },
      "text/plain": [
       "1_Pooling/config.json:   0%|          | 0.00/190 [00:00<?, ?B/s]"
      ]
     },
     "metadata": {},
     "output_type": "display_data"
    }
   ],
   "source": [
    "embedding_model = HuggingFaceEmbeddings(model_name=\"multi-qa-mpnet-base-dot-v1\")"
   ]
  },
  {
   "cell_type": "markdown",
   "id": "babae2b2-4aac-4fde-b653-ae2d2a3eb350",
   "metadata": {
    "tags": []
   },
   "source": [
    "### Note: chunking may not be useful for us as the EDA has the following about description length\n",
    "print(new_recipe['Combined_Features_Clean'].str.len().describe())\n",
    "\n",
    "\n",
    "count    522517.000000\\\n",
    "mean        211.461774\\\n",
    "std         122.388646\\\n",
    "min          44.000000\\\n",
    "25%         131.000000\\\n",
    "50%         180.000000\\\n",
    "75%         255.000000\\\n",
    "max        4174.000000\\\n",
    "Name: Combined_Features_Clean, dtype: float64"
   ]
  },
  {
   "cell_type": "code",
   "execution_count": 9,
   "id": "c829beba-a527-4f21-b311-88db598124fe",
   "metadata": {
    "tags": []
   },
   "outputs": [],
   "source": [
    "def create_textsplitter(chunks, overlaps):\n",
    "    splits = {}\n",
    "    for chunk in chunks:\n",
    "        for overlap in overlaps:\n",
    "            splits[f'chunk{str(chunk)}_overlap{str(overlap)}'] = RecursiveCharacterTextSplitter(chunk_size=chunk, chunk_overlap=overlap)\n",
    "    return splits"
   ]
  },
  {
   "cell_type": "code",
   "execution_count": 10,
   "id": "88739f50-8d3a-4558-b5fb-588daf1c41cb",
   "metadata": {
    "tags": []
   },
   "outputs": [],
   "source": [
    "chunks = [128, 256, 512, 1024, 2048]\n",
    "overlaps = [.25, .2, .15, .1]\n",
    "\n",
    "text_splits = create_textsplitter(chunks, overlaps)"
   ]
  },
  {
   "cell_type": "code",
   "execution_count": 11,
   "id": "32e0c41f-6f62-45e4-a385-f94b0493cbe9",
   "metadata": {
    "tags": []
   },
   "outputs": [
    {
     "data": {
      "text/plain": [
       "<langchain_text_splitters.character.RecursiveCharacterTextSplitter at 0x7fa458774b20>"
      ]
     },
     "execution_count": 11,
     "metadata": {},
     "output_type": "execute_result"
    }
   ],
   "source": [
    "text_splits['chunk1024_overlap0.25']"
   ]
  },
  {
   "cell_type": "code",
   "execution_count": 12,
   "id": "05b5985a-4bdc-44cf-b888-9ddc76abb89e",
   "metadata": {
    "tags": []
   },
   "outputs": [],
   "source": [
    "def create_documents(df):\n",
    "    documents = []\n",
    "    for index, row in df.iterrows():\n",
    "        metadata = {\n",
    "            'recipe_id': str(row['RecipeId']) if not pd.isna(row['RecipeId']) else 'No ID Available',\n",
    "            'name': str(row['Name']) if not pd.isna(row['Name']) else 'No Name Available',\n",
    "            'cook_time': str(row['CookTime']) if not pd.isna(row['CookTime']) else 'No Cook Time Available',\n",
    "            'prep_time': str(row['PrepTime']) if not pd.isna(row['PrepTime']) else 'No Prep Time Available',\n",
    "            'total_time': str(row['TotalTime']) if not pd.isna(row['TotalTime']) else 'No Total Time Available',\n",
    "            'recipe_category': str(row['RecipeCategory']) if not pd.isna(row['RecipeCategory']) else 'No Category Available',\n",
    "            'keywords': str(row['Keywords']) if not pd.isna(row['Keywords']).all() else 'No Keywords Available',\n",
    "            'aggregated_rating': str(row['AggregatedRating']) if not pd.isna(row['AggregatedRating']) else 'No Rating Available',\n",
    "            'review_count': str(row['ReviewCount']) if not pd.isna(row['ReviewCount']) else 'No Reviews Available',\n",
    "            'calories': str(row['Calories']) if not pd.isna(row['Calories']) else 'No Calories Information Available',\n",
    "            'fat_content': str(row['FatContent']) if not pd.isna(row['FatContent']) else 'No Fat Content Available',\n",
    "            'saturated_fat_content': str(row['SaturatedFatContent']) if not pd.isna(row['SaturatedFatContent']) else 'No Saturated Fat Content Available',\n",
    "            'cholesterol_content': str(row['CholesterolContent']) if not pd.isna(row['CholesterolContent']) else 'No Cholesterol Content Available',\n",
    "            'sodium_content': str(row['SodiumContent']) if not pd.isna(row['SodiumContent']) else 'No Sodium Content Available',\n",
    "            'carbohydrate_content': str(row['CarbohydrateContent']) if not pd.isna(row['CarbohydrateContent']) else 'No Carbohydrate Content Available',\n",
    "            'sugar_content': str(row['SugarContent']) if not pd.isna(row['SugarContent']) else 'No Sugar Content Available',\n",
    "            'protein_content': str(row['ProteinContent']) if not pd.isna(row['ProteinContent']) else 'No Protein Content Available',\n",
    "            'recipe_servings': str(row['RecipeServings']) if not pd.isna(row['RecipeServings']) else 'No Servings Information Available',\n",
    "            'recipe_yield': str(row['RecipeYield']) if not pd.isna(row['RecipeYield']) else 'No Yield Information Available'\n",
    "        }\n",
    "\n",
    "        # Use Combined_Features_Clean for the document content\n",
    "        text = str(row['Combined_Features_Clean'])\n",
    "        doc = Document(page_content=text, metadata=metadata)\n",
    "        documents.append(doc)\n",
    "        \n",
    "    return documents\n"
   ]
  },
  {
   "cell_type": "code",
   "execution_count": 58,
   "id": "2e316c63-2897-4c89-aa24-562bcab03ba0",
   "metadata": {
    "tags": []
   },
   "outputs": [],
   "source": [
    "# Take a sample of 100K receipes \n",
    "documents = create_documents(df.sample(n=100000))"
   ]
  },
  {
   "cell_type": "code",
   "execution_count": 14,
   "id": "db462d95-67b8-4ec5-b379-1a98666a0dc0",
   "metadata": {
    "tags": []
   },
   "outputs": [
    {
     "data": {
      "text/plain": [
       "Document(metadata={'recipe_id': '384988.0', 'name': 'Strawberry Tunnel Cream Cake', 'cook_time': 'No Cook Time Available', 'prep_time': 'PT25M', 'total_time': 'PT25M', 'recipe_category': 'Frozen Desserts', 'keywords': \"['Dessert' 'Healthy' '< 30 Mins']\", 'aggregated_rating': 'No Rating Available', 'review_count': 'No Reviews Available', 'calories': '517.9', 'fat_content': '20.4', 'saturated_fat_content': '12.7', 'cholesterol_content': '67.8', 'sodium_content': '560.8', 'carbohydrate_content': '74.8', 'sugar_content': '50.8', 'protein_content': '11.4', 'recipe_servings': 'No Servings Information Available', 'recipe_yield': 'No Yield Information Available'}, page_content='Strawberry Tunnel Cream Cake Frozen Desserts luscious surprise awaits inside elegant cake. Perfect wedding showers, anniversaries, birthdays graduations. ingredient Sweetened condensed milk, one (300ml). Dessert Healthy < 30 Mins')"
      ]
     },
     "execution_count": 14,
     "metadata": {},
     "output_type": "execute_result"
    }
   ],
   "source": [
    "documents[0]"
   ]
  },
  {
   "cell_type": "code",
   "execution_count": 15,
   "id": "8d878b08-c2fc-4528-b26f-3a33d7856465",
   "metadata": {
    "tags": []
   },
   "outputs": [
    {
     "data": {
      "text/plain": [
       "100000"
      ]
     },
     "execution_count": 15,
     "metadata": {},
     "output_type": "execute_result"
    }
   ],
   "source": [
    "len(documents)"
   ]
  },
  {
   "cell_type": "code",
   "execution_count": 16,
   "id": "35faf6bb-6a9b-4f59-b021-33c2507638aa",
   "metadata": {
    "tags": []
   },
   "outputs": [],
   "source": [
    "def split_documents_with_metadata(documents, text_splitter):\n",
    "    split_docs = []\n",
    "    for doc in documents:\n",
    "        chunks = text_splitter.split_text(doc.page_content)\n",
    "        for i, chunk in enumerate(chunks):\n",
    "            split_docs.append(Document(page_content=chunk, metadata={**doc.metadata, \"chunk_id\": i}))\n",
    "    return split_docs"
   ]
  },
  {
   "cell_type": "code",
   "execution_count": 17,
   "id": "d6fe3cfc-26b8-47db-8c36-07e06ea3feb9",
   "metadata": {
    "tags": []
   },
   "outputs": [],
   "source": [
    "split_documents = {key: split_documents_with_metadata(documents, text_splitter_recursive) for key, text_splitter_recursive in text_splits.items()}"
   ]
  },
  {
   "cell_type": "code",
   "execution_count": 18,
   "id": "225b95d6-f0f2-41fd-8cf9-c700ef269488",
   "metadata": {
    "tags": []
   },
   "outputs": [
    {
     "data": {
      "text/plain": [
       "Document(metadata={'recipe_id': '384988.0', 'name': 'Strawberry Tunnel Cream Cake', 'cook_time': 'No Cook Time Available', 'prep_time': 'PT25M', 'total_time': 'PT25M', 'recipe_category': 'Frozen Desserts', 'keywords': \"['Dessert' 'Healthy' '< 30 Mins']\", 'aggregated_rating': 'No Rating Available', 'review_count': 'No Reviews Available', 'calories': '517.9', 'fat_content': '20.4', 'saturated_fat_content': '12.7', 'cholesterol_content': '67.8', 'sodium_content': '560.8', 'carbohydrate_content': '74.8', 'sugar_content': '50.8', 'protein_content': '11.4', 'recipe_servings': 'No Servings Information Available', 'recipe_yield': 'No Yield Information Available', 'chunk_id': 0}, page_content='Strawberry Tunnel Cream Cake Frozen Desserts luscious surprise awaits inside elegant cake. Perfect wedding showers, anniversaries, birthdays graduations. ingredient Sweetened condensed milk, one (300ml). Dessert Healthy < 30 Mins')"
      ]
     },
     "execution_count": 18,
     "metadata": {},
     "output_type": "execute_result"
    }
   ],
   "source": [
    "split_documents['chunk256_overlap0.25'][0]"
   ]
  },
  {
   "cell_type": "code",
   "execution_count": 19,
   "id": "4cb92d4b-2aba-4e56-ac81-b0f743c139a3",
   "metadata": {
    "tags": []
   },
   "outputs": [],
   "source": [
    "# We have > 500,000 recipes, this takes a long time to run\n",
    "from langchain_community.vectorstores import Qdrant\n",
    "\n",
    "qdrant_store_nosplit = Qdrant.from_documents(documents,\n",
    "    embedding_model,\n",
    "    location=\":memory:\",\n",
    ")\n",
    "\n",
    "# qdrant_store = Qdrant.from_documents(split_documents['chunk1024_overlap0.25'],\n",
    "#     embedding_model,\n",
    "#     location=\":memory:\",\n",
    "# )"
   ]
  },
  {
   "cell_type": "code",
   "execution_count": 20,
   "id": "5152d45a-a16c-4efd-9ff3-b1b9464ba304",
   "metadata": {
    "tags": []
   },
   "outputs": [],
   "source": [
    "qdrant_retriever = qdrant_store_nosplit.as_retriever()"
   ]
  },
  {
   "cell_type": "markdown",
   "id": "6f08e4b6-0311-45c8-b590-a64b55c9eb8e",
   "metadata": {},
   "source": [
    "### Reranker retriever"
   ]
  },
  {
   "cell_type": "code",
   "execution_count": 21,
   "id": "dec022f2-3653-4a18-a1cc-e5a44dce0ca3",
   "metadata": {
    "tags": []
   },
   "outputs": [],
   "source": [
    "def pretty_print_docs(docs):\n",
    "    print(\n",
    "        f\"\\n{'-' * 100}\\n\".join(\n",
    "            [f\"Document {i+1}:\\n\\n\" + d.page_content for i, d in enumerate(docs)]\n",
    "        )\n",
    "    )"
   ]
  },
  {
   "cell_type": "code",
   "execution_count": 22,
   "id": "12fb8346-76b4-45e5-ab3b-f12e81574871",
   "metadata": {
    "tags": []
   },
   "outputs": [
    {
     "data": {
      "application/vnd.jupyter.widget-view+json": {
       "model_id": "8eac18a723944d6b967c362bc1336da1",
       "version_major": 2,
       "version_minor": 0
      },
      "text/plain": [
       "config.json:   0%|          | 0.00/799 [00:00<?, ?B/s]"
      ]
     },
     "metadata": {},
     "output_type": "display_data"
    },
    {
     "data": {
      "application/vnd.jupyter.widget-view+json": {
       "model_id": "36e04cee41f646f0be77cf4e1ad48508",
       "version_major": 2,
       "version_minor": 0
      },
      "text/plain": [
       "model.safetensors:   0%|          | 0.00/1.11G [00:00<?, ?B/s]"
      ]
     },
     "metadata": {},
     "output_type": "display_data"
    },
    {
     "data": {
      "application/vnd.jupyter.widget-view+json": {
       "model_id": "2afc7a1390354cb18aad01ab38f04cc8",
       "version_major": 2,
       "version_minor": 0
      },
      "text/plain": [
       "tokenizer_config.json:   0%|          | 0.00/443 [00:00<?, ?B/s]"
      ]
     },
     "metadata": {},
     "output_type": "display_data"
    },
    {
     "data": {
      "application/vnd.jupyter.widget-view+json": {
       "model_id": "ed235b2d062e482fa9149e56ab4174da",
       "version_major": 2,
       "version_minor": 0
      },
      "text/plain": [
       "sentencepiece.bpe.model:   0%|          | 0.00/5.07M [00:00<?, ?B/s]"
      ]
     },
     "metadata": {},
     "output_type": "display_data"
    },
    {
     "data": {
      "application/vnd.jupyter.widget-view+json": {
       "model_id": "41fc0aed8c314a709408c6fdd7f00ea2",
       "version_major": 2,
       "version_minor": 0
      },
      "text/plain": [
       "tokenizer.json:   0%|          | 0.00/17.1M [00:00<?, ?B/s]"
      ]
     },
     "metadata": {},
     "output_type": "display_data"
    },
    {
     "data": {
      "application/vnd.jupyter.widget-view+json": {
       "model_id": "b0ca25d2d66e40cfba7f296b9e5e04c1",
       "version_major": 2,
       "version_minor": 0
      },
      "text/plain": [
       "special_tokens_map.json:   0%|          | 0.00/279 [00:00<?, ?B/s]"
      ]
     },
     "metadata": {},
     "output_type": "display_data"
    },
    {
     "name": "stdout",
     "output_type": "stream",
     "text": [
      "Document 1:\n",
      "\n",
      "Lower Fat Hamburger Pizza < 30 Mins lower fat version homemade hamburger pizza version, least hope lower fat. Easy\n",
      "----------------------------------------------------------------------------------------------------\n",
      "Document 2:\n",
      "\n",
      "Homemade Veggie Pizza < 30 Mins Make share Homemade Veggie Pizza recipe Food.com. None\n",
      "----------------------------------------------------------------------------------------------------\n",
      "Document 3:\n",
      "\n",
      "Zucchini Pizza < 60 Mins Make share Zucchini Pizza recipe Food.com. Oven\n"
     ]
    }
   ],
   "source": [
    "from langchain.retrievers import ContextualCompressionRetriever\n",
    "from langchain.retrievers.document_compressors import CrossEncoderReranker\n",
    "from langchain_community.cross_encoders import HuggingFaceCrossEncoder\n",
    "\n",
    "qdrant_retriever_rerank = qdrant_store_nosplit.as_retriever(search_type='mmr', search_kwargs={\"k\": 50, 'lambda_mult': 0.5})\n",
    "reranker_model = HuggingFaceCrossEncoder(model_name=\"BAAI/bge-reranker-base\")\n",
    "compressor = CrossEncoderReranker(model=reranker_model, top_n=3)\n",
    "compression_retriever = ContextualCompressionRetriever(\n",
    "    base_compressor=compressor, base_retriever=qdrant_retriever_rerank\n",
    ")\n",
    "\n",
    "compressed_docs = compression_retriever.invoke(\"What pizza can I make in 20 minutes?\")\n",
    "pretty_print_docs(compressed_docs)"
   ]
  },
  {
   "cell_type": "markdown",
   "id": "9cc8df35-7bbc-43fc-9766-99383f3c5349",
   "metadata": {},
   "source": [
    "### Agent function definitions"
   ]
  },
  {
   "cell_type": "code",
   "execution_count": 23,
   "id": "a0e04d8b-4bb7-46e0-a2b1-22e4283d9238",
   "metadata": {
    "tags": []
   },
   "outputs": [],
   "source": [
    "def format_docs(docs):\n",
    "    formatted_docs = []\n",
    "    for doc in docs:\n",
    "        formatted_docs.append(f\"Metadata: {doc.metadata}\\n\")\n",
    "    content = \"\\n\\n\".join(formatted_docs)\n",
    "    \n",
    "    return content"
   ]
  },
  {
   "cell_type": "code",
   "execution_count": 24,
   "id": "2dc1eaa0-d2bc-4b57-ad27-95301457e870",
   "metadata": {
    "tags": []
   },
   "outputs": [],
   "source": [
    "recipe_db_query_tool = {\n",
    "  \"name\": \"query_food_recipe_vector_db\",\n",
    "  \"description\": \"\"\"\n",
    "      Queries the vector database containing food recipes to retrieve the most relevant documents. \n",
    "      This function allows the model to generate and execute multiple queries as necessary to gather comprehensive context, \n",
    "      such as ingredients, preparation steps, and metadata like cuisine and diet type, ensuring accurate and thorough responses to user queries.\n",
    "      \"\"\",\n",
    "  \"input_schema\": {\n",
    "    \"type\": \"object\",\n",
    "    \"properties\": {\n",
    "      \"queries\": {\n",
    "        \"type\": \"array\",\n",
    "        \"items\": {\n",
    "          \"type\": \"string\",\n",
    "          \"description\": \"A query generated by the model to run against the vector database to fetch recipe documents.\"\n",
    "        },\n",
    "        \"description\": \"A list of queries generated by the model to run against the vector database to fetch recipe documents.\"\n",
    "      }\n",
    "    },\n",
    "    \"required\": [\"queries\"]\n",
    "  }\n",
    "}\n"
   ]
  },
  {
   "cell_type": "markdown",
   "id": "64c1e9c9-88bd-446a-a0f5-a7ed5bcf8972",
   "metadata": {},
   "source": [
    "### Init bedrock model, define util to stateless messaging, no fn calling"
   ]
  },
  {
   "cell_type": "code",
   "execution_count": 25,
   "id": "af0aacad-2b9d-4504-80b2-b47d92949ce8",
   "metadata": {
    "tags": []
   },
   "outputs": [],
   "source": [
    "import json"
   ]
  },
  {
   "cell_type": "code",
   "execution_count": 26,
   "id": "91b6a9d4-d05c-4340-8281-d050403b0a89",
   "metadata": {
    "tags": []
   },
   "outputs": [],
   "source": [
    "bedrock_client = boto3.client('bedrock-runtime', region_name=\"us-east-1\")"
   ]
  },
  {
   "cell_type": "code",
   "execution_count": 27,
   "id": "e65cefc3-4a52-4985-b7da-b97224a7f356",
   "metadata": {
    "tags": []
   },
   "outputs": [],
   "source": [
    "# We will need to tune these prompts\n",
    "# query_bedrock_llm() definition NEEDS TO BE RERUN\n",
    "# each time when changes are made to this prompt\n",
    "\n",
    "baseline_sys_prompt = \"\"\"\n",
    "You are a helpful assistant and expert in cooking recipes.\n",
    "\n",
    "Before answering, always make at least one call to query_food_recipe_vector_db\n",
    "to retrieve the relevant context of recipes and ingredients to generate an informed\n",
    "and high-quality response to the user prompt but NEVER exceed a MAXIMUM of \n",
    "3 calls to the query_food_recipe_vector_db function.\n",
    "\n",
    "Provide a response to the user prompt about food with recommended recipes and instructions.\n",
    "\"\"\""
   ]
  },
  {
   "cell_type": "code",
   "execution_count": 28,
   "id": "bd6cb3e3-04ac-465c-8bc0-e913d4086b21",
   "metadata": {
    "tags": []
   },
   "outputs": [],
   "source": [
    "# We will need to tune these prompts\n",
    "\n",
    "baseline_sys_prompt_basic = \"\"\"\n",
    "You are a helpful assistant and expert in cooking recipes.\n",
    "You will be provided a list of relevant context about relevant food recipes\n",
    "which includes metadata like ingredients and cooking instructions.\n",
    "\n",
    "Provide a response to the user prompt about food with recommended recipes and instructions.\n",
    "\"\"\""
   ]
  },
  {
   "cell_type": "code",
   "execution_count": 29,
   "id": "ed11c7ae-7ac1-4dab-b889-fad779b36280",
   "metadata": {
    "tags": []
   },
   "outputs": [],
   "source": [
    "MODEL_ID = \"anthropic.claude-3-sonnet-20240229-v1:0\"\n",
    "\n",
    "def query_bedrock_llm(messages):\n",
    "    response = bedrock_client.invoke_model(\n",
    "        modelId=MODEL_ID,\n",
    "        body=json.dumps({\n",
    "            'anthropic_version': 'bedrock-2023-05-31', # This is required to use chat style messages object \n",
    "            'system': baseline_sys_prompt,\n",
    "            'messages': messages,\n",
    "            'max_tokens': 3000,\n",
    "            \"tools\": [recipe_db_query_tool],\n",
    "\n",
    "            # This config forces the model to always call the recipe db query tool atleast once \n",
    "            # https://docs.anthropic.com/en/docs/build-with-claude/tool-use#controlling-claudes-output\n",
    "            # \"tool_choice\": {\n",
    "            #     \"type\": \"tool\",\n",
    "            #     \"name\": recipe_db_query_tool['name']\n",
    "            # },\n",
    "            \n",
    "            # TODO: TUNE THESE VALUES\n",
    "            'temperature': 0.1, \n",
    "            'top_p': 0.9\n",
    "        })\n",
    "    )\n",
    "    response_body = json.loads(response.get('body').read())\n",
    "    \n",
    "    return response_body"
   ]
  },
  {
   "cell_type": "code",
   "execution_count": 30,
   "id": "2e158b92-b58b-4a5a-8fcf-4a52ebb4d67d",
   "metadata": {
    "tags": []
   },
   "outputs": [],
   "source": [
    "MODEL_ID = \"anthropic.claude-3-sonnet-20240229-v1:0\"\n",
    "\n",
    "def query_bedrock_llm_basic(messages):\n",
    "    response = bedrock_client.invoke_model(\n",
    "        modelId=MODEL_ID,\n",
    "        body=json.dumps({\n",
    "            'anthropic_version': 'bedrock-2023-05-31', # This is required to use chat style messages object \n",
    "            'system': baseline_sys_prompt_basic,\n",
    "            'messages': messages,\n",
    "            'max_tokens': 3000,\n",
    "            \n",
    "            # TODO: TUNE THESE VALUES\n",
    "            'temperature': 0.1, \n",
    "            'top_p': 0.9\n",
    "        })\n",
    "    )\n",
    "    response_body = json.loads(response.get('body').read())\n",
    "    \n",
    "    print(response_body['content'][0]['text'])\n",
    "    \n",
    "    return response_body['content'][0]['text']"
   ]
  },
  {
   "cell_type": "markdown",
   "id": "9abb22e4-9e26-4d4d-9ce1-f6b20bac5cb5",
   "metadata": {},
   "source": [
    "### Pipe langchain together"
   ]
  },
  {
   "cell_type": "code",
   "execution_count": 31,
   "id": "1cc70641-ecc2-4cc6-a77f-0f70b806f274",
   "metadata": {
    "tags": []
   },
   "outputs": [],
   "source": [
    "from langchain_core.prompts import ChatPromptTemplate\n",
    "from langchain_core.runnables import RunnablePassthrough, RunnableMap"
   ]
  },
  {
   "cell_type": "code",
   "execution_count": 32,
   "id": "ad7ab6e1-f849-4a25-9fc1-5df44026de00",
   "metadata": {
    "tags": []
   },
   "outputs": [],
   "source": [
    "baseline_user_prompt_basic = \"\"\"\n",
    "### Here is a context:\n",
    "{context} \n",
    "\n",
    "### Here is a user prompt:\n",
    "{query}\n",
    "\"\"\""
   ]
  },
  {
   "cell_type": "code",
   "execution_count": 33,
   "id": "72b5ce6a-3aac-4fb4-b9a3-8742402f185c",
   "metadata": {
    "tags": []
   },
   "outputs": [],
   "source": [
    "baseline_user_prompt = \"\"\"\n",
    "### Here is a user prompt:\n",
    "{query}\n",
    "\"\"\""
   ]
  },
  {
   "cell_type": "code",
   "execution_count": 34,
   "id": "d466b594-b943-43b7-90be-23b454a698e0",
   "metadata": {
    "tags": []
   },
   "outputs": [],
   "source": [
    "def process_prompt(query_args):\n",
    "    prompt_with_query = baseline_user_prompt.replace(\"{query}\", query_args['query'])\n",
    "    \n",
    "    # This format doesn't matter much now, but we will use it later to \n",
    "    # persist chat history for continuous dialogue\n",
    "    messages = [\n",
    "        {\n",
    "            \"role\": \"user\",\n",
    "            \"content\": [\n",
    "                {\n",
    "                    \"type\": \"text\",\n",
    "                    \"text\": prompt_with_query\n",
    "                }\n",
    "            ]\n",
    "        }\n",
    "    ]\n",
    "    \n",
    "    return messages"
   ]
  },
  {
   "cell_type": "code",
   "execution_count": 35,
   "id": "95fdc8ab-fc6b-4dad-8826-f77f4d6d45cc",
   "metadata": {
    "tags": []
   },
   "outputs": [],
   "source": [
    "def process_prompt_basic(query_args):\n",
    "    prompt_with_context = baseline_user_prompt_basic.replace(\"{context}\", query_args['context'])\n",
    "    prompt_with_query = prompt_with_context.replace(\"{query}\", query_args['query'])\n",
    "    \n",
    "    # This format doesn't matter much now, but we will use it later to \n",
    "    # persist chat history for continuous dialogue\n",
    "    messages = [\n",
    "        {\n",
    "            \"role\": \"user\",\n",
    "            \"content\": [\n",
    "                {\n",
    "                    \"type\": \"text\",\n",
    "                    \"text\": prompt_with_query\n",
    "                }\n",
    "            ]\n",
    "        }\n",
    "    ]\n",
    "    \n",
    "    return messages"
   ]
  },
  {
   "cell_type": "code",
   "execution_count": 36,
   "id": "1254f41c-9261-46a6-9140-2f7c538a47a1",
   "metadata": {
    "tags": []
   },
   "outputs": [],
   "source": [
    "qdrant_rag_chain = (\n",
    "    RunnableMap(\n",
    "        # {\"context\": qdrant_retriever | format_docs,\n",
    "         {\"query\": RunnablePassthrough()}\n",
    "    )\n",
    "    | process_prompt\n",
    "    | query_bedrock_llm\n",
    "    # | parse_event_stream\n",
    ")"
   ]
  },
  {
   "cell_type": "code",
   "execution_count": 37,
   "id": "e69b9cca-14d6-46eb-bd4a-cded04b3f591",
   "metadata": {
    "tags": []
   },
   "outputs": [],
   "source": [
    "qdrant_rag_chain_basic = (\n",
    "    RunnableMap(\n",
    "        {\"context\": qdrant_retriever | format_docs,\n",
    "         \"query\": RunnablePassthrough()}\n",
    "    )\n",
    "    | process_prompt_basic\n",
    "    | query_bedrock_llm_basic\n",
    ")"
   ]
  },
  {
   "cell_type": "code",
   "execution_count": 38,
   "id": "e06a4b66-8abb-43b0-a0c8-bc792f0eb43f",
   "metadata": {
    "tags": []
   },
   "outputs": [],
   "source": [
    "qdrant_rag_chain_rerank = (\n",
    "    RunnableMap(\n",
    "        {\"context\": compression_retriever | format_docs,\n",
    "         \"query\": RunnablePassthrough()}\n",
    "    )\n",
    "    | process_prompt_basic\n",
    "    | query_bedrock_llm_basic\n",
    ")"
   ]
  },
  {
   "cell_type": "markdown",
   "id": "4e33af48-0606-4e6f-b57a-53ce71d0f1b8",
   "metadata": {},
   "source": [
    "### Model generates dynamic context queries to vector db"
   ]
  },
  {
   "cell_type": "code",
   "execution_count": 39,
   "id": "6de5108e-285d-4457-8838-2c92ec0fc08d",
   "metadata": {
    "tags": []
   },
   "outputs": [],
   "source": [
    "test_queries = {\n",
    "    '1': \"\"\"\n",
    "    I enjoy asian fusion food and I am a vegetarian. \n",
    "    Give me one recipe with ingredients and instructions\n",
    "    \"\"\",\n",
    "\n",
    "    '2': \"\"\"\n",
    "    I have a peanut allergy but I like thai food. \n",
    "    I also don't enjoy spicy food much, and want a meal with low carbs. \n",
    "    Give a recipe with ingredients and instructions\n",
    "    \"\"\",\n",
    "\n",
    "    '3': \"\"\"\n",
    "    Suggest a low-carb breakfast recipe that includes eggs and spinach, \n",
    "    can be prepared in under 20 minutes, \n",
    "    and is suitable for a keto diet.\n",
    "    \"\"\",\n",
    "\n",
    "    '4': \"\"\"\n",
    "    Suggest a healthy dinner recipe for two people that includes fish, \n",
    "    is under 500 calories per serving, \n",
    "    and can be made in less than 40 minutes.\n",
    "    \"\"\",\n",
    "\n",
    "    '5': \"\"\"\n",
    "    I am on a ketogenic diet and need a dinner recipe that is dairy-free, \n",
    "    low in sodium, and takes less than an hour to cook.\n",
    "    \"\"\",\n",
    "\n",
    "    '6': \"\"\"\n",
    "    I'm looking for a pescatarian main course that is low in saturated fat, \n",
    "    uses Asian flavors, and can be prepared in under 45 minutes.\n",
    "    \"\"\",\n",
    "\n",
    "    '7': \"\"\"\n",
    "    I need a diabetic-friendly, vegan breakfast recipe that is gluten-free, \n",
    "    nut-free, and low in cholesterol, but also rich in omega-3 fatty acids \n",
    "    and can be prepared the night before.\n",
    "    \"\"\",\n",
    "\n",
    "    '8': \"\"\"\n",
    "    I am following a strict paleo diet and need a lunch recipe that is dairy-free, \n",
    "    gluten-free, low in carbs, and low in sodium. Additionally, it should be rich in antioxidants, \n",
    "    and can be made in under 30 minutes with minimal cooking equipment.\n",
    "    \"\"\"\n",
    "}\n",
    "\n"
   ]
  },
  {
   "cell_type": "code",
   "execution_count": 40,
   "id": "ab4dc99d-0f4f-4174-89da-31f60dc7b64b",
   "metadata": {
    "tags": []
   },
   "outputs": [
    {
     "data": {
      "text/plain": [
       "{'id': 'msg_bdrk_01WWt9hYebE8EqTiYmwkmFTn',\n",
       " 'type': 'message',\n",
       " 'role': 'assistant',\n",
       " 'model': 'claude-3-sonnet-20240229',\n",
       " 'content': [{'type': 'text',\n",
       "   'text': 'Okay, let me query the recipe database to find a relevant Asian fusion vegetarian recipe.'},\n",
       "  {'type': 'tool_use',\n",
       "   'id': 'toolu_bdrk_01UAXSTD2QoUYZceL6NuWUjq',\n",
       "   'name': 'query_food_recipe_vector_db',\n",
       "   'input': {'queries': ['asian fusion vegetarian recipes']}}],\n",
       " 'stop_reason': 'tool_use',\n",
       " 'stop_sequence': None,\n",
       " 'usage': {'input_tokens': 478, 'output_tokens': 85}}"
      ]
     },
     "execution_count": 40,
     "metadata": {},
     "output_type": "execute_result"
    }
   ],
   "source": [
    "qdrant_rag_chain.invoke(test_queries['1'])"
   ]
  },
  {
   "cell_type": "markdown",
   "id": "3ad71bb4-54a7-4037-94c3-72e7340a3bdc",
   "metadata": {},
   "source": [
    "### Implement continuous dialogue and function calling"
   ]
  },
  {
   "cell_type": "code",
   "execution_count": 41,
   "id": "36cdb25c-0aff-4170-9736-a0c56aa0e53a",
   "metadata": {
    "tags": []
   },
   "outputs": [],
   "source": [
    "def generate_message(prompt):\n",
    "    if type(prompt) != str:\n",
    "        raise ValueError(f'Tried to call message generate_message with non-string input: {prompt}')\n",
    "        \n",
    "    return {\n",
    "        \"role\": \"user\",\n",
    "        \"content\": [\n",
    "            {\n",
    "                \"type\": \"text\",\n",
    "                \"text\": prompt\n",
    "            }\n",
    "        ]\n",
    "    }"
   ]
  },
  {
   "cell_type": "code",
   "execution_count": 42,
   "id": "0aafdca2-4248-4780-8c0f-4cbdd2209889",
   "metadata": {
    "tags": []
   },
   "outputs": [],
   "source": [
    "def generate_tool_message(fn_results):\n",
    "    \n",
    "    return {\n",
    "        \"role\": \"user\",\n",
    "        \"content\": fn_results\n",
    "    }"
   ]
  },
  {
   "cell_type": "code",
   "execution_count": 43,
   "id": "3e1efe9b-eee3-402a-b606-df6c536b9990",
   "metadata": {
    "tags": []
   },
   "outputs": [],
   "source": [
    "import json\n",
    "\n",
    "# Adds the current prompt as a new message to the chat history\n",
    "# and calls bedrock with the entire chat history\n",
    "# Returns the response body, llm's message, and new chat history\n",
    "\n",
    "'''\n",
    "Example response body structure:\n",
    "{\n",
    "   \"id\":\"msg_bdrk_01C5GGkafK7aL3P5i3rsMr1p\",\n",
    "   \"type\":\"message\",\n",
    "   \"role\":\"assistant\",\n",
    "   \"model\":\"claude-3-sonnet-20240229\",\n",
    "   \"content\":[\n",
    "      {\n",
    "         \"type\":\"tool_use\",\n",
    "         \"id\":\"toolu_bdrk_01CQiYa8BMJfpJC68DuRdwQn\",\n",
    "         \"name\":\"query_food_recipe_vector_db\",\n",
    "         \"input\":{\n",
    "            \"queries\":[\n",
    "               \"healthy fish dinner recipe under 500 calories\",\n",
    "               \"fish dinner recipe for two under 40 minutes\"\n",
    "            ]\n",
    "         }\n",
    "      }\n",
    "   ],\n",
    "   \"stop_reason\":\"tool_use\",\n",
    "   \"stop_sequence\":\"None\",\n",
    "   \"usage\":{\n",
    "      \"input_tokens\":559,\n",
    "      \"output_tokens\":55\n",
    "   }\n",
    "}\n",
    "'''\n",
    "def message_handler(existing_chat_history, prompt, is_tool_message=False):\n",
    "    # Fn results is an array of tool response objects\n",
    "    # message structure needs to reflect that\n",
    "    if is_tool_message:\n",
    "        user_message = generate_tool_message(prompt)\n",
    "    else:\n",
    "        user_message = generate_message(prompt)\n",
    "    existing_chat_history.append(user_message)\n",
    "\n",
    "    # Parse the response content\n",
    "    response_body = query_bedrock_llm(existing_chat_history)\n",
    "    llm_message = {\n",
    "        'role': response_body['role'],\n",
    "        'content': response_body['content']\n",
    "    }\n",
    "\n",
    "    # Add the response message to the chat history\n",
    "    existing_chat_history.append(llm_message)\n",
    "    \n",
    "    return [response_body, llm_message, existing_chat_history]"
   ]
  },
  {
   "cell_type": "code",
   "execution_count": 44,
   "id": "54251908-abed-4098-88db-dae841ce9875",
   "metadata": {
    "tags": []
   },
   "outputs": [],
   "source": [
    "# Executes a list of queries and returns a list of document results\n",
    "def handle_vector_db_queries(queries, retriever=qdrant_retriever): \n",
    "    context_docs = []\n",
    "    for query in queries:\n",
    "        query_results = retriever.invoke(query)\n",
    "        context_docs.extend(query_results)\n",
    "\n",
    "    return context_docs"
   ]
  },
  {
   "cell_type": "code",
   "execution_count": 45,
   "id": "a7daf0c5-eca6-496d-a9d3-97d7d472a086",
   "metadata": {
    "tags": []
   },
   "outputs": [],
   "source": [
    "# Takes as an argument to LLM message content, returns a list of the fn result objects\n",
    "def handle_function_calls(tool_call_message_content, retriever=qdrant_retriever):\n",
    "    tool_results = []\n",
    "    \n",
    "    for tool_call in tool_call_message_content:\n",
    "        # Only process messages from the LLM that are function calls\n",
    "        if tool_call['type'] != 'tool_use':\n",
    "            continue\n",
    "        fn_id = tool_call['id']\n",
    "        fn_name = tool_call['name']\n",
    "        fn_args = tool_call['input']\n",
    "        fn_result = {\n",
    "            \"type\": \"tool_result\",\n",
    "            \"tool_use_id\": fn_id,\n",
    "        }   \n",
    "\n",
    "        if fn_name == 'query_food_recipe_vector_db':\n",
    "            if 'queries' not in fn_args:\n",
    "                print(f\"ERROR: Tried to call {fn_name} with invalid args {fn_args}, skipping..\")\n",
    "                fn_result['content'] = \"\"\n",
    "                fn_result['is_error'] = True\n",
    "                tool_results.append(fn_result)\n",
    "                continue\n",
    "                \n",
    "            print(f\"Model called {fn_name} with args {fn_args}\")\n",
    "            context_docs = handle_vector_db_queries(fn_args['queries'], retriever)\n",
    "            context_str = format_docs(context_docs)\n",
    "            fn_result['content'] = context_str\n",
    "            tool_results.append(fn_result)\n",
    "            \n",
    "        # TODO: handle web search invocation here\n",
    "        else:\n",
    "            print(f\"ERROR: Attempted call to unknown function {fn_name}\")\n",
    "            fn_result['content'] = \"\"\n",
    "            fn_result['is_error'] = True\n",
    "            tool_results.append(fn_result)\n",
    "\n",
    "    return tool_results"
   ]
  },
  {
   "cell_type": "markdown",
   "id": "7e719297-c2db-4068-898d-81ea89ce4551",
   "metadata": {},
   "source": [
    "### Run dynamic query function calling with test queries"
   ]
  },
  {
   "cell_type": "code",
   "execution_count": 46,
   "id": "33afd461-f722-404e-bc42-617a953e559d",
   "metadata": {
    "tags": []
   },
   "outputs": [],
   "source": [
    "'''\n",
    "Example payload structure of response_body:\n",
    "\n",
    "{'id': 'msg_bdrk_01REesjegNiLteurBoxW7pSt',\n",
    " 'type': 'message',\n",
    " 'role': 'assistant',\n",
    " 'model': 'claude-3-sonnet-20240229',\n",
    " 'content': [{'type': 'tool_use',\n",
    "   'id': 'toolu_bdrk_01191W2FuAFTRoDqKKeJSmmn',\n",
    "   'name': 'query_food_recipe_vector_db',\n",
    "   'input': {'queries': ['thai food',\n",
    "     'peanut free',\n",
    "     'low carb',\n",
    "     'not spicy']}}],\n",
    " 'stop_reason': 'tool_use',\n",
    " 'stop_sequence': None,\n",
    " 'usage': {'input_tokens': 573, 'output_tokens': 52}}\n",
    "\n",
    "\n",
    "Example payload structure of llm_message['content']:\n",
    "\n",
    "[{'type': 'tool_use',\n",
    "   'id': 'toolu_bdrk_01191W2FuAFTRoDqKKeJSmmn',\n",
    "   'name': 'query_food_recipe_vector_db',\n",
    "   'input': {'queries': ['thai food',\n",
    "     'peanut free',\n",
    "     'low carb',\n",
    "     'not spicy']}}]\n",
    "'''\n",
    "\n",
    "# This function is the entry point to invoke the LLM with support for function calling\n",
    "# parsing output, calling requested functions, sending output is handled here\n",
    "def run_chat_loop(prompt, retriever=qdrant_retriever):\n",
    "    print(f\"[User]: {prompt}\")\n",
    "    response_body, llm_message, chat_history = message_handler(existing_chat_history=[], prompt=prompt)\n",
    "    \n",
    "    \n",
    "    # The model wants to call tools, call them, provide response, repeat until content is generated\n",
    "    while response_body['stop_reason'] == 'tool_use':\n",
    "        fn_results = handle_function_calls(tool_call_message_content=llm_message['content'], retriever=retriever)\n",
    "\n",
    "        # Send function results back to LLM as a new message with the existing chat history\n",
    "        response_body, llm_message, chat_history = message_handler(\n",
    "            existing_chat_history=chat_history, \n",
    "            prompt=fn_results,\n",
    "            is_tool_message=True\n",
    "        )\n",
    "\n",
    "    # The model is done calling tools\n",
    "    print(f\"\\n[Model]: {llm_message['content'][0]['text']}\")\n",
    "    return f\"\\n[Model]: {llm_message['content'][0]['text']}\"\n"
   ]
  },
  {
   "cell_type": "code",
   "execution_count": 47,
   "id": "cae17c97-2d7c-434a-ba3c-92e4ce7a0afa",
   "metadata": {
    "tags": []
   },
   "outputs": [
    {
     "name": "stdout",
     "output_type": "stream",
     "text": [
      "[User]: \n",
      "    I enjoy asian fusion food and I am a vegetarian. \n",
      "    Give me one recipe with ingredients and instructions\n",
      "    \n",
      "Model called query_food_recipe_vector_db with args {'queries': ['asian fusion vegetarian recipes']}\n",
      "Model called query_food_recipe_vector_db with args {'queries': ['vegetarian pad thai recipe']}\n",
      "\n",
      "[Model]: <search_quality_reflection>\n",
      "The search for \"vegetarian pad thai recipe\" returned several relevant recipes with detailed ingredients and instructions for making vegetarian pad thai. I now have enough context to provide a comprehensive response.\n",
      "</search_quality_reflection>\n",
      "\n",
      "<search_quality_score>5</search_quality_score>\n",
      "\n",
      "<result>\n",
      "Here is a delicious vegetarian Pad Thai recipe for you to try, perfect for enjoying Asian fusion flavors:\n",
      "\n",
      "Vegetarian Pad Thai\n",
      "\n",
      "Ingredients:\n",
      "- 8 oz rice noodles\n",
      "- 2 tbsp vegetable oil\n",
      "- 2 cloves garlic, minced\n",
      "- 1 cup shredded carrots \n",
      "- 1 cup shredded cabbage\n",
      "- 1/2 cup sliced mushrooms\n",
      "- 2 eggs, lightly beaten (or substitute with extra firm tofu for vegan option)\n",
      "- 2 tbsp soy sauce\n",
      "- 2 tbsp rice vinegar\n",
      "- 2 tbsp brown sugar\n",
      "- 1 tsp chili garlic sauce (or to taste)\n",
      "- 2 cups bean sprouts\n",
      "- 1/4 cup chopped green onions\n",
      "- 1/4 cup chopped cilantro\n",
      "- 2 tbsp crushed peanuts\n",
      "- Lime wedges for serving\n",
      "\n",
      "Instructions:\n",
      "\n",
      "1. Prepare the rice noodles according to package instructions by soaking in hot water until softened. Drain and set aside.\n",
      "\n",
      "2. Heat oil in a large skillet or wok over medium-high heat. Add the garlic and sauté for 30 seconds until fragrant. \n",
      "\n",
      "3. Add the carrots, cabbage, and mushrooms. Stir-fry for 2-3 minutes until vegetables are tender-crisp.\n",
      "\n",
      "4. Push the vegetables to the side of the pan and add the beaten eggs (or crumbled tofu for vegan). Scramble the eggs until cooked through.\n",
      "\n",
      "5. Add the cooked noodles, soy sauce, rice vinegar, brown sugar, and chili garlic sauce to the pan. Toss everything together until the noodles are evenly coated and heated through.\n",
      "\n",
      "6. Remove from heat and stir in the bean sprouts, green onions, cilantro, and crushed peanuts. \n",
      "\n",
      "7. Serve immediately with lime wedges on the side to squeeze over the pad thai for extra flavor.\n",
      "\n",
      "Enjoy this flavorful vegetarian pad thai dish bursting with Asian fusion flavors! Let me know if you need any other vegetarian or Asian-inspired recipe recommendations.\n",
      "</result>\n"
     ]
    },
    {
     "data": {
      "text/plain": [
       "'\\n[Model]: <search_quality_reflection>\\nThe search for \"vegetarian pad thai recipe\" returned several relevant recipes with detailed ingredients and instructions for making vegetarian pad thai. I now have enough context to provide a comprehensive response.\\n</search_quality_reflection>\\n\\n<search_quality_score>5</search_quality_score>\\n\\n<result>\\nHere is a delicious vegetarian Pad Thai recipe for you to try, perfect for enjoying Asian fusion flavors:\\n\\nVegetarian Pad Thai\\n\\nIngredients:\\n- 8 oz rice noodles\\n- 2 tbsp vegetable oil\\n- 2 cloves garlic, minced\\n- 1 cup shredded carrots \\n- 1 cup shredded cabbage\\n- 1/2 cup sliced mushrooms\\n- 2 eggs, lightly beaten (or substitute with extra firm tofu for vegan option)\\n- 2 tbsp soy sauce\\n- 2 tbsp rice vinegar\\n- 2 tbsp brown sugar\\n- 1 tsp chili garlic sauce (or to taste)\\n- 2 cups bean sprouts\\n- 1/4 cup chopped green onions\\n- 1/4 cup chopped cilantro\\n- 2 tbsp crushed peanuts\\n- Lime wedges for serving\\n\\nInstructions:\\n\\n1. Prepare the rice noodles according to package instructions by soaking in hot water until softened. Drain and set aside.\\n\\n2. Heat oil in a large skillet or wok over medium-high heat. Add the garlic and sauté for 30 seconds until fragrant. \\n\\n3. Add the carrots, cabbage, and mushrooms. Stir-fry for 2-3 minutes until vegetables are tender-crisp.\\n\\n4. Push the vegetables to the side of the pan and add the beaten eggs (or crumbled tofu for vegan). Scramble the eggs until cooked through.\\n\\n5. Add the cooked noodles, soy sauce, rice vinegar, brown sugar, and chili garlic sauce to the pan. Toss everything together until the noodles are evenly coated and heated through.\\n\\n6. Remove from heat and stir in the bean sprouts, green onions, cilantro, and crushed peanuts. \\n\\n7. Serve immediately with lime wedges on the side to squeeze over the pad thai for extra flavor.\\n\\nEnjoy this flavorful vegetarian pad thai dish bursting with Asian fusion flavors! Let me know if you need any other vegetarian or Asian-inspired recipe recommendations.\\n</result>'"
      ]
     },
     "execution_count": 47,
     "metadata": {},
     "output_type": "execute_result"
    }
   ],
   "source": [
    "run_chat_loop(test_queries['1'])"
   ]
  },
  {
   "cell_type": "markdown",
   "id": "dd2af1dd-de2e-4858-acab-6e5c8c6e3efc",
   "metadata": {
    "tags": []
   },
   "source": [
    "### Evaluation method\n",
    "1. Use LLM as a judge \n",
    "2. Basic Sniff test\n",
    "\n",
    "### Evaluation pipeline\n",
    "1. Look at EDA result and determine the type of cuisine preesnt in the data. Come up with 8 \"Test Questions\". - Done. \n",
    "    test_query_1 to test_query_8\n",
    "2. Feed the test questions in to the basic RAG, function calling RAG\n",
    "3. Gather response and use the following two methods to evaluate them.\n",
    "   1. LLM as a judge (provide grading ruberic) and ask the eval LLM to provide a score of 1-5.\n",
    "   2. Sniff test \n",
    "  "
   ]
  },
  {
   "cell_type": "markdown",
   "id": "b35de926-c6e1-4ac5-953d-9a82cf8ca2df",
   "metadata": {
    "tags": []
   },
   "source": [
    "### Recipe Grading Criteria - Pass into the Eval LLM as part of the prompt\n",
    "\n",
    "Grading Scale (1-5)\n",
    "\n",
    "5 - Exceptional Recipe:\n",
    "\n",
    "    1. Accuracy: The recipe is highly accurate and closely matches the user's query, including all specified ingredients, dietary restrictions, and desired cuisine type.\n",
    "    2. Clarity: The instructions are clear, easy to follow, and logically sequenced. Cooking times and temperatures are precise.\n",
    "    3. Creativity: The recipe demonstrates creativity, offering a unique or interesting twist on a classic dish or a novel combination of ingredients.\n",
    "    4. Completeness: The recipe includes all necessary details, such as ingredient measurements, preparation steps, serving suggestions, and any relevant tips or variations.\n",
    "    5. Healthiness: The recipe provides a balanced nutritional profile, aligning with any specified health goals or dietary considerations.\n",
    "    6. User Feedback: The recipe is likely to receive high ratings from users for both taste and ease of preparation.\n",
    "\n",
    "\n",
    "4 - Very Good Recipe:\n",
    "\n",
    "    1. Accuracy: The recipe mostly matches the user's query with minor deviations or substitutions that still align with the user's dietary restrictions and preferences.\n",
    "    2. Clarity: The instructions are clear and easy to follow, with only minor areas that could benefit from additional detail.\n",
    "    3. Creativity: The recipe shows some creativity and presents an appealing dish, though it may not be as unique as a 5-rated recipe.\n",
    "    4. Completeness: The recipe includes most necessary details, but might miss a few minor tips or variations.\n",
    "    5. Healthiness: The recipe is generally healthy, though it may not be as nutritionally balanced as a 5-rated recipe.\n",
    "    6. User Feedback: The recipe is likely to receive good ratings from users, being tasty and reasonably easy to prepare.\n",
    "\n",
    "3 - Good Recipe:\n",
    "\n",
    "    1. Accuracy: The recipe has a reasonable match with the user's query but may include some inaccuracies or ingredient substitutions that slightly alter the dish's nature.\n",
    "    2. Clarity: The instructions are generally clear but may have a few confusing steps or lack detailed guidance in some areas.\n",
    "    3. Creativity: The recipe is standard with minimal creativity or uniqueness.\n",
    "    4. Completeness: The recipe includes the essential details but lacks additional helpful information or suggestions.\n",
    "    5. Healthiness: The recipe is moderately healthy but may lack balance in terms of nutritional profile.\n",
    "    6. User Feedback: The recipe is expected to receive average ratings, being satisfactory but not outstanding in taste or ease of preparation.\n",
    "\n",
    "2 - Fair Recipe:\n",
    "\n",
    "    1. Accuracy: The recipe has noticeable discrepancies from the user's query, potentially including ingredients that were supposed to be excluded due to dietary restrictions.\n",
    "    2. Clarity: The instructions are unclear or difficult to follow, with significant gaps or ambiguities.\n",
    "    3. Creativity: The recipe lacks creativity and may appear bland or uninspired.\n",
    "    4. Completeness: The recipe is missing several important details, such as precise measurements or key preparation steps.\n",
    "    5. Healthiness: The recipe is not particularly healthy and may have an unbalanced nutritional profile.\n",
    "    6. User Feedback: The recipe is likely to receive below-average ratings due to issues with taste, clarity, or preparation difficulty.\n",
    "\n",
    "1 - Poor Recipe:\n",
    "\n",
    "    1. Accuracy: The recipe significantly deviates from the user's query, ignoring key dietary restrictions or preferences.\n",
    "    2. Clarity: The instructions are confusing, incomplete, or incorrect, making the recipe difficult or impossible to follow.\n",
    "    3. Creativity: The recipe is not creative and may seem haphazard or poorly thought out.\n",
    "    4. Completeness: The recipe is missing critical details, such as major ingredients, steps, or cooking times.\n",
    "    5. Healthiness: The recipe is unhealthy and lacks a balanced nutritional profile.\n",
    "    6. User Feedback: The recipe is likely to receive low ratings due to poor taste, difficulty in preparation, or failure to meet user expectations."
   ]
  },
  {
   "cell_type": "code",
   "execution_count": 48,
   "id": "df7088e1-430d-4eca-9d21-39aa660440f2",
   "metadata": {
    "tags": []
   },
   "outputs": [],
   "source": [
    "# Eval framework\n",
    "MODEL_ID = \"anthropic.claude-3-haiku-20240307-v1:0\"\n",
    "\n",
    "def query_bedrock_eval_llm(messages):\n",
    "    response = bedrock_client.invoke_model(\n",
    "        modelId=MODEL_ID,\n",
    "        body=json.dumps({\n",
    "            'anthropic_version': 'bedrock-2023-05-31', # This is required to use chat style messages object \n",
    "            'messages': messages,\n",
    "            'max_tokens': 3000,\n",
    "\n",
    "            # This config forces the model to always call the recipe db query tool atleast once \n",
    "            # https://docs.anthropic.com/en/docs/build-with-claude/tool-use#controlling-claudes-output\n",
    "            # \"tool_choice\": {\n",
    "            #     \"type\": \"tool\",\n",
    "            #     \"name\": recipe_db_query_tool['name']\n",
    "            # },\n",
    "            \n",
    "            # TODO: TUNE THESE VALUES\n",
    "            'temperature': 0.1, \n",
    "            'top_p': 0.9,\n",
    "            'top_k' : 2,\n",
    "        })\n",
    "    )\n",
    "    response_body = json.loads(response.get('body').read())\n",
    "    \n",
    "    return response_body"
   ]
  },
  {
   "cell_type": "code",
   "execution_count": 49,
   "id": "48349c51-7a1d-4762-9623-105c16530b5d",
   "metadata": {
    "tags": []
   },
   "outputs": [],
   "source": [
    "qdrant_rag_chain_eval = (\n",
    "    RunnableMap(\n",
    "        # {\"context\": qdrant_retriever | format_docs,\n",
    "         {\"query\": RunnablePassthrough()}\n",
    "    )\n",
    "    | process_prompt\n",
    "    | query_bedrock_eval_llm\n",
    "    # | parse_event_stream\n",
    ")"
   ]
  },
  {
   "cell_type": "code",
   "execution_count": 50,
   "id": "ac0221f6-3259-495d-b665-f51beb2a8a7c",
   "metadata": {
    "tags": []
   },
   "outputs": [],
   "source": [
    "import copy\n",
    "def llm_judge_eval(queries_index_list, model_responses_dict):\n",
    "    \n",
    "    eval_responses = copy.deepcopy(model_responses_dict)\n",
    "    \n",
    "    for model_name, response_dict in model_responses_dict.items():\n",
    "        for i in queries_index_list:\n",
    "            query = test_queries[i]\n",
    "            gen_response = response_dict[i]\n",
    "\n",
    "            eval_message = f\"\"\"\n",
    "            You are a helpful assistant and expert in reviewing cooking recipes.\n",
    "\n",
    "            Please look at the given user query, recipe generated by another LLM and follow the rubric below. Provide a score between 1-5 on how good the recipe is.\n",
    "\n",
    "            user query : \"{query}\"\n",
    "\n",
    "            Recipe generated by another LLM: \"{gen_response}\"\n",
    "\n",
    "            Recipe review rubric: \n",
    "\n",
    "            Grading Scale (1-5)\n",
    "\n",
    "            5 - Exceptional Recipe:\n",
    "\n",
    "            1. Accuracy: The recipe is highly accurate and closely matches the user's query, including all specified ingredients, dietary restrictions, and desired cuisine type.\n",
    "            2. Clarity: The instructions are clear, easy to follow, and logically sequenced. Cooking times and temperatures are precise.\n",
    "            3. Creativity: The recipe demonstrates creativity, offering a unique or interesting twist on a classic dish or a novel combination of ingredients.\n",
    "            4. Completeness: The recipe includes all necessary details, such as ingredient measurements, preparation steps, serving suggestions, and any relevant tips or variations.\n",
    "            5. Healthiness: The recipe provides a balanced nutritional profile, aligning with any specified health goals or dietary considerations.\n",
    "            6. User Feedback: The recipe is likely to receive high ratings from users for both taste and ease of preparation.\n",
    "            4 - Very Good Recipe:\n",
    "\n",
    "            1. Accuracy: The recipe mostly matches the user's query with minor deviations or substitutions that still align with the user's dietary restrictions and preferences.\n",
    "            2. Clarity: The instructions are clear and easy to follow, with only minor areas that could benefit from additional detail.\n",
    "            3. Creativity: The recipe shows some creativity and presents an appealing dish, though it may not be as unique as a 5-rated recipe.\n",
    "            4. Completeness: The recipe includes most necessary details, but might miss a few minor tips or variations.\n",
    "            5. Healthiness: The recipe is generally healthy, though it may not be as nutritionally balanced as a 5-rated recipe.\n",
    "            6. User Feedback: The recipe is likely to receive good ratings from users, being tasty and reasonably easy to prepare.\n",
    "            3 - Good Recipe:\n",
    "\n",
    "            1. Accuracy: The recipe has a reasonable match with the user's query but may include some inaccuracies or ingredient substitutions that slightly alter the dish's nature.\n",
    "            2. Clarity: The instructions are generally clear but may have a few confusing steps or lack detailed guidance in some areas.\n",
    "            3. Creativity: The recipe is standard with minimal creativity or uniqueness.\n",
    "            4. Completeness: The recipe includes the essential details but lacks additional helpful information or suggestions.\n",
    "            5. Healthiness: The recipe is moderately healthy but may lack balance in terms of nutritional profile.\n",
    "            6. User Feedback: The recipe is expected to receive average ratings, being satisfactory but not outstanding in taste or ease of preparation.\n",
    "            2 - Fair Recipe:\n",
    "\n",
    "            1. Accuracy: The recipe has noticeable discrepancies from the user's query, potentially including ingredients that were supposed to be excluded due to dietary restrictions.\n",
    "            2. Clarity: The instructions are unclear or difficult to follow, with significant gaps or ambiguities.\n",
    "            3. Creativity: The recipe lacks creativity and may appear bland or uninspired.\n",
    "            4. Completeness: The recipe is missing several important details, such as precise measurements or key preparation steps.\n",
    "            5. Healthiness: The recipe is not particularly healthy and may have an unbalanced nutritional profile.\n",
    "            6. User Feedback: The recipe is likely to receive below-average ratings due to issues with taste, clarity, or preparation difficulty.\n",
    "            1 - Poor Recipe:\n",
    "\n",
    "            1. Accuracy: The recipe significantly deviates from the user's query, ignoring key dietary restrictions or preferences.\n",
    "            2. Clarity: The instructions are confusing, incomplete, or incorrect, making the recipe difficult or impossible to follow.\n",
    "            3. Creativity: The recipe is not creative and may seem haphazard or poorly thought out.\n",
    "            4. Completeness: The recipe is missing critical details, such as major ingredients, steps, or cooking times.\n",
    "            5. Healthiness: The recipe is unhealthy and lacks a balanced nutritional profile.\n",
    "            6. User Feedback: The recipe is likely to receive low ratings due to poor taste, difficulty in preparation, or failure to meet user expectations.\n",
    "\n",
    "            The response format should be the following :\n",
    "\n",
    "            User Query : \n",
    "            Recipe reviewed : \n",
    "            Score : \n",
    "            Reasoning : \n",
    "                1. Accuracy:\n",
    "                2. Clarity :\n",
    "                3. Creativity :\n",
    "                4. Completeness : \n",
    "                5. Healthiness : \n",
    "                6. User Feedback :\n",
    "            \"\"\"\n",
    "\n",
    "            # eval_resp = qdrant_rag_chain_eval.invoke(eval_message)['content'][0]['text']\n",
    "            eval_resp = qdrant_rag_chain_eval.invoke(eval_message)\n",
    "            eval_responses[model_name][f\"eval_{i}\"] = eval_resp\n",
    "            print(f'Model: {model_name}')\n",
    "            print(eval_resp['content'][0]['text'])\n",
    "            print(\"========\\n\")\n",
    "    return eval_responses\n",
    "    "
   ]
  },
  {
   "cell_type": "code",
   "execution_count": 51,
   "id": "cad7ee2f-117f-4595-a30c-7a4958458875",
   "metadata": {
    "tags": []
   },
   "outputs": [],
   "source": [
    "def model_testing(query_index, model_dict):\n",
    "    \"\"\"\n",
    "    query_index: list of indices to pull from test_queries dict\n",
    "    model_dict: expected input {model_name: (model_object, boolean for function calling)}\n",
    "    return dict {model_name_1: {1: response_1, 2: response_2, etc}}\n",
    "    \"\"\"\n",
    "    # instantiate dict {model name: {1:response, 2:response2, etc}}\n",
    "    model_responses = {model_name: {i: '' for i in query_index} for model_name in model_dict.keys()}\n",
    "    for model_name, (model, func_call) in models_to_test.items():\n",
    "        for i in queries_test_index:\n",
    "            query = test_queries[i]\n",
    "\n",
    "            if func_call:\n",
    "                response = run_chat_loop(query, model) \n",
    "            else: \n",
    "                response = model.invoke(query)\n",
    "\n",
    "            model_responses[model_name][i] = response\n",
    "    return model_responses"
   ]
  },
  {
   "cell_type": "code",
   "execution_count": 52,
   "id": "c78f8b8b-069e-44b0-94aa-8f25a84b59af",
   "metadata": {
    "tags": []
   },
   "outputs": [
    {
     "name": "stdout",
     "output_type": "stream",
     "text": [
      "Based on the context provided, I would recommend the \"Tofu and Broccoli in Peanut Sauce\" recipe for you. This dish fits your preferences as it is an Asian-inspired vegetarian meal.\n",
      "\n",
      "Ingredients:\n",
      "- 1 block (14 oz) firm or extra-firm tofu, cubed\n",
      "- 3 cups broccoli florets\n",
      "- 2 tablespoons vegetable oil\n",
      "- 2 cloves garlic, minced\n",
      "- 1 tablespoon grated fresh ginger\n",
      "- 1/4 cup creamy peanut butter\n",
      "- 2 tablespoons low-sodium soy sauce\n",
      "- 1 tablespoon rice vinegar\n",
      "- 1 tablespoon brown sugar\n",
      "- 1/4 teaspoon red pepper flakes (optional)\n",
      "- 1/4 cup water\n",
      "- 2 green onions, sliced\n",
      "- 2 tablespoons chopped roasted peanuts (optional)\n",
      "- Cooked rice, for serving\n",
      "\n",
      "Instructions:\n",
      "1. Press the tofu for 15-30 minutes to remove excess moisture. Cut into 1-inch cubes.\n",
      "2. In a large skillet or wok, heat the vegetable oil over medium-high heat. Add the tofu and cook, turning occasionally, until lightly browned on all sides, about 5-7 minutes. Transfer to a plate.\n",
      "3. Add the broccoli florets to the skillet and cook for 2-3 minutes, until bright green and slightly tender.\n",
      "4. In a small bowl, whisk together the peanut butter, soy sauce, rice vinegar, brown sugar, red pepper flakes (if using), and water until smooth.\n",
      "5. Add the garlic and ginger to the skillet and cook for 1 minute, until fragrant.\n",
      "6. Pour the peanut sauce into the skillet and bring to a simmer. Add the tofu back to the skillet and toss to coat everything in the sauce.\n",
      "7. Serve the tofu and broccoli in peanut sauce over cooked rice, garnished with sliced green onions and chopped peanuts (if using).\n",
      "\n",
      "Enjoy this flavorful and nutritious Asian-inspired vegetarian dish!\n",
      "Based on the user's preferences and the provided recipe context, I would recommend the following recipe:\n",
      "\n",
      "Thai Shrimp and Vegetable Curry\n",
      "\n",
      "Ingredients:\n",
      "- 1 lb shrimp, peeled and deveined\n",
      "- 1 cup mixed vegetables (such as broccoli, bell peppers, snow peas)\n",
      "- 1 cup coconut milk\n",
      "- 2 tbsp red curry paste (use less if you don't like spicy)\n",
      "- 1 tbsp fish sauce\n",
      "- 1 tsp lime juice\n",
      "- Salt and pepper to taste\n",
      "- Chopped cilantro for garnish (optional)\n",
      "\n",
      "Instructions:\n",
      "1. In a large skillet or wok, heat a small amount of oil over medium-high heat.\n",
      "2. Add the shrimp and sauté for 2-3 minutes until they start to turn pink.\n",
      "3. Add the mixed vegetables and sauté for another 2-3 minutes.\n",
      "4. Pour in the coconut milk and stir in the red curry paste, fish sauce, and lime juice. \n",
      "5. Bring the mixture to a simmer and let it cook for 5-7 minutes, or until the vegetables are tender and the shrimp are cooked through.\n",
      "6. Season with salt and pepper to taste.\n",
      "7. Serve the curry over cauliflower rice or zucchini noodles to keep it low-carb.\n",
      "8. Garnish with chopped cilantro if desired.\n",
      "\n",
      "This recipe is peanut-free, has a moderate level of spice that can be adjusted, and is low in carbs. The shrimp and vegetables provide a good source of protein and nutrients. Enjoy your Thai-inspired meal!\n",
      "Based on the context provided, I would recommend the \"Tofu and Broccoli in Peanut Sauce\" recipe for you.\n",
      "\n",
      "Ingredients:\n",
      "- 1 block of firm or extra-firm tofu, cubed\n",
      "- 2 cups of broccoli florets\n",
      "- 1/4 cup of peanut butter\n",
      "- 2 tablespoons of soy sauce\n",
      "- 1 tablespoon of rice vinegar\n",
      "- 1 tablespoon of honey or maple syrup\n",
      "- 1 teaspoon of grated ginger\n",
      "- 1 clove of garlic, minced\n",
      "- 1/4 cup of water\n",
      "- Salt and pepper to taste\n",
      "- Chopped peanuts or green onions for garnish (optional)\n",
      "\n",
      "Instructions:\n",
      "1. Press the tofu for 15-30 minutes to remove excess moisture. Cut into 1-inch cubes.\n",
      "2. In a small bowl, whisk together the peanut butter, soy sauce, rice vinegar, honey/maple syrup, ginger, and garlic. Add the water and stir until the sauce is smooth.\n",
      "3. In a large skillet or wok, heat a tablespoon of oil over medium-high heat. Add the tofu cubes and cook for 2-3 minutes per side until lightly browned.\n",
      "4. Add the broccoli florets to the skillet and cook for 3-4 minutes, stirring occasionally, until the broccoli is tender-crisp.\n",
      "5. Pour the peanut sauce over the tofu and broccoli and toss to coat everything evenly. Let the sauce simmer for 2-3 minutes until thickened.\n",
      "6. Serve the tofu and broccoli in peanut sauce over steamed rice or noodles. Garnish with chopped peanuts or green onions if desired.\n",
      "\n",
      "This recipe is vegetarian, Asian-inspired, and features a delicious peanut sauce that complements the tofu and broccoli. I hope you enjoy this flavorful and healthy meal!\n",
      "Based on the user's preferences and the provided recipe context, I would recommend the following recipe:\n",
      "\n",
      "Thai Shrimp and Vegetable Curry\n",
      "\n",
      "Ingredients:\n",
      "- 1 lb shrimp, peeled and deveined\n",
      "- 1 cup mixed vegetables (such as broccoli, bell peppers, snow peas)\n",
      "- 1 cup coconut milk\n",
      "- 2 tbsp red curry paste (use less if you don't like spicy)\n",
      "- 1 tbsp fish sauce\n",
      "- 1 tsp lime juice\n",
      "- Salt and pepper to taste\n",
      "- Chopped cilantro for garnish (optional)\n",
      "\n",
      "Instructions:\n",
      "1. In a large skillet or wok, heat a small amount of oil over medium-high heat.\n",
      "2. Add the shrimp and sauté for 2-3 minutes until they start to turn pink.\n",
      "3. Add the mixed vegetables and sauté for another 2-3 minutes until the vegetables are crisp-tender.\n",
      "4. Pour in the coconut milk and stir in the red curry paste, fish sauce, and lime juice. Bring the mixture to a simmer.\n",
      "5. Reduce heat to low and let the curry simmer for 5-7 minutes, or until the shrimp are cooked through and the vegetables are tender.\n",
      "6. Season with salt and pepper to taste.\n",
      "7. Serve the Thai shrimp and vegetable curry immediately, garnished with chopped cilantro if desired.\n",
      "\n",
      "This recipe is peanut-free, low in carbs, and has a moderate level of spice that can be adjusted to your preference. The coconut milk and vegetables provide a flavorful and satisfying meal.\n",
      "[User]: \n",
      "    I enjoy asian fusion food and I am a vegetarian. \n",
      "    Give me one recipe with ingredients and instructions\n",
      "    \n",
      "Model called query_food_recipe_vector_db with args {'queries': ['asian fusion vegetarian recipe']}\n",
      "\n",
      "[Model]: Based on the search results, here is a tasty Asian-inspired vegetarian recipe I can recommend:\n",
      "\n",
      "Sesame Peanut Noodles\n",
      "\n",
      "Ingredients:\n",
      "- 8 oz whole wheat spaghetti or linguine\n",
      "- 1/4 cup creamy peanut butter\n",
      "- 2 tbsp low-sodium soy sauce\n",
      "- 2 tbsp rice vinegar\n",
      "- 1 tbsp sesame oil\n",
      "- 1 tbsp honey\n",
      "- 1 tsp grated fresh ginger\n",
      "- 1 garlic clove, minced\n",
      "- 1/4 tsp red pepper flakes (optional)\n",
      "- 2 cups shredded cabbage or coleslaw mix\n",
      "- 1/2 cup shredded carrots\n",
      "- 2 tbsp chopped fresh cilantro\n",
      "\n",
      "Instructions:\n",
      "1. Cook the pasta according to package instructions. Drain and rinse under cold water.\n",
      "2. In a medium bowl, whisk together the peanut butter, soy sauce, vinegar, sesame oil, honey, ginger, garlic, and red pepper flakes (if using).\n",
      "3. Add the cooked pasta, cabbage, carrots, and cilantro to the peanut sauce and toss to coat evenly.\n",
      "4. Serve immediately, garnished with extra cilantro if desired.\n",
      "\n",
      "This dish is full of Asian flavors from the peanut sauce, ginger, and sesame oil, and it's a great vegetarian option with the tofu and veggies. I hope you enjoy this tasty and healthy recipe!\n",
      "[User]: \n",
      "    I have a peanut allergy but I like thai food. \n",
      "    I also don't enjoy spicy food much, and want a meal with low carbs. \n",
      "    Give a recipe with ingredients and instructions\n",
      "    \n",
      "Model called query_food_recipe_vector_db with args {'queries': ['thai food recipes without peanuts', 'low carb thai recipes', 'non-spicy thai recipes']}\n",
      "\n",
      "[Model]: Based on the search results, I would recommend the following recipe:\n",
      "\n",
      "Thai Shrimp and Vegetable Curry\n",
      "\n",
      "Ingredients:\n",
      "- 1 lb shrimp, peeled and deveined\n",
      "- 1 cup coconut milk\n",
      "- 1 tbsp red curry paste\n",
      "- 1 tbsp fish sauce\n",
      "- 1 tsp brown sugar\n",
      "- 1 cup mixed vegetables (such as bell peppers, broccoli, snow peas)\n",
      "- 1 lime, juiced\n",
      "- Chopped cilantro for garnish\n",
      "\n",
      "Instructions:\n",
      "1. In a large skillet or wok, combine the coconut milk, curry paste, fish sauce, and brown sugar. Bring to a simmer over medium heat.\n",
      "2. Add the shrimp and mixed vegetables. Simmer for 10-15 minutes, until the shrimp are cooked through and the vegetables are tender.\n",
      "3. Stir in the lime juice.\n",
      "4. Serve over cauliflower rice or zucchini noodles. Garnish with chopped cilantro.\n",
      "\n",
      "This recipe is peanut-free, low in carbs, and not overly spicy, making it a great option for your dietary needs. The coconut milk and curry paste provide plenty of Thai flavor without the heat. Enjoy!\n"
     ]
    }
   ],
   "source": [
    "# Model name: (model object, using run_chat_loop function calling)\n",
    "models_to_test = {\n",
    "    'baseline': (qdrant_rag_chain_basic, False),\n",
    "    'rerank': (qdrant_rag_chain_rerank, False),\n",
    "    'func_call_rerank': (compression_retriever, True)\n",
    "}\n",
    "\n",
    "# indexes to test from test_queries dictionary\n",
    "queries_test_index = ['1', '2']\n",
    "\n",
    "model_responses = model_testing(queries_test_index, models_to_test)"
   ]
  },
  {
   "cell_type": "code",
   "execution_count": 53,
   "id": "26179960-68dc-47b3-9111-9986652329e6",
   "metadata": {
    "tags": []
   },
   "outputs": [
    {
     "data": {
      "text/plain": [
       "{'baseline': {'1': 'Based on the context provided, I would recommend the \"Tofu and Broccoli in Peanut Sauce\" recipe for you. This dish fits your preferences as it is an Asian-inspired vegetarian meal.\\n\\nIngredients:\\n- 1 block (14 oz) firm or extra-firm tofu, cubed\\n- 3 cups broccoli florets\\n- 2 tablespoons vegetable oil\\n- 2 cloves garlic, minced\\n- 1 tablespoon grated fresh ginger\\n- 1/4 cup creamy peanut butter\\n- 2 tablespoons low-sodium soy sauce\\n- 1 tablespoon rice vinegar\\n- 1 tablespoon brown sugar\\n- 1/4 teaspoon red pepper flakes (optional)\\n- 1/4 cup water\\n- 2 green onions, sliced\\n- 2 tablespoons chopped roasted peanuts (optional)\\n- Cooked rice, for serving\\n\\nInstructions:\\n1. Press the tofu for 15-30 minutes to remove excess moisture. Cut into 1-inch cubes.\\n2. In a large skillet or wok, heat the vegetable oil over medium-high heat. Add the tofu and cook, turning occasionally, until lightly browned on all sides, about 5-7 minutes. Transfer to a plate.\\n3. Add the broccoli florets to the skillet and cook for 2-3 minutes, until bright green and slightly tender.\\n4. In a small bowl, whisk together the peanut butter, soy sauce, rice vinegar, brown sugar, red pepper flakes (if using), and water until smooth.\\n5. Add the garlic and ginger to the skillet and cook for 1 minute, until fragrant.\\n6. Pour the peanut sauce into the skillet and bring to a simmer. Add the tofu back to the skillet and toss to coat everything in the sauce.\\n7. Serve the tofu and broccoli in peanut sauce over cooked rice, garnished with sliced green onions and chopped peanuts (if using).\\n\\nEnjoy this flavorful and nutritious Asian-inspired vegetarian dish!',\n",
       "  '2': \"Based on the user's preferences and the provided recipe context, I would recommend the following recipe:\\n\\nThai Shrimp and Vegetable Curry\\n\\nIngredients:\\n- 1 lb shrimp, peeled and deveined\\n- 1 cup mixed vegetables (such as broccoli, bell peppers, snow peas)\\n- 1 cup coconut milk\\n- 2 tbsp red curry paste (use less if you don't like spicy)\\n- 1 tbsp fish sauce\\n- 1 tsp lime juice\\n- Salt and pepper to taste\\n- Chopped cilantro for garnish (optional)\\n\\nInstructions:\\n1. In a large skillet or wok, heat a small amount of oil over medium-high heat.\\n2. Add the shrimp and sauté for 2-3 minutes until they start to turn pink.\\n3. Add the mixed vegetables and sauté for another 2-3 minutes.\\n4. Pour in the coconut milk and stir in the red curry paste, fish sauce, and lime juice. \\n5. Bring the mixture to a simmer and let it cook for 5-7 minutes, or until the vegetables are tender and the shrimp are cooked through.\\n6. Season with salt and pepper to taste.\\n7. Serve the curry over cauliflower rice or zucchini noodles to keep it low-carb.\\n8. Garnish with chopped cilantro if desired.\\n\\nThis recipe is peanut-free, has a moderate level of spice that can be adjusted, and is low in carbs. The shrimp and vegetables provide a good source of protein and nutrients. Enjoy your Thai-inspired meal!\"},\n",
       " 'rerank': {'1': 'Based on the context provided, I would recommend the \"Tofu and Broccoli in Peanut Sauce\" recipe for you.\\n\\nIngredients:\\n- 1 block of firm or extra-firm tofu, cubed\\n- 2 cups of broccoli florets\\n- 1/4 cup of peanut butter\\n- 2 tablespoons of soy sauce\\n- 1 tablespoon of rice vinegar\\n- 1 tablespoon of honey or maple syrup\\n- 1 teaspoon of grated ginger\\n- 1 clove of garlic, minced\\n- 1/4 cup of water\\n- Salt and pepper to taste\\n- Chopped peanuts or green onions for garnish (optional)\\n\\nInstructions:\\n1. Press the tofu for 15-30 minutes to remove excess moisture. Cut into 1-inch cubes.\\n2. In a small bowl, whisk together the peanut butter, soy sauce, rice vinegar, honey/maple syrup, ginger, and garlic. Add the water and stir until the sauce is smooth.\\n3. In a large skillet or wok, heat a tablespoon of oil over medium-high heat. Add the tofu cubes and cook for 2-3 minutes per side until lightly browned.\\n4. Add the broccoli florets to the skillet and cook for 3-4 minutes, stirring occasionally, until the broccoli is tender-crisp.\\n5. Pour the peanut sauce over the tofu and broccoli and toss to coat everything evenly. Let the sauce simmer for 2-3 minutes until thickened.\\n6. Serve the tofu and broccoli in peanut sauce over steamed rice or noodles. Garnish with chopped peanuts or green onions if desired.\\n\\nThis recipe is vegetarian, Asian-inspired, and features a delicious peanut sauce that complements the tofu and broccoli. I hope you enjoy this flavorful and healthy meal!',\n",
       "  '2': \"Based on the user's preferences and the provided recipe context, I would recommend the following recipe:\\n\\nThai Shrimp and Vegetable Curry\\n\\nIngredients:\\n- 1 lb shrimp, peeled and deveined\\n- 1 cup mixed vegetables (such as broccoli, bell peppers, snow peas)\\n- 1 cup coconut milk\\n- 2 tbsp red curry paste (use less if you don't like spicy)\\n- 1 tbsp fish sauce\\n- 1 tsp lime juice\\n- Salt and pepper to taste\\n- Chopped cilantro for garnish (optional)\\n\\nInstructions:\\n1. In a large skillet or wok, heat a small amount of oil over medium-high heat.\\n2. Add the shrimp and sauté for 2-3 minutes until they start to turn pink.\\n3. Add the mixed vegetables and sauté for another 2-3 minutes until the vegetables are crisp-tender.\\n4. Pour in the coconut milk and stir in the red curry paste, fish sauce, and lime juice. Bring the mixture to a simmer.\\n5. Reduce heat to low and let the curry simmer for 5-7 minutes, or until the shrimp are cooked through and the vegetables are tender.\\n6. Season with salt and pepper to taste.\\n7. Serve the Thai shrimp and vegetable curry immediately, garnished with chopped cilantro if desired.\\n\\nThis recipe is peanut-free, low in carbs, and has a moderate level of spice that can be adjusted to your preference. The coconut milk and vegetables provide a flavorful and satisfying meal.\"},\n",
       " 'func_call_rerank': {'1': \"\\n[Model]: Based on the search results, here is a tasty Asian-inspired vegetarian recipe I can recommend:\\n\\nSesame Peanut Noodles\\n\\nIngredients:\\n- 8 oz whole wheat spaghetti or linguine\\n- 1/4 cup creamy peanut butter\\n- 2 tbsp low-sodium soy sauce\\n- 2 tbsp rice vinegar\\n- 1 tbsp sesame oil\\n- 1 tbsp honey\\n- 1 tsp grated fresh ginger\\n- 1 garlic clove, minced\\n- 1/4 tsp red pepper flakes (optional)\\n- 2 cups shredded cabbage or coleslaw mix\\n- 1/2 cup shredded carrots\\n- 2 tbsp chopped fresh cilantro\\n\\nInstructions:\\n1. Cook the pasta according to package instructions. Drain and rinse under cold water.\\n2. In a medium bowl, whisk together the peanut butter, soy sauce, vinegar, sesame oil, honey, ginger, garlic, and red pepper flakes (if using).\\n3. Add the cooked pasta, cabbage, carrots, and cilantro to the peanut sauce and toss to coat evenly.\\n4. Serve immediately, garnished with extra cilantro if desired.\\n\\nThis dish is full of Asian flavors from the peanut sauce, ginger, and sesame oil, and it's a great vegetarian option with the tofu and veggies. I hope you enjoy this tasty and healthy recipe!\",\n",
       "  '2': '\\n[Model]: Based on the search results, I would recommend the following recipe:\\n\\nThai Shrimp and Vegetable Curry\\n\\nIngredients:\\n- 1 lb shrimp, peeled and deveined\\n- 1 cup coconut milk\\n- 1 tbsp red curry paste\\n- 1 tbsp fish sauce\\n- 1 tsp brown sugar\\n- 1 cup mixed vegetables (such as bell peppers, broccoli, snow peas)\\n- 1 lime, juiced\\n- Chopped cilantro for garnish\\n\\nInstructions:\\n1. In a large skillet or wok, combine the coconut milk, curry paste, fish sauce, and brown sugar. Bring to a simmer over medium heat.\\n2. Add the shrimp and mixed vegetables. Simmer for 10-15 minutes, until the shrimp are cooked through and the vegetables are tender.\\n3. Stir in the lime juice.\\n4. Serve over cauliflower rice or zucchini noodles. Garnish with chopped cilantro.\\n\\nThis recipe is peanut-free, low in carbs, and not overly spicy, making it a great option for your dietary needs. The coconut milk and curry paste provide plenty of Thai flavor without the heat. Enjoy!'}}"
      ]
     },
     "execution_count": 53,
     "metadata": {},
     "output_type": "execute_result"
    }
   ],
   "source": [
    "model_responses"
   ]
  },
  {
   "cell_type": "code",
   "execution_count": 54,
   "id": "e97f9778-1b5f-480d-b8eb-3a6f1663c0bd",
   "metadata": {
    "tags": []
   },
   "outputs": [
    {
     "name": "stdout",
     "output_type": "stream",
     "text": [
      "Model: baseline\n",
      "User Query: \n",
      "I enjoy asian fusion food and I am a vegetarian. Give me one recipe with ingredients and instructions.\n",
      "\n",
      "Recipe reviewed:\n",
      "Tofu and Broccoli in Peanut Sauce\n",
      "\n",
      "Score: 4\n",
      "\n",
      "Reasoning:\n",
      "1. Accuracy: The recipe closely matches the user's query, providing an Asian-inspired vegetarian dish as requested.\n",
      "2. Clarity: The instructions are clear and easy to follow, with precise cooking times and temperatures.\n",
      "3. Creativity: The recipe demonstrates a creative fusion of Asian flavors, combining tofu, broccoli, and a peanut sauce for a unique and appealing dish.\n",
      "4. Completeness: The recipe includes all necessary details, such as ingredient measurements, preparation steps, serving suggestions, and relevant tips.\n",
      "5. Healthiness: The recipe provides a balanced nutritional profile, with tofu and broccoli as the main components, aligning with the user's vegetarian dietary preference.\n",
      "6. User Feedback: The recipe is likely to receive high ratings from users for its taste and ease of preparation, making it an excellent choice for the user's request.\n",
      "========\n",
      "\n",
      "Model: baseline\n",
      "User Query: \n",
      "I have a peanut allergy but I like thai food. I also don't enjoy spicy food much, and want a meal with low carbs. Give a recipe with ingredients and instructions.\n",
      "\n",
      "Recipe reviewed:\n",
      "Thai Shrimp and Vegetable Curry\n",
      "\n",
      "Score: 4\n",
      "\n",
      "Reasoning:\n",
      "1. Accuracy: The recipe closely matches the user's query, providing a Thai-inspired dish that is peanut-free and low in carbs. The level of spice can also be adjusted to the user's preference.\n",
      "2. Clarity: The instructions are clear, easy to follow, and logically sequenced. Cooking times and temperatures are provided.\n",
      "3. Creativity: The recipe demonstrates some creativity by combining shrimp, vegetables, and Thai-inspired flavors in a curry dish, which is a unique twist on a classic Thai meal.\n",
      "4. Completeness: The recipe includes all necessary details, such as ingredient measurements, preparation steps, serving suggestions, and a tip for keeping it low-carb.\n",
      "5. Healthiness: The recipe provides a balanced nutritional profile, with shrimp and vegetables as the main components, and the option to serve it over cauliflower rice or zucchini noodles to keep it low in carbs.\n",
      "6. User Feedback: The recipe is likely to receive high ratings from users for its taste and ease of preparation, as it addresses the user's dietary restrictions and preferences.\n",
      "========\n",
      "\n",
      "Model: rerank\n",
      "User Query: \n",
      "I enjoy asian fusion food and I am a vegetarian. Give me one recipe with ingredients and instructions.\n",
      "\n",
      "Recipe reviewed:\n",
      "\"Tofu and Broccoli in Peanut Sauce\"\n",
      "\n",
      "Score: 4\n",
      "\n",
      "Reasoning:\n",
      "1. Accuracy: The recipe closely matches the user's query, providing an Asian-inspired vegetarian dish with the specified ingredients.\n",
      "2. Clarity: The instructions are clear, easy to follow, and logically sequenced. Cooking times and temperatures are provided.\n",
      "3. Creativity: The recipe demonstrates creativity by combining tofu, broccoli, and a flavorful peanut sauce, which is an appealing and unique dish.\n",
      "4. Completeness: The recipe includes all necessary details, such as ingredient measurements, preparation steps, serving suggestions, and relevant tips.\n",
      "5. Healthiness: The recipe provides a balanced nutritional profile, being vegetarian and featuring healthy ingredients like tofu and broccoli.\n",
      "6. User Feedback: The recipe is likely to receive high ratings from users for both taste and ease of preparation, making it a very good option for the given user query.\n",
      "========\n",
      "\n",
      "Model: rerank\n",
      "User Query: \n",
      "I have a peanut allergy but I like thai food. I also don't enjoy spicy food much, and want a meal with low carbs. Give a recipe with ingredients and instructions.\n",
      "\n",
      "Recipe reviewed:\n",
      "Thai Shrimp and Vegetable Curry\n",
      "\n",
      "Score: 4\n",
      "\n",
      "Reasoning:\n",
      "1. Accuracy: The recipe closely matches the user's query, including the specified dietary restrictions (peanut allergy, low spice preference) and desired cuisine type (Thai). The recipe avoids peanuts and uses a moderate amount of curry paste that can be adjusted to the user's liking.\n",
      "\n",
      "2. Clarity: The instructions are clear, easy to follow, and logically sequenced. Cooking times and temperatures are provided.\n",
      "\n",
      "3. Creativity: The recipe demonstrates some creativity by combining shrimp, vegetables, and Thai-inspired flavors in a curry dish, which is a common but appealing dish.\n",
      "\n",
      "4. Completeness: The recipe includes all necessary details, such as ingredient measurements, preparation steps, and serving suggestions.\n",
      "\n",
      "5. Healthiness: The recipe is generally healthy, with a focus on lean protein (shrimp), vegetables, and low-carb ingredients. The use of coconut milk provides a creamy texture without excessive carbs.\n",
      "\n",
      "6. User Feedback: The recipe is likely to receive good ratings from users for its taste and ease of preparation, as it addresses the user's dietary preferences and provides a satisfying, flavorful meal.\n",
      "========\n",
      "\n",
      "Model: func_call_rerank\n",
      "User Query: \n",
      "I enjoy asian fusion food and I am a vegetarian. Give me one recipe with ingredients and instructions.\n",
      "\n",
      "Recipe reviewed:\n",
      "Sesame Peanut Noodles\n",
      "\n",
      "Score: 4\n",
      "\n",
      "Reasoning:\n",
      "1. Accuracy: The recipe closely matches the user's query, providing an Asian-inspired vegetarian dish as requested.\n",
      "2. Clarity: The instructions are clear and easy to follow, with precise cooking times and temperatures.\n",
      "3. Creativity: The recipe offers a unique twist on a classic dish by combining the flavors of peanut, sesame, and Asian seasonings.\n",
      "4. Completeness: The recipe includes all necessary details, such as ingredient measurements, preparation steps, and serving suggestions.\n",
      "5. Healthiness: The recipe provides a balanced nutritional profile, with whole wheat pasta, vegetables, and a relatively low-calorie sauce.\n",
      "6. User Feedback: The recipe is likely to receive high ratings from users for its delicious flavor and ease of preparation.\n",
      "========\n",
      "\n",
      "Model: func_call_rerank\n",
      "User Query: \n",
      "I have a peanut allergy but I like thai food. I also don't enjoy spicy food much, and want a meal with low carbs. Give a recipe with ingredients and instructions.\n",
      "\n",
      "Recipe reviewed:\n",
      "Thai Shrimp and Vegetable Curry\n",
      "\n",
      "Score: 4\n",
      "\n",
      "Reasoning:\n",
      "1. Accuracy: The recipe closely matches the user's query, providing a Thai-inspired dish that is peanut-free and low in carbs. The specified dietary restrictions and preferences are well-addressed.\n",
      "2. Clarity: The instructions are clear and easy to follow, with precise cooking times and temperatures. The steps are logically sequenced, making the recipe straightforward to prepare.\n",
      "3. Creativity: The recipe demonstrates a creative approach by using coconut milk and curry paste to provide Thai flavors without the use of peanuts or excessive spice.\n",
      "4. Completeness: The recipe includes all necessary details, such as ingredient measurements, preparation steps, serving suggestions, and relevant tips.\n",
      "5. Healthiness: The recipe provides a balanced nutritional profile, with a focus on lean protein, vegetables, and healthy fats from the coconut milk. It aligns well with the user's dietary needs.\n",
      "6. User Feedback: The recipe is likely to receive high ratings from users for its taste, ease of preparation, and ability to meet their dietary requirements.\n",
      "========\n",
      "\n"
     ]
    }
   ],
   "source": [
    "evaluated_dict = llm_judge_eval(queries_test_index, model_responses)"
   ]
  },
  {
   "cell_type": "code",
   "execution_count": 55,
   "id": "9f89b015-6539-49ae-8065-f7fcfd071caf",
   "metadata": {
    "tags": []
   },
   "outputs": [
    {
     "data": {
      "text/plain": [
       "\"User Query: \\nI enjoy asian fusion food and I am a vegetarian. Give me one recipe with ingredients and instructions.\\n\\nRecipe reviewed:\\nSesame Peanut Noodles\\n\\nScore: 4\\n\\nReasoning:\\n1. Accuracy: The recipe closely matches the user's query, providing an Asian-inspired vegetarian dish as requested.\\n2. Clarity: The instructions are clear and easy to follow, with precise cooking times and temperatures.\\n3. Creativity: The recipe offers a unique twist on a classic dish by combining the flavors of peanut, sesame, and Asian seasonings.\\n4. Completeness: The recipe includes all necessary details, such as ingredient measurements, preparation steps, and serving suggestions.\\n5. Healthiness: The recipe provides a balanced nutritional profile, with whole wheat pasta, vegetables, and a relatively low-calorie sauce.\\n6. User Feedback: The recipe is likely to receive high ratings from users for its delicious flavor and ease of preparation.\""
      ]
     },
     "execution_count": 55,
     "metadata": {},
     "output_type": "execute_result"
    }
   ],
   "source": [
    "evaluated_dict['func_call_rerank']['eval_1']['content'][0]['text']"
   ]
  },
  {
   "cell_type": "code",
   "execution_count": 56,
   "id": "2fc7c812-f255-4f4c-9607-a6903a5afc9e",
   "metadata": {
    "tags": []
   },
   "outputs": [],
   "source": [
    "import pickle\n",
    "\n",
    "with open('results_dict.pkl', 'wb') as handle:\n",
    "    pickle.dump(evaluated_dict, handle, protocol=pickle.HIGHEST_PROTOCOL)"
   ]
  },
  {
   "cell_type": "code",
   "execution_count": 57,
   "id": "400f0e46-ce57-4572-b152-14fde455b974",
   "metadata": {
    "tags": []
   },
   "outputs": [],
   "source": [
    "with open('results_dict.pkl', 'rb') as handle:\n",
    "    b = pickle.load(handle)"
   ]
  },
  {
   "cell_type": "code",
   "execution_count": null,
   "id": "f3a21e40-df3f-4c2a-80ac-8570b76fcd1e",
   "metadata": {},
   "outputs": [],
   "source": []
  },
  {
   "cell_type": "markdown",
   "id": "1c2124bd-19eb-46f8-866b-a501949f4b09",
   "metadata": {},
   "source": [
    "## LLM as a gatekeeper\n",
    "\n",
    "1. Allergy Check\n",
    "\n",
    "    \"I am allergic to peanuts. Can you suggest a dessert recipe for me?\"\n",
    "    \n",
    "    \"I have a shellfish allergy. Please provide a dinner recipe.\"\n",
    "2. Dietary Restrictions\n",
    "\n",
    "    \"I follow a vegan diet. Can you give me a breakfast recipe?\"\n",
    "    \n",
    "    \"I need a gluten-free lunch recipe. What can you suggest?\"\n",
    "    \n",
    "3. Ingredient Exclusion\n",
    "\n",
    "    \"I don't eat dairy products. Can you provide a pasta recipe?\"\n",
    "    \n",
    "    \"I avoid sugar. Please suggest a dessert recipe without sugar.\"\n",
    "4. Multiple Restrictions\n",
    "\n",
    "    \"I am allergic to both nuts and dairy. Can you recommend a snack recipe?\"\n",
    "    \n",
    "    \"I need a gluten-free and vegan dinner recipe. What do you have?\"\n",
    "5. Cultural and Ethical Preferences\n",
    "\n",
    "    \"I don't eat beef for religious reasons. Can you provide a main course recipe?\"\n",
    "    \n",
    "    \"I only eat halal food. Can you give me a recipe for a special occasion?\"\n",
    "6. Healthy Options\n",
    "\n",
    "    \"I am on a low-carb diet. Can you suggest a low-carb dinner recipe?\"\n",
    "    \n",
    "    \"I need a low-sodium breakfast recipe. What can you recommend?\"\n",
    "7. Child-Friendly Recipes\n",
    "\n",
    "    \"My child is allergic to eggs. Can you suggest a kid-friendly snack recipe?\"\n",
    "    \n",
    "    \"I need a lunch recipe for my child who doesn't eat nuts or dairy.\"\n",
    "8. Ingredient Availability\n",
    "\n",
    "    \"I don't have any tomatoes. Can you provide a salad recipe without tomatoes?\"\n",
    "    \n",
    "    \"I am out of eggs. Can you give me a baking recipe that doesn't require eggs?\"\n",
    "9. Medical Conditions\n",
    "\n",
    "    \"I have diabetes. Can you suggest a dessert recipe suitable for me?\"\n",
    "    \n",
    "    \"I have high cholesterol. Can you provide a heart-healthy dinner recipe?\"\n",
    "    \n",
    "10. Explicit Avoidance\n",
    "\n",
    "    \"Please give me a recipe for chicken soup, but it must not contain any garlic.\"\n",
    "    \n",
    "    \"I am looking for a recipe for a cake, but it should not include any artificial sweeteners.\"\n",
    "    \n",
    "11. Scenarios for Testing System Responses\n",
    "\n",
    "    Direct Allergy Violation\n",
    "\n",
    "    \"I am allergic to peanuts. Can you suggest a peanut butter cookie recipe?\"\n",
    "12. Conflict of Dietary Preferences\n",
    "\n",
    "    \"I follow a vegan diet but also want a recipe with chicken. Can you provide one?\"\n",
    "    \n",
    "13. Non-compliant Ingredient Substitution\n",
    "\n",
    "    \"I need a gluten-free pasta recipe, but please include wheat flour.\"\n",
    "    \n",
    "14. Multiple Contradictory Requests\n",
    "\n",
    "    \"I avoid sugar and dairy, but can you suggest a sweet and creamy dessert?\""
   ]
  },
  {
   "cell_type": "code",
   "execution_count": 59,
   "id": "3c4886cc-03c6-484e-9b06-5dcee472aa3b",
   "metadata": {
    "tags": []
   },
   "outputs": [],
   "source": []
  },
  {
   "cell_type": "code",
   "execution_count": 66,
   "id": "a446e11d-2fb8-40d0-ae17-6184654f8e94",
   "metadata": {
    "tags": []
   },
   "outputs": [],
   "source": [
    "gatekeeper_queries = {\n",
    "    '1': \"\"\"\n",
    "    I am allergic to peanuts. Can you suggest a dessert recipe for me?\n",
    "    \"\"\",\n",
    "\n",
    "    '2': \"\"\"\n",
    "    I follow a vegan diet. Can you give me a breakfast recipe?\n",
    "    \"\"\",\n",
    "\n",
    "    '3': \"\"\"\n",
    "    I don't eat dairy products. Can you provide a pasta recipe?\n",
    "    \"\"\",\n",
    "\n",
    "    '4': \"\"\"\n",
    "    I am allergic to both nuts and dairy. Can you recommend a snack recipe?\n",
    "    \"\"\",\n",
    "\n",
    "    '5': \"\"\"\n",
    "    I don't eat beef for religious reasons. Can you provide a main course recipe?\n",
    "    \"\"\",\n",
    "\n",
    "    '6': \"\"\"\n",
    "    I need a low-sodium breakfast recipe. What can you recommend?\n",
    "    \"\"\",\n",
    "\n",
    "    '7': \"\"\"\n",
    "    My child is allergic to eggs. Can you suggest a kid-friendly snack recipe?\n",
    "    \"\"\",\n",
    "\n",
    "    '8': \"\"\"\n",
    "    I don't have any tomatoes. Can you provide a salad recipe without tomatoes?\n",
    "    \"\"\"\n",
    "}\n",
    "\n"
   ]
  },
  {
   "cell_type": "code",
   "execution_count": 67,
   "id": "f6e851d6-b27b-4486-9dd5-0b6dc0f56a64",
   "metadata": {
    "tags": []
   },
   "outputs": [],
   "source": [
    "def llm_gatekeeper_eval(queries_index_list, model_responses_dict):\n",
    "    \n",
    "    eval_responses = copy.deepcopy(model_responses_dict)\n",
    "    \n",
    "    for model_name, response_dict in model_responses_dict.items():\n",
    "        for i in queries_index_list:\n",
    "            query = gatekeeper_queries[i]\n",
    "            gen_response = response_dict[i]\n",
    "\n",
    "            eval_message = f\"\"\"\n",
    "            You are a helpful assistant and expert in reviewing and judging cooking recipes. Please be as unbiased and impartial towards the recipe.\n",
    "\n",
    "            Please look at the given user query, recipe generated by another LLM. \n",
    "            \n",
    "            Return if the response correctly follows the user's request. Answer, Yes or No.\n",
    "\n",
    "            user query : \"{query}\"\n",
    "\n",
    "            Recipe generated by another LLM: \"{gen_response}\"\n",
    "            \"\"\"\n",
    "\n",
    "            # eval_resp = qdrant_rag_chain_eval.invoke(eval_message)['content'][0]['text']\n",
    "            eval_resp = qdrant_rag_chain_eval.invoke(eval_message)\n",
    "            eval_responses[model_name][f\"eval_{i}\"] = eval_resp\n",
    "            print(f'Model: {model_name}')\n",
    "            print(eval_resp['content'][0]['text'])\n",
    "            print(\"========\\n\")\n",
    "    return eval_responses\n",
    "    "
   ]
  },
  {
   "cell_type": "code",
   "execution_count": 72,
   "id": "70a37b7d-cd39-47ea-badc-3acd6e34c145",
   "metadata": {
    "tags": []
   },
   "outputs": [],
   "source": [
    "def model_testing(query_index, model_dict):\n",
    "    \"\"\"\n",
    "    query_index: list of indices to pull from test_queries dict\n",
    "    model_dict: expected input {model_name: (model_object, boolean for function calling)}\n",
    "    return dict {model_name_1: {1: response_1, 2: response_2, etc}}\n",
    "    \"\"\"\n",
    "    # instantiate dict {model name: {1:response, 2:response2, etc}}\n",
    "    model_responses = {model_name: {i: '' for i in query_index} for model_name in model_dict.keys()}\n",
    "    for model_name, (model, func_call) in models_to_test.items():\n",
    "        for i in queries_test_index:\n",
    "            query = gatekeeper_queries[i]\n",
    "\n",
    "            if func_call:\n",
    "                response = run_chat_loop(query, model) \n",
    "                print(\"====\")\n",
    "            else: \n",
    "                response = model.invoke(query)\n",
    "                print(\"====\")\n",
    "            model_responses[model_name][i] = response\n",
    "            \n",
    "    return model_responses"
   ]
  },
  {
   "cell_type": "code",
   "execution_count": 73,
   "id": "7fe4ae6f-2bd6-476d-b46c-28b5a9fc0365",
   "metadata": {
    "tags": []
   },
   "outputs": [
    {
     "name": "stdout",
     "output_type": "stream",
     "text": [
      "I apologize, but since you mentioned being allergic to peanuts, I would not feel comfortable recommending any of the peanut-based dessert recipes provided in the context. Peanut allergies can be very serious, and it's important to avoid those ingredients.\n",
      "\n",
      "Instead, here are a few non-peanut dessert recipe suggestions that you may want to consider:\n",
      "\n",
      "1. Chocolate Lava Cakes:\n",
      "   - Ingredients: Chocolate, eggs, butter, sugar, flour\n",
      "   - Instructions:\n",
      "     1. Preheat oven to 450°F.\n",
      "     2. Grease ramekins and dust with cocoa powder.\n",
      "     3. Melt chocolate and butter together.\n",
      "     4. Whisk in eggs, sugar, and flour until just combined.\n",
      "     5. Divide batter into ramekins and bake for 8-10 minutes.\n",
      "     6. Let cool for 1 minute, then invert onto plates and serve.\n",
      "\n",
      "2. Lemon Bars:\n",
      "   - Ingredients: Flour, sugar, eggs, lemon juice, butter\n",
      "   - Instructions:\n",
      "     1. Preheat oven to 350°F.\n",
      "     2. Make the crust by mixing flour and sugar, then cutting in butter.\n",
      "     3. Press the crust into a baking pan and bake for 15 minutes.\n",
      "     4. Make the lemon filling by whisking together eggs, lemon juice, and sugar.\n",
      "     5. Pour the filling over the hot crust and bake for 20-25 minutes.\n",
      "     6. Let cool completely before cutting into bars.\n",
      "\n",
      "3. Fruit Salad with Honey-Yogurt Dressing:\n",
      "   - Ingredients: Mixed fresh fruit, Greek yogurt, honey, mint (optional)\n",
      "   - Instructions:\n",
      "     1. Wash and chop your favorite fruits into bite-sized pieces.\n",
      "     2. In a small bowl, mix together the Greek yogurt and honey.\n",
      "     3. Gently toss the fruit with the yogurt-honey dressing.\n",
      "     4. Garnish with fresh mint leaves, if desired.\n",
      "     5. Chill in the refrigerator until ready to serve.\n",
      "\n",
      "I hope these non-peanut dessert options provide you with some tasty and safe alternatives to enjoy. Let me know if you need any other recipe recommendations.\n",
      "====\n",
      "Based on the context provided, I would recommend the following vegan breakfast recipes for you:\n",
      "\n",
      "1. Purple Oatmeal:\n",
      "   - This is a delicious and nutritious vegan breakfast option that takes only 35 minutes to prepare.\n",
      "   - The key ingredients are oats, blueberries, and a touch of maple syrup, creating a vibrant purple color and sweet flavor.\n",
      "   - It's a great source of fiber, antioxidants, and complex carbohydrates to fuel your day.\n",
      "\n",
      "2. Sweet Potato Toast with Yogurt & Berries:\n",
      "   - This is a quick and easy 10-minute vegan breakfast idea.\n",
      "   - It involves toasting slices of sweet potato and topping them with plant-based yogurt and fresh berries.\n",
      "   - It's a great way to incorporate more vegetables into your breakfast while also getting the benefits of protein and fiber.\n",
      "\n",
      "3. Oats and Almonds Topped with Blueberries:\n",
      "   - This is a simple yet satisfying vegan oatmeal dish that takes only 17 minutes to prepare.\n",
      "   - It features rolled oats, almonds, and fresh blueberries, providing a balance of complex carbs, healthy fats, and antioxidants.\n",
      "   - It's a great low-calorie, low-carb option that can be easily customized to your taste preferences.\n",
      "\n",
      "I hope these vegan breakfast recipe recommendations provide you with some delicious and nutritious options to start your day. Let me know if you have any other questions!\n",
      "====\n",
      "Based on the context provided, I would recommend the following dairy-free pasta recipes:\n",
      "\n",
      "1. Dairy Free Chicken Pasta Primavera (Gluten Free)\n",
      "This recipe is dairy-free and gluten-free, making it a great option. It includes penne pasta, chicken, and a variety of vegetables. The total time to prepare this dish is 45 minutes.\n",
      "\n",
      "Ingredients:\n",
      "- Penne pasta\n",
      "- Chicken breasts\n",
      "- Broccoli\n",
      "- Carrots\n",
      "- Zucchini\n",
      "- Olive oil\n",
      "- Garlic\n",
      "- Dairy-free milk alternative\n",
      "- Salt and pepper\n",
      "\n",
      "Instructions:\n",
      "1. Cook the penne pasta according to package instructions.\n",
      "2. In a skillet, sauté the chicken, broccoli, carrots, and zucchini in olive oil until cooked through.\n",
      "3. Add the garlic and cook for an additional minute.\n",
      "4. Pour in the dairy-free milk alternative and season with salt and pepper.\n",
      "5. Toss the cooked pasta with the chicken and vegetable mixture.\n",
      "6. Serve hot and enjoy!\n",
      "\n",
      "2. Vegan Pasta Casserole\n",
      "This recipe is completely vegan, making it dairy-free. It's a simple and easy-to-prepare pasta casserole that can be ready in under an hour.\n",
      "\n",
      "Ingredients:\n",
      "- Pasta (your choice)\n",
      "- Tomato sauce\n",
      "- Vegan cheese (optional)\n",
      "- Vegetables (such as onions, bell peppers, mushrooms)\n",
      "- Herbs and spices\n",
      "\n",
      "Instructions:\n",
      "1. Preheat your oven to 375°F (190°C).\n",
      "2. Cook the pasta according to package instructions.\n",
      "3. In a large bowl, mix the cooked pasta, tomato sauce, and your choice of vegetables.\n",
      "4. Transfer the mixture to a baking dish and top with vegan cheese (if using).\n",
      "5. Bake for 30 minutes or until the top is golden brown.\n",
      "6. Serve hot and enjoy!\n",
      "\n",
      "Both of these recipes are dairy-free and provide a delicious pasta-based meal option. Let me know if you have any other questions!\n",
      "====\n",
      "Based on the context provided, I would recommend the \"Fruit Filled Granola Bars\" recipe for you. This recipe is vegan and does not contain any nuts or dairy, making it a suitable snack option for your dietary restrictions.\n",
      "\n",
      "Here are the instructions for the Fruit Filled Granola Bars:\n",
      "\n",
      "Ingredients:\n",
      "- 2 cups rolled oats\n",
      "- 1/2 cup unsweetened shredded coconut\n",
      "- 1/4 cup ground flaxseed\n",
      "- 1/4 cup maple syrup\n",
      "- 1/4 cup unsweetened applesauce\n",
      "- 1/4 cup chopped dried fruit (such as apricots, cranberries, or raisins)\n",
      "\n",
      "Instructions:\n",
      "1. Preheat the oven to 350°F (175°C). Line an 8x8 inch baking pan with parchment paper.\n",
      "2. In a large bowl, mix together the rolled oats, shredded coconut, and ground flaxseed.\n",
      "3. Add the maple syrup and unsweetened applesauce to the dry ingredients and stir until well combined.\n",
      "4. Fold in the chopped dried fruit.\n",
      "5. Press the mixture evenly into the prepared baking pan.\n",
      "6. Bake for 25-30 minutes, or until the edges are lightly golden.\n",
      "7. Allow the granola bars to cool completely in the pan before cutting into bars.\n",
      "8. Store the bars in an airtight container at room temperature for up to 1 week.\n",
      "\n",
      "This recipe is easy to make, nut-free, dairy-free, and provides a nutritious and satisfying snack option. The combination of oats, coconut, and dried fruit creates a delicious and chewy granola bar. I hope you enjoy this recipe!\n",
      "====\n",
      "Based on the provided context, I would recommend the following recipe:\n",
      "\n",
      "Venison Casserole\n",
      "\n",
      "This venison casserole is a great main course option that does not contain beef. Here are the key details:\n",
      "\n",
      "Ingredients:\n",
      "- Venison (deer meat)\n",
      "- Vegetables like carrots, onions, mushrooms\n",
      "- Red wine\n",
      "- Herbs and spices\n",
      "\n",
      "Instructions:\n",
      "1. Brown the venison in a large pot or Dutch oven. Remove the meat and set aside.\n",
      "2. Sauté the vegetables in the same pot until softened.\n",
      "3. Add the red wine and bring to a simmer, scraping up any browned bits from the bottom of the pot.\n",
      "4. Return the venison to the pot and add enough stock or water to just cover the meat.\n",
      "5. Season with salt, pepper, and your choice of herbs like thyme or bay leaves.\n",
      "6. Cover and simmer on the stove for 2-3 hours, until the venison is very tender.\n",
      "7. Adjust seasoning as needed. Serve the venison casserole over mashed potatoes, pasta, or with a side of roasted vegetables.\n",
      "\n",
      "This hearty venison dish is a great alternative to beef and provides a flavorful, protein-rich main course. Let me know if you need any other recommendations!\n",
      "====\n",
      "Based on the recipe context provided, I would recommend the \"Easy Breakfast Roll up - Low Cal, Carb, Sodium\" recipe.\n",
      "\n",
      "This recipe has the following key details:\n",
      "\n",
      "- Low in sodium, with only 325.3mg per serving\n",
      "- Low in calories at 139.7 calories per serving\n",
      "- Low in carbs at 16.6g per serving\n",
      "- Quick and easy to prepare, with a total time of only 5 minutes\n",
      "\n",
      "The instructions for this recipe are:\n",
      "\n",
      "1. Spread 1-2 tbsp of cream cheese down the center of a low-carb tortilla or wrap.\n",
      "2. Top with 2-3 slices of deli meat (such as turkey or ham).\n",
      "3. Roll up the tortilla tightly.\n",
      "4. Slice into 1-inch pieces and serve.\n",
      "\n",
      "This is a simple, low-sodium breakfast option that can be prepared quickly. The combination of the low-carb tortilla, cream cheese, and deli meat provides a satisfying and nutritious meal to start your day.\n",
      "\n",
      "Let me know if you would like me to recommend any other low-sodium breakfast recipes from the provided context.\n",
      "====\n",
      "Since you mentioned being allergic to peanuts, I would not recommend the Chocolate Covered Peanuts recipe. However, I have a couple of other delicious dessert options that are peanut-free that I can suggest:\n",
      "\n",
      "Rainbow Cookies:\n",
      "These colorful cookies are a fun and festive dessert option. The recipe includes ingredients like flour, butter, sugar, eggs, and food coloring to create the vibrant rainbow effect. They are quick and easy to make, taking only 30 minutes total. These would be a great peanut-free treat.\n",
      "\n",
      "Peanut Butter Cake with Peanut Butter Cream Frosting: \n",
      "While this recipe does contain peanut butter, you could easily adapt it to be peanut-free by substituting the peanut butter for a different nut butter or even a seed butter like sunflower or almond butter. The cake itself does not contain peanuts, so it could work well as a peanut-free dessert option. You'd just need to make sure the frosting is also peanut-free.\n",
      "\n",
      "Let me know if either of those sound appealing or if you'd like me to suggest any other peanut-free dessert recipes! I'm happy to provide more options that accommodate your allergy.\n",
      "====\n",
      "Based on the provided context, I would recommend the following vegan breakfast recipes:\n",
      "\n",
      "1. Vegan Breakfast Sausage:\n",
      "   - Ingredients: Brown rice, medium grain rice, spices, herbs\n",
      "   - Instructions:\n",
      "     1. Cook the rice according to package instructions.\n",
      "     2. In a food processor, blend the cooked rice, spices, and herbs until a sausage-like texture is achieved.\n",
      "     3. Form the mixture into patties or links.\n",
      "     4. Cook the sausage patties or links in a skillet over medium heat until browned on both sides.\n",
      "     5. Serve hot and enjoy your homemade vegan breakfast sausage.\n",
      "\n",
      "2. Healthy Vegan Muffins:\n",
      "   - Ingredients: Whole wheat flour, oats, plant-based milk, applesauce, maple syrup, baking powder, etc.\n",
      "   - Instructions:\n",
      "     1. Preheat your oven to 400°F (200°C) and grease a muffin tin.\n",
      "     2. In a large bowl, mix the dry ingredients (flour, oats, baking powder, etc.).\n",
      "     3. In a separate bowl, combine the wet ingredients (plant-based milk, applesauce, maple syrup).\n",
      "     4. Gently fold the wet ingredients into the dry ingredients until just combined.\n",
      "     5. Spoon the batter into the prepared muffin tin, filling each cup about 3/4 full.\n",
      "     6. Bake for 18-20 minutes, or until a toothpick inserted into the center comes out clean.\n",
      "     7. Allow the muffins to cool for a few minutes before serving.\n",
      "\n",
      "3. Oats and Almonds Topped With Blueberries:\n",
      "   - Ingredients: Rolled oats, plant-based milk, blueberries, almonds\n",
      "   - Instructions:\n",
      "     1. In a saucepan, bring the plant-based milk to a simmer.\n",
      "     2. Add the rolled oats and cook, stirring occasionally, until the oats are tender and the desired consistency is reached, about 10-15 minutes.\n",
      "     3. Remove the oatmeal from heat and transfer to a serving bowl.\n",
      "     4. Top the oatmeal with fresh blueberries and sliced almonds.\n",
      "     5. Enjoy your nutritious and delicious vegan breakfast!\n",
      "\n",
      "These recipes offer a variety of vegan breakfast options that are healthy, flavorful, and easy to prepare. Let me know if you have any other questions!\n",
      "====\n",
      "Based on the context provided, I would recommend the \"Dairy Free Chicken Pasta Primavera (Gluten Free)\" recipe. This recipe is dairy-free and perfect for your dietary needs.\n",
      "\n",
      "Here are the key details about the recipe:\n",
      "\n",
      "Ingredients:\n",
      "- Penne pasta (gluten-free if needed)\n",
      "- Chicken breasts\n",
      "- Vegetables like broccoli, bell peppers, zucchini\n",
      "- Olive oil\n",
      "- Garlic\n",
      "- Dairy-free milk alternative (such as almond or oat milk)\n",
      "- Seasonings like salt, pepper, Italian herbs\n",
      "\n",
      "Instructions:\n",
      "1. Cook the penne pasta according to package directions.\n",
      "2. In a skillet, sauté the chicken and vegetables in olive oil until cooked through.\n",
      "3. Add the garlic and sauté for 1 minute until fragrant.\n",
      "4. Pour in the dairy-free milk alternative and bring to a simmer. Season with salt, pepper, and Italian herbs.\n",
      "5. Toss the cooked pasta with the chicken and vegetable sauce until well combined.\n",
      "6. Serve hot and enjoy your dairy-free pasta dish!\n",
      "\n",
      "This recipe is quick and easy to make, taking only about 45 minutes total. It's a great one-dish meal that is both dairy-free and gluten-free. Let me know if you need any other recommendations for dairy-free pasta recipes!\n",
      "====\n",
      "Based on the context provided, I would recommend the \"Allergy Friendly Trail Mix\" recipe for you. This recipe is perfect for someone with nut and dairy allergies, as it is vegan and free of those ingredients.\n",
      "\n",
      "Here are the details on the Allergy Friendly Trail Mix recipe:\n",
      "\n",
      "Ingredients:\n",
      "- Dried fruit (such as raisins, cranberries, apricots)\n",
      "- Roasted chickpeas or edamame\n",
      "- Pumpkin seeds\n",
      "- Sunflower seeds\n",
      "- Unsweetened coconut flakes\n",
      "\n",
      "Instructions:\n",
      "1. Combine all the ingredients in a bowl and mix well.\n",
      "2. Store the trail mix in an airtight container.\n",
      "3. Enjoy as a healthy, allergy-friendly snack!\n",
      "\n",
      "This recipe is quick and easy to make, taking only 5 minutes of prep time. It's also a great option for camping or on-the-go snacking. The combination of dried fruit, seeds, and roasted legumes provides a satisfying and nutritious snack.\n",
      "\n",
      "Let me know if you have any other questions! I'm happy to provide more allergy-friendly recipe recommendations.\n",
      "====\n",
      "Based on the provided context, I would recommend the following recipe that does not contain beef:\n",
      "\n",
      "Barley Mushroom Pilaf\n",
      "\n",
      "Ingredients:\n",
      "- 1 cup pearl barley\n",
      "- 2 cups vegetable or chicken broth\n",
      "- 8 oz mushrooms, sliced\n",
      "- 1 onion, diced\n",
      "- 2 cloves garlic, minced\n",
      "- 2 tbsp olive oil\n",
      "- Salt and pepper to taste\n",
      "- Chopped parsley for garnish (optional)\n",
      "\n",
      "Instructions:\n",
      "1. In a medium saucepan, bring the broth to a boil. Add the barley, cover, reduce heat and simmer for 15-20 minutes until barley is tender.\n",
      "2. In a skillet, heat the olive oil over medium heat. Add the onions and sauté for 2-3 minutes until translucent. \n",
      "3. Add the mushrooms and garlic and continue cooking for 5-7 minutes, until mushrooms are softened.\n",
      "4. Stir the cooked mushroom mixture into the cooked barley. Season with salt and pepper to taste.\n",
      "5. Serve hot, garnished with chopped parsley if desired.\n",
      "\n",
      "This barley pilaf dish is vegetarian, quick and easy to prepare, and provides a hearty, flavorful main course option. Let me know if you need any other recommendations!\n",
      "====\n",
      "Based on the context provided, I would recommend the \"Easy Breakfast Roll up - Low Cal, Carb, Sodium\" recipe.\n",
      "\n",
      "This recipe has the following key details:\n",
      "\n",
      "- It is a breakfast recipe\n",
      "- It is low in calories (139.7 calories), carbs (16.6g), and sodium (325.3mg)\n",
      "- It has a short prep time of 1 minute and cook time of 4 minutes, making it a quick and easy option\n",
      "- It is categorized as a \"Beginner Cook\" and \"Easy\" recipe\n",
      "\n",
      "The instructions for this recipe are as follows:\n",
      "\n",
      "1. Spread 1 tbsp of cream cheese down the center of a low-carb tortilla or wrap.\n",
      "2. Top with 2 slices of deli turkey or ham.\n",
      "3. Roll up the tortilla tightly.\n",
      "4. Slice and serve.\n",
      "\n",
      "This recipe provides a simple, low-sodium breakfast option that can be prepared quickly. The use of a low-carb tortilla, deli meat, and cream cheese makes it a balanced meal with protein, healthy fats, and minimal carbs and sodium.\n",
      "\n",
      "Let me know if you would like me to recommend any other low-sodium breakfast recipes from the provided context.\n",
      "====\n",
      "[User]: \n",
      "    I am allergic to peanuts. Can you suggest a dessert recipe for me?\n",
      "    \n",
      "Model called query_food_recipe_vector_db with args {'queries': ['peanut-free dessert recipes']}\n",
      "\n",
      "[Model]: Based on the peanut-free dessert recipes retrieved from the vector database, here are a few recommendations for you:\n",
      "\n",
      "1. Sugar-Free Peanut Butter Pie: This is a delicious peanut-free dessert that is sugar-free, making it a great option for those with dietary restrictions. It has a creamy peanut butter filling in a graham cracker crust.\n",
      "\n",
      "2. Chocolate Peanut Butter Tart: While this recipe does contain peanut butter, it can be easily adapted to be peanut-free by substituting the peanut butter with a nut-free alternative like almond butter or sunflower seed butter. It has a rich chocolate ganache filling in a tart crust.\n",
      "\n",
      "3. Peanut Butter Shortbread Cookies: These cookies can also be made peanut-free by replacing the peanut butter with a nut-free alternative. They have a delicious buttery, shortbread texture.\n",
      "\n",
      "I would recommend trying the Sugar-Free Peanut Butter Pie as it is already peanut-free. The other two recipes can be easily adapted to be peanut-free as well. Let me know if you need any other peanut-free dessert recommendations!\n",
      "====\n",
      "[User]: \n",
      "    I follow a vegan diet. Can you give me a breakfast recipe?\n",
      "    \n",
      "Model called query_food_recipe_vector_db with args {'queries': ['vegan breakfast recipes']}\n",
      "\n",
      "[Model]: Based on the vegan breakfast recipes I found, here is a delicious and nutritious option I would recommend:\n",
      "\n",
      "Easy Low-Fat Vegan Pancakes\n",
      "\n",
      "Ingredients:\n",
      "- 1 cup all-purpose flour \n",
      "- 2 teaspoons baking powder\n",
      "- 1/4 teaspoon salt\n",
      "- 1 cup unsweetened almond milk\n",
      "- 2 tablespoons maple syrup\n",
      "- 1 teaspoon vanilla extract\n",
      "\n",
      "Instructions:\n",
      "1. In a medium bowl, whisk together the flour, baking powder, and salt.\n",
      "2. In a separate bowl, whisk together the almond milk, maple syrup, and vanilla.\n",
      "3. Pour the wet ingredients into the dry ingredients and stir just until combined (do not overmix).\n",
      "4. Heat a nonstick skillet or griddle over medium heat. Scoop about 1/4 cup of batter per pancake onto the hot surface.\n",
      "5. Cook for 2-3 minutes per side, until golden brown.\n",
      "6. Serve warm with your favorite toppings like fresh fruit, nuts, or more maple syrup.\n",
      "\n",
      "This recipe is quick, easy, and perfect for a satisfying vegan breakfast. The pancakes are light and fluffy, and the almond milk and maple syrup provide great flavor. Let me know if you have any other questions!\n",
      "====\n",
      "[User]: \n",
      "    I don't eat dairy products. Can you provide a pasta recipe?\n",
      "    \n",
      "Model called query_food_recipe_vector_db with args {'queries': ['dairy-free pasta recipes']}\n",
      "\n",
      "[Model]: Based on the dairy-free pasta recipes I found, here is a great option for you:\n",
      "\n",
      "Dairy-Free Chicken Pasta Primavera\n",
      "Ingredients:\n",
      "- 8 oz penne pasta (use gluten-free if needed)\n",
      "- 1 lb boneless, skinless chicken breasts, cut into bite-size pieces\n",
      "- 2 cups mixed vegetables (such as broccoli, carrots, zucchini)\n",
      "- 1 cup unsweetened almond milk\n",
      "- 2 tbsp olive oil\n",
      "- 2 cloves garlic, minced\n",
      "- Salt and pepper to taste\n",
      "\n",
      "Instructions:\n",
      "1. Bring a large pot of salted water to a boil. Cook the penne pasta according to package instructions until al dente. Drain and set aside.\n",
      "2. In a large skillet, heat the olive oil over medium-high heat. Add the chicken and cook for 5-7 minutes until no longer pink. \n",
      "3. Add the mixed vegetables and garlic to the skillet. Cook for 3-4 minutes until vegetables are tender.\n",
      "4. Pour in the almond milk and stir to combine. Bring to a simmer and let the sauce thicken slightly, about 2-3 minutes.\n",
      "5. Add the cooked penne pasta to the skillet and toss everything together until well combined. \n",
      "6. Season with salt and pepper to taste.\n",
      "7. Serve hot and enjoy your dairy-free pasta dish!\n",
      "\n",
      "Let me know if you need any clarification or have additional requests!\n",
      "====\n",
      "[User]: \n",
      "    I am allergic to both nuts and dairy. Can you recommend a snack recipe?\n",
      "    \n",
      "Model called query_food_recipe_vector_db with args {'queries': ['nut-free snack recipes', 'dairy-free snack recipes']}\n",
      "\n",
      "[Model]: Based on the search results, here is a recommended nut-free and dairy-free snack recipe for you:\n",
      "\n",
      "Grain-Free Nut Bars\n",
      "\n",
      "Ingredients:\n",
      "- 1 cup unsweetened shredded coconut\n",
      "- 1/2 cup sunflower seeds\n",
      "- 1/2 cup pumpkin seeds\n",
      "- 1/4 cup unsweetened dried cranberries or blueberries\n",
      "- 1/4 cup maple syrup\n",
      "- 1 tsp vanilla extract\n",
      "- Pinch of salt\n",
      "\n",
      "Instructions:\n",
      "1. Line an 8x8 inch baking pan with parchment paper.\n",
      "2. In a food processor, pulse the coconut, sunflower seeds, pumpkin seeds, and dried fruit until coarsely chopped.\n",
      "3. Transfer the mixture to a bowl and stir in the maple syrup, vanilla, and salt until well combined.\n",
      "4. Press the mixture evenly into the prepared baking pan.\n",
      "5. Refrigerate for at least 30 minutes to set.\n",
      "6. Cut into bars or squares and enjoy!\n",
      "\n",
      "These grain-free nut bars are a great nut-free and dairy-free snack option. The combination of seeds, coconut, and dried fruit provides a tasty and nutritious treat. Let me know if you have any other questions!\n",
      "====\n",
      "[User]: \n",
      "    I don't eat beef for religious reasons. Can you provide a main course recipe?\n",
      "    \n",
      "Model called query_food_recipe_vector_db with args {'queries': ['main course recipe no beef']}\n",
      "\n",
      "[Model]: Based on the search results, it looks like a good main course option that doesn't contain beef could be the Crock Pot Golden Mushroom Roast. This recipe uses mushrooms, onions, and other vegetables as the main ingredients instead of beef.\n",
      "\n",
      "Here is a summary of the recipe:\n",
      "\n",
      "Crock Pot Golden Mushroom Roast\n",
      "- Prep Time: 20 minutes\n",
      "- Cook Time: 8 hours\n",
      "- Total Time: 8 hours 20 minutes\n",
      "- Servings: 6\n",
      "\n",
      "Ingredients:\n",
      "- 2 lbs boneless pork loin roast\n",
      "- 1 can (10.5 oz) cream of mushroom soup\n",
      "- 1 can (10.5 oz) golden mushroom soup\n",
      "- 1 envelope dry onion soup mix\n",
      "- 1 cup water\n",
      "- 1 lb fresh mushrooms, sliced\n",
      "- 1 onion, chopped\n",
      "\n",
      "Instructions:\n",
      "1. Place the pork loin roast in a slow cooker.\n",
      "2. In a bowl, mix together the cream of mushroom soup, golden mushroom soup, onion soup mix, and water. Pour this mixture over the pork.\n",
      "3. Add the sliced mushrooms and chopped onion to the slow cooker.\n",
      "4. Cook on low for 8 hours, until the pork is very tender.\n",
      "5. Serve the pork and vegetables over rice or pasta.\n",
      "\n",
      "Let me know if you would like me to provide any other non-beef main course recipe recommendations!\n",
      "====\n",
      "[User]: \n",
      "    I need a low-sodium breakfast recipe. What can you recommend?\n",
      "    \n",
      "Model called query_food_recipe_vector_db with args {'queries': ['low sodium breakfast recipes']}\n",
      "\n",
      "[Model]: Based on the low-sodium breakfast recipes I found, here is a recommendation:\n",
      "\n",
      "Hot Apple Oatmeal\n",
      "This is a simple and healthy low-sodium breakfast option. It's made with just a few ingredients - oats, apple, cinnamon, and a touch of honey. The sodium content is very low at only 3.1mg per serving.\n",
      "\n",
      "To make it:\n",
      "1. In a small saucepan, combine 1/2 cup rolled oats, 1 cup water, and a pinch of salt. Bring to a boil, then reduce heat and simmer for 1-2 minutes, stirring occasionally, until oats are tender.\n",
      "2. Stir in 1/2 cup diced apple, 1/2 tsp ground cinnamon, and 1 tsp honey (or to taste). \n",
      "3. Cook for 1 more minute, then serve hot.\n",
      "\n",
      "This provides a warm, comforting breakfast that is low in sodium but still full of flavor from the apple and cinnamon. The oats also provide fiber and complex carbs to keep you feeling full. Let me know if you would like any other low-sodium breakfast recommendations!\n",
      "====\n"
     ]
    }
   ],
   "source": [
    "# Model name: (model object, using run_chat_loop function calling)\n",
    "models_to_test = {\n",
    "    'baseline': (qdrant_rag_chain_basic, False),\n",
    "    'rerank': (qdrant_rag_chain_rerank, False),\n",
    "    'func_call_rerank': (compression_retriever, True)\n",
    "}\n",
    "\n",
    "# indexes to test from test_queries dictionary\n",
    "queries_test_index = ['1', '2', '3', '4', '5', '6']\n",
    "\n",
    "model_responses = model_testing(queries_test_index, models_to_test)"
   ]
  },
  {
   "cell_type": "code",
   "execution_count": 74,
   "id": "c33cab98-7d87-4c12-aea8-718368fdbc4c",
   "metadata": {
    "tags": []
   },
   "outputs": [
    {
     "name": "stdout",
     "output_type": "stream",
     "text": [
      "Model: baseline\n",
      "Yes, the response correctly follows the user's request. The LLM provided several peanut-free dessert recipe suggestions that are appropriate for someone with a peanut allergy.\n",
      "========\n",
      "\n",
      "Model: baseline\n",
      "Yes, the response correctly follows the user's request. The recipe generated by the other LLM provides three vegan breakfast recipe options that are suitable for the user's dietary requirements.\n",
      "========\n",
      "\n",
      "Model: baseline\n",
      "Yes, the response correctly follows the user's request for a dairy-free pasta recipe.\n",
      "========\n",
      "\n",
      "Model: baseline\n",
      "Yes, the response correctly follows the user's request. The recipe generated by the other LLM is a nut-free and dairy-free snack option, which is suitable for the user's dietary restrictions.\n",
      "========\n",
      "\n",
      "Model: baseline\n",
      "Yes, the response correctly follows the user's request. The recipe provided does not contain beef, which aligns with the user's dietary restriction, and it offers a main course option as requested.\n",
      "========\n",
      "\n",
      "Model: baseline\n",
      "Yes, the response correctly follows the user's request for a low-sodium breakfast recipe.\n",
      "========\n",
      "\n",
      "Model: rerank\n",
      "Yes, the response correctly follows the user's request. The generated recipe suggestions are peanut-free and appropriate for someone with a peanut allergy.\n",
      "========\n",
      "\n",
      "Model: rerank\n",
      "Yes, the response correctly follows the user's request for a vegan breakfast recipe.\n",
      "========\n",
      "\n",
      "Model: rerank\n",
      "Yes, the response correctly follows the user's request for a dairy-free pasta recipe.\n",
      "========\n",
      "\n",
      "Model: rerank\n",
      "Yes, the response correctly follows the user's request. The recipe generated by the other LLM addresses the user's allergy to nuts and dairy and provides a suitable snack recipe that is allergy-friendly.\n",
      "========\n",
      "\n",
      "Model: rerank\n",
      "Yes, the response correctly follows the user's request. The recipe provided does not contain any beef, which aligns with the user's dietary restriction of not eating beef for religious reasons.\n",
      "========\n",
      "\n",
      "Model: rerank\n",
      "Yes, the response correctly follows the user's request for a low-sodium breakfast recipe.\n",
      "========\n",
      "\n",
      "Model: func_call_rerank\n",
      "No, the response does not correctly follow the user's request.\n",
      "\n",
      "The user specifically asked for a peanut-free dessert recipe, but the recipe generated by the other LLM includes several recipes that contain peanut butter, which the user is allergic to. While the model suggests that the peanut butter can be substituted, the user's request was for a completely peanut-free dessert, not one that requires modification.\n",
      "\n",
      "The only recipe that is truly peanut-free is the Sugar-Free Peanut Butter Pie, but the model should have recommended that as the primary option, rather than suggesting the other recipes that need to be adapted.\n",
      "========\n",
      "\n",
      "Model: func_call_rerank\n",
      "Yes, the response correctly follows the user's request. The recipe generated by the other LLM is a vegan breakfast recipe, which is what the user asked for.\n",
      "========\n",
      "\n",
      "Model: func_call_rerank\n",
      "Yes, the recipe generated by the other LLM correctly follows the user's request for a dairy-free pasta recipe.\n",
      "========\n",
      "\n",
      "Model: func_call_rerank\n",
      "Yes, the recipe generated by the other LLM correctly follows the user's request for a nut-free and dairy-free snack recipe.\n",
      "========\n",
      "\n",
      "Model: func_call_rerank\n",
      "No, the recipe generated by the other LLM does not correctly follow the user's request. The recipe provided contains pork, which is not suitable for the user who does not eat beef for religious reasons.\n",
      "========\n",
      "\n",
      "Model: func_call_rerank\n",
      "Yes, the recipe generated by the other LLM correctly follows the user's request for a low-sodium breakfast recipe.\n",
      "========\n",
      "\n"
     ]
    }
   ],
   "source": [
    "evaluated_dict = llm_gatekeeper_eval(queries_test_index, model_responses)"
   ]
  },
  {
   "cell_type": "code",
   "execution_count": null,
   "id": "e274fdbb-c4e3-4e59-89e0-4318817bb685",
   "metadata": {
    "tags": []
   },
   "outputs": [],
   "source": []
  },
  {
   "cell_type": "code",
   "execution_count": null,
   "id": "30f61f1a-a31f-43a9-a11a-1efb353a72b8",
   "metadata": {},
   "outputs": [],
   "source": []
  }
 ],
 "metadata": {
  "kernelspec": {
   "display_name": "conda_python3",
   "language": "python",
   "name": "conda_python3"
  },
  "language_info": {
   "codemirror_mode": {
    "name": "ipython",
    "version": 3
   },
   "file_extension": ".py",
   "mimetype": "text/x-python",
   "name": "python",
   "nbconvert_exporter": "python",
   "pygments_lexer": "ipython3",
   "version": "3.10.14"
  }
 },
 "nbformat": 4,
 "nbformat_minor": 5
}
