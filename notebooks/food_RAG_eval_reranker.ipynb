{
 "cells": [
  {
   "cell_type": "markdown",
   "id": "a1ca1687-79fb-4439-8c91-7b1049c36153",
   "metadata": {},
   "source": [
    "### Install dependencies"
   ]
  },
  {
   "cell_type": "code",
   "execution_count": 1,
   "id": "d8fbce3d-65f5-4ded-8fd4-d9f1101286a9",
   "metadata": {
    "scrolled": true,
    "tags": []
   },
   "outputs": [
    {
     "name": "stdout",
     "output_type": "stream",
     "text": [
      "Requirement already satisfied: boto3 in /home/ec2-user/anaconda3/envs/python3/lib/python3.10/site-packages (1.34.141)\n",
      "Requirement already satisfied: sagemaker in /home/ec2-user/anaconda3/envs/python3/lib/python3.10/site-packages (2.224.4)\n",
      "Requirement already satisfied: langchain in /home/ec2-user/anaconda3/envs/python3/lib/python3.10/site-packages (0.2.7)\n",
      "Requirement already satisfied: langchain-community in /home/ec2-user/anaconda3/envs/python3/lib/python3.10/site-packages (0.2.7)\n",
      "Requirement already satisfied: langchain-core in /home/ec2-user/anaconda3/envs/python3/lib/python3.10/site-packages (0.2.12)\n",
      "Requirement already satisfied: faiss-cpu in /home/ec2-user/anaconda3/envs/python3/lib/python3.10/site-packages (1.8.0.post1)\n",
      "Requirement already satisfied: requests in /home/ec2-user/anaconda3/envs/python3/lib/python3.10/site-packages (2.32.3)\n",
      "Requirement already satisfied: opensearch-py in /home/ec2-user/anaconda3/envs/python3/lib/python3.10/site-packages (2.6.0)\n",
      "Requirement already satisfied: sentence-transformers in /home/ec2-user/anaconda3/envs/python3/lib/python3.10/site-packages (3.0.1)\n",
      "Requirement already satisfied: langchain-text-splitters in /home/ec2-user/anaconda3/envs/python3/lib/python3.10/site-packages (0.2.2)\n",
      "Requirement already satisfied: requests-aws4auth in /home/ec2-user/anaconda3/envs/python3/lib/python3.10/site-packages (1.2.3)\n",
      "Requirement already satisfied: qdrant-client in /home/ec2-user/anaconda3/envs/python3/lib/python3.10/site-packages (1.10.1)\n",
      "Requirement already satisfied: botocore<1.35.0,>=1.34.141 in /home/ec2-user/anaconda3/envs/python3/lib/python3.10/site-packages (from boto3) (1.34.141)\n",
      "Requirement already satisfied: jmespath<2.0.0,>=0.7.1 in /home/ec2-user/anaconda3/envs/python3/lib/python3.10/site-packages (from boto3) (1.0.1)\n",
      "Requirement already satisfied: s3transfer<0.11.0,>=0.10.0 in /home/ec2-user/anaconda3/envs/python3/lib/python3.10/site-packages (from boto3) (0.10.1)\n",
      "Requirement already satisfied: attrs<24,>=23.1.0 in /home/ec2-user/anaconda3/envs/python3/lib/python3.10/site-packages (from sagemaker) (23.2.0)\n",
      "Requirement already satisfied: cloudpickle==2.2.1 in /home/ec2-user/anaconda3/envs/python3/lib/python3.10/site-packages (from sagemaker) (2.2.1)\n",
      "Requirement already satisfied: google-pasta in /home/ec2-user/anaconda3/envs/python3/lib/python3.10/site-packages (from sagemaker) (0.2.0)\n",
      "Requirement already satisfied: numpy<2.0,>=1.9.0 in /home/ec2-user/anaconda3/envs/python3/lib/python3.10/site-packages (from sagemaker) (1.22.4)\n",
      "Requirement already satisfied: protobuf<5.0,>=3.12 in /home/ec2-user/anaconda3/envs/python3/lib/python3.10/site-packages (from sagemaker) (4.25.3)\n",
      "Requirement already satisfied: smdebug-rulesconfig==1.0.1 in /home/ec2-user/anaconda3/envs/python3/lib/python3.10/site-packages (from sagemaker) (1.0.1)\n",
      "Requirement already satisfied: importlib-metadata<7.0,>=1.4.0 in /home/ec2-user/anaconda3/envs/python3/lib/python3.10/site-packages (from sagemaker) (6.11.0)\n",
      "Requirement already satisfied: packaging>=20.0 in /home/ec2-user/anaconda3/envs/python3/lib/python3.10/site-packages (from sagemaker) (24.1)\n",
      "Requirement already satisfied: pandas in /home/ec2-user/anaconda3/envs/python3/lib/python3.10/site-packages (from sagemaker) (2.2.1)\n",
      "Requirement already satisfied: pathos in /home/ec2-user/anaconda3/envs/python3/lib/python3.10/site-packages (from sagemaker) (0.3.2)\n",
      "Requirement already satisfied: schema in /home/ec2-user/anaconda3/envs/python3/lib/python3.10/site-packages (from sagemaker) (0.7.7)\n",
      "Requirement already satisfied: PyYAML~=6.0 in /home/ec2-user/anaconda3/envs/python3/lib/python3.10/site-packages (from sagemaker) (6.0.1)\n",
      "Requirement already satisfied: jsonschema in /home/ec2-user/anaconda3/envs/python3/lib/python3.10/site-packages (from sagemaker) (4.21.1)\n",
      "Requirement already satisfied: platformdirs in /home/ec2-user/anaconda3/envs/python3/lib/python3.10/site-packages (from sagemaker) (4.2.0)\n",
      "Requirement already satisfied: tblib<4,>=1.7.0 in /home/ec2-user/anaconda3/envs/python3/lib/python3.10/site-packages (from sagemaker) (3.0.0)\n",
      "Requirement already satisfied: urllib3<3.0.0,>=1.26.8 in /home/ec2-user/anaconda3/envs/python3/lib/python3.10/site-packages (from sagemaker) (2.2.1)\n",
      "Requirement already satisfied: docker in /home/ec2-user/anaconda3/envs/python3/lib/python3.10/site-packages (from sagemaker) (6.1.3)\n",
      "Requirement already satisfied: tqdm in /home/ec2-user/anaconda3/envs/python3/lib/python3.10/site-packages (from sagemaker) (4.66.2)\n",
      "Requirement already satisfied: psutil in /home/ec2-user/anaconda3/envs/python3/lib/python3.10/site-packages (from sagemaker) (5.9.8)\n",
      "Requirement already satisfied: SQLAlchemy<3,>=1.4 in /home/ec2-user/anaconda3/envs/python3/lib/python3.10/site-packages (from langchain) (2.0.29)\n",
      "Requirement already satisfied: aiohttp<4.0.0,>=3.8.3 in /home/ec2-user/anaconda3/envs/python3/lib/python3.10/site-packages (from langchain) (3.9.3)\n",
      "Requirement already satisfied: async-timeout<5.0.0,>=4.0.0 in /home/ec2-user/anaconda3/envs/python3/lib/python3.10/site-packages (from langchain) (4.0.3)\n",
      "Requirement already satisfied: langsmith<0.2.0,>=0.1.17 in /home/ec2-user/anaconda3/envs/python3/lib/python3.10/site-packages (from langchain) (0.1.84)\n",
      "Requirement already satisfied: pydantic<3,>=1 in /home/ec2-user/anaconda3/envs/python3/lib/python3.10/site-packages (from langchain) (2.8.2)\n",
      "Requirement already satisfied: tenacity!=8.4.0,<9.0.0,>=8.1.0 in /home/ec2-user/anaconda3/envs/python3/lib/python3.10/site-packages (from langchain) (8.2.3)\n",
      "Requirement already satisfied: dataclasses-json<0.7,>=0.5.7 in /home/ec2-user/anaconda3/envs/python3/lib/python3.10/site-packages (from langchain-community) (0.6.7)\n",
      "Requirement already satisfied: jsonpatch<2.0,>=1.33 in /home/ec2-user/anaconda3/envs/python3/lib/python3.10/site-packages (from langchain-core) (1.33)\n",
      "Requirement already satisfied: charset-normalizer<4,>=2 in /home/ec2-user/anaconda3/envs/python3/lib/python3.10/site-packages (from requests) (3.3.2)\n",
      "Requirement already satisfied: idna<4,>=2.5 in /home/ec2-user/anaconda3/envs/python3/lib/python3.10/site-packages (from requests) (3.6)\n",
      "Requirement already satisfied: certifi>=2017.4.17 in /home/ec2-user/anaconda3/envs/python3/lib/python3.10/site-packages (from requests) (2024.2.2)\n",
      "Requirement already satisfied: six in /home/ec2-user/anaconda3/envs/python3/lib/python3.10/site-packages (from opensearch-py) (1.16.0)\n",
      "Requirement already satisfied: python-dateutil in /home/ec2-user/anaconda3/envs/python3/lib/python3.10/site-packages (from opensearch-py) (2.9.0)\n",
      "Requirement already satisfied: Events in /home/ec2-user/anaconda3/envs/python3/lib/python3.10/site-packages (from opensearch-py) (0.5)\n",
      "Requirement already satisfied: transformers<5.0.0,>=4.34.0 in /home/ec2-user/anaconda3/envs/python3/lib/python3.10/site-packages (from sentence-transformers) (4.42.3)\n",
      "Requirement already satisfied: torch>=1.11.0 in /home/ec2-user/anaconda3/envs/python3/lib/python3.10/site-packages (from sentence-transformers) (2.3.1)\n",
      "Requirement already satisfied: scikit-learn in /home/ec2-user/anaconda3/envs/python3/lib/python3.10/site-packages (from sentence-transformers) (1.4.1.post1)\n",
      "Requirement already satisfied: scipy in /home/ec2-user/anaconda3/envs/python3/lib/python3.10/site-packages (from sentence-transformers) (1.12.0)\n",
      "Requirement already satisfied: huggingface-hub>=0.15.1 in /home/ec2-user/anaconda3/envs/python3/lib/python3.10/site-packages (from sentence-transformers) (0.23.4)\n",
      "Requirement already satisfied: Pillow in /home/ec2-user/anaconda3/envs/python3/lib/python3.10/site-packages (from sentence-transformers) (10.2.0)\n",
      "Requirement already satisfied: grpcio>=1.41.0 in /home/ec2-user/anaconda3/envs/python3/lib/python3.10/site-packages (from qdrant-client) (1.64.1)\n",
      "Requirement already satisfied: grpcio-tools>=1.41.0 in /home/ec2-user/anaconda3/envs/python3/lib/python3.10/site-packages (from qdrant-client) (1.62.2)\n",
      "Requirement already satisfied: httpx>=0.20.0 in /home/ec2-user/anaconda3/envs/python3/lib/python3.10/site-packages (from httpx[http2]>=0.20.0->qdrant-client) (0.27.0)\n",
      "Requirement already satisfied: portalocker<3.0.0,>=2.7.0 in /home/ec2-user/anaconda3/envs/python3/lib/python3.10/site-packages (from qdrant-client) (2.10.0)\n",
      "Requirement already satisfied: aiosignal>=1.1.2 in /home/ec2-user/anaconda3/envs/python3/lib/python3.10/site-packages (from aiohttp<4.0.0,>=3.8.3->langchain) (1.3.1)\n",
      "Requirement already satisfied: frozenlist>=1.1.1 in /home/ec2-user/anaconda3/envs/python3/lib/python3.10/site-packages (from aiohttp<4.0.0,>=3.8.3->langchain) (1.4.1)\n",
      "Requirement already satisfied: multidict<7.0,>=4.5 in /home/ec2-user/anaconda3/envs/python3/lib/python3.10/site-packages (from aiohttp<4.0.0,>=3.8.3->langchain) (6.0.5)\n",
      "Requirement already satisfied: yarl<2.0,>=1.0 in /home/ec2-user/anaconda3/envs/python3/lib/python3.10/site-packages (from aiohttp<4.0.0,>=3.8.3->langchain) (1.9.4)\n",
      "Requirement already satisfied: marshmallow<4.0.0,>=3.18.0 in /home/ec2-user/anaconda3/envs/python3/lib/python3.10/site-packages (from dataclasses-json<0.7,>=0.5.7->langchain-community) (3.21.3)\n",
      "Requirement already satisfied: typing-inspect<1,>=0.4.0 in /home/ec2-user/anaconda3/envs/python3/lib/python3.10/site-packages (from dataclasses-json<0.7,>=0.5.7->langchain-community) (0.9.0)\n",
      "Requirement already satisfied: setuptools in /home/ec2-user/anaconda3/envs/python3/lib/python3.10/site-packages (from grpcio-tools>=1.41.0->qdrant-client) (69.2.0)\n",
      "Requirement already satisfied: anyio in /home/ec2-user/anaconda3/envs/python3/lib/python3.10/site-packages (from httpx>=0.20.0->httpx[http2]>=0.20.0->qdrant-client) (4.3.0)\n",
      "Requirement already satisfied: httpcore==1.* in /home/ec2-user/anaconda3/envs/python3/lib/python3.10/site-packages (from httpx>=0.20.0->httpx[http2]>=0.20.0->qdrant-client) (1.0.4)\n",
      "Requirement already satisfied: sniffio in /home/ec2-user/anaconda3/envs/python3/lib/python3.10/site-packages (from httpx>=0.20.0->httpx[http2]>=0.20.0->qdrant-client) (1.3.1)\n",
      "Requirement already satisfied: h11<0.15,>=0.13 in /home/ec2-user/anaconda3/envs/python3/lib/python3.10/site-packages (from httpcore==1.*->httpx>=0.20.0->httpx[http2]>=0.20.0->qdrant-client) (0.14.0)\n",
      "Requirement already satisfied: h2<5,>=3 in /home/ec2-user/anaconda3/envs/python3/lib/python3.10/site-packages (from httpx[http2]>=0.20.0->qdrant-client) (4.1.0)\n",
      "Requirement already satisfied: filelock in /home/ec2-user/anaconda3/envs/python3/lib/python3.10/site-packages (from huggingface-hub>=0.15.1->sentence-transformers) (3.13.3)\n",
      "Requirement already satisfied: fsspec>=2023.5.0 in /home/ec2-user/anaconda3/envs/python3/lib/python3.10/site-packages (from huggingface-hub>=0.15.1->sentence-transformers) (2024.3.1)\n",
      "Requirement already satisfied: typing-extensions>=3.7.4.3 in /home/ec2-user/anaconda3/envs/python3/lib/python3.10/site-packages (from huggingface-hub>=0.15.1->sentence-transformers) (4.10.0)\n",
      "Requirement already satisfied: zipp>=0.5 in /home/ec2-user/anaconda3/envs/python3/lib/python3.10/site-packages (from importlib-metadata<7.0,>=1.4.0->sagemaker) (3.17.0)\n",
      "Requirement already satisfied: jsonpointer>=1.9 in /home/ec2-user/anaconda3/envs/python3/lib/python3.10/site-packages (from jsonpatch<2.0,>=1.33->langchain-core) (2.4)\n",
      "Requirement already satisfied: orjson<4.0.0,>=3.9.14 in /home/ec2-user/anaconda3/envs/python3/lib/python3.10/site-packages (from langsmith<0.2.0,>=0.1.17->langchain) (3.10.6)\n",
      "Requirement already satisfied: annotated-types>=0.4.0 in /home/ec2-user/anaconda3/envs/python3/lib/python3.10/site-packages (from pydantic<3,>=1->langchain) (0.7.0)\n",
      "Requirement already satisfied: pydantic-core==2.20.1 in /home/ec2-user/anaconda3/envs/python3/lib/python3.10/site-packages (from pydantic<3,>=1->langchain) (2.20.1)\n",
      "Requirement already satisfied: greenlet!=0.4.17 in /home/ec2-user/anaconda3/envs/python3/lib/python3.10/site-packages (from SQLAlchemy<3,>=1.4->langchain) (3.0.3)\n",
      "Requirement already satisfied: sympy in /home/ec2-user/anaconda3/envs/python3/lib/python3.10/site-packages (from torch>=1.11.0->sentence-transformers) (1.12)\n",
      "Requirement already satisfied: networkx in /home/ec2-user/anaconda3/envs/python3/lib/python3.10/site-packages (from torch>=1.11.0->sentence-transformers) (3.2.1)\n",
      "Requirement already satisfied: jinja2 in /home/ec2-user/anaconda3/envs/python3/lib/python3.10/site-packages (from torch>=1.11.0->sentence-transformers) (3.1.3)\n",
      "Requirement already satisfied: nvidia-cuda-nvrtc-cu12==12.1.105 in /home/ec2-user/anaconda3/envs/python3/lib/python3.10/site-packages (from torch>=1.11.0->sentence-transformers) (12.1.105)\n",
      "Requirement already satisfied: nvidia-cuda-runtime-cu12==12.1.105 in /home/ec2-user/anaconda3/envs/python3/lib/python3.10/site-packages (from torch>=1.11.0->sentence-transformers) (12.1.105)\n",
      "Requirement already satisfied: nvidia-cuda-cupti-cu12==12.1.105 in /home/ec2-user/anaconda3/envs/python3/lib/python3.10/site-packages (from torch>=1.11.0->sentence-transformers) (12.1.105)\n",
      "Requirement already satisfied: nvidia-cudnn-cu12==8.9.2.26 in /home/ec2-user/anaconda3/envs/python3/lib/python3.10/site-packages (from torch>=1.11.0->sentence-transformers) (8.9.2.26)\n",
      "Requirement already satisfied: nvidia-cublas-cu12==12.1.3.1 in /home/ec2-user/anaconda3/envs/python3/lib/python3.10/site-packages (from torch>=1.11.0->sentence-transformers) (12.1.3.1)\n",
      "Requirement already satisfied: nvidia-cufft-cu12==11.0.2.54 in /home/ec2-user/anaconda3/envs/python3/lib/python3.10/site-packages (from torch>=1.11.0->sentence-transformers) (11.0.2.54)\n",
      "Requirement already satisfied: nvidia-curand-cu12==10.3.2.106 in /home/ec2-user/anaconda3/envs/python3/lib/python3.10/site-packages (from torch>=1.11.0->sentence-transformers) (10.3.2.106)\n",
      "Requirement already satisfied: nvidia-cusolver-cu12==11.4.5.107 in /home/ec2-user/anaconda3/envs/python3/lib/python3.10/site-packages (from torch>=1.11.0->sentence-transformers) (11.4.5.107)\n",
      "Requirement already satisfied: nvidia-cusparse-cu12==12.1.0.106 in /home/ec2-user/anaconda3/envs/python3/lib/python3.10/site-packages (from torch>=1.11.0->sentence-transformers) (12.1.0.106)\n",
      "Requirement already satisfied: nvidia-nccl-cu12==2.20.5 in /home/ec2-user/anaconda3/envs/python3/lib/python3.10/site-packages (from torch>=1.11.0->sentence-transformers) (2.20.5)\n",
      "Requirement already satisfied: nvidia-nvtx-cu12==12.1.105 in /home/ec2-user/anaconda3/envs/python3/lib/python3.10/site-packages (from torch>=1.11.0->sentence-transformers) (12.1.105)\n",
      "Requirement already satisfied: triton==2.3.1 in /home/ec2-user/anaconda3/envs/python3/lib/python3.10/site-packages (from torch>=1.11.0->sentence-transformers) (2.3.1)\n",
      "Requirement already satisfied: nvidia-nvjitlink-cu12 in /home/ec2-user/anaconda3/envs/python3/lib/python3.10/site-packages (from nvidia-cusolver-cu12==11.4.5.107->torch>=1.11.0->sentence-transformers) (12.5.82)\n",
      "Requirement already satisfied: regex!=2019.12.17 in /home/ec2-user/anaconda3/envs/python3/lib/python3.10/site-packages (from transformers<5.0.0,>=4.34.0->sentence-transformers) (2023.12.25)\n",
      "Requirement already satisfied: safetensors>=0.4.1 in /home/ec2-user/anaconda3/envs/python3/lib/python3.10/site-packages (from transformers<5.0.0,>=4.34.0->sentence-transformers) (0.4.3)\n",
      "Requirement already satisfied: tokenizers<0.20,>=0.19 in /home/ec2-user/anaconda3/envs/python3/lib/python3.10/site-packages (from transformers<5.0.0,>=4.34.0->sentence-transformers) (0.19.1)\n",
      "Requirement already satisfied: websocket-client>=0.32.0 in /home/ec2-user/anaconda3/envs/python3/lib/python3.10/site-packages (from docker->sagemaker) (1.7.0)\n",
      "Requirement already satisfied: jsonschema-specifications>=2023.03.6 in /home/ec2-user/anaconda3/envs/python3/lib/python3.10/site-packages (from jsonschema->sagemaker) (2023.12.1)\n",
      "Requirement already satisfied: referencing>=0.28.4 in /home/ec2-user/anaconda3/envs/python3/lib/python3.10/site-packages (from jsonschema->sagemaker) (0.34.0)\n",
      "Requirement already satisfied: rpds-py>=0.7.1 in /home/ec2-user/anaconda3/envs/python3/lib/python3.10/site-packages (from jsonschema->sagemaker) (0.18.0)\n",
      "Requirement already satisfied: pytz>=2020.1 in /home/ec2-user/anaconda3/envs/python3/lib/python3.10/site-packages (from pandas->sagemaker) (2024.1)\n",
      "Requirement already satisfied: tzdata>=2022.7 in /home/ec2-user/anaconda3/envs/python3/lib/python3.10/site-packages (from pandas->sagemaker) (2024.1)\n",
      "Requirement already satisfied: ppft>=1.7.6.8 in /home/ec2-user/anaconda3/envs/python3/lib/python3.10/site-packages (from pathos->sagemaker) (1.7.6.8)\n",
      "Requirement already satisfied: dill>=0.3.8 in /home/ec2-user/anaconda3/envs/python3/lib/python3.10/site-packages (from pathos->sagemaker) (0.3.8)\n",
      "Requirement already satisfied: pox>=0.3.4 in /home/ec2-user/anaconda3/envs/python3/lib/python3.10/site-packages (from pathos->sagemaker) (0.3.4)\n",
      "Requirement already satisfied: multiprocess>=0.70.16 in /home/ec2-user/anaconda3/envs/python3/lib/python3.10/site-packages (from pathos->sagemaker) (0.70.16)\n",
      "Requirement already satisfied: joblib>=1.2.0 in /home/ec2-user/anaconda3/envs/python3/lib/python3.10/site-packages (from scikit-learn->sentence-transformers) (1.3.2)\n",
      "Requirement already satisfied: threadpoolctl>=2.0.0 in /home/ec2-user/anaconda3/envs/python3/lib/python3.10/site-packages (from scikit-learn->sentence-transformers) (3.4.0)\n",
      "Requirement already satisfied: hyperframe<7,>=6.0 in /home/ec2-user/anaconda3/envs/python3/lib/python3.10/site-packages (from h2<5,>=3->httpx[http2]>=0.20.0->qdrant-client) (6.0.1)\n",
      "Requirement already satisfied: hpack<5,>=4.0 in /home/ec2-user/anaconda3/envs/python3/lib/python3.10/site-packages (from h2<5,>=3->httpx[http2]>=0.20.0->qdrant-client) (4.0.0)\n",
      "Requirement already satisfied: mypy-extensions>=0.3.0 in /home/ec2-user/anaconda3/envs/python3/lib/python3.10/site-packages (from typing-inspect<1,>=0.4.0->dataclasses-json<0.7,>=0.5.7->langchain-community) (1.0.0)\n",
      "Requirement already satisfied: exceptiongroup>=1.0.2 in /home/ec2-user/anaconda3/envs/python3/lib/python3.10/site-packages (from anyio->httpx>=0.20.0->httpx[http2]>=0.20.0->qdrant-client) (1.2.0)\n",
      "Requirement already satisfied: MarkupSafe>=2.0 in /home/ec2-user/anaconda3/envs/python3/lib/python3.10/site-packages (from jinja2->torch>=1.11.0->sentence-transformers) (2.1.5)\n",
      "Requirement already satisfied: mpmath>=0.19 in /home/ec2-user/anaconda3/envs/python3/lib/python3.10/site-packages (from sympy->torch>=1.11.0->sentence-transformers) (1.3.0)\n"
     ]
    }
   ],
   "source": [
    "!pip install boto3 sagemaker langchain langchain-community langchain-core faiss-cpu requests opensearch-py sentence-transformers langchain-text-splitters requests-aws4auth qdrant-client -U"
   ]
  },
  {
   "cell_type": "markdown",
   "id": "8c60fd86-2fdd-4921-b769-45a6d6ae1411",
   "metadata": {},
   "source": [
    "### Load CSV data from S3"
   ]
  },
  {
   "cell_type": "code",
   "execution_count": 2,
   "id": "b02d5178-7946-4ff5-bfdf-d8c784afd6cd",
   "metadata": {
    "tags": []
   },
   "outputs": [
    {
     "name": "stdout",
     "output_type": "stream",
     "text": [
      "/home/ec2-user/SageMaker/Enterprise-RAG/notebooks\n"
     ]
    }
   ],
   "source": [
    "!pwd"
   ]
  },
  {
   "cell_type": "code",
   "execution_count": 3,
   "id": "e42652b8-0122-4f47-b069-a398ae118afc",
   "metadata": {
    "tags": []
   },
   "outputs": [],
   "source": [
    "import boto3\n",
    "import pandas as pd\n",
    "\n",
    "s3 = boto3.client('s3')\n",
    "bucket_name = 'recipes-rag'"
   ]
  },
  {
   "cell_type": "code",
   "execution_count": 4,
   "id": "e0176b52-e799-4947-9264-c6c51897c4b7",
   "metadata": {
    "tags": []
   },
   "outputs": [
    {
     "data": {
      "text/html": [
       "<div>\n",
       "<style scoped>\n",
       "    .dataframe tbody tr th:only-of-type {\n",
       "        vertical-align: middle;\n",
       "    }\n",
       "\n",
       "    .dataframe tbody tr th {\n",
       "        vertical-align: top;\n",
       "    }\n",
       "\n",
       "    .dataframe thead th {\n",
       "        text-align: right;\n",
       "    }\n",
       "</style>\n",
       "<table border=\"1\" class=\"dataframe\">\n",
       "  <thead>\n",
       "    <tr style=\"text-align: right;\">\n",
       "      <th></th>\n",
       "      <th>RecipeId</th>\n",
       "      <th>Name</th>\n",
       "      <th>AuthorId</th>\n",
       "      <th>AuthorName</th>\n",
       "      <th>CookTime</th>\n",
       "      <th>PrepTime</th>\n",
       "      <th>TotalTime</th>\n",
       "      <th>DatePublished</th>\n",
       "      <th>Description</th>\n",
       "      <th>Images</th>\n",
       "      <th>...</th>\n",
       "      <th>FiberContent</th>\n",
       "      <th>SugarContent</th>\n",
       "      <th>ProteinContent</th>\n",
       "      <th>RecipeServings</th>\n",
       "      <th>RecipeYield</th>\n",
       "      <th>RecipeInstructions</th>\n",
       "      <th>CookTime_Minutes</th>\n",
       "      <th>PrepTime_Minutes</th>\n",
       "      <th>TotalTime_Minutes</th>\n",
       "      <th>Combined_Features_Clean</th>\n",
       "    </tr>\n",
       "  </thead>\n",
       "  <tbody>\n",
       "    <tr>\n",
       "      <th>0</th>\n",
       "      <td>38.0</td>\n",
       "      <td>Low-Fat Berry Blue Frozen Dessert</td>\n",
       "      <td>1533</td>\n",
       "      <td>Dancer</td>\n",
       "      <td>PT24H</td>\n",
       "      <td>PT45M</td>\n",
       "      <td>PT24H45M</td>\n",
       "      <td>1999-08-09 21:46:00+00:00</td>\n",
       "      <td>Make and share this Low-Fat Berry Blue Frozen ...</td>\n",
       "      <td>[https://img.sndimg.com/food/image/upload/w_55...</td>\n",
       "      <td>...</td>\n",
       "      <td>3.6</td>\n",
       "      <td>30.2</td>\n",
       "      <td>3.2</td>\n",
       "      <td>4.0</td>\n",
       "      <td>None</td>\n",
       "      <td>[Toss 2 cups berries with sugar., Let stand fo...</td>\n",
       "      <td>1440</td>\n",
       "      <td>45</td>\n",
       "      <td>1485</td>\n",
       "      <td>Low-Fat Berry Blue Frozen Dessert Frozen Desse...</td>\n",
       "    </tr>\n",
       "    <tr>\n",
       "      <th>1</th>\n",
       "      <td>39.0</td>\n",
       "      <td>Biryani</td>\n",
       "      <td>1567</td>\n",
       "      <td>elly9812</td>\n",
       "      <td>PT25M</td>\n",
       "      <td>PT4H</td>\n",
       "      <td>PT4H25M</td>\n",
       "      <td>1999-08-29 13:12:00+00:00</td>\n",
       "      <td>Make and share this Biryani recipe from Food.com.</td>\n",
       "      <td>[https://img.sndimg.com/food/image/upload/w_55...</td>\n",
       "      <td>...</td>\n",
       "      <td>9.0</td>\n",
       "      <td>20.4</td>\n",
       "      <td>63.4</td>\n",
       "      <td>6.0</td>\n",
       "      <td>None</td>\n",
       "      <td>[Soak saffron in warm milk for 5 minutes and p...</td>\n",
       "      <td>25</td>\n",
       "      <td>240</td>\n",
       "      <td>265</td>\n",
       "      <td>Biryani Chicken Breast Make share Biryani reci...</td>\n",
       "    </tr>\n",
       "    <tr>\n",
       "      <th>2</th>\n",
       "      <td>40.0</td>\n",
       "      <td>Best Lemonade</td>\n",
       "      <td>1566</td>\n",
       "      <td>Stephen Little</td>\n",
       "      <td>PT5M</td>\n",
       "      <td>PT30M</td>\n",
       "      <td>PT35M</td>\n",
       "      <td>1999-09-05 19:52:00+00:00</td>\n",
       "      <td>This is from one of my  first Good House Keepi...</td>\n",
       "      <td>[https://img.sndimg.com/food/image/upload/w_55...</td>\n",
       "      <td>...</td>\n",
       "      <td>0.4</td>\n",
       "      <td>77.2</td>\n",
       "      <td>0.3</td>\n",
       "      <td>4.0</td>\n",
       "      <td>None</td>\n",
       "      <td>[Into a 1 quart Jar with tight fitting lid, pu...</td>\n",
       "      <td>5</td>\n",
       "      <td>30</td>\n",
       "      <td>35</td>\n",
       "      <td>Best Lemonade Beverages one first Good House K...</td>\n",
       "    </tr>\n",
       "    <tr>\n",
       "      <th>3</th>\n",
       "      <td>41.0</td>\n",
       "      <td>Carina's Tofu-Vegetable Kebabs</td>\n",
       "      <td>1586</td>\n",
       "      <td>Cyclopz</td>\n",
       "      <td>PT20M</td>\n",
       "      <td>PT24H</td>\n",
       "      <td>PT24H20M</td>\n",
       "      <td>1999-09-03 14:54:00+00:00</td>\n",
       "      <td>This dish is best prepared a day in advance to...</td>\n",
       "      <td>[https://img.sndimg.com/food/image/upload/w_55...</td>\n",
       "      <td>...</td>\n",
       "      <td>17.3</td>\n",
       "      <td>32.1</td>\n",
       "      <td>29.3</td>\n",
       "      <td>2.0</td>\n",
       "      <td>4 kebabs</td>\n",
       "      <td>[Drain the tofu, carefully squeezing out exces...</td>\n",
       "      <td>20</td>\n",
       "      <td>1440</td>\n",
       "      <td>1460</td>\n",
       "      <td>Carina's Tofu-Vegetable Kebabs Soy/Tofu dish b...</td>\n",
       "    </tr>\n",
       "    <tr>\n",
       "      <th>4</th>\n",
       "      <td>42.0</td>\n",
       "      <td>Cabbage Soup</td>\n",
       "      <td>1538</td>\n",
       "      <td>Duckie067</td>\n",
       "      <td>PT30M</td>\n",
       "      <td>PT20M</td>\n",
       "      <td>PT50M</td>\n",
       "      <td>1999-09-19 06:19:00+00:00</td>\n",
       "      <td>Make and share this Cabbage Soup recipe from F...</td>\n",
       "      <td>[https://img.sndimg.com/food/image/upload/w_55...</td>\n",
       "      <td>...</td>\n",
       "      <td>4.8</td>\n",
       "      <td>17.7</td>\n",
       "      <td>4.3</td>\n",
       "      <td>4.0</td>\n",
       "      <td>None</td>\n",
       "      <td>[Mix everything together and bring to a boil.,...</td>\n",
       "      <td>30</td>\n",
       "      <td>20</td>\n",
       "      <td>50</td>\n",
       "      <td>Cabbage Soup Vegetable Make share Cabbage Soup...</td>\n",
       "    </tr>\n",
       "  </tbody>\n",
       "</table>\n",
       "<p>5 rows × 32 columns</p>\n",
       "</div>"
      ],
      "text/plain": [
       "   RecipeId                               Name  AuthorId      AuthorName  \\\n",
       "0      38.0  Low-Fat Berry Blue Frozen Dessert      1533          Dancer   \n",
       "1      39.0                            Biryani      1567        elly9812   \n",
       "2      40.0                      Best Lemonade      1566  Stephen Little   \n",
       "3      41.0     Carina's Tofu-Vegetable Kebabs      1586         Cyclopz   \n",
       "4      42.0                       Cabbage Soup      1538       Duckie067   \n",
       "\n",
       "  CookTime PrepTime TotalTime             DatePublished  \\\n",
       "0    PT24H    PT45M  PT24H45M 1999-08-09 21:46:00+00:00   \n",
       "1    PT25M     PT4H   PT4H25M 1999-08-29 13:12:00+00:00   \n",
       "2     PT5M    PT30M     PT35M 1999-09-05 19:52:00+00:00   \n",
       "3    PT20M    PT24H  PT24H20M 1999-09-03 14:54:00+00:00   \n",
       "4    PT30M    PT20M     PT50M 1999-09-19 06:19:00+00:00   \n",
       "\n",
       "                                         Description  \\\n",
       "0  Make and share this Low-Fat Berry Blue Frozen ...   \n",
       "1  Make and share this Biryani recipe from Food.com.   \n",
       "2  This is from one of my  first Good House Keepi...   \n",
       "3  This dish is best prepared a day in advance to...   \n",
       "4  Make and share this Cabbage Soup recipe from F...   \n",
       "\n",
       "                                              Images  ... FiberContent  \\\n",
       "0  [https://img.sndimg.com/food/image/upload/w_55...  ...          3.6   \n",
       "1  [https://img.sndimg.com/food/image/upload/w_55...  ...          9.0   \n",
       "2  [https://img.sndimg.com/food/image/upload/w_55...  ...          0.4   \n",
       "3  [https://img.sndimg.com/food/image/upload/w_55...  ...         17.3   \n",
       "4  [https://img.sndimg.com/food/image/upload/w_55...  ...          4.8   \n",
       "\n",
       "  SugarContent ProteinContent RecipeServings  RecipeYield  \\\n",
       "0         30.2            3.2            4.0         None   \n",
       "1         20.4           63.4            6.0         None   \n",
       "2         77.2            0.3            4.0         None   \n",
       "3         32.1           29.3            2.0     4 kebabs   \n",
       "4         17.7            4.3            4.0         None   \n",
       "\n",
       "                                  RecipeInstructions  CookTime_Minutes  \\\n",
       "0  [Toss 2 cups berries with sugar., Let stand fo...              1440   \n",
       "1  [Soak saffron in warm milk for 5 minutes and p...                25   \n",
       "2  [Into a 1 quart Jar with tight fitting lid, pu...                 5   \n",
       "3  [Drain the tofu, carefully squeezing out exces...                20   \n",
       "4  [Mix everything together and bring to a boil.,...                30   \n",
       "\n",
       "   PrepTime_Minutes  TotalTime_Minutes  \\\n",
       "0                45               1485   \n",
       "1               240                265   \n",
       "2                30                 35   \n",
       "3              1440               1460   \n",
       "4                20                 50   \n",
       "\n",
       "                             Combined_Features_Clean  \n",
       "0  Low-Fat Berry Blue Frozen Dessert Frozen Desse...  \n",
       "1  Biryani Chicken Breast Make share Biryani reci...  \n",
       "2  Best Lemonade Beverages one first Good House K...  \n",
       "3  Carina's Tofu-Vegetable Kebabs Soy/Tofu dish b...  \n",
       "4  Cabbage Soup Vegetable Make share Cabbage Soup...  \n",
       "\n",
       "[5 rows x 32 columns]"
      ]
     },
     "execution_count": 4,
     "metadata": {},
     "output_type": "execute_result"
    }
   ],
   "source": [
    "file_key = 'recipes_w_cleaning_time_combined_features.parquet'\n",
    "s3.download_file(bucket_name, file_key, f'../data/{file_key}')\n",
    "df = pd.read_parquet(f'../data/{file_key}')\n",
    "\n",
    "df.head()"
   ]
  },
  {
   "cell_type": "code",
   "execution_count": 5,
   "id": "c42abeac-3ebd-4fda-a7d5-e43940aa503e",
   "metadata": {
    "tags": []
   },
   "outputs": [
    {
     "data": {
      "text/plain": [
       "Index(['RecipeId', 'Name', 'AuthorId', 'AuthorName', 'CookTime', 'PrepTime',\n",
       "       'TotalTime', 'DatePublished', 'Description', 'Images', 'RecipeCategory',\n",
       "       'Keywords', 'RecipeIngredientQuantities', 'RecipeIngredientParts',\n",
       "       'AggregatedRating', 'ReviewCount', 'Calories', 'FatContent',\n",
       "       'SaturatedFatContent', 'CholesterolContent', 'SodiumContent',\n",
       "       'CarbohydrateContent', 'FiberContent', 'SugarContent', 'ProteinContent',\n",
       "       'RecipeServings', 'RecipeYield', 'RecipeInstructions',\n",
       "       'CookTime_Minutes', 'PrepTime_Minutes', 'TotalTime_Minutes',\n",
       "       'Combined_Features_Clean'],\n",
       "      dtype='object')"
      ]
     },
     "execution_count": 5,
     "metadata": {},
     "output_type": "execute_result"
    }
   ],
   "source": [
    "df.columns"
   ]
  },
  {
   "cell_type": "code",
   "execution_count": 6,
   "id": "68483703-908e-4f6e-892b-305948d7562d",
   "metadata": {
    "tags": []
   },
   "outputs": [
    {
     "data": {
      "text/plain": [
       "'Low-Fat Berry Blue Frozen Dessert Frozen Desserts Make share Low-Fat Berry Blue Frozen Dessert recipe Food.com. Dessert Low Protein Low Cholesterol Healthy Free Of... Summer Weeknight Freezer Easy'"
      ]
     },
     "execution_count": 6,
     "metadata": {},
     "output_type": "execute_result"
    }
   ],
   "source": [
    "str(df.iloc[0]['Combined_Features_Clean'])"
   ]
  },
  {
   "cell_type": "markdown",
   "id": "74654ec1-1620-4b12-abfa-74ce789a79ce",
   "metadata": {},
   "source": [
    "### Load data into chunked documents"
   ]
  },
  {
   "cell_type": "code",
   "execution_count": 7,
   "id": "81165ce4-c17b-44df-a88a-319b4e590105",
   "metadata": {
    "tags": []
   },
   "outputs": [],
   "source": [
    "from langchain_community.embeddings import HuggingFaceEmbeddings\n",
    "from langchain_text_splitters import RecursiveCharacterTextSplitter\n",
    "from langchain.docstore.document import Document"
   ]
  },
  {
   "cell_type": "code",
   "execution_count": 8,
   "id": "ef713c37-2e0f-45ba-8717-de22afbad5b7",
   "metadata": {
    "tags": []
   },
   "outputs": [
    {
     "name": "stderr",
     "output_type": "stream",
     "text": [
      "/home/ec2-user/anaconda3/envs/python3/lib/python3.10/site-packages/langchain_core/_api/deprecation.py:139: LangChainDeprecationWarning: The class `HuggingFaceEmbeddings` was deprecated in LangChain 0.2.2 and will be removed in 0.3.0. An updated version of the class exists in the langchain-huggingface package and should be used instead. To use it run `pip install -U langchain-huggingface` and import as `from langchain_huggingface import HuggingFaceEmbeddings`.\n",
      "  warn_deprecated(\n",
      "/home/ec2-user/anaconda3/envs/python3/lib/python3.10/site-packages/sentence_transformers/cross_encoder/CrossEncoder.py:11: TqdmExperimentalWarning: Using `tqdm.autonotebook.tqdm` in notebook mode. Use `tqdm.tqdm` instead to force console mode (e.g. in jupyter console)\n",
      "  from tqdm.autonotebook import tqdm, trange\n"
     ]
    }
   ],
   "source": [
    "embedding_model = HuggingFaceEmbeddings(model_name=\"multi-qa-mpnet-base-dot-v1\")"
   ]
  },
  {
   "cell_type": "markdown",
   "id": "babae2b2-4aac-4fde-b653-ae2d2a3eb350",
   "metadata": {
    "tags": []
   },
   "source": [
    "### Note: chunking may not be useful for us as the EDA has the following about description length\n",
    "print(new_recipe['Combined_Features_Clean'].str.len().describe())\n",
    "\n",
    "\n",
    "count    522517.000000\\\n",
    "mean        211.461774\\\n",
    "std         122.388646\\\n",
    "min          44.000000\\\n",
    "25%         131.000000\\\n",
    "50%         180.000000\\\n",
    "75%         255.000000\\\n",
    "max        4174.000000\\\n",
    "Name: Combined_Features_Clean, dtype: float64"
   ]
  },
  {
   "cell_type": "code",
   "execution_count": 10,
   "id": "c829beba-a527-4f21-b311-88db598124fe",
   "metadata": {
    "tags": []
   },
   "outputs": [],
   "source": [
    "def create_textsplitter(chunks, overlaps):\n",
    "    splits = {}\n",
    "    for chunk in chunks:\n",
    "        for overlap in overlaps:\n",
    "            splits[f'chunk{str(chunk)}_overlap{str(overlap)}'] = RecursiveCharacterTextSplitter(chunk_size=chunk, chunk_overlap=overlap)\n",
    "    return splits"
   ]
  },
  {
   "cell_type": "code",
   "execution_count": 11,
   "id": "88739f50-8d3a-4558-b5fb-588daf1c41cb",
   "metadata": {
    "tags": []
   },
   "outputs": [],
   "source": [
    "chunks = [128, 256, 512, 1024, 2048]\n",
    "overlaps = [.25, .2, .15, .1]\n",
    "\n",
    "text_splits = create_textsplitter(chunks, overlaps)"
   ]
  },
  {
   "cell_type": "code",
   "execution_count": 12,
   "id": "32e0c41f-6f62-45e4-a385-f94b0493cbe9",
   "metadata": {
    "tags": []
   },
   "outputs": [
    {
     "data": {
      "text/plain": [
       "<langchain_text_splitters.character.RecursiveCharacterTextSplitter at 0x7f3e2d9d72b0>"
      ]
     },
     "execution_count": 12,
     "metadata": {},
     "output_type": "execute_result"
    }
   ],
   "source": [
    "text_splits['chunk1024_overlap0.25']"
   ]
  },
  {
   "cell_type": "code",
   "execution_count": 13,
   "id": "05b5985a-4bdc-44cf-b888-9ddc76abb89e",
   "metadata": {
    "tags": []
   },
   "outputs": [],
   "source": [
    "def create_documents(df):\n",
    "    documents = []\n",
    "    for index, row in df.iterrows():\n",
    "        metadata = {\n",
    "            'recipe_id': str(row['RecipeId']) if not pd.isna(row['RecipeId']) else 'No ID Available',\n",
    "            'name': str(row['Name']) if not pd.isna(row['Name']) else 'No Name Available',\n",
    "            'cook_time': str(row['CookTime']) if not pd.isna(row['CookTime']) else 'No Cook Time Available',\n",
    "            'prep_time': str(row['PrepTime']) if not pd.isna(row['PrepTime']) else 'No Prep Time Available',\n",
    "            'total_time': str(row['TotalTime']) if not pd.isna(row['TotalTime']) else 'No Total Time Available',\n",
    "            'recipe_category': str(row['RecipeCategory']) if not pd.isna(row['RecipeCategory']) else 'No Category Available',\n",
    "            'keywords': str(row['Keywords']) if not pd.isna(row['Keywords']).all() else 'No Keywords Available',\n",
    "            'aggregated_rating': str(row['AggregatedRating']) if not pd.isna(row['AggregatedRating']) else 'No Rating Available',\n",
    "            'review_count': str(row['ReviewCount']) if not pd.isna(row['ReviewCount']) else 'No Reviews Available',\n",
    "            'calories': str(row['Calories']) if not pd.isna(row['Calories']) else 'No Calories Information Available',\n",
    "            'fat_content': str(row['FatContent']) if not pd.isna(row['FatContent']) else 'No Fat Content Available',\n",
    "            'saturated_fat_content': str(row['SaturatedFatContent']) if not pd.isna(row['SaturatedFatContent']) else 'No Saturated Fat Content Available',\n",
    "            'cholesterol_content': str(row['CholesterolContent']) if not pd.isna(row['CholesterolContent']) else 'No Cholesterol Content Available',\n",
    "            'sodium_content': str(row['SodiumContent']) if not pd.isna(row['SodiumContent']) else 'No Sodium Content Available',\n",
    "            'carbohydrate_content': str(row['CarbohydrateContent']) if not pd.isna(row['CarbohydrateContent']) else 'No Carbohydrate Content Available',\n",
    "            'sugar_content': str(row['SugarContent']) if not pd.isna(row['SugarContent']) else 'No Sugar Content Available',\n",
    "            'protein_content': str(row['ProteinContent']) if not pd.isna(row['ProteinContent']) else 'No Protein Content Available',\n",
    "            'recipe_servings': str(row['RecipeServings']) if not pd.isna(row['RecipeServings']) else 'No Servings Information Available',\n",
    "            'recipe_yield': str(row['RecipeYield']) if not pd.isna(row['RecipeYield']) else 'No Yield Information Available'\n",
    "        }\n",
    "\n",
    "        # Use Combined_Features_Clean for the document content\n",
    "        text = str(row['Combined_Features_Clean'])\n",
    "        doc = Document(page_content=text, metadata=metadata)\n",
    "        documents.append(doc)\n",
    "        \n",
    "    return documents\n"
   ]
  },
  {
   "cell_type": "code",
   "execution_count": 14,
   "id": "2e316c63-2897-4c89-aa24-562bcab03ba0",
   "metadata": {
    "tags": []
   },
   "outputs": [],
   "source": [
    "documents = create_documents(df.sample(n=100000))"
   ]
  },
  {
   "cell_type": "code",
   "execution_count": 15,
   "id": "db462d95-67b8-4ec5-b379-1a98666a0dc0",
   "metadata": {
    "tags": []
   },
   "outputs": [
    {
     "data": {
      "text/plain": [
       "Document(metadata={'recipe_id': '453572.0', 'name': 'One Feather Mopping Sauce', 'cook_time': 'No Cook Time Available', 'prep_time': 'PT15M', 'total_time': 'PT15M', 'recipe_category': 'Low Protein', 'keywords': \"['Low Cholesterol' '< 15 Mins' 'Easy']\", 'aggregated_rating': 'No Rating Available', 'review_count': 'No Reviews Available', 'calories': '725.0', 'fat_content': '54.9', 'saturated_fat_content': '4.1', 'cholesterol_content': '0.0', 'sodium_content': '197.2', 'carbohydrate_content': '28.8', 'sugar_content': '5.9', 'protein_content': '3.5', 'recipe_servings': '1.0', 'recipe_yield': '3 cups'}, page_content=\"One Feather Mopping Sauce Low Protein Leinenkugel's (Line - N - koo - gulls) Beer brewed 10 miles &amp; known many local's &quot;One Feather&quot;...if look label, understand. popular tourists &amp; even locals drink it...many cook it. try use BIG BUTT ribs (&amp; fish batter) &amp; Leinie's Light chicken, use whatever trips trigger. version &quot;mop&quot; ribs &amp; such. Low Cholesterol < 15 Mins Easy\")"
      ]
     },
     "execution_count": 15,
     "metadata": {},
     "output_type": "execute_result"
    }
   ],
   "source": [
    "documents[0]"
   ]
  },
  {
   "cell_type": "code",
   "execution_count": 16,
   "id": "8d878b08-c2fc-4528-b26f-3a33d7856465",
   "metadata": {
    "tags": []
   },
   "outputs": [
    {
     "data": {
      "text/plain": [
       "100000"
      ]
     },
     "execution_count": 16,
     "metadata": {},
     "output_type": "execute_result"
    }
   ],
   "source": [
    "len(documents)"
   ]
  },
  {
   "cell_type": "code",
   "execution_count": null,
   "id": "35faf6bb-6a9b-4f59-b021-33c2507638aa",
   "metadata": {
    "tags": []
   },
   "outputs": [],
   "source": [
    "def split_documents_with_metadata(documents, text_splitter):\n",
    "    split_docs = []\n",
    "    for doc in documents:\n",
    "        chunks = text_splitter.split_text(doc.page_content)\n",
    "        for i, chunk in enumerate(chunks):\n",
    "            split_docs.append(Document(page_content=chunk, metadata={**doc.metadata, \"chunk_id\": i}))\n",
    "    return split_docs"
   ]
  },
  {
   "cell_type": "code",
   "execution_count": null,
   "id": "d6fe3cfc-26b8-47db-8c36-07e06ea3feb9",
   "metadata": {
    "tags": []
   },
   "outputs": [],
   "source": [
    "split_documents = {key: split_documents_with_metadata(documents, text_splitter_recursive) for key, text_splitter_recursive in text_splits.items()}"
   ]
  },
  {
   "cell_type": "code",
   "execution_count": null,
   "id": "225b95d6-f0f2-41fd-8cf9-c700ef269488",
   "metadata": {
    "tags": []
   },
   "outputs": [],
   "source": [
    "split_documents['chunk256_overlap0.25'][0]"
   ]
  },
  {
   "cell_type": "code",
   "execution_count": 17,
   "id": "4cb92d4b-2aba-4e56-ac81-b0f743c139a3",
   "metadata": {
    "tags": []
   },
   "outputs": [
    {
     "ename": "KeyboardInterrupt",
     "evalue": "",
     "output_type": "error",
     "traceback": [
      "\u001b[0;31m---------------------------------------------------------------------------\u001b[0m",
      "\u001b[0;31mKeyboardInterrupt\u001b[0m                         Traceback (most recent call last)",
      "Cell \u001b[0;32mIn[17], line 4\u001b[0m\n\u001b[1;32m      1\u001b[0m \u001b[38;5;66;03m# We have > 500,000 recipes, this takes a long time to run\u001b[39;00m\n\u001b[1;32m      2\u001b[0m \u001b[38;5;28;01mfrom\u001b[39;00m \u001b[38;5;21;01mlangchain_community\u001b[39;00m\u001b[38;5;21;01m.\u001b[39;00m\u001b[38;5;21;01mvectorstores\u001b[39;00m \u001b[38;5;28;01mimport\u001b[39;00m Qdrant\n\u001b[0;32m----> 4\u001b[0m qdrant_store_nosplit \u001b[38;5;241m=\u001b[39m \u001b[43mQdrant\u001b[49m\u001b[38;5;241;43m.\u001b[39;49m\u001b[43mfrom_documents\u001b[49m\u001b[43m(\u001b[49m\u001b[43mdocuments\u001b[49m\u001b[43m,\u001b[49m\n\u001b[1;32m      5\u001b[0m \u001b[43m    \u001b[49m\u001b[43membedding_model\u001b[49m\u001b[43m,\u001b[49m\n\u001b[1;32m      6\u001b[0m \u001b[43m    \u001b[49m\u001b[43mlocation\u001b[49m\u001b[38;5;241;43m=\u001b[39;49m\u001b[38;5;124;43m\"\u001b[39;49m\u001b[38;5;124;43m:memory:\u001b[39;49m\u001b[38;5;124;43m\"\u001b[39;49m\u001b[43m,\u001b[49m\n\u001b[1;32m      7\u001b[0m \u001b[43m)\u001b[49m\n\u001b[1;32m      9\u001b[0m \u001b[38;5;66;03m# qdrant_store = Qdrant.from_documents(split_documents['chunk1024_overlap0.25'],\u001b[39;00m\n\u001b[1;32m     10\u001b[0m \u001b[38;5;66;03m#     embedding_model,\u001b[39;00m\n\u001b[1;32m     11\u001b[0m \u001b[38;5;66;03m#     location=\":memory:\",\u001b[39;00m\n\u001b[1;32m     12\u001b[0m \u001b[38;5;66;03m# )\u001b[39;00m\n",
      "File \u001b[0;32m~/anaconda3/envs/python3/lib/python3.10/site-packages/langchain_core/vectorstores/base.py:989\u001b[0m, in \u001b[0;36mVectorStore.from_documents\u001b[0;34m(cls, documents, embedding, **kwargs)\u001b[0m\n\u001b[1;32m    987\u001b[0m texts \u001b[38;5;241m=\u001b[39m [d\u001b[38;5;241m.\u001b[39mpage_content \u001b[38;5;28;01mfor\u001b[39;00m d \u001b[38;5;129;01min\u001b[39;00m documents]\n\u001b[1;32m    988\u001b[0m metadatas \u001b[38;5;241m=\u001b[39m [d\u001b[38;5;241m.\u001b[39mmetadata \u001b[38;5;28;01mfor\u001b[39;00m d \u001b[38;5;129;01min\u001b[39;00m documents]\n\u001b[0;32m--> 989\u001b[0m \u001b[38;5;28;01mreturn\u001b[39;00m \u001b[38;5;28;43mcls\u001b[39;49m\u001b[38;5;241;43m.\u001b[39;49m\u001b[43mfrom_texts\u001b[49m\u001b[43m(\u001b[49m\u001b[43mtexts\u001b[49m\u001b[43m,\u001b[49m\u001b[43m \u001b[49m\u001b[43membedding\u001b[49m\u001b[43m,\u001b[49m\u001b[43m \u001b[49m\u001b[43mmetadatas\u001b[49m\u001b[38;5;241;43m=\u001b[39;49m\u001b[43mmetadatas\u001b[49m\u001b[43m,\u001b[49m\u001b[43m \u001b[49m\u001b[38;5;241;43m*\u001b[39;49m\u001b[38;5;241;43m*\u001b[39;49m\u001b[43mkwargs\u001b[49m\u001b[43m)\u001b[49m\n",
      "File \u001b[0;32m~/anaconda3/envs/python3/lib/python3.10/site-packages/langchain_community/vectorstores/qdrant.py:1371\u001b[0m, in \u001b[0;36mQdrant.from_texts\u001b[0;34m(cls, texts, embedding, metadatas, ids, location, url, port, grpc_port, prefer_grpc, https, api_key, prefix, timeout, host, path, collection_name, distance_func, content_payload_key, metadata_payload_key, vector_name, batch_size, shard_number, replication_factor, write_consistency_factor, on_disk_payload, hnsw_config, optimizers_config, wal_config, quantization_config, init_from, on_disk, force_recreate, **kwargs)\u001b[0m\n\u001b[1;32m   1236\u001b[0m \u001b[38;5;250m\u001b[39m\u001b[38;5;124;03m\"\"\"Construct Qdrant wrapper from a list of texts.\u001b[39;00m\n\u001b[1;32m   1237\u001b[0m \n\u001b[1;32m   1238\u001b[0m \u001b[38;5;124;03mArgs:\u001b[39;00m\n\u001b[0;32m   (...)\u001b[0m\n\u001b[1;32m   1337\u001b[0m \u001b[38;5;124;03m        qdrant = Qdrant.from_texts(texts, embeddings, \"localhost\")\u001b[39;00m\n\u001b[1;32m   1338\u001b[0m \u001b[38;5;124;03m\"\"\"\u001b[39;00m\n\u001b[1;32m   1339\u001b[0m qdrant \u001b[38;5;241m=\u001b[39m \u001b[38;5;28mcls\u001b[39m\u001b[38;5;241m.\u001b[39mconstruct_instance(\n\u001b[1;32m   1340\u001b[0m     texts,\n\u001b[1;32m   1341\u001b[0m     embedding,\n\u001b[0;32m   (...)\u001b[0m\n\u001b[1;32m   1369\u001b[0m     \u001b[38;5;241m*\u001b[39m\u001b[38;5;241m*\u001b[39mkwargs,\n\u001b[1;32m   1370\u001b[0m )\n\u001b[0;32m-> 1371\u001b[0m \u001b[43mqdrant\u001b[49m\u001b[38;5;241;43m.\u001b[39;49m\u001b[43madd_texts\u001b[49m\u001b[43m(\u001b[49m\u001b[43mtexts\u001b[49m\u001b[43m,\u001b[49m\u001b[43m \u001b[49m\u001b[43mmetadatas\u001b[49m\u001b[43m,\u001b[49m\u001b[43m \u001b[49m\u001b[43mids\u001b[49m\u001b[43m,\u001b[49m\u001b[43m \u001b[49m\u001b[43mbatch_size\u001b[49m\u001b[43m)\u001b[49m\n\u001b[1;32m   1372\u001b[0m \u001b[38;5;28;01mreturn\u001b[39;00m qdrant\n",
      "File \u001b[0;32m~/anaconda3/envs/python3/lib/python3.10/site-packages/langchain_community/vectorstores/qdrant.py:191\u001b[0m, in \u001b[0;36mQdrant.add_texts\u001b[0;34m(self, texts, metadatas, ids, batch_size, **kwargs)\u001b[0m\n\u001b[1;32m    175\u001b[0m \u001b[38;5;250m\u001b[39m\u001b[38;5;124;03m\"\"\"Run more texts through the embeddings and add to the vectorstore.\u001b[39;00m\n\u001b[1;32m    176\u001b[0m \n\u001b[1;32m    177\u001b[0m \u001b[38;5;124;03mArgs:\u001b[39;00m\n\u001b[0;32m   (...)\u001b[0m\n\u001b[1;32m    188\u001b[0m \u001b[38;5;124;03m    List of ids from adding the texts into the vectorstore.\u001b[39;00m\n\u001b[1;32m    189\u001b[0m \u001b[38;5;124;03m\"\"\"\u001b[39;00m\n\u001b[1;32m    190\u001b[0m added_ids \u001b[38;5;241m=\u001b[39m []\n\u001b[0;32m--> 191\u001b[0m \u001b[38;5;28;01mfor\u001b[39;00m batch_ids, points \u001b[38;5;129;01min\u001b[39;00m \u001b[38;5;28mself\u001b[39m\u001b[38;5;241m.\u001b[39m_generate_rest_batches(\n\u001b[1;32m    192\u001b[0m     texts, metadatas, ids, batch_size\n\u001b[1;32m    193\u001b[0m ):\n\u001b[1;32m    194\u001b[0m     \u001b[38;5;28mself\u001b[39m\u001b[38;5;241m.\u001b[39mclient\u001b[38;5;241m.\u001b[39mupsert(\n\u001b[1;32m    195\u001b[0m         collection_name\u001b[38;5;241m=\u001b[39m\u001b[38;5;28mself\u001b[39m\u001b[38;5;241m.\u001b[39mcollection_name, points\u001b[38;5;241m=\u001b[39mpoints, \u001b[38;5;241m*\u001b[39m\u001b[38;5;241m*\u001b[39mkwargs\n\u001b[1;32m    196\u001b[0m     )\n\u001b[1;32m    197\u001b[0m     added_ids\u001b[38;5;241m.\u001b[39mextend(batch_ids)\n",
      "File \u001b[0;32m~/anaconda3/envs/python3/lib/python3.10/site-packages/langchain_community/vectorstores/qdrant.py:2167\u001b[0m, in \u001b[0;36mQdrant._generate_rest_batches\u001b[0;34m(self, texts, metadatas, ids, batch_size)\u001b[0m\n\u001b[1;32m   2164\u001b[0m batch_ids \u001b[38;5;241m=\u001b[39m \u001b[38;5;28mlist\u001b[39m(islice(ids_iterator, batch_size))\n\u001b[1;32m   2166\u001b[0m \u001b[38;5;66;03m# Generate the embeddings for all the texts in a batch\u001b[39;00m\n\u001b[0;32m-> 2167\u001b[0m batch_embeddings \u001b[38;5;241m=\u001b[39m \u001b[38;5;28;43mself\u001b[39;49m\u001b[38;5;241;43m.\u001b[39;49m\u001b[43m_embed_texts\u001b[49m\u001b[43m(\u001b[49m\u001b[43mbatch_texts\u001b[49m\u001b[43m)\u001b[49m\n\u001b[1;32m   2169\u001b[0m points \u001b[38;5;241m=\u001b[39m [\n\u001b[1;32m   2170\u001b[0m     rest\u001b[38;5;241m.\u001b[39mPointStruct(\n\u001b[1;32m   2171\u001b[0m         \u001b[38;5;28mid\u001b[39m\u001b[38;5;241m=\u001b[39mpoint_id,\n\u001b[0;32m   (...)\u001b[0m\n\u001b[1;32m   2186\u001b[0m     )\n\u001b[1;32m   2187\u001b[0m ]\n\u001b[1;32m   2189\u001b[0m \u001b[38;5;28;01myield\u001b[39;00m batch_ids, points\n",
      "File \u001b[0;32m~/anaconda3/envs/python3/lib/python3.10/site-packages/langchain_community/vectorstores/qdrant.py:2107\u001b[0m, in \u001b[0;36mQdrant._embed_texts\u001b[0;34m(self, texts)\u001b[0m\n\u001b[1;32m   2096\u001b[0m \u001b[38;5;250m\u001b[39m\u001b[38;5;124;03m\"\"\"Embed search texts.\u001b[39;00m\n\u001b[1;32m   2097\u001b[0m \n\u001b[1;32m   2098\u001b[0m \u001b[38;5;124;03mUsed to provide backward compatibility with `embedding_function` argument.\u001b[39;00m\n\u001b[0;32m   (...)\u001b[0m\n\u001b[1;32m   2104\u001b[0m \u001b[38;5;124;03m    List of floats representing the texts embedding.\u001b[39;00m\n\u001b[1;32m   2105\u001b[0m \u001b[38;5;124;03m\"\"\"\u001b[39;00m\n\u001b[1;32m   2106\u001b[0m \u001b[38;5;28;01mif\u001b[39;00m \u001b[38;5;28mself\u001b[39m\u001b[38;5;241m.\u001b[39membeddings \u001b[38;5;129;01mis\u001b[39;00m \u001b[38;5;129;01mnot\u001b[39;00m \u001b[38;5;28;01mNone\u001b[39;00m:\n\u001b[0;32m-> 2107\u001b[0m     embeddings \u001b[38;5;241m=\u001b[39m \u001b[38;5;28;43mself\u001b[39;49m\u001b[38;5;241;43m.\u001b[39;49m\u001b[43membeddings\u001b[49m\u001b[38;5;241;43m.\u001b[39;49m\u001b[43membed_documents\u001b[49m\u001b[43m(\u001b[49m\u001b[38;5;28;43mlist\u001b[39;49m\u001b[43m(\u001b[49m\u001b[43mtexts\u001b[49m\u001b[43m)\u001b[49m\u001b[43m)\u001b[49m\n\u001b[1;32m   2108\u001b[0m     \u001b[38;5;28;01mif\u001b[39;00m \u001b[38;5;28mhasattr\u001b[39m(embeddings, \u001b[38;5;124m\"\u001b[39m\u001b[38;5;124mtolist\u001b[39m\u001b[38;5;124m\"\u001b[39m):\n\u001b[1;32m   2109\u001b[0m         embeddings \u001b[38;5;241m=\u001b[39m embeddings\u001b[38;5;241m.\u001b[39mtolist()\n",
      "File \u001b[0;32m~/anaconda3/envs/python3/lib/python3.10/site-packages/langchain_community/embeddings/huggingface.py:105\u001b[0m, in \u001b[0;36mHuggingFaceEmbeddings.embed_documents\u001b[0;34m(self, texts)\u001b[0m\n\u001b[1;32m    103\u001b[0m     sentence_transformers\u001b[38;5;241m.\u001b[39mSentenceTransformer\u001b[38;5;241m.\u001b[39mstop_multi_process_pool(pool)\n\u001b[1;32m    104\u001b[0m \u001b[38;5;28;01melse\u001b[39;00m:\n\u001b[0;32m--> 105\u001b[0m     embeddings \u001b[38;5;241m=\u001b[39m \u001b[38;5;28;43mself\u001b[39;49m\u001b[38;5;241;43m.\u001b[39;49m\u001b[43mclient\u001b[49m\u001b[38;5;241;43m.\u001b[39;49m\u001b[43mencode\u001b[49m\u001b[43m(\u001b[49m\n\u001b[1;32m    106\u001b[0m \u001b[43m        \u001b[49m\u001b[43mtexts\u001b[49m\u001b[43m,\u001b[49m\u001b[43m \u001b[49m\u001b[43mshow_progress_bar\u001b[49m\u001b[38;5;241;43m=\u001b[39;49m\u001b[38;5;28;43mself\u001b[39;49m\u001b[38;5;241;43m.\u001b[39;49m\u001b[43mshow_progress\u001b[49m\u001b[43m,\u001b[49m\u001b[43m \u001b[49m\u001b[38;5;241;43m*\u001b[39;49m\u001b[38;5;241;43m*\u001b[39;49m\u001b[38;5;28;43mself\u001b[39;49m\u001b[38;5;241;43m.\u001b[39;49m\u001b[43mencode_kwargs\u001b[49m\n\u001b[1;32m    107\u001b[0m \u001b[43m    \u001b[49m\u001b[43m)\u001b[49m\n\u001b[1;32m    109\u001b[0m \u001b[38;5;28;01mreturn\u001b[39;00m embeddings\u001b[38;5;241m.\u001b[39mtolist()\n",
      "File \u001b[0;32m~/anaconda3/envs/python3/lib/python3.10/site-packages/sentence_transformers/SentenceTransformer.py:546\u001b[0m, in \u001b[0;36mSentenceTransformer.encode\u001b[0;34m(self, sentences, prompt_name, prompt, batch_size, show_progress_bar, output_value, precision, convert_to_numpy, convert_to_tensor, device, normalize_embeddings)\u001b[0m\n\u001b[1;32m    544\u001b[0m             \u001b[38;5;66;03m# fixes for #522 and #487 to avoid oom problems on gpu with large datasets\u001b[39;00m\n\u001b[1;32m    545\u001b[0m             \u001b[38;5;28;01mif\u001b[39;00m convert_to_numpy:\n\u001b[0;32m--> 546\u001b[0m                 embeddings \u001b[38;5;241m=\u001b[39m \u001b[43membeddings\u001b[49m\u001b[38;5;241;43m.\u001b[39;49m\u001b[43mcpu\u001b[49m\u001b[43m(\u001b[49m\u001b[43m)\u001b[49m\n\u001b[1;32m    548\u001b[0m         all_embeddings\u001b[38;5;241m.\u001b[39mextend(embeddings)\n\u001b[1;32m    550\u001b[0m all_embeddings \u001b[38;5;241m=\u001b[39m [all_embeddings[idx] \u001b[38;5;28;01mfor\u001b[39;00m idx \u001b[38;5;129;01min\u001b[39;00m np\u001b[38;5;241m.\u001b[39margsort(length_sorted_idx)]\n",
      "\u001b[0;31mKeyboardInterrupt\u001b[0m: "
     ]
    }
   ],
   "source": [
    "# We have > 500,000 recipes, this takes a long time to run\n",
    "from langchain_community.vectorstores import Qdrant\n",
    "\n",
    "qdrant_store_nosplit = Qdrant.from_documents(documents,\n",
    "    embedding_model,\n",
    "    location=\":memory:\",\n",
    ")\n",
    "\n",
    "# qdrant_store = Qdrant.from_documents(split_documents['chunk1024_overlap0.25'],\n",
    "#     embedding_model,\n",
    "#     location=\":memory:\",\n",
    "# )"
   ]
  },
  {
   "cell_type": "code",
   "execution_count": null,
   "id": "5152d45a-a16c-4efd-9ff3-b1b9464ba304",
   "metadata": {
    "tags": []
   },
   "outputs": [],
   "source": [
    "qdrant_retriever = qdrant_store_nosplit.as_retriever()"
   ]
  },
  {
   "cell_type": "markdown",
   "id": "6f08e4b6-0311-45c8-b590-a64b55c9eb8e",
   "metadata": {},
   "source": [
    "### Reranker retriever"
   ]
  },
  {
   "cell_type": "code",
   "execution_count": null,
   "id": "dec022f2-3653-4a18-a1cc-e5a44dce0ca3",
   "metadata": {
    "tags": []
   },
   "outputs": [],
   "source": [
    "def pretty_print_docs(docs):\n",
    "    print(\n",
    "        f\"\\n{'-' * 100}\\n\".join(\n",
    "            [f\"Document {i+1}:\\n\\n\" + d.page_content for i, d in enumerate(docs)]\n",
    "        )\n",
    "    )"
   ]
  },
  {
   "cell_type": "code",
   "execution_count": null,
   "id": "12fb8346-76b4-45e5-ab3b-f12e81574871",
   "metadata": {
    "tags": []
   },
   "outputs": [],
   "source": [
    "from langchain.retrievers import ContextualCompressionRetriever\n",
    "from langchain.retrievers.document_compressors import CrossEncoderReranker\n",
    "from langchain_community.cross_encoders import HuggingFaceCrossEncoder\n",
    "\n",
    "qdrant_retriever_rerank = qdrant_store.as_retriever(search_kwargs={\"k\": 20})\n",
    "reranker_model = HuggingFaceCrossEncoder(model_name=\"BAAI/bge-reranker-base\")\n",
    "compressor = CrossEncoderReranker(model=reranker_model, top_n=3)\n",
    "compression_retriever = ContextualCompressionRetriever(\n",
    "    base_compressor=compressor, base_retriever=qdrant_retriever_rerank\n",
    ")\n",
    "\n",
    "compressed_docs = compression_retriever.invoke(\"What pizza can I make in 20 minutes?\")\n",
    "pretty_print_docs(compressed_docs)"
   ]
  },
  {
   "cell_type": "markdown",
   "id": "9cc8df35-7bbc-43fc-9766-99383f3c5349",
   "metadata": {},
   "source": [
    "### Agent function definitions"
   ]
  },
  {
   "cell_type": "code",
   "execution_count": null,
   "id": "a0e04d8b-4bb7-46e0-a2b1-22e4283d9238",
   "metadata": {
    "tags": []
   },
   "outputs": [],
   "source": [
    "def format_docs(docs):\n",
    "    formatted_docs = []\n",
    "    for doc in docs:\n",
    "        formatted_docs.append(f\"Metadata: {doc.metadata}\\n\")\n",
    "    content = \"\\n\\n\".join(formatted_docs)\n",
    "    \n",
    "    return content"
   ]
  },
  {
   "cell_type": "code",
   "execution_count": null,
   "id": "2dc1eaa0-d2bc-4b57-ad27-95301457e870",
   "metadata": {
    "tags": []
   },
   "outputs": [],
   "source": [
    "recipe_db_query_tool = {\n",
    "  \"name\": \"query_food_recipe_vector_db\",\n",
    "  \"description\": \"\"\"\n",
    "      Queries the vector database containing food recipes to retrieve the most relevant documents. \n",
    "      This function allows the model to generate and execute multiple queries as necessary to gather comprehensive context, \n",
    "      such as ingredients, preparation steps, and metadata like cuisine and diet type, ensuring accurate and thorough responses to user queries.\n",
    "      \"\"\",\n",
    "  \"input_schema\": {\n",
    "    \"type\": \"object\",\n",
    "    \"properties\": {\n",
    "      \"queries\": {\n",
    "        \"type\": \"array\",\n",
    "        \"items\": {\n",
    "          \"type\": \"string\",\n",
    "          \"description\": \"A query generated by the model to run against the vector database to fetch recipe documents.\"\n",
    "        },\n",
    "        \"description\": \"A list of queries generated by the model to run against the vector database to fetch recipe documents.\"\n",
    "      }\n",
    "    },\n",
    "    \"required\": [\"queries\"]\n",
    "  }\n",
    "}\n"
   ]
  },
  {
   "cell_type": "markdown",
   "id": "64c1e9c9-88bd-446a-a0f5-a7ed5bcf8972",
   "metadata": {},
   "source": [
    "### Init bedrock model, define util to stateless messaging, no fn calling"
   ]
  },
  {
   "cell_type": "code",
   "execution_count": null,
   "id": "af0aacad-2b9d-4504-80b2-b47d92949ce8",
   "metadata": {
    "tags": []
   },
   "outputs": [],
   "source": [
    "import json"
   ]
  },
  {
   "cell_type": "code",
   "execution_count": null,
   "id": "91b6a9d4-d05c-4340-8281-d050403b0a89",
   "metadata": {
    "tags": []
   },
   "outputs": [],
   "source": [
    "bedrock_client = boto3.client('bedrock-runtime', region_name=\"us-east-1\")"
   ]
  },
  {
   "cell_type": "code",
   "execution_count": null,
   "id": "e65cefc3-4a52-4985-b7da-b97224a7f356",
   "metadata": {
    "tags": []
   },
   "outputs": [],
   "source": [
    "# We will need to tune these prompts\n",
    "# query_bedrock_llm() definition NEEDS TO BE RERUN\n",
    "# each time when changes are made to this prompt\n",
    "\n",
    "baseline_sys_prompt = \"\"\"\n",
    "You are a helpful assistant and expert in cooking recipes.\n",
    "\n",
    "Before answering, always make at least one call to query_food_recipe_vector_db\n",
    "to retrieve the relevant context of recipes and ingredients to generate an informed\n",
    "and high-quality response to the user prompt but NEVER exceed a MAXIMUM of \n",
    "3 calls to the query_food_recipe_vector_db function.\n",
    "\n",
    "Provide a response to the user prompt about food with recommended recipes and instructions.\n",
    "\"\"\""
   ]
  },
  {
   "cell_type": "code",
   "execution_count": null,
   "id": "bd6cb3e3-04ac-465c-8bc0-e913d4086b21",
   "metadata": {
    "tags": []
   },
   "outputs": [],
   "source": [
    "# We will need to tune these prompts\n",
    "\n",
    "baseline_sys_prompt_basic = \"\"\"\n",
    "You are a helpful assistant and expert in cooking recipes.\n",
    "You will be provided a list of relevant context about relevant food recipes\n",
    "which includes metadata like ingredients and cooking instructions.\n",
    "\n",
    "Provide a response to the user prompt about food with recommended recipes and instructions.\n",
    "\"\"\""
   ]
  },
  {
   "cell_type": "code",
   "execution_count": null,
   "id": "ed11c7ae-7ac1-4dab-b889-fad779b36280",
   "metadata": {
    "tags": []
   },
   "outputs": [],
   "source": [
    "MODEL_ID = \"anthropic.claude-3-sonnet-20240229-v1:0\"\n",
    "\n",
    "def query_bedrock_llm(messages):\n",
    "    response = bedrock_client.invoke_model(\n",
    "        modelId=MODEL_ID,\n",
    "        body=json.dumps({\n",
    "            'anthropic_version': 'bedrock-2023-05-31', # This is required to use chat style messages object \n",
    "            'system': baseline_sys_prompt,\n",
    "            'messages': messages,\n",
    "            'max_tokens': 3000,\n",
    "            \"tools\": [recipe_db_query_tool],\n",
    "\n",
    "            # This config forces the model to always call the recipe db query tool atleast once \n",
    "            # https://docs.anthropic.com/en/docs/build-with-claude/tool-use#controlling-claudes-output\n",
    "            # \"tool_choice\": {\n",
    "            #     \"type\": \"tool\",\n",
    "            #     \"name\": recipe_db_query_tool['name']\n",
    "            # },\n",
    "            \n",
    "            # TODO: TUNE THESE VALUES\n",
    "            'temperature': 0.1, \n",
    "            'top_p': 0.9\n",
    "        })\n",
    "    )\n",
    "    response_body = json.loads(response.get('body').read())\n",
    "    \n",
    "    return response_body"
   ]
  },
  {
   "cell_type": "code",
   "execution_count": null,
   "id": "2e158b92-b58b-4a5a-8fcf-4a52ebb4d67d",
   "metadata": {
    "tags": []
   },
   "outputs": [],
   "source": [
    "MODEL_ID = \"anthropic.claude-3-sonnet-20240229-v1:0\"\n",
    "\n",
    "def query_bedrock_llm_basic(messages):\n",
    "    response = bedrock_client.invoke_model(\n",
    "        modelId=MODEL_ID,\n",
    "        body=json.dumps({\n",
    "            'anthropic_version': 'bedrock-2023-05-31', # This is required to use chat style messages object \n",
    "            'system': baseline_sys_prompt_basic,\n",
    "            'messages': messages,\n",
    "            'max_tokens': 3000,\n",
    "            \n",
    "            # TODO: TUNE THESE VALUES\n",
    "            'temperature': 0.1, \n",
    "            'top_p': 0.9\n",
    "        })\n",
    "    )\n",
    "    response_body = json.loads(response.get('body').read())\n",
    "    \n",
    "    print(response_body['content'][0]['text'])\n",
    "    \n",
    "    return response_body['content'][0]['text']"
   ]
  },
  {
   "cell_type": "markdown",
   "id": "9abb22e4-9e26-4d4d-9ce1-f6b20bac5cb5",
   "metadata": {},
   "source": [
    "### Pipe langchain together"
   ]
  },
  {
   "cell_type": "code",
   "execution_count": null,
   "id": "1cc70641-ecc2-4cc6-a77f-0f70b806f274",
   "metadata": {
    "tags": []
   },
   "outputs": [],
   "source": [
    "from langchain_core.prompts import ChatPromptTemplate\n",
    "from langchain_core.runnables import RunnablePassthrough, RunnableMap"
   ]
  },
  {
   "cell_type": "code",
   "execution_count": null,
   "id": "ad7ab6e1-f849-4a25-9fc1-5df44026de00",
   "metadata": {
    "tags": []
   },
   "outputs": [],
   "source": [
    "baseline_user_prompt_basic = \"\"\"\n",
    "### Here is a context:\n",
    "{context} \n",
    "\n",
    "### Here is a user prompt:\n",
    "{query}\n",
    "\"\"\""
   ]
  },
  {
   "cell_type": "code",
   "execution_count": null,
   "id": "72b5ce6a-3aac-4fb4-b9a3-8742402f185c",
   "metadata": {
    "tags": []
   },
   "outputs": [],
   "source": [
    "baseline_user_prompt = \"\"\"\n",
    "### Here is a user prompt:\n",
    "{query}\n",
    "\"\"\""
   ]
  },
  {
   "cell_type": "code",
   "execution_count": null,
   "id": "d466b594-b943-43b7-90be-23b454a698e0",
   "metadata": {
    "tags": []
   },
   "outputs": [],
   "source": [
    "def process_prompt(query_args):\n",
    "    prompt_with_query = baseline_user_prompt.replace(\"{query}\", query_args['query'])\n",
    "    \n",
    "    # This format doesn't matter much now, but we will use it later to \n",
    "    # persist chat history for continuous dialogue\n",
    "    messages = [\n",
    "        {\n",
    "            \"role\": \"user\",\n",
    "            \"content\": [\n",
    "                {\n",
    "                    \"type\": \"text\",\n",
    "                    \"text\": prompt_with_query\n",
    "                }\n",
    "            ]\n",
    "        }\n",
    "    ]\n",
    "    \n",
    "    return messages"
   ]
  },
  {
   "cell_type": "code",
   "execution_count": null,
   "id": "95fdc8ab-fc6b-4dad-8826-f77f4d6d45cc",
   "metadata": {
    "tags": []
   },
   "outputs": [],
   "source": [
    "def process_prompt_basic(query_args):\n",
    "    prompt_with_context = baseline_user_prompt_basic.replace(\"{context}\", query_args['context'])\n",
    "    prompt_with_query = prompt_with_context.replace(\"{query}\", query_args['query'])\n",
    "    \n",
    "    # This format doesn't matter much now, but we will use it later to \n",
    "    # persist chat history for continuous dialogue\n",
    "    messages = [\n",
    "        {\n",
    "            \"role\": \"user\",\n",
    "            \"content\": [\n",
    "                {\n",
    "                    \"type\": \"text\",\n",
    "                    \"text\": prompt_with_query\n",
    "                }\n",
    "            ]\n",
    "        }\n",
    "    ]\n",
    "    \n",
    "    return messages"
   ]
  },
  {
   "cell_type": "code",
   "execution_count": null,
   "id": "1254f41c-9261-46a6-9140-2f7c538a47a1",
   "metadata": {
    "tags": []
   },
   "outputs": [],
   "source": [
    "qdrant_rag_chain = (\n",
    "    RunnableMap(\n",
    "        # {\"context\": qdrant_retriever | format_docs,\n",
    "         {\"query\": RunnablePassthrough()}\n",
    "    )\n",
    "    | process_prompt\n",
    "    | query_bedrock_llm\n",
    "    # | parse_event_stream\n",
    ")"
   ]
  },
  {
   "cell_type": "code",
   "execution_count": null,
   "id": "e69b9cca-14d6-46eb-bd4a-cded04b3f591",
   "metadata": {
    "tags": []
   },
   "outputs": [],
   "source": [
    "qdrant_rag_chain_basic = (\n",
    "    RunnableMap(\n",
    "        {\"context\": qdrant_retriever | format_docs,\n",
    "         \"query\": RunnablePassthrough()}\n",
    "    )\n",
    "    | process_prompt_basic\n",
    "    | query_bedrock_llm_basic\n",
    ")"
   ]
  },
  {
   "cell_type": "code",
   "execution_count": null,
   "id": "e06a4b66-8abb-43b0-a0c8-bc792f0eb43f",
   "metadata": {
    "tags": []
   },
   "outputs": [],
   "source": [
    "qdrant_rag_chain_rerank = (\n",
    "    RunnableMap(\n",
    "        {\"context\": compression_retriever | format_docs,\n",
    "         \"query\": RunnablePassthrough()}\n",
    "    )\n",
    "    | process_prompt_basic\n",
    "    | query_bedrock_llm_basic\n",
    ")"
   ]
  },
  {
   "cell_type": "markdown",
   "id": "4e33af48-0606-4e6f-b57a-53ce71d0f1b8",
   "metadata": {},
   "source": [
    "### Model generates dynamic context queries to vector db"
   ]
  },
  {
   "cell_type": "code",
   "execution_count": null,
   "id": "6de5108e-285d-4457-8838-2c92ec0fc08d",
   "metadata": {
    "tags": []
   },
   "outputs": [],
   "source": [
    "test_queries = {\n",
    "    '1': \"\"\"\n",
    "    I enjoy asian fusion food and I am a vegetarian. \n",
    "    Give me one recipe with ingredients and instructions\n",
    "    \"\"\",\n",
    "\n",
    "    '2': \"\"\"\n",
    "    I have a peanut allergy but I like thai food. \n",
    "    I also don't enjoy spicy food much, and want a meal with low carbs. \n",
    "    Give a recipe with ingredients and instructions\n",
    "    \"\"\",\n",
    "\n",
    "    '3': \"\"\"\n",
    "    Suggest a low-carb breakfast recipe that includes eggs and spinach, \n",
    "    can be prepared in under 20 minutes, \n",
    "    and is suitable for a keto diet.\n",
    "    \"\"\",\n",
    "\n",
    "    '4': \"\"\"\n",
    "    Suggest a healthy dinner recipe for two people that includes fish, \n",
    "    is under 500 calories per serving, \n",
    "    and can be made in less than 40 minutes.\n",
    "    \"\"\",\n",
    "\n",
    "    '5': \"\"\"\n",
    "    I am on a ketogenic diet and need a dinner recipe that is dairy-free, \n",
    "    low in sodium, and takes less than an hour to cook.\n",
    "    \"\"\",\n",
    "\n",
    "    '6': \"\"\"\n",
    "    I'm looking for a pescatarian main course that is low in saturated fat, \n",
    "    uses Asian flavors, and can be prepared in under 45 minutes.\n",
    "    \"\"\",\n",
    "\n",
    "    '7': \"\"\"\n",
    "    I need a diabetic-friendly, vegan breakfast recipe that is gluten-free, \n",
    "    nut-free, and low in cholesterol, but also rich in omega-3 fatty acids \n",
    "    and can be prepared the night before.\n",
    "    \"\"\",\n",
    "\n",
    "    '8': \"\"\"\n",
    "    I am following a strict paleo diet and need a lunch recipe that is dairy-free, \n",
    "    gluten-free, low in carbs, and low in sodium. Additionally, it should be rich in antioxidants, \n",
    "    and can be made in under 30 minutes with minimal cooking equipment.\n",
    "    \"\"\"\n",
    "}\n",
    "\n"
   ]
  },
  {
   "cell_type": "code",
   "execution_count": null,
   "id": "ab4dc99d-0f4f-4174-89da-31f60dc7b64b",
   "metadata": {
    "tags": []
   },
   "outputs": [],
   "source": [
    "qdrant_rag_chain.invoke(test_queries['1'])"
   ]
  },
  {
   "cell_type": "markdown",
   "id": "3ad71bb4-54a7-4037-94c3-72e7340a3bdc",
   "metadata": {},
   "source": [
    "### Implement continuous dialogue and function calling"
   ]
  },
  {
   "cell_type": "code",
   "execution_count": null,
   "id": "36cdb25c-0aff-4170-9736-a0c56aa0e53a",
   "metadata": {
    "tags": []
   },
   "outputs": [],
   "source": [
    "def generate_message(prompt):\n",
    "    if type(prompt) != str:\n",
    "        raise ValueError(f'Tried to call message generate_message with non-string input: {prompt}')\n",
    "        \n",
    "    return {\n",
    "        \"role\": \"user\",\n",
    "        \"content\": [\n",
    "            {\n",
    "                \"type\": \"text\",\n",
    "                \"text\": prompt\n",
    "            }\n",
    "        ]\n",
    "    }"
   ]
  },
  {
   "cell_type": "code",
   "execution_count": null,
   "id": "0aafdca2-4248-4780-8c0f-4cbdd2209889",
   "metadata": {
    "tags": []
   },
   "outputs": [],
   "source": [
    "def generate_tool_message(fn_results):\n",
    "    \n",
    "    return {\n",
    "        \"role\": \"user\",\n",
    "        \"content\": fn_results\n",
    "    }"
   ]
  },
  {
   "cell_type": "code",
   "execution_count": null,
   "id": "3e1efe9b-eee3-402a-b606-df6c536b9990",
   "metadata": {
    "tags": []
   },
   "outputs": [],
   "source": [
    "import json\n",
    "\n",
    "# Adds the current prompt as a new message to the chat history\n",
    "# and calls bedrock with the entire chat history\n",
    "# Returns the response body, llm's message, and new chat history\n",
    "\n",
    "'''\n",
    "Example response body structure:\n",
    "{\n",
    "   \"id\":\"msg_bdrk_01C5GGkafK7aL3P5i3rsMr1p\",\n",
    "   \"type\":\"message\",\n",
    "   \"role\":\"assistant\",\n",
    "   \"model\":\"claude-3-sonnet-20240229\",\n",
    "   \"content\":[\n",
    "      {\n",
    "         \"type\":\"tool_use\",\n",
    "         \"id\":\"toolu_bdrk_01CQiYa8BMJfpJC68DuRdwQn\",\n",
    "         \"name\":\"query_food_recipe_vector_db\",\n",
    "         \"input\":{\n",
    "            \"queries\":[\n",
    "               \"healthy fish dinner recipe under 500 calories\",\n",
    "               \"fish dinner recipe for two under 40 minutes\"\n",
    "            ]\n",
    "         }\n",
    "      }\n",
    "   ],\n",
    "   \"stop_reason\":\"tool_use\",\n",
    "   \"stop_sequence\":\"None\",\n",
    "   \"usage\":{\n",
    "      \"input_tokens\":559,\n",
    "      \"output_tokens\":55\n",
    "   }\n",
    "}\n",
    "'''\n",
    "def message_handler(existing_chat_history, prompt, is_tool_message=False):\n",
    "    # Fn results is an array of tool response objects\n",
    "    # message structure needs to reflect that\n",
    "    if is_tool_message:\n",
    "        user_message = generate_tool_message(prompt)\n",
    "    else:\n",
    "        user_message = generate_message(prompt)\n",
    "    existing_chat_history.append(user_message)\n",
    "\n",
    "    # Parse the response content\n",
    "    response_body = query_bedrock_llm(existing_chat_history)\n",
    "    llm_message = {\n",
    "        'role': response_body['role'],\n",
    "        'content': response_body['content']\n",
    "    }\n",
    "\n",
    "    # Add the response message to the chat history\n",
    "    existing_chat_history.append(llm_message)\n",
    "    \n",
    "    return [response_body, llm_message, existing_chat_history]"
   ]
  },
  {
   "cell_type": "code",
   "execution_count": null,
   "id": "54251908-abed-4098-88db-dae841ce9875",
   "metadata": {
    "tags": []
   },
   "outputs": [],
   "source": [
    "# Executes a list of queries and returns a list of document results\n",
    "def handle_vector_db_queries(queries, retriever=qdrant_retriever): \n",
    "    context_docs = []\n",
    "    for query in queries:\n",
    "        query_results = retriever.invoke(query)\n",
    "        context_docs.extend(query_results)\n",
    "\n",
    "    return context_docs"
   ]
  },
  {
   "cell_type": "code",
   "execution_count": null,
   "id": "a7daf0c5-eca6-496d-a9d3-97d7d472a086",
   "metadata": {
    "tags": []
   },
   "outputs": [],
   "source": [
    "# Takes as an argument to LLM message content, returns a list of the fn result objects\n",
    "def handle_function_calls(tool_call_message_content, retriever=qdrant_retriever):\n",
    "    tool_results = []\n",
    "    \n",
    "    for tool_call in tool_call_message_content:\n",
    "        # Only process messages from the LLM that are function calls\n",
    "        if tool_call['type'] != 'tool_use':\n",
    "            continue\n",
    "        fn_id = tool_call['id']\n",
    "        fn_name = tool_call['name']\n",
    "        fn_args = tool_call['input']\n",
    "        fn_result = {\n",
    "            \"type\": \"tool_result\",\n",
    "            \"tool_use_id\": fn_id,\n",
    "        }   \n",
    "\n",
    "        if fn_name == 'query_food_recipe_vector_db':\n",
    "            if 'queries' not in fn_args:\n",
    "                print(f\"ERROR: Tried to call {fn_name} with invalid args {fn_args}, skipping..\")\n",
    "                fn_result['content'] = \"\"\n",
    "                fn_result['is_error'] = True\n",
    "                tool_results.append(fn_result)\n",
    "                continue\n",
    "                \n",
    "            print(f\"Model called {fn_name} with args {fn_args}\")\n",
    "            context_docs = handle_vector_db_queries(fn_args['queries'], retriever)\n",
    "            context_str = format_docs(context_docs)\n",
    "            fn_result['content'] = context_str\n",
    "            tool_results.append(fn_result)\n",
    "            \n",
    "        # TODO: handle web search invocation here\n",
    "        else:\n",
    "            print(f\"ERROR: Attempted call to unknown function {fn_name}\")\n",
    "            fn_result['content'] = \"\"\n",
    "            fn_result['is_error'] = True\n",
    "            tool_results.append(fn_result)\n",
    "\n",
    "    return tool_results"
   ]
  },
  {
   "cell_type": "markdown",
   "id": "7e719297-c2db-4068-898d-81ea89ce4551",
   "metadata": {},
   "source": [
    "### Run dynamic query function calling with test queries"
   ]
  },
  {
   "cell_type": "code",
   "execution_count": null,
   "id": "33afd461-f722-404e-bc42-617a953e559d",
   "metadata": {
    "tags": []
   },
   "outputs": [],
   "source": [
    "'''\n",
    "Example payload structure of response_body:\n",
    "\n",
    "{'id': 'msg_bdrk_01REesjegNiLteurBoxW7pSt',\n",
    " 'type': 'message',\n",
    " 'role': 'assistant',\n",
    " 'model': 'claude-3-sonnet-20240229',\n",
    " 'content': [{'type': 'tool_use',\n",
    "   'id': 'toolu_bdrk_01191W2FuAFTRoDqKKeJSmmn',\n",
    "   'name': 'query_food_recipe_vector_db',\n",
    "   'input': {'queries': ['thai food',\n",
    "     'peanut free',\n",
    "     'low carb',\n",
    "     'not spicy']}}],\n",
    " 'stop_reason': 'tool_use',\n",
    " 'stop_sequence': None,\n",
    " 'usage': {'input_tokens': 573, 'output_tokens': 52}}\n",
    "\n",
    "\n",
    "Example payload structure of llm_message['content']:\n",
    "\n",
    "[{'type': 'tool_use',\n",
    "   'id': 'toolu_bdrk_01191W2FuAFTRoDqKKeJSmmn',\n",
    "   'name': 'query_food_recipe_vector_db',\n",
    "   'input': {'queries': ['thai food',\n",
    "     'peanut free',\n",
    "     'low carb',\n",
    "     'not spicy']}}]\n",
    "'''\n",
    "\n",
    "# This function is the entry point to invoke the LLM with support for function calling\n",
    "# parsing output, calling requested functions, sending output is handled here\n",
    "def run_chat_loop(prompt, retriever=qdrant_retriever):\n",
    "    print(f\"[User]: {prompt}\")\n",
    "    response_body, llm_message, chat_history = message_handler(existing_chat_history=[], prompt=prompt)\n",
    "    \n",
    "    \n",
    "    # The model wants to call tools, call them, provide response, repeat until content is generated\n",
    "    while response_body['stop_reason'] == 'tool_use':\n",
    "        fn_results = handle_function_calls(tool_call_message_content=llm_message['content'], retriever=retriever)\n",
    "\n",
    "        # Send function results back to LLM as a new message with the existing chat history\n",
    "        response_body, llm_message, chat_history = message_handler(\n",
    "            existing_chat_history=chat_history, \n",
    "            prompt=fn_results,\n",
    "            is_tool_message=True\n",
    "        )\n",
    "\n",
    "    # The model is done calling tools\n",
    "    print(f\"\\n[Model]: {llm_message['content'][0]['text']}\")\n",
    "    return f\"\\n[Model]: {llm_message['content'][0]['text']}\"\n"
   ]
  },
  {
   "cell_type": "code",
   "execution_count": null,
   "id": "cae17c97-2d7c-434a-ba3c-92e4ce7a0afa",
   "metadata": {
    "tags": []
   },
   "outputs": [],
   "source": [
    "run_chat_loop(test_queries['1'])"
   ]
  },
  {
   "cell_type": "markdown",
   "id": "dd2af1dd-de2e-4858-acab-6e5c8c6e3efc",
   "metadata": {
    "tags": []
   },
   "source": [
    "### Evaluation method\n",
    "1. Use LLM as a judge \n",
    "2. Basic Sniff test\n",
    "\n",
    "### Evaluation pipeline\n",
    "1. Look at EDA result and determine the type of cuisine preesnt in the data. Come up with 8 \"Test Questions\". - Done. \n",
    "    test_query_1 to test_query_8\n",
    "2. Feed the test questions in to the basic RAG, function calling RAG\n",
    "3. Gather response and use the following two methods to evaluate them.\n",
    "   1. LLM as a judge (provide grading ruberic) and ask the eval LLM to provide a score of 1-5.\n",
    "   2. Sniff test \n",
    "  "
   ]
  },
  {
   "cell_type": "markdown",
   "id": "b35de926-c6e1-4ac5-953d-9a82cf8ca2df",
   "metadata": {
    "tags": []
   },
   "source": [
    "### Recipe Grading Criteria - Pass into the Eval LLM as part of the prompt\n",
    "\n",
    "Grading Scale (1-5)\n",
    "\n",
    "5 - Exceptional Recipe:\n",
    "\n",
    "    1. Accuracy: The recipe is highly accurate and closely matches the user's query, including all specified ingredients, dietary restrictions, and desired cuisine type.\n",
    "    2. Clarity: The instructions are clear, easy to follow, and logically sequenced. Cooking times and temperatures are precise.\n",
    "    3. Creativity: The recipe demonstrates creativity, offering a unique or interesting twist on a classic dish or a novel combination of ingredients.\n",
    "    4. Completeness: The recipe includes all necessary details, such as ingredient measurements, preparation steps, serving suggestions, and any relevant tips or variations.\n",
    "    5. Healthiness: The recipe provides a balanced nutritional profile, aligning with any specified health goals or dietary considerations.\n",
    "    6. User Feedback: The recipe is likely to receive high ratings from users for both taste and ease of preparation.\n",
    "\n",
    "\n",
    "4 - Very Good Recipe:\n",
    "\n",
    "    1. Accuracy: The recipe mostly matches the user's query with minor deviations or substitutions that still align with the user's dietary restrictions and preferences.\n",
    "    2. Clarity: The instructions are clear and easy to follow, with only minor areas that could benefit from additional detail.\n",
    "    3. Creativity: The recipe shows some creativity and presents an appealing dish, though it may not be as unique as a 5-rated recipe.\n",
    "    4. Completeness: The recipe includes most necessary details, but might miss a few minor tips or variations.\n",
    "    5. Healthiness: The recipe is generally healthy, though it may not be as nutritionally balanced as a 5-rated recipe.\n",
    "    6. User Feedback: The recipe is likely to receive good ratings from users, being tasty and reasonably easy to prepare.\n",
    "\n",
    "3 - Good Recipe:\n",
    "\n",
    "    1. Accuracy: The recipe has a reasonable match with the user's query but may include some inaccuracies or ingredient substitutions that slightly alter the dish's nature.\n",
    "    2. Clarity: The instructions are generally clear but may have a few confusing steps or lack detailed guidance in some areas.\n",
    "    3. Creativity: The recipe is standard with minimal creativity or uniqueness.\n",
    "    4. Completeness: The recipe includes the essential details but lacks additional helpful information or suggestions.\n",
    "    5. Healthiness: The recipe is moderately healthy but may lack balance in terms of nutritional profile.\n",
    "    6. User Feedback: The recipe is expected to receive average ratings, being satisfactory but not outstanding in taste or ease of preparation.\n",
    "\n",
    "2 - Fair Recipe:\n",
    "\n",
    "    1. Accuracy: The recipe has noticeable discrepancies from the user's query, potentially including ingredients that were supposed to be excluded due to dietary restrictions.\n",
    "    2. Clarity: The instructions are unclear or difficult to follow, with significant gaps or ambiguities.\n",
    "    3. Creativity: The recipe lacks creativity and may appear bland or uninspired.\n",
    "    4. Completeness: The recipe is missing several important details, such as precise measurements or key preparation steps.\n",
    "    5. Healthiness: The recipe is not particularly healthy and may have an unbalanced nutritional profile.\n",
    "    6. User Feedback: The recipe is likely to receive below-average ratings due to issues with taste, clarity, or preparation difficulty.\n",
    "\n",
    "1 - Poor Recipe:\n",
    "\n",
    "    1. Accuracy: The recipe significantly deviates from the user's query, ignoring key dietary restrictions or preferences.\n",
    "    2. Clarity: The instructions are confusing, incomplete, or incorrect, making the recipe difficult or impossible to follow.\n",
    "    3. Creativity: The recipe is not creative and may seem haphazard or poorly thought out.\n",
    "    4. Completeness: The recipe is missing critical details, such as major ingredients, steps, or cooking times.\n",
    "    5. Healthiness: The recipe is unhealthy and lacks a balanced nutritional profile.\n",
    "    6. User Feedback: The recipe is likely to receive low ratings due to poor taste, difficulty in preparation, or failure to meet user expectations."
   ]
  },
  {
   "cell_type": "code",
   "execution_count": null,
   "id": "df7088e1-430d-4eca-9d21-39aa660440f2",
   "metadata": {
    "tags": []
   },
   "outputs": [],
   "source": [
    "# Eval framework\n",
    "MODEL_ID = \"anthropic.claude-3-haiku-20240307-v1:0\"\n",
    "\n",
    "def query_bedrock_eval_llm(messages):\n",
    "    response = bedrock_client.invoke_model(\n",
    "        modelId=MODEL_ID,\n",
    "        body=json.dumps({\n",
    "            'anthropic_version': 'bedrock-2023-05-31', # This is required to use chat style messages object \n",
    "            'messages': messages,\n",
    "            'max_tokens': 3000,\n",
    "\n",
    "            # This config forces the model to always call the recipe db query tool atleast once \n",
    "            # https://docs.anthropic.com/en/docs/build-with-claude/tool-use#controlling-claudes-output\n",
    "            # \"tool_choice\": {\n",
    "            #     \"type\": \"tool\",\n",
    "            #     \"name\": recipe_db_query_tool['name']\n",
    "            # },\n",
    "            \n",
    "            # TODO: TUNE THESE VALUES\n",
    "            'temperature': 0.1, \n",
    "            'top_p': 0.9,\n",
    "            'top_k' : 2,\n",
    "        })\n",
    "    )\n",
    "    response_body = json.loads(response.get('body').read())\n",
    "    \n",
    "    return response_body"
   ]
  },
  {
   "cell_type": "code",
   "execution_count": null,
   "id": "48349c51-7a1d-4762-9623-105c16530b5d",
   "metadata": {
    "tags": []
   },
   "outputs": [],
   "source": [
    "qdrant_rag_chain_eval = (\n",
    "    RunnableMap(\n",
    "        # {\"context\": qdrant_retriever | format_docs,\n",
    "         {\"query\": RunnablePassthrough()}\n",
    "    )\n",
    "    | process_prompt\n",
    "    | query_bedrock_eval_llm\n",
    "    # | parse_event_stream\n",
    ")"
   ]
  },
  {
   "cell_type": "code",
   "execution_count": null,
   "id": "ac0221f6-3259-495d-b665-f51beb2a8a7c",
   "metadata": {
    "tags": []
   },
   "outputs": [],
   "source": [
    "def llm_judge_eval(queries_index_list, model_responses_dict):\n",
    "    \n",
    "    # eval_responses = copy.deepcopy(model_responses_dict)\n",
    "    \n",
    "    for model_name, response_dict in model_responses_dict.items():\n",
    "        for i in queries_index_list:\n",
    "            query = test_queries[i]\n",
    "            response = response_dict[i]\n",
    "\n",
    "            eval_message = f\"\"\"\n",
    "            You are a helpful assistant and expert in reviewing cooking recipes.\n",
    "\n",
    "            Please look at the given user query, recipe generated by another LLM and follow the rubric below. Provide a score between 1-5 on how good the recipe is.\n",
    "\n",
    "            user query : \"{query}\"\n",
    "\n",
    "            Recipe generated by another LLM: \"{response}\"\n",
    "\n",
    "            Recipe review rubric: \n",
    "\n",
    "            Grading Scale (1-5)\n",
    "\n",
    "            5 - Exceptional Recipe:\n",
    "\n",
    "            1. Accuracy: The recipe is highly accurate and closely matches the user's query, including all specified ingredients, dietary restrictions, and desired cuisine type.\n",
    "            2. Clarity: The instructions are clear, easy to follow, and logically sequenced. Cooking times and temperatures are precise.\n",
    "            3. Creativity: The recipe demonstrates creativity, offering a unique or interesting twist on a classic dish or a novel combination of ingredients.\n",
    "            4. Completeness: The recipe includes all necessary details, such as ingredient measurements, preparation steps, serving suggestions, and any relevant tips or variations.\n",
    "            5. Healthiness: The recipe provides a balanced nutritional profile, aligning with any specified health goals or dietary considerations.\n",
    "            6. User Feedback: The recipe is likely to receive high ratings from users for both taste and ease of preparation.\n",
    "            4 - Very Good Recipe:\n",
    "\n",
    "            1. Accuracy: The recipe mostly matches the user's query with minor deviations or substitutions that still align with the user's dietary restrictions and preferences.\n",
    "            2. Clarity: The instructions are clear and easy to follow, with only minor areas that could benefit from additional detail.\n",
    "            3. Creativity: The recipe shows some creativity and presents an appealing dish, though it may not be as unique as a 5-rated recipe.\n",
    "            4. Completeness: The recipe includes most necessary details, but might miss a few minor tips or variations.\n",
    "            5. Healthiness: The recipe is generally healthy, though it may not be as nutritionally balanced as a 5-rated recipe.\n",
    "            6. User Feedback: The recipe is likely to receive good ratings from users, being tasty and reasonably easy to prepare.\n",
    "            3 - Good Recipe:\n",
    "\n",
    "            1. Accuracy: The recipe has a reasonable match with the user's query but may include some inaccuracies or ingredient substitutions that slightly alter the dish's nature.\n",
    "            2. Clarity: The instructions are generally clear but may have a few confusing steps or lack detailed guidance in some areas.\n",
    "            3. Creativity: The recipe is standard with minimal creativity or uniqueness.\n",
    "            4. Completeness: The recipe includes the essential details but lacks additional helpful information or suggestions.\n",
    "            5. Healthiness: The recipe is moderately healthy but may lack balance in terms of nutritional profile.\n",
    "            6. User Feedback: The recipe is expected to receive average ratings, being satisfactory but not outstanding in taste or ease of preparation.\n",
    "            2 - Fair Recipe:\n",
    "\n",
    "            1. Accuracy: The recipe has noticeable discrepancies from the user's query, potentially including ingredients that were supposed to be excluded due to dietary restrictions.\n",
    "            2. Clarity: The instructions are unclear or difficult to follow, with significant gaps or ambiguities.\n",
    "            3. Creativity: The recipe lacks creativity and may appear bland or uninspired.\n",
    "            4. Completeness: The recipe is missing several important details, such as precise measurements or key preparation steps.\n",
    "            5. Healthiness: The recipe is not particularly healthy and may have an unbalanced nutritional profile.\n",
    "            6. User Feedback: The recipe is likely to receive below-average ratings due to issues with taste, clarity, or preparation difficulty.\n",
    "            1 - Poor Recipe:\n",
    "\n",
    "            1. Accuracy: The recipe significantly deviates from the user's query, ignoring key dietary restrictions or preferences.\n",
    "            2. Clarity: The instructions are confusing, incomplete, or incorrect, making the recipe difficult or impossible to follow.\n",
    "            3. Creativity: The recipe is not creative and may seem haphazard or poorly thought out.\n",
    "            4. Completeness: The recipe is missing critical details, such as major ingredients, steps, or cooking times.\n",
    "            5. Healthiness: The recipe is unhealthy and lacks a balanced nutritional profile.\n",
    "            6. User Feedback: The recipe is likely to receive low ratings due to poor taste, difficulty in preparation, or failure to meet user expectations.\n",
    "\n",
    "            The response format should be the following :\n",
    "\n",
    "            User Query : \n",
    "            Recipe reviewed : \n",
    "            Score : \n",
    "            Reasoning : \n",
    "                1. Accuracy:\n",
    "                2. Clarity :\n",
    "                3. Creativity :\n",
    "                4. Completeness : \n",
    "                5. Healthiness : \n",
    "                6. User Feedback :\n",
    "            \"\"\"\n",
    "\n",
    "            # response = qdrant_rag_chain_eval.invoke(eval_message)['content'][0]['text']\n",
    "            response = qdrant_rag_chain_eval.invoke(eval_message)\n",
    "            model_responses\n",
    "            print(f'Model: {model_name}')\n",
    "            print(response)\n",
    "            print(\"========\\n\")\n",
    "            return \n",
    "    "
   ]
  },
  {
   "cell_type": "code",
   "execution_count": null,
   "id": "cad7ee2f-117f-4595-a30c-7a4958458875",
   "metadata": {
    "tags": []
   },
   "outputs": [],
   "source": [
    "def model_testing(query_index, model_dict):\n",
    "    \"\"\"\n",
    "    query_index: list of indices to pull from test_queries dict\n",
    "    model_dict: expected input {model_name: (model_object, boolean for function calling)}\n",
    "    return dict {model_name_1: {1: response_1, 2: response_2, etc}}\n",
    "    \"\"\"\n",
    "    # instantiate dict {model name: {1:response, 2:response2, etc}}\n",
    "    model_responses = {model_name: {i: '' for i in query_index} for model_name in model_dict.keys()}\n",
    "    for model_name, (model, func_call) in models_to_test.items():\n",
    "        for i in queries_test_index:\n",
    "            query = test_queries[i]\n",
    "\n",
    "            if func_call:\n",
    "                response = run_chat_loop(query, model) \n",
    "            else: \n",
    "                response = model.invoke(query)\n",
    "\n",
    "            model_responses[model_name][i] = response\n",
    "    return model_responses"
   ]
  },
  {
   "cell_type": "code",
   "execution_count": null,
   "id": "c78f8b8b-069e-44b0-94aa-8f25a84b59af",
   "metadata": {
    "tags": []
   },
   "outputs": [],
   "source": [
    "# Model name: (model object, using run_chat_loop function calling)\n",
    "models_to_test = {\n",
    "    'baseline': (qdrant_rag_chain_basic, False),\n",
    "    'rerank': (qdrant_rag_chain_rerank, False),\n",
    "    'func_call_rerank': (compression_retriever, True)\n",
    "}\n",
    "\n",
    "# indexes to test from test_queries dictionary\n",
    "queries_test_index = ['1', '2']\n",
    "\n",
    "model_responses = model_testing(queries_test_index, models_to_test)"
   ]
  },
  {
   "cell_type": "code",
   "execution_count": null,
   "id": "26179960-68dc-47b3-9111-9986652329e6",
   "metadata": {
    "tags": []
   },
   "outputs": [],
   "source": [
    "model_responses"
   ]
  },
  {
   "cell_type": "code",
   "execution_count": null,
   "id": "e97f9778-1b5f-480d-b8eb-3a6f1663c0bd",
   "metadata": {
    "tags": []
   },
   "outputs": [],
   "source": [
    "llm_judge_eval(queries_test_index, model_responses)"
   ]
  },
  {
   "cell_type": "code",
   "execution_count": null,
   "id": "9f89b015-6539-49ae-8065-f7fcfd071caf",
   "metadata": {},
   "outputs": [],
   "source": []
  }
 ],
 "metadata": {
  "kernelspec": {
   "display_name": "conda_python3",
   "language": "python",
   "name": "conda_python3"
  },
  "language_info": {
   "codemirror_mode": {
    "name": "ipython",
    "version": 3
   },
   "file_extension": ".py",
   "mimetype": "text/x-python",
   "name": "python",
   "nbconvert_exporter": "python",
   "pygments_lexer": "ipython3",
   "version": "3.10.14"
  }
 },
 "nbformat": 4,
 "nbformat_minor": 5
}
