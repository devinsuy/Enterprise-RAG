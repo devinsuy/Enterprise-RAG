{
 "cells": [
  {
   "cell_type": "markdown",
   "id": "a1ca1687-79fb-4439-8c91-7b1049c36153",
   "metadata": {},
   "source": [
    "### Install dependencies"
   ]
  },
  {
   "cell_type": "code",
   "execution_count": 1,
   "id": "d8fbce3d-65f5-4ded-8fd4-d9f1101286a9",
   "metadata": {
    "scrolled": true,
    "tags": []
   },
   "outputs": [
    {
     "name": "stdout",
     "output_type": "stream",
     "text": [
      "Requirement already satisfied: boto3 in /home/reson/miniconda3/envs/LangChain/lib/python3.12/site-packages (1.34.140)\n",
      "Requirement already satisfied: sagemaker in /home/reson/miniconda3/envs/LangChain/lib/python3.12/site-packages (2.224.4)\n",
      "Requirement already satisfied: langchain in /home/reson/miniconda3/envs/LangChain/lib/python3.12/site-packages (0.2.6)\n",
      "Requirement already satisfied: langchain-community in /home/reson/miniconda3/envs/LangChain/lib/python3.12/site-packages (0.2.6)\n",
      "Requirement already satisfied: langchain-core in /home/reson/miniconda3/envs/LangChain/lib/python3.12/site-packages (0.2.11)\n",
      "Requirement already satisfied: faiss-cpu in /home/reson/miniconda3/envs/LangChain/lib/python3.12/site-packages (1.8.0.post1)\n",
      "Requirement already satisfied: requests in /home/reson/miniconda3/envs/LangChain/lib/python3.12/site-packages (2.32.3)\n",
      "Requirement already satisfied: opensearch-py in /home/reson/miniconda3/envs/LangChain/lib/python3.12/site-packages (2.6.0)\n",
      "Requirement already satisfied: sentence-transformers in /home/reson/miniconda3/envs/LangChain/lib/python3.12/site-packages (3.0.1)\n",
      "Requirement already satisfied: langchain-text-splitters in /home/reson/miniconda3/envs/LangChain/lib/python3.12/site-packages (0.2.2)\n",
      "Requirement already satisfied: requests-aws4auth in /home/reson/miniconda3/envs/LangChain/lib/python3.12/site-packages (1.2.3)\n",
      "Requirement already satisfied: qdrant-client in /home/reson/miniconda3/envs/LangChain/lib/python3.12/site-packages (1.10.0)\n",
      "Requirement already satisfied: botocore<1.35.0,>=1.34.140 in /home/reson/miniconda3/envs/LangChain/lib/python3.12/site-packages (from boto3) (1.34.140)\n",
      "Requirement already satisfied: jmespath<2.0.0,>=0.7.1 in /home/reson/miniconda3/envs/LangChain/lib/python3.12/site-packages (from boto3) (1.0.1)\n",
      "Requirement already satisfied: s3transfer<0.11.0,>=0.10.0 in /home/reson/miniconda3/envs/LangChain/lib/python3.12/site-packages (from boto3) (0.10.2)\n",
      "Requirement already satisfied: attrs<24,>=23.1.0 in /home/reson/miniconda3/envs/LangChain/lib/python3.12/site-packages (from sagemaker) (23.2.0)\n",
      "Requirement already satisfied: cloudpickle==2.2.1 in /home/reson/miniconda3/envs/LangChain/lib/python3.12/site-packages (from sagemaker) (2.2.1)\n",
      "Requirement already satisfied: google-pasta in /home/reson/miniconda3/envs/LangChain/lib/python3.12/site-packages (from sagemaker) (0.2.0)\n",
      "Requirement already satisfied: numpy<2.0,>=1.9.0 in /home/reson/miniconda3/envs/LangChain/lib/python3.12/site-packages (from sagemaker) (1.26.4)\n",
      "Requirement already satisfied: protobuf<5.0,>=3.12 in /home/reson/miniconda3/envs/LangChain/lib/python3.12/site-packages (from sagemaker) (4.25.3)\n",
      "Requirement already satisfied: smdebug-rulesconfig==1.0.1 in /home/reson/miniconda3/envs/LangChain/lib/python3.12/site-packages (from sagemaker) (1.0.1)\n",
      "Requirement already satisfied: importlib-metadata<7.0,>=1.4.0 in /home/reson/miniconda3/envs/LangChain/lib/python3.12/site-packages (from sagemaker) (6.8.0)\n",
      "Requirement already satisfied: packaging>=20.0 in /home/reson/miniconda3/envs/LangChain/lib/python3.12/site-packages (from sagemaker) (23.2)\n",
      "Requirement already satisfied: pandas in /home/reson/miniconda3/envs/LangChain/lib/python3.12/site-packages (from sagemaker) (2.2.1)\n",
      "Requirement already satisfied: pathos in /home/reson/miniconda3/envs/LangChain/lib/python3.12/site-packages (from sagemaker) (0.3.2)\n",
      "Requirement already satisfied: schema in /home/reson/miniconda3/envs/LangChain/lib/python3.12/site-packages (from sagemaker) (0.7.7)\n",
      "Requirement already satisfied: PyYAML~=6.0 in /home/reson/miniconda3/envs/LangChain/lib/python3.12/site-packages (from sagemaker) (6.0.1)\n",
      "Requirement already satisfied: jsonschema in /home/reson/miniconda3/envs/LangChain/lib/python3.12/site-packages (from sagemaker) (4.21.1)\n",
      "Requirement already satisfied: platformdirs in /home/reson/miniconda3/envs/LangChain/lib/python3.12/site-packages (from sagemaker) (4.2.0)\n",
      "Requirement already satisfied: tblib<4,>=1.7.0 in /home/reson/miniconda3/envs/LangChain/lib/python3.12/site-packages (from sagemaker) (3.0.0)\n",
      "Requirement already satisfied: urllib3<3.0.0,>=1.26.8 in /home/reson/miniconda3/envs/LangChain/lib/python3.12/site-packages (from sagemaker) (1.26.18)\n",
      "Requirement already satisfied: docker in /home/reson/miniconda3/envs/LangChain/lib/python3.12/site-packages (from sagemaker) (7.1.0)\n",
      "Requirement already satisfied: tqdm in /home/reson/miniconda3/envs/LangChain/lib/python3.12/site-packages (from sagemaker) (4.66.4)\n",
      "Requirement already satisfied: psutil in /home/reson/miniconda3/envs/LangChain/lib/python3.12/site-packages (from sagemaker) (5.9.8)\n",
      "Requirement already satisfied: SQLAlchemy<3,>=1.4 in /home/reson/miniconda3/envs/LangChain/lib/python3.12/site-packages (from langchain) (2.0.29)\n",
      "Requirement already satisfied: aiohttp<4.0.0,>=3.8.3 in /home/reson/miniconda3/envs/LangChain/lib/python3.12/site-packages (from langchain) (3.9.3)\n",
      "Requirement already satisfied: langsmith<0.2.0,>=0.1.17 in /home/reson/miniconda3/envs/LangChain/lib/python3.12/site-packages (from langchain) (0.1.83)\n",
      "Requirement already satisfied: pydantic<3,>=1 in /home/reson/miniconda3/envs/LangChain/lib/python3.12/site-packages (from langchain) (2.6.4)\n",
      "Requirement already satisfied: tenacity!=8.4.0,<9.0.0,>=8.1.0 in /home/reson/miniconda3/envs/LangChain/lib/python3.12/site-packages (from langchain) (8.2.3)\n",
      "Requirement already satisfied: dataclasses-json<0.7,>=0.5.7 in /home/reson/miniconda3/envs/LangChain/lib/python3.12/site-packages (from langchain-community) (0.6.4)\n",
      "Requirement already satisfied: jsonpatch<2.0,>=1.33 in /home/reson/miniconda3/envs/LangChain/lib/python3.12/site-packages (from langchain-core) (1.33)\n",
      "Requirement already satisfied: charset-normalizer<4,>=2 in /home/reson/miniconda3/envs/LangChain/lib/python3.12/site-packages (from requests) (3.3.2)\n",
      "Requirement already satisfied: idna<4,>=2.5 in /home/reson/miniconda3/envs/LangChain/lib/python3.12/site-packages (from requests) (3.7)\n",
      "Requirement already satisfied: certifi>=2017.4.17 in /home/reson/miniconda3/envs/LangChain/lib/python3.12/site-packages (from requests) (2024.2.2)\n",
      "Requirement already satisfied: six in /home/reson/miniconda3/envs/LangChain/lib/python3.12/site-packages (from opensearch-py) (1.16.0)\n",
      "Requirement already satisfied: python-dateutil in /home/reson/miniconda3/envs/LangChain/lib/python3.12/site-packages (from opensearch-py) (2.9.0)\n",
      "Requirement already satisfied: Events in /home/reson/miniconda3/envs/LangChain/lib/python3.12/site-packages (from opensearch-py) (0.5)\n",
      "Requirement already satisfied: transformers<5.0.0,>=4.34.0 in /home/reson/miniconda3/envs/LangChain/lib/python3.12/site-packages (from sentence-transformers) (4.40.0.dev0)\n",
      "Requirement already satisfied: torch>=1.11.0 in /home/reson/miniconda3/envs/LangChain/lib/python3.12/site-packages (from sentence-transformers) (2.2.2)\n",
      "Requirement already satisfied: scikit-learn in /home/reson/miniconda3/envs/LangChain/lib/python3.12/site-packages (from sentence-transformers) (1.4.1.post1)\n",
      "Requirement already satisfied: scipy in /home/reson/miniconda3/envs/LangChain/lib/python3.12/site-packages (from sentence-transformers) (1.13.0)\n",
      "Requirement already satisfied: huggingface-hub>=0.15.1 in /home/reson/miniconda3/envs/LangChain/lib/python3.12/site-packages (from sentence-transformers) (0.22.2)\n",
      "Requirement already satisfied: Pillow in /home/reson/miniconda3/envs/LangChain/lib/python3.12/site-packages (from sentence-transformers) (10.3.0)\n",
      "Requirement already satisfied: grpcio>=1.41.0 in /home/reson/miniconda3/envs/LangChain/lib/python3.12/site-packages (from qdrant-client) (1.62.1)\n",
      "Requirement already satisfied: grpcio-tools>=1.41.0 in /home/reson/miniconda3/envs/LangChain/lib/python3.12/site-packages (from qdrant-client) (1.62.1)\n",
      "Requirement already satisfied: httpx>=0.20.0 in /home/reson/miniconda3/envs/LangChain/lib/python3.12/site-packages (from httpx[http2]>=0.20.0->qdrant-client) (0.27.0)\n",
      "Requirement already satisfied: portalocker<3.0.0,>=2.7.0 in /home/reson/miniconda3/envs/LangChain/lib/python3.12/site-packages (from qdrant-client) (2.8.2)\n",
      "Requirement already satisfied: aiosignal>=1.1.2 in /home/reson/miniconda3/envs/LangChain/lib/python3.12/site-packages (from aiohttp<4.0.0,>=3.8.3->langchain) (1.3.1)\n",
      "Requirement already satisfied: frozenlist>=1.1.1 in /home/reson/miniconda3/envs/LangChain/lib/python3.12/site-packages (from aiohttp<4.0.0,>=3.8.3->langchain) (1.4.1)\n",
      "Requirement already satisfied: multidict<7.0,>=4.5 in /home/reson/miniconda3/envs/LangChain/lib/python3.12/site-packages (from aiohttp<4.0.0,>=3.8.3->langchain) (6.0.5)\n",
      "Requirement already satisfied: yarl<2.0,>=1.0 in /home/reson/miniconda3/envs/LangChain/lib/python3.12/site-packages (from aiohttp<4.0.0,>=3.8.3->langchain) (1.9.4)\n",
      "Requirement already satisfied: marshmallow<4.0.0,>=3.18.0 in /home/reson/miniconda3/envs/LangChain/lib/python3.12/site-packages (from dataclasses-json<0.7,>=0.5.7->langchain-community) (3.21.1)\n",
      "Requirement already satisfied: typing-inspect<1,>=0.4.0 in /home/reson/miniconda3/envs/LangChain/lib/python3.12/site-packages (from dataclasses-json<0.7,>=0.5.7->langchain-community) (0.9.0)\n",
      "Requirement already satisfied: setuptools in /home/reson/miniconda3/envs/LangChain/lib/python3.12/site-packages (from grpcio-tools>=1.41.0->qdrant-client) (69.2.0)\n",
      "Requirement already satisfied: anyio in /home/reson/miniconda3/envs/LangChain/lib/python3.12/site-packages (from httpx>=0.20.0->httpx[http2]>=0.20.0->qdrant-client) (4.3.0)\n",
      "Requirement already satisfied: httpcore==1.* in /home/reson/miniconda3/envs/LangChain/lib/python3.12/site-packages (from httpx>=0.20.0->httpx[http2]>=0.20.0->qdrant-client) (1.0.5)\n",
      "Requirement already satisfied: sniffio in /home/reson/miniconda3/envs/LangChain/lib/python3.12/site-packages (from httpx>=0.20.0->httpx[http2]>=0.20.0->qdrant-client) (1.3.1)\n",
      "Requirement already satisfied: h11<0.15,>=0.13 in /home/reson/miniconda3/envs/LangChain/lib/python3.12/site-packages (from httpcore==1.*->httpx>=0.20.0->httpx[http2]>=0.20.0->qdrant-client) (0.14.0)\n",
      "Requirement already satisfied: h2<5,>=3 in /home/reson/miniconda3/envs/LangChain/lib/python3.12/site-packages (from httpx[http2]>=0.20.0->qdrant-client) (4.1.0)\n",
      "Requirement already satisfied: filelock in /home/reson/miniconda3/envs/LangChain/lib/python3.12/site-packages (from huggingface-hub>=0.15.1->sentence-transformers) (3.13.3)\n",
      "Requirement already satisfied: fsspec>=2023.5.0 in /home/reson/miniconda3/envs/LangChain/lib/python3.12/site-packages (from huggingface-hub>=0.15.1->sentence-transformers) (2024.2.0)\n",
      "Requirement already satisfied: typing-extensions>=3.7.4.3 in /home/reson/miniconda3/envs/LangChain/lib/python3.12/site-packages (from huggingface-hub>=0.15.1->sentence-transformers) (4.12.0)\n",
      "Requirement already satisfied: zipp>=0.5 in /home/reson/miniconda3/envs/LangChain/lib/python3.12/site-packages (from importlib-metadata<7.0,>=1.4.0->sagemaker) (3.17.0)\n",
      "Requirement already satisfied: jsonpointer>=1.9 in /home/reson/miniconda3/envs/LangChain/lib/python3.12/site-packages (from jsonpatch<2.0,>=1.33->langchain-core) (2.4)\n",
      "Requirement already satisfied: orjson<4.0.0,>=3.9.14 in /home/reson/miniconda3/envs/LangChain/lib/python3.12/site-packages (from langsmith<0.2.0,>=0.1.17->langchain) (3.10.0)\n",
      "Requirement already satisfied: annotated-types>=0.4.0 in /home/reson/miniconda3/envs/LangChain/lib/python3.12/site-packages (from pydantic<3,>=1->langchain) (0.6.0)\n",
      "Requirement already satisfied: pydantic-core==2.16.3 in /home/reson/miniconda3/envs/LangChain/lib/python3.12/site-packages (from pydantic<3,>=1->langchain) (2.16.3)\n",
      "Requirement already satisfied: greenlet!=0.4.17 in /home/reson/miniconda3/envs/LangChain/lib/python3.12/site-packages (from SQLAlchemy<3,>=1.4->langchain) (3.0.3)\n",
      "Requirement already satisfied: sympy in /home/reson/miniconda3/envs/LangChain/lib/python3.12/site-packages (from torch>=1.11.0->sentence-transformers) (1.12)\n",
      "Requirement already satisfied: networkx in /home/reson/miniconda3/envs/LangChain/lib/python3.12/site-packages (from torch>=1.11.0->sentence-transformers) (3.1)\n",
      "Requirement already satisfied: jinja2 in /home/reson/miniconda3/envs/LangChain/lib/python3.12/site-packages (from torch>=1.11.0->sentence-transformers) (3.1.2)\n",
      "Requirement already satisfied: nvidia-cuda-nvrtc-cu12==12.1.105 in /home/reson/miniconda3/envs/LangChain/lib/python3.12/site-packages (from torch>=1.11.0->sentence-transformers) (12.1.105)\n",
      "Requirement already satisfied: nvidia-cuda-runtime-cu12==12.1.105 in /home/reson/miniconda3/envs/LangChain/lib/python3.12/site-packages (from torch>=1.11.0->sentence-transformers) (12.1.105)\n",
      "Requirement already satisfied: nvidia-cuda-cupti-cu12==12.1.105 in /home/reson/miniconda3/envs/LangChain/lib/python3.12/site-packages (from torch>=1.11.0->sentence-transformers) (12.1.105)\n",
      "Requirement already satisfied: nvidia-cudnn-cu12==8.9.2.26 in /home/reson/miniconda3/envs/LangChain/lib/python3.12/site-packages (from torch>=1.11.0->sentence-transformers) (8.9.2.26)\n",
      "Requirement already satisfied: nvidia-cublas-cu12==12.1.3.1 in /home/reson/miniconda3/envs/LangChain/lib/python3.12/site-packages (from torch>=1.11.0->sentence-transformers) (12.1.3.1)\n",
      "Requirement already satisfied: nvidia-cufft-cu12==11.0.2.54 in /home/reson/miniconda3/envs/LangChain/lib/python3.12/site-packages (from torch>=1.11.0->sentence-transformers) (11.0.2.54)\n",
      "Requirement already satisfied: nvidia-curand-cu12==10.3.2.106 in /home/reson/miniconda3/envs/LangChain/lib/python3.12/site-packages (from torch>=1.11.0->sentence-transformers) (10.3.2.106)\n",
      "Requirement already satisfied: nvidia-cusolver-cu12==11.4.5.107 in /home/reson/miniconda3/envs/LangChain/lib/python3.12/site-packages (from torch>=1.11.0->sentence-transformers) (11.4.5.107)\n",
      "Requirement already satisfied: nvidia-cusparse-cu12==12.1.0.106 in /home/reson/miniconda3/envs/LangChain/lib/python3.12/site-packages (from torch>=1.11.0->sentence-transformers) (12.1.0.106)\n",
      "Requirement already satisfied: nvidia-nccl-cu12==2.19.3 in /home/reson/miniconda3/envs/LangChain/lib/python3.12/site-packages (from torch>=1.11.0->sentence-transformers) (2.19.3)\n",
      "Requirement already satisfied: nvidia-nvtx-cu12==12.1.105 in /home/reson/miniconda3/envs/LangChain/lib/python3.12/site-packages (from torch>=1.11.0->sentence-transformers) (12.1.105)\n",
      "Requirement already satisfied: nvidia-nvjitlink-cu12 in /home/reson/miniconda3/envs/LangChain/lib/python3.12/site-packages (from nvidia-cusolver-cu12==11.4.5.107->torch>=1.11.0->sentence-transformers) (12.4.127)\n",
      "Requirement already satisfied: regex!=2019.12.17 in /home/reson/miniconda3/envs/LangChain/lib/python3.12/site-packages (from transformers<5.0.0,>=4.34.0->sentence-transformers) (2023.12.25)\n",
      "Requirement already satisfied: tokenizers<0.19,>=0.14 in /home/reson/miniconda3/envs/LangChain/lib/python3.12/site-packages (from transformers<5.0.0,>=4.34.0->sentence-transformers) (0.15.2)\n",
      "Requirement already satisfied: safetensors>=0.4.1 in /home/reson/miniconda3/envs/LangChain/lib/python3.12/site-packages (from transformers<5.0.0,>=4.34.0->sentence-transformers) (0.4.2)\n",
      "Requirement already satisfied: jsonschema-specifications>=2023.03.6 in /home/reson/miniconda3/envs/LangChain/lib/python3.12/site-packages (from jsonschema->sagemaker) (2023.12.1)\n",
      "Requirement already satisfied: referencing>=0.28.4 in /home/reson/miniconda3/envs/LangChain/lib/python3.12/site-packages (from jsonschema->sagemaker) (0.34.0)\n",
      "Requirement already satisfied: rpds-py>=0.7.1 in /home/reson/miniconda3/envs/LangChain/lib/python3.12/site-packages (from jsonschema->sagemaker) (0.18.0)\n",
      "Requirement already satisfied: pytz>=2020.1 in /home/reson/miniconda3/envs/LangChain/lib/python3.12/site-packages (from pandas->sagemaker) (2024.1)\n",
      "Requirement already satisfied: tzdata>=2022.7 in /home/reson/miniconda3/envs/LangChain/lib/python3.12/site-packages (from pandas->sagemaker) (2024.1)\n",
      "Requirement already satisfied: ppft>=1.7.6.8 in /home/reson/miniconda3/envs/LangChain/lib/python3.12/site-packages (from pathos->sagemaker) (1.7.6.8)\n",
      "Requirement already satisfied: dill>=0.3.8 in /home/reson/miniconda3/envs/LangChain/lib/python3.12/site-packages (from pathos->sagemaker) (0.3.8)\n",
      "Requirement already satisfied: pox>=0.3.4 in /home/reson/miniconda3/envs/LangChain/lib/python3.12/site-packages (from pathos->sagemaker) (0.3.4)\n",
      "Requirement already satisfied: multiprocess>=0.70.16 in /home/reson/miniconda3/envs/LangChain/lib/python3.12/site-packages (from pathos->sagemaker) (0.70.16)\n",
      "Requirement already satisfied: joblib>=1.2.0 in /home/reson/miniconda3/envs/LangChain/lib/python3.12/site-packages (from scikit-learn->sentence-transformers) (1.3.2)\n",
      "Requirement already satisfied: threadpoolctl>=2.0.0 in /home/reson/miniconda3/envs/LangChain/lib/python3.12/site-packages (from scikit-learn->sentence-transformers) (3.4.0)\n",
      "Requirement already satisfied: hyperframe<7,>=6.0 in /home/reson/miniconda3/envs/LangChain/lib/python3.12/site-packages (from h2<5,>=3->httpx[http2]>=0.20.0->qdrant-client) (6.0.1)\n",
      "Requirement already satisfied: hpack<5,>=4.0 in /home/reson/miniconda3/envs/LangChain/lib/python3.12/site-packages (from h2<5,>=3->httpx[http2]>=0.20.0->qdrant-client) (4.0.0)\n",
      "Requirement already satisfied: mypy-extensions>=0.3.0 in /home/reson/miniconda3/envs/LangChain/lib/python3.12/site-packages (from typing-inspect<1,>=0.4.0->dataclasses-json<0.7,>=0.5.7->langchain-community) (1.0.0)\n",
      "Requirement already satisfied: MarkupSafe>=2.0 in /home/reson/miniconda3/envs/LangChain/lib/python3.12/site-packages (from jinja2->torch>=1.11.0->sentence-transformers) (2.1.3)\n",
      "Requirement already satisfied: mpmath>=0.19 in /home/reson/miniconda3/envs/LangChain/lib/python3.12/site-packages (from sympy->torch>=1.11.0->sentence-transformers) (1.3.0)\n"
     ]
    }
   ],
   "source": [
    "!pip install boto3 sagemaker langchain langchain-community langchain-core faiss-cpu requests opensearch-py sentence-transformers langchain-text-splitters requests-aws4auth qdrant-client -U"
   ]
  },
  {
   "cell_type": "markdown",
   "id": "8c60fd86-2fdd-4921-b769-45a6d6ae1411",
   "metadata": {},
   "source": [
    "### Load CSV data from S3"
   ]
  },
  {
   "cell_type": "code",
   "execution_count": 2,
   "id": "b02d5178-7946-4ff5-bfdf-d8c784afd6cd",
   "metadata": {
    "tags": []
   },
   "outputs": [
    {
     "name": "stdout",
     "output_type": "stream",
     "text": [
      "/home/reson/Documents/GitHub/Enterprise-RAG/notebooks\n"
     ]
    }
   ],
   "source": [
    "!pwd"
   ]
  },
  {
   "cell_type": "code",
   "execution_count": 1,
   "id": "1fb6a67d-9144-4d73-b7a3-ab76f627c13c",
   "metadata": {
    "tags": []
   },
   "outputs": [
    {
     "data": {
      "text/html": [
       "<div>\n",
       "<style scoped>\n",
       "    .dataframe tbody tr th:only-of-type {\n",
       "        vertical-align: middle;\n",
       "    }\n",
       "\n",
       "    .dataframe tbody tr th {\n",
       "        vertical-align: top;\n",
       "    }\n",
       "\n",
       "    .dataframe thead th {\n",
       "        text-align: right;\n",
       "    }\n",
       "</style>\n",
       "<table border=\"1\" class=\"dataframe\">\n",
       "  <thead>\n",
       "    <tr style=\"text-align: right;\">\n",
       "      <th></th>\n",
       "      <th>recipe_title</th>\n",
       "      <th>url</th>\n",
       "      <th>record_health</th>\n",
       "      <th>vote_count</th>\n",
       "      <th>rating</th>\n",
       "      <th>description</th>\n",
       "      <th>cuisine</th>\n",
       "      <th>course</th>\n",
       "      <th>diet</th>\n",
       "      <th>prep_time</th>\n",
       "      <th>cook_time</th>\n",
       "      <th>ingredients</th>\n",
       "      <th>instructions</th>\n",
       "      <th>author</th>\n",
       "      <th>tags</th>\n",
       "      <th>category</th>\n",
       "    </tr>\n",
       "  </thead>\n",
       "  <tbody>\n",
       "    <tr>\n",
       "      <th>0</th>\n",
       "      <td>Roasted Peppers And Mushroom Tortilla Pizza Re...</td>\n",
       "      <td>https://www.archanaskitchen.com/roasted-pepper...</td>\n",
       "      <td>good</td>\n",
       "      <td>434</td>\n",
       "      <td>4.958525</td>\n",
       "      <td>is a quicker version pizza to satisfy your cr...</td>\n",
       "      <td>Mexican</td>\n",
       "      <td>Dinner</td>\n",
       "      <td>Vegetarian</td>\n",
       "      <td>15 M</td>\n",
       "      <td>15 M</td>\n",
       "      <td>Tortillas|Extra Virgin Olive Oil|Garlic|Mozzar...</td>\n",
       "      <td>To begin making the Roasted Peppers And Mushro...</td>\n",
       "      <td>Divya Shivaraman</td>\n",
       "      <td>Party Food Recipes|Tea Party Recipes|Mushroom ...</td>\n",
       "      <td>Pizza Recipes</td>\n",
       "    </tr>\n",
       "    <tr>\n",
       "      <th>1</th>\n",
       "      <td>Thakkali Gotsu Recipe | Thakkali Curry | Spicy...</td>\n",
       "      <td>https://www.archanaskitchen.com/tomato-gotsu-r...</td>\n",
       "      <td>good</td>\n",
       "      <td>3423</td>\n",
       "      <td>4.932223</td>\n",
       "      <td>also known as the   is a quick and easy to ma...</td>\n",
       "      <td>South Indian Recipes</td>\n",
       "      <td>Lunch</td>\n",
       "      <td>Vegetarian</td>\n",
       "      <td>10 M</td>\n",
       "      <td>20 M</td>\n",
       "      <td>Sesame (Gingelly) Oil|Mustard seeds (Rai/ Kadu...</td>\n",
       "      <td>To begin making Tomato Gotsu Recipe/ Thakkali ...</td>\n",
       "      <td>Archana Doshi</td>\n",
       "      <td>Vegetarian Recipes|Tomato Recipes|South Indian...</td>\n",
       "      <td>Indian Curry Recipes</td>\n",
       "    </tr>\n",
       "    <tr>\n",
       "      <th>2</th>\n",
       "      <td>Spicy Grilled Pineapple Salsa Recipe</td>\n",
       "      <td>https://www.archanaskitchen.com/spicy-grilled-...</td>\n",
       "      <td>good</td>\n",
       "      <td>2091</td>\n",
       "      <td>4.945959</td>\n",
       "      <td>Spicy Grilled Pineapple Salsa is a simple reci...</td>\n",
       "      <td>Mexican</td>\n",
       "      <td>Side Dish</td>\n",
       "      <td>Vegetarian</td>\n",
       "      <td>10 M</td>\n",
       "      <td>0 M</td>\n",
       "      <td>Extra Virgin Olive Oil|Pineapple|White onion|R...</td>\n",
       "      <td>To begin making the Spicy Grilled Pineapple Sa...</td>\n",
       "      <td>Archana's Kitchen</td>\n",
       "      <td>Party Starter &amp; Appetizer Recipes|Pineapple Re...</td>\n",
       "      <td>Mexican Recipes</td>\n",
       "    </tr>\n",
       "    <tr>\n",
       "      <th>3</th>\n",
       "      <td>Karwar Style Dali Thoy Recipe - Toor dal Curry</td>\n",
       "      <td>https://www.archanaskitchen.com/dali-thoy-reci...</td>\n",
       "      <td>good</td>\n",
       "      <td>990</td>\n",
       "      <td>4.888889</td>\n",
       "      <td>The   is a quintessential of Konkani dish whic...</td>\n",
       "      <td>Coastal Karnataka</td>\n",
       "      <td>Side Dish</td>\n",
       "      <td>High Protein Vegetarian</td>\n",
       "      <td>5 M</td>\n",
       "      <td>20 M</td>\n",
       "      <td>Arhar dal (Split Toor Dal)|Turmeric powder (Ha...</td>\n",
       "      <td>To prepare Karwar Style Dali Thoy Recipe (Toor...</td>\n",
       "      <td>Jyothi Rajesh</td>\n",
       "      <td>Side Dish Recipes|South Indian Recipes|Indian ...</td>\n",
       "      <td>Indian Curry Recipes</td>\n",
       "    </tr>\n",
       "    <tr>\n",
       "      <th>4</th>\n",
       "      <td>Rajma Kofta In Milk And Poppy Seed Gravy Recipe</td>\n",
       "      <td>https://www.archanaskitchen.com/rajma-kofta-in...</td>\n",
       "      <td>good</td>\n",
       "      <td>345</td>\n",
       "      <td>4.828986</td>\n",
       "      <td>Koftas are traditional Indian recipes mostly w...</td>\n",
       "      <td>North Indian Recipes</td>\n",
       "      <td>Side Dish</td>\n",
       "      <td>High Protein Vegetarian</td>\n",
       "      <td>20 M</td>\n",
       "      <td>30 M</td>\n",
       "      <td>Rajma (Large Kidney Beans)|Cashew nuts|Sultana...</td>\n",
       "      <td>To begin making Rajma Kofta In Milk And Poppy ...</td>\n",
       "      <td>RUBY PATHAK</td>\n",
       "      <td>Side Dish Recipes|Indian Lunch Recipes|Office ...</td>\n",
       "      <td>Kofta Recipes</td>\n",
       "    </tr>\n",
       "  </tbody>\n",
       "</table>\n",
       "</div>"
      ],
      "text/plain": [
       "                                        recipe_title  \\\n",
       "0  Roasted Peppers And Mushroom Tortilla Pizza Re...   \n",
       "1  Thakkali Gotsu Recipe | Thakkali Curry | Spicy...   \n",
       "2               Spicy Grilled Pineapple Salsa Recipe   \n",
       "3     Karwar Style Dali Thoy Recipe - Toor dal Curry   \n",
       "4    Rajma Kofta In Milk And Poppy Seed Gravy Recipe   \n",
       "\n",
       "                                                 url record_health  \\\n",
       "0  https://www.archanaskitchen.com/roasted-pepper...          good   \n",
       "1  https://www.archanaskitchen.com/tomato-gotsu-r...          good   \n",
       "2  https://www.archanaskitchen.com/spicy-grilled-...          good   \n",
       "3  https://www.archanaskitchen.com/dali-thoy-reci...          good   \n",
       "4  https://www.archanaskitchen.com/rajma-kofta-in...          good   \n",
       "\n",
       "   vote_count    rating                                        description  \\\n",
       "0         434  4.958525   is a quicker version pizza to satisfy your cr...   \n",
       "1        3423  4.932223   also known as the   is a quick and easy to ma...   \n",
       "2        2091  4.945959  Spicy Grilled Pineapple Salsa is a simple reci...   \n",
       "3         990  4.888889  The   is a quintessential of Konkani dish whic...   \n",
       "4         345  4.828986  Koftas are traditional Indian recipes mostly w...   \n",
       "\n",
       "                cuisine     course                     diet prep_time  \\\n",
       "0               Mexican     Dinner               Vegetarian      15 M   \n",
       "1  South Indian Recipes      Lunch               Vegetarian      10 M   \n",
       "2               Mexican  Side Dish               Vegetarian      10 M   \n",
       "3     Coastal Karnataka  Side Dish  High Protein Vegetarian       5 M   \n",
       "4  North Indian Recipes  Side Dish  High Protein Vegetarian      20 M   \n",
       "\n",
       "  cook_time                                        ingredients  \\\n",
       "0      15 M  Tortillas|Extra Virgin Olive Oil|Garlic|Mozzar...   \n",
       "1      20 M  Sesame (Gingelly) Oil|Mustard seeds (Rai/ Kadu...   \n",
       "2       0 M  Extra Virgin Olive Oil|Pineapple|White onion|R...   \n",
       "3      20 M  Arhar dal (Split Toor Dal)|Turmeric powder (Ha...   \n",
       "4      30 M  Rajma (Large Kidney Beans)|Cashew nuts|Sultana...   \n",
       "\n",
       "                                        instructions             author  \\\n",
       "0  To begin making the Roasted Peppers And Mushro...  Divya Shivaraman    \n",
       "1  To begin making Tomato Gotsu Recipe/ Thakkali ...      Archana Doshi   \n",
       "2  To begin making the Spicy Grilled Pineapple Sa...  Archana's Kitchen   \n",
       "3  To prepare Karwar Style Dali Thoy Recipe (Toor...      Jyothi Rajesh   \n",
       "4  To begin making Rajma Kofta In Milk And Poppy ...        RUBY PATHAK   \n",
       "\n",
       "                                                tags              category  \n",
       "0  Party Food Recipes|Tea Party Recipes|Mushroom ...         Pizza Recipes  \n",
       "1  Vegetarian Recipes|Tomato Recipes|South Indian...  Indian Curry Recipes  \n",
       "2  Party Starter & Appetizer Recipes|Pineapple Re...       Mexican Recipes  \n",
       "3  Side Dish Recipes|South Indian Recipes|Indian ...  Indian Curry Recipes  \n",
       "4  Side Dish Recipes|Indian Lunch Recipes|Office ...         Kofta Recipes  "
      ]
     },
     "execution_count": 1,
     "metadata": {},
     "output_type": "execute_result"
    }
   ],
   "source": [
    "import boto3\n",
    "import pandas as pd\n",
    "\n",
    "s3 = boto3.client('s3')\n",
    "\n",
    "bucket_name = 'recipes-rag'\n",
    "file_key = 'food_recipes.csv'\n",
    "\n",
    "# Download the file from s3 locally\n",
    "s3.download_file(bucket_name, file_key, '../data/food_recipes.csv')\n",
    "\n",
    "# Load the CSV into a DataFrame\n",
    "df = pd.read_csv('../data/food_recipes.csv')\n",
    "\n",
    "df.head()"
   ]
  },
  {
   "cell_type": "markdown",
   "id": "74654ec1-1620-4b12-abfa-74ce789a79ce",
   "metadata": {},
   "source": [
    "### Load data into chunked documents"
   ]
  },
  {
   "cell_type": "code",
   "execution_count": 2,
   "id": "81165ce4-c17b-44df-a88a-319b4e590105",
   "metadata": {
    "tags": []
   },
   "outputs": [],
   "source": [
    "from langchain_community.embeddings import HuggingFaceEmbeddings\n",
    "from langchain_text_splitters import RecursiveCharacterTextSplitter\n",
    "from langchain.docstore.document import Document"
   ]
  },
  {
   "cell_type": "code",
   "execution_count": 3,
   "id": "ef713c37-2e0f-45ba-8717-de22afbad5b7",
   "metadata": {
    "tags": []
   },
   "outputs": [
    {
     "name": "stderr",
     "output_type": "stream",
     "text": [
      "/home/reson/miniconda3/envs/LangChain/lib/python3.12/site-packages/langchain_core/_api/deprecation.py:139: LangChainDeprecationWarning: The class `HuggingFaceEmbeddings` was deprecated in LangChain 0.2.2 and will be removed in 0.3.0. An updated version of the class exists in the langchain-huggingface package and should be used instead. To use it run `pip install -U langchain-huggingface` and import as `from langchain_huggingface import HuggingFaceEmbeddings`.\n",
      "  warn_deprecated(\n",
      "/home/reson/miniconda3/envs/LangChain/lib/python3.12/site-packages/sentence_transformers/cross_encoder/CrossEncoder.py:11: TqdmWarning: IProgress not found. Please update jupyter and ipywidgets. See https://ipywidgets.readthedocs.io/en/stable/user_install.html\n",
      "  from tqdm.autonotebook import tqdm, trange\n"
     ]
    }
   ],
   "source": [
    "embedding_model = HuggingFaceEmbeddings(model_name=\"multi-qa-mpnet-base-dot-v1\")"
   ]
  },
  {
   "cell_type": "code",
   "execution_count": 4,
   "id": "c829beba-a527-4f21-b311-88db598124fe",
   "metadata": {
    "tags": []
   },
   "outputs": [],
   "source": [
    "text_splitter_recursive = RecursiveCharacterTextSplitter(chunk_size=1024, chunk_overlap=256)"
   ]
  },
  {
   "cell_type": "code",
   "execution_count": 8,
   "id": "ee2e6a73-3529-4b79-b0bb-421973555092",
   "metadata": {
    "tags": []
   },
   "outputs": [],
   "source": [
    "def create_documents(df):\n",
    "    # AWS Kendra requires non empty string values for each field\n",
    "    # Make explicit to the LLM that the field is not available\n",
    "    df.fillna('Not Available', inplace=True)\n",
    "    \n",
    "    documents = []\n",
    "    for index, row in df.iterrows():\n",
    "        metadata = {\n",
    "            'recipe_title': str(row['recipe_title']) if row['recipe_title'] else 'No Title Available',\n",
    "            'url': str(row['url']) if row['url'] else 'https://example.com',\n",
    "            # 'record_health': str(row['record_health']) if row['record_health'] else 'Unknown',\n",
    "            'vote_count': str(row['vote_count']) if row['vote_count'] else 'No Votes Available',\n",
    "            'rating': str(row['rating']) if row['rating'] else 'No Rating Available',\n",
    "            'cuisine': str(row['cuisine']) if row['cuisine'] else 'No Cuisine Available',\n",
    "            'course': str(row['course']) if row['course'] else 'No Course Available',\n",
    "            'diet': str(row['diet']) if row['diet'] else 'No Diet Information Available',\n",
    "            'prep_time': str(row['prep_time']) if row['prep_time'] else 'No Prep Time Available',\n",
    "            'cook_time': str(row['cook_time']) if row['cook_time'] else 'No Cook Time Available',\n",
    "            'author': str(row['author']) if row['author'] else 'No Author Available',\n",
    "            'category': str(row['category']) if row['category'] else 'No Category Available'\n",
    "        }\n",
    "\n",
    "        # Combine all text fields for the document content\n",
    "        text = f\"{row['description']} {row['ingredients']} {row['instructions']} {row['tags']}\"\n",
    "        doc = Document(page_content=text, metadata=metadata)\n",
    "        documents.append(doc)\n",
    "    \n",
    "    return documents"
   ]
  },
  {
   "cell_type": "code",
   "execution_count": 9,
   "id": "2e316c63-2897-4c89-aa24-562bcab03ba0",
   "metadata": {
    "tags": []
   },
   "outputs": [],
   "source": [
    "documents = create_documents(df)"
   ]
  },
  {
   "cell_type": "code",
   "execution_count": 10,
   "id": "db462d95-67b8-4ec5-b379-1a98666a0dc0",
   "metadata": {
    "tags": []
   },
   "outputs": [
    {
     "data": {
      "text/plain": [
       "Document(metadata={'recipe_title': 'Roasted Peppers And Mushroom Tortilla Pizza Recipe', 'url': 'https://www.archanaskitchen.com/roasted-peppers-and-mushroom-tortilla-pizza-recipe', 'vote_count': '434', 'rating': '4.9585253456221', 'cuisine': 'Mexican', 'course': 'Dinner', 'diet': 'Vegetarian', 'prep_time': '15 M', 'cook_time': '15 M', 'author': 'Divya Shivaraman ', 'category': 'Pizza Recipes'}, page_content=' is a quicker version pizza to satisfy your cravings. It is a very quick and easy recipe for days that you do not feel like cooking a full fledged meal. With the preference of toppings of your choice this pizza recipe is definitely a winner at any home. The toppings used in this  has some roasted peppers, mushroom with loaded cheese and marinara sauce. Enjoy this easy recipe with your favorite toppings.\\xa0 This is a great recipe, if you are looking for an Indian/Fusion Pizza or a Homemade Pizza recipe. Serve  along with  \\xa0and   for a weekend night dinner. If you like this recipe, you can also try other  for your weekend dinner: Tortillas|Extra Virgin Olive Oil|Garlic|Mozzarella cheese|Red Yellow or Green Bell Pepper (Capsicum)|Onions|Kalmatta olives|Button mushrooms To begin making the Roasted Peppers And Mushroom Tortilla Pizza recipe, turn your oven setting to broiler and keep it ready.|Grease your cast iron skillet with some olive oil and heat it over high heat.|When it starts to shimmer bring down the heat to medium. Add olive oil and minced garlic to the marinara sauce and stir to combine, keep aside.|Place one tortilla on the cast iron skillet. Spread a thin layer of marinara sauce over the tortilla.|Spread the cheese as needed. When the cheese starts to melt, add in the toppings which includes onion, mushrooms, olives and bell peppers.|Now shift the cast iron skillet to the oven which is already under broiler setting.|When you see the cheese all melted and top starting to brown, remove and slice to serve.|Serve\\xa0Roasted Peppers And Mushroom Tortilla Pizza\\xa0along with\\xa0|\\xa0and\\xa0|\\xa0for a weekend night dinner. Party Food Recipes|Tea Party Recipes|Mushroom Recipes|Fusion Recipes|Tortilla Recipe|Bell Peppers Recipes')"
      ]
     },
     "execution_count": 10,
     "metadata": {},
     "output_type": "execute_result"
    }
   ],
   "source": [
    "documents[0]"
   ]
  },
  {
   "cell_type": "code",
   "execution_count": 11,
   "id": "35faf6bb-6a9b-4f59-b021-33c2507638aa",
   "metadata": {
    "tags": []
   },
   "outputs": [],
   "source": [
    "def split_documents_with_metadata(documents, text_splitter):\n",
    "    split_docs = []\n",
    "    for doc in documents:\n",
    "        chunks = text_splitter.split_text(doc.page_content)\n",
    "        for i, chunk in enumerate(chunks):\n",
    "            split_docs.append(Document(page_content=chunk, metadata={**doc.metadata, \"chunk_id\": i}))\n",
    "    return split_docs"
   ]
  },
  {
   "cell_type": "code",
   "execution_count": 12,
   "id": "d6fe3cfc-26b8-47db-8c36-07e06ea3feb9",
   "metadata": {
    "tags": []
   },
   "outputs": [],
   "source": [
    "split_documents = split_documents_with_metadata(documents, text_splitter_recursive)"
   ]
  },
  {
   "cell_type": "code",
   "execution_count": 13,
   "id": "c05f6ea9-ec26-418e-ab5d-351548d4e82c",
   "metadata": {},
   "outputs": [],
   "source": [
    "from transformers import AutoTokenizer\n",
    "\n",
    "def count_tokens(text, model_name=\"distilbert-base-uncased\"):\n",
    "    tokenizer = AutoTokenizer.from_pretrained(model_name)\n",
    "    \n",
    "    tokens = tokenizer.encode(text, add_special_tokens=False)\n",
    "    num_tokens = len(tokens)\n",
    "    \n",
    "    return num_tokens"
   ]
  },
  {
   "cell_type": "markdown",
   "id": "a60ddaa8-a75b-441f-9009-03902edc476c",
   "metadata": {},
   "source": [
    "#### This uses in memory qdrant database so we can experiment faster without having to reinitialize the kendra database. We should progress to using a hosted solution like Kendra or self host qdrant on AWS once document chunking and ranking is in a good state."
   ]
  },
  {
   "cell_type": "code",
   "execution_count": 14,
   "id": "4cb92d4b-2aba-4e56-ac81-b0f743c139a3",
   "metadata": {
    "tags": []
   },
   "outputs": [],
   "source": [
    "# This is faster than deleting and rebuilding the kendra db\n",
    "# but it still takes a few minutes to run\n",
    "from langchain_community.vectorstores import Qdrant\n",
    "\n",
    "qdrant_store = Qdrant.from_documents(split_documents,\n",
    "    embedding_model,\n",
    "    location=\":memory:\",\n",
    ")"
   ]
  },
  {
   "cell_type": "code",
   "execution_count": 15,
   "id": "5152d45a-a16c-4efd-9ff3-b1b9464ba304",
   "metadata": {
    "tags": []
   },
   "outputs": [],
   "source": [
    "qdrant_retriever = qdrant_store.as_retriever()"
   ]
  },
  {
   "cell_type": "code",
   "execution_count": 34,
   "id": "a0e04d8b-4bb7-46e0-a2b1-22e4283d9238",
   "metadata": {},
   "outputs": [],
   "source": [
    "def format_docs(docs):\n",
    "    formatted_docs = []\n",
    "    for doc in docs:\n",
    "        formatted_docs.append(f\"Metadata: {doc.metadata}\\n\")\n",
    "    content = \"\\n\\n\".join(formatted_docs)\n",
    "    \n",
    "    return content"
   ]
  },
  {
   "cell_type": "markdown",
   "id": "9cc8df35-7bbc-43fc-9766-99383f3c5349",
   "metadata": {},
   "source": [
    "### Agent function definitions"
   ]
  },
  {
   "cell_type": "code",
   "execution_count": 16,
   "id": "2dc1eaa0-d2bc-4b57-ad27-95301457e870",
   "metadata": {},
   "outputs": [],
   "source": [
    "recipe_db_query_tool = {\n",
    "  \"name\": \"query_food_recipe_vector_db\",\n",
    "  \"description\": \"\"\"\n",
    "      Queries the vector database containing food recipes to retrieve the most relevant documents. \n",
    "      This function allows the model to generate and execute multiple queries as necessary to gather comprehensive context, \n",
    "      such as ingredients, preparation steps, and metadata like cuisine and diet type, ensuring accurate and thorough responses to user queries.\n",
    "      \"\"\",\n",
    "  \"input_schema\": {\n",
    "    \"type\": \"object\",\n",
    "    \"properties\": {\n",
    "      \"queries\": {\n",
    "        \"type\": \"array\",\n",
    "        \"items\": {\n",
    "          \"type\": \"string\",\n",
    "          \"description\": \"A query generated by the model to run against the vector database to fetch recipe documents.\"\n",
    "        },\n",
    "        \"description\": \"A list of queries generated by the model to run against the vector database to fetch recipe documents.\"\n",
    "      }\n",
    "    },\n",
    "    \"required\": [\"queries\"]\n",
    "  }\n",
    "}\n"
   ]
  },
  {
   "cell_type": "markdown",
   "id": "64c1e9c9-88bd-446a-a0f5-a7ed5bcf8972",
   "metadata": {},
   "source": [
    "### Init bedrock model, define util to stateless messaging, no fn calling"
   ]
  },
  {
   "cell_type": "code",
   "execution_count": 17,
   "id": "af0aacad-2b9d-4504-80b2-b47d92949ce8",
   "metadata": {
    "tags": []
   },
   "outputs": [],
   "source": [
    "import json"
   ]
  },
  {
   "cell_type": "code",
   "execution_count": 18,
   "id": "91b6a9d4-d05c-4340-8281-d050403b0a89",
   "metadata": {
    "tags": []
   },
   "outputs": [],
   "source": [
    "bedrock_client = boto3.client('bedrock-runtime', region_name=\"us-east-1\")"
   ]
  },
  {
   "cell_type": "code",
   "execution_count": 48,
   "id": "e65cefc3-4a52-4985-b7da-b97224a7f356",
   "metadata": {},
   "outputs": [],
   "source": [
    "# We will need to tune these prompts\n",
    "# query_bedrock_llm() definition NEEDS TO BE RERUN\n",
    "# each time when changes are made to this prompt\n",
    "\n",
    "baseline_sys_prompt = \"\"\"\n",
    "You are a helpful assistant and expert in cooking recipes.\n",
    "\n",
    "Before answering, always make at least one call to query_food_recipe_vector_db\n",
    "to retrieve the relevant context of recipes and ingredients to generate an informed\n",
    "and high-quality response to the user prompt but NEVER exceed a MAXIMUM of \n",
    "3 calls to the query_food_recipe_vector_db function.\n",
    "\n",
    "Provide a response to the user prompt about food with recommended recipes and instructions.\n",
    "\"\"\""
   ]
  },
  {
   "cell_type": "code",
   "execution_count": 49,
   "id": "ed11c7ae-7ac1-4dab-b889-fad779b36280",
   "metadata": {
    "tags": []
   },
   "outputs": [],
   "source": [
    "MODEL_ID = \"anthropic.claude-3-sonnet-20240229-v1:0\"\n",
    "\n",
    "def query_bedrock_llm(messages):\n",
    "    print(\"CALLING WITH MESSAGES\")\n",
    "    print(messages)\n",
    "    print(\"=======\")\n",
    "    \n",
    "    response = bedrock_client.invoke_model(\n",
    "        modelId=MODEL_ID,\n",
    "        body=json.dumps({\n",
    "            'anthropic_version': 'bedrock-2023-05-31', # This is required to use chat style messages object \n",
    "            'system': baseline_sys_prompt,\n",
    "            'messages': messages,\n",
    "            'max_tokens': 3000,\n",
    "            \"tools\": [recipe_db_query_tool],\n",
    "\n",
    "            # This config forces the model to always call the recipe db query tool atleast once \n",
    "            # https://docs.anthropic.com/en/docs/build-with-claude/tool-use#controlling-claudes-output\n",
    "            # \"tool_choice\": {\n",
    "            #     \"type\": \"tool\",\n",
    "            #     \"name\": recipe_db_query_tool['name']\n",
    "            # },\n",
    "            \n",
    "            # TODO: TUNE THESE VALUES\n",
    "            'temperature': 0.1, \n",
    "            'top_p': 0.9\n",
    "        })\n",
    "    )\n",
    "\n",
    "    response_body = json.loads(response.get('body').read())\n",
    "    print(f\"BEDROCK GOT RESPONSE BODY {response_body})\")\n",
    "\n",
    "    return response_body"
   ]
  },
  {
   "cell_type": "markdown",
   "id": "9abb22e4-9e26-4d4d-9ce1-f6b20bac5cb5",
   "metadata": {
    "jp-MarkdownHeadingCollapsed": true
   },
   "source": [
    "### Pipe langchain together"
   ]
  },
  {
   "cell_type": "code",
   "execution_count": 262,
   "id": "1cc70641-ecc2-4cc6-a77f-0f70b806f274",
   "metadata": {
    "tags": []
   },
   "outputs": [],
   "source": [
    "from langchain_core.prompts import ChatPromptTemplate\n",
    "from langchain_core.runnables import RunnablePassthrough, RunnableMap"
   ]
  },
  {
   "cell_type": "code",
   "execution_count": 399,
   "id": "72b5ce6a-3aac-4fb4-b9a3-8742402f185c",
   "metadata": {},
   "outputs": [],
   "source": [
    "baseline_user_prompt = \"\"\"\n",
    "### Here is a user prompt:\n",
    "{query}\n",
    "\"\"\""
   ]
  },
  {
   "cell_type": "code",
   "execution_count": 203,
   "id": "d466b594-b943-43b7-90be-23b454a698e0",
   "metadata": {
    "tags": []
   },
   "outputs": [],
   "source": [
    "def process_prompt(query_args):\n",
    "    prompt_with_query = baseline_user_prompt.replace(\"{query}\", query_args['query'])\n",
    "    \n",
    "    # This format doesn't matter much now, but we will use it later to \n",
    "    # persist chat history for continuous dialogue\n",
    "    messages = [\n",
    "        {\n",
    "            \"role\": \"user\",\n",
    "            \"content\": [\n",
    "                {\n",
    "                    \"type\": \"text\",\n",
    "                    \"text\": prompt_with_query\n",
    "                }\n",
    "            ]\n",
    "        }\n",
    "    ]\n",
    "    \n",
    "    return messages"
   ]
  },
  {
   "cell_type": "code",
   "execution_count": 204,
   "id": "f1d18ec8-b5e4-4405-bb34-d0d36739e919",
   "metadata": {
    "tags": []
   },
   "outputs": [],
   "source": []
  },
  {
   "cell_type": "code",
   "execution_count": 206,
   "id": "1254f41c-9261-46a6-9140-2f7c538a47a1",
   "metadata": {
    "tags": []
   },
   "outputs": [],
   "source": [
    "qdrant_rag_chain = (\n",
    "    RunnableMap(\n",
    "        # {\"context\": qdrant_retriever | format_docs,\n",
    "         {\"query\": RunnablePassthrough()}\n",
    "    )\n",
    "    | process_prompt\n",
    "    | query_bedrock_llm\n",
    "    # | parse_event_stream\n",
    ")"
   ]
  },
  {
   "cell_type": "markdown",
   "id": "4e33af48-0606-4e6f-b57a-53ce71d0f1b8",
   "metadata": {
    "jp-MarkdownHeadingCollapsed": true
   },
   "source": [
    "### Model generates dynamic context queries to vector db"
   ]
  },
  {
   "cell_type": "code",
   "execution_count": 29,
   "id": "865bccd7-a24f-42ad-abfc-7b699504bc10",
   "metadata": {
    "tags": []
   },
   "outputs": [],
   "source": [
    "test_query_1 = \"I enjoy asian fusion food and I am a vegetarian. Give me one recipe with ingredients and instructions\""
   ]
  },
  {
   "cell_type": "code",
   "execution_count": 208,
   "id": "d51c4c33-fc4f-4a21-bd51-b9a11615a3b4",
   "metadata": {
    "tags": []
   },
   "outputs": [
    {
     "name": "stdout",
     "output_type": "stream",
     "text": [
      "{'ResponseMetadata': {'RequestId': 'aa3d93a7-ead5-457b-87d8-1b8140b86927', 'HTTPStatusCode': 200, 'HTTPHeaders': {'date': 'Sat, 06 Jul 2024 08:34:56 GMT', 'content-type': 'application/json', 'content-length': '375', 'connection': 'keep-alive', 'x-amzn-requestid': 'aa3d93a7-ead5-457b-87d8-1b8140b86927', 'x-amzn-bedrock-invocation-latency': '3703', 'x-amzn-bedrock-output-token-count': '39', 'x-amzn-bedrock-input-token-count': '549'}, 'RetryAttempts': 0}, 'contentType': 'application/json', 'body': <botocore.response.StreamingBody object at 0x7fa439ab6560>}\n",
      "{'id': 'msg_bdrk_017xvdoKgaXAYQ9YHoMXiTy7', 'type': 'message', 'role': 'assistant', 'model': 'claude-3-sonnet-20240229', 'content': [{'type': 'tool_use', 'id': 'toolu_bdrk_01ShrYTuneuhxYy6CeAAwT5X', 'name': 'query_food_recipe_vector_db', 'input': {'queries': ['asian fusion vegetarian recipes']}}], 'stop_reason': 'tool_use', 'stop_sequence': None, 'usage': {'input_tokens': 549, 'output_tokens': 39}}\n"
     ]
    },
    {
     "data": {
      "text/plain": [
       "{'id': 'msg_bdrk_017xvdoKgaXAYQ9YHoMXiTy7',\n",
       " 'type': 'message',\n",
       " 'role': 'assistant',\n",
       " 'model': 'claude-3-sonnet-20240229',\n",
       " 'content': [{'type': 'tool_use',\n",
       "   'id': 'toolu_bdrk_01ShrYTuneuhxYy6CeAAwT5X',\n",
       "   'name': 'query_food_recipe_vector_db',\n",
       "   'input': {'queries': ['asian fusion vegetarian recipes']}}],\n",
       " 'stop_reason': 'tool_use',\n",
       " 'stop_sequence': None,\n",
       " 'usage': {'input_tokens': 549, 'output_tokens': 39}}"
      ]
     },
     "execution_count": 208,
     "metadata": {},
     "output_type": "execute_result"
    }
   ],
   "source": [
    "qdrant_rag_chain.invoke(test_query_1)"
   ]
  },
  {
   "cell_type": "code",
   "execution_count": 30,
   "id": "8c963602-4054-4248-a9f3-711571c69418",
   "metadata": {},
   "outputs": [],
   "source": [
    "test_query_2 = \"\"\"\n",
    "I have a peanut allergy but I like thai food. \n",
    "I also don't enjoy spicy food much, and want a meal with low carbs. \n",
    "Give a recipe with ingredients and instructions\n",
    "\"\"\""
   ]
  },
  {
   "cell_type": "code",
   "execution_count": 210,
   "id": "411cfefc-afe1-46c8-8163-3ca98452b84a",
   "metadata": {},
   "outputs": [
    {
     "name": "stdout",
     "output_type": "stream",
     "text": [
      "{'ResponseMetadata': {'RequestId': '5f0f7185-0324-411a-8950-a3e0077e050d', 'HTTPStatusCode': 200, 'HTTPHeaders': {'date': 'Sat, 06 Jul 2024 08:34:59 GMT', 'content-type': 'application/json', 'content-length': '390', 'connection': 'keep-alive', 'x-amzn-requestid': '5f0f7185-0324-411a-8950-a3e0077e050d', 'x-amzn-bedrock-invocation-latency': '2490', 'x-amzn-bedrock-output-token-count': '52', 'x-amzn-bedrock-input-token-count': '573'}, 'RetryAttempts': 0}, 'contentType': 'application/json', 'body': <botocore.response.StreamingBody object at 0x7fa439ab7100>}\n",
      "{'id': 'msg_bdrk_01XHfJsQF2ivYKKhsvqBLiuh', 'type': 'message', 'role': 'assistant', 'model': 'claude-3-sonnet-20240229', 'content': [{'type': 'tool_use', 'id': 'toolu_bdrk_01KaXnaTHSYcgn7bvyNWdTN9', 'name': 'query_food_recipe_vector_db', 'input': {'queries': ['thai food', 'peanut free', 'low carb', 'not spicy']}}], 'stop_reason': 'tool_use', 'stop_sequence': None, 'usage': {'input_tokens': 573, 'output_tokens': 52}}\n"
     ]
    },
    {
     "data": {
      "text/plain": [
       "{'id': 'msg_bdrk_01XHfJsQF2ivYKKhsvqBLiuh',\n",
       " 'type': 'message',\n",
       " 'role': 'assistant',\n",
       " 'model': 'claude-3-sonnet-20240229',\n",
       " 'content': [{'type': 'tool_use',\n",
       "   'id': 'toolu_bdrk_01KaXnaTHSYcgn7bvyNWdTN9',\n",
       "   'name': 'query_food_recipe_vector_db',\n",
       "   'input': {'queries': ['thai food',\n",
       "     'peanut free',\n",
       "     'low carb',\n",
       "     'not spicy']}}],\n",
       " 'stop_reason': 'tool_use',\n",
       " 'stop_sequence': None,\n",
       " 'usage': {'input_tokens': 573, 'output_tokens': 52}}"
      ]
     },
     "execution_count": 210,
     "metadata": {},
     "output_type": "execute_result"
    }
   ],
   "source": [
    "qdrant_rag_chain.invoke(test_query_2)"
   ]
  },
  {
   "cell_type": "code",
   "execution_count": 31,
   "id": "889b3160-f0f3-41ae-878e-3cb8b444ede3",
   "metadata": {},
   "outputs": [],
   "source": [
    "test_query_3 = \"\"\"\n",
    "Suggest a low-carb breakfast recipe that includes eggs and spinach, \n",
    "can be prepared in under 20 minutes, \n",
    "and is suitable for a keto diet.\n",
    "\"\"\""
   ]
  },
  {
   "cell_type": "code",
   "execution_count": 212,
   "id": "1061f3ad-080f-4a8e-a94f-eb4622372cca",
   "metadata": {},
   "outputs": [
    {
     "name": "stdout",
     "output_type": "stream",
     "text": [
      "{'ResponseMetadata': {'RequestId': '017cd959-0727-4b43-b0d2-a356f924f166', 'HTTPStatusCode': 200, 'HTTPHeaders': {'date': 'Sat, 06 Jul 2024 08:35:00 GMT', 'content-type': 'application/json', 'content-length': '417', 'connection': 'keep-alive', 'x-amzn-requestid': '017cd959-0727-4b43-b0d2-a356f924f166', 'x-amzn-bedrock-invocation-latency': '1399', 'x-amzn-bedrock-output-token-count': '59', 'x-amzn-bedrock-input-token-count': '568'}, 'RetryAttempts': 0}, 'contentType': 'application/json', 'body': <botocore.response.StreamingBody object at 0x7fa439ab7d60>}\n",
      "{'id': 'msg_bdrk_01J3kpLzprvAfwKB1EQyWmvD', 'type': 'message', 'role': 'assistant', 'model': 'claude-3-sonnet-20240229', 'content': [{'type': 'tool_use', 'id': 'toolu_bdrk_01HKkw3US7DbmUiQbF8ib9uD', 'name': 'query_food_recipe_vector_db', 'input': {'queries': ['low-carb breakfast recipe', 'eggs', 'spinach', 'keto diet', 'under 20 minutes']}}], 'stop_reason': 'tool_use', 'stop_sequence': None, 'usage': {'input_tokens': 568, 'output_tokens': 59}}\n"
     ]
    },
    {
     "data": {
      "text/plain": [
       "{'id': 'msg_bdrk_01J3kpLzprvAfwKB1EQyWmvD',\n",
       " 'type': 'message',\n",
       " 'role': 'assistant',\n",
       " 'model': 'claude-3-sonnet-20240229',\n",
       " 'content': [{'type': 'tool_use',\n",
       "   'id': 'toolu_bdrk_01HKkw3US7DbmUiQbF8ib9uD',\n",
       "   'name': 'query_food_recipe_vector_db',\n",
       "   'input': {'queries': ['low-carb breakfast recipe',\n",
       "     'eggs',\n",
       "     'spinach',\n",
       "     'keto diet',\n",
       "     'under 20 minutes']}}],\n",
       " 'stop_reason': 'tool_use',\n",
       " 'stop_sequence': None,\n",
       " 'usage': {'input_tokens': 568, 'output_tokens': 59}}"
      ]
     },
     "execution_count": 212,
     "metadata": {},
     "output_type": "execute_result"
    }
   ],
   "source": [
    "qdrant_rag_chain.invoke(test_query_3)"
   ]
  },
  {
   "cell_type": "code",
   "execution_count": 32,
   "id": "ac56eb72-cf6d-4d2d-8894-bc2a225b3f29",
   "metadata": {},
   "outputs": [],
   "source": [
    "test_query_4 = \"\"\"\n",
    "Suggest a healthy dinner recipe for two people that includes fish, \n",
    "is under 500 calories per serving, \n",
    "and can be made in less than 40 minutes.\n",
    "\"\"\""
   ]
  },
  {
   "cell_type": "code",
   "execution_count": 214,
   "id": "ee2f27f7-504c-4e4a-89b0-9a79b297e721",
   "metadata": {},
   "outputs": [
    {
     "name": "stdout",
     "output_type": "stream",
     "text": [
      "{'ResponseMetadata': {'RequestId': '1346cce7-5457-4d65-be81-f24b90bbb0c8', 'HTTPStatusCode': 200, 'HTTPHeaders': {'date': 'Sat, 06 Jul 2024 08:35:02 GMT', 'content-type': 'application/json', 'content-length': '439', 'connection': 'keep-alive', 'x-amzn-requestid': '1346cce7-5457-4d65-be81-f24b90bbb0c8', 'x-amzn-bedrock-invocation-latency': '1413', 'x-amzn-bedrock-output-token-count': '58', 'x-amzn-bedrock-input-token-count': '567'}, 'RetryAttempts': 0}, 'contentType': 'application/json', 'body': <botocore.response.StreamingBody object at 0x7fa4402a8310>}\n",
      "{'id': 'msg_bdrk_01NDSdtdVPyTv1JKecy9wynf', 'type': 'message', 'role': 'assistant', 'model': 'claude-3-sonnet-20240229', 'content': [{'type': 'tool_use', 'id': 'toolu_bdrk_01QbmRJxKc7FoKavEFdF5QcW', 'name': 'query_food_recipe_vector_db', 'input': {'queries': ['healthy dinner recipe with fish', 'under 500 calories per serving', 'less than 40 minutes to make']}}], 'stop_reason': 'tool_use', 'stop_sequence': None, 'usage': {'input_tokens': 567, 'output_tokens': 58}}\n"
     ]
    },
    {
     "data": {
      "text/plain": [
       "{'id': 'msg_bdrk_01NDSdtdVPyTv1JKecy9wynf',\n",
       " 'type': 'message',\n",
       " 'role': 'assistant',\n",
       " 'model': 'claude-3-sonnet-20240229',\n",
       " 'content': [{'type': 'tool_use',\n",
       "   'id': 'toolu_bdrk_01QbmRJxKc7FoKavEFdF5QcW',\n",
       "   'name': 'query_food_recipe_vector_db',\n",
       "   'input': {'queries': ['healthy dinner recipe with fish',\n",
       "     'under 500 calories per serving',\n",
       "     'less than 40 minutes to make']}}],\n",
       " 'stop_reason': 'tool_use',\n",
       " 'stop_sequence': None,\n",
       " 'usage': {'input_tokens': 567, 'output_tokens': 58}}"
      ]
     },
     "execution_count": 214,
     "metadata": {},
     "output_type": "execute_result"
    }
   ],
   "source": [
    "qdrant_rag_chain.invoke(test_query_4)"
   ]
  },
  {
   "cell_type": "markdown",
   "id": "3ad71bb4-54a7-4037-94c3-72e7340a3bdc",
   "metadata": {},
   "source": [
    "### Implement continuous dialogue and function calling"
   ]
  },
  {
   "cell_type": "code",
   "execution_count": 22,
   "id": "36cdb25c-0aff-4170-9736-a0c56aa0e53a",
   "metadata": {},
   "outputs": [],
   "source": [
    "def generate_message(prompt):\n",
    "    if type(prompt) != str:\n",
    "        raise ValueError(f'Tried to call message generate_message with non-string input: {prompt}')\n",
    "        \n",
    "    return {\n",
    "        \"role\": \"user\",\n",
    "        \"content\": [\n",
    "            {\n",
    "                \"type\": \"text\",\n",
    "                \"text\": prompt\n",
    "            }\n",
    "        ]\n",
    "    }"
   ]
  },
  {
   "cell_type": "code",
   "execution_count": 23,
   "id": "0aafdca2-4248-4780-8c0f-4cbdd2209889",
   "metadata": {},
   "outputs": [],
   "source": [
    "def generate_tool_message(fn_results):\n",
    "    \n",
    "    return {\n",
    "        \"role\": \"user\",\n",
    "        \"content\": fn_results\n",
    "    }"
   ]
  },
  {
   "cell_type": "code",
   "execution_count": 50,
   "id": "3e1efe9b-eee3-402a-b606-df6c536b9990",
   "metadata": {},
   "outputs": [],
   "source": [
    "import json\n",
    "\n",
    "# Adds the current prompt as a new message to the chat history\n",
    "# and calls bedrock with the entire chat history\n",
    "# Returns the response body, llm's message, and new chat history\n",
    "\n",
    "'''\n",
    "Example response body structure:\n",
    "{\n",
    "   \"id\":\"msg_bdrk_01C5GGkafK7aL3P5i3rsMr1p\",\n",
    "   \"type\":\"message\",\n",
    "   \"role\":\"assistant\",\n",
    "   \"model\":\"claude-3-sonnet-20240229\",\n",
    "   \"content\":[\n",
    "      {\n",
    "         \"type\":\"tool_use\",\n",
    "         \"id\":\"toolu_bdrk_01CQiYa8BMJfpJC68DuRdwQn\",\n",
    "         \"name\":\"query_food_recipe_vector_db\",\n",
    "         \"input\":{\n",
    "            \"queries\":[\n",
    "               \"healthy fish dinner recipe under 500 calories\",\n",
    "               \"fish dinner recipe for two under 40 minutes\"\n",
    "            ]\n",
    "         }\n",
    "      }\n",
    "   ],\n",
    "   \"stop_reason\":\"tool_use\",\n",
    "   \"stop_sequence\":\"None\",\n",
    "   \"usage\":{\n",
    "      \"input_tokens\":559,\n",
    "      \"output_tokens\":55\n",
    "   }\n",
    "}\n",
    "'''\n",
    "def message_handler(existing_chat_history, prompt, is_tool_message=False):\n",
    "    # Fn results is an array of tool response objects\n",
    "    # message structure needs to reflect that\n",
    "    if is_tool_message:\n",
    "        user_message = generate_tool_message(prompt)\n",
    "    else:\n",
    "        user_message = generate_message(prompt)\n",
    "    existing_chat_history.append(user_message)\n",
    "\n",
    "    # Parse the response content\n",
    "    response_body = query_bedrock_llm(existing_chat_history)\n",
    "    llm_message = {\n",
    "        'role': response_body['role'],\n",
    "        'content': response_body['content']\n",
    "    }\n",
    "\n",
    "    # Add the response message to the chat history\n",
    "    existing_chat_history.append(llm_message)\n",
    "    \n",
    "    return [response_body, llm_message, existing_chat_history]"
   ]
  },
  {
   "cell_type": "code",
   "execution_count": 51,
   "id": "54251908-abed-4098-88db-dae841ce9875",
   "metadata": {},
   "outputs": [],
   "source": [
    "# Executes a list of queries and returns a list of document results\n",
    "def handle_vector_db_queries(queries, retriever=qdrant_retriever): \n",
    "    context_docs = []\n",
    "    for query in queries:\n",
    "        query_results = retriever.invoke(query)\n",
    "        context_docs.extend(query_results)\n",
    "\n",
    "    return context_docs"
   ]
  },
  {
   "cell_type": "code",
   "execution_count": 52,
   "id": "a7daf0c5-eca6-496d-a9d3-97d7d472a086",
   "metadata": {},
   "outputs": [],
   "source": [
    "# Takes as an argument to LLM message content, returns a list of the fn result objects\n",
    "def handle_function_calls(tool_call_message_content):\n",
    "    tool_results = []\n",
    "    \n",
    "    for tool_call in tool_call_message_content:\n",
    "        # Only process messages from the LLM that are function calls\n",
    "        if tool_call['type'] != 'tool_use':\n",
    "            continue\n",
    "        fn_id = tool_call['id']\n",
    "        fn_name = tool_call['name']\n",
    "        fn_args = tool_call['input']\n",
    "        fn_result = {\n",
    "            \"type\": \"tool_result\",\n",
    "            \"tool_use_id\": fn_id,\n",
    "        }   \n",
    "\n",
    "        if fn_name == 'query_food_recipe_vector_db':\n",
    "            if 'queries' not in fn_args:\n",
    "                print(f\"ERROR: Tried to call {fn_name} with invalid args {fn_args}, skipping..\")\n",
    "                fn_result['content'] = \"\"\n",
    "                fn_result['is_error'] = True\n",
    "                tool_results.append(fn_result)\n",
    "                continue\n",
    "                \n",
    "            print(f\"Calling {fn_name} with args {fn_args}\")\n",
    "            context_docs = handle_vector_db_queries(fn_args['queries'])\n",
    "            context_str = format_docs(context_docs)\n",
    "            fn_result['content'] = context_str\n",
    "            tool_results.append(fn_result)\n",
    "            \n",
    "        # TODO: handle web search invocation here\n",
    "        \n",
    "        else:\n",
    "            print(f\"ERROR: Attempted call to unknown function {fn_name}\")\n",
    "            fn_result['content'] = \"\"\n",
    "            fn_result['is_error'] = True\n",
    "            tool_results.append(fn_result)\n",
    "\n",
    "    return tool_results"
   ]
  },
  {
   "cell_type": "code",
   "execution_count": 53,
   "id": "33afd461-f722-404e-bc42-617a953e559d",
   "metadata": {},
   "outputs": [],
   "source": [
    "'''\n",
    "Example payload structure of response_body:\n",
    "\n",
    "{'id': 'msg_bdrk_01REesjegNiLteurBoxW7pSt',\n",
    " 'type': 'message',\n",
    " 'role': 'assistant',\n",
    " 'model': 'claude-3-sonnet-20240229',\n",
    " 'content': [{'type': 'tool_use',\n",
    "   'id': 'toolu_bdrk_01191W2FuAFTRoDqKKeJSmmn',\n",
    "   'name': 'query_food_recipe_vector_db',\n",
    "   'input': {'queries': ['thai food',\n",
    "     'peanut free',\n",
    "     'low carb',\n",
    "     'not spicy']}}],\n",
    " 'stop_reason': 'tool_use',\n",
    " 'stop_sequence': None,\n",
    " 'usage': {'input_tokens': 573, 'output_tokens': 52}}\n",
    "\n",
    "\n",
    "Example payload structure of llm_message['content']:\n",
    "\n",
    "[{'type': 'tool_use',\n",
    "   'id': 'toolu_bdrk_01191W2FuAFTRoDqKKeJSmmn',\n",
    "   'name': 'query_food_recipe_vector_db',\n",
    "   'input': {'queries': ['thai food',\n",
    "     'peanut free',\n",
    "     'low carb',\n",
    "     'not spicy']}}]\n",
    "'''\n",
    "\n",
    "# This function is the entry point to invoke the LLM with support for function calling\n",
    "# parsing output, calling requested functions, sending output is handled here\n",
    "def run_chat_loop(prompt):\n",
    "    response_body, llm_message, chat_history = message_handler(existing_chat_history=[], prompt=prompt)\n",
    "    \n",
    "    # The model wants to call tools, call them, provide response, repeat until content is generated\n",
    "    print(\"RESPOSNE BODY\")\n",
    "    print(response_body)\n",
    "    while response_body['stop_reason'] == 'tool_use':\n",
    "        print(\"RESPOSNE BODY\")\n",
    "        print(response_body)\n",
    "        fn_results = handle_function_calls(tool_call_message_content=llm_message['content'])\n",
    "\n",
    "        # Send function results back to LLM as a new message with the existing chat history\n",
    "        response_body, llm_message, chat_history = message_handler(\n",
    "            existing_chat_history=chat_history, \n",
    "            prompt=fn_results,\n",
    "            is_tool_message=True\n",
    "        )\n",
    "\n",
    "    # The model is done calling tools\n",
    "    print(llm_message)"
   ]
  },
  {
   "cell_type": "code",
   "execution_count": 54,
   "id": "21856cad-a7de-4852-9878-ca86f66aa03e",
   "metadata": {},
   "outputs": [
    {
     "name": "stdout",
     "output_type": "stream",
     "text": [
      "CALLING WITH MESSAGES\n",
      "[{'role': 'user', 'content': [{'type': 'text', 'text': '\\nSuggest a healthy dinner recipe for two people that includes fish, \\nis under 500 calories per serving, \\nand can be made in less than 40 minutes.\\n'}]}]\n",
      "=======\n",
      "BEDROCK GOT RESPONSE BODY {'id': 'msg_bdrk_01GRu1kMoYTzTcKAXzLXMTtm', 'type': 'message', 'role': 'assistant', 'model': 'claude-3-sonnet-20240229', 'content': [{'type': 'tool_use', 'id': 'toolu_bdrk_017NkLdC4xXjWGbjKccQzxfz', 'name': 'query_food_recipe_vector_db', 'input': {'queries': ['healthy fish dinner recipe under 500 calories quick']}}], 'stop_reason': 'tool_use', 'stop_sequence': None, 'usage': {'input_tokens': 482, 'output_tokens': 70}})\n",
      "RESPOSNE BODY\n",
      "{'id': 'msg_bdrk_01GRu1kMoYTzTcKAXzLXMTtm', 'type': 'message', 'role': 'assistant', 'model': 'claude-3-sonnet-20240229', 'content': [{'type': 'tool_use', 'id': 'toolu_bdrk_017NkLdC4xXjWGbjKccQzxfz', 'name': 'query_food_recipe_vector_db', 'input': {'queries': ['healthy fish dinner recipe under 500 calories quick']}}], 'stop_reason': 'tool_use', 'stop_sequence': None, 'usage': {'input_tokens': 482, 'output_tokens': 70}}\n",
      "RESPOSNE BODY\n",
      "{'id': 'msg_bdrk_01GRu1kMoYTzTcKAXzLXMTtm', 'type': 'message', 'role': 'assistant', 'model': 'claude-3-sonnet-20240229', 'content': [{'type': 'tool_use', 'id': 'toolu_bdrk_017NkLdC4xXjWGbjKccQzxfz', 'name': 'query_food_recipe_vector_db', 'input': {'queries': ['healthy fish dinner recipe under 500 calories quick']}}], 'stop_reason': 'tool_use', 'stop_sequence': None, 'usage': {'input_tokens': 482, 'output_tokens': 70}}\n",
      "Calling query_food_recipe_vector_db with args {'queries': ['healthy fish dinner recipe under 500 calories quick']}\n",
      "CALLING WITH MESSAGES\n",
      "[{'role': 'user', 'content': [{'type': 'text', 'text': '\\nSuggest a healthy dinner recipe for two people that includes fish, \\nis under 500 calories per serving, \\nand can be made in less than 40 minutes.\\n'}]}, {'role': 'assistant', 'content': [{'type': 'tool_use', 'id': 'toolu_bdrk_017NkLdC4xXjWGbjKccQzxfz', 'name': 'query_food_recipe_vector_db', 'input': {'queries': ['healthy fish dinner recipe under 500 calories quick']}}]}, {'role': 'user', 'content': [{'type': 'tool_result', 'tool_use_id': 'toolu_bdrk_017NkLdC4xXjWGbjKccQzxfz', 'content': \"Metadata: {'recipe_title': 'Spicy Seafood Stew Casserole With Tomatoes And Lime Recipe', 'url': 'https://www.archanaskitchen.com/spicy-seafood-stew-casserole-with-tomatoes-and-lime-recipe', 'vote_count': '438', 'rating': '4.9383561643836', 'cuisine': 'South Indian Recipes', 'course': 'Lunch', 'diet': 'Non Vegeterian', 'prep_time': '10 M', 'cook_time': '55 M', 'author': 'Jyothi Rajesh', 'category': 'Fish Recipes', 'chunk_id': 0, '_id': '93003275e14f4e98bf16e206a00cdb4c', '_collection_name': '4c87653837744178a9a340f820d8c9f9'}\\n\\n\\nMetadata: {'recipe_title': 'Broccoli Chilli Noodles With Grilled Salmon Recipe', 'url': 'https://www.archanaskitchen.com/broccoli-chilli-noodles-with-grilled-salmon-recipe', 'vote_count': '226', 'rating': '5.0', 'cuisine': 'Fusion', 'course': 'Lunch', 'diet': 'Vegetarian', 'prep_time': '10 M', 'cook_time': '45 M', 'author': 'Monika Manchanda', 'category': 'Indian Chinese Recipes', 'chunk_id': 1, '_id': '45808d63b00244cc82049b0ade7e42bc', '_collection_name': '4c87653837744178a9a340f820d8c9f9'}\\n\\n\\nMetadata: {'recipe_title': 'Mexican Low Fat Fish Wraps Recipe', 'url': 'https://www.archanaskitchen.com/mexican-low-fat-fish-wraps-recipe', 'vote_count': '596', 'rating': '4.9597315436242', 'cuisine': 'Mexican', 'course': 'Lunch', 'diet': 'Non Vegeterian', 'prep_time': '10 M', 'cook_time': '30 M', 'author': 'Raksha Kamat', 'category': 'Frankie Roll Recipes (Wrap Recipes)', 'chunk_id': 1, '_id': 'ebf9831d197f4ea488bd3fad37624f62', '_collection_name': '4c87653837744178a9a340f820d8c9f9'}\\n\\n\\nMetadata: {'recipe_title': 'Broccoli Chilli Noodles With Grilled Salmon Recipe', 'url': 'https://www.archanaskitchen.com/broccoli-chilli-noodles-with-grilled-salmon-recipe', 'vote_count': '226', 'rating': '5.0', 'cuisine': 'Fusion', 'course': 'Lunch', 'diet': 'Vegetarian', 'prep_time': '10 M', 'cook_time': '45 M', 'author': 'Monika Manchanda', 'category': 'Indian Chinese Recipes', 'chunk_id': 0, '_id': '6b012547fcd544b8b1c65a03a57ba58f', '_collection_name': '4c87653837744178a9a340f820d8c9f9'}\\n\"}]}]\n",
      "=======\n",
      "BEDROCK GOT RESPONSE BODY {'id': 'msg_bdrk_01Cuvvk2zp6CYZPVbCHCpPGF', 'type': 'message', 'role': 'assistant', 'model': 'claude-3-sonnet-20240229', 'content': [{'type': 'text', 'text': '<search_quality_reflection>\\nThe initial search provided some potentially relevant recipes that include fish and are relatively healthy and quick to prepare. However, more specific information on calorie counts and total preparation times would be helpful to fully address the criteria in the prompt.\\n</search_quality_reflection>\\n\\n<search_quality_score>3</search_quality_score>'}, {'type': 'tool_use', 'id': 'toolu_bdrk_013Nvkuw4AFDRAcDsLkSSpTs', 'name': 'query_food_recipe_vector_db', 'input': {'queries': ['fish recipe under 500 calories per serving 40 minutes or less']}}], 'stop_reason': 'tool_use', 'stop_sequence': None, 'usage': {'input_tokens': 1449, 'output_tokens': 154}})\n",
      "RESPOSNE BODY\n",
      "{'id': 'msg_bdrk_01Cuvvk2zp6CYZPVbCHCpPGF', 'type': 'message', 'role': 'assistant', 'model': 'claude-3-sonnet-20240229', 'content': [{'type': 'text', 'text': '<search_quality_reflection>\\nThe initial search provided some potentially relevant recipes that include fish and are relatively healthy and quick to prepare. However, more specific information on calorie counts and total preparation times would be helpful to fully address the criteria in the prompt.\\n</search_quality_reflection>\\n\\n<search_quality_score>3</search_quality_score>'}, {'type': 'tool_use', 'id': 'toolu_bdrk_013Nvkuw4AFDRAcDsLkSSpTs', 'name': 'query_food_recipe_vector_db', 'input': {'queries': ['fish recipe under 500 calories per serving 40 minutes or less']}}], 'stop_reason': 'tool_use', 'stop_sequence': None, 'usage': {'input_tokens': 1449, 'output_tokens': 154}}\n",
      "Calling query_food_recipe_vector_db with args {'queries': ['fish recipe under 500 calories per serving 40 minutes or less']}\n",
      "CALLING WITH MESSAGES\n",
      "[{'role': 'user', 'content': [{'type': 'text', 'text': '\\nSuggest a healthy dinner recipe for two people that includes fish, \\nis under 500 calories per serving, \\nand can be made in less than 40 minutes.\\n'}]}, {'role': 'assistant', 'content': [{'type': 'tool_use', 'id': 'toolu_bdrk_017NkLdC4xXjWGbjKccQzxfz', 'name': 'query_food_recipe_vector_db', 'input': {'queries': ['healthy fish dinner recipe under 500 calories quick']}}]}, {'role': 'user', 'content': [{'type': 'tool_result', 'tool_use_id': 'toolu_bdrk_017NkLdC4xXjWGbjKccQzxfz', 'content': \"Metadata: {'recipe_title': 'Spicy Seafood Stew Casserole With Tomatoes And Lime Recipe', 'url': 'https://www.archanaskitchen.com/spicy-seafood-stew-casserole-with-tomatoes-and-lime-recipe', 'vote_count': '438', 'rating': '4.9383561643836', 'cuisine': 'South Indian Recipes', 'course': 'Lunch', 'diet': 'Non Vegeterian', 'prep_time': '10 M', 'cook_time': '55 M', 'author': 'Jyothi Rajesh', 'category': 'Fish Recipes', 'chunk_id': 0, '_id': '93003275e14f4e98bf16e206a00cdb4c', '_collection_name': '4c87653837744178a9a340f820d8c9f9'}\\n\\n\\nMetadata: {'recipe_title': 'Broccoli Chilli Noodles With Grilled Salmon Recipe', 'url': 'https://www.archanaskitchen.com/broccoli-chilli-noodles-with-grilled-salmon-recipe', 'vote_count': '226', 'rating': '5.0', 'cuisine': 'Fusion', 'course': 'Lunch', 'diet': 'Vegetarian', 'prep_time': '10 M', 'cook_time': '45 M', 'author': 'Monika Manchanda', 'category': 'Indian Chinese Recipes', 'chunk_id': 1, '_id': '45808d63b00244cc82049b0ade7e42bc', '_collection_name': '4c87653837744178a9a340f820d8c9f9'}\\n\\n\\nMetadata: {'recipe_title': 'Mexican Low Fat Fish Wraps Recipe', 'url': 'https://www.archanaskitchen.com/mexican-low-fat-fish-wraps-recipe', 'vote_count': '596', 'rating': '4.9597315436242', 'cuisine': 'Mexican', 'course': 'Lunch', 'diet': 'Non Vegeterian', 'prep_time': '10 M', 'cook_time': '30 M', 'author': 'Raksha Kamat', 'category': 'Frankie Roll Recipes (Wrap Recipes)', 'chunk_id': 1, '_id': 'ebf9831d197f4ea488bd3fad37624f62', '_collection_name': '4c87653837744178a9a340f820d8c9f9'}\\n\\n\\nMetadata: {'recipe_title': 'Broccoli Chilli Noodles With Grilled Salmon Recipe', 'url': 'https://www.archanaskitchen.com/broccoli-chilli-noodles-with-grilled-salmon-recipe', 'vote_count': '226', 'rating': '5.0', 'cuisine': 'Fusion', 'course': 'Lunch', 'diet': 'Vegetarian', 'prep_time': '10 M', 'cook_time': '45 M', 'author': 'Monika Manchanda', 'category': 'Indian Chinese Recipes', 'chunk_id': 0, '_id': '6b012547fcd544b8b1c65a03a57ba58f', '_collection_name': '4c87653837744178a9a340f820d8c9f9'}\\n\"}]}, {'role': 'assistant', 'content': [{'type': 'text', 'text': '<search_quality_reflection>\\nThe initial search provided some potentially relevant recipes that include fish and are relatively healthy and quick to prepare. However, more specific information on calorie counts and total preparation times would be helpful to fully address the criteria in the prompt.\\n</search_quality_reflection>\\n\\n<search_quality_score>3</search_quality_score>'}, {'type': 'tool_use', 'id': 'toolu_bdrk_013Nvkuw4AFDRAcDsLkSSpTs', 'name': 'query_food_recipe_vector_db', 'input': {'queries': ['fish recipe under 500 calories per serving 40 minutes or less']}}]}, {'role': 'user', 'content': [{'type': 'tool_result', 'tool_use_id': 'toolu_bdrk_013Nvkuw4AFDRAcDsLkSSpTs', 'content': \"Metadata: {'recipe_title': 'Mexican Low Fat Fish Wraps Recipe', 'url': 'https://www.archanaskitchen.com/mexican-low-fat-fish-wraps-recipe', 'vote_count': '596', 'rating': '4.9597315436242', 'cuisine': 'Mexican', 'course': 'Lunch', 'diet': 'Non Vegeterian', 'prep_time': '10 M', 'cook_time': '30 M', 'author': 'Raksha Kamat', 'category': 'Frankie Roll Recipes (Wrap Recipes)', 'chunk_id': 1, '_id': 'ebf9831d197f4ea488bd3fad37624f62', '_collection_name': '4c87653837744178a9a340f820d8c9f9'}\\n\\n\\nMetadata: {'recipe_title': 'Broccoli Chilli Noodles With Grilled Salmon Recipe', 'url': 'https://www.archanaskitchen.com/broccoli-chilli-noodles-with-grilled-salmon-recipe', 'vote_count': '226', 'rating': '5.0', 'cuisine': 'Fusion', 'course': 'Lunch', 'diet': 'Vegetarian', 'prep_time': '10 M', 'cook_time': '45 M', 'author': 'Monika Manchanda', 'category': 'Indian Chinese Recipes', 'chunk_id': 1, '_id': '45808d63b00244cc82049b0ade7e42bc', '_collection_name': '4c87653837744178a9a340f820d8c9f9'}\\n\\n\\nMetadata: {'recipe_title': 'Moroccan Baked Fish Recipe', 'url': 'https://www.archanaskitchen.com/moroccan-baked-fish-recipe', 'vote_count': '3535', 'rating': '4.9015558698727', 'cuisine': 'Not Available', 'course': 'Dinner', 'diet': 'Non Vegeterian', 'prep_time': '30 M', 'cook_time': '35 M', 'author': 'Raksha Kamat', 'category': 'Continental Food Recipes', 'chunk_id': 2, '_id': 'df1788e4ec974d41abf8b6e14bc4c977', '_collection_name': '4c87653837744178a9a340f820d8c9f9'}\\n\\n\\nMetadata: {'recipe_title': 'Moroccan Baked Fish Recipe', 'url': 'https://www.archanaskitchen.com/moroccan-baked-fish-recipe', 'vote_count': '3535', 'rating': '4.9015558698727', 'cuisine': 'Not Available', 'course': 'Dinner', 'diet': 'Non Vegeterian', 'prep_time': '30 M', 'cook_time': '35 M', 'author': 'Raksha Kamat', 'category': 'Continental Food Recipes', 'chunk_id': 1, '_id': '8eb2affbe2354c378352418a4bcda7f6', '_collection_name': '4c87653837744178a9a340f820d8c9f9'}\\n\"}]}]\n",
      "=======\n",
      "BEDROCK GOT RESPONSE BODY {'id': 'msg_bdrk_011dK9MFScNzzy6V6UT9PYDx', 'type': 'message', 'role': 'assistant', 'model': 'claude-3-sonnet-20240229', 'content': [{'type': 'text', 'text': '<search_quality_reflection>\\nThe second search provided some promising fish recipes that meet the calorie and time constraints specified in the prompt. The Mexican Low Fat Fish Wraps and Broccoli Chilli Noodles with Grilled Salmon both look like good options that could work well for a healthy, quick dinner for two people. I likely have enough context now to provide a recommendation.\\n</search_quality_reflection>\\n\\n<search_quality_score>4</search_quality_score>\\n\\n<result>\\nFor a healthy dinner recipe for two people that includes fish, is under 500 calories per serving, and can be made in less than 40 minutes, I would recommend the Mexican Low Fat Fish Wraps.\\n\\nHere are the key details:\\n\\n- Mexican Low Fat Fish Wraps Recipe\\n- Cuisine: Mexican\\n- Total Time: 40 minutes (10 mins prep, 30 mins cooking)\\n- Calories: Not specified but described as \"low fat\"\\n- Ingredients: Fish fillets, whole wheat tortillas, lettuce, tomatoes, avocado, lime, spices\\n\\nThis recipe involves quickly pan-frying or grilling fish fillets and serving them wrapped in whole wheat tortillas along with fresh vegetable toppings like lettuce, tomato, and avocado. The lime and spices add lots of flavor.\\n\\nIt\\'s a balanced meal with lean protein from the fish, fiber from the whole grains and veggies, and healthy fats from the avocado. The prep is minimal and it can be on the table in 40 minutes or less.\\n\\nSome tips:\\n- Use a firm white fish like tilapia, cod, or halibut\\n- Cook the fish simply with just oil, salt, and pepper\\n- Warm the tortillas before assembling the wraps\\n- Let people customize their own wraps with desired toppings\\n\\nThis makes for a tasty, nutritious dinner that meets the criteria you outlined. The wraps are portable as well if you want to eat on the couch or patio. Let me know if you need any other details!\\n</result>'}], 'stop_reason': 'end_turn', 'stop_sequence': None, 'usage': {'input_tokens': 2456, 'output_tokens': 471}})\n",
      "{'role': 'assistant', 'content': [{'type': 'text', 'text': '<search_quality_reflection>\\nThe second search provided some promising fish recipes that meet the calorie and time constraints specified in the prompt. The Mexican Low Fat Fish Wraps and Broccoli Chilli Noodles with Grilled Salmon both look like good options that could work well for a healthy, quick dinner for two people. I likely have enough context now to provide a recommendation.\\n</search_quality_reflection>\\n\\n<search_quality_score>4</search_quality_score>\\n\\n<result>\\nFor a healthy dinner recipe for two people that includes fish, is under 500 calories per serving, and can be made in less than 40 minutes, I would recommend the Mexican Low Fat Fish Wraps.\\n\\nHere are the key details:\\n\\n- Mexican Low Fat Fish Wraps Recipe\\n- Cuisine: Mexican\\n- Total Time: 40 minutes (10 mins prep, 30 mins cooking)\\n- Calories: Not specified but described as \"low fat\"\\n- Ingredients: Fish fillets, whole wheat tortillas, lettuce, tomatoes, avocado, lime, spices\\n\\nThis recipe involves quickly pan-frying or grilling fish fillets and serving them wrapped in whole wheat tortillas along with fresh vegetable toppings like lettuce, tomato, and avocado. The lime and spices add lots of flavor.\\n\\nIt\\'s a balanced meal with lean protein from the fish, fiber from the whole grains and veggies, and healthy fats from the avocado. The prep is minimal and it can be on the table in 40 minutes or less.\\n\\nSome tips:\\n- Use a firm white fish like tilapia, cod, or halibut\\n- Cook the fish simply with just oil, salt, and pepper\\n- Warm the tortillas before assembling the wraps\\n- Let people customize their own wraps with desired toppings\\n\\nThis makes for a tasty, nutritious dinner that meets the criteria you outlined. The wraps are portable as well if you want to eat on the couch or patio. Let me know if you need any other details!\\n</result>'}]}\n"
     ]
    }
   ],
   "source": [
    "run_chat_loop(test_query_4)"
   ]
  },
  {
   "cell_type": "code",
   "execution_count": null,
   "id": "360907c0-da1b-4a59-b8d9-580f77d3a4ee",
   "metadata": {},
   "outputs": [],
   "source": []
  },
  {
   "cell_type": "code",
   "execution_count": null,
   "id": "2db4da32-cddb-4558-8734-7b92bd5a00b1",
   "metadata": {},
   "outputs": [],
   "source": []
  },
  {
   "cell_type": "code",
   "execution_count": null,
   "id": "b84e0521-86bc-4185-ab4f-5297f1bfd611",
   "metadata": {},
   "outputs": [],
   "source": []
  }
 ],
 "metadata": {
  "kernelspec": {
   "display_name": "Python 3 (ipykernel)",
   "language": "python",
   "name": "python3"
  },
  "language_info": {
   "codemirror_mode": {
    "name": "ipython",
    "version": 3
   },
   "file_extension": ".py",
   "mimetype": "text/x-python",
   "name": "python",
   "nbconvert_exporter": "python",
   "pygments_lexer": "ipython3",
   "version": "3.12.2"
  }
 },
 "nbformat": 4,
 "nbformat_minor": 5
}
