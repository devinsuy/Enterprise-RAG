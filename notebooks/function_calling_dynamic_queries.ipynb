{
 "cells": [
  {
   "cell_type": "markdown",
   "id": "a1ca1687-79fb-4439-8c91-7b1049c36153",
   "metadata": {},
   "source": [
    "### Install dependencies"
   ]
  },
  {
   "cell_type": "code",
   "execution_count": 1,
   "id": "d8fbce3d-65f5-4ded-8fd4-d9f1101286a9",
   "metadata": {
    "scrolled": true,
    "tags": []
   },
   "outputs": [
    {
     "name": "stdout",
     "output_type": "stream",
     "text": [
      "Requirement already satisfied: boto3 in /home/reson/miniconda3/envs/LangChain/lib/python3.12/site-packages (1.34.140)\n",
      "Requirement already satisfied: sagemaker in /home/reson/miniconda3/envs/LangChain/lib/python3.12/site-packages (2.224.4)\n",
      "Requirement already satisfied: langchain in /home/reson/miniconda3/envs/LangChain/lib/python3.12/site-packages (0.2.6)\n",
      "Requirement already satisfied: langchain-community in /home/reson/miniconda3/envs/LangChain/lib/python3.12/site-packages (0.2.6)\n",
      "Requirement already satisfied: langchain-core in /home/reson/miniconda3/envs/LangChain/lib/python3.12/site-packages (0.2.11)\n",
      "Requirement already satisfied: faiss-cpu in /home/reson/miniconda3/envs/LangChain/lib/python3.12/site-packages (1.8.0.post1)\n",
      "Requirement already satisfied: requests in /home/reson/miniconda3/envs/LangChain/lib/python3.12/site-packages (2.32.3)\n",
      "Requirement already satisfied: opensearch-py in /home/reson/miniconda3/envs/LangChain/lib/python3.12/site-packages (2.6.0)\n",
      "Requirement already satisfied: sentence-transformers in /home/reson/miniconda3/envs/LangChain/lib/python3.12/site-packages (3.0.1)\n",
      "Requirement already satisfied: langchain-text-splitters in /home/reson/miniconda3/envs/LangChain/lib/python3.12/site-packages (0.2.2)\n",
      "Requirement already satisfied: requests-aws4auth in /home/reson/miniconda3/envs/LangChain/lib/python3.12/site-packages (1.2.3)\n",
      "Requirement already satisfied: qdrant-client in /home/reson/miniconda3/envs/LangChain/lib/python3.12/site-packages (1.10.0)\n",
      "Requirement already satisfied: botocore<1.35.0,>=1.34.140 in /home/reson/miniconda3/envs/LangChain/lib/python3.12/site-packages (from boto3) (1.34.140)\n",
      "Requirement already satisfied: jmespath<2.0.0,>=0.7.1 in /home/reson/miniconda3/envs/LangChain/lib/python3.12/site-packages (from boto3) (1.0.1)\n",
      "Requirement already satisfied: s3transfer<0.11.0,>=0.10.0 in /home/reson/miniconda3/envs/LangChain/lib/python3.12/site-packages (from boto3) (0.10.2)\n",
      "Requirement already satisfied: attrs<24,>=23.1.0 in /home/reson/miniconda3/envs/LangChain/lib/python3.12/site-packages (from sagemaker) (23.2.0)\n",
      "Requirement already satisfied: cloudpickle==2.2.1 in /home/reson/miniconda3/envs/LangChain/lib/python3.12/site-packages (from sagemaker) (2.2.1)\n",
      "Requirement already satisfied: google-pasta in /home/reson/miniconda3/envs/LangChain/lib/python3.12/site-packages (from sagemaker) (0.2.0)\n",
      "Requirement already satisfied: numpy<2.0,>=1.9.0 in /home/reson/miniconda3/envs/LangChain/lib/python3.12/site-packages (from sagemaker) (1.26.4)\n",
      "Requirement already satisfied: protobuf<5.0,>=3.12 in /home/reson/miniconda3/envs/LangChain/lib/python3.12/site-packages (from sagemaker) (4.25.3)\n",
      "Requirement already satisfied: smdebug-rulesconfig==1.0.1 in /home/reson/miniconda3/envs/LangChain/lib/python3.12/site-packages (from sagemaker) (1.0.1)\n",
      "Requirement already satisfied: importlib-metadata<7.0,>=1.4.0 in /home/reson/miniconda3/envs/LangChain/lib/python3.12/site-packages (from sagemaker) (6.8.0)\n",
      "Requirement already satisfied: packaging>=20.0 in /home/reson/miniconda3/envs/LangChain/lib/python3.12/site-packages (from sagemaker) (23.2)\n",
      "Requirement already satisfied: pandas in /home/reson/miniconda3/envs/LangChain/lib/python3.12/site-packages (from sagemaker) (2.2.1)\n",
      "Requirement already satisfied: pathos in /home/reson/miniconda3/envs/LangChain/lib/python3.12/site-packages (from sagemaker) (0.3.2)\n",
      "Requirement already satisfied: schema in /home/reson/miniconda3/envs/LangChain/lib/python3.12/site-packages (from sagemaker) (0.7.7)\n",
      "Requirement already satisfied: PyYAML~=6.0 in /home/reson/miniconda3/envs/LangChain/lib/python3.12/site-packages (from sagemaker) (6.0.1)\n",
      "Requirement already satisfied: jsonschema in /home/reson/miniconda3/envs/LangChain/lib/python3.12/site-packages (from sagemaker) (4.21.1)\n",
      "Requirement already satisfied: platformdirs in /home/reson/miniconda3/envs/LangChain/lib/python3.12/site-packages (from sagemaker) (4.2.0)\n",
      "Requirement already satisfied: tblib<4,>=1.7.0 in /home/reson/miniconda3/envs/LangChain/lib/python3.12/site-packages (from sagemaker) (3.0.0)\n",
      "Requirement already satisfied: urllib3<3.0.0,>=1.26.8 in /home/reson/miniconda3/envs/LangChain/lib/python3.12/site-packages (from sagemaker) (1.26.18)\n",
      "Requirement already satisfied: docker in /home/reson/miniconda3/envs/LangChain/lib/python3.12/site-packages (from sagemaker) (7.1.0)\n",
      "Requirement already satisfied: tqdm in /home/reson/miniconda3/envs/LangChain/lib/python3.12/site-packages (from sagemaker) (4.66.4)\n",
      "Requirement already satisfied: psutil in /home/reson/miniconda3/envs/LangChain/lib/python3.12/site-packages (from sagemaker) (5.9.8)\n",
      "Requirement already satisfied: SQLAlchemy<3,>=1.4 in /home/reson/miniconda3/envs/LangChain/lib/python3.12/site-packages (from langchain) (2.0.29)\n",
      "Requirement already satisfied: aiohttp<4.0.0,>=3.8.3 in /home/reson/miniconda3/envs/LangChain/lib/python3.12/site-packages (from langchain) (3.9.3)\n",
      "Requirement already satisfied: langsmith<0.2.0,>=0.1.17 in /home/reson/miniconda3/envs/LangChain/lib/python3.12/site-packages (from langchain) (0.1.83)\n",
      "Requirement already satisfied: pydantic<3,>=1 in /home/reson/miniconda3/envs/LangChain/lib/python3.12/site-packages (from langchain) (2.6.4)\n",
      "Requirement already satisfied: tenacity!=8.4.0,<9.0.0,>=8.1.0 in /home/reson/miniconda3/envs/LangChain/lib/python3.12/site-packages (from langchain) (8.2.3)\n",
      "Requirement already satisfied: dataclasses-json<0.7,>=0.5.7 in /home/reson/miniconda3/envs/LangChain/lib/python3.12/site-packages (from langchain-community) (0.6.4)\n",
      "Requirement already satisfied: jsonpatch<2.0,>=1.33 in /home/reson/miniconda3/envs/LangChain/lib/python3.12/site-packages (from langchain-core) (1.33)\n",
      "Requirement already satisfied: charset-normalizer<4,>=2 in /home/reson/miniconda3/envs/LangChain/lib/python3.12/site-packages (from requests) (3.3.2)\n",
      "Requirement already satisfied: idna<4,>=2.5 in /home/reson/miniconda3/envs/LangChain/lib/python3.12/site-packages (from requests) (3.7)\n",
      "Requirement already satisfied: certifi>=2017.4.17 in /home/reson/miniconda3/envs/LangChain/lib/python3.12/site-packages (from requests) (2024.2.2)\n",
      "Requirement already satisfied: six in /home/reson/miniconda3/envs/LangChain/lib/python3.12/site-packages (from opensearch-py) (1.16.0)\n",
      "Requirement already satisfied: python-dateutil in /home/reson/miniconda3/envs/LangChain/lib/python3.12/site-packages (from opensearch-py) (2.9.0)\n",
      "Requirement already satisfied: Events in /home/reson/miniconda3/envs/LangChain/lib/python3.12/site-packages (from opensearch-py) (0.5)\n",
      "Requirement already satisfied: transformers<5.0.0,>=4.34.0 in /home/reson/miniconda3/envs/LangChain/lib/python3.12/site-packages (from sentence-transformers) (4.40.0.dev0)\n",
      "Requirement already satisfied: torch>=1.11.0 in /home/reson/miniconda3/envs/LangChain/lib/python3.12/site-packages (from sentence-transformers) (2.2.2)\n",
      "Requirement already satisfied: scikit-learn in /home/reson/miniconda3/envs/LangChain/lib/python3.12/site-packages (from sentence-transformers) (1.4.1.post1)\n",
      "Requirement already satisfied: scipy in /home/reson/miniconda3/envs/LangChain/lib/python3.12/site-packages (from sentence-transformers) (1.13.0)\n",
      "Requirement already satisfied: huggingface-hub>=0.15.1 in /home/reson/miniconda3/envs/LangChain/lib/python3.12/site-packages (from sentence-transformers) (0.22.2)\n",
      "Requirement already satisfied: Pillow in /home/reson/miniconda3/envs/LangChain/lib/python3.12/site-packages (from sentence-transformers) (10.3.0)\n",
      "Requirement already satisfied: grpcio>=1.41.0 in /home/reson/miniconda3/envs/LangChain/lib/python3.12/site-packages (from qdrant-client) (1.62.1)\n",
      "Requirement already satisfied: grpcio-tools>=1.41.0 in /home/reson/miniconda3/envs/LangChain/lib/python3.12/site-packages (from qdrant-client) (1.62.1)\n",
      "Requirement already satisfied: httpx>=0.20.0 in /home/reson/miniconda3/envs/LangChain/lib/python3.12/site-packages (from httpx[http2]>=0.20.0->qdrant-client) (0.27.0)\n",
      "Requirement already satisfied: portalocker<3.0.0,>=2.7.0 in /home/reson/miniconda3/envs/LangChain/lib/python3.12/site-packages (from qdrant-client) (2.8.2)\n",
      "Requirement already satisfied: aiosignal>=1.1.2 in /home/reson/miniconda3/envs/LangChain/lib/python3.12/site-packages (from aiohttp<4.0.0,>=3.8.3->langchain) (1.3.1)\n",
      "Requirement already satisfied: frozenlist>=1.1.1 in /home/reson/miniconda3/envs/LangChain/lib/python3.12/site-packages (from aiohttp<4.0.0,>=3.8.3->langchain) (1.4.1)\n",
      "Requirement already satisfied: multidict<7.0,>=4.5 in /home/reson/miniconda3/envs/LangChain/lib/python3.12/site-packages (from aiohttp<4.0.0,>=3.8.3->langchain) (6.0.5)\n",
      "Requirement already satisfied: yarl<2.0,>=1.0 in /home/reson/miniconda3/envs/LangChain/lib/python3.12/site-packages (from aiohttp<4.0.0,>=3.8.3->langchain) (1.9.4)\n",
      "Requirement already satisfied: marshmallow<4.0.0,>=3.18.0 in /home/reson/miniconda3/envs/LangChain/lib/python3.12/site-packages (from dataclasses-json<0.7,>=0.5.7->langchain-community) (3.21.1)\n",
      "Requirement already satisfied: typing-inspect<1,>=0.4.0 in /home/reson/miniconda3/envs/LangChain/lib/python3.12/site-packages (from dataclasses-json<0.7,>=0.5.7->langchain-community) (0.9.0)\n",
      "Requirement already satisfied: setuptools in /home/reson/miniconda3/envs/LangChain/lib/python3.12/site-packages (from grpcio-tools>=1.41.0->qdrant-client) (69.2.0)\n",
      "Requirement already satisfied: anyio in /home/reson/miniconda3/envs/LangChain/lib/python3.12/site-packages (from httpx>=0.20.0->httpx[http2]>=0.20.0->qdrant-client) (4.3.0)\n",
      "Requirement already satisfied: httpcore==1.* in /home/reson/miniconda3/envs/LangChain/lib/python3.12/site-packages (from httpx>=0.20.0->httpx[http2]>=0.20.0->qdrant-client) (1.0.5)\n",
      "Requirement already satisfied: sniffio in /home/reson/miniconda3/envs/LangChain/lib/python3.12/site-packages (from httpx>=0.20.0->httpx[http2]>=0.20.0->qdrant-client) (1.3.1)\n",
      "Requirement already satisfied: h11<0.15,>=0.13 in /home/reson/miniconda3/envs/LangChain/lib/python3.12/site-packages (from httpcore==1.*->httpx>=0.20.0->httpx[http2]>=0.20.0->qdrant-client) (0.14.0)\n",
      "Requirement already satisfied: h2<5,>=3 in /home/reson/miniconda3/envs/LangChain/lib/python3.12/site-packages (from httpx[http2]>=0.20.0->qdrant-client) (4.1.0)\n",
      "Requirement already satisfied: filelock in /home/reson/miniconda3/envs/LangChain/lib/python3.12/site-packages (from huggingface-hub>=0.15.1->sentence-transformers) (3.13.3)\n",
      "Requirement already satisfied: fsspec>=2023.5.0 in /home/reson/miniconda3/envs/LangChain/lib/python3.12/site-packages (from huggingface-hub>=0.15.1->sentence-transformers) (2024.2.0)\n",
      "Requirement already satisfied: typing-extensions>=3.7.4.3 in /home/reson/miniconda3/envs/LangChain/lib/python3.12/site-packages (from huggingface-hub>=0.15.1->sentence-transformers) (4.12.0)\n",
      "Requirement already satisfied: zipp>=0.5 in /home/reson/miniconda3/envs/LangChain/lib/python3.12/site-packages (from importlib-metadata<7.0,>=1.4.0->sagemaker) (3.17.0)\n",
      "Requirement already satisfied: jsonpointer>=1.9 in /home/reson/miniconda3/envs/LangChain/lib/python3.12/site-packages (from jsonpatch<2.0,>=1.33->langchain-core) (2.4)\n",
      "Requirement already satisfied: orjson<4.0.0,>=3.9.14 in /home/reson/miniconda3/envs/LangChain/lib/python3.12/site-packages (from langsmith<0.2.0,>=0.1.17->langchain) (3.10.0)\n",
      "Requirement already satisfied: annotated-types>=0.4.0 in /home/reson/miniconda3/envs/LangChain/lib/python3.12/site-packages (from pydantic<3,>=1->langchain) (0.6.0)\n",
      "Requirement already satisfied: pydantic-core==2.16.3 in /home/reson/miniconda3/envs/LangChain/lib/python3.12/site-packages (from pydantic<3,>=1->langchain) (2.16.3)\n",
      "Requirement already satisfied: greenlet!=0.4.17 in /home/reson/miniconda3/envs/LangChain/lib/python3.12/site-packages (from SQLAlchemy<3,>=1.4->langchain) (3.0.3)\n",
      "Requirement already satisfied: sympy in /home/reson/miniconda3/envs/LangChain/lib/python3.12/site-packages (from torch>=1.11.0->sentence-transformers) (1.12)\n",
      "Requirement already satisfied: networkx in /home/reson/miniconda3/envs/LangChain/lib/python3.12/site-packages (from torch>=1.11.0->sentence-transformers) (3.1)\n",
      "Requirement already satisfied: jinja2 in /home/reson/miniconda3/envs/LangChain/lib/python3.12/site-packages (from torch>=1.11.0->sentence-transformers) (3.1.2)\n",
      "Requirement already satisfied: nvidia-cuda-nvrtc-cu12==12.1.105 in /home/reson/miniconda3/envs/LangChain/lib/python3.12/site-packages (from torch>=1.11.0->sentence-transformers) (12.1.105)\n",
      "Requirement already satisfied: nvidia-cuda-runtime-cu12==12.1.105 in /home/reson/miniconda3/envs/LangChain/lib/python3.12/site-packages (from torch>=1.11.0->sentence-transformers) (12.1.105)\n",
      "Requirement already satisfied: nvidia-cuda-cupti-cu12==12.1.105 in /home/reson/miniconda3/envs/LangChain/lib/python3.12/site-packages (from torch>=1.11.0->sentence-transformers) (12.1.105)\n",
      "Requirement already satisfied: nvidia-cudnn-cu12==8.9.2.26 in /home/reson/miniconda3/envs/LangChain/lib/python3.12/site-packages (from torch>=1.11.0->sentence-transformers) (8.9.2.26)\n",
      "Requirement already satisfied: nvidia-cublas-cu12==12.1.3.1 in /home/reson/miniconda3/envs/LangChain/lib/python3.12/site-packages (from torch>=1.11.0->sentence-transformers) (12.1.3.1)\n",
      "Requirement already satisfied: nvidia-cufft-cu12==11.0.2.54 in /home/reson/miniconda3/envs/LangChain/lib/python3.12/site-packages (from torch>=1.11.0->sentence-transformers) (11.0.2.54)\n",
      "Requirement already satisfied: nvidia-curand-cu12==10.3.2.106 in /home/reson/miniconda3/envs/LangChain/lib/python3.12/site-packages (from torch>=1.11.0->sentence-transformers) (10.3.2.106)\n",
      "Requirement already satisfied: nvidia-cusolver-cu12==11.4.5.107 in /home/reson/miniconda3/envs/LangChain/lib/python3.12/site-packages (from torch>=1.11.0->sentence-transformers) (11.4.5.107)\n",
      "Requirement already satisfied: nvidia-cusparse-cu12==12.1.0.106 in /home/reson/miniconda3/envs/LangChain/lib/python3.12/site-packages (from torch>=1.11.0->sentence-transformers) (12.1.0.106)\n",
      "Requirement already satisfied: nvidia-nccl-cu12==2.19.3 in /home/reson/miniconda3/envs/LangChain/lib/python3.12/site-packages (from torch>=1.11.0->sentence-transformers) (2.19.3)\n",
      "Requirement already satisfied: nvidia-nvtx-cu12==12.1.105 in /home/reson/miniconda3/envs/LangChain/lib/python3.12/site-packages (from torch>=1.11.0->sentence-transformers) (12.1.105)\n",
      "Requirement already satisfied: nvidia-nvjitlink-cu12 in /home/reson/miniconda3/envs/LangChain/lib/python3.12/site-packages (from nvidia-cusolver-cu12==11.4.5.107->torch>=1.11.0->sentence-transformers) (12.4.127)\n",
      "Requirement already satisfied: regex!=2019.12.17 in /home/reson/miniconda3/envs/LangChain/lib/python3.12/site-packages (from transformers<5.0.0,>=4.34.0->sentence-transformers) (2023.12.25)\n",
      "Requirement already satisfied: tokenizers<0.19,>=0.14 in /home/reson/miniconda3/envs/LangChain/lib/python3.12/site-packages (from transformers<5.0.0,>=4.34.0->sentence-transformers) (0.15.2)\n",
      "Requirement already satisfied: safetensors>=0.4.1 in /home/reson/miniconda3/envs/LangChain/lib/python3.12/site-packages (from transformers<5.0.0,>=4.34.0->sentence-transformers) (0.4.2)\n",
      "Requirement already satisfied: jsonschema-specifications>=2023.03.6 in /home/reson/miniconda3/envs/LangChain/lib/python3.12/site-packages (from jsonschema->sagemaker) (2023.12.1)\n",
      "Requirement already satisfied: referencing>=0.28.4 in /home/reson/miniconda3/envs/LangChain/lib/python3.12/site-packages (from jsonschema->sagemaker) (0.34.0)\n",
      "Requirement already satisfied: rpds-py>=0.7.1 in /home/reson/miniconda3/envs/LangChain/lib/python3.12/site-packages (from jsonschema->sagemaker) (0.18.0)\n",
      "Requirement already satisfied: pytz>=2020.1 in /home/reson/miniconda3/envs/LangChain/lib/python3.12/site-packages (from pandas->sagemaker) (2024.1)\n",
      "Requirement already satisfied: tzdata>=2022.7 in /home/reson/miniconda3/envs/LangChain/lib/python3.12/site-packages (from pandas->sagemaker) (2024.1)\n",
      "Requirement already satisfied: ppft>=1.7.6.8 in /home/reson/miniconda3/envs/LangChain/lib/python3.12/site-packages (from pathos->sagemaker) (1.7.6.8)\n",
      "Requirement already satisfied: dill>=0.3.8 in /home/reson/miniconda3/envs/LangChain/lib/python3.12/site-packages (from pathos->sagemaker) (0.3.8)\n",
      "Requirement already satisfied: pox>=0.3.4 in /home/reson/miniconda3/envs/LangChain/lib/python3.12/site-packages (from pathos->sagemaker) (0.3.4)\n",
      "Requirement already satisfied: multiprocess>=0.70.16 in /home/reson/miniconda3/envs/LangChain/lib/python3.12/site-packages (from pathos->sagemaker) (0.70.16)\n",
      "Requirement already satisfied: joblib>=1.2.0 in /home/reson/miniconda3/envs/LangChain/lib/python3.12/site-packages (from scikit-learn->sentence-transformers) (1.3.2)\n",
      "Requirement already satisfied: threadpoolctl>=2.0.0 in /home/reson/miniconda3/envs/LangChain/lib/python3.12/site-packages (from scikit-learn->sentence-transformers) (3.4.0)\n",
      "Requirement already satisfied: hyperframe<7,>=6.0 in /home/reson/miniconda3/envs/LangChain/lib/python3.12/site-packages (from h2<5,>=3->httpx[http2]>=0.20.0->qdrant-client) (6.0.1)\n",
      "Requirement already satisfied: hpack<5,>=4.0 in /home/reson/miniconda3/envs/LangChain/lib/python3.12/site-packages (from h2<5,>=3->httpx[http2]>=0.20.0->qdrant-client) (4.0.0)\n",
      "Requirement already satisfied: mypy-extensions>=0.3.0 in /home/reson/miniconda3/envs/LangChain/lib/python3.12/site-packages (from typing-inspect<1,>=0.4.0->dataclasses-json<0.7,>=0.5.7->langchain-community) (1.0.0)\n",
      "Requirement already satisfied: MarkupSafe>=2.0 in /home/reson/miniconda3/envs/LangChain/lib/python3.12/site-packages (from jinja2->torch>=1.11.0->sentence-transformers) (2.1.3)\n",
      "Requirement already satisfied: mpmath>=0.19 in /home/reson/miniconda3/envs/LangChain/lib/python3.12/site-packages (from sympy->torch>=1.11.0->sentence-transformers) (1.3.0)\n"
     ]
    }
   ],
   "source": [
    "!pip install boto3 sagemaker langchain langchain-community langchain-core faiss-cpu requests opensearch-py sentence-transformers langchain-text-splitters requests-aws4auth qdrant-client -U"
   ]
  },
  {
   "cell_type": "markdown",
   "id": "8c60fd86-2fdd-4921-b769-45a6d6ae1411",
   "metadata": {},
   "source": [
    "### Load CSV data from S3"
   ]
  },
  {
   "cell_type": "code",
   "execution_count": 2,
   "id": "b02d5178-7946-4ff5-bfdf-d8c784afd6cd",
   "metadata": {
    "tags": []
   },
   "outputs": [
    {
     "name": "stdout",
     "output_type": "stream",
     "text": [
      "/home/reson/Documents/GitHub/Enterprise-RAG/notebooks\n"
     ]
    }
   ],
   "source": [
    "!pwd"
   ]
  },
  {
   "cell_type": "code",
   "execution_count": 1,
   "id": "e42652b8-0122-4f47-b069-a398ae118afc",
   "metadata": {
    "tags": []
   },
   "outputs": [],
   "source": [
    "import boto3\n",
    "import pandas as pd\n",
    "\n",
    "s3 = boto3.client('s3')\n",
    "bucket_name = 'recipes-rag'"
   ]
  },
  {
   "cell_type": "code",
   "execution_count": 2,
   "id": "e1b9ad90-d5ac-4a82-9892-468c6e721c35",
   "metadata": {
    "tags": []
   },
   "outputs": [],
   "source": [
    "# file_key = 'food_recipes.csv'\n",
    "\n",
    "# # Download the file from s3 locally\n",
    "# s3.download_file(bucket_name, file_key, '../data/food_recipes.csv')\n",
    "\n",
    "# # Load the CSV into a DataFrame\n",
    "# df = pd.read_csv('../data/food_recipes.csv')\n",
    "\n",
    "# df.head()"
   ]
  },
  {
   "cell_type": "code",
   "execution_count": 3,
   "id": "e0176b52-e799-4947-9264-c6c51897c4b7",
   "metadata": {
    "tags": []
   },
   "outputs": [
    {
     "data": {
      "text/html": [
       "<div>\n",
       "<style scoped>\n",
       "    .dataframe tbody tr th:only-of-type {\n",
       "        vertical-align: middle;\n",
       "    }\n",
       "\n",
       "    .dataframe tbody tr th {\n",
       "        vertical-align: top;\n",
       "    }\n",
       "\n",
       "    .dataframe thead th {\n",
       "        text-align: right;\n",
       "    }\n",
       "</style>\n",
       "<table border=\"1\" class=\"dataframe\">\n",
       "  <thead>\n",
       "    <tr style=\"text-align: right;\">\n",
       "      <th></th>\n",
       "      <th>RecipeId</th>\n",
       "      <th>Name</th>\n",
       "      <th>AuthorId</th>\n",
       "      <th>AuthorName</th>\n",
       "      <th>CookTime</th>\n",
       "      <th>PrepTime</th>\n",
       "      <th>TotalTime</th>\n",
       "      <th>DatePublished</th>\n",
       "      <th>Description</th>\n",
       "      <th>Images</th>\n",
       "      <th>...</th>\n",
       "      <th>FiberContent</th>\n",
       "      <th>SugarContent</th>\n",
       "      <th>ProteinContent</th>\n",
       "      <th>RecipeServings</th>\n",
       "      <th>RecipeYield</th>\n",
       "      <th>RecipeInstructions</th>\n",
       "      <th>CookTime_Minutes</th>\n",
       "      <th>PrepTime_Minutes</th>\n",
       "      <th>TotalTime_Minutes</th>\n",
       "      <th>Combined_Features_Clean</th>\n",
       "    </tr>\n",
       "  </thead>\n",
       "  <tbody>\n",
       "    <tr>\n",
       "      <th>0</th>\n",
       "      <td>38.0</td>\n",
       "      <td>Low-Fat Berry Blue Frozen Dessert</td>\n",
       "      <td>1533</td>\n",
       "      <td>Dancer</td>\n",
       "      <td>PT24H</td>\n",
       "      <td>PT45M</td>\n",
       "      <td>PT24H45M</td>\n",
       "      <td>1999-08-09 21:46:00+00:00</td>\n",
       "      <td>Make and share this Low-Fat Berry Blue Frozen ...</td>\n",
       "      <td>[https://img.sndimg.com/food/image/upload/w_55...</td>\n",
       "      <td>...</td>\n",
       "      <td>3.6</td>\n",
       "      <td>30.2</td>\n",
       "      <td>3.2</td>\n",
       "      <td>4.0</td>\n",
       "      <td>None</td>\n",
       "      <td>[Toss 2 cups berries with sugar., Let stand fo...</td>\n",
       "      <td>1440</td>\n",
       "      <td>45</td>\n",
       "      <td>1485</td>\n",
       "      <td>Low-Fat Berry Blue Frozen Dessert Frozen Desse...</td>\n",
       "    </tr>\n",
       "    <tr>\n",
       "      <th>1</th>\n",
       "      <td>39.0</td>\n",
       "      <td>Biryani</td>\n",
       "      <td>1567</td>\n",
       "      <td>elly9812</td>\n",
       "      <td>PT25M</td>\n",
       "      <td>PT4H</td>\n",
       "      <td>PT4H25M</td>\n",
       "      <td>1999-08-29 13:12:00+00:00</td>\n",
       "      <td>Make and share this Biryani recipe from Food.com.</td>\n",
       "      <td>[https://img.sndimg.com/food/image/upload/w_55...</td>\n",
       "      <td>...</td>\n",
       "      <td>9.0</td>\n",
       "      <td>20.4</td>\n",
       "      <td>63.4</td>\n",
       "      <td>6.0</td>\n",
       "      <td>None</td>\n",
       "      <td>[Soak saffron in warm milk for 5 minutes and p...</td>\n",
       "      <td>25</td>\n",
       "      <td>240</td>\n",
       "      <td>265</td>\n",
       "      <td>Biryani Chicken Breast Make share Biryani reci...</td>\n",
       "    </tr>\n",
       "    <tr>\n",
       "      <th>2</th>\n",
       "      <td>40.0</td>\n",
       "      <td>Best Lemonade</td>\n",
       "      <td>1566</td>\n",
       "      <td>Stephen Little</td>\n",
       "      <td>PT5M</td>\n",
       "      <td>PT30M</td>\n",
       "      <td>PT35M</td>\n",
       "      <td>1999-09-05 19:52:00+00:00</td>\n",
       "      <td>This is from one of my  first Good House Keepi...</td>\n",
       "      <td>[https://img.sndimg.com/food/image/upload/w_55...</td>\n",
       "      <td>...</td>\n",
       "      <td>0.4</td>\n",
       "      <td>77.2</td>\n",
       "      <td>0.3</td>\n",
       "      <td>4.0</td>\n",
       "      <td>None</td>\n",
       "      <td>[Into a 1 quart Jar with tight fitting lid, pu...</td>\n",
       "      <td>5</td>\n",
       "      <td>30</td>\n",
       "      <td>35</td>\n",
       "      <td>Best Lemonade Beverages one first Good House K...</td>\n",
       "    </tr>\n",
       "    <tr>\n",
       "      <th>3</th>\n",
       "      <td>41.0</td>\n",
       "      <td>Carina's Tofu-Vegetable Kebabs</td>\n",
       "      <td>1586</td>\n",
       "      <td>Cyclopz</td>\n",
       "      <td>PT20M</td>\n",
       "      <td>PT24H</td>\n",
       "      <td>PT24H20M</td>\n",
       "      <td>1999-09-03 14:54:00+00:00</td>\n",
       "      <td>This dish is best prepared a day in advance to...</td>\n",
       "      <td>[https://img.sndimg.com/food/image/upload/w_55...</td>\n",
       "      <td>...</td>\n",
       "      <td>17.3</td>\n",
       "      <td>32.1</td>\n",
       "      <td>29.3</td>\n",
       "      <td>2.0</td>\n",
       "      <td>4 kebabs</td>\n",
       "      <td>[Drain the tofu, carefully squeezing out exces...</td>\n",
       "      <td>20</td>\n",
       "      <td>1440</td>\n",
       "      <td>1460</td>\n",
       "      <td>Carina's Tofu-Vegetable Kebabs Soy/Tofu dish b...</td>\n",
       "    </tr>\n",
       "    <tr>\n",
       "      <th>4</th>\n",
       "      <td>42.0</td>\n",
       "      <td>Cabbage Soup</td>\n",
       "      <td>1538</td>\n",
       "      <td>Duckie067</td>\n",
       "      <td>PT30M</td>\n",
       "      <td>PT20M</td>\n",
       "      <td>PT50M</td>\n",
       "      <td>1999-09-19 06:19:00+00:00</td>\n",
       "      <td>Make and share this Cabbage Soup recipe from F...</td>\n",
       "      <td>[https://img.sndimg.com/food/image/upload/w_55...</td>\n",
       "      <td>...</td>\n",
       "      <td>4.8</td>\n",
       "      <td>17.7</td>\n",
       "      <td>4.3</td>\n",
       "      <td>4.0</td>\n",
       "      <td>None</td>\n",
       "      <td>[Mix everything together and bring to a boil.,...</td>\n",
       "      <td>30</td>\n",
       "      <td>20</td>\n",
       "      <td>50</td>\n",
       "      <td>Cabbage Soup Vegetable Make share Cabbage Soup...</td>\n",
       "    </tr>\n",
       "  </tbody>\n",
       "</table>\n",
       "<p>5 rows × 32 columns</p>\n",
       "</div>"
      ],
      "text/plain": [
       "   RecipeId                               Name  AuthorId      AuthorName  \\\n",
       "0      38.0  Low-Fat Berry Blue Frozen Dessert      1533          Dancer   \n",
       "1      39.0                            Biryani      1567        elly9812   \n",
       "2      40.0                      Best Lemonade      1566  Stephen Little   \n",
       "3      41.0     Carina's Tofu-Vegetable Kebabs      1586         Cyclopz   \n",
       "4      42.0                       Cabbage Soup      1538       Duckie067   \n",
       "\n",
       "  CookTime PrepTime TotalTime             DatePublished  \\\n",
       "0    PT24H    PT45M  PT24H45M 1999-08-09 21:46:00+00:00   \n",
       "1    PT25M     PT4H   PT4H25M 1999-08-29 13:12:00+00:00   \n",
       "2     PT5M    PT30M     PT35M 1999-09-05 19:52:00+00:00   \n",
       "3    PT20M    PT24H  PT24H20M 1999-09-03 14:54:00+00:00   \n",
       "4    PT30M    PT20M     PT50M 1999-09-19 06:19:00+00:00   \n",
       "\n",
       "                                         Description  \\\n",
       "0  Make and share this Low-Fat Berry Blue Frozen ...   \n",
       "1  Make and share this Biryani recipe from Food.com.   \n",
       "2  This is from one of my  first Good House Keepi...   \n",
       "3  This dish is best prepared a day in advance to...   \n",
       "4  Make and share this Cabbage Soup recipe from F...   \n",
       "\n",
       "                                              Images  ... FiberContent  \\\n",
       "0  [https://img.sndimg.com/food/image/upload/w_55...  ...          3.6   \n",
       "1  [https://img.sndimg.com/food/image/upload/w_55...  ...          9.0   \n",
       "2  [https://img.sndimg.com/food/image/upload/w_55...  ...          0.4   \n",
       "3  [https://img.sndimg.com/food/image/upload/w_55...  ...         17.3   \n",
       "4  [https://img.sndimg.com/food/image/upload/w_55...  ...          4.8   \n",
       "\n",
       "  SugarContent ProteinContent RecipeServings  RecipeYield  \\\n",
       "0         30.2            3.2            4.0         None   \n",
       "1         20.4           63.4            6.0         None   \n",
       "2         77.2            0.3            4.0         None   \n",
       "3         32.1           29.3            2.0     4 kebabs   \n",
       "4         17.7            4.3            4.0         None   \n",
       "\n",
       "                                  RecipeInstructions  CookTime_Minutes  \\\n",
       "0  [Toss 2 cups berries with sugar., Let stand fo...              1440   \n",
       "1  [Soak saffron in warm milk for 5 minutes and p...                25   \n",
       "2  [Into a 1 quart Jar with tight fitting lid, pu...                 5   \n",
       "3  [Drain the tofu, carefully squeezing out exces...                20   \n",
       "4  [Mix everything together and bring to a boil.,...                30   \n",
       "\n",
       "   PrepTime_Minutes  TotalTime_Minutes  \\\n",
       "0                45               1485   \n",
       "1               240                265   \n",
       "2                30                 35   \n",
       "3              1440               1460   \n",
       "4                20                 50   \n",
       "\n",
       "                             Combined_Features_Clean  \n",
       "0  Low-Fat Berry Blue Frozen Dessert Frozen Desse...  \n",
       "1  Biryani Chicken Breast Make share Biryani reci...  \n",
       "2  Best Lemonade Beverages one first Good House K...  \n",
       "3  Carina's Tofu-Vegetable Kebabs Soy/Tofu dish b...  \n",
       "4  Cabbage Soup Vegetable Make share Cabbage Soup...  \n",
       "\n",
       "[5 rows x 32 columns]"
      ]
     },
     "execution_count": 3,
     "metadata": {},
     "output_type": "execute_result"
    }
   ],
   "source": [
    "file_key = 'recipes_w_cleaning_time_combined_features.parquet'\n",
    "s3.download_file(bucket_name, file_key, f'../data/{file_key}')\n",
    "df = pd.read_parquet(f'../data/{file_key}')\n",
    "\n",
    "df.head()"
   ]
  },
  {
   "cell_type": "code",
   "execution_count": 4,
   "id": "c42abeac-3ebd-4fda-a7d5-e43940aa503e",
   "metadata": {
    "tags": []
   },
   "outputs": [
    {
     "data": {
      "text/plain": [
       "Index(['RecipeId', 'Name', 'AuthorId', 'AuthorName', 'CookTime', 'PrepTime',\n",
       "       'TotalTime', 'DatePublished', 'Description', 'Images', 'RecipeCategory',\n",
       "       'Keywords', 'RecipeIngredientQuantities', 'RecipeIngredientParts',\n",
       "       'AggregatedRating', 'ReviewCount', 'Calories', 'FatContent',\n",
       "       'SaturatedFatContent', 'CholesterolContent', 'SodiumContent',\n",
       "       'CarbohydrateContent', 'FiberContent', 'SugarContent', 'ProteinContent',\n",
       "       'RecipeServings', 'RecipeYield', 'RecipeInstructions',\n",
       "       'CookTime_Minutes', 'PrepTime_Minutes', 'TotalTime_Minutes',\n",
       "       'Combined_Features_Clean'],\n",
       "      dtype='object')"
      ]
     },
     "execution_count": 4,
     "metadata": {},
     "output_type": "execute_result"
    }
   ],
   "source": [
    "df.columns"
   ]
  },
  {
   "cell_type": "code",
   "execution_count": 5,
   "id": "68483703-908e-4f6e-892b-305948d7562d",
   "metadata": {
    "tags": []
   },
   "outputs": [
    {
     "data": {
      "text/plain": [
       "'Low-Fat Berry Blue Frozen Dessert Frozen Desserts Make share Low-Fat Berry Blue Frozen Dessert recipe Food.com. Dessert Low Protein Low Cholesterol Healthy Free Of... Summer Weeknight Freezer Easy'"
      ]
     },
     "execution_count": 5,
     "metadata": {},
     "output_type": "execute_result"
    }
   ],
   "source": [
    "str(df.iloc[0]['Combined_Features_Clean'])"
   ]
  },
  {
   "cell_type": "markdown",
   "id": "74654ec1-1620-4b12-abfa-74ce789a79ce",
   "metadata": {},
   "source": [
    "### Load data into chunked documents"
   ]
  },
  {
   "cell_type": "code",
   "execution_count": 6,
   "id": "81165ce4-c17b-44df-a88a-319b4e590105",
   "metadata": {
    "tags": []
   },
   "outputs": [],
   "source": [
    "from langchain_community.embeddings import HuggingFaceEmbeddings\n",
    "from langchain_text_splitters import RecursiveCharacterTextSplitter\n",
    "from langchain.docstore.document import Document"
   ]
  },
  {
   "cell_type": "code",
   "execution_count": 7,
   "id": "ef713c37-2e0f-45ba-8717-de22afbad5b7",
   "metadata": {
    "tags": []
   },
   "outputs": [
    {
     "name": "stderr",
     "output_type": "stream",
     "text": [
      "/home/reson/miniconda3/envs/LangChain/lib/python3.12/site-packages/langchain_core/_api/deprecation.py:139: LangChainDeprecationWarning: The class `HuggingFaceEmbeddings` was deprecated in LangChain 0.2.2 and will be removed in 0.3.0. An updated version of the class exists in the langchain-huggingface package and should be used instead. To use it run `pip install -U langchain-huggingface` and import as `from langchain_huggingface import HuggingFaceEmbeddings`.\n",
      "  warn_deprecated(\n",
      "/home/reson/miniconda3/envs/LangChain/lib/python3.12/site-packages/sentence_transformers/cross_encoder/CrossEncoder.py:11: TqdmWarning: IProgress not found. Please update jupyter and ipywidgets. See https://ipywidgets.readthedocs.io/en/stable/user_install.html\n",
      "  from tqdm.autonotebook import tqdm, trange\n"
     ]
    }
   ],
   "source": [
    "embedding_model = HuggingFaceEmbeddings(model_name=\"multi-qa-mpnet-base-dot-v1\")"
   ]
  },
  {
   "cell_type": "code",
   "execution_count": 8,
   "id": "c829beba-a527-4f21-b311-88db598124fe",
   "metadata": {
    "tags": []
   },
   "outputs": [],
   "source": [
    "text_splitter_recursive = RecursiveCharacterTextSplitter(chunk_size=1024, chunk_overlap=256)"
   ]
  },
  {
   "cell_type": "code",
   "execution_count": 9,
   "id": "ee2e6a73-3529-4b79-b0bb-421973555092",
   "metadata": {
    "tags": []
   },
   "outputs": [],
   "source": [
    "# Using old raw dataset\n",
    "\n",
    "# def create_documents(df):\n",
    "#     # AWS Kendra requires non empty string values for each field\n",
    "#     # Make explicit to the LLM that the field is not available\n",
    "#     df.fillna('Not Available', inplace=True)\n",
    "    \n",
    "#     documents = []\n",
    "#     for index, row in df.iterrows():\n",
    "#         metadata = {\n",
    "#             'recipe_title': str(row['recipe_title']) if row['recipe_title'] else 'No Title Available',\n",
    "#             'url': str(row['url']) if row['url'] else 'https://example.com',\n",
    "#             # 'record_health': str(row['record_health']) if row['record_health'] else 'Unknown',\n",
    "#             'vote_count': str(row['vote_count']) if row['vote_count'] else 'No Votes Available',\n",
    "#             'rating': str(row['rating']) if row['rating'] else 'No Rating Available',\n",
    "#             'cuisine': str(row['cuisine']) if row['cuisine'] else 'No Cuisine Available',\n",
    "#             'course': str(row['course']) if row['course'] else 'No Course Available',\n",
    "#             'diet': str(row['diet']) if row['diet'] else 'No Diet Information Available',\n",
    "#             'prep_time': str(row['prep_time']) if row['prep_time'] else 'No Prep Time Available',\n",
    "#             'cook_time': str(row['cook_time']) if row['cook_time'] else 'No Cook Time Available',\n",
    "#             'author': str(row['author']) if row['author'] else 'No Author Available',\n",
    "#             'category': str(row['category']) if row['category'] else 'No Category Available'\n",
    "#         }\n",
    "\n",
    "#         # Combine all text fields for the document content\n",
    "#         text = f\"{row['description']} {row['ingredients']} {row['instructions']} {row['tags']}\"\n",
    "#         doc = Document(page_content=text, metadata=metadata)\n",
    "#         documents.append(doc)\n",
    "    \n",
    "#     return documents"
   ]
  },
  {
   "cell_type": "code",
   "execution_count": 10,
   "id": "790d53e6-1faf-477c-a3cb-e2837c9943ad",
   "metadata": {},
   "outputs": [],
   "source": [
    "# Using data after EDA with more complex fields\n",
    "\n",
    "# def create_documents(df):\n",
    "#     # Ensure non-empty string values for each field\n",
    "#     df.fillna('Not Available', inplace=True)\n",
    "    \n",
    "#     documents = []\n",
    "#     for index, row in df.iterrows():\n",
    "#         metadata = {\n",
    "#             'recipe_id': str(row['RecipeId']) if row['RecipeId'] else 'No ID Available',\n",
    "#             'name': str(row['Name']) if row['Name'] else 'No Name Available',\n",
    "#             'author_id': str(row['AuthorId']) if row['AuthorId'] else 'No Author ID Available',\n",
    "#             'author_name': str(row['AuthorName']) if row['AuthorName'] else 'No Author Name Available',\n",
    "#             'cook_time': str(row['CookTime']) if row['CookTime'] else 'No Cook Time Available',\n",
    "#             'prep_time': str(row['PrepTime']) if row['PrepTime'] else 'No Prep Time Available',\n",
    "#             'total_time': str(row['TotalTime']) if row['TotalTime'] else 'No Total Time Available',\n",
    "#             'date_published': str(row['DatePublished']) if row['DatePublished'] else 'No Date Available',\n",
    "#             'recipe_category': str(row['RecipeCategory']) if row['RecipeCategory'] else 'No Category Available',\n",
    "#             'keywords': str(row['Keywords']) if row['Keywords'] else 'No Keywords Available',\n",
    "#             'aggregated_rating': str(row['AggregatedRating']) if row['AggregatedRating'] else 'No Rating Available',\n",
    "#             'review_count': str(row['ReviewCount']) if row['ReviewCount'] else 'No Reviews Available',\n",
    "#             'calories': str(row['Calories']) if row['Calories'] else 'No Calories Information Available',\n",
    "#             'fat_content': str(row['FatContent']) if row['FatContent'] else 'No Fat Content Available',\n",
    "#             'saturated_fat_content': str(row['SaturatedFatContent']) if row['SaturatedFatContent'] else 'No Saturated Fat Content Available',\n",
    "#             'cholesterol_content': str(row['CholesterolContent']) if row['CholesterolContent'] else 'No Cholesterol Content Available',\n",
    "#             'sodium_content': str(row['SodiumContent']) if row['SodiumContent'] else 'No Sodium Content Available',\n",
    "#             'carbohydrate_content': str(row['CarbohydrateContent']) if row['CarbohydrateContent'] else 'No Carbohydrate Content Available',\n",
    "#             'fiber_content': str(row['FiberContent']) if row['FiberContent'] else 'No Fiber Content Available',\n",
    "#             'sugar_content': str(row['SugarContent']) if row['SugarContent'] else 'No Sugar Content Available',\n",
    "#             'protein_content': str(row['ProteinContent']) if row['ProteinContent'] else 'No Protein Content Available',\n",
    "#             'recipe_servings': str(row['RecipeServings']) if row['RecipeServings'] else 'No Servings Information Available',\n",
    "#             'recipe_yield': str(row['RecipeYield']) if row['RecipeYield'] else 'No Yield Information Available'\n",
    "#         }\n",
    "\n",
    "#         # Combine relevant text fields for the document content\n",
    "#         text = f\"\"\"\n",
    "#         Name: {row['Name']}\n",
    "#         Category: {row['RecipeCategory']}\n",
    "#         Description: {row['Description']}\n",
    "#         Keywords: {row['Keywords']}\n",
    "#         Ingredients: {row['RecipeIngredientParts']}\n",
    "#         Instructions: {row['RecipeInstructions']}\n",
    "#         \"\"\"\n",
    "\n",
    "#         doc = Document(page_content=text.strip(), metadata=metadata)\n",
    "#         documents.append(doc)\n",
    "    \n",
    "#     return documents\n"
   ]
  },
  {
   "cell_type": "code",
   "execution_count": 11,
   "id": "05b5985a-4bdc-44cf-b888-9ddc76abb89e",
   "metadata": {
    "tags": []
   },
   "outputs": [],
   "source": [
    "def create_documents(df):\n",
    "    documents = []\n",
    "    for index, row in df.iterrows():\n",
    "        metadata = {\n",
    "            'recipe_id': str(row['RecipeId']) if not pd.isna(row['RecipeId']) else 'No ID Available',\n",
    "            'name': str(row['Name']) if not pd.isna(row['Name']) else 'No Name Available',\n",
    "            'cook_time': str(row['CookTime']) if not pd.isna(row['CookTime']) else 'No Cook Time Available',\n",
    "            'prep_time': str(row['PrepTime']) if not pd.isna(row['PrepTime']) else 'No Prep Time Available',\n",
    "            'total_time': str(row['TotalTime']) if not pd.isna(row['TotalTime']) else 'No Total Time Available',\n",
    "            'recipe_category': str(row['RecipeCategory']) if not pd.isna(row['RecipeCategory']) else 'No Category Available',\n",
    "            'keywords': str(row['Keywords']) if not pd.isna(row['Keywords']).all() else 'No Keywords Available',\n",
    "            'aggregated_rating': str(row['AggregatedRating']) if not pd.isna(row['AggregatedRating']) else 'No Rating Available',\n",
    "            'review_count': str(row['ReviewCount']) if not pd.isna(row['ReviewCount']) else 'No Reviews Available',\n",
    "            'calories': str(row['Calories']) if not pd.isna(row['Calories']) else 'No Calories Information Available',\n",
    "            'fat_content': str(row['FatContent']) if not pd.isna(row['FatContent']) else 'No Fat Content Available',\n",
    "            'saturated_fat_content': str(row['SaturatedFatContent']) if not pd.isna(row['SaturatedFatContent']) else 'No Saturated Fat Content Available',\n",
    "            'cholesterol_content': str(row['CholesterolContent']) if not pd.isna(row['CholesterolContent']) else 'No Cholesterol Content Available',\n",
    "            'sodium_content': str(row['SodiumContent']) if not pd.isna(row['SodiumContent']) else 'No Sodium Content Available',\n",
    "            'carbohydrate_content': str(row['CarbohydrateContent']) if not pd.isna(row['CarbohydrateContent']) else 'No Carbohydrate Content Available',\n",
    "            'sugar_content': str(row['SugarContent']) if not pd.isna(row['SugarContent']) else 'No Sugar Content Available',\n",
    "            'protein_content': str(row['ProteinContent']) if not pd.isna(row['ProteinContent']) else 'No Protein Content Available',\n",
    "            'recipe_servings': str(row['RecipeServings']) if not pd.isna(row['RecipeServings']) else 'No Servings Information Available',\n",
    "            'recipe_yield': str(row['RecipeYield']) if not pd.isna(row['RecipeYield']) else 'No Yield Information Available'\n",
    "        }\n",
    "\n",
    "        # Use Combined_Features_Clean for the document content\n",
    "        text = str(row['Combined_Features_Clean'])\n",
    "        doc = Document(page_content=text, metadata=metadata)\n",
    "        documents.append(doc)\n",
    "        \n",
    "    return documents\n"
   ]
  },
  {
   "cell_type": "code",
   "execution_count": 12,
   "id": "2e316c63-2897-4c89-aa24-562bcab03ba0",
   "metadata": {
    "tags": []
   },
   "outputs": [],
   "source": [
    "documents = create_documents(df)"
   ]
  },
  {
   "cell_type": "code",
   "execution_count": 13,
   "id": "db462d95-67b8-4ec5-b379-1a98666a0dc0",
   "metadata": {
    "tags": []
   },
   "outputs": [
    {
     "data": {
      "text/plain": [
       "Document(metadata={'recipe_id': '38.0', 'name': 'Low-Fat Berry Blue Frozen Dessert', 'cook_time': 'PT24H', 'prep_time': 'PT45M', 'total_time': 'PT24H45M', 'recipe_category': 'Frozen Desserts', 'keywords': \"['Dessert' 'Low Protein' 'Low Cholesterol' 'Healthy' 'Free Of...' 'Summer'\\n 'Weeknight' 'Freezer' 'Easy']\", 'aggregated_rating': '4.5', 'review_count': '4.0', 'calories': '170.9', 'fat_content': '2.5', 'saturated_fat_content': '1.3', 'cholesterol_content': '8.0', 'sodium_content': '29.8', 'carbohydrate_content': '37.1', 'sugar_content': '30.2', 'protein_content': '3.2', 'recipe_servings': '4.0', 'recipe_yield': 'No Yield Information Available'}, page_content='Low-Fat Berry Blue Frozen Dessert Frozen Desserts Make share Low-Fat Berry Blue Frozen Dessert recipe Food.com. Dessert Low Protein Low Cholesterol Healthy Free Of... Summer Weeknight Freezer Easy')"
      ]
     },
     "execution_count": 13,
     "metadata": {},
     "output_type": "execute_result"
    }
   ],
   "source": [
    "documents[0]"
   ]
  },
  {
   "cell_type": "code",
   "execution_count": 14,
   "id": "8d878b08-c2fc-4528-b26f-3a33d7856465",
   "metadata": {},
   "outputs": [
    {
     "data": {
      "text/plain": [
       "522517"
      ]
     },
     "execution_count": 14,
     "metadata": {},
     "output_type": "execute_result"
    }
   ],
   "source": [
    "len(documents)"
   ]
  },
  {
   "cell_type": "code",
   "execution_count": 15,
   "id": "35faf6bb-6a9b-4f59-b021-33c2507638aa",
   "metadata": {
    "tags": []
   },
   "outputs": [],
   "source": [
    "def split_documents_with_metadata(documents, text_splitter):\n",
    "    split_docs = []\n",
    "    for doc in documents:\n",
    "        chunks = text_splitter.split_text(doc.page_content)\n",
    "        for i, chunk in enumerate(chunks):\n",
    "            split_docs.append(Document(page_content=chunk, metadata={**doc.metadata, \"chunk_id\": i}))\n",
    "    return split_docs"
   ]
  },
  {
   "cell_type": "code",
   "execution_count": 16,
   "id": "d6fe3cfc-26b8-47db-8c36-07e06ea3feb9",
   "metadata": {
    "tags": []
   },
   "outputs": [],
   "source": [
    "split_documents = split_documents_with_metadata(documents, text_splitter_recursive)"
   ]
  },
  {
   "cell_type": "code",
   "execution_count": 17,
   "id": "225b95d6-f0f2-41fd-8cf9-c700ef269488",
   "metadata": {
    "tags": []
   },
   "outputs": [
    {
     "data": {
      "text/plain": [
       "Document(metadata={'recipe_id': '38.0', 'name': 'Low-Fat Berry Blue Frozen Dessert', 'cook_time': 'PT24H', 'prep_time': 'PT45M', 'total_time': 'PT24H45M', 'recipe_category': 'Frozen Desserts', 'keywords': \"['Dessert' 'Low Protein' 'Low Cholesterol' 'Healthy' 'Free Of...' 'Summer'\\n 'Weeknight' 'Freezer' 'Easy']\", 'aggregated_rating': '4.5', 'review_count': '4.0', 'calories': '170.9', 'fat_content': '2.5', 'saturated_fat_content': '1.3', 'cholesterol_content': '8.0', 'sodium_content': '29.8', 'carbohydrate_content': '37.1', 'sugar_content': '30.2', 'protein_content': '3.2', 'recipe_servings': '4.0', 'recipe_yield': 'No Yield Information Available', 'chunk_id': 0}, page_content='Low-Fat Berry Blue Frozen Dessert Frozen Desserts Make share Low-Fat Berry Blue Frozen Dessert recipe Food.com. Dessert Low Protein Low Cholesterol Healthy Free Of... Summer Weeknight Freezer Easy')"
      ]
     },
     "execution_count": 17,
     "metadata": {},
     "output_type": "execute_result"
    }
   ],
   "source": [
    "split_documents[0]"
   ]
  },
  {
   "cell_type": "code",
   "execution_count": null,
   "id": "2c7f2703-3172-4bd4-a3ba-c704b6eb6ada",
   "metadata": {},
   "outputs": [],
   "source": []
  },
  {
   "cell_type": "code",
   "execution_count": 21,
   "id": "c05f6ea9-ec26-418e-ab5d-351548d4e82c",
   "metadata": {
    "tags": []
   },
   "outputs": [],
   "source": [
    "# from transformers import AutoTokenizer\n",
    "\n",
    "# def count_tokens(text, model_name=\"distilbert-base-uncased\"):\n",
    "#     tokenizer = AutoTokenizer.from_pretrained(model_name)\n",
    "    \n",
    "#     tokens = tokenizer.encode(text, add_special_tokens=False)\n",
    "#     num_tokens = len(tokens)\n",
    "    \n",
    "#     return num_tokens"
   ]
  },
  {
   "cell_type": "code",
   "execution_count": 20,
   "id": "4cb92d4b-2aba-4e56-ac81-b0f743c139a3",
   "metadata": {
    "tags": []
   },
   "outputs": [],
   "source": [
    "# We have > 500,000 recipes, this takes a long time to run\n",
    "from langchain_community.vectorstores import Qdrant\n",
    "\n",
    "qdrant_store = Qdrant.from_documents(documents,\n",
    "    embedding_model,\n",
    "    location=\":memory:\",\n",
    ")"
   ]
  },
  {
   "cell_type": "code",
   "execution_count": 21,
   "id": "5152d45a-a16c-4efd-9ff3-b1b9464ba304",
   "metadata": {
    "tags": []
   },
   "outputs": [],
   "source": [
    "qdrant_retriever = qdrant_store.as_retriever()"
   ]
  },
  {
   "cell_type": "code",
   "execution_count": 22,
   "id": "a0e04d8b-4bb7-46e0-a2b1-22e4283d9238",
   "metadata": {
    "tags": []
   },
   "outputs": [],
   "source": [
    "def format_docs(docs):\n",
    "    formatted_docs = []\n",
    "    for doc in docs:\n",
    "        formatted_docs.append(f\"Metadata: {doc.metadata}\\n\")\n",
    "    content = \"\\n\\n\".join(formatted_docs)\n",
    "    \n",
    "    return content"
   ]
  },
  {
   "cell_type": "markdown",
   "id": "9cc8df35-7bbc-43fc-9766-99383f3c5349",
   "metadata": {},
   "source": [
    "### Agent function definitions"
   ]
  },
  {
   "cell_type": "code",
   "execution_count": 24,
   "id": "2dc1eaa0-d2bc-4b57-ad27-95301457e870",
   "metadata": {},
   "outputs": [],
   "source": [
    "recipe_db_query_tool = {\n",
    "  \"name\": \"query_food_recipe_vector_db\",\n",
    "  \"description\": \"\"\"\n",
    "      Queries the vector database containing food recipes to retrieve the most relevant documents. \n",
    "      This function allows the model to generate and execute multiple queries as necessary to gather comprehensive context, \n",
    "      such as ingredients, preparation steps, and metadata like cuisine and diet type, ensuring accurate and thorough responses to user queries.\n",
    "      \"\"\",\n",
    "  \"input_schema\": {\n",
    "    \"type\": \"object\",\n",
    "    \"properties\": {\n",
    "      \"queries\": {\n",
    "        \"type\": \"array\",\n",
    "        \"items\": {\n",
    "          \"type\": \"string\",\n",
    "          \"description\": \"A query generated by the model to run against the vector database to fetch recipe documents.\"\n",
    "        },\n",
    "        \"description\": \"A list of queries generated by the model to run against the vector database to fetch recipe documents.\"\n",
    "      }\n",
    "    },\n",
    "    \"required\": [\"queries\"]\n",
    "  }\n",
    "}\n"
   ]
  },
  {
   "cell_type": "markdown",
   "id": "64c1e9c9-88bd-446a-a0f5-a7ed5bcf8972",
   "metadata": {},
   "source": [
    "### Init bedrock model, define util to stateless messaging, no fn calling"
   ]
  },
  {
   "cell_type": "code",
   "execution_count": 25,
   "id": "af0aacad-2b9d-4504-80b2-b47d92949ce8",
   "metadata": {
    "tags": []
   },
   "outputs": [],
   "source": [
    "import json"
   ]
  },
  {
   "cell_type": "code",
   "execution_count": 26,
   "id": "91b6a9d4-d05c-4340-8281-d050403b0a89",
   "metadata": {
    "tags": []
   },
   "outputs": [],
   "source": [
    "bedrock_client = boto3.client('bedrock-runtime', region_name=\"us-east-1\")"
   ]
  },
  {
   "cell_type": "code",
   "execution_count": 27,
   "id": "e65cefc3-4a52-4985-b7da-b97224a7f356",
   "metadata": {},
   "outputs": [],
   "source": [
    "# We will need to tune these prompts\n",
    "# query_bedrock_llm() definition NEEDS TO BE RERUN\n",
    "# each time when changes are made to this prompt\n",
    "\n",
    "baseline_sys_prompt = \"\"\"\n",
    "You are a helpful assistant and expert in cooking recipes.\n",
    "\n",
    "Before answering, always make at least one call to query_food_recipe_vector_db\n",
    "to retrieve the relevant context of recipes and ingredients to generate an informed\n",
    "and high-quality response to the user prompt but NEVER exceed a MAXIMUM of \n",
    "3 calls to the query_food_recipe_vector_db function.\n",
    "\n",
    "Provide a response to the user prompt about food with recommended recipes and instructions.\n",
    "\"\"\""
   ]
  },
  {
   "cell_type": "code",
   "execution_count": 48,
   "id": "ed11c7ae-7ac1-4dab-b889-fad779b36280",
   "metadata": {
    "tags": []
   },
   "outputs": [],
   "source": [
    "MODEL_ID = \"anthropic.claude-3-sonnet-20240229-v1:0\"\n",
    "\n",
    "def query_bedrock_llm(messages):\n",
    "    response = bedrock_client.invoke_model(\n",
    "        modelId=MODEL_ID,\n",
    "        body=json.dumps({\n",
    "            'anthropic_version': 'bedrock-2023-05-31', # This is required to use chat style messages object \n",
    "            'system': baseline_sys_prompt,\n",
    "            'messages': messages,\n",
    "            'max_tokens': 3000,\n",
    "            \"tools\": [recipe_db_query_tool],\n",
    "\n",
    "            # This config forces the model to always call the recipe db query tool atleast once \n",
    "            # https://docs.anthropic.com/en/docs/build-with-claude/tool-use#controlling-claudes-output\n",
    "            # \"tool_choice\": {\n",
    "            #     \"type\": \"tool\",\n",
    "            #     \"name\": recipe_db_query_tool['name']\n",
    "            # },\n",
    "            \n",
    "            # TODO: TUNE THESE VALUES\n",
    "            'temperature': 0.1, \n",
    "            'top_p': 0.9\n",
    "        })\n",
    "    )\n",
    "    response_body = json.loads(response.get('body').read())\n",
    "    \n",
    "    return response_body"
   ]
  },
  {
   "cell_type": "markdown",
   "id": "9abb22e4-9e26-4d4d-9ce1-f6b20bac5cb5",
   "metadata": {
    "jp-MarkdownHeadingCollapsed": true
   },
   "source": [
    "### Pipe langchain together"
   ]
  },
  {
   "cell_type": "code",
   "execution_count": 262,
   "id": "1cc70641-ecc2-4cc6-a77f-0f70b806f274",
   "metadata": {
    "tags": []
   },
   "outputs": [],
   "source": [
    "from langchain_core.prompts import ChatPromptTemplate\n",
    "from langchain_core.runnables import RunnablePassthrough, RunnableMap"
   ]
  },
  {
   "cell_type": "code",
   "execution_count": 399,
   "id": "72b5ce6a-3aac-4fb4-b9a3-8742402f185c",
   "metadata": {},
   "outputs": [],
   "source": [
    "baseline_user_prompt = \"\"\"\n",
    "### Here is a user prompt:\n",
    "{query}\n",
    "\"\"\""
   ]
  },
  {
   "cell_type": "code",
   "execution_count": 203,
   "id": "d466b594-b943-43b7-90be-23b454a698e0",
   "metadata": {
    "tags": []
   },
   "outputs": [],
   "source": [
    "def process_prompt(query_args):\n",
    "    prompt_with_query = baseline_user_prompt.replace(\"{query}\", query_args['query'])\n",
    "    \n",
    "    # This format doesn't matter much now, but we will use it later to \n",
    "    # persist chat history for continuous dialogue\n",
    "    messages = [\n",
    "        {\n",
    "            \"role\": \"user\",\n",
    "            \"content\": [\n",
    "                {\n",
    "                    \"type\": \"text\",\n",
    "                    \"text\": prompt_with_query\n",
    "                }\n",
    "            ]\n",
    "        }\n",
    "    ]\n",
    "    \n",
    "    return messages"
   ]
  },
  {
   "cell_type": "code",
   "execution_count": 204,
   "id": "f1d18ec8-b5e4-4405-bb34-d0d36739e919",
   "metadata": {
    "tags": []
   },
   "outputs": [],
   "source": []
  },
  {
   "cell_type": "code",
   "execution_count": 206,
   "id": "1254f41c-9261-46a6-9140-2f7c538a47a1",
   "metadata": {
    "tags": []
   },
   "outputs": [],
   "source": [
    "qdrant_rag_chain = (\n",
    "    RunnableMap(\n",
    "        # {\"context\": qdrant_retriever | format_docs,\n",
    "         {\"query\": RunnablePassthrough()}\n",
    "    )\n",
    "    | process_prompt\n",
    "    | query_bedrock_llm\n",
    "    # | parse_event_stream\n",
    ")"
   ]
  },
  {
   "cell_type": "markdown",
   "id": "4e33af48-0606-4e6f-b57a-53ce71d0f1b8",
   "metadata": {
    "jp-MarkdownHeadingCollapsed": true
   },
   "source": [
    "### Model generates dynamic context queries to vector db"
   ]
  },
  {
   "cell_type": "code",
   "execution_count": 36,
   "id": "865bccd7-a24f-42ad-abfc-7b699504bc10",
   "metadata": {
    "tags": []
   },
   "outputs": [],
   "source": [
    "test_query_1 = \"I enjoy asian fusion food and I am a vegetarian. Give me one recipe with ingredients and instructions\""
   ]
  },
  {
   "cell_type": "code",
   "execution_count": 208,
   "id": "d51c4c33-fc4f-4a21-bd51-b9a11615a3b4",
   "metadata": {
    "tags": []
   },
   "outputs": [
    {
     "name": "stdout",
     "output_type": "stream",
     "text": [
      "{'ResponseMetadata': {'RequestId': 'aa3d93a7-ead5-457b-87d8-1b8140b86927', 'HTTPStatusCode': 200, 'HTTPHeaders': {'date': 'Sat, 06 Jul 2024 08:34:56 GMT', 'content-type': 'application/json', 'content-length': '375', 'connection': 'keep-alive', 'x-amzn-requestid': 'aa3d93a7-ead5-457b-87d8-1b8140b86927', 'x-amzn-bedrock-invocation-latency': '3703', 'x-amzn-bedrock-output-token-count': '39', 'x-amzn-bedrock-input-token-count': '549'}, 'RetryAttempts': 0}, 'contentType': 'application/json', 'body': <botocore.response.StreamingBody object at 0x7fa439ab6560>}\n",
      "{'id': 'msg_bdrk_017xvdoKgaXAYQ9YHoMXiTy7', 'type': 'message', 'role': 'assistant', 'model': 'claude-3-sonnet-20240229', 'content': [{'type': 'tool_use', 'id': 'toolu_bdrk_01ShrYTuneuhxYy6CeAAwT5X', 'name': 'query_food_recipe_vector_db', 'input': {'queries': ['asian fusion vegetarian recipes']}}], 'stop_reason': 'tool_use', 'stop_sequence': None, 'usage': {'input_tokens': 549, 'output_tokens': 39}}\n"
     ]
    },
    {
     "data": {
      "text/plain": [
       "{'id': 'msg_bdrk_017xvdoKgaXAYQ9YHoMXiTy7',\n",
       " 'type': 'message',\n",
       " 'role': 'assistant',\n",
       " 'model': 'claude-3-sonnet-20240229',\n",
       " 'content': [{'type': 'tool_use',\n",
       "   'id': 'toolu_bdrk_01ShrYTuneuhxYy6CeAAwT5X',\n",
       "   'name': 'query_food_recipe_vector_db',\n",
       "   'input': {'queries': ['asian fusion vegetarian recipes']}}],\n",
       " 'stop_reason': 'tool_use',\n",
       " 'stop_sequence': None,\n",
       " 'usage': {'input_tokens': 549, 'output_tokens': 39}}"
      ]
     },
     "execution_count": 208,
     "metadata": {},
     "output_type": "execute_result"
    }
   ],
   "source": [
    "qdrant_rag_chain.invoke(test_query_1)"
   ]
  },
  {
   "cell_type": "code",
   "execution_count": 37,
   "id": "8c963602-4054-4248-a9f3-711571c69418",
   "metadata": {},
   "outputs": [],
   "source": [
    "test_query_2 = \"\"\"\n",
    "I have a peanut allergy but I like thai food. \n",
    "I also don't enjoy spicy food much, and want a meal with low carbs. \n",
    "Give a recipe with ingredients and instructions\n",
    "\"\"\""
   ]
  },
  {
   "cell_type": "code",
   "execution_count": 210,
   "id": "411cfefc-afe1-46c8-8163-3ca98452b84a",
   "metadata": {},
   "outputs": [
    {
     "name": "stdout",
     "output_type": "stream",
     "text": [
      "{'ResponseMetadata': {'RequestId': '5f0f7185-0324-411a-8950-a3e0077e050d', 'HTTPStatusCode': 200, 'HTTPHeaders': {'date': 'Sat, 06 Jul 2024 08:34:59 GMT', 'content-type': 'application/json', 'content-length': '390', 'connection': 'keep-alive', 'x-amzn-requestid': '5f0f7185-0324-411a-8950-a3e0077e050d', 'x-amzn-bedrock-invocation-latency': '2490', 'x-amzn-bedrock-output-token-count': '52', 'x-amzn-bedrock-input-token-count': '573'}, 'RetryAttempts': 0}, 'contentType': 'application/json', 'body': <botocore.response.StreamingBody object at 0x7fa439ab7100>}\n",
      "{'id': 'msg_bdrk_01XHfJsQF2ivYKKhsvqBLiuh', 'type': 'message', 'role': 'assistant', 'model': 'claude-3-sonnet-20240229', 'content': [{'type': 'tool_use', 'id': 'toolu_bdrk_01KaXnaTHSYcgn7bvyNWdTN9', 'name': 'query_food_recipe_vector_db', 'input': {'queries': ['thai food', 'peanut free', 'low carb', 'not spicy']}}], 'stop_reason': 'tool_use', 'stop_sequence': None, 'usage': {'input_tokens': 573, 'output_tokens': 52}}\n"
     ]
    },
    {
     "data": {
      "text/plain": [
       "{'id': 'msg_bdrk_01XHfJsQF2ivYKKhsvqBLiuh',\n",
       " 'type': 'message',\n",
       " 'role': 'assistant',\n",
       " 'model': 'claude-3-sonnet-20240229',\n",
       " 'content': [{'type': 'tool_use',\n",
       "   'id': 'toolu_bdrk_01KaXnaTHSYcgn7bvyNWdTN9',\n",
       "   'name': 'query_food_recipe_vector_db',\n",
       "   'input': {'queries': ['thai food',\n",
       "     'peanut free',\n",
       "     'low carb',\n",
       "     'not spicy']}}],\n",
       " 'stop_reason': 'tool_use',\n",
       " 'stop_sequence': None,\n",
       " 'usage': {'input_tokens': 573, 'output_tokens': 52}}"
      ]
     },
     "execution_count": 210,
     "metadata": {},
     "output_type": "execute_result"
    }
   ],
   "source": [
    "qdrant_rag_chain.invoke(test_query_2)"
   ]
  },
  {
   "cell_type": "code",
   "execution_count": 38,
   "id": "889b3160-f0f3-41ae-878e-3cb8b444ede3",
   "metadata": {},
   "outputs": [],
   "source": [
    "test_query_3 = \"\"\"\n",
    "Suggest a low-carb breakfast recipe that includes eggs and spinach, \n",
    "can be prepared in under 20 minutes, \n",
    "and is suitable for a keto diet.\n",
    "\"\"\""
   ]
  },
  {
   "cell_type": "code",
   "execution_count": 212,
   "id": "1061f3ad-080f-4a8e-a94f-eb4622372cca",
   "metadata": {},
   "outputs": [
    {
     "name": "stdout",
     "output_type": "stream",
     "text": [
      "{'ResponseMetadata': {'RequestId': '017cd959-0727-4b43-b0d2-a356f924f166', 'HTTPStatusCode': 200, 'HTTPHeaders': {'date': 'Sat, 06 Jul 2024 08:35:00 GMT', 'content-type': 'application/json', 'content-length': '417', 'connection': 'keep-alive', 'x-amzn-requestid': '017cd959-0727-4b43-b0d2-a356f924f166', 'x-amzn-bedrock-invocation-latency': '1399', 'x-amzn-bedrock-output-token-count': '59', 'x-amzn-bedrock-input-token-count': '568'}, 'RetryAttempts': 0}, 'contentType': 'application/json', 'body': <botocore.response.StreamingBody object at 0x7fa439ab7d60>}\n",
      "{'id': 'msg_bdrk_01J3kpLzprvAfwKB1EQyWmvD', 'type': 'message', 'role': 'assistant', 'model': 'claude-3-sonnet-20240229', 'content': [{'type': 'tool_use', 'id': 'toolu_bdrk_01HKkw3US7DbmUiQbF8ib9uD', 'name': 'query_food_recipe_vector_db', 'input': {'queries': ['low-carb breakfast recipe', 'eggs', 'spinach', 'keto diet', 'under 20 minutes']}}], 'stop_reason': 'tool_use', 'stop_sequence': None, 'usage': {'input_tokens': 568, 'output_tokens': 59}}\n"
     ]
    },
    {
     "data": {
      "text/plain": [
       "{'id': 'msg_bdrk_01J3kpLzprvAfwKB1EQyWmvD',\n",
       " 'type': 'message',\n",
       " 'role': 'assistant',\n",
       " 'model': 'claude-3-sonnet-20240229',\n",
       " 'content': [{'type': 'tool_use',\n",
       "   'id': 'toolu_bdrk_01HKkw3US7DbmUiQbF8ib9uD',\n",
       "   'name': 'query_food_recipe_vector_db',\n",
       "   'input': {'queries': ['low-carb breakfast recipe',\n",
       "     'eggs',\n",
       "     'spinach',\n",
       "     'keto diet',\n",
       "     'under 20 minutes']}}],\n",
       " 'stop_reason': 'tool_use',\n",
       " 'stop_sequence': None,\n",
       " 'usage': {'input_tokens': 568, 'output_tokens': 59}}"
      ]
     },
     "execution_count": 212,
     "metadata": {},
     "output_type": "execute_result"
    }
   ],
   "source": [
    "qdrant_rag_chain.invoke(test_query_3)"
   ]
  },
  {
   "cell_type": "code",
   "execution_count": 39,
   "id": "ac56eb72-cf6d-4d2d-8894-bc2a225b3f29",
   "metadata": {},
   "outputs": [],
   "source": [
    "test_query_4 = \"\"\"\n",
    "Suggest a healthy dinner recipe for two people that includes fish, \n",
    "is under 500 calories per serving, \n",
    "and can be made in less than 40 minutes.\n",
    "\"\"\""
   ]
  },
  {
   "cell_type": "code",
   "execution_count": 214,
   "id": "ee2f27f7-504c-4e4a-89b0-9a79b297e721",
   "metadata": {},
   "outputs": [
    {
     "name": "stdout",
     "output_type": "stream",
     "text": [
      "{'ResponseMetadata': {'RequestId': '1346cce7-5457-4d65-be81-f24b90bbb0c8', 'HTTPStatusCode': 200, 'HTTPHeaders': {'date': 'Sat, 06 Jul 2024 08:35:02 GMT', 'content-type': 'application/json', 'content-length': '439', 'connection': 'keep-alive', 'x-amzn-requestid': '1346cce7-5457-4d65-be81-f24b90bbb0c8', 'x-amzn-bedrock-invocation-latency': '1413', 'x-amzn-bedrock-output-token-count': '58', 'x-amzn-bedrock-input-token-count': '567'}, 'RetryAttempts': 0}, 'contentType': 'application/json', 'body': <botocore.response.StreamingBody object at 0x7fa4402a8310>}\n",
      "{'id': 'msg_bdrk_01NDSdtdVPyTv1JKecy9wynf', 'type': 'message', 'role': 'assistant', 'model': 'claude-3-sonnet-20240229', 'content': [{'type': 'tool_use', 'id': 'toolu_bdrk_01QbmRJxKc7FoKavEFdF5QcW', 'name': 'query_food_recipe_vector_db', 'input': {'queries': ['healthy dinner recipe with fish', 'under 500 calories per serving', 'less than 40 minutes to make']}}], 'stop_reason': 'tool_use', 'stop_sequence': None, 'usage': {'input_tokens': 567, 'output_tokens': 58}}\n"
     ]
    },
    {
     "data": {
      "text/plain": [
       "{'id': 'msg_bdrk_01NDSdtdVPyTv1JKecy9wynf',\n",
       " 'type': 'message',\n",
       " 'role': 'assistant',\n",
       " 'model': 'claude-3-sonnet-20240229',\n",
       " 'content': [{'type': 'tool_use',\n",
       "   'id': 'toolu_bdrk_01QbmRJxKc7FoKavEFdF5QcW',\n",
       "   'name': 'query_food_recipe_vector_db',\n",
       "   'input': {'queries': ['healthy dinner recipe with fish',\n",
       "     'under 500 calories per serving',\n",
       "     'less than 40 minutes to make']}}],\n",
       " 'stop_reason': 'tool_use',\n",
       " 'stop_sequence': None,\n",
       " 'usage': {'input_tokens': 567, 'output_tokens': 58}}"
      ]
     },
     "execution_count": 214,
     "metadata": {},
     "output_type": "execute_result"
    }
   ],
   "source": [
    "qdrant_rag_chain.invoke(test_query_4)"
   ]
  },
  {
   "cell_type": "markdown",
   "id": "3ad71bb4-54a7-4037-94c3-72e7340a3bdc",
   "metadata": {},
   "source": [
    "### Implement continuous dialogue and function calling"
   ]
  },
  {
   "cell_type": "code",
   "execution_count": 49,
   "id": "36cdb25c-0aff-4170-9736-a0c56aa0e53a",
   "metadata": {},
   "outputs": [],
   "source": [
    "def generate_message(prompt):\n",
    "    if type(prompt) != str:\n",
    "        raise ValueError(f'Tried to call message generate_message with non-string input: {prompt}')\n",
    "        \n",
    "    return {\n",
    "        \"role\": \"user\",\n",
    "        \"content\": [\n",
    "            {\n",
    "                \"type\": \"text\",\n",
    "                \"text\": prompt\n",
    "            }\n",
    "        ]\n",
    "    }"
   ]
  },
  {
   "cell_type": "code",
   "execution_count": 50,
   "id": "0aafdca2-4248-4780-8c0f-4cbdd2209889",
   "metadata": {},
   "outputs": [],
   "source": [
    "def generate_tool_message(fn_results):\n",
    "    \n",
    "    return {\n",
    "        \"role\": \"user\",\n",
    "        \"content\": fn_results\n",
    "    }"
   ]
  },
  {
   "cell_type": "code",
   "execution_count": 51,
   "id": "3e1efe9b-eee3-402a-b606-df6c536b9990",
   "metadata": {},
   "outputs": [],
   "source": [
    "import json\n",
    "\n",
    "# Adds the current prompt as a new message to the chat history\n",
    "# and calls bedrock with the entire chat history\n",
    "# Returns the response body, llm's message, and new chat history\n",
    "\n",
    "'''\n",
    "Example response body structure:\n",
    "{\n",
    "   \"id\":\"msg_bdrk_01C5GGkafK7aL3P5i3rsMr1p\",\n",
    "   \"type\":\"message\",\n",
    "   \"role\":\"assistant\",\n",
    "   \"model\":\"claude-3-sonnet-20240229\",\n",
    "   \"content\":[\n",
    "      {\n",
    "         \"type\":\"tool_use\",\n",
    "         \"id\":\"toolu_bdrk_01CQiYa8BMJfpJC68DuRdwQn\",\n",
    "         \"name\":\"query_food_recipe_vector_db\",\n",
    "         \"input\":{\n",
    "            \"queries\":[\n",
    "               \"healthy fish dinner recipe under 500 calories\",\n",
    "               \"fish dinner recipe for two under 40 minutes\"\n",
    "            ]\n",
    "         }\n",
    "      }\n",
    "   ],\n",
    "   \"stop_reason\":\"tool_use\",\n",
    "   \"stop_sequence\":\"None\",\n",
    "   \"usage\":{\n",
    "      \"input_tokens\":559,\n",
    "      \"output_tokens\":55\n",
    "   }\n",
    "}\n",
    "'''\n",
    "def message_handler(existing_chat_history, prompt, is_tool_message=False):\n",
    "    # Fn results is an array of tool response objects\n",
    "    # message structure needs to reflect that\n",
    "    if is_tool_message:\n",
    "        user_message = generate_tool_message(prompt)\n",
    "    else:\n",
    "        user_message = generate_message(prompt)\n",
    "    existing_chat_history.append(user_message)\n",
    "\n",
    "    # Parse the response content\n",
    "    response_body = query_bedrock_llm(existing_chat_history)\n",
    "    llm_message = {\n",
    "        'role': response_body['role'],\n",
    "        'content': response_body['content']\n",
    "    }\n",
    "\n",
    "    # Add the response message to the chat history\n",
    "    existing_chat_history.append(llm_message)\n",
    "    \n",
    "    return [response_body, llm_message, existing_chat_history]"
   ]
  },
  {
   "cell_type": "code",
   "execution_count": 52,
   "id": "54251908-abed-4098-88db-dae841ce9875",
   "metadata": {},
   "outputs": [],
   "source": [
    "# Executes a list of queries and returns a list of document results\n",
    "def handle_vector_db_queries(queries, retriever=qdrant_retriever): \n",
    "    context_docs = []\n",
    "    for query in queries:\n",
    "        query_results = retriever.invoke(query)\n",
    "        context_docs.extend(query_results)\n",
    "\n",
    "    return context_docs"
   ]
  },
  {
   "cell_type": "code",
   "execution_count": 55,
   "id": "a7daf0c5-eca6-496d-a9d3-97d7d472a086",
   "metadata": {},
   "outputs": [],
   "source": [
    "# Takes as an argument to LLM message content, returns a list of the fn result objects\n",
    "def handle_function_calls(tool_call_message_content):\n",
    "    tool_results = []\n",
    "    \n",
    "    for tool_call in tool_call_message_content:\n",
    "        # Only process messages from the LLM that are function calls\n",
    "        if tool_call['type'] != 'tool_use':\n",
    "            continue\n",
    "        fn_id = tool_call['id']\n",
    "        fn_name = tool_call['name']\n",
    "        fn_args = tool_call['input']\n",
    "        fn_result = {\n",
    "            \"type\": \"tool_result\",\n",
    "            \"tool_use_id\": fn_id,\n",
    "        }   \n",
    "\n",
    "        if fn_name == 'query_food_recipe_vector_db':\n",
    "            if 'queries' not in fn_args:\n",
    "                print(f\"ERROR: Tried to call {fn_name} with invalid args {fn_args}, skipping..\")\n",
    "                fn_result['content'] = \"\"\n",
    "                fn_result['is_error'] = True\n",
    "                tool_results.append(fn_result)\n",
    "                continue\n",
    "                \n",
    "            print(f\"Model called {fn_name} with args {fn_args}\")\n",
    "            context_docs = handle_vector_db_queries(fn_args['queries'])\n",
    "            context_str = format_docs(context_docs)\n",
    "            fn_result['content'] = context_str\n",
    "            tool_results.append(fn_result)\n",
    "            \n",
    "        # TODO: handle web search invocation here\n",
    "        \n",
    "        else:\n",
    "            print(f\"ERROR: Attempted call to unknown function {fn_name}\")\n",
    "            fn_result['content'] = \"\"\n",
    "            fn_result['is_error'] = True\n",
    "            tool_results.append(fn_result)\n",
    "\n",
    "    return tool_results"
   ]
  },
  {
   "cell_type": "markdown",
   "id": "7e719297-c2db-4068-898d-81ea89ce4551",
   "metadata": {},
   "source": [
    "### Run dynamic query function calling with test queries"
   ]
  },
  {
   "cell_type": "code",
   "execution_count": 65,
   "id": "33afd461-f722-404e-bc42-617a953e559d",
   "metadata": {},
   "outputs": [],
   "source": [
    "'''\n",
    "Example payload structure of response_body:\n",
    "\n",
    "{'id': 'msg_bdrk_01REesjegNiLteurBoxW7pSt',\n",
    " 'type': 'message',\n",
    " 'role': 'assistant',\n",
    " 'model': 'claude-3-sonnet-20240229',\n",
    " 'content': [{'type': 'tool_use',\n",
    "   'id': 'toolu_bdrk_01191W2FuAFTRoDqKKeJSmmn',\n",
    "   'name': 'query_food_recipe_vector_db',\n",
    "   'input': {'queries': ['thai food',\n",
    "     'peanut free',\n",
    "     'low carb',\n",
    "     'not spicy']}}],\n",
    " 'stop_reason': 'tool_use',\n",
    " 'stop_sequence': None,\n",
    " 'usage': {'input_tokens': 573, 'output_tokens': 52}}\n",
    "\n",
    "\n",
    "Example payload structure of llm_message['content']:\n",
    "\n",
    "[{'type': 'tool_use',\n",
    "   'id': 'toolu_bdrk_01191W2FuAFTRoDqKKeJSmmn',\n",
    "   'name': 'query_food_recipe_vector_db',\n",
    "   'input': {'queries': ['thai food',\n",
    "     'peanut free',\n",
    "     'low carb',\n",
    "     'not spicy']}}]\n",
    "'''\n",
    "\n",
    "# This function is the entry point to invoke the LLM with support for function calling\n",
    "# parsing output, calling requested functions, sending output is handled here\n",
    "def run_chat_loop(prompt):\n",
    "    print(f\"[User]: {prompt}\")\n",
    "    response_body, llm_message, chat_history = message_handler(existing_chat_history=[], prompt=prompt)\n",
    "    \n",
    "    \n",
    "    # The model wants to call tools, call them, provide response, repeat until content is generated\n",
    "    while response_body['stop_reason'] == 'tool_use':\n",
    "        fn_results = handle_function_calls(tool_call_message_content=llm_message['content'])\n",
    "\n",
    "        # Send function results back to LLM as a new message with the existing chat history\n",
    "        response_body, llm_message, chat_history = message_handler(\n",
    "            existing_chat_history=chat_history, \n",
    "            prompt=fn_results,\n",
    "            is_tool_message=True\n",
    "        )\n",
    "\n",
    "    # The model is done calling tools\n",
    "    print(f\"\\n[Model]: {llm_message['content'][0]['text']}\")\n"
   ]
  },
  {
   "cell_type": "code",
   "execution_count": 66,
   "id": "21856cad-a7de-4852-9878-ca86f66aa03e",
   "metadata": {},
   "outputs": [
    {
     "name": "stdout",
     "output_type": "stream",
     "text": [
      "[User]: \n",
      "Suggest a healthy dinner recipe for two people that includes fish, \n",
      "is under 500 calories per serving, \n",
      "and can be made in less than 40 minutes.\n",
      "\n",
      "Model called query_food_recipe_vector_db with args {'queries': ['healthy fish dinner recipe under 500 calories quick']}\n",
      "\n",
      "[Model]: <search_quality_reflection>\n",
      "The search results provide several healthy fish dinner recipes that meet the criteria of being under 500 calories per serving and taking less than 40 minutes to prepare. The recipes include a variety of fish types like red snapper, tilapia, and other white fish. The recipes also have different cooking methods like baking and pan-frying. With this information, I should be able to provide a suitable recipe recommendation.\n",
      "</search_quality_reflection>\n",
      "\n",
      "<search_quality_score>5</search_quality_score>\n",
      "\n",
      "<result>\n",
      "Here is a healthy and delicious fish dinner recipe for two that meets your criteria:\n",
      "\n",
      "Easy Baked Fish\n",
      "\n",
      "Ingredients:\n",
      "- 2 fish fillets (tilapia, cod, or other white fish), about 6-8 oz each\n",
      "- 2 tbsp olive oil or melted butter\n",
      "- 1 tbsp lemon juice\n",
      "- 1 tsp dried parsley\n",
      "- 1/2 tsp garlic powder\n",
      "- Salt and pepper to taste\n",
      "\n",
      "Instructions:\n",
      "\n",
      "1. Preheat oven to 400°F (200°C). Line a baking sheet with foil or parchment paper.\n",
      "\n",
      "2. Pat the fish fillets dry with a paper towel and place them on the prepared baking sheet. Brush both sides of the fish with olive oil or melted butter.\n",
      "\n",
      "3. In a small bowl, mix together the lemon juice, parsley, garlic powder, salt, and pepper. Brush or spoon the mixture evenly over the top of the fish fillets.\n",
      "\n",
      "4. Bake for 15-20 minutes, or until the fish is opaque and flakes easily with a fork. The cooking time will vary depending on the thickness of the fillets.\n",
      "\n",
      "5. Serve hot, garnished with lemon wedges if desired.\n",
      "\n",
      "This recipe is quick, easy, and healthy. Each serving contains around 176 calories, 26g protein, and only 5.9g fat. The total cooking time is just 25 minutes. You can adjust the seasoning to your taste preferences. Serve with a side of steamed vegetables or a fresh salad for a complete meal.\n",
      "\n",
      "Let me know if you need any other healthy fish recipe recommendations!\n",
      "</result>\n"
     ]
    }
   ],
   "source": [
    "run_chat_loop(test_query_4)"
   ]
  },
  {
   "cell_type": "code",
   "execution_count": 67,
   "id": "360907c0-da1b-4a59-b8d9-580f77d3a4ee",
   "metadata": {},
   "outputs": [
    {
     "name": "stdout",
     "output_type": "stream",
     "text": [
      "[User]: \n",
      "Suggest a low-carb breakfast recipe that includes eggs and spinach, \n",
      "can be prepared in under 20 minutes, \n",
      "and is suitable for a keto diet.\n",
      "\n",
      "Model called query_food_recipe_vector_db with args {'queries': ['low-carb breakfast recipe with eggs and spinach', 'keto breakfast recipe with eggs and spinach']}\n",
      "\n",
      "[Model]: <search_quality_reflection>\n",
      "The search results provide several relevant low-carb breakfast recipes that include eggs and spinach, suitable for a keto diet. The recipes cover different preparation methods like omelets, baked eggs, and egg muffins. Most of the recipes can be prepared in under 20 minutes. I have enough context to provide a good recommendation to the user.\n",
      "</search_quality_reflection>\n",
      "\n",
      "<search_quality_score>5</search_quality_score>\n",
      "\n",
      "<result>\n",
      "Here is a delicious and keto-friendly breakfast recipe that includes eggs and spinach, and can be prepared in under 20 minutes:\n",
      "\n",
      "Spinach and Feta Egg Muffins\n",
      "\n",
      "Ingredients:\n",
      "- 8 eggs\n",
      "- 1 cup spinach, chopped \n",
      "- 1/2 cup feta cheese, crumbled\n",
      "- 1/4 cup heavy cream or milk of your choice\n",
      "- 1/4 tsp salt\n",
      "- 1/4 tsp black pepper\n",
      "- 1 tbsp butter or olive oil for greasing muffin tin\n",
      "\n",
      "Instructions:\n",
      "\n",
      "1. Preheat oven to 350°F (175°C). Grease a 12-cup muffin tin with butter or olive oil.\n",
      "\n",
      "2. In a bowl, whisk together the eggs, heavy cream/milk, salt and pepper until well combined. \n",
      "\n",
      "3. Stir in the chopped spinach and crumbled feta cheese.\n",
      "\n",
      "4. Pour the egg mixture evenly into the prepared muffin cups, filling them about 3/4 full.\n",
      "\n",
      "5. Bake for 15-18 minutes, until the egg muffins are set and lightly golden on top. \n",
      "\n",
      "6. Remove from oven and let cool for 5 minutes before removing from tin.\n",
      "\n",
      "These egg muffins are packed with protein from the eggs, healthy fats from the cheese and cream, and nutrients from the spinach. They are very low in carbs, making them perfect for a keto breakfast. You can make a batch ahead of time and reheat them for a quick grab-and-go breakfast option. Enjoy!\n",
      "</result>\n"
     ]
    }
   ],
   "source": [
    "run_chat_loop(test_query_3)"
   ]
  },
  {
   "cell_type": "code",
   "execution_count": 68,
   "id": "2db4da32-cddb-4558-8734-7b92bd5a00b1",
   "metadata": {},
   "outputs": [
    {
     "name": "stdout",
     "output_type": "stream",
     "text": [
      "[User]: \n",
      "I have a peanut allergy but I like thai food. \n",
      "I also don't enjoy spicy food much, and want a meal with low carbs. \n",
      "Give a recipe with ingredients and instructions\n",
      "\n",
      "Model called query_food_recipe_vector_db with args {'queries': ['thai food', 'peanut free', 'low carb', 'not spicy']}\n",
      "\n",
      "[Model]: Based on the query results, here is a recommended Thai recipe that is peanut-free, low in carbs, and not spicy:\n",
      "\n",
      "Thai Chicken with Spinach\n",
      "\n",
      "Ingredients:\n",
      "- 4 boneless, skinless chicken breasts\n",
      "- 2 tablespoons olive oil\n",
      "- 1 cup chicken broth\n",
      "- 1/4 cup coconut milk\n",
      "- 2 tablespoons fish sauce\n",
      "- 1 tablespoon lime juice\n",
      "- 1 teaspoon brown sugar\n",
      "- 1/2 teaspoon ground ginger\n",
      "- 1/4 teaspoon ground coriander\n",
      "- 1 (10 oz) package fresh spinach\n",
      "- Salt and pepper to taste\n",
      "\n",
      "Instructions:\n",
      "\n",
      "1. Season the chicken breasts with salt and pepper.\n",
      "2. Heat the olive oil in a large skillet over medium-high heat. Add the chicken and cook for 4-5 minutes per side until browned and cooked through. Remove chicken from skillet and set aside. \n",
      "3. In the same skillet, add the chicken broth, coconut milk, fish sauce, lime juice, brown sugar, ginger, and coriander. Whisk to combine and bring to a simmer.\n",
      "4. Return the cooked chicken to the skillet and add the fresh spinach. Cover and cook for 2-3 minutes until the spinach is wilted.\n",
      "5. Serve the chicken and sauce over cauliflower rice or zucchini noodles for a low-carb option.\n",
      "\n",
      "This Thai chicken dish is dairy-free, peanut-free, low in carbs from the coconut milk-based sauce, and gets flavor from aromatics like ginger and lime instead of spicy heat. The spinach adds nutrients while keeping it low-carb. Let me know if you need any other Thai recipe recommendations!\n"
     ]
    }
   ],
   "source": [
    "run_chat_loop(test_query_2)"
   ]
  },
  {
   "cell_type": "markdown",
   "id": "1e014f6e-1798-46d2-9bf3-d11cb6d93dde",
   "metadata": {},
   "source": [
    "### Try with higher complexity / more restrictive prompts"
   ]
  },
  {
   "cell_type": "code",
   "execution_count": 70,
   "id": "404d51cd-b898-4717-8407-9415e1da4ceb",
   "metadata": {},
   "outputs": [],
   "source": [
    "test_query_5 = \"\"\"\n",
    "I am on a ketogenic diet and need a dinner recipe that is dairy-free, \n",
    "low in sodium, and takes less than an hour to cook.\n",
    "\"\"\"\n",
    "\n",
    "test_query_6 = \"\"\"\n",
    "I'm looking for a pescatarian main course that is low in saturated fat, \n",
    "uses Asian flavors, and can be prepared in under 45 minutes.\n",
    "\"\"\"\n",
    "\n",
    "test_query_7 = \"\"\"\n",
    "I need a diabetic-friendly, vegan breakfast recipe that is gluten-free, \n",
    "nut-free, and low in cholesterol, but also rich in omega-3 fatty acids \n",
    "and can be prepared the night before.\n",
    "\"\"\"\n",
    "\n",
    "test_query_8 = \"\"\"\n",
    "I am following a strict paleo diet and need a lunch recipe that is dairy-free, \n",
    "gluten-free, low in carbs, and low in sodium. Additionally, it should be rich in antioxidants, \n",
    "and can be made in under 30 minutes with minimal cooking equipment.\n",
    "\"\"\""
   ]
  },
  {
   "cell_type": "code",
   "execution_count": 71,
   "id": "92ee0c0d-2d00-495d-b0e9-5f7316e8365c",
   "metadata": {},
   "outputs": [
    {
     "name": "stdout",
     "output_type": "stream",
     "text": [
      "[User]: \n",
      "I am on a ketogenic diet and need a dinner recipe that is dairy-free, \n",
      "low in sodium, and takes less than an hour to cook.\n",
      "\n",
      "Model called query_food_recipe_vector_db with args {'queries': ['keto dinner recipes dairy free low sodium under 1 hour']}\n",
      "Model called query_food_recipe_vector_db with args {'queries': ['keto dinner recipes dairy free low sodium under 500mg sodium under 1 hour']}\n",
      "\n",
      "[Model]: Okay, this refined query provides some better low-sodium, keto, dairy-free dinner options that can be made in under an hour. Based on the results, here is a recipe I would recommend:\n",
      "\n",
      "Keto Chicken Vegetable Soup\n",
      "\n",
      "Ingredients:\n",
      "- 2 boneless, skinless chicken breasts, diced into 1-inch pieces\n",
      "- 2 tbsp olive oil or avocado oil\n",
      "- 1 onion, diced \n",
      "- 2 carrots, sliced\n",
      "- 2 celery stalks, sliced\n",
      "- 4 cups chicken broth\n",
      "- 1 tsp dried thyme\n",
      "- Salt and pepper to taste\n",
      "\n",
      "Instructions:\n",
      "1. In a large pot or dutch oven, heat the oil over medium-high heat. Add the diced chicken and cook for 5-7 minutes until lightly browned.\n",
      "2. Add the onions, carrots and celery. Cook for 5 more minutes until vegetables are slightly softened.\n",
      "3. Pour in the chicken broth and add the dried thyme. Season with salt and pepper.\n",
      "4. Bring to a boil, then reduce heat and simmer for 15-20 minutes until vegetables are tender and chicken is cooked through.\n",
      "5. Adjust seasoning as needed before serving.\n",
      "\n",
      "This hearty keto chicken vegetable soup is dairy-free, low in carbs at only 9.6g per serving, and has just 480mg sodium - well within the 500mg limit you requested. It can be prepared in 40 minutes from start to finish.\n",
      "\n",
      "I'd be happy to provide another keto, dairy-free, low-sodium dinner option if you'd like an alternative. Let me know if you need any other details!\n"
     ]
    }
   ],
   "source": [
    "run_chat_loop(test_query_5)"
   ]
  },
  {
   "cell_type": "code",
   "execution_count": 73,
   "id": "69e9207b-3dc4-4cba-a45a-19bade8aa3ea",
   "metadata": {},
   "outputs": [
    {
     "name": "stdout",
     "output_type": "stream",
     "text": [
      "[User]: \n",
      "I'm looking for a pescatarian main course that is low in saturated fat, \n",
      "uses Asian flavors, and can be prepared in under 45 minutes.\n",
      "\n",
      "Model called query_food_recipe_vector_db with args {'queries': '[\"pescatarian main course\" \"asian flavors\" \"low saturated fat\" \"under 45 minutes\"]'}\n",
      "\n",
      "[Model]: Here is a recipe for a pescatarian Asian-inspired main dish that is low in saturated fat and can be prepared in under 45 minutes:\n",
      "\n",
      "Soy-Ginger Seared Ahi Tuna Steaks\n",
      "\n",
      "Ingredients:\n",
      "- 4 (6 oz) ahi tuna steaks \n",
      "- 2 tbsp sesame oil\n",
      "- 1/4 cup low-sodium soy sauce\n",
      "- 2 tbsp rice vinegar\n",
      "- 1 tbsp freshly grated ginger\n",
      "- 2 cloves garlic, minced\n",
      "- 1 tsp sesame seeds\n",
      "- 2 green onions, sliced \n",
      "- Cooked brown rice or quinoa, for serving\n",
      "\n",
      "Instructions:\n",
      "\n",
      "1. Pat the tuna steaks dry and let come to room temperature, about 15 minutes.\n",
      "\n",
      "2. In a shallow dish, whisk together the soy sauce, rice vinegar, ginger, and garlic. Add the tuna steaks and turn to coat both sides with the marinade. Let marinate for 10 minutes, turning once halfway.\n",
      "\n",
      "3. Heat the sesame oil in a large skillet or grill pan over high heat. Remove tuna from marinade and sear for 2-3 minutes per side for rare, or longer to your desired doneness. \n",
      "\n",
      "4. Transfer tuna to a plate and let rest for 5 minutes. \n",
      "\n",
      "5. Sprinkle with sesame seeds and green onions.\n",
      "\n",
      "6. Serve the seared tuna steaks over brown rice or quinoa, drizzling any remaining marinade from the pan over top.\n",
      "\n",
      "This dish gets its Asian flair from the soy-ginger marinade and sesame flavors. The ahi tuna is a lean protein that is low in saturated fat. Served over whole grains, it makes a nutritious and flavorful pescatarian meal that can be prepared in under 45 minutes. Enjoy!\n"
     ]
    }
   ],
   "source": [
    "run_chat_loop(test_query_6)"
   ]
  },
  {
   "cell_type": "code",
   "execution_count": 74,
   "id": "52fec140-11e2-46d0-90f4-e8b1e2f917df",
   "metadata": {},
   "outputs": [
    {
     "name": "stdout",
     "output_type": "stream",
     "text": [
      "[User]: \n",
      "I need a diabetic-friendly, vegan breakfast recipe that is gluten-free, \n",
      "nut-free, and low in cholesterol, but also rich in omega-3 fatty acids \n",
      "and can be prepared the night before.\n",
      "\n",
      "Model called query_food_recipe_vector_db with args {'queries': ['diabetic-friendly vegan breakfast recipe gluten-free nut-free low cholesterol omega-3 fatty acids overnight']}\n",
      "Model called query_food_recipe_vector_db with args {'queries': ['overnight oats omega-3 fatty acids']}\n",
      "\n",
      "[Model]: <search_quality_reflection>\n",
      "The additional search results provide some useful information on overnight oat recipes that contain omega-3 fatty acids. The \"Simple Overnight Oats\" recipe in particular looks promising as it contains ingredients like chia seeds and flaxseeds which are good sources of omega-3s. I now have enough context to provide a suitable recipe recommendation.\n",
      "</search_quality_reflection>\n",
      "\n",
      "<search_quality_score>5</search_quality_score>\n",
      "\n",
      "<result>\n",
      "Here is a diabetic-friendly, vegan, gluten-free, nut-free, low cholesterol breakfast recipe that is rich in omega-3 fatty acids and can be prepared the night before:\n",
      "\n",
      "Simple Overnight Oats\n",
      "\n",
      "Ingredients:\n",
      "- 1/2 cup rolled oats (gluten-free if needed)\n",
      "- 1 cup unsweetened almond milk or plant-based milk of choice\n",
      "- 1 tablespoon chia seeds\n",
      "- 1 tablespoon ground flaxseeds\n",
      "- 1/2 teaspoon ground cinnamon\n",
      "- 1/4 teaspoon vanilla extract\n",
      "- 1 tablespoon maple syrup or sweetener of choice (adjust to taste)\n",
      "- 1/2 cup fresh or frozen blueberries\n",
      "\n",
      "Instructions:\n",
      "1. In a jar or bowl, combine the rolled oats, almond milk, chia seeds, flaxseeds, cinnamon, vanilla, and maple syrup. Stir well to combine.\n",
      "2. Cover and refrigerate overnight or for at least 6 hours.\n",
      "3. In the morning, stir the oat mixture and top with fresh or frozen blueberries.\n",
      "\n",
      "This overnight oats recipe is not only convenient to prepare ahead of time, but it also meets your dietary requirements. The chia seeds and flaxseeds provide a good source of omega-3 fatty acids, while the oats, almond milk, and blueberries offer fiber, vitamins, and antioxidants. It's a nutritious and satisfying vegan breakfast option that is suitable for those with diabetes, gluten intolerance, and nut allergies.\n",
      "\n",
      "You can adjust the sweetener amount to your taste preferences and feel free to experiment with different toppings like fresh fruit, coconut, or a sprinkle of cinnamon. Enjoy this make-ahead breakfast that's both delicious and packed with beneficial nutrients!\n",
      "</result>\n"
     ]
    }
   ],
   "source": [
    "run_chat_loop(test_query_7)"
   ]
  },
  {
   "cell_type": "code",
   "execution_count": 75,
   "id": "a0f9b8f1-5223-4f3f-be68-e007cde91e9c",
   "metadata": {},
   "outputs": [
    {
     "name": "stdout",
     "output_type": "stream",
     "text": [
      "[User]: \n",
      "I am following a strict paleo diet and need a lunch recipe that is dairy-free, \n",
      "gluten-free, low in carbs, and low in sodium. Additionally, it should be rich in antioxidants, \n",
      "and can be made in under 30 minutes with minimal cooking equipment.\n",
      "\n",
      "Model called query_food_recipe_vector_db with args {'queries': ['paleo lunch recipes dairy-free gluten-free low carb low sodium antioxidants quick easy']}\n",
      "Model called query_food_recipe_vector_db with args {'queries': ['paleo lunch salad antioxidant rich low carb low sodium 30 minutes']}\n",
      "\n",
      "[Model]: This second query provides some better options for a paleo-friendly, antioxidant-rich salad that is low in carbs, sodium, and can be prepared quickly.\n",
      "\n",
      "Based on the results, here is a recipe I would recommend:\n",
      "\n",
      "Antioxidant Spinach Salad with Chicken (Paleo, Dairy-Free, Gluten-Free)\n",
      "\n",
      "Ingredients:\n",
      "- 4 cups fresh baby spinach \n",
      "- 1 cup cherry tomatoes, halved\n",
      "- 1/2 cup sliced cucumber\n",
      "- 1/4 cup sliced red onion\n",
      "- 1/4 cup sliced almonds\n",
      "- 2 cooked chicken breasts, sliced \n",
      "- 2 tbsp olive oil\n",
      "- 2 tbsp balsamic vinegar\n",
      "- Salt and pepper to taste\n",
      "\n",
      "Instructions:\n",
      "1. In a large bowl, combine the spinach, tomatoes, cucumber, onion, almonds and sliced chicken.\n",
      "2. In a small bowl, whisk together the olive oil, balsamic vinegar, salt and pepper.\n",
      "3. Drizzle the dressing over the salad and toss gently to coat. \n",
      "4. Serve immediately.\n",
      "\n",
      "This salad is packed with nutrient-dense ingredients like spinach, tomatoes, cucumber and almonds which provide antioxidants. The chicken adds protein to make it a filling meal. It's low in carbs, dairy-free, gluten-free and can easily be prepared in under 30 minutes with minimal equipment needed.\n",
      "\n",
      "Let me know if you need any other details or have additional requirements!\n"
     ]
    }
   ],
   "source": [
    "run_chat_loop(test_query_8)"
   ]
  },
  {
   "cell_type": "code",
   "execution_count": null,
   "id": "b124bf2d-e566-4947-b01d-9de58580f18a",
   "metadata": {},
   "outputs": [],
   "source": []
  }
 ],
 "metadata": {
  "kernelspec": {
   "display_name": "Python 3 (ipykernel)",
   "language": "python",
   "name": "python3"
  },
  "language_info": {
   "codemirror_mode": {
    "name": "ipython",
    "version": 3
   },
   "file_extension": ".py",
   "mimetype": "text/x-python",
   "name": "python",
   "nbconvert_exporter": "python",
   "pygments_lexer": "ipython3",
   "version": "3.12.2"
  }
 },
 "nbformat": 4,
 "nbformat_minor": 5
}
