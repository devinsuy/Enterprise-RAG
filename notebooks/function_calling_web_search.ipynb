{
 "cells": [
  {
   "cell_type": "markdown",
   "id": "a1ca1687-79fb-4439-8c91-7b1049c36153",
   "metadata": {},
   "source": [
    "### Install dependencies"
   ]
  },
  {
   "cell_type": "code",
   "execution_count": 1,
   "id": "d8fbce3d-65f5-4ded-8fd4-d9f1101286a9",
   "metadata": {
    "scrolled": true,
    "tags": []
   },
   "outputs": [
    {
     "name": "stdout",
     "output_type": "stream",
     "text": [
      "Requirement already satisfied: boto3 in /home/reson/miniconda3/envs/LangChain/lib/python3.12/site-packages (1.34.140)\n",
      "Requirement already satisfied: sagemaker in /home/reson/miniconda3/envs/LangChain/lib/python3.12/site-packages (2.224.4)\n",
      "Requirement already satisfied: langchain in /home/reson/miniconda3/envs/LangChain/lib/python3.12/site-packages (0.2.6)\n",
      "Requirement already satisfied: langchain-community in /home/reson/miniconda3/envs/LangChain/lib/python3.12/site-packages (0.2.6)\n",
      "Requirement already satisfied: langchain-core in /home/reson/miniconda3/envs/LangChain/lib/python3.12/site-packages (0.2.11)\n",
      "Requirement already satisfied: faiss-cpu in /home/reson/miniconda3/envs/LangChain/lib/python3.12/site-packages (1.8.0.post1)\n",
      "Requirement already satisfied: requests in /home/reson/miniconda3/envs/LangChain/lib/python3.12/site-packages (2.32.3)\n",
      "Requirement already satisfied: opensearch-py in /home/reson/miniconda3/envs/LangChain/lib/python3.12/site-packages (2.6.0)\n",
      "Requirement already satisfied: sentence-transformers in /home/reson/miniconda3/envs/LangChain/lib/python3.12/site-packages (3.0.1)\n",
      "Requirement already satisfied: langchain-text-splitters in /home/reson/miniconda3/envs/LangChain/lib/python3.12/site-packages (0.2.2)\n",
      "Requirement already satisfied: requests-aws4auth in /home/reson/miniconda3/envs/LangChain/lib/python3.12/site-packages (1.2.3)\n",
      "Requirement already satisfied: qdrant-client in /home/reson/miniconda3/envs/LangChain/lib/python3.12/site-packages (1.10.0)\n",
      "Requirement already satisfied: botocore<1.35.0,>=1.34.140 in /home/reson/miniconda3/envs/LangChain/lib/python3.12/site-packages (from boto3) (1.34.140)\n",
      "Requirement already satisfied: jmespath<2.0.0,>=0.7.1 in /home/reson/miniconda3/envs/LangChain/lib/python3.12/site-packages (from boto3) (1.0.1)\n",
      "Requirement already satisfied: s3transfer<0.11.0,>=0.10.0 in /home/reson/miniconda3/envs/LangChain/lib/python3.12/site-packages (from boto3) (0.10.2)\n",
      "Requirement already satisfied: attrs<24,>=23.1.0 in /home/reson/miniconda3/envs/LangChain/lib/python3.12/site-packages (from sagemaker) (23.2.0)\n",
      "Requirement already satisfied: cloudpickle==2.2.1 in /home/reson/miniconda3/envs/LangChain/lib/python3.12/site-packages (from sagemaker) (2.2.1)\n",
      "Requirement already satisfied: google-pasta in /home/reson/miniconda3/envs/LangChain/lib/python3.12/site-packages (from sagemaker) (0.2.0)\n",
      "Requirement already satisfied: numpy<2.0,>=1.9.0 in /home/reson/miniconda3/envs/LangChain/lib/python3.12/site-packages (from sagemaker) (1.26.4)\n",
      "Requirement already satisfied: protobuf<5.0,>=3.12 in /home/reson/miniconda3/envs/LangChain/lib/python3.12/site-packages (from sagemaker) (4.25.3)\n",
      "Requirement already satisfied: smdebug-rulesconfig==1.0.1 in /home/reson/miniconda3/envs/LangChain/lib/python3.12/site-packages (from sagemaker) (1.0.1)\n",
      "Requirement already satisfied: importlib-metadata<7.0,>=1.4.0 in /home/reson/miniconda3/envs/LangChain/lib/python3.12/site-packages (from sagemaker) (6.8.0)\n",
      "Requirement already satisfied: packaging>=20.0 in /home/reson/miniconda3/envs/LangChain/lib/python3.12/site-packages (from sagemaker) (23.2)\n",
      "Requirement already satisfied: pandas in /home/reson/miniconda3/envs/LangChain/lib/python3.12/site-packages (from sagemaker) (2.2.1)\n",
      "Requirement already satisfied: pathos in /home/reson/miniconda3/envs/LangChain/lib/python3.12/site-packages (from sagemaker) (0.3.2)\n",
      "Requirement already satisfied: schema in /home/reson/miniconda3/envs/LangChain/lib/python3.12/site-packages (from sagemaker) (0.7.7)\n",
      "Requirement already satisfied: PyYAML~=6.0 in /home/reson/miniconda3/envs/LangChain/lib/python3.12/site-packages (from sagemaker) (6.0.1)\n",
      "Requirement already satisfied: jsonschema in /home/reson/miniconda3/envs/LangChain/lib/python3.12/site-packages (from sagemaker) (4.21.1)\n",
      "Requirement already satisfied: platformdirs in /home/reson/miniconda3/envs/LangChain/lib/python3.12/site-packages (from sagemaker) (4.2.0)\n",
      "Requirement already satisfied: tblib<4,>=1.7.0 in /home/reson/miniconda3/envs/LangChain/lib/python3.12/site-packages (from sagemaker) (3.0.0)\n",
      "Requirement already satisfied: urllib3<3.0.0,>=1.26.8 in /home/reson/miniconda3/envs/LangChain/lib/python3.12/site-packages (from sagemaker) (1.26.18)\n",
      "Requirement already satisfied: docker in /home/reson/miniconda3/envs/LangChain/lib/python3.12/site-packages (from sagemaker) (7.1.0)\n",
      "Requirement already satisfied: tqdm in /home/reson/miniconda3/envs/LangChain/lib/python3.12/site-packages (from sagemaker) (4.66.4)\n",
      "Requirement already satisfied: psutil in /home/reson/miniconda3/envs/LangChain/lib/python3.12/site-packages (from sagemaker) (5.9.8)\n",
      "Requirement already satisfied: SQLAlchemy<3,>=1.4 in /home/reson/miniconda3/envs/LangChain/lib/python3.12/site-packages (from langchain) (2.0.29)\n",
      "Requirement already satisfied: aiohttp<4.0.0,>=3.8.3 in /home/reson/miniconda3/envs/LangChain/lib/python3.12/site-packages (from langchain) (3.9.3)\n",
      "Requirement already satisfied: langsmith<0.2.0,>=0.1.17 in /home/reson/miniconda3/envs/LangChain/lib/python3.12/site-packages (from langchain) (0.1.83)\n",
      "Requirement already satisfied: pydantic<3,>=1 in /home/reson/miniconda3/envs/LangChain/lib/python3.12/site-packages (from langchain) (2.6.4)\n",
      "Requirement already satisfied: tenacity!=8.4.0,<9.0.0,>=8.1.0 in /home/reson/miniconda3/envs/LangChain/lib/python3.12/site-packages (from langchain) (8.2.3)\n",
      "Requirement already satisfied: dataclasses-json<0.7,>=0.5.7 in /home/reson/miniconda3/envs/LangChain/lib/python3.12/site-packages (from langchain-community) (0.6.4)\n",
      "Requirement already satisfied: jsonpatch<2.0,>=1.33 in /home/reson/miniconda3/envs/LangChain/lib/python3.12/site-packages (from langchain-core) (1.33)\n",
      "Requirement already satisfied: charset-normalizer<4,>=2 in /home/reson/miniconda3/envs/LangChain/lib/python3.12/site-packages (from requests) (3.3.2)\n",
      "Requirement already satisfied: idna<4,>=2.5 in /home/reson/miniconda3/envs/LangChain/lib/python3.12/site-packages (from requests) (3.7)\n",
      "Requirement already satisfied: certifi>=2017.4.17 in /home/reson/miniconda3/envs/LangChain/lib/python3.12/site-packages (from requests) (2024.2.2)\n",
      "Requirement already satisfied: six in /home/reson/miniconda3/envs/LangChain/lib/python3.12/site-packages (from opensearch-py) (1.16.0)\n",
      "Requirement already satisfied: python-dateutil in /home/reson/miniconda3/envs/LangChain/lib/python3.12/site-packages (from opensearch-py) (2.9.0)\n",
      "Requirement already satisfied: Events in /home/reson/miniconda3/envs/LangChain/lib/python3.12/site-packages (from opensearch-py) (0.5)\n",
      "Requirement already satisfied: transformers<5.0.0,>=4.34.0 in /home/reson/miniconda3/envs/LangChain/lib/python3.12/site-packages (from sentence-transformers) (4.40.0.dev0)\n",
      "Requirement already satisfied: torch>=1.11.0 in /home/reson/miniconda3/envs/LangChain/lib/python3.12/site-packages (from sentence-transformers) (2.2.2)\n",
      "Requirement already satisfied: scikit-learn in /home/reson/miniconda3/envs/LangChain/lib/python3.12/site-packages (from sentence-transformers) (1.4.1.post1)\n",
      "Requirement already satisfied: scipy in /home/reson/miniconda3/envs/LangChain/lib/python3.12/site-packages (from sentence-transformers) (1.13.0)\n",
      "Requirement already satisfied: huggingface-hub>=0.15.1 in /home/reson/miniconda3/envs/LangChain/lib/python3.12/site-packages (from sentence-transformers) (0.22.2)\n",
      "Requirement already satisfied: Pillow in /home/reson/miniconda3/envs/LangChain/lib/python3.12/site-packages (from sentence-transformers) (10.3.0)\n",
      "Requirement already satisfied: grpcio>=1.41.0 in /home/reson/miniconda3/envs/LangChain/lib/python3.12/site-packages (from qdrant-client) (1.62.1)\n",
      "Requirement already satisfied: grpcio-tools>=1.41.0 in /home/reson/miniconda3/envs/LangChain/lib/python3.12/site-packages (from qdrant-client) (1.62.1)\n",
      "Requirement already satisfied: httpx>=0.20.0 in /home/reson/miniconda3/envs/LangChain/lib/python3.12/site-packages (from httpx[http2]>=0.20.0->qdrant-client) (0.27.0)\n",
      "Requirement already satisfied: portalocker<3.0.0,>=2.7.0 in /home/reson/miniconda3/envs/LangChain/lib/python3.12/site-packages (from qdrant-client) (2.8.2)\n",
      "Requirement already satisfied: aiosignal>=1.1.2 in /home/reson/miniconda3/envs/LangChain/lib/python3.12/site-packages (from aiohttp<4.0.0,>=3.8.3->langchain) (1.3.1)\n",
      "Requirement already satisfied: frozenlist>=1.1.1 in /home/reson/miniconda3/envs/LangChain/lib/python3.12/site-packages (from aiohttp<4.0.0,>=3.8.3->langchain) (1.4.1)\n",
      "Requirement already satisfied: multidict<7.0,>=4.5 in /home/reson/miniconda3/envs/LangChain/lib/python3.12/site-packages (from aiohttp<4.0.0,>=3.8.3->langchain) (6.0.5)\n",
      "Requirement already satisfied: yarl<2.0,>=1.0 in /home/reson/miniconda3/envs/LangChain/lib/python3.12/site-packages (from aiohttp<4.0.0,>=3.8.3->langchain) (1.9.4)\n",
      "Requirement already satisfied: marshmallow<4.0.0,>=3.18.0 in /home/reson/miniconda3/envs/LangChain/lib/python3.12/site-packages (from dataclasses-json<0.7,>=0.5.7->langchain-community) (3.21.1)\n",
      "Requirement already satisfied: typing-inspect<1,>=0.4.0 in /home/reson/miniconda3/envs/LangChain/lib/python3.12/site-packages (from dataclasses-json<0.7,>=0.5.7->langchain-community) (0.9.0)\n",
      "Requirement already satisfied: setuptools in /home/reson/miniconda3/envs/LangChain/lib/python3.12/site-packages (from grpcio-tools>=1.41.0->qdrant-client) (69.2.0)\n",
      "Requirement already satisfied: anyio in /home/reson/miniconda3/envs/LangChain/lib/python3.12/site-packages (from httpx>=0.20.0->httpx[http2]>=0.20.0->qdrant-client) (4.3.0)\n",
      "Requirement already satisfied: httpcore==1.* in /home/reson/miniconda3/envs/LangChain/lib/python3.12/site-packages (from httpx>=0.20.0->httpx[http2]>=0.20.0->qdrant-client) (1.0.5)\n",
      "Requirement already satisfied: sniffio in /home/reson/miniconda3/envs/LangChain/lib/python3.12/site-packages (from httpx>=0.20.0->httpx[http2]>=0.20.0->qdrant-client) (1.3.1)\n",
      "Requirement already satisfied: h11<0.15,>=0.13 in /home/reson/miniconda3/envs/LangChain/lib/python3.12/site-packages (from httpcore==1.*->httpx>=0.20.0->httpx[http2]>=0.20.0->qdrant-client) (0.14.0)\n",
      "Requirement already satisfied: h2<5,>=3 in /home/reson/miniconda3/envs/LangChain/lib/python3.12/site-packages (from httpx[http2]>=0.20.0->qdrant-client) (4.1.0)\n",
      "Requirement already satisfied: filelock in /home/reson/miniconda3/envs/LangChain/lib/python3.12/site-packages (from huggingface-hub>=0.15.1->sentence-transformers) (3.13.3)\n",
      "Requirement already satisfied: fsspec>=2023.5.0 in /home/reson/miniconda3/envs/LangChain/lib/python3.12/site-packages (from huggingface-hub>=0.15.1->sentence-transformers) (2024.2.0)\n",
      "Requirement already satisfied: typing-extensions>=3.7.4.3 in /home/reson/miniconda3/envs/LangChain/lib/python3.12/site-packages (from huggingface-hub>=0.15.1->sentence-transformers) (4.12.0)\n",
      "Requirement already satisfied: zipp>=0.5 in /home/reson/miniconda3/envs/LangChain/lib/python3.12/site-packages (from importlib-metadata<7.0,>=1.4.0->sagemaker) (3.17.0)\n",
      "Requirement already satisfied: jsonpointer>=1.9 in /home/reson/miniconda3/envs/LangChain/lib/python3.12/site-packages (from jsonpatch<2.0,>=1.33->langchain-core) (2.4)\n",
      "Requirement already satisfied: orjson<4.0.0,>=3.9.14 in /home/reson/miniconda3/envs/LangChain/lib/python3.12/site-packages (from langsmith<0.2.0,>=0.1.17->langchain) (3.10.0)\n",
      "Requirement already satisfied: annotated-types>=0.4.0 in /home/reson/miniconda3/envs/LangChain/lib/python3.12/site-packages (from pydantic<3,>=1->langchain) (0.6.0)\n",
      "Requirement already satisfied: pydantic-core==2.16.3 in /home/reson/miniconda3/envs/LangChain/lib/python3.12/site-packages (from pydantic<3,>=1->langchain) (2.16.3)\n",
      "Requirement already satisfied: greenlet!=0.4.17 in /home/reson/miniconda3/envs/LangChain/lib/python3.12/site-packages (from SQLAlchemy<3,>=1.4->langchain) (3.0.3)\n",
      "Requirement already satisfied: sympy in /home/reson/miniconda3/envs/LangChain/lib/python3.12/site-packages (from torch>=1.11.0->sentence-transformers) (1.12)\n",
      "Requirement already satisfied: networkx in /home/reson/miniconda3/envs/LangChain/lib/python3.12/site-packages (from torch>=1.11.0->sentence-transformers) (3.1)\n",
      "Requirement already satisfied: jinja2 in /home/reson/miniconda3/envs/LangChain/lib/python3.12/site-packages (from torch>=1.11.0->sentence-transformers) (3.1.2)\n",
      "Requirement already satisfied: nvidia-cuda-nvrtc-cu12==12.1.105 in /home/reson/miniconda3/envs/LangChain/lib/python3.12/site-packages (from torch>=1.11.0->sentence-transformers) (12.1.105)\n",
      "Requirement already satisfied: nvidia-cuda-runtime-cu12==12.1.105 in /home/reson/miniconda3/envs/LangChain/lib/python3.12/site-packages (from torch>=1.11.0->sentence-transformers) (12.1.105)\n",
      "Requirement already satisfied: nvidia-cuda-cupti-cu12==12.1.105 in /home/reson/miniconda3/envs/LangChain/lib/python3.12/site-packages (from torch>=1.11.0->sentence-transformers) (12.1.105)\n",
      "Requirement already satisfied: nvidia-cudnn-cu12==8.9.2.26 in /home/reson/miniconda3/envs/LangChain/lib/python3.12/site-packages (from torch>=1.11.0->sentence-transformers) (8.9.2.26)\n",
      "Requirement already satisfied: nvidia-cublas-cu12==12.1.3.1 in /home/reson/miniconda3/envs/LangChain/lib/python3.12/site-packages (from torch>=1.11.0->sentence-transformers) (12.1.3.1)\n",
      "Requirement already satisfied: nvidia-cufft-cu12==11.0.2.54 in /home/reson/miniconda3/envs/LangChain/lib/python3.12/site-packages (from torch>=1.11.0->sentence-transformers) (11.0.2.54)\n",
      "Requirement already satisfied: nvidia-curand-cu12==10.3.2.106 in /home/reson/miniconda3/envs/LangChain/lib/python3.12/site-packages (from torch>=1.11.0->sentence-transformers) (10.3.2.106)\n",
      "Requirement already satisfied: nvidia-cusolver-cu12==11.4.5.107 in /home/reson/miniconda3/envs/LangChain/lib/python3.12/site-packages (from torch>=1.11.0->sentence-transformers) (11.4.5.107)\n",
      "Requirement already satisfied: nvidia-cusparse-cu12==12.1.0.106 in /home/reson/miniconda3/envs/LangChain/lib/python3.12/site-packages (from torch>=1.11.0->sentence-transformers) (12.1.0.106)\n",
      "Requirement already satisfied: nvidia-nccl-cu12==2.19.3 in /home/reson/miniconda3/envs/LangChain/lib/python3.12/site-packages (from torch>=1.11.0->sentence-transformers) (2.19.3)\n",
      "Requirement already satisfied: nvidia-nvtx-cu12==12.1.105 in /home/reson/miniconda3/envs/LangChain/lib/python3.12/site-packages (from torch>=1.11.0->sentence-transformers) (12.1.105)\n",
      "Requirement already satisfied: nvidia-nvjitlink-cu12 in /home/reson/miniconda3/envs/LangChain/lib/python3.12/site-packages (from nvidia-cusolver-cu12==11.4.5.107->torch>=1.11.0->sentence-transformers) (12.4.127)\n",
      "Requirement already satisfied: regex!=2019.12.17 in /home/reson/miniconda3/envs/LangChain/lib/python3.12/site-packages (from transformers<5.0.0,>=4.34.0->sentence-transformers) (2023.12.25)\n",
      "Requirement already satisfied: tokenizers<0.19,>=0.14 in /home/reson/miniconda3/envs/LangChain/lib/python3.12/site-packages (from transformers<5.0.0,>=4.34.0->sentence-transformers) (0.15.2)\n",
      "Requirement already satisfied: safetensors>=0.4.1 in /home/reson/miniconda3/envs/LangChain/lib/python3.12/site-packages (from transformers<5.0.0,>=4.34.0->sentence-transformers) (0.4.2)\n",
      "Requirement already satisfied: jsonschema-specifications>=2023.03.6 in /home/reson/miniconda3/envs/LangChain/lib/python3.12/site-packages (from jsonschema->sagemaker) (2023.12.1)\n",
      "Requirement already satisfied: referencing>=0.28.4 in /home/reson/miniconda3/envs/LangChain/lib/python3.12/site-packages (from jsonschema->sagemaker) (0.34.0)\n",
      "Requirement already satisfied: rpds-py>=0.7.1 in /home/reson/miniconda3/envs/LangChain/lib/python3.12/site-packages (from jsonschema->sagemaker) (0.18.0)\n",
      "Requirement already satisfied: pytz>=2020.1 in /home/reson/miniconda3/envs/LangChain/lib/python3.12/site-packages (from pandas->sagemaker) (2024.1)\n",
      "Requirement already satisfied: tzdata>=2022.7 in /home/reson/miniconda3/envs/LangChain/lib/python3.12/site-packages (from pandas->sagemaker) (2024.1)\n",
      "Requirement already satisfied: ppft>=1.7.6.8 in /home/reson/miniconda3/envs/LangChain/lib/python3.12/site-packages (from pathos->sagemaker) (1.7.6.8)\n",
      "Requirement already satisfied: dill>=0.3.8 in /home/reson/miniconda3/envs/LangChain/lib/python3.12/site-packages (from pathos->sagemaker) (0.3.8)\n",
      "Requirement already satisfied: pox>=0.3.4 in /home/reson/miniconda3/envs/LangChain/lib/python3.12/site-packages (from pathos->sagemaker) (0.3.4)\n",
      "Requirement already satisfied: multiprocess>=0.70.16 in /home/reson/miniconda3/envs/LangChain/lib/python3.12/site-packages (from pathos->sagemaker) (0.70.16)\n",
      "Requirement already satisfied: joblib>=1.2.0 in /home/reson/miniconda3/envs/LangChain/lib/python3.12/site-packages (from scikit-learn->sentence-transformers) (1.3.2)\n",
      "Requirement already satisfied: threadpoolctl>=2.0.0 in /home/reson/miniconda3/envs/LangChain/lib/python3.12/site-packages (from scikit-learn->sentence-transformers) (3.4.0)\n",
      "Requirement already satisfied: hyperframe<7,>=6.0 in /home/reson/miniconda3/envs/LangChain/lib/python3.12/site-packages (from h2<5,>=3->httpx[http2]>=0.20.0->qdrant-client) (6.0.1)\n",
      "Requirement already satisfied: hpack<5,>=4.0 in /home/reson/miniconda3/envs/LangChain/lib/python3.12/site-packages (from h2<5,>=3->httpx[http2]>=0.20.0->qdrant-client) (4.0.0)\n",
      "Requirement already satisfied: mypy-extensions>=0.3.0 in /home/reson/miniconda3/envs/LangChain/lib/python3.12/site-packages (from typing-inspect<1,>=0.4.0->dataclasses-json<0.7,>=0.5.7->langchain-community) (1.0.0)\n",
      "Requirement already satisfied: MarkupSafe>=2.0 in /home/reson/miniconda3/envs/LangChain/lib/python3.12/site-packages (from jinja2->torch>=1.11.0->sentence-transformers) (2.1.3)\n",
      "Requirement already satisfied: mpmath>=0.19 in /home/reson/miniconda3/envs/LangChain/lib/python3.12/site-packages (from sympy->torch>=1.11.0->sentence-transformers) (1.3.0)\n"
     ]
    }
   ],
   "source": [
    "!pip install boto3 sagemaker langchain langchain-community langchain-core faiss-cpu requests opensearch-py sentence-transformers langchain-text-splitters requests-aws4auth qdrant-client -U"
   ]
  },
  {
   "cell_type": "markdown",
   "id": "a2d3d82f-43cd-416a-afb9-072a775c5d15",
   "metadata": {},
   "source": [
    "### Util to fetch api key from AWS Secrets Manager"
   ]
  },
  {
   "cell_type": "code",
   "execution_count": 1,
   "id": "5a50f35f-ce92-4685-ac49-0e1e9fbe6f6d",
   "metadata": {},
   "outputs": [],
   "source": [
    "import boto3\n",
    "import json\n",
    "\n",
    "def get_secret(secret_name, is_json=False, region_name='us-east-1'):\n",
    "    client = boto3.client('secretsmanager', region_name=region_name)\n",
    "\n",
    "    try:\n",
    "        get_secret_value_response = client.get_secret_value(SecretId=secret_name)\n",
    "    except Exception as e:\n",
    "        raise e\n",
    "\n",
    "    secret = get_secret_value_response['SecretString']\n",
    "\n",
    "    if is_json:\n",
    "        return json.loads(secret)\n",
    "    else:\n",
    "        return secret"
   ]
  },
  {
   "cell_type": "markdown",
   "id": "8c60fd86-2fdd-4921-b769-45a6d6ae1411",
   "metadata": {},
   "source": [
    "### Load CSV data from S3"
   ]
  },
  {
   "cell_type": "code",
   "execution_count": 2,
   "id": "b02d5178-7946-4ff5-bfdf-d8c784afd6cd",
   "metadata": {
    "tags": []
   },
   "outputs": [
    {
     "name": "stdout",
     "output_type": "stream",
     "text": [
      "/home/reson/Documents/GitHub/Enterprise-RAG/notebooks\n"
     ]
    }
   ],
   "source": [
    "!pwd"
   ]
  },
  {
   "cell_type": "code",
   "execution_count": 3,
   "id": "e42652b8-0122-4f47-b069-a398ae118afc",
   "metadata": {
    "tags": []
   },
   "outputs": [],
   "source": [
    "import boto3\n",
    "import pandas as pd\n",
    "\n",
    "s3 = boto3.client('s3')\n",
    "bucket_name = 'recipes-rag'"
   ]
  },
  {
   "cell_type": "code",
   "execution_count": 4,
   "id": "e0176b52-e799-4947-9264-c6c51897c4b7",
   "metadata": {
    "tags": []
   },
   "outputs": [
    {
     "data": {
      "text/html": [
       "<div>\n",
       "<style scoped>\n",
       "    .dataframe tbody tr th:only-of-type {\n",
       "        vertical-align: middle;\n",
       "    }\n",
       "\n",
       "    .dataframe tbody tr th {\n",
       "        vertical-align: top;\n",
       "    }\n",
       "\n",
       "    .dataframe thead th {\n",
       "        text-align: right;\n",
       "    }\n",
       "</style>\n",
       "<table border=\"1\" class=\"dataframe\">\n",
       "  <thead>\n",
       "    <tr style=\"text-align: right;\">\n",
       "      <th></th>\n",
       "      <th>Name</th>\n",
       "      <th>RecipeCategory</th>\n",
       "      <th>Description</th>\n",
       "      <th>Keywords_string</th>\n",
       "      <th>RecipeIngredientQuantities</th>\n",
       "      <th>RecipeIngredientParts</th>\n",
       "      <th>RecipeInstructions</th>\n",
       "      <th>AggregatedRating</th>\n",
       "      <th>ReviewCount</th>\n",
       "      <th>CookTime_Minutes</th>\n",
       "      <th>PrepTime_Minutes</th>\n",
       "      <th>TotalTime_Minutes</th>\n",
       "      <th>Combined_Features</th>\n",
       "      <th>Combined_Features_Clean</th>\n",
       "    </tr>\n",
       "  </thead>\n",
       "  <tbody>\n",
       "    <tr>\n",
       "      <th>0</th>\n",
       "      <td>Low-Fat Berry Blue Frozen Dessert</td>\n",
       "      <td>Frozen Desserts</td>\n",
       "      <td>Make and share this Low-Fat Berry Blue Frozen ...</td>\n",
       "      <td>Dessert Low Protein Low Cholesterol Healthy Fr...</td>\n",
       "      <td>[4, 1⁄4, 1, 1]</td>\n",
       "      <td>[blueberries, granulated sugar, vanilla yogurt...</td>\n",
       "      <td>Toss 2 cups berries with sugar. Let stand for ...</td>\n",
       "      <td>4.5</td>\n",
       "      <td>4.0</td>\n",
       "      <td>1440</td>\n",
       "      <td>45</td>\n",
       "      <td>1485</td>\n",
       "      <td>Low-Fat Berry Blue Frozen Dessert Frozen Desse...</td>\n",
       "      <td>Low-Fat Berry Blue Frozen Dessert Frozen Desse...</td>\n",
       "    </tr>\n",
       "    <tr>\n",
       "      <th>1</th>\n",
       "      <td>Biryani</td>\n",
       "      <td>Chicken Breast</td>\n",
       "      <td>Make and share this Biryani recipe from Food.com.</td>\n",
       "      <td>Chicken Thigh &amp; Leg Chicken Poultry Meat Asian...</td>\n",
       "      <td>[1, 4, 2, 2, 8, 1⁄4, 8, 1⁄2, 1, 1, 1⁄4, 1⁄4, 1...</td>\n",
       "      <td>[saffron, milk, hot green chili peppers, onion...</td>\n",
       "      <td>Soak saffron in warm milk for 5 minutes and pu...</td>\n",
       "      <td>3.0</td>\n",
       "      <td>1.0</td>\n",
       "      <td>25</td>\n",
       "      <td>240</td>\n",
       "      <td>265</td>\n",
       "      <td>Biryani Chicken Breast Make and share this Bir...</td>\n",
       "      <td>Biryani Chicken Breast Make share Biryani reci...</td>\n",
       "    </tr>\n",
       "    <tr>\n",
       "      <th>2</th>\n",
       "      <td>Best Lemonade</td>\n",
       "      <td>Beverages</td>\n",
       "      <td>This is from one of my  first Good House Keepi...</td>\n",
       "      <td>Low Protein Low Cholesterol Healthy Summer &lt; 6...</td>\n",
       "      <td>[1 1⁄2, 1, None, 1 1⁄2, None, 3⁄4]</td>\n",
       "      <td>[sugar, lemons, rind of, lemon, zest of, fresh...</td>\n",
       "      <td>Into a 1 quart Jar with tight fitting lid, put...</td>\n",
       "      <td>4.5</td>\n",
       "      <td>10.0</td>\n",
       "      <td>5</td>\n",
       "      <td>30</td>\n",
       "      <td>35</td>\n",
       "      <td>Best Lemonade Beverages This is from one of my...</td>\n",
       "      <td>Best Lemonade Beverages one first Good House K...</td>\n",
       "    </tr>\n",
       "    <tr>\n",
       "      <th>3</th>\n",
       "      <td>Carina's Tofu-Vegetable Kebabs</td>\n",
       "      <td>Soy/Tofu</td>\n",
       "      <td>This dish is best prepared a day in advance to...</td>\n",
       "      <td>Beans Vegetable Low Cholesterol Weeknight Broi...</td>\n",
       "      <td>[12, 1, 2, 1, 10, 1, 3, 2, 2, 2, 1, 2, 1⁄2, 1⁄...</td>\n",
       "      <td>[extra firm tofu, eggplant, zucchini, mushroom...</td>\n",
       "      <td>Drain the tofu, carefully squeezing out excess...</td>\n",
       "      <td>4.5</td>\n",
       "      <td>2.0</td>\n",
       "      <td>20</td>\n",
       "      <td>1440</td>\n",
       "      <td>1460</td>\n",
       "      <td>Carina's Tofu-Vegetable Kebabs Soy/Tofu This d...</td>\n",
       "      <td>Carina's Tofu-Vegetable Kebabs Soy/Tofu dish b...</td>\n",
       "    </tr>\n",
       "    <tr>\n",
       "      <th>4</th>\n",
       "      <td>Cabbage Soup</td>\n",
       "      <td>Vegetable</td>\n",
       "      <td>Make and share this Cabbage Soup recipe from F...</td>\n",
       "      <td>Low Protein Vegan Low Cholesterol Healthy Wint...</td>\n",
       "      <td>[46, 4, 1, 2, 1]</td>\n",
       "      <td>[plain tomato juice, cabbage, onion, carrots, ...</td>\n",
       "      <td>Mix everything together and bring to a boil. R...</td>\n",
       "      <td>4.5</td>\n",
       "      <td>11.0</td>\n",
       "      <td>30</td>\n",
       "      <td>20</td>\n",
       "      <td>50</td>\n",
       "      <td>Cabbage Soup Vegetable Make and share this Cab...</td>\n",
       "      <td>Cabbage Soup Vegetable Make share Cabbage Soup...</td>\n",
       "    </tr>\n",
       "  </tbody>\n",
       "</table>\n",
       "</div>"
      ],
      "text/plain": [
       "                                Name   RecipeCategory  \\\n",
       "0  Low-Fat Berry Blue Frozen Dessert  Frozen Desserts   \n",
       "1                            Biryani   Chicken Breast   \n",
       "2                      Best Lemonade        Beverages   \n",
       "3     Carina's Tofu-Vegetable Kebabs         Soy/Tofu   \n",
       "4                       Cabbage Soup        Vegetable   \n",
       "\n",
       "                                         Description  \\\n",
       "0  Make and share this Low-Fat Berry Blue Frozen ...   \n",
       "1  Make and share this Biryani recipe from Food.com.   \n",
       "2  This is from one of my  first Good House Keepi...   \n",
       "3  This dish is best prepared a day in advance to...   \n",
       "4  Make and share this Cabbage Soup recipe from F...   \n",
       "\n",
       "                                     Keywords_string  \\\n",
       "0  Dessert Low Protein Low Cholesterol Healthy Fr...   \n",
       "1  Chicken Thigh & Leg Chicken Poultry Meat Asian...   \n",
       "2  Low Protein Low Cholesterol Healthy Summer < 6...   \n",
       "3  Beans Vegetable Low Cholesterol Weeknight Broi...   \n",
       "4  Low Protein Vegan Low Cholesterol Healthy Wint...   \n",
       "\n",
       "                          RecipeIngredientQuantities  \\\n",
       "0                                     [4, 1⁄4, 1, 1]   \n",
       "1  [1, 4, 2, 2, 8, 1⁄4, 8, 1⁄2, 1, 1, 1⁄4, 1⁄4, 1...   \n",
       "2                 [1 1⁄2, 1, None, 1 1⁄2, None, 3⁄4]   \n",
       "3  [12, 1, 2, 1, 10, 1, 3, 2, 2, 2, 1, 2, 1⁄2, 1⁄...   \n",
       "4                                   [46, 4, 1, 2, 1]   \n",
       "\n",
       "                               RecipeIngredientParts  \\\n",
       "0  [blueberries, granulated sugar, vanilla yogurt...   \n",
       "1  [saffron, milk, hot green chili peppers, onion...   \n",
       "2  [sugar, lemons, rind of, lemon, zest of, fresh...   \n",
       "3  [extra firm tofu, eggplant, zucchini, mushroom...   \n",
       "4  [plain tomato juice, cabbage, onion, carrots, ...   \n",
       "\n",
       "                                  RecipeInstructions  AggregatedRating  \\\n",
       "0  Toss 2 cups berries with sugar. Let stand for ...               4.5   \n",
       "1  Soak saffron in warm milk for 5 minutes and pu...               3.0   \n",
       "2  Into a 1 quart Jar with tight fitting lid, put...               4.5   \n",
       "3  Drain the tofu, carefully squeezing out excess...               4.5   \n",
       "4  Mix everything together and bring to a boil. R...               4.5   \n",
       "\n",
       "   ReviewCount  CookTime_Minutes  PrepTime_Minutes  TotalTime_Minutes  \\\n",
       "0          4.0              1440                45               1485   \n",
       "1          1.0                25               240                265   \n",
       "2         10.0                 5                30                 35   \n",
       "3          2.0                20              1440               1460   \n",
       "4         11.0                30                20                 50   \n",
       "\n",
       "                                   Combined_Features  \\\n",
       "0  Low-Fat Berry Blue Frozen Dessert Frozen Desse...   \n",
       "1  Biryani Chicken Breast Make and share this Bir...   \n",
       "2  Best Lemonade Beverages This is from one of my...   \n",
       "3  Carina's Tofu-Vegetable Kebabs Soy/Tofu This d...   \n",
       "4  Cabbage Soup Vegetable Make and share this Cab...   \n",
       "\n",
       "                             Combined_Features_Clean  \n",
       "0  Low-Fat Berry Blue Frozen Dessert Frozen Desse...  \n",
       "1  Biryani Chicken Breast Make share Biryani reci...  \n",
       "2  Best Lemonade Beverages one first Good House K...  \n",
       "3  Carina's Tofu-Vegetable Kebabs Soy/Tofu dish b...  \n",
       "4  Cabbage Soup Vegetable Make share Cabbage Soup...  "
      ]
     },
     "execution_count": 4,
     "metadata": {},
     "output_type": "execute_result"
    }
   ],
   "source": [
    "file_key = 'recipes_w_cleaning_time_combined_features.parquet'\n",
    "s3.download_file(bucket_name, file_key, f'../data/{file_key}')\n",
    "df = pd.read_parquet(f'../data/{file_key}')\n",
    "\n",
    "df.head()"
   ]
  },
  {
   "cell_type": "code",
   "execution_count": 5,
   "id": "3be4597c-10fd-4e3a-8134-e2ae184851cd",
   "metadata": {},
   "outputs": [],
   "source": [
    "df = df.dropna(subset=[\"AggregatedRating\"])"
   ]
  },
  {
   "cell_type": "code",
   "execution_count": 6,
   "id": "c42abeac-3ebd-4fda-a7d5-e43940aa503e",
   "metadata": {
    "tags": []
   },
   "outputs": [
    {
     "data": {
      "text/plain": [
       "Index(['Name', 'RecipeCategory', 'Description', 'Keywords_string',\n",
       "       'RecipeIngredientQuantities', 'RecipeIngredientParts',\n",
       "       'RecipeInstructions', 'AggregatedRating', 'ReviewCount',\n",
       "       'CookTime_Minutes', 'PrepTime_Minutes', 'TotalTime_Minutes',\n",
       "       'Combined_Features', 'Combined_Features_Clean'],\n",
       "      dtype='object')"
      ]
     },
     "execution_count": 6,
     "metadata": {},
     "output_type": "execute_result"
    }
   ],
   "source": [
    "df.columns"
   ]
  },
  {
   "cell_type": "code",
   "execution_count": 7,
   "id": "68483703-908e-4f6e-892b-305948d7562d",
   "metadata": {
    "tags": []
   },
   "outputs": [
    {
     "data": {
      "text/plain": [
       "\"Low-Fat Berry Blue Frozen Dessert Frozen Desserts Make share Low-Fat Berry Blue Frozen Dessert recipe Food.com. Toss 2 cups berries sugar. Let stand 45 minutes, stirring occasionally. Transfer berry-sugar mixture food processor. Add yogurt process smooth. Strain fine sieve. Pour baking pan (or transfer ice cream maker process according manufacturers' directions). Freeze uncovered edges solid centre soft. Transfer processor blend smooth again. Return pan freeze edges solid. Transfer processor blend smooth again. Fold remaining 2 cups blueberries. Pour plastic mold freeze overnight. Let soften slightly serve. Dessert Low Protein Low Cholesterol Healthy Free Of... Summer Weeknight Freezer Easy\""
      ]
     },
     "execution_count": 7,
     "metadata": {},
     "output_type": "execute_result"
    }
   ],
   "source": [
    "str(df.iloc[0]['Combined_Features_Clean'])"
   ]
  },
  {
   "cell_type": "markdown",
   "id": "74654ec1-1620-4b12-abfa-74ce789a79ce",
   "metadata": {},
   "source": [
    "### Load data into  documents"
   ]
  },
  {
   "cell_type": "code",
   "execution_count": 8,
   "id": "81165ce4-c17b-44df-a88a-319b4e590105",
   "metadata": {
    "tags": []
   },
   "outputs": [],
   "source": [
    "from langchain_community.embeddings import HuggingFaceEmbeddings\n",
    "from langchain_text_splitters import RecursiveCharacterTextSplitter\n",
    "from langchain.docstore.document import Document\n",
    "import json"
   ]
  },
  {
   "cell_type": "code",
   "execution_count": 9,
   "id": "ef713c37-2e0f-45ba-8717-de22afbad5b7",
   "metadata": {
    "tags": []
   },
   "outputs": [
    {
     "name": "stderr",
     "output_type": "stream",
     "text": [
      "/home/reson/miniconda3/envs/LangChain/lib/python3.12/site-packages/langchain_core/_api/deprecation.py:139: LangChainDeprecationWarning: The class `HuggingFaceEmbeddings` was deprecated in LangChain 0.2.2 and will be removed in 0.3.0. An updated version of the class exists in the langchain-huggingface package and should be used instead. To use it run `pip install -U langchain-huggingface` and import as `from langchain_huggingface import HuggingFaceEmbeddings`.\n",
      "  warn_deprecated(\n",
      "/home/reson/miniconda3/envs/LangChain/lib/python3.12/site-packages/sentence_transformers/cross_encoder/CrossEncoder.py:11: TqdmWarning: IProgress not found. Please update jupyter and ipywidgets. See https://ipywidgets.readthedocs.io/en/stable/user_install.html\n",
      "  from tqdm.autonotebook import tqdm, trange\n",
      "/home/reson/miniconda3/envs/LangChain/lib/python3.12/site-packages/torch/cuda/__init__.py:141: UserWarning: CUDA initialization: CUDA unknown error - this may be due to an incorrectly set up environment, e.g. changing env variable CUDA_VISIBLE_DEVICES after program start. Setting the available devices to be zero. (Triggered internally at ../c10/cuda/CUDAFunctions.cpp:108.)\n",
      "  return torch._C._cuda_getDeviceCount() > 0\n"
     ]
    }
   ],
   "source": [
    "embedding_model = HuggingFaceEmbeddings(model_name=\"multi-qa-mpnet-base-dot-v1\")"
   ]
  },
  {
   "cell_type": "code",
   "execution_count": 10,
   "id": "05b5985a-4bdc-44cf-b888-9ddc76abb89e",
   "metadata": {
    "tags": []
   },
   "outputs": [],
   "source": [
    "def create_documents(df):\n",
    "    df_copy = df.copy(deep=True)\n",
    "    df = df.dropna(subset=[\"AggregatedRating\"])\n",
    "    df_copy = df_copy.fillna(\"\")  # Convert NA values to empty strings\n",
    "    df_copy = df_copy.astype(str)  # Cast all columns to string\n",
    "\n",
    "    documents = []\n",
    "    for _index, row in df_copy.iterrows():\n",
    "        metadata = {\n",
    "            \"name\": row[\"Name\"] if row[\"Name\"] else \"No Name Available\",\n",
    "            \"description\": (\n",
    "                row[\"Description\"] if row[\"Description\"] else \"No Description Available\"\n",
    "            ),\n",
    "            \"recipe_category\": (\n",
    "                row[\"RecipeCategory\"]\n",
    "                if row[\"RecipeCategory\"]\n",
    "                else \"No Category Available\"\n",
    "            ),\n",
    "            \"keywords\": (\n",
    "                row[\"Keywords_string\"]\n",
    "                if row[\"Keywords_string\"]\n",
    "                else \"No Keywords Available\"\n",
    "            ),\n",
    "            \"recipe_ingredient_parts\": (\n",
    "                row[\"RecipeIngredientParts\"]\n",
    "                if row[\"RecipeIngredientParts\"]\n",
    "                else \"No Recipe Ingredient Parts Available\"\n",
    "            ),\n",
    "            \"recipe_instructions\": (\n",
    "                row[\"RecipeInstructions\"]\n",
    "                if row[\"RecipeInstructions\"]\n",
    "                else \"No Recipe Instructions Available\"\n",
    "            ),\n",
    "            \"aggregated_rating\": (\n",
    "                row[\"AggregatedRating\"]\n",
    "                if row[\"AggregatedRating\"]\n",
    "                else \"No Rating Available\"\n",
    "            ),\n",
    "            \"review_count\": (\n",
    "                row[\"ReviewCount\"] if row[\"ReviewCount\"] else \"No Reviews Available\"\n",
    "            ),\n",
    "        }\n",
    "\n",
    "        # List of fields to be included in the document content\n",
    "        content_field = (\n",
    "            row[\"Combined_Features\"]\n",
    "            if row[\"Combined_Features\"]\n",
    "            else \"No Content Available\"\n",
    "        )\n",
    "\n",
    "        # Create the document content using the combined features field\n",
    "        doc = Document(page_content=content_field, metadata=metadata)\n",
    "        documents.append(doc)\n",
    "\n",
    "    return documents"
   ]
  },
  {
   "cell_type": "code",
   "execution_count": 18,
   "id": "370f947d-4c0d-41dd-a2d0-7148973f7b25",
   "metadata": {},
   "outputs": [
    {
     "data": {
      "text/plain": [
       "(100, 14)"
      ]
     },
     "execution_count": 18,
     "metadata": {},
     "output_type": "execute_result"
    }
   ],
   "source": [
    "max_num_docs = 100\n",
    "df_subset = df.sample(n=max_num_docs)\n",
    "df_subset.shape"
   ]
  },
  {
   "cell_type": "code",
   "execution_count": 19,
   "id": "2e316c63-2897-4c89-aa24-562bcab03ba0",
   "metadata": {
    "tags": []
   },
   "outputs": [],
   "source": [
    "documents = create_documents(df_subset)"
   ]
  },
  {
   "cell_type": "code",
   "execution_count": 20,
   "id": "db462d95-67b8-4ec5-b379-1a98666a0dc0",
   "metadata": {
    "tags": []
   },
   "outputs": [
    {
     "data": {
      "text/plain": [
       "Document(metadata={'name': 'picadillo', 'description': 'Make and share this picadillo recipe from Food.com.', 'recipe_category': 'Meat', 'keywords': 'Low Cholesterol Kosher < 60 Mins Stove Top', 'recipe_ingredient_parts': \"['olive oil' 'ground beef' 'onions' 'chili powder' 'pumpkin pie spice'\\n 'diced tomatoes' 'chicken broth' 'raisins' 'green olives' 'cider vinegar']\", 'recipe_instructions': 'heat oil in skillet, add beef and onion, cook until browned, breaking up big chunks, drain off fat. add chili powder and pumpkin pie spice, stir well. add tomatoes, broth, raisins and olives, and vinegar. simmer for 15 minutes until thickened and flavors are blended. season to taste with salt& pepper, garnish with almonds.', 'aggregated_rating': '4.5', 'review_count': '5.0'}, page_content='picadillo Meat Make and share this picadillo recipe from Food.com. heat oil in skillet, add beef and onion, cook until browned, breaking up big chunks, drain off fat. add chili powder and pumpkin pie spice, stir well. add tomatoes, broth, raisins and olives, and vinegar. simmer for 15 minutes until thickened and flavors are blended. season to taste with salt& pepper, garnish with almonds. Low Cholesterol Kosher < 60 Mins Stove Top')"
      ]
     },
     "execution_count": 20,
     "metadata": {},
     "output_type": "execute_result"
    }
   ],
   "source": [
    "documents[0]"
   ]
  },
  {
   "cell_type": "code",
   "execution_count": 21,
   "id": "d9f1730d-7026-49f9-99bb-8afc0882af79",
   "metadata": {},
   "outputs": [
    {
     "data": {
      "text/plain": [
       "{'name': 'picadillo',\n",
       " 'description': 'Make and share this picadillo recipe from Food.com.',\n",
       " 'recipe_category': 'Meat',\n",
       " 'keywords': 'Low Cholesterol Kosher < 60 Mins Stove Top',\n",
       " 'recipe_ingredient_parts': \"['olive oil' 'ground beef' 'onions' 'chili powder' 'pumpkin pie spice'\\n 'diced tomatoes' 'chicken broth' 'raisins' 'green olives' 'cider vinegar']\",\n",
       " 'recipe_instructions': 'heat oil in skillet, add beef and onion, cook until browned, breaking up big chunks, drain off fat. add chili powder and pumpkin pie spice, stir well. add tomatoes, broth, raisins and olives, and vinegar. simmer for 15 minutes until thickened and flavors are blended. season to taste with salt& pepper, garnish with almonds.',\n",
       " 'aggregated_rating': '4.5',\n",
       " 'review_count': '5.0'}"
      ]
     },
     "execution_count": 21,
     "metadata": {},
     "output_type": "execute_result"
    }
   ],
   "source": [
    "documents[0].metadata"
   ]
  },
  {
   "cell_type": "code",
   "execution_count": 22,
   "id": "d304a23c-f1f5-4da0-9dc5-99fed335ad30",
   "metadata": {},
   "outputs": [
    {
     "data": {
      "text/plain": [
       "'picadillo Meat Make and share this picadillo recipe from Food.com. heat oil in skillet, add beef and onion, cook until browned, breaking up big chunks, drain off fat. add chili powder and pumpkin pie spice, stir well. add tomatoes, broth, raisins and olives, and vinegar. simmer for 15 minutes until thickened and flavors are blended. season to taste with salt& pepper, garnish with almonds. Low Cholesterol Kosher < 60 Mins Stove Top'"
      ]
     },
     "execution_count": 22,
     "metadata": {},
     "output_type": "execute_result"
    }
   ],
   "source": [
    "documents[0].page_content"
   ]
  },
  {
   "cell_type": "code",
   "execution_count": 23,
   "id": "8d878b08-c2fc-4528-b26f-3a33d7856465",
   "metadata": {},
   "outputs": [
    {
     "data": {
      "text/plain": [
       "100"
      ]
     },
     "execution_count": 23,
     "metadata": {},
     "output_type": "execute_result"
    }
   ],
   "source": [
    "len(documents)"
   ]
  },
  {
   "cell_type": "code",
   "execution_count": 24,
   "id": "4cb92d4b-2aba-4e56-ac81-b0f743c139a3",
   "metadata": {
    "tags": []
   },
   "outputs": [],
   "source": [
    "from langchain_community.vectorstores import Qdrant\n",
    "\n",
    "qdrant_store = Qdrant.from_documents(documents,\n",
    "    embedding_model,\n",
    "    location=\":memory:\",\n",
    ")"
   ]
  },
  {
   "cell_type": "code",
   "execution_count": 25,
   "id": "5152d45a-a16c-4efd-9ff3-b1b9464ba304",
   "metadata": {
    "tags": []
   },
   "outputs": [],
   "source": [
    "qdrant_retriever = qdrant_store.as_retriever()"
   ]
  },
  {
   "cell_type": "code",
   "execution_count": 26,
   "id": "a0e04d8b-4bb7-46e0-a2b1-22e4283d9238",
   "metadata": {
    "tags": []
   },
   "outputs": [],
   "source": [
    "# Converts a list of document objects into a string with its metadata\n",
    "def format_docs(docs):\n",
    "    formatted_docs = []\n",
    "    excluded_columns = [\"name\", \"recipe_category\", \"description\"]\n",
    "\n",
    "    for doc in docs:\n",
    "        doc_content = doc.page_content\n",
    "        metadata_content = \"\\n\".join(\n",
    "            f\"{key}: {value}\"\n",
    "            for key, value in doc.metadata.items()\n",
    "            if key not in excluded_columns and value != \"No Data Available\"\n",
    "        )\n",
    "        formatted_doc = f\"{doc_content}\\n\\nMetadata:\\n{metadata_content}\"\n",
    "        formatted_docs.append(formatted_doc)\n",
    "\n",
    "    content = \"\\n\\n---\\n\\n\".join(formatted_docs)\n",
    "    return content\n"
   ]
  },
  {
   "cell_type": "markdown",
   "id": "9cc8df35-7bbc-43fc-9766-99383f3c5349",
   "metadata": {},
   "source": [
    "### Agent function definitions"
   ]
  },
  {
   "cell_type": "code",
   "execution_count": 27,
   "id": "2dc1eaa0-d2bc-4b57-ad27-95301457e870",
   "metadata": {},
   "outputs": [],
   "source": [
    "recipe_db_query_tool = {\n",
    "  \"name\": \"query_food_recipe_vector_db\",\n",
    "  \"description\": \"\"\"\n",
    "  Queries the vector database containing food recipes to retrieve the most relevant documents. \n",
    "  This function allows the model to generate and execute multiple queries as necessary to gather comprehensive context,\n",
    "  ensuring accurate and thorough responses to user queries specifically related to recipes.\n",
    "  Each recipe document includes details such as name, description, recipe category, ingredients, instructions, cook time, \n",
    "  community rating, and review count\n",
    "  \"\"\",\n",
    "  \"input_schema\": {\n",
    "    \"type\": \"object\",\n",
    "    \"properties\": {\n",
    "      \"queries\": {\n",
    "        \"type\": \"array\",\n",
    "        \"items\": {\n",
    "          \"type\": \"string\",\n",
    "          \"description\": \"A query generated by the model to run against the vector database to fetch recipe documents. This should be used to fetch specific recipes, ingredients, preparation steps, and related metadata.\"\n",
    "        },\n",
    "        \"description\": \"A list of queries generated by the model to run against the vector database to fetch recipe documents.\"\n",
    "      }\n",
    "    },\n",
    "    \"required\": [\"queries\"]\n",
    "  }\n",
    "}\n"
   ]
  },
  {
   "cell_type": "code",
   "execution_count": 28,
   "id": "66b8507a-54cb-4779-841f-9cd6dfd1f6e3",
   "metadata": {},
   "outputs": [],
   "source": [
    "google_web_search_tool = {\n",
    "  \"name\": \"google_web_search\",\n",
    "  \"description\": \"\"\"\n",
    "  Queries the Google web search engine to retrieve relevant information from the web. \n",
    "  This function allows the model to search for information it is unsure about, such as \n",
    "  ingredient substitutions, cooking techniques, nutritional information, or other specific\n",
    "  knowledge not contained within the recipe vector database, providing accurate and up-to-date \n",
    "  answers to user queries.\n",
    "  \"\"\",\n",
    "  \"input_schema\": {\n",
    "    \"type\": \"object\",\n",
    "    \"properties\": {\n",
    "      \"queries\": {\n",
    "        \"type\": \"array\",\n",
    "        \"items\": {\n",
    "          \"type\": \"string\",\n",
    "          \"description\": \"A query generated by the model to search on Google for relevant information, particularly for details outside the scope of the recipe vector database, such as ingredient substitutions or cooking techniques.\"\n",
    "        },\n",
    "        \"description\": \"A list of queries generated by the model to search on Google for relevant information.\"\n",
    "      }\n",
    "    },\n",
    "    \"required\": [\"queries\"]\n",
    "  }\n",
    "}\n"
   ]
  },
  {
   "cell_type": "markdown",
   "id": "64c1e9c9-88bd-446a-a0f5-a7ed5bcf8972",
   "metadata": {},
   "source": [
    "### Init bedrock model, define util to stateless messaging, no fn calling"
   ]
  },
  {
   "cell_type": "code",
   "execution_count": 60,
   "id": "91b6a9d4-d05c-4340-8281-d050403b0a89",
   "metadata": {
    "tags": []
   },
   "outputs": [],
   "source": [
    "bedrock_client = boto3.client('bedrock-runtime', region_name=\"us-east-1\")"
   ]
  },
  {
   "cell_type": "code",
   "execution_count": 84,
   "id": "e65cefc3-4a52-4985-b7da-b97224a7f356",
   "metadata": {},
   "outputs": [],
   "source": [
    "baseline_sys_prompt = \"\"\"\n",
    "You are a helpful assistant and expert in cooking recipes.\n",
    "\n",
    "Before answering, follow these requirements:\n",
    "\n",
    "- Always make at least one call to query_food_recipe_vector_db to retrieve the relevant context of recipes and ingredients to generate an informed and high-quality response to the user prompt, specifically for retrieving recipes, ingredients, preparation steps, and related metadata.\n",
    "\n",
    "- NEVER exceed a MAXIMUM of 3 calls to the query_food_recipe_vector_db function.\n",
    "\n",
    "- If you encounter a query related to ingredient substitutions, preparation techniques, nutritional information, or other specific knowledge not contained within the recipe database, make a call to the google_web_search function to look up relevant information.\n",
    "\n",
    "- Do not use the google_web_search function to look up entire recipes. It should only be used for supplementary information not found in the recipe database.\n",
    "\n",
    "- Analyze the user's requirements and NEVER provide a recipe that violates ANY of the user's requirements.\n",
    "\n",
    "- In your final response, NEVER include any XML tags with information about your thoughts. It is okay to include XML and analysis text in any message except your final one with the recipes and instructions.\n",
    "\n",
    "Provide a response to the user prompt about food with recommended recipes and instructions.\n",
    "\"\"\""
   ]
  },
  {
   "cell_type": "code",
   "execution_count": 85,
   "id": "ed11c7ae-7ac1-4dab-b889-fad779b36280",
   "metadata": {
    "tags": []
   },
   "outputs": [],
   "source": [
    "MODEL_ID = \"anthropic.claude-3-sonnet-20240229-v1:0\"\n",
    "\n",
    "def query_bedrock_llm(messages):\n",
    "    response = bedrock_client.invoke_model(\n",
    "        modelId=MODEL_ID,\n",
    "        body=json.dumps({\n",
    "            'anthropic_version': 'bedrock-2023-05-31', # This is required to use chat style messages object \n",
    "            'system': baseline_sys_prompt,\n",
    "            'messages': messages,\n",
    "            'max_tokens': 3000,\n",
    "            \"tools\": [recipe_db_query_tool, google_web_search_tool],\n",
    "\n",
    "            # This config forces the model to always call the recipe db query tool atleast once \n",
    "            # https://docs.anthropic.com/en/docs/build-with-claude/tool-use#controlling-claudes-output\n",
    "            # \"tool_choice\": {\n",
    "            #     \"type\": \"tool\",\n",
    "            #     \"name\": recipe_db_query_tool['name']\n",
    "            # },\n",
    "            \n",
    "            # TODO: TUNE THESE VALUES\n",
    "            'temperature': 0.1, \n",
    "            'top_p': 0.9\n",
    "        })\n",
    "    )\n",
    "    response_body = json.loads(response.get('body').read())\n",
    "    \n",
    "    return response_body"
   ]
  },
  {
   "cell_type": "markdown",
   "id": "3ad71bb4-54a7-4037-94c3-72e7340a3bdc",
   "metadata": {},
   "source": [
    "### Implement continuous dialogue and function calling"
   ]
  },
  {
   "cell_type": "code",
   "execution_count": 86,
   "id": "36cdb25c-0aff-4170-9736-a0c56aa0e53a",
   "metadata": {},
   "outputs": [],
   "source": [
    "def generate_message(prompt):\n",
    "    if type(prompt) != str:\n",
    "        raise ValueError(f'Tried to call message generate_message with non-string input: {prompt}')\n",
    "        \n",
    "    return {\n",
    "        \"role\": \"user\",\n",
    "        \"content\": [\n",
    "            {\n",
    "                \"type\": \"text\",\n",
    "                \"text\": prompt\n",
    "            }\n",
    "        ]\n",
    "    }"
   ]
  },
  {
   "cell_type": "code",
   "execution_count": 87,
   "id": "0aafdca2-4248-4780-8c0f-4cbdd2209889",
   "metadata": {},
   "outputs": [],
   "source": [
    "def generate_tool_message(fn_results):\n",
    "    \n",
    "    return {\n",
    "        \"role\": \"user\",\n",
    "        \"content\": fn_results\n",
    "    }"
   ]
  },
  {
   "cell_type": "code",
   "execution_count": 88,
   "id": "3e1efe9b-eee3-402a-b606-df6c536b9990",
   "metadata": {},
   "outputs": [],
   "source": [
    "import json\n",
    "\n",
    "# Adds the current prompt as a new message to the chat history\n",
    "# and calls bedrock with the entire chat history\n",
    "# Returns the response body, llm's message, and new chat history\n",
    "\n",
    "'''\n",
    "Example response body structure:\n",
    "{\n",
    "   \"id\":\"msg_bdrk_01C5GGkafK7aL3P5i3rsMr1p\",\n",
    "   \"type\":\"message\",\n",
    "   \"role\":\"assistant\",\n",
    "   \"model\":\"claude-3-sonnet-20240229\",\n",
    "   \"content\":[\n",
    "      {\n",
    "         \"type\":\"tool_use\",\n",
    "         \"id\":\"toolu_bdrk_01CQiYa8BMJfpJC68DuRdwQn\",\n",
    "         \"name\":\"query_food_recipe_vector_db\",\n",
    "         \"input\":{\n",
    "            \"queries\":[\n",
    "               \"healthy fish dinner recipe under 500 calories\",\n",
    "               \"fish dinner recipe for two under 40 minutes\"\n",
    "            ]\n",
    "         }\n",
    "      }\n",
    "   ],\n",
    "   \"stop_reason\":\"tool_use\",\n",
    "   \"stop_sequence\":\"None\",\n",
    "   \"usage\":{\n",
    "      \"input_tokens\":559,\n",
    "      \"output_tokens\":55\n",
    "   }\n",
    "}\n",
    "'''\n",
    "def message_handler(existing_chat_history, prompt, is_tool_message=False):\n",
    "    # Fn results is an array of tool response objects\n",
    "    # message structure needs to reflect that\n",
    "    if is_tool_message:\n",
    "        user_message = generate_tool_message(prompt)\n",
    "    else:\n",
    "        user_message = generate_message(prompt)\n",
    "    existing_chat_history.append(user_message)\n",
    "\n",
    "    # Parse the response content\n",
    "    response_body = query_bedrock_llm(existing_chat_history)\n",
    "    llm_message = {\n",
    "        'role': response_body['role'],\n",
    "        'content': response_body['content']\n",
    "    }\n",
    "\n",
    "    # Add the response message to the chat history\n",
    "    existing_chat_history.append(llm_message)\n",
    "    \n",
    "    return [response_body, llm_message, existing_chat_history]"
   ]
  },
  {
   "cell_type": "code",
   "execution_count": 89,
   "id": "54251908-abed-4098-88db-dae841ce9875",
   "metadata": {},
   "outputs": [],
   "source": [
    "# Executes a list of queries and returns a list of document results\n",
    "def handle_vector_db_queries(queries, retriever=qdrant_retriever): \n",
    "    context_docs = []\n",
    "    for query in queries:\n",
    "        query_results = retriever.invoke(query)\n",
    "        context_docs.extend(query_results)\n",
    "\n",
    "    return context_docs"
   ]
  },
  {
   "cell_type": "code",
   "execution_count": 90,
   "id": "266a9b15-08a8-420b-be3b-b09b9e8f5928",
   "metadata": {},
   "outputs": [],
   "source": [
    "import requests\n",
    "\n",
    "\"\"\"\n",
    "Executes a list of queries using the Google Custom Search API and returns a list of search results.\n",
    "\n",
    "Returns:\n",
    "A dictionary where each query maps to a list of search results. Each search result contains the title, and snippet.\n",
    "\"\"\"\n",
    "def handle_google_web_search(queries, api_key=get_secret('google_search_api_key'), cse_id='b20454e29b3b14095', num_results=10):\n",
    "    # The base URL for the Google Custom Search API\n",
    "    url = 'https://www.googleapis.com/customsearch/v1'\n",
    "    \n",
    "    all_search_results = {}\n",
    "    \n",
    "    for query in queries:\n",
    "        params = {\n",
    "            'key': api_key,\n",
    "            'cx': cse_id,\n",
    "            'q': query,\n",
    "            'num': num_results\n",
    "        }\n",
    "        response = requests.get(url, params=params)\n",
    "        \n",
    "        # Raise an exception if the request was unsuccessful\n",
    "        response.raise_for_status()\n",
    "        \n",
    "        # Parse the JSON response\n",
    "        search_results = response.json()\n",
    "        \n",
    "        # Extract the relevant information from the search results\n",
    "        results = []\n",
    "        for item in search_results.get('items', []):\n",
    "            result = {\n",
    "                'title': item.get('title'),\n",
    "                # 'url': item.get('link'),\n",
    "                'snippet': item.get('snippet')\n",
    "            }\n",
    "            results.append(result)\n",
    "        \n",
    "        # Map the query to its search results\n",
    "        all_search_results[query] = results\n",
    "    \n",
    "    return all_search_results\n"
   ]
  },
  {
   "cell_type": "code",
   "execution_count": 91,
   "id": "a7daf0c5-eca6-496d-a9d3-97d7d472a086",
   "metadata": {},
   "outputs": [],
   "source": [
    "# Takes as an argument to LLM message content, returns a list of the fn result objects\n",
    "google_search_api_key = get_secret('google_search_api_key')\n",
    "\n",
    "def handle_function_calls(tool_call_message_content):\n",
    "    tool_results = []\n",
    "    \n",
    "    for tool_call in tool_call_message_content:\n",
    "        # Only process messages from the LLM that are function calls\n",
    "        if tool_call['type'] != 'tool_use':\n",
    "            continue\n",
    "        fn_id = tool_call['id']\n",
    "        fn_name = tool_call['name']\n",
    "        fn_args = tool_call['input']\n",
    "        fn_result = {\n",
    "            \"type\": \"tool_result\",\n",
    "            \"tool_use_id\": fn_id,\n",
    "        }   \n",
    "\n",
    "        if fn_name == 'query_food_recipe_vector_db':\n",
    "            if 'queries' not in fn_args:\n",
    "                print(f\"ERROR: Tried to call {fn_name} with invalid args {fn_args}, skipping..\")\n",
    "                fn_result['content'] = \"\"\n",
    "                fn_result['is_error'] = True\n",
    "                tool_results.append(fn_result)\n",
    "                continue\n",
    "                \n",
    "            print(f\"Model called {fn_name} with args {fn_args}\")\n",
    "            context_docs = handle_vector_db_queries(fn_args['queries'])\n",
    "            context_str = format_docs(context_docs)\n",
    "            fn_result['content'] = context_str\n",
    "            tool_results.append(fn_result)\n",
    "            \n",
    "        # TODO: handle web search invocation here\n",
    "        elif fn_name =='google_web_search':\n",
    "            if 'queries' not in fn_args:\n",
    "                print(f\"ERROR: Tried to call {fn_name} with invalid args {fn_args}, skipping..\")\n",
    "                fn_result['content'] = \"\"\n",
    "                fn_result['is_error'] = True\n",
    "                tool_results.append(fn_result)\n",
    "                continue\n",
    "                \n",
    "            print(f\"Model called {fn_name} with args {fn_args}\")\n",
    "            search_results = handle_google_web_search(fn_args['queries'], google_search_api_key)\n",
    "            search_results_str = json.dumps(search_results)\n",
    "            fn_result['content'] = search_results_str\n",
    "            tool_results.append(fn_result)  \n",
    "        \n",
    "        else:\n",
    "            print(f\"ERROR: Attempted call to unknown function {fn_name}\")\n",
    "            fn_result['content'] = \"\"\n",
    "            fn_result['is_error'] = True\n",
    "            tool_results.append(fn_result)\n",
    "\n",
    "    return tool_results"
   ]
  },
  {
   "cell_type": "markdown",
   "id": "7e719297-c2db-4068-898d-81ea89ce4551",
   "metadata": {},
   "source": [
    "### Run dynamic query function calling with test queries"
   ]
  },
  {
   "cell_type": "code",
   "execution_count": 92,
   "id": "33afd461-f722-404e-bc42-617a953e559d",
   "metadata": {},
   "outputs": [],
   "source": [
    "'''\n",
    "Example payload structure of response_body:\n",
    "\n",
    "{'id': 'msg_bdrk_01REesjegNiLteurBoxW7pSt',\n",
    " 'type': 'message',\n",
    " 'role': 'assistant',\n",
    " 'model': 'claude-3-sonnet-20240229',\n",
    " 'content': [{'type': 'tool_use',\n",
    "   'id': 'toolu_bdrk_01191W2FuAFTRoDqKKeJSmmn',\n",
    "   'name': 'query_food_recipe_vector_db',\n",
    "   'input': {'queries': ['thai food',\n",
    "     'peanut free',\n",
    "     'low carb',\n",
    "     'not spicy']}}],\n",
    " 'stop_reason': 'tool_use',\n",
    " 'stop_sequence': None,\n",
    " 'usage': {'input_tokens': 573, 'output_tokens': 52}}\n",
    "\n",
    "\n",
    "Example payload structure of llm_message['content']:\n",
    "\n",
    "[{'type': 'tool_use',\n",
    "   'id': 'toolu_bdrk_01191W2FuAFTRoDqKKeJSmmn',\n",
    "   'name': 'query_food_recipe_vector_db',\n",
    "   'input': {'queries': ['thai food',\n",
    "     'peanut free',\n",
    "     'low carb',\n",
    "     'not spicy']}}]\n",
    "'''\n",
    "\n",
    "# This function is the entry point to invoke the LLM with support for function calling\n",
    "# parsing output, calling requested functions, sending output is handled here\n",
    "def run_chat_loop(prompt):\n",
    "    print(f\"[User]: {prompt}\")\n",
    "    response_body, llm_message, chat_history = message_handler(existing_chat_history=[], prompt=prompt)\n",
    "    \n",
    "    \n",
    "    # The model wants to call tools, call them, provide response, repeat until content is generated\n",
    "    while response_body['stop_reason'] == 'tool_use':\n",
    "        fn_results = handle_function_calls(tool_call_message_content=llm_message['content'])\n",
    "\n",
    "        # Send function results back to LLM as a new message with the existing chat history\n",
    "        response_body, llm_message, chat_history = message_handler(\n",
    "            existing_chat_history=chat_history, \n",
    "            prompt=fn_results,\n",
    "            is_tool_message=True\n",
    "        )\n",
    "\n",
    "    # The model is done calling tools\n",
    "    print(f\"\\n[Model]: {llm_message['content'][0]['text']}\")\n"
   ]
  },
  {
   "cell_type": "markdown",
   "id": "bedeec58-f472-460a-a240-86653a1275bd",
   "metadata": {},
   "source": [
    "### Run example queries that should trigger both tool calls"
   ]
  },
  {
   "cell_type": "code",
   "execution_count": 94,
   "id": "02ad1684-8f23-4451-9797-546284f9a556",
   "metadata": {},
   "outputs": [
    {
     "name": "stdout",
     "output_type": "stream",
     "text": [
      "[User]: Recipe for beef stew, and what wine pairs well with it?\n",
      "Model called query_food_recipe_vector_db with args {'queries': ['beef stew recipe']}\n",
      "Model called google_web_search with args {'queries': ['what wine goes well with beef stew']}\n",
      "\n",
      "[Model]: <search_quality_reflection>\n",
      "The web search results provide helpful recommendations for wines that pair well with beef stew, including full-bodied reds like Cabernet Sauvignon, Merlot, Malbec, and Bordeaux blends. I now have enough information to provide a complete answer to the original query.\n",
      "</search_quality_reflection>\n",
      "\n",
      "<search_quality_score>5</search_quality_score>\n",
      "\n",
      "<result>\n",
      "Here is a recipe for classic beef stew, along with wine pairing recommendations:\n",
      "\n",
      "Beef Stew Recipe:\n",
      "\n",
      "Ingredients:\n",
      "- 2 lbs beef chuck roast or stew meat, cut into 1-inch cubes \n",
      "- 3 tbsp olive oil\n",
      "- 1 onion, diced \n",
      "- 3 carrots, sliced\n",
      "- 3 celery stalks, sliced\n",
      "- 3 cloves garlic, minced\n",
      "- 3 tbsp tomato paste\n",
      "- 1 cup red wine (like Cabernet Sauvignon or Merlot)\n",
      "- 3 cups beef broth\n",
      "- 2 bay leaves\n",
      "- 1 tsp dried thyme\n",
      "- Salt and pepper to taste\n",
      "- 2 lbs potatoes, cut into 1-inch pieces\n",
      "\n",
      "Instructions:\n",
      "1. Season the beef with salt and pepper. Heat the olive oil in a large pot or Dutch oven over medium-high heat. Brown the beef in batches, setting aside when browned.\n",
      "2. Add the onions to the pot and cook for 2-3 minutes until translucent. Add the carrots, celery, and garlic and cook for 2 more minutes. \n",
      "3. Stir in the tomato paste until combined, then add the red wine. Use a wooden spoon to scrape up any browned bits from the bottom of the pot. \n",
      "4. Return the browned beef to the pot along with the beef broth, bay leaves, thyme, and salt and pepper to taste. Bring to a boil.\n",
      "5. Once boiling, reduce heat to low, cover and simmer for 1.5-2 hours, until beef is very tender. \n",
      "6. Add the potatoes and continue simmering for 30 more minutes until potatoes are fork tender.\n",
      "7. Remove bay leaves and adjust seasoning as needed before serving.\n",
      "\n",
      "Wine Pairings:\n",
      "Beef stew pairs beautifully with full-bodied, dry red wines that can stand up to the rich, savory flavors. Some great options include:\n",
      "\n",
      "- Cabernet Sauvignon\n",
      "- Merlot \n",
      "- Malbec\n",
      "- Red Bordeaux blends\n",
      "- Syrah/Shiraz\n",
      "- Zinfandel (for a slightly sweeter option)\n",
      "\n",
      "The tannins and dark fruit notes in these wines complement the hearty beef and vegetables. An oaked Chardonnay can also work if you prefer a white wine. Avoid lighter reds or very tannic young wines that may clash with the stew. Enjoy!\n",
      "</result>\n"
     ]
    }
   ],
   "source": [
    "run_chat_loop(\"Recipe for beef stew, and what wine pairs well with it?\")"
   ]
  },
  {
   "cell_type": "code",
   "execution_count": 96,
   "id": "da522000-cc7d-490c-a9d7-3cf6f4b4c2f6",
   "metadata": {},
   "outputs": [
    {
     "name": "stdout",
     "output_type": "stream",
     "text": [
      "[User]: How can I make a sugar-free chocolate cake, and what are good substitutes for sugar\n",
      "Model called query_food_recipe_vector_db with args {'queries': ['sugar-free chocolate cake', 'sugar substitutes for baking']}\n",
      "Model called google_web_search with args {'queries': ['sugar substitutes for baking cakes and desserts']}\n",
      "\n",
      "[Model]: Based on the recipe database results and web search information, here are some good tips for making a sugar-free chocolate cake and substituting sugar in baking:\n",
      "\n",
      "- Use fruit purees like mashed bananas, applesauce, or prune puree to replace some or all of the sugar. The natural sweetness and moisture from the fruit can substitute for sugar.\n",
      "\n",
      "- Try artificial or natural zero-calorie sweeteners like stevia, monk fruit sweetener, or erythritol. These provide sweetness without the calories of sugar. Start with less than the recipe calls for sugar as they can have a stronger sweetness.\n",
      "\n",
      "- Use a combination of fruit purees and zero-calorie sweeteners to get the right sweetness level.\n",
      "\n",
      "- Reduce the amount of sugar called for in the recipe by 1/4 to 1/3 if not replacing all the sugar. Cakes may need slightly less leavening agent as well.\n",
      "\n",
      "- Consider using sugar alternatives made specifically for baking like Swerve or Lakanto monk fruit sweeteners which measure like sugar.\n",
      "\n",
      "For a sugar-free chocolate cake specifically, I would recommend trying one of these options:\n",
      "\n",
      "1) Replace the sugar with an equal amount of mashed ripe bananas or applesauce, and use a sugar-free chocolate or carob chips. The fruit puree will provide moisture and sweetness.\n",
      "\n",
      "2) Use a granulated erythritol or monk fruit sweetener blend in place of the sugar, following package instructions for amounts. Add 1-2 tsp extra baking powder or soda to help the rise.\n",
      "\n",
      "3) Do a 50/50 blend of fruit puree and a powdered stevia baking blend to get sweetness from both sources.\n",
      "\n",
      "Be sure to grease the pan well and don't overmix the batter. The texture will be a bit different than a full-sugar cake but still moist and chocolatey. Let me know if you need any other tips!\n"
     ]
    }
   ],
   "source": [
    "run_chat_loop(\"How can I make a sugar-free chocolate cake, and what are good substitutes for sugar\")"
   ]
  },
  {
   "cell_type": "code",
   "execution_count": 97,
   "id": "68767e60-e0ce-431d-a37f-6c3c66508024",
   "metadata": {},
   "outputs": [
    {
     "name": "stdout",
     "output_type": "stream",
     "text": [
      "[User]: Can you find a recipe for apple pie, and what can I use instead of butter to make it vegan?\n",
      "Model called query_food_recipe_vector_db with args {'queries': ['apple pie recipe']}\n",
      "Model called google_web_search with args {'queries': ['vegan butter substitute for baking apple pie']}\n",
      "\n",
      "[Model]: <search_quality_reflection>\n",
      "The search results provide helpful information on using vegan butter substitutes like Earth Balance or coconut oil when baking vegan apple pies. I now have enough context to provide a full answer to the original query.\n",
      "</search_quality_reflection>\n",
      "\n",
      "<search_quality_score>5</search_quality_score>\n",
      "\n",
      "<result>\n",
      "Here is a recipe for vegan apple pie using vegan butter substitute:\n",
      "\n",
      "Vegan Apple Pie\n",
      "\n",
      "Ingredients:\n",
      "- 2 pie crusts (use a vegan pie crust recipe with vegan butter substitute like Earth Balance or coconut oil instead of regular butter)\n",
      "- 6-8 apples, peeled, cored and sliced \n",
      "- 3/4 cup sugar\n",
      "- 2 tablespoons all-purpose flour\n",
      "- 1 teaspoon ground cinnamon\n",
      "- 1/4 teaspoon ground nutmeg\n",
      "- 1/4 teaspoon salt\n",
      "- 2 tablespoons vegan butter substitute, melted\n",
      "\n",
      "Instructions:\n",
      "\n",
      "1. Preheat oven to 425°F. \n",
      "2. Roll out one pie crust and place in a 9-inch pie plate.\n",
      "3. In a large bowl, mix together the sliced apples, sugar, flour, cinnamon, nutmeg and salt. Pour into the pie crust.\n",
      "4. Roll out the second pie crust and place over the apple filling. Crimp the edges to seal. Cut slits in the top crust to allow steam to escape.\n",
      "5. Brush the top crust with the melted vegan butter substitute.\n",
      "6. Bake for 15 minutes at 425°F, then reduce heat to 350°F and bake for 35-40 more minutes until crust is golden brown and filling is bubbly.\n",
      "7. Allow to cool completely before slicing and serving.\n",
      "\n",
      "The key substitution is using a vegan butter alternative like Earth Balance or coconut oil in place of regular butter in the pie crust recipe. This allows you to make a delicious apple pie that is completely vegan-friendly. Enjoy!\n",
      "</result>\n"
     ]
    }
   ],
   "source": [
    "run_chat_loop(\"Can you find a recipe for apple pie, and what can I use instead of butter to make it vegan?\")"
   ]
  },
  {
   "cell_type": "code",
   "execution_count": null,
   "id": "2ca03192-c1b6-4f5e-8bb3-09e2bcec8c47",
   "metadata": {},
   "outputs": [],
   "source": []
  }
 ],
 "metadata": {
  "kernelspec": {
   "display_name": "Python 3 (ipykernel)",
   "language": "python",
   "name": "python3"
  },
  "language_info": {
   "codemirror_mode": {
    "name": "ipython",
    "version": 3
   },
   "file_extension": ".py",
   "mimetype": "text/x-python",
   "name": "python",
   "nbconvert_exporter": "python",
   "pygments_lexer": "ipython3",
   "version": "3.12.2"
  }
 },
 "nbformat": 4,
 "nbformat_minor": 5
}
