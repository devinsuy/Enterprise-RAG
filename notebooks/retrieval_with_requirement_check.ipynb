{
 "cells": [
  {
   "cell_type": "markdown",
   "id": "a1ca1687-79fb-4439-8c91-7b1049c36153",
   "metadata": {},
   "source": [
    "### Install dependencies"
   ]
  },
  {
   "cell_type": "code",
   "execution_count": 1,
   "id": "d8fbce3d-65f5-4ded-8fd4-d9f1101286a9",
   "metadata": {
    "collapsed": true,
    "jupyter": {
     "outputs_hidden": true
    },
    "scrolled": true,
    "tags": []
   },
   "outputs": [
    {
     "name": "stdout",
     "output_type": "stream",
     "text": [
      "Requirement already satisfied: boto3 in /home/ec2-user/anaconda3/envs/python3/lib/python3.10/site-packages (1.34.142)\n",
      "Collecting boto3\n",
      "  Downloading boto3-1.34.144-py3-none-any.whl.metadata (6.6 kB)\n",
      "Requirement already satisfied: sagemaker in /home/ec2-user/anaconda3/envs/python3/lib/python3.10/site-packages (2.224.4)\n",
      "Collecting sagemaker\n",
      "  Downloading sagemaker-2.225.0-py3-none-any.whl.metadata (15 kB)\n",
      "Collecting langchain\n",
      "  Downloading langchain-0.2.7-py3-none-any.whl.metadata (6.9 kB)\n",
      "Collecting langchain-community\n",
      "  Downloading langchain_community-0.2.7-py3-none-any.whl.metadata (2.5 kB)\n",
      "Collecting langchain-core\n",
      "  Downloading langchain_core-0.2.17-py3-none-any.whl.metadata (6.0 kB)\n",
      "Collecting faiss-cpu\n",
      "  Downloading faiss_cpu-1.8.0.post1-cp310-cp310-manylinux_2_17_x86_64.manylinux2014_x86_64.whl.metadata (3.7 kB)\n",
      "Requirement already satisfied: requests in /home/ec2-user/anaconda3/envs/python3/lib/python3.10/site-packages (2.32.3)\n",
      "Collecting opensearch-py\n",
      "  Downloading opensearch_py-2.6.0-py2.py3-none-any.whl.metadata (7.0 kB)\n",
      "Collecting sentence-transformers\n",
      "  Downloading sentence_transformers-3.0.1-py3-none-any.whl.metadata (10 kB)\n",
      "Collecting langchain-text-splitters\n",
      "  Downloading langchain_text_splitters-0.2.2-py3-none-any.whl.metadata (2.1 kB)\n",
      "Collecting requests-aws4auth\n",
      "  Downloading requests_aws4auth-1.2.3-py2.py3-none-any.whl.metadata (18 kB)\n",
      "Collecting qdrant-client\n",
      "  Downloading qdrant_client-1.10.1-py3-none-any.whl.metadata (10 kB)\n",
      "Collecting botocore<1.35.0,>=1.34.144 (from boto3)\n",
      "  Downloading botocore-1.34.144-py3-none-any.whl.metadata (5.7 kB)\n",
      "Requirement already satisfied: jmespath<2.0.0,>=0.7.1 in /home/ec2-user/anaconda3/envs/python3/lib/python3.10/site-packages (from boto3) (1.0.1)\n",
      "Requirement already satisfied: s3transfer<0.11.0,>=0.10.0 in /home/ec2-user/anaconda3/envs/python3/lib/python3.10/site-packages (from boto3) (0.10.1)\n",
      "Requirement already satisfied: attrs<24,>=23.1.0 in /home/ec2-user/anaconda3/envs/python3/lib/python3.10/site-packages (from sagemaker) (23.2.0)\n",
      "Requirement already satisfied: cloudpickle==2.2.1 in /home/ec2-user/anaconda3/envs/python3/lib/python3.10/site-packages (from sagemaker) (2.2.1)\n",
      "Requirement already satisfied: google-pasta in /home/ec2-user/anaconda3/envs/python3/lib/python3.10/site-packages (from sagemaker) (0.2.0)\n",
      "Requirement already satisfied: numpy<2.0,>=1.9.0 in /home/ec2-user/anaconda3/envs/python3/lib/python3.10/site-packages (from sagemaker) (1.22.4)\n",
      "Requirement already satisfied: protobuf<5.0,>=3.12 in /home/ec2-user/anaconda3/envs/python3/lib/python3.10/site-packages (from sagemaker) (4.25.3)\n",
      "Requirement already satisfied: smdebug-rulesconfig==1.0.1 in /home/ec2-user/anaconda3/envs/python3/lib/python3.10/site-packages (from sagemaker) (1.0.1)\n",
      "Requirement already satisfied: importlib-metadata<7.0,>=1.4.0 in /home/ec2-user/anaconda3/envs/python3/lib/python3.10/site-packages (from sagemaker) (6.11.0)\n",
      "Requirement already satisfied: packaging>=20.0 in /home/ec2-user/anaconda3/envs/python3/lib/python3.10/site-packages (from sagemaker) (21.3)\n",
      "Requirement already satisfied: pandas in /home/ec2-user/anaconda3/envs/python3/lib/python3.10/site-packages (from sagemaker) (2.2.2)\n",
      "Requirement already satisfied: pathos in /home/ec2-user/anaconda3/envs/python3/lib/python3.10/site-packages (from sagemaker) (0.3.2)\n",
      "Requirement already satisfied: schema in /home/ec2-user/anaconda3/envs/python3/lib/python3.10/site-packages (from sagemaker) (0.7.7)\n",
      "Requirement already satisfied: PyYAML~=6.0 in /home/ec2-user/anaconda3/envs/python3/lib/python3.10/site-packages (from sagemaker) (6.0.1)\n",
      "Requirement already satisfied: jsonschema in /home/ec2-user/anaconda3/envs/python3/lib/python3.10/site-packages (from sagemaker) (4.22.0)\n",
      "Requirement already satisfied: platformdirs in /home/ec2-user/anaconda3/envs/python3/lib/python3.10/site-packages (from sagemaker) (4.2.2)\n",
      "Requirement already satisfied: tblib<4,>=1.7.0 in /home/ec2-user/anaconda3/envs/python3/lib/python3.10/site-packages (from sagemaker) (3.0.0)\n",
      "Requirement already satisfied: urllib3<3.0.0,>=1.26.8 in /home/ec2-user/anaconda3/envs/python3/lib/python3.10/site-packages (from sagemaker) (2.2.1)\n",
      "Requirement already satisfied: docker in /home/ec2-user/anaconda3/envs/python3/lib/python3.10/site-packages (from sagemaker) (7.1.0)\n",
      "Requirement already satisfied: tqdm in /home/ec2-user/anaconda3/envs/python3/lib/python3.10/site-packages (from sagemaker) (4.66.4)\n",
      "Requirement already satisfied: psutil in /home/ec2-user/anaconda3/envs/python3/lib/python3.10/site-packages (from sagemaker) (5.9.8)\n",
      "Requirement already satisfied: SQLAlchemy<3,>=1.4 in /home/ec2-user/anaconda3/envs/python3/lib/python3.10/site-packages (from langchain) (2.0.30)\n",
      "Requirement already satisfied: aiohttp<4.0.0,>=3.8.3 in /home/ec2-user/anaconda3/envs/python3/lib/python3.10/site-packages (from langchain) (3.9.5)\n",
      "Requirement already satisfied: async-timeout<5.0.0,>=4.0.0 in /home/ec2-user/anaconda3/envs/python3/lib/python3.10/site-packages (from langchain) (4.0.3)\n",
      "Collecting langsmith<0.2.0,>=0.1.17 (from langchain)\n",
      "  Downloading langsmith-0.1.85-py3-none-any.whl.metadata (13 kB)\n",
      "Collecting pydantic<3,>=1 (from langchain)\n",
      "  Downloading pydantic-2.8.2-py3-none-any.whl.metadata (125 kB)\n",
      "\u001B[2K     \u001B[90m━━━━━━━━━━━━━━━━━━━━━━━━━━━━━━━━━━━━━━\u001B[0m \u001B[32m125.2/125.2 kB\u001B[0m \u001B[31m12.9 MB/s\u001B[0m eta \u001B[36m0:00:00\u001B[0m\n",
      "\u001B[?25hRequirement already satisfied: tenacity!=8.4.0,<9.0.0,>=8.1.0 in /home/ec2-user/anaconda3/envs/python3/lib/python3.10/site-packages (from langchain) (8.3.0)\n",
      "Collecting dataclasses-json<0.7,>=0.5.7 (from langchain-community)\n",
      "  Downloading dataclasses_json-0.6.7-py3-none-any.whl.metadata (25 kB)\n",
      "Collecting jsonpatch<2.0,>=1.33 (from langchain-core)\n",
      "  Downloading jsonpatch-1.33-py2.py3-none-any.whl.metadata (3.0 kB)\n",
      "Collecting packaging>=20.0 (from sagemaker)\n",
      "  Using cached packaging-24.1-py3-none-any.whl.metadata (3.2 kB)\n",
      "Requirement already satisfied: charset-normalizer<4,>=2 in /home/ec2-user/anaconda3/envs/python3/lib/python3.10/site-packages (from requests) (3.3.2)\n",
      "Requirement already satisfied: idna<4,>=2.5 in /home/ec2-user/anaconda3/envs/python3/lib/python3.10/site-packages (from requests) (3.7)\n",
      "Requirement already satisfied: certifi>=2017.4.17 in /home/ec2-user/anaconda3/envs/python3/lib/python3.10/site-packages (from requests) (2024.6.2)\n",
      "Requirement already satisfied: six in /home/ec2-user/anaconda3/envs/python3/lib/python3.10/site-packages (from opensearch-py) (1.16.0)\n",
      "Requirement already satisfied: python-dateutil in /home/ec2-user/anaconda3/envs/python3/lib/python3.10/site-packages (from opensearch-py) (2.9.0)\n",
      "Collecting Events (from opensearch-py)\n",
      "  Downloading Events-0.5-py3-none-any.whl.metadata (3.9 kB)\n",
      "Collecting transformers<5.0.0,>=4.34.0 (from sentence-transformers)\n",
      "  Downloading transformers-4.42.4-py3-none-any.whl.metadata (43 kB)\n",
      "\u001B[2K     \u001B[90m━━━━━━━━━━━━━━━━━━━━━━━━━━━━━━━━━━━━━━━━\u001B[0m \u001B[32m43.6/43.6 kB\u001B[0m \u001B[31m6.0 MB/s\u001B[0m eta \u001B[36m0:00:00\u001B[0m\n",
      "\u001B[?25hCollecting torch>=1.11.0 (from sentence-transformers)\n",
      "  Downloading torch-2.3.1-cp310-cp310-manylinux1_x86_64.whl.metadata (26 kB)\n",
      "Requirement already satisfied: scikit-learn in /home/ec2-user/anaconda3/envs/python3/lib/python3.10/site-packages (from sentence-transformers) (1.5.0)\n",
      "Requirement already satisfied: scipy in /home/ec2-user/anaconda3/envs/python3/lib/python3.10/site-packages (from sentence-transformers) (1.13.1)\n",
      "Collecting huggingface-hub>=0.15.1 (from sentence-transformers)\n",
      "  Downloading huggingface_hub-0.23.4-py3-none-any.whl.metadata (12 kB)\n",
      "Requirement already satisfied: Pillow in /home/ec2-user/anaconda3/envs/python3/lib/python3.10/site-packages (from sentence-transformers) (10.3.0)\n",
      "Collecting grpcio>=1.41.0 (from qdrant-client)\n",
      "  Downloading grpcio-1.64.1-cp310-cp310-manylinux_2_17_x86_64.manylinux2014_x86_64.whl.metadata (3.3 kB)\n",
      "Collecting grpcio-tools>=1.41.0 (from qdrant-client)\n",
      "  Downloading grpcio_tools-1.64.1-cp310-cp310-manylinux_2_17_x86_64.manylinux2014_x86_64.whl.metadata (5.3 kB)\n",
      "Requirement already satisfied: httpx>=0.20.0 in /home/ec2-user/anaconda3/envs/python3/lib/python3.10/site-packages (from httpx[http2]>=0.20.0->qdrant-client) (0.27.0)\n",
      "Collecting portalocker<3.0.0,>=2.7.0 (from qdrant-client)\n",
      "  Downloading portalocker-2.10.0-py3-none-any.whl.metadata (8.5 kB)\n",
      "Requirement already satisfied: aiosignal>=1.1.2 in /home/ec2-user/anaconda3/envs/python3/lib/python3.10/site-packages (from aiohttp<4.0.0,>=3.8.3->langchain) (1.3.1)\n",
      "Requirement already satisfied: frozenlist>=1.1.1 in /home/ec2-user/anaconda3/envs/python3/lib/python3.10/site-packages (from aiohttp<4.0.0,>=3.8.3->langchain) (1.4.1)\n",
      "Requirement already satisfied: multidict<7.0,>=4.5 in /home/ec2-user/anaconda3/envs/python3/lib/python3.10/site-packages (from aiohttp<4.0.0,>=3.8.3->langchain) (6.0.5)\n",
      "Requirement already satisfied: yarl<2.0,>=1.0 in /home/ec2-user/anaconda3/envs/python3/lib/python3.10/site-packages (from aiohttp<4.0.0,>=3.8.3->langchain) (1.9.4)\n",
      "Collecting marshmallow<4.0.0,>=3.18.0 (from dataclasses-json<0.7,>=0.5.7->langchain-community)\n",
      "  Downloading marshmallow-3.21.3-py3-none-any.whl.metadata (7.1 kB)\n",
      "Collecting typing-inspect<1,>=0.4.0 (from dataclasses-json<0.7,>=0.5.7->langchain-community)\n",
      "  Downloading typing_inspect-0.9.0-py3-none-any.whl.metadata (1.5 kB)\n",
      "INFO: pip is looking at multiple versions of grpcio-tools to determine which version is compatible with other requirements. This could take a while.\n",
      "Collecting grpcio-tools>=1.41.0 (from qdrant-client)\n",
      "  Downloading grpcio_tools-1.64.0-cp310-cp310-manylinux_2_17_x86_64.manylinux2014_x86_64.whl.metadata (5.3 kB)\n",
      "  Downloading grpcio_tools-1.63.0-cp310-cp310-manylinux_2_17_x86_64.manylinux2014_x86_64.whl.metadata (5.3 kB)\n",
      "  Downloading grpcio_tools-1.62.2-cp310-cp310-manylinux_2_17_x86_64.manylinux2014_x86_64.whl.metadata (6.2 kB)\n",
      "Requirement already satisfied: setuptools in /home/ec2-user/anaconda3/envs/python3/lib/python3.10/site-packages (from grpcio-tools>=1.41.0->qdrant-client) (70.0.0)\n",
      "Requirement already satisfied: anyio in /home/ec2-user/anaconda3/envs/python3/lib/python3.10/site-packages (from httpx>=0.20.0->httpx[http2]>=0.20.0->qdrant-client) (4.4.0)\n",
      "Requirement already satisfied: httpcore==1.* in /home/ec2-user/anaconda3/envs/python3/lib/python3.10/site-packages (from httpx>=0.20.0->httpx[http2]>=0.20.0->qdrant-client) (1.0.5)\n",
      "Requirement already satisfied: sniffio in /home/ec2-user/anaconda3/envs/python3/lib/python3.10/site-packages (from httpx>=0.20.0->httpx[http2]>=0.20.0->qdrant-client) (1.3.1)\n",
      "Requirement already satisfied: h11<0.15,>=0.13 in /home/ec2-user/anaconda3/envs/python3/lib/python3.10/site-packages (from httpcore==1.*->httpx>=0.20.0->httpx[http2]>=0.20.0->qdrant-client) (0.14.0)\n",
      "Requirement already satisfied: h2<5,>=3 in /home/ec2-user/anaconda3/envs/python3/lib/python3.10/site-packages (from httpx[http2]>=0.20.0->qdrant-client) (4.1.0)\n",
      "Requirement already satisfied: filelock in /home/ec2-user/anaconda3/envs/python3/lib/python3.10/site-packages (from huggingface-hub>=0.15.1->sentence-transformers) (3.14.0)\n",
      "Requirement already satisfied: fsspec>=2023.5.0 in /home/ec2-user/anaconda3/envs/python3/lib/python3.10/site-packages (from huggingface-hub>=0.15.1->sentence-transformers) (2024.6.0)\n",
      "Requirement already satisfied: typing-extensions>=3.7.4.3 in /home/ec2-user/anaconda3/envs/python3/lib/python3.10/site-packages (from huggingface-hub>=0.15.1->sentence-transformers) (4.12.1)\n",
      "Requirement already satisfied: zipp>=0.5 in /home/ec2-user/anaconda3/envs/python3/lib/python3.10/site-packages (from importlib-metadata<7.0,>=1.4.0->sagemaker) (3.17.0)\n",
      "Requirement already satisfied: jsonpointer>=1.9 in /home/ec2-user/anaconda3/envs/python3/lib/python3.10/site-packages (from jsonpatch<2.0,>=1.33->langchain-core) (2.4)\n",
      "Collecting orjson<4.0.0,>=3.9.14 (from langsmith<0.2.0,>=0.1.17->langchain)\n",
      "  Downloading orjson-3.10.6-cp310-cp310-manylinux_2_17_x86_64.manylinux2014_x86_64.whl.metadata (50 kB)\n",
      "\u001B[2K     \u001B[90m━━━━━━━━━━━━━━━━━━━━━━━━━━━━━━━━━━━━━━━━\u001B[0m \u001B[32m50.4/50.4 kB\u001B[0m \u001B[31m9.4 MB/s\u001B[0m eta \u001B[36m0:00:00\u001B[0m\n",
      "\u001B[?25hCollecting annotated-types>=0.4.0 (from pydantic<3,>=1->langchain)\n",
      "  Downloading annotated_types-0.7.0-py3-none-any.whl.metadata (15 kB)\n",
      "Collecting pydantic-core==2.20.1 (from pydantic<3,>=1->langchain)\n",
      "  Downloading pydantic_core-2.20.1-cp310-cp310-manylinux_2_17_x86_64.manylinux2014_x86_64.whl.metadata (6.6 kB)\n",
      "Requirement already satisfied: greenlet!=0.4.17 in /home/ec2-user/anaconda3/envs/python3/lib/python3.10/site-packages (from SQLAlchemy<3,>=1.4->langchain) (3.0.3)\n",
      "Requirement already satisfied: sympy in /home/ec2-user/anaconda3/envs/python3/lib/python3.10/site-packages (from torch>=1.11.0->sentence-transformers) (1.12)\n",
      "Requirement already satisfied: networkx in /home/ec2-user/anaconda3/envs/python3/lib/python3.10/site-packages (from torch>=1.11.0->sentence-transformers) (3.3)\n",
      "Requirement already satisfied: jinja2 in /home/ec2-user/anaconda3/envs/python3/lib/python3.10/site-packages (from torch>=1.11.0->sentence-transformers) (3.1.4)\n",
      "Collecting nvidia-cuda-nvrtc-cu12==12.1.105 (from torch>=1.11.0->sentence-transformers)\n",
      "  Downloading nvidia_cuda_nvrtc_cu12-12.1.105-py3-none-manylinux1_x86_64.whl.metadata (1.5 kB)\n",
      "Collecting nvidia-cuda-runtime-cu12==12.1.105 (from torch>=1.11.0->sentence-transformers)\n",
      "  Downloading nvidia_cuda_runtime_cu12-12.1.105-py3-none-manylinux1_x86_64.whl.metadata (1.5 kB)\n",
      "Collecting nvidia-cuda-cupti-cu12==12.1.105 (from torch>=1.11.0->sentence-transformers)\n",
      "  Downloading nvidia_cuda_cupti_cu12-12.1.105-py3-none-manylinux1_x86_64.whl.metadata (1.6 kB)\n",
      "Collecting nvidia-cudnn-cu12==8.9.2.26 (from torch>=1.11.0->sentence-transformers)\n",
      "  Downloading nvidia_cudnn_cu12-8.9.2.26-py3-none-manylinux1_x86_64.whl.metadata (1.6 kB)\n",
      "Collecting nvidia-cublas-cu12==12.1.3.1 (from torch>=1.11.0->sentence-transformers)\n",
      "  Downloading nvidia_cublas_cu12-12.1.3.1-py3-none-manylinux1_x86_64.whl.metadata (1.5 kB)\n",
      "Collecting nvidia-cufft-cu12==11.0.2.54 (from torch>=1.11.0->sentence-transformers)\n",
      "  Downloading nvidia_cufft_cu12-11.0.2.54-py3-none-manylinux1_x86_64.whl.metadata (1.5 kB)\n",
      "Collecting nvidia-curand-cu12==10.3.2.106 (from torch>=1.11.0->sentence-transformers)\n",
      "  Downloading nvidia_curand_cu12-10.3.2.106-py3-none-manylinux1_x86_64.whl.metadata (1.5 kB)\n",
      "Collecting nvidia-cusolver-cu12==11.4.5.107 (from torch>=1.11.0->sentence-transformers)\n",
      "  Downloading nvidia_cusolver_cu12-11.4.5.107-py3-none-manylinux1_x86_64.whl.metadata (1.6 kB)\n",
      "Collecting nvidia-cusparse-cu12==12.1.0.106 (from torch>=1.11.0->sentence-transformers)\n",
      "  Downloading nvidia_cusparse_cu12-12.1.0.106-py3-none-manylinux1_x86_64.whl.metadata (1.6 kB)\n",
      "Collecting nvidia-nccl-cu12==2.20.5 (from torch>=1.11.0->sentence-transformers)\n",
      "  Downloading nvidia_nccl_cu12-2.20.5-py3-none-manylinux2014_x86_64.whl.metadata (1.8 kB)\n",
      "Collecting nvidia-nvtx-cu12==12.1.105 (from torch>=1.11.0->sentence-transformers)\n",
      "  Downloading nvidia_nvtx_cu12-12.1.105-py3-none-manylinux1_x86_64.whl.metadata (1.7 kB)\n",
      "Collecting triton==2.3.1 (from torch>=1.11.0->sentence-transformers)\n",
      "  Downloading triton-2.3.1-cp310-cp310-manylinux_2_17_x86_64.manylinux2014_x86_64.whl.metadata (1.4 kB)\n",
      "Collecting nvidia-nvjitlink-cu12 (from nvidia-cusolver-cu12==11.4.5.107->torch>=1.11.0->sentence-transformers)\n",
      "  Downloading nvidia_nvjitlink_cu12-12.5.82-py3-none-manylinux2014_x86_64.whl.metadata (1.5 kB)\n",
      "Requirement already satisfied: regex!=2019.12.17 in /home/ec2-user/anaconda3/envs/python3/lib/python3.10/site-packages (from transformers<5.0.0,>=4.34.0->sentence-transformers) (2024.5.15)\n",
      "Collecting safetensors>=0.4.1 (from transformers<5.0.0,>=4.34.0->sentence-transformers)\n",
      "  Downloading safetensors-0.4.3-cp310-cp310-manylinux_2_17_x86_64.manylinux2014_x86_64.whl.metadata (3.8 kB)\n",
      "Collecting tokenizers<0.20,>=0.19 (from transformers<5.0.0,>=4.34.0->sentence-transformers)\n",
      "  Downloading tokenizers-0.19.1-cp310-cp310-manylinux_2_17_x86_64.manylinux2014_x86_64.whl.metadata (6.7 kB)\n",
      "Requirement already satisfied: jsonschema-specifications>=2023.03.6 in /home/ec2-user/anaconda3/envs/python3/lib/python3.10/site-packages (from jsonschema->sagemaker) (2023.12.1)\n",
      "Requirement already satisfied: referencing>=0.28.4 in /home/ec2-user/anaconda3/envs/python3/lib/python3.10/site-packages (from jsonschema->sagemaker) (0.35.1)\n",
      "Requirement already satisfied: rpds-py>=0.7.1 in /home/ec2-user/anaconda3/envs/python3/lib/python3.10/site-packages (from jsonschema->sagemaker) (0.18.1)\n",
      "Requirement already satisfied: pytz>=2020.1 in /home/ec2-user/anaconda3/envs/python3/lib/python3.10/site-packages (from pandas->sagemaker) (2024.1)\n",
      "Requirement already satisfied: tzdata>=2022.7 in /home/ec2-user/anaconda3/envs/python3/lib/python3.10/site-packages (from pandas->sagemaker) (2024.1)\n",
      "Requirement already satisfied: ppft>=1.7.6.8 in /home/ec2-user/anaconda3/envs/python3/lib/python3.10/site-packages (from pathos->sagemaker) (1.7.6.8)\n",
      "Requirement already satisfied: dill>=0.3.8 in /home/ec2-user/anaconda3/envs/python3/lib/python3.10/site-packages (from pathos->sagemaker) (0.3.8)\n",
      "Requirement already satisfied: pox>=0.3.4 in /home/ec2-user/anaconda3/envs/python3/lib/python3.10/site-packages (from pathos->sagemaker) (0.3.4)\n",
      "Requirement already satisfied: multiprocess>=0.70.16 in /home/ec2-user/anaconda3/envs/python3/lib/python3.10/site-packages (from pathos->sagemaker) (0.70.16)\n",
      "Requirement already satisfied: joblib>=1.2.0 in /home/ec2-user/anaconda3/envs/python3/lib/python3.10/site-packages (from scikit-learn->sentence-transformers) (1.4.2)\n",
      "Requirement already satisfied: threadpoolctl>=3.1.0 in /home/ec2-user/anaconda3/envs/python3/lib/python3.10/site-packages (from scikit-learn->sentence-transformers) (3.5.0)\n",
      "Requirement already satisfied: hyperframe<7,>=6.0 in /home/ec2-user/anaconda3/envs/python3/lib/python3.10/site-packages (from h2<5,>=3->httpx[http2]>=0.20.0->qdrant-client) (6.0.1)\n",
      "Requirement already satisfied: hpack<5,>=4.0 in /home/ec2-user/anaconda3/envs/python3/lib/python3.10/site-packages (from h2<5,>=3->httpx[http2]>=0.20.0->qdrant-client) (4.0.0)\n",
      "Requirement already satisfied: mypy-extensions>=0.3.0 in /home/ec2-user/anaconda3/envs/python3/lib/python3.10/site-packages (from typing-inspect<1,>=0.4.0->dataclasses-json<0.7,>=0.5.7->langchain-community) (1.0.0)\n",
      "Requirement already satisfied: exceptiongroup>=1.0.2 in /home/ec2-user/anaconda3/envs/python3/lib/python3.10/site-packages (from anyio->httpx>=0.20.0->httpx[http2]>=0.20.0->qdrant-client) (1.2.0)\n",
      "Requirement already satisfied: MarkupSafe>=2.0 in /home/ec2-user/anaconda3/envs/python3/lib/python3.10/site-packages (from jinja2->torch>=1.11.0->sentence-transformers) (2.1.5)\n",
      "Requirement already satisfied: mpmath>=0.19 in /home/ec2-user/anaconda3/envs/python3/lib/python3.10/site-packages (from sympy->torch>=1.11.0->sentence-transformers) (1.3.0)\n",
      "Downloading boto3-1.34.144-py3-none-any.whl (139 kB)\n",
      "\u001B[2K   \u001B[90m━━━━━━━━━━━━━━━━━━━━━━━━━━━━━━━━━━━━━━━━\u001B[0m \u001B[32m139.2/139.2 kB\u001B[0m \u001B[31m18.0 MB/s\u001B[0m eta \u001B[36m0:00:00\u001B[0m\n",
      "\u001B[?25hDownloading sagemaker-2.225.0-py3-none-any.whl (1.5 MB)\n",
      "\u001B[2K   \u001B[90m━━━━━━━━━━━━━━━━━━━━━━━━━━━━━━━━━━━━━━━━\u001B[0m \u001B[32m1.5/1.5 MB\u001B[0m \u001B[31m73.9 MB/s\u001B[0m eta \u001B[36m0:00:00\u001B[0m\n",
      "\u001B[?25hDownloading langchain-0.2.7-py3-none-any.whl (983 kB)\n",
      "\u001B[2K   \u001B[90m━━━━━━━━━━━━━━━━━━━━━━━━━━━━━━━━━━━━━━━━\u001B[0m \u001B[32m983.6/983.6 kB\u001B[0m \u001B[31m67.3 MB/s\u001B[0m eta \u001B[36m0:00:00\u001B[0m\n",
      "\u001B[?25hDownloading langchain_community-0.2.7-py3-none-any.whl (2.2 MB)\n",
      "\u001B[2K   \u001B[90m━━━━━━━━━━━━━━━━━━━━━━━━━━━━━━━━━━━━━━━━\u001B[0m \u001B[32m2.2/2.2 MB\u001B[0m \u001B[31m104.4 MB/s\u001B[0m eta \u001B[36m0:00:00\u001B[0m\n",
      "\u001B[?25hDownloading langchain_core-0.2.17-py3-none-any.whl (366 kB)\n",
      "\u001B[2K   \u001B[90m━━━━━━━━━━━━━━━━━━━━━━━━━━━━━━━━━━━━━━━━\u001B[0m \u001B[32m366.1/366.1 kB\u001B[0m \u001B[31m33.6 MB/s\u001B[0m eta \u001B[36m0:00:00\u001B[0m\n",
      "\u001B[?25hDownloading faiss_cpu-1.8.0.post1-cp310-cp310-manylinux_2_17_x86_64.manylinux2014_x86_64.whl (27.0 MB)\n",
      "\u001B[2K   \u001B[90m━━━━━━━━━━━━━━━━━━━━━━━━━━━━━━━━━━━━━━━━\u001B[0m \u001B[32m27.0/27.0 MB\u001B[0m \u001B[31m67.8 MB/s\u001B[0m eta \u001B[36m0:00:00\u001B[0m:00:01\u001B[0m00:01\u001B[0m\n",
      "\u001B[?25hDownloading opensearch_py-2.6.0-py2.py3-none-any.whl (311 kB)\n",
      "\u001B[2K   \u001B[90m━━━━━━━━━━━━━━━━━━━━━━━━━━━━━━━━━━━━━━━━\u001B[0m \u001B[32m311.2/311.2 kB\u001B[0m \u001B[31m35.6 MB/s\u001B[0m eta \u001B[36m0:00:00\u001B[0m\n",
      "\u001B[?25hDownloading sentence_transformers-3.0.1-py3-none-any.whl (227 kB)\n",
      "\u001B[2K   \u001B[90m━━━━━━━━━━━━━━━━━━━━━━━━━━━━━━━━━━━━━━━━\u001B[0m \u001B[32m227.1/227.1 kB\u001B[0m \u001B[31m35.3 MB/s\u001B[0m eta \u001B[36m0:00:00\u001B[0m\n",
      "\u001B[?25hDownloading langchain_text_splitters-0.2.2-py3-none-any.whl (25 kB)\n",
      "Downloading requests_aws4auth-1.2.3-py2.py3-none-any.whl (24 kB)\n",
      "Downloading qdrant_client-1.10.1-py3-none-any.whl (254 kB)\n",
      "\u001B[2K   \u001B[90m━━━━━━━━━━━━━━━━━━━━━━━━━━━━━━━━━━━━━━━━\u001B[0m \u001B[32m254.1/254.1 kB\u001B[0m \u001B[31m32.0 MB/s\u001B[0m eta \u001B[36m0:00:00\u001B[0m\n",
      "\u001B[?25hDownloading botocore-1.34.144-py3-none-any.whl (12.4 MB)\n",
      "\u001B[2K   \u001B[90m━━━━━━━━━━━━━━━━━━━━━━━━━━━━━━━━━━━━━━━━\u001B[0m \u001B[32m12.4/12.4 MB\u001B[0m \u001B[31m110.8 MB/s\u001B[0m eta \u001B[36m0:00:00\u001B[0m00:01\u001B[0m0:01\u001B[0m\n",
      "\u001B[?25hDownloading dataclasses_json-0.6.7-py3-none-any.whl (28 kB)\n",
      "Downloading grpcio-1.64.1-cp310-cp310-manylinux_2_17_x86_64.manylinux2014_x86_64.whl (5.6 MB)\n",
      "\u001B[2K   \u001B[90m━━━━━━━━━━━━━━━━━━━━━━━━━━━━━━━━━━━━━━━━\u001B[0m \u001B[32m5.6/5.6 MB\u001B[0m \u001B[31m110.7 MB/s\u001B[0m eta \u001B[36m0:00:00\u001B[0m00:01\u001B[0m\n",
      "\u001B[?25hDownloading grpcio_tools-1.62.2-cp310-cp310-manylinux_2_17_x86_64.manylinux2014_x86_64.whl (2.8 MB)\n",
      "\u001B[2K   \u001B[90m━━━━━━━━━━━━━━━━━━━━━━━━━━━━━━━━━━━━━━━━\u001B[0m \u001B[32m2.8/2.8 MB\u001B[0m \u001B[31m88.1 MB/s\u001B[0m eta \u001B[36m0:00:00\u001B[0m\n",
      "\u001B[?25hDownloading huggingface_hub-0.23.4-py3-none-any.whl (402 kB)\n",
      "\u001B[2K   \u001B[90m━━━━━━━━━━━━━━━━━━━━━━━━━━━━━━━━━━━━━━━━\u001B[0m \u001B[32m402.6/402.6 kB\u001B[0m \u001B[31m38.6 MB/s\u001B[0m eta \u001B[36m0:00:00\u001B[0m\n",
      "\u001B[?25hDownloading jsonpatch-1.33-py2.py3-none-any.whl (12 kB)\n",
      "Downloading langsmith-0.1.85-py3-none-any.whl (127 kB)\n",
      "\u001B[2K   \u001B[90m━━━━━━━━━━━━━━━━━━━━━━━━━━━━━━━━━━━━━━━━\u001B[0m \u001B[32m127.9/127.9 kB\u001B[0m \u001B[31m14.1 MB/s\u001B[0m eta \u001B[36m0:00:00\u001B[0m\n",
      "\u001B[?25hUsing cached packaging-24.1-py3-none-any.whl (53 kB)\n",
      "Downloading portalocker-2.10.0-py3-none-any.whl (18 kB)\n",
      "Downloading pydantic-2.8.2-py3-none-any.whl (423 kB)\n",
      "\u001B[2K   \u001B[90m━━━━━━━━━━━━━━━━━━━━━━━━━━━━━━━━━━━━━━━━\u001B[0m \u001B[32m423.9/423.9 kB\u001B[0m \u001B[31m38.6 MB/s\u001B[0m eta \u001B[36m0:00:00\u001B[0m\n",
      "\u001B[?25hDownloading pydantic_core-2.20.1-cp310-cp310-manylinux_2_17_x86_64.manylinux2014_x86_64.whl (2.1 MB)\n",
      "\u001B[2K   \u001B[90m━━━━━━━━━━━━━━━━━━━━━━━━━━━━━━━━━━━━━━━━\u001B[0m \u001B[32m2.1/2.1 MB\u001B[0m \u001B[31m22.5 MB/s\u001B[0m eta \u001B[36m0:00:00\u001B[0m:00:01\u001B[0m\n",
      "\u001B[?25hDownloading torch-2.3.1-cp310-cp310-manylinux1_x86_64.whl (779.1 MB)\n",
      "\u001B[2K   \u001B[90m━━━━━━━━━━━━━━━━━━━━━━━━━━━━━━━━━━━━━━━━\u001B[0m \u001B[32m779.1/779.1 MB\u001B[0m \u001B[31m1.5 MB/s\u001B[0m eta \u001B[36m0:00:00\u001B[0m:00:01\u001B[0m00:01\u001B[0m\n",
      "\u001B[?25hDownloading nvidia_cublas_cu12-12.1.3.1-py3-none-manylinux1_x86_64.whl (410.6 MB)\n",
      "\u001B[2K   \u001B[90m━━━━━━━━━━━━━━━━━━━━━━━━━━━━━━━━━━━━━━━━\u001B[0m \u001B[32m410.6/410.6 MB\u001B[0m \u001B[31m2.7 MB/s\u001B[0m eta \u001B[36m0:00:00\u001B[0m:00:01\u001B[0m00:01\u001B[0m\n",
      "\u001B[?25hDownloading nvidia_cuda_cupti_cu12-12.1.105-py3-none-manylinux1_x86_64.whl (14.1 MB)\n",
      "\u001B[2K   \u001B[90m━━━━━━━━━━━━━━━━━━━━━━━━━━━━━━━━━━━━━━━━\u001B[0m \u001B[32m14.1/14.1 MB\u001B[0m \u001B[31m41.6 MB/s\u001B[0m eta \u001B[36m0:00:00\u001B[0m:00:01\u001B[0m0:01\u001B[0m\n",
      "\u001B[?25hDownloading nvidia_cuda_nvrtc_cu12-12.1.105-py3-none-manylinux1_x86_64.whl (23.7 MB)\n",
      "\u001B[2K   \u001B[90m━━━━━━━━━━━━━━━━━━━━━━━━━━━━━━━━━━━━━━━━\u001B[0m \u001B[32m23.7/23.7 MB\u001B[0m \u001B[31m27.0 MB/s\u001B[0m eta \u001B[36m0:00:00\u001B[0m:00:01\u001B[0m00:01\u001B[0m\n",
      "\u001B[?25hDownloading nvidia_cuda_runtime_cu12-12.1.105-py3-none-manylinux1_x86_64.whl (823 kB)\n",
      "\u001B[2K   \u001B[90m━━━━━━━━━━━━━━━━━━━━━━━━━━━━━━━━━━━━━━━━\u001B[0m \u001B[32m823.6/823.6 kB\u001B[0m \u001B[31m14.3 MB/s\u001B[0m eta \u001B[36m0:00:00\u001B[0m00:01\u001B[0m\n",
      "\u001B[?25hDownloading nvidia_cudnn_cu12-8.9.2.26-py3-none-manylinux1_x86_64.whl (731.7 MB)\n",
      "\u001B[2K   \u001B[90m━━━━━━━━━━━━━━━━━━━━━━━━━━━━━━━━━━━━━━━━\u001B[0m \u001B[32m731.7/731.7 MB\u001B[0m \u001B[31m1.4 MB/s\u001B[0m eta \u001B[36m0:00:00\u001B[0m:00:01\u001B[0m00:01\u001B[0m\n",
      "\u001B[?25hDownloading nvidia_cufft_cu12-11.0.2.54-py3-none-manylinux1_x86_64.whl (121.6 MB)\n",
      "\u001B[2K   \u001B[90m━━━━━━━━━━━━━━━━━━━━━━━━━━━━━━━━━━━━━━━━\u001B[0m \u001B[32m121.6/121.6 MB\u001B[0m \u001B[31m14.0 MB/s\u001B[0m eta \u001B[36m0:00:00\u001B[0m00:01\u001B[0m00:01\u001B[0m\n",
      "\u001B[?25hDownloading nvidia_curand_cu12-10.3.2.106-py3-none-manylinux1_x86_64.whl (56.5 MB)\n",
      "\u001B[2K   \u001B[90m━━━━━━━━━━━━━━━━━━━━━━━━━━━━━━━━━━━━━━━━\u001B[0m \u001B[32m56.5/56.5 MB\u001B[0m \u001B[31m42.7 MB/s\u001B[0m eta \u001B[36m0:00:00\u001B[0m:00:01\u001B[0m00:01\u001B[0m\n",
      "\u001B[?25hDownloading nvidia_cusolver_cu12-11.4.5.107-py3-none-manylinux1_x86_64.whl (124.2 MB)\n",
      "\u001B[2K   \u001B[90m━━━━━━━━━━━━━━━━━━━━━━━━━━━━━━━━━━━━━━━━\u001B[0m \u001B[32m124.2/124.2 MB\u001B[0m \u001B[31m10.6 MB/s\u001B[0m eta \u001B[36m0:00:00\u001B[0m00:01\u001B[0m00:01\u001B[0m\n",
      "\u001B[?25hDownloading nvidia_cusparse_cu12-12.1.0.106-py3-none-manylinux1_x86_64.whl (196.0 MB)\n",
      "\u001B[2K   \u001B[90m━━━━━━━━━━━━━━━━━━━━━━━━━━━━━━━━━━━━━━━━\u001B[0m \u001B[32m196.0/196.0 MB\u001B[0m \u001B[31m4.8 MB/s\u001B[0m eta \u001B[36m0:00:00\u001B[0m:00:01\u001B[0m00:01\u001B[0m\n",
      "\u001B[?25hDownloading nvidia_nccl_cu12-2.20.5-py3-none-manylinux2014_x86_64.whl (176.2 MB)\n",
      "\u001B[2K   \u001B[90m━━━━━━━━━━━━━━━━━━━━━━━━━━━━━━━━━━━━━━━━\u001B[0m \u001B[32m176.2/176.2 MB\u001B[0m \u001B[31m5.5 MB/s\u001B[0m eta \u001B[36m0:00:00\u001B[0m:00:01\u001B[0m00:01\u001B[0m\n",
      "\u001B[?25hDownloading nvidia_nvtx_cu12-12.1.105-py3-none-manylinux1_x86_64.whl (99 kB)\n",
      "\u001B[2K   \u001B[90m━━━━━━━━━━━━━━━━━━━━━━━━━━━━━━━━━━━━━━━━\u001B[0m \u001B[32m99.1/99.1 kB\u001B[0m \u001B[31m2.2 MB/s\u001B[0m eta \u001B[36m0:00:00\u001B[0meta \u001B[36m0:00:01\u001B[0m\n",
      "\u001B[?25hDownloading triton-2.3.1-cp310-cp310-manylinux_2_17_x86_64.manylinux2014_x86_64.whl (168.1 MB)\n",
      "\u001B[2K   \u001B[90m━━━━━━━━━━━━━━━━━━━━━━━━━━━━━━━━━━━━━━━━\u001B[0m \u001B[32m168.1/168.1 MB\u001B[0m \u001B[31m5.5 MB/s\u001B[0m eta \u001B[36m0:00:00\u001B[0m:00:01\u001B[0m00:01\u001B[0m\n",
      "\u001B[?25hDownloading transformers-4.42.4-py3-none-any.whl (9.3 MB)\n",
      "\u001B[2K   \u001B[90m━━━━━━━━━━━━━━━━━━━━━━━━━━━━━━━━━━━━━━━━\u001B[0m \u001B[32m9.3/9.3 MB\u001B[0m \u001B[31m48.0 MB/s\u001B[0m eta \u001B[36m0:00:00\u001B[0m:00:01\u001B[0m00:01\u001B[0m\n",
      "\u001B[?25hDownloading Events-0.5-py3-none-any.whl (6.8 kB)\n",
      "Downloading annotated_types-0.7.0-py3-none-any.whl (13 kB)\n",
      "Downloading marshmallow-3.21.3-py3-none-any.whl (49 kB)\n",
      "\u001B[2K   \u001B[90m━━━━━━━━━━━━━━━━━━━━━━━━━━━━━━━━━━━━━━━━\u001B[0m \u001B[32m49.2/49.2 kB\u001B[0m \u001B[31m1.5 MB/s\u001B[0m eta \u001B[36m0:00:00\u001B[0m\n",
      "\u001B[?25hDownloading orjson-3.10.6-cp310-cp310-manylinux_2_17_x86_64.manylinux2014_x86_64.whl (141 kB)\n",
      "\u001B[2K   \u001B[90m━━━━━━━━━━━━━━━━━━━━━━━━━━━━━━━━━━━━━━━━\u001B[0m \u001B[32m141.1/141.1 kB\u001B[0m \u001B[31m4.8 MB/s\u001B[0m eta \u001B[36m0:00:00\u001B[0m\n",
      "\u001B[?25hDownloading safetensors-0.4.3-cp310-cp310-manylinux_2_17_x86_64.manylinux2014_x86_64.whl (1.2 MB)\n",
      "\u001B[2K   \u001B[90m━━━━━━━━━━━━━━━━━━━━━━━━━━━━━━━━━━━━━━━━\u001B[0m \u001B[32m1.2/1.2 MB\u001B[0m \u001B[31m23.8 MB/s\u001B[0m eta \u001B[36m0:00:00\u001B[0m:00:01\u001B[0m\n",
      "\u001B[?25hDownloading tokenizers-0.19.1-cp310-cp310-manylinux_2_17_x86_64.manylinux2014_x86_64.whl (3.6 MB)\n",
      "\u001B[2K   \u001B[90m━━━━━━━━━━━━━━━━━━━━━━━━━━━━━━━━━━━━━━━━\u001B[0m \u001B[32m3.6/3.6 MB\u001B[0m \u001B[31m19.7 MB/s\u001B[0m eta \u001B[36m0:00:00\u001B[0m:00:01\u001B[0m\n",
      "\u001B[?25hDownloading typing_inspect-0.9.0-py3-none-any.whl (8.8 kB)\n",
      "Downloading nvidia_nvjitlink_cu12-12.5.82-py3-none-manylinux2014_x86_64.whl (21.3 MB)\n",
      "\u001B[2K   \u001B[90m━━━━━━━━━━━━━━━━━━━━━━━━━━━━━━━━━━━━━━━━\u001B[0m \u001B[32m21.3/21.3 MB\u001B[0m \u001B[31m11.2 MB/s\u001B[0m eta \u001B[36m0:00:00\u001B[0m:00:01\u001B[0m00:01\u001B[0m\n",
      "\u001B[?25hInstalling collected packages: Events, typing-inspect, triton, safetensors, pydantic-core, portalocker, packaging, orjson, nvidia-nvtx-cu12, nvidia-nvjitlink-cu12, nvidia-nccl-cu12, nvidia-curand-cu12, nvidia-cufft-cu12, nvidia-cuda-runtime-cu12, nvidia-cuda-nvrtc-cu12, nvidia-cuda-cupti-cu12, nvidia-cublas-cu12, jsonpatch, grpcio, annotated-types, requests-aws4auth, pydantic, opensearch-py, nvidia-cusparse-cu12, nvidia-cudnn-cu12, marshmallow, huggingface-hub, grpcio-tools, faiss-cpu, botocore, tokenizers, nvidia-cusolver-cu12, langsmith, dataclasses-json, transformers, torch, qdrant-client, langchain-core, boto3, sentence-transformers, sagemaker, langchain-text-splitters, langchain, langchain-community\n",
      "  Attempting uninstall: packaging\n",
      "    Found existing installation: packaging 21.3\n",
      "    Uninstalling packaging-21.3:\n",
      "      Successfully uninstalled packaging-21.3\n",
      "  Attempting uninstall: botocore\n",
      "    Found existing installation: botocore 1.34.142\n",
      "    Uninstalling botocore-1.34.142:\n",
      "      Successfully uninstalled botocore-1.34.142\n",
      "  Attempting uninstall: boto3\n",
      "    Found existing installation: boto3 1.34.142\n",
      "    Uninstalling boto3-1.34.142:\n",
      "      Successfully uninstalled boto3-1.34.142\n",
      "  Attempting uninstall: sagemaker\n",
      "    Found existing installation: sagemaker 2.224.4\n",
      "    Uninstalling sagemaker-2.224.4:\n",
      "      Successfully uninstalled sagemaker-2.224.4\n",
      "\u001B[31mERROR: pip's dependency resolver does not currently take into account all the packages that are installed. This behaviour is the source of the following dependency conflicts.\n",
      "astropy 6.1.0 requires numpy>=1.23, but you have numpy 1.22.4 which is incompatible.\n",
      "awscli 1.33.24 requires botocore==1.34.142, but you have botocore 1.34.144 which is incompatible.\n",
      "scikit-image 0.23.2 requires numpy>=1.23, but you have numpy 1.22.4 which is incompatible.\n",
      "sparkmagic 0.21.0 requires pandas<2.0.0,>=0.17.1, but you have pandas 2.2.2 which is incompatible.\n",
      "sphinx 7.3.7 requires docutils<0.22,>=0.18.1, but you have docutils 0.16 which is incompatible.\u001B[0m\u001B[31m\n",
      "\u001B[0mSuccessfully installed Events-0.5 annotated-types-0.7.0 boto3-1.34.144 botocore-1.34.144 dataclasses-json-0.6.7 faiss-cpu-1.8.0.post1 grpcio-1.64.1 grpcio-tools-1.62.2 huggingface-hub-0.23.4 jsonpatch-1.33 langchain-0.2.7 langchain-community-0.2.7 langchain-core-0.2.17 langchain-text-splitters-0.2.2 langsmith-0.1.85 marshmallow-3.21.3 nvidia-cublas-cu12-12.1.3.1 nvidia-cuda-cupti-cu12-12.1.105 nvidia-cuda-nvrtc-cu12-12.1.105 nvidia-cuda-runtime-cu12-12.1.105 nvidia-cudnn-cu12-8.9.2.26 nvidia-cufft-cu12-11.0.2.54 nvidia-curand-cu12-10.3.2.106 nvidia-cusolver-cu12-11.4.5.107 nvidia-cusparse-cu12-12.1.0.106 nvidia-nccl-cu12-2.20.5 nvidia-nvjitlink-cu12-12.5.82 nvidia-nvtx-cu12-12.1.105 opensearch-py-2.6.0 orjson-3.10.6 packaging-24.1 portalocker-2.10.0 pydantic-2.8.2 pydantic-core-2.20.1 qdrant-client-1.10.1 requests-aws4auth-1.2.3 safetensors-0.4.3 sagemaker-2.225.0 sentence-transformers-3.0.1 tokenizers-0.19.1 torch-2.3.1 transformers-4.42.4 triton-2.3.1 typing-inspect-0.9.0\n"
     ]
    }
   ],
   "source": [
    "!pip install boto3 sagemaker langchain langchain-community langchain-core faiss-cpu requests opensearch-py sentence-transformers langchain-text-splitters requests-aws4auth qdrant-client -U"
   ]
  },
  {
   "cell_type": "code",
   "execution_count": 2,
   "id": "c0c80d87-45c2-42c3-9825-21bc53ce33b9",
   "metadata": {
    "tags": []
   },
   "outputs": [],
   "source": [
    "!pip install --upgrade --quiet  lark qdrant-client"
   ]
  },
  {
   "cell_type": "markdown",
   "id": "8c60fd86-2fdd-4921-b769-45a6d6ae1411",
   "metadata": {},
   "source": [
    "### Load CSV data from S3"
   ]
  },
  {
   "cell_type": "code",
   "execution_count": 3,
   "id": "b02d5178-7946-4ff5-bfdf-d8c784afd6cd",
   "metadata": {
    "tags": []
   },
   "outputs": [
    {
     "name": "stdout",
     "output_type": "stream",
     "text": [
      "/home/ec2-user/SageMaker/Enterprise-RAG/notebooks\n"
     ]
    }
   ],
   "source": [
    "!pwd"
   ]
  },
  {
   "cell_type": "code",
   "execution_count": 4,
   "id": "e42652b8-0122-4f47-b069-a398ae118afc",
   "metadata": {
    "tags": []
   },
   "outputs": [],
   "source": [
    "import boto3\n",
    "import pandas as pd\n",
    "\n",
    "s3 = boto3.client('s3')\n",
    "bucket_name = 'recipes-rag'"
   ]
  },
  {
   "cell_type": "code",
   "execution_count": 5,
   "id": "e0176b52-e799-4947-9264-c6c51897c4b7",
   "metadata": {
    "tags": []
   },
   "outputs": [
    {
     "data": {
      "text/html": [
       "<div>\n",
       "<style scoped>\n",
       "    .dataframe tbody tr th:only-of-type {\n",
       "        vertical-align: middle;\n",
       "    }\n",
       "\n",
       "    .dataframe tbody tr th {\n",
       "        vertical-align: top;\n",
       "    }\n",
       "\n",
       "    .dataframe thead th {\n",
       "        text-align: right;\n",
       "    }\n",
       "</style>\n",
       "<table border=\"1\" class=\"dataframe\">\n",
       "  <thead>\n",
       "    <tr style=\"text-align: right;\">\n",
       "      <th></th>\n",
       "      <th>Name</th>\n",
       "      <th>RecipeCategory</th>\n",
       "      <th>Description</th>\n",
       "      <th>RecipeIngredientParts</th>\n",
       "      <th>RecipeInstructions</th>\n",
       "      <th>Keywords_string</th>\n",
       "      <th>AggregatedRating</th>\n",
       "      <th>ReviewCount</th>\n",
       "      <th>Combined_Features</th>\n",
       "      <th>Combined_Features_Clean</th>\n",
       "    </tr>\n",
       "  </thead>\n",
       "  <tbody>\n",
       "    <tr>\n",
       "      <th>0</th>\n",
       "      <td>Low-Fat Berry Blue Frozen Dessert</td>\n",
       "      <td>Frozen Desserts</td>\n",
       "      <td>Make and share this Low-Fat Berry Blue Frozen ...</td>\n",
       "      <td>[blueberries, granulated sugar, vanilla yogurt...</td>\n",
       "      <td>Toss 2 cups berries with sugar. Let stand for ...</td>\n",
       "      <td>Dessert Low Protein Low Cholesterol Healthy Fr...</td>\n",
       "      <td>4.5</td>\n",
       "      <td>4.0</td>\n",
       "      <td>Low-Fat Berry Blue Frozen Dessert Frozen Desse...</td>\n",
       "      <td>Low-Fat Berry Blue Frozen Dessert Frozen Desse...</td>\n",
       "    </tr>\n",
       "    <tr>\n",
       "      <th>1</th>\n",
       "      <td>Biryani</td>\n",
       "      <td>Chicken Breast</td>\n",
       "      <td>Make and share this Biryani recipe from Food.com.</td>\n",
       "      <td>[saffron, milk, hot green chili peppers, onion...</td>\n",
       "      <td>Soak saffron in warm milk for 5 minutes and pu...</td>\n",
       "      <td>Chicken Thigh &amp; Leg Chicken Poultry Meat Asian...</td>\n",
       "      <td>3.0</td>\n",
       "      <td>1.0</td>\n",
       "      <td>Biryani Chicken Breast Make and share this Bir...</td>\n",
       "      <td>Biryani Chicken Breast Make share Biryani reci...</td>\n",
       "    </tr>\n",
       "    <tr>\n",
       "      <th>2</th>\n",
       "      <td>Best Lemonade</td>\n",
       "      <td>Beverages</td>\n",
       "      <td>This is from one of my  first Good House Keepi...</td>\n",
       "      <td>[sugar, lemons, rind of, lemon, zest of, fresh...</td>\n",
       "      <td>Into a 1 quart Jar with tight fitting lid, put...</td>\n",
       "      <td>Low Protein Low Cholesterol Healthy Summer &lt; 6...</td>\n",
       "      <td>4.5</td>\n",
       "      <td>10.0</td>\n",
       "      <td>Best Lemonade Beverages This is from one of my...</td>\n",
       "      <td>Best Lemonade Beverages one first Good House K...</td>\n",
       "    </tr>\n",
       "    <tr>\n",
       "      <th>3</th>\n",
       "      <td>Carina's Tofu-Vegetable Kebabs</td>\n",
       "      <td>Soy/Tofu</td>\n",
       "      <td>This dish is best prepared a day in advance to...</td>\n",
       "      <td>[extra firm tofu, eggplant, zucchini, mushroom...</td>\n",
       "      <td>Drain the tofu, carefully squeezing out excess...</td>\n",
       "      <td>Beans Vegetable Low Cholesterol Weeknight Broi...</td>\n",
       "      <td>4.5</td>\n",
       "      <td>2.0</td>\n",
       "      <td>Carina's Tofu-Vegetable Kebabs Soy/Tofu This d...</td>\n",
       "      <td>Carina's Tofu-Vegetable Kebabs Soy/Tofu dish b...</td>\n",
       "    </tr>\n",
       "    <tr>\n",
       "      <th>4</th>\n",
       "      <td>Cabbage Soup</td>\n",
       "      <td>Vegetable</td>\n",
       "      <td>Make and share this Cabbage Soup recipe from F...</td>\n",
       "      <td>[plain tomato juice, cabbage, onion, carrots, ...</td>\n",
       "      <td>Mix everything together and bring to a boil. R...</td>\n",
       "      <td>Low Protein Vegan Low Cholesterol Healthy Wint...</td>\n",
       "      <td>4.5</td>\n",
       "      <td>11.0</td>\n",
       "      <td>Cabbage Soup Vegetable Make and share this Cab...</td>\n",
       "      <td>Cabbage Soup Vegetable Make share Cabbage Soup...</td>\n",
       "    </tr>\n",
       "  </tbody>\n",
       "</table>\n",
       "</div>"
      ],
      "text/plain": [
       "                                Name   RecipeCategory  \\\n",
       "0  Low-Fat Berry Blue Frozen Dessert  Frozen Desserts   \n",
       "1                            Biryani   Chicken Breast   \n",
       "2                      Best Lemonade        Beverages   \n",
       "3     Carina's Tofu-Vegetable Kebabs         Soy/Tofu   \n",
       "4                       Cabbage Soup        Vegetable   \n",
       "\n",
       "                                         Description  \\\n",
       "0  Make and share this Low-Fat Berry Blue Frozen ...   \n",
       "1  Make and share this Biryani recipe from Food.com.   \n",
       "2  This is from one of my  first Good House Keepi...   \n",
       "3  This dish is best prepared a day in advance to...   \n",
       "4  Make and share this Cabbage Soup recipe from F...   \n",
       "\n",
       "                               RecipeIngredientParts  \\\n",
       "0  [blueberries, granulated sugar, vanilla yogurt...   \n",
       "1  [saffron, milk, hot green chili peppers, onion...   \n",
       "2  [sugar, lemons, rind of, lemon, zest of, fresh...   \n",
       "3  [extra firm tofu, eggplant, zucchini, mushroom...   \n",
       "4  [plain tomato juice, cabbage, onion, carrots, ...   \n",
       "\n",
       "                                  RecipeInstructions  \\\n",
       "0  Toss 2 cups berries with sugar. Let stand for ...   \n",
       "1  Soak saffron in warm milk for 5 minutes and pu...   \n",
       "2  Into a 1 quart Jar with tight fitting lid, put...   \n",
       "3  Drain the tofu, carefully squeezing out excess...   \n",
       "4  Mix everything together and bring to a boil. R...   \n",
       "\n",
       "                                     Keywords_string  AggregatedRating  \\\n",
       "0  Dessert Low Protein Low Cholesterol Healthy Fr...               4.5   \n",
       "1  Chicken Thigh & Leg Chicken Poultry Meat Asian...               3.0   \n",
       "2  Low Protein Low Cholesterol Healthy Summer < 6...               4.5   \n",
       "3  Beans Vegetable Low Cholesterol Weeknight Broi...               4.5   \n",
       "4  Low Protein Vegan Low Cholesterol Healthy Wint...               4.5   \n",
       "\n",
       "   ReviewCount                                  Combined_Features  \\\n",
       "0          4.0  Low-Fat Berry Blue Frozen Dessert Frozen Desse...   \n",
       "1          1.0  Biryani Chicken Breast Make and share this Bir...   \n",
       "2         10.0  Best Lemonade Beverages This is from one of my...   \n",
       "3          2.0  Carina's Tofu-Vegetable Kebabs Soy/Tofu This d...   \n",
       "4         11.0  Cabbage Soup Vegetable Make and share this Cab...   \n",
       "\n",
       "                             Combined_Features_Clean  \n",
       "0  Low-Fat Berry Blue Frozen Dessert Frozen Desse...  \n",
       "1  Biryani Chicken Breast Make share Biryani reci...  \n",
       "2  Best Lemonade Beverages one first Good House K...  \n",
       "3  Carina's Tofu-Vegetable Kebabs Soy/Tofu dish b...  \n",
       "4  Cabbage Soup Vegetable Make share Cabbage Soup...  "
      ]
     },
     "execution_count": 5,
     "metadata": {},
     "output_type": "execute_result"
    }
   ],
   "source": [
    "file_key = 'recipes_w_cleaning_time_combined_features.parquet'\n",
    "s3.download_file(bucket_name, file_key, f'../data/{file_key}')\n",
    "df = pd.read_parquet(f'../data/{file_key}')\n",
    "\n",
    "df.head()"
   ]
  },
  {
   "cell_type": "code",
   "execution_count": 6,
   "id": "c42abeac-3ebd-4fda-a7d5-e43940aa503e",
   "metadata": {
    "tags": []
   },
   "outputs": [
    {
     "data": {
      "text/plain": [
       "Index(['Name', 'RecipeCategory', 'Description', 'RecipeIngredientParts',\n",
       "       'RecipeInstructions', 'Keywords_string', 'AggregatedRating',\n",
       "       'ReviewCount', 'Combined_Features', 'Combined_Features_Clean'],\n",
       "      dtype='object')"
      ]
     },
     "execution_count": 6,
     "metadata": {},
     "output_type": "execute_result"
    }
   ],
   "source": [
    "df.columns"
   ]
  },
  {
   "cell_type": "code",
   "execution_count": 7,
   "id": "68483703-908e-4f6e-892b-305948d7562d",
   "metadata": {
    "tags": []
   },
   "outputs": [
    {
     "data": {
      "text/plain": [
       "\"Low-Fat Berry Blue Frozen Dessert Frozen Desserts Make share Low-Fat Berry Blue Frozen Dessert recipe Food.com. Toss 2 cups berries sugar. Let stand 45 minutes, stirring occasionally. Transfer berry-sugar mixture food processor. Add yogurt process smooth. Strain fine sieve. Pour baking pan (or transfer ice cream maker process according manufacturers' directions). Freeze uncovered edges solid centre soft. Transfer processor blend smooth again. Return pan freeze edges solid. Transfer processor blend smooth again. Fold remaining 2 cups blueberries. Pour plastic mold freeze overnight. Let soften slightly serve. Dessert Low Protein Low Cholesterol Healthy Free Of... Summer Weeknight Freezer Easy\""
      ]
     },
     "execution_count": 7,
     "metadata": {},
     "output_type": "execute_result"
    }
   ],
   "source": [
    "str(df.iloc[0]['Combined_Features_Clean'])"
   ]
  },
  {
   "cell_type": "code",
   "execution_count": 8,
   "id": "f08ea196-6017-48c7-8e76-e75120089131",
   "metadata": {
    "tags": []
   },
   "outputs": [
    {
     "data": {
      "text/plain": [
       "(269294, 10)"
      ]
     },
     "execution_count": 8,
     "metadata": {},
     "output_type": "execute_result"
    }
   ],
   "source": [
    "df = df[df['AggregatedRating'].notna()]\n",
    "df.shape"
   ]
  },
  {
   "cell_type": "markdown",
   "id": "74654ec1-1620-4b12-abfa-74ce789a79ce",
   "metadata": {},
   "source": [
    "### Load data into chunked documents"
   ]
  },
  {
   "cell_type": "code",
   "execution_count": 9,
   "id": "81165ce4-c17b-44df-a88a-319b4e590105",
   "metadata": {
    "tags": []
   },
   "outputs": [],
   "source": [
    "from langchain_community.embeddings import HuggingFaceEmbeddings\n",
    "from langchain_text_splitters import RecursiveCharacterTextSplitter\n",
    "from langchain.docstore.document import Document"
   ]
  },
  {
   "cell_type": "code",
   "execution_count": 10,
   "id": "ef713c37-2e0f-45ba-8717-de22afbad5b7",
   "metadata": {
    "tags": []
   },
   "outputs": [
    {
     "name": "stderr",
     "output_type": "stream",
     "text": [
      "/home/ec2-user/anaconda3/envs/python3/lib/python3.10/site-packages/langchain_core/_api/deprecation.py:139: LangChainDeprecationWarning: The class `HuggingFaceEmbeddings` was deprecated in LangChain 0.2.2 and will be removed in 0.3.0. An updated version of the class exists in the langchain-huggingface package and should be used instead. To use it run `pip install -U langchain-huggingface` and import as `from langchain_huggingface import HuggingFaceEmbeddings`.\n",
      "  warn_deprecated(\n",
      "/home/ec2-user/anaconda3/envs/python3/lib/python3.10/site-packages/sentence_transformers/cross_encoder/CrossEncoder.py:11: TqdmExperimentalWarning: Using `tqdm.autonotebook.tqdm` in notebook mode. Use `tqdm.tqdm` instead to force console mode (e.g. in jupyter console)\n",
      "  from tqdm.autonotebook import tqdm, trange\n"
     ]
    },
    {
     "data": {
      "application/vnd.jupyter.widget-view+json": {
       "model_id": "7035d59648da4453a6ae64f8c22c0676",
       "version_major": 2,
       "version_minor": 0
      },
      "text/plain": [
       "modules.json:   0%|          | 0.00/229 [00:00<?, ?B/s]"
      ]
     },
     "metadata": {},
     "output_type": "display_data"
    },
    {
     "data": {
      "application/vnd.jupyter.widget-view+json": {
       "model_id": "d6ed950d2fce4a35b616adc3844b85a1",
       "version_major": 2,
       "version_minor": 0
      },
      "text/plain": [
       "config_sentence_transformers.json:   0%|          | 0.00/212 [00:00<?, ?B/s]"
      ]
     },
     "metadata": {},
     "output_type": "display_data"
    },
    {
     "data": {
      "application/vnd.jupyter.widget-view+json": {
       "model_id": "74eb693f2837458486b6f8bdffc65708",
       "version_major": 2,
       "version_minor": 0
      },
      "text/plain": [
       "README.md:   0%|          | 0.00/8.71k [00:00<?, ?B/s]"
      ]
     },
     "metadata": {},
     "output_type": "display_data"
    },
    {
     "data": {
      "application/vnd.jupyter.widget-view+json": {
       "model_id": "8f2c019d04314f87a2716f12978c41e2",
       "version_major": 2,
       "version_minor": 0
      },
      "text/plain": [
       "sentence_bert_config.json:   0%|          | 0.00/53.0 [00:00<?, ?B/s]"
      ]
     },
     "metadata": {},
     "output_type": "display_data"
    },
    {
     "data": {
      "application/vnd.jupyter.widget-view+json": {
       "model_id": "8ef7607483f54202b85712d44db38360",
       "version_major": 2,
       "version_minor": 0
      },
      "text/plain": [
       "config.json:   0%|          | 0.00/571 [00:00<?, ?B/s]"
      ]
     },
     "metadata": {},
     "output_type": "display_data"
    },
    {
     "data": {
      "application/vnd.jupyter.widget-view+json": {
       "model_id": "854e07959668436cb300614f085df576",
       "version_major": 2,
       "version_minor": 0
      },
      "text/plain": [
       "model.safetensors:   0%|          | 0.00/438M [00:00<?, ?B/s]"
      ]
     },
     "metadata": {},
     "output_type": "display_data"
    },
    {
     "data": {
      "application/vnd.jupyter.widget-view+json": {
       "model_id": "f8e53de07d2e49218efd1c6d3f1a490e",
       "version_major": 2,
       "version_minor": 0
      },
      "text/plain": [
       "tokenizer_config.json:   0%|          | 0.00/363 [00:00<?, ?B/s]"
      ]
     },
     "metadata": {},
     "output_type": "display_data"
    },
    {
     "data": {
      "application/vnd.jupyter.widget-view+json": {
       "model_id": "a428d77653b64aee85cf75c378560c8e",
       "version_major": 2,
       "version_minor": 0
      },
      "text/plain": [
       "vocab.txt:   0%|          | 0.00/232k [00:00<?, ?B/s]"
      ]
     },
     "metadata": {},
     "output_type": "display_data"
    },
    {
     "data": {
      "application/vnd.jupyter.widget-view+json": {
       "model_id": "fa9cff5538504ce695b47037e2de27e1",
       "version_major": 2,
       "version_minor": 0
      },
      "text/plain": [
       "tokenizer.json:   0%|          | 0.00/466k [00:00<?, ?B/s]"
      ]
     },
     "metadata": {},
     "output_type": "display_data"
    },
    {
     "data": {
      "application/vnd.jupyter.widget-view+json": {
       "model_id": "64ce0044f3b04481b41a6736f7c1af9d",
       "version_major": 2,
       "version_minor": 0
      },
      "text/plain": [
       "special_tokens_map.json:   0%|          | 0.00/239 [00:00<?, ?B/s]"
      ]
     },
     "metadata": {},
     "output_type": "display_data"
    },
    {
     "data": {
      "application/vnd.jupyter.widget-view+json": {
       "model_id": "93e0f67fe2ad45e3a96578c74e3d13ed",
       "version_major": 2,
       "version_minor": 0
      },
      "text/plain": [
       "1_Pooling/config.json:   0%|          | 0.00/190 [00:00<?, ?B/s]"
      ]
     },
     "metadata": {},
     "output_type": "display_data"
    }
   ],
   "source": [
    "embedding_model = HuggingFaceEmbeddings(model_name=\"multi-qa-mpnet-base-dot-v1\")"
   ]
  },
  {
   "cell_type": "markdown",
   "id": "babae2b2-4aac-4fde-b653-ae2d2a3eb350",
   "metadata": {
    "tags": []
   },
   "source": [
    "### Note: chunking may not be useful for us as the EDA has the following about description length\n",
    "print(new_recipe['Combined_Features_Clean'].str.len().describe())\n",
    "\n",
    "\n",
    "count    522517.000000\\\n",
    "mean        211.461774\\\n",
    "std         122.388646\\\n",
    "min          44.000000\\\n",
    "25%         131.000000\\\n",
    "50%         180.000000\\\n",
    "75%         255.000000\\\n",
    "max        4174.000000\\\n",
    "Name: Combined_Features_Clean, dtype: float64"
   ]
  },
  {
   "cell_type": "code",
   "execution_count": 11,
   "id": "c829beba-a527-4f21-b311-88db598124fe",
   "metadata": {
    "tags": []
   },
   "outputs": [],
   "source": [
    "def create_textsplitter(chunks, overlaps):\n",
    "    splits = {}\n",
    "    for chunk in chunks:\n",
    "        for overlap in overlaps:\n",
    "            splits[f'chunk{str(chunk)}_overlap{str(overlap)}'] = RecursiveCharacterTextSplitter(chunk_size=chunk, chunk_overlap=overlap)\n",
    "    return splits"
   ]
  },
  {
   "cell_type": "code",
   "execution_count": 12,
   "id": "88739f50-8d3a-4558-b5fb-588daf1c41cb",
   "metadata": {
    "tags": []
   },
   "outputs": [],
   "source": [
    "chunks = [128, 256, 512, 1024, 2048]\n",
    "overlaps = [.25, .2, .15, .1]\n",
    "\n",
    "text_splits = create_textsplitter(chunks, overlaps)"
   ]
  },
  {
   "cell_type": "code",
   "execution_count": 13,
   "id": "32e0c41f-6f62-45e4-a385-f94b0493cbe9",
   "metadata": {
    "tags": []
   },
   "outputs": [
    {
     "data": {
      "text/plain": [
       "<langchain_text_splitters.character.RecursiveCharacterTextSplitter at 0x7f97b2aab190>"
      ]
     },
     "execution_count": 13,
     "metadata": {},
     "output_type": "execute_result"
    }
   ],
   "source": [
    "text_splits['chunk1024_overlap0.25']"
   ]
  },
  {
   "cell_type": "code",
   "execution_count": 16,
   "id": "05b5985a-4bdc-44cf-b888-9ddc76abb89e",
   "metadata": {
    "tags": []
   },
   "outputs": [],
   "source": [
    "# def create_documents(df):\n",
    "#     documents = []\n",
    "#     for index, row in df.iterrows():\n",
    "#         metadata = {\n",
    "#             # 'recipe_id': str(row['RecipeId']) if not pd.isna(row['RecipeId']) else 'No ID Available',\n",
    "#             'name': str(row['Name']) if not pd.isna(row['Name']) else 'No Name Available',\n",
    "#             # 'cook_time': str(row['CookTime']) if not pd.isna(row['CookTime']) else 'No Cook Time Available',\n",
    "#             # 'prep_time': str(row['PrepTime']) if not pd.isna(row['PrepTime']) else 'No Prep Time Available',\n",
    "#             # 'total_time': str(row['TotalTime']) if not pd.isna(row['TotalTime']) else 'No Total Time Available',\n",
    "#             'recipe_category': str(row['RecipeCategory']) if not pd.isna(row['RecipeCategory']) else 'No Category Available',\n",
    "#             # 'keywords': str(row['Keywords']) if not pd.isna(row['Keywords']).all() else 'No Keywords Available',\n",
    "#             'aggregated_rating': str(row['AggregatedRating']) if not pd.isna(row['AggregatedRating']) else 'No Rating Available',\n",
    "#             'review_count': str(row['ReviewCount']) if not pd.isna(row['ReviewCount']) else 'No Reviews Available',\n",
    "#             # 'calories': str(row['Calories']) if not pd.isna(row['Calories']) else 'No Calories Information Available',\n",
    "#             # 'fat_content': str(row['FatContent']) if not pd.isna(row['FatContent']) else 'No Fat Content Available',\n",
    "#             # 'saturated_fat_content': str(row['SaturatedFatContent']) if not pd.isna(row['SaturatedFatContent']) else 'No Saturated Fat Content Available',\n",
    "#             # 'cholesterol_content': str(row['CholesterolContent']) if not pd.isna(row['CholesterolContent']) else 'No Cholesterol Content Available',\n",
    "#             # 'sodium_content': str(row['SodiumContent']) if not pd.isna(row['SodiumContent']) else 'No Sodium Content Available',\n",
    "#             # 'carbohydrate_content': str(row['CarbohydrateContent']) if not pd.isna(row['CarbohydrateContent']) else 'No Carbohydrate Content Available',\n",
    "#             # 'sugar_content': str(row['SugarContent']) if not pd.isna(row['SugarContent']) else 'No Sugar Content Available',\n",
    "#             # 'protein_content': str(row['ProteinContent']) if not pd.isna(row['ProteinContent']) else 'No Protein Content Available',\n",
    "#             # 'recipe_servings': str(row['RecipeServings']) if not pd.isna(row['RecipeServings']) else 'No Servings Information Available',\n",
    "#             # 'recipe_yield': str(row['RecipeYield']) if not pd.isna(row['RecipeYield']) else 'No Yield Information Available'\n",
    "#         }\n",
    "\n",
    "#         # Use Combined_Features_Clean for the document content\n",
    "#         text = str(row['Combined_Features_Clean'])\n",
    "#         doc = Document(page_content=text, metadata=metadata)\n",
    "#         documents.append(doc)\n",
    "        \n",
    "#     return documents\n",
    "\n",
    "def create_documents(df):\n",
    "    df_copy = df.copy(deep=True)\n",
    "    df = df.dropna(subset=[\"AggregatedRating\"])\n",
    "    df_copy = df_copy.fillna(\"\")  # Convert NA values to empty strings\n",
    "    df_copy = df_copy.astype(str)  # Cast all columns to string\n",
    "\n",
    "    documents = []\n",
    "    for _index, row in df_copy.iterrows():\n",
    "        metadata = {\n",
    "            \"name\": row[\"Name\"] if row[\"Name\"] else \"No Name Available\",\n",
    "            \"description\": (\n",
    "                row[\"Description\"] if row[\"Description\"] else \"No Description Available\"\n",
    "            ),\n",
    "            \"recipe_category\": (\n",
    "                row[\"RecipeCategory\"]\n",
    "                if row[\"RecipeCategory\"]\n",
    "                else \"No Category Available\"\n",
    "            ),\n",
    "            \"keywords\": (\n",
    "                row[\"Keywords_string\"]\n",
    "                if row[\"Keywords_string\"]\n",
    "                else \"No Keywords Available\"\n",
    "            ),\n",
    "            \"recipe_ingredient_parts\": (\n",
    "                row[\"RecipeIngredientParts\"]\n",
    "                if row[\"RecipeIngredientParts\"]\n",
    "                else \"No Recipe Ingredient Parts Available\"\n",
    "            ),\n",
    "            \"recipe_instructions\": (\n",
    "                row[\"RecipeInstructions\"]\n",
    "                if row[\"RecipeInstructions\"]\n",
    "                else \"No Recipe Instructions Available\"\n",
    "            ),\n",
    "            \"aggregated_rating\": (\n",
    "                row[\"AggregatedRating\"]\n",
    "                if row[\"AggregatedRating\"]\n",
    "                else \"No Rating Available\"\n",
    "            ),\n",
    "            \"review_count\": (\n",
    "                row[\"ReviewCount\"] if row[\"ReviewCount\"] else \"No Reviews Available\"\n",
    "            ),\n",
    "        }\n",
    "\n",
    "        # List of fields to be included in the document content\n",
    "        content_field = (\n",
    "            row[\"Combined_Features\"]\n",
    "            if row[\"Combined_Features\"]\n",
    "            else \"No Content Available\"\n",
    "        )\n",
    "\n",
    "        # Create the document content using the combined features field\n",
    "        doc = Document(page_content=content_field, metadata=metadata)\n",
    "        documents.append(doc)\n",
    "\n",
    "    return documents\n"
   ]
  },
  {
   "cell_type": "code",
   "execution_count": 17,
   "id": "2e316c63-2897-4c89-aa24-562bcab03ba0",
   "metadata": {
    "tags": []
   },
   "outputs": [],
   "source": [
    "# Take a sample of 100K receipes \n",
    "documents = create_documents(df.sample(n=10000))"
   ]
  },
  {
   "cell_type": "code",
   "execution_count": 18,
   "id": "db462d95-67b8-4ec5-b379-1a98666a0dc0",
   "metadata": {
    "tags": []
   },
   "outputs": [
    {
     "data": {
      "text/plain": [
       "Document(metadata={'name': 'Cherry Chicken Salad', 'description': 'The original recipe is from TOH with some additions by me.  We had this for lunch today and really enjoyed it.  Cook time is refrigeration time.', 'recipe_category': 'Lunch/Snacks', 'keywords': 'Chicken Breast Chicken Poultry Meat < 4 Hours', 'recipe_ingredient_parts': \"['dried cherries' 'celery' 'red onion' 'tart apple' 'hard-boiled egg'\\n 'light mayonnaise' 'lemon juice']\", 'recipe_instructions': 'In a large bowl, combine the chicken, cherries, celery, onion, apple, egg and sliced almonds. In another small bowl, combine the mayo and lemon juice. Add to chicken mixture and mix well. Season with salt and pepper to taste. Refrigerate for 1 hour to allow flavors to blend. Serve on Croissants or crackers.', 'aggregated_rating': '5.0', 'review_count': '7.0'}, page_content='Cherry Chicken Salad Lunch/Snacks The original recipe is from TOH with some additions by me.  We had this for lunch today and really enjoyed it.  Cook time is refrigeration time. In a large bowl, combine the chicken, cherries, celery, onion, apple, egg and sliced almonds. In another small bowl, combine the mayo and lemon juice. Add to chicken mixture and mix well. Season with salt and pepper to taste. Refrigerate for 1 hour to allow flavors to blend. Serve on Croissants or crackers. Chicken Breast Chicken Poultry Meat < 4 Hours')"
      ]
     },
     "execution_count": 18,
     "metadata": {},
     "output_type": "execute_result"
    }
   ],
   "source": [
    "documents[0]"
   ]
  },
  {
   "cell_type": "code",
   "execution_count": 19,
   "id": "8d878b08-c2fc-4528-b26f-3a33d7856465",
   "metadata": {
    "tags": []
   },
   "outputs": [
    {
     "data": {
      "text/plain": [
       "10000"
      ]
     },
     "execution_count": 19,
     "metadata": {},
     "output_type": "execute_result"
    }
   ],
   "source": [
    "len(documents)"
   ]
  },
  {
   "cell_type": "code",
   "execution_count": 20,
   "id": "35faf6bb-6a9b-4f59-b021-33c2507638aa",
   "metadata": {
    "tags": []
   },
   "outputs": [],
   "source": [
    "def split_documents_with_metadata(documents, text_splitter):\n",
    "    split_docs = []\n",
    "    for doc in documents:\n",
    "        chunks = text_splitter.split_text(doc.page_content)\n",
    "        for i, chunk in enumerate(chunks):\n",
    "            split_docs.append(Document(page_content=chunk, metadata={**doc.metadata, \"chunk_id\": i}))\n",
    "    return split_docs"
   ]
  },
  {
   "cell_type": "code",
   "execution_count": 21,
   "id": "d6fe3cfc-26b8-47db-8c36-07e06ea3feb9",
   "metadata": {
    "tags": []
   },
   "outputs": [],
   "source": [
    "split_documents = {key: split_documents_with_metadata(documents, text_splitter_recursive) for key, text_splitter_recursive in text_splits.items()}"
   ]
  },
  {
   "cell_type": "code",
   "execution_count": 22,
   "id": "225b95d6-f0f2-41fd-8cf9-c700ef269488",
   "metadata": {
    "tags": []
   },
   "outputs": [
    {
     "data": {
      "text/plain": [
       "Document(metadata={'name': 'Cherry Chicken Salad', 'description': 'The original recipe is from TOH with some additions by me.  We had this for lunch today and really enjoyed it.  Cook time is refrigeration time.', 'recipe_category': 'Lunch/Snacks', 'keywords': 'Chicken Breast Chicken Poultry Meat < 4 Hours', 'recipe_ingredient_parts': \"['dried cherries' 'celery' 'red onion' 'tart apple' 'hard-boiled egg'\\n 'light mayonnaise' 'lemon juice']\", 'recipe_instructions': 'In a large bowl, combine the chicken, cherries, celery, onion, apple, egg and sliced almonds. In another small bowl, combine the mayo and lemon juice. Add to chicken mixture and mix well. Season with salt and pepper to taste. Refrigerate for 1 hour to allow flavors to blend. Serve on Croissants or crackers.', 'aggregated_rating': '5.0', 'review_count': '7.0', 'chunk_id': 0}, page_content='Cherry Chicken Salad Lunch/Snacks The original recipe is from TOH with some additions by me.  We had this for lunch today and really enjoyed it.  Cook time is refrigeration time. In a large bowl, combine the chicken, cherries, celery, onion, apple, egg and')"
      ]
     },
     "execution_count": 22,
     "metadata": {},
     "output_type": "execute_result"
    }
   ],
   "source": [
    "split_documents['chunk256_overlap0.25'][0]"
   ]
  },
  {
   "cell_type": "code",
   "execution_count": 23,
   "id": "4cb92d4b-2aba-4e56-ac81-b0f743c139a3",
   "metadata": {
    "tags": []
   },
   "outputs": [],
   "source": [
    "# We have > 500,000 recipes, this takes a long time to run\n",
    "from langchain_community.vectorstores import Qdrant\n",
    "\n",
    "# From documents with no chunking\n",
    "qdrant_store = Qdrant.from_documents(documents,\n",
    "    embedding_model,\n",
    "    location=\":memory:\",\n",
    ")\n",
    "\n",
    "# from split documents (specify the chunk and overlap key)\n",
    "# qdrant_store = Qdrant.from_documents(split_documents['chunk1024_overlap0.25'],\n",
    "#     embedding_model,\n",
    "#     location=\":memory:\",\n",
    "# )"
   ]
  },
  {
   "cell_type": "markdown",
   "id": "83dd632b-e559-47a3-a9b2-ee65c410ab12",
   "metadata": {},
   "source": [
    "## Create llm query call"
   ]
  },
  {
   "cell_type": "code",
   "execution_count": 24,
   "id": "0a90c77b-533f-4ea7-b1dc-999c3ad1a837",
   "metadata": {
    "tags": []
   },
   "outputs": [],
   "source": [
    "import json"
   ]
  },
  {
   "cell_type": "code",
   "execution_count": 25,
   "id": "f0a0eb6f-ee0f-48ef-ada2-3d8c4588a2a0",
   "metadata": {
    "tags": []
   },
   "outputs": [],
   "source": [
    "bedrock_client = boto3.client('bedrock-runtime', region_name=\"us-east-1\")"
   ]
  },
  {
   "cell_type": "code",
   "execution_count": 26,
   "id": "6558f8ed-ad56-443e-9ff4-8ec6f785407b",
   "metadata": {
    "tags": []
   },
   "outputs": [],
   "source": [
    "baseline_sys_prompt = \"\"\"\n",
    "You are a helpful assistant and expert in cooking recipes.\n",
    "\n",
    "Before answering, always make at least one call to query_food_recipe_vector_db\n",
    "to retrieve the relevant context of recipes and ingredients to generate an informed\n",
    "and high-quality response to the user prompt but NEVER exceed a MAXIMUM of \n",
    "3 calls to the query_food_recipe_vector_db function.\n",
    "\n",
    "Provide a response to the user prompt about food with recommended recipes and instructions.\n",
    "\"\"\""
   ]
  },
  {
   "cell_type": "code",
   "execution_count": 27,
   "id": "91ce8168-eb4b-4ed0-a228-8c09021d35ea",
   "metadata": {
    "tags": []
   },
   "outputs": [],
   "source": [
    "recipe_db_query_tool = {\n",
    "  \"name\": \"query_food_recipe_vector_db\",\n",
    "  \"description\": \"\"\"\n",
    "      Queries the vector database containing food recipes to retrieve the most relevant documents. \n",
    "      This function allows the model to generate and execute multiple queries as necessary to gather comprehensive context, \n",
    "      such as ingredients, preparation steps, and metadata like cuisine and diet type, ensuring accurate and thorough responses to user queries.\n",
    "      \"\"\",\n",
    "  \"input_schema\": {\n",
    "    \"type\": \"object\",\n",
    "    \"properties\": {\n",
    "      \"queries\": {\n",
    "        \"type\": \"array\",\n",
    "        \"items\": {\n",
    "          \"type\": \"string\",\n",
    "          \"description\": \"A query generated by the model to run against the vector database to fetch recipe documents.\"\n",
    "        },\n",
    "        \"description\": \"A list of queries generated by the model to run against the vector database to fetch recipe documents.\"\n",
    "      }\n",
    "    },\n",
    "    \"required\": [\"queries\"]\n",
    "  }\n",
    "}\n"
   ]
  },
  {
   "cell_type": "code",
   "execution_count": 28,
   "id": "288982cc-10b2-4304-b000-e44b7643e4e8",
   "metadata": {
    "tags": []
   },
   "outputs": [],
   "source": [
    "MODEL_ID = \"anthropic.claude-3-sonnet-20240229-v1:0\"\n",
    "\n",
    "def query_bedrock_llm(messages):\n",
    "    response = bedrock_client.invoke_model(\n",
    "        modelId=MODEL_ID,\n",
    "        body=json.dumps({\n",
    "            'anthropic_version': 'bedrock-2023-05-31', # This is required to use chat style messages object \n",
    "            'system': baseline_sys_prompt,\n",
    "            'messages': messages,\n",
    "            'max_tokens': 3000,\n",
    "            \"tools\": [recipe_db_query_tool],\n",
    "\n",
    "            # This config forces the model to always call the recipe db query tool atleast once \n",
    "            # https://docs.anthropic.com/en/docs/build-with-claude/tool-use#controlling-claudes-output\n",
    "            # \"tool_choice\": {\n",
    "            #     \"type\": \"tool\",\n",
    "            #     \"name\": recipe_db_query_tool['name']\n",
    "            # },\n",
    "            \n",
    "            # TODO: TUNE THESE VALUES\n",
    "            'temperature': 0.1, \n",
    "            'top_p': 0.9\n",
    "        })\n",
    "    )\n",
    "    response_body = json.loads(response.get('body').read())\n",
    "    \n",
    "    return response_body"
   ]
  },
  {
   "cell_type": "code",
   "execution_count": 29,
   "id": "b8e59900-d491-4d65-bed7-4e1c91226f7e",
   "metadata": {
    "tags": []
   },
   "outputs": [],
   "source": [
    "qa_sys_prompt = \"\"\"\n",
    "You are a helpful assistant and expert in cooking recipes.\n",
    "\n",
    "You are evaluating for consistency of the user query.\n",
    "Please retrieve documents that DO NOT violate dietary restrictions, allergies, \n",
    "or any requirements dictated by the user.\n",
    "\n",
    "\"\"\""
   ]
  },
  {
   "cell_type": "code",
   "execution_count": 168,
   "id": "09b1098e-6f8c-47f6-8b83-722c57d581e8",
   "metadata": {
    "tags": []
   },
   "outputs": [],
   "source": [
    "def qa_query_bedrock_llm(messages):\n",
    "\n",
    "#     if not isinstance(messages, list):\n",
    "#         raise ValueError(\"Messages should be a list of dictionaries\")\n",
    "    print(messages)\n",
    "    print()\n",
    "    \n",
    "    structured_query = {\n",
    "    \"query\": \"no peanuts\",\n",
    "    \"filter\": 'not(like(\"keywords\", \"peanuts\"))'\n",
    "}\n",
    "    \n",
    "    structured_query_json = json.dumps(structured_query, indent=4)\n",
    "    \n",
    "    # messages = [messages]\n",
    "    messages = [\n",
    "        {\"role\": \"user\", \"content\": \"You are a helpful assistant that provides recipes without peanuts.\"},\n",
    "        {\"role\": \"assistant\", \"content\": \"Recipes with no peanuts\"}\n",
    "    ]\n",
    "    serializable_messages = []\n",
    "    for message in messages:\n",
    "        if isinstance(message, dict) and \"role\" in message and \"content\" in message:\n",
    "            serializable_messages.append(message)\n",
    "        else:\n",
    "            # Attempt to convert any other type to a string\n",
    "            serializable_messages.append({\"role\": \"user\", \"content\": str(message)})\n",
    "\n",
    "    # messages = [\n",
    "    # {\"role\": \"user\", \"content\": \"You are a helpful assistant that provides recipes without peanuts.\"},\n",
    "    # {\"role\": \"assistant\", \"content\": \"Recipes with no peanuts\"}\n",
    "    # ]\n",
    "    \n",
    "    response = bedrock_client.invoke_model(\n",
    "        modelId=MODEL_ID,\n",
    "        body=json.dumps({\n",
    "            'anthropic_version': 'bedrock-2023-05-31', # This is required to use chat style messages object \n",
    "            'system': qa_sys_prompt,\n",
    "            'messages': serializable_messages,\n",
    "\n",
    "            'max_tokens': 3000,\n",
    "            # \"tools\": [recipe_db_query_tool],\n",
    "\n",
    "            # This config forces the model to always call the recipe db query tool atleast once \n",
    "            # https://docs.anthropic.com/en/docs/build-with-claude/tool-use#controlling-claudes-output\n",
    "            # \"tool_choice\": {\n",
    "            #     \"type\": \"tool\",\n",
    "            #     \"name\": recipe_db_query_tool['name']\n",
    "            # },\n",
    "            \n",
    "            # TODO: TUNE THESE VALUES\n",
    "            'temperature': 0.1, \n",
    "            'top_p': 0.9\n",
    "        })\n",
    "    )\n",
    "    response_body = json.loads(response.get('body').read())\n",
    "    \n",
    "    return response_body"
   ]
  },
  {
   "cell_type": "markdown",
   "id": "497ccdc5-7f76-491a-9813-25fa6da4a5df",
   "metadata": {},
   "source": [
    "## Create Retrieval Chainfrom langchain_core.prompts import ChatPromptTemplate"
   ]
  },
  {
   "cell_type": "code",
   "execution_count": 169,
   "id": "8e4ed337-9679-4ed7-9c70-82c119023448",
   "metadata": {
    "tags": []
   },
   "outputs": [],
   "source": [
    "from langchain_core.prompts import ChatPromptTemplate\n",
    "from langchain_core.runnables import RunnablePassthrough, RunnableMap"
   ]
  },
  {
   "cell_type": "code",
   "execution_count": 170,
   "id": "cd9366dc-f249-4e6c-b479-29f18ad155d3",
   "metadata": {
    "tags": []
   },
   "outputs": [],
   "source": [
    "def format_docs(docs):\n",
    "    formatted_docs = []\n",
    "    for doc in docs:\n",
    "        formatted_docs.append(f\"Metadata: {doc.metadata}\\n\")\n",
    "    content = \"\\n\\n\".join(formatted_docs)\n",
    "    \n",
    "    return content"
   ]
  },
  {
   "cell_type": "code",
   "execution_count": 171,
   "id": "936c5570-8c42-4707-a55d-f716593a6c6f",
   "metadata": {
    "tags": []
   },
   "outputs": [],
   "source": [
    "baseline_user_prompt = \"\"\"\n",
    "### Here is a user prompt:\n",
    "{query}\n",
    "\"\"\""
   ]
  },
  {
   "cell_type": "code",
   "execution_count": 172,
   "id": "73f6a70d-2929-467c-89ff-e523a909f7ae",
   "metadata": {
    "tags": []
   },
   "outputs": [],
   "source": [
    "def process_prompt_basic(query_args):\n",
    "    prompt_with_context = baseline_user_prompt.replace(\"{context}\", query_args['context'])\n",
    "    prompt_with_query = prompt_with_context.replace(\"{query}\", query_args['query'])\n",
    "    \n",
    "    # This format doesn't matter much now, but we will use it later to \n",
    "    # persist chat history for continuous dialogue\n",
    "    messages = [\n",
    "        {\n",
    "            \"role\": \"user\",\n",
    "            \"content\": [\n",
    "                {\n",
    "                    \"type\": \"text\",\n",
    "                    \"text\": prompt_with_query\n",
    "                }\n",
    "            ]\n",
    "        }\n",
    "    ]\n",
    "    \n",
    "    return messages"
   ]
  },
  {
   "cell_type": "markdown",
   "id": "6ca97d83-0690-484c-8c87-54d7e03b2a32",
   "metadata": {},
   "source": [
    "## Create Initial Retriever"
   ]
  },
  {
   "cell_type": "code",
   "execution_count": 173,
   "id": "36e69095-4a94-4d91-90fc-fb9ac5301306",
   "metadata": {
    "tags": []
   },
   "outputs": [],
   "source": [
    "qdrant_retriever_rerank = qdrant_store.as_retriever(search_type='mmr', search_kwargs={\"k\": 50, 'lambda_mult': 0.5})\n"
   ]
  },
  {
   "cell_type": "markdown",
   "id": "c7d9e8b1-fffe-4a23-a313-789c21f7a367",
   "metadata": {},
   "source": [
    "### Self Query"
   ]
  },
  {
   "cell_type": "code",
   "execution_count": 174,
   "id": "6ff7b3a5-6c55-48b4-91b5-589339c9aff9",
   "metadata": {
    "tags": []
   },
   "outputs": [],
   "source": [
    "from langchain.chains.query_constructor.base import AttributeInfo\n",
    "from langchain.retrievers.self_query.base import SelfQueryRetriever\n",
    "\n",
    "metadata_field_info = [\n",
    "    AttributeInfo(\n",
    "        name=\"keywords\",\n",
    "        description=\"Keywords within the recipe\",\n",
    "        type=\"string\",\n",
    "    )\n",
    "]\n",
    "\n",
    "document_content_description = \"List of recipes\"\n",
    "llm = qa_query_bedrock_llm\n",
    "# qa_retriever = SelfQueryRetriever.from_llm(\n",
    "#     llm, qdrant_store, document_content_description, metadata_field_info, verbose=True\n",
    "# )\n",
    "qa_retriever = SelfQueryRetriever.from_llm(\n",
    "    llm, qdrant_store, document_content_description, metadata_field_info, verbose=True\n",
    ")\n"
   ]
  },
  {
   "cell_type": "code",
   "execution_count": 175,
   "id": "e100d1c9-4461-498d-92f9-b5e0b5c4e282",
   "metadata": {
    "tags": []
   },
   "outputs": [],
   "source": [
    "# print(qa_query_bedrock_llm(\"Recipes with no peanuts\"))"
   ]
  },
  {
   "cell_type": "code",
   "execution_count": 176,
   "id": "26c6b3dc-3682-4d25-bd56-58f79b68a6cf",
   "metadata": {
    "tags": []
   },
   "outputs": [
    {
     "name": "stdout",
     "output_type": "stream",
     "text": [
      "text='Your goal is to structure the user\\'s query to match the request schema provided below.\\n\\n<< Structured Request Schema >>\\nWhen responding use a markdown code snippet with a JSON object formatted in the following schema:\\n\\n```json\\n{\\n    \"query\": string \\\\ text string to compare to document contents\\n    \"filter\": string \\\\ logical condition statement for filtering documents\\n}\\n```\\n\\nThe query string should contain only text that is expected to match the contents of documents. Any conditions in the filter should not be mentioned in the query as well.\\n\\nA logical condition statement is composed of one or more comparison and logical operation statements.\\n\\nA comparison statement takes the form: `comp(attr, val)`:\\n- `comp` (eq | lt | lte | gt | gte | like): comparator\\n- `attr` (string):  name of attribute to apply the comparison to\\n- `val` (string): is the comparison value\\n\\nA logical operation statement takes the form `op(statement1, statement2, ...)`:\\n- `op` (and | or | not): logical operator\\n- `statement1`, `statement2`, ... (comparison statements or logical operation statements): one or more statements to apply the operation to\\n\\nMake sure that you only use the comparators and logical operators listed above and no others.\\nMake sure that filters only refer to attributes that exist in the data source.\\nMake sure that filters only use the attributed names with its function names if there are functions applied on them.\\nMake sure that filters only use format `YYYY-MM-DD` when handling date data typed values.\\nMake sure that filters take into account the descriptions of attributes and only make comparisons that are feasible given the type of data being stored.\\nMake sure that filters are only used as needed. If there are no filters that should be applied return \"NO_FILTER\" for the filter value.\\n\\n<< Example 1. >>\\nData Source:\\n```json\\n{\\n    \"content\": \"Lyrics of a song\",\\n    \"attributes\": {\\n        \"artist\": {\\n            \"type\": \"string\",\\n            \"description\": \"Name of the song artist\"\\n        },\\n        \"length\": {\\n            \"type\": \"integer\",\\n            \"description\": \"Length of the song in seconds\"\\n        },\\n        \"genre\": {\\n            \"type\": \"string\",\\n            \"description\": \"The song genre, one of \"pop\", \"rock\" or \"rap\"\"\\n        }\\n    }\\n}\\n```\\n\\nUser Query:\\nWhat are songs by Taylor Swift or Katy Perry about teenage romance under 3 minutes long in the dance pop genre\\n\\nStructured Request:\\n```json\\n{\\n    \"query\": \"teenager love\",\\n    \"filter\": \"and(or(eq(\\\\\"artist\\\\\", \\\\\"Taylor Swift\\\\\"), eq(\\\\\"artist\\\\\", \\\\\"Katy Perry\\\\\")), lt(\\\\\"length\\\\\", 180), eq(\\\\\"genre\\\\\", \\\\\"pop\\\\\"))\"\\n}\\n```\\n\\n\\n<< Example 2. >>\\nData Source:\\n```json\\n{\\n    \"content\": \"Lyrics of a song\",\\n    \"attributes\": {\\n        \"artist\": {\\n            \"type\": \"string\",\\n            \"description\": \"Name of the song artist\"\\n        },\\n        \"length\": {\\n            \"type\": \"integer\",\\n            \"description\": \"Length of the song in seconds\"\\n        },\\n        \"genre\": {\\n            \"type\": \"string\",\\n            \"description\": \"The song genre, one of \"pop\", \"rock\" or \"rap\"\"\\n        }\\n    }\\n}\\n```\\n\\nUser Query:\\nWhat are songs that were not published on Spotify\\n\\nStructured Request:\\n```json\\n{\\n    \"query\": \"\",\\n    \"filter\": \"NO_FILTER\"\\n}\\n```\\n\\n\\n<< Example 3. >>\\nData Source:\\n```json\\n{\\n    \"content\": \"List of recipes\",\\n    \"attributes\": {\\n    \"keywords\": {\\n        \"description\": \"Keywords within the recipe\",\\n        \"type\": \"string\"\\n    }\\n}\\n}\\n```\\n\\nUser Query:\\nRecipes with no peanuts\\n\\nStructured Request:\\n'\n",
      "\n"
     ]
    },
    {
     "ename": "ValidationError",
     "evalue": "1 validation error for Generation\ntext\n  str type expected (type=type_error.str)",
     "output_type": "error",
     "traceback": [
      "\u001B[0;31m---------------------------------------------------------------------------\u001B[0m",
      "\u001B[0;31mValidationError\u001B[0m                           Traceback (most recent call last)",
      "Cell \u001B[0;32mIn[176], line 1\u001B[0m\n\u001B[0;32m----> 1\u001B[0m output \u001B[38;5;241m=\u001B[39m \u001B[43mqa_retriever\u001B[49m\u001B[38;5;241;43m.\u001B[39;49m\u001B[43minvoke\u001B[49m\u001B[43m(\u001B[49m\u001B[38;5;124;43m\"\u001B[39;49m\u001B[38;5;124;43mRecipes with no peanuts\u001B[39;49m\u001B[38;5;124;43m\"\u001B[39;49m\u001B[43m)\u001B[49m\n",
      "File \u001B[0;32m~/anaconda3/envs/python3/lib/python3.10/site-packages/langchain_core/retrievers.py:222\u001B[0m, in \u001B[0;36mBaseRetriever.invoke\u001B[0;34m(self, input, config, **kwargs)\u001B[0m\n\u001B[1;32m    220\u001B[0m \u001B[38;5;28;01mexcept\u001B[39;00m \u001B[38;5;167;01mException\u001B[39;00m \u001B[38;5;28;01mas\u001B[39;00m e:\n\u001B[1;32m    221\u001B[0m     run_manager\u001B[38;5;241m.\u001B[39mon_retriever_error(e)\n\u001B[0;32m--> 222\u001B[0m     \u001B[38;5;28;01mraise\u001B[39;00m e\n\u001B[1;32m    223\u001B[0m \u001B[38;5;28;01melse\u001B[39;00m:\n\u001B[1;32m    224\u001B[0m     run_manager\u001B[38;5;241m.\u001B[39mon_retriever_end(\n\u001B[1;32m    225\u001B[0m         result,\n\u001B[1;32m    226\u001B[0m     )\n",
      "File \u001B[0;32m~/anaconda3/envs/python3/lib/python3.10/site-packages/langchain_core/retrievers.py:215\u001B[0m, in \u001B[0;36mBaseRetriever.invoke\u001B[0;34m(self, input, config, **kwargs)\u001B[0m\n\u001B[1;32m    213\u001B[0m _kwargs \u001B[38;5;241m=\u001B[39m kwargs \u001B[38;5;28;01mif\u001B[39;00m \u001B[38;5;28mself\u001B[39m\u001B[38;5;241m.\u001B[39m_expects_other_args \u001B[38;5;28;01melse\u001B[39;00m {}\n\u001B[1;32m    214\u001B[0m \u001B[38;5;28;01mif\u001B[39;00m \u001B[38;5;28mself\u001B[39m\u001B[38;5;241m.\u001B[39m_new_arg_supported:\n\u001B[0;32m--> 215\u001B[0m     result \u001B[38;5;241m=\u001B[39m \u001B[38;5;28;43mself\u001B[39;49m\u001B[38;5;241;43m.\u001B[39;49m\u001B[43m_get_relevant_documents\u001B[49m\u001B[43m(\u001B[49m\n\u001B[1;32m    216\u001B[0m \u001B[43m        \u001B[49m\u001B[38;5;28;43minput\u001B[39;49m\u001B[43m,\u001B[49m\u001B[43m \u001B[49m\u001B[43mrun_manager\u001B[49m\u001B[38;5;241;43m=\u001B[39;49m\u001B[43mrun_manager\u001B[49m\u001B[43m,\u001B[49m\u001B[43m \u001B[49m\u001B[38;5;241;43m*\u001B[39;49m\u001B[38;5;241;43m*\u001B[39;49m\u001B[43m_kwargs\u001B[49m\n\u001B[1;32m    217\u001B[0m \u001B[43m    \u001B[49m\u001B[43m)\u001B[49m\n\u001B[1;32m    218\u001B[0m \u001B[38;5;28;01melse\u001B[39;00m:\n\u001B[1;32m    219\u001B[0m     result \u001B[38;5;241m=\u001B[39m \u001B[38;5;28mself\u001B[39m\u001B[38;5;241m.\u001B[39m_get_relevant_documents(\u001B[38;5;28minput\u001B[39m, \u001B[38;5;241m*\u001B[39m\u001B[38;5;241m*\u001B[39m_kwargs)\n",
      "File \u001B[0;32m~/anaconda3/envs/python3/lib/python3.10/site-packages/langchain/retrievers/self_query/base.py:263\u001B[0m, in \u001B[0;36mSelfQueryRetriever._get_relevant_documents\u001B[0;34m(self, query, run_manager)\u001B[0m\n\u001B[1;32m    252\u001B[0m \u001B[38;5;28;01mdef\u001B[39;00m \u001B[38;5;21m_get_relevant_documents\u001B[39m(\n\u001B[1;32m    253\u001B[0m     \u001B[38;5;28mself\u001B[39m, query: \u001B[38;5;28mstr\u001B[39m, \u001B[38;5;241m*\u001B[39m, run_manager: CallbackManagerForRetrieverRun\n\u001B[1;32m    254\u001B[0m ) \u001B[38;5;241m-\u001B[39m\u001B[38;5;241m>\u001B[39m List[Document]:\n\u001B[1;32m    255\u001B[0m \u001B[38;5;250m    \u001B[39m\u001B[38;5;124;03m\"\"\"Get documents relevant for a query.\u001B[39;00m\n\u001B[1;32m    256\u001B[0m \n\u001B[1;32m    257\u001B[0m \u001B[38;5;124;03m    Args:\u001B[39;00m\n\u001B[0;32m   (...)\u001B[0m\n\u001B[1;32m    261\u001B[0m \u001B[38;5;124;03m        List of relevant documents\u001B[39;00m\n\u001B[1;32m    262\u001B[0m \u001B[38;5;124;03m    \"\"\"\u001B[39;00m\n\u001B[0;32m--> 263\u001B[0m     structured_query \u001B[38;5;241m=\u001B[39m \u001B[38;5;28;43mself\u001B[39;49m\u001B[38;5;241;43m.\u001B[39;49m\u001B[43mquery_constructor\u001B[49m\u001B[38;5;241;43m.\u001B[39;49m\u001B[43minvoke\u001B[49m\u001B[43m(\u001B[49m\n\u001B[1;32m    264\u001B[0m \u001B[43m        \u001B[49m\u001B[43m{\u001B[49m\u001B[38;5;124;43m\"\u001B[39;49m\u001B[38;5;124;43mquery\u001B[39;49m\u001B[38;5;124;43m\"\u001B[39;49m\u001B[43m:\u001B[49m\u001B[43m \u001B[49m\u001B[43mquery\u001B[49m\u001B[43m}\u001B[49m\u001B[43m,\u001B[49m\u001B[43m \u001B[49m\u001B[43mconfig\u001B[49m\u001B[38;5;241;43m=\u001B[39;49m\u001B[43m{\u001B[49m\u001B[38;5;124;43m\"\u001B[39;49m\u001B[38;5;124;43mcallbacks\u001B[39;49m\u001B[38;5;124;43m\"\u001B[39;49m\u001B[43m:\u001B[49m\u001B[43m \u001B[49m\u001B[43mrun_manager\u001B[49m\u001B[38;5;241;43m.\u001B[39;49m\u001B[43mget_child\u001B[49m\u001B[43m(\u001B[49m\u001B[43m)\u001B[49m\u001B[43m}\u001B[49m\n\u001B[1;32m    265\u001B[0m \u001B[43m    \u001B[49m\u001B[43m)\u001B[49m\n\u001B[1;32m    266\u001B[0m     \u001B[38;5;28;01mif\u001B[39;00m \u001B[38;5;28mself\u001B[39m\u001B[38;5;241m.\u001B[39mverbose:\n\u001B[1;32m    267\u001B[0m         logger\u001B[38;5;241m.\u001B[39minfo(\u001B[38;5;124mf\u001B[39m\u001B[38;5;124m\"\u001B[39m\u001B[38;5;124mGenerated Query: \u001B[39m\u001B[38;5;132;01m{\u001B[39;00mstructured_query\u001B[38;5;132;01m}\u001B[39;00m\u001B[38;5;124m\"\u001B[39m)\n",
      "File \u001B[0;32m~/anaconda3/envs/python3/lib/python3.10/site-packages/langchain_core/runnables/base.py:4978\u001B[0m, in \u001B[0;36mRunnableBindingBase.invoke\u001B[0;34m(self, input, config, **kwargs)\u001B[0m\n\u001B[1;32m   4972\u001B[0m \u001B[38;5;28;01mdef\u001B[39;00m \u001B[38;5;21minvoke\u001B[39m(\n\u001B[1;32m   4973\u001B[0m     \u001B[38;5;28mself\u001B[39m,\n\u001B[1;32m   4974\u001B[0m     \u001B[38;5;28minput\u001B[39m: Input,\n\u001B[1;32m   4975\u001B[0m     config: Optional[RunnableConfig] \u001B[38;5;241m=\u001B[39m \u001B[38;5;28;01mNone\u001B[39;00m,\n\u001B[1;32m   4976\u001B[0m     \u001B[38;5;241m*\u001B[39m\u001B[38;5;241m*\u001B[39mkwargs: Optional[Any],\n\u001B[1;32m   4977\u001B[0m ) \u001B[38;5;241m-\u001B[39m\u001B[38;5;241m>\u001B[39m Output:\n\u001B[0;32m-> 4978\u001B[0m     \u001B[38;5;28;01mreturn\u001B[39;00m \u001B[38;5;28;43mself\u001B[39;49m\u001B[38;5;241;43m.\u001B[39;49m\u001B[43mbound\u001B[49m\u001B[38;5;241;43m.\u001B[39;49m\u001B[43minvoke\u001B[49m\u001B[43m(\u001B[49m\n\u001B[1;32m   4979\u001B[0m \u001B[43m        \u001B[49m\u001B[38;5;28;43minput\u001B[39;49m\u001B[43m,\u001B[49m\n\u001B[1;32m   4980\u001B[0m \u001B[43m        \u001B[49m\u001B[38;5;28;43mself\u001B[39;49m\u001B[38;5;241;43m.\u001B[39;49m\u001B[43m_merge_configs\u001B[49m\u001B[43m(\u001B[49m\u001B[43mconfig\u001B[49m\u001B[43m)\u001B[49m\u001B[43m,\u001B[49m\n\u001B[1;32m   4981\u001B[0m \u001B[43m        \u001B[49m\u001B[38;5;241;43m*\u001B[39;49m\u001B[38;5;241;43m*\u001B[39;49m\u001B[43m{\u001B[49m\u001B[38;5;241;43m*\u001B[39;49m\u001B[38;5;241;43m*\u001B[39;49m\u001B[38;5;28;43mself\u001B[39;49m\u001B[38;5;241;43m.\u001B[39;49m\u001B[43mkwargs\u001B[49m\u001B[43m,\u001B[49m\u001B[43m \u001B[49m\u001B[38;5;241;43m*\u001B[39;49m\u001B[38;5;241;43m*\u001B[39;49m\u001B[43mkwargs\u001B[49m\u001B[43m}\u001B[49m\u001B[43m,\u001B[49m\n\u001B[1;32m   4982\u001B[0m \u001B[43m    \u001B[49m\u001B[43m)\u001B[49m\n",
      "File \u001B[0;32m~/anaconda3/envs/python3/lib/python3.10/site-packages/langchain_core/runnables/base.py:2796\u001B[0m, in \u001B[0;36mRunnableSequence.invoke\u001B[0;34m(self, input, config, **kwargs)\u001B[0m\n\u001B[1;32m   2794\u001B[0m             \u001B[38;5;28minput\u001B[39m \u001B[38;5;241m=\u001B[39m step\u001B[38;5;241m.\u001B[39minvoke(\u001B[38;5;28minput\u001B[39m, config, \u001B[38;5;241m*\u001B[39m\u001B[38;5;241m*\u001B[39mkwargs)\n\u001B[1;32m   2795\u001B[0m         \u001B[38;5;28;01melse\u001B[39;00m:\n\u001B[0;32m-> 2796\u001B[0m             \u001B[38;5;28minput\u001B[39m \u001B[38;5;241m=\u001B[39m \u001B[43mstep\u001B[49m\u001B[38;5;241;43m.\u001B[39;49m\u001B[43minvoke\u001B[49m\u001B[43m(\u001B[49m\u001B[38;5;28;43minput\u001B[39;49m\u001B[43m,\u001B[49m\u001B[43m \u001B[49m\u001B[43mconfig\u001B[49m\u001B[43m)\u001B[49m\n\u001B[1;32m   2797\u001B[0m \u001B[38;5;66;03m# finish the root run\u001B[39;00m\n\u001B[1;32m   2798\u001B[0m \u001B[38;5;28;01mexcept\u001B[39;00m \u001B[38;5;167;01mBaseException\u001B[39;00m \u001B[38;5;28;01mas\u001B[39;00m e:\n",
      "File \u001B[0;32m~/anaconda3/envs/python3/lib/python3.10/site-packages/langchain_core/output_parsers/base.py:192\u001B[0m, in \u001B[0;36mBaseOutputParser.invoke\u001B[0;34m(self, input, config)\u001B[0m\n\u001B[1;32m    183\u001B[0m     \u001B[38;5;28;01mreturn\u001B[39;00m \u001B[38;5;28mself\u001B[39m\u001B[38;5;241m.\u001B[39m_call_with_config(\n\u001B[1;32m    184\u001B[0m         \u001B[38;5;28;01mlambda\u001B[39;00m inner_input: \u001B[38;5;28mself\u001B[39m\u001B[38;5;241m.\u001B[39mparse_result(\n\u001B[1;32m    185\u001B[0m             [ChatGeneration(message\u001B[38;5;241m=\u001B[39minner_input)]\n\u001B[0;32m   (...)\u001B[0m\n\u001B[1;32m    189\u001B[0m         run_type\u001B[38;5;241m=\u001B[39m\u001B[38;5;124m\"\u001B[39m\u001B[38;5;124mparser\u001B[39m\u001B[38;5;124m\"\u001B[39m,\n\u001B[1;32m    190\u001B[0m     )\n\u001B[1;32m    191\u001B[0m \u001B[38;5;28;01melse\u001B[39;00m:\n\u001B[0;32m--> 192\u001B[0m     \u001B[38;5;28;01mreturn\u001B[39;00m \u001B[38;5;28;43mself\u001B[39;49m\u001B[38;5;241;43m.\u001B[39;49m\u001B[43m_call_with_config\u001B[49m\u001B[43m(\u001B[49m\n\u001B[1;32m    193\u001B[0m \u001B[43m        \u001B[49m\u001B[38;5;28;43;01mlambda\u001B[39;49;00m\u001B[43m \u001B[49m\u001B[43minner_input\u001B[49m\u001B[43m:\u001B[49m\u001B[43m \u001B[49m\u001B[38;5;28;43mself\u001B[39;49m\u001B[38;5;241;43m.\u001B[39;49m\u001B[43mparse_result\u001B[49m\u001B[43m(\u001B[49m\u001B[43m[\u001B[49m\u001B[43mGeneration\u001B[49m\u001B[43m(\u001B[49m\u001B[43mtext\u001B[49m\u001B[38;5;241;43m=\u001B[39;49m\u001B[43minner_input\u001B[49m\u001B[43m)\u001B[49m\u001B[43m]\u001B[49m\u001B[43m)\u001B[49m\u001B[43m,\u001B[49m\n\u001B[1;32m    194\u001B[0m \u001B[43m        \u001B[49m\u001B[38;5;28;43minput\u001B[39;49m\u001B[43m,\u001B[49m\n\u001B[1;32m    195\u001B[0m \u001B[43m        \u001B[49m\u001B[43mconfig\u001B[49m\u001B[43m,\u001B[49m\n\u001B[1;32m    196\u001B[0m \u001B[43m        \u001B[49m\u001B[43mrun_type\u001B[49m\u001B[38;5;241;43m=\u001B[39;49m\u001B[38;5;124;43m\"\u001B[39;49m\u001B[38;5;124;43mparser\u001B[39;49m\u001B[38;5;124;43m\"\u001B[39;49m\u001B[43m,\u001B[49m\n\u001B[1;32m    197\u001B[0m \u001B[43m    \u001B[49m\u001B[43m)\u001B[49m\n",
      "File \u001B[0;32m~/anaconda3/envs/python3/lib/python3.10/site-packages/langchain_core/runnables/base.py:1734\u001B[0m, in \u001B[0;36mRunnable._call_with_config\u001B[0;34m(self, func, input, config, run_type, **kwargs)\u001B[0m\n\u001B[1;32m   1730\u001B[0m     context \u001B[38;5;241m=\u001B[39m copy_context()\n\u001B[1;32m   1731\u001B[0m     context\u001B[38;5;241m.\u001B[39mrun(_set_config_context, child_config)\n\u001B[1;32m   1732\u001B[0m     output \u001B[38;5;241m=\u001B[39m cast(\n\u001B[1;32m   1733\u001B[0m         Output,\n\u001B[0;32m-> 1734\u001B[0m         \u001B[43mcontext\u001B[49m\u001B[38;5;241;43m.\u001B[39;49m\u001B[43mrun\u001B[49m\u001B[43m(\u001B[49m\n\u001B[1;32m   1735\u001B[0m \u001B[43m            \u001B[49m\u001B[43mcall_func_with_variable_args\u001B[49m\u001B[43m,\u001B[49m\u001B[43m  \u001B[49m\u001B[38;5;66;43;03m# type: ignore[arg-type]\u001B[39;49;00m\n\u001B[1;32m   1736\u001B[0m \u001B[43m            \u001B[49m\u001B[43mfunc\u001B[49m\u001B[43m,\u001B[49m\u001B[43m  \u001B[49m\u001B[38;5;66;43;03m# type: ignore[arg-type]\u001B[39;49;00m\n\u001B[1;32m   1737\u001B[0m \u001B[43m            \u001B[49m\u001B[38;5;28;43minput\u001B[39;49m\u001B[43m,\u001B[49m\u001B[43m  \u001B[49m\u001B[38;5;66;43;03m# type: ignore[arg-type]\u001B[39;49;00m\n\u001B[1;32m   1738\u001B[0m \u001B[43m            \u001B[49m\u001B[43mconfig\u001B[49m\u001B[43m,\u001B[49m\n\u001B[1;32m   1739\u001B[0m \u001B[43m            \u001B[49m\u001B[43mrun_manager\u001B[49m\u001B[43m,\u001B[49m\n\u001B[1;32m   1740\u001B[0m \u001B[43m            \u001B[49m\u001B[38;5;241;43m*\u001B[39;49m\u001B[38;5;241;43m*\u001B[39;49m\u001B[43mkwargs\u001B[49m\u001B[43m,\u001B[49m\n\u001B[1;32m   1741\u001B[0m \u001B[43m        \u001B[49m\u001B[43m)\u001B[49m,\n\u001B[1;32m   1742\u001B[0m     )\n\u001B[1;32m   1743\u001B[0m \u001B[38;5;28;01mexcept\u001B[39;00m \u001B[38;5;167;01mBaseException\u001B[39;00m \u001B[38;5;28;01mas\u001B[39;00m e:\n\u001B[1;32m   1744\u001B[0m     run_manager\u001B[38;5;241m.\u001B[39mon_chain_error(e)\n",
      "File \u001B[0;32m~/anaconda3/envs/python3/lib/python3.10/site-packages/langchain_core/runnables/config.py:379\u001B[0m, in \u001B[0;36mcall_func_with_variable_args\u001B[0;34m(func, input, config, run_manager, **kwargs)\u001B[0m\n\u001B[1;32m    377\u001B[0m \u001B[38;5;28;01mif\u001B[39;00m run_manager \u001B[38;5;129;01mis\u001B[39;00m \u001B[38;5;129;01mnot\u001B[39;00m \u001B[38;5;28;01mNone\u001B[39;00m \u001B[38;5;129;01mand\u001B[39;00m accepts_run_manager(func):\n\u001B[1;32m    378\u001B[0m     kwargs[\u001B[38;5;124m\"\u001B[39m\u001B[38;5;124mrun_manager\u001B[39m\u001B[38;5;124m\"\u001B[39m] \u001B[38;5;241m=\u001B[39m run_manager\n\u001B[0;32m--> 379\u001B[0m \u001B[38;5;28;01mreturn\u001B[39;00m \u001B[43mfunc\u001B[49m\u001B[43m(\u001B[49m\u001B[38;5;28;43minput\u001B[39;49m\u001B[43m,\u001B[49m\u001B[43m \u001B[49m\u001B[38;5;241;43m*\u001B[39;49m\u001B[38;5;241;43m*\u001B[39;49m\u001B[43mkwargs\u001B[49m\u001B[43m)\u001B[49m\n",
      "File \u001B[0;32m~/anaconda3/envs/python3/lib/python3.10/site-packages/langchain_core/output_parsers/base.py:193\u001B[0m, in \u001B[0;36mBaseOutputParser.invoke.<locals>.<lambda>\u001B[0;34m(inner_input)\u001B[0m\n\u001B[1;32m    183\u001B[0m     \u001B[38;5;28;01mreturn\u001B[39;00m \u001B[38;5;28mself\u001B[39m\u001B[38;5;241m.\u001B[39m_call_with_config(\n\u001B[1;32m    184\u001B[0m         \u001B[38;5;28;01mlambda\u001B[39;00m inner_input: \u001B[38;5;28mself\u001B[39m\u001B[38;5;241m.\u001B[39mparse_result(\n\u001B[1;32m    185\u001B[0m             [ChatGeneration(message\u001B[38;5;241m=\u001B[39minner_input)]\n\u001B[0;32m   (...)\u001B[0m\n\u001B[1;32m    189\u001B[0m         run_type\u001B[38;5;241m=\u001B[39m\u001B[38;5;124m\"\u001B[39m\u001B[38;5;124mparser\u001B[39m\u001B[38;5;124m\"\u001B[39m,\n\u001B[1;32m    190\u001B[0m     )\n\u001B[1;32m    191\u001B[0m \u001B[38;5;28;01melse\u001B[39;00m:\n\u001B[1;32m    192\u001B[0m     \u001B[38;5;28;01mreturn\u001B[39;00m \u001B[38;5;28mself\u001B[39m\u001B[38;5;241m.\u001B[39m_call_with_config(\n\u001B[0;32m--> 193\u001B[0m         \u001B[38;5;28;01mlambda\u001B[39;00m inner_input: \u001B[38;5;28mself\u001B[39m\u001B[38;5;241m.\u001B[39mparse_result([\u001B[43mGeneration\u001B[49m\u001B[43m(\u001B[49m\u001B[43mtext\u001B[49m\u001B[38;5;241;43m=\u001B[39;49m\u001B[43minner_input\u001B[49m\u001B[43m)\u001B[49m]),\n\u001B[1;32m    194\u001B[0m         \u001B[38;5;28minput\u001B[39m,\n\u001B[1;32m    195\u001B[0m         config,\n\u001B[1;32m    196\u001B[0m         run_type\u001B[38;5;241m=\u001B[39m\u001B[38;5;124m\"\u001B[39m\u001B[38;5;124mparser\u001B[39m\u001B[38;5;124m\"\u001B[39m,\n\u001B[1;32m    197\u001B[0m     )\n",
      "File \u001B[0;32m~/anaconda3/envs/python3/lib/python3.10/site-packages/pydantic/v1/main.py:341\u001B[0m, in \u001B[0;36mBaseModel.__init__\u001B[0;34m(__pydantic_self__, **data)\u001B[0m\n\u001B[1;32m    339\u001B[0m values, fields_set, validation_error \u001B[38;5;241m=\u001B[39m validate_model(__pydantic_self__\u001B[38;5;241m.\u001B[39m\u001B[38;5;18m__class__\u001B[39m, data)\n\u001B[1;32m    340\u001B[0m \u001B[38;5;28;01mif\u001B[39;00m validation_error:\n\u001B[0;32m--> 341\u001B[0m     \u001B[38;5;28;01mraise\u001B[39;00m validation_error\n\u001B[1;32m    342\u001B[0m \u001B[38;5;28;01mtry\u001B[39;00m:\n\u001B[1;32m    343\u001B[0m     object_setattr(__pydantic_self__, \u001B[38;5;124m'\u001B[39m\u001B[38;5;124m__dict__\u001B[39m\u001B[38;5;124m'\u001B[39m, values)\n",
      "\u001B[0;31mValidationError\u001B[0m: 1 validation error for Generation\ntext\n  str type expected (type=type_error.str)"
     ]
    }
   ],
   "source": [
    "output = qa_retriever.invoke(\"Recipes with no peanuts\")\n"
   ]
  },
  {
   "cell_type": "markdown",
   "id": "61661dc8-8af1-438a-bea8-f88a43f02036",
   "metadata": {
    "tags": []
   },
   "source": [
    "### Cross encoder query"
   ]
  },
  {
   "cell_type": "code",
   "execution_count": null,
   "id": "aca990d9-3bad-4f00-a74d-5638ee4d268c",
   "metadata": {
    "tags": []
   },
   "outputs": [],
   "source": [
    "from langchain.retrievers import ContextualCompressionRetriever\n",
    "from langchain.retrievers.document_compressors import CrossEncoderReranker\n",
    "from langchain_community.cross_encoders import HuggingFaceCrossEncoder\n",
    "\n",
    "\n",
    "reranker_model = HuggingFaceCrossEncoder(model_name=\"BAAI/bge-reranker-base\")\n",
    "compressor = CrossEncoderReranker(model=reranker_model, top_n=3)\n",
    "compression_retriever = ContextualCompressionRetriever(\n",
    "    base_compressor=compressor, base_retriever=\n",
    ")\n",
    "\n",
    "compressed_docs = compression_retriever.invoke(\"What pizza can I make in 20 minutes?\")\n",
    "compressed_docs"
   ]
  },
  {
   "cell_type": "markdown",
   "id": "e0a65f2e-70f4-454b-af7c-28350da2299b",
   "metadata": {},
   "source": [
    "### Chain"
   ]
  },
  {
   "cell_type": "code",
   "execution_count": null,
   "id": "3e9a8f17-8723-4d24-a1ac-492c014be2b9",
   "metadata": {
    "tags": []
   },
   "outputs": [],
   "source": [
    "qdrant_rag_chain_rerank = (\n",
    "    RunnableMap(\n",
    "        {\"context\": qdrant_retriever_rerank | qa_retriever | format_docs,\n",
    "         \"query\": RunnablePassthrough()}\n",
    "    )\n",
    "    | process_prompt_basic\n",
    "    | query_bedrock_llm\n",
    ")"
   ]
  },
  {
   "cell_type": "code",
   "execution_count": null,
   "id": "5a0f4c23-5c5e-4ed4-a364-ef7b29d2a6c8",
   "metadata": {
    "tags": []
   },
   "outputs": [],
   "source": [
    "qdrant_rag_chain_rerank.invoke(\"Give me a peanut free Thai dish\")"
   ]
  },
  {
   "cell_type": "code",
   "execution_count": null,
   "id": "9f87f6f1-6989-4193-b321-fef355dc0ef0",
   "metadata": {},
   "outputs": [],
   "source": []
  }
 ],
 "metadata": {
  "kernelspec": {
   "display_name": "conda_python3",
   "language": "python",
   "name": "conda_python3"
  },
  "language_info": {
   "codemirror_mode": {
    "name": "ipython",
    "version": 3
   },
   "file_extension": ".py",
   "mimetype": "text/x-python",
   "name": "python",
   "nbconvert_exporter": "python",
   "pygments_lexer": "ipython3",
   "version": "3.10.14"
  }
 },
 "nbformat": 4,
 "nbformat_minor": 5
}
