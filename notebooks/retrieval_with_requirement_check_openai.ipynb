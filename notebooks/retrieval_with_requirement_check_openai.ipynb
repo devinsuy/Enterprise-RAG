{
 "cells": [
  {
   "cell_type": "markdown",
   "id": "a1ca1687-79fb-4439-8c91-7b1049c36153",
   "metadata": {},
   "source": [
    "### Install dependencies"
   ]
  },
  {
   "cell_type": "code",
   "id": "d8fbce3d-65f5-4ded-8fd4-d9f1101286a9",
   "metadata": {
    "collapsed": true,
    "jupyter": {
     "outputs_hidden": true
    },
    "scrolled": true,
    "tags": [],
    "ExecuteTime": {
     "end_time": "2024-07-15T07:58:53.785265Z",
     "start_time": "2024-07-15T07:58:46.568747Z"
    }
   },
   "source": [
    "!pip install boto3 sagemaker langchain langchain-community langchain-core faiss-cpu requests opensearch-py sentence-transformers langchain-text-splitters requests-aws4auth qdrant-client -U"
   ],
   "outputs": [
    {
     "name": "stdout",
     "output_type": "stream",
     "text": [
      "Requirement already satisfied: boto3 in /Users/robertgreer/Documents/Education/Berkeley/Classes/Datasci210_Capstone/Enterprise-RAG/venv/lib/python3.12/site-packages (1.34.144)\r\n",
      "Requirement already satisfied: sagemaker in /Users/robertgreer/Documents/Education/Berkeley/Classes/Datasci210_Capstone/Enterprise-RAG/venv/lib/python3.12/site-packages (2.226.0)\r\n",
      "Requirement already satisfied: langchain in /Users/robertgreer/Documents/Education/Berkeley/Classes/Datasci210_Capstone/Enterprise-RAG/venv/lib/python3.12/site-packages (0.2.7)\r\n",
      "Requirement already satisfied: langchain-community in /Users/robertgreer/Documents/Education/Berkeley/Classes/Datasci210_Capstone/Enterprise-RAG/venv/lib/python3.12/site-packages (0.2.7)\r\n",
      "Requirement already satisfied: langchain-core in /Users/robertgreer/Documents/Education/Berkeley/Classes/Datasci210_Capstone/Enterprise-RAG/venv/lib/python3.12/site-packages (0.2.18)\r\n",
      "Requirement already satisfied: faiss-cpu in /Users/robertgreer/Documents/Education/Berkeley/Classes/Datasci210_Capstone/Enterprise-RAG/venv/lib/python3.12/site-packages (1.8.0.post1)\r\n",
      "Requirement already satisfied: requests in /Users/robertgreer/Documents/Education/Berkeley/Classes/Datasci210_Capstone/Enterprise-RAG/venv/lib/python3.12/site-packages (2.32.3)\r\n",
      "Requirement already satisfied: opensearch-py in /Users/robertgreer/Documents/Education/Berkeley/Classes/Datasci210_Capstone/Enterprise-RAG/venv/lib/python3.12/site-packages (2.6.0)\r\n",
      "Requirement already satisfied: sentence-transformers in /Users/robertgreer/Documents/Education/Berkeley/Classes/Datasci210_Capstone/Enterprise-RAG/venv/lib/python3.12/site-packages (3.0.1)\r\n",
      "Requirement already satisfied: langchain-text-splitters in /Users/robertgreer/Documents/Education/Berkeley/Classes/Datasci210_Capstone/Enterprise-RAG/venv/lib/python3.12/site-packages (0.2.2)\r\n",
      "Requirement already satisfied: requests-aws4auth in /Users/robertgreer/Documents/Education/Berkeley/Classes/Datasci210_Capstone/Enterprise-RAG/venv/lib/python3.12/site-packages (1.2.3)\r\n",
      "Requirement already satisfied: qdrant-client in /Users/robertgreer/Documents/Education/Berkeley/Classes/Datasci210_Capstone/Enterprise-RAG/venv/lib/python3.12/site-packages (1.10.1)\r\n",
      "Requirement already satisfied: botocore<1.35.0,>=1.34.144 in /Users/robertgreer/Documents/Education/Berkeley/Classes/Datasci210_Capstone/Enterprise-RAG/venv/lib/python3.12/site-packages (from boto3) (1.34.144)\r\n",
      "Requirement already satisfied: jmespath<2.0.0,>=0.7.1 in /Users/robertgreer/Documents/Education/Berkeley/Classes/Datasci210_Capstone/Enterprise-RAG/venv/lib/python3.12/site-packages (from boto3) (1.0.1)\r\n",
      "Requirement already satisfied: s3transfer<0.11.0,>=0.10.0 in /Users/robertgreer/Documents/Education/Berkeley/Classes/Datasci210_Capstone/Enterprise-RAG/venv/lib/python3.12/site-packages (from boto3) (0.10.2)\r\n",
      "Requirement already satisfied: attrs<24,>=23.1.0 in /Users/robertgreer/Documents/Education/Berkeley/Classes/Datasci210_Capstone/Enterprise-RAG/venv/lib/python3.12/site-packages (from sagemaker) (23.2.0)\r\n",
      "Requirement already satisfied: cloudpickle==2.2.1 in /Users/robertgreer/Documents/Education/Berkeley/Classes/Datasci210_Capstone/Enterprise-RAG/venv/lib/python3.12/site-packages (from sagemaker) (2.2.1)\r\n",
      "Requirement already satisfied: google-pasta in /Users/robertgreer/Documents/Education/Berkeley/Classes/Datasci210_Capstone/Enterprise-RAG/venv/lib/python3.12/site-packages (from sagemaker) (0.2.0)\r\n",
      "Requirement already satisfied: numpy<2.0,>=1.9.0 in /Users/robertgreer/Documents/Education/Berkeley/Classes/Datasci210_Capstone/Enterprise-RAG/venv/lib/python3.12/site-packages (from sagemaker) (1.26.4)\r\n",
      "Requirement already satisfied: protobuf<5.0,>=3.12 in /Users/robertgreer/Documents/Education/Berkeley/Classes/Datasci210_Capstone/Enterprise-RAG/venv/lib/python3.12/site-packages (from sagemaker) (4.25.3)\r\n",
      "Requirement already satisfied: smdebug-rulesconfig==1.0.1 in /Users/robertgreer/Documents/Education/Berkeley/Classes/Datasci210_Capstone/Enterprise-RAG/venv/lib/python3.12/site-packages (from sagemaker) (1.0.1)\r\n",
      "Requirement already satisfied: importlib-metadata<7.0,>=1.4.0 in /Users/robertgreer/Documents/Education/Berkeley/Classes/Datasci210_Capstone/Enterprise-RAG/venv/lib/python3.12/site-packages (from sagemaker) (6.11.0)\r\n",
      "Requirement already satisfied: packaging>=20.0 in /Users/robertgreer/Documents/Education/Berkeley/Classes/Datasci210_Capstone/Enterprise-RAG/venv/lib/python3.12/site-packages (from sagemaker) (23.2)\r\n",
      "Requirement already satisfied: pandas in /Users/robertgreer/Documents/Education/Berkeley/Classes/Datasci210_Capstone/Enterprise-RAG/venv/lib/python3.12/site-packages (from sagemaker) (2.2.2)\r\n",
      "Requirement already satisfied: pathos in /Users/robertgreer/Documents/Education/Berkeley/Classes/Datasci210_Capstone/Enterprise-RAG/venv/lib/python3.12/site-packages (from sagemaker) (0.3.2)\r\n",
      "Requirement already satisfied: schema in /Users/robertgreer/Documents/Education/Berkeley/Classes/Datasci210_Capstone/Enterprise-RAG/venv/lib/python3.12/site-packages (from sagemaker) (0.7.7)\r\n",
      "Requirement already satisfied: PyYAML~=6.0 in /Users/robertgreer/Documents/Education/Berkeley/Classes/Datasci210_Capstone/Enterprise-RAG/venv/lib/python3.12/site-packages (from sagemaker) (6.0.1)\r\n",
      "Requirement already satisfied: jsonschema in /Users/robertgreer/Documents/Education/Berkeley/Classes/Datasci210_Capstone/Enterprise-RAG/venv/lib/python3.12/site-packages (from sagemaker) (4.22.0)\r\n",
      "Requirement already satisfied: platformdirs in /Users/robertgreer/Documents/Education/Berkeley/Classes/Datasci210_Capstone/Enterprise-RAG/venv/lib/python3.12/site-packages (from sagemaker) (4.2.2)\r\n",
      "Requirement already satisfied: tblib<4,>=1.7.0 in /Users/robertgreer/Documents/Education/Berkeley/Classes/Datasci210_Capstone/Enterprise-RAG/venv/lib/python3.12/site-packages (from sagemaker) (3.0.0)\r\n",
      "Requirement already satisfied: urllib3<3.0.0,>=1.26.8 in /Users/robertgreer/Documents/Education/Berkeley/Classes/Datasci210_Capstone/Enterprise-RAG/venv/lib/python3.12/site-packages (from sagemaker) (2.2.1)\r\n",
      "Requirement already satisfied: docker in /Users/robertgreer/Documents/Education/Berkeley/Classes/Datasci210_Capstone/Enterprise-RAG/venv/lib/python3.12/site-packages (from sagemaker) (7.1.0)\r\n",
      "Requirement already satisfied: tqdm in /Users/robertgreer/Documents/Education/Berkeley/Classes/Datasci210_Capstone/Enterprise-RAG/venv/lib/python3.12/site-packages (from sagemaker) (4.66.4)\r\n",
      "Requirement already satisfied: psutil in /Users/robertgreer/Documents/Education/Berkeley/Classes/Datasci210_Capstone/Enterprise-RAG/venv/lib/python3.12/site-packages (from sagemaker) (5.9.8)\r\n",
      "Requirement already satisfied: SQLAlchemy<3,>=1.4 in /Users/robertgreer/Documents/Education/Berkeley/Classes/Datasci210_Capstone/Enterprise-RAG/venv/lib/python3.12/site-packages (from langchain) (2.0.30)\r\n",
      "Requirement already satisfied: aiohttp<4.0.0,>=3.8.3 in /Users/robertgreer/Documents/Education/Berkeley/Classes/Datasci210_Capstone/Enterprise-RAG/venv/lib/python3.12/site-packages (from langchain) (3.9.5)\r\n",
      "Requirement already satisfied: langsmith<0.2.0,>=0.1.17 in /Users/robertgreer/Documents/Education/Berkeley/Classes/Datasci210_Capstone/Enterprise-RAG/venv/lib/python3.12/site-packages (from langchain) (0.1.77)\r\n",
      "Requirement already satisfied: pydantic<3,>=1 in /Users/robertgreer/Documents/Education/Berkeley/Classes/Datasci210_Capstone/Enterprise-RAG/venv/lib/python3.12/site-packages (from langchain) (2.7.3)\r\n",
      "Requirement already satisfied: tenacity!=8.4.0,<9.0.0,>=8.1.0 in /Users/robertgreer/Documents/Education/Berkeley/Classes/Datasci210_Capstone/Enterprise-RAG/venv/lib/python3.12/site-packages (from langchain) (8.3.0)\r\n",
      "Requirement already satisfied: dataclasses-json<0.7,>=0.5.7 in /Users/robertgreer/Documents/Education/Berkeley/Classes/Datasci210_Capstone/Enterprise-RAG/venv/lib/python3.12/site-packages (from langchain-community) (0.6.7)\r\n",
      "Requirement already satisfied: jsonpatch<2.0,>=1.33 in /Users/robertgreer/Documents/Education/Berkeley/Classes/Datasci210_Capstone/Enterprise-RAG/venv/lib/python3.12/site-packages (from langchain-core) (1.33)\r\n",
      "Requirement already satisfied: charset-normalizer<4,>=2 in /Users/robertgreer/Documents/Education/Berkeley/Classes/Datasci210_Capstone/Enterprise-RAG/venv/lib/python3.12/site-packages (from requests) (3.3.2)\r\n",
      "Requirement already satisfied: idna<4,>=2.5 in /Users/robertgreer/Documents/Education/Berkeley/Classes/Datasci210_Capstone/Enterprise-RAG/venv/lib/python3.12/site-packages (from requests) (3.7)\r\n",
      "Requirement already satisfied: certifi>=2017.4.17 in /Users/robertgreer/Documents/Education/Berkeley/Classes/Datasci210_Capstone/Enterprise-RAG/venv/lib/python3.12/site-packages (from requests) (2024.6.2)\r\n",
      "Requirement already satisfied: six in /Users/robertgreer/Documents/Education/Berkeley/Classes/Datasci210_Capstone/Enterprise-RAG/venv/lib/python3.12/site-packages (from opensearch-py) (1.16.0)\r\n",
      "Requirement already satisfied: python-dateutil in /Users/robertgreer/Documents/Education/Berkeley/Classes/Datasci210_Capstone/Enterprise-RAG/venv/lib/python3.12/site-packages (from opensearch-py) (2.9.0.post0)\r\n",
      "Requirement already satisfied: Events in /Users/robertgreer/Documents/Education/Berkeley/Classes/Datasci210_Capstone/Enterprise-RAG/venv/lib/python3.12/site-packages (from opensearch-py) (0.5)\r\n",
      "Requirement already satisfied: transformers<5.0.0,>=4.34.0 in /Users/robertgreer/Documents/Education/Berkeley/Classes/Datasci210_Capstone/Enterprise-RAG/venv/lib/python3.12/site-packages (from sentence-transformers) (4.42.3)\r\n",
      "Requirement already satisfied: torch>=1.11.0 in /Users/robertgreer/Documents/Education/Berkeley/Classes/Datasci210_Capstone/Enterprise-RAG/venv/lib/python3.12/site-packages (from sentence-transformers) (2.3.1)\r\n",
      "Requirement already satisfied: scikit-learn in /Users/robertgreer/Documents/Education/Berkeley/Classes/Datasci210_Capstone/Enterprise-RAG/venv/lib/python3.12/site-packages (from sentence-transformers) (1.5.0)\r\n",
      "Requirement already satisfied: scipy in /Users/robertgreer/Documents/Education/Berkeley/Classes/Datasci210_Capstone/Enterprise-RAG/venv/lib/python3.12/site-packages (from sentence-transformers) (1.12.0)\r\n",
      "Requirement already satisfied: huggingface-hub>=0.15.1 in /Users/robertgreer/Documents/Education/Berkeley/Classes/Datasci210_Capstone/Enterprise-RAG/venv/lib/python3.12/site-packages (from sentence-transformers) (0.23.4)\r\n",
      "Requirement already satisfied: Pillow in /Users/robertgreer/Documents/Education/Berkeley/Classes/Datasci210_Capstone/Enterprise-RAG/venv/lib/python3.12/site-packages (from sentence-transformers) (10.3.0)\r\n",
      "Requirement already satisfied: grpcio>=1.41.0 in /Users/robertgreer/Documents/Education/Berkeley/Classes/Datasci210_Capstone/Enterprise-RAG/venv/lib/python3.12/site-packages (from qdrant-client) (1.64.1)\r\n",
      "Requirement already satisfied: grpcio-tools>=1.41.0 in /Users/robertgreer/Documents/Education/Berkeley/Classes/Datasci210_Capstone/Enterprise-RAG/venv/lib/python3.12/site-packages (from qdrant-client) (1.62.2)\r\n",
      "Requirement already satisfied: httpx>=0.20.0 in /Users/robertgreer/Documents/Education/Berkeley/Classes/Datasci210_Capstone/Enterprise-RAG/venv/lib/python3.12/site-packages (from httpx[http2]>=0.20.0->qdrant-client) (0.27.0)\r\n",
      "Requirement already satisfied: portalocker<3.0.0,>=2.7.0 in /Users/robertgreer/Documents/Education/Berkeley/Classes/Datasci210_Capstone/Enterprise-RAG/venv/lib/python3.12/site-packages (from qdrant-client) (2.10.0)\r\n",
      "Requirement already satisfied: aiosignal>=1.1.2 in /Users/robertgreer/Documents/Education/Berkeley/Classes/Datasci210_Capstone/Enterprise-RAG/venv/lib/python3.12/site-packages (from aiohttp<4.0.0,>=3.8.3->langchain) (1.3.1)\r\n",
      "Requirement already satisfied: frozenlist>=1.1.1 in /Users/robertgreer/Documents/Education/Berkeley/Classes/Datasci210_Capstone/Enterprise-RAG/venv/lib/python3.12/site-packages (from aiohttp<4.0.0,>=3.8.3->langchain) (1.4.1)\r\n",
      "Requirement already satisfied: multidict<7.0,>=4.5 in /Users/robertgreer/Documents/Education/Berkeley/Classes/Datasci210_Capstone/Enterprise-RAG/venv/lib/python3.12/site-packages (from aiohttp<4.0.0,>=3.8.3->langchain) (6.0.5)\r\n",
      "Requirement already satisfied: yarl<2.0,>=1.0 in /Users/robertgreer/Documents/Education/Berkeley/Classes/Datasci210_Capstone/Enterprise-RAG/venv/lib/python3.12/site-packages (from aiohttp<4.0.0,>=3.8.3->langchain) (1.9.4)\r\n",
      "Requirement already satisfied: marshmallow<4.0.0,>=3.18.0 in /Users/robertgreer/Documents/Education/Berkeley/Classes/Datasci210_Capstone/Enterprise-RAG/venv/lib/python3.12/site-packages (from dataclasses-json<0.7,>=0.5.7->langchain-community) (3.21.3)\r\n",
      "Requirement already satisfied: typing-inspect<1,>=0.4.0 in /Users/robertgreer/Documents/Education/Berkeley/Classes/Datasci210_Capstone/Enterprise-RAG/venv/lib/python3.12/site-packages (from dataclasses-json<0.7,>=0.5.7->langchain-community) (0.9.0)\r\n",
      "Requirement already satisfied: setuptools in /Users/robertgreer/Documents/Education/Berkeley/Classes/Datasci210_Capstone/Enterprise-RAG/venv/lib/python3.12/site-packages (from grpcio-tools>=1.41.0->qdrant-client) (70.0.0)\r\n",
      "Requirement already satisfied: anyio in /Users/robertgreer/Documents/Education/Berkeley/Classes/Datasci210_Capstone/Enterprise-RAG/venv/lib/python3.12/site-packages (from httpx>=0.20.0->httpx[http2]>=0.20.0->qdrant-client) (4.4.0)\r\n",
      "Requirement already satisfied: httpcore==1.* in /Users/robertgreer/Documents/Education/Berkeley/Classes/Datasci210_Capstone/Enterprise-RAG/venv/lib/python3.12/site-packages (from httpx>=0.20.0->httpx[http2]>=0.20.0->qdrant-client) (1.0.5)\r\n",
      "Requirement already satisfied: sniffio in /Users/robertgreer/Documents/Education/Berkeley/Classes/Datasci210_Capstone/Enterprise-RAG/venv/lib/python3.12/site-packages (from httpx>=0.20.0->httpx[http2]>=0.20.0->qdrant-client) (1.3.1)\r\n",
      "Requirement already satisfied: h11<0.15,>=0.13 in /Users/robertgreer/Documents/Education/Berkeley/Classes/Datasci210_Capstone/Enterprise-RAG/venv/lib/python3.12/site-packages (from httpcore==1.*->httpx>=0.20.0->httpx[http2]>=0.20.0->qdrant-client) (0.14.0)\r\n",
      "Requirement already satisfied: h2<5,>=3 in /Users/robertgreer/Documents/Education/Berkeley/Classes/Datasci210_Capstone/Enterprise-RAG/venv/lib/python3.12/site-packages (from httpx[http2]>=0.20.0->qdrant-client) (4.1.0)\r\n",
      "Requirement already satisfied: filelock in /Users/robertgreer/Documents/Education/Berkeley/Classes/Datasci210_Capstone/Enterprise-RAG/venv/lib/python3.12/site-packages (from huggingface-hub>=0.15.1->sentence-transformers) (3.14.0)\r\n",
      "Requirement already satisfied: fsspec>=2023.5.0 in /Users/robertgreer/Documents/Education/Berkeley/Classes/Datasci210_Capstone/Enterprise-RAG/venv/lib/python3.12/site-packages (from huggingface-hub>=0.15.1->sentence-transformers) (2024.5.0)\r\n",
      "Requirement already satisfied: typing-extensions>=3.7.4.3 in /Users/robertgreer/Documents/Education/Berkeley/Classes/Datasci210_Capstone/Enterprise-RAG/venv/lib/python3.12/site-packages (from huggingface-hub>=0.15.1->sentence-transformers) (4.12.2)\r\n",
      "Requirement already satisfied: zipp>=0.5 in /Users/robertgreer/Documents/Education/Berkeley/Classes/Datasci210_Capstone/Enterprise-RAG/venv/lib/python3.12/site-packages (from importlib-metadata<7.0,>=1.4.0->sagemaker) (3.19.2)\r\n",
      "Requirement already satisfied: jsonpointer>=1.9 in /Users/robertgreer/Documents/Education/Berkeley/Classes/Datasci210_Capstone/Enterprise-RAG/venv/lib/python3.12/site-packages (from jsonpatch<2.0,>=1.33->langchain-core) (3.0.0)\r\n",
      "Requirement already satisfied: orjson<4.0.0,>=3.9.14 in /Users/robertgreer/Documents/Education/Berkeley/Classes/Datasci210_Capstone/Enterprise-RAG/venv/lib/python3.12/site-packages (from langsmith<0.2.0,>=0.1.17->langchain) (3.10.4)\r\n",
      "Requirement already satisfied: annotated-types>=0.4.0 in /Users/robertgreer/Documents/Education/Berkeley/Classes/Datasci210_Capstone/Enterprise-RAG/venv/lib/python3.12/site-packages (from pydantic<3,>=1->langchain) (0.7.0)\r\n",
      "Requirement already satisfied: pydantic-core==2.18.4 in /Users/robertgreer/Documents/Education/Berkeley/Classes/Datasci210_Capstone/Enterprise-RAG/venv/lib/python3.12/site-packages (from pydantic<3,>=1->langchain) (2.18.4)\r\n",
      "Requirement already satisfied: sympy in /Users/robertgreer/Documents/Education/Berkeley/Classes/Datasci210_Capstone/Enterprise-RAG/venv/lib/python3.12/site-packages (from torch>=1.11.0->sentence-transformers) (1.12.1)\r\n",
      "Requirement already satisfied: networkx in /Users/robertgreer/Documents/Education/Berkeley/Classes/Datasci210_Capstone/Enterprise-RAG/venv/lib/python3.12/site-packages (from torch>=1.11.0->sentence-transformers) (3.3)\r\n",
      "Requirement already satisfied: jinja2 in /Users/robertgreer/Documents/Education/Berkeley/Classes/Datasci210_Capstone/Enterprise-RAG/venv/lib/python3.12/site-packages (from torch>=1.11.0->sentence-transformers) (3.1.4)\r\n",
      "Requirement already satisfied: regex!=2019.12.17 in /Users/robertgreer/Documents/Education/Berkeley/Classes/Datasci210_Capstone/Enterprise-RAG/venv/lib/python3.12/site-packages (from transformers<5.0.0,>=4.34.0->sentence-transformers) (2024.5.15)\r\n",
      "Requirement already satisfied: safetensors>=0.4.1 in /Users/robertgreer/Documents/Education/Berkeley/Classes/Datasci210_Capstone/Enterprise-RAG/venv/lib/python3.12/site-packages (from transformers<5.0.0,>=4.34.0->sentence-transformers) (0.4.3)\r\n",
      "Requirement already satisfied: tokenizers<0.20,>=0.19 in /Users/robertgreer/Documents/Education/Berkeley/Classes/Datasci210_Capstone/Enterprise-RAG/venv/lib/python3.12/site-packages (from transformers<5.0.0,>=4.34.0->sentence-transformers) (0.19.1)\r\n",
      "Requirement already satisfied: jsonschema-specifications>=2023.03.6 in /Users/robertgreer/Documents/Education/Berkeley/Classes/Datasci210_Capstone/Enterprise-RAG/venv/lib/python3.12/site-packages (from jsonschema->sagemaker) (2023.12.1)\r\n",
      "Requirement already satisfied: referencing>=0.28.4 in /Users/robertgreer/Documents/Education/Berkeley/Classes/Datasci210_Capstone/Enterprise-RAG/venv/lib/python3.12/site-packages (from jsonschema->sagemaker) (0.35.1)\r\n",
      "Requirement already satisfied: rpds-py>=0.7.1 in /Users/robertgreer/Documents/Education/Berkeley/Classes/Datasci210_Capstone/Enterprise-RAG/venv/lib/python3.12/site-packages (from jsonschema->sagemaker) (0.18.1)\r\n",
      "Requirement already satisfied: pytz>=2020.1 in /Users/robertgreer/Documents/Education/Berkeley/Classes/Datasci210_Capstone/Enterprise-RAG/venv/lib/python3.12/site-packages (from pandas->sagemaker) (2024.1)\r\n",
      "Requirement already satisfied: tzdata>=2022.7 in /Users/robertgreer/Documents/Education/Berkeley/Classes/Datasci210_Capstone/Enterprise-RAG/venv/lib/python3.12/site-packages (from pandas->sagemaker) (2024.1)\r\n",
      "Requirement already satisfied: ppft>=1.7.6.8 in /Users/robertgreer/Documents/Education/Berkeley/Classes/Datasci210_Capstone/Enterprise-RAG/venv/lib/python3.12/site-packages (from pathos->sagemaker) (1.7.6.8)\r\n",
      "Requirement already satisfied: dill>=0.3.8 in /Users/robertgreer/Documents/Education/Berkeley/Classes/Datasci210_Capstone/Enterprise-RAG/venv/lib/python3.12/site-packages (from pathos->sagemaker) (0.3.8)\r\n",
      "Requirement already satisfied: pox>=0.3.4 in /Users/robertgreer/Documents/Education/Berkeley/Classes/Datasci210_Capstone/Enterprise-RAG/venv/lib/python3.12/site-packages (from pathos->sagemaker) (0.3.4)\r\n",
      "Requirement already satisfied: multiprocess>=0.70.16 in /Users/robertgreer/Documents/Education/Berkeley/Classes/Datasci210_Capstone/Enterprise-RAG/venv/lib/python3.12/site-packages (from pathos->sagemaker) (0.70.16)\r\n",
      "Requirement already satisfied: joblib>=1.2.0 in /Users/robertgreer/Documents/Education/Berkeley/Classes/Datasci210_Capstone/Enterprise-RAG/venv/lib/python3.12/site-packages (from scikit-learn->sentence-transformers) (1.4.2)\r\n",
      "Requirement already satisfied: threadpoolctl>=3.1.0 in /Users/robertgreer/Documents/Education/Berkeley/Classes/Datasci210_Capstone/Enterprise-RAG/venv/lib/python3.12/site-packages (from scikit-learn->sentence-transformers) (3.5.0)\r\n",
      "Requirement already satisfied: hyperframe<7,>=6.0 in /Users/robertgreer/Documents/Education/Berkeley/Classes/Datasci210_Capstone/Enterprise-RAG/venv/lib/python3.12/site-packages (from h2<5,>=3->httpx[http2]>=0.20.0->qdrant-client) (6.0.1)\r\n",
      "Requirement already satisfied: hpack<5,>=4.0 in /Users/robertgreer/Documents/Education/Berkeley/Classes/Datasci210_Capstone/Enterprise-RAG/venv/lib/python3.12/site-packages (from h2<5,>=3->httpx[http2]>=0.20.0->qdrant-client) (4.0.0)\r\n",
      "Requirement already satisfied: mypy-extensions>=0.3.0 in /Users/robertgreer/Documents/Education/Berkeley/Classes/Datasci210_Capstone/Enterprise-RAG/venv/lib/python3.12/site-packages (from typing-inspect<1,>=0.4.0->dataclasses-json<0.7,>=0.5.7->langchain-community) (1.0.0)\r\n",
      "Requirement already satisfied: MarkupSafe>=2.0 in /Users/robertgreer/Documents/Education/Berkeley/Classes/Datasci210_Capstone/Enterprise-RAG/venv/lib/python3.12/site-packages (from jinja2->torch>=1.11.0->sentence-transformers) (2.1.5)\r\n",
      "Requirement already satisfied: mpmath<1.4.0,>=1.1.0 in /Users/robertgreer/Documents/Education/Berkeley/Classes/Datasci210_Capstone/Enterprise-RAG/venv/lib/python3.12/site-packages (from sympy->torch>=1.11.0->sentence-transformers) (1.3.0)\r\n",
      "\r\n",
      "\u001B[1m[\u001B[0m\u001B[34;49mnotice\u001B[0m\u001B[1;39;49m]\u001B[0m\u001B[39;49m A new release of pip is available: \u001B[0m\u001B[31;49m24.0\u001B[0m\u001B[39;49m -> \u001B[0m\u001B[32;49m24.1.2\u001B[0m\r\n",
      "\u001B[1m[\u001B[0m\u001B[34;49mnotice\u001B[0m\u001B[1;39;49m]\u001B[0m\u001B[39;49m To update, run: \u001B[0m\u001B[32;49mpip install --upgrade pip\u001B[0m\r\n"
     ]
    }
   ],
   "execution_count": 1
  },
  {
   "cell_type": "code",
   "id": "c0c80d87-45c2-42c3-9825-21bc53ce33b9",
   "metadata": {
    "tags": [],
    "ExecuteTime": {
     "end_time": "2024-07-15T07:58:56.538555Z",
     "start_time": "2024-07-15T07:58:53.786755Z"
    }
   },
   "source": [
    "!pip install --upgrade --quiet  lark qdrant-client"
   ],
   "outputs": [
    {
     "name": "stdout",
     "output_type": "stream",
     "text": [
      "\r\n",
      "\u001B[1m[\u001B[0m\u001B[34;49mnotice\u001B[0m\u001B[1;39;49m]\u001B[0m\u001B[39;49m A new release of pip is available: \u001B[0m\u001B[31;49m24.0\u001B[0m\u001B[39;49m -> \u001B[0m\u001B[32;49m24.1.2\u001B[0m\r\n",
      "\u001B[1m[\u001B[0m\u001B[34;49mnotice\u001B[0m\u001B[1;39;49m]\u001B[0m\u001B[39;49m To update, run: \u001B[0m\u001B[32;49mpip install --upgrade pip\u001B[0m\r\n"
     ]
    }
   ],
   "execution_count": 2
  },
  {
   "cell_type": "markdown",
   "id": "8c60fd86-2fdd-4921-b769-45a6d6ae1411",
   "metadata": {},
   "source": [
    "### Load CSV data from S3"
   ]
  },
  {
   "cell_type": "code",
   "id": "b02d5178-7946-4ff5-bfdf-d8c784afd6cd",
   "metadata": {
    "tags": [],
    "ExecuteTime": {
     "end_time": "2024-07-15T07:58:56.655571Z",
     "start_time": "2024-07-15T07:58:56.539474Z"
    }
   },
   "source": [
    "!pwd"
   ],
   "outputs": [
    {
     "name": "stdout",
     "output_type": "stream",
     "text": [
      "/Users/robertgreer/Documents/Education/Berkeley/Classes/Datasci210_Capstone/Enterprise-RAG/notebooks\r\n"
     ]
    }
   ],
   "execution_count": 3
  },
  {
   "cell_type": "code",
   "id": "e42652b8-0122-4f47-b069-a398ae118afc",
   "metadata": {
    "tags": [],
    "ExecuteTime": {
     "end_time": "2024-07-15T07:58:57.335064Z",
     "start_time": "2024-07-15T07:58:56.657215Z"
    }
   },
   "source": [
    "import boto3\n",
    "import pandas as pd\n",
    "\n",
    "s3 = boto3.client('s3')\n",
    "bucket_name = 'recipes-rag'"
   ],
   "outputs": [],
   "execution_count": 4
  },
  {
   "cell_type": "code",
   "id": "e0176b52-e799-4947-9264-c6c51897c4b7",
   "metadata": {
    "tags": [],
    "ExecuteTime": {
     "end_time": "2024-07-15T07:59:35.169791Z",
     "start_time": "2024-07-15T07:58:57.335755Z"
    }
   },
   "source": [
    "file_key = 'recipes_w_cleaning_time_combined_features.parquet'\n",
    "s3.download_file(bucket_name, file_key, f'../data/{file_key}')\n",
    "df = pd.read_parquet(f'../data/{file_key}')\n",
    "\n",
    "df.head()"
   ],
   "outputs": [
    {
     "data": {
      "text/plain": [
       "                                Name   RecipeCategory  \\\n",
       "0  Low-Fat Berry Blue Frozen Dessert  Frozen Desserts   \n",
       "1                            Biryani   Chicken Breast   \n",
       "2                      Best Lemonade        Beverages   \n",
       "3     Carina's Tofu-Vegetable Kebabs         Soy/Tofu   \n",
       "4                       Cabbage Soup        Vegetable   \n",
       "\n",
       "                                         Description  \\\n",
       "0  Make and share this Low-Fat Berry Blue Frozen ...   \n",
       "1  Make and share this Biryani recipe from Food.com.   \n",
       "2  This is from one of my  first Good House Keepi...   \n",
       "3  This dish is best prepared a day in advance to...   \n",
       "4  Make and share this Cabbage Soup recipe from F...   \n",
       "\n",
       "                                     Keywords_string  \\\n",
       "0  Dessert Low Protein Low Cholesterol Healthy Fr...   \n",
       "1  Chicken Thigh & Leg Chicken Poultry Meat Asian...   \n",
       "2  Low Protein Low Cholesterol Healthy Summer < 6...   \n",
       "3  Beans Vegetable Low Cholesterol Weeknight Broi...   \n",
       "4  Low Protein Vegan Low Cholesterol Healthy Wint...   \n",
       "\n",
       "                          RecipeIngredientQuantities  \\\n",
       "0                                     [4, 1⁄4, 1, 1]   \n",
       "1  [1, 4, 2, 2, 8, 1⁄4, 8, 1⁄2, 1, 1, 1⁄4, 1⁄4, 1...   \n",
       "2                 [1 1⁄2, 1, None, 1 1⁄2, None, 3⁄4]   \n",
       "3  [12, 1, 2, 1, 10, 1, 3, 2, 2, 2, 1, 2, 1⁄2, 1⁄...   \n",
       "4                                   [46, 4, 1, 2, 1]   \n",
       "\n",
       "                               RecipeIngredientParts  \\\n",
       "0  [blueberries, granulated sugar, vanilla yogurt...   \n",
       "1  [saffron, milk, hot green chili peppers, onion...   \n",
       "2  [sugar, lemons, rind of, lemon, zest of, fresh...   \n",
       "3  [extra firm tofu, eggplant, zucchini, mushroom...   \n",
       "4  [plain tomato juice, cabbage, onion, carrots, ...   \n",
       "\n",
       "                                  RecipeInstructions  AggregatedRating  \\\n",
       "0  Toss 2 cups berries with sugar. Let stand for ...               4.5   \n",
       "1  Soak saffron in warm milk for 5 minutes and pu...               3.0   \n",
       "2  Into a 1 quart Jar with tight fitting lid, put...               4.5   \n",
       "3  Drain the tofu, carefully squeezing out excess...               4.5   \n",
       "4  Mix everything together and bring to a boil. R...               4.5   \n",
       "\n",
       "   ReviewCount  CookTime_Minutes  PrepTime_Minutes  TotalTime_Minutes  \\\n",
       "0          4.0              1440                45               1485   \n",
       "1          1.0                25               240                265   \n",
       "2         10.0                 5                30                 35   \n",
       "3          2.0                20              1440               1460   \n",
       "4         11.0                30                20                 50   \n",
       "\n",
       "                                   Combined_Features  \\\n",
       "0  Low-Fat Berry Blue Frozen Dessert Frozen Desse...   \n",
       "1  Biryani Chicken Breast Make and share this Bir...   \n",
       "2  Best Lemonade Beverages This is from one of my...   \n",
       "3  Carina's Tofu-Vegetable Kebabs Soy/Tofu This d...   \n",
       "4  Cabbage Soup Vegetable Make and share this Cab...   \n",
       "\n",
       "                             Combined_Features_Clean  \n",
       "0  Low-Fat Berry Blue Frozen Dessert Frozen Desse...  \n",
       "1  Biryani Chicken Breast Make share Biryani reci...  \n",
       "2  Best Lemonade Beverages one first Good House K...  \n",
       "3  Carina's Tofu-Vegetable Kebabs Soy/Tofu dish b...  \n",
       "4  Cabbage Soup Vegetable Make share Cabbage Soup...  "
      ],
      "text/html": [
       "<div>\n",
       "<style scoped>\n",
       "    .dataframe tbody tr th:only-of-type {\n",
       "        vertical-align: middle;\n",
       "    }\n",
       "\n",
       "    .dataframe tbody tr th {\n",
       "        vertical-align: top;\n",
       "    }\n",
       "\n",
       "    .dataframe thead th {\n",
       "        text-align: right;\n",
       "    }\n",
       "</style>\n",
       "<table border=\"1\" class=\"dataframe\">\n",
       "  <thead>\n",
       "    <tr style=\"text-align: right;\">\n",
       "      <th></th>\n",
       "      <th>Name</th>\n",
       "      <th>RecipeCategory</th>\n",
       "      <th>Description</th>\n",
       "      <th>Keywords_string</th>\n",
       "      <th>RecipeIngredientQuantities</th>\n",
       "      <th>RecipeIngredientParts</th>\n",
       "      <th>RecipeInstructions</th>\n",
       "      <th>AggregatedRating</th>\n",
       "      <th>ReviewCount</th>\n",
       "      <th>CookTime_Minutes</th>\n",
       "      <th>PrepTime_Minutes</th>\n",
       "      <th>TotalTime_Minutes</th>\n",
       "      <th>Combined_Features</th>\n",
       "      <th>Combined_Features_Clean</th>\n",
       "    </tr>\n",
       "  </thead>\n",
       "  <tbody>\n",
       "    <tr>\n",
       "      <th>0</th>\n",
       "      <td>Low-Fat Berry Blue Frozen Dessert</td>\n",
       "      <td>Frozen Desserts</td>\n",
       "      <td>Make and share this Low-Fat Berry Blue Frozen ...</td>\n",
       "      <td>Dessert Low Protein Low Cholesterol Healthy Fr...</td>\n",
       "      <td>[4, 1⁄4, 1, 1]</td>\n",
       "      <td>[blueberries, granulated sugar, vanilla yogurt...</td>\n",
       "      <td>Toss 2 cups berries with sugar. Let stand for ...</td>\n",
       "      <td>4.5</td>\n",
       "      <td>4.0</td>\n",
       "      <td>1440</td>\n",
       "      <td>45</td>\n",
       "      <td>1485</td>\n",
       "      <td>Low-Fat Berry Blue Frozen Dessert Frozen Desse...</td>\n",
       "      <td>Low-Fat Berry Blue Frozen Dessert Frozen Desse...</td>\n",
       "    </tr>\n",
       "    <tr>\n",
       "      <th>1</th>\n",
       "      <td>Biryani</td>\n",
       "      <td>Chicken Breast</td>\n",
       "      <td>Make and share this Biryani recipe from Food.com.</td>\n",
       "      <td>Chicken Thigh &amp; Leg Chicken Poultry Meat Asian...</td>\n",
       "      <td>[1, 4, 2, 2, 8, 1⁄4, 8, 1⁄2, 1, 1, 1⁄4, 1⁄4, 1...</td>\n",
       "      <td>[saffron, milk, hot green chili peppers, onion...</td>\n",
       "      <td>Soak saffron in warm milk for 5 minutes and pu...</td>\n",
       "      <td>3.0</td>\n",
       "      <td>1.0</td>\n",
       "      <td>25</td>\n",
       "      <td>240</td>\n",
       "      <td>265</td>\n",
       "      <td>Biryani Chicken Breast Make and share this Bir...</td>\n",
       "      <td>Biryani Chicken Breast Make share Biryani reci...</td>\n",
       "    </tr>\n",
       "    <tr>\n",
       "      <th>2</th>\n",
       "      <td>Best Lemonade</td>\n",
       "      <td>Beverages</td>\n",
       "      <td>This is from one of my  first Good House Keepi...</td>\n",
       "      <td>Low Protein Low Cholesterol Healthy Summer &lt; 6...</td>\n",
       "      <td>[1 1⁄2, 1, None, 1 1⁄2, None, 3⁄4]</td>\n",
       "      <td>[sugar, lemons, rind of, lemon, zest of, fresh...</td>\n",
       "      <td>Into a 1 quart Jar with tight fitting lid, put...</td>\n",
       "      <td>4.5</td>\n",
       "      <td>10.0</td>\n",
       "      <td>5</td>\n",
       "      <td>30</td>\n",
       "      <td>35</td>\n",
       "      <td>Best Lemonade Beverages This is from one of my...</td>\n",
       "      <td>Best Lemonade Beverages one first Good House K...</td>\n",
       "    </tr>\n",
       "    <tr>\n",
       "      <th>3</th>\n",
       "      <td>Carina's Tofu-Vegetable Kebabs</td>\n",
       "      <td>Soy/Tofu</td>\n",
       "      <td>This dish is best prepared a day in advance to...</td>\n",
       "      <td>Beans Vegetable Low Cholesterol Weeknight Broi...</td>\n",
       "      <td>[12, 1, 2, 1, 10, 1, 3, 2, 2, 2, 1, 2, 1⁄2, 1⁄...</td>\n",
       "      <td>[extra firm tofu, eggplant, zucchini, mushroom...</td>\n",
       "      <td>Drain the tofu, carefully squeezing out excess...</td>\n",
       "      <td>4.5</td>\n",
       "      <td>2.0</td>\n",
       "      <td>20</td>\n",
       "      <td>1440</td>\n",
       "      <td>1460</td>\n",
       "      <td>Carina's Tofu-Vegetable Kebabs Soy/Tofu This d...</td>\n",
       "      <td>Carina's Tofu-Vegetable Kebabs Soy/Tofu dish b...</td>\n",
       "    </tr>\n",
       "    <tr>\n",
       "      <th>4</th>\n",
       "      <td>Cabbage Soup</td>\n",
       "      <td>Vegetable</td>\n",
       "      <td>Make and share this Cabbage Soup recipe from F...</td>\n",
       "      <td>Low Protein Vegan Low Cholesterol Healthy Wint...</td>\n",
       "      <td>[46, 4, 1, 2, 1]</td>\n",
       "      <td>[plain tomato juice, cabbage, onion, carrots, ...</td>\n",
       "      <td>Mix everything together and bring to a boil. R...</td>\n",
       "      <td>4.5</td>\n",
       "      <td>11.0</td>\n",
       "      <td>30</td>\n",
       "      <td>20</td>\n",
       "      <td>50</td>\n",
       "      <td>Cabbage Soup Vegetable Make and share this Cab...</td>\n",
       "      <td>Cabbage Soup Vegetable Make share Cabbage Soup...</td>\n",
       "    </tr>\n",
       "  </tbody>\n",
       "</table>\n",
       "</div>"
      ]
     },
     "execution_count": 5,
     "metadata": {},
     "output_type": "execute_result"
    }
   ],
   "execution_count": 5
  },
  {
   "cell_type": "code",
   "id": "c42abeac-3ebd-4fda-a7d5-e43940aa503e",
   "metadata": {
    "tags": [],
    "ExecuteTime": {
     "end_time": "2024-07-15T07:59:35.172913Z",
     "start_time": "2024-07-15T07:59:35.170401Z"
    }
   },
   "source": [
    "df.columns"
   ],
   "outputs": [
    {
     "data": {
      "text/plain": [
       "Index(['Name', 'RecipeCategory', 'Description', 'Keywords_string',\n",
       "       'RecipeIngredientQuantities', 'RecipeIngredientParts',\n",
       "       'RecipeInstructions', 'AggregatedRating', 'ReviewCount',\n",
       "       'CookTime_Minutes', 'PrepTime_Minutes', 'TotalTime_Minutes',\n",
       "       'Combined_Features', 'Combined_Features_Clean'],\n",
       "      dtype='object')"
      ]
     },
     "execution_count": 6,
     "metadata": {},
     "output_type": "execute_result"
    }
   ],
   "execution_count": 6
  },
  {
   "cell_type": "code",
   "id": "68483703-908e-4f6e-892b-305948d7562d",
   "metadata": {
    "tags": [],
    "ExecuteTime": {
     "end_time": "2024-07-15T07:59:35.175739Z",
     "start_time": "2024-07-15T07:59:35.173489Z"
    }
   },
   "source": [
    "str(df.iloc[0]['Combined_Features_Clean'])"
   ],
   "outputs": [
    {
     "data": {
      "text/plain": [
       "\"Low-Fat Berry Blue Frozen Dessert Frozen Desserts Make share Low-Fat Berry Blue Frozen Dessert recipe Food.com. Toss 2 cups berries sugar. Let stand 45 minutes, stirring occasionally. Transfer berry-sugar mixture food processor. Add yogurt process smooth. Strain fine sieve. Pour baking pan (or transfer ice cream maker process according manufacturers' directions). Freeze uncovered edges solid centre soft. Transfer processor blend smooth again. Return pan freeze edges solid. Transfer processor blend smooth again. Fold remaining 2 cups blueberries. Pour plastic mold freeze overnight. Let soften slightly serve. Dessert Low Protein Low Cholesterol Healthy Free Of... Summer Weeknight Freezer Easy\""
      ]
     },
     "execution_count": 7,
     "metadata": {},
     "output_type": "execute_result"
    }
   ],
   "execution_count": 7
  },
  {
   "cell_type": "code",
   "id": "f08ea196-6017-48c7-8e76-e75120089131",
   "metadata": {
    "tags": [],
    "ExecuteTime": {
     "end_time": "2024-07-15T07:59:35.258281Z",
     "start_time": "2024-07-15T07:59:35.176362Z"
    }
   },
   "source": [
    "df = df[df['AggregatedRating'].notna()]\n",
    "df.shape"
   ],
   "outputs": [
    {
     "data": {
      "text/plain": [
       "(269294, 14)"
      ]
     },
     "execution_count": 8,
     "metadata": {},
     "output_type": "execute_result"
    }
   ],
   "execution_count": 8
  },
  {
   "cell_type": "markdown",
   "id": "74654ec1-1620-4b12-abfa-74ce789a79ce",
   "metadata": {},
   "source": [
    "### Load data into chunked documents"
   ]
  },
  {
   "cell_type": "code",
   "id": "81165ce4-c17b-44df-a88a-319b4e590105",
   "metadata": {
    "tags": [],
    "ExecuteTime": {
     "end_time": "2024-07-15T07:59:35.473637Z",
     "start_time": "2024-07-15T07:59:35.259274Z"
    }
   },
   "source": [
    "from langchain_community.embeddings import HuggingFaceEmbeddings\n",
    "from langchain_text_splitters import RecursiveCharacterTextSplitter\n",
    "from langchain.docstore.document import Document"
   ],
   "outputs": [],
   "execution_count": 9
  },
  {
   "cell_type": "code",
   "id": "ef713c37-2e0f-45ba-8717-de22afbad5b7",
   "metadata": {
    "tags": [],
    "ExecuteTime": {
     "end_time": "2024-07-15T07:59:43.120310Z",
     "start_time": "2024-07-15T07:59:35.475772Z"
    }
   },
   "source": [
    "embedding_model = HuggingFaceEmbeddings(model_name=\"multi-qa-mpnet-base-dot-v1\")"
   ],
   "outputs": [
    {
     "name": "stderr",
     "output_type": "stream",
     "text": [
      "/Users/robertgreer/Documents/Education/Berkeley/Classes/Datasci210_Capstone/Enterprise-RAG/venv/lib/python3.12/site-packages/langchain_core/_api/deprecation.py:139: LangChainDeprecationWarning: The class `HuggingFaceEmbeddings` was deprecated in LangChain 0.2.2 and will be removed in 0.3.0. An updated version of the class exists in the langchain-huggingface package and should be used instead. To use it run `pip install -U langchain-huggingface` and import as `from langchain_huggingface import HuggingFaceEmbeddings`.\n",
      "  warn_deprecated(\n",
      "/Users/robertgreer/Documents/Education/Berkeley/Classes/Datasci210_Capstone/Enterprise-RAG/venv/lib/python3.12/site-packages/sentence_transformers/cross_encoder/CrossEncoder.py:11: TqdmExperimentalWarning: Using `tqdm.autonotebook.tqdm` in notebook mode. Use `tqdm.tqdm` instead to force console mode (e.g. in jupyter console)\n",
      "  from tqdm.autonotebook import tqdm, trange\n"
     ]
    }
   ],
   "execution_count": 10
  },
  {
   "cell_type": "markdown",
   "id": "babae2b2-4aac-4fde-b653-ae2d2a3eb350",
   "metadata": {
    "tags": []
   },
   "source": [
    "### Note: chunking may not be useful for us as the EDA has the following about description length\n",
    "print(new_recipe['Combined_Features_Clean'].str.len().describe())\n",
    "\n",
    "\n",
    "count    522517.000000\\\n",
    "mean        211.461774\\\n",
    "std         122.388646\\\n",
    "min          44.000000\\\n",
    "25%         131.000000\\\n",
    "50%         180.000000\\\n",
    "75%         255.000000\\\n",
    "max        4174.000000\\\n",
    "Name: Combined_Features_Clean, dtype: float64"
   ]
  },
  {
   "cell_type": "code",
   "id": "c829beba-a527-4f21-b311-88db598124fe",
   "metadata": {
    "tags": [],
    "ExecuteTime": {
     "end_time": "2024-07-15T07:59:43.124295Z",
     "start_time": "2024-07-15T07:59:43.121307Z"
    }
   },
   "source": [
    "def create_textsplitter(chunks, overlaps):\n",
    "    splits = {}\n",
    "    for chunk in chunks:\n",
    "        for overlap in overlaps:\n",
    "            splits[f'chunk{str(chunk)}_overlap{str(overlap)}'] = RecursiveCharacterTextSplitter(chunk_size=chunk, chunk_overlap=overlap)\n",
    "    return splits"
   ],
   "outputs": [],
   "execution_count": 11
  },
  {
   "cell_type": "code",
   "id": "88739f50-8d3a-4558-b5fb-588daf1c41cb",
   "metadata": {
    "tags": [],
    "ExecuteTime": {
     "end_time": "2024-07-15T07:59:43.127091Z",
     "start_time": "2024-07-15T07:59:43.124895Z"
    }
   },
   "source": [
    "chunks = [128, 256, 512, 1024, 2048]\n",
    "overlaps = [.25, .2, .15, .1]\n",
    "\n",
    "text_splits = create_textsplitter(chunks, overlaps)"
   ],
   "outputs": [],
   "execution_count": 12
  },
  {
   "cell_type": "code",
   "id": "32e0c41f-6f62-45e4-a385-f94b0493cbe9",
   "metadata": {
    "tags": [],
    "ExecuteTime": {
     "end_time": "2024-07-15T07:59:43.130099Z",
     "start_time": "2024-07-15T07:59:43.127797Z"
    }
   },
   "source": [
    "text_splits['chunk1024_overlap0.25']"
   ],
   "outputs": [
    {
     "data": {
      "text/plain": [
       "<langchain_text_splitters.character.RecursiveCharacterTextSplitter at 0x31bb9c170>"
      ]
     },
     "execution_count": 13,
     "metadata": {},
     "output_type": "execute_result"
    }
   ],
   "execution_count": 13
  },
  {
   "cell_type": "code",
   "id": "05b5985a-4bdc-44cf-b888-9ddc76abb89e",
   "metadata": {
    "tags": [],
    "ExecuteTime": {
     "end_time": "2024-07-15T07:59:43.135656Z",
     "start_time": "2024-07-15T07:59:43.130653Z"
    }
   },
   "source": [
    "# def create_documents(df):\n",
    "#     documents = []\n",
    "#     for index, row in df.iterrows():\n",
    "#         metadata = {\n",
    "#             # 'recipe_id': str(row['RecipeId']) if not pd.isna(row['RecipeId']) else 'No ID Available',\n",
    "#             'name': str(row['Name']) if not pd.isna(row['Name']) else 'No Name Available',\n",
    "#             # 'cook_time': str(row['CookTime']) if not pd.isna(row['CookTime']) else 'No Cook Time Available',\n",
    "#             # 'prep_time': str(row['PrepTime']) if not pd.isna(row['PrepTime']) else 'No Prep Time Available',\n",
    "#             # 'total_time': str(row['TotalTime']) if not pd.isna(row['TotalTime']) else 'No Total Time Available',\n",
    "#             'recipe_category': str(row['RecipeCategory']) if not pd.isna(row['RecipeCategory']) else 'No Category Available',\n",
    "#             # 'keywords': str(row['Keywords']) if not pd.isna(row['Keywords']).all() else 'No Keywords Available',\n",
    "#             'aggregated_rating': str(row['AggregatedRating']) if not pd.isna(row['AggregatedRating']) else 'No Rating Available',\n",
    "#             'review_count': str(row['ReviewCount']) if not pd.isna(row['ReviewCount']) else 'No Reviews Available',\n",
    "#             # 'calories': str(row['Calories']) if not pd.isna(row['Calories']) else 'No Calories Information Available',\n",
    "#             # 'fat_content': str(row['FatContent']) if not pd.isna(row['FatContent']) else 'No Fat Content Available',\n",
    "#             # 'saturated_fat_content': str(row['SaturatedFatContent']) if not pd.isna(row['SaturatedFatContent']) else 'No Saturated Fat Content Available',\n",
    "#             # 'cholesterol_content': str(row['CholesterolContent']) if not pd.isna(row['CholesterolContent']) else 'No Cholesterol Content Available',\n",
    "#             # 'sodium_content': str(row['SodiumContent']) if not pd.isna(row['SodiumContent']) else 'No Sodium Content Available',\n",
    "#             # 'carbohydrate_content': str(row['CarbohydrateContent']) if not pd.isna(row['CarbohydrateContent']) else 'No Carbohydrate Content Available',\n",
    "#             # 'sugar_content': str(row['SugarContent']) if not pd.isna(row['SugarContent']) else 'No Sugar Content Available',\n",
    "#             # 'protein_content': str(row['ProteinContent']) if not pd.isna(row['ProteinContent']) else 'No Protein Content Available',\n",
    "#             # 'recipe_servings': str(row['RecipeServings']) if not pd.isna(row['RecipeServings']) else 'No Servings Information Available',\n",
    "#             # 'recipe_yield': str(row['RecipeYield']) if not pd.isna(row['RecipeYield']) else 'No Yield Information Available'\n",
    "#         }\n",
    "\n",
    "#         # Use Combined_Features_Clean for the document content\n",
    "#         text = str(row['Combined_Features_Clean'])\n",
    "#         doc = Document(page_content=text, metadata=metadata)\n",
    "#         documents.append(doc)\n",
    "        \n",
    "#     return documents\n",
    "\n",
    "def create_documents(df):\n",
    "    df_copy = df.copy(deep=True)\n",
    "    df = df.dropna(subset=[\"AggregatedRating\"])\n",
    "    df_copy = df_copy.fillna(\"\")  # Convert NA values to empty strings\n",
    "    df_copy = df_copy.astype(str)  # Cast all columns to string\n",
    "\n",
    "    documents = []\n",
    "    for _index, row in df_copy.iterrows():\n",
    "        metadata = {\n",
    "            \"name\": row[\"Name\"] if row[\"Name\"] else \"No Name Available\",\n",
    "            \"description\": (\n",
    "                row[\"Description\"] if row[\"Description\"] else \"No Description Available\"\n",
    "            ),\n",
    "            \"recipe_category\": (\n",
    "                row[\"RecipeCategory\"]\n",
    "                if row[\"RecipeCategory\"]\n",
    "                else \"No Category Available\"\n",
    "            ),\n",
    "            \"keywords\": (\n",
    "                row[\"Keywords_string\"]\n",
    "                if row[\"Keywords_string\"]\n",
    "                else \"No Keywords Available\"\n",
    "            ),\n",
    "            \"recipe_ingredient_parts\": (\n",
    "                row[\"RecipeIngredientParts\"]\n",
    "                if row[\"RecipeIngredientParts\"]\n",
    "                else \"No Recipe Ingredient Parts Available\"\n",
    "            ),\n",
    "            \"recipe_instructions\": (\n",
    "                row[\"RecipeInstructions\"]\n",
    "                if row[\"RecipeInstructions\"]\n",
    "                else \"No Recipe Instructions Available\"\n",
    "            ),\n",
    "            \"aggregated_rating\": (\n",
    "                row[\"AggregatedRating\"]\n",
    "                if row[\"AggregatedRating\"]\n",
    "                else \"No Rating Available\"\n",
    "            ),\n",
    "            \"review_count\": (\n",
    "                row[\"ReviewCount\"] if row[\"ReviewCount\"] else \"No Reviews Available\"\n",
    "            ),\n",
    "        }\n",
    "\n",
    "        # List of fields to be included in the document content\n",
    "        content_field = (\n",
    "            row[\"Combined_Features\"]\n",
    "            if row[\"Combined_Features\"]\n",
    "            else \"No Content Available\"\n",
    "        )\n",
    "\n",
    "        # Create the document content using the combined features field\n",
    "        doc = Document(page_content=content_field, metadata=metadata)\n",
    "        documents.append(doc)\n",
    "\n",
    "    return documents\n"
   ],
   "outputs": [],
   "execution_count": 14
  },
  {
   "cell_type": "code",
   "id": "2e316c63-2897-4c89-aa24-562bcab03ba0",
   "metadata": {
    "tags": [],
    "ExecuteTime": {
     "end_time": "2024-07-15T07:59:43.149789Z",
     "start_time": "2024-07-15T07:59:43.136380Z"
    }
   },
   "source": [
    "# Take a sample of 100K receipes \n",
    "documents = create_documents(df.sample(n=100))"
   ],
   "outputs": [],
   "execution_count": 15
  },
  {
   "cell_type": "code",
   "id": "db462d95-67b8-4ec5-b379-1a98666a0dc0",
   "metadata": {
    "tags": [],
    "ExecuteTime": {
     "end_time": "2024-07-15T07:59:43.152386Z",
     "start_time": "2024-07-15T07:59:43.150473Z"
    }
   },
   "source": [
    "documents[0]"
   ],
   "outputs": [
    {
     "data": {
      "text/plain": [
       "Document(metadata={'name': 'Passion Fruit Colada', 'description': 'Make and share this Passion Fruit Colada recipe from Food.com.', 'recipe_category': 'Beverages', 'keywords': 'Fruit Caribbean Vegan < 15 Mins Beginner Cook Easy', 'recipe_ingredient_parts': \"['passion fruit juice' 'cream of coconut' 'rum']\", 'recipe_instructions': 'Combine ice, passion fruit juice, cream of coconut and rum, if using, in a blender and blend until smooth.', 'aggregated_rating': '5.0', 'review_count': '4.0'}, page_content='Passion Fruit Colada Beverages Make and share this Passion Fruit Colada recipe from Food.com. Combine ice, passion fruit juice, cream of coconut and rum, if using, in a blender and blend until smooth. Fruit Caribbean Vegan < 15 Mins Beginner Cook Easy')"
      ]
     },
     "execution_count": 16,
     "metadata": {},
     "output_type": "execute_result"
    }
   ],
   "execution_count": 16
  },
  {
   "cell_type": "code",
   "id": "8d878b08-c2fc-4528-b26f-3a33d7856465",
   "metadata": {
    "tags": [],
    "ExecuteTime": {
     "end_time": "2024-07-15T07:59:43.155201Z",
     "start_time": "2024-07-15T07:59:43.153149Z"
    }
   },
   "source": [
    "len(documents)"
   ],
   "outputs": [
    {
     "data": {
      "text/plain": [
       "100"
      ]
     },
     "execution_count": 17,
     "metadata": {},
     "output_type": "execute_result"
    }
   ],
   "execution_count": 17
  },
  {
   "cell_type": "code",
   "id": "35faf6bb-6a9b-4f59-b021-33c2507638aa",
   "metadata": {
    "tags": [],
    "ExecuteTime": {
     "end_time": "2024-07-15T07:59:43.157479Z",
     "start_time": "2024-07-15T07:59:43.155788Z"
    }
   },
   "source": [
    "def split_documents_with_metadata(documents, text_splitter):\n",
    "    split_docs = []\n",
    "    for doc in documents:\n",
    "        chunks = text_splitter.split_text(doc.page_content)\n",
    "        for i, chunk in enumerate(chunks):\n",
    "            split_docs.append(Document(page_content=chunk, metadata={**doc.metadata, \"chunk_id\": i}))\n",
    "    return split_docs"
   ],
   "outputs": [],
   "execution_count": 18
  },
  {
   "cell_type": "code",
   "id": "d6fe3cfc-26b8-47db-8c36-07e06ea3feb9",
   "metadata": {
    "tags": [],
    "ExecuteTime": {
     "end_time": "2024-07-15T07:59:43.297356Z",
     "start_time": "2024-07-15T07:59:43.157989Z"
    }
   },
   "source": [
    "split_documents = {key: split_documents_with_metadata(documents, text_splitter_recursive) for key, text_splitter_recursive in text_splits.items()}"
   ],
   "outputs": [],
   "execution_count": 19
  },
  {
   "cell_type": "code",
   "id": "225b95d6-f0f2-41fd-8cf9-c700ef269488",
   "metadata": {
    "tags": [],
    "ExecuteTime": {
     "end_time": "2024-07-15T07:59:43.300309Z",
     "start_time": "2024-07-15T07:59:43.298175Z"
    }
   },
   "source": [
    "split_documents['chunk256_overlap0.25'][0]"
   ],
   "outputs": [
    {
     "data": {
      "text/plain": [
       "Document(metadata={'name': 'Passion Fruit Colada', 'description': 'Make and share this Passion Fruit Colada recipe from Food.com.', 'recipe_category': 'Beverages', 'keywords': 'Fruit Caribbean Vegan < 15 Mins Beginner Cook Easy', 'recipe_ingredient_parts': \"['passion fruit juice' 'cream of coconut' 'rum']\", 'recipe_instructions': 'Combine ice, passion fruit juice, cream of coconut and rum, if using, in a blender and blend until smooth.', 'aggregated_rating': '5.0', 'review_count': '4.0', 'chunk_id': 0}, page_content='Passion Fruit Colada Beverages Make and share this Passion Fruit Colada recipe from Food.com. Combine ice, passion fruit juice, cream of coconut and rum, if using, in a blender and blend until smooth. Fruit Caribbean Vegan < 15 Mins Beginner Cook Easy')"
      ]
     },
     "execution_count": 20,
     "metadata": {},
     "output_type": "execute_result"
    }
   ],
   "execution_count": 20
  },
  {
   "cell_type": "code",
   "id": "4cb92d4b-2aba-4e56-ac81-b0f743c139a3",
   "metadata": {
    "tags": [],
    "ExecuteTime": {
     "end_time": "2024-07-15T07:59:48.144257Z",
     "start_time": "2024-07-15T07:59:43.300858Z"
    }
   },
   "source": [
    "# We have > 500,000 recipes, this takes a long time to run\n",
    "from langchain_community.vectorstores import Qdrant\n",
    "\n",
    "# From documents with no chunking\n",
    "qdrant_store = Qdrant.from_documents(documents,\n",
    "    embedding_model,\n",
    "    location=\":memory:\",\n",
    ")\n",
    "\n",
    "# from split documents (specify the chunk and overlap key)\n",
    "# qdrant_store = Qdrant.from_documents(split_documents['chunk1024_overlap0.25'],\n",
    "#     embedding_model,\n",
    "#     location=\":memory:\",\n",
    "# )"
   ],
   "outputs": [],
   "execution_count": 21
  },
  {
   "cell_type": "markdown",
   "id": "83dd632b-e559-47a3-a9b2-ee65c410ab12",
   "metadata": {},
   "source": [
    "## Create llm query call"
   ]
  },
  {
   "cell_type": "code",
   "id": "0a90c77b-533f-4ea7-b1dc-999c3ad1a837",
   "metadata": {
    "tags": [],
    "ExecuteTime": {
     "end_time": "2024-07-15T07:59:48.148819Z",
     "start_time": "2024-07-15T07:59:48.145587Z"
    }
   },
   "source": [
    "import json"
   ],
   "outputs": [],
   "execution_count": 22
  },
  {
   "cell_type": "code",
   "id": "f0a0eb6f-ee0f-48ef-ada2-3d8c4588a2a0",
   "metadata": {
    "tags": [],
    "ExecuteTime": {
     "end_time": "2024-07-15T07:59:48.157272Z",
     "start_time": "2024-07-15T07:59:48.149910Z"
    }
   },
   "source": [
    "bedrock_client = boto3.client('bedrock-runtime', region_name=\"us-east-1\")"
   ],
   "outputs": [],
   "execution_count": 23
  },
  {
   "cell_type": "code",
   "id": "6558f8ed-ad56-443e-9ff4-8ec6f785407b",
   "metadata": {
    "tags": [],
    "ExecuteTime": {
     "end_time": "2024-07-15T07:59:48.159828Z",
     "start_time": "2024-07-15T07:59:48.158289Z"
    }
   },
   "source": [
    "baseline_sys_prompt = \"\"\"\n",
    "You are a helpful assistant and expert in cooking recipes.\n",
    "\n",
    "Before answering, always make at least one call to query_food_recipe_vector_db\n",
    "to retrieve the relevant context of recipes and ingredients to generate an informed\n",
    "and high-quality response to the user prompt but NEVER exceed a MAXIMUM of \n",
    "3 calls to the query_food_recipe_vector_db function.\n",
    "\n",
    "Provide a response to the user prompt about food with recommended recipes and instructions.\n",
    "\"\"\""
   ],
   "outputs": [],
   "execution_count": 24
  },
  {
   "cell_type": "code",
   "id": "91ce8168-eb4b-4ed0-a228-8c09021d35ea",
   "metadata": {
    "tags": [],
    "ExecuteTime": {
     "end_time": "2024-07-15T07:59:48.162617Z",
     "start_time": "2024-07-15T07:59:48.160672Z"
    }
   },
   "source": [
    "recipe_db_query_tool = {\n",
    "  \"name\": \"query_food_recipe_vector_db\",\n",
    "  \"description\": \"\"\"\n",
    "      Queries the vector database containing food recipes to retrieve the most relevant documents. \n",
    "      This function allows the model to generate and execute multiple queries as necessary to gather comprehensive context, \n",
    "      such as ingredients, preparation steps, and metadata like cuisine and diet type, ensuring accurate and thorough responses to user queries.\n",
    "      \"\"\",\n",
    "  \"input_schema\": {\n",
    "    \"type\": \"object\",\n",
    "    \"properties\": {\n",
    "      \"queries\": {\n",
    "        \"type\": \"array\",\n",
    "        \"items\": {\n",
    "          \"type\": \"string\",\n",
    "          \"description\": \"A query generated by the model to run against the vector database to fetch recipe documents.\"\n",
    "        },\n",
    "        \"description\": \"A list of queries generated by the model to run against the vector database to fetch recipe documents.\"\n",
    "      }\n",
    "    },\n",
    "    \"required\": [\"queries\"]\n",
    "  }\n",
    "}\n"
   ],
   "outputs": [],
   "execution_count": 25
  },
  {
   "cell_type": "code",
   "id": "288982cc-10b2-4304-b000-e44b7643e4e8",
   "metadata": {
    "tags": [],
    "ExecuteTime": {
     "end_time": "2024-07-15T07:59:48.166334Z",
     "start_time": "2024-07-15T07:59:48.163464Z"
    }
   },
   "source": [
    "MODEL_ID = \"anthropic.claude-3-sonnet-20240229-v1:0\"\n",
    "\n",
    "def query_bedrock_llm(messages):\n",
    "    response = bedrock_client.invoke_model(\n",
    "        modelId=MODEL_ID,\n",
    "        body=json.dumps({\n",
    "            'anthropic_version': 'bedrock-2023-05-31', # This is required to use chat style messages object \n",
    "            'system': baseline_sys_prompt,\n",
    "            'messages': messages,\n",
    "            'max_tokens': 3000,\n",
    "            \"tools\": [recipe_db_query_tool],\n",
    "\n",
    "            # This config forces the model to always call the recipe db query tool atleast once \n",
    "            # https://docs.anthropic.com/en/docs/build-with-claude/tool-use#controlling-claudes-output\n",
    "            # \"tool_choice\": {\n",
    "            #     \"type\": \"tool\",\n",
    "            #     \"name\": recipe_db_query_tool['name']\n",
    "            # },\n",
    "            \n",
    "            # TODO: TUNE THESE VALUES\n",
    "            'temperature': 0.1, \n",
    "            'top_p': 0.9\n",
    "        })\n",
    "    )\n",
    "    response_body = json.loads(response.get('body').read())\n",
    "    \n",
    "    return response_body"
   ],
   "outputs": [],
   "execution_count": 26
  },
  {
   "cell_type": "markdown",
   "id": "497ccdc5-7f76-491a-9813-25fa6da4a5df",
   "metadata": {},
   "source": [
    "## Create Retrieval Chainfrom langchain_core.prompts import ChatPromptTemplate"
   ]
  },
  {
   "cell_type": "code",
   "id": "8e4ed337-9679-4ed7-9c70-82c119023448",
   "metadata": {
    "tags": [],
    "ExecuteTime": {
     "end_time": "2024-07-15T07:59:48.222863Z",
     "start_time": "2024-07-15T07:59:48.167253Z"
    }
   },
   "source": [
    "from langchain_core.prompts import ChatPromptTemplate\n",
    "from langchain_core.runnables import RunnablePassthrough, RunnableMap"
   ],
   "outputs": [],
   "execution_count": 27
  },
  {
   "cell_type": "code",
   "id": "cd9366dc-f249-4e6c-b479-29f18ad155d3",
   "metadata": {
    "tags": [],
    "ExecuteTime": {
     "end_time": "2024-07-15T07:59:48.230432Z",
     "start_time": "2024-07-15T07:59:48.228529Z"
    }
   },
   "source": [
    "def format_docs(docs):\n",
    "    formatted_docs = []\n",
    "    for doc in docs:\n",
    "        formatted_docs.append(f\"Metadata: {doc.metadata}\\n\")\n",
    "    content = \"\\n\\n\".join(formatted_docs)\n",
    "    \n",
    "    return content"
   ],
   "outputs": [],
   "execution_count": 28
  },
  {
   "cell_type": "code",
   "id": "936c5570-8c42-4707-a55d-f716593a6c6f",
   "metadata": {
    "tags": [],
    "ExecuteTime": {
     "end_time": "2024-07-15T07:59:48.232757Z",
     "start_time": "2024-07-15T07:59:48.231059Z"
    }
   },
   "source": [
    "baseline_user_prompt = \"\"\"\n",
    "### Here is the context:\n",
    "{context}\n",
    "\n",
    "### Here is a user prompt:\n",
    "{query}\n",
    "\"\"\""
   ],
   "outputs": [],
   "execution_count": 29
  },
  {
   "cell_type": "code",
   "id": "73f6a70d-2929-467c-89ff-e523a909f7ae",
   "metadata": {
    "tags": [],
    "ExecuteTime": {
     "end_time": "2024-07-15T07:59:48.235676Z",
     "start_time": "2024-07-15T07:59:48.233457Z"
    }
   },
   "source": [
    "def process_prompt_basic(query_args):\n",
    "    prompt_with_context = baseline_user_prompt.replace(\"{context}\", query_args['context'])\n",
    "    prompt_with_query = prompt_with_context.replace(\"{query}\", query_args['query'])\n",
    "    \n",
    "    # This format doesn't matter much now, but we will use it later to \n",
    "    # persist chat history for continuous dialogue\n",
    "    messages = [\n",
    "        {\n",
    "            \"role\": \"user\",\n",
    "            \"content\": [\n",
    "                {\n",
    "                    \"type\": \"text\",\n",
    "                    \"text\": prompt_with_query\n",
    "                }\n",
    "            ]\n",
    "        }\n",
    "    ]\n",
    "    \n",
    "    return messages"
   ],
   "outputs": [],
   "execution_count": 30
  },
  {
   "cell_type": "markdown",
   "id": "6ca97d83-0690-484c-8c87-54d7e03b2a32",
   "metadata": {},
   "source": [
    "## Create Initial Retriever"
   ]
  },
  {
   "cell_type": "code",
   "id": "36e69095-4a94-4d91-90fc-fb9ac5301306",
   "metadata": {
    "tags": [],
    "ExecuteTime": {
     "end_time": "2024-07-15T07:59:48.237972Z",
     "start_time": "2024-07-15T07:59:48.236308Z"
    }
   },
   "source": "qdrant_retriever_rerank = qdrant_store.as_retriever(search_type='mmr', search_kwargs={\"k\": 5, 'lambda_mult': 0.5})\n",
   "outputs": [],
   "execution_count": 31
  },
  {
   "cell_type": "markdown",
   "id": "c7d9e8b1-fffe-4a23-a313-789c21f7a367",
   "metadata": {},
   "source": [
    "### Self Query"
   ]
  },
  {
   "metadata": {
    "ExecuteTime": {
     "end_time": "2024-07-15T07:59:51.436014Z",
     "start_time": "2024-07-15T07:59:48.238764Z"
    }
   },
   "cell_type": "code",
   "source": [
    "!pip install langchain_openai\n",
    "!pip install python-dotenv"
   ],
   "id": "5d7b956a52527f60",
   "outputs": [
    {
     "name": "stderr",
     "output_type": "stream",
     "text": [
      "huggingface/tokenizers: The current process just got forked, after parallelism has already been used. Disabling parallelism to avoid deadlocks...\n",
      "To disable this warning, you can either:\n",
      "\t- Avoid using `tokenizers` before the fork if possible\n",
      "\t- Explicitly set the environment variable TOKENIZERS_PARALLELISM=(true | false)\n"
     ]
    },
    {
     "name": "stdout",
     "output_type": "stream",
     "text": [
      "Requirement already satisfied: langchain_openai in /Users/robertgreer/Documents/Education/Berkeley/Classes/Datasci210_Capstone/Enterprise-RAG/venv/lib/python3.12/site-packages (0.1.16)\r\n",
      "Requirement already satisfied: langchain-core<0.3.0,>=0.2.17 in /Users/robertgreer/Documents/Education/Berkeley/Classes/Datasci210_Capstone/Enterprise-RAG/venv/lib/python3.12/site-packages (from langchain_openai) (0.2.18)\r\n",
      "Requirement already satisfied: openai<2.0.0,>=1.32.0 in /Users/robertgreer/Documents/Education/Berkeley/Classes/Datasci210_Capstone/Enterprise-RAG/venv/lib/python3.12/site-packages (from langchain_openai) (1.35.13)\r\n",
      "Requirement already satisfied: tiktoken<1,>=0.7 in /Users/robertgreer/Documents/Education/Berkeley/Classes/Datasci210_Capstone/Enterprise-RAG/venv/lib/python3.12/site-packages (from langchain_openai) (0.7.0)\r\n",
      "Requirement already satisfied: PyYAML>=5.3 in /Users/robertgreer/Documents/Education/Berkeley/Classes/Datasci210_Capstone/Enterprise-RAG/venv/lib/python3.12/site-packages (from langchain-core<0.3.0,>=0.2.17->langchain_openai) (6.0.1)\r\n",
      "Requirement already satisfied: jsonpatch<2.0,>=1.33 in /Users/robertgreer/Documents/Education/Berkeley/Classes/Datasci210_Capstone/Enterprise-RAG/venv/lib/python3.12/site-packages (from langchain-core<0.3.0,>=0.2.17->langchain_openai) (1.33)\r\n",
      "Requirement already satisfied: langsmith<0.2.0,>=0.1.75 in /Users/robertgreer/Documents/Education/Berkeley/Classes/Datasci210_Capstone/Enterprise-RAG/venv/lib/python3.12/site-packages (from langchain-core<0.3.0,>=0.2.17->langchain_openai) (0.1.77)\r\n",
      "Requirement already satisfied: packaging<25,>=23.2 in /Users/robertgreer/Documents/Education/Berkeley/Classes/Datasci210_Capstone/Enterprise-RAG/venv/lib/python3.12/site-packages (from langchain-core<0.3.0,>=0.2.17->langchain_openai) (23.2)\r\n",
      "Requirement already satisfied: pydantic<3,>=1 in /Users/robertgreer/Documents/Education/Berkeley/Classes/Datasci210_Capstone/Enterprise-RAG/venv/lib/python3.12/site-packages (from langchain-core<0.3.0,>=0.2.17->langchain_openai) (2.7.3)\r\n",
      "Requirement already satisfied: tenacity!=8.4.0,<9.0.0,>=8.1.0 in /Users/robertgreer/Documents/Education/Berkeley/Classes/Datasci210_Capstone/Enterprise-RAG/venv/lib/python3.12/site-packages (from langchain-core<0.3.0,>=0.2.17->langchain_openai) (8.3.0)\r\n",
      "Requirement already satisfied: anyio<5,>=3.5.0 in /Users/robertgreer/Documents/Education/Berkeley/Classes/Datasci210_Capstone/Enterprise-RAG/venv/lib/python3.12/site-packages (from openai<2.0.0,>=1.32.0->langchain_openai) (4.4.0)\r\n",
      "Requirement already satisfied: distro<2,>=1.7.0 in /Users/robertgreer/Documents/Education/Berkeley/Classes/Datasci210_Capstone/Enterprise-RAG/venv/lib/python3.12/site-packages (from openai<2.0.0,>=1.32.0->langchain_openai) (1.9.0)\r\n",
      "Requirement already satisfied: httpx<1,>=0.23.0 in /Users/robertgreer/Documents/Education/Berkeley/Classes/Datasci210_Capstone/Enterprise-RAG/venv/lib/python3.12/site-packages (from openai<2.0.0,>=1.32.0->langchain_openai) (0.27.0)\r\n",
      "Requirement already satisfied: sniffio in /Users/robertgreer/Documents/Education/Berkeley/Classes/Datasci210_Capstone/Enterprise-RAG/venv/lib/python3.12/site-packages (from openai<2.0.0,>=1.32.0->langchain_openai) (1.3.1)\r\n",
      "Requirement already satisfied: tqdm>4 in /Users/robertgreer/Documents/Education/Berkeley/Classes/Datasci210_Capstone/Enterprise-RAG/venv/lib/python3.12/site-packages (from openai<2.0.0,>=1.32.0->langchain_openai) (4.66.4)\r\n",
      "Requirement already satisfied: typing-extensions<5,>=4.7 in /Users/robertgreer/Documents/Education/Berkeley/Classes/Datasci210_Capstone/Enterprise-RAG/venv/lib/python3.12/site-packages (from openai<2.0.0,>=1.32.0->langchain_openai) (4.12.2)\r\n",
      "Requirement already satisfied: regex>=2022.1.18 in /Users/robertgreer/Documents/Education/Berkeley/Classes/Datasci210_Capstone/Enterprise-RAG/venv/lib/python3.12/site-packages (from tiktoken<1,>=0.7->langchain_openai) (2024.5.15)\r\n",
      "Requirement already satisfied: requests>=2.26.0 in /Users/robertgreer/Documents/Education/Berkeley/Classes/Datasci210_Capstone/Enterprise-RAG/venv/lib/python3.12/site-packages (from tiktoken<1,>=0.7->langchain_openai) (2.32.3)\r\n",
      "Requirement already satisfied: idna>=2.8 in /Users/robertgreer/Documents/Education/Berkeley/Classes/Datasci210_Capstone/Enterprise-RAG/venv/lib/python3.12/site-packages (from anyio<5,>=3.5.0->openai<2.0.0,>=1.32.0->langchain_openai) (3.7)\r\n",
      "Requirement already satisfied: certifi in /Users/robertgreer/Documents/Education/Berkeley/Classes/Datasci210_Capstone/Enterprise-RAG/venv/lib/python3.12/site-packages (from httpx<1,>=0.23.0->openai<2.0.0,>=1.32.0->langchain_openai) (2024.6.2)\r\n",
      "Requirement already satisfied: httpcore==1.* in /Users/robertgreer/Documents/Education/Berkeley/Classes/Datasci210_Capstone/Enterprise-RAG/venv/lib/python3.12/site-packages (from httpx<1,>=0.23.0->openai<2.0.0,>=1.32.0->langchain_openai) (1.0.5)\r\n",
      "Requirement already satisfied: h11<0.15,>=0.13 in /Users/robertgreer/Documents/Education/Berkeley/Classes/Datasci210_Capstone/Enterprise-RAG/venv/lib/python3.12/site-packages (from httpcore==1.*->httpx<1,>=0.23.0->openai<2.0.0,>=1.32.0->langchain_openai) (0.14.0)\r\n",
      "Requirement already satisfied: jsonpointer>=1.9 in /Users/robertgreer/Documents/Education/Berkeley/Classes/Datasci210_Capstone/Enterprise-RAG/venv/lib/python3.12/site-packages (from jsonpatch<2.0,>=1.33->langchain-core<0.3.0,>=0.2.17->langchain_openai) (3.0.0)\r\n",
      "Requirement already satisfied: orjson<4.0.0,>=3.9.14 in /Users/robertgreer/Documents/Education/Berkeley/Classes/Datasci210_Capstone/Enterprise-RAG/venv/lib/python3.12/site-packages (from langsmith<0.2.0,>=0.1.75->langchain-core<0.3.0,>=0.2.17->langchain_openai) (3.10.4)\r\n",
      "Requirement already satisfied: annotated-types>=0.4.0 in /Users/robertgreer/Documents/Education/Berkeley/Classes/Datasci210_Capstone/Enterprise-RAG/venv/lib/python3.12/site-packages (from pydantic<3,>=1->langchain-core<0.3.0,>=0.2.17->langchain_openai) (0.7.0)\r\n",
      "Requirement already satisfied: pydantic-core==2.18.4 in /Users/robertgreer/Documents/Education/Berkeley/Classes/Datasci210_Capstone/Enterprise-RAG/venv/lib/python3.12/site-packages (from pydantic<3,>=1->langchain-core<0.3.0,>=0.2.17->langchain_openai) (2.18.4)\r\n",
      "Requirement already satisfied: charset-normalizer<4,>=2 in /Users/robertgreer/Documents/Education/Berkeley/Classes/Datasci210_Capstone/Enterprise-RAG/venv/lib/python3.12/site-packages (from requests>=2.26.0->tiktoken<1,>=0.7->langchain_openai) (3.3.2)\r\n",
      "Requirement already satisfied: urllib3<3,>=1.21.1 in /Users/robertgreer/Documents/Education/Berkeley/Classes/Datasci210_Capstone/Enterprise-RAG/venv/lib/python3.12/site-packages (from requests>=2.26.0->tiktoken<1,>=0.7->langchain_openai) (2.2.1)\r\n",
      "\r\n",
      "\u001B[1m[\u001B[0m\u001B[34;49mnotice\u001B[0m\u001B[1;39;49m]\u001B[0m\u001B[39;49m A new release of pip is available: \u001B[0m\u001B[31;49m24.0\u001B[0m\u001B[39;49m -> \u001B[0m\u001B[32;49m24.1.2\u001B[0m\r\n",
      "\u001B[1m[\u001B[0m\u001B[34;49mnotice\u001B[0m\u001B[1;39;49m]\u001B[0m\u001B[39;49m To update, run: \u001B[0m\u001B[32;49mpip install --upgrade pip\u001B[0m\r\n"
     ]
    },
    {
     "name": "stderr",
     "output_type": "stream",
     "text": [
      "huggingface/tokenizers: The current process just got forked, after parallelism has already been used. Disabling parallelism to avoid deadlocks...\n",
      "To disable this warning, you can either:\n",
      "\t- Avoid using `tokenizers` before the fork if possible\n",
      "\t- Explicitly set the environment variable TOKENIZERS_PARALLELISM=(true | false)\n"
     ]
    },
    {
     "name": "stdout",
     "output_type": "stream",
     "text": [
      "Requirement already satisfied: python-dotenv in /Users/robertgreer/Documents/Education/Berkeley/Classes/Datasci210_Capstone/Enterprise-RAG/venv/lib/python3.12/site-packages (1.0.1)\r\n",
      "\r\n",
      "\u001B[1m[\u001B[0m\u001B[34;49mnotice\u001B[0m\u001B[1;39;49m]\u001B[0m\u001B[39;49m A new release of pip is available: \u001B[0m\u001B[31;49m24.0\u001B[0m\u001B[39;49m -> \u001B[0m\u001B[32;49m24.1.2\u001B[0m\r\n",
      "\u001B[1m[\u001B[0m\u001B[34;49mnotice\u001B[0m\u001B[1;39;49m]\u001B[0m\u001B[39;49m To update, run: \u001B[0m\u001B[32;49mpip install --upgrade pip\u001B[0m\r\n"
     ]
    }
   ],
   "execution_count": 32
  },
  {
   "metadata": {
    "ExecuteTime": {
     "end_time": "2024-07-15T07:59:51.644773Z",
     "start_time": "2024-07-15T07:59:51.437008Z"
    }
   },
   "cell_type": "code",
   "source": [
    "from langchain_openai import ChatOpenAI\n",
    "import os\n",
    "from dotenv import load_dotenv, find_dotenv\n"
   ],
   "id": "9cb47857f647259f",
   "outputs": [],
   "execution_count": 33
  },
  {
   "metadata": {
    "ExecuteTime": {
     "end_time": "2024-07-15T07:59:51.648414Z",
     "start_time": "2024-07-15T07:59:51.645551Z"
    }
   },
   "cell_type": "code",
   "source": "load_dotenv()\n",
   "id": "88201135d28d37ff",
   "outputs": [
    {
     "data": {
      "text/plain": [
       "True"
      ]
     },
     "execution_count": 34,
     "metadata": {},
     "output_type": "execute_result"
    }
   ],
   "execution_count": 34
  },
  {
   "metadata": {
    "ExecuteTime": {
     "end_time": "2024-07-15T08:01:12.209318Z",
     "start_time": "2024-07-15T08:01:12.205746Z"
    }
   },
   "cell_type": "code",
   "source": [
    "OPENAI_API_KEY = os.getenv('OPENAI_API_KEY')\n",
    "\n",
    "# OPENAI_API_KEY "
   ],
   "id": "824f20b7e7639421",
   "outputs": [],
   "execution_count": 54
  },
  {
   "metadata": {
    "ExecuteTime": {
     "end_time": "2024-07-15T07:59:51.818584Z",
     "start_time": "2024-07-15T07:59:51.651630Z"
    }
   },
   "cell_type": "code",
   "source": [
    "from langchain.chains.query_constructor.base import AttributeInfo\n",
    "from langchain.retrievers.self_query.base import SelfQueryRetriever\n",
    "from langchain_openai import ChatOpenAI\n",
    "\n",
    "metadata_field_info = [\n",
    "    AttributeInfo(\n",
    "        name=\"name\",\n",
    "        description=\"The name of the recipe\",\n",
    "        type=\"string\",\n",
    "    ),\n",
    "    AttributeInfo(\n",
    "        name=\"description\",\n",
    "        description=\"A brief description of the recipe\",\n",
    "        type=\"string\",\n",
    "    ),\n",
    "    AttributeInfo(\n",
    "        name=\"recipe_category\",\n",
    "        description=\"The category of the recipe, such as 'Quick Breads', 'Desserts', etc.\",\n",
    "        type=\"string\",\n",
    "    ),\n",
    "    AttributeInfo(\n",
    "        name=\"keywords\",\n",
    "        description=\"Keywords associated with the recipe\",\n",
    "        type=\"string\",\n",
    "    ),\n",
    "    AttributeInfo(\n",
    "        name=\"recipe_ingredient_parts\",\n",
    "        description=\"The ingredients required for the recipe\",\n",
    "        type=\"string\",\n",
    "    ),\n",
    "    AttributeInfo(\n",
    "        name=\"recipe_instructions\",\n",
    "        description=\"The instructions to prepare the recipe\",\n",
    "        type=\"string\",\n",
    "    ),\n",
    "    AttributeInfo(\n",
    "        name=\"aggregated_rating\",\n",
    "        description=\"The aggregated rating for the recipe\",\n",
    "        type=\"string\",\n",
    "    ),\n",
    "    AttributeInfo(\n",
    "        name=\"review_count\",\n",
    "        description=\"The number of reviews for the recipe\",\n",
    "        type=\"string\",\n",
    "    ),\n",
    "]\n",
    "document_content_description = \"Detailed information about a recipe\"\n",
    "\n",
    "llm = ChatOpenAI(\n",
    "    # model='gpt-4-turbo',\n",
    "    model='gpt-4o',\n",
    "    temperature=0,\n",
    "    openai_api_key=OPENAI_API_KEY,\n",
    "    \n",
    ")\n"
   ],
   "id": "6ff7b3a5-6c55-48b4-91b5-589339c9aff9",
   "outputs": [],
   "execution_count": 36
  },
  {
   "metadata": {
    "ExecuteTime": {
     "end_time": "2024-07-15T07:59:54.361699Z",
     "start_time": "2024-07-15T07:59:51.819517Z"
    }
   },
   "cell_type": "code",
   "source": [
    "from langchain.retrievers import ContextualCompressionRetriever\n",
    "from langchain.retrievers.document_compressors import CrossEncoderReranker\n",
    "from langchain_community.cross_encoders import HuggingFaceCrossEncoder\n",
    "\n",
    "reranker_model = HuggingFaceCrossEncoder(model_name=\"BAAI/bge-reranker-base\")\n",
    "cross_encoder = CrossEncoderReranker(model=reranker_model, top_n=1)\n",
    "# compression_retriever = ContextualCompressionRetriever(\n",
    "#     base_compressor=compressor, base_retriever=qa_retriever\n",
    "# )\n"
   ],
   "id": "d95141f3e910be7f",
   "outputs": [],
   "execution_count": 37
  },
  {
   "metadata": {},
   "cell_type": "markdown",
   "source": "### Full chain",
   "id": "d8eedb605736fdad"
  },
  {
   "metadata": {
    "ExecuteTime": {
     "end_time": "2024-07-15T07:59:54.364083Z",
     "start_time": "2024-07-15T07:59:54.362396Z"
    }
   },
   "cell_type": "code",
   "source": [
    "def filtered_qdrant_store(documents=[]):\n",
    "    filtered_qdrant_store = Qdrant.from_documents(documents,\n",
    "        embedding_model,\n",
    "        location=\":memory:\",\n",
    "    )\n",
    "    return filtered_qdrant_store"
   ],
   "id": "83fb7d8a181e43d4",
   "outputs": [],
   "execution_count": 38
  },
  {
   "metadata": {
    "ExecuteTime": {
     "end_time": "2024-07-15T07:59:54.366697Z",
     "start_time": "2024-07-15T07:59:54.364854Z"
    }
   },
   "cell_type": "code",
   "source": [
    "def qa_message_prompt(user_prompt):\n",
    "    f\"\"\"\n",
    "system: You are a helpful assistant and expert in cooking recipes.\n",
    "\n",
    "You are evaluating for consistency of the user query.\n",
    "Please retrieve documents that DO NOT violate dietary restrictions, allergies, \n",
    "or any requirements dictated by the user.\n",
    "\n",
    "user: {user_prompt}\n",
    "\"\"\""
   ],
   "id": "d67cdae3f776fe9",
   "outputs": [],
   "execution_count": 39
  },
  {
   "metadata": {
    "ExecuteTime": {
     "end_time": "2024-07-15T07:59:54.368797Z",
     "start_time": "2024-07-15T07:59:54.367397Z"
    }
   },
   "cell_type": "code",
   "source": [
    "def self_query_retriever(documents=[]):\n",
    "    return SelfQueryRetriever.from_llm(\n",
    "        llm, filtered_qdrant_store(documents), document_content_description, metadata_field_info, verbose=True\n",
    "    )"
   ],
   "id": "88b4132ec210b56e",
   "outputs": [],
   "execution_count": 40
  },
  {
   "metadata": {
    "ExecuteTime": {
     "end_time": "2024-07-15T07:59:54.371186Z",
     "start_time": "2024-07-15T07:59:54.369408Z"
    }
   },
   "cell_type": "code",
   "source": [
    "def qa_retriever_wrapper(dict):\n",
    "    documents = dict.pop('documents')\n",
    "    query = dict.pop('query')\n",
    "    qa_retriever = SelfQueryRetriever.from_llm(\n",
    "        llm, filtered_qdrant_store(documents), document_content_description, metadata_field_info, verbose=True\n",
    "    )\n",
    "    return {\"documents\": qa_retriever.invoke(qa_message_prompt(query)),\n",
    "            \"query\": query}"
   ],
   "id": "29d20dbfa4ce011f",
   "outputs": [],
   "execution_count": 41
  },
  {
   "metadata": {
    "ExecuteTime": {
     "end_time": "2024-07-15T07:59:54.373256Z",
     "start_time": "2024-07-15T07:59:54.371731Z"
    }
   },
   "cell_type": "code",
   "source": [
    "def cross_encoder_wrapper(dict):\n",
    "    documents = dict.pop('documents')\n",
    "    query = dict.pop('query')\n",
    "    # print(f'documents: {documents}')\n",
    "    # print(f'query: {query}')\n",
    "    # return {\"documents\": cross_encoder.compress_documents(query=query, documents=documents),\n",
    "    #         \"query\": query}\n",
    "    return cross_encoder.compress_documents(query=query, documents=documents)"
   ],
   "id": "8dba5e1a95018bac",
   "outputs": [],
   "execution_count": 42
  },
  {
   "metadata": {
    "ExecuteTime": {
     "end_time": "2024-07-15T07:59:54.375828Z",
     "start_time": "2024-07-15T07:59:54.373865Z"
    }
   },
   "cell_type": "code",
   "source": [
    "qdrant_rag_chain_rerank = (\n",
    "    RunnableMap(\n",
    "        {\"documents\": qdrant_retriever_rerank,\n",
    "         \"query\": RunnablePassthrough()}\n",
    "    ) \n",
    "    | qa_retriever_wrapper\n",
    "    | cross_encoder_wrapper\n",
    "    # | format_docs\n",
    "    # | process_prompt_basic\n",
    ")"
   ],
   "id": "3e9a8f17-8723-4d24-a1ac-492c014be2b9",
   "outputs": [],
   "execution_count": 43
  },
  {
   "cell_type": "code",
   "id": "5a0f4c23-5c5e-4ed4-a364-ef7b29d2a6c8",
   "metadata": {
    "tags": [],
    "ExecuteTime": {
     "end_time": "2024-07-15T07:59:59.699724Z",
     "start_time": "2024-07-15T07:59:54.376436Z"
    }
   },
   "source": "results = qdrant_rag_chain_rerank.invoke(\"Give me a peanut free Thai dish\")",
   "outputs": [
    {
     "name": "stderr",
     "output_type": "stream",
     "text": [
      "huggingface/tokenizers: The current process just got forked, after parallelism has already been used. Disabling parallelism to avoid deadlocks...\n",
      "To disable this warning, you can either:\n",
      "\t- Avoid using `tokenizers` before the fork if possible\n",
      "\t- Explicitly set the environment variable TOKENIZERS_PARALLELISM=(true | false)\n"
     ]
    }
   ],
   "execution_count": 44
  },
  {
   "cell_type": "code",
   "id": "9f87f6f1-6989-4193-b321-fef355dc0ef0",
   "metadata": {
    "ExecuteTime": {
     "end_time": "2024-07-15T07:59:59.703445Z",
     "start_time": "2024-07-15T07:59:59.700811Z"
    }
   },
   "source": "type(results)",
   "outputs": [
    {
     "data": {
      "text/plain": [
       "list"
      ]
     },
     "execution_count": 45,
     "metadata": {},
     "output_type": "execute_result"
    }
   ],
   "execution_count": 45
  },
  {
   "metadata": {
    "ExecuteTime": {
     "end_time": "2024-07-15T07:59:59.706110Z",
     "start_time": "2024-07-15T07:59:59.704070Z"
    }
   },
   "cell_type": "code",
   "source": "results",
   "id": "257d8e3b080f2f9b",
   "outputs": [
    {
     "data": {
      "text/plain": [
       "[Document(metadata={'name': 'Chicken Chow Mein - Easy!', 'description': \"From BBC's Chinese Food Made Easy, the best recent TV cookery show. Very simple to make, and tasty! I added a little more five-spice than the original recipe. Omit the chilli sauce if you wish, or add a little more to give it extra zing.\\r\\nIf you don't have groundnut oil (peanut oil), use vegetable oil, NOT olive oil, which is too strong flavoured.\\r\\nServes two as a main course, or four as a side dish.\", 'recipe_category': 'One Dish Meal', 'keywords': 'Chicken Breast Chicken Poultry Meat Chinese Asian Spicy Savory < 15 Mins Beginner Cook Stir Fry Easy Inexpensive', 'recipe_ingredient_parts': \"['chicken breasts' 'dark soy sauce' 'five-spice powder' 'chili sauce'\\n 'cornflour' 'red bell pepper' 'bean sprouts' 'spring onion'\\n 'light soy sauce' 'fresh ground black pepper']\", 'recipe_instructions': 'Cook the noodles in boiling water until al dente. Drain, rinse under cold water and drain again. Drizzle with a little sesame oil and toss. Place chicken in a bowl and toss with dark soy, five-spice powder and chilli sauce. Dust with cornflour. Heat a wok until smoking before adding the groundnut oil. Add chicken and cook, stirring, until golden brown and cooked through. Add red pepper, stir fry for a minute, then add onion and beansprouts, cooking for a further 30s. Stir in the noodles and season with light soy sauce, a dash of sesame oil and black pepper, to taste.', 'aggregated_rating': '5.0', 'review_count': '2.0', '_id': '2efc55b1ff24466bb3b999cc3e422278', '_collection_name': 'ec75b9275e6745f388a665c53c5e4fc0'}, page_content=\"Chicken Chow Mein - Easy! One Dish Meal From BBC's Chinese Food Made Easy, the best recent TV cookery show. Very simple to make, and tasty! I added a little more five-spice than the original recipe. Omit the chilli sauce if you wish, or add a little more to give it extra zing.\\r\\nIf you don't have groundnut oil (peanut oil), use vegetable oil, NOT olive oil, which is too strong flavoured.\\r\\nServes two as a main course, or four as a side dish. Cook the noodles in boiling water until al dente. Drain, rinse under cold water and drain again. Drizzle with a little sesame oil and toss. Place chicken in a bowl and toss with dark soy, five-spice powder and chilli sauce. Dust with cornflour. Heat a wok until smoking before adding the groundnut oil. Add chicken and cook, stirring, until golden brown and cooked through. Add red pepper, stir fry for a minute, then add onion and beansprouts, cooking for a further 30s. Stir in the noodles and season with light soy sauce, a dash of sesame oil and black pepper, to taste. Chicken Breast Chicken Poultry Meat Chinese Asian Spicy Savory < 15 Mins Beginner Cook Stir Fry Easy Inexpensive\")]"
      ]
     },
     "execution_count": 46,
     "metadata": {},
     "output_type": "execute_result"
    }
   ],
   "execution_count": 46
  },
  {
   "metadata": {},
   "cell_type": "markdown",
   "source": "## Dynamic Function Calls",
   "id": "5d486b57afd5e048"
  },
  {
   "metadata": {
    "ExecuteTime": {
     "end_time": "2024-07-15T07:59:59.708660Z",
     "start_time": "2024-07-15T07:59:59.706758Z"
    }
   },
   "cell_type": "code",
   "source": [
    "def generate_message(prompt):\n",
    "    if type(prompt) != str:\n",
    "        raise ValueError(f'Tried to call message generate_message with non-string input: {prompt}')\n",
    "\n",
    "    return {\n",
    "        \"role\": \"user\",\n",
    "        \"content\": [\n",
    "            {\n",
    "                \"type\": \"text\",\n",
    "                \"text\": prompt\n",
    "            }\n",
    "        ]\n",
    "    }"
   ],
   "id": "2c28e2590194ae86",
   "outputs": [],
   "execution_count": 47
  },
  {
   "metadata": {
    "ExecuteTime": {
     "end_time": "2024-07-15T07:59:59.710683Z",
     "start_time": "2024-07-15T07:59:59.709227Z"
    }
   },
   "cell_type": "code",
   "source": [
    "def generate_tool_message(fn_results):\n",
    "    return {\n",
    "        \"role\": \"user\",\n",
    "        \"content\": fn_results\n",
    "    }"
   ],
   "id": "184d2584e0143071",
   "outputs": [],
   "execution_count": 48
  },
  {
   "metadata": {
    "ExecuteTime": {
     "end_time": "2024-07-15T07:59:59.713199Z",
     "start_time": "2024-07-15T07:59:59.711144Z"
    }
   },
   "cell_type": "code",
   "source": [
    "def message_handler(existing_chat_history, prompt, is_tool_message=False):\n",
    "    # Fn results is an array of tool response objects\n",
    "    # message structure needs to reflect that\n",
    "    if is_tool_message:\n",
    "        user_message = generate_tool_message(prompt)\n",
    "    else:\n",
    "        user_message = generate_message(prompt)\n",
    "    existing_chat_history.append(user_message)\n",
    "\n",
    "    # Parse the response content\n",
    "    response_body = query_bedrock_llm(existing_chat_history)\n",
    "    llm_message = {\n",
    "        'role': response_body['role'],\n",
    "        'content': response_body['content']\n",
    "    }\n",
    "\n",
    "    # Add the response message to the chat history\n",
    "    existing_chat_history.append(llm_message)\n",
    "    \n",
    "    return [response_body, llm_message, existing_chat_history]"
   ],
   "id": "3c3a6d1a577e02c0",
   "outputs": [],
   "execution_count": 49
  },
  {
   "metadata": {
    "ExecuteTime": {
     "end_time": "2024-07-15T07:59:59.715300Z",
     "start_time": "2024-07-15T07:59:59.713721Z"
    }
   },
   "cell_type": "code",
   "source": [
    "# Executes a list of queries and returns a list of document results\n",
    "def handle_vector_db_queries(queries, retriever=qdrant_rag_chain_rerank): \n",
    "    context_docs = []\n",
    "    for query in queries:\n",
    "        query_results = retriever.invoke(query)\n",
    "        context_docs.extend(query_results)\n",
    "\n",
    "    return context_docs"
   ],
   "id": "cb89d83cc3bfe4e4",
   "outputs": [],
   "execution_count": 50
  },
  {
   "metadata": {
    "ExecuteTime": {
     "end_time": "2024-07-15T07:59:59.718485Z",
     "start_time": "2024-07-15T07:59:59.715896Z"
    }
   },
   "cell_type": "code",
   "source": [
    "# Takes as an argument to LLM message content, returns a list of the fn result objects\n",
    "def handle_function_calls(tool_call_message_content, retriever=qdrant_rag_chain_rerank):\n",
    "    tool_results = []\n",
    "    \n",
    "    for tool_call in tool_call_message_content:\n",
    "        # Only process messages from the LLM that are function calls\n",
    "        if tool_call['type'] != 'tool_use':\n",
    "            continue\n",
    "        fn_id = tool_call['id']\n",
    "        fn_name = tool_call['name']\n",
    "        fn_args = tool_call['input']\n",
    "        fn_result = {\n",
    "            \"type\": \"tool_result\",\n",
    "            \"tool_use_id\": fn_id,\n",
    "        }   \n",
    "\n",
    "        if fn_name == 'query_food_recipe_vector_db':\n",
    "            if 'queries' not in fn_args:\n",
    "                print(f\"ERROR: Tried to call {fn_name} with invalid args {fn_args}, skipping..\")\n",
    "                fn_result['content'] = \"\"\n",
    "                fn_result['is_error'] = True\n",
    "                tool_results.append(fn_result)\n",
    "                continue\n",
    "                \n",
    "            print(f\"Model called {fn_name} with args {fn_args}\")\n",
    "            context_docs = handle_vector_db_queries(fn_args['queries'], retriever)\n",
    "            context_str = format_docs(context_docs)\n",
    "            fn_result['content'] = context_str\n",
    "            tool_results.append(fn_result)\n",
    "            \n",
    "        # TODO: handle web search invocation here\n",
    "        else:\n",
    "            print(f\"ERROR: Attempted call to unknown function {fn_name}\")\n",
    "            fn_result['content'] = \"\"\n",
    "            fn_result['is_error'] = True\n",
    "            tool_results.append(fn_result)\n",
    "\n",
    "    return tool_results"
   ],
   "id": "327ca0e6a9d49627",
   "outputs": [],
   "execution_count": 51
  },
  {
   "metadata": {
    "ExecuteTime": {
     "end_time": "2024-07-15T07:59:59.721315Z",
     "start_time": "2024-07-15T07:59:59.719037Z"
    }
   },
   "cell_type": "code",
   "source": [
    "def run_chat_loop(prompt, retriever=qdrant_rag_chain_rerank):\n",
    "    print(f\"[User]: {prompt}\")\n",
    "    response_body, llm_message, chat_history = message_handler(existing_chat_history=[], prompt=prompt)\n",
    "    \n",
    "    \n",
    "    # The model wants to call tools, call them, provide response, repeat until content is generated\n",
    "    while response_body['stop_reason'] == 'tool_use':\n",
    "        fn_results = handle_function_calls(tool_call_message_content=llm_message['content'], retriever=retriever)\n",
    "\n",
    "        # Send function results back to LLM as a new message with the existing chat history\n",
    "        response_body, llm_message, chat_history = message_handler(\n",
    "            existing_chat_history=chat_history, \n",
    "            prompt=fn_results,\n",
    "            is_tool_message=True\n",
    "        )\n",
    "\n",
    "    # The model is done calling tools\n",
    "    print(f\"\\n[Model]: {llm_message['content'][0]['text']}\")\n",
    "    return f\"\\n[Model]: {llm_message['content'][0]['text']}\""
   ],
   "id": "a6bc63aa854f7534",
   "outputs": [],
   "execution_count": 52
  },
  {
   "metadata": {
    "ExecuteTime": {
     "end_time": "2024-07-15T08:00:29.878933Z",
     "start_time": "2024-07-15T07:59:59.721832Z"
    }
   },
   "cell_type": "code",
   "source": "run_chat_loop(\"Give me a peanut free Thai dish\")",
   "id": "585637037904b9e1",
   "outputs": [
    {
     "name": "stdout",
     "output_type": "stream",
     "text": [
      "[User]: Give me a peanut free Thai dish\n",
      "Model called query_food_recipe_vector_db with args {'queries': ['thai recipes without peanuts']}\n",
      "Model called query_food_recipe_vector_db with args {'queries': ['thai curry recipes without peanuts']}\n",
      "Model called query_food_recipe_vector_db with args {'queries': ['thai vegetable curry without peanuts']}\n",
      "\n",
      "[Model]: <search_quality_reflection>\n",
      "The search for \"thai vegetable curry without peanuts\" did not return any new relevant results beyond the Thai beef curry recipe from the previous search. While that recipe provides a good peanut-free Thai option, having a vegetarian Thai curry would give the user more variety to choose from. However, with the 3 query limit reached, I will provide my recommendation based on the results obtained.\n",
      "</search_quality_reflection>\n",
      "\n",
      "<search_quality_score>4</search_quality_score>\n",
      "\n",
      "<result>\n",
      "Here are some delicious peanut-free Thai dish recommendations for you:\n",
      "\n",
      "Thai Red Curry Beef (Crock Pot)\n",
      "Ingredients:\n",
      "- Beef steak, cut into chunks \n",
      "- Flour and salt for coating\n",
      "- Red bell pepper, sliced\n",
      "- Onion, sliced\n",
      "- Coconut milk\n",
      "- Red curry paste\n",
      "- Lime juice\n",
      "- Fish sauce\n",
      "- Soy sauce\n",
      "\n",
      "Instructions:\n",
      "1. Toss the beef chunks in a mixture of flour and salt to coat.\n",
      "2. Place the coated beef, sliced bell pepper, and sliced onion in a slow cooker sprayed with non-stick spray.\n",
      "3. In a bowl, mix together the coconut milk, red curry paste, lime juice, fish sauce, and soy sauce. \n",
      "4. Pour the coconut milk mixture over the ingredients in the slow cooker.\n",
      "5. Cook on low for 6-8 hours or on high for 3-4 hours.\n",
      "6. Serve over steamed rice.\n",
      "\n",
      "This Thai red curry beef is rich, flavorful, and easy to make in the slow cooker. The curry sauce is made with coconut milk and red curry paste, providing authentic Thai flavors without any peanuts.\n",
      "\n",
      "For a vegetarian option, you could make a Thai vegetable curry by substituting the beef with vegetables like potatoes, carrots, bell peppers, and bamboo shoots. Use the same coconut milk-based curry sauce and adjust spice levels to taste.\n",
      "\n",
      "Let me know if you need any other peanut-free Thai recipe recommendations!\n",
      "</result>\n"
     ]
    },
    {
     "data": {
      "text/plain": [
       "'\\n[Model]: <search_quality_reflection>\\nThe search for \"thai vegetable curry without peanuts\" did not return any new relevant results beyond the Thai beef curry recipe from the previous search. While that recipe provides a good peanut-free Thai option, having a vegetarian Thai curry would give the user more variety to choose from. However, with the 3 query limit reached, I will provide my recommendation based on the results obtained.\\n</search_quality_reflection>\\n\\n<search_quality_score>4</search_quality_score>\\n\\n<result>\\nHere are some delicious peanut-free Thai dish recommendations for you:\\n\\nThai Red Curry Beef (Crock Pot)\\nIngredients:\\n- Beef steak, cut into chunks \\n- Flour and salt for coating\\n- Red bell pepper, sliced\\n- Onion, sliced\\n- Coconut milk\\n- Red curry paste\\n- Lime juice\\n- Fish sauce\\n- Soy sauce\\n\\nInstructions:\\n1. Toss the beef chunks in a mixture of flour and salt to coat.\\n2. Place the coated beef, sliced bell pepper, and sliced onion in a slow cooker sprayed with non-stick spray.\\n3. In a bowl, mix together the coconut milk, red curry paste, lime juice, fish sauce, and soy sauce. \\n4. Pour the coconut milk mixture over the ingredients in the slow cooker.\\n5. Cook on low for 6-8 hours or on high for 3-4 hours.\\n6. Serve over steamed rice.\\n\\nThis Thai red curry beef is rich, flavorful, and easy to make in the slow cooker. The curry sauce is made with coconut milk and red curry paste, providing authentic Thai flavors without any peanuts.\\n\\nFor a vegetarian option, you could make a Thai vegetable curry by substituting the beef with vegetables like potatoes, carrots, bell peppers, and bamboo shoots. Use the same coconut milk-based curry sauce and adjust spice levels to taste.\\n\\nLet me know if you need any other peanut-free Thai recipe recommendations!\\n</result>'"
      ]
     },
     "execution_count": 53,
     "metadata": {},
     "output_type": "execute_result"
    }
   ],
   "execution_count": 53
  },
  {
   "metadata": {
    "ExecuteTime": {
     "end_time": "2024-07-15T08:00:29.882827Z",
     "start_time": "2024-07-15T08:00:29.880854Z"
    }
   },
   "cell_type": "code",
   "source": "",
   "id": "7ca21fc2986e895e",
   "outputs": [],
   "execution_count": 53
  }
 ],
 "metadata": {
  "kernelspec": {
   "display_name": "Python 3 (ipykernel)",
   "language": "python",
   "name": "python3"
  },
  "language_info": {
   "codemirror_mode": {
    "name": "ipython",
    "version": 3
   },
   "file_extension": ".py",
   "mimetype": "text/x-python",
   "name": "python",
   "nbconvert_exporter": "python",
   "pygments_lexer": "ipython3",
   "version": "3.10.14"
  }
 },
 "nbformat": 4,
 "nbformat_minor": 5
}
