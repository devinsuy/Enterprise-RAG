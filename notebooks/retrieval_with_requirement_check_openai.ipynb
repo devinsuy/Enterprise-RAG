{
 "cells": [
  {
   "cell_type": "markdown",
   "id": "a1ca1687-79fb-4439-8c91-7b1049c36153",
   "metadata": {},
   "source": [
    "### Install dependencies"
   ]
  },
  {
   "cell_type": "code",
   "id": "d8fbce3d-65f5-4ded-8fd4-d9f1101286a9",
   "metadata": {
    "collapsed": true,
    "jupyter": {
     "outputs_hidden": true
    },
    "scrolled": true,
    "tags": [],
    "ExecuteTime": {
     "end_time": "2024-07-15T04:35:11.773358Z",
     "start_time": "2024-07-15T04:35:04.505584Z"
    }
   },
   "source": [
    "!pip install boto3 sagemaker langchain langchain-community langchain-core faiss-cpu requests opensearch-py sentence-transformers langchain-text-splitters requests-aws4auth qdrant-client -U"
   ],
   "outputs": [
    {
     "name": "stdout",
     "output_type": "stream",
     "text": [
      "Requirement already satisfied: boto3 in /Users/robertgreer/Documents/Education/Berkeley/Classes/Datasci210_Capstone/Enterprise-RAG/venv/lib/python3.12/site-packages (1.34.144)\r\n",
      "Requirement already satisfied: sagemaker in /Users/robertgreer/Documents/Education/Berkeley/Classes/Datasci210_Capstone/Enterprise-RAG/venv/lib/python3.12/site-packages (2.226.0)\r\n",
      "Requirement already satisfied: langchain in /Users/robertgreer/Documents/Education/Berkeley/Classes/Datasci210_Capstone/Enterprise-RAG/venv/lib/python3.12/site-packages (0.2.7)\r\n",
      "Requirement already satisfied: langchain-community in /Users/robertgreer/Documents/Education/Berkeley/Classes/Datasci210_Capstone/Enterprise-RAG/venv/lib/python3.12/site-packages (0.2.7)\r\n",
      "Requirement already satisfied: langchain-core in /Users/robertgreer/Documents/Education/Berkeley/Classes/Datasci210_Capstone/Enterprise-RAG/venv/lib/python3.12/site-packages (0.2.18)\r\n",
      "Requirement already satisfied: faiss-cpu in /Users/robertgreer/Documents/Education/Berkeley/Classes/Datasci210_Capstone/Enterprise-RAG/venv/lib/python3.12/site-packages (1.8.0.post1)\r\n",
      "Requirement already satisfied: requests in /Users/robertgreer/Documents/Education/Berkeley/Classes/Datasci210_Capstone/Enterprise-RAG/venv/lib/python3.12/site-packages (2.32.3)\r\n",
      "Requirement already satisfied: opensearch-py in /Users/robertgreer/Documents/Education/Berkeley/Classes/Datasci210_Capstone/Enterprise-RAG/venv/lib/python3.12/site-packages (2.6.0)\r\n",
      "Requirement already satisfied: sentence-transformers in /Users/robertgreer/Documents/Education/Berkeley/Classes/Datasci210_Capstone/Enterprise-RAG/venv/lib/python3.12/site-packages (3.0.1)\r\n",
      "Requirement already satisfied: langchain-text-splitters in /Users/robertgreer/Documents/Education/Berkeley/Classes/Datasci210_Capstone/Enterprise-RAG/venv/lib/python3.12/site-packages (0.2.2)\r\n",
      "Requirement already satisfied: requests-aws4auth in /Users/robertgreer/Documents/Education/Berkeley/Classes/Datasci210_Capstone/Enterprise-RAG/venv/lib/python3.12/site-packages (1.2.3)\r\n",
      "Requirement already satisfied: qdrant-client in /Users/robertgreer/Documents/Education/Berkeley/Classes/Datasci210_Capstone/Enterprise-RAG/venv/lib/python3.12/site-packages (1.10.1)\r\n",
      "Requirement already satisfied: botocore<1.35.0,>=1.34.144 in /Users/robertgreer/Documents/Education/Berkeley/Classes/Datasci210_Capstone/Enterprise-RAG/venv/lib/python3.12/site-packages (from boto3) (1.34.144)\r\n",
      "Requirement already satisfied: jmespath<2.0.0,>=0.7.1 in /Users/robertgreer/Documents/Education/Berkeley/Classes/Datasci210_Capstone/Enterprise-RAG/venv/lib/python3.12/site-packages (from boto3) (1.0.1)\r\n",
      "Requirement already satisfied: s3transfer<0.11.0,>=0.10.0 in /Users/robertgreer/Documents/Education/Berkeley/Classes/Datasci210_Capstone/Enterprise-RAG/venv/lib/python3.12/site-packages (from boto3) (0.10.2)\r\n",
      "Requirement already satisfied: attrs<24,>=23.1.0 in /Users/robertgreer/Documents/Education/Berkeley/Classes/Datasci210_Capstone/Enterprise-RAG/venv/lib/python3.12/site-packages (from sagemaker) (23.2.0)\r\n",
      "Requirement already satisfied: cloudpickle==2.2.1 in /Users/robertgreer/Documents/Education/Berkeley/Classes/Datasci210_Capstone/Enterprise-RAG/venv/lib/python3.12/site-packages (from sagemaker) (2.2.1)\r\n",
      "Requirement already satisfied: google-pasta in /Users/robertgreer/Documents/Education/Berkeley/Classes/Datasci210_Capstone/Enterprise-RAG/venv/lib/python3.12/site-packages (from sagemaker) (0.2.0)\r\n",
      "Requirement already satisfied: numpy<2.0,>=1.9.0 in /Users/robertgreer/Documents/Education/Berkeley/Classes/Datasci210_Capstone/Enterprise-RAG/venv/lib/python3.12/site-packages (from sagemaker) (1.26.4)\r\n",
      "Requirement already satisfied: protobuf<5.0,>=3.12 in /Users/robertgreer/Documents/Education/Berkeley/Classes/Datasci210_Capstone/Enterprise-RAG/venv/lib/python3.12/site-packages (from sagemaker) (4.25.3)\r\n",
      "Requirement already satisfied: smdebug-rulesconfig==1.0.1 in /Users/robertgreer/Documents/Education/Berkeley/Classes/Datasci210_Capstone/Enterprise-RAG/venv/lib/python3.12/site-packages (from sagemaker) (1.0.1)\r\n",
      "Requirement already satisfied: importlib-metadata<7.0,>=1.4.0 in /Users/robertgreer/Documents/Education/Berkeley/Classes/Datasci210_Capstone/Enterprise-RAG/venv/lib/python3.12/site-packages (from sagemaker) (6.11.0)\r\n",
      "Requirement already satisfied: packaging>=20.0 in /Users/robertgreer/Documents/Education/Berkeley/Classes/Datasci210_Capstone/Enterprise-RAG/venv/lib/python3.12/site-packages (from sagemaker) (23.2)\r\n",
      "Requirement already satisfied: pandas in /Users/robertgreer/Documents/Education/Berkeley/Classes/Datasci210_Capstone/Enterprise-RAG/venv/lib/python3.12/site-packages (from sagemaker) (2.2.2)\r\n",
      "Requirement already satisfied: pathos in /Users/robertgreer/Documents/Education/Berkeley/Classes/Datasci210_Capstone/Enterprise-RAG/venv/lib/python3.12/site-packages (from sagemaker) (0.3.2)\r\n",
      "Requirement already satisfied: schema in /Users/robertgreer/Documents/Education/Berkeley/Classes/Datasci210_Capstone/Enterprise-RAG/venv/lib/python3.12/site-packages (from sagemaker) (0.7.7)\r\n",
      "Requirement already satisfied: PyYAML~=6.0 in /Users/robertgreer/Documents/Education/Berkeley/Classes/Datasci210_Capstone/Enterprise-RAG/venv/lib/python3.12/site-packages (from sagemaker) (6.0.1)\r\n",
      "Requirement already satisfied: jsonschema in /Users/robertgreer/Documents/Education/Berkeley/Classes/Datasci210_Capstone/Enterprise-RAG/venv/lib/python3.12/site-packages (from sagemaker) (4.22.0)\r\n",
      "Requirement already satisfied: platformdirs in /Users/robertgreer/Documents/Education/Berkeley/Classes/Datasci210_Capstone/Enterprise-RAG/venv/lib/python3.12/site-packages (from sagemaker) (4.2.2)\r\n",
      "Requirement already satisfied: tblib<4,>=1.7.0 in /Users/robertgreer/Documents/Education/Berkeley/Classes/Datasci210_Capstone/Enterprise-RAG/venv/lib/python3.12/site-packages (from sagemaker) (3.0.0)\r\n",
      "Requirement already satisfied: urllib3<3.0.0,>=1.26.8 in /Users/robertgreer/Documents/Education/Berkeley/Classes/Datasci210_Capstone/Enterprise-RAG/venv/lib/python3.12/site-packages (from sagemaker) (2.2.1)\r\n",
      "Requirement already satisfied: docker in /Users/robertgreer/Documents/Education/Berkeley/Classes/Datasci210_Capstone/Enterprise-RAG/venv/lib/python3.12/site-packages (from sagemaker) (7.1.0)\r\n",
      "Requirement already satisfied: tqdm in /Users/robertgreer/Documents/Education/Berkeley/Classes/Datasci210_Capstone/Enterprise-RAG/venv/lib/python3.12/site-packages (from sagemaker) (4.66.4)\r\n",
      "Requirement already satisfied: psutil in /Users/robertgreer/Documents/Education/Berkeley/Classes/Datasci210_Capstone/Enterprise-RAG/venv/lib/python3.12/site-packages (from sagemaker) (5.9.8)\r\n",
      "Requirement already satisfied: SQLAlchemy<3,>=1.4 in /Users/robertgreer/Documents/Education/Berkeley/Classes/Datasci210_Capstone/Enterprise-RAG/venv/lib/python3.12/site-packages (from langchain) (2.0.30)\r\n",
      "Requirement already satisfied: aiohttp<4.0.0,>=3.8.3 in /Users/robertgreer/Documents/Education/Berkeley/Classes/Datasci210_Capstone/Enterprise-RAG/venv/lib/python3.12/site-packages (from langchain) (3.9.5)\r\n",
      "Requirement already satisfied: langsmith<0.2.0,>=0.1.17 in /Users/robertgreer/Documents/Education/Berkeley/Classes/Datasci210_Capstone/Enterprise-RAG/venv/lib/python3.12/site-packages (from langchain) (0.1.77)\r\n",
      "Requirement already satisfied: pydantic<3,>=1 in /Users/robertgreer/Documents/Education/Berkeley/Classes/Datasci210_Capstone/Enterprise-RAG/venv/lib/python3.12/site-packages (from langchain) (2.7.3)\r\n",
      "Requirement already satisfied: tenacity!=8.4.0,<9.0.0,>=8.1.0 in /Users/robertgreer/Documents/Education/Berkeley/Classes/Datasci210_Capstone/Enterprise-RAG/venv/lib/python3.12/site-packages (from langchain) (8.3.0)\r\n",
      "Requirement already satisfied: dataclasses-json<0.7,>=0.5.7 in /Users/robertgreer/Documents/Education/Berkeley/Classes/Datasci210_Capstone/Enterprise-RAG/venv/lib/python3.12/site-packages (from langchain-community) (0.6.7)\r\n",
      "Requirement already satisfied: jsonpatch<2.0,>=1.33 in /Users/robertgreer/Documents/Education/Berkeley/Classes/Datasci210_Capstone/Enterprise-RAG/venv/lib/python3.12/site-packages (from langchain-core) (1.33)\r\n",
      "Requirement already satisfied: charset-normalizer<4,>=2 in /Users/robertgreer/Documents/Education/Berkeley/Classes/Datasci210_Capstone/Enterprise-RAG/venv/lib/python3.12/site-packages (from requests) (3.3.2)\r\n",
      "Requirement already satisfied: idna<4,>=2.5 in /Users/robertgreer/Documents/Education/Berkeley/Classes/Datasci210_Capstone/Enterprise-RAG/venv/lib/python3.12/site-packages (from requests) (3.7)\r\n",
      "Requirement already satisfied: certifi>=2017.4.17 in /Users/robertgreer/Documents/Education/Berkeley/Classes/Datasci210_Capstone/Enterprise-RAG/venv/lib/python3.12/site-packages (from requests) (2024.6.2)\r\n",
      "Requirement already satisfied: six in /Users/robertgreer/Documents/Education/Berkeley/Classes/Datasci210_Capstone/Enterprise-RAG/venv/lib/python3.12/site-packages (from opensearch-py) (1.16.0)\r\n",
      "Requirement already satisfied: python-dateutil in /Users/robertgreer/Documents/Education/Berkeley/Classes/Datasci210_Capstone/Enterprise-RAG/venv/lib/python3.12/site-packages (from opensearch-py) (2.9.0.post0)\r\n",
      "Requirement already satisfied: Events in /Users/robertgreer/Documents/Education/Berkeley/Classes/Datasci210_Capstone/Enterprise-RAG/venv/lib/python3.12/site-packages (from opensearch-py) (0.5)\r\n",
      "Requirement already satisfied: transformers<5.0.0,>=4.34.0 in /Users/robertgreer/Documents/Education/Berkeley/Classes/Datasci210_Capstone/Enterprise-RAG/venv/lib/python3.12/site-packages (from sentence-transformers) (4.42.3)\r\n",
      "Requirement already satisfied: torch>=1.11.0 in /Users/robertgreer/Documents/Education/Berkeley/Classes/Datasci210_Capstone/Enterprise-RAG/venv/lib/python3.12/site-packages (from sentence-transformers) (2.3.1)\r\n",
      "Requirement already satisfied: scikit-learn in /Users/robertgreer/Documents/Education/Berkeley/Classes/Datasci210_Capstone/Enterprise-RAG/venv/lib/python3.12/site-packages (from sentence-transformers) (1.5.0)\r\n",
      "Requirement already satisfied: scipy in /Users/robertgreer/Documents/Education/Berkeley/Classes/Datasci210_Capstone/Enterprise-RAG/venv/lib/python3.12/site-packages (from sentence-transformers) (1.12.0)\r\n",
      "Requirement already satisfied: huggingface-hub>=0.15.1 in /Users/robertgreer/Documents/Education/Berkeley/Classes/Datasci210_Capstone/Enterprise-RAG/venv/lib/python3.12/site-packages (from sentence-transformers) (0.23.4)\r\n",
      "Requirement already satisfied: Pillow in /Users/robertgreer/Documents/Education/Berkeley/Classes/Datasci210_Capstone/Enterprise-RAG/venv/lib/python3.12/site-packages (from sentence-transformers) (10.3.0)\r\n",
      "Requirement already satisfied: grpcio>=1.41.0 in /Users/robertgreer/Documents/Education/Berkeley/Classes/Datasci210_Capstone/Enterprise-RAG/venv/lib/python3.12/site-packages (from qdrant-client) (1.64.1)\r\n",
      "Requirement already satisfied: grpcio-tools>=1.41.0 in /Users/robertgreer/Documents/Education/Berkeley/Classes/Datasci210_Capstone/Enterprise-RAG/venv/lib/python3.12/site-packages (from qdrant-client) (1.62.2)\r\n",
      "Requirement already satisfied: httpx>=0.20.0 in /Users/robertgreer/Documents/Education/Berkeley/Classes/Datasci210_Capstone/Enterprise-RAG/venv/lib/python3.12/site-packages (from httpx[http2]>=0.20.0->qdrant-client) (0.27.0)\r\n",
      "Requirement already satisfied: portalocker<3.0.0,>=2.7.0 in /Users/robertgreer/Documents/Education/Berkeley/Classes/Datasci210_Capstone/Enterprise-RAG/venv/lib/python3.12/site-packages (from qdrant-client) (2.10.0)\r\n",
      "Requirement already satisfied: aiosignal>=1.1.2 in /Users/robertgreer/Documents/Education/Berkeley/Classes/Datasci210_Capstone/Enterprise-RAG/venv/lib/python3.12/site-packages (from aiohttp<4.0.0,>=3.8.3->langchain) (1.3.1)\r\n",
      "Requirement already satisfied: frozenlist>=1.1.1 in /Users/robertgreer/Documents/Education/Berkeley/Classes/Datasci210_Capstone/Enterprise-RAG/venv/lib/python3.12/site-packages (from aiohttp<4.0.0,>=3.8.3->langchain) (1.4.1)\r\n",
      "Requirement already satisfied: multidict<7.0,>=4.5 in /Users/robertgreer/Documents/Education/Berkeley/Classes/Datasci210_Capstone/Enterprise-RAG/venv/lib/python3.12/site-packages (from aiohttp<4.0.0,>=3.8.3->langchain) (6.0.5)\r\n",
      "Requirement already satisfied: yarl<2.0,>=1.0 in /Users/robertgreer/Documents/Education/Berkeley/Classes/Datasci210_Capstone/Enterprise-RAG/venv/lib/python3.12/site-packages (from aiohttp<4.0.0,>=3.8.3->langchain) (1.9.4)\r\n",
      "Requirement already satisfied: marshmallow<4.0.0,>=3.18.0 in /Users/robertgreer/Documents/Education/Berkeley/Classes/Datasci210_Capstone/Enterprise-RAG/venv/lib/python3.12/site-packages (from dataclasses-json<0.7,>=0.5.7->langchain-community) (3.21.3)\r\n",
      "Requirement already satisfied: typing-inspect<1,>=0.4.0 in /Users/robertgreer/Documents/Education/Berkeley/Classes/Datasci210_Capstone/Enterprise-RAG/venv/lib/python3.12/site-packages (from dataclasses-json<0.7,>=0.5.7->langchain-community) (0.9.0)\r\n",
      "Requirement already satisfied: setuptools in /Users/robertgreer/Documents/Education/Berkeley/Classes/Datasci210_Capstone/Enterprise-RAG/venv/lib/python3.12/site-packages (from grpcio-tools>=1.41.0->qdrant-client) (70.0.0)\r\n",
      "Requirement already satisfied: anyio in /Users/robertgreer/Documents/Education/Berkeley/Classes/Datasci210_Capstone/Enterprise-RAG/venv/lib/python3.12/site-packages (from httpx>=0.20.0->httpx[http2]>=0.20.0->qdrant-client) (4.4.0)\r\n",
      "Requirement already satisfied: httpcore==1.* in /Users/robertgreer/Documents/Education/Berkeley/Classes/Datasci210_Capstone/Enterprise-RAG/venv/lib/python3.12/site-packages (from httpx>=0.20.0->httpx[http2]>=0.20.0->qdrant-client) (1.0.5)\r\n",
      "Requirement already satisfied: sniffio in /Users/robertgreer/Documents/Education/Berkeley/Classes/Datasci210_Capstone/Enterprise-RAG/venv/lib/python3.12/site-packages (from httpx>=0.20.0->httpx[http2]>=0.20.0->qdrant-client) (1.3.1)\r\n",
      "Requirement already satisfied: h11<0.15,>=0.13 in /Users/robertgreer/Documents/Education/Berkeley/Classes/Datasci210_Capstone/Enterprise-RAG/venv/lib/python3.12/site-packages (from httpcore==1.*->httpx>=0.20.0->httpx[http2]>=0.20.0->qdrant-client) (0.14.0)\r\n",
      "Requirement already satisfied: h2<5,>=3 in /Users/robertgreer/Documents/Education/Berkeley/Classes/Datasci210_Capstone/Enterprise-RAG/venv/lib/python3.12/site-packages (from httpx[http2]>=0.20.0->qdrant-client) (4.1.0)\r\n",
      "Requirement already satisfied: filelock in /Users/robertgreer/Documents/Education/Berkeley/Classes/Datasci210_Capstone/Enterprise-RAG/venv/lib/python3.12/site-packages (from huggingface-hub>=0.15.1->sentence-transformers) (3.14.0)\r\n",
      "Requirement already satisfied: fsspec>=2023.5.0 in /Users/robertgreer/Documents/Education/Berkeley/Classes/Datasci210_Capstone/Enterprise-RAG/venv/lib/python3.12/site-packages (from huggingface-hub>=0.15.1->sentence-transformers) (2024.5.0)\r\n",
      "Requirement already satisfied: typing-extensions>=3.7.4.3 in /Users/robertgreer/Documents/Education/Berkeley/Classes/Datasci210_Capstone/Enterprise-RAG/venv/lib/python3.12/site-packages (from huggingface-hub>=0.15.1->sentence-transformers) (4.12.2)\r\n",
      "Requirement already satisfied: zipp>=0.5 in /Users/robertgreer/Documents/Education/Berkeley/Classes/Datasci210_Capstone/Enterprise-RAG/venv/lib/python3.12/site-packages (from importlib-metadata<7.0,>=1.4.0->sagemaker) (3.19.2)\r\n",
      "Requirement already satisfied: jsonpointer>=1.9 in /Users/robertgreer/Documents/Education/Berkeley/Classes/Datasci210_Capstone/Enterprise-RAG/venv/lib/python3.12/site-packages (from jsonpatch<2.0,>=1.33->langchain-core) (3.0.0)\r\n",
      "Requirement already satisfied: orjson<4.0.0,>=3.9.14 in /Users/robertgreer/Documents/Education/Berkeley/Classes/Datasci210_Capstone/Enterprise-RAG/venv/lib/python3.12/site-packages (from langsmith<0.2.0,>=0.1.17->langchain) (3.10.4)\r\n",
      "Requirement already satisfied: annotated-types>=0.4.0 in /Users/robertgreer/Documents/Education/Berkeley/Classes/Datasci210_Capstone/Enterprise-RAG/venv/lib/python3.12/site-packages (from pydantic<3,>=1->langchain) (0.7.0)\r\n",
      "Requirement already satisfied: pydantic-core==2.18.4 in /Users/robertgreer/Documents/Education/Berkeley/Classes/Datasci210_Capstone/Enterprise-RAG/venv/lib/python3.12/site-packages (from pydantic<3,>=1->langchain) (2.18.4)\r\n",
      "Requirement already satisfied: sympy in /Users/robertgreer/Documents/Education/Berkeley/Classes/Datasci210_Capstone/Enterprise-RAG/venv/lib/python3.12/site-packages (from torch>=1.11.0->sentence-transformers) (1.12.1)\r\n",
      "Requirement already satisfied: networkx in /Users/robertgreer/Documents/Education/Berkeley/Classes/Datasci210_Capstone/Enterprise-RAG/venv/lib/python3.12/site-packages (from torch>=1.11.0->sentence-transformers) (3.3)\r\n",
      "Requirement already satisfied: jinja2 in /Users/robertgreer/Documents/Education/Berkeley/Classes/Datasci210_Capstone/Enterprise-RAG/venv/lib/python3.12/site-packages (from torch>=1.11.0->sentence-transformers) (3.1.4)\r\n",
      "Requirement already satisfied: regex!=2019.12.17 in /Users/robertgreer/Documents/Education/Berkeley/Classes/Datasci210_Capstone/Enterprise-RAG/venv/lib/python3.12/site-packages (from transformers<5.0.0,>=4.34.0->sentence-transformers) (2024.5.15)\r\n",
      "Requirement already satisfied: safetensors>=0.4.1 in /Users/robertgreer/Documents/Education/Berkeley/Classes/Datasci210_Capstone/Enterprise-RAG/venv/lib/python3.12/site-packages (from transformers<5.0.0,>=4.34.0->sentence-transformers) (0.4.3)\r\n",
      "Requirement already satisfied: tokenizers<0.20,>=0.19 in /Users/robertgreer/Documents/Education/Berkeley/Classes/Datasci210_Capstone/Enterprise-RAG/venv/lib/python3.12/site-packages (from transformers<5.0.0,>=4.34.0->sentence-transformers) (0.19.1)\r\n",
      "Requirement already satisfied: jsonschema-specifications>=2023.03.6 in /Users/robertgreer/Documents/Education/Berkeley/Classes/Datasci210_Capstone/Enterprise-RAG/venv/lib/python3.12/site-packages (from jsonschema->sagemaker) (2023.12.1)\r\n",
      "Requirement already satisfied: referencing>=0.28.4 in /Users/robertgreer/Documents/Education/Berkeley/Classes/Datasci210_Capstone/Enterprise-RAG/venv/lib/python3.12/site-packages (from jsonschema->sagemaker) (0.35.1)\r\n",
      "Requirement already satisfied: rpds-py>=0.7.1 in /Users/robertgreer/Documents/Education/Berkeley/Classes/Datasci210_Capstone/Enterprise-RAG/venv/lib/python3.12/site-packages (from jsonschema->sagemaker) (0.18.1)\r\n",
      "Requirement already satisfied: pytz>=2020.1 in /Users/robertgreer/Documents/Education/Berkeley/Classes/Datasci210_Capstone/Enterprise-RAG/venv/lib/python3.12/site-packages (from pandas->sagemaker) (2024.1)\r\n",
      "Requirement already satisfied: tzdata>=2022.7 in /Users/robertgreer/Documents/Education/Berkeley/Classes/Datasci210_Capstone/Enterprise-RAG/venv/lib/python3.12/site-packages (from pandas->sagemaker) (2024.1)\r\n",
      "Requirement already satisfied: ppft>=1.7.6.8 in /Users/robertgreer/Documents/Education/Berkeley/Classes/Datasci210_Capstone/Enterprise-RAG/venv/lib/python3.12/site-packages (from pathos->sagemaker) (1.7.6.8)\r\n",
      "Requirement already satisfied: dill>=0.3.8 in /Users/robertgreer/Documents/Education/Berkeley/Classes/Datasci210_Capstone/Enterprise-RAG/venv/lib/python3.12/site-packages (from pathos->sagemaker) (0.3.8)\r\n",
      "Requirement already satisfied: pox>=0.3.4 in /Users/robertgreer/Documents/Education/Berkeley/Classes/Datasci210_Capstone/Enterprise-RAG/venv/lib/python3.12/site-packages (from pathos->sagemaker) (0.3.4)\r\n",
      "Requirement already satisfied: multiprocess>=0.70.16 in /Users/robertgreer/Documents/Education/Berkeley/Classes/Datasci210_Capstone/Enterprise-RAG/venv/lib/python3.12/site-packages (from pathos->sagemaker) (0.70.16)\r\n",
      "Requirement already satisfied: joblib>=1.2.0 in /Users/robertgreer/Documents/Education/Berkeley/Classes/Datasci210_Capstone/Enterprise-RAG/venv/lib/python3.12/site-packages (from scikit-learn->sentence-transformers) (1.4.2)\r\n",
      "Requirement already satisfied: threadpoolctl>=3.1.0 in /Users/robertgreer/Documents/Education/Berkeley/Classes/Datasci210_Capstone/Enterprise-RAG/venv/lib/python3.12/site-packages (from scikit-learn->sentence-transformers) (3.5.0)\r\n",
      "Requirement already satisfied: hyperframe<7,>=6.0 in /Users/robertgreer/Documents/Education/Berkeley/Classes/Datasci210_Capstone/Enterprise-RAG/venv/lib/python3.12/site-packages (from h2<5,>=3->httpx[http2]>=0.20.0->qdrant-client) (6.0.1)\r\n",
      "Requirement already satisfied: hpack<5,>=4.0 in /Users/robertgreer/Documents/Education/Berkeley/Classes/Datasci210_Capstone/Enterprise-RAG/venv/lib/python3.12/site-packages (from h2<5,>=3->httpx[http2]>=0.20.0->qdrant-client) (4.0.0)\r\n",
      "Requirement already satisfied: mypy-extensions>=0.3.0 in /Users/robertgreer/Documents/Education/Berkeley/Classes/Datasci210_Capstone/Enterprise-RAG/venv/lib/python3.12/site-packages (from typing-inspect<1,>=0.4.0->dataclasses-json<0.7,>=0.5.7->langchain-community) (1.0.0)\r\n",
      "Requirement already satisfied: MarkupSafe>=2.0 in /Users/robertgreer/Documents/Education/Berkeley/Classes/Datasci210_Capstone/Enterprise-RAG/venv/lib/python3.12/site-packages (from jinja2->torch>=1.11.0->sentence-transformers) (2.1.5)\r\n",
      "Requirement already satisfied: mpmath<1.4.0,>=1.1.0 in /Users/robertgreer/Documents/Education/Berkeley/Classes/Datasci210_Capstone/Enterprise-RAG/venv/lib/python3.12/site-packages (from sympy->torch>=1.11.0->sentence-transformers) (1.3.0)\r\n",
      "\r\n",
      "\u001B[1m[\u001B[0m\u001B[34;49mnotice\u001B[0m\u001B[1;39;49m]\u001B[0m\u001B[39;49m A new release of pip is available: \u001B[0m\u001B[31;49m24.0\u001B[0m\u001B[39;49m -> \u001B[0m\u001B[32;49m24.1.2\u001B[0m\r\n",
      "\u001B[1m[\u001B[0m\u001B[34;49mnotice\u001B[0m\u001B[1;39;49m]\u001B[0m\u001B[39;49m To update, run: \u001B[0m\u001B[32;49mpip install --upgrade pip\u001B[0m\r\n"
     ]
    }
   ],
   "execution_count": 1
  },
  {
   "cell_type": "code",
   "id": "c0c80d87-45c2-42c3-9825-21bc53ce33b9",
   "metadata": {
    "tags": [],
    "ExecuteTime": {
     "end_time": "2024-07-15T04:35:14.445856Z",
     "start_time": "2024-07-15T04:35:11.774591Z"
    }
   },
   "source": [
    "!pip install --upgrade --quiet  lark qdrant-client"
   ],
   "outputs": [
    {
     "name": "stdout",
     "output_type": "stream",
     "text": [
      "\r\n",
      "\u001B[1m[\u001B[0m\u001B[34;49mnotice\u001B[0m\u001B[1;39;49m]\u001B[0m\u001B[39;49m A new release of pip is available: \u001B[0m\u001B[31;49m24.0\u001B[0m\u001B[39;49m -> \u001B[0m\u001B[32;49m24.1.2\u001B[0m\r\n",
      "\u001B[1m[\u001B[0m\u001B[34;49mnotice\u001B[0m\u001B[1;39;49m]\u001B[0m\u001B[39;49m To update, run: \u001B[0m\u001B[32;49mpip install --upgrade pip\u001B[0m\r\n"
     ]
    }
   ],
   "execution_count": 2
  },
  {
   "cell_type": "markdown",
   "id": "8c60fd86-2fdd-4921-b769-45a6d6ae1411",
   "metadata": {},
   "source": [
    "### Load CSV data from S3"
   ]
  },
  {
   "cell_type": "code",
   "id": "b02d5178-7946-4ff5-bfdf-d8c784afd6cd",
   "metadata": {
    "tags": [],
    "ExecuteTime": {
     "end_time": "2024-07-15T04:35:14.568470Z",
     "start_time": "2024-07-15T04:35:14.447092Z"
    }
   },
   "source": [
    "!pwd"
   ],
   "outputs": [
    {
     "name": "stdout",
     "output_type": "stream",
     "text": [
      "/Users/robertgreer/Documents/Education/Berkeley/Classes/Datasci210_Capstone/Enterprise-RAG/notebooks\r\n"
     ]
    }
   ],
   "execution_count": 3
  },
  {
   "cell_type": "code",
   "id": "e42652b8-0122-4f47-b069-a398ae118afc",
   "metadata": {
    "tags": [],
    "ExecuteTime": {
     "end_time": "2024-07-15T04:35:15.429882Z",
     "start_time": "2024-07-15T04:35:14.569722Z"
    }
   },
   "source": [
    "import boto3\n",
    "import pandas as pd\n",
    "\n",
    "s3 = boto3.client('s3')\n",
    "bucket_name = 'recipes-rag'"
   ],
   "outputs": [],
   "execution_count": 4
  },
  {
   "cell_type": "code",
   "id": "e0176b52-e799-4947-9264-c6c51897c4b7",
   "metadata": {
    "tags": [],
    "ExecuteTime": {
     "end_time": "2024-07-15T04:35:54.293393Z",
     "start_time": "2024-07-15T04:35:15.431316Z"
    }
   },
   "source": [
    "file_key = 'recipes_w_cleaning_time_combined_features.parquet'\n",
    "s3.download_file(bucket_name, file_key, f'../data/{file_key}')\n",
    "df = pd.read_parquet(f'../data/{file_key}')\n",
    "\n",
    "df.head()"
   ],
   "outputs": [
    {
     "data": {
      "text/plain": [
       "                                Name   RecipeCategory  \\\n",
       "0  Low-Fat Berry Blue Frozen Dessert  Frozen Desserts   \n",
       "1                            Biryani   Chicken Breast   \n",
       "2                      Best Lemonade        Beverages   \n",
       "3     Carina's Tofu-Vegetable Kebabs         Soy/Tofu   \n",
       "4                       Cabbage Soup        Vegetable   \n",
       "\n",
       "                                         Description  \\\n",
       "0  Make and share this Low-Fat Berry Blue Frozen ...   \n",
       "1  Make and share this Biryani recipe from Food.com.   \n",
       "2  This is from one of my  first Good House Keepi...   \n",
       "3  This dish is best prepared a day in advance to...   \n",
       "4  Make and share this Cabbage Soup recipe from F...   \n",
       "\n",
       "                                     Keywords_string  \\\n",
       "0  Dessert Low Protein Low Cholesterol Healthy Fr...   \n",
       "1  Chicken Thigh & Leg Chicken Poultry Meat Asian...   \n",
       "2  Low Protein Low Cholesterol Healthy Summer < 6...   \n",
       "3  Beans Vegetable Low Cholesterol Weeknight Broi...   \n",
       "4  Low Protein Vegan Low Cholesterol Healthy Wint...   \n",
       "\n",
       "                          RecipeIngredientQuantities  \\\n",
       "0                                     [4, 1⁄4, 1, 1]   \n",
       "1  [1, 4, 2, 2, 8, 1⁄4, 8, 1⁄2, 1, 1, 1⁄4, 1⁄4, 1...   \n",
       "2                 [1 1⁄2, 1, None, 1 1⁄2, None, 3⁄4]   \n",
       "3  [12, 1, 2, 1, 10, 1, 3, 2, 2, 2, 1, 2, 1⁄2, 1⁄...   \n",
       "4                                   [46, 4, 1, 2, 1]   \n",
       "\n",
       "                               RecipeIngredientParts  \\\n",
       "0  [blueberries, granulated sugar, vanilla yogurt...   \n",
       "1  [saffron, milk, hot green chili peppers, onion...   \n",
       "2  [sugar, lemons, rind of, lemon, zest of, fresh...   \n",
       "3  [extra firm tofu, eggplant, zucchini, mushroom...   \n",
       "4  [plain tomato juice, cabbage, onion, carrots, ...   \n",
       "\n",
       "                                  RecipeInstructions  AggregatedRating  \\\n",
       "0  Toss 2 cups berries with sugar. Let stand for ...               4.5   \n",
       "1  Soak saffron in warm milk for 5 minutes and pu...               3.0   \n",
       "2  Into a 1 quart Jar with tight fitting lid, put...               4.5   \n",
       "3  Drain the tofu, carefully squeezing out excess...               4.5   \n",
       "4  Mix everything together and bring to a boil. R...               4.5   \n",
       "\n",
       "   ReviewCount  CookTime_Minutes  PrepTime_Minutes  TotalTime_Minutes  \\\n",
       "0          4.0              1440                45               1485   \n",
       "1          1.0                25               240                265   \n",
       "2         10.0                 5                30                 35   \n",
       "3          2.0                20              1440               1460   \n",
       "4         11.0                30                20                 50   \n",
       "\n",
       "                                   Combined_Features  \\\n",
       "0  Low-Fat Berry Blue Frozen Dessert Frozen Desse...   \n",
       "1  Biryani Chicken Breast Make and share this Bir...   \n",
       "2  Best Lemonade Beverages This is from one of my...   \n",
       "3  Carina's Tofu-Vegetable Kebabs Soy/Tofu This d...   \n",
       "4  Cabbage Soup Vegetable Make and share this Cab...   \n",
       "\n",
       "                             Combined_Features_Clean  \n",
       "0  Low-Fat Berry Blue Frozen Dessert Frozen Desse...  \n",
       "1  Biryani Chicken Breast Make share Biryani reci...  \n",
       "2  Best Lemonade Beverages one first Good House K...  \n",
       "3  Carina's Tofu-Vegetable Kebabs Soy/Tofu dish b...  \n",
       "4  Cabbage Soup Vegetable Make share Cabbage Soup...  "
      ],
      "text/html": [
       "<div>\n",
       "<style scoped>\n",
       "    .dataframe tbody tr th:only-of-type {\n",
       "        vertical-align: middle;\n",
       "    }\n",
       "\n",
       "    .dataframe tbody tr th {\n",
       "        vertical-align: top;\n",
       "    }\n",
       "\n",
       "    .dataframe thead th {\n",
       "        text-align: right;\n",
       "    }\n",
       "</style>\n",
       "<table border=\"1\" class=\"dataframe\">\n",
       "  <thead>\n",
       "    <tr style=\"text-align: right;\">\n",
       "      <th></th>\n",
       "      <th>Name</th>\n",
       "      <th>RecipeCategory</th>\n",
       "      <th>Description</th>\n",
       "      <th>Keywords_string</th>\n",
       "      <th>RecipeIngredientQuantities</th>\n",
       "      <th>RecipeIngredientParts</th>\n",
       "      <th>RecipeInstructions</th>\n",
       "      <th>AggregatedRating</th>\n",
       "      <th>ReviewCount</th>\n",
       "      <th>CookTime_Minutes</th>\n",
       "      <th>PrepTime_Minutes</th>\n",
       "      <th>TotalTime_Minutes</th>\n",
       "      <th>Combined_Features</th>\n",
       "      <th>Combined_Features_Clean</th>\n",
       "    </tr>\n",
       "  </thead>\n",
       "  <tbody>\n",
       "    <tr>\n",
       "      <th>0</th>\n",
       "      <td>Low-Fat Berry Blue Frozen Dessert</td>\n",
       "      <td>Frozen Desserts</td>\n",
       "      <td>Make and share this Low-Fat Berry Blue Frozen ...</td>\n",
       "      <td>Dessert Low Protein Low Cholesterol Healthy Fr...</td>\n",
       "      <td>[4, 1⁄4, 1, 1]</td>\n",
       "      <td>[blueberries, granulated sugar, vanilla yogurt...</td>\n",
       "      <td>Toss 2 cups berries with sugar. Let stand for ...</td>\n",
       "      <td>4.5</td>\n",
       "      <td>4.0</td>\n",
       "      <td>1440</td>\n",
       "      <td>45</td>\n",
       "      <td>1485</td>\n",
       "      <td>Low-Fat Berry Blue Frozen Dessert Frozen Desse...</td>\n",
       "      <td>Low-Fat Berry Blue Frozen Dessert Frozen Desse...</td>\n",
       "    </tr>\n",
       "    <tr>\n",
       "      <th>1</th>\n",
       "      <td>Biryani</td>\n",
       "      <td>Chicken Breast</td>\n",
       "      <td>Make and share this Biryani recipe from Food.com.</td>\n",
       "      <td>Chicken Thigh &amp; Leg Chicken Poultry Meat Asian...</td>\n",
       "      <td>[1, 4, 2, 2, 8, 1⁄4, 8, 1⁄2, 1, 1, 1⁄4, 1⁄4, 1...</td>\n",
       "      <td>[saffron, milk, hot green chili peppers, onion...</td>\n",
       "      <td>Soak saffron in warm milk for 5 minutes and pu...</td>\n",
       "      <td>3.0</td>\n",
       "      <td>1.0</td>\n",
       "      <td>25</td>\n",
       "      <td>240</td>\n",
       "      <td>265</td>\n",
       "      <td>Biryani Chicken Breast Make and share this Bir...</td>\n",
       "      <td>Biryani Chicken Breast Make share Biryani reci...</td>\n",
       "    </tr>\n",
       "    <tr>\n",
       "      <th>2</th>\n",
       "      <td>Best Lemonade</td>\n",
       "      <td>Beverages</td>\n",
       "      <td>This is from one of my  first Good House Keepi...</td>\n",
       "      <td>Low Protein Low Cholesterol Healthy Summer &lt; 6...</td>\n",
       "      <td>[1 1⁄2, 1, None, 1 1⁄2, None, 3⁄4]</td>\n",
       "      <td>[sugar, lemons, rind of, lemon, zest of, fresh...</td>\n",
       "      <td>Into a 1 quart Jar with tight fitting lid, put...</td>\n",
       "      <td>4.5</td>\n",
       "      <td>10.0</td>\n",
       "      <td>5</td>\n",
       "      <td>30</td>\n",
       "      <td>35</td>\n",
       "      <td>Best Lemonade Beverages This is from one of my...</td>\n",
       "      <td>Best Lemonade Beverages one first Good House K...</td>\n",
       "    </tr>\n",
       "    <tr>\n",
       "      <th>3</th>\n",
       "      <td>Carina's Tofu-Vegetable Kebabs</td>\n",
       "      <td>Soy/Tofu</td>\n",
       "      <td>This dish is best prepared a day in advance to...</td>\n",
       "      <td>Beans Vegetable Low Cholesterol Weeknight Broi...</td>\n",
       "      <td>[12, 1, 2, 1, 10, 1, 3, 2, 2, 2, 1, 2, 1⁄2, 1⁄...</td>\n",
       "      <td>[extra firm tofu, eggplant, zucchini, mushroom...</td>\n",
       "      <td>Drain the tofu, carefully squeezing out excess...</td>\n",
       "      <td>4.5</td>\n",
       "      <td>2.0</td>\n",
       "      <td>20</td>\n",
       "      <td>1440</td>\n",
       "      <td>1460</td>\n",
       "      <td>Carina's Tofu-Vegetable Kebabs Soy/Tofu This d...</td>\n",
       "      <td>Carina's Tofu-Vegetable Kebabs Soy/Tofu dish b...</td>\n",
       "    </tr>\n",
       "    <tr>\n",
       "      <th>4</th>\n",
       "      <td>Cabbage Soup</td>\n",
       "      <td>Vegetable</td>\n",
       "      <td>Make and share this Cabbage Soup recipe from F...</td>\n",
       "      <td>Low Protein Vegan Low Cholesterol Healthy Wint...</td>\n",
       "      <td>[46, 4, 1, 2, 1]</td>\n",
       "      <td>[plain tomato juice, cabbage, onion, carrots, ...</td>\n",
       "      <td>Mix everything together and bring to a boil. R...</td>\n",
       "      <td>4.5</td>\n",
       "      <td>11.0</td>\n",
       "      <td>30</td>\n",
       "      <td>20</td>\n",
       "      <td>50</td>\n",
       "      <td>Cabbage Soup Vegetable Make and share this Cab...</td>\n",
       "      <td>Cabbage Soup Vegetable Make share Cabbage Soup...</td>\n",
       "    </tr>\n",
       "  </tbody>\n",
       "</table>\n",
       "</div>"
      ]
     },
     "execution_count": 5,
     "metadata": {},
     "output_type": "execute_result"
    }
   ],
   "execution_count": 5
  },
  {
   "cell_type": "code",
   "id": "c42abeac-3ebd-4fda-a7d5-e43940aa503e",
   "metadata": {
    "tags": [],
    "ExecuteTime": {
     "end_time": "2024-07-15T04:35:54.298325Z",
     "start_time": "2024-07-15T04:35:54.294693Z"
    }
   },
   "source": [
    "df.columns"
   ],
   "outputs": [
    {
     "data": {
      "text/plain": [
       "Index(['Name', 'RecipeCategory', 'Description', 'Keywords_string',\n",
       "       'RecipeIngredientQuantities', 'RecipeIngredientParts',\n",
       "       'RecipeInstructions', 'AggregatedRating', 'ReviewCount',\n",
       "       'CookTime_Minutes', 'PrepTime_Minutes', 'TotalTime_Minutes',\n",
       "       'Combined_Features', 'Combined_Features_Clean'],\n",
       "      dtype='object')"
      ]
     },
     "execution_count": 6,
     "metadata": {},
     "output_type": "execute_result"
    }
   ],
   "execution_count": 6
  },
  {
   "cell_type": "code",
   "id": "68483703-908e-4f6e-892b-305948d7562d",
   "metadata": {
    "tags": [],
    "ExecuteTime": {
     "end_time": "2024-07-15T04:35:54.302364Z",
     "start_time": "2024-07-15T04:35:54.299165Z"
    }
   },
   "source": [
    "str(df.iloc[0]['Combined_Features_Clean'])"
   ],
   "outputs": [
    {
     "data": {
      "text/plain": [
       "\"Low-Fat Berry Blue Frozen Dessert Frozen Desserts Make share Low-Fat Berry Blue Frozen Dessert recipe Food.com. Toss 2 cups berries sugar. Let stand 45 minutes, stirring occasionally. Transfer berry-sugar mixture food processor. Add yogurt process smooth. Strain fine sieve. Pour baking pan (or transfer ice cream maker process according manufacturers' directions). Freeze uncovered edges solid centre soft. Transfer processor blend smooth again. Return pan freeze edges solid. Transfer processor blend smooth again. Fold remaining 2 cups blueberries. Pour plastic mold freeze overnight. Let soften slightly serve. Dessert Low Protein Low Cholesterol Healthy Free Of... Summer Weeknight Freezer Easy\""
      ]
     },
     "execution_count": 7,
     "metadata": {},
     "output_type": "execute_result"
    }
   ],
   "execution_count": 7
  },
  {
   "cell_type": "code",
   "id": "f08ea196-6017-48c7-8e76-e75120089131",
   "metadata": {
    "tags": [],
    "ExecuteTime": {
     "end_time": "2024-07-15T04:35:54.603779Z",
     "start_time": "2024-07-15T04:35:54.302885Z"
    }
   },
   "source": [
    "df = df[df['AggregatedRating'].notna()]\n",
    "df.shape"
   ],
   "outputs": [
    {
     "data": {
      "text/plain": [
       "(269294, 14)"
      ]
     },
     "execution_count": 8,
     "metadata": {},
     "output_type": "execute_result"
    }
   ],
   "execution_count": 8
  },
  {
   "cell_type": "markdown",
   "id": "74654ec1-1620-4b12-abfa-74ce789a79ce",
   "metadata": {},
   "source": [
    "### Load data into chunked documents"
   ]
  },
  {
   "cell_type": "code",
   "id": "81165ce4-c17b-44df-a88a-319b4e590105",
   "metadata": {
    "tags": [],
    "ExecuteTime": {
     "end_time": "2024-07-15T04:35:54.869905Z",
     "start_time": "2024-07-15T04:35:54.605393Z"
    }
   },
   "source": [
    "from langchain_community.embeddings import HuggingFaceEmbeddings\n",
    "from langchain_text_splitters import RecursiveCharacterTextSplitter\n",
    "from langchain.docstore.document import Document"
   ],
   "outputs": [],
   "execution_count": 9
  },
  {
   "cell_type": "code",
   "id": "ef713c37-2e0f-45ba-8717-de22afbad5b7",
   "metadata": {
    "tags": [],
    "ExecuteTime": {
     "end_time": "2024-07-15T04:36:03.468491Z",
     "start_time": "2024-07-15T04:35:54.870542Z"
    }
   },
   "source": [
    "embedding_model = HuggingFaceEmbeddings(model_name=\"multi-qa-mpnet-base-dot-v1\")"
   ],
   "outputs": [
    {
     "name": "stderr",
     "output_type": "stream",
     "text": [
      "/Users/robertgreer/Documents/Education/Berkeley/Classes/Datasci210_Capstone/Enterprise-RAG/venv/lib/python3.12/site-packages/langchain_core/_api/deprecation.py:139: LangChainDeprecationWarning: The class `HuggingFaceEmbeddings` was deprecated in LangChain 0.2.2 and will be removed in 0.3.0. An updated version of the class exists in the langchain-huggingface package and should be used instead. To use it run `pip install -U langchain-huggingface` and import as `from langchain_huggingface import HuggingFaceEmbeddings`.\n",
      "  warn_deprecated(\n",
      "/Users/robertgreer/Documents/Education/Berkeley/Classes/Datasci210_Capstone/Enterprise-RAG/venv/lib/python3.12/site-packages/sentence_transformers/cross_encoder/CrossEncoder.py:11: TqdmExperimentalWarning: Using `tqdm.autonotebook.tqdm` in notebook mode. Use `tqdm.tqdm` instead to force console mode (e.g. in jupyter console)\n",
      "  from tqdm.autonotebook import tqdm, trange\n"
     ]
    }
   ],
   "execution_count": 10
  },
  {
   "cell_type": "markdown",
   "id": "babae2b2-4aac-4fde-b653-ae2d2a3eb350",
   "metadata": {
    "tags": []
   },
   "source": [
    "### Note: chunking may not be useful for us as the EDA has the following about description length\n",
    "print(new_recipe['Combined_Features_Clean'].str.len().describe())\n",
    "\n",
    "\n",
    "count    522517.000000\\\n",
    "mean        211.461774\\\n",
    "std         122.388646\\\n",
    "min          44.000000\\\n",
    "25%         131.000000\\\n",
    "50%         180.000000\\\n",
    "75%         255.000000\\\n",
    "max        4174.000000\\\n",
    "Name: Combined_Features_Clean, dtype: float64"
   ]
  },
  {
   "cell_type": "code",
   "id": "c829beba-a527-4f21-b311-88db598124fe",
   "metadata": {
    "tags": []
   },
   "source": [
    "def create_textsplitter(chunks, overlaps):\n",
    "    splits = {}\n",
    "    for chunk in chunks:\n",
    "        for overlap in overlaps:\n",
    "            splits[f'chunk{str(chunk)}_overlap{str(overlap)}'] = RecursiveCharacterTextSplitter(chunk_size=chunk, chunk_overlap=overlap)\n",
    "    return splits"
   ],
   "outputs": [],
   "execution_count": null
  },
  {
   "cell_type": "code",
   "id": "88739f50-8d3a-4558-b5fb-588daf1c41cb",
   "metadata": {
    "tags": []
   },
   "source": [
    "chunks = [128, 256, 512, 1024, 2048]\n",
    "overlaps = [.25, .2, .15, .1]\n",
    "\n",
    "text_splits = create_textsplitter(chunks, overlaps)"
   ],
   "outputs": [],
   "execution_count": null
  },
  {
   "cell_type": "code",
   "id": "32e0c41f-6f62-45e4-a385-f94b0493cbe9",
   "metadata": {
    "tags": []
   },
   "source": [
    "text_splits['chunk1024_overlap0.25']"
   ],
   "outputs": [],
   "execution_count": null
  },
  {
   "cell_type": "code",
   "id": "05b5985a-4bdc-44cf-b888-9ddc76abb89e",
   "metadata": {
    "tags": [],
    "ExecuteTime": {
     "end_time": "2024-07-15T04:36:03.475534Z",
     "start_time": "2024-07-15T04:36:03.470268Z"
    }
   },
   "source": [
    "# def create_documents(df):\n",
    "#     documents = []\n",
    "#     for index, row in df.iterrows():\n",
    "#         metadata = {\n",
    "#             # 'recipe_id': str(row['RecipeId']) if not pd.isna(row['RecipeId']) else 'No ID Available',\n",
    "#             'name': str(row['Name']) if not pd.isna(row['Name']) else 'No Name Available',\n",
    "#             # 'cook_time': str(row['CookTime']) if not pd.isna(row['CookTime']) else 'No Cook Time Available',\n",
    "#             # 'prep_time': str(row['PrepTime']) if not pd.isna(row['PrepTime']) else 'No Prep Time Available',\n",
    "#             # 'total_time': str(row['TotalTime']) if not pd.isna(row['TotalTime']) else 'No Total Time Available',\n",
    "#             'recipe_category': str(row['RecipeCategory']) if not pd.isna(row['RecipeCategory']) else 'No Category Available',\n",
    "#             # 'keywords': str(row['Keywords']) if not pd.isna(row['Keywords']).all() else 'No Keywords Available',\n",
    "#             'aggregated_rating': str(row['AggregatedRating']) if not pd.isna(row['AggregatedRating']) else 'No Rating Available',\n",
    "#             'review_count': str(row['ReviewCount']) if not pd.isna(row['ReviewCount']) else 'No Reviews Available',\n",
    "#             # 'calories': str(row['Calories']) if not pd.isna(row['Calories']) else 'No Calories Information Available',\n",
    "#             # 'fat_content': str(row['FatContent']) if not pd.isna(row['FatContent']) else 'No Fat Content Available',\n",
    "#             # 'saturated_fat_content': str(row['SaturatedFatContent']) if not pd.isna(row['SaturatedFatContent']) else 'No Saturated Fat Content Available',\n",
    "#             # 'cholesterol_content': str(row['CholesterolContent']) if not pd.isna(row['CholesterolContent']) else 'No Cholesterol Content Available',\n",
    "#             # 'sodium_content': str(row['SodiumContent']) if not pd.isna(row['SodiumContent']) else 'No Sodium Content Available',\n",
    "#             # 'carbohydrate_content': str(row['CarbohydrateContent']) if not pd.isna(row['CarbohydrateContent']) else 'No Carbohydrate Content Available',\n",
    "#             # 'sugar_content': str(row['SugarContent']) if not pd.isna(row['SugarContent']) else 'No Sugar Content Available',\n",
    "#             # 'protein_content': str(row['ProteinContent']) if not pd.isna(row['ProteinContent']) else 'No Protein Content Available',\n",
    "#             # 'recipe_servings': str(row['RecipeServings']) if not pd.isna(row['RecipeServings']) else 'No Servings Information Available',\n",
    "#             # 'recipe_yield': str(row['RecipeYield']) if not pd.isna(row['RecipeYield']) else 'No Yield Information Available'\n",
    "#         }\n",
    "\n",
    "#         # Use Combined_Features_Clean for the document content\n",
    "#         text = str(row['Combined_Features_Clean'])\n",
    "#         doc = Document(page_content=text, metadata=metadata)\n",
    "#         documents.append(doc)\n",
    "        \n",
    "#     return documents\n",
    "\n",
    "def create_documents(df):\n",
    "    df_copy = df.copy(deep=True)\n",
    "    df = df.dropna(subset=[\"AggregatedRating\"])\n",
    "    df_copy = df_copy.fillna(\"\")  # Convert NA values to empty strings\n",
    "    df_copy = df_copy.astype(str)  # Cast all columns to string\n",
    "\n",
    "    documents = []\n",
    "    for _index, row in df_copy.iterrows():\n",
    "        metadata = {\n",
    "            \"name\": row[\"Name\"] if row[\"Name\"] else \"No Name Available\",\n",
    "            \"description\": (\n",
    "                row[\"Description\"] if row[\"Description\"] else \"No Description Available\"\n",
    "            ),\n",
    "            \"recipe_category\": (\n",
    "                row[\"RecipeCategory\"]\n",
    "                if row[\"RecipeCategory\"]\n",
    "                else \"No Category Available\"\n",
    "            ),\n",
    "            \"keywords\": (\n",
    "                row[\"Keywords_string\"]\n",
    "                if row[\"Keywords_string\"]\n",
    "                else \"No Keywords Available\"\n",
    "            ),\n",
    "            \"recipe_ingredient_parts\": (\n",
    "                row[\"RecipeIngredientParts\"]\n",
    "                if row[\"RecipeIngredientParts\"]\n",
    "                else \"No Recipe Ingredient Parts Available\"\n",
    "            ),\n",
    "            \"recipe_instructions\": (\n",
    "                row[\"RecipeInstructions\"]\n",
    "                if row[\"RecipeInstructions\"]\n",
    "                else \"No Recipe Instructions Available\"\n",
    "            ),\n",
    "            \"aggregated_rating\": (\n",
    "                row[\"AggregatedRating\"]\n",
    "                if row[\"AggregatedRating\"]\n",
    "                else \"No Rating Available\"\n",
    "            ),\n",
    "            \"review_count\": (\n",
    "                row[\"ReviewCount\"] if row[\"ReviewCount\"] else \"No Reviews Available\"\n",
    "            ),\n",
    "        }\n",
    "\n",
    "        # List of fields to be included in the document content\n",
    "        content_field = (\n",
    "            row[\"Combined_Features\"]\n",
    "            if row[\"Combined_Features\"]\n",
    "            else \"No Content Available\"\n",
    "        )\n",
    "\n",
    "        # Create the document content using the combined features field\n",
    "        doc = Document(page_content=content_field, metadata=metadata)\n",
    "        documents.append(doc)\n",
    "\n",
    "    return documents\n"
   ],
   "outputs": [],
   "execution_count": 11
  },
  {
   "cell_type": "code",
   "id": "2e316c63-2897-4c89-aa24-562bcab03ba0",
   "metadata": {
    "tags": [],
    "ExecuteTime": {
     "end_time": "2024-07-15T04:36:03.495890Z",
     "start_time": "2024-07-15T04:36:03.476496Z"
    }
   },
   "source": [
    "# Take a sample of 100K receipes \n",
    "documents = create_documents(df.sample(n=40))"
   ],
   "outputs": [],
   "execution_count": 12
  },
  {
   "cell_type": "code",
   "id": "db462d95-67b8-4ec5-b379-1a98666a0dc0",
   "metadata": {
    "tags": [],
    "ExecuteTime": {
     "end_time": "2024-07-15T04:36:03.499190Z",
     "start_time": "2024-07-15T04:36:03.496567Z"
    }
   },
   "source": [
    "documents[0]"
   ],
   "outputs": [
    {
     "data": {
      "text/plain": [
       "Document(metadata={'name': 'Chicken Livers With Mushrooms', 'description': \"This should probably be called Chicken livers and gravy as it forms a wonderful tasting gravy.  I've had this recipe for years but don't remember where I got it. I'm posting the recipe as written and added my additions at the end.  Hope you like it, can be easily doubled or tripled.(though I don't double the margarine for cooking the livers)\", 'recipe_category': 'Chicken Livers', 'keywords': 'Chicken Poultry Meat < 30 Mins Beginner Cook Easy Inexpensive', 'recipe_ingredient_parts': \"['chicken liver' 'margarine' 'mushroom stems and pieces' 'water' 'flour'\\n 'salt' 'pepper' 'parsley flakes' 'instant chicken bouillon'\\n 'chicken bouillon cube']\", 'recipe_instructions': \"Boil water, add bouillon to dissolve, set aside. Melt margarine in 8 inch skillet. Brown livers over medium heat, stirring occasionally for 3-4 minutes. Stir in mushrooms (with liquid) Add bouillon/water, flour, salt(if using), pepper and parsley. Heat to boiling. Reduce heat and simmer uncovered Stir occasionally until livers are done, about 5 minutes. I usually use fresh sliced mushrooms as I don't really care for canned. Sorry,  I'm not sure of the exact amount I use, I just add until it looks like enough -- oh, and I add about another 1/8 - 1/4 cup of water too if I use fresh mushrooms. I also add about 1/4 cup of diced onions and fry with liver for added flavour. I also do not add additional salt as I feel there is enough in the bouillon but the choice is yours.\", 'aggregated_rating': '5.0', 'review_count': '2.0'}, page_content=\"Chicken Livers With Mushrooms Chicken Livers This should probably be called Chicken livers and gravy as it forms a wonderful tasting gravy.  I've had this recipe for years but don't remember where I got it. I'm posting the recipe as written and added my additions at the end.  Hope you like it, can be easily doubled or tripled.(though I don't double the margarine for cooking the livers) Boil water, add bouillon to dissolve, set aside. Melt margarine in 8 inch skillet. Brown livers over medium heat, stirring occasionally for 3-4 minutes. Stir in mushrooms (with liquid) Add bouillon/water, flour, salt(if using), pepper and parsley. Heat to boiling. Reduce heat and simmer uncovered Stir occasionally until livers are done, about 5 minutes. I usually use fresh sliced mushrooms as I don't really care for canned. Sorry,  I'm not sure of the exact amount I use, I just add until it looks like enough -- oh, and I add about another 1/8 - 1/4 cup of water too if I use fresh mushrooms. I also add about 1/4 cup of diced onions and fry with liver for added flavour. I also do not add additional salt as I feel there is enough in the bouillon but the choice is yours. Chicken Poultry Meat < 30 Mins Beginner Cook Easy Inexpensive\")"
      ]
     },
     "execution_count": 13,
     "metadata": {},
     "output_type": "execute_result"
    }
   ],
   "execution_count": 13
  },
  {
   "cell_type": "code",
   "id": "8d878b08-c2fc-4528-b26f-3a33d7856465",
   "metadata": {
    "tags": [],
    "ExecuteTime": {
     "end_time": "2024-07-15T04:36:03.502137Z",
     "start_time": "2024-07-15T04:36:03.499854Z"
    }
   },
   "source": [
    "len(documents)"
   ],
   "outputs": [
    {
     "data": {
      "text/plain": [
       "40"
      ]
     },
     "execution_count": 14,
     "metadata": {},
     "output_type": "execute_result"
    }
   ],
   "execution_count": 14
  },
  {
   "cell_type": "code",
   "id": "35faf6bb-6a9b-4f59-b021-33c2507638aa",
   "metadata": {
    "tags": []
   },
   "source": [
    "def split_documents_with_metadata(documents, text_splitter):\n",
    "    split_docs = []\n",
    "    for doc in documents:\n",
    "        chunks = text_splitter.split_text(doc.page_content)\n",
    "        for i, chunk in enumerate(chunks):\n",
    "            split_docs.append(Document(page_content=chunk, metadata={**doc.metadata, \"chunk_id\": i}))\n",
    "    return split_docs"
   ],
   "outputs": [],
   "execution_count": null
  },
  {
   "cell_type": "code",
   "id": "d6fe3cfc-26b8-47db-8c36-07e06ea3feb9",
   "metadata": {
    "tags": []
   },
   "source": [
    "split_documents = {key: split_documents_with_metadata(documents, text_splitter_recursive) for key, text_splitter_recursive in text_splits.items()}"
   ],
   "outputs": [],
   "execution_count": null
  },
  {
   "cell_type": "code",
   "id": "225b95d6-f0f2-41fd-8cf9-c700ef269488",
   "metadata": {
    "tags": []
   },
   "source": [
    "split_documents['chunk256_overlap0.25'][0]"
   ],
   "outputs": [],
   "execution_count": null
  },
  {
   "cell_type": "code",
   "id": "4cb92d4b-2aba-4e56-ac81-b0f743c139a3",
   "metadata": {
    "tags": [],
    "ExecuteTime": {
     "end_time": "2024-07-15T04:36:07.269464Z",
     "start_time": "2024-07-15T04:36:03.502820Z"
    }
   },
   "source": [
    "# We have > 500,000 recipes, this takes a long time to run\n",
    "from langchain_community.vectorstores import Qdrant\n",
    "\n",
    "# From documents with no chunking\n",
    "qdrant_store = Qdrant.from_documents(documents,\n",
    "    embedding_model,\n",
    "    location=\":memory:\",\n",
    ")\n",
    "\n",
    "# from split documents (specify the chunk and overlap key)\n",
    "# qdrant_store = Qdrant.from_documents(split_documents['chunk1024_overlap0.25'],\n",
    "#     embedding_model,\n",
    "#     location=\":memory:\",\n",
    "# )"
   ],
   "outputs": [],
   "execution_count": 15
  },
  {
   "cell_type": "markdown",
   "id": "83dd632b-e559-47a3-a9b2-ee65c410ab12",
   "metadata": {},
   "source": [
    "## Create llm query call"
   ]
  },
  {
   "cell_type": "code",
   "id": "0a90c77b-533f-4ea7-b1dc-999c3ad1a837",
   "metadata": {
    "tags": [],
    "ExecuteTime": {
     "end_time": "2024-07-15T04:36:13.717139Z",
     "start_time": "2024-07-15T04:36:13.714117Z"
    }
   },
   "source": [
    "import json"
   ],
   "outputs": [],
   "execution_count": 16
  },
  {
   "cell_type": "code",
   "id": "f0a0eb6f-ee0f-48ef-ada2-3d8c4588a2a0",
   "metadata": {
    "tags": [],
    "ExecuteTime": {
     "end_time": "2024-07-15T04:36:14.930843Z",
     "start_time": "2024-07-15T04:36:14.921509Z"
    }
   },
   "source": [
    "bedrock_client = boto3.client('bedrock-runtime', region_name=\"us-east-1\")"
   ],
   "outputs": [],
   "execution_count": 17
  },
  {
   "cell_type": "code",
   "id": "6558f8ed-ad56-443e-9ff4-8ec6f785407b",
   "metadata": {
    "tags": [],
    "ExecuteTime": {
     "end_time": "2024-07-15T04:36:15.328815Z",
     "start_time": "2024-07-15T04:36:15.327254Z"
    }
   },
   "source": [
    "baseline_sys_prompt = \"\"\"\n",
    "You are a helpful assistant and expert in cooking recipes.\n",
    "\n",
    "Before answering, always make at least one call to query_food_recipe_vector_db\n",
    "to retrieve the relevant context of recipes and ingredients to generate an informed\n",
    "and high-quality response to the user prompt but NEVER exceed a MAXIMUM of \n",
    "3 calls to the query_food_recipe_vector_db function.\n",
    "\n",
    "Provide a response to the user prompt about food with recommended recipes and instructions.\n",
    "\"\"\""
   ],
   "outputs": [],
   "execution_count": 18
  },
  {
   "cell_type": "code",
   "id": "91ce8168-eb4b-4ed0-a228-8c09021d35ea",
   "metadata": {
    "tags": [],
    "ExecuteTime": {
     "end_time": "2024-07-15T04:36:15.905920Z",
     "start_time": "2024-07-15T04:36:15.903593Z"
    }
   },
   "source": [
    "recipe_db_query_tool = {\n",
    "  \"name\": \"query_food_recipe_vector_db\",\n",
    "  \"description\": \"\"\"\n",
    "      Queries the vector database containing food recipes to retrieve the most relevant documents. \n",
    "      This function allows the model to generate and execute multiple queries as necessary to gather comprehensive context, \n",
    "      such as ingredients, preparation steps, and metadata like cuisine and diet type, ensuring accurate and thorough responses to user queries.\n",
    "      \"\"\",\n",
    "  \"input_schema\": {\n",
    "    \"type\": \"object\",\n",
    "    \"properties\": {\n",
    "      \"queries\": {\n",
    "        \"type\": \"array\",\n",
    "        \"items\": {\n",
    "          \"type\": \"string\",\n",
    "          \"description\": \"A query generated by the model to run against the vector database to fetch recipe documents.\"\n",
    "        },\n",
    "        \"description\": \"A list of queries generated by the model to run against the vector database to fetch recipe documents.\"\n",
    "      }\n",
    "    },\n",
    "    \"required\": [\"queries\"]\n",
    "  }\n",
    "}\n"
   ],
   "outputs": [],
   "execution_count": 19
  },
  {
   "cell_type": "code",
   "id": "288982cc-10b2-4304-b000-e44b7643e4e8",
   "metadata": {
    "tags": [],
    "ExecuteTime": {
     "end_time": "2024-07-15T04:36:16.915117Z",
     "start_time": "2024-07-15T04:36:16.912509Z"
    }
   },
   "source": [
    "MODEL_ID = \"anthropic.claude-3-sonnet-20240229-v1:0\"\n",
    "\n",
    "def query_bedrock_llm(messages):\n",
    "    response = bedrock_client.invoke_model(\n",
    "        modelId=MODEL_ID,\n",
    "        body=json.dumps({\n",
    "            'anthropic_version': 'bedrock-2023-05-31', # This is required to use chat style messages object \n",
    "            'system': baseline_sys_prompt,\n",
    "            'messages': messages,\n",
    "            'max_tokens': 3000,\n",
    "            \"tools\": [recipe_db_query_tool],\n",
    "\n",
    "            # This config forces the model to always call the recipe db query tool atleast once \n",
    "            # https://docs.anthropic.com/en/docs/build-with-claude/tool-use#controlling-claudes-output\n",
    "            # \"tool_choice\": {\n",
    "            #     \"type\": \"tool\",\n",
    "            #     \"name\": recipe_db_query_tool['name']\n",
    "            # },\n",
    "            \n",
    "            # TODO: TUNE THESE VALUES\n",
    "            'temperature': 0.1, \n",
    "            'top_p': 0.9\n",
    "        })\n",
    "    )\n",
    "    response_body = json.loads(response.get('body').read())\n",
    "    \n",
    "    return response_body"
   ],
   "outputs": [],
   "execution_count": 20
  },
  {
   "cell_type": "markdown",
   "id": "497ccdc5-7f76-491a-9813-25fa6da4a5df",
   "metadata": {},
   "source": [
    "## Create Retrieval Chainfrom langchain_core.prompts import ChatPromptTemplate"
   ]
  },
  {
   "cell_type": "code",
   "id": "8e4ed337-9679-4ed7-9c70-82c119023448",
   "metadata": {
    "tags": [],
    "ExecuteTime": {
     "end_time": "2024-07-15T04:36:19.684162Z",
     "start_time": "2024-07-15T04:36:19.618316Z"
    }
   },
   "source": [
    "from langchain_core.prompts import ChatPromptTemplate\n",
    "from langchain_core.runnables import RunnablePassthrough, RunnableMap"
   ],
   "outputs": [],
   "execution_count": 21
  },
  {
   "cell_type": "code",
   "id": "cd9366dc-f249-4e6c-b479-29f18ad155d3",
   "metadata": {
    "tags": [],
    "ExecuteTime": {
     "end_time": "2024-07-15T04:36:19.951400Z",
     "start_time": "2024-07-15T04:36:19.948852Z"
    }
   },
   "source": [
    "def format_docs(docs):\n",
    "    formatted_docs = []\n",
    "    for doc in docs:\n",
    "        formatted_docs.append(f\"Metadata: {doc.metadata}\\n\")\n",
    "    content = \"\\n\\n\".join(formatted_docs)\n",
    "    \n",
    "    return content"
   ],
   "outputs": [],
   "execution_count": 22
  },
  {
   "cell_type": "code",
   "id": "936c5570-8c42-4707-a55d-f716593a6c6f",
   "metadata": {
    "tags": [],
    "ExecuteTime": {
     "end_time": "2024-07-15T04:36:20.244886Z",
     "start_time": "2024-07-15T04:36:20.243048Z"
    }
   },
   "source": [
    "baseline_user_prompt = \"\"\"\n",
    "### Here is a user prompt:\n",
    "{query}\n",
    "\"\"\""
   ],
   "outputs": [],
   "execution_count": 23
  },
  {
   "cell_type": "code",
   "id": "73f6a70d-2929-467c-89ff-e523a909f7ae",
   "metadata": {
    "tags": [],
    "ExecuteTime": {
     "end_time": "2024-07-15T04:36:20.558654Z",
     "start_time": "2024-07-15T04:36:20.556110Z"
    }
   },
   "source": [
    "def process_prompt_basic(query_args):\n",
    "    prompt_with_context = baseline_user_prompt.replace(\"{context}\", query_args['context'])\n",
    "    prompt_with_query = prompt_with_context.replace(\"{query}\", query_args['query'])\n",
    "    \n",
    "    # This format doesn't matter much now, but we will use it later to \n",
    "    # persist chat history for continuous dialogue\n",
    "    messages = [\n",
    "        {\n",
    "            \"role\": \"user\",\n",
    "            \"content\": [\n",
    "                {\n",
    "                    \"type\": \"text\",\n",
    "                    \"text\": prompt_with_query\n",
    "                }\n",
    "            ]\n",
    "        }\n",
    "    ]\n",
    "    \n",
    "    return messages"
   ],
   "outputs": [],
   "execution_count": 24
  },
  {
   "cell_type": "markdown",
   "id": "6ca97d83-0690-484c-8c87-54d7e03b2a32",
   "metadata": {},
   "source": [
    "## Create Initial Retriever"
   ]
  },
  {
   "cell_type": "code",
   "id": "36e69095-4a94-4d91-90fc-fb9ac5301306",
   "metadata": {
    "tags": [],
    "ExecuteTime": {
     "end_time": "2024-07-15T04:51:45.843082Z",
     "start_time": "2024-07-15T04:51:45.840843Z"
    }
   },
   "source": [
    "\n",
    "qdrant_retriever_rerank = qdrant_store.as_retriever(search_type='mmr', search_kwargs={\"k\": 5, 'lambda_mult': 0.5})\n"
   ],
   "outputs": [],
   "execution_count": 83
  },
  {
   "metadata": {
    "ExecuteTime": {
     "end_time": "2024-07-15T04:36:26.164564Z",
     "start_time": "2024-07-15T04:36:26.163163Z"
    }
   },
   "cell_type": "code",
   "source": "",
   "id": "79eb2eb10e4d4734",
   "outputs": [],
   "execution_count": 25
  },
  {
   "cell_type": "markdown",
   "id": "c7d9e8b1-fffe-4a23-a313-789c21f7a367",
   "metadata": {},
   "source": [
    "### Self Query"
   ]
  },
  {
   "metadata": {
    "ExecuteTime": {
     "end_time": "2024-07-15T04:36:28.684849Z",
     "start_time": "2024-07-15T04:36:26.776425Z"
    }
   },
   "cell_type": "code",
   "source": "pip install langchain_openai",
   "id": "5d7b956a52527f60",
   "outputs": [
    {
     "name": "stderr",
     "output_type": "stream",
     "text": [
      "huggingface/tokenizers: The current process just got forked, after parallelism has already been used. Disabling parallelism to avoid deadlocks...\n",
      "To disable this warning, you can either:\n",
      "\t- Avoid using `tokenizers` before the fork if possible\n",
      "\t- Explicitly set the environment variable TOKENIZERS_PARALLELISM=(true | false)\n"
     ]
    },
    {
     "name": "stdout",
     "output_type": "stream",
     "text": [
      "Requirement already satisfied: langchain_openai in /Users/robertgreer/Documents/Education/Berkeley/Classes/Datasci210_Capstone/Enterprise-RAG/venv/lib/python3.12/site-packages (0.1.16)\r\n",
      "Requirement already satisfied: langchain-core<0.3.0,>=0.2.17 in /Users/robertgreer/Documents/Education/Berkeley/Classes/Datasci210_Capstone/Enterprise-RAG/venv/lib/python3.12/site-packages (from langchain_openai) (0.2.18)\r\n",
      "Requirement already satisfied: openai<2.0.0,>=1.32.0 in /Users/robertgreer/Documents/Education/Berkeley/Classes/Datasci210_Capstone/Enterprise-RAG/venv/lib/python3.12/site-packages (from langchain_openai) (1.35.13)\r\n",
      "Requirement already satisfied: tiktoken<1,>=0.7 in /Users/robertgreer/Documents/Education/Berkeley/Classes/Datasci210_Capstone/Enterprise-RAG/venv/lib/python3.12/site-packages (from langchain_openai) (0.7.0)\r\n",
      "Requirement already satisfied: PyYAML>=5.3 in /Users/robertgreer/Documents/Education/Berkeley/Classes/Datasci210_Capstone/Enterprise-RAG/venv/lib/python3.12/site-packages (from langchain-core<0.3.0,>=0.2.17->langchain_openai) (6.0.1)\r\n",
      "Requirement already satisfied: jsonpatch<2.0,>=1.33 in /Users/robertgreer/Documents/Education/Berkeley/Classes/Datasci210_Capstone/Enterprise-RAG/venv/lib/python3.12/site-packages (from langchain-core<0.3.0,>=0.2.17->langchain_openai) (1.33)\r\n",
      "Requirement already satisfied: langsmith<0.2.0,>=0.1.75 in /Users/robertgreer/Documents/Education/Berkeley/Classes/Datasci210_Capstone/Enterprise-RAG/venv/lib/python3.12/site-packages (from langchain-core<0.3.0,>=0.2.17->langchain_openai) (0.1.77)\r\n",
      "Requirement already satisfied: packaging<25,>=23.2 in /Users/robertgreer/Documents/Education/Berkeley/Classes/Datasci210_Capstone/Enterprise-RAG/venv/lib/python3.12/site-packages (from langchain-core<0.3.0,>=0.2.17->langchain_openai) (23.2)\r\n",
      "Requirement already satisfied: pydantic<3,>=1 in /Users/robertgreer/Documents/Education/Berkeley/Classes/Datasci210_Capstone/Enterprise-RAG/venv/lib/python3.12/site-packages (from langchain-core<0.3.0,>=0.2.17->langchain_openai) (2.7.3)\r\n",
      "Requirement already satisfied: tenacity!=8.4.0,<9.0.0,>=8.1.0 in /Users/robertgreer/Documents/Education/Berkeley/Classes/Datasci210_Capstone/Enterprise-RAG/venv/lib/python3.12/site-packages (from langchain-core<0.3.0,>=0.2.17->langchain_openai) (8.3.0)\r\n",
      "Requirement already satisfied: anyio<5,>=3.5.0 in /Users/robertgreer/Documents/Education/Berkeley/Classes/Datasci210_Capstone/Enterprise-RAG/venv/lib/python3.12/site-packages (from openai<2.0.0,>=1.32.0->langchain_openai) (4.4.0)\r\n",
      "Requirement already satisfied: distro<2,>=1.7.0 in /Users/robertgreer/Documents/Education/Berkeley/Classes/Datasci210_Capstone/Enterprise-RAG/venv/lib/python3.12/site-packages (from openai<2.0.0,>=1.32.0->langchain_openai) (1.9.0)\r\n",
      "Requirement already satisfied: httpx<1,>=0.23.0 in /Users/robertgreer/Documents/Education/Berkeley/Classes/Datasci210_Capstone/Enterprise-RAG/venv/lib/python3.12/site-packages (from openai<2.0.0,>=1.32.0->langchain_openai) (0.27.0)\r\n",
      "Requirement already satisfied: sniffio in /Users/robertgreer/Documents/Education/Berkeley/Classes/Datasci210_Capstone/Enterprise-RAG/venv/lib/python3.12/site-packages (from openai<2.0.0,>=1.32.0->langchain_openai) (1.3.1)\r\n",
      "Requirement already satisfied: tqdm>4 in /Users/robertgreer/Documents/Education/Berkeley/Classes/Datasci210_Capstone/Enterprise-RAG/venv/lib/python3.12/site-packages (from openai<2.0.0,>=1.32.0->langchain_openai) (4.66.4)\r\n",
      "Requirement already satisfied: typing-extensions<5,>=4.7 in /Users/robertgreer/Documents/Education/Berkeley/Classes/Datasci210_Capstone/Enterprise-RAG/venv/lib/python3.12/site-packages (from openai<2.0.0,>=1.32.0->langchain_openai) (4.12.2)\r\n",
      "Requirement already satisfied: regex>=2022.1.18 in /Users/robertgreer/Documents/Education/Berkeley/Classes/Datasci210_Capstone/Enterprise-RAG/venv/lib/python3.12/site-packages (from tiktoken<1,>=0.7->langchain_openai) (2024.5.15)\r\n",
      "Requirement already satisfied: requests>=2.26.0 in /Users/robertgreer/Documents/Education/Berkeley/Classes/Datasci210_Capstone/Enterprise-RAG/venv/lib/python3.12/site-packages (from tiktoken<1,>=0.7->langchain_openai) (2.32.3)\r\n",
      "Requirement already satisfied: idna>=2.8 in /Users/robertgreer/Documents/Education/Berkeley/Classes/Datasci210_Capstone/Enterprise-RAG/venv/lib/python3.12/site-packages (from anyio<5,>=3.5.0->openai<2.0.0,>=1.32.0->langchain_openai) (3.7)\r\n",
      "Requirement already satisfied: certifi in /Users/robertgreer/Documents/Education/Berkeley/Classes/Datasci210_Capstone/Enterprise-RAG/venv/lib/python3.12/site-packages (from httpx<1,>=0.23.0->openai<2.0.0,>=1.32.0->langchain_openai) (2024.6.2)\r\n",
      "Requirement already satisfied: httpcore==1.* in /Users/robertgreer/Documents/Education/Berkeley/Classes/Datasci210_Capstone/Enterprise-RAG/venv/lib/python3.12/site-packages (from httpx<1,>=0.23.0->openai<2.0.0,>=1.32.0->langchain_openai) (1.0.5)\r\n",
      "Requirement already satisfied: h11<0.15,>=0.13 in /Users/robertgreer/Documents/Education/Berkeley/Classes/Datasci210_Capstone/Enterprise-RAG/venv/lib/python3.12/site-packages (from httpcore==1.*->httpx<1,>=0.23.0->openai<2.0.0,>=1.32.0->langchain_openai) (0.14.0)\r\n",
      "Requirement already satisfied: jsonpointer>=1.9 in /Users/robertgreer/Documents/Education/Berkeley/Classes/Datasci210_Capstone/Enterprise-RAG/venv/lib/python3.12/site-packages (from jsonpatch<2.0,>=1.33->langchain-core<0.3.0,>=0.2.17->langchain_openai) (3.0.0)\r\n",
      "Requirement already satisfied: orjson<4.0.0,>=3.9.14 in /Users/robertgreer/Documents/Education/Berkeley/Classes/Datasci210_Capstone/Enterprise-RAG/venv/lib/python3.12/site-packages (from langsmith<0.2.0,>=0.1.75->langchain-core<0.3.0,>=0.2.17->langchain_openai) (3.10.4)\r\n",
      "Requirement already satisfied: annotated-types>=0.4.0 in /Users/robertgreer/Documents/Education/Berkeley/Classes/Datasci210_Capstone/Enterprise-RAG/venv/lib/python3.12/site-packages (from pydantic<3,>=1->langchain-core<0.3.0,>=0.2.17->langchain_openai) (0.7.0)\r\n",
      "Requirement already satisfied: pydantic-core==2.18.4 in /Users/robertgreer/Documents/Education/Berkeley/Classes/Datasci210_Capstone/Enterprise-RAG/venv/lib/python3.12/site-packages (from pydantic<3,>=1->langchain-core<0.3.0,>=0.2.17->langchain_openai) (2.18.4)\r\n",
      "Requirement already satisfied: charset-normalizer<4,>=2 in /Users/robertgreer/Documents/Education/Berkeley/Classes/Datasci210_Capstone/Enterprise-RAG/venv/lib/python3.12/site-packages (from requests>=2.26.0->tiktoken<1,>=0.7->langchain_openai) (3.3.2)\r\n",
      "Requirement already satisfied: urllib3<3,>=1.21.1 in /Users/robertgreer/Documents/Education/Berkeley/Classes/Datasci210_Capstone/Enterprise-RAG/venv/lib/python3.12/site-packages (from requests>=2.26.0->tiktoken<1,>=0.7->langchain_openai) (2.2.1)\r\n",
      "\r\n",
      "\u001B[1m[\u001B[0m\u001B[34;49mnotice\u001B[0m\u001B[1;39;49m]\u001B[0m\u001B[39;49m A new release of pip is available: \u001B[0m\u001B[31;49m24.0\u001B[0m\u001B[39;49m -> \u001B[0m\u001B[32;49m24.1.2\u001B[0m\r\n",
      "\u001B[1m[\u001B[0m\u001B[34;49mnotice\u001B[0m\u001B[1;39;49m]\u001B[0m\u001B[39;49m To update, run: \u001B[0m\u001B[32;49mpip install --upgrade pip\u001B[0m\r\n",
      "Note: you may need to restart the kernel to use updated packages.\n"
     ]
    }
   ],
   "execution_count": 26
  },
  {
   "metadata": {
    "ExecuteTime": {
     "end_time": "2024-07-15T05:07:58.996964Z",
     "start_time": "2024-07-15T05:07:58.991922Z"
    }
   },
   "cell_type": "code",
   "source": [
    "from langchain_openai import ChatOpenAI\n",
    "import os"
   ],
   "id": "9cb47857f647259f",
   "outputs": [],
   "execution_count": 131
  },
  {
   "metadata": {
    "ExecuteTime": {
     "end_time": "2024-07-15T05:07:59.467691Z",
     "start_time": "2024-07-15T05:07:59.466021Z"
    }
   },
   "cell_type": "code",
   "source": "# os.environ[\"OPENAI_API_KEY\"] = \"\"\n",
   "id": "88201135d28d37ff",
   "outputs": [],
   "execution_count": 132
  },
  {
   "metadata": {
    "ExecuteTime": {
     "end_time": "2024-07-15T05:08:00.570058Z",
     "start_time": "2024-07-15T05:08:00.460298Z"
    }
   },
   "cell_type": "code",
   "source": [
    "from langchain.chains.query_constructor.base import AttributeInfo\n",
    "from langchain.retrievers.self_query.base import SelfQueryRetriever\n",
    "from langchain_openai import ChatOpenAI\n",
    "\n",
    "metadata_field_info = [\n",
    "    AttributeInfo(\n",
    "        name=\"name\",\n",
    "        description=\"The name of the recipe\",\n",
    "        type=\"string\",\n",
    "    ),\n",
    "    AttributeInfo(\n",
    "        name=\"description\",\n",
    "        description=\"A brief description of the recipe\",\n",
    "        type=\"string\",\n",
    "    ),\n",
    "    AttributeInfo(\n",
    "        name=\"recipe_category\",\n",
    "        description=\"The category of the recipe, such as 'Quick Breads', 'Desserts', etc.\",\n",
    "        type=\"string\",\n",
    "    ),\n",
    "    AttributeInfo(\n",
    "        name=\"keywords\",\n",
    "        description=\"Keywords associated with the recipe\",\n",
    "        type=\"string\",\n",
    "    ),\n",
    "    AttributeInfo(\n",
    "        name=\"recipe_ingredient_parts\",\n",
    "        description=\"The ingredients required for the recipe\",\n",
    "        type=\"string\",\n",
    "    ),\n",
    "    AttributeInfo(\n",
    "        name=\"recipe_instructions\",\n",
    "        description=\"The instructions to prepare the recipe\",\n",
    "        type=\"string\",\n",
    "    ),\n",
    "    AttributeInfo(\n",
    "        name=\"aggregated_rating\",\n",
    "        description=\"The aggregated rating for the recipe\",\n",
    "        type=\"string\",\n",
    "    ),\n",
    "    AttributeInfo(\n",
    "        name=\"review_count\",\n",
    "        description=\"The number of reviews for the recipe\",\n",
    "        type=\"string\",\n",
    "    ),\n",
    "]\n",
    "document_content_description = \"Detailed information about a recipe\"\n",
    "\n",
    "llm = ChatOpenAI(\n",
    "    # model='gpt-4-turbo',\n",
    "    model='gpt-4o',\n",
    "    temperature=0,\n",
    "    openai_api_key=os.environ[\"OPENAI_API_KEY\"],\n",
    "    \n",
    ")\n",
    "\n",
    "# qa_retriever = SelfQueryRetriever.from_llm(\n",
    "#     llm, int_qdrant_store, document_content_description, metadata_field_info, verbose=True\n",
    "# )\n"
   ],
   "id": "6ff7b3a5-6c55-48b4-91b5-589339c9aff9",
   "outputs": [],
   "execution_count": 133
  },
  {
   "cell_type": "code",
   "id": "26c6b3dc-3682-4d25-bd56-58f79b68a6cf",
   "metadata": {
    "tags": [],
    "ExecuteTime": {
     "end_time": "2024-07-15T05:08:14.749900Z",
     "start_time": "2024-07-15T05:08:14.747780Z"
    }
   },
   "source": [
    "# output = qa_retriever.invoke(\"Recipes with no peanuts\")\n",
    "# "
   ],
   "outputs": [],
   "execution_count": 135
  },
  {
   "cell_type": "markdown",
   "id": "e0a65f2e-70f4-454b-af7c-28350da2299b",
   "metadata": {},
   "source": "### Partial Chain"
  },
  {
   "metadata": {
    "ExecuteTime": {
     "end_time": "2024-07-15T05:08:15.345238Z",
     "start_time": "2024-07-15T05:08:15.343131Z"
    }
   },
   "cell_type": "code",
   "source": [
    "def filtered_qdrant_store(documents=[]):\n",
    "    fitered_qdrant_store = Qdrant.from_documents(documents,\n",
    "        embedding_model,\n",
    "        location=\":memory:\",\n",
    "    )\n",
    "    return fitered_qdrant_store"
   ],
   "id": "a687c80087a6e708",
   "outputs": [],
   "execution_count": 136
  },
  {
   "metadata": {
    "ExecuteTime": {
     "end_time": "2024-07-15T05:08:16.350461Z",
     "start_time": "2024-07-15T05:08:15.847335Z"
    }
   },
   "cell_type": "code",
   "source": [
    "# message = 'Give me a chicken liver dish'\n",
    "message = 'Give me a thai dish without peanuts'\n",
    "coarse_search_docs = qdrant_retriever_rerank.invoke(message)\n",
    "print(f'number of documents in coarse search: {len(coarse_search_docs)}')\n",
    "int_qdrant_store = filtered_qdrant_store(coarse_search_docs)\n",
    "\n",
    "qa_retriever = SelfQueryRetriever.from_llm(\n",
    "    llm, filtered_qdrant_store(coarse_search_docs), document_content_description, metadata_field_info, verbose=True\n",
    ")"
   ],
   "id": "756107430b65a162",
   "outputs": [
    {
     "name": "stdout",
     "output_type": "stream",
     "text": [
      "number of documents in coarse search: 5\n"
     ]
    }
   ],
   "execution_count": 137
  },
  {
   "metadata": {
    "ExecuteTime": {
     "end_time": "2024-07-15T05:08:20.288734Z",
     "start_time": "2024-07-15T05:08:20.286425Z"
    }
   },
   "cell_type": "code",
   "source": [
    "for doc in coarse_search_docs:\n",
    "    print(doc.metadata['name'])"
   ],
   "id": "3cac173566b87f15",
   "outputs": [
    {
     "name": "stdout",
     "output_type": "stream",
     "text": [
      "Fruit and Peanut Butter Wraps\n",
      "Vermicelli and Paprika Soup (Dweda Zaara)\n",
      "Roasted Red Pepper, Almond, and Garlic Dip\n",
      "Banana Doghnuts\n",
      "Easy Ginger Shrimp Wraps - HCG Phase 2\n"
     ]
    }
   ],
   "execution_count": 138
  },
  {
   "metadata": {
    "ExecuteTime": {
     "end_time": "2024-07-15T05:08:22.330395Z",
     "start_time": "2024-07-15T05:08:22.328096Z"
    }
   },
   "cell_type": "code",
   "source": [
    "def qa_message_prompt(user_prompt):\n",
    "    f\"\"\"\n",
    "system: You are a helpful assistant and expert in cooking recipes.\n",
    "\n",
    "You are evaluating for consistency of the user query.\n",
    "Please retrieve documents that DO NOT violate dietary restrictions, allergies, \n",
    "or any requirements dictated by the user.\n",
    "\n",
    "user: {user_prompt}\n",
    "\"\"\""
   ],
   "id": "fca8b8c2d0a26f40",
   "outputs": [],
   "execution_count": 139
  },
  {
   "metadata": {
    "ExecuteTime": {
     "end_time": "2024-07-15T05:08:24.906196Z",
     "start_time": "2024-07-15T05:08:23.210172Z"
    }
   },
   "cell_type": "code",
   "source": "results = qa_retriever.invoke(qa_message_prompt(message))",
   "id": "e88ce88cad3f6143",
   "outputs": [],
   "execution_count": 140
  },
  {
   "metadata": {
    "ExecuteTime": {
     "end_time": "2024-07-15T05:08:25.335363Z",
     "start_time": "2024-07-15T05:08:25.331783Z"
    }
   },
   "cell_type": "code",
   "source": "len(results)",
   "id": "53828b4a7f87928f",
   "outputs": [
    {
     "data": {
      "text/plain": [
       "4"
      ]
     },
     "execution_count": 141,
     "metadata": {},
     "output_type": "execute_result"
    }
   ],
   "execution_count": 141
  },
  {
   "metadata": {
    "ExecuteTime": {
     "end_time": "2024-07-15T05:08:26.303326Z",
     "start_time": "2024-07-15T05:08:26.301422Z"
    }
   },
   "cell_type": "code",
   "source": [
    "for doc in results:\n",
    "    print(doc.metadata['name'])"
   ],
   "id": "c1312cad240ec994",
   "outputs": [
    {
     "name": "stdout",
     "output_type": "stream",
     "text": [
      "Vermicelli and Paprika Soup (Dweda Zaara)\n",
      "Roasted Red Pepper, Almond, and Garlic Dip\n",
      "Fruit and Peanut Butter Wraps\n",
      "Banana Doghnuts\n"
     ]
    }
   ],
   "execution_count": 142
  },
  {
   "metadata": {
    "ExecuteTime": {
     "end_time": "2024-07-15T04:54:32.326825Z",
     "start_time": "2024-07-15T04:54:28.942928Z"
    }
   },
   "cell_type": "code",
   "source": [
    "from langchain.retrievers import ContextualCompressionRetriever\n",
    "from langchain.retrievers.document_compressors import CrossEncoderReranker\n",
    "from langchain_community.cross_encoders import HuggingFaceCrossEncoder\n",
    "\n",
    "reranker_model = HuggingFaceCrossEncoder(model_name=\"BAAI/bge-reranker-base\")\n",
    "compressor = CrossEncoderReranker(model=reranker_model, top_n=1)\n",
    "compression_retriever = ContextualCompressionRetriever(\n",
    "    base_compressor=compressor, base_retriever=qa_retriever\n",
    ")\n",
    "\n",
    "# compressed_docs = compression_retriever.invoke(\"What pizza can I make in 20 minutes?\")\n",
    "# compressed_docs"
   ],
   "id": "d95141f3e910be7f",
   "outputs": [],
   "execution_count": 96
  },
  {
   "metadata": {
    "ExecuteTime": {
     "end_time": "2024-07-15T04:54:49.760373Z",
     "start_time": "2024-07-15T04:54:46.368795Z"
    }
   },
   "cell_type": "code",
   "source": "fine_search_docs = compression_retriever.invoke(message)",
   "id": "efff7b1be085ca06",
   "outputs": [],
   "execution_count": 97
  },
  {
   "metadata": {
    "ExecuteTime": {
     "end_time": "2024-07-15T04:55:19.534093Z",
     "start_time": "2024-07-15T04:55:19.532247Z"
    }
   },
   "cell_type": "code",
   "source": [
    "for doc in fine_search_docs:\n",
    "    print(doc.metadata['name'])"
   ],
   "id": "c9098b63fa34fe7a",
   "outputs": [
    {
     "name": "stdout",
     "output_type": "stream",
     "text": [
      "Chicken Livers With Mushrooms\n"
     ]
    }
   ],
   "execution_count": 98
  },
  {
   "metadata": {},
   "cell_type": "markdown",
   "source": "### Full chain",
   "id": "d8eedb605736fdad"
  },
  {
   "metadata": {
    "ExecuteTime": {
     "end_time": "2024-07-15T05:05:16.464361Z",
     "start_time": "2024-07-15T05:05:16.461885Z"
    }
   },
   "cell_type": "code",
   "source": [
    "qdrant_rag_chain_rerank = (\n",
    "    RunnableMap(\n",
    "        {\"context\": qdrant_retriever_rerank | qa_retriever | format_docs ,\n",
    "         \"query\": RunnablePassthrough()}\n",
    "    )\n",
    "    # | process_prompt_basic\n",
    "    # | query_bedrock_llm\n",
    ")"
   ],
   "id": "3e9a8f17-8723-4d24-a1ac-492c014be2b9",
   "outputs": [],
   "execution_count": 127
  },
  {
   "cell_type": "code",
   "id": "5a0f4c23-5c5e-4ed4-a364-ef7b29d2a6c8",
   "metadata": {
    "tags": [],
    "ExecuteTime": {
     "end_time": "2024-07-15T05:05:19.430768Z",
     "start_time": "2024-07-15T05:05:16.834812Z"
    }
   },
   "source": "results = qdrant_rag_chain_rerank.invoke(\"Give me a peanut free Thai dish\")",
   "outputs": [],
   "execution_count": 128
  },
  {
   "cell_type": "code",
   "id": "9f87f6f1-6989-4193-b321-fef355dc0ef0",
   "metadata": {
    "ExecuteTime": {
     "end_time": "2024-07-15T05:05:23.087978Z",
     "start_time": "2024-07-15T05:05:23.085734Z"
    }
   },
   "source": "results['context']",
   "outputs": [
    {
     "data": {
      "text/plain": [
       "'Metadata: {\\'name\\': \\'Fruit and Peanut Butter Wraps\\', \\'description\\': \"A sweet lunchbox idea for fussy kids or serve as a healthy snack to improve their concentration. If you\\'re looking for a savoury alternative, try spreading the tortilla with some houmous and add some strips of red pepper or grated carrot.\", \\'recipe_category\\': \\'Lunch/Snacks\\', \\'keywords\\': \\'Apple Tropical Fruits Fruit European Kid Friendly Sweet < 15 Mins Easy Inexpensive\\', \\'recipe_ingredient_parts\\': \"[\\'banana\\' \\'lemon juice\\' \\'apple\\' \\'peanut butter\\' \\'whole wheat tortillas\\']\", \\'recipe_instructions\\': \\'Peel and slice the banana very thinly. Place in a bowl and toss with the lemon juice. Quarter and core the apple. Slice into wafer thin slices and add to the bowl with the banana. Mix well. Warm the tortillas in the microwave for about 10 seconds. Spread 3tbsp of peanut butter over each tortilla. Place half the banana slices and half the apple slices over the top of each tortilla. Roll each one up into a tight log. Enjoy immediately or wrap tightly in plastic wrap and refrigerate until later.\\', \\'aggregated_rating\\': \\'4.0\\', \\'review_count\\': \\'1.0\\', \\'_id\\': \\'2d5494143a8b4fabaf832aa8a6a9dea1\\', \\'_collection_name\\': \\'32627414bbff4968810f2b591796ad08\\'}\\n\\n\\nMetadata: {\\'name\\': \\'Easy Ginger Shrimp Wraps - HCG Phase 2\\', \\'description\\': \\'Serve with Spicy Asian Orange Sauce (recipe #492956). A new twist on traditional cabbage rolls. These shrimp rolls are full of flavor and a nice change of pace in the HCG diet. This meal counts as 1 protein and 1 vegetable. You can make between 2 and 3 rolls. Take from The HCG Diet Cookbook Gourmet Success\\', \\'recipe_category\\': \\'Lactose Free\\', \\'keywords\\': \\'Healthy Free Of... < 30 Mins\\', \\'recipe_ingredient_parts\\': \"[\\'shrimp\\' \\'cabbage leaves\\' \\'apple cider vinegar\\' \\'garlic clove\\'\\\\n \\'fresh ginger\\' \\'green onion\\']\", \\'recipe_instructions\\': \\'Lightly steam cabbage leaves and set aside. Sauté shrimp with vinegar, garlic and ginger until shrimp is cooked through. In a food processor, mince shrimp with green onions. Divide shrimp mixture equally among cabbage leaves, spoon shrimp mixture in leaves, roll and serve with dipping sauce.\\', \\'aggregated_rating\\': \\'4.0\\', \\'review_count\\': \\'1.0\\', \\'_id\\': \\'8c8ebe65fd404a2fa547754925a7be52\\', \\'_collection_name\\': \\'32627414bbff4968810f2b591796ad08\\'}\\n\\n\\nMetadata: {\\'name\\': \\'Roasted Red Pepper, Almond, and Garlic Dip\\', \\'description\\': \\'From Bon App&eacute;tit, July 2003, Cooking for Health article. It says, &ldquo;The Spanish sauce known as romesco is usually high in fat; this version contains less oil, but just as much flavor.&rdquo; Dip can be made 1 day ahead. Cover and refrigerate. Bring to room temperature before serving. Nutrition info per serving: calories 36; total fat 3g; saturated fat 0; cholesterol 0.\\', \\'recipe_category\\': \\'Nuts\\', \\'keywords\\': \\'Spanish European Vegan Weeknight < 15 Mins Small Appliance Easy\\', \\'recipe_ingredient_parts\\': \"[\\'red wine vinegar\\' \\'garlic clove\\' \\'olive oil\\']\", \\'recipe_instructions\\': \\'Finely chop almonds in processor. Add roasted peppers, vinegar, and garlic; process to coarse puree. With machine running, pour olive oil through feed tube and process until puree thickens slightly. Season dip to taste with salt and pepper. Serve in small bowl.\\', \\'aggregated_rating\\': \\'5.0\\', \\'review_count\\': \\'1.0\\', \\'_id\\': \\'4267d6dd3575456d9cc1d59b7087e3ed\\', \\'_collection_name\\': \\'32627414bbff4968810f2b591796ad08\\'}\\n\\n\\nMetadata: {\\'name\\': \\'Banana Doghnuts\\', \\'description\\': \\'Make and share this Banana Doghnuts recipe from Food.com.\\', \\'recipe_category\\': \\'Dessert\\', \\'keywords\\': \\'Tropical Fruits Fruit Low Protein Low Cholesterol Healthy < 15 Mins Easy\\', \\'recipe_ingredient_parts\\': \"[\\'bananas\\' \\'flour\\' \\'sugar\\' \\'powdered sugar\\']\", \\'recipe_instructions\\': \\'Peel and mash the bananas. Add flour and sugar and mix until smooth. Heat a frying pan with the vegetable oil to frying temperature. Add spoonfuls of the banana mixture, and fry until golden on  one side.  Flip, and cook until golden on the other side. Be careful of splashes of hot oil. When the donuts are done, place them on paper towels to absorb excess oil. Coat with powdered sugar if you wish.\\', \\'aggregated_rating\\': \\'4.0\\', \\'review_count\\': \\'2.0\\', \\'_id\\': \\'629ad8d5ec534881a96aee137ba92b26\\', \\'_collection_name\\': \\'32627414bbff4968810f2b591796ad08\\'}\\n'"
      ]
     },
     "execution_count": 130,
     "metadata": {},
     "output_type": "execute_result"
    }
   ],
   "execution_count": 130
  },
  {
   "metadata": {},
   "cell_type": "code",
   "outputs": [],
   "execution_count": null,
   "source": "",
   "id": "257d8e3b080f2f9b"
  }
 ],
 "metadata": {
  "kernelspec": {
   "display_name": "Python 3 (ipykernel)",
   "language": "python",
   "name": "python3"
  },
  "language_info": {
   "codemirror_mode": {
    "name": "ipython",
    "version": 3
   },
   "file_extension": ".py",
   "mimetype": "text/x-python",
   "name": "python",
   "nbconvert_exporter": "python",
   "pygments_lexer": "ipython3",
   "version": "3.10.14"
  }
 },
 "nbformat": 4,
 "nbformat_minor": 5
}
